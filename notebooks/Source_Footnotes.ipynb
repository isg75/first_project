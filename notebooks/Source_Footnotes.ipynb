{
 "cells": [
  {
   "cell_type": "code",
   "execution_count": 1,
   "id": "ca5f57b4-abc4-4afc-a7e7-027c5b6e4eb6",
   "metadata": {},
   "outputs": [],
   "source": [
    "import pandas as pd\n",
    "import numpy as np\n",
    "import seaborn as sns"
   ]
  },
  {
   "cell_type": "code",
   "execution_count": 2,
   "id": "78684ae9-abc5-4957-9986-e6c56efd8db4",
   "metadata": {},
   "outputs": [],
   "source": [
    "data = pd.read_excel('../data/raw/SYB66.xlsx')"
   ]
  },
  {
   "cell_type": "code",
   "execution_count": 3,
   "id": "a17d7dba-ab77-4049-8346-3d0b2ebdbd1f",
   "metadata": {},
   "outputs": [],
   "source": [
    "if data['Source'].nunique() == 1:  \n",
    "    data.drop('Source', axis=1, inplace=True)"
   ]
  },
  {
   "cell_type": "code",
   "execution_count": 4,
   "id": "ba8d79c8-7397-4333-b2c8-14cc61d575b4",
   "metadata": {},
   "outputs": [
    {
     "name": "stdout",
     "output_type": "stream",
     "text": [
      "41\n"
     ]
    }
   ],
   "source": [
    "print(data['Footnotes'].nunique())"
   ]
  },
  {
   "cell_type": "code",
   "execution_count": 5,
   "id": "c8e14b19-6b9a-483b-b5b0-509b512ed105",
   "metadata": {},
   "outputs": [],
   "source": [
    "data.drop('Footnotes', axis=1, inplace=True)"
   ]
  },
  {
   "cell_type": "code",
   "execution_count": 6,
   "id": "10e30518-4fca-4591-a6a9-e8a3f2afafa5",
   "metadata": {},
   "outputs": [],
   "source": [
    "#data['Footnotes'] = data['Footnotes'].fillna('') If we change our mind and want to keep the column for the rows that have content"
   ]
  },
  {
   "cell_type": "code",
   "execution_count": 7,
   "id": "6c0fda0f-8ec0-4c01-ab53-a0310ce56d17",
   "metadata": {},
   "outputs": [
    {
     "data": {
      "text/html": [
       "<div>\n",
       "<style scoped>\n",
       "    .dataframe tbody tr th:only-of-type {\n",
       "        vertical-align: middle;\n",
       "    }\n",
       "\n",
       "    .dataframe tbody tr th {\n",
       "        vertical-align: top;\n",
       "    }\n",
       "\n",
       "    .dataframe thead th {\n",
       "        text-align: right;\n",
       "    }\n",
       "</style>\n",
       "<table border=\"1\" class=\"dataframe\">\n",
       "  <thead>\n",
       "    <tr style=\"text-align: right;\">\n",
       "      <th></th>\n",
       "      <th>Region</th>\n",
       "      <th>Area</th>\n",
       "      <th>Year</th>\n",
       "      <th>Series</th>\n",
       "      <th>Value</th>\n",
       "    </tr>\n",
       "  </thead>\n",
       "  <tbody>\n",
       "    <tr>\n",
       "      <th>0</th>\n",
       "      <td>1</td>\n",
       "      <td>Total, all countries or areas</td>\n",
       "      <td>2005</td>\n",
       "      <td>Gross domestic expenditure on R&amp;D: as a percen...</td>\n",
       "      <td>1.5</td>\n",
       "    </tr>\n",
       "    <tr>\n",
       "      <th>1</th>\n",
       "      <td>1</td>\n",
       "      <td>Total, all countries or areas</td>\n",
       "      <td>2005</td>\n",
       "      <td>Researchers per million inhabitants (FTE)</td>\n",
       "      <td>907.2</td>\n",
       "    </tr>\n",
       "    <tr>\n",
       "      <th>2</th>\n",
       "      <td>1</td>\n",
       "      <td>Total, all countries or areas</td>\n",
       "      <td>2010</td>\n",
       "      <td>Gross domestic expenditure on R&amp;D: as a percen...</td>\n",
       "      <td>1.6</td>\n",
       "    </tr>\n",
       "    <tr>\n",
       "      <th>3</th>\n",
       "      <td>1</td>\n",
       "      <td>Total, all countries or areas</td>\n",
       "      <td>2010</td>\n",
       "      <td>Researchers per million inhabitants (FTE)</td>\n",
       "      <td>1022.1</td>\n",
       "    </tr>\n",
       "    <tr>\n",
       "      <th>4</th>\n",
       "      <td>1</td>\n",
       "      <td>Total, all countries or areas</td>\n",
       "      <td>2015</td>\n",
       "      <td>Gross domestic expenditure on R&amp;D: as a percen...</td>\n",
       "      <td>1.7</td>\n",
       "    </tr>\n",
       "    <tr>\n",
       "      <th>...</th>\n",
       "      <td>...</td>\n",
       "      <td>...</td>\n",
       "      <td>...</td>\n",
       "      <td>...</td>\n",
       "      <td>...</td>\n",
       "    </tr>\n",
       "    <tr>\n",
       "      <th>978</th>\n",
       "      <td>722</td>\n",
       "      <td>SIDS</td>\n",
       "      <td>2010</td>\n",
       "      <td>Researchers per million inhabitants (FTE)</td>\n",
       "      <td>722.0</td>\n",
       "    </tr>\n",
       "    <tr>\n",
       "      <th>979</th>\n",
       "      <td>722</td>\n",
       "      <td>SIDS</td>\n",
       "      <td>2015</td>\n",
       "      <td>Gross domestic expenditure on R&amp;D: as a percen...</td>\n",
       "      <td>1.1</td>\n",
       "    </tr>\n",
       "    <tr>\n",
       "      <th>980</th>\n",
       "      <td>722</td>\n",
       "      <td>SIDS</td>\n",
       "      <td>2015</td>\n",
       "      <td>Researchers per million inhabitants (FTE)</td>\n",
       "      <td>812.1</td>\n",
       "    </tr>\n",
       "    <tr>\n",
       "      <th>981</th>\n",
       "      <td>722</td>\n",
       "      <td>SIDS</td>\n",
       "      <td>2020</td>\n",
       "      <td>Gross domestic expenditure on R&amp;D: as a percen...</td>\n",
       "      <td>1.0</td>\n",
       "    </tr>\n",
       "    <tr>\n",
       "      <th>982</th>\n",
       "      <td>722</td>\n",
       "      <td>SIDS</td>\n",
       "      <td>2020</td>\n",
       "      <td>Researchers per million inhabitants (FTE)</td>\n",
       "      <td>893.2</td>\n",
       "    </tr>\n",
       "  </tbody>\n",
       "</table>\n",
       "<p>983 rows × 5 columns</p>\n",
       "</div>"
      ],
      "text/plain": [
       "     Region                           Area  Year  \\\n",
       "0         1  Total, all countries or areas  2005   \n",
       "1         1  Total, all countries or areas  2005   \n",
       "2         1  Total, all countries or areas  2010   \n",
       "3         1  Total, all countries or areas  2010   \n",
       "4         1  Total, all countries or areas  2015   \n",
       "..      ...                            ...   ...   \n",
       "978     722                           SIDS  2010   \n",
       "979     722                           SIDS  2015   \n",
       "980     722                           SIDS  2015   \n",
       "981     722                           SIDS  2020   \n",
       "982     722                           SIDS  2020   \n",
       "\n",
       "                                                Series   Value  \n",
       "0    Gross domestic expenditure on R&D: as a percen...     1.5  \n",
       "1            Researchers per million inhabitants (FTE)   907.2  \n",
       "2    Gross domestic expenditure on R&D: as a percen...     1.6  \n",
       "3            Researchers per million inhabitants (FTE)  1022.1  \n",
       "4    Gross domestic expenditure on R&D: as a percen...     1.7  \n",
       "..                                                 ...     ...  \n",
       "978          Researchers per million inhabitants (FTE)   722.0  \n",
       "979  Gross domestic expenditure on R&D: as a percen...     1.1  \n",
       "980          Researchers per million inhabitants (FTE)   812.1  \n",
       "981  Gross domestic expenditure on R&D: as a percen...     1.0  \n",
       "982          Researchers per million inhabitants (FTE)   893.2  \n",
       "\n",
       "[983 rows x 5 columns]"
      ]
     },
     "execution_count": 7,
     "metadata": {},
     "output_type": "execute_result"
    }
   ],
   "source": [
    "data"
   ]
  },
  {
   "cell_type": "code",
   "execution_count": null,
   "id": "288e6c37-72f5-4abf-927c-f08c5b1b58f7",
   "metadata": {},
   "outputs": [],
   "source": []
  }
 ],
 "metadata": {
  "kernelspec": {
   "display_name": "venv",
   "language": "python",
   "name": "venv"
  },
  "language_info": {
   "codemirror_mode": {
    "name": "ipython",
    "version": 3
   },
   "file_extension": ".py",
   "mimetype": "text/x-python",
   "name": "python",
   "nbconvert_exporter": "python",
   "pygments_lexer": "ipython3",
   "version": "3.12.4"
  },
  "widgets": {
   "application/vnd.jupyter.widget-state+json": {
    "state": {},
    "version_major": 2,
    "version_minor": 0
   }
  }
 },
 "nbformat": 4,
 "nbformat_minor": 5
}
