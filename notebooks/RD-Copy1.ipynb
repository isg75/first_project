{
 "cells": [
  {
   "cell_type": "code",
   "execution_count": 1,
   "id": "7c6e92ca-f718-4be5-ae54-6d42d15aa3fc",
   "metadata": {},
   "outputs": [],
   "source": [
    "import pandas as pd\n",
    "import numpy as np\n",
    "import seaborn as sns"
   ]
  },
  {
   "cell_type": "code",
   "execution_count": 2,
   "id": "7359fde6-9460-4431-b717-6ea89c5ba6fc",
   "metadata": {},
   "outputs": [
    {
     "ename": "ImportError",
     "evalue": "Missing optional dependency 'openpyxl'.  Use pip or conda to install openpyxl.",
     "output_type": "error",
     "traceback": [
      "\u001b[1;31m---------------------------------------------------------------------------\u001b[0m",
      "\u001b[1;31mModuleNotFoundError\u001b[0m                       Traceback (most recent call last)",
      "File \u001b[1;32m~\\Desktop\\IRONHACK LAB\\WEEK 3\\1st_project\\first_project\\.venv\\Lib\\site-packages\\pandas\\compat\\_optional.py:135\u001b[0m, in \u001b[0;36mimport_optional_dependency\u001b[1;34m(name, extra, errors, min_version)\u001b[0m\n\u001b[0;32m    134\u001b[0m \u001b[38;5;28;01mtry\u001b[39;00m:\n\u001b[1;32m--> 135\u001b[0m     module \u001b[38;5;241m=\u001b[39m \u001b[43mimportlib\u001b[49m\u001b[38;5;241;43m.\u001b[39;49m\u001b[43mimport_module\u001b[49m\u001b[43m(\u001b[49m\u001b[43mname\u001b[49m\u001b[43m)\u001b[49m\n\u001b[0;32m    136\u001b[0m \u001b[38;5;28;01mexcept\u001b[39;00m \u001b[38;5;167;01mImportError\u001b[39;00m:\n",
      "File \u001b[1;32m~\\AppData\\Local\\Programs\\Python\\Python312\\Lib\\importlib\\__init__.py:90\u001b[0m, in \u001b[0;36mimport_module\u001b[1;34m(name, package)\u001b[0m\n\u001b[0;32m     89\u001b[0m         level \u001b[38;5;241m+\u001b[39m\u001b[38;5;241m=\u001b[39m \u001b[38;5;241m1\u001b[39m\n\u001b[1;32m---> 90\u001b[0m \u001b[38;5;28;01mreturn\u001b[39;00m \u001b[43m_bootstrap\u001b[49m\u001b[38;5;241;43m.\u001b[39;49m\u001b[43m_gcd_import\u001b[49m\u001b[43m(\u001b[49m\u001b[43mname\u001b[49m\u001b[43m[\u001b[49m\u001b[43mlevel\u001b[49m\u001b[43m:\u001b[49m\u001b[43m]\u001b[49m\u001b[43m,\u001b[49m\u001b[43m \u001b[49m\u001b[43mpackage\u001b[49m\u001b[43m,\u001b[49m\u001b[43m \u001b[49m\u001b[43mlevel\u001b[49m\u001b[43m)\u001b[49m\n",
      "File \u001b[1;32m<frozen importlib._bootstrap>:1381\u001b[0m, in \u001b[0;36m_gcd_import\u001b[1;34m(name, package, level)\u001b[0m\n",
      "File \u001b[1;32m<frozen importlib._bootstrap>:1354\u001b[0m, in \u001b[0;36m_find_and_load\u001b[1;34m(name, import_)\u001b[0m\n",
      "File \u001b[1;32m<frozen importlib._bootstrap>:1318\u001b[0m, in \u001b[0;36m_find_and_load_unlocked\u001b[1;34m(name, import_)\u001b[0m\n",
      "\u001b[1;31mModuleNotFoundError\u001b[0m: No module named 'openpyxl'",
      "\nDuring handling of the above exception, another exception occurred:\n",
      "\u001b[1;31mImportError\u001b[0m                               Traceback (most recent call last)",
      "Cell \u001b[1;32mIn[2], line 1\u001b[0m\n\u001b[1;32m----> 1\u001b[0m data \u001b[38;5;241m=\u001b[39m \u001b[43mpd\u001b[49m\u001b[38;5;241;43m.\u001b[39;49m\u001b[43mread_excel\u001b[49m\u001b[43m(\u001b[49m\u001b[38;5;124;43m'\u001b[39;49m\u001b[38;5;124;43mSYB66.xlsx\u001b[39;49m\u001b[38;5;124;43m'\u001b[39;49m\u001b[43m)\u001b[49m\n",
      "File \u001b[1;32m~\\Desktop\\IRONHACK LAB\\WEEK 3\\1st_project\\first_project\\.venv\\Lib\\site-packages\\pandas\\io\\excel\\_base.py:495\u001b[0m, in \u001b[0;36mread_excel\u001b[1;34m(io, sheet_name, header, names, index_col, usecols, dtype, engine, converters, true_values, false_values, skiprows, nrows, na_values, keep_default_na, na_filter, verbose, parse_dates, date_parser, date_format, thousands, decimal, comment, skipfooter, storage_options, dtype_backend, engine_kwargs)\u001b[0m\n\u001b[0;32m    493\u001b[0m \u001b[38;5;28;01mif\u001b[39;00m \u001b[38;5;129;01mnot\u001b[39;00m \u001b[38;5;28misinstance\u001b[39m(io, ExcelFile):\n\u001b[0;32m    494\u001b[0m     should_close \u001b[38;5;241m=\u001b[39m \u001b[38;5;28;01mTrue\u001b[39;00m\n\u001b[1;32m--> 495\u001b[0m     io \u001b[38;5;241m=\u001b[39m \u001b[43mExcelFile\u001b[49m\u001b[43m(\u001b[49m\n\u001b[0;32m    496\u001b[0m \u001b[43m        \u001b[49m\u001b[43mio\u001b[49m\u001b[43m,\u001b[49m\n\u001b[0;32m    497\u001b[0m \u001b[43m        \u001b[49m\u001b[43mstorage_options\u001b[49m\u001b[38;5;241;43m=\u001b[39;49m\u001b[43mstorage_options\u001b[49m\u001b[43m,\u001b[49m\n\u001b[0;32m    498\u001b[0m \u001b[43m        \u001b[49m\u001b[43mengine\u001b[49m\u001b[38;5;241;43m=\u001b[39;49m\u001b[43mengine\u001b[49m\u001b[43m,\u001b[49m\n\u001b[0;32m    499\u001b[0m \u001b[43m        \u001b[49m\u001b[43mengine_kwargs\u001b[49m\u001b[38;5;241;43m=\u001b[39;49m\u001b[43mengine_kwargs\u001b[49m\u001b[43m,\u001b[49m\n\u001b[0;32m    500\u001b[0m \u001b[43m    \u001b[49m\u001b[43m)\u001b[49m\n\u001b[0;32m    501\u001b[0m \u001b[38;5;28;01melif\u001b[39;00m engine \u001b[38;5;129;01mand\u001b[39;00m engine \u001b[38;5;241m!=\u001b[39m io\u001b[38;5;241m.\u001b[39mengine:\n\u001b[0;32m    502\u001b[0m     \u001b[38;5;28;01mraise\u001b[39;00m \u001b[38;5;167;01mValueError\u001b[39;00m(\n\u001b[0;32m    503\u001b[0m         \u001b[38;5;124m\"\u001b[39m\u001b[38;5;124mEngine should not be specified when passing \u001b[39m\u001b[38;5;124m\"\u001b[39m\n\u001b[0;32m    504\u001b[0m         \u001b[38;5;124m\"\u001b[39m\u001b[38;5;124man ExcelFile - ExcelFile already has the engine set\u001b[39m\u001b[38;5;124m\"\u001b[39m\n\u001b[0;32m    505\u001b[0m     )\n",
      "File \u001b[1;32m~\\Desktop\\IRONHACK LAB\\WEEK 3\\1st_project\\first_project\\.venv\\Lib\\site-packages\\pandas\\io\\excel\\_base.py:1567\u001b[0m, in \u001b[0;36mExcelFile.__init__\u001b[1;34m(self, path_or_buffer, engine, storage_options, engine_kwargs)\u001b[0m\n\u001b[0;32m   1564\u001b[0m \u001b[38;5;28mself\u001b[39m\u001b[38;5;241m.\u001b[39mengine \u001b[38;5;241m=\u001b[39m engine\n\u001b[0;32m   1565\u001b[0m \u001b[38;5;28mself\u001b[39m\u001b[38;5;241m.\u001b[39mstorage_options \u001b[38;5;241m=\u001b[39m storage_options\n\u001b[1;32m-> 1567\u001b[0m \u001b[38;5;28mself\u001b[39m\u001b[38;5;241m.\u001b[39m_reader \u001b[38;5;241m=\u001b[39m \u001b[38;5;28;43mself\u001b[39;49m\u001b[38;5;241;43m.\u001b[39;49m\u001b[43m_engines\u001b[49m\u001b[43m[\u001b[49m\u001b[43mengine\u001b[49m\u001b[43m]\u001b[49m\u001b[43m(\u001b[49m\n\u001b[0;32m   1568\u001b[0m \u001b[43m    \u001b[49m\u001b[38;5;28;43mself\u001b[39;49m\u001b[38;5;241;43m.\u001b[39;49m\u001b[43m_io\u001b[49m\u001b[43m,\u001b[49m\n\u001b[0;32m   1569\u001b[0m \u001b[43m    \u001b[49m\u001b[43mstorage_options\u001b[49m\u001b[38;5;241;43m=\u001b[39;49m\u001b[43mstorage_options\u001b[49m\u001b[43m,\u001b[49m\n\u001b[0;32m   1570\u001b[0m \u001b[43m    \u001b[49m\u001b[43mengine_kwargs\u001b[49m\u001b[38;5;241;43m=\u001b[39;49m\u001b[43mengine_kwargs\u001b[49m\u001b[43m,\u001b[49m\n\u001b[0;32m   1571\u001b[0m \u001b[43m\u001b[49m\u001b[43m)\u001b[49m\n",
      "File \u001b[1;32m~\\Desktop\\IRONHACK LAB\\WEEK 3\\1st_project\\first_project\\.venv\\Lib\\site-packages\\pandas\\io\\excel\\_openpyxl.py:552\u001b[0m, in \u001b[0;36mOpenpyxlReader.__init__\u001b[1;34m(self, filepath_or_buffer, storage_options, engine_kwargs)\u001b[0m\n\u001b[0;32m    534\u001b[0m \u001b[38;5;129m@doc\u001b[39m(storage_options\u001b[38;5;241m=\u001b[39m_shared_docs[\u001b[38;5;124m\"\u001b[39m\u001b[38;5;124mstorage_options\u001b[39m\u001b[38;5;124m\"\u001b[39m])\n\u001b[0;32m    535\u001b[0m \u001b[38;5;28;01mdef\u001b[39;00m \u001b[38;5;21m__init__\u001b[39m(\n\u001b[0;32m    536\u001b[0m     \u001b[38;5;28mself\u001b[39m,\n\u001b[1;32m   (...)\u001b[0m\n\u001b[0;32m    539\u001b[0m     engine_kwargs: \u001b[38;5;28mdict\u001b[39m \u001b[38;5;241m|\u001b[39m \u001b[38;5;28;01mNone\u001b[39;00m \u001b[38;5;241m=\u001b[39m \u001b[38;5;28;01mNone\u001b[39;00m,\n\u001b[0;32m    540\u001b[0m ) \u001b[38;5;241m-\u001b[39m\u001b[38;5;241m>\u001b[39m \u001b[38;5;28;01mNone\u001b[39;00m:\n\u001b[0;32m    541\u001b[0m \u001b[38;5;250m    \u001b[39m\u001b[38;5;124;03m\"\"\"\u001b[39;00m\n\u001b[0;32m    542\u001b[0m \u001b[38;5;124;03m    Reader using openpyxl engine.\u001b[39;00m\n\u001b[0;32m    543\u001b[0m \n\u001b[1;32m   (...)\u001b[0m\n\u001b[0;32m    550\u001b[0m \u001b[38;5;124;03m        Arbitrary keyword arguments passed to excel engine.\u001b[39;00m\n\u001b[0;32m    551\u001b[0m \u001b[38;5;124;03m    \"\"\"\u001b[39;00m\n\u001b[1;32m--> 552\u001b[0m     \u001b[43mimport_optional_dependency\u001b[49m\u001b[43m(\u001b[49m\u001b[38;5;124;43m\"\u001b[39;49m\u001b[38;5;124;43mopenpyxl\u001b[39;49m\u001b[38;5;124;43m\"\u001b[39;49m\u001b[43m)\u001b[49m\n\u001b[0;32m    553\u001b[0m     \u001b[38;5;28msuper\u001b[39m()\u001b[38;5;241m.\u001b[39m\u001b[38;5;21m__init__\u001b[39m(\n\u001b[0;32m    554\u001b[0m         filepath_or_buffer,\n\u001b[0;32m    555\u001b[0m         storage_options\u001b[38;5;241m=\u001b[39mstorage_options,\n\u001b[0;32m    556\u001b[0m         engine_kwargs\u001b[38;5;241m=\u001b[39mengine_kwargs,\n\u001b[0;32m    557\u001b[0m     )\n",
      "File \u001b[1;32m~\\Desktop\\IRONHACK LAB\\WEEK 3\\1st_project\\first_project\\.venv\\Lib\\site-packages\\pandas\\compat\\_optional.py:138\u001b[0m, in \u001b[0;36mimport_optional_dependency\u001b[1;34m(name, extra, errors, min_version)\u001b[0m\n\u001b[0;32m    136\u001b[0m \u001b[38;5;28;01mexcept\u001b[39;00m \u001b[38;5;167;01mImportError\u001b[39;00m:\n\u001b[0;32m    137\u001b[0m     \u001b[38;5;28;01mif\u001b[39;00m errors \u001b[38;5;241m==\u001b[39m \u001b[38;5;124m\"\u001b[39m\u001b[38;5;124mraise\u001b[39m\u001b[38;5;124m\"\u001b[39m:\n\u001b[1;32m--> 138\u001b[0m         \u001b[38;5;28;01mraise\u001b[39;00m \u001b[38;5;167;01mImportError\u001b[39;00m(msg)\n\u001b[0;32m    139\u001b[0m     \u001b[38;5;28;01mreturn\u001b[39;00m \u001b[38;5;28;01mNone\u001b[39;00m\n\u001b[0;32m    141\u001b[0m \u001b[38;5;66;03m# Handle submodules: if we have submodule, grab parent module from sys.modules\u001b[39;00m\n",
      "\u001b[1;31mImportError\u001b[0m: Missing optional dependency 'openpyxl'.  Use pip or conda to install openpyxl."
     ]
    }
   ],
   "source": [
    "data = pd.read_excel('SYB66.xlsx')"
   ]
  },
  {
   "cell_type": "code",
   "execution_count": 4,
   "id": "b94de549-cf89-4337-a895-2e71ed3bdb68",
   "metadata": {},
   "outputs": [
    {
     "data": {
      "text/html": [
       "<div>\n",
       "<style scoped>\n",
       "    .dataframe tbody tr th:only-of-type {\n",
       "        vertical-align: middle;\n",
       "    }\n",
       "\n",
       "    .dataframe tbody tr th {\n",
       "        vertical-align: top;\n",
       "    }\n",
       "\n",
       "    .dataframe thead th {\n",
       "        text-align: right;\n",
       "    }\n",
       "</style>\n",
       "<table border=\"1\" class=\"dataframe\">\n",
       "  <thead>\n",
       "    <tr style=\"text-align: right;\">\n",
       "      <th></th>\n",
       "      <th>Region</th>\n",
       "      <th>Area</th>\n",
       "      <th>Year</th>\n",
       "      <th>Series</th>\n",
       "      <th>Value</th>\n",
       "      <th>Footnotes</th>\n",
       "      <th>Source</th>\n",
       "    </tr>\n",
       "  </thead>\n",
       "  <tbody>\n",
       "    <tr>\n",
       "      <th>0</th>\n",
       "      <td>1</td>\n",
       "      <td>Total, all countries or areas</td>\n",
       "      <td>2005</td>\n",
       "      <td>Gross domestic expenditure on R&amp;D: as a percen...</td>\n",
       "      <td>1.5</td>\n",
       "      <td>NaN</td>\n",
       "      <td>United Nations Educational, Scientific and Cul...</td>\n",
       "    </tr>\n",
       "    <tr>\n",
       "      <th>1</th>\n",
       "      <td>1</td>\n",
       "      <td>Total, all countries or areas</td>\n",
       "      <td>2005</td>\n",
       "      <td>Researchers per million inhabitants (FTE)</td>\n",
       "      <td>907.2</td>\n",
       "      <td>NaN</td>\n",
       "      <td>United Nations Educational, Scientific and Cul...</td>\n",
       "    </tr>\n",
       "    <tr>\n",
       "      <th>2</th>\n",
       "      <td>1</td>\n",
       "      <td>Total, all countries or areas</td>\n",
       "      <td>2010</td>\n",
       "      <td>Gross domestic expenditure on R&amp;D: as a percen...</td>\n",
       "      <td>1.6</td>\n",
       "      <td>NaN</td>\n",
       "      <td>United Nations Educational, Scientific and Cul...</td>\n",
       "    </tr>\n",
       "    <tr>\n",
       "      <th>3</th>\n",
       "      <td>1</td>\n",
       "      <td>Total, all countries or areas</td>\n",
       "      <td>2010</td>\n",
       "      <td>Researchers per million inhabitants (FTE)</td>\n",
       "      <td>1022.1</td>\n",
       "      <td>NaN</td>\n",
       "      <td>United Nations Educational, Scientific and Cul...</td>\n",
       "    </tr>\n",
       "    <tr>\n",
       "      <th>4</th>\n",
       "      <td>1</td>\n",
       "      <td>Total, all countries or areas</td>\n",
       "      <td>2015</td>\n",
       "      <td>Gross domestic expenditure on R&amp;D: as a percen...</td>\n",
       "      <td>1.7</td>\n",
       "      <td>NaN</td>\n",
       "      <td>United Nations Educational, Scientific and Cul...</td>\n",
       "    </tr>\n",
       "    <tr>\n",
       "      <th>...</th>\n",
       "      <td>...</td>\n",
       "      <td>...</td>\n",
       "      <td>...</td>\n",
       "      <td>...</td>\n",
       "      <td>...</td>\n",
       "      <td>...</td>\n",
       "      <td>...</td>\n",
       "    </tr>\n",
       "    <tr>\n",
       "      <th>978</th>\n",
       "      <td>722</td>\n",
       "      <td>SIDS</td>\n",
       "      <td>2010</td>\n",
       "      <td>Researchers per million inhabitants (FTE)</td>\n",
       "      <td>722.0</td>\n",
       "      <td>NaN</td>\n",
       "      <td>United Nations Educational, Scientific and Cul...</td>\n",
       "    </tr>\n",
       "    <tr>\n",
       "      <th>979</th>\n",
       "      <td>722</td>\n",
       "      <td>SIDS</td>\n",
       "      <td>2015</td>\n",
       "      <td>Gross domestic expenditure on R&amp;D: as a percen...</td>\n",
       "      <td>1.1</td>\n",
       "      <td>NaN</td>\n",
       "      <td>United Nations Educational, Scientific and Cul...</td>\n",
       "    </tr>\n",
       "    <tr>\n",
       "      <th>980</th>\n",
       "      <td>722</td>\n",
       "      <td>SIDS</td>\n",
       "      <td>2015</td>\n",
       "      <td>Researchers per million inhabitants (FTE)</td>\n",
       "      <td>812.1</td>\n",
       "      <td>NaN</td>\n",
       "      <td>United Nations Educational, Scientific and Cul...</td>\n",
       "    </tr>\n",
       "    <tr>\n",
       "      <th>981</th>\n",
       "      <td>722</td>\n",
       "      <td>SIDS</td>\n",
       "      <td>2020</td>\n",
       "      <td>Gross domestic expenditure on R&amp;D: as a percen...</td>\n",
       "      <td>1.0</td>\n",
       "      <td>NaN</td>\n",
       "      <td>United Nations Educational, Scientific and Cul...</td>\n",
       "    </tr>\n",
       "    <tr>\n",
       "      <th>982</th>\n",
       "      <td>722</td>\n",
       "      <td>SIDS</td>\n",
       "      <td>2020</td>\n",
       "      <td>Researchers per million inhabitants (FTE)</td>\n",
       "      <td>893.2</td>\n",
       "      <td>NaN</td>\n",
       "      <td>United Nations Educational, Scientific and Cul...</td>\n",
       "    </tr>\n",
       "  </tbody>\n",
       "</table>\n",
       "<p>983 rows × 7 columns</p>\n",
       "</div>"
      ],
      "text/plain": [
       "     Region                           Area  Year  \\\n",
       "0         1  Total, all countries or areas  2005   \n",
       "1         1  Total, all countries or areas  2005   \n",
       "2         1  Total, all countries or areas  2010   \n",
       "3         1  Total, all countries or areas  2010   \n",
       "4         1  Total, all countries or areas  2015   \n",
       "..      ...                            ...   ...   \n",
       "978     722                           SIDS  2010   \n",
       "979     722                           SIDS  2015   \n",
       "980     722                           SIDS  2015   \n",
       "981     722                           SIDS  2020   \n",
       "982     722                           SIDS  2020   \n",
       "\n",
       "                                                Series   Value Footnotes  \\\n",
       "0    Gross domestic expenditure on R&D: as a percen...     1.5       NaN   \n",
       "1            Researchers per million inhabitants (FTE)   907.2       NaN   \n",
       "2    Gross domestic expenditure on R&D: as a percen...     1.6       NaN   \n",
       "3            Researchers per million inhabitants (FTE)  1022.1       NaN   \n",
       "4    Gross domestic expenditure on R&D: as a percen...     1.7       NaN   \n",
       "..                                                 ...     ...       ...   \n",
       "978          Researchers per million inhabitants (FTE)   722.0       NaN   \n",
       "979  Gross domestic expenditure on R&D: as a percen...     1.1       NaN   \n",
       "980          Researchers per million inhabitants (FTE)   812.1       NaN   \n",
       "981  Gross domestic expenditure on R&D: as a percen...     1.0       NaN   \n",
       "982          Researchers per million inhabitants (FTE)   893.2       NaN   \n",
       "\n",
       "                                                Source  \n",
       "0    United Nations Educational, Scientific and Cul...  \n",
       "1    United Nations Educational, Scientific and Cul...  \n",
       "2    United Nations Educational, Scientific and Cul...  \n",
       "3    United Nations Educational, Scientific and Cul...  \n",
       "4    United Nations Educational, Scientific and Cul...  \n",
       "..                                                 ...  \n",
       "978  United Nations Educational, Scientific and Cul...  \n",
       "979  United Nations Educational, Scientific and Cul...  \n",
       "980  United Nations Educational, Scientific and Cul...  \n",
       "981  United Nations Educational, Scientific and Cul...  \n",
       "982  United Nations Educational, Scientific and Cul...  \n",
       "\n",
       "[983 rows x 7 columns]"
      ]
     },
     "execution_count": 4,
     "metadata": {},
     "output_type": "execute_result"
    }
   ],
   "source": [
    "data #984 rows and 7 columns"
   ]
  },
  {
   "cell_type": "code",
   "execution_count": 4,
   "id": "5f6437c8-6681-41da-b856-844dbdfe9620",
   "metadata": {},
   "outputs": [
    {
     "data": {
      "text/plain": [
       "2000"
      ]
     },
     "execution_count": 4,
     "metadata": {},
     "output_type": "execute_result"
    }
   ],
   "source": [
    "data['Year'].min()"
   ]
  },
  {
   "cell_type": "code",
   "execution_count": 5,
   "id": "2b762a75-cf68-4bc6-8d74-d3068e39792d",
   "metadata": {},
   "outputs": [
    {
     "data": {
      "text/plain": [
       "2021"
      ]
     },
     "execution_count": 5,
     "metadata": {},
     "output_type": "execute_result"
    }
   ],
   "source": [
    "data['Year'].max()"
   ]
  },
  {
   "cell_type": "code",
   "execution_count": null,
   "id": "71b5c1c4-820b-4bf9-9825-0c3147095417",
   "metadata": {},
   "outputs": [],
   "source": []
  },
  {
   "cell_type": "code",
   "execution_count": null,
   "id": "41626d70-db26-4c6d-90be-d9390038a885",
   "metadata": {},
   "outputs": [],
   "source": []
  },
  {
   "cell_type": "code",
   "execution_count": 6,
   "id": "9ecf335b-e540-4a71-9e97-9563642ea779",
   "metadata": {},
   "outputs": [],
   "source": [
    "#LOWER CASE COLUMN\n",
    "def lower_case_column(df: pd.DataFrame):\n",
    "    df.columns = df.columns.str.lower()\n",
    "    return df\n",
    "\n",
    "data = lower_case_column(data)\n",
    "\n",
    "\n",
    "\n"
   ]
  },
  {
   "cell_type": "code",
   "execution_count": 7,
   "id": "7611299b-2a2e-4d24-959e-fb594f0654ce",
   "metadata": {},
   "outputs": [],
   "source": [
    "# CATEGORY COLUMN\n",
    "def categorize_series(df, col_name='series'):\n",
    "    df['category'] = df[col_name].apply(lambda x: 'R&D' if 'r&d' in x.lower() else 'Researchers')\n",
    "    return df\n",
    "\n",
    "\n",
    "data = categorize_series(data)\n"
   ]
  },
  {
   "cell_type": "code",
   "execution_count": 8,
   "id": "c52ea6be-99ba-4769-bd80-00b9d6e64348",
   "metadata": {},
   "outputs": [
    {
     "data": {
      "text/html": [
       "<div>\n",
       "<style scoped>\n",
       "    .dataframe tbody tr th:only-of-type {\n",
       "        vertical-align: middle;\n",
       "    }\n",
       "\n",
       "    .dataframe tbody tr th {\n",
       "        vertical-align: top;\n",
       "    }\n",
       "\n",
       "    .dataframe thead th {\n",
       "        text-align: right;\n",
       "    }\n",
       "</style>\n",
       "<table border=\"1\" class=\"dataframe\">\n",
       "  <thead>\n",
       "    <tr style=\"text-align: right;\">\n",
       "      <th></th>\n",
       "      <th>region</th>\n",
       "      <th>area</th>\n",
       "      <th>year</th>\n",
       "      <th>series</th>\n",
       "      <th>value</th>\n",
       "      <th>footnotes</th>\n",
       "      <th>source</th>\n",
       "      <th>category</th>\n",
       "    </tr>\n",
       "  </thead>\n",
       "  <tbody>\n",
       "    <tr>\n",
       "      <th>0</th>\n",
       "      <td>1</td>\n",
       "      <td>Total, all countries or areas</td>\n",
       "      <td>2005</td>\n",
       "      <td>Gross domestic expenditure on R&amp;D: as a percen...</td>\n",
       "      <td>1.5</td>\n",
       "      <td>NaN</td>\n",
       "      <td>United Nations Educational, Scientific and Cul...</td>\n",
       "      <td>R&amp;D</td>\n",
       "    </tr>\n",
       "    <tr>\n",
       "      <th>1</th>\n",
       "      <td>1</td>\n",
       "      <td>Total, all countries or areas</td>\n",
       "      <td>2005</td>\n",
       "      <td>Researchers per million inhabitants (FTE)</td>\n",
       "      <td>907.2</td>\n",
       "      <td>NaN</td>\n",
       "      <td>United Nations Educational, Scientific and Cul...</td>\n",
       "      <td>Researchers</td>\n",
       "    </tr>\n",
       "    <tr>\n",
       "      <th>2</th>\n",
       "      <td>1</td>\n",
       "      <td>Total, all countries or areas</td>\n",
       "      <td>2010</td>\n",
       "      <td>Gross domestic expenditure on R&amp;D: as a percen...</td>\n",
       "      <td>1.6</td>\n",
       "      <td>NaN</td>\n",
       "      <td>United Nations Educational, Scientific and Cul...</td>\n",
       "      <td>R&amp;D</td>\n",
       "    </tr>\n",
       "    <tr>\n",
       "      <th>3</th>\n",
       "      <td>1</td>\n",
       "      <td>Total, all countries or areas</td>\n",
       "      <td>2010</td>\n",
       "      <td>Researchers per million inhabitants (FTE)</td>\n",
       "      <td>1022.1</td>\n",
       "      <td>NaN</td>\n",
       "      <td>United Nations Educational, Scientific and Cul...</td>\n",
       "      <td>Researchers</td>\n",
       "    </tr>\n",
       "    <tr>\n",
       "      <th>4</th>\n",
       "      <td>1</td>\n",
       "      <td>Total, all countries or areas</td>\n",
       "      <td>2015</td>\n",
       "      <td>Gross domestic expenditure on R&amp;D: as a percen...</td>\n",
       "      <td>1.7</td>\n",
       "      <td>NaN</td>\n",
       "      <td>United Nations Educational, Scientific and Cul...</td>\n",
       "      <td>R&amp;D</td>\n",
       "    </tr>\n",
       "  </tbody>\n",
       "</table>\n",
       "</div>"
      ],
      "text/plain": [
       "   region                           area  year  \\\n",
       "0       1  Total, all countries or areas  2005   \n",
       "1       1  Total, all countries or areas  2005   \n",
       "2       1  Total, all countries or areas  2010   \n",
       "3       1  Total, all countries or areas  2010   \n",
       "4       1  Total, all countries or areas  2015   \n",
       "\n",
       "                                              series   value footnotes  \\\n",
       "0  Gross domestic expenditure on R&D: as a percen...     1.5       NaN   \n",
       "1          Researchers per million inhabitants (FTE)   907.2       NaN   \n",
       "2  Gross domestic expenditure on R&D: as a percen...     1.6       NaN   \n",
       "3          Researchers per million inhabitants (FTE)  1022.1       NaN   \n",
       "4  Gross domestic expenditure on R&D: as a percen...     1.7       NaN   \n",
       "\n",
       "                                              source     category  \n",
       "0  United Nations Educational, Scientific and Cul...          R&D  \n",
       "1  United Nations Educational, Scientific and Cul...  Researchers  \n",
       "2  United Nations Educational, Scientific and Cul...          R&D  \n",
       "3  United Nations Educational, Scientific and Cul...  Researchers  \n",
       "4  United Nations Educational, Scientific and Cul...          R&D  "
      ]
     },
     "execution_count": 8,
     "metadata": {},
     "output_type": "execute_result"
    }
   ],
   "source": [
    "data.head()"
   ]
  },
  {
   "cell_type": "code",
   "execution_count": 9,
   "id": "016afc9e-fb7a-479c-adaa-0b4313152b4d",
   "metadata": {},
   "outputs": [
    {
     "data": {
      "text/html": [
       "<div>\n",
       "<style scoped>\n",
       "    .dataframe tbody tr th:only-of-type {\n",
       "        vertical-align: middle;\n",
       "    }\n",
       "\n",
       "    .dataframe tbody tr th {\n",
       "        vertical-align: top;\n",
       "    }\n",
       "\n",
       "    .dataframe thead th {\n",
       "        text-align: right;\n",
       "    }\n",
       "</style>\n",
       "<table border=\"1\" class=\"dataframe\">\n",
       "  <thead>\n",
       "    <tr style=\"text-align: right;\">\n",
       "      <th></th>\n",
       "      <th>region</th>\n",
       "      <th>area</th>\n",
       "      <th>year</th>\n",
       "      <th>series</th>\n",
       "      <th>value</th>\n",
       "      <th>footnotes</th>\n",
       "      <th>source</th>\n",
       "      <th>category</th>\n",
       "    </tr>\n",
       "  </thead>\n",
       "  <tbody>\n",
       "    <tr>\n",
       "      <th>0</th>\n",
       "      <td>1</td>\n",
       "      <td>Total, all countries or areas</td>\n",
       "      <td>2005</td>\n",
       "      <td>Gross domestic expenditure on R&amp;D: as a percen...</td>\n",
       "      <td>1.5</td>\n",
       "      <td>NaN</td>\n",
       "      <td>United Nations Educational, Scientific and Cul...</td>\n",
       "      <td>R&amp;D</td>\n",
       "    </tr>\n",
       "    <tr>\n",
       "      <th>2</th>\n",
       "      <td>1</td>\n",
       "      <td>Total, all countries or areas</td>\n",
       "      <td>2010</td>\n",
       "      <td>Gross domestic expenditure on R&amp;D: as a percen...</td>\n",
       "      <td>1.6</td>\n",
       "      <td>NaN</td>\n",
       "      <td>United Nations Educational, Scientific and Cul...</td>\n",
       "      <td>R&amp;D</td>\n",
       "    </tr>\n",
       "    <tr>\n",
       "      <th>4</th>\n",
       "      <td>1</td>\n",
       "      <td>Total, all countries or areas</td>\n",
       "      <td>2015</td>\n",
       "      <td>Gross domestic expenditure on R&amp;D: as a percen...</td>\n",
       "      <td>1.7</td>\n",
       "      <td>NaN</td>\n",
       "      <td>United Nations Educational, Scientific and Cul...</td>\n",
       "      <td>R&amp;D</td>\n",
       "    </tr>\n",
       "    <tr>\n",
       "      <th>6</th>\n",
       "      <td>1</td>\n",
       "      <td>Total, all countries or areas</td>\n",
       "      <td>2020</td>\n",
       "      <td>Gross domestic expenditure on R&amp;D: as a percen...</td>\n",
       "      <td>1.9</td>\n",
       "      <td>NaN</td>\n",
       "      <td>United Nations Educational, Scientific and Cul...</td>\n",
       "      <td>R&amp;D</td>\n",
       "    </tr>\n",
       "    <tr>\n",
       "      <th>8</th>\n",
       "      <td>15</td>\n",
       "      <td>Northern Africa</td>\n",
       "      <td>2005</td>\n",
       "      <td>Gross domestic expenditure on R&amp;D: as a percen...</td>\n",
       "      <td>0.3</td>\n",
       "      <td>NaN</td>\n",
       "      <td>United Nations Educational, Scientific and Cul...</td>\n",
       "      <td>R&amp;D</td>\n",
       "    </tr>\n",
       "    <tr>\n",
       "      <th>...</th>\n",
       "      <td>...</td>\n",
       "      <td>...</td>\n",
       "      <td>...</td>\n",
       "      <td>...</td>\n",
       "      <td>...</td>\n",
       "      <td>...</td>\n",
       "      <td>...</td>\n",
       "      <td>...</td>\n",
       "    </tr>\n",
       "    <tr>\n",
       "      <th>973</th>\n",
       "      <td>199</td>\n",
       "      <td>LDC§</td>\n",
       "      <td>2020</td>\n",
       "      <td>Gross domestic expenditure on R&amp;D: as a percen...</td>\n",
       "      <td>0.3</td>\n",
       "      <td>NaN</td>\n",
       "      <td>United Nations Educational, Scientific and Cul...</td>\n",
       "      <td>R&amp;D</td>\n",
       "    </tr>\n",
       "    <tr>\n",
       "      <th>975</th>\n",
       "      <td>722</td>\n",
       "      <td>SIDS</td>\n",
       "      <td>2005</td>\n",
       "      <td>Gross domestic expenditure on R&amp;D: as a percen...</td>\n",
       "      <td>1.0</td>\n",
       "      <td>NaN</td>\n",
       "      <td>United Nations Educational, Scientific and Cul...</td>\n",
       "      <td>R&amp;D</td>\n",
       "    </tr>\n",
       "    <tr>\n",
       "      <th>977</th>\n",
       "      <td>722</td>\n",
       "      <td>SIDS</td>\n",
       "      <td>2010</td>\n",
       "      <td>Gross domestic expenditure on R&amp;D: as a percen...</td>\n",
       "      <td>1.0</td>\n",
       "      <td>NaN</td>\n",
       "      <td>United Nations Educational, Scientific and Cul...</td>\n",
       "      <td>R&amp;D</td>\n",
       "    </tr>\n",
       "    <tr>\n",
       "      <th>979</th>\n",
       "      <td>722</td>\n",
       "      <td>SIDS</td>\n",
       "      <td>2015</td>\n",
       "      <td>Gross domestic expenditure on R&amp;D: as a percen...</td>\n",
       "      <td>1.1</td>\n",
       "      <td>NaN</td>\n",
       "      <td>United Nations Educational, Scientific and Cul...</td>\n",
       "      <td>R&amp;D</td>\n",
       "    </tr>\n",
       "    <tr>\n",
       "      <th>981</th>\n",
       "      <td>722</td>\n",
       "      <td>SIDS</td>\n",
       "      <td>2020</td>\n",
       "      <td>Gross domestic expenditure on R&amp;D: as a percen...</td>\n",
       "      <td>1.0</td>\n",
       "      <td>NaN</td>\n",
       "      <td>United Nations Educational, Scientific and Cul...</td>\n",
       "      <td>R&amp;D</td>\n",
       "    </tr>\n",
       "  </tbody>\n",
       "</table>\n",
       "<p>514 rows × 8 columns</p>\n",
       "</div>"
      ],
      "text/plain": [
       "     region                           area  year  \\\n",
       "0         1  Total, all countries or areas  2005   \n",
       "2         1  Total, all countries or areas  2010   \n",
       "4         1  Total, all countries or areas  2015   \n",
       "6         1  Total, all countries or areas  2020   \n",
       "8        15                Northern Africa  2005   \n",
       "..      ...                            ...   ...   \n",
       "973     199                           LDC§  2020   \n",
       "975     722                           SIDS  2005   \n",
       "977     722                           SIDS  2010   \n",
       "979     722                           SIDS  2015   \n",
       "981     722                           SIDS  2020   \n",
       "\n",
       "                                                series  value footnotes  \\\n",
       "0    Gross domestic expenditure on R&D: as a percen...    1.5       NaN   \n",
       "2    Gross domestic expenditure on R&D: as a percen...    1.6       NaN   \n",
       "4    Gross domestic expenditure on R&D: as a percen...    1.7       NaN   \n",
       "6    Gross domestic expenditure on R&D: as a percen...    1.9       NaN   \n",
       "8    Gross domestic expenditure on R&D: as a percen...    0.3       NaN   \n",
       "..                                                 ...    ...       ...   \n",
       "973  Gross domestic expenditure on R&D: as a percen...    0.3       NaN   \n",
       "975  Gross domestic expenditure on R&D: as a percen...    1.0       NaN   \n",
       "977  Gross domestic expenditure on R&D: as a percen...    1.0       NaN   \n",
       "979  Gross domestic expenditure on R&D: as a percen...    1.1       NaN   \n",
       "981  Gross domestic expenditure on R&D: as a percen...    1.0       NaN   \n",
       "\n",
       "                                                source category  \n",
       "0    United Nations Educational, Scientific and Cul...      R&D  \n",
       "2    United Nations Educational, Scientific and Cul...      R&D  \n",
       "4    United Nations Educational, Scientific and Cul...      R&D  \n",
       "6    United Nations Educational, Scientific and Cul...      R&D  \n",
       "8    United Nations Educational, Scientific and Cul...      R&D  \n",
       "..                                                 ...      ...  \n",
       "973  United Nations Educational, Scientific and Cul...      R&D  \n",
       "975  United Nations Educational, Scientific and Cul...      R&D  \n",
       "977  United Nations Educational, Scientific and Cul...      R&D  \n",
       "979  United Nations Educational, Scientific and Cul...      R&D  \n",
       "981  United Nations Educational, Scientific and Cul...      R&D  \n",
       "\n",
       "[514 rows x 8 columns]"
      ]
     },
     "execution_count": 9,
     "metadata": {},
     "output_type": "execute_result"
    }
   ],
   "source": [
    "filtered_data_researchers = data[data['category'].str.contains('Researchers', case=False, na=False)]\n",
    "filtered_data_researchers\n",
    "\n",
    "filtered_data_rd = data[data['category'].str.contains('R&D', case=False, na=False)]\n",
    "filtered_data_rd\n"
   ]
  },
  {
   "cell_type": "code",
   "execution_count": 10,
   "id": "630e9ee6-8c0b-4995-a668-6d5b9c00f3d4",
   "metadata": {},
   "outputs": [
    {
     "data": {
      "text/html": [
       "<div>\n",
       "<style scoped>\n",
       "    .dataframe tbody tr th:only-of-type {\n",
       "        vertical-align: middle;\n",
       "    }\n",
       "\n",
       "    .dataframe tbody tr th {\n",
       "        vertical-align: top;\n",
       "    }\n",
       "\n",
       "    .dataframe thead th {\n",
       "        text-align: right;\n",
       "    }\n",
       "</style>\n",
       "<table border=\"1\" class=\"dataframe\">\n",
       "  <thead>\n",
       "    <tr style=\"text-align: right;\">\n",
       "      <th></th>\n",
       "      <th>region</th>\n",
       "      <th>area</th>\n",
       "      <th>year</th>\n",
       "      <th>series</th>\n",
       "      <th>value</th>\n",
       "      <th>footnotes</th>\n",
       "      <th>source</th>\n",
       "      <th>category</th>\n",
       "    </tr>\n",
       "  </thead>\n",
       "  <tbody>\n",
       "    <tr>\n",
       "      <th>1</th>\n",
       "      <td>1</td>\n",
       "      <td>Total, all countries or areas</td>\n",
       "      <td>2005</td>\n",
       "      <td>Researchers per million inhabitants (FTE)</td>\n",
       "      <td>907.2</td>\n",
       "      <td>NaN</td>\n",
       "      <td>United Nations Educational, Scientific and Cul...</td>\n",
       "      <td>Researchers</td>\n",
       "    </tr>\n",
       "    <tr>\n",
       "      <th>3</th>\n",
       "      <td>1</td>\n",
       "      <td>Total, all countries or areas</td>\n",
       "      <td>2010</td>\n",
       "      <td>Researchers per million inhabitants (FTE)</td>\n",
       "      <td>1022.1</td>\n",
       "      <td>NaN</td>\n",
       "      <td>United Nations Educational, Scientific and Cul...</td>\n",
       "      <td>Researchers</td>\n",
       "    </tr>\n",
       "    <tr>\n",
       "      <th>5</th>\n",
       "      <td>1</td>\n",
       "      <td>Total, all countries or areas</td>\n",
       "      <td>2015</td>\n",
       "      <td>Researchers per million inhabitants (FTE)</td>\n",
       "      <td>1160.0</td>\n",
       "      <td>NaN</td>\n",
       "      <td>United Nations Educational, Scientific and Cul...</td>\n",
       "      <td>Researchers</td>\n",
       "    </tr>\n",
       "    <tr>\n",
       "      <th>7</th>\n",
       "      <td>1</td>\n",
       "      <td>Total, all countries or areas</td>\n",
       "      <td>2020</td>\n",
       "      <td>Researchers per million inhabitants (FTE)</td>\n",
       "      <td>1341.8</td>\n",
       "      <td>NaN</td>\n",
       "      <td>United Nations Educational, Scientific and Cul...</td>\n",
       "      <td>Researchers</td>\n",
       "    </tr>\n",
       "    <tr>\n",
       "      <th>9</th>\n",
       "      <td>15</td>\n",
       "      <td>Northern Africa</td>\n",
       "      <td>2005</td>\n",
       "      <td>Researchers per million inhabitants (FTE)</td>\n",
       "      <td>472.9</td>\n",
       "      <td>NaN</td>\n",
       "      <td>United Nations Educational, Scientific and Cul...</td>\n",
       "      <td>Researchers</td>\n",
       "    </tr>\n",
       "    <tr>\n",
       "      <th>...</th>\n",
       "      <td>...</td>\n",
       "      <td>...</td>\n",
       "      <td>...</td>\n",
       "      <td>...</td>\n",
       "      <td>...</td>\n",
       "      <td>...</td>\n",
       "      <td>...</td>\n",
       "      <td>...</td>\n",
       "    </tr>\n",
       "    <tr>\n",
       "      <th>974</th>\n",
       "      <td>199</td>\n",
       "      <td>LDC§</td>\n",
       "      <td>2020</td>\n",
       "      <td>Researchers per million inhabitants (FTE)</td>\n",
       "      <td>76.1</td>\n",
       "      <td>NaN</td>\n",
       "      <td>United Nations Educational, Scientific and Cul...</td>\n",
       "      <td>Researchers</td>\n",
       "    </tr>\n",
       "    <tr>\n",
       "      <th>976</th>\n",
       "      <td>722</td>\n",
       "      <td>SIDS</td>\n",
       "      <td>2005</td>\n",
       "      <td>Researchers per million inhabitants (FTE)</td>\n",
       "      <td>609.5</td>\n",
       "      <td>NaN</td>\n",
       "      <td>United Nations Educational, Scientific and Cul...</td>\n",
       "      <td>Researchers</td>\n",
       "    </tr>\n",
       "    <tr>\n",
       "      <th>978</th>\n",
       "      <td>722</td>\n",
       "      <td>SIDS</td>\n",
       "      <td>2010</td>\n",
       "      <td>Researchers per million inhabitants (FTE)</td>\n",
       "      <td>722.0</td>\n",
       "      <td>NaN</td>\n",
       "      <td>United Nations Educational, Scientific and Cul...</td>\n",
       "      <td>Researchers</td>\n",
       "    </tr>\n",
       "    <tr>\n",
       "      <th>980</th>\n",
       "      <td>722</td>\n",
       "      <td>SIDS</td>\n",
       "      <td>2015</td>\n",
       "      <td>Researchers per million inhabitants (FTE)</td>\n",
       "      <td>812.1</td>\n",
       "      <td>NaN</td>\n",
       "      <td>United Nations Educational, Scientific and Cul...</td>\n",
       "      <td>Researchers</td>\n",
       "    </tr>\n",
       "    <tr>\n",
       "      <th>982</th>\n",
       "      <td>722</td>\n",
       "      <td>SIDS</td>\n",
       "      <td>2020</td>\n",
       "      <td>Researchers per million inhabitants (FTE)</td>\n",
       "      <td>893.2</td>\n",
       "      <td>NaN</td>\n",
       "      <td>United Nations Educational, Scientific and Cul...</td>\n",
       "      <td>Researchers</td>\n",
       "    </tr>\n",
       "  </tbody>\n",
       "</table>\n",
       "<p>469 rows × 8 columns</p>\n",
       "</div>"
      ],
      "text/plain": [
       "     region                           area  year  \\\n",
       "1         1  Total, all countries or areas  2005   \n",
       "3         1  Total, all countries or areas  2010   \n",
       "5         1  Total, all countries or areas  2015   \n",
       "7         1  Total, all countries or areas  2020   \n",
       "9        15                Northern Africa  2005   \n",
       "..      ...                            ...   ...   \n",
       "974     199                           LDC§  2020   \n",
       "976     722                           SIDS  2005   \n",
       "978     722                           SIDS  2010   \n",
       "980     722                           SIDS  2015   \n",
       "982     722                           SIDS  2020   \n",
       "\n",
       "                                        series   value footnotes  \\\n",
       "1    Researchers per million inhabitants (FTE)   907.2       NaN   \n",
       "3    Researchers per million inhabitants (FTE)  1022.1       NaN   \n",
       "5    Researchers per million inhabitants (FTE)  1160.0       NaN   \n",
       "7    Researchers per million inhabitants (FTE)  1341.8       NaN   \n",
       "9    Researchers per million inhabitants (FTE)   472.9       NaN   \n",
       "..                                         ...     ...       ...   \n",
       "974  Researchers per million inhabitants (FTE)    76.1       NaN   \n",
       "976  Researchers per million inhabitants (FTE)   609.5       NaN   \n",
       "978  Researchers per million inhabitants (FTE)   722.0       NaN   \n",
       "980  Researchers per million inhabitants (FTE)   812.1       NaN   \n",
       "982  Researchers per million inhabitants (FTE)   893.2       NaN   \n",
       "\n",
       "                                                source     category  \n",
       "1    United Nations Educational, Scientific and Cul...  Researchers  \n",
       "3    United Nations Educational, Scientific and Cul...  Researchers  \n",
       "5    United Nations Educational, Scientific and Cul...  Researchers  \n",
       "7    United Nations Educational, Scientific and Cul...  Researchers  \n",
       "9    United Nations Educational, Scientific and Cul...  Researchers  \n",
       "..                                                 ...          ...  \n",
       "974  United Nations Educational, Scientific and Cul...  Researchers  \n",
       "976  United Nations Educational, Scientific and Cul...  Researchers  \n",
       "978  United Nations Educational, Scientific and Cul...  Researchers  \n",
       "980  United Nations Educational, Scientific and Cul...  Researchers  \n",
       "982  United Nations Educational, Scientific and Cul...  Researchers  \n",
       "\n",
       "[469 rows x 8 columns]"
      ]
     },
     "metadata": {},
     "output_type": "display_data"
    }
   ],
   "source": [
    "display(filtered_data_researchers)"
   ]
  },
  {
   "cell_type": "code",
   "execution_count": 11,
   "id": "c860f0a5-8e5a-4ce5-94da-db28430262a2",
   "metadata": {},
   "outputs": [
    {
     "data": {
      "text/html": [
       "<div>\n",
       "<style scoped>\n",
       "    .dataframe tbody tr th:only-of-type {\n",
       "        vertical-align: middle;\n",
       "    }\n",
       "\n",
       "    .dataframe tbody tr th {\n",
       "        vertical-align: top;\n",
       "    }\n",
       "\n",
       "    .dataframe thead th {\n",
       "        text-align: right;\n",
       "    }\n",
       "</style>\n",
       "<table border=\"1\" class=\"dataframe\">\n",
       "  <thead>\n",
       "    <tr style=\"text-align: right;\">\n",
       "      <th></th>\n",
       "      <th>region</th>\n",
       "      <th>area</th>\n",
       "      <th>year</th>\n",
       "      <th>series</th>\n",
       "      <th>value</th>\n",
       "      <th>footnotes</th>\n",
       "      <th>source</th>\n",
       "      <th>category</th>\n",
       "    </tr>\n",
       "  </thead>\n",
       "  <tbody>\n",
       "    <tr>\n",
       "      <th>3</th>\n",
       "      <td>1</td>\n",
       "      <td>Total, all countries or areas</td>\n",
       "      <td>2010</td>\n",
       "      <td>Researchers per million inhabitants (FTE)</td>\n",
       "      <td>1022.1</td>\n",
       "      <td>NaN</td>\n",
       "      <td>United Nations Educational, Scientific and Cul...</td>\n",
       "      <td>Researchers</td>\n",
       "    </tr>\n",
       "    <tr>\n",
       "      <th>11</th>\n",
       "      <td>15</td>\n",
       "      <td>Northern Africa</td>\n",
       "      <td>2010</td>\n",
       "      <td>Researchers per million inhabitants (FTE)</td>\n",
       "      <td>500.9</td>\n",
       "      <td>NaN</td>\n",
       "      <td>United Nations Educational, Scientific and Cul...</td>\n",
       "      <td>Researchers</td>\n",
       "    </tr>\n",
       "    <tr>\n",
       "      <th>19</th>\n",
       "      <td>202</td>\n",
       "      <td>Sub-Saharan Africa</td>\n",
       "      <td>2010</td>\n",
       "      <td>Researchers per million inhabitants (FTE)</td>\n",
       "      <td>81.1</td>\n",
       "      <td>NaN</td>\n",
       "      <td>United Nations Educational, Scientific and Cul...</td>\n",
       "      <td>Researchers</td>\n",
       "    </tr>\n",
       "    <tr>\n",
       "      <th>27</th>\n",
       "      <td>21</td>\n",
       "      <td>Northern America</td>\n",
       "      <td>2010</td>\n",
       "      <td>Researchers per million inhabitants (FTE)</td>\n",
       "      <td>3957.9</td>\n",
       "      <td>NaN</td>\n",
       "      <td>United Nations Educational, Scientific and Cul...</td>\n",
       "      <td>Researchers</td>\n",
       "    </tr>\n",
       "    <tr>\n",
       "      <th>35</th>\n",
       "      <td>419</td>\n",
       "      <td>Latin America &amp; the Caribbean</td>\n",
       "      <td>2010</td>\n",
       "      <td>Researchers per million inhabitants (FTE)</td>\n",
       "      <td>430.3</td>\n",
       "      <td>NaN</td>\n",
       "      <td>United Nations Educational, Scientific and Cul...</td>\n",
       "      <td>Researchers</td>\n",
       "    </tr>\n",
       "    <tr>\n",
       "      <th>...</th>\n",
       "      <td>...</td>\n",
       "      <td>...</td>\n",
       "      <td>...</td>\n",
       "      <td>...</td>\n",
       "      <td>...</td>\n",
       "      <td>...</td>\n",
       "      <td>...</td>\n",
       "      <td>...</td>\n",
       "    </tr>\n",
       "    <tr>\n",
       "      <th>937</th>\n",
       "      <td>860</td>\n",
       "      <td>Uzbekistan</td>\n",
       "      <td>2010</td>\n",
       "      <td>Researchers per million inhabitants (FTE)</td>\n",
       "      <td>545.0</td>\n",
       "      <td>NaN</td>\n",
       "      <td>United Nations Educational, Scientific and Cul...</td>\n",
       "      <td>Researchers</td>\n",
       "    </tr>\n",
       "    <tr>\n",
       "      <th>945</th>\n",
       "      <td>862</td>\n",
       "      <td>Venezuela (Boliv. Rep. of)</td>\n",
       "      <td>2010</td>\n",
       "      <td>Researchers per million inhabitants (FTE)</td>\n",
       "      <td>204.0</td>\n",
       "      <td>NaN</td>\n",
       "      <td>United Nations Educational, Scientific and Cul...</td>\n",
       "      <td>Researchers</td>\n",
       "    </tr>\n",
       "    <tr>\n",
       "      <th>962</th>\n",
       "      <td>432</td>\n",
       "      <td>LLDCs</td>\n",
       "      <td>2010</td>\n",
       "      <td>Researchers per million inhabitants (FTE)</td>\n",
       "      <td>135.9</td>\n",
       "      <td>NaN</td>\n",
       "      <td>United Nations Educational, Scientific and Cul...</td>\n",
       "      <td>Researchers</td>\n",
       "    </tr>\n",
       "    <tr>\n",
       "      <th>970</th>\n",
       "      <td>199</td>\n",
       "      <td>LDC§</td>\n",
       "      <td>2010</td>\n",
       "      <td>Researchers per million inhabitants (FTE)</td>\n",
       "      <td>60.1</td>\n",
       "      <td>NaN</td>\n",
       "      <td>United Nations Educational, Scientific and Cul...</td>\n",
       "      <td>Researchers</td>\n",
       "    </tr>\n",
       "    <tr>\n",
       "      <th>978</th>\n",
       "      <td>722</td>\n",
       "      <td>SIDS</td>\n",
       "      <td>2010</td>\n",
       "      <td>Researchers per million inhabitants (FTE)</td>\n",
       "      <td>722.0</td>\n",
       "      <td>NaN</td>\n",
       "      <td>United Nations Educational, Scientific and Cul...</td>\n",
       "      <td>Researchers</td>\n",
       "    </tr>\n",
       "  </tbody>\n",
       "</table>\n",
       "<p>95 rows × 8 columns</p>\n",
       "</div>"
      ],
      "text/plain": [
       "     region                           area  year  \\\n",
       "3         1  Total, all countries or areas  2010   \n",
       "11       15                Northern Africa  2010   \n",
       "19      202             Sub-Saharan Africa  2010   \n",
       "27       21               Northern America  2010   \n",
       "35      419  Latin America & the Caribbean  2010   \n",
       "..      ...                            ...   ...   \n",
       "937     860                     Uzbekistan  2010   \n",
       "945     862     Venezuela (Boliv. Rep. of)  2010   \n",
       "962     432                          LLDCs  2010   \n",
       "970     199                           LDC§  2010   \n",
       "978     722                           SIDS  2010   \n",
       "\n",
       "                                        series   value footnotes  \\\n",
       "3    Researchers per million inhabitants (FTE)  1022.1       NaN   \n",
       "11   Researchers per million inhabitants (FTE)   500.9       NaN   \n",
       "19   Researchers per million inhabitants (FTE)    81.1       NaN   \n",
       "27   Researchers per million inhabitants (FTE)  3957.9       NaN   \n",
       "35   Researchers per million inhabitants (FTE)   430.3       NaN   \n",
       "..                                         ...     ...       ...   \n",
       "937  Researchers per million inhabitants (FTE)   545.0       NaN   \n",
       "945  Researchers per million inhabitants (FTE)   204.0       NaN   \n",
       "962  Researchers per million inhabitants (FTE)   135.9       NaN   \n",
       "970  Researchers per million inhabitants (FTE)    60.1       NaN   \n",
       "978  Researchers per million inhabitants (FTE)   722.0       NaN   \n",
       "\n",
       "                                                source     category  \n",
       "3    United Nations Educational, Scientific and Cul...  Researchers  \n",
       "11   United Nations Educational, Scientific and Cul...  Researchers  \n",
       "19   United Nations Educational, Scientific and Cul...  Researchers  \n",
       "27   United Nations Educational, Scientific and Cul...  Researchers  \n",
       "35   United Nations Educational, Scientific and Cul...  Researchers  \n",
       "..                                                 ...          ...  \n",
       "937  United Nations Educational, Scientific and Cul...  Researchers  \n",
       "945  United Nations Educational, Scientific and Cul...  Researchers  \n",
       "962  United Nations Educational, Scientific and Cul...  Researchers  \n",
       "970  United Nations Educational, Scientific and Cul...  Researchers  \n",
       "978  United Nations Educational, Scientific and Cul...  Researchers  \n",
       "\n",
       "[95 rows x 8 columns]"
      ]
     },
     "execution_count": 11,
     "metadata": {},
     "output_type": "execute_result"
    }
   ],
   "source": [
    "filtered_data_Researchers_2005 = filtered_data_researchers[filtered_data_researchers['year'] == 2010]\n",
    "filtered_data_Researchers_2005\n"
   ]
  },
  {
   "cell_type": "code",
   "execution_count": 12,
   "id": "d4e1bbff-ab6c-483b-9c2a-3ddb7cf3117e",
   "metadata": {},
   "outputs": [
    {
     "data": {
      "text/plain": [
       "['region',\n",
       " 'area',\n",
       " 'year',\n",
       " 'series',\n",
       " 'value',\n",
       " 'footnotes',\n",
       " 'source',\n",
       " 'category']"
      ]
     },
     "execution_count": 12,
     "metadata": {},
     "output_type": "execute_result"
    }
   ],
   "source": [
    "list(data.columns)"
   ]
  },
  {
   "cell_type": "code",
   "execution_count": 13,
   "id": "02b4474d-6ce2-49d6-9bf5-5106a76ddb21",
   "metadata": {},
   "outputs": [
    {
     "ename": "KeyError",
     "evalue": "\"None of [Index(['Area', 'Year', 'Series'], dtype='object')] are in the [columns]\"",
     "output_type": "error",
     "traceback": [
      "\u001b[1;31m---------------------------------------------------------------------------\u001b[0m",
      "\u001b[1;31mKeyError\u001b[0m                                  Traceback (most recent call last)",
      "Cell \u001b[1;32mIn[13], line 1\u001b[0m\n\u001b[1;32m----> 1\u001b[0m \u001b[43mdata\u001b[49m\u001b[43m[\u001b[49m\u001b[43m[\u001b[49m\u001b[38;5;124;43m'\u001b[39;49m\u001b[38;5;124;43mArea\u001b[39;49m\u001b[38;5;124;43m'\u001b[39;49m\u001b[43m,\u001b[49m\u001b[43m \u001b[49m\u001b[38;5;124;43m\"\u001b[39;49m\u001b[38;5;124;43mYear\u001b[39;49m\u001b[38;5;124;43m\"\u001b[39;49m\u001b[43m,\u001b[49m\u001b[43m \u001b[49m\u001b[38;5;124;43m\"\u001b[39;49m\u001b[38;5;124;43mSeries\u001b[39;49m\u001b[38;5;124;43m\"\u001b[39;49m\u001b[43m]\u001b[49m\u001b[43m]\u001b[49m\n",
      "File \u001b[1;32m~\\anaconda3\\Lib\\site-packages\\pandas\\core\\frame.py:3902\u001b[0m, in \u001b[0;36mDataFrame.__getitem__\u001b[1;34m(self, key)\u001b[0m\n\u001b[0;32m   3900\u001b[0m     \u001b[38;5;28;01mif\u001b[39;00m is_iterator(key):\n\u001b[0;32m   3901\u001b[0m         key \u001b[38;5;241m=\u001b[39m \u001b[38;5;28mlist\u001b[39m(key)\n\u001b[1;32m-> 3902\u001b[0m     indexer \u001b[38;5;241m=\u001b[39m \u001b[38;5;28;43mself\u001b[39;49m\u001b[38;5;241;43m.\u001b[39;49m\u001b[43mcolumns\u001b[49m\u001b[38;5;241;43m.\u001b[39;49m\u001b[43m_get_indexer_strict\u001b[49m\u001b[43m(\u001b[49m\u001b[43mkey\u001b[49m\u001b[43m,\u001b[49m\u001b[43m \u001b[49m\u001b[38;5;124;43m\"\u001b[39;49m\u001b[38;5;124;43mcolumns\u001b[39;49m\u001b[38;5;124;43m\"\u001b[39;49m\u001b[43m)\u001b[49m[\u001b[38;5;241m1\u001b[39m]\n\u001b[0;32m   3904\u001b[0m \u001b[38;5;66;03m# take() does not accept boolean indexers\u001b[39;00m\n\u001b[0;32m   3905\u001b[0m \u001b[38;5;28;01mif\u001b[39;00m \u001b[38;5;28mgetattr\u001b[39m(indexer, \u001b[38;5;124m\"\u001b[39m\u001b[38;5;124mdtype\u001b[39m\u001b[38;5;124m\"\u001b[39m, \u001b[38;5;28;01mNone\u001b[39;00m) \u001b[38;5;241m==\u001b[39m \u001b[38;5;28mbool\u001b[39m:\n",
      "File \u001b[1;32m~\\anaconda3\\Lib\\site-packages\\pandas\\core\\indexes\\base.py:6114\u001b[0m, in \u001b[0;36mIndex._get_indexer_strict\u001b[1;34m(self, key, axis_name)\u001b[0m\n\u001b[0;32m   6111\u001b[0m \u001b[38;5;28;01melse\u001b[39;00m:\n\u001b[0;32m   6112\u001b[0m     keyarr, indexer, new_indexer \u001b[38;5;241m=\u001b[39m \u001b[38;5;28mself\u001b[39m\u001b[38;5;241m.\u001b[39m_reindex_non_unique(keyarr)\n\u001b[1;32m-> 6114\u001b[0m \u001b[38;5;28;43mself\u001b[39;49m\u001b[38;5;241;43m.\u001b[39;49m\u001b[43m_raise_if_missing\u001b[49m\u001b[43m(\u001b[49m\u001b[43mkeyarr\u001b[49m\u001b[43m,\u001b[49m\u001b[43m \u001b[49m\u001b[43mindexer\u001b[49m\u001b[43m,\u001b[49m\u001b[43m \u001b[49m\u001b[43maxis_name\u001b[49m\u001b[43m)\u001b[49m\n\u001b[0;32m   6116\u001b[0m keyarr \u001b[38;5;241m=\u001b[39m \u001b[38;5;28mself\u001b[39m\u001b[38;5;241m.\u001b[39mtake(indexer)\n\u001b[0;32m   6117\u001b[0m \u001b[38;5;28;01mif\u001b[39;00m \u001b[38;5;28misinstance\u001b[39m(key, Index):\n\u001b[0;32m   6118\u001b[0m     \u001b[38;5;66;03m# GH 42790 - Preserve name from an Index\u001b[39;00m\n",
      "File \u001b[1;32m~\\anaconda3\\Lib\\site-packages\\pandas\\core\\indexes\\base.py:6175\u001b[0m, in \u001b[0;36mIndex._raise_if_missing\u001b[1;34m(self, key, indexer, axis_name)\u001b[0m\n\u001b[0;32m   6173\u001b[0m     \u001b[38;5;28;01mif\u001b[39;00m use_interval_msg:\n\u001b[0;32m   6174\u001b[0m         key \u001b[38;5;241m=\u001b[39m \u001b[38;5;28mlist\u001b[39m(key)\n\u001b[1;32m-> 6175\u001b[0m     \u001b[38;5;28;01mraise\u001b[39;00m \u001b[38;5;167;01mKeyError\u001b[39;00m(\u001b[38;5;124mf\u001b[39m\u001b[38;5;124m\"\u001b[39m\u001b[38;5;124mNone of [\u001b[39m\u001b[38;5;132;01m{\u001b[39;00mkey\u001b[38;5;132;01m}\u001b[39;00m\u001b[38;5;124m] are in the [\u001b[39m\u001b[38;5;132;01m{\u001b[39;00maxis_name\u001b[38;5;132;01m}\u001b[39;00m\u001b[38;5;124m]\u001b[39m\u001b[38;5;124m\"\u001b[39m)\n\u001b[0;32m   6177\u001b[0m not_found \u001b[38;5;241m=\u001b[39m \u001b[38;5;28mlist\u001b[39m(ensure_index(key)[missing_mask\u001b[38;5;241m.\u001b[39mnonzero()[\u001b[38;5;241m0\u001b[39m]]\u001b[38;5;241m.\u001b[39munique())\n\u001b[0;32m   6178\u001b[0m \u001b[38;5;28;01mraise\u001b[39;00m \u001b[38;5;167;01mKeyError\u001b[39;00m(\u001b[38;5;124mf\u001b[39m\u001b[38;5;124m\"\u001b[39m\u001b[38;5;132;01m{\u001b[39;00mnot_found\u001b[38;5;132;01m}\u001b[39;00m\u001b[38;5;124m not in index\u001b[39m\u001b[38;5;124m\"\u001b[39m)\n",
      "\u001b[1;31mKeyError\u001b[0m: \"None of [Index(['Area', 'Year', 'Series'], dtype='object')] are in the [columns]\""
     ]
    }
   ],
   "source": [
    "data[['Area', \"Year\", \"Series\"]]"
   ]
  },
  {
   "cell_type": "code",
   "execution_count": null,
   "id": "a716ae12-09f9-439b-a592-65bc52eb1dc6",
   "metadata": {},
   "outputs": [],
   "source": [
    "data[\"Area\"].nunique"
   ]
  },
  {
   "cell_type": "code",
   "execution_count": null,
   "id": "365518b4-f3ca-42a1-9735-41e5b4423cec",
   "metadata": {},
   "outputs": [],
   "source": [
    "data.iloc[0][\"Series\"]"
   ]
  },
  {
   "cell_type": "code",
   "execution_count": null,
   "id": "c065ed12-4ba5-4944-a0bd-7ff6bb3bde5c",
   "metadata": {},
   "outputs": [],
   "source": [
    "data.iloc[982][\"Series\"]"
   ]
  },
  {
   "cell_type": "code",
   "execution_count": null,
   "id": "a1dd5383-c2f4-4145-90fd-16a47670838a",
   "metadata": {},
   "outputs": [],
   "source": [
    "data.describe() #numerical columns"
   ]
  },
  {
   "cell_type": "code",
   "execution_count": null,
   "id": "da55a8ec-4a2f-4813-8230-027edbaeabc4",
   "metadata": {},
   "outputs": [],
   "source": [
    "data.describe(include=\"object\")"
   ]
  },
  {
   "cell_type": "code",
   "execution_count": null,
   "id": "d48e8ee3-b845-46d7-bf80-d3f51fe632f1",
   "metadata": {},
   "outputs": [],
   "source": [
    "data.describe(include=\"all\")\n",
    "# 169 areas"
   ]
  },
  {
   "cell_type": "code",
   "execution_count": null,
   "id": "6f310fb6-5915-4ae4-9cb8-b911bad883d8",
   "metadata": {},
   "outputs": [],
   "source": [
    "type(data.info())"
   ]
  },
  {
   "cell_type": "code",
   "execution_count": null,
   "id": "b72d4000-b5f5-4c64-a8bc-dda1c1e3161c",
   "metadata": {},
   "outputs": [],
   "source": [
    "data.nunique()"
   ]
  },
  {
   "cell_type": "code",
   "execution_count": null,
   "id": "7034df57-9c06-4123-85c8-df19576a0ff9",
   "metadata": {},
   "outputs": [],
   "source": [
    "data.Year.unique()"
   ]
  },
  {
   "cell_type": "code",
   "execution_count": null,
   "id": "2ba17de0-e09d-48c0-8d6a-6b9b6c5b41eb",
   "metadata": {},
   "outputs": [],
   "source": [
    "data.Area.unique()"
   ]
  },
  {
   "cell_type": "code",
   "execution_count": null,
   "id": "4d16505b-3e31-4e87-9d84-4567dbb09e13",
   "metadata": {},
   "outputs": [],
   "source": [
    "data.select_dtypes(include='number').head(10)"
   ]
  },
  {
   "cell_type": "code",
   "execution_count": null,
   "id": "7168a340-aa87-46e0-b036-5bee093d5faa",
   "metadata": {},
   "outputs": [],
   "source": [
    "data.select_dtypes(include='number').max()"
   ]
  },
  {
   "cell_type": "code",
   "execution_count": null,
   "id": "5ff72047-c4e5-4b89-ae46-a86c313556bb",
   "metadata": {},
   "outputs": [],
   "source": [
    "data['Series'].value_counts()"
   ]
  },
  {
   "cell_type": "code",
   "execution_count": null,
   "id": "39a5068c-5ae1-4a81-9f6a-16c538d353dc",
   "metadata": {},
   "outputs": [],
   "source": [
    "data.sort_values(by=[\"Area\",\"Series\"], ascending=[True, False])"
   ]
  },
  {
   "cell_type": "code",
   "execution_count": null,
   "id": "86a18a2e-ad17-436c-906f-1e62f35beb6c",
   "metadata": {},
   "outputs": [],
   "source": [
    "data.isna().any()\n",
    "# We have missing values only in the column Footnotes"
   ]
  },
  {
   "cell_type": "code",
   "execution_count": null,
   "id": "74082207-bf2e-47d6-b345-c215123313e2",
   "metadata": {},
   "outputs": [],
   "source": [
    "data.isna().sum(axis=0)"
   ]
  },
  {
   "cell_type": "code",
   "execution_count": null,
   "id": "9a0a091a-290b-402a-8b02-8c6c50b40f9c",
   "metadata": {},
   "outputs": [],
   "source": [
    "data.dropna(axis=1)"
   ]
  },
  {
   "cell_type": "code",
   "execution_count": null,
   "id": "fe468902-1ba7-49d2-901a-f8abed13aff8",
   "metadata": {},
   "outputs": [],
   "source": [
    "data.duplicated().any()"
   ]
  },
  {
   "cell_type": "code",
   "execution_count": null,
   "id": "951bbb4d-ace3-4523-a0f4-71c5e41c0825",
   "metadata": {},
   "outputs": [],
   "source": [
    "data.duplicated(subset=['Region']).sum()\n",
    "#814 regions?"
   ]
  },
  {
   "cell_type": "code",
   "execution_count": null,
   "id": "61ce3d2d-a7cf-4d5e-a4f3-8668ae37d856",
   "metadata": {},
   "outputs": [],
   "source": [
    "data.columns"
   ]
  },
  {
   "cell_type": "code",
   "execution_count": null,
   "id": "dedc2571-7948-4eef-90ad-7106c1b82bbe",
   "metadata": {},
   "outputs": [],
   "source": [
    "data.columns= [\"Region\", \"Area/Country\", \"Year\", \"RDRes\", \"Value\", \"Footnotes\", \"Source\"]"
   ]
  },
  {
   "cell_type": "code",
   "execution_count": null,
   "id": "1d321d05-1ca7-460e-9583-801c89bafbff",
   "metadata": {},
   "outputs": [],
   "source": [
    "data.columns"
   ]
  },
  {
   "cell_type": "code",
   "execution_count": null,
   "id": "eccd4b7d-ddc7-45ab-82b6-7a83872283b4",
   "metadata": {},
   "outputs": [],
   "source": [
    "rd_mapping = {'Gross domestic expenditure on R&D: as a percentage of GDP': 0, 'Researchers per million inhabitants (FTE)': 1} \n",
    "data['rd_mapped'] = data['RDRes'].map(rd_mapping)\n",
    "data.tail()"
   ]
  },
  {
   "cell_type": "code",
   "execution_count": null,
   "id": "105427a1-990a-4e08-b280-00c880d96e31",
   "metadata": {},
   "outputs": [],
   "source": [
    "data['rd_mapped'].value_counts()"
   ]
  },
  {
   "cell_type": "code",
   "execution_count": null,
   "id": "b9fb5510-2dc2-455a-bb00-0064dde74f64",
   "metadata": {},
   "outputs": [],
   "source": [
    "condition = data.rd_mapped ==0\n",
    "condition"
   ]
  },
  {
   "cell_type": "code",
   "execution_count": null,
   "id": "b3395a92-2791-4f7a-8034-b699f563beee",
   "metadata": {},
   "outputs": [],
   "source": [
    "filtered_data = data[condition]\n",
    "filtered_data"
   ]
  },
  {
   "cell_type": "code",
   "execution_count": null,
   "id": "8907a548-79f0-43b1-bdda-986d6452ba02",
   "metadata": {},
   "outputs": [],
   "source": [
    "filtered_data[filtered_data['Value'].between(0,1)]"
   ]
  },
  {
   "cell_type": "code",
   "execution_count": null,
   "id": "445d3197-a002-47e7-9f44-a86a50b9d8e0",
   "metadata": {},
   "outputs": [],
   "source": [
    "filtered_data[filtered_data['Value'].between(1.1,2)]"
   ]
  },
  {
   "cell_type": "code",
   "execution_count": null,
   "id": "b9175252-27f3-418a-8f43-3e4f78ba59ac",
   "metadata": {},
   "outputs": [],
   "source": [
    "filtered_data[filtered_data['Value'].between(2.1,3)]"
   ]
  },
  {
   "cell_type": "code",
   "execution_count": null,
   "id": "f158cf24-db09-47bb-b3c5-a37db60763ea",
   "metadata": {},
   "outputs": [],
   "source": [
    "filtered_data[filtered_data['Value'].between(3.1,4)]"
   ]
  },
  {
   "cell_type": "code",
   "execution_count": null,
   "id": "98e0a8e0-4431-4eac-b016-7be5f4414bfb",
   "metadata": {},
   "outputs": [],
   "source": [
    "filtered_data[filtered_data['Value'].between(4.1,5)]"
   ]
  },
  {
   "cell_type": "code",
   "execution_count": null,
   "id": "0fcb99e6-0dc8-4985-b5c8-a07589fe4521",
   "metadata": {},
   "outputs": [],
   "source": [
    "filtered_data[filtered_data['Value'].between(5.1,6)]"
   ]
  },
  {
   "cell_type": "code",
   "execution_count": null,
   "id": "903747b4-2a55-48f2-9ae9-1f85ddada3a9",
   "metadata": {},
   "outputs": [],
   "source": [
    "pivot_fdata = filtered_data.pivot_table(index='Area/Country', columns='Year', values=['Value'], aggfunc='sum')"
   ]
  },
  {
   "cell_type": "code",
   "execution_count": null,
   "id": "046f0395-2d7b-4c51-93ce-e9c3fbd6de69",
   "metadata": {},
   "outputs": [],
   "source": [
    "pivot_fdata"
   ]
  },
  {
   "cell_type": "code",
   "execution_count": null,
   "id": "ebf35d77-7a3a-432c-8138-295818b44a1b",
   "metadata": {},
   "outputs": [],
   "source": [
    "data_multiindex = filtered_data.set_index(['Area/Country', 'Year'])\n",
    "data_multiindex"
   ]
  },
  {
   "cell_type": "code",
   "execution_count": null,
   "id": "ee325fc4-ece0-4582-b30f-253ca627dc0a",
   "metadata": {},
   "outputs": [],
   "source": [
    "data_multiindex.index"
   ]
  },
  {
   "cell_type": "code",
   "execution_count": null,
   "id": "c5ea9c3d-0147-4afd-b01f-5da88d7b6c36",
   "metadata": {},
   "outputs": [],
   "source": [
    "stacked_data = data_multiindex.stack()\n",
    "stacked_data"
   ]
  },
  {
   "cell_type": "code",
   "execution_count": null,
   "id": "a9813e42-9f91-4fcf-a5b1-b9856e355a2f",
   "metadata": {},
   "outputs": [],
   "source": [
    "unstacked_data = stacked_data.unstack('Year')\n",
    "unstacked_data.head(20)"
   ]
  },
  {
   "cell_type": "code",
   "execution_count": null,
   "id": "07e112eb-bb12-4836-9151-ea54c3a57f4a",
   "metadata": {},
   "outputs": [],
   "source": [
    "filtered_data['Value'].mean()"
   ]
  },
  {
   "cell_type": "code",
   "execution_count": null,
   "id": "6d44717b-fbc9-4a07-8635-51997e481357",
   "metadata": {},
   "outputs": [],
   "source": [
    "filtered_data.head()"
   ]
  },
  {
   "cell_type": "code",
   "execution_count": null,
   "id": "a5059e50-f4df-4be2-88ba-c1325976ad53",
   "metadata": {},
   "outputs": [],
   "source": [
    "filtered_data['Value'].min()"
   ]
  },
  {
   "cell_type": "code",
   "execution_count": null,
   "id": "93a78c90-243d-4dd1-b670-16ca67f54805",
   "metadata": {},
   "outputs": [],
   "source": [
    "filtered_data['Value'].max()"
   ]
  },
  {
   "cell_type": "code",
   "execution_count": null,
   "id": "7fbc7d3d-bf6e-4ead-83e0-63b39e24b712",
   "metadata": {},
   "outputs": [],
   "source": [
    "grouped = filtered_data.groupby('Area/Country')\n",
    "grouped"
   ]
  },
  {
   "cell_type": "code",
   "execution_count": null,
   "id": "80d5b3fc-5f99-4bf2-ab38-662c3df98ff0",
   "metadata": {},
   "outputs": [],
   "source": [
    "for name, group in grouped:\n",
    "    print(f\"Group name: {name}\")\n",
    "    print(group)"
   ]
  },
  {
   "cell_type": "code",
   "execution_count": null,
   "id": "4ba465f0-fc57-4cdf-a131-4a25400180a9",
   "metadata": {},
   "outputs": [],
   "source": [
    "grouped.groups"
   ]
  },
  {
   "cell_type": "code",
   "execution_count": null,
   "id": "4482829b-6601-4297-957b-2cb7754e7d35",
   "metadata": {},
   "outputs": [],
   "source": [
    "grouped.size() "
   ]
  },
  {
   "cell_type": "code",
   "execution_count": null,
   "id": "1794a01a-b5de-47bf-b580-b3b97eb134d0",
   "metadata": {},
   "outputs": [],
   "source": [
    "grouped.get_group('Mexico').head(10)"
   ]
  },
  {
   "cell_type": "code",
   "execution_count": null,
   "id": "2b9ce8cd-4999-46e2-aefc-26b14d5a3d96",
   "metadata": {},
   "outputs": [],
   "source": [
    "grouped.get_group(\"Zambia\").head(10)"
   ]
  },
  {
   "cell_type": "code",
   "execution_count": null,
   "id": "8e13e767-1ab7-4e90-b25a-cbcabafec8ba",
   "metadata": {},
   "outputs": [],
   "source": [
    "numeric_columns = filtered_data.select_dtypes(np.number).columns\n",
    "filtered_data.groupby('Area/Country')[numeric_columns].mean()"
   ]
  },
  {
   "cell_type": "code",
   "execution_count": null,
   "id": "a336e49e-a0c7-499a-a2fc-c173045510d8",
   "metadata": {},
   "outputs": [],
   "source": [
    "filtered_data.groupby(['Area/Country', \"Year\"])['Value'].mean()"
   ]
  },
  {
   "cell_type": "code",
   "execution_count": null,
   "id": "750be5ca-e7f2-4331-b662-d8eaeb3e6f40",
   "metadata": {},
   "outputs": [],
   "source": [
    "sns.histplot(filtered_data['Year'], bins=10)"
   ]
  },
  {
   "cell_type": "code",
   "execution_count": null,
   "id": "63f08025-116e-469d-85f2-9d3f34b04fcc",
   "metadata": {},
   "outputs": [],
   "source": [
    "sns.histplot(filtered_data['Value'], bins=10)"
   ]
  },
  {
   "cell_type": "code",
   "execution_count": null,
   "id": "0c34ff24-8153-4569-9713-9cacc1f74cda",
   "metadata": {},
   "outputs": [],
   "source": [
    "condition2= data.rd_mapped==1\n",
    "condition2"
   ]
  },
  {
   "cell_type": "code",
   "execution_count": null,
   "id": "b535ad5a-22e9-49dd-aaa4-a04b8300239a",
   "metadata": {},
   "outputs": [],
   "source": [
    "filtered_data2=data[condition2]\n",
    "filtered_data2"
   ]
  },
  {
   "cell_type": "code",
   "execution_count": null,
   "id": "c405741a-d219-41c0-b0a5-0bbc31a6dd08",
   "metadata": {},
   "outputs": [],
   "source": [
    "sns.histplot(filtered_data2['Value'], bins=10)\n",
    "# Researchers per million inhabitants"
   ]
  },
  {
   "cell_type": "code",
   "execution_count": null,
   "id": "c67a2db5-db57-4053-8472-618f3b9885f4",
   "metadata": {},
   "outputs": [],
   "source": [
    "filtered_data2['Value'].value_counts()"
   ]
  },
  {
   "cell_type": "code",
   "execution_count": null,
   "id": "a200688c-6b32-4934-87c8-05ca21ef1816",
   "metadata": {},
   "outputs": [],
   "source": [
    "filtered_data2[filtered_data2['Value'].between(0,1000)]"
   ]
  },
  {
   "cell_type": "code",
   "execution_count": null,
   "id": "58bede5c-a48d-4559-96d3-e7f196ef665a",
   "metadata": {},
   "outputs": [],
   "source": [
    "filtered_data2[filtered_data2['Value'].between(1001,2000)]"
   ]
  },
  {
   "cell_type": "code",
   "execution_count": null,
   "id": "2dfef311-80ae-4371-8972-37fbfe4c246a",
   "metadata": {},
   "outputs": [],
   "source": [
    "filtered_data2[filtered_data2['Value'].between(2001,3000)]"
   ]
  },
  {
   "cell_type": "code",
   "execution_count": null,
   "id": "49b85adb-e88e-4900-b643-c1d8b47a68ea",
   "metadata": {},
   "outputs": [],
   "source": [
    "filtered_data2[filtered_data2['Value'].between(3001,90000)]"
   ]
  },
  {
   "cell_type": "code",
   "execution_count": null,
   "id": "53b05a90-16b6-4396-9822-7f7d6dc454bc",
   "metadata": {},
   "outputs": [],
   "source": [
    "filtered_data2.describe()\n",
    "# 1738 investigadores en promedio en el mundo por cada millón de habitantes"
   ]
  },
  {
   "cell_type": "code",
   "execution_count": null,
   "id": "7b0d13f2-7cc1-494e-827e-a3a16440f0b0",
   "metadata": {},
   "outputs": [],
   "source": [
    "sns.scatterplot(x = \"Year\", y = \"Value\", data = filtered_data2)"
   ]
  },
  {
   "cell_type": "code",
   "execution_count": null,
   "id": "9bc8114c-7a7b-4be9-bb50-e5b0afc765da",
   "metadata": {},
   "outputs": [],
   "source": [
    "sns.scatterplot(x = \"Year\", y = \"Value\", data = filtered_data)"
   ]
  },
  {
   "cell_type": "code",
   "execution_count": null,
   "id": "1ce91c4f-8c41-4d8b-a997-b47894222410",
   "metadata": {},
   "outputs": [],
   "source": [
    "df_numerical = filtered_data.select_dtypes(include = ['float64', 'int64'])\n",
    "\n",
    "for idx in df_numerical.columns:\n",
    "    df_numerical.plot(kind='scatter',\n",
    "          x=idx,\n",
    "          y='Value')"
   ]
  },
  {
   "cell_type": "code",
   "execution_count": null,
   "id": "f16b7c12-8803-4b1c-b517-e0c08d8ce8c7",
   "metadata": {},
   "outputs": [],
   "source": [
    "sns.boxplot(x='Year', y='Value', data=filtered_data)"
   ]
  },
  {
   "cell_type": "code",
   "execution_count": null,
   "id": "d78c84b0-3708-4263-bbc4-7ba74b612cbf",
   "metadata": {},
   "outputs": [],
   "source": [
    "sns.boxplot(x='Year', y='Value', data=filtered_data2)"
   ]
  },
  {
   "cell_type": "code",
   "execution_count": null,
   "id": "b7ad323a-b0de-41d8-9b65-1e5590d06982",
   "metadata": {},
   "outputs": [],
   "source": [
    "df=pd.DataFrame(data)"
   ]
  },
  {
   "cell_type": "code",
   "execution_count": null,
   "id": "e868f5b1-b651-4e55-bb86-486d3085bd64",
   "metadata": {},
   "outputs": [],
   "source": [
    "result=pd.DataFrame()"
   ]
  },
  {
   "cell_type": "code",
   "execution_count": null,
   "id": "aaf6e8e8-46f7-44b7-bdb3-01baed73f636",
   "metadata": {},
   "outputs": [],
   "source": [
    "result[\"Area/Country\"]= data[\"Area/Country\"]\n",
    "result[\"Year\"]= data[\"Year\"]\n",
    "result['GDP'] = df['Value'][df.index % 2 == 0].reset_index(drop=True)\n",
    "result['Researchers'] = df['Value'][df.index % 2 == 1].reset_index(drop=True)"
   ]
  },
  {
   "cell_type": "code",
   "execution_count": null,
   "id": "2d718608-c5c9-459e-8cdb-295a71086dea",
   "metadata": {},
   "outputs": [],
   "source": [
    "print(result)"
   ]
  },
  {
   "cell_type": "code",
   "execution_count": null,
   "id": "50c2b081-d46f-4c69-8cc1-8f2ea4f3040d",
   "metadata": {},
   "outputs": [],
   "source": [
    "result.head(10)"
   ]
  },
  {
   "cell_type": "code",
   "execution_count": null,
   "id": "be28c25c-b3c9-44a7-afd9-f077c818eff0",
   "metadata": {},
   "outputs": [],
   "source": [
    "result[\"Researchers\"].head(10)"
   ]
  },
  {
   "cell_type": "code",
   "execution_count": null,
   "id": "23b513ac-dddf-46d5-8340-f06678f09ed1",
   "metadata": {},
   "outputs": [],
   "source": [
    "result"
   ]
  },
  {
   "cell_type": "code",
   "execution_count": null,
   "id": "b4712bc3-d17b-4eec-bf66-9036937317a7",
   "metadata": {},
   "outputs": [],
   "source": [
    "data.RDRes.unique()"
   ]
  },
  {
   "cell_type": "code",
   "execution_count": null,
   "id": "779ac32d-3d91-4b06-986d-1ffb8e6462fb",
   "metadata": {},
   "outputs": [],
   "source": []
  }
 ],
 "metadata": {
  "kernelspec": {
   "display_name": "Python 3 (ipykernel)",
   "language": "python",
   "name": "python3"
  },
  "language_info": {
   "codemirror_mode": {
    "name": "ipython",
    "version": 3
   },
   "file_extension": ".py",
   "mimetype": "text/x-python",
   "name": "python",
   "nbconvert_exporter": "python",
   "pygments_lexer": "ipython3",
   "version": "3.12.0"
  }
 },
 "nbformat": 4,
 "nbformat_minor": 5
}
