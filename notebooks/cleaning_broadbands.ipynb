{
 "cells": [
  {
   "cell_type": "code",
   "execution_count": null,
   "id": "f6938ebf-da55-42b6-98a5-17cd0064a642",
   "metadata": {},
   "outputs": [],
   "source": [
    "import pandas as pd\n",
    "\n",
    "# Load a single CSV file\n",
    "broadbands= pd.read_csv('../data/raw/broadbands.csv')\n",
    "broadbands.tail()"
   ]
  },
  {
   "cell_type": "code",
   "execution_count": null,
   "id": "16299def-6775-4045-87d6-04190c5ac457",
   "metadata": {},
   "outputs": [],
   "source": [
    "#Create a commun format for the columns\n",
    "\n",
    "broadbands.columns\n",
    "\n"
   ]
  },
  {
   "cell_type": "code",
   "execution_count": null,
   "id": "8d64047b-c3ba-4031-83e0-2281cd346c2d",
   "metadata": {},
   "outputs": [],
   "source": [
    "# Clean Columns\n",
    "broadbands.columns = broadbands.columns.str.strip().str.lower()  #Convert colummns to lowercase\n",
    "broadbands\n"
   ]
  },
  {
   "cell_type": "code",
   "execution_count": null,
   "id": "771cffb6-5356-4cb0-885a-f6a5bc6bbd8a",
   "metadata": {},
   "outputs": [],
   "source": [
    "broadbands_cleaned = broadbands.dropna(axis=1, how='all') #removing all columns with all NaN values\n",
    "broadbands_cleaned = broadbands_cleaned.dropna(axis=1, how='all') #removing all columns with all NaN values\n",
    "broadbands_cleaned                  #These columns had NaN values so they were dropped (obs_flag, conf_status)  "
   ]
  },
  {
   "cell_type": "code",
   "execution_count": null,
   "id": "a4d35cac-4e79-4a2b-a08d-20870622668b",
   "metadata": {
    "scrolled": true
   },
   "outputs": [],
   "source": [
    "#broadbands_cleaned[\"terrtypo\"].value_counts()\n",
    "broadbands_cleaned[\"terrtypo\"].value_counts()"
   ]
  },
  {
   "cell_type": "code",
   "execution_count": null,
   "id": "f2578df7-1931-4bc8-b2ec-57a13dbc16aa",
   "metadata": {
    "scrolled": true
   },
   "outputs": [],
   "source": [
    "broadbands_cleaned[\"freq\"].value_counts()"
   ]
  },
  {
   "cell_type": "code",
   "execution_count": null,
   "id": "91776df2-c893-44c8-9f3f-33f505392f89",
   "metadata": {
    "scrolled": true
   },
   "outputs": [],
   "source": [
    "broadbands_cleaned[\"unit\"].value_counts()"
   ]
  },
  {
   "cell_type": "code",
   "execution_count": null,
   "id": "82daa386-736d-40bf-a03d-333129af4730",
   "metadata": {},
   "outputs": [],
   "source": [
    "broadbands_cleaned[\"time_period\"].value_counts()"
   ]
  },
  {
   "cell_type": "code",
   "execution_count": null,
   "id": "4f9463d3-51b6-4866-aa71-fef9b76f2187",
   "metadata": {},
   "outputs": [],
   "source": [
    "broadbands_cleaned[\"geo\"].value_counts()"
   ]
  },
  {
   "cell_type": "code",
   "execution_count": null,
   "id": "87733f93-b4b2-4303-b498-878ed40afa13",
   "metadata": {},
   "outputs": [],
   "source": [
    "#broadbands_cleaned = broadbands_cleaned.drop(columns = [\"dataflow\", \"last_update\", \"freq\", \"unit\", \"terrtypo\"])\n",
    "\n",
    "#broadbands_cleaned\n",
    "\n",
    "#Drop specified columns from the DataFrame\n",
    "# Drop specified columns from the DataFrame\n",
    "#columns_to_drop = [\"dataflow\", \"last_update\", \"freq\", \"unit\", \"terrtypo\"]\n",
    "#broadbands_cleaned = broadbands_cleaned.drop(columns=columns_to_drop)\n",
    "\n",
    "# Display the updated DataFrame\n",
    "#broadbands_cleaned\n"
   ]
  },
  {
   "cell_type": "code",
   "execution_count": null,
   "id": "bbbbd4c1-a114-4532-b540-25fb0d233771",
   "metadata": {},
   "outputs": [],
   "source": [
    "broadbands_v2[\"inet_tec\"].value_counts()"
   ]
  },
  {
   "cell_type": "code",
   "execution_count": null,
   "id": "110cec6f-d0f7-486b-8a77-9d86713ccbad",
   "metadata": {},
   "outputs": [],
   "source": []
  },
  {
   "cell_type": "code",
   "execution_count": null,
   "id": "7cdab805-f771-432a-8d30-085f22c724b2",
   "metadata": {},
   "outputs": [],
   "source": [
    "#broadbands_v3 = broadbands_v2.pivot(index=['inet_tec', 'geo'], columns='time_period', values='obs_value').reset_index() #pivoting to add years on columns\n",
    "\n",
    "#broadbands_v3"
   ]
  },
  {
   "cell_type": "code",
   "execution_count": null,
   "id": "4fea3718-c3ef-4566-b72b-b85405324833",
   "metadata": {},
   "outputs": [],
   "source": [
    "# Dataframe for broadbands\n",
    "broadbands_v3 = pd.DataFrame({\n",
    "    \"inet_tec\": [\n",
    "        \"Digital subscriber line (DSL)\",\n",
    "        \"Satellite\",\n",
    "        \"Very high-speed digital subscriber line (VDSL)\",\n",
    "        \"Very high-speed digital subscriber line 2 vectoring (VDSL2)\",\n",
    "        \"Cable modem\",\n",
    "        \"High speed packet access (HSPA)\",\n",
    "        \"Long-term evolution (LTE)\",\n",
    "        \"Fifth generation technology standard for broadband cellular networks (5G)\"\n",
    "    ],\n",
    "    \"type\": [\"Fixed\"] * 5 + [\"Mobile\"] * 3,  # Categorizing as Fixed or Mobile\n",
    "    \"speed\": [\"Slow\", \"Slow\", \"Fast\", \"Fast\", \"Fast\", \"Slow\", \"Fast\", \"Fast\"]  # Categorizing speed\n",
    "})\n",
    "\n",
    "# Ordering the rows by speed\n",
    "broadbands_ordered = broadbands_v3.sort_values(by=\"speed\", ascending=False)\n",
    "\n",
    "# Display the ordered DataFrame\n",
    "display(broadbands_ordered)\n"
   ]
  },
  {
   "cell_type": "code",
   "execution_count": null,
   "id": "b52438d6-3df4-46dc-846a-dfb08928f196",
   "metadata": {},
   "outputs": [],
   "source": []
  }
 ],
 "metadata": {
  "kernelspec": {
   "display_name": "project1_venv",
   "language": "python",
   "name": "project1_venv"
  },
  "language_info": {
   "codemirror_mode": {
    "name": "ipython",
    "version": 3
   },
   "file_extension": ".py",
   "mimetype": "text/x-python",
   "name": "python",
   "nbconvert_exporter": "python",
   "pygments_lexer": "ipython3",
   "version": "3.12.7"
  }
 },
 "nbformat": 4,
 "nbformat_minor": 5
}
