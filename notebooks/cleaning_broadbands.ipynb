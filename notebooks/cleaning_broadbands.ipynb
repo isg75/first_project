{
 "cells": [
  {
   "cell_type": "code",
   "execution_count": null,
   "id": "f6938ebf-da55-42b6-98a5-17cd0064a642",
   "metadata": {},
   "outputs": [],
   "source": [
    "import pandas as pd\n",
    "\n",
    "# Load a single CSV file\n",
    "broadbands= pd.read_csv('broadbands.csv')\n",
    "broadbands"
   ]
  },
  {
   "cell_type": "code",
   "execution_count": null,
   "id": "3d64cb82-9c12-4edd-aa9f-cb4550b3bb7d",
   "metadata": {},
   "outputs": [],
   "source": [
    "# Let's make sure that column names on the files are the same:\n",
    "# lower case for column names\n",
    "broadbands.columns = broadbands.columns.str.lower()\n",
    "\n",
    "# White spaces in column names replaced by _\n",
    "broadbands.columns= broadbands.columns.str.replace(\" \", \"_\") \n",
    "\n",
    "broadbands"
   ]
  },
  {
   "cell_type": "code",
   "execution_count": null,
   "id": "771cffb6-5356-4cb0-885a-f6a5bc6bbd8a",
   "metadata": {},
   "outputs": [],
   "source": [
    "broadbands_cleaned = broadbands.dropna(axis=1, how='all') #removing all columns with all NaN values\n",
    "broadbands_cleaned = broadbands_cleaned.dropna(axis=1, how='all') #removing all columns with all NaN values\n",
    "\n",
    "\n",
    "broadbands_cleaned"
   ]
  },
  {
   "cell_type": "code",
   "execution_count": null,
   "id": "a4d35cac-4e79-4a2b-a08d-20870622668b",
   "metadata": {
    "scrolled": true
   },
   "outputs": [],
   "source": [
    "broadbands_cleaned[\"terrtypo\"].value_counts()"
   ]
  },
  {
   "cell_type": "code",
   "execution_count": null,
   "id": "f2578df7-1931-4bc8-b2ec-57a13dbc16aa",
   "metadata": {
    "scrolled": true
   },
   "outputs": [],
   "source": [
    "broadbands_cleaned[\"freq\"].value_counts()"
   ]
  },
  {
   "cell_type": "code",
   "execution_count": null,
   "id": "91776df2-c893-44c8-9f3f-33f505392f89",
   "metadata": {
    "scrolled": true
   },
   "outputs": [],
   "source": [
    "broadbands_cleaned[\"unit\"].value_counts()"
   ]
  },
  {
   "cell_type": "code",
   "execution_count": null,
   "id": "87733f93-b4b2-4303-b498-878ed40afa13",
   "metadata": {},
   "outputs": [],
   "source": [
    "broadbands_v2 = broadbands_cleaned.drop(columns = [\"dataflow\", \"last_update\", \"freq\", \"unit\", \"terrtypo\"])\n",
    "\n",
    "broadbands_v2"
   ]
  },
  {
   "cell_type": "code",
   "execution_count": null,
   "id": "bbbbd4c1-a114-4532-b540-25fb0d233771",
   "metadata": {},
   "outputs": [],
   "source": [
    "broadbands_v2[\"inet_tec\"].value_counts()"
   ]
  },
  {
   "cell_type": "code",
   "execution_count": null,
   "id": "7cdab805-f771-432a-8d30-085f22c724b2",
   "metadata": {},
   "outputs": [],
   "source": [
    "broadbands_v3 = broadbands_v2.pivot(index=['inet_tec', 'geo'], columns='time_period', values='obs_value').reset_index() #pivoting to add years on columns\n",
    "\n",
    "broadbands_v3"
   ]
  },
  {
   "cell_type": "code",
   "execution_count": null,
   "id": "5144ef31-87d3-4a7f-be13-ee4cc6c064d6",
   "metadata": {},
   "outputs": [],
   "source": [
    "broadbands_v3.columns.name = None # remove the name of the column index for better visualization\n",
    "\n",
    "broadbands_v3"
   ]
  },
  {
   "cell_type": "code",
   "execution_count": null,
   "id": "f8bd420d-df81-4f45-bc8c-9cc3cc00108f",
   "metadata": {},
   "outputs": [],
   "source": [
    "broadbands_v4 = (broadbands_v3.set_index([\"geo\", \"inet_tec\"])).sort_index(level='geo')\n",
    "\n",
    "broadbands_v4"
   ]
  },
  {
   "cell_type": "code",
   "execution_count": null,
   "id": "06316587-01af-4b39-b168-7ba5e503de02",
   "metadata": {},
   "outputs": [],
   "source": []
  }
 ],
 "metadata": {
  "kernelspec": {
   "display_name": "Python 3 (ipykernel)",
   "language": "python",
   "name": "python3"
  },
  "language_info": {
   "codemirror_mode": {
    "name": "ipython",
    "version": 3
   },
   "file_extension": ".py",
   "mimetype": "text/x-python",
   "name": "python",
   "nbconvert_exporter": "python",
   "pygments_lexer": "ipython3",
   "version": "3.12.7"
  }
 },
 "nbformat": 4,
 "nbformat_minor": 5
}
