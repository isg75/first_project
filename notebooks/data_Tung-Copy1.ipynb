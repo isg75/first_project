{
 "cells": [
  {
   "cell_type": "code",
   "execution_count": null,
   "id": "0564ac8f-b914-441b-9952-29a217f6babf",
   "metadata": {},
   "outputs": [],
   "source": [
    "import pandas as pd\n",
    "import plotly.express as px  # For Plotly Express, which is easy-to-use for quick visualizations\n",
    "import plotly.graph_objects as go "
   ]
  },
  {
   "cell_type": "code",
   "execution_count": null,
   "id": "5ab2dafb-89b8-4145-8dc1-c8609eb8782b",
   "metadata": {},
   "outputs": [],
   "source": [
    "import seaborn as sns\n",
    "import matplotlib.pyplot as plt"
   ]
  },
  {
   "cell_type": "markdown",
   "id": "c64e7d7e-107e-4616-b71e-4069200a4fcd",
   "metadata": {},
   "source": [
    "HOUSING RENTAL INCOME FORMATTING\n",
    "---"
   ]
  },
  {
   "cell_type": "code",
   "execution_count": null,
   "id": "db4649e6-3938-4e3a-9b31-ecc764d70d73",
   "metadata": {},
   "outputs": [],
   "source": [
    "housing = pd.read_excel(\"../data/raw/week_3_project_data.xlsx\", sheet_name=0)\n",
    "housing.index = ['Housing'] * len(housing)\n",
    "housing"
   ]
  },
  {
   "cell_type": "code",
   "execution_count": null,
   "id": "ea7bf466-fc42-4c7d-8dea-a0abc9f88cb1",
   "metadata": {},
   "outputs": [],
   "source": [
    "rental = pd.read_excel(\"../data/raw/week_3_project_data.xlsx\", sheet_name=1)\n",
    "rental.index = ['Rental'] * len(rental)\n",
    "rental"
   ]
  },
  {
   "cell_type": "code",
   "execution_count": null,
   "id": "d9792bf6-6877-4c40-8243-1326601d0f4a",
   "metadata": {},
   "outputs": [],
   "source": [
    "income = pd.read_excel(\"../data/raw/week_3_project_data.xlsx\", sheet_name=2)\n",
    "income.index = ['Income'] * len(income)\n",
    "income"
   ]
  },
  {
   "cell_type": "code",
   "execution_count": null,
   "id": "9c93f316-8243-41b6-8a3a-914e3140d290",
   "metadata": {},
   "outputs": [],
   "source": [
    "final_df = pd.concat([housing, rental, income], ignore_index=True)\n",
    "index_labels = ['Housing'] * len(housing) + ['Rental'] * len(rental) + ['Income'] * len(income)\n",
    "final_df.index = index_labels"
   ]
  },
  {
   "cell_type": "code",
   "execution_count": null,
   "id": "faadb9a3-9c4b-4f63-bce0-51113e6c40a7",
   "metadata": {},
   "outputs": [],
   "source": [
    "final_df.rename(columns={\"Unnamed: 0\": \"Country\"}, inplace=True)\n",
    "final_df"
   ]
  },
  {
   "cell_type": "code",
   "execution_count": null,
   "id": "04ae9d09-5f67-4237-b94c-5845da8dc2a5",
   "metadata": {},
   "outputs": [],
   "source": [
    "income_df = final_df[final_df.index == 'Income']\n",
    "housing_df = final_df[final_df.index == \"Housing\"]\n",
    "rental_df = final_df[final_df.index == \"Rental\"]"
   ]
  },
  {
   "cell_type": "code",
   "execution_count": null,
   "id": "02f00cc9-6ab3-4b16-931f-a12709629971",
   "metadata": {},
   "outputs": [],
   "source": [
    "income_tidy = income_df.melt(id_vars=\"Country\", var_name=\"Year\", value_name=\"Income\")\n",
    "housing_tidy = housing_df.melt(id_vars=\"Country\", var_name=\"Year\", value_name=\"Housing\")\n",
    "rental_tidy = rental_df.melt(id_vars=\"Country\", var_name=\"Year\", value_name=\"Rental\")\n",
    "\n",
    "income_tidy"
   ]
  },
  {
   "cell_type": "markdown",
   "id": "ad4f82d7-f53b-4606-9fe2-88e614f90b39",
   "metadata": {},
   "source": [
    "HOUSING RENTAL INCOME GRAPHS\n",
    "---"
   ]
  },
  {
   "cell_type": "code",
   "execution_count": null,
   "id": "3b0f1bfa-7684-449f-86ed-4ca16ec176aa",
   "metadata": {},
   "outputs": [],
   "source": [
    "# Assuming income_tidy, housing_tidy, and rental_tidy are your original DataFrames\n",
    "\n",
    "# Add a new column to each DataFrame to indicate the type of data\n",
    "income_tidy['Type'] = 'Income'\n",
    "housing_tidy['Type'] = 'Housing'\n",
    "rental_tidy['Type'] = 'Rental'\n",
    "\n",
    "# Concatenate the DataFrames into one long DataFrame\n",
    "combined_data = pd.concat([income_tidy, housing_tidy, rental_tidy], axis=0)\n",
    "\n",
    "# Create a figure and three subplots (axes), one for each graph\n",
    "fig, axes = plt.subplots(1, 3, figsize=(15, 5))  # 1 row, 3 columns\n",
    "\n",
    "# Plot the Income graph\n",
    "sns.lineplot(data=income_tidy, x=\"Year\", y=\"Income\", hue=\"Country\", marker=\"*\", ax=axes[0])\n",
    "axes[0].set_title('Income Over Time')\n",
    "axes[0].set_xlabel('Year')\n",
    "axes[0].set_ylabel('Income')\n",
    "axes[0].legend(title='Country')\n",
    "\n",
    "# Plot the Housing graph\n",
    "sns.lineplot(data=housing_tidy, x=\"Year\", y=\"Housing\", hue=\"Country\", marker=\"*\", ax=axes[1])\n",
    "axes[1].set_title('House Price Index Over Time')\n",
    "axes[1].set_xlabel('Year')\n",
    "axes[1].set_ylabel('HPI')\n",
    "axes[1].legend(title='Country')\n",
    "\n",
    "# Plot the Rental graph\n",
    "sns.lineplot(data=rental_tidy, x=\"Year\", y=\"Rental\", hue=\"Country\", marker=\"*\", ax=axes[2])\n",
    "axes[2].set_title('Rental Price Index Over Time')\n",
    "axes[2].set_xlabel('Year')\n",
    "axes[2].set_ylabel('RPI')\n",
    "axes[2].legend(title='Country')\n",
    "\n",
    "# Adjust the x-axis to only show whole years (no 0.5 steps)\n",
    "for ax in axes:\n",
    "    # Set x-axis ticks to only whole numbers (years)\n",
    "    ax.set_xticks(range(int(min(combined_data['Year'])), int(max(combined_data['Year'])) + 1))\n",
    "\n",
    "# Adjust the layout for better spacing\n",
    "plt.tight_layout()\n",
    "\n",
    "# Show the plot\n",
    "plt.show()"
   ]
  },
  {
   "cell_type": "markdown",
   "id": "4786bc2d-e0d7-44cb-9a2f-821c6358757e",
   "metadata": {},
   "source": [
    "GERMANY, BERLIN\n",
    "---"
   ]
  },
  {
   "cell_type": "code",
   "execution_count": null,
   "id": "8088abaa-c4a9-4f24-b51a-64af625c4362",
   "metadata": {
    "jupyter": {
     "source_hidden": true
    }
   },
   "outputs": [],
   "source": [
    "df_Cities = pd.read_excel(\"../data/raw/numbeo_stats.xlsx\")\n",
    "df_Cities.rename(columns = {\"Unnamed: 0\" : \"Category\"}, inplace = True)\n",
    "# Fill missing 'Category' values using forward fill\n",
    "df_Cities['Category'] = df_Cities[\"Category\"].fillna(method = \"ffill\")\n",
    "\n",
    "df_berlin = df_Cities[df_Cities['City'] == 'Berlin']\n",
    "df_berlin = df_berlin.drop(7)\n",
    "\n",
    "# Display the updated DataFrame\n",
    "df_berlin\n",
    "\n",
    "df_Countries = pd.read_excel(\"../data/raw/numbeo_stats.xlsx\", sheet_name = 1)\n",
    "df_Countries.rename(columns = {\"Unnamed: 0\" : \"Category\"}, inplace = True)\n",
    "# Fill missing 'Category' values using forward fill\n",
    "df_Countries['Category'] = df_Countries['Category'].fillna(method='ffill')\n",
    "df_Countries.columns = df_Countries.columns.str.strip()\n",
    "\n",
    "df_Germany = df_Countries[df_Countries[\"Country\"] == 'DE']\n",
    "df_Germany = df_Germany.drop(7)\n",
    "# Display the updated DataFrame\n",
    "\n",
    "print(\"df_Germany columns:\", df_Germany.columns)\n",
    "print(\"final_df columns:\", final_df.columns)\n",
    "\n",
    "\n",
    "\n"
   ]
  },
  {
   "cell_type": "code",
   "execution_count": null,
   "id": "764bcc98-799b-41fd-a5d2-bc41df85c3b3",
   "metadata": {},
   "outputs": [],
   "source": [
    "\n",
    "\n",
    "# Print column names for debugging\n",
    "print(\"df_Germany columns:\", df_Germany.columns)\n",
    "print(\"final_df columns:\", final_df.columns)\n",
    "\n",
    "# Ensure that the years columns are in string format\n",
    "years = ['2019', '2020', '2021', '2022', '2023']\n",
    "\n",
    "# 1. Prepare the data for the plots\n",
    "\n",
    "# First plot: Income and Minimum Wage (from df_Germany)\n",
    "income_de = df_Germany.loc[df_Germany['Category'] == 'Av salary (after tax)', years].values.flatten()\n",
    "min_wage_de = df_Germany.loc[df_Germany['Category'] == 'Min wage (after tax)', years].values.flatten()\n",
    "\n",
    "# Second plot: House Price Index (from final_df, for Germany)\n",
    "housing_de = final_df.loc[final_df['Country'] == 'DE', years].values.flatten()\n",
    "\n",
    "# Third plot: Rental Price Index (from final_df, for Germany)\n",
    "rental_de = final_df.loc[final_df['Country'] == 'DE', years].values.flatten()\n",
    "\n",
    "# Clean the column names if necessary\n",
    "df_Germany.columns = df_Germany.columns.str.strip().astype(str)\n",
    "final_df.columns = final_df.columns.str.strip().astype(str)\n",
    "\n",
    "# After cleaning the columns, try running the plot code again\n",
    "\n",
    "\n",
    "# 2. Normalize data for index (to make them comparable across years)\n",
    "def normalize_data(data):\n",
    "    return (data / data[0]) * 100  # Normalize to the first year (2019)\n",
    "\n",
    "income_de_index = normalize_data(income_de)\n",
    "min_wage_de_index = normalize_data(min_wage_de)\n",
    "housing_de_index = normalize_data(housing_de)\n",
    "rental_de_index = normalize_data(rental_de)\n",
    "\n",
    "# 3. Create the plots\n",
    "fig, axes = plt.subplots(1, 3, figsize=(18, 6), sharey=True)\n",
    "\n",
    "# First plot: Income and Minimum Wage\n",
    "axes[0].plot(years, income_de_index, label='Income', color='blue', marker='o')\n",
    "axes[0].plot(years, min_wage_de_index, label='Min Wage', color='orange', marker='o')\n",
    "axes[0].set_title('Income and Minimum Wage Index')\n",
    "axes[0].set_xlabel('Year')\n",
    "axes[0].set_ylabel('Index (Base = 100 in 2019)')\n",
    "axes[0].legend()\n",
    "\n",
    "# Second plot: House Price Index\n",
    "axes[1].plot(years, housing_de_index, label='House Price Index', color='green', marker='o')\n",
    "axes[1].set_title('House Price Index')\n",
    "axes[1].set_xlabel('Year')\n",
    "axes[1].set_ylabel('Index (Base = 100 in 2019)')\n",
    "\n",
    "# Third plot: Rental Price Index\n",
    "axes[2].plot(years, rental_de_index, label='Rental Price Index', color='red', marker='o')\n",
    "axes[2].set_title('Rental Price Index')\n",
    "axes[2].set_xlabel('Year')\n",
    "axes[2].set_ylabel('Index (Base = 100 in 2019)')\n",
    "\n",
    "# Show the plots\n",
    "plt.tight_layout()\n",
    "plt.show()\n"
   ]
  }
 ],
 "metadata": {
  "kernelspec": {
   "display_name": "venv",
   "language": "python",
   "name": "venv"
  },
  "language_info": {
   "codemirror_mode": {
    "name": "ipython",
    "version": 3
   },
   "file_extension": ".py",
   "mimetype": "text/x-python",
   "name": "python",
   "nbconvert_exporter": "python",
   "pygments_lexer": "ipython3",
   "version": "3.12.4"
  }
 },
 "nbformat": 4,
 "nbformat_minor": 5
}
