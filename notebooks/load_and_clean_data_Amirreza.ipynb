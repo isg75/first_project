{
 "cells": [
  {
   "cell_type": "code",
   "execution_count": null,
   "id": "7cb47c6c-7a7e-4546-a0e8-993d54eccb03",
   "metadata": {},
   "outputs": [],
   "source": [
    "import pandas as pd\n",
    "df = pd.read_csv('/Users/amirrezakamkar/Desktop/Works_in_progress/Ironhack/3_3rd_week/Project/first_project/data/raw/Steam_2024_bestRevenue_1500.csv')"
   ]
  },
  {
   "cell_type": "code",
   "execution_count": null,
   "id": "13840447-fb5b-44e7-84c3-9e6d01b1ea02",
   "metadata": {},
   "outputs": [],
   "source": [
    "df.shape"
   ]
  },
  {
   "cell_type": "code",
   "execution_count": null,
   "id": "b03c0e14-be71-4bb3-a5e3-68553485f9e2",
   "metadata": {},
   "outputs": [],
   "source": [
    "df.reviewScore.unique()"
   ]
  },
  {
   "cell_type": "code",
   "execution_count": null,
   "id": "b134a053-4dab-4c6e-9567-a2e3e849e988",
   "metadata": {},
   "outputs": [],
   "source": [
    "# Get indices where column 'A' equals the value_to_remove\n",
    "indices_to_drop = df[df['reviewScore'] == 0].index\n",
    "\n",
    "# Drop those indices\n",
    "df_filtered = df.drop(indices_to_drop)\n"
   ]
  },
  {
   "cell_type": "code",
   "execution_count": null,
   "id": "484c0a8b-e312-4af1-b4b1-33a79f937734",
   "metadata": {},
   "outputs": [],
   "source": [
    "df_filtered.reviewScore.unique()"
   ]
  },
  {
   "cell_type": "code",
   "execution_count": null,
   "id": "46a0ec3e-f669-4d72-926b-63a84dcf29b2",
   "metadata": {},
   "outputs": [],
   "source": [
    "df_filtered.isnull().sum()"
   ]
  },
  {
   "cell_type": "code",
   "execution_count": null,
   "id": "d304e026-e75d-4afe-91fd-f28c247ec71a",
   "metadata": {},
   "outputs": [],
   "source": [
    "df_cleaned = df_filtered.dropna(subset= ['developers', 'publishers'])"
   ]
  },
  {
   "cell_type": "code",
   "execution_count": null,
   "id": "d58889f8-344c-40f7-8927-6f0b220ae268",
   "metadata": {},
   "outputs": [],
   "source": [
    "df_cleaned.reset_index()"
   ]
  },
  {
   "cell_type": "code",
   "execution_count": null,
   "id": "19b26ce3-3010-4769-a2a9-b29204477946",
   "metadata": {},
   "outputs": [],
   "source": [
    "df_cleaned.isnull().sum()"
   ]
  },
  {
   "cell_type": "code",
   "execution_count": null,
   "id": "e50abe96-ff71-48f4-8a50-da4c65446c10",
   "metadata": {},
   "outputs": [],
   "source": [
    "df_cleaned.name = df_cleaned.name.str.lower()"
   ]
  },
  {
   "cell_type": "code",
   "execution_count": null,
   "id": "153b25b7-1cf7-4a7a-9c95-7f5c39e58476",
   "metadata": {},
   "outputs": [],
   "source": [
    "df_cleaned.shape"
   ]
  },
  {
   "cell_type": "code",
   "execution_count": null,
   "id": "a16f99ba-bacb-44ed-a824-e34158187bc3",
   "metadata": {},
   "outputs": [],
   "source": [
    "df_cleaned['name'] = df_cleaned['name'].str.replace('™','', regex=False)"
   ]
  },
  {
   "cell_type": "code",
   "execution_count": null,
   "id": "fed7ced9-d51b-4f12-ac63-26dc0affc6e4",
   "metadata": {},
   "outputs": [],
   "source": [
    "df_cleaned['name'] = df_cleaned['name'].str.replace('®','', regex=False)"
   ]
  },
  {
   "cell_type": "code",
   "execution_count": null,
   "id": "6b80a430-f8cb-44ed-9717-0c875d2f9d2e",
   "metadata": {},
   "outputs": [],
   "source": [
    "df_cleaned.price.mean()"
   ]
  },
  {
   "cell_type": "code",
   "execution_count": null,
   "id": "42b3f746-2fa6-4e0e-ae85-49f5eada9fdc",
   "metadata": {},
   "outputs": [],
   "source": [
    "threshold = 17\n",
    "df_cleaned_expensive = df_cleaned[df_cleaned['price'] > threshold]"
   ]
  },
  {
   "cell_type": "code",
   "execution_count": null,
   "id": "25fa8a85-48f3-4cc6-96b1-fe7944e571ac",
   "metadata": {},
   "outputs": [],
   "source": [
    "df_cleaned_expensive.shape"
   ]
  },
  {
   "cell_type": "code",
   "execution_count": null,
   "id": "c341335c-0f5e-4714-aee1-571224ce5793",
   "metadata": {},
   "outputs": [],
   "source": [
    "print(\"the average review score of more expensive games is \", df_cleaned_expensive.reviewScore.mean())"
   ]
  },
  {
   "cell_type": "code",
   "execution_count": null,
   "id": "ebde5c32-8920-4904-973b-21c5037df1ba",
   "metadata": {},
   "outputs": [],
   "source": [
    "df_cleaned_cheap = df_cleaned[df_cleaned['price'] < threshold]"
   ]
  },
  {
   "cell_type": "code",
   "execution_count": null,
   "id": "b9e50f36-01dd-4dc7-97e7-ba7d288b9644",
   "metadata": {},
   "outputs": [],
   "source": [
    "df_cleaned_cheap.shape"
   ]
  },
  {
   "cell_type": "code",
   "execution_count": null,
   "id": "554ad247-cfd7-456a-8b0d-d56379b188c7",
   "metadata": {},
   "outputs": [],
   "source": [
    "print(\"the average review score of cheaper games is \", df_cleaned_cheap.reviewScore.mean())"
   ]
  },
  {
   "cell_type": "code",
   "execution_count": null,
   "id": "df26da9c-8bb7-4d3d-a250-381c6d862564",
   "metadata": {},
   "outputs": [],
   "source": [
    "df_cleaned.reviewScore.mean()"
   ]
  },
  {
   "cell_type": "code",
   "execution_count": null,
   "id": "1754923f-e42d-4d28-a168-9d6b0dc65fc3",
   "metadata": {},
   "outputs": [],
   "source": [
    "threshold = 81\n",
    "df_cleaned_highscore = df_cleaned[df_cleaned['reviewScore'] > threshold]\n",
    "print(\"The average revenue for high score game is \",df_cleaned_highscore.revenue.mean())"
   ]
  },
  {
   "cell_type": "code",
   "execution_count": null,
   "id": "b2694f70-b95f-4edf-8de3-914c09da365a",
   "metadata": {},
   "outputs": [],
   "source": [
    "df_cleaned_lowscore = df_cleaned[df_cleaned['reviewScore'] < threshold]\n",
    "print(\"The average revenue for low score game is \", df_cleaned_lowscore.revenue.mean())"
   ]
  },
  {
   "cell_type": "code",
   "execution_count": null,
   "id": "76c5ca58-4ca6-4278-9739-e5f34ab533f4",
   "metadata": {},
   "outputs": [],
   "source": [
    "df_cleaned.publishers.value_counts()"
   ]
  },
  {
   "cell_type": "code",
   "execution_count": null,
   "id": "0cb29a7f-3ba0-481a-b5cd-47b136fcb2fb",
   "metadata": {},
   "outputs": [],
   "source": [
    "df_cleaned.groupby('publishers')['revenue']"
   ]
  },
  {
   "cell_type": "code",
   "execution_count": null,
   "id": "20c84696-dfb5-4f7a-a2d5-d95f8e311a98",
   "metadata": {},
   "outputs": [],
   "source": [
    "df_steam = pd.read_csv('/Users/amirrezakamkar/Desktop/Works_in_progress/Ironhack/3_3rd_week/Project/first_project/data/raw/93182_steam_games.csv')"
   ]
  },
  {
   "cell_type": "code",
   "execution_count": null,
   "id": "e7259e1d-2801-471f-abc0-f856bd484a72",
   "metadata": {},
   "outputs": [],
   "source": [
    "df_steam.head()"
   ]
  },
  {
   "cell_type": "code",
   "execution_count": null,
   "id": "f186b382-a983-443f-9885-cb28847ca6a3",
   "metadata": {},
   "outputs": [],
   "source": [
    "df_steam = df_steam.drop(df_steam.columns[[2, 3, 4, 5, 6, 7, 8, 9, 10, 11, 12, 13, 14, 15, 16, 17, 18, 19, 20, 21, 22, 23, 24, 25, 26, 27, 28, 29, 30, 31, 32, 33]], axis=1)"
   ]
  },
  {
   "cell_type": "code",
   "execution_count": null,
   "id": "ba594143-96b2-4cd2-91a0-a9aee8b365b5",
   "metadata": {},
   "outputs": [],
   "source": [
    "df_steam.head()"
   ]
  },
  {
   "cell_type": "code",
   "execution_count": null,
   "id": "fdc7a243-20d8-4733-983d-e30cb533b6cd",
   "metadata": {},
   "outputs": [],
   "source": [
    "df_steam.rename(columns={'Name': 'name'}, inplace=True)"
   ]
  },
  {
   "cell_type": "code",
   "execution_count": null,
   "id": "86e277da-4d02-4406-9f9e-c52317f775cc",
   "metadata": {},
   "outputs": [],
   "source": [
    "df_steam.head()"
   ]
  },
  {
   "cell_type": "code",
   "execution_count": null,
   "id": "61a2ce49-4725-466b-9e69-1ab9155b608d",
   "metadata": {},
   "outputs": [],
   "source": [
    "df_steam.name = df_steam.name.str.lower()"
   ]
  },
  {
   "cell_type": "code",
   "execution_count": null,
   "id": "a398ec74-185a-44f2-a27d-dbc9150e8d75",
   "metadata": {},
   "outputs": [],
   "source": [
    "df_steam.head()"
   ]
  },
  {
   "cell_type": "code",
   "execution_count": null,
   "id": "db5479f5-3dd8-4dae-907f-2204a07ed34c",
   "metadata": {},
   "outputs": [],
   "source": [
    "df_combined= pd.merge(df_cleaned, df_steam, on='name', how='inner')"
   ]
  },
  {
   "cell_type": "code",
   "execution_count": null,
   "id": "00c436ba-056f-4a8a-9d3d-e4a856fd13d4",
   "metadata": {},
   "outputs": [],
   "source": [
    "df_combined.shape"
   ]
  },
  {
   "cell_type": "code",
   "execution_count": null,
   "id": "ddce9d4d-4348-449d-9986-2413e035afc0",
   "metadata": {},
   "outputs": [],
   "source": [
    "df_combined.head()"
   ]
  },
  {
   "cell_type": "code",
   "execution_count": null,
   "id": "0b461912-5cab-4ae6-8295-296d0a562c8a",
   "metadata": {},
   "outputs": [],
   "source": [
    "df_combined.Genres.value_counts()"
   ]
  },
  {
   "cell_type": "code",
   "execution_count": null,
   "id": "7096c43a-8c82-490c-98a2-e071dc837eca",
   "metadata": {},
   "outputs": [],
   "source": [
    "df_combined.to_csv('df_combined.csv')"
   ]
  },
  {
   "cell_type": "code",
   "execution_count": null,
   "id": "5e3b9790-75d3-4eba-aef3-9e0dd25292e0",
   "metadata": {},
   "outputs": [],
   "source": [
    "df_combined.shape"
   ]
  },
  {
   "cell_type": "code",
   "execution_count": null,
   "id": "495ae8ea-599a-4a2e-9e8c-c6cecc622915",
   "metadata": {},
   "outputs": [],
   "source": [
    "df_combined.head()"
   ]
  },
  {
   "cell_type": "code",
   "execution_count": null,
   "id": "a1e2a658-ceb8-4041-9b4b-73c3163e6fdc",
   "metadata": {},
   "outputs": [],
   "source": [
    "df_combined = df_combined.drop('Unnamed: 34', axis=1)"
   ]
  },
  {
   "cell_type": "code",
   "execution_count": null,
   "id": "7b6ae687-842a-4b31-b706-100ae63106e8",
   "metadata": {},
   "outputs": [],
   "source": [
    "df_combined.head()"
   ]
  },
  {
   "cell_type": "code",
   "execution_count": null,
   "id": "86bb306b-63ed-4cd9-86b4-cbcc230b57eb",
   "metadata": {},
   "outputs": [],
   "source": [
    "df_combined.to_csv('df_combined.csv')"
   ]
  },
  {
   "cell_type": "code",
   "execution_count": null,
   "id": "6ec8aaf8-b88c-41ac-8829-dd36cdec55f9",
   "metadata": {},
   "outputs": [],
   "source": [
    "df_combined.describe()"
   ]
  },
  {
   "cell_type": "code",
   "execution_count": null,
   "id": "307c44ca-2fc6-4278-81fb-360d84917b79",
   "metadata": {},
   "outputs": [],
   "source": []
  }
 ],
 "metadata": {
  "kernelspec": {
   "display_name": "venv",
   "language": "python",
   "name": "venv"
  },
  "language_info": {
   "codemirror_mode": {
    "name": "ipython",
    "version": 3
   },
   "file_extension": ".py",
   "mimetype": "text/x-python",
   "name": "python",
   "nbconvert_exporter": "python",
   "pygments_lexer": "ipython3",
   "version": "3.12.4"
  }
 },
 "nbformat": 4,
 "nbformat_minor": 5
}
