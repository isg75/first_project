{
 "cells": [
  {
   "cell_type": "code",
   "execution_count": null,
   "id": "94988fbe-6b2a-4a9a-b296-0c9078135f35",
   "metadata": {},
   "outputs": [],
   "source": [
    "import pandas as pd\n",
    "\n",
    "df = pd.read_csv('../data/raw/charts.csv') \n",
    "df.head()"
   ]
  },
  {
   "cell_type": "code",
   "execution_count": null,
   "id": "70ee9348-05f0-49f7-9bc4-76a174d94f96",
   "metadata": {},
   "outputs": [],
   "source": [
    "df.head()\n",
    "df.tail()      \n",
    "df.sample(5)  \n",
    "df.info()   \n",
    "df.describe() "
   ]
  },
  {
   "cell_type": "code",
   "execution_count": null,
   "id": "96a5b2c0-80d4-4f53-b4b1-57a5ddb89c80",
   "metadata": {},
   "outputs": [],
   "source": [
    "print(f\"The DataFrame has {df.shape[0]} rows and {df.shape[1]} columns\")"
   ]
  },
  {
   "cell_type": "code",
   "execution_count": null,
   "id": "9955a89c-39eb-4332-aeec-06262863dd56",
   "metadata": {},
   "outputs": [],
   "source": [
    "import pandas as pd\n",
    "\n",
    "# Load your data\n",
    "df = pd.read_csv('/Users/dejmen/desktop/ironhack/week4/first_project/data/raw/charts.csv')\n",
    "\n",
    "# First check if 'date' column exists\n",
    "if 'date' not in df.columns:\n",
    "    print(\"Error: 'date' column not found. Available columns are:\", df.columns.tolist())\n",
    "else:\n",
    "    # Convert to datetime if needed (check current type)\n",
    "    print(\"Date column type before conversion:\", df['date'].dtype)\n",
    "    \n",
    "    try:\n",
    "        # Convert to datetime\n",
    "        df['date'] = pd.to_datetime(df['date'])\n",
    "        \n",
    "        # Filter for 2021 (correct way - no parentheses after df_2021)\n",
    "        df_2021 = df[(df['date'] >= '2021-01-01') & \n",
    "                    (df['date'] <= '2021-12-31')]\n",
    "        \n",
    "  \n",
    "        print(\"\\nFiltered successfully!\")\n",
    "        print(\"Rows in 2021 data:\", len(df_2021))\n",
    "        print(\"\\nFirst few rows:\")\n",
    "        display(df_2021.head())  # display() works better in Jupyter than print\n",
    "        \n",
    "  \n",
    "        output_path = '/Users/dejmen/desktop/ironhack/week4/first_project/data/processed/charts_2021.csv'\n",
    "        df_2021.to_csv(output_path, index=False)\n",
    "        print(f\"\\nSaved to: {output_path}\")\n",
    "        \n",
    "    except Exception as e:\n",
    "        print(\"\\nError during processing:\", str(e))\n",
    "        print(\"\\nSample date values:\", df['date'].head().tolist())"
   ]
  },
  {
   "cell_type": "code",
   "execution_count": null,
   "id": "0fd77596-250e-4817-80a9-d9f99684e409",
   "metadata": {},
   "outputs": [],
   "source": [
    "print(f\"Number of rows: {df_2021.shape[0]}, Number of columns: {df_2021.shape[1]}\")"
   ]
  },
  {
   "cell_type": "code",
   "execution_count": null,
   "id": "17a459fe-1422-46b7-83f4-45bfe41ecb62",
   "metadata": {},
   "outputs": [],
   "source": [
    "european_regions = [\n",
    "    'Albania', 'Andorra', 'Austria', 'Belarus', 'Belgium', \n",
    "    'Bosnia and Herzegovina', 'Bulgaria', 'Croatia', 'Cyprus',\n",
    "    'Czech Republic', 'Denmark', 'Estonia', 'Finland', 'France',\n",
    "    'Germany', 'Greece', 'Hungary', 'Iceland', 'Ireland', 'Italy',\n",
    "    'Latvia', 'Liechtenstein', 'Lithuania', 'Luxembourg', 'Malta',\n",
    "    'Moldova', 'Monaco', 'Montenegro', 'Netherlands', 'North Macedonia',\n",
    "    'Norway', 'Poland', 'Portugal', 'Romania', 'Russia', 'San Marino',\n",
    "    'Serbia', 'Slovakia', 'Slovenia', 'Spain', 'Sweden', 'Switzerland',\n",
    "    'Turkey', 'Ukraine', 'United Kingdom'\n",
    "]\n",
    "european_regions = [region.lower() for region in european_regions]\n",
    "\n",
    "europe_df = df[df['region'].str.lower().isin(european_regions)]\n",
    "\n",
    "print(f\"Original rows: {len(df)}\")\n",
    "print(f\"European rows: {len(europe_df)}\")\n",
    "print(\"\\nSample European data:\")\n",
    "display(europe_df.head())"
   ]
  },
  {
   "cell_type": "code",
   "execution_count": null,
   "id": "65a04d85-0ebc-4234-81c4-5e70ae2969e4",
   "metadata": {},
   "outputs": [],
   "source": []
  }
 ],
 "metadata": {
  "kernelspec": {
   "display_name": "venv",
   "language": "python",
   "name": "venv"
  },
  "language_info": {
   "codemirror_mode": {
    "name": "ipython",
    "version": 3
   },
   "file_extension": ".py",
   "mimetype": "text/x-python",
   "name": "python",
   "nbconvert_exporter": "python",
   "pygments_lexer": "ipython3",
   "version": "3.12.7"
  }
 },
 "nbformat": 4,
 "nbformat_minor": 5
}
