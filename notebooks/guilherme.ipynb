{
 "cells": [
  {
   "cell_type": "code",
   "execution_count": 72,
   "id": "7676334e-336b-4e6f-9b5d-b6cff7377fce",
   "metadata": {},
   "outputs": [],
   "source": [
    "import pandas as pd"
   ]
  },
  {
   "cell_type": "code",
   "execution_count": 73,
   "id": "091b4f8b-7005-4bd8-8cec-fb7d097a436f",
   "metadata": {},
   "outputs": [],
   "source": [
    "ai_job = pd.read_csv(r\"..\\data\\raw\\ai_job_dataset.csv\")"
   ]
  },
  {
   "cell_type": "code",
   "execution_count": 74,
   "id": "50580f8b-df2e-4fcd-92ea-408ae07705d5",
   "metadata": {},
   "outputs": [
    {
     "data": {
      "text/html": [
       "<div>\n",
       "<style scoped>\n",
       "    .dataframe tbody tr th:only-of-type {\n",
       "        vertical-align: middle;\n",
       "    }\n",
       "\n",
       "    .dataframe tbody tr th {\n",
       "        vertical-align: top;\n",
       "    }\n",
       "\n",
       "    .dataframe thead th {\n",
       "        text-align: right;\n",
       "    }\n",
       "</style>\n",
       "<table border=\"1\" class=\"dataframe\">\n",
       "  <thead>\n",
       "    <tr style=\"text-align: right;\">\n",
       "      <th></th>\n",
       "      <th>job_id</th>\n",
       "      <th>job_title</th>\n",
       "      <th>salary_usd</th>\n",
       "      <th>salary_currency</th>\n",
       "      <th>experience_level</th>\n",
       "      <th>employment_type</th>\n",
       "      <th>company_location</th>\n",
       "      <th>company_size</th>\n",
       "      <th>employee_residence</th>\n",
       "      <th>remote_ratio</th>\n",
       "      <th>required_skills</th>\n",
       "      <th>education_required</th>\n",
       "      <th>years_experience</th>\n",
       "      <th>industry</th>\n",
       "      <th>posting_date</th>\n",
       "      <th>application_deadline</th>\n",
       "      <th>job_description_length</th>\n",
       "      <th>benefits_score</th>\n",
       "      <th>company_name</th>\n",
       "    </tr>\n",
       "  </thead>\n",
       "  <tbody>\n",
       "    <tr>\n",
       "      <th>0</th>\n",
       "      <td>AI00001</td>\n",
       "      <td>AI Research Scientist</td>\n",
       "      <td>90376</td>\n",
       "      <td>USD</td>\n",
       "      <td>SE</td>\n",
       "      <td>CT</td>\n",
       "      <td>China</td>\n",
       "      <td>M</td>\n",
       "      <td>China</td>\n",
       "      <td>50</td>\n",
       "      <td>Tableau, PyTorch, Kubernetes, Linux, NLP</td>\n",
       "      <td>Bachelor</td>\n",
       "      <td>9</td>\n",
       "      <td>Automotive</td>\n",
       "      <td>2024-10-18</td>\n",
       "      <td>2024-11-07</td>\n",
       "      <td>1076</td>\n",
       "      <td>5.9</td>\n",
       "      <td>Smart Analytics</td>\n",
       "    </tr>\n",
       "    <tr>\n",
       "      <th>1</th>\n",
       "      <td>AI00002</td>\n",
       "      <td>AI Software Engineer</td>\n",
       "      <td>61895</td>\n",
       "      <td>USD</td>\n",
       "      <td>EN</td>\n",
       "      <td>CT</td>\n",
       "      <td>Canada</td>\n",
       "      <td>M</td>\n",
       "      <td>Ireland</td>\n",
       "      <td>100</td>\n",
       "      <td>Deep Learning, AWS, Mathematics, Python, Docker</td>\n",
       "      <td>Master</td>\n",
       "      <td>1</td>\n",
       "      <td>Media</td>\n",
       "      <td>2024-11-20</td>\n",
       "      <td>2025-01-11</td>\n",
       "      <td>1268</td>\n",
       "      <td>5.2</td>\n",
       "      <td>TechCorp Inc</td>\n",
       "    </tr>\n",
       "    <tr>\n",
       "      <th>2</th>\n",
       "      <td>AI00003</td>\n",
       "      <td>AI Specialist</td>\n",
       "      <td>152626</td>\n",
       "      <td>USD</td>\n",
       "      <td>MI</td>\n",
       "      <td>FL</td>\n",
       "      <td>Switzerland</td>\n",
       "      <td>L</td>\n",
       "      <td>South Korea</td>\n",
       "      <td>0</td>\n",
       "      <td>Kubernetes, Deep Learning, Java, Hadoop, NLP</td>\n",
       "      <td>Associate</td>\n",
       "      <td>2</td>\n",
       "      <td>Education</td>\n",
       "      <td>2025-03-18</td>\n",
       "      <td>2025-04-07</td>\n",
       "      <td>1974</td>\n",
       "      <td>9.4</td>\n",
       "      <td>Autonomous Tech</td>\n",
       "    </tr>\n",
       "    <tr>\n",
       "      <th>3</th>\n",
       "      <td>AI00004</td>\n",
       "      <td>NLP Engineer</td>\n",
       "      <td>80215</td>\n",
       "      <td>USD</td>\n",
       "      <td>SE</td>\n",
       "      <td>FL</td>\n",
       "      <td>India</td>\n",
       "      <td>M</td>\n",
       "      <td>India</td>\n",
       "      <td>50</td>\n",
       "      <td>Scala, SQL, Linux, Python</td>\n",
       "      <td>PhD</td>\n",
       "      <td>7</td>\n",
       "      <td>Consulting</td>\n",
       "      <td>2024-12-23</td>\n",
       "      <td>2025-02-24</td>\n",
       "      <td>1345</td>\n",
       "      <td>8.6</td>\n",
       "      <td>Future Systems</td>\n",
       "    </tr>\n",
       "    <tr>\n",
       "      <th>4</th>\n",
       "      <td>AI00005</td>\n",
       "      <td>AI Consultant</td>\n",
       "      <td>54624</td>\n",
       "      <td>EUR</td>\n",
       "      <td>EN</td>\n",
       "      <td>PT</td>\n",
       "      <td>France</td>\n",
       "      <td>S</td>\n",
       "      <td>Singapore</td>\n",
       "      <td>100</td>\n",
       "      <td>MLOps, Java, Tableau, Python</td>\n",
       "      <td>Master</td>\n",
       "      <td>0</td>\n",
       "      <td>Media</td>\n",
       "      <td>2025-04-15</td>\n",
       "      <td>2025-06-23</td>\n",
       "      <td>1989</td>\n",
       "      <td>6.6</td>\n",
       "      <td>Advanced Robotics</td>\n",
       "    </tr>\n",
       "  </tbody>\n",
       "</table>\n",
       "</div>"
      ],
      "text/plain": [
       "    job_id              job_title  salary_usd salary_currency  \\\n",
       "0  AI00001  AI Research Scientist       90376             USD   \n",
       "1  AI00002   AI Software Engineer       61895             USD   \n",
       "2  AI00003          AI Specialist      152626             USD   \n",
       "3  AI00004           NLP Engineer       80215             USD   \n",
       "4  AI00005          AI Consultant       54624             EUR   \n",
       "\n",
       "  experience_level employment_type company_location company_size  \\\n",
       "0               SE              CT            China            M   \n",
       "1               EN              CT           Canada            M   \n",
       "2               MI              FL      Switzerland            L   \n",
       "3               SE              FL            India            M   \n",
       "4               EN              PT           France            S   \n",
       "\n",
       "  employee_residence  remote_ratio  \\\n",
       "0              China            50   \n",
       "1            Ireland           100   \n",
       "2        South Korea             0   \n",
       "3              India            50   \n",
       "4          Singapore           100   \n",
       "\n",
       "                                   required_skills education_required  \\\n",
       "0         Tableau, PyTorch, Kubernetes, Linux, NLP           Bachelor   \n",
       "1  Deep Learning, AWS, Mathematics, Python, Docker             Master   \n",
       "2     Kubernetes, Deep Learning, Java, Hadoop, NLP          Associate   \n",
       "3                        Scala, SQL, Linux, Python                PhD   \n",
       "4                     MLOps, Java, Tableau, Python             Master   \n",
       "\n",
       "   years_experience    industry posting_date application_deadline  \\\n",
       "0                 9  Automotive   2024-10-18           2024-11-07   \n",
       "1                 1       Media   2024-11-20           2025-01-11   \n",
       "2                 2   Education   2025-03-18           2025-04-07   \n",
       "3                 7  Consulting   2024-12-23           2025-02-24   \n",
       "4                 0       Media   2025-04-15           2025-06-23   \n",
       "\n",
       "   job_description_length  benefits_score       company_name  \n",
       "0                    1076             5.9    Smart Analytics  \n",
       "1                    1268             5.2       TechCorp Inc  \n",
       "2                    1974             9.4    Autonomous Tech  \n",
       "3                    1345             8.6     Future Systems  \n",
       "4                    1989             6.6  Advanced Robotics  "
      ]
     },
     "execution_count": 74,
     "metadata": {},
     "output_type": "execute_result"
    }
   ],
   "source": [
    "ai_job.head()"
   ]
  },
  {
   "cell_type": "code",
   "execution_count": 14,
   "id": "44ddd25e-1abf-4e02-820b-ef37a225eab2",
   "metadata": {},
   "outputs": [
    {
     "data": {
      "text/plain": [
       "(15000, 19)"
      ]
     },
     "execution_count": 14,
     "metadata": {},
     "output_type": "execute_result"
    }
   ],
   "source": [
    "ai_job.shape"
   ]
  },
  {
   "cell_type": "code",
   "execution_count": 13,
   "id": "e950a322-c1b9-4b10-a3cb-8f065f9c9658",
   "metadata": {},
   "outputs": [
    {
     "data": {
      "text/plain": [
       "False    15000\n",
       "Name: count, dtype: int64"
      ]
     },
     "execution_count": 13,
     "metadata": {},
     "output_type": "execute_result"
    }
   ],
   "source": [
    "ai_job.duplicated().value_counts()"
   ]
  },
  {
   "cell_type": "code",
   "execution_count": 89,
   "id": "72ded5a3-7614-4a8c-a2f9-bef3ac7a3286",
   "metadata": {},
   "outputs": [
    {
     "data": {
      "text/plain": [
       "Index(['job_id', 'job_title', 'salary_usd', 'salary_currency',\n",
       "       'experience_level', 'employment_type', 'company_location',\n",
       "       'company_size', 'employee_residence', 'remote_ratio', 'required_skills',\n",
       "       'education_required', 'years_experience', 'industry', 'posting_date',\n",
       "       'application_deadline', 'job_description_length', 'benefits_score',\n",
       "       'company_name'],\n",
       "      dtype='object')"
      ]
     },
     "execution_count": 89,
     "metadata": {},
     "output_type": "execute_result"
    }
   ],
   "source": [
    "ai_job.columns"
   ]
  },
  {
   "cell_type": "code",
   "execution_count": 17,
   "id": "a7c1edb9-1ff1-47ca-88bf-e11860636b41",
   "metadata": {},
   "outputs": [
    {
     "name": "stdout",
     "output_type": "stream",
     "text": [
      "<class 'pandas.core.frame.DataFrame'>\n",
      "RangeIndex: 15000 entries, 0 to 14999\n",
      "Data columns (total 19 columns):\n",
      " #   Column                  Non-Null Count  Dtype  \n",
      "---  ------                  --------------  -----  \n",
      " 0   job_id                  15000 non-null  object \n",
      " 1   job_title               15000 non-null  object \n",
      " 2   salary_usd              15000 non-null  int64  \n",
      " 3   salary_currency         15000 non-null  object \n",
      " 4   experience_level        15000 non-null  object \n",
      " 5   employment_type         15000 non-null  object \n",
      " 6   company_location        15000 non-null  object \n",
      " 7   company_size            15000 non-null  object \n",
      " 8   employee_residence      15000 non-null  object \n",
      " 9   remote_ratio            15000 non-null  int64  \n",
      " 10  required_skills         15000 non-null  object \n",
      " 11  education_required      15000 non-null  object \n",
      " 12  years_experience        15000 non-null  int64  \n",
      " 13  industry                15000 non-null  object \n",
      " 14  posting_date            15000 non-null  object \n",
      " 15  application_deadline    15000 non-null  object \n",
      " 16  job_description_length  15000 non-null  int64  \n",
      " 17  benefits_score          15000 non-null  float64\n",
      " 18  company_name            15000 non-null  object \n",
      "dtypes: float64(1), int64(4), object(14)\n",
      "memory usage: 2.2+ MB\n"
     ]
    }
   ],
   "source": [
    "ai_job.info()"
   ]
  },
  {
   "cell_type": "code",
   "execution_count": 18,
   "id": "8f0c2e1b-a0ce-4966-9137-a17f9773054f",
   "metadata": {},
   "outputs": [
    {
     "data": {
      "text/html": [
       "<div>\n",
       "<style scoped>\n",
       "    .dataframe tbody tr th:only-of-type {\n",
       "        vertical-align: middle;\n",
       "    }\n",
       "\n",
       "    .dataframe tbody tr th {\n",
       "        vertical-align: top;\n",
       "    }\n",
       "\n",
       "    .dataframe thead th {\n",
       "        text-align: right;\n",
       "    }\n",
       "</style>\n",
       "<table border=\"1\" class=\"dataframe\">\n",
       "  <thead>\n",
       "    <tr style=\"text-align: right;\">\n",
       "      <th></th>\n",
       "      <th>salary_usd</th>\n",
       "      <th>remote_ratio</th>\n",
       "      <th>years_experience</th>\n",
       "      <th>job_description_length</th>\n",
       "      <th>benefits_score</th>\n",
       "    </tr>\n",
       "  </thead>\n",
       "  <tbody>\n",
       "    <tr>\n",
       "      <th>count</th>\n",
       "      <td>15000.000000</td>\n",
       "      <td>15000.000000</td>\n",
       "      <td>15000.000000</td>\n",
       "      <td>15000.000000</td>\n",
       "      <td>15000.000000</td>\n",
       "    </tr>\n",
       "    <tr>\n",
       "      <th>mean</th>\n",
       "      <td>115348.965133</td>\n",
       "      <td>49.483333</td>\n",
       "      <td>6.253200</td>\n",
       "      <td>1503.314733</td>\n",
       "      <td>7.504273</td>\n",
       "    </tr>\n",
       "    <tr>\n",
       "      <th>std</th>\n",
       "      <td>60260.940438</td>\n",
       "      <td>40.812712</td>\n",
       "      <td>5.545768</td>\n",
       "      <td>576.127083</td>\n",
       "      <td>1.450870</td>\n",
       "    </tr>\n",
       "    <tr>\n",
       "      <th>min</th>\n",
       "      <td>32519.000000</td>\n",
       "      <td>0.000000</td>\n",
       "      <td>0.000000</td>\n",
       "      <td>500.000000</td>\n",
       "      <td>5.000000</td>\n",
       "    </tr>\n",
       "    <tr>\n",
       "      <th>25%</th>\n",
       "      <td>70179.750000</td>\n",
       "      <td>0.000000</td>\n",
       "      <td>2.000000</td>\n",
       "      <td>1003.750000</td>\n",
       "      <td>6.200000</td>\n",
       "    </tr>\n",
       "    <tr>\n",
       "      <th>50%</th>\n",
       "      <td>99705.000000</td>\n",
       "      <td>50.000000</td>\n",
       "      <td>5.000000</td>\n",
       "      <td>1512.000000</td>\n",
       "      <td>7.500000</td>\n",
       "    </tr>\n",
       "    <tr>\n",
       "      <th>75%</th>\n",
       "      <td>146408.500000</td>\n",
       "      <td>100.000000</td>\n",
       "      <td>10.000000</td>\n",
       "      <td>2000.000000</td>\n",
       "      <td>8.800000</td>\n",
       "    </tr>\n",
       "    <tr>\n",
       "      <th>max</th>\n",
       "      <td>399095.000000</td>\n",
       "      <td>100.000000</td>\n",
       "      <td>19.000000</td>\n",
       "      <td>2499.000000</td>\n",
       "      <td>10.000000</td>\n",
       "    </tr>\n",
       "  </tbody>\n",
       "</table>\n",
       "</div>"
      ],
      "text/plain": [
       "          salary_usd  remote_ratio  years_experience  job_description_length  \\\n",
       "count   15000.000000  15000.000000      15000.000000            15000.000000   \n",
       "mean   115348.965133     49.483333          6.253200             1503.314733   \n",
       "std     60260.940438     40.812712          5.545768              576.127083   \n",
       "min     32519.000000      0.000000          0.000000              500.000000   \n",
       "25%     70179.750000      0.000000          2.000000             1003.750000   \n",
       "50%     99705.000000     50.000000          5.000000             1512.000000   \n",
       "75%    146408.500000    100.000000         10.000000             2000.000000   \n",
       "max    399095.000000    100.000000         19.000000             2499.000000   \n",
       "\n",
       "       benefits_score  \n",
       "count    15000.000000  \n",
       "mean         7.504273  \n",
       "std          1.450870  \n",
       "min          5.000000  \n",
       "25%          6.200000  \n",
       "50%          7.500000  \n",
       "75%          8.800000  \n",
       "max         10.000000  "
      ]
     },
     "execution_count": 18,
     "metadata": {},
     "output_type": "execute_result"
    }
   ],
   "source": [
    "ai_job.describe()"
   ]
  },
  {
   "cell_type": "code",
   "execution_count": 31,
   "id": "b5549a5b-5184-42f0-b8f2-0f960c44c3d3",
   "metadata": {},
   "outputs": [
    {
     "data": {
      "text/plain": [
       "20"
      ]
     },
     "execution_count": 31,
     "metadata": {},
     "output_type": "execute_result"
    }
   ],
   "source": [
    "ai_job['company_location'].nunique()"
   ]
  },
  {
   "cell_type": "code",
   "execution_count": 10,
   "id": "28493d9a-707b-46f6-8f58-821f28da00fb",
   "metadata": {},
   "outputs": [],
   "source": [
    "import seaborn as sns\n",
    "import matplotlib.pyplot as plt \n",
    "import matplotlib.cm\n",
    "import calendar"
   ]
  },
  {
   "cell_type": "code",
   "execution_count": 163,
   "id": "0ee9cc88-84e3-47e2-8dce-99bf312fe6ea",
   "metadata": {},
   "outputs": [
    {
     "data": {
      "text/plain": [
       "20"
      ]
     },
     "execution_count": 163,
     "metadata": {},
     "output_type": "execute_result"
    }
   ],
   "source": [
    "ai_job['job_title'].nunique()"
   ]
  },
  {
   "cell_type": "code",
   "execution_count": 120,
   "id": "03d97fba-ae38-467f-857f-a3a2d65d80e4",
   "metadata": {},
   "outputs": [
    {
     "data": {
      "text/plain": [
       "486"
      ]
     },
     "execution_count": 120,
     "metadata": {},
     "output_type": "execute_result"
    }
   ],
   "source": [
    "ai_job['posting_date'].nunique()"
   ]
  },
  {
   "cell_type": "code",
   "execution_count": null,
   "id": "9ac66107-fbbc-4b07-b91d-7a9c92321581",
   "metadata": {},
   "outputs": [],
   "source": [
    "# Time of the year with more job postings."
   ]
  },
  {
   "cell_type": "code",
   "execution_count": null,
   "id": "9c9aa27b-3103-4f70-bb59-0de3374c2a09",
   "metadata": {},
   "outputs": [],
   "source": [
    "# posting_date\t\n",
    "# job title\n"
   ]
  },
  {
   "cell_type": "code",
   "execution_count": 134,
   "id": "04725f01-a4a9-4f4c-a835-d7029964333d",
   "metadata": {},
   "outputs": [
    {
     "data": {
      "text/plain": [
       "job_title\n",
       "Machine Learning Researcher    808\n",
       "AI Software Engineer           784\n",
       "Autonomous Systems Engineer    777\n",
       "Machine Learning Engineer      772\n",
       "AI Architect                   771\n",
       "Head of AI                     765\n",
       "NLP Engineer                   762\n",
       "Robotics Engineer              759\n",
       "Data Analyst                   759\n",
       "AI Research Scientist          756\n",
       "Data Engineer                  749\n",
       "AI Product Manager             743\n",
       "Research Scientist             742\n",
       "Principal Data Scientist       734\n",
       "AI Specialist                  728\n",
       "ML Ops Engineer                725\n",
       "Computer Vision Engineer       724\n",
       "Data Scientist                 720\n",
       "Deep Learning Engineer         718\n",
       "AI Consultant                  704\n",
       "Name: count, dtype: int64"
      ]
     },
     "execution_count": 134,
     "metadata": {},
     "output_type": "execute_result"
    }
   ],
   "source": [
    "ai_job['job_title'].value_counts()"
   ]
  },
  {
   "cell_type": "code",
   "execution_count": 19,
   "id": "758bcc78-a7f3-472a-98b1-75bfcaf124af",
   "metadata": {},
   "outputs": [],
   "source": [
    "ai_job['month'] = ai_job['posting_date'].str[5:7].astype(int)"
   ]
  },
  {
   "cell_type": "code",
   "execution_count": 20,
   "id": "39fc134a-0da2-4d68-bbfa-786a3a09dffd",
   "metadata": {},
   "outputs": [],
   "source": [
    "ai_job['month_name'] = ai_job['month'].apply(lambda x: calendar.month_name[x])"
   ]
  },
  {
   "cell_type": "code",
   "execution_count": 21,
   "id": "9a57e0b7-f9a4-4f82-9b4d-48cadf815bc6",
   "metadata": {},
   "outputs": [],
   "source": [
    "count_date_title = ai_job.groupby('month')['job_title'].count().reset_index()\n",
    "count_date_title.rename(columns={'job_title': 'count'}, inplace=True)"
   ]
  },
  {
   "cell_type": "code",
   "execution_count": 23,
   "id": "55875dd5-21ea-4245-af0d-b34aad000f64",
   "metadata": {},
   "outputs": [],
   "source": [
    "count_date_title['month_name'] = count_date_title['month'].apply(lambda x: calendar.month_name[x])\n"
   ]
  },
  {
   "cell_type": "code",
   "execution_count": 24,
   "id": "839f8645-97ac-4d89-b598-0f43c377bf30",
   "metadata": {},
   "outputs": [],
   "source": [
    "month_order = list(calendar.month_name)[1:]\n",
    "count_date_title['month_name'] = pd.Categorical(count_date_title['month_name'], categories=month_order, ordered=True)\n",
    "count_date_title = count_date_title.sort_values('month_name')"
   ]
  },
  {
   "cell_type": "code",
   "execution_count": 28,
   "id": "8ac74deb-c2ed-4cd6-be0c-5cd6d6b203ce",
   "metadata": {},
   "outputs": [
    {
     "name": "stderr",
     "output_type": "stream",
     "text": [
      "C:\\Users\\User\\AppData\\Local\\Temp\\ipykernel_6780\\2359003666.py:1: FutureWarning: \n",
      "\n",
      "Passing `palette` without assigning `hue` is deprecated and will be removed in v0.14.0. Assign the `x` variable to `hue` and set `legend=False` for the same effect.\n",
      "\n",
      "  sns.barplot(x='month_name', y='count', data=count_date_title,width=0.6,palette='viridis')\n"
     ]
    },
    {
     "data": {
      "image/png": "[encoded data removed]",
      "text/plain": [
       "<Figure size 640x480 with 1 Axes>"
      ]
     },
     "metadata": {},
     "output_type": "display_data"
    }
   ],
   "source": [
    "sns.barplot(x='month_name', y='count', data=count_date_title,width=0.6,palette='viridis')\n",
    "plt.xlabel('Month')\n",
    "plt.ylabel('Number of Jobs Offers')\n",
    "plt.title('Count of Job offers by month')\n",
    "plt.xticks(rotation=45, ha='right')\n",
    "plt.tight_layout()\n",
    "plt.show()"
   ]
  },
  {
   "cell_type": "code",
   "execution_count": 180,
   "id": "a5cd25fb-8556-4e29-a24c-db09ebb26ef5",
   "metadata": {},
   "outputs": [],
   "source": [
    "data_analyst = ai_job[ai_job['job_title'] == 'Data Analyst']"
   ]
  },
  {
   "cell_type": "code",
   "execution_count": 183,
   "id": "44ea53b1-beeb-4934-b626-1711c4873d28",
   "metadata": {},
   "outputs": [],
   "source": [
    "count_title_date = data_analyst.groupby('month')['job_title'].value_counts().reset_index()"
   ]
  },
  {
   "cell_type": "code",
   "execution_count": 197,
   "id": "9ad7e6a4-b177-4a4a-8a15-645e100e0c14",
   "metadata": {},
   "outputs": [
    {
     "data": {
      "image/png": "[encoded data removed]",
      "text/plain": [
       "<Figure size 640x480 with 1 Axes>"
      ]
     },
     "metadata": {},
     "output_type": "display_data"
    }
   ],
   "source": [
    "sns.barplot(x='month', y='count',hue='job_title', data=count_title_date,width=0.6,palette='viridis')\n",
    "plt.title('Count of data analyst jobs by month')\n",
    "plt.xticks(rotation=45, ha='right')\n",
    "plt.tight_layout()\n",
    "plt.show()"
   ]
  },
  {
   "cell_type": "code",
   "execution_count": 208,
   "id": "6b65454a-691e-4710-9df0-b07512b78181",
   "metadata": {},
   "outputs": [],
   "source": [
    "count_title = [ai_job['job_title'].value_counts()]"
   ]
  },
  {
   "cell_type": "code",
   "execution_count": 209,
   "id": "ef4ff829-d364-4d0f-87ba-0a28b9cbf8b5",
   "metadata": {},
   "outputs": [
    {
     "data": {
      "text/plain": [
       "[job_title\n",
       " Machine Learning Researcher    808\n",
       " AI Software Engineer           784\n",
       " Autonomous Systems Engineer    777\n",
       " Machine Learning Engineer      772\n",
       " AI Architect                   771\n",
       " Head of AI                     765\n",
       " NLP Engineer                   762\n",
       " Robotics Engineer              759\n",
       " Data Analyst                   759\n",
       " AI Research Scientist          756\n",
       " Data Engineer                  749\n",
       " AI Product Manager             743\n",
       " Research Scientist             742\n",
       " Principal Data Scientist       734\n",
       " AI Specialist                  728\n",
       " ML Ops Engineer                725\n",
       " Computer Vision Engineer       724\n",
       " Data Scientist                 720\n",
       " Deep Learning Engineer         718\n",
       " AI Consultant                  704\n",
       " Name: count, dtype: int64]"
      ]
     },
     "execution_count": 209,
     "metadata": {},
     "output_type": "execute_result"
    }
   ],
   "source": [
    "count_title"
   ]
  },
  {
   "cell_type": "code",
   "execution_count": 15,
   "id": "a98d7496-fe2c-4445-a0af-b22936f09db5",
   "metadata": {},
   "outputs": [],
   "source": [
    "count_date_id = ai_job.groupby('month')['job_id'].count().reset_index()"
   ]
  },
  {
   "cell_type": "code",
   "execution_count": 16,
   "id": "37bccb98-713f-41c5-8890-5521e7865f22",
   "metadata": {},
   "outputs": [
    {
     "data": {
      "image/png": "[encoded data removed]",
      "text/plain": [
       "<Figure size 640x480 with 1 Axes>"
      ]
     },
     "metadata": {},
     "output_type": "display_data"
    }
   ],
   "source": [
    "sns.barplot(x='job_id', y='month',hue='month', data=count_date_id,width=0.6,palette='viridis')\n",
    "plt.title('Count of job_title by month')\n",
    "plt.xticks(rotation=45, ha='right')\n",
    "plt.tight_layout()\n",
    "plt.show()"
   ]
  },
  {
   "cell_type": "code",
   "execution_count": 66,
   "id": "6c9cacc6-d4c8-4789-bfc9-06c63c4b8d2c",
   "metadata": {},
   "outputs": [
    {
     "data": {
      "text/plain": [
       "15"
      ]
     },
     "execution_count": 66,
     "metadata": {},
     "output_type": "execute_result"
    }
   ],
   "source": [
    "ai_job['industry'].nunique()"
   ]
  },
  {
   "cell_type": "code",
   "execution_count": 67,
   "id": "b07a5fda-da9c-4948-810c-9f2aff4237a3",
   "metadata": {},
   "outputs": [],
   "source": [
    "mean_industry_benefit = ai_job.groupby('industry')['benefits_score'].mean().reset_index()"
   ]
  },
  {
   "cell_type": "code",
   "execution_count": 213,
   "id": "e7bab33c-49a6-4dc2-b27a-bfc92cf35261",
   "metadata": {},
   "outputs": [
    {
     "ename": "ValueError",
     "evalue": "Invalid frequency: month, failed to parse with error message: ValueError(\"Invalid frequency: MONTH, failed to parse with error message: KeyError('MONTH')\")",
     "output_type": "error",
     "traceback": [
      "\u001b[31m---------------------------------------------------------------------------\u001b[39m",
      "\u001b[31mKeyError\u001b[39m                                  Traceback (most recent call last)",
      "\u001b[36mFile \u001b[39m\u001b[32mpandas/_libs/tslibs/offsets.pyx:4776\u001b[39m, in \u001b[36mpandas._libs.tslibs.offsets._get_offset\u001b[39m\u001b[34m()\u001b[39m\n",
      "\u001b[31mKeyError\u001b[39m: 'MONTH'",
      "\nDuring handling of the above exception, another exception occurred:\n",
      "\u001b[31mValueError\u001b[39m                                Traceback (most recent call last)",
      "\u001b[36mFile \u001b[39m\u001b[32mpandas/_libs/tslibs/offsets.pyx:4946\u001b[39m, in \u001b[36mpandas._libs.tslibs.offsets.to_offset\u001b[39m\u001b[34m()\u001b[39m\n",
      "\u001b[36mFile \u001b[39m\u001b[32mpandas/_libs/tslibs/offsets.pyx:4782\u001b[39m, in \u001b[36mpandas._libs.tslibs.offsets._get_offset\u001b[39m\u001b[34m()\u001b[39m\n",
      "\u001b[31mValueError\u001b[39m: Invalid frequency: MONTH, failed to parse with error message: KeyError('MONTH')",
      "\nDuring handling of the above exception, another exception occurred:\n",
      "\u001b[31mValueError\u001b[39m                                Traceback (most recent call last)",
      "\u001b[36mCell\u001b[39m\u001b[36m \u001b[39m\u001b[32mIn[213]\u001b[39m\u001b[32m, line 1\u001b[39m\n\u001b[32m----> \u001b[39m\u001b[32m1\u001b[39m monthly_postings = \u001b[43mai_job\u001b[49m\u001b[43m.\u001b[49m\u001b[43mresample\u001b[49m\u001b[43m(\u001b[49m\u001b[33;43m'\u001b[39;49m\u001b[33;43mmonth\u001b[39;49m\u001b[33;43m'\u001b[39;49m\u001b[43m,\u001b[49m\u001b[43m \u001b[49m\u001b[43mon\u001b[49m\u001b[43m=\u001b[49m\u001b[33;43m'\u001b[39;49m\u001b[33;43mposting_date\u001b[39;49m\u001b[33;43m'\u001b[39;49m\u001b[43m)\u001b[49m[\u001b[33m'\u001b[39m\u001b[33mjob_id\u001b[39m\u001b[33m'\u001b[39m].count()\n\u001b[32m      2\u001b[39m monthly_postings.plot()\n\u001b[32m      3\u001b[39m plt.title(\u001b[33m'\u001b[39m\u001b[33mJob Postings Over Time\u001b[39m\u001b[33m'\u001b[39m)\n",
      "\u001b[36mFile \u001b[39m\u001b[32m~\\Desktop\\Ironhack\\Week_4\\Project\\first_project\\.venv\\Lib\\site-packages\\pandas\\core\\generic.py:9790\u001b[39m, in \u001b[36mNDFrame.resample\u001b[39m\u001b[34m(self, rule, axis, closed, label, convention, kind, on, level, origin, offset, group_keys)\u001b[39m\n\u001b[32m   9787\u001b[39m \u001b[38;5;28;01melse\u001b[39;00m:\n\u001b[32m   9788\u001b[39m     convention = \u001b[33m\"\u001b[39m\u001b[33mstart\u001b[39m\u001b[33m\"\u001b[39m\n\u001b[32m-> \u001b[39m\u001b[32m9790\u001b[39m \u001b[38;5;28;01mreturn\u001b[39;00m \u001b[43mget_resampler\u001b[49m\u001b[43m(\u001b[49m\n\u001b[32m   9791\u001b[39m \u001b[43m    \u001b[49m\u001b[43mcast\u001b[49m\u001b[43m(\u001b[49m\u001b[33;43m\"\u001b[39;49m\u001b[33;43mSeries | DataFrame\u001b[39;49m\u001b[33;43m\"\u001b[39;49m\u001b[43m,\u001b[49m\u001b[43m \u001b[49m\u001b[38;5;28;43mself\u001b[39;49m\u001b[43m)\u001b[49m\u001b[43m,\u001b[49m\n\u001b[32m   9792\u001b[39m \u001b[43m    \u001b[49m\u001b[43mfreq\u001b[49m\u001b[43m=\u001b[49m\u001b[43mrule\u001b[49m\u001b[43m,\u001b[49m\n\u001b[32m   9793\u001b[39m \u001b[43m    \u001b[49m\u001b[43mlabel\u001b[49m\u001b[43m=\u001b[49m\u001b[43mlabel\u001b[49m\u001b[43m,\u001b[49m\n\u001b[32m   9794\u001b[39m \u001b[43m    \u001b[49m\u001b[43mclosed\u001b[49m\u001b[43m=\u001b[49m\u001b[43mclosed\u001b[49m\u001b[43m,\u001b[49m\n\u001b[32m   9795\u001b[39m \u001b[43m    \u001b[49m\u001b[43maxis\u001b[49m\u001b[43m=\u001b[49m\u001b[43maxis\u001b[49m\u001b[43m,\u001b[49m\n\u001b[32m   9796\u001b[39m \u001b[43m    \u001b[49m\u001b[43mkind\u001b[49m\u001b[43m=\u001b[49m\u001b[43mkind\u001b[49m\u001b[43m,\u001b[49m\n\u001b[32m   9797\u001b[39m \u001b[43m    \u001b[49m\u001b[43mconvention\u001b[49m\u001b[43m=\u001b[49m\u001b[43mconvention\u001b[49m\u001b[43m,\u001b[49m\n\u001b[32m   9798\u001b[39m \u001b[43m    \u001b[49m\u001b[43mkey\u001b[49m\u001b[43m=\u001b[49m\u001b[43mon\u001b[49m\u001b[43m,\u001b[49m\n\u001b[32m   9799\u001b[39m \u001b[43m    \u001b[49m\u001b[43mlevel\u001b[49m\u001b[43m=\u001b[49m\u001b[43mlevel\u001b[49m\u001b[43m,\u001b[49m\n\u001b[32m   9800\u001b[39m \u001b[43m    \u001b[49m\u001b[43morigin\u001b[49m\u001b[43m=\u001b[49m\u001b[43morigin\u001b[49m\u001b[43m,\u001b[49m\n\u001b[32m   9801\u001b[39m \u001b[43m    \u001b[49m\u001b[43moffset\u001b[49m\u001b[43m=\u001b[49m\u001b[43moffset\u001b[49m\u001b[43m,\u001b[49m\n\u001b[32m   9802\u001b[39m \u001b[43m    \u001b[49m\u001b[43mgroup_keys\u001b[49m\u001b[43m=\u001b[49m\u001b[43mgroup_keys\u001b[49m\u001b[43m,\u001b[49m\n\u001b[32m   9803\u001b[39m \u001b[43m\u001b[49m\u001b[43m)\u001b[49m\n",
      "\u001b[36mFile \u001b[39m\u001b[32m~\\Desktop\\Ironhack\\Week_4\\Project\\first_project\\.venv\\Lib\\site-packages\\pandas\\core\\resample.py:2049\u001b[39m, in \u001b[36mget_resampler\u001b[39m\u001b[34m(obj, kind, **kwds)\u001b[39m\n\u001b[32m   2045\u001b[39m \u001b[38;5;28;01mdef\u001b[39;00m\u001b[38;5;250m \u001b[39m\u001b[34mget_resampler\u001b[39m(obj: Series | DataFrame, kind=\u001b[38;5;28;01mNone\u001b[39;00m, **kwds) -> Resampler:\n\u001b[32m   2046\u001b[39m \u001b[38;5;250m    \u001b[39m\u001b[33;03m\"\"\"\u001b[39;00m\n\u001b[32m   2047\u001b[39m \u001b[33;03m    Create a TimeGrouper and return our resampler.\u001b[39;00m\n\u001b[32m   2048\u001b[39m \u001b[33;03m    \"\"\"\u001b[39;00m\n\u001b[32m-> \u001b[39m\u001b[32m2049\u001b[39m     tg = \u001b[43mTimeGrouper\u001b[49m\u001b[43m(\u001b[49m\u001b[43mobj\u001b[49m\u001b[43m,\u001b[49m\u001b[43m \u001b[49m\u001b[43m*\u001b[49m\u001b[43m*\u001b[49m\u001b[43mkwds\u001b[49m\u001b[43m)\u001b[49m  \u001b[38;5;66;03m# type: ignore[arg-type]\u001b[39;00m\n\u001b[32m   2050\u001b[39m     \u001b[38;5;28;01mreturn\u001b[39;00m tg._get_resampler(obj, kind=kind)\n",
      "\u001b[36mFile \u001b[39m\u001b[32m~\\Desktop\\Ironhack\\Week_4\\Project\\first_project\\.venv\\Lib\\site-packages\\pandas\\core\\resample.py:2143\u001b[39m, in \u001b[36mTimeGrouper.__init__\u001b[39m\u001b[34m(self, obj, freq, key, closed, label, how, axis, fill_method, limit, kind, convention, origin, offset, group_keys, **kwargs)\u001b[39m\n\u001b[32m   2141\u001b[39m     freq = to_offset(freq, is_period=\u001b[38;5;28;01mTrue\u001b[39;00m)\n\u001b[32m   2142\u001b[39m \u001b[38;5;28;01melse\u001b[39;00m:\n\u001b[32m-> \u001b[39m\u001b[32m2143\u001b[39m     freq = \u001b[43mto_offset\u001b[49m\u001b[43m(\u001b[49m\u001b[43mfreq\u001b[49m\u001b[43m)\u001b[49m\n\u001b[32m   2145\u001b[39m end_types = {\u001b[33m\"\u001b[39m\u001b[33mME\u001b[39m\u001b[33m\"\u001b[39m, \u001b[33m\"\u001b[39m\u001b[33mYE\u001b[39m\u001b[33m\"\u001b[39m, \u001b[33m\"\u001b[39m\u001b[33mQE\u001b[39m\u001b[33m\"\u001b[39m, \u001b[33m\"\u001b[39m\u001b[33mBME\u001b[39m\u001b[33m\"\u001b[39m, \u001b[33m\"\u001b[39m\u001b[33mBYE\u001b[39m\u001b[33m\"\u001b[39m, \u001b[33m\"\u001b[39m\u001b[33mBQE\u001b[39m\u001b[33m\"\u001b[39m, \u001b[33m\"\u001b[39m\u001b[33mW\u001b[39m\u001b[33m\"\u001b[39m}\n\u001b[32m   2146\u001b[39m rule = freq.rule_code\n",
      "\u001b[36mFile \u001b[39m\u001b[32mpandas/_libs/tslibs/offsets.pyx:4791\u001b[39m, in \u001b[36mpandas._libs.tslibs.offsets.to_offset\u001b[39m\u001b[34m()\u001b[39m\n",
      "\u001b[36mFile \u001b[39m\u001b[32mpandas/_libs/tslibs/offsets.pyx:4954\u001b[39m, in \u001b[36mpandas._libs.tslibs.offsets.to_offset\u001b[39m\u001b[34m()\u001b[39m\n",
      "\u001b[31mValueError\u001b[39m: Invalid frequency: month, failed to parse with error message: ValueError(\"Invalid frequency: MONTH, failed to parse with error message: KeyError('MONTH')\")"
     ]
    }
   ],
   "source": [
    "monthly_postings = ai_job.resample('month', on='posting_date')['job_id'].count()\n",
    "monthly_postings.plot()\n",
    "plt.title('Job Postings Over Time')\n",
    "plt.xlabel('Month')\n",
    "plt.ylabel('Number of Jobs Posted')\n",
    "plt.grid(True)\n",
    "plt.show()"
   ]
  },
  {
   "cell_type": "code",
   "execution_count": 58,
   "id": "d7db8e95-bb3d-44f8-bb6f-945a8f549596",
   "metadata": {},
   "outputs": [],
   "source": [
    "ai_consultant = ai_job[ai_job['job_title'] == 'AI Consultant']"
   ]
  },
  {
   "cell_type": "code",
   "execution_count": 59,
   "id": "09386a19-c93a-404f-bc22-e1d57f75ff60",
   "metadata": {},
   "outputs": [
    {
     "data": {
      "text/html": [
       "<div>\n",
       "<style scoped>\n",
       "    .dataframe tbody tr th:only-of-type {\n",
       "        vertical-align: middle;\n",
       "    }\n",
       "\n",
       "    .dataframe tbody tr th {\n",
       "        vertical-align: top;\n",
       "    }\n",
       "\n",
       "    .dataframe thead th {\n",
       "        text-align: right;\n",
       "    }\n",
       "</style>\n",
       "<table border=\"1\" class=\"dataframe\">\n",
       "  <thead>\n",
       "    <tr style=\"text-align: right;\">\n",
       "      <th></th>\n",
       "      <th>job_id</th>\n",
       "      <th>job_title</th>\n",
       "      <th>salary_usd</th>\n",
       "      <th>salary_currency</th>\n",
       "      <th>experience_level</th>\n",
       "      <th>employment_type</th>\n",
       "      <th>company_location</th>\n",
       "      <th>company_size</th>\n",
       "      <th>employee_residence</th>\n",
       "      <th>remote_ratio</th>\n",
       "      <th>required_skills</th>\n",
       "      <th>education_required</th>\n",
       "      <th>years_experience</th>\n",
       "      <th>industry</th>\n",
       "      <th>posting_date</th>\n",
       "      <th>application_deadline</th>\n",
       "      <th>job_description_length</th>\n",
       "      <th>benefits_score</th>\n",
       "      <th>company_name</th>\n",
       "      <th>month</th>\n",
       "    </tr>\n",
       "  </thead>\n",
       "  <tbody>\n",
       "    <tr>\n",
       "      <th>4</th>\n",
       "      <td>AI00005</td>\n",
       "      <td>AI Consultant</td>\n",
       "      <td>54624</td>\n",
       "      <td>EUR</td>\n",
       "      <td>EN</td>\n",
       "      <td>PT</td>\n",
       "      <td>France</td>\n",
       "      <td>S</td>\n",
       "      <td>Singapore</td>\n",
       "      <td>100</td>\n",
       "      <td>MLOps, Java, Tableau, Python</td>\n",
       "      <td>Master</td>\n",
       "      <td>0</td>\n",
       "      <td>Media</td>\n",
       "      <td>2025-04-15</td>\n",
       "      <td>2025-06-23</td>\n",
       "      <td>1989</td>\n",
       "      <td>6.6</td>\n",
       "      <td>Advanced Robotics</td>\n",
       "      <td>04</td>\n",
       "    </tr>\n",
       "    <tr>\n",
       "      <th>12</th>\n",
       "      <td>AI00013</td>\n",
       "      <td>AI Consultant</td>\n",
       "      <td>124355</td>\n",
       "      <td>EUR</td>\n",
       "      <td>SE</td>\n",
       "      <td>CT</td>\n",
       "      <td>France</td>\n",
       "      <td>M</td>\n",
       "      <td>France</td>\n",
       "      <td>100</td>\n",
       "      <td>Tableau, Python, TensorFlow</td>\n",
       "      <td>PhD</td>\n",
       "      <td>5</td>\n",
       "      <td>Automotive</td>\n",
       "      <td>2024-12-29</td>\n",
       "      <td>2025-01-27</td>\n",
       "      <td>760</td>\n",
       "      <td>5.2</td>\n",
       "      <td>Predictive Systems</td>\n",
       "      <td>12</td>\n",
       "    </tr>\n",
       "    <tr>\n",
       "      <th>49</th>\n",
       "      <td>AI00050</td>\n",
       "      <td>AI Consultant</td>\n",
       "      <td>124871</td>\n",
       "      <td>USD</td>\n",
       "      <td>EX</td>\n",
       "      <td>FL</td>\n",
       "      <td>Austria</td>\n",
       "      <td>M</td>\n",
       "      <td>Finland</td>\n",
       "      <td>50</td>\n",
       "      <td>Hadoop, AWS, Linux, Docker, Statistics</td>\n",
       "      <td>PhD</td>\n",
       "      <td>19</td>\n",
       "      <td>Media</td>\n",
       "      <td>2025-03-10</td>\n",
       "      <td>2025-05-17</td>\n",
       "      <td>1556</td>\n",
       "      <td>8.0</td>\n",
       "      <td>Autonomous Tech</td>\n",
       "      <td>03</td>\n",
       "    </tr>\n",
       "    <tr>\n",
       "      <th>62</th>\n",
       "      <td>AI00063</td>\n",
       "      <td>AI Consultant</td>\n",
       "      <td>102382</td>\n",
       "      <td>USD</td>\n",
       "      <td>MI</td>\n",
       "      <td>PT</td>\n",
       "      <td>Switzerland</td>\n",
       "      <td>M</td>\n",
       "      <td>Switzerland</td>\n",
       "      <td>0</td>\n",
       "      <td>TensorFlow, Scala, Docker, Statistics</td>\n",
       "      <td>PhD</td>\n",
       "      <td>3</td>\n",
       "      <td>Education</td>\n",
       "      <td>2024-03-23</td>\n",
       "      <td>2024-06-03</td>\n",
       "      <td>2199</td>\n",
       "      <td>5.8</td>\n",
       "      <td>Smart Analytics</td>\n",
       "      <td>03</td>\n",
       "    </tr>\n",
       "    <tr>\n",
       "      <th>138</th>\n",
       "      <td>AI00139</td>\n",
       "      <td>AI Consultant</td>\n",
       "      <td>73894</td>\n",
       "      <td>EUR</td>\n",
       "      <td>MI</td>\n",
       "      <td>CT</td>\n",
       "      <td>France</td>\n",
       "      <td>M</td>\n",
       "      <td>France</td>\n",
       "      <td>50</td>\n",
       "      <td>PyTorch, Statistics, MLOps, Kubernetes, Comput...</td>\n",
       "      <td>Bachelor</td>\n",
       "      <td>4</td>\n",
       "      <td>Consulting</td>\n",
       "      <td>2024-08-08</td>\n",
       "      <td>2024-09-12</td>\n",
       "      <td>1070</td>\n",
       "      <td>5.2</td>\n",
       "      <td>Digital Transformation LLC</td>\n",
       "      <td>08</td>\n",
       "    </tr>\n",
       "    <tr>\n",
       "      <th>...</th>\n",
       "      <td>...</td>\n",
       "      <td>...</td>\n",
       "      <td>...</td>\n",
       "      <td>...</td>\n",
       "      <td>...</td>\n",
       "      <td>...</td>\n",
       "      <td>...</td>\n",
       "      <td>...</td>\n",
       "      <td>...</td>\n",
       "      <td>...</td>\n",
       "      <td>...</td>\n",
       "      <td>...</td>\n",
       "      <td>...</td>\n",
       "      <td>...</td>\n",
       "      <td>...</td>\n",
       "      <td>...</td>\n",
       "      <td>...</td>\n",
       "      <td>...</td>\n",
       "      <td>...</td>\n",
       "      <td>...</td>\n",
       "    </tr>\n",
       "    <tr>\n",
       "      <th>14881</th>\n",
       "      <td>AI14882</td>\n",
       "      <td>AI Consultant</td>\n",
       "      <td>106516</td>\n",
       "      <td>USD</td>\n",
       "      <td>SE</td>\n",
       "      <td>FL</td>\n",
       "      <td>South Korea</td>\n",
       "      <td>L</td>\n",
       "      <td>South Korea</td>\n",
       "      <td>50</td>\n",
       "      <td>Python, TensorFlow, MLOps</td>\n",
       "      <td>Master</td>\n",
       "      <td>6</td>\n",
       "      <td>Media</td>\n",
       "      <td>2025-01-29</td>\n",
       "      <td>2025-04-10</td>\n",
       "      <td>1018</td>\n",
       "      <td>9.9</td>\n",
       "      <td>Future Systems</td>\n",
       "      <td>01</td>\n",
       "    </tr>\n",
       "    <tr>\n",
       "      <th>14893</th>\n",
       "      <td>AI14894</td>\n",
       "      <td>AI Consultant</td>\n",
       "      <td>74653</td>\n",
       "      <td>USD</td>\n",
       "      <td>EN</td>\n",
       "      <td>PT</td>\n",
       "      <td>Norway</td>\n",
       "      <td>S</td>\n",
       "      <td>Norway</td>\n",
       "      <td>0</td>\n",
       "      <td>GCP, Java, Statistics</td>\n",
       "      <td>Associate</td>\n",
       "      <td>0</td>\n",
       "      <td>Manufacturing</td>\n",
       "      <td>2024-08-07</td>\n",
       "      <td>2024-08-21</td>\n",
       "      <td>1804</td>\n",
       "      <td>6.7</td>\n",
       "      <td>Advanced Robotics</td>\n",
       "      <td>08</td>\n",
       "    </tr>\n",
       "    <tr>\n",
       "      <th>14902</th>\n",
       "      <td>AI14903</td>\n",
       "      <td>AI Consultant</td>\n",
       "      <td>158854</td>\n",
       "      <td>EUR</td>\n",
       "      <td>SE</td>\n",
       "      <td>FT</td>\n",
       "      <td>Germany</td>\n",
       "      <td>L</td>\n",
       "      <td>Germany</td>\n",
       "      <td>50</td>\n",
       "      <td>NLP, Java, R, GCP</td>\n",
       "      <td>Bachelor</td>\n",
       "      <td>9</td>\n",
       "      <td>Real Estate</td>\n",
       "      <td>2024-04-23</td>\n",
       "      <td>2024-06-08</td>\n",
       "      <td>1656</td>\n",
       "      <td>5.6</td>\n",
       "      <td>Machine Intelligence Group</td>\n",
       "      <td>04</td>\n",
       "    </tr>\n",
       "    <tr>\n",
       "      <th>14959</th>\n",
       "      <td>AI14960</td>\n",
       "      <td>AI Consultant</td>\n",
       "      <td>123851</td>\n",
       "      <td>USD</td>\n",
       "      <td>MI</td>\n",
       "      <td>FL</td>\n",
       "      <td>Switzerland</td>\n",
       "      <td>S</td>\n",
       "      <td>Switzerland</td>\n",
       "      <td>100</td>\n",
       "      <td>Spark, Scala, AWS</td>\n",
       "      <td>PhD</td>\n",
       "      <td>4</td>\n",
       "      <td>Automotive</td>\n",
       "      <td>2024-01-01</td>\n",
       "      <td>2024-02-26</td>\n",
       "      <td>1118</td>\n",
       "      <td>8.9</td>\n",
       "      <td>TechCorp Inc</td>\n",
       "      <td>01</td>\n",
       "    </tr>\n",
       "    <tr>\n",
       "      <th>14976</th>\n",
       "      <td>AI14977</td>\n",
       "      <td>AI Consultant</td>\n",
       "      <td>164620</td>\n",
       "      <td>USD</td>\n",
       "      <td>SE</td>\n",
       "      <td>FT</td>\n",
       "      <td>Norway</td>\n",
       "      <td>L</td>\n",
       "      <td>Norway</td>\n",
       "      <td>100</td>\n",
       "      <td>Tableau, Java, R, Spark</td>\n",
       "      <td>Associate</td>\n",
       "      <td>6</td>\n",
       "      <td>Education</td>\n",
       "      <td>2024-05-26</td>\n",
       "      <td>2024-08-03</td>\n",
       "      <td>1061</td>\n",
       "      <td>9.3</td>\n",
       "      <td>Machine Intelligence Group</td>\n",
       "      <td>05</td>\n",
       "    </tr>\n",
       "  </tbody>\n",
       "</table>\n",
       "<p>704 rows × 20 columns</p>\n",
       "</div>"
      ],
      "text/plain": [
       "        job_id      job_title  salary_usd salary_currency experience_level  \\\n",
       "4      AI00005  AI Consultant       54624             EUR               EN   \n",
       "12     AI00013  AI Consultant      124355             EUR               SE   \n",
       "49     AI00050  AI Consultant      124871             USD               EX   \n",
       "62     AI00063  AI Consultant      102382             USD               MI   \n",
       "138    AI00139  AI Consultant       73894             EUR               MI   \n",
       "...        ...            ...         ...             ...              ...   \n",
       "14881  AI14882  AI Consultant      106516             USD               SE   \n",
       "14893  AI14894  AI Consultant       74653             USD               EN   \n",
       "14902  AI14903  AI Consultant      158854             EUR               SE   \n",
       "14959  AI14960  AI Consultant      123851             USD               MI   \n",
       "14976  AI14977  AI Consultant      164620             USD               SE   \n",
       "\n",
       "      employment_type company_location company_size employee_residence  \\\n",
       "4                  PT           France            S          Singapore   \n",
       "12                 CT           France            M             France   \n",
       "49                 FL          Austria            M            Finland   \n",
       "62                 PT      Switzerland            M        Switzerland   \n",
       "138                CT           France            M             France   \n",
       "...               ...              ...          ...                ...   \n",
       "14881              FL      South Korea            L        South Korea   \n",
       "14893              PT           Norway            S             Norway   \n",
       "14902              FT          Germany            L            Germany   \n",
       "14959              FL      Switzerland            S        Switzerland   \n",
       "14976              FT           Norway            L             Norway   \n",
       "\n",
       "       remote_ratio                                    required_skills  \\\n",
       "4               100                       MLOps, Java, Tableau, Python   \n",
       "12              100                        Tableau, Python, TensorFlow   \n",
       "49               50             Hadoop, AWS, Linux, Docker, Statistics   \n",
       "62                0              TensorFlow, Scala, Docker, Statistics   \n",
       "138              50  PyTorch, Statistics, MLOps, Kubernetes, Comput...   \n",
       "...             ...                                                ...   \n",
       "14881            50                          Python, TensorFlow, MLOps   \n",
       "14893             0                              GCP, Java, Statistics   \n",
       "14902            50                                  NLP, Java, R, GCP   \n",
       "14959           100                                  Spark, Scala, AWS   \n",
       "14976           100                            Tableau, Java, R, Spark   \n",
       "\n",
       "      education_required  years_experience       industry posting_date  \\\n",
       "4                 Master                 0          Media   2025-04-15   \n",
       "12                   PhD                 5     Automotive   2024-12-29   \n",
       "49                   PhD                19          Media   2025-03-10   \n",
       "62                   PhD                 3      Education   2024-03-23   \n",
       "138             Bachelor                 4     Consulting   2024-08-08   \n",
       "...                  ...               ...            ...          ...   \n",
       "14881             Master                 6          Media   2025-01-29   \n",
       "14893          Associate                 0  Manufacturing   2024-08-07   \n",
       "14902           Bachelor                 9    Real Estate   2024-04-23   \n",
       "14959                PhD                 4     Automotive   2024-01-01   \n",
       "14976          Associate                 6      Education   2024-05-26   \n",
       "\n",
       "      application_deadline  job_description_length  benefits_score  \\\n",
       "4               2025-06-23                    1989             6.6   \n",
       "12              2025-01-27                     760             5.2   \n",
       "49              2025-05-17                    1556             8.0   \n",
       "62              2024-06-03                    2199             5.8   \n",
       "138             2024-09-12                    1070             5.2   \n",
       "...                    ...                     ...             ...   \n",
       "14881           2025-04-10                    1018             9.9   \n",
       "14893           2024-08-21                    1804             6.7   \n",
       "14902           2024-06-08                    1656             5.6   \n",
       "14959           2024-02-26                    1118             8.9   \n",
       "14976           2024-08-03                    1061             9.3   \n",
       "\n",
       "                     company_name month  \n",
       "4               Advanced Robotics    04  \n",
       "12             Predictive Systems    12  \n",
       "49                Autonomous Tech    03  \n",
       "62                Smart Analytics    03  \n",
       "138    Digital Transformation LLC    08  \n",
       "...                           ...   ...  \n",
       "14881              Future Systems    01  \n",
       "14893           Advanced Robotics    08  \n",
       "14902  Machine Intelligence Group    04  \n",
       "14959                TechCorp Inc    01  \n",
       "14976  Machine Intelligence Group    05  \n",
       "\n",
       "[704 rows x 20 columns]"
      ]
     },
     "execution_count": 59,
     "metadata": {},
     "output_type": "execute_result"
    }
   ],
   "source": [
    "ai_consultant"
   ]
  },
  {
   "cell_type": "code",
   "execution_count": 9,
   "id": "a78081b7-8660-4c44-a903-386ae9db003e",
   "metadata": {},
   "outputs": [
    {
     "data": {
      "text/plain": [
       "experience_level\n",
       "MI    3781\n",
       "EX    3760\n",
       "SE    3741\n",
       "EN    3718\n",
       "Name: count, dtype: int64"
      ]
     },
     "execution_count": 9,
     "metadata": {},
     "output_type": "execute_result"
    }
   ],
   "source": [
    "ai_job['experience_level'].value_counts()"
   ]
  },
  {
   "cell_type": "code",
   "execution_count": 57,
   "id": "00a3ec4f-2bef-4a57-ae0f-78b049aaf686",
   "metadata": {},
   "outputs": [],
   "source": [
    "mean_salary_edu = ai_job.groupby('education_required')['salary_usd'].mean().reset_index()"
   ]
  },
  {
   "cell_type": "code",
   "execution_count": 66,
   "id": "41693a48-152a-4c55-beba-c59c7418c711",
   "metadata": {},
   "outputs": [
    {
     "name": "stderr",
     "output_type": "stream",
     "text": [
      "C:\\Users\\User\\AppData\\Local\\Temp\\ipykernel_6780\\3203181242.py:1: FutureWarning: \n",
      "\n",
      "Passing `palette` without assigning `hue` is deprecated and will be removed in v0.14.0. Assign the `x` variable to `hue` and set `legend=False` for the same effect.\n",
      "\n",
      "  sns.barplot(x='education_required', y='salary_usd', data=mean_salary_edu,width=0.6,palette='viridis')\n"
     ]
    },
    {
     "data": {
      "image/png": "[encoded data removed]",
      "text/plain": [
       "<Figure size 640x480 with 1 Axes>"
      ]
     },
     "metadata": {},
     "output_type": "display_data"
    }
   ],
   "source": [
    "sns.barplot(x='education_required', y='salary_usd', data=mean_salary_edu,width=0.6,palette='viridis')\n",
    "plt.title('Count of data analyst jobs by month')\n",
    "plt.xticks(rotation=45, ha='right')\n",
    "plt.tight_layout()\n",
    "plt.show()"
   ]
  },
  {
   "cell_type": "code",
   "execution_count": 46,
   "id": "ddefde64-a5a9-4049-84d1-09f3e9eeb53a",
   "metadata": {},
   "outputs": [],
   "source": [
    "grouped = ai_job.groupby(['company_location', 'experience_level'])['salary_usd'].mean().reset_index()"
   ]
  },
  {
   "cell_type": "code",
   "execution_count": 47,
   "id": "aabcb884-ddd8-4de1-a7c8-145762541a35",
   "metadata": {},
   "outputs": [],
   "source": [
    "grouped.rename(columns={\n",
    "    'company_location': 'Country',\n",
    "    'experience_level': 'Experience Level',\n",
    "    'salary_usd': 'Average Salary (USD)'\n",
    "}, inplace=True)\n"
   ]
  },
  {
   "cell_type": "code",
   "execution_count": 48,
   "id": "8ffab529-6a8d-45b1-a823-9c6d38af6977",
   "metadata": {},
   "outputs": [],
   "source": [
    "order = grouped.groupby('Country')['Average Salary (USD)'].mean().sort_values(ascending=False).index\n",
    "grouped['Country'] = pd.Categorical(grouped['Country'], categories=order, ordered=True)\n"
   ]
  },
  {
   "cell_type": "code",
   "execution_count": 49,
   "id": "9a0bf690-2b79-451c-88d8-4a73a8154c14",
   "metadata": {},
   "outputs": [],
   "source": [
    "exp_map = {\n",
    "    'EN': 'Entry',\n",
    "    'MI': 'Mid',\n",
    "    'SE': 'Senior',\n",
    "    'EX': 'Executive'\n",
    "}\n",
    "grouped['Experience Level'] = grouped['Experience Level'].map(exp_map)"
   ]
  },
  {
   "cell_type": "code",
   "execution_count": 50,
   "id": "4f8983dc-f2a3-44ff-80f3-3904d38f875f",
   "metadata": {},
   "outputs": [
    {
     "data": {
      "text/plain": [
       "<Axes: >"
      ]
     },
     "execution_count": 50,
     "metadata": {},
     "output_type": "execute_result"
    },
    {
     "data": {
      "image/png": "[encoded data removed]",
      "text/plain": [
       "<Figure size 1400x800 with 1 Axes>"
      ]
     },
     "metadata": {},
     "output_type": "display_data"
    }
   ],
   "source": [
    "plt.figure(figsize=(14, 8))\n",
    "sns.barplot(\n",
    "    data=grouped,\n",
    "    x='Average Salary (USD)',\n",
    "    y='Country',\n",
    "    hue='Experience Level',\n",
    "    palette='viridis')"
   ]
  },
  {
   "cell_type": "code",
   "execution_count": 87,
   "id": "4762f6b9-123a-450f-872b-49a4af0dfd96",
   "metadata": {},
   "outputs": [
    {
     "name": "stderr",
     "output_type": "stream",
     "text": [
      "C:\\Users\\User\\AppData\\Local\\Temp\\ipykernel_6780\\995171110.py:12: SettingWithCopyWarning: \n",
      "A value is trying to be set on a copy of a slice from a DataFrame.\n",
      "Try using .loc[row_indexer,col_indexer] = value instead\n",
      "\n",
      "See the caveats in the documentation: https://pandas.pydata.org/pandas-docs/stable/user_guide/indexing.html#returning-a-view-versus-a-copy\n",
      "  grouped_top10['Country'] = pd.Categorical(grouped_top10['Country'], categories=top_countries, ordered=True)\n"
     ]
    },
    {
     "data": {
      "image/png": "[encoded data removed]",
      "text/plain": [
       "<Figure size 1400x800 with 1 Axes>"
      ]
     },
     "metadata": {},
     "output_type": "display_data"
    }
   ],
   "source": [
    "\n",
    "grouped = ai_job.groupby(['company_location', 'experience_level'])['salary_usd'].mean().reset_index()\n",
    "grouped.rename(columns={\n",
    "    'company_location': 'Country',\n",
    "    'experience_level': 'Experience Level',\n",
    "    'salary_usd': 'Average Salary (USD)'\n",
    "}, inplace=True)\n",
    "\n",
    "top_countries = grouped.groupby('Country')['Average Salary (USD)'].mean().sort_values(ascending=False).head(10).index\n",
    "\n",
    "grouped_top10 = grouped[grouped['Country'].isin(top_countries)]\n",
    "\n",
    "grouped_top10['Country'] = pd.Categorical(grouped_top10['Country'], categories=top_countries, ordered=True)\n",
    "\n",
    "plt.figure(figsize=(14, 8))\n",
    "sns.barplot(\n",
    "    data=grouped_top10,\n",
    "    x='Average Salary (USD)',\n",
    "    y='Country',\n",
    "    hue='Experience Level',\n",
    "    palette='viridis'\n",
    ")\n",
    "\n",
    "plt.title('Top 10 countries with the higher salary average by experience', fontsize=14)\n",
    "plt.xlabel('Average of salary (USD)')\n",
    "plt.ylabel('Country')\n",
    "plt.legend(title='Experience level', bbox_to_anchor=(1.05, 1), loc='upper left')\n",
    "plt.tight_layout()\n",
    "plt.show()"
   ]
  },
  {
   "cell_type": "code",
   "execution_count": 90,
   "id": "fa19d280-13b1-47c6-b750-76470f61a464",
   "metadata": {},
   "outputs": [
    {
     "data": {
      "image/png": "[encoded data removed]",
      "text/plain": [
       "<Figure size 1200x600 with 2 Axes>"
      ]
     },
     "metadata": {},
     "output_type": "display_data"
    }
   ],
   "source": [
    "exp_map = {\n",
    "    'EN': 'Entry',\n",
    "    'MI': 'Mid',\n",
    "    'SE': 'Senior',\n",
    "    'EX': 'Executive'\n",
    "}\n",
    "\n",
    "\n",
    "pivot = grouped_top10.pivot(index='Country', columns='Experience Level',values='Average Salary (USD)')\n",
    "\n",
    "plt.figure(figsize=(12, 6))\n",
    "sns.heatmap(pivot, annot=True, fmt=\".0f\", cmap='YlOrRd', linewidths=.5)\n",
    "\n",
    "plt.title('Top 10 countries with the higher salary average by experience', fontsize=14)\n",
    "plt.xlabel('Experience Level')\n",
    "plt.ylabel('Country')\n",
    "plt.tight_layout()\n",
    "plt.show()"
   ]
  },
  {
   "cell_type": "code",
   "execution_count": 89,
   "id": "9cc7975c-0487-4973-a4d4-b0c3cb2a1315",
   "metadata": {},
   "outputs": [
    {
     "data": {
      "text/html": [
       "<div>\n",
       "<style scoped>\n",
       "    .dataframe tbody tr th:only-of-type {\n",
       "        vertical-align: middle;\n",
       "    }\n",
       "\n",
       "    .dataframe tbody tr th {\n",
       "        vertical-align: top;\n",
       "    }\n",
       "\n",
       "    .dataframe thead th {\n",
       "        text-align: right;\n",
       "    }\n",
       "</style>\n",
       "<table border=\"1\" class=\"dataframe\">\n",
       "  <thead>\n",
       "    <tr style=\"text-align: right;\">\n",
       "      <th></th>\n",
       "      <th>job_id</th>\n",
       "      <th>job_title</th>\n",
       "      <th>salary_usd</th>\n",
       "      <th>salary_currency</th>\n",
       "      <th>experience_level</th>\n",
       "      <th>employment_type</th>\n",
       "      <th>company_location</th>\n",
       "      <th>company_size</th>\n",
       "      <th>employee_residence</th>\n",
       "      <th>remote_ratio</th>\n",
       "      <th>required_skills</th>\n",
       "      <th>education_required</th>\n",
       "      <th>years_experience</th>\n",
       "      <th>industry</th>\n",
       "      <th>posting_date</th>\n",
       "      <th>application_deadline</th>\n",
       "      <th>job_description_length</th>\n",
       "      <th>benefits_score</th>\n",
       "      <th>company_name</th>\n",
       "    </tr>\n",
       "  </thead>\n",
       "  <tbody>\n",
       "    <tr>\n",
       "      <th>0</th>\n",
       "      <td>AI00001</td>\n",
       "      <td>AI Research Scientist</td>\n",
       "      <td>90376</td>\n",
       "      <td>USD</td>\n",
       "      <td>SE</td>\n",
       "      <td>CT</td>\n",
       "      <td>China</td>\n",
       "      <td>M</td>\n",
       "      <td>China</td>\n",
       "      <td>50</td>\n",
       "      <td>Tableau, PyTorch, Kubernetes, Linux, NLP</td>\n",
       "      <td>Bachelor</td>\n",
       "      <td>9</td>\n",
       "      <td>Automotive</td>\n",
       "      <td>2024-10-18</td>\n",
       "      <td>2024-11-07</td>\n",
       "      <td>1076</td>\n",
       "      <td>5.9</td>\n",
       "      <td>Smart Analytics</td>\n",
       "    </tr>\n",
       "    <tr>\n",
       "      <th>1</th>\n",
       "      <td>AI00002</td>\n",
       "      <td>AI Software Engineer</td>\n",
       "      <td>61895</td>\n",
       "      <td>USD</td>\n",
       "      <td>EN</td>\n",
       "      <td>CT</td>\n",
       "      <td>Canada</td>\n",
       "      <td>M</td>\n",
       "      <td>Ireland</td>\n",
       "      <td>100</td>\n",
       "      <td>Deep Learning, AWS, Mathematics, Python, Docker</td>\n",
       "      <td>Master</td>\n",
       "      <td>1</td>\n",
       "      <td>Media</td>\n",
       "      <td>2024-11-20</td>\n",
       "      <td>2025-01-11</td>\n",
       "      <td>1268</td>\n",
       "      <td>5.2</td>\n",
       "      <td>TechCorp Inc</td>\n",
       "    </tr>\n",
       "    <tr>\n",
       "      <th>2</th>\n",
       "      <td>AI00003</td>\n",
       "      <td>AI Specialist</td>\n",
       "      <td>152626</td>\n",
       "      <td>USD</td>\n",
       "      <td>MI</td>\n",
       "      <td>FL</td>\n",
       "      <td>Switzerland</td>\n",
       "      <td>L</td>\n",
       "      <td>South Korea</td>\n",
       "      <td>0</td>\n",
       "      <td>Kubernetes, Deep Learning, Java, Hadoop, NLP</td>\n",
       "      <td>Associate</td>\n",
       "      <td>2</td>\n",
       "      <td>Education</td>\n",
       "      <td>2025-03-18</td>\n",
       "      <td>2025-04-07</td>\n",
       "      <td>1974</td>\n",
       "      <td>9.4</td>\n",
       "      <td>Autonomous Tech</td>\n",
       "    </tr>\n",
       "    <tr>\n",
       "      <th>3</th>\n",
       "      <td>AI00004</td>\n",
       "      <td>NLP Engineer</td>\n",
       "      <td>80215</td>\n",
       "      <td>USD</td>\n",
       "      <td>SE</td>\n",
       "      <td>FL</td>\n",
       "      <td>India</td>\n",
       "      <td>M</td>\n",
       "      <td>India</td>\n",
       "      <td>50</td>\n",
       "      <td>Scala, SQL, Linux, Python</td>\n",
       "      <td>PhD</td>\n",
       "      <td>7</td>\n",
       "      <td>Consulting</td>\n",
       "      <td>2024-12-23</td>\n",
       "      <td>2025-02-24</td>\n",
       "      <td>1345</td>\n",
       "      <td>8.6</td>\n",
       "      <td>Future Systems</td>\n",
       "    </tr>\n",
       "    <tr>\n",
       "      <th>4</th>\n",
       "      <td>AI00005</td>\n",
       "      <td>AI Consultant</td>\n",
       "      <td>54624</td>\n",
       "      <td>EUR</td>\n",
       "      <td>EN</td>\n",
       "      <td>PT</td>\n",
       "      <td>France</td>\n",
       "      <td>S</td>\n",
       "      <td>Singapore</td>\n",
       "      <td>100</td>\n",
       "      <td>MLOps, Java, Tableau, Python</td>\n",
       "      <td>Master</td>\n",
       "      <td>0</td>\n",
       "      <td>Media</td>\n",
       "      <td>2025-04-15</td>\n",
       "      <td>2025-06-23</td>\n",
       "      <td>1989</td>\n",
       "      <td>6.6</td>\n",
       "      <td>Advanced Robotics</td>\n",
       "    </tr>\n",
       "  </tbody>\n",
       "</table>\n",
       "</div>"
      ],
      "text/plain": [
       "    job_id              job_title  salary_usd salary_currency  \\\n",
       "0  AI00001  AI Research Scientist       90376             USD   \n",
       "1  AI00002   AI Software Engineer       61895             USD   \n",
       "2  AI00003          AI Specialist      152626             USD   \n",
       "3  AI00004           NLP Engineer       80215             USD   \n",
       "4  AI00005          AI Consultant       54624             EUR   \n",
       "\n",
       "  experience_level employment_type company_location company_size  \\\n",
       "0               SE              CT            China            M   \n",
       "1               EN              CT           Canada            M   \n",
       "2               MI              FL      Switzerland            L   \n",
       "3               SE              FL            India            M   \n",
       "4               EN              PT           France            S   \n",
       "\n",
       "  employee_residence  remote_ratio  \\\n",
       "0              China            50   \n",
       "1            Ireland           100   \n",
       "2        South Korea             0   \n",
       "3              India            50   \n",
       "4          Singapore           100   \n",
       "\n",
       "                                   required_skills education_required  \\\n",
       "0         Tableau, PyTorch, Kubernetes, Linux, NLP           Bachelor   \n",
       "1  Deep Learning, AWS, Mathematics, Python, Docker             Master   \n",
       "2     Kubernetes, Deep Learning, Java, Hadoop, NLP          Associate   \n",
       "3                        Scala, SQL, Linux, Python                PhD   \n",
       "4                     MLOps, Java, Tableau, Python             Master   \n",
       "\n",
       "   years_experience    industry posting_date application_deadline  \\\n",
       "0                 9  Automotive   2024-10-18           2024-11-07   \n",
       "1                 1       Media   2024-11-20           2025-01-11   \n",
       "2                 2   Education   2025-03-18           2025-04-07   \n",
       "3                 7  Consulting   2024-12-23           2025-02-24   \n",
       "4                 0       Media   2025-04-15           2025-06-23   \n",
       "\n",
       "   job_description_length  benefits_score       company_name  \n",
       "0                    1076             5.9    Smart Analytics  \n",
       "1                    1268             5.2       TechCorp Inc  \n",
       "2                    1974             9.4    Autonomous Tech  \n",
       "3                    1345             8.6     Future Systems  \n",
       "4                    1989             6.6  Advanced Robotics  "
      ]
     },
     "execution_count": 89,
     "metadata": {},
     "output_type": "execute_result"
    }
   ],
   "source": [
    "ai_job.head()"
   ]
  },
  {
   "cell_type": "code",
   "execution_count": null,
   "id": "2deeadd7-44d7-4120-8f55-90584a809b8c",
   "metadata": {},
   "outputs": [],
   "source": []
  }
 ],
 "metadata": {
  "kernelspec": {
   "display_name": "venv",
   "language": "python",
   "name": "venv"
  },
  "language_info": {
   "codemirror_mode": {
    "name": "ipython",
    "version": 3
   },
   "file_extension": ".py",
   "mimetype": "text/x-python",
   "name": "python",
   "nbconvert_exporter": "python",
   "pygments_lexer": "ipython3",
   "version": "3.12.7"
  }
 },
 "nbformat": 4,
 "nbformat_minor": 5
}
