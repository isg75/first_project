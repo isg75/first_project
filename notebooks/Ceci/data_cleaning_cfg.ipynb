{
 "cells": [
  {
   "cell_type": "code",
   "execution_count": 113,
   "id": "7c6c8274-94a3-404c-92c4-c1ff8db1d326",
   "metadata": {},
   "outputs": [
    {
     "data": {
      "text/html": [
       "<div>\n",
       "<style scoped>\n",
       "    .dataframe tbody tr th:only-of-type {\n",
       "        vertical-align: middle;\n",
       "    }\n",
       "\n",
       "    .dataframe tbody tr th {\n",
       "        vertical-align: top;\n",
       "    }\n",
       "\n",
       "    .dataframe thead th {\n",
       "        text-align: right;\n",
       "    }\n",
       "</style>\n",
       "<table border=\"1\" class=\"dataframe\">\n",
       "  <thead>\n",
       "    <tr style=\"text-align: right;\">\n",
       "      <th></th>\n",
       "      <th>name</th>\n",
       "      <th>releaseDate</th>\n",
       "      <th>copiesSold</th>\n",
       "      <th>price</th>\n",
       "      <th>revenue</th>\n",
       "      <th>avgPlaytime</th>\n",
       "      <th>reviewScore</th>\n",
       "      <th>publisherClass</th>\n",
       "      <th>publishers</th>\n",
       "      <th>developers</th>\n",
       "      <th>steamId</th>\n",
       "    </tr>\n",
       "  </thead>\n",
       "  <tbody>\n",
       "    <tr>\n",
       "      <th>0</th>\n",
       "      <td>WWE 2K24</td>\n",
       "      <td>07-03-2024</td>\n",
       "      <td>165301</td>\n",
       "      <td>99.99</td>\n",
       "      <td>8055097.0</td>\n",
       "      <td>42.365140</td>\n",
       "      <td>71</td>\n",
       "      <td>AAA</td>\n",
       "      <td>2K</td>\n",
       "      <td>Visual Concepts</td>\n",
       "      <td>2315690</td>\n",
       "    </tr>\n",
       "    <tr>\n",
       "      <th>1</th>\n",
       "      <td>EARTH DEFENSE FORCE 6</td>\n",
       "      <td>25-07-2024</td>\n",
       "      <td>159806</td>\n",
       "      <td>59.99</td>\n",
       "      <td>7882151.0</td>\n",
       "      <td>29.651061</td>\n",
       "      <td>57</td>\n",
       "      <td>Indie</td>\n",
       "      <td>D3PUBLISHER</td>\n",
       "      <td>SANDLOT</td>\n",
       "      <td>2291060</td>\n",
       "    </tr>\n",
       "    <tr>\n",
       "      <th>2</th>\n",
       "      <td>Sins of a Solar Empire II</td>\n",
       "      <td>15-08-2024</td>\n",
       "      <td>214192</td>\n",
       "      <td>49.99</td>\n",
       "      <td>7815247.0</td>\n",
       "      <td>12.452593</td>\n",
       "      <td>88</td>\n",
       "      <td>Indie</td>\n",
       "      <td>Stardock Entertainment</td>\n",
       "      <td>Ironclad Games Corporation,Stardock Entertainment</td>\n",
       "      <td>1575940</td>\n",
       "    </tr>\n",
       "    <tr>\n",
       "      <th>3</th>\n",
       "      <td>Legend of Mortal</td>\n",
       "      <td>14-06-2024</td>\n",
       "      <td>440998</td>\n",
       "      <td>19.99</td>\n",
       "      <td>7756399.0</td>\n",
       "      <td>24.797817</td>\n",
       "      <td>76</td>\n",
       "      <td>Indie</td>\n",
       "      <td>Paras Games,Obb Studio Inc.</td>\n",
       "      <td>Obb Studio Inc.</td>\n",
       "      <td>1859910</td>\n",
       "    </tr>\n",
       "    <tr>\n",
       "      <th>4</th>\n",
       "      <td>Shin Megami Tensei V: Vengeance</td>\n",
       "      <td>13-06-2024</td>\n",
       "      <td>141306</td>\n",
       "      <td>59.99</td>\n",
       "      <td>7629252.0</td>\n",
       "      <td>34.258496</td>\n",
       "      <td>96</td>\n",
       "      <td>AA</td>\n",
       "      <td>SEGA</td>\n",
       "      <td>ATLUS</td>\n",
       "      <td>1875830</td>\n",
       "    </tr>\n",
       "  </tbody>\n",
       "</table>\n",
       "</div>"
      ],
      "text/plain": [
       "                              name releaseDate  copiesSold  price    revenue  \\\n",
       "0                         WWE 2K24  07-03-2024      165301  99.99  8055097.0   \n",
       "1            EARTH DEFENSE FORCE 6  25-07-2024      159806  59.99  7882151.0   \n",
       "2        Sins of a Solar Empire II  15-08-2024      214192  49.99  7815247.0   \n",
       "3                 Legend of Mortal  14-06-2024      440998  19.99  7756399.0   \n",
       "4  Shin Megami Tensei V: Vengeance  13-06-2024      141306  59.99  7629252.0   \n",
       "\n",
       "   avgPlaytime  reviewScore publisherClass                   publishers  \\\n",
       "0    42.365140           71            AAA                           2K   \n",
       "1    29.651061           57          Indie                  D3PUBLISHER   \n",
       "2    12.452593           88          Indie       Stardock Entertainment   \n",
       "3    24.797817           76          Indie  Paras Games,Obb Studio Inc.   \n",
       "4    34.258496           96             AA                         SEGA   \n",
       "\n",
       "                                          developers  steamId  \n",
       "0                                    Visual Concepts  2315690  \n",
       "1                                            SANDLOT  2291060  \n",
       "2  Ironclad Games Corporation,Stardock Entertainment  1575940  \n",
       "3                                    Obb Studio Inc.  1859910  \n",
       "4                                              ATLUS  1875830  "
      ]
     },
     "execution_count": 113,
     "metadata": {},
     "output_type": "execute_result"
    }
   ],
   "source": [
    "import pandas as pd\n",
    "import numpy as np\n",
    "\n",
    "steam_2024_revenue = pd.read_csv(r'C:\\Users\\Cecilia\\Downloads\\ironhack\\coursework\\group work\\group project week3\\first_project_cfg\\data\\raw\\Steam_2024_bestRevenue_1500.csv')\n",
    "\n",
    "steam_2024_revenue.head()"
   ]
  },
  {
   "cell_type": "code",
   "execution_count": 114,
   "id": "574b482f-d009-4b36-b3fc-442eb159000f",
   "metadata": {},
   "outputs": [
    {
     "name": "stdout",
     "output_type": "stream",
     "text": [
      "0 dates were not converted.\n"
     ]
    },
    {
     "data": {
      "text/html": [
       "<div>\n",
       "<style scoped>\n",
       "    .dataframe tbody tr th:only-of-type {\n",
       "        vertical-align: middle;\n",
       "    }\n",
       "\n",
       "    .dataframe tbody tr th {\n",
       "        vertical-align: top;\n",
       "    }\n",
       "\n",
       "    .dataframe thead th {\n",
       "        text-align: right;\n",
       "    }\n",
       "</style>\n",
       "<table border=\"1\" class=\"dataframe\">\n",
       "  <thead>\n",
       "    <tr style=\"text-align: right;\">\n",
       "      <th></th>\n",
       "      <th>name</th>\n",
       "      <th>releaseDate</th>\n",
       "      <th>copiesSold</th>\n",
       "      <th>price</th>\n",
       "      <th>revenue</th>\n",
       "      <th>avgPlaytime</th>\n",
       "      <th>reviewScore</th>\n",
       "      <th>publisherClass</th>\n",
       "      <th>publishers</th>\n",
       "      <th>developers</th>\n",
       "      <th>steamId</th>\n",
       "    </tr>\n",
       "  </thead>\n",
       "  <tbody>\n",
       "    <tr>\n",
       "      <th>0</th>\n",
       "      <td>WWE 2K24</td>\n",
       "      <td>2024-03-07</td>\n",
       "      <td>165301</td>\n",
       "      <td>99.99</td>\n",
       "      <td>8055097.0</td>\n",
       "      <td>42.365140</td>\n",
       "      <td>71</td>\n",
       "      <td>AAA</td>\n",
       "      <td>2K</td>\n",
       "      <td>Visual Concepts</td>\n",
       "      <td>2315690</td>\n",
       "    </tr>\n",
       "    <tr>\n",
       "      <th>1</th>\n",
       "      <td>EARTH DEFENSE FORCE 6</td>\n",
       "      <td>2024-07-25</td>\n",
       "      <td>159806</td>\n",
       "      <td>59.99</td>\n",
       "      <td>7882151.0</td>\n",
       "      <td>29.651061</td>\n",
       "      <td>57</td>\n",
       "      <td>Indie</td>\n",
       "      <td>D3PUBLISHER</td>\n",
       "      <td>SANDLOT</td>\n",
       "      <td>2291060</td>\n",
       "    </tr>\n",
       "    <tr>\n",
       "      <th>2</th>\n",
       "      <td>Sins of a Solar Empire II</td>\n",
       "      <td>2024-08-15</td>\n",
       "      <td>214192</td>\n",
       "      <td>49.99</td>\n",
       "      <td>7815247.0</td>\n",
       "      <td>12.452593</td>\n",
       "      <td>88</td>\n",
       "      <td>Indie</td>\n",
       "      <td>Stardock Entertainment</td>\n",
       "      <td>Ironclad Games Corporation,Stardock Entertainment</td>\n",
       "      <td>1575940</td>\n",
       "    </tr>\n",
       "    <tr>\n",
       "      <th>3</th>\n",
       "      <td>Legend of Mortal</td>\n",
       "      <td>2024-06-14</td>\n",
       "      <td>440998</td>\n",
       "      <td>19.99</td>\n",
       "      <td>7756399.0</td>\n",
       "      <td>24.797817</td>\n",
       "      <td>76</td>\n",
       "      <td>Indie</td>\n",
       "      <td>Paras Games,Obb Studio Inc.</td>\n",
       "      <td>Obb Studio Inc.</td>\n",
       "      <td>1859910</td>\n",
       "    </tr>\n",
       "    <tr>\n",
       "      <th>4</th>\n",
       "      <td>Shin Megami Tensei V: Vengeance</td>\n",
       "      <td>2024-06-13</td>\n",
       "      <td>141306</td>\n",
       "      <td>59.99</td>\n",
       "      <td>7629252.0</td>\n",
       "      <td>34.258496</td>\n",
       "      <td>96</td>\n",
       "      <td>AA</td>\n",
       "      <td>SEGA</td>\n",
       "      <td>ATLUS</td>\n",
       "      <td>1875830</td>\n",
       "    </tr>\n",
       "  </tbody>\n",
       "</table>\n",
       "</div>"
      ],
      "text/plain": [
       "                              name releaseDate  copiesSold  price    revenue  \\\n",
       "0                         WWE 2K24  2024-03-07      165301  99.99  8055097.0   \n",
       "1            EARTH DEFENSE FORCE 6  2024-07-25      159806  59.99  7882151.0   \n",
       "2        Sins of a Solar Empire II  2024-08-15      214192  49.99  7815247.0   \n",
       "3                 Legend of Mortal  2024-06-14      440998  19.99  7756399.0   \n",
       "4  Shin Megami Tensei V: Vengeance  2024-06-13      141306  59.99  7629252.0   \n",
       "\n",
       "   avgPlaytime  reviewScore publisherClass                   publishers  \\\n",
       "0    42.365140           71            AAA                           2K   \n",
       "1    29.651061           57          Indie                  D3PUBLISHER   \n",
       "2    12.452593           88          Indie       Stardock Entertainment   \n",
       "3    24.797817           76          Indie  Paras Games,Obb Studio Inc.   \n",
       "4    34.258496           96             AA                         SEGA   \n",
       "\n",
       "                                          developers  steamId  \n",
       "0                                    Visual Concepts  2315690  \n",
       "1                                            SANDLOT  2291060  \n",
       "2  Ironclad Games Corporation,Stardock Entertainment  1575940  \n",
       "3                                    Obb Studio Inc.  1859910  \n",
       "4                                              ATLUS  1875830  "
      ]
     },
     "execution_count": 114,
     "metadata": {},
     "output_type": "execute_result"
    }
   ],
   "source": [
    "# Convert the 'releaseDate' column to datetime with the correct format\n",
    "steam_2024_revenue['releaseDate'] = pd.to_datetime(steam_2024_revenue['releaseDate'], format='%d-%m-%Y', errors='coerce')\n",
    "\n",
    "# Check for any conversion errors\n",
    "print(steam_2024_revenue['releaseDate'].isnull().sum(), \"dates were not converted.\")\n",
    "\n",
    "# Display the updated DataFrame\n",
    "steam_2024_revenue.head()"
   ]
  },
  {
   "cell_type": "code",
   "execution_count": 115,
   "id": "cb32ae3e-ab74-4269-acf2-3139aa89e176",
   "metadata": {},
   "outputs": [
    {
     "data": {
      "text/html": [
       "<div>\n",
       "<style scoped>\n",
       "    .dataframe tbody tr th:only-of-type {\n",
       "        vertical-align: middle;\n",
       "    }\n",
       "\n",
       "    .dataframe tbody tr th {\n",
       "        vertical-align: top;\n",
       "    }\n",
       "\n",
       "    .dataframe thead th {\n",
       "        text-align: right;\n",
       "    }\n",
       "</style>\n",
       "<table border=\"1\" class=\"dataframe\">\n",
       "  <thead>\n",
       "    <tr style=\"text-align: right;\">\n",
       "      <th></th>\n",
       "      <th>name</th>\n",
       "      <th>releaseDate</th>\n",
       "      <th>copiesSold</th>\n",
       "      <th>price</th>\n",
       "      <th>revenue</th>\n",
       "      <th>avgPlaytime</th>\n",
       "      <th>reviewScore</th>\n",
       "      <th>publisherClass</th>\n",
       "      <th>publishers</th>\n",
       "      <th>developers</th>\n",
       "      <th>steamId</th>\n",
       "    </tr>\n",
       "  </thead>\n",
       "  <tbody>\n",
       "    <tr>\n",
       "      <th>0</th>\n",
       "      <td>WWE 2K24</td>\n",
       "      <td>2024</td>\n",
       "      <td>165301</td>\n",
       "      <td>99.99</td>\n",
       "      <td>8055097.0</td>\n",
       "      <td>42.365140</td>\n",
       "      <td>71</td>\n",
       "      <td>AAA</td>\n",
       "      <td>2K</td>\n",
       "      <td>Visual Concepts</td>\n",
       "      <td>2315690</td>\n",
       "    </tr>\n",
       "    <tr>\n",
       "      <th>1</th>\n",
       "      <td>EARTH DEFENSE FORCE 6</td>\n",
       "      <td>2024</td>\n",
       "      <td>159806</td>\n",
       "      <td>59.99</td>\n",
       "      <td>7882151.0</td>\n",
       "      <td>29.651061</td>\n",
       "      <td>57</td>\n",
       "      <td>Indie</td>\n",
       "      <td>D3PUBLISHER</td>\n",
       "      <td>SANDLOT</td>\n",
       "      <td>2291060</td>\n",
       "    </tr>\n",
       "    <tr>\n",
       "      <th>2</th>\n",
       "      <td>Sins of a Solar Empire II</td>\n",
       "      <td>2024</td>\n",
       "      <td>214192</td>\n",
       "      <td>49.99</td>\n",
       "      <td>7815247.0</td>\n",
       "      <td>12.452593</td>\n",
       "      <td>88</td>\n",
       "      <td>Indie</td>\n",
       "      <td>Stardock Entertainment</td>\n",
       "      <td>Ironclad Games Corporation,Stardock Entertainment</td>\n",
       "      <td>1575940</td>\n",
       "    </tr>\n",
       "    <tr>\n",
       "      <th>3</th>\n",
       "      <td>Legend of Mortal</td>\n",
       "      <td>2024</td>\n",
       "      <td>440998</td>\n",
       "      <td>19.99</td>\n",
       "      <td>7756399.0</td>\n",
       "      <td>24.797817</td>\n",
       "      <td>76</td>\n",
       "      <td>Indie</td>\n",
       "      <td>Paras Games,Obb Studio Inc.</td>\n",
       "      <td>Obb Studio Inc.</td>\n",
       "      <td>1859910</td>\n",
       "    </tr>\n",
       "    <tr>\n",
       "      <th>4</th>\n",
       "      <td>Shin Megami Tensei V: Vengeance</td>\n",
       "      <td>2024</td>\n",
       "      <td>141306</td>\n",
       "      <td>59.99</td>\n",
       "      <td>7629252.0</td>\n",
       "      <td>34.258496</td>\n",
       "      <td>96</td>\n",
       "      <td>AA</td>\n",
       "      <td>SEGA</td>\n",
       "      <td>ATLUS</td>\n",
       "      <td>1875830</td>\n",
       "    </tr>\n",
       "  </tbody>\n",
       "</table>\n",
       "</div>"
      ],
      "text/plain": [
       "                              name  releaseDate  copiesSold  price    revenue  \\\n",
       "0                         WWE 2K24         2024      165301  99.99  8055097.0   \n",
       "1            EARTH DEFENSE FORCE 6         2024      159806  59.99  7882151.0   \n",
       "2        Sins of a Solar Empire II         2024      214192  49.99  7815247.0   \n",
       "3                 Legend of Mortal         2024      440998  19.99  7756399.0   \n",
       "4  Shin Megami Tensei V: Vengeance         2024      141306  59.99  7629252.0   \n",
       "\n",
       "   avgPlaytime  reviewScore publisherClass                   publishers  \\\n",
       "0    42.365140           71            AAA                           2K   \n",
       "1    29.651061           57          Indie                  D3PUBLISHER   \n",
       "2    12.452593           88          Indie       Stardock Entertainment   \n",
       "3    24.797817           76          Indie  Paras Games,Obb Studio Inc.   \n",
       "4    34.258496           96             AA                         SEGA   \n",
       "\n",
       "                                          developers  steamId  \n",
       "0                                    Visual Concepts  2315690  \n",
       "1                                            SANDLOT  2291060  \n",
       "2  Ironclad Games Corporation,Stardock Entertainment  1575940  \n",
       "3                                    Obb Studio Inc.  1859910  \n",
       "4                                              ATLUS  1875830  "
      ]
     },
     "execution_count": 115,
     "metadata": {},
     "output_type": "execute_result"
    }
   ],
   "source": [
    "# Now, extract the year if the conversion was successful\n",
    "if steam_2024_revenue['releaseDate'].notnull().all():\n",
    "    steam_2024_revenue['releaseDate'] = steam_2024_revenue['releaseDate'].dt.year\n",
    "else:\n",
    "    print(\"Some dates could not be converted. Please check the data.\")\n",
    "\n",
    "# Display the updated DataFrame\n",
    "steam_2024_revenue.head()"
   ]
  },
  {
   "cell_type": "code",
   "execution_count": 116,
   "id": "3f6681d2-efe5-43a1-ad65-17ba32285c18",
   "metadata": {},
   "outputs": [
    {
     "data": {
      "text/html": [
       "<div>\n",
       "<style scoped>\n",
       "    .dataframe tbody tr th:only-of-type {\n",
       "        vertical-align: middle;\n",
       "    }\n",
       "\n",
       "    .dataframe tbody tr th {\n",
       "        vertical-align: top;\n",
       "    }\n",
       "\n",
       "    .dataframe thead th {\n",
       "        text-align: right;\n",
       "    }\n",
       "</style>\n",
       "<table border=\"1\" class=\"dataframe\">\n",
       "  <thead>\n",
       "    <tr style=\"text-align: right;\">\n",
       "      <th></th>\n",
       "      <th>name</th>\n",
       "      <th>releasedate</th>\n",
       "      <th>copiessold</th>\n",
       "      <th>price</th>\n",
       "      <th>revenue</th>\n",
       "      <th>avgplaytime</th>\n",
       "      <th>reviewscore</th>\n",
       "      <th>publisherclass</th>\n",
       "      <th>publishers</th>\n",
       "      <th>developers</th>\n",
       "      <th>steamid</th>\n",
       "    </tr>\n",
       "  </thead>\n",
       "  <tbody>\n",
       "    <tr>\n",
       "      <th>0</th>\n",
       "      <td>WWE 2K24</td>\n",
       "      <td>2024</td>\n",
       "      <td>165301</td>\n",
       "      <td>99.99</td>\n",
       "      <td>8055097.0</td>\n",
       "      <td>42.365140</td>\n",
       "      <td>71</td>\n",
       "      <td>AAA</td>\n",
       "      <td>2K</td>\n",
       "      <td>Visual Concepts</td>\n",
       "      <td>2315690</td>\n",
       "    </tr>\n",
       "    <tr>\n",
       "      <th>1</th>\n",
       "      <td>EARTH DEFENSE FORCE 6</td>\n",
       "      <td>2024</td>\n",
       "      <td>159806</td>\n",
       "      <td>59.99</td>\n",
       "      <td>7882151.0</td>\n",
       "      <td>29.651061</td>\n",
       "      <td>57</td>\n",
       "      <td>Indie</td>\n",
       "      <td>D3PUBLISHER</td>\n",
       "      <td>SANDLOT</td>\n",
       "      <td>2291060</td>\n",
       "    </tr>\n",
       "    <tr>\n",
       "      <th>2</th>\n",
       "      <td>Sins of a Solar Empire II</td>\n",
       "      <td>2024</td>\n",
       "      <td>214192</td>\n",
       "      <td>49.99</td>\n",
       "      <td>7815247.0</td>\n",
       "      <td>12.452593</td>\n",
       "      <td>88</td>\n",
       "      <td>Indie</td>\n",
       "      <td>Stardock Entertainment</td>\n",
       "      <td>Ironclad Games Corporation,Stardock Entertainment</td>\n",
       "      <td>1575940</td>\n",
       "    </tr>\n",
       "    <tr>\n",
       "      <th>3</th>\n",
       "      <td>Legend of Mortal</td>\n",
       "      <td>2024</td>\n",
       "      <td>440998</td>\n",
       "      <td>19.99</td>\n",
       "      <td>7756399.0</td>\n",
       "      <td>24.797817</td>\n",
       "      <td>76</td>\n",
       "      <td>Indie</td>\n",
       "      <td>Paras Games,Obb Studio Inc.</td>\n",
       "      <td>Obb Studio Inc.</td>\n",
       "      <td>1859910</td>\n",
       "    </tr>\n",
       "    <tr>\n",
       "      <th>4</th>\n",
       "      <td>Shin Megami Tensei V: Vengeance</td>\n",
       "      <td>2024</td>\n",
       "      <td>141306</td>\n",
       "      <td>59.99</td>\n",
       "      <td>7629252.0</td>\n",
       "      <td>34.258496</td>\n",
       "      <td>96</td>\n",
       "      <td>AA</td>\n",
       "      <td>SEGA</td>\n",
       "      <td>ATLUS</td>\n",
       "      <td>1875830</td>\n",
       "    </tr>\n",
       "  </tbody>\n",
       "</table>\n",
       "</div>"
      ],
      "text/plain": [
       "                              name  releasedate  copiessold  price    revenue  \\\n",
       "0                         WWE 2K24         2024      165301  99.99  8055097.0   \n",
       "1            EARTH DEFENSE FORCE 6         2024      159806  59.99  7882151.0   \n",
       "2        Sins of a Solar Empire II         2024      214192  49.99  7815247.0   \n",
       "3                 Legend of Mortal         2024      440998  19.99  7756399.0   \n",
       "4  Shin Megami Tensei V: Vengeance         2024      141306  59.99  7629252.0   \n",
       "\n",
       "   avgplaytime  reviewscore publisherclass                   publishers  \\\n",
       "0    42.365140           71            AAA                           2K   \n",
       "1    29.651061           57          Indie                  D3PUBLISHER   \n",
       "2    12.452593           88          Indie       Stardock Entertainment   \n",
       "3    24.797817           76          Indie  Paras Games,Obb Studio Inc.   \n",
       "4    34.258496           96             AA                         SEGA   \n",
       "\n",
       "                                          developers  steamid  \n",
       "0                                    Visual Concepts  2315690  \n",
       "1                                            SANDLOT  2291060  \n",
       "2  Ironclad Games Corporation,Stardock Entertainment  1575940  \n",
       "3                                    Obb Studio Inc.  1859910  \n",
       "4                                              ATLUS  1875830  "
      ]
     },
     "execution_count": 116,
     "metadata": {},
     "output_type": "execute_result"
    }
   ],
   "source": [
    "steam_2024_revenue.reset_index(drop=True, inplace=True)\n",
    "steam_2024_revenue.columns = [c.lower().strip() for c in steam_2024_revenue.columns.values.tolist()]\n",
    "steam_2024_revenue.head()"
   ]
  },
  {
   "cell_type": "code",
   "execution_count": 117,
   "id": "c270e484-0cfa-4e21-b5fc-f09a2202f85b",
   "metadata": {},
   "outputs": [
    {
     "name": "stdout",
     "output_type": "stream",
     "text": [
      "[165301 159806 214192 ... 501474 156339 544144]\n"
     ]
    }
   ],
   "source": [
    "unique_states = steam_2024_revenue['copiessold'].unique()\n",
    "print(unique_states)"
   ]
  },
  {
   "cell_type": "code",
   "execution_count": 118,
   "id": "e2add2a9-f2e2-4066-a9ed-a1e8f5934dce",
   "metadata": {},
   "outputs": [
    {
     "name": "stdout",
     "output_type": "stream",
     "text": [
      "[99.99 59.99 49.99 19.99 29.99 24.99 35.01  0.   12.99 17.99 14.99 32.99\n",
      "  9.99 20.99 34.99 44.99  2.99 13.99 69.99 10.99  4.99  8.99 21.99 39.99\n",
      "  7.99 15.99  5.99 11.99  6.99 16.99 32.   18.99  3.99 22.99  1.99 18.35\n",
      "  9.25 17.9  12.49  6.5   5.49 54.99 20.   23.99  3.5   3.49  7.   27.99\n",
      " 12.45 12.    2.    9.9  25.5  25.   26.99  9.79 17.76 33.32]\n"
     ]
    }
   ],
   "source": [
    "unique_states = steam_2024_revenue['price'].unique()\n",
    "print(unique_states)"
   ]
  },
  {
   "cell_type": "code",
   "execution_count": 119,
   "id": "ce42cccd-ac57-45a7-9a62-95ff2ddbbe04",
   "metadata": {},
   "outputs": [
    {
     "name": "stdout",
     "output_type": "stream",
     "text": [
      "[8055097. 7882151. 7815247. ... 8641459. 8440898. 8125042.]\n"
     ]
    }
   ],
   "source": [
    "unique_states = steam_2024_revenue['revenue'].unique()\n",
    "print(unique_states)"
   ]
  },
  {
   "cell_type": "code",
   "execution_count": 120,
   "id": "98069be5-3331-49e0-ba8e-1e232c8a3365",
   "metadata": {},
   "outputs": [
    {
     "name": "stdout",
     "output_type": "stream",
     "text": [
      "[42.36514031 29.65106126 12.45259327 ... 11.89115179 14.733899\n",
      " 30.16099468]\n"
     ]
    }
   ],
   "source": [
    "unique_states = steam_2024_revenue['avgplaytime'].unique()\n",
    "print(unique_states)"
   ]
  },
  {
   "cell_type": "code",
   "execution_count": 121,
   "id": "767bde1d-5095-4df3-9724-fb9c4e5dd6d0",
   "metadata": {},
   "outputs": [
    {
     "name": "stdout",
     "output_type": "stream",
     "text": [
      "[ 71  57  88  76  96  79  81  78  95   0  91  42  68  82  99  62  90  98\n",
      "  89  86  97  93  66  87  50  73  92  80  63  75  60  85  83  49  72  84\n",
      "  53  55  94  70  77  67  58  61  11  51  69  74  39  54  43  33 100  64\n",
      "  65  59  44  24  31  46  52  40  45  15  56  37  32  41  48  38  47  25]\n"
     ]
    }
   ],
   "source": [
    "unique_states = steam_2024_revenue['reviewscore'].unique()\n",
    "print(unique_states)"
   ]
  },
  {
   "cell_type": "code",
   "execution_count": 122,
   "id": "ab440ff9-4486-45c1-9c57-9119c12f7eed",
   "metadata": {},
   "outputs": [
    {
     "name": "stdout",
     "output_type": "stream",
     "text": [
      "['AAA' 'Indie' 'AA' 'Hobbyist']\n"
     ]
    }
   ],
   "source": [
    "unique_states = steam_2024_revenue['publisherclass'].unique()\n",
    "print(unique_states)"
   ]
  },
  {
   "cell_type": "code",
   "execution_count": 123,
   "id": "6e17912d-ba74-4f39-bb97-6250c23b69ce",
   "metadata": {},
   "outputs": [
    {
     "name": "stdout",
     "output_type": "stream",
     "text": [
      "['2K' 'D3PUBLISHER' 'Stardock Entertainment' ... 'Games Operators'\n",
      " 'IRONMACE' 'Red Nexus Games Inc.,IndieArk']\n"
     ]
    }
   ],
   "source": [
    "unique_states = steam_2024_revenue['publishers'].unique()\n",
    "print(unique_states)"
   ]
  },
  {
   "cell_type": "code",
   "execution_count": 124,
   "id": "29358650-b560-46a7-bc3b-1f06266d5f32",
   "metadata": {},
   "outputs": [
    {
     "name": "stdout",
     "output_type": "stream",
     "text": [
      "['Visual Concepts' 'SANDLOT'\n",
      " 'Ironclad Games Corporation,Stardock Entertainment' ... 'Lavapotion'\n",
      " 'CRAFTS ＆ MEISTER Co., Ltd' 'Red Nexus Games Inc.']\n"
     ]
    }
   ],
   "source": [
    "unique_states = steam_2024_revenue['developers'].unique()\n",
    "print(unique_states)"
   ]
  },
  {
   "cell_type": "code",
   "execution_count": 125,
   "id": "033031d1-5eca-452e-b359-def55768095e",
   "metadata": {},
   "outputs": [
    {
     "name": "stdout",
     "output_type": "stream",
     "text": [
      "[2315690 2291060 1575940 ...  867210 1672500 1296610]\n"
     ]
    }
   ],
   "source": [
    "unique_states = steam_2024_revenue['steamid'].unique()\n",
    "print(unique_states)"
   ]
  },
  {
   "cell_type": "code",
   "execution_count": 126,
   "id": "c22b02cd-b26e-4ef8-bb38-f72a4a1a616e",
   "metadata": {},
   "outputs": [],
   "source": [
    "# Specify the path where you want to save the CSV\n",
    "save_path = r'C:\\Users\\Cecilia\\Downloads\\ironhack\\coursework\\group work\\group project week3\\first_project_cfg\\data\\clean'\n",
    "\n",
    "steam_2024_revenue.to_csv('steam_2024_revenue_clean')"
   ]
  }
 ],
 "metadata": {
  "kernelspec": {
   "display_name": "venv",
   "language": "python",
   "name": "venv"
  },
  "language_info": {
   "codemirror_mode": {
    "name": "ipython",
    "version": 3
   },
   "file_extension": ".py",
   "mimetype": "text/x-python",
   "name": "python",
   "nbconvert_exporter": "python",
   "pygments_lexer": "ipython3",
   "version": "3.12.4"
  }
 },
 "nbformat": 4,
 "nbformat_minor": 5
}
