{
 "cells": [
  {
   "cell_type": "code",
   "execution_count": null,
   "id": "ae46d5ac-14c0-4531-b645-c79b4e6efcc1",
   "metadata": {},
   "outputs": [],
   "source": [
    "import pandas as pd\n",
    "import seaborn as sns\n",
    "import matplotlib.pyplot as plt\n",
    "import plotly.express as px  # For Plotly Express, which is easy-to-use for quick visualizations\n",
    "import plotly.graph_objects as go "
   ]
  },
  {
   "cell_type": "code",
   "execution_count": null,
   "id": "9f59a386-039b-41ad-be96-022dfba39688",
   "metadata": {},
   "outputs": [],
   "source": [
    "from functions import concatenate_eurostat_countries, cleaning_eurostat_data_for_viz, clean_countries_numbeo, clean_cities\n",
    "eurostat_df = concatenate_eurostat_countries()\n",
    "eurostat_df"
   ]
  },
  {
   "cell_type": "code",
   "execution_count": null,
   "id": "81437663-c40d-4a6d-9285-29f34505dc2f",
   "metadata": {},
   "outputs": [],
   "source": [
    "cities = clean_cities()\n",
    "cities"
   ]
  },
  {
   "cell_type": "code",
   "execution_count": null,
   "id": "b1719071-cf99-4d23-9b44-cb53715fcc20",
   "metadata": {},
   "outputs": [],
   "source": [
    "countries = clean_countries_numbeo()\n",
    "countries"
   ]
  },
  {
   "cell_type": "code",
   "execution_count": null,
   "id": "29e8738e-9a0a-4633-a8df-04e8baac48b7",
   "metadata": {},
   "outputs": [],
   "source": [
    "def cleaning_eurostat_data_for_viz(eurostat_df):\n",
    "    income_df = eurostat_df[eurostat_df.index == 'Income']\n",
    "    housing_df = eurostat_df[eurostat_df.index == \"Housing\"]\n",
    "    rental_df = eurostat_df[eurostat_df.index == \"Rental\"]\n",
    "\n",
    "    income_tidy = income_df.melt(id_vars=\"Country\", var_name=\"Year\", value_name=\"Income\")\n",
    "    housing_tidy = housing_df.melt(id_vars=\"Country\", var_name=\"Year\", value_name=\"Housing\")\n",
    "    rental_tidy = rental_df.melt(id_vars=\"Country\", var_name=\"Rental\")\n",
    "\n",
    "    return income_tidy, housing_tidy, rental_tidy, income_df, housing_df, rental_df"
   ]
  },
  {
   "cell_type": "code",
   "execution_count": null,
   "id": "9a2751c0-0e54-4df5-a88a-b68556c572e2",
   "metadata": {},
   "outputs": [],
   "source": [
    "income_tidy, housing_tidy, rental_tidy, income_df, housing_df, rental_df = cleaning_eurostat_data_for_viz(eurostat_df)\n",
    "\n",
    "# Concatenate the DataFrames into one long DataFrame\n",
    "combined_data = pd.concat([housing_df, rental_df], axis=0)\n",
    "df_portugal = combined_data[combined_data['Country'] == 'PT']\n",
    "df_portugal = df_portugal.reset_index().rename(columns={'index': 'Type'})\n",
    "df_portugal_melted = df_portugal.melt(id_vars=['Type', 'Country'], var_name='Year', value_name='Value')\n",
    "df_portugal_melted"
   ]
  },
  {
   "cell_type": "code",
   "execution_count": null,
   "id": "ab8ddbdf-bc74-41da-ba29-594f6fcdae89",
   "metadata": {},
   "outputs": [],
   "source": [
    "fig = px.line(\n",
    "    df_portugal_melted,\n",
    "    x='Year',\n",
    "    y='Value',\n",
    "    color='Type',  # Different lines for Income and Rental\n",
    "    markers=True,\n",
    "    title=\"Income vs Rental in Portugal (2019-2023)\"\n",
    ")\n",
    "\n",
    "# Show the plot\n",
    "fig.show()"
   ]
  },
  {
   "cell_type": "code",
   "execution_count": null,
   "id": "0b9b0825-4cd1-4910-9d12-b1b7f406c84c",
   "metadata": {},
   "outputs": [],
   "source": [
    "plt.figure(figsize=(9, 6))\n",
    "sns.lineplot(data=income_tidy, x=\"Year\", y=\"Income\", hue=\"Country\", marker=\"o\")\n",
    "plt.title(\"Income Trends for Portugal (2019-2023)\")\n",
    "plt.xlabel(\"Year\")\n",
    "plt.ylabel(\"Income (€)\")\n",
    "plt.show()"
   ]
  },
  {
   "cell_type": "code",
   "execution_count": null,
   "id": "0e991b87-3128-4c64-901a-acc8195b5e1b",
   "metadata": {},
   "outputs": [],
   "source": [
    "df_lisbon = cities[cities[\"City\"] == \"Lisbon\"]\n",
    "df_lisbon"
   ]
  },
  {
   "cell_type": "code",
   "execution_count": null,
   "id": "52b36378-3de6-4100-992a-3f9e55c0919e",
   "metadata": {},
   "outputs": [],
   "source": [
    "df_rent_salary = df_lisbon[df_lisbon['Type'].isin(['1 bed apartment (rent)', '3 bed apartment (rent)', 'Av salary (after tax)'])]\n",
    "df_rent_salary_melted = df_rent_salary.melt(id_vars=[\"Type\", \"City\"], var_name=\"Year\", value_name=\"Value\")\n",
    "fig = px.line(\n",
    "    df_rent_salary_melted,\n",
    "    x=\"Year\",              # x-axis: Year\n",
    "    y=\"Value\",             # y-axis: Value\n",
    "    color=\"Type\",          # Different lines for different Types (rent and salary)\n",
    "    markers=True,          # Add markers at each data point\n",
    "    title=\"Comparison between Rent and Salary in Lisbon (2019-2024)\", # Title of the chart\n",
    "    labels={\"Value\": \"Amount (€)\", \"Year\": \"Year\", \"Type\": \"Type of Data\"} # Axis labels\n",
    ")\n",
    "\n",
    "# Show the plot\n",
    "fig.show()"
   ]
  },
  {
   "cell_type": "code",
   "execution_count": null,
   "id": "b6817b72-ff74-4483-a58c-585a5a3c894b",
   "metadata": {},
   "outputs": [],
   "source": [
    "cities_one_bed_apt = cities[cities['Type'] == \"1 bed apartment (rent)\"]\n",
    "cities_one_bed_apt_melted = cities_one_bed_apt.melt(id_vars=[\"Type\", \"City\"], var_name=\"Year\", value_name=\"Value\")\n",
    "cities_one_bed_apt_melted"
   ]
  },
  {
   "cell_type": "code",
   "execution_count": null,
   "id": "e7459490-dfcf-4e81-a408-06379aa96966",
   "metadata": {},
   "outputs": [],
   "source": [
    "fig = px.line(\n",
    "    cities_one_bed_apt_melted, \n",
    "    x=\"Year\", \n",
    "    y=\"Value\",\n",
    "    color=\"City\",       \n",
    "    line_group=\"City\",  \n",
    "    facet_col=\"Type\",      \n",
    "    markers=True \n",
    ")\n",
    "\n",
    "fig.show()"
   ]
  },
  {
   "cell_type": "code",
   "execution_count": null,
   "id": "5ac9825d-7047-4d9a-80f3-2146497e270c",
   "metadata": {},
   "outputs": [],
   "source": [
    "cities_salaries = cities[cities['Type'] == \"Av salary (after tax)\"]\n",
    "cities_salaries_melted = cities_salaries.melt(id_vars=[\"Type\", \"City\"], var_name=\"Year\", value_name=\"Value\")\n",
    "cities_salaries_melted"
   ]
  },
  {
   "cell_type": "code",
   "execution_count": null,
   "id": "0350306e-764f-4331-bc53-cf3f52b92575",
   "metadata": {},
   "outputs": [],
   "source": [
    "fig = px.line(\n",
    "    cities_salaries_melted, \n",
    "    x=\"Year\", \n",
    "    y=\"Value\",\n",
    "    color=\"City\",       \n",
    "    line_group=\"City\",  \n",
    "    facet_col=\"Type\",      \n",
    "    markers=True\n",
    "    title=\"Average salaries in Lisbon, Berlin and Paris (2019-2024)\", # Title of the chart\n",
    "    labels={\"Value\": \"Amount (€)\", \"Year\": \"Year\", \"Type\": \"Type of Data\"} # Axis labels\n",
    ")\n",
    "\n",
    "fig.show()"
   ]
  },
  {
   "cell_type": "code",
   "execution_count": null,
   "id": "5fc9c626-d338-42c4-b1dc-248642a60d1c",
   "metadata": {},
   "outputs": [],
   "source": []
  }
 ],
 "metadata": {
  "kernelspec": {
   "display_name": "venv",
   "language": "python",
   "name": "venv"
  },
  "language_info": {
   "codemirror_mode": {
    "name": "ipython",
    "version": 3
   },
   "file_extension": ".py",
   "mimetype": "text/x-python",
   "name": "python",
   "nbconvert_exporter": "python",
   "pygments_lexer": "ipython3",
   "version": "3.12.4"
  }
 },
 "nbformat": 4,
 "nbformat_minor": 5
}
