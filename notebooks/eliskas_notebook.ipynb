{
 "cells": [
  {
   "cell_type": "code",
   "execution_count": 15,
   "id": "ae46d5ac-14c0-4531-b645-c79b4e6efcc1",
   "metadata": {},
   "outputs": [],
   "source": [
    "import pandas as pd\n",
    "import seaborn as sns\n",
    "import matplotlib.pyplot as plt\n",
    "import plotly.express as px  # For Plotly Express, which is easy-to-use for quick visualizations\n",
    "import plotly.graph_objects as go "
   ]
  },
  {
   "cell_type": "code",
   "execution_count": 17,
   "id": "9f59a386-039b-41ad-be96-022dfba39688",
   "metadata": {},
   "outputs": [
    {
     "data": {
      "text/html": [
       "<div>\n",
       "<style scoped>\n",
       "    .dataframe tbody tr th:only-of-type {\n",
       "        vertical-align: middle;\n",
       "    }\n",
       "\n",
       "    .dataframe tbody tr th {\n",
       "        vertical-align: top;\n",
       "    }\n",
       "\n",
       "    .dataframe thead th {\n",
       "        text-align: right;\n",
       "    }\n",
       "</style>\n",
       "<table border=\"1\" class=\"dataframe\">\n",
       "  <thead>\n",
       "    <tr style=\"text-align: right;\">\n",
       "      <th></th>\n",
       "      <th>Country</th>\n",
       "      <th>2019</th>\n",
       "      <th>2020</th>\n",
       "      <th>2021</th>\n",
       "      <th>2022</th>\n",
       "      <th>2023</th>\n",
       "    </tr>\n",
       "  </thead>\n",
       "  <tbody>\n",
       "    <tr>\n",
       "      <th>Housing</th>\n",
       "      <td>DE</td>\n",
       "      <td>128.70</td>\n",
       "      <td>138.70</td>\n",
       "      <td>154.80</td>\n",
       "      <td>162.60</td>\n",
       "      <td>148.80</td>\n",
       "    </tr>\n",
       "    <tr>\n",
       "      <th>Housing</th>\n",
       "      <td>FR</td>\n",
       "      <td>110.86</td>\n",
       "      <td>116.62</td>\n",
       "      <td>123.98</td>\n",
       "      <td>131.82</td>\n",
       "      <td>131.26</td>\n",
       "    </tr>\n",
       "    <tr>\n",
       "      <th>Housing</th>\n",
       "      <td>PT</td>\n",
       "      <td>141.88</td>\n",
       "      <td>154.33</td>\n",
       "      <td>168.84</td>\n",
       "      <td>190.17</td>\n",
       "      <td>205.76</td>\n",
       "    </tr>\n",
       "    <tr>\n",
       "      <th>Rental</th>\n",
       "      <td>FR</td>\n",
       "      <td>100.67</td>\n",
       "      <td>101.06</td>\n",
       "      <td>101.92</td>\n",
       "      <td>102.60</td>\n",
       "      <td>104.78</td>\n",
       "    </tr>\n",
       "    <tr>\n",
       "      <th>Rental</th>\n",
       "      <td>DE</td>\n",
       "      <td>106.10</td>\n",
       "      <td>107.60</td>\n",
       "      <td>109.00</td>\n",
       "      <td>110.80</td>\n",
       "      <td>113.10</td>\n",
       "    </tr>\n",
       "    <tr>\n",
       "      <th>Rental</th>\n",
       "      <td>PT</td>\n",
       "      <td>107.97</td>\n",
       "      <td>110.76</td>\n",
       "      <td>112.76</td>\n",
       "      <td>115.79</td>\n",
       "      <td>121.05</td>\n",
       "    </tr>\n",
       "    <tr>\n",
       "      <th>Income</th>\n",
       "      <td>DE</td>\n",
       "      <td>26105.00</td>\n",
       "      <td>29896.00</td>\n",
       "      <td>29106.00</td>\n",
       "      <td>28569.00</td>\n",
       "      <td>30308.00</td>\n",
       "    </tr>\n",
       "    <tr>\n",
       "      <th>Income</th>\n",
       "      <td>FR</td>\n",
       "      <td>26210.00</td>\n",
       "      <td>25382.00</td>\n",
       "      <td>26075.00</td>\n",
       "      <td>26419.00</td>\n",
       "      <td>27577.00</td>\n",
       "    </tr>\n",
       "    <tr>\n",
       "      <th>Income</th>\n",
       "      <td>PT</td>\n",
       "      <td>11786.00</td>\n",
       "      <td>12696.00</td>\n",
       "      <td>13113.00</td>\n",
       "      <td>13148.00</td>\n",
       "      <td>14368.00</td>\n",
       "    </tr>\n",
       "  </tbody>\n",
       "</table>\n",
       "</div>"
      ],
      "text/plain": [
       "        Country      2019      2020      2021      2022      2023\n",
       "Housing      DE    128.70    138.70    154.80    162.60    148.80\n",
       "Housing      FR    110.86    116.62    123.98    131.82    131.26\n",
       "Housing      PT    141.88    154.33    168.84    190.17    205.76\n",
       "Rental       FR    100.67    101.06    101.92    102.60    104.78\n",
       "Rental       DE    106.10    107.60    109.00    110.80    113.10\n",
       "Rental       PT    107.97    110.76    112.76    115.79    121.05\n",
       "Income       DE  26105.00  29896.00  29106.00  28569.00  30308.00\n",
       "Income       FR  26210.00  25382.00  26075.00  26419.00  27577.00\n",
       "Income       PT  11786.00  12696.00  13113.00  13148.00  14368.00"
      ]
     },
     "execution_count": 17,
     "metadata": {},
     "output_type": "execute_result"
    }
   ],
   "source": [
    "from functions import concatenate_eurostat_countries, cleaning_eurostat_data_for_viz, clean_countries_numbeo, clean_cities\n",
    "eurostat_df = concatenate_eurostat_countries()\n",
    "eurostat_df"
   ]
  },
  {
   "cell_type": "code",
   "execution_count": 19,
   "id": "81437663-c40d-4a6d-9285-29f34505dc2f",
   "metadata": {},
   "outputs": [
    {
     "data": {
      "text/html": [
       "<div>\n",
       "<style scoped>\n",
       "    .dataframe tbody tr th:only-of-type {\n",
       "        vertical-align: middle;\n",
       "    }\n",
       "\n",
       "    .dataframe tbody tr th {\n",
       "        vertical-align: top;\n",
       "    }\n",
       "\n",
       "    .dataframe thead th {\n",
       "        text-align: right;\n",
       "    }\n",
       "</style>\n",
       "<table border=\"1\" class=\"dataframe\">\n",
       "  <thead>\n",
       "    <tr style=\"text-align: right;\">\n",
       "      <th></th>\n",
       "      <th>Type</th>\n",
       "      <th>City</th>\n",
       "      <th>2019</th>\n",
       "      <th>2020</th>\n",
       "      <th>2021</th>\n",
       "      <th>2022</th>\n",
       "      <th>2023</th>\n",
       "      <th>2024</th>\n",
       "    </tr>\n",
       "  </thead>\n",
       "  <tbody>\n",
       "    <tr>\n",
       "      <th>0</th>\n",
       "      <td>1 bed apartment (rent)</td>\n",
       "      <td>Lisbon</td>\n",
       "      <td>894.00</td>\n",
       "      <td>843.29</td>\n",
       "      <td>868.30</td>\n",
       "      <td>1024.46</td>\n",
       "      <td>1259.74</td>\n",
       "      <td>1413.16</td>\n",
       "    </tr>\n",
       "    <tr>\n",
       "      <th>1</th>\n",
       "      <td>1 bed apartment (rent)</td>\n",
       "      <td>Berlin</td>\n",
       "      <td>905.53</td>\n",
       "      <td>889.28</td>\n",
       "      <td>1036.35</td>\n",
       "      <td>1237.16</td>\n",
       "      <td>1276.16</td>\n",
       "      <td>1186.62</td>\n",
       "    </tr>\n",
       "    <tr>\n",
       "      <th>2</th>\n",
       "      <td>1 bed apartment (rent)</td>\n",
       "      <td>Paris</td>\n",
       "      <td>1201.81</td>\n",
       "      <td>1222.21</td>\n",
       "      <td>1256.88</td>\n",
       "      <td>1273.16</td>\n",
       "      <td>1333.65</td>\n",
       "      <td>1258.63</td>\n",
       "    </tr>\n",
       "    <tr>\n",
       "      <th>3</th>\n",
       "      <td>3 bed apartment (rent)</td>\n",
       "      <td>Lisbon</td>\n",
       "      <td>1714.73</td>\n",
       "      <td>1590.85</td>\n",
       "      <td>1628.03</td>\n",
       "      <td>2039.40</td>\n",
       "      <td>2372.69</td>\n",
       "      <td>2642.11</td>\n",
       "    </tr>\n",
       "    <tr>\n",
       "      <th>4</th>\n",
       "      <td>3 bed apartment (rent)</td>\n",
       "      <td>Berlin</td>\n",
       "      <td>1717.16</td>\n",
       "      <td>1715.00</td>\n",
       "      <td>2038.62</td>\n",
       "      <td>2265.78</td>\n",
       "      <td>1879.18</td>\n",
       "      <td>2253.27</td>\n",
       "    </tr>\n",
       "    <tr>\n",
       "      <th>5</th>\n",
       "      <td>3 bed apartment (rent)</td>\n",
       "      <td>Paris</td>\n",
       "      <td>2660.91</td>\n",
       "      <td>2752.22</td>\n",
       "      <td>2660.99</td>\n",
       "      <td>2922.45</td>\n",
       "      <td>3013.00</td>\n",
       "      <td>3100.00</td>\n",
       "    </tr>\n",
       "    <tr>\n",
       "      <th>6</th>\n",
       "      <td>Buy apartment (per m2 in city center)</td>\n",
       "      <td>Lisbon</td>\n",
       "      <td>4342.65</td>\n",
       "      <td>4422.10</td>\n",
       "      <td>4868.25</td>\n",
       "      <td>6097.94</td>\n",
       "      <td>5251.24</td>\n",
       "      <td>5979.57</td>\n",
       "    </tr>\n",
       "    <tr>\n",
       "      <th>7</th>\n",
       "      <td>Buy apartment (per m2 in city center)</td>\n",
       "      <td>Berlin</td>\n",
       "      <td>6193.00</td>\n",
       "      <td>5989.03</td>\n",
       "      <td>6872.62</td>\n",
       "      <td>8426.66</td>\n",
       "      <td>8147.85</td>\n",
       "      <td>7880.79</td>\n",
       "    </tr>\n",
       "    <tr>\n",
       "      <th>8</th>\n",
       "      <td>Buy apartment (per m2 in city center)</td>\n",
       "      <td>Paris</td>\n",
       "      <td>11508.28</td>\n",
       "      <td>12195.74</td>\n",
       "      <td>12520.70</td>\n",
       "      <td>12460.36</td>\n",
       "      <td>11844.44</td>\n",
       "      <td>12330.04</td>\n",
       "    </tr>\n",
       "    <tr>\n",
       "      <th>9</th>\n",
       "      <td>Av salary (after tax)</td>\n",
       "      <td>Lisbon</td>\n",
       "      <td>931.03</td>\n",
       "      <td>1028.22</td>\n",
       "      <td>1034.12</td>\n",
       "      <td>1062.71</td>\n",
       "      <td>1169.53</td>\n",
       "      <td>1235.38</td>\n",
       "    </tr>\n",
       "    <tr>\n",
       "      <th>10</th>\n",
       "      <td>Av salary (after tax)</td>\n",
       "      <td>Berlin</td>\n",
       "      <td>2360.33</td>\n",
       "      <td>2397.59</td>\n",
       "      <td>2971.54</td>\n",
       "      <td>2987.30</td>\n",
       "      <td>3128.02</td>\n",
       "      <td>2952.47</td>\n",
       "    </tr>\n",
       "    <tr>\n",
       "      <th>11</th>\n",
       "      <td>Av salary (after tax)</td>\n",
       "      <td>Paris</td>\n",
       "      <td>2308.96</td>\n",
       "      <td>2510.77</td>\n",
       "      <td>2791.18</td>\n",
       "      <td>2601.82</td>\n",
       "      <td>2846.41</td>\n",
       "      <td>3076.78</td>\n",
       "    </tr>\n",
       "  </tbody>\n",
       "</table>\n",
       "</div>"
      ],
      "text/plain": [
       "                                     Type    City      2019      2020  \\\n",
       "0                  1 bed apartment (rent)  Lisbon    894.00    843.29   \n",
       "1                  1 bed apartment (rent)  Berlin    905.53    889.28   \n",
       "2                  1 bed apartment (rent)   Paris   1201.81   1222.21   \n",
       "3                  3 bed apartment (rent)  Lisbon   1714.73   1590.85   \n",
       "4                  3 bed apartment (rent)  Berlin   1717.16   1715.00   \n",
       "5                  3 bed apartment (rent)   Paris   2660.91   2752.22   \n",
       "6   Buy apartment (per m2 in city center)  Lisbon   4342.65   4422.10   \n",
       "7   Buy apartment (per m2 in city center)  Berlin   6193.00   5989.03   \n",
       "8   Buy apartment (per m2 in city center)   Paris  11508.28  12195.74   \n",
       "9                   Av salary (after tax)  Lisbon    931.03   1028.22   \n",
       "10                  Av salary (after tax)  Berlin   2360.33   2397.59   \n",
       "11                  Av salary (after tax)   Paris   2308.96   2510.77   \n",
       "\n",
       "        2021      2022      2023      2024  \n",
       "0     868.30   1024.46   1259.74   1413.16  \n",
       "1    1036.35   1237.16   1276.16   1186.62  \n",
       "2    1256.88   1273.16   1333.65   1258.63  \n",
       "3    1628.03   2039.40   2372.69   2642.11  \n",
       "4    2038.62   2265.78   1879.18   2253.27  \n",
       "5    2660.99   2922.45   3013.00   3100.00  \n",
       "6    4868.25   6097.94   5251.24   5979.57  \n",
       "7    6872.62   8426.66   8147.85   7880.79  \n",
       "8   12520.70  12460.36  11844.44  12330.04  \n",
       "9    1034.12   1062.71   1169.53   1235.38  \n",
       "10   2971.54   2987.30   3128.02   2952.47  \n",
       "11   2791.18   2601.82   2846.41   3076.78  "
      ]
     },
     "execution_count": 19,
     "metadata": {},
     "output_type": "execute_result"
    }
   ],
   "source": [
    "cities = clean_cities()"
   ]
  },
  {
   "cell_type": "code",
   "execution_count": 21,
   "id": "b1719071-cf99-4d23-9b44-cb53715fcc20",
   "metadata": {},
   "outputs": [
    {
     "data": {
      "text/html": [
       "<div>\n",
       "<style scoped>\n",
       "    .dataframe tbody tr th:only-of-type {\n",
       "        vertical-align: middle;\n",
       "    }\n",
       "\n",
       "    .dataframe tbody tr th {\n",
       "        vertical-align: top;\n",
       "    }\n",
       "\n",
       "    .dataframe thead th {\n",
       "        text-align: right;\n",
       "    }\n",
       "</style>\n",
       "<table border=\"1\" class=\"dataframe\">\n",
       "  <thead>\n",
       "    <tr style=\"text-align: right;\">\n",
       "      <th></th>\n",
       "      <th>Type</th>\n",
       "      <th>Country</th>\n",
       "      <th>2019</th>\n",
       "      <th>2020</th>\n",
       "      <th>2021</th>\n",
       "      <th>2022</th>\n",
       "      <th>2023</th>\n",
       "      <th>2024</th>\n",
       "    </tr>\n",
       "  </thead>\n",
       "  <tbody>\n",
       "    <tr>\n",
       "      <th>0</th>\n",
       "      <td>1 bed apartment (rent)</td>\n",
       "      <td>PT</td>\n",
       "      <td>727.16</td>\n",
       "      <td>690.16</td>\n",
       "      <td>677.24</td>\n",
       "      <td>802.66</td>\n",
       "      <td>967.85</td>\n",
       "      <td>925.52</td>\n",
       "    </tr>\n",
       "    <tr>\n",
       "      <th>1</th>\n",
       "      <td>1 bed apartment (rent)</td>\n",
       "      <td>DE</td>\n",
       "      <td>833.65</td>\n",
       "      <td>844.54</td>\n",
       "      <td>850.07</td>\n",
       "      <td>908.01</td>\n",
       "      <td>986.39</td>\n",
       "      <td>886.44</td>\n",
       "    </tr>\n",
       "    <tr>\n",
       "      <th>2</th>\n",
       "      <td>1 bed apartment (rent)</td>\n",
       "      <td>FR</td>\n",
       "      <td>827.61</td>\n",
       "      <td>848.22</td>\n",
       "      <td>820.06</td>\n",
       "      <td>820.66</td>\n",
       "      <td>862.08</td>\n",
       "      <td>754.73</td>\n",
       "    </tr>\n",
       "    <tr>\n",
       "      <th>3</th>\n",
       "      <td>3 bed apartment (rent)</td>\n",
       "      <td>PT</td>\n",
       "      <td>1374.06</td>\n",
       "      <td>1196.87</td>\n",
       "      <td>1216.46</td>\n",
       "      <td>1396.72</td>\n",
       "      <td>1734.01</td>\n",
       "      <td>1632.07</td>\n",
       "    </tr>\n",
       "    <tr>\n",
       "      <th>4</th>\n",
       "      <td>3 bed apartment (rent)</td>\n",
       "      <td>DE</td>\n",
       "      <td>1574.66</td>\n",
       "      <td>1632.03</td>\n",
       "      <td>1675.07</td>\n",
       "      <td>1687.72</td>\n",
       "      <td>1824.63</td>\n",
       "      <td>1259.65</td>\n",
       "    </tr>\n",
       "    <tr>\n",
       "      <th>5</th>\n",
       "      <td>3 bed apartment (rent)</td>\n",
       "      <td>FR</td>\n",
       "      <td>1656.09</td>\n",
       "      <td>1742.43</td>\n",
       "      <td>1512.53</td>\n",
       "      <td>1651.85</td>\n",
       "      <td>1619.44</td>\n",
       "      <td>1126.74</td>\n",
       "    </tr>\n",
       "    <tr>\n",
       "      <th>6</th>\n",
       "      <td>Buy apartment (per m2 in city center)</td>\n",
       "      <td>PT</td>\n",
       "      <td>3181.63</td>\n",
       "      <td>3171.13</td>\n",
       "      <td>3284.32</td>\n",
       "      <td>3071.82</td>\n",
       "      <td>3418.93</td>\n",
       "      <td>3473.81</td>\n",
       "    </tr>\n",
       "    <tr>\n",
       "      <th>7</th>\n",
       "      <td>Buy apartment (per m2 in city center)</td>\n",
       "      <td>DE</td>\n",
       "      <td>5930.62</td>\n",
       "      <td>6226.27</td>\n",
       "      <td>6663.72</td>\n",
       "      <td>6516.65</td>\n",
       "      <td>6782.66</td>\n",
       "      <td>5717.90</td>\n",
       "    </tr>\n",
       "    <tr>\n",
       "      <th>8</th>\n",
       "      <td>Buy apartment (per m2 in city center)</td>\n",
       "      <td>FR</td>\n",
       "      <td>8306.39</td>\n",
       "      <td>8919.73</td>\n",
       "      <td>6900.37</td>\n",
       "      <td>7471.86</td>\n",
       "      <td>6201.12</td>\n",
       "      <td>5818.93</td>\n",
       "    </tr>\n",
       "    <tr>\n",
       "      <th>9</th>\n",
       "      <td>Av salary (after tax)</td>\n",
       "      <td>PT</td>\n",
       "      <td>885.56</td>\n",
       "      <td>897.57</td>\n",
       "      <td>923.04</td>\n",
       "      <td>1012.24</td>\n",
       "      <td>1064.03</td>\n",
       "      <td>1037.11</td>\n",
       "    </tr>\n",
       "    <tr>\n",
       "      <th>10</th>\n",
       "      <td>Av salary (after tax)</td>\n",
       "      <td>DE</td>\n",
       "      <td>2355.41</td>\n",
       "      <td>2524.62</td>\n",
       "      <td>2819.95</td>\n",
       "      <td>2814.30</td>\n",
       "      <td>3018.04</td>\n",
       "      <td>2806.37</td>\n",
       "    </tr>\n",
       "    <tr>\n",
       "      <th>11</th>\n",
       "      <td>Av salary (after tax)</td>\n",
       "      <td>FR</td>\n",
       "      <td>2061.50</td>\n",
       "      <td>2222.49</td>\n",
       "      <td>2405.39</td>\n",
       "      <td>2269.04</td>\n",
       "      <td>2578.74</td>\n",
       "      <td>2343.19</td>\n",
       "    </tr>\n",
       "    <tr>\n",
       "      <th>12</th>\n",
       "      <td>Min wage (after tax)</td>\n",
       "      <td>PT</td>\n",
       "      <td>600.00</td>\n",
       "      <td>635.00</td>\n",
       "      <td>665.00</td>\n",
       "      <td>705.00</td>\n",
       "      <td>760.00</td>\n",
       "      <td>820.00</td>\n",
       "    </tr>\n",
       "    <tr>\n",
       "      <th>13</th>\n",
       "      <td>Min wage (after tax)</td>\n",
       "      <td>DE</td>\n",
       "      <td>1249.84</td>\n",
       "      <td>1271.60</td>\n",
       "      <td>1305.60</td>\n",
       "      <td>1345.55</td>\n",
       "      <td>1684.80</td>\n",
       "      <td>1742.31</td>\n",
       "    </tr>\n",
       "    <tr>\n",
       "      <th>14</th>\n",
       "      <td>Min wage (after tax)</td>\n",
       "      <td>FR</td>\n",
       "      <td>1232.18</td>\n",
       "      <td>1246.93</td>\n",
       "      <td>1287.47</td>\n",
       "      <td>1359.95</td>\n",
       "      <td>1415.23</td>\n",
       "      <td>1531.53</td>\n",
       "    </tr>\n",
       "  </tbody>\n",
       "</table>\n",
       "</div>"
      ],
      "text/plain": [
       "                                     Type Country     2019     2020     2021  \\\n",
       "0                  1 bed apartment (rent)      PT   727.16   690.16   677.24   \n",
       "1                  1 bed apartment (rent)      DE   833.65   844.54   850.07   \n",
       "2                  1 bed apartment (rent)      FR   827.61   848.22   820.06   \n",
       "3                  3 bed apartment (rent)      PT  1374.06  1196.87  1216.46   \n",
       "4                  3 bed apartment (rent)      DE  1574.66  1632.03  1675.07   \n",
       "5                  3 bed apartment (rent)      FR  1656.09  1742.43  1512.53   \n",
       "6   Buy apartment (per m2 in city center)      PT  3181.63  3171.13  3284.32   \n",
       "7   Buy apartment (per m2 in city center)      DE  5930.62  6226.27  6663.72   \n",
       "8   Buy apartment (per m2 in city center)      FR  8306.39  8919.73  6900.37   \n",
       "9                   Av salary (after tax)      PT   885.56   897.57   923.04   \n",
       "10                  Av salary (after tax)      DE  2355.41  2524.62  2819.95   \n",
       "11                  Av salary (after tax)      FR  2061.50  2222.49  2405.39   \n",
       "12                   Min wage (after tax)      PT   600.00   635.00   665.00   \n",
       "13                   Min wage (after tax)      DE  1249.84  1271.60  1305.60   \n",
       "14                   Min wage (after tax)      FR  1232.18  1246.93  1287.47   \n",
       "\n",
       "       2022     2023     2024  \n",
       "0    802.66   967.85   925.52  \n",
       "1    908.01   986.39   886.44  \n",
       "2    820.66   862.08   754.73  \n",
       "3   1396.72  1734.01  1632.07  \n",
       "4   1687.72  1824.63  1259.65  \n",
       "5   1651.85  1619.44  1126.74  \n",
       "6   3071.82  3418.93  3473.81  \n",
       "7   6516.65  6782.66  5717.90  \n",
       "8   7471.86  6201.12  5818.93  \n",
       "9   1012.24  1064.03  1037.11  \n",
       "10  2814.30  3018.04  2806.37  \n",
       "11  2269.04  2578.74  2343.19  \n",
       "12   705.00   760.00   820.00  \n",
       "13  1345.55  1684.80  1742.31  \n",
       "14  1359.95  1415.23  1531.53  "
      ]
     },
     "execution_count": 21,
     "metadata": {},
     "output_type": "execute_result"
    }
   ],
   "source": [
    "countries = clean_countries_numbeo()\n",
    "countries"
   ]
  },
  {
   "cell_type": "code",
   "execution_count": 23,
   "id": "29e8738e-9a0a-4633-a8df-04e8baac48b7",
   "metadata": {},
   "outputs": [],
   "source": [
    "income_tidy, housing_tidy, rental_tidy, income_df, housing_df, rental_df = cleaning_eurostat_data_for_viz(eurostat_df)\n",
    "income_df"
   ]
  },
  {
   "cell_type": "code",
   "execution_count": 47,
   "id": "9a2751c0-0e54-4df5-a88a-b68556c572e2",
   "metadata": {},
   "outputs": [
    {
     "data": {
      "text/html": [
       "<div>\n",
       "<style scoped>\n",
       "    .dataframe tbody tr th:only-of-type {\n",
       "        vertical-align: middle;\n",
       "    }\n",
       "\n",
       "    .dataframe tbody tr th {\n",
       "        vertical-align: top;\n",
       "    }\n",
       "\n",
       "    .dataframe thead th {\n",
       "        text-align: right;\n",
       "    }\n",
       "</style>\n",
       "<table border=\"1\" class=\"dataframe\">\n",
       "  <thead>\n",
       "    <tr style=\"text-align: right;\">\n",
       "      <th></th>\n",
       "      <th>Type</th>\n",
       "      <th>Country</th>\n",
       "      <th>Year</th>\n",
       "      <th>Value</th>\n",
       "    </tr>\n",
       "  </thead>\n",
       "  <tbody>\n",
       "    <tr>\n",
       "      <th>0</th>\n",
       "      <td>Housing</td>\n",
       "      <td>FR</td>\n",
       "      <td>2019</td>\n",
       "      <td>110.86</td>\n",
       "    </tr>\n",
       "    <tr>\n",
       "      <th>1</th>\n",
       "      <td>Rental</td>\n",
       "      <td>FR</td>\n",
       "      <td>2019</td>\n",
       "      <td>100.67</td>\n",
       "    </tr>\n",
       "    <tr>\n",
       "      <th>2</th>\n",
       "      <td>Housing</td>\n",
       "      <td>FR</td>\n",
       "      <td>2020</td>\n",
       "      <td>116.62</td>\n",
       "    </tr>\n",
       "    <tr>\n",
       "      <th>3</th>\n",
       "      <td>Rental</td>\n",
       "      <td>FR</td>\n",
       "      <td>2020</td>\n",
       "      <td>101.06</td>\n",
       "    </tr>\n",
       "    <tr>\n",
       "      <th>4</th>\n",
       "      <td>Housing</td>\n",
       "      <td>FR</td>\n",
       "      <td>2021</td>\n",
       "      <td>123.98</td>\n",
       "    </tr>\n",
       "    <tr>\n",
       "      <th>5</th>\n",
       "      <td>Rental</td>\n",
       "      <td>FR</td>\n",
       "      <td>2021</td>\n",
       "      <td>101.92</td>\n",
       "    </tr>\n",
       "    <tr>\n",
       "      <th>6</th>\n",
       "      <td>Housing</td>\n",
       "      <td>FR</td>\n",
       "      <td>2022</td>\n",
       "      <td>131.82</td>\n",
       "    </tr>\n",
       "    <tr>\n",
       "      <th>7</th>\n",
       "      <td>Rental</td>\n",
       "      <td>FR</td>\n",
       "      <td>2022</td>\n",
       "      <td>102.60</td>\n",
       "    </tr>\n",
       "    <tr>\n",
       "      <th>8</th>\n",
       "      <td>Housing</td>\n",
       "      <td>FR</td>\n",
       "      <td>2023</td>\n",
       "      <td>131.26</td>\n",
       "    </tr>\n",
       "    <tr>\n",
       "      <th>9</th>\n",
       "      <td>Rental</td>\n",
       "      <td>FR</td>\n",
       "      <td>2023</td>\n",
       "      <td>104.78</td>\n",
       "    </tr>\n",
       "  </tbody>\n",
       "</table>\n",
       "</div>"
      ],
      "text/plain": [
       "      Type Country  Year   Value\n",
       "0  Housing      FR  2019  110.86\n",
       "1   Rental      FR  2019  100.67\n",
       "2  Housing      FR  2020  116.62\n",
       "3   Rental      FR  2020  101.06\n",
       "4  Housing      FR  2021  123.98\n",
       "5   Rental      FR  2021  101.92\n",
       "6  Housing      FR  2022  131.82\n",
       "7   Rental      FR  2022  102.60\n",
       "8  Housing      FR  2023  131.26\n",
       "9   Rental      FR  2023  104.78"
      ]
     },
     "execution_count": 47,
     "metadata": {},
     "output_type": "execute_result"
    }
   ],
   "source": [
    "# Concatenate the DataFrames into one long DataFrame\n",
    "combined_data = pd.concat([housing_df, rental_df], axis=0)\n",
    "df_france = combined_data[combined_data['Country'] == 'FR']\n",
    "df_france = df_france.reset_index().rename(columns={'index': 'Type'})\n",
    "df_france_melted = df_france.melt(id_vars=['Type', 'Country'], var_name='Year', value_name='Value')\n",
    "df_france_melted"
   ]
  },
  {
   "cell_type": "code",
   "execution_count": 60,
   "id": "ab8ddbdf-bc74-41da-ba29-594f6fcdae89",
   "metadata": {},
   "outputs": [
    {
     "data": {
      "application/vnd.plotly.v1+json": {
       "config": {
        "plotlyServerURL": "https://plot.ly"
       },
       "data": [
        {
         "hovertemplate": "Type=Housing<br>Year=%{x}<br>Value=%{y}<extra></extra>",
         "legendgroup": "Housing",
         "line": {
          "color": "#636efa",
          "dash": "solid"
         },
         "marker": {
          "symbol": "circle"
         },
         "mode": "lines+markers",
         "name": "Housing",
         "orientation": "v",
         "showlegend": true,
         "type": "scatter",
         "x": [
          2019,
          2020,
          2021,
          2022,
          2023
         ],
         "xaxis": "x",
         "y": [
          110.86,
          116.62,
          123.98,
          131.82,
          131.26
         ],
         "yaxis": "y"
        },
        {
         "hovertemplate": "Type=Rental<br>Year=%{x}<br>Value=%{y}<extra></extra>",
         "legendgroup": "Rental",
         "line": {
          "color": "#EF553B",
          "dash": "solid"
         },
         "marker": {
          "symbol": "circle"
         },
         "mode": "lines+markers",
         "name": "Rental",
         "orientation": "v",
         "showlegend": true,
         "type": "scatter",
         "x": [
          2019,
          2020,
          2021,
          2022,
          2023
         ],
         "xaxis": "x",
         "y": [
          100.67,
          101.06,
          101.92,
          102.6,
          104.78
         ],
         "yaxis": "y"
        }
       ],
       "layout": {
        "autosize": true,
        "legend": {
         "title": {
          "text": "Type"
         },
         "tracegroupgap": 0
        },
        "template": {
         "data": {
          "bar": [
           {
            "error_x": {
             "color": "#2a3f5f"
            },
            "error_y": {
             "color": "#2a3f5f"
            },
            "marker": {
             "line": {
              "color": "#E5ECF6",
              "width": 0.5
             },
             "pattern": {
              "fillmode": "overlay",
              "size": 10,
              "solidity": 0.2
             }
            },
            "type": "bar"
           }
          ],
          "barpolar": [
           {
            "marker": {
             "line": {
              "color": "#E5ECF6",
              "width": 0.5
             },
             "pattern": {
              "fillmode": "overlay",
              "size": 10,
              "solidity": 0.2
             }
            },
            "type": "barpolar"
           }
          ],
          "carpet": [
           {
            "aaxis": {
             "endlinecolor": "#2a3f5f",
             "gridcolor": "white",
             "linecolor": "white",
             "minorgridcolor": "white",
             "startlinecolor": "#2a3f5f"
            },
            "baxis": {
             "endlinecolor": "#2a3f5f",
             "gridcolor": "white",
             "linecolor": "white",
             "minorgridcolor": "white",
             "startlinecolor": "#2a3f5f"
            },
            "type": "carpet"
           }
          ],
          "choropleth": [
           {
            "colorbar": {
             "outlinewidth": 0,
             "ticks": ""
            },
            "type": "choropleth"
           }
          ],
          "contour": [
           {
            "colorbar": {
             "outlinewidth": 0,
             "ticks": ""
            },
            "colorscale": [
             [
              0,
              "#0d0887"
             ],
             [
              0.1111111111111111,
              "#46039f"
             ],
             [
              0.2222222222222222,
              "#7201a8"
             ],
             [
              0.3333333333333333,
              "#9c179e"
             ],
             [
              0.4444444444444444,
              "#bd3786"
             ],
             [
              0.5555555555555556,
              "#d8576b"
             ],
             [
              0.6666666666666666,
              "#ed7953"
             ],
             [
              0.7777777777777778,
              "#fb9f3a"
             ],
             [
              0.8888888888888888,
              "#fdca26"
             ],
             [
              1,
              "#f0f921"
             ]
            ],
            "type": "contour"
           }
          ],
          "contourcarpet": [
           {
            "colorbar": {
             "outlinewidth": 0,
             "ticks": ""
            },
            "type": "contourcarpet"
           }
          ],
          "heatmap": [
           {
            "colorbar": {
             "outlinewidth": 0,
             "ticks": ""
            },
            "colorscale": [
             [
              0,
              "#0d0887"
             ],
             [
              0.1111111111111111,
              "#46039f"
             ],
             [
              0.2222222222222222,
              "#7201a8"
             ],
             [
              0.3333333333333333,
              "#9c179e"
             ],
             [
              0.4444444444444444,
              "#bd3786"
             ],
             [
              0.5555555555555556,
              "#d8576b"
             ],
             [
              0.6666666666666666,
              "#ed7953"
             ],
             [
              0.7777777777777778,
              "#fb9f3a"
             ],
             [
              0.8888888888888888,
              "#fdca26"
             ],
             [
              1,
              "#f0f921"
             ]
            ],
            "type": "heatmap"
           }
          ],
          "heatmapgl": [
           {
            "colorbar": {
             "outlinewidth": 0,
             "ticks": ""
            },
            "colorscale": [
             [
              0,
              "#0d0887"
             ],
             [
              0.1111111111111111,
              "#46039f"
             ],
             [
              0.2222222222222222,
              "#7201a8"
             ],
             [
              0.3333333333333333,
              "#9c179e"
             ],
             [
              0.4444444444444444,
              "#bd3786"
             ],
             [
              0.5555555555555556,
              "#d8576b"
             ],
             [
              0.6666666666666666,
              "#ed7953"
             ],
             [
              0.7777777777777778,
              "#fb9f3a"
             ],
             [
              0.8888888888888888,
              "#fdca26"
             ],
             [
              1,
              "#f0f921"
             ]
            ],
            "type": "heatmapgl"
           }
          ],
          "histogram": [
           {
            "marker": {
             "pattern": {
              "fillmode": "overlay",
              "size": 10,
              "solidity": 0.2
             }
            },
            "type": "histogram"
           }
          ],
          "histogram2d": [
           {
            "colorbar": {
             "outlinewidth": 0,
             "ticks": ""
            },
            "colorscale": [
             [
              0,
              "#0d0887"
             ],
             [
              0.1111111111111111,
              "#46039f"
             ],
             [
              0.2222222222222222,
              "#7201a8"
             ],
             [
              0.3333333333333333,
              "#9c179e"
             ],
             [
              0.4444444444444444,
              "#bd3786"
             ],
             [
              0.5555555555555556,
              "#d8576b"
             ],
             [
              0.6666666666666666,
              "#ed7953"
             ],
             [
              0.7777777777777778,
              "#fb9f3a"
             ],
             [
              0.8888888888888888,
              "#fdca26"
             ],
             [
              1,
              "#f0f921"
             ]
            ],
            "type": "histogram2d"
           }
          ],
          "histogram2dcontour": [
           {
            "colorbar": {
             "outlinewidth": 0,
             "ticks": ""
            },
            "colorscale": [
             [
              0,
              "#0d0887"
             ],
             [
              0.1111111111111111,
              "#46039f"
             ],
             [
              0.2222222222222222,
              "#7201a8"
             ],
             [
              0.3333333333333333,
              "#9c179e"
             ],
             [
              0.4444444444444444,
              "#bd3786"
             ],
             [
              0.5555555555555556,
              "#d8576b"
             ],
             [
              0.6666666666666666,
              "#ed7953"
             ],
             [
              0.7777777777777778,
              "#fb9f3a"
             ],
             [
              0.8888888888888888,
              "#fdca26"
             ],
             [
              1,
              "#f0f921"
             ]
            ],
            "type": "histogram2dcontour"
           }
          ],
          "mesh3d": [
           {
            "colorbar": {
             "outlinewidth": 0,
             "ticks": ""
            },
            "type": "mesh3d"
           }
          ],
          "parcoords": [
           {
            "line": {
             "colorbar": {
              "outlinewidth": 0,
              "ticks": ""
             }
            },
            "type": "parcoords"
           }
          ],
          "pie": [
           {
            "automargin": true,
            "type": "pie"
           }
          ],
          "scatter": [
           {
            "fillpattern": {
             "fillmode": "overlay",
             "size": 10,
             "solidity": 0.2
            },
            "type": "scatter"
           }
          ],
          "scatter3d": [
           {
            "line": {
             "colorbar": {
              "outlinewidth": 0,
              "ticks": ""
             }
            },
            "marker": {
             "colorbar": {
              "outlinewidth": 0,
              "ticks": ""
             }
            },
            "type": "scatter3d"
           }
          ],
          "scattercarpet": [
           {
            "marker": {
             "colorbar": {
              "outlinewidth": 0,
              "ticks": ""
             }
            },
            "type": "scattercarpet"
           }
          ],
          "scattergeo": [
           {
            "marker": {
             "colorbar": {
              "outlinewidth": 0,
              "ticks": ""
             }
            },
            "type": "scattergeo"
           }
          ],
          "scattergl": [
           {
            "marker": {
             "colorbar": {
              "outlinewidth": 0,
              "ticks": ""
             }
            },
            "type": "scattergl"
           }
          ],
          "scattermapbox": [
           {
            "marker": {
             "colorbar": {
              "outlinewidth": 0,
              "ticks": ""
             }
            },
            "type": "scattermapbox"
           }
          ],
          "scatterpolar": [
           {
            "marker": {
             "colorbar": {
              "outlinewidth": 0,
              "ticks": ""
             }
            },
            "type": "scatterpolar"
           }
          ],
          "scatterpolargl": [
           {
            "marker": {
             "colorbar": {
              "outlinewidth": 0,
              "ticks": ""
             }
            },
            "type": "scatterpolargl"
           }
          ],
          "scatterternary": [
           {
            "marker": {
             "colorbar": {
              "outlinewidth": 0,
              "ticks": ""
             }
            },
            "type": "scatterternary"
           }
          ],
          "surface": [
           {
            "colorbar": {
             "outlinewidth": 0,
             "ticks": ""
            },
            "colorscale": [
             [
              0,
              "#0d0887"
             ],
             [
              0.1111111111111111,
              "#46039f"
             ],
             [
              0.2222222222222222,
              "#7201a8"
             ],
             [
              0.3333333333333333,
              "#9c179e"
             ],
             [
              0.4444444444444444,
              "#bd3786"
             ],
             [
              0.5555555555555556,
              "#d8576b"
             ],
             [
              0.6666666666666666,
              "#ed7953"
             ],
             [
              0.7777777777777778,
              "#fb9f3a"
             ],
             [
              0.8888888888888888,
              "#fdca26"
             ],
             [
              1,
              "#f0f921"
             ]
            ],
            "type": "surface"
           }
          ],
          "table": [
           {
            "cells": {
             "fill": {
              "color": "#EBF0F8"
             },
             "line": {
              "color": "white"
             }
            },
            "header": {
             "fill": {
              "color": "#C8D4E3"
             },
             "line": {
              "color": "white"
             }
            },
            "type": "table"
           }
          ]
         },
         "layout": {
          "annotationdefaults": {
           "arrowcolor": "#2a3f5f",
           "arrowhead": 0,
           "arrowwidth": 1
          },
          "autotypenumbers": "strict",
          "coloraxis": {
           "colorbar": {
            "outlinewidth": 0,
            "ticks": ""
           }
          },
          "colorscale": {
           "diverging": [
            [
             0,
             "#8e0152"
            ],
            [
             0.1,
             "#c51b7d"
            ],
            [
             0.2,
             "#de77ae"
            ],
            [
             0.3,
             "#f1b6da"
            ],
            [
             0.4,
             "#fde0ef"
            ],
            [
             0.5,
             "#f7f7f7"
            ],
            [
             0.6,
             "#e6f5d0"
            ],
            [
             0.7,
             "#b8e186"
            ],
            [
             0.8,
             "#7fbc41"
            ],
            [
             0.9,
             "#4d9221"
            ],
            [
             1,
             "#276419"
            ]
           ],
           "sequential": [
            [
             0,
             "#0d0887"
            ],
            [
             0.1111111111111111,
             "#46039f"
            ],
            [
             0.2222222222222222,
             "#7201a8"
            ],
            [
             0.3333333333333333,
             "#9c179e"
            ],
            [
             0.4444444444444444,
             "#bd3786"
            ],
            [
             0.5555555555555556,
             "#d8576b"
            ],
            [
             0.6666666666666666,
             "#ed7953"
            ],
            [
             0.7777777777777778,
             "#fb9f3a"
            ],
            [
             0.8888888888888888,
             "#fdca26"
            ],
            [
             1,
             "#f0f921"
            ]
           ],
           "sequentialminus": [
            [
             0,
             "#0d0887"
            ],
            [
             0.1111111111111111,
             "#46039f"
            ],
            [
             0.2222222222222222,
             "#7201a8"
            ],
            [
             0.3333333333333333,
             "#9c179e"
            ],
            [
             0.4444444444444444,
             "#bd3786"
            ],
            [
             0.5555555555555556,
             "#d8576b"
            ],
            [
             0.6666666666666666,
             "#ed7953"
            ],
            [
             0.7777777777777778,
             "#fb9f3a"
            ],
            [
             0.8888888888888888,
             "#fdca26"
            ],
            [
             1,
             "#f0f921"
            ]
           ]
          },
          "colorway": [
           "#636efa",
           "#EF553B",
           "#00cc96",
           "#ab63fa",
           "#FFA15A",
           "#19d3f3",
           "#FF6692",
           "#B6E880",
           "#FF97FF",
           "#FECB52"
          ],
          "font": {
           "color": "#2a3f5f"
          },
          "geo": {
           "bgcolor": "white",
           "lakecolor": "white",
           "landcolor": "#E5ECF6",
           "showlakes": true,
           "showland": true,
           "subunitcolor": "white"
          },
          "hoverlabel": {
           "align": "left"
          },
          "hovermode": "closest",
          "mapbox": {
           "style": "light"
          },
          "paper_bgcolor": "white",
          "plot_bgcolor": "#E5ECF6",
          "polar": {
           "angularaxis": {
            "gridcolor": "white",
            "linecolor": "white",
            "ticks": ""
           },
           "bgcolor": "#E5ECF6",
           "radialaxis": {
            "gridcolor": "white",
            "linecolor": "white",
            "ticks": ""
           }
          },
          "scene": {
           "xaxis": {
            "backgroundcolor": "#E5ECF6",
            "gridcolor": "white",
            "gridwidth": 2,
            "linecolor": "white",
            "showbackground": true,
            "ticks": "",
            "zerolinecolor": "white"
           },
           "yaxis": {
            "backgroundcolor": "#E5ECF6",
            "gridcolor": "white",
            "gridwidth": 2,
            "linecolor": "white",
            "showbackground": true,
            "ticks": "",
            "zerolinecolor": "white"
           },
           "zaxis": {
            "backgroundcolor": "#E5ECF6",
            "gridcolor": "white",
            "gridwidth": 2,
            "linecolor": "white",
            "showbackground": true,
            "ticks": "",
            "zerolinecolor": "white"
           }
          },
          "shapedefaults": {
           "line": {
            "color": "#2a3f5f"
           }
          },
          "ternary": {
           "aaxis": {
            "gridcolor": "white",
            "linecolor": "white",
            "ticks": ""
           },
           "baxis": {
            "gridcolor": "white",
            "linecolor": "white",
            "ticks": ""
           },
           "bgcolor": "#E5ECF6",
           "caxis": {
            "gridcolor": "white",
            "linecolor": "white",
            "ticks": ""
           }
          },
          "title": {
           "x": 0.05
          },
          "xaxis": {
           "automargin": true,
           "gridcolor": "white",
           "linecolor": "white",
           "ticks": "",
           "title": {
            "standoff": 15
           },
           "zerolinecolor": "white",
           "zerolinewidth": 2
          },
          "yaxis": {
           "automargin": true,
           "gridcolor": "white",
           "linecolor": "white",
           "ticks": "",
           "title": {
            "standoff": 15
           },
           "zerolinecolor": "white",
           "zerolinewidth": 2
          }
         }
        },
        "title": {
         "text": "Housing vs Rental in France (2019-2023)"
        },
        "xaxis": {
         "anchor": "y",
         "autorange": true,
         "domain": [
          0,
          1
         ],
         "range": [
          2018.746844840386,
          2023.253155159614
         ],
         "title": {
          "text": "Year"
         },
         "type": "linear"
        },
        "yaxis": {
         "anchor": "x",
         "autorange": true,
         "domain": [
          0,
          1
         ],
         "range": [
          98.09936893203884,
          134.39063106796115
         ],
         "title": {
          "text": "Value"
         },
         "type": "linear"
        }
       }
      },
      "image/png": "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",
      "text/html": [
       "<div>                            <div id=\"0360674f-26f1-4f67-bd03-d9d44b6d7406\" class=\"plotly-graph-div\" style=\"height:525px; width:100%;\"></div>            <script type=\"text/javascript\">                require([\"plotly\"], function(Plotly) {                    window.PLOTLYENV=window.PLOTLYENV || {};                                    if (document.getElementById(\"0360674f-26f1-4f67-bd03-d9d44b6d7406\")) {                    Plotly.newPlot(                        \"0360674f-26f1-4f67-bd03-d9d44b6d7406\",                        [{\"hovertemplate\":\"Type=Housing\\u003cbr\\u003eYear=%{x}\\u003cbr\\u003eValue=%{y}\\u003cextra\\u003e\\u003c\\u002fextra\\u003e\",\"legendgroup\":\"Housing\",\"line\":{\"color\":\"#636efa\",\"dash\":\"solid\"},\"marker\":{\"symbol\":\"circle\"},\"mode\":\"lines+markers\",\"name\":\"Housing\",\"orientation\":\"v\",\"showlegend\":true,\"x\":[2019,2020,2021,2022,2023],\"xaxis\":\"x\",\"y\":[110.86,116.62,123.98,131.82,131.26],\"yaxis\":\"y\",\"type\":\"scatter\"},{\"hovertemplate\":\"Type=Rental\\u003cbr\\u003eYear=%{x}\\u003cbr\\u003eValue=%{y}\\u003cextra\\u003e\\u003c\\u002fextra\\u003e\",\"legendgroup\":\"Rental\",\"line\":{\"color\":\"#EF553B\",\"dash\":\"solid\"},\"marker\":{\"symbol\":\"circle\"},\"mode\":\"lines+markers\",\"name\":\"Rental\",\"orientation\":\"v\",\"showlegend\":true,\"x\":[2019,2020,2021,2022,2023],\"xaxis\":\"x\",\"y\":[100.67,101.06,101.92,102.6,104.78],\"yaxis\":\"y\",\"type\":\"scatter\"}],                        {\"template\":{\"data\":{\"histogram2dcontour\":[{\"type\":\"histogram2dcontour\",\"colorbar\":{\"outlinewidth\":0,\"ticks\":\"\"},\"colorscale\":[[0.0,\"#0d0887\"],[0.1111111111111111,\"#46039f\"],[0.2222222222222222,\"#7201a8\"],[0.3333333333333333,\"#9c179e\"],[0.4444444444444444,\"#bd3786\"],[0.5555555555555556,\"#d8576b\"],[0.6666666666666666,\"#ed7953\"],[0.7777777777777778,\"#fb9f3a\"],[0.8888888888888888,\"#fdca26\"],[1.0,\"#f0f921\"]]}],\"choropleth\":[{\"type\":\"choropleth\",\"colorbar\":{\"outlinewidth\":0,\"ticks\":\"\"}}],\"histogram2d\":[{\"type\":\"histogram2d\",\"colorbar\":{\"outlinewidth\":0,\"ticks\":\"\"},\"colorscale\":[[0.0,\"#0d0887\"],[0.1111111111111111,\"#46039f\"],[0.2222222222222222,\"#7201a8\"],[0.3333333333333333,\"#9c179e\"],[0.4444444444444444,\"#bd3786\"],[0.5555555555555556,\"#d8576b\"],[0.6666666666666666,\"#ed7953\"],[0.7777777777777778,\"#fb9f3a\"],[0.8888888888888888,\"#fdca26\"],[1.0,\"#f0f921\"]]}],\"heatmap\":[{\"type\":\"heatmap\",\"colorbar\":{\"outlinewidth\":0,\"ticks\":\"\"},\"colorscale\":[[0.0,\"#0d0887\"],[0.1111111111111111,\"#46039f\"],[0.2222222222222222,\"#7201a8\"],[0.3333333333333333,\"#9c179e\"],[0.4444444444444444,\"#bd3786\"],[0.5555555555555556,\"#d8576b\"],[0.6666666666666666,\"#ed7953\"],[0.7777777777777778,\"#fb9f3a\"],[0.8888888888888888,\"#fdca26\"],[1.0,\"#f0f921\"]]}],\"heatmapgl\":[{\"type\":\"heatmapgl\",\"colorbar\":{\"outlinewidth\":0,\"ticks\":\"\"},\"colorscale\":[[0.0,\"#0d0887\"],[0.1111111111111111,\"#46039f\"],[0.2222222222222222,\"#7201a8\"],[0.3333333333333333,\"#9c179e\"],[0.4444444444444444,\"#bd3786\"],[0.5555555555555556,\"#d8576b\"],[0.6666666666666666,\"#ed7953\"],[0.7777777777777778,\"#fb9f3a\"],[0.8888888888888888,\"#fdca26\"],[1.0,\"#f0f921\"]]}],\"contourcarpet\":[{\"type\":\"contourcarpet\",\"colorbar\":{\"outlinewidth\":0,\"ticks\":\"\"}}],\"contour\":[{\"type\":\"contour\",\"colorbar\":{\"outlinewidth\":0,\"ticks\":\"\"},\"colorscale\":[[0.0,\"#0d0887\"],[0.1111111111111111,\"#46039f\"],[0.2222222222222222,\"#7201a8\"],[0.3333333333333333,\"#9c179e\"],[0.4444444444444444,\"#bd3786\"],[0.5555555555555556,\"#d8576b\"],[0.6666666666666666,\"#ed7953\"],[0.7777777777777778,\"#fb9f3a\"],[0.8888888888888888,\"#fdca26\"],[1.0,\"#f0f921\"]]}],\"surface\":[{\"type\":\"surface\",\"colorbar\":{\"outlinewidth\":0,\"ticks\":\"\"},\"colorscale\":[[0.0,\"#0d0887\"],[0.1111111111111111,\"#46039f\"],[0.2222222222222222,\"#7201a8\"],[0.3333333333333333,\"#9c179e\"],[0.4444444444444444,\"#bd3786\"],[0.5555555555555556,\"#d8576b\"],[0.6666666666666666,\"#ed7953\"],[0.7777777777777778,\"#fb9f3a\"],[0.8888888888888888,\"#fdca26\"],[1.0,\"#f0f921\"]]}],\"mesh3d\":[{\"type\":\"mesh3d\",\"colorbar\":{\"outlinewidth\":0,\"ticks\":\"\"}}],\"scatter\":[{\"fillpattern\":{\"fillmode\":\"overlay\",\"size\":10,\"solidity\":0.2},\"type\":\"scatter\"}],\"parcoords\":[{\"type\":\"parcoords\",\"line\":{\"colorbar\":{\"outlinewidth\":0,\"ticks\":\"\"}}}],\"scatterpolargl\":[{\"type\":\"scatterpolargl\",\"marker\":{\"colorbar\":{\"outlinewidth\":0,\"ticks\":\"\"}}}],\"bar\":[{\"error_x\":{\"color\":\"#2a3f5f\"},\"error_y\":{\"color\":\"#2a3f5f\"},\"marker\":{\"line\":{\"color\":\"#E5ECF6\",\"width\":0.5},\"pattern\":{\"fillmode\":\"overlay\",\"size\":10,\"solidity\":0.2}},\"type\":\"bar\"}],\"scattergeo\":[{\"type\":\"scattergeo\",\"marker\":{\"colorbar\":{\"outlinewidth\":0,\"ticks\":\"\"}}}],\"scatterpolar\":[{\"type\":\"scatterpolar\",\"marker\":{\"colorbar\":{\"outlinewidth\":0,\"ticks\":\"\"}}}],\"histogram\":[{\"marker\":{\"pattern\":{\"fillmode\":\"overlay\",\"size\":10,\"solidity\":0.2}},\"type\":\"histogram\"}],\"scattergl\":[{\"type\":\"scattergl\",\"marker\":{\"colorbar\":{\"outlinewidth\":0,\"ticks\":\"\"}}}],\"scatter3d\":[{\"type\":\"scatter3d\",\"line\":{\"colorbar\":{\"outlinewidth\":0,\"ticks\":\"\"}},\"marker\":{\"colorbar\":{\"outlinewidth\":0,\"ticks\":\"\"}}}],\"scattermapbox\":[{\"type\":\"scattermapbox\",\"marker\":{\"colorbar\":{\"outlinewidth\":0,\"ticks\":\"\"}}}],\"scatterternary\":[{\"type\":\"scatterternary\",\"marker\":{\"colorbar\":{\"outlinewidth\":0,\"ticks\":\"\"}}}],\"scattercarpet\":[{\"type\":\"scattercarpet\",\"marker\":{\"colorbar\":{\"outlinewidth\":0,\"ticks\":\"\"}}}],\"carpet\":[{\"aaxis\":{\"endlinecolor\":\"#2a3f5f\",\"gridcolor\":\"white\",\"linecolor\":\"white\",\"minorgridcolor\":\"white\",\"startlinecolor\":\"#2a3f5f\"},\"baxis\":{\"endlinecolor\":\"#2a3f5f\",\"gridcolor\":\"white\",\"linecolor\":\"white\",\"minorgridcolor\":\"white\",\"startlinecolor\":\"#2a3f5f\"},\"type\":\"carpet\"}],\"table\":[{\"cells\":{\"fill\":{\"color\":\"#EBF0F8\"},\"line\":{\"color\":\"white\"}},\"header\":{\"fill\":{\"color\":\"#C8D4E3\"},\"line\":{\"color\":\"white\"}},\"type\":\"table\"}],\"barpolar\":[{\"marker\":{\"line\":{\"color\":\"#E5ECF6\",\"width\":0.5},\"pattern\":{\"fillmode\":\"overlay\",\"size\":10,\"solidity\":0.2}},\"type\":\"barpolar\"}],\"pie\":[{\"automargin\":true,\"type\":\"pie\"}]},\"layout\":{\"autotypenumbers\":\"strict\",\"colorway\":[\"#636efa\",\"#EF553B\",\"#00cc96\",\"#ab63fa\",\"#FFA15A\",\"#19d3f3\",\"#FF6692\",\"#B6E880\",\"#FF97FF\",\"#FECB52\"],\"font\":{\"color\":\"#2a3f5f\"},\"hovermode\":\"closest\",\"hoverlabel\":{\"align\":\"left\"},\"paper_bgcolor\":\"white\",\"plot_bgcolor\":\"#E5ECF6\",\"polar\":{\"bgcolor\":\"#E5ECF6\",\"angularaxis\":{\"gridcolor\":\"white\",\"linecolor\":\"white\",\"ticks\":\"\"},\"radialaxis\":{\"gridcolor\":\"white\",\"linecolor\":\"white\",\"ticks\":\"\"}},\"ternary\":{\"bgcolor\":\"#E5ECF6\",\"aaxis\":{\"gridcolor\":\"white\",\"linecolor\":\"white\",\"ticks\":\"\"},\"baxis\":{\"gridcolor\":\"white\",\"linecolor\":\"white\",\"ticks\":\"\"},\"caxis\":{\"gridcolor\":\"white\",\"linecolor\":\"white\",\"ticks\":\"\"}},\"coloraxis\":{\"colorbar\":{\"outlinewidth\":0,\"ticks\":\"\"}},\"colorscale\":{\"sequential\":[[0.0,\"#0d0887\"],[0.1111111111111111,\"#46039f\"],[0.2222222222222222,\"#7201a8\"],[0.3333333333333333,\"#9c179e\"],[0.4444444444444444,\"#bd3786\"],[0.5555555555555556,\"#d8576b\"],[0.6666666666666666,\"#ed7953\"],[0.7777777777777778,\"#fb9f3a\"],[0.8888888888888888,\"#fdca26\"],[1.0,\"#f0f921\"]],\"sequentialminus\":[[0.0,\"#0d0887\"],[0.1111111111111111,\"#46039f\"],[0.2222222222222222,\"#7201a8\"],[0.3333333333333333,\"#9c179e\"],[0.4444444444444444,\"#bd3786\"],[0.5555555555555556,\"#d8576b\"],[0.6666666666666666,\"#ed7953\"],[0.7777777777777778,\"#fb9f3a\"],[0.8888888888888888,\"#fdca26\"],[1.0,\"#f0f921\"]],\"diverging\":[[0,\"#8e0152\"],[0.1,\"#c51b7d\"],[0.2,\"#de77ae\"],[0.3,\"#f1b6da\"],[0.4,\"#fde0ef\"],[0.5,\"#f7f7f7\"],[0.6,\"#e6f5d0\"],[0.7,\"#b8e186\"],[0.8,\"#7fbc41\"],[0.9,\"#4d9221\"],[1,\"#276419\"]]},\"xaxis\":{\"gridcolor\":\"white\",\"linecolor\":\"white\",\"ticks\":\"\",\"title\":{\"standoff\":15},\"zerolinecolor\":\"white\",\"automargin\":true,\"zerolinewidth\":2},\"yaxis\":{\"gridcolor\":\"white\",\"linecolor\":\"white\",\"ticks\":\"\",\"title\":{\"standoff\":15},\"zerolinecolor\":\"white\",\"automargin\":true,\"zerolinewidth\":2},\"scene\":{\"xaxis\":{\"backgroundcolor\":\"#E5ECF6\",\"gridcolor\":\"white\",\"linecolor\":\"white\",\"showbackground\":true,\"ticks\":\"\",\"zerolinecolor\":\"white\",\"gridwidth\":2},\"yaxis\":{\"backgroundcolor\":\"#E5ECF6\",\"gridcolor\":\"white\",\"linecolor\":\"white\",\"showbackground\":true,\"ticks\":\"\",\"zerolinecolor\":\"white\",\"gridwidth\":2},\"zaxis\":{\"backgroundcolor\":\"#E5ECF6\",\"gridcolor\":\"white\",\"linecolor\":\"white\",\"showbackground\":true,\"ticks\":\"\",\"zerolinecolor\":\"white\",\"gridwidth\":2}},\"shapedefaults\":{\"line\":{\"color\":\"#2a3f5f\"}},\"annotationdefaults\":{\"arrowcolor\":\"#2a3f5f\",\"arrowhead\":0,\"arrowwidth\":1},\"geo\":{\"bgcolor\":\"white\",\"landcolor\":\"#E5ECF6\",\"subunitcolor\":\"white\",\"showland\":true,\"showlakes\":true,\"lakecolor\":\"white\"},\"title\":{\"x\":0.05},\"mapbox\":{\"style\":\"light\"}}},\"xaxis\":{\"anchor\":\"y\",\"domain\":[0.0,1.0],\"title\":{\"text\":\"Year\"}},\"yaxis\":{\"anchor\":\"x\",\"domain\":[0.0,1.0],\"title\":{\"text\":\"Value\"}},\"legend\":{\"title\":{\"text\":\"Type\"},\"tracegroupgap\":0},\"title\":{\"text\":\"Housing vs Rental in France (2019-2023)\"}},                        {\"responsive\": true}                    ).then(function(){\n",
       "                            \n",
       "var gd = document.getElementById('0360674f-26f1-4f67-bd03-d9d44b6d7406');\n",
       "var x = new MutationObserver(function (mutations, observer) {{\n",
       "        var display = window.getComputedStyle(gd).display;\n",
       "        if (!display || display === 'none') {{\n",
       "            console.log([gd, 'removed!']);\n",
       "            Plotly.purge(gd);\n",
       "            observer.disconnect();\n",
       "        }}\n",
       "}});\n",
       "\n",
       "// Listen for the removal of the full notebook cells\n",
       "var notebookContainer = gd.closest('#notebook-container');\n",
       "if (notebookContainer) {{\n",
       "    x.observe(notebookContainer, {childList: true});\n",
       "}}\n",
       "\n",
       "// Listen for the clearing of the current output cell\n",
       "var outputEl = gd.closest('.output');\n",
       "if (outputEl) {{\n",
       "    x.observe(outputEl, {childList: true});\n",
       "}}\n",
       "\n",
       "                        })                };                });            </script>        </div>"
      ]
     },
     "metadata": {},
     "output_type": "display_data"
    }
   ],
   "source": [
    "fig = px.line(\n",
    "    df_france_melted,\n",
    "    x='Year',\n",
    "    y='Value',\n",
    "    color='Type',  # Different lines for Housing and Rental\n",
    "    markers=True,\n",
<<<<<<< HEAD
    "    title=\"Housing vs Rental in France (2019-2023)\"\n",
=======
    "    title=\"Housing vs Rental in Portugal (2019-2023)\"\n",
>>>>>>> 67009c5e46e024bce3b898e73da7e46ba3450d32
    ")\n",
    "\n",
    "fig.show()"
   ]
  },
  {
   "cell_type": "code",
<<<<<<< HEAD
   "execution_count": 62,
   "id": "0b9b0825-4cd1-4910-9d12-b1b7f406c84c",
=======
   "execution_count": null,
   "id": "132460d2-01d7-466e-8ec4-8433e30f8252",
>>>>>>> 67009c5e46e024bce3b898e73da7e46ba3450d32
   "metadata": {},
   "outputs": [
    {
     "data": {
      "image/png": "iVBORw0KGgoAAAANSUhEUgAAAxYAAAIjCAYAAACefo0NAAAAOXRFWHRTb2Z0d2FyZQBNYXRwbG90bGliIHZlcnNpb24zLjkuMiwgaHR0cHM6Ly9tYXRwbG90bGliLm9yZy8hTgPZAAAACXBIWXMAAA9hAAAPYQGoP6dpAACXrklEQVR4nOzdd3wUZeI/8M/uZluS3U0vkAAJLfROCKiAIqFYuMOOSrUGFLAAp4jg9w4BGwoHZ6Gcyu8EFc6jGkNTCUUgCkKAQOgpkLapW+f3x2aHbHbT2PR83i/3lezMMzPPLBHmk6dJBEEQQERERERE5AZpQ1eAiIiIiIiaPgYLIiIiIiJyG4MFERERERG5jcGCiIiIiIjcxmBBRERERERuY7AgIiIiIiK3MVgQEREREZHbGCyIiIiIiMhtDBZEREREROQ2Bgsiohbk4sWLkEgkWLduXa2cb+fOnejduzdUKhUkEglyc3Nr5bx0y5UrV6BSqfDrr782dFVanFOnTsHDwwMnT55s6KoQNQkMFkTktnXr1kEikeC3335r6Ko0mEmTJkEikVT5mjRpUkNXtdZkZWXhkUcegVqtxsqVK/Hll1/Cy8urzq5n/zlz9Zo7d26dXbehLVq0CNHR0RgyZIi47fvvv8ejjz6KyMhIeHp6onPnznjllVcqDHY//PAD+vbtC5VKhTZt2mDBggUwm80OZdLS0jB37lwMHz4cGo0GEokEe/fudXk+k8mEhQsXIjIyEkqlEpGRkfi///s/p3NWJCEhAVOmTEGnTp3g6emJyMhITJs2DWlpaS7LHzhwAHfccQc8PT0REhKCl156CQUFBQ5ljhw5gunTp6Nbt27w8vJCmzZt8Mgjj+Ds2bNO5/vss88wdOhQBAcHQ6lUIiIiApMnT8bFixcdynXt2hVjx47FW2+9Va37ImrpPBq6AkREzcFzzz2HESNGiO9TU1Px1ltv4dlnn8Wdd94pbm/fvn1DVK9OHDlyBPn5+XjnnXcc7r2uLVq0CBEREQ7bunfvXm/Xr083btzA+vXrsX79eoftzz77LFq1aoUnn3wSbdq0wYkTJ7BixQps374dx44dg1qtFsvu2LED48aNw7Bhw/DJJ5/gxIkT+L//+z9kZmZi1apVYrkzZ85gyZIl6NixI3r06IHExMQK6/Xkk09i06ZNmDJlCvr374+DBw9i/vz5uHz5Mj799NMq72vOnDnIzs7Gww8/jI4dO+LChQtYsWIFtm7diqSkJISEhIhlk5KScM8996BLly744IMPcPXqVbz33ns4d+4cduzYIZZbsmQJfv31Vzz88MPo2bMn0tPTsWLFCvTt2xcHDx50+Bk5fvw4IiIi8MADD8DX1xepqan47LPPsHXrVvz+++9o1aqVWPb555/HmDFjcP78+Wb1/y9RnRCIiNy0du1aAYBw5MiRhq5Ko3HkyBEBgLB27dpKyxUUFNRPhUqlpqZWq17VsX79+lr/c6/s87idn7Pi4mLBYrHURtUaxAcffCCo1WohPz/fYfuePXucytr/PD777DOH7V27dhV69eolmEwmcdsbb7whSCQS4fTp0+I2vV4vZGVlCYIgCJs2bRIAuLzO4cOHBQDC/PnzHba/8sorgkQiEX7//fcq72vfvn1Ofy779u0TAAhvvPGGw/bRo0cLoaGhQl5enrjts88+EwAIu3btErf9+uuvgsFgcDj27NmzglKpFCZMmFBlnX777TcBgLB48WKH7UajUfD19XW6XyJyxq5QRFQnJk2aBG9vb1y7dg3jxo2Dt7c3AgMD8eqrr8JisTiUtVqtWL58OXr06AGVSoXAwECMGjXKoWuV2WzGO++8g/bt20OpVKJdu3b429/+BoPB4HCudu3a4b777sPevXvRv39/qNVq9OjRQ+zS8f3334vX6devH44fP+5U9+TkZDz00EPw8/ODSqVC//798cMPP7j9mdi78uzbtw8vvvgigoKCEBYWJu7fsWMH7rzzTnh5eUGj0WDs2LH4888/Hc5Rk881NzcXkyZNgk6ng4+PDyZOnOiyq0x6ejomT56MsLAwKJVKhIaG4sEHH3TqFlLWsGHDMHHiRADAgAEDnLp5bdq0Cf369YNarUZAQACefPJJXLt2zeW9nD9/HmPGjIFGo8GECROq+Wk627t3LyQSCf7zn//gzTffROvWreHp6Qm9Xo/s7Gy8+uqr6NGjB7y9vaHVajF69Gj8/vvvLs+xceNG/P3vf0dYWBhUKhXuuecepKSkOF3z0KFDGDNmDHx9feHl5YWePXti+fLlDmXc+XnasmULoqOj4e3t7bB92LBhTmX/8pe/AABOnz4tbjt16hROnTqFZ599Fh4etzopvPjiixAEAd9++624TaPRwM/Pr8o6/fzzzwCAxx57zGH7Y489BkEQ8M0331R5jrvuugtSqdRpm5+fn0P99Xo94uPj8eSTT0Kr1Yrbn376aXh7e2Pjxo3itsGDB0OhUDics2PHjujWrZvDOSvSrl07AHD6f0Qul2PYsGH473//W+U5iFo6doUiojpjsVgQGxuL6OhovPfee/jpp5/w/vvvo3379njhhRfEclOnTsW6deswevRoTJs2DWazGT///DMOHjyI/v37AwCmTZuG9evX46GHHsIrr7yCQ4cOYfHixTh9+jQ2b97scN2UlBQ88cQTeO655/Dkk0/ivffew/3334/Vq1fjb3/7G1588UUAwOLFi/HII4/gzJkz4kPOn3/+iSFDhqB169aYO3cuvLy8sHHjRowbNw7fffed+PDmjhdffBGBgYF46623UFhYCAD48ssvMXHiRMTGxmLJkiUoKirCqlWrcMcdd+D48ePiQ091P1dBEPDggw/il19+wfPPP48uXbpg8+bNYhgoa/z48fjzzz8xY8YMtGvXDpmZmYiPj8fly5cdrlvWG2+8gc6dO+PTTz8VuybZu4msW7cOkydPxoABA7B48WJkZGRg+fLl+PXXX3H8+HH4+PiI5zGbzYiNjcUdd9yB9957D56enlV+fnl5ebh586bDtoCAAPH7d955BwqFAq+++ioMBgMUCgVOnTqFLVu24OGHH0ZERAQyMjLwr3/9C0OHDsWpU6ccur4AwLvvvgupVIpXX30VeXl5WLp0KSZMmIBDhw6JZeLj43HfffchNDQUL7/8MkJCQnD69Gls3boVL7/8MgD3fp5MJhOOHDni8P9KZdLT050+C3twtv9/ZNeqVSuEhYW5DNZVsYf5st2tAIh/dkePHq3xOQGgoKAABQUFDvU/ceIEzGazU/0VCgV69+5dZf0FQUBGRga6devmcn9WVhYsFgsuX76MRYsWAQDuuecep3L9+vXDf//7X+j1eoeAQ0TlNGyDCRE1B666qEycOFEAICxatMihbJ8+fYR+/fqJ73fv3i0AEF566SWn81qtVkEQBCEpKUkAIEybNs1h/6uvvioAEHbv3i1ua9u2rQBAOHDggLht165dAgBBrVYLly5dErf/61//curucc899wg9evQQSkpKHOoxePBgoWPHjtX9SFx2hbJ/TnfccYdgNpvF7fn5+YKPj4/wzDPPOJwjPT1d0Ol0Dtur+7lu2bJFACAsXbpU3GY2m4U777zToV45OTkCAGHZsmXVvrfy91P2z91oNApBQUFC9+7dheLiYnH71q1bBQDCW2+95XQvc+fOrdH1XL0EwdY9CIAQGRkpFBUVORxbUlLi1PUmNTVVUCqVDp+l/RxdunRx6FazfPlyAYBw4sQJQRBsn2VERITQtm1bIScnx+G89p9bQXDv5yklJUUAIHzyySfV+HQEYerUqYJMJhPOnj0rblu2bJkAQLh8+bJT+QEDBgiDBg1yea7KukJ99913AgDhyy+/dNi+evVqAYDQvXv3atW3vHfeeUcAICQkJDjVY//+/U7lH374YSEkJKTSc3755ZcCAOGLL75wuV+pVIo/Q/7+/sLHH3/sstyGDRsEAMKhQ4dqcEdELQ+7QhFRnXr++ecd3t955524cOGC+P67776DRCLBggULnI6VSCQAgO3btwMAZs+e7bD/lVdeAQBs27bNYXvXrl0RExMjvo+OjgYA3H333WjTpo3Tdnt9srOzsXv3bjzyyCPIz8/HzZs3cfPmTWRlZSE2Nhbnzp1z6s5zO5555hnIZDLxfXx8PHJzc/H444+L17x58yZkMhmio6OxZ88ep3NU9blu374dHh4eDr/tlslkmDFjhsNxarUaCoUCe/fuRU5Ojtv39ttvvyEzMxMvvvgiVCqVuH3s2LGIiopy+rMCUO3fyNutXLkS8fHxDq+yJk6c6PTbdKVSKbZKWSwWZGVlwdvbG507d8axY8ecrjF58mSHbjX2Afj2z/j48eNITU3FzJkzHVpggFs/t+7+PGVlZQEAfH19q/xMNmzYgC+++AKvvPIKOnbsKG4vLi4W7788lUol7q+JMWPGoG3btnj11Vfx/fff49KlS9i4cSPeeOMNeHh43NY59+/fj4ULF+KRRx7B3XffXSv1T05ORlxcHGJiYly21AG27ofbt2/H+++/jzZt2ogtiOXZ/wzKt5QRkSN2hSKiOmMfL1GWr6+vwwPs+fPn0apVq0r7dl+6dAlSqRQdOnRw2B4SEgIfHx9cunTJYXvZ8AAAOp0OABAeHu5yu70+KSkpEAQB8+fPx/z5813WJTMzE61bt66wrtVRfkajc+fOAYDDA1VZ5bteVOdzvXTpEkJDQ5365nfu3NnhvVKpxJIlS/DKK68gODgYgwYNwn333Yenn37aYWae6rL/WZS/DgBERUXhl19+cdjm4eHhMM6kOgYOHOjUNaas8p8vcGsczz//+U+kpqY6jEfx9/d3Kl/+Z8j+YGn/jM+fPw+g8tmoauvnSRCESvf//PPPmDp1KmJjY/H3v//dYZ89YJUfiwQAJSUlTgGsOlQqFbZt24ZHHnkE48ePB2D7OVq6dCn+/ve/iz9zRqMR2dnZDscGBgY6hGrAFgD+8pe/oHv37vj8889rpf7p6ekYO3YsdDodvv32W6dr2g0fPhwAMHr0aDz44IPo3r07vL29MX36dIdy9j8De2gkItcYLIiozlT0j/ntqu4/6hVdt6Lt9ocGq9UKAHj11VcRGxvrsmz5cHM7yj8M2a/75ZdfunyYLzvoFqj9z3XmzJm4//77sWXLFuzatQvz58/H4sWLsXv3bvTp06dWr1Ve2ZaE2uLqYfMf//gH5s+fjylTpuCdd96Bn58fpFIpZs6cKX7+ZVX1s1Id7v482QNPZS1Jv//+Ox544AF0794d3377rdPPSmhoKADbGhXlg3VaWhoGDhxY9Y240K1bN5w8eRKnTp1CTk4OunbtCrVajVmzZmHo0KEAbGtP2B/c7VJTUx3G7Vy5cgUjR46ETqfD9u3bodFoKqx/eWlpaU5jYwDbGJzRo0cjNzcXP//8s8syrrRv3x59+vTB119/7RQs7H8GZcd/EJEzBgsialDt27fHrl27kJ2dXWGrRdu2bWG1WnHu3Dl06dJF3J6RkYHc3Fy0bdu2VuoSGRkJwDYLTH2uy2Af9BwUFFRr123bti0SEhJQUFDg0Gpx5syZCuvwyiuv4JVXXsG5c+fQu3dvvP/++/jqq69qfF37dcq3wJw5c6bW/qxq6ttvv8Xw4cPxxRdfOGzPzc29rYdF+5/ZyZMnK/wzc/fnqU2bNlCr1UhNTXW5//z58xg1ahSCgoKwfft2p9YpAOjduzcAWxe1siHi+vXruHr1Kp599tka18tOIpE4DIrevn07rFareK+9evVy6qZWNjhnZWVh5MiRMBgMSEhIEENEWd27d4eHhwd+++03PPLII+J2o9GIpKQkh22ArRXj/vvvx9mzZ/HTTz+ha9euNbqn4uJil60jqampkEql6NSpU43OR9TScIwFETWo8ePHQxAELFy40Gmf/bfDY8aMAQB89NFHDvs/+OADALb++7UhKCgIw4YNw7/+9S+XvyG9ceNGrVynvNjYWGi1WvzjH/+AyWSqleuOGTMGZrPZYQE0i8WCTz75xKFcUVERSkpKHLa1b98eGo3G5QNWVfr374+goCCsXr3a4fgdO3bg9OnTtfZnVVMymcyptWHTpk23PWamb9++iIiIwEcffeQ0Pan9Ou7+PMnlcvTv39/livbp6ekYOXIkpFIpdu3a5dQ1zq5bt26IiorCp59+6tD9a9WqVZBIJHjooYequtVqKS4uxvz58xEaGorHH38cgK372IgRIxxe9nE3hYWFGDNmDK5du4bt27c7jAspS6fTYcSIEfjqq6+Qn58vbv/yyy9RUFCAhx9+WNxmsVjw6KOPIjExEZs2bXIYZ1WW2Wx22Qp0+PBhnDhxwmU3u6NHj6Jbt25i90kico0tFkTUoIYPH46nnnoKH3/8Mc6dO4dRo0bBarXi559/xvDhwzF9+nT06tULEydOxKefforc3FwMHToUhw8fxvr16zFu3Din7hbuWLlyJe644w706NEDzzzzDCIjI5GRkYHExERcvXrVad2D2qDVarFq1So89dRT6Nu3Lx577DEEBgbi8uXL2LZtG4YMGYIVK1bU6Jz3338/hgwZgrlz5+LixYvo2rUrvv/+e+Tl5TmUO3v2LO655x488sgj6Nq1Kzw8PLB582ZkZGQ4rVNQHXK5HEuWLMHkyZMxdOhQPP744+J0s+3atcOsWbNqfM7acN9992HRokWYPHkyBg8ejBMnTuDrr78WWxVqSiqVYtWqVbj//vvRu3dvTJ48GaGhoUhOTsaff/6JXbt2AXD/5+nBBx/EG2+84TTN6ahRo3DhwgW8/vrr+OWXXxzGrgQHB+Pee+8V3y9btgwPPPAARo4cicceewwnT57EihUrMG3aNIcWQAD4v//7PwAQ10/58ssvxXO/+eabYrlHHnkErVq1QteuXaHX67FmzRpcuHAB27Ztc+rO5MqECRNw+PBhTJkyBadPn3ZYZ8Lb2xvjxo0T3//973/H4MGDMXToUDz77LO4evUq3n//fYwcORKjRo0Sy73yyiv44YcfcP/99yM7O9upte3JJ58EYJvWNjw8HI8++ii6desGLy8vnDhxAmvXroVOp3MaD2MymcS1Z4ioCg01HRURNR8VTTfr5eXlVHbBggVC+b96zGazsGzZMiEqKkpQKBRCYGCgMHr0aOHo0aNiGZPJJCxcuFCIiIgQ5HK5EB4eLsybN89hGk9BsE03O3bsWKfrAhDi4uIcttlXoS4/1er58+eFp59+WggJCRHkcrnQunVr4b777hO+/fbban8mlU03W9HK0Xv27BFiY2MFnU4nqFQqoX379sKkSZOE3377TSxTk881KytLeOqppwStVivodDrhqaeeEo4fP+5Qr5s3bwpxcXFCVFSU4OXlJeh0OiE6OlrYuHFjlfdY2f188803Qp8+fQSlUin4+fkJEyZMEK5evepQpqJ7uZ3rCcKtqWI3bdrktK+kpER45ZVXhNDQUEGtVgtDhgwREhMThaFDhwpDhw6t8hwVrVj+yy+/CPfee6+g0WgELy8voWfPnk7Tw7rz85SRkSF4eHg4Te2KCqbdBeBwP3abN28WevfuLSiVSiEsLEx48803BaPR6FSusvOWtWTJEiEqKkpQqVSCr6+v8MADDwjHjx+v8n7s7NNCu3q1bdvWqfzPP/8sDB48WFCpVEJgYKAQFxcn6PV6hzJDhw6tVv0NBoPw8ssvCz179hS0Wq0gl8uFtm3bClOnThVSU1Odrr1jxw4BgHDu3Llq3x9RSyURhBqMRCMiIqJ6NXXqVJw9e1Zc8Zrq17hx4yCRSJwW4iQiZwwWREREjdjly5fRqVMnJCQkYMiQIQ1dnRbl9OnT6NGjB5KSkiqdWpiIbBgsiIiIiIjIbZwVioiIiIiI3MZgQUREREREbmOwICIiIiIitzFYEBERERGR27hAXi2xWq24fv06NBoNJBJJQ1eHiIiIiKhWCIKA/Px8tGrVClJpxe0SDBa15Pr16wgPD2/oahARERER1YkrV64gLCyswv0MFrVEo9EAsH3gWq22gWtDRERERFQ79Ho9wsPDxefdijBY1BJ79yetVstgQURERETNTlXd/Tl4m4iIiIiI3MZgQUREREREbmOwICIiIiIitzFYEBERERGR2xgsiIiIiIjIbQwWRERERETkNgYLIiIiIiJyG4MFERERERG5jcGCiIiIiIjcxmBBRERERERuY7AgIiIiIiK3MVgQEREREZHbGCyIiIiIiMhtDBZEREREROQ2BgsiIiIiokaq2GiG0WxFVoEBRrMVRUZzQ1epQh4NXQEiIiIiInJmMFmwet8FrD2QCn2xGVq1ByYPjsCLw9pDKZc1dPWcMFgQERERETUyxUYzVu+7gOUJ58Rt+mKz+P65oZHwVDSuR3l2hSIiIiIiaiRKTBb8djEbEokEaw+kuiyz9kAqPKSN7zG+ccUcIiIiIqIWpMRkwbHLOTh0IRsHL2Th+JVcRPh74fOJ/aEvdj2eQl9sRn6JCf7eynqubeUYLIiIiIiI6kmJyYJjl3Jw8EIWDqZmI+lyLowWq0MZAQICNEpo1R4uw4VW7QGNSl5fVa42BgsiIiIiojpSbLS1SBy8kIVDF7KRdMU5SARrlRgU6Y/oCH8MivRDRIAXSkwWTB4c4TDGwm7y4AiYrVYoGtmohgatzapVq9CzZ09otVpotVrExMRgx44d4v6SkhLExcXB398f3t7eGD9+PDIyMhzOcfnyZYwdOxaenp4ICgrCa6+9BrPZMdnt3bsXffv2hVKpRIcOHbBu3TqnuqxcuRLt2rWDSqVCdHQ0Dh8+XCf3TERERETNV5HRjF/O3cR7u87goVUH0HPhLkz4/BA+2Z2CwxezYbRYEaJVYVzvVnj3rz2w59VhODjvHix/rA+eiG6DyEBvSCQSqBUeeHFYe7x8T0do1ba2AK3aAy/f0xEvDmvf6AZuAw3cYhEWFoZ3330XHTt2hCAIWL9+PR588EEcP34c3bp1w6xZs7Bt2zZs2rQJOp0O06dPx1//+lf8+uuvAACLxYKxY8ciJCQEBw4cQFpaGp5++mnI5XL84x//AACkpqZi7NixeP755/H1118jISEB06ZNQ2hoKGJjYwEA33zzDWbPno3Vq1cjOjoaH330EWJjY3HmzBkEBQU12OdDRERERI1bocGMo5dycCg1CwcvZOP3K7kwWwWHMqE6FQZF2lojBkX6o42fJyQSSZXnVspleG5oJOKGd0B+iQkalRxmq7VRTjULABJBEISqi9UfPz8/LFu2DA899BACAwOxYcMGPPTQQwCA5ORkdOnSBYmJiRg0aBB27NiB++67D9evX0dwcDAAYPXq1ZgzZw5u3LgBhUKBOXPmYNu2bTh58qR4jcceewy5ubnYuXMnACA6OhoDBgzAihUrAABWqxXh4eGYMWMG5s6dW6166/V66HQ65OXlQavV1uZHQtQoFRvNkEmlDn/RNcbfnhAREdWmQoMZv12yd23Kwh9X85yCRCsxSNhe4X7qagWJxqq6z7mN5inAYrFg06ZNKCwsRExMDI4ePQqTyYQRI0aIZaKiotCmTRsxWCQmJqJHjx5iqACA2NhYvPDCC/jzzz/Rp08fJCYmOpzDXmbmzJkAAKPRiKNHj2LevHnifqlUihEjRiAxMbHC+hoMBhgMBvG9Xq939yMgajKa2oI9REREt6vAYMZvF7Nx8EI2DqXagoSlXJBo7aO2jZGI9ENMpD/CfJt2kLhdDR4sTpw4gZiYGJSUlMDb2xubN29G165dkZSUBIVCAR8fH4fywcHBSE9PBwCkp6c7hAr7fvu+ysro9XoUFxcjJycHFovFZZnk5OQK67148WIsXLjwtu6ZqClrigv2EBERVVd+iUlskTh4IRsnrzkHiTBftdgaER3hh3A/zwaqbePS4P/6d+7cGUlJScjLy8O3336LiRMnYt++fQ1drSrNmzcPs2fPFt/r9XqEh4c3YI2I6odMKq10wZ4XhrXHpt+uwN9bgVCdGq10amjVHi3yNzdERNT46UtM+O1itriOxIlreSiXI9DGzxPREX5iq0SYL4OEKw0eLBQKBTp06AAA6NevH44cOYLly5fj0UcfhdFoRG5urkOrRUZGBkJCQgAAISEhTrM32WeNKlum/ExSGRkZ0Gq1UKvVkMlkkMlkLsvYz+GKUqmEUtm4FiUhqg/6YlOlC/bcLDDg859TcSYjX9zuqZAhVKdCqE5t++qjRqtyX72VDf7XERERtQB5xabSrk1ZOJRqa5EoHyTa+ntiUIQtRERH+qO1j7phKtvENLp/ya1WKwwGA/r16we5XI6EhASMHz8eAHDmzBlcvnwZMTExAICYmBj8/e9/R2Zmpjh7U3x8PLRaLbp27SqW2b59u8M14uPjxXMoFAr069cPCQkJGDdunFiHhIQETJ8+vT5umahJKDKaseHQZTwR3abSBXsCvJXoEqqFh0yCtLwSZBcaUWS04PyNQpy/UVjh+TUqD7TSqRHqoypt6bAFDlsgUaGVjxoqjt8gIqIayis24UhqdumCdFk4dV3vFCTa+Xve6toU6YdQHYPE7WjQYDFv3jyMHj0abdq0QX5+PjZs2IC9e/di165d0Ol0mDp1KmbPng0/Pz9otVrMmDEDMTExGDRoEABg5MiR6Nq1K5566iksXboU6enpePPNNxEXFye2Jjz//PNYsWIFXn/9dUyZMgW7d+/Gxo0bsW3bNrEes2fPxsSJE9G/f38MHDgQH330EQoLCzF58uQG+VyIGhOzxYpNR6/iw/izyMw3oK2/JybGtMMnu1Ocyk4eHAGrIOCjx3qL20pMFqTllSAttxjXS7+m6Uu/5pXgem4x9CVm5JeYcaYk36GlozxfT7ktdJSGj1AflS2MlAaPYK0KCo/GtVgQERHVr7wiEw6l2lojDl7Iwqk0PcrPgRoR4CVO/Rod4Y8QnaphKtvMNGiwyMzMxNNPP420tDTodDr07NkTu3btwr333gsA+PDDDyGVSjF+/HgYDAbExsbin//8p3i8TCbD1q1b8cILLyAmJgZeXl6YOHEiFi1aJJaJiIjAtm3bMGvWLCxfvhxhYWH4/PPPxTUsAODRRx/FjRs38NZbbyE9PR29e/fGzp07nQZ0E7UkgiDgx1MZWLozWWxpCPNVQwIJpg/vAKlEUq1ZoVRyGSICvBAR4FXhtQoNZqTlFeN6bonDV3vwSMsrQZHRgpwiE3KKTDiV5noWNokECPBWiq0cZUOI/WuQRgkPGcMHEVFzkVtkxKHUW2MkTqc7B4nIQC9xVetBkf4I1jJI1IVGt45FU8V1LKg5OXopG4u3J+O3SzkAbC0F0+/uiCcHtYHSwxYcioxmeNTTOhaCIEBfbMb1vGKk55Xgel4x0nJvfU3Ls7WGGM3WKs8llQDBWpXjWI/S4BFS2gUrwFsJqZSDzYmIGqOcQqPYGnEoNRvJLoJE+0Cv0m5N/hgU4YcgBgm3NLl1LIio4aVkFmDpzmT8eMo2mYFKLsWUIRF4flh7aFVyh7L2EOHvbet2qEDdtQJIJBLoPOXQecrRJdT1X2iCICC70OjQylE2eKTllSA9rwRmq2DrmpVXAlzOdXkuuUyCYK3KccyHz63B56181PD1lHOmKyKiepBdaMTh0lWtD17IQnK6c5fZDkHeYmvEwAg/BGkYJBoCgwURIVNfgg9/OoeNv12BxSpAKgEe7heOWfd2ajL9TiUSCfy9lfD3VqJ7a53LMlargJsFBnGshzjmo0wIycwvgcki4GpOMa7mFFd4PaWHFK1KB5eH6G6FkLJhRKviNLtERDWVVWAo7dpkCxOuxt51DPIWB1sPjPBDoIYzdTYGDBZELVh+iQn/2ncBX/ySimKTBQAwoksw5ozqjI7BmgauXe2TSiUI0qoQpFWhd7iPyzJmixUZ+QYxeKQ7jfkowc0CAwxmK1JvFiL1ZsUzXXkpZOLMVs7BwxY+vDjNLhG1cDcLDDhUuqr1wQtZOJtR4FSmc7AG0WVaJAK8GSQaI/6LRtQCGc1WfH3oEj7ZnYLsQiMAoG8bH8wb0wUD2vk1cO0alodMitY+6krnLDeYLcjIM9haOcoGj9wSWytIXjFyi0woNFqQklmAlEznfyTttCoPseWj7JgPewgJ0ak4zS4RNSs38g1iiDh0IRvnXPwdGRWiEVe1HhjhJ3a7pcaNwYKoBbFaBWw9kYb3dp3B5ewiALaZMl6PjUJst2B226kmpYcMbfw90ca/4pVXi40Wp5mtyoeQfIMZ+hIz9On5LvsM2/l7KcTuVeVnu7J3xZJzpisiaqQy80vEGZsOXshyuaaRPUgMivTDwAh/+HkpGqCm5C4GC6IW4teUm3h3RzJOXMsDAARqlJg5oiMe7R/O6VfrgFohQ2SgNyIDvSssk19icgweYgC5Neaj2GRBVqERWYVGnLxW8TS7gd5Kp1muQst0uwrSqCDjTFdEVA8y9CXijE0HL2ThQrkgIZEAUSHaW4Ot2/nBl0GiWWCwIGrmTl3X492dydh/9gYAW7//54a2x7Q7I+pseliqHo1KDo1Kjk4VjGcRBAF5xaZb63vkOS4saJ/pymixIjPfgMx8A36/4vpaMqkEwRrlrTEfPs6tH/5eCk6zS0Q1lp5X4tC16cJN5yDRNVQrriMxMMIPPp4MEs0RnyqImqmrOUX44Mez2Jx0DYIAeEgleHJQW0y/uwMHvTUREokEPp4K+Hgq0LWV62l2rVYBWYXGMut72Ge5uhVC0vUlsFgFXC/dXhGFTIqQ0sUFbwUPxzEfPpxml6jFS8srdujadDGryGG/RAJ0a6XFoAjbOhID2/lB5ymv4GzUnDBYEDUzOYVG/HNvCtYfuASjxbZg3H09Q/FabGe09a949WtqmqRSCQI1SgRqlOgR5nqaXYtVwI18g+OCgmVmukrLK0ZmvgFGixWXs4vE8TeuqOWy0oHmpa0dpYPOy4YRjYoPEETNyfXcYluLxPlsHEzNwqVyQUIqAbq10oldm/q384NOzb8HWiIGC6JmosRkwdpfL+Kfe1OQX2IGAMRE+mPu6Cj0qmBqVWoZZFIJQkoHeaON6zImixUZ+hKnMR/2Wa7SckuQVWhEscmCCzcLnbo6lKVRethaPlzMcmX/qlbc/kxXxUYzZPW06jtRS3QttxgHz2eVdm/Kdvplg1QC9Gits61qHemH/u38nBZRpZaJfxMTNXEWq4Dvjl3Fh/FnbatJwza7xpzRURjWKZDdVqha5DIpwnw9EeZb8UxXJSZLmS5Xti5W18uN+cgrNiHfYEZ+ZoHLKSTtfDzlZVo8nGe8CtGpoPRwDh8GkwWr913A2gOp0BeboVV7YPLgCLw4rD2UnJaX6LZczSkSV7U+lJqFK9mOi4PKpBJ0b13aIhHhj/7tfNkySS4xWBA1UYIgYHdyJpbsTBYXE2qlU+GVkZ0xrk9rzgBEtU4ll6FdgBfaBVTcpa7QYBa7V9nW9SjztbQVpNBoQW6RCblFJpxOcz3TFQAEeCvEwNHKR40J0W3wvz+u4+OEFLGMvtiM5QnnAADPDY1kywVRFQRBwNWc4tLxEbYwcS3XOUj0aK2zrSMR6Yf+bRkkqHokgiAIDV2J5kCv10On0yEvLw9aretBlkS15fjlHCzekYzDqdkAAJ1ajrjh7fF0TDsupkaNmiAIyDeYHUJH+TEf13OLYTBbHY7z81LglznDMWhxAvTFZqfzatUeODRvBP6+/RTkMin8PBXw9VLA11MBXy85/Eq/9/GUu2wJIWquBEHAlezSIJFqm7WpfJDwkErQI0xXuo6EP/q19YW3kiGdbqnucy5/aoiakNSbhVi2KxnbT6QDABQeUkwe3A4vDuvAGTeoSZBIJNCq5NCGyNE5pOJpdnOKTA4LC5osAnKLTC5DBWBrucgqNOBIag7OZFS82CAAeCs94ON5K2z4esrh66WAn6cCPqVffb3k8PVUwM+LYYSaFkEQcDm7SGyROHQhy2k2OA+pBL3CfRAd4ScGCS8GCaoF/CkiagJu5BuwPOEs/nP4CsxWARIJML5vGGbf2wmtfNQNXT2iWiWRSODnZXuo79761kxXRrMVWrVHhS0Wgd5KTBgUjrQ8A3IKjcguNCK3yITsIiNyCo3ILTbBYhVQYDCjwGDG1Zxip/NUxEshs4UPL9v0v36lYcS3tGXEr2xAYRiheiQIAi5lFYlTvx68kI10vWOQkMsk6BXmg+jIW0GC3QapLvCniqgRKzCY8dn+C/js5wsoMloAAMM7B2LO6ChEhbDLHbUsFqsVkwdHiGMqypo8OAIWQcDTMREVHm+1CsgvMduCRmnYKB8+bNtt73OLjMgpsoWRQqMFhcbi2wojt8KH3BZKvOzdtOQOXbZ8POXsykhVEgQBqTcLxVWtD17IQobe4FBGLpOgd7iPbYxEhD/6tvVhkKB6wZ8yokbIZLHiP4cvY3nCOdwsMAIAeoXpMHd0F8S092/g2hE1DLXCAy8Oaw8AtzUrlFQqgc5TDp2nHBGo3pou9jCSU2QsEz5MtlBSGj6yC21hJMceWNwMI+XDh71LlkOXrTLdtBhGmjdBEHDhZqG4qvXBC1nIzHcMEgqZtDRI2Fok+rTxdWtKZ6LbxcHbtYSDt6k2CIKAHSfTsWzXGaSWrhPQzt8Tr8VGYUyPEE4dSwSgyGiGRyNex8JqtQ1QdwwfplstIvYwUlR2my2M3A5PhcxhPMitsSMK+HmV6bLFMNIkCIKA8zcKxdaIQ6nZuOEiSPRp4yOuI9G3jS//TKlOcfA2URNz8EIWFu9Ixu9XcgEA/l4KvDyiIx4f2AZymbRhK0fUiNhDhL+3EgCgQOP6/0MqlUCnlkOnlqNdNVtGBEGAvsRcLnyYbrWIlOmiJbaaFBlhsQooMlpQZCx2mumnMvYwUnaQetkw4lN2W2kZPrjWDVuQKECifR2JC9m4WVAuSHhI0beND6Ij/EtbJHz450GNEoMFUQM7k56PJTuTsTs5E4DtH/xn7ozEM3dFcro/ohZCIrn9MFI+fJRvEXFoNanFMOLrInyUbzXhw68zQRBwLrMAh+yzNqVmiV1e7ZQeUvRt4yuuI9E7nEGCmgY+tRA1kLS8Ynzw41l8d+wqrIJtQaLHB4bjpXs6IkijaujqEVEjVzaMtPWvfhgRu2nZB66XayVx1Wpivs0wopbLSseLyJ26Y5VtJSm71khze4C2Wm1Bwr6q9aEL2cgqdA4S/dr6iutI9ArXcVYxapIYLIjqWV6RCf/cl4J1v14UFwEb3T0Er8V2RmSgdwPXjoiaM3EdEdXthRGxFaSyLlulZcxWAcUmC67l3l4YcbnWiDjdr2MrSX2EkWKjGbJqjO2xWgWczczHwfO3WiRyikwOZVRyKfq39bOtI9HeHz3DGCSoeWCwIKonJSYLvky8hBV7UpBXbPtHZmA7P8wdE4W+bXwbuHZERK45hpHqHWMPI7mFjlP5lg8f5af7dSeMOIcP57VG7GGlpmHEYLJg9b4LLmcjk8ukSE7Px6HUW4Otc8sFCbVchv7tfMUF6XqG+UDh0bjGBhHVBgYLojpmsQrYcvwaPog/K/5D2SnYG3NGReHuqCDO9EREzU7ZMNLG37NaxwiCbfFCcZB6NdcaMVlsYaQ4z+K0wnRlVHKpwzoiFa01EhWiwVcHLzusn6IvNmN5wjkIgoDebXwwZd1vDuf2VMjKdG3yQ4/WDBLUMjBYENURQRCw7+wNvLsjGcnp+QCAEK0Ks+/thPH9wiCTMlAQEdlJJBJoVHJobjOM1GStEZNFQInJiut5JZWGET8vBX6ZMxxrD6S63L8u8SIODrsHrX1UaB+kEdeR6NFax9n8qEVisCCqAyeu5mHxjtM4cD4LAKBReeCFYe0xeXAEFy0iIqol7oQR+8D1ytYa8VHLkV1ohL7Y7PJc+mIzCg0W7H1tOIMEERgsiGrVpaxCvPfjWfzv9+sAbIsYPR3TFnHDO8DXS9HAtSMiorJhJNyv6jBiNFuhVXu4DBdatQd0ajlDBVEpBguiWpBVYMAnu1Pw9aFLMFkESCTAuN6tMfveTtX6h4uIiBoni9WKyYMjHMZY2E0eHAGz1droFmkkaigMFkRuKDKa8cXPqfjX/gsoMNh+m3VXp0DMGdUZ3VrpGrh2RETkLrXCAy8Oaw8ALmeFUjazdTeI3CERBEFo6Eo0B3q9HjqdDnl5edBqtQ1dHapjZosVG3+7io9+OovMfAMAoHtrLeaN7oIhHQIauHZERFTbioxmeFRjHQui5qi6z7n8P4KoBgRBwK4/M7B0VzIu3CgEAIT7qfHqyM64v2crSDnTExFRs2QPEf7eSgBg9yciFxgsiKrpt4vZWLwjGUcv5QAAfD3lmHF3R0wY1IYrphIREVGLx2BBVIWUzHws2XkG8acyANgWVZp2RySeHRoJrUrewLUjIiIiahwYLIgqkKEvwUc/ncU3R67AKgBSCfDogHDMHNEJwVpVQ1ePiIiIqFFhsCAqR19iwr/2nccXv6SixGQFANzbNRhzRnVGhyBNA9eOiIiIqHFisCAqZTBb8PXBy/hk9znkFJkAAP3a+mLe6Cj0b+fXwLUjIiIiatwYLKjFs1oF/O+P63jvxzO4kl0MAIgM9MKcUVEY2TUYEglneiIiIiKqCoMFtWi/nLuJd3eexslregBAoEaJWSM64ZH+YfCQcSpBIiIioupisKAW6c/reXh3RzJ+PncTAOCt9MDzQyMx5Y4ILnhEREREdBv4BEUtypXsIrz/4xlsSboOAJDLJJgQ3RYz7u4gLnpERERERDXHYEEtQk6hESv2pODLxEswWmwzPT3QqxVeHdkZbfw9G7h2RERERE0fgwU1ayUmC9b8mopVe88jv8QMABjSwR9zR3VBjzBdA9eOiIiIqPlgsKBmyWIV8O3RK/gw/hzS9SUAgC6hWswdHYW7OgZwpiciIiKiWsZgQc2KIAhIOJ2JJTuTcS6zAADQ2keNV0Z2wrjerSGVMlAQERER1QUGC2o2jl3Owbvbk3H4YjYAQKeWY8bdHfDkoLZQyWUNXDsiIiKi22AsAmQeQEkeoNIBFjOgaJzjQxksqMm7cKMAy3adwY6T6QAApYcUk4dE4IVh7aFTyxu4dkRERES3yVwC/PoRcOhfQEkuoPIBop8D7pwNeKgauHLOGnQFsMWLF2PAgAHQaDQICgrCuHHjcObMGXH/xYsXIZFIXL42bdoklnO1/z//+Y/Dtfbu3Yu+fftCqVSiQ4cOWLdunVN9Vq5ciXbt2kGlUiE6OhqHDx+us3sn92Xml+CNzSdw74f7seNkOqQS4OF+Ydjz6jDMHR3FUEFERERNl7EI+PkDYN8SW6gAbF/3LbFtNxY1ZO1catBgsW/fPsTFxeHgwYOIj4+HyWTCyJEjUVhYCAAIDw9HWlqaw2vhwoXw9vbG6NGjHc61du1ah3Ljxo0T96WmpmLs2LEYPnw4kpKSMHPmTEybNg27du0Sy3zzzTeYPXs2FixYgGPHjqFXr16IjY1FZmZmvXwWVH0FBjM+iD+LYcv24utDl2GxCrgnKgg7Xr4Lyx7uhVY+6oauIhEREVH1mQ1Axp/Aye+APf8Atrxo237oX67LH/qXrXtUIyMRBEFo6ErY3bhxA0FBQdi3bx/uuusul2X69OmDvn374osvvhC3SSQSbN682SFMlDVnzhxs27YNJ0+eFLc99thjyM3Nxc6dOwEA0dHRGDBgAFasWAEAsFqtCA8Px4wZMzB37lyncxoMBhgMBvG9Xq9HeHg48vLyoNVqa3zvVDWj2Yr/HLmMjxPO4WaBEQDQK9wH80ZHYVCkfwPXjoiIiKgKphIgKwW4kXzrlZkMZF8ABMutckFdgcf/AyzvWfG5XjsPeAXUfZ1he87V6XRVPuc2qqiTl5cHAPDz83O5/+jRo0hKSsLKlSud9sXFxWHatGmIjIzE888/j8mTJ4tTiiYmJmLEiBEO5WNjYzFz5kwAgNFoxNGjRzFv3jxxv1QqxYgRI5CYmOiyLosXL8bChQtrfI9Uc4IgYNuJNCzbdQaXsmzNfhEBXngttjNGdw/h1LFERETUuJhKgJtngRtngBunS7/aA4TV9TFKHRDYGQiKAkJ7A5oQ25gKezeoslQ+gKrx/SK70QQLq9WKmTNnYsiQIejevbvLMl988QW6dOmCwYMHO2xftGgR7r77bnh6euLHH3/Eiy++iIKCArz00ksAgPT0dAQHBzscExwcDL1ej+LiYuTk5MBisbgsk5yc7LIu8+bNw+zZs8X39hYLql2J57Pw7o7T+P2qLXQGeCvx8oiOeGxAOOSyBu3JR0RERC2dsQjIOmdrdSjbCpFzseIAodIBgV1KQ0Tp18AoQBMKlP1lqbHINlB73xLnc0Q/Z5sdSqaok9u6XY0mWMTFxeHkyZP45ZdfXO4vLi7Ghg0bMH/+fKd9Zbf16dMHhYWFWLZsmRgs6oJSqYRSqayz87d0yel6vLsjGXvP3AAAeCpkePauSDxzZyS8lI3mx5aIiIhaAmMRcPOMreUh8/StloicSwAqGFWg8ikNDlG2V1DpV+9gxwBREYWnbfYnoMnMCtUontCmT5+OrVu3Yv/+/QgLC3NZ5ttvv0VRURGefvrpKs8XHR2Nd955BwaDAUqlEiEhIcjIyHAok5GRAa1WC7VaDZlMBplM5rJMSEjI7d8Y1di13GJ88ONZfH/8KgQB8JBK8PjANnjpno4I1DDIERERUR0yFNwKEPbxDzeSgdzLqDBAqP3KtDyUaYHwDqpegKiMhwoYMhO461WgRG/r/mQxNcpQATRwsBAEATNmzMDmzZuxd+9eREREVFj2iy++wAMPPIDAwMAqz5uUlARfX1+xRSEmJgbbt293KBMfH4+YmBgAgEKhQL9+/ZCQkCAOALdarUhISMD06dNv8+6oJvKKTPjn3hSsPXARRrOt6XBsj1C8GtsZEQFeDVw7IiIialYM+cCNs6Vdl0pbIDKTgbzLFR/jGeDY8mB/eVf9bOoW+2J49oHajaz7U1kNGizi4uKwYcMG/Pe//4VGo0F6um2BM51OB7X61pShKSkp2L9/v1M4AID//e9/yMjIwKBBg6BSqRAfH49//OMfePXVV8Uyzz//PFasWIHXX38dU6ZMwe7du7Fx40Zs27ZNLDN79mxMnDgR/fv3x8CBA/HRRx+hsLAQkydPrsNPgEpMFvw78SJW7jmPvGITACA6wg/zxnRB73Cfhq0cERERNW0l+lutD+LrDJB3peJjvAKduy8FRtXbDExNWYNON1vRbD5r167FpEmTxPd/+9vf8NVXX+HixYuQSh0H7O7cuRPz5s1DSkoKBEFAhw4d8MILL+CZZ55xKLt3717MmjULp06dQlhYGObPn+9wDQBYsWIFli1bhvT0dPTu3Rsff/wxoqOjq3Uv1Z2Gi2wsVgGbj1/DBz+ewfW8EgBA52AN5ozujOGdgzjTExEREVVfca5tFqbM045BQn+t4mO8g8u0PJQOpA7oDHhxCvvyqvuc26jWsWjKGCyqRxAE7D17A0t2JCM5PR8AEKpTYfa9nfDXvmGQSRkoiIiIqALFOc7jH24kA/lpFR+jCb017qFskPB0vbwBOWuS61hQ8/bH1Vws3p6MxAtZAACNygNxwztg0uB2UMllDVw7IiIiajSKsh3XgLC3RBSkV3yMplWZrkv2gdSdALVv/dW7hWOwoDp3KasQS3edwbY/bL9NUMikmDi4LeKGd4CPZ+MdgERERER1rDCr3PiH0paIwsyKj9GGOa8BEdjZtj4ENSgGC6ozNwsM+CThHL4+dBlmqwCJBPhL79aYPbITwnw9G7p6REREVF8Kb5a2OiQ7joEovFHxMbpwx/EPgVFAQKdGueI02TBYUK0rMprx+c+p+Ne+8yg0WgAAQzsFYs6oKHRtxb8MiIiImiVBsAUFh/EPpd2ZirIqPs6nTbnxD1G2LkxKTf3VnWoFgwXVGpPFio2/XcFHP53DjXwDAKBHax3mjY7C4A6coo2IiKhZEASgINN5/MONZKA4u+LjfNq6WEiuM6DgelXNBYMFuU0QBOz6Mx1Ld57BhZuFAIA2fp54LbYzxvYIhZQzPRERETU9ggDkpzuPf7iRDJTkVnCQBPBt57wGREBHBogWgMGC3HI4NRuLd5zG8cu5AAA/LwVeursDnohuC4WHtPKDiYiIqOEJAqC/7th1yd4CUZLn+hiJFPCNKDcGorNtDIRc7foYavYYLOi2nMvIx5KdyfjptG3WBrVchml3RuDZuyKhUckbuHZERETkRBBsC8aVXwPixhnAoHd9jEQK+EU6jn8IigL8OzBAkBMGC6qR9LwSfBh/FpuOXoFVAGRSCR4dEI6Z93REkFbV0NUjIiIiQQDyrrhYSO4MYMx3fYxEBvi3d15Izr8DIOe/71Q9DBZULfoSE1bvPY81v6aixGQFAMR2C8ZrsVHoEOTdwLUjIiJqgazW0gBRJjhkngZungWMBa6PkXoAfu2dF5Lzbw94KOu3/tTsMFhQpQxmC75MvIQVe1KQW2QCAPRv64t5Y6LQr61fA9eOiIioBbBagdxLzuMfbpwFTIWuj5HKba0N5ReS82sPeHBxWqobDBbkktUq4Iffr+O9H8/gak4xAKB9oBfmjIrCvV2DIZFwpiciIqJaZbXYAoTD+IfSAGEudn2MVG6bcans+IfAKNu4CBnHPFL9YrAgJz+fu4F3dyTjz+u2gVzBWiVmjeiEh/qFwUPGmZ6IiIjcYrUAORdLxz+cvtUScfMcYC5xfYxMYZtxqewaEEFdbDMzyfg4R40DfxJJdPJaHpbsTMbP524CADRKDzw/rD2mDImAWiFr4NoRERE1IGOR7QG+JA9Q6QCLGVB4Vn6MxQzkpJZbA+KMbQyExeD6GJnSFiCCyox/CIyyrQ3BAEGNHH9CCVeyi/Dej2fw36TrAAC5TIInB7XFjLs7ws+L/TCJiKiFM5cAv34EHPqXbWE4lQ8Q/Rxw52zAQwVYTEB2quP4h8xkIOscYDG6PqeHqrQFotxCcr7tACl/mUdNE4NFC5ZdaMSK3Sn46uAlGC22mZ4e7N0Kr9zbGW38q/gtDBERUUtgLLKFin1Lbm0rybW9FwSg3RDgq4cAq8n18R5qILCTY/elwM6AT1sGCGp2GCxaoGKjBWt+TcXqveeRbzADAO7oEIC5o6PQvbWugWtHRETkJqvFNt2qoQAwFtrWbjAWlr4vKLevADDk3/reWFj6vsA2rmHaT7aWClcOfwrcMRNQaQFTseP4B3tLhK4NIOX4RGoZGCxaELPFim+PXsWHP51Fht7Wt7NrqBZzR0fhrk6BDVw7IiJqscyGMg/0VTzsVxgQyoSHimZQqqmgrkDhTVsLhSslubbrPfcLoAlhgKAWj8GiOahiQJkgCPjpdCaW7kzGuUzbgjlhvmq8OrIzHujVClIpp44lIqJqEgTAVFTzh31XLQX29xV1I3KX1ANQeNteSm9A4VX6vebW9wqv0vf2771vHaPW2QKDysd1uFD5AJ6+tpYNImKwaPKqGFB29FIO3t1xGkcu5gAAfDzlmD68A56KaQulB/t2EhE1e/ZuQeIDftmH/dKHf1cP+w4tBYWO2yHUTV09VFU/7IsBQVP1Pg8l4O66S8Yi27+rZcdY2EU/Z/tlHoMFEQAGi6atkgFlAoDTkVMwftVRAIDSQ4qpd0TguaHtoVNzwRwiokbLbHTRFagaD/sVtRzUVrcgVyp92C99X7alQCzrohVB4d04p1NVeNp+WQdUPCsUEQEAJIIg1NGvHVoWvV4PnU6HvLw8aLXa+rmoxQgs61hh86ww+zQOf/AQpCodoqK6QRPcDtCFAbpwQNsakPMvQyJqgm5nPYG64tQtqJoP+5Xtq6tuQRJZ6YN8ZQ/7Xo7dhMqGgPKtCHLPljWmQPy509sGa1tMts+BqAWo7nNuI/zVAFWXUJwHSSUDyiRFNxCtzQEyfwUObncu4xUE+ITfChs6+/dhgE8bQO3rfhMyEVFtqmo9gao4dQuq4ZiA8gOKjQWAYK2be3XqFlTRw753FS0FtdgtqCWzh1evANtXdn8icsJg0ZSpdZUOKBO8QyC563UgOwXIvQLkXS19XbH9hq0w0/a6dtT1+eWet4JG2eBhDyOaVoAH/2IlonpiKAQOLHe9ngAEoPNY4Mhn5YJAudYBU1Hd1a86D/uVjQlwaEXwAmTstkpETQuDRRNmMhohG/gcZPudB5RZBj4Hi8kERfe/OB8oCEBxji1giIGj3NeCDNs/wDfP2l4uSQBNaJlWjrKtHqVfVTr+hoyIKmcx2f7Oyc8A8tOAgnQgv/RVULrNbAKe3V3xegKHPgWGzATO7ACKsqq+ZtluQRU+7Fc1e1CZfS2tWxARkQsMFk2Z3BMl0S9BBUB2+Fa3AMvA51AS/TLkcrXr4yQSwNPP9grt5bqM2VCmhcMeOEpDhz2MWAxA/nXb6+ph1+dRaMp0t3LR8uEd0jgH6xGR+8yG0mBQLiSIAaJ0X9HNqs9VnfUESvKAexbYuktVNXsQuwUREdU6Dt6uJQ0xeLvYaMbG364iQidBTMcQmApzIffyQeK5dKTmCXi4fxg8FXX00C4Itn/k8y7fCh+5VxxbPqr7W0NtK8fxHfYxHvbvlZq6uQciuj2m4jJBwR4a0p0DQ3F29c8p9bD9okETbGsJ9Q62rR+gCbFt17UG/DsC71U8YQVeO8d+70REdYCDt1sAtcIDjw0Ixz/3nsf87b9C5eGBErMZ43qH4cVh7aGU1+E6FRIJ4B1oe7Xu57qMsQjQXwNyL1fQ+nHNNvuJ/X1FVD7O4zt0YYCuNHx4B7MLAlFtMBZWEBjKtTiU5FX/nDJFmcBQGhLKBgb792q/qv8/5noCRESNGlssakmDTDdbqshohodUivwSEzQqOcxWa921VNQmq9X2oFK+q1XZ1o+Kuj2UJZXbfptZfnxH2e8baipKosbAkG9rTXAICWW+t4cGg7765/RQlbYqhNpCg0NgsG8Pqf3Z5cwlwM8fcD0BIqJ6VN3nXAaLWtKQwaJZM+Q7tnSUn91Kfx0QLFWfx9O/4tmtdOGAVyD7W1PTIgi2IFA+MLjqlmQsqP555Z6OgcFVtyRNsO2BvqH+n+F6AkRE9Ypdoah5UGqAoC62lysWs+0hymF2q3ItH8Z823iPoiwg7XfX55EpK5/digsKUn0RBNtv4suPV3DVLakmU6cqvB2DgcvAEGL7f66xh2yuJ0BE1CgxWFDTJvO4FQgqUpxb+exW+Wm2Ga6yz9teFeGCguQO+zTP+WnOMySVDwzmkuqfV6kt1/2ofLek0iDBSRCIiKiOMVhQ86f2sb1CurvebzbapsytaHarvKs1XFCwTPgoO9hc25oLXjVHVqtt9iOHkFB+StXS7RZj9c+r8qk8MNhDA8cPERFRI8FgQeShAHzb2V6u2H/T7DC7VbkuVzVdUNCn/EBzLijY6FgttimVXU2jWrZbUkEGYDVX/7xqP+fA4NQtKRioaB0aIiKiRorBgqgqZRcUbNXbdRlTiW1q3fKrmJcdbM4FBRsHixkovOEiMJTrllSQWb2JAew8A5y7H4mBwd7iEGxbmI2IiKgZ4hMKUW2QqwD/9raXK4Jge5gtP76jbMtHUZZtoHnmKdvLFVcLCvqUG+/RUvvSW0y2MOBq3YWyAaLwBiBYq3lSiW3GMJchIeTW915BtpYvIiKiFozBgqg+SCSAd5DtVdmCguVbPMRxH5dtLSJWc+NZUFCc8jPP1oXLYq6b/v5m460uSE7rMJTZXngTQDVnz5ZIbWHAad2Fct2SvILYQkRERFRN/BeTqLFQeAKBnWwvV6wW22/kXc1sZQ8iJbm3XhknXJ+nsgUFfdrYBplXFRDMJcCvH7m3SJmppFxgqKBbUlFW9c4H2Fp0yo5VqKhbklcAIK3DlemJiIhaIAYLoqZCKgO0obZX+EDXZUr0t8Z6OA02v2pbUNBqAnIu2l4V8fSveHYrv/bAwX8C+5aUuW7urfeDZ9i6G7maRrVst6TqrKou3ru8TMtCuXUXyrY4ePrXTmsMERER1RhX3q4lXHmbmgSL2fZQLwaOMuHDPs1uZas0e/oDM08AH3R1HQxUPsDsU8BHParX0iBTVDHYuXQcg9qXgYGIiKiBcOVtInIm87C1PviEu94vCLYxE3nluljZu1zJ1baxDBW1NpTkAkU3beM5lBrXrQplAwQXFSQiImo2GCyI6BaJpMyCgj1cl7EYbS0TFbVYeIcCz+5hYCAiImph2LeAiGrGYrYN1HYl+jnbzFUMFURERC0OWyyIqGYUnrbZnwD3ZoUiIiKiZoXBgohqzkMFDJkJ3PWqbSYqlda2QB1DBRERUYvVoF2hFi9ejAEDBkCj0SAoKAjjxo3DmTNnHMoMGzYMEonE4fX88887lLl8+TLGjh0LT09PBAUF4bXXXoPZbHYos3fvXvTt2xdKpRIdOnTAunXrnOqzcuVKtGvXDiqVCtHR0Th8+HCt3zNRs6HwtM3q5BVg+6rwaugaERERUQNq0GCxb98+xMXF4eDBg4iPj4fJZMLIkSNRWFjoUO6ZZ55BWlqa+Fq6dKm4z2KxYOzYsTAajThw4ADWr1+PdevW4a233hLLpKamYuzYsRg+fDiSkpIwc+ZMTJs2Dbt27RLLfPPNN5g9ezYWLFiAY8eOoVevXoiNjUVmZmbdfxBERERERE1co1rH4saNGwgKCsK+fftw1113AbC1WPTu3RsfffSRy2N27NiB++67D9evX0dwcDAAYPXq1ZgzZw5u3LgBhUKBOXPmYNu2bTh58qR43GOPPYbc3Fzs3LkTABAdHY0BAwZgxYoVAACr1Yrw8HDMmDEDc+fOrbLuXMeCiIiIiJqj6j7nNqpZofLy8gAAfn5+Dtu//vprBAQEoHv37pg3bx6KiorEfYmJiejRo4cYKgAgNjYWer0ef/75p1hmxIgRDueMjY1FYmIiAMBoNOLo0aMOZaRSKUaMGCGWKc9gMECv1zu8iIiIiIhaqkYzeNtqtWLmzJkYMmQIunfvLm5/4okn0LZtW7Rq1Qp//PEH5syZgzNnzuD7778HAKSnpzuECgDi+/T09ErL6PV6FBcXIycnBxaLxWWZ5ORkl/VdvHgxFi5c6N5NExERERE1E40mWMTFxeHkyZP45ZdfHLY/++yz4vc9evRAaGgo7rnnHpw/fx7t27ev72qK5s2bh9mzZ4vv9Xo9wsMrWM2YiIiIiKiZaxTBYvr06di6dSv279+PsLCwSstGR0cDAFJSUtC+fXuEhIQ4zd6UkZEBAAgJCRG/2reVLaPVaqFWqyGTySCTyVyWsZ+jPKVSCaVSWf2bJCIiIiJqxhp0jIUgCJg+fTo2b96M3bt3IyIiospjkpKSAAChoaEAgJiYGJw4ccJh9qb4+HhotVp07dpVLJOQkOBwnvj4eMTExAAAFAoF+vXr51DGarUiISFBLENERERERBVr0BaLuLg4bNiwAf/973+h0WjEMRE6nQ5qtRrnz5/Hhg0bMGbMGPj7++OPP/7ArFmzcNddd6Fnz54AgJEjR6Jr16546qmnsHTpUqSnp+PNN99EXFyc2KLw/PPPY8WKFXj99dcxZcoU7N69Gxs3bsS2bdvEusyePRsTJ05E//79MXDgQHz00UcoLCzE5MmT6/+DISIiIiJqYhp0ulmJROJy+9q1azFp0iRcuXIFTz75JE6ePInCwkKEh4fjL3/5C958802Hqa4uXbqEF154AXv37oWXlxcmTpyId999Fx4et3LT3r17MWvWLJw6dQphYWGYP38+Jk2a5HDdFStWYNmyZUhPT0fv3r3x8ccfi12vqsLpZomIiIioOaruc26jWseiKWOwICIiIqLmqEmuY0FERERERE0TgwUREREREbmNwYKIiIiIiNzGYEFERERERG5jsCAiIiIiIrcxWBARERERkdsYLIiIiIiIyG0MFkRERERE5DYGCyIiIiIichuDBRERERERuY3BgoiIiIiI3MZgQUREREREbmOwICIiIiIitzFYEBERERGR2xgsiIiIiIjIbQwWRERERETkNgYLIiIiIiJyG4MFERERERG5jcGCiIiIiIjcxmBBRERERERuY7AgIiIiIiK3MVgQEREREZHbGCyIiIiIiMhtDBZEREREROQ2BgsiIiIiInIbgwUREREREbmNwYKIiIiIiNzGYEFERERERG5jsCAiIiIiIrcxWBARERERkdsYLIiIiIiIyG0MFkRERERE5DYGCyIiIiIichuDBRERERERuY3BgoiIiIiI3MZgQUREREREbmOwICIiIiIitzFYEBERERGR2zwaugJERERERA3BYrHAZDI1dDUanFwuh0wmc/s8DBZERERE1KIIgoD09HTk5uY2dFUaDR8fH4SEhEAikdz2ORgsiIiIiKhFsYeKoKAgeHp6uvUw3dQJgoCioiJkZmYCAEJDQ2/7XAwWRERERNRiWCwWMVT4+/s3dHUaBbVaDQDIzMxEUFDQbXeL4uBtIiIiImox7GMqPD09G7gmjYv983BnzAmDBRERERG1OC25+5MrtfF5MFgQEREREZHbGCyIiIiIiMhtDRosFi9ejAEDBkCj0SAoKAjjxo3DmTNnxP3Z2dmYMWMGOnfuDLVajTZt2uCll15CXl6ew3kkEonT6z//+Y9Dmb1796Jv375QKpXo0KED1q1b51SflStXol27dlCpVIiOjsbhw4fr5L6JiIiIqPFLT0/HjBkzEBkZCaVSifDwcNx///1ISEio13pIJBJs2bKlXq95Oxo0WOzbtw9xcXE4ePAg4uPjYTKZMHLkSBQWFgIArl+/juvXr+O9997DyZMnsW7dOuzcuRNTp051OtfatWuRlpYmvsaNGyfuS01NxdixYzF8+HAkJSVh5syZmDZtGnbt2iWW+eabbzB79mwsWLAAx44dQ69evRAbGytOvUVERERELcfFixfRr18/7N69G8uWLcOJEyewc+dODB8+HHFxcQ1dPSdGo7GhqwAINWCxWITdu3cLCxcuFKZMmSI89thjwowZM4Q1a9YIly9frsmpXMrMzBQACPv27auwzMaNGwWFQiGYTCZxGwBh8+bNFR7z+uuvC926dXPY9uijjwqxsbHi+4EDBwpxcXHie4vFIrRq1UpYvHhxteqel5cnABDy8vKqVZ6IiIiI6l9xcbFw6tQpobi4uNJyo0ePFlq3bi0UFBQ47cvJyREEQRAuXbokPPDAA4KXl5eg0WiEhx9+WEhPTxfLTZw4UXjwwQcdjn355ZeFoUOHiu+HDh0qzJgxQ3jttdcEX19fITg4WFiwYIG4v23btgIA8dW2bVtBEARhwYIFQq9evYTPPvtMaNeunSCRSIT169cLfn5+QklJicM1H3zwQeHJJ5+87c+lus+51WqxKC4uxv/93/8hPDwcY8aMwY4dO5CbmwuZTIaUlBQsWLAAERERGDNmDA4ePHjbIcfexcnPz6/SMlqtFh4ejktwxMXFISAgAAMHDsSaNWsgCIK4LzExESNGjHAoHxsbi8TERAC2hHf06FGHMlKpFCNGjBDLlGcwGKDX6x1eRERERNT0ZWdnY+fOnYiLi4OXl5fTfh8fH1itVjz44IPIzs7Gvn37EB8fjwsXLuDRRx+t8fXWr18PLy8vHDp0CEuXLsWiRYsQHx8PADhy5AiAW71z7O8BICUlBd999x2+//57JCUl4eGHH4bFYsEPP/wglsnMzMS2bdswZcqUGterpqq1QF6nTp0QExODzz77DPfeey/kcrlTmUuXLmHDhg147LHH8MYbb+CZZ56pUUWsVitmzpyJIUOGoHv37i7L3Lx5E++88w6effZZh+2LFi3C3XffDU9PT/z444948cUXUVBQgJdeegmArX9ccHCwwzHBwcHQ6/UoLi5GTk4OLBaLyzLJycku67J48WIsXLiwRvdIRERERI1fSkoKBEFAVFRUhWUSEhJw4sQJpKamIjw8HADw73//G926dcORI0cwYMCAal+vZ8+eWLBgAQCgY8eOWLFiBRISEnDvvfciMDAQgC3MhISEOBxnNBrx73//WywDAE888QTWrl2Lhx9+GADw1VdfoU2bNhg2bFi163O7qhUsfvzxR3Tp0qXSMm3btsW8efPw6quv4vLlyzWuSFxcHE6ePIlffvnF5X69Xo+xY8eia9euePvttx32zZ8/X/y+T58+KCwsxLJly8RgURfmzZuH2bNnO9TP/kNFRERERE1X2Z4vFTl9+jTCw8Mdnv+6du0KHx8fnD59usbBoqzQ0NBqjfNt27atQ6gAgGeeeQYDBgzAtWvX0Lp1a6xbtw6TJk2ql3U7qtUVqqpQUZZcLkf79u1rVInp06dj69at2LNnD8LCwpz25+fnY9SoUdBoNNi8ebPLFpOyoqOjcfXqVRgMBgBASEgIMjIyHMpkZGRAq9VCrVYjICAAMpnMZZnyydBOqVRCq9U6vIiIiIio6evYsSMkEkmFPVeqSyqVOoUUVytbl3+2lUgksFqtVZ7fVTetPn36oFevXvj3v/+No0eP4s8//8SkSZNqVvHbVO1Zoc6cOYM333zT5b6rV6/i2WefrXFLhSAImD59OjZv3ozdu3cjIiLCqYxer8fIkSOhUCjwww8/QKVSVXnepKQk+Pr6QqlUAgBiYmKcpgWLj49HTEwMAEChUKBfv34OZaxWKxISEsQyRERERNQy+Pn5ITY2FitXrhRnKy0rNzcXXbp0wZUrV3DlyhVx+6lTp5Cbm4uuXbsCAAIDA5GWluZwbFJSUo3rI5fLYbFYql1+2rRpWLduHdauXYsRI0bUW6+aageLefPmiQ/+v/76q8O+sLAwtGrVCnPmzKnRxePi4vDVV19hw4YN0Gg0SE9PR3p6OoqLiwHcChWFhYX44osvoNfrxTL2D/d///sfPv/8c5w8eRIpKSlYtWoV/vGPf2DGjBnidZ5//nlcuHABr7/+OpKTk/HPf/4TGzduxKxZs8Qys2fPxmeffYb169fj9OnTeOGFF1BYWIjJkyfX6J6IiIiIqOlbuXIlLBYLBg4ciO+++w7nzp3D6dOn8fHHHyMmJgYjRoxAjx49MGHCBBw7dgyHDx/G008/jaFDh6J///4AgLvvvhu//fYb/v3vf+PcuXNYsGABTp48WeO6tGvXDgkJCUhPT0dOTk6V5Z944glcvXoVn332Wb0M2hZVOmdUGd7e3kJycrIgCIKg0WiE8+fPCwcPHhT3nzt3TtBoNNU9nSDY2oVcvtauXSsIgiDs2bOnwjKpqamCIAjCjh07hN69ewve3t6Cl5eX0KtXL2H16tWCxWJxuNaePXuE3r17CwqFQoiMjBSvUdYnn3witGnTRlAoFMLAgQMd7q8qnG6WiIiIqPGr7nSzgiAI169fF+Li4oS2bdsKCoVCaN26tfDAAw8Ie/bsEQSh6ulmBUEQ3nrrLSE4OFjQ6XTCrFmzhOnTpztNN/vyyy87HPPggw8KEydOFN//8MMPQocOHQQPDw+n6WYr8tRTT7mcerYitTHdrEQQqjE6BbYZknbv3o1u3bpBo9EgKSkJffr0QVJSEiIjI3H48GGMGjUK2dnZtZ9+mgC9Xg+dTidOh0tEREREjU9JSQlSU1MRERFRrS72TdU999yDbt264eOPP65W+co+l+o+51a7K1R0dDS++OILALYBJRKJBIIgQCKRoKSkBPPnz0dsbGx1T0dERERERLUsJycHmzdvxt69e+t9hfBqTTcLAAsWLMDQoUNx+fJlmEwm/PjjjzCbzVi4cCH27t0LpVKJNWvW1GVdiYiIiIioEn369EFOTg6WLFmCzp071+u1q91i0a9fP+zbtw+CIMBoNOLFF1+E0WhEcnIynnvuORw/fhytW7euy7oSEREREVElLl68iLy8PLz66qv1fu1qt1gAtnDx3XffQafT4dixY+jbty82bNiAyMjIuqofERERERE1ATUKFnbJycnw9fUVvxIRERERUctWra5Q//nPfxzeh4aGQqVSiV/LunLlitM6F0RERERE1LxVK1isWrUKXbp0wdKlS3H69Gmn/Xl5edi+fTueeOIJ9O3bF1lZWbVeUSIiIiIiaryq1RVq3759+OGHH/DJJ59g3rx58PLyQnBwMFQqFXJycpCeno6AgABMmjQJJ0+eRHBwcF3Xm4iIiIiIGpFqj7F44IEH8MADD+DmzZv45ZdfcOnSJRQXFyMgIAB9+vRBnz59IJVWe5IpIiIiIiJqRmo8eDsgIADjxo2rg6oQEREREVFTxSYGIiIiIqLbUGw0w2i2IqvAAKPZiiKjuU6vN2nSJEgkEkgkEsjlcgQHB+Pee+/FmjVrYLVaxXLt2rUTy5V9vfvuu3Vav9uabpaIiIiIqCUzmCxYve8C1h5Ihb7YDK3aA5MHR+DFYe2hlMvq7LqjRo3C2rVrYbFYkJGRgZ07d+Lll1/Gt99+ix9++AEeHrbH+0WLFuGZZ55xOFaj0dRZvQAGCyIiIiJq4QRBQLHJUu3yVquAz35OxfKEc+I2fbFZfP/MnRGQSiXVOpdaLoNEUr2yAKBUKhESEgIAaN26Nfr27YtBgwbhnnvuwbp16zBt2jQAthBhL1dfGCyIiIiIqEUrNlnQ9a1d1Srr56XAL3OGY+2BVJf71x5IxXNDI3HHkj3ILjRWeb5Ti2LhqXDvkfzuu+9Gr1698P3334vBoiHc9hgLo9GIM2fOwGyu275kRERERESNRaC3ElkFRuiLXT8D64vNyC40ItBbWa/1ioqKwsWLF8X3c+bMgbe3t8Pr559/rtM61DgeFRUVYcaMGVi/fj0A4OzZs4iMjMSMGTPQunVrzJ07t9YrSURERERUV9RyGU4tiq12eQ+pFFq1h8twoVV7IEijwua4wdW+dm0QBMGhS9Vrr72GSZMmOZRp3bp1rVyrIjVusZg3bx5+//137N27FyqVStw+YsQIfPPNN7VaOSIiIiKiuiaRSOCp8Kj2y2K1YvLgCJfnmjw4Amartdrnqsn4isqcPn0aERG36hQQEIAOHTo4vNRqda1cqyI1brHYsmULvvnmGwwaNMjhg+jWrRvOnz9fq5UjIiIiImps1AoPvDisPQDU+6xQruzevRsnTpzArFmz6vW65dU4WNy4cQNBQUFO2wsLC2stcRERERERNWZKuQzPDY1E3PAOyC8xQaOSw2y11nmoMBgMSE9Pd5hudvHixbjvvvvw9NNPi+Xy8/ORnp7ucKynpye0Wm2d1a3GXaH69++Pbdu2ie/tYeLzzz9HTExM7dWMiIiIiKgR81R4QOEhhb+3EgoPqduzO1XHzp07ERoainbt2mHUqFHYs2cPPv74Y/z3v/+FTHYr1Lz11lsIDQ11eL3++ut1Wrca3/0//vEPjB49GqdOnYLZbMby5ctx6tQpHDhwAPv27auLOhIRERERtXjr1q3DunXrqixXdnao+lTjFos77rgDSUlJMJvN6NGjB3788UcEBQUhMTER/fr1q4s6EhERERFRI3db7TXt27fHZ599Vtt1ISIiIiKiJuq2O4JlZmYiMzMTVqvVYXvPnj3drhQRERERETUtNQ4WR48excSJE3H69GkIguCwTyKRwGKx1FrliIiIiIioaahxsJgyZQo6deqEL774AsHBwZxiloiIiIiIah4sLly4gO+++w4dOnSoi/oQEREREVETVONZoe655x78/vvvdVEXIiIiIiJqomrcYvH5559j4sSJOHnyJLp37w65XO6w/4EHHqi1yhERERERUdNQ42CRmJiIX3/9FTt27HDax8HbREREREQtU427Qs2YMQNPPvkk0tLSYLVaHV4MFURERERELVONg0VWVhZmzZqF4ODguqgPEREREVHTYCwCLEag8Ibtq7GoTi83adIkSCQSp1dKSorDPrlcjoiICLz++usoKSmp0zqVVeOuUH/961+xZ88etG/fvi7qQ0RERETU+JlLgF8/Ag79CyjJBVQ+QPRzwJ2zAQ9VnV121KhRWLt2rcO2wMBAh30mk0lce04ikWDJkiV1Vp+yahwsOnXqhHnz5uGXX35Bjx49nAZvv/TSS7VWOSIiIiKiOicIgKkGrQ2CFTjwCbCvzAN7Se6t94NnAJJqdgySewI1WBdOqVQiJCSkyn3h4eEYMWIE4uPjG2+w+Pzzz+Ht7Y19+/Zh3759DvskEgmDBRERERE1LaYi4B+tqlfW0x+YecLWUuHKoX8BQ14GPuoBFGVVfb6/XQcUXtWvazWdPHkSBw4cQNu2bWv93BWpcbBITU2ti3oQERERETV+3sFA4U1bC4UrJblA0U1bueoEixraunUrvL29xfejR4/Gpk2bHPaZzWYYDAZIpVKsWLGi1utQkRoHi7IEQQBga6kgIiIiImqS5J62loPqksltYypchQuVD6AJBab9VP1r18Dw4cOxatUq8b2Xl5fTvsLCQnz44Yfw8PDA+PHja3R+d9R4VigA+Pe//40ePXpArVZDrVajZ8+e+PLLL2u7bkREREREdU8isXVHqu7LYrYN1HYl+jnb/uqeq4a/oPfy8kKHDh3EV2hoqNO+Xr16Yc2aNTh06BC++OILdz6ZGqlxsPjggw/wwgsvYMyYMdi4cSM2btyIUaNG4fnnn8eHH35YF3UkIiIiImo8FJ622Z+GzrG1UAC2r0Pn2LYratYKURekUin+9re/4c0330RxcXG9XLPGXaE++eQTrFq1Ck8//bS47YEHHkC3bt3w9ttvY9asWbVaQSIiIiKiRsdDBQyZCdz1KlCiB1RawGKq06lma+rhhx/Ga6+9hpUrV+LVV1+t8+vVuMUiLS0NgwcPdto+ePBgpKWl1UqliIiIiIgaPYUnIFMAXgG2r3Uwu5M7PDw8MH36dCxduhSFhYV1fr0aB4sOHTpg48aNTtu/+eYbdOzYsVYqRUREREREjtatW4ctW7bUaN/cuXORmZnpMMi7rtS4K9TChQvx6KOPYv/+/RgyZAgA4Ndff0VCQoLLwEFERERERM1fjVssxo8fj0OHDiEgIABbtmzBli1bEBAQgMOHD+Mvf/lLXdSRiIiIiIgaudtax6Jfv3746quvarsuRERERETURNW4xWL79u3YtWuX0/Zdu3Zhx44dtVIpIiIiIiJqWmocLObOnQuLxeK0XRAEzJ07t0bnWrx4MQYMGACNRoOgoCCMGzcOZ86ccShTUlKCuLg4+Pv7w9vbG+PHj0dGRoZDmcuXL2Ps2LHw9PREUFAQXnvtNZjNZocye/fuRd++faFUKtGhQwesW7fOqT4rV65Eu3btoFKpEB0djcOHD9fofoiIiIiIWqoaB4tz586ha9euTtujoqKQkpJSo3Pt27cPcXFxOHjwIOLj42EymTBy5EiH6bBmzZqF//3vf9i0aRP27duH69ev469//au432KxYOzYsTAajThw4ADWr1+PdevW4a233hLLpKamYuzYsRg+fDiSkpIwc+ZMTJs2zaHl5ZtvvsHs2bOxYMECHDt2DL169UJsbCwyMzNrdE9ERERERC2RRBAEoSYHhISEYMOGDbj77rsdtv/000944okn3HoQv3HjBoKCgrBv3z7cddddyMvLQ2BgIDZs2ICHHnoIAJCcnIwuXbogMTERgwYNwo4dO3Dffffh+vXrCA4OBgCsXr0ac+bMwY0bN6BQKDBnzhxs27YNJ0+eFK/12GOPITc3Fzt37gQAREdHY8CAAVixYgUAwGq1Ijw8HDNmzHDZEmMwGGAwGMT3er0e4eHhyMvLg1arve3PgIiIiIjqTklJCVJTUxEREQGVqvEsZtfQKvtc9Ho9dDpdlc+5NW6xePDBBzFz5kycP39e3JaSkoJXXnkFDzzwQE1P5yAvLw8A4OfnBwA4evQoTCYTRowYIZaJiopCmzZtkJiYCABITExEjx49xFABALGxsdDr9fjzzz/FMmXPYS9jP4fRaMTRo0cdykilUowYMUIsU97ixYuh0+nEV3h4uFv3TkRERETUlNU4WCxduhReXl6IiopCREQEIiIi0KVLF/j7++O999677YpYrVbMnDkTQ4YMQffu3QEA6enpUCgU8PHxcSgbHByM9PR0sUzZUGHfb99XWRm9Xo/i4mLcvHkTFovFZRn7OcqbN28e8vLyxNeVK1du78aJiIiIiJqBGk83q9PpcODAAcTHx+P333+HWq1Gz549cdddd7lVkbi4OJw8eRK//PKLW+epL0qlEkqlsqGrQURERETUKNzWOhYSiQQjR47EyJEja6US06dPx9atW7F//36EhYWJ20NCQmA0GpGbm+vQapGRkYGQkBCxTPnZm+yzRpUtU34mqYyMDGi1WqjVashkMshkMpdl7OcgIiIiIiqr2FQMD6kH8o350Cg0MFvNUMvVdXa9SZMmYf369QAAuVyONm3a4Omnn8bZs2fx9ddfV3hc27ZtcfHixTqrl91tBYuEhAQkJCQgMzMTVqvVYd+aNWuqfR5BEDBjxgxs3rwZe/fuRUREhMP+fv36QS6XIyEhAePHjwcAnDlzBpcvX0ZMTAwAICYmBn//+9+RmZmJoKAgAEB8fDy0Wq04e1VMTAy2b9/ucO74+HjxHAqFAv369UNCQgLGjRsHwNY1KyEhAdOnT6/2/RARERFRy2CwGLDm5BpsSN4AvVEPrUKLCVETMLXnVChldderZdSoUVi7di0MBgO2b9+OuLg4LFiwAGlpaWKZ0NBQrF27FqNGjQIAyGSyOqtPWTUOFgsXLsSiRYvQv39/hIaGQiKR3PbF4+LisGHDBvz3v/+FRqMRxzPodDqo1WrodDpMnToVs2fPhp+fH7RaLWbMmIGYmBgMGjQIADBy5Eh07doVTz31FJYuXYr09HS8+eabiIuLE7sqPf/881ixYgVef/11TJkyBbt378bGjRuxbds2sS6zZ8/GxIkT0b9/fwwcOBAfffQRCgsLMXny5Nu+PyIiIiJq/ARBQLG5uNrlrYIV6/9cj9V/rBa36Y16rPpjFQQImNhtIqSS6g1lVnuoa/Q8rVQqxR41L7zwAjZv3oydO3diwYIFDuV8fHzqvedNjYPF6tWrsW7dOjz11FNuX3zVqlUAgGHDhjlsX7t2LSZNmgQA+PDDDyGVSjF+/HgYDAbExsbin//8p1hWJpNh69ateOGFFxATEwMvLy9MnDgRixYtEstERERg27ZtmDVrFpYvX46wsDB8/vnniI2NFcs8+uijuHHjBt566y2kp6ejd+/e2Llzp9OAbiIiIiJqXorNxYjeEF2tsr5KX+wcvxMbkje43L8heQMmd5+MUd+NQo4hp8rzHXriEDzlnjWqb1lqtRpZWVm3fXxtqnGwMBqNGDx4cK1cvDpLaKhUKqxcuRIrV66ssEzbtm2dujqVN2zYMBw/frzSMtOnT2fXJyIiIiKqUIA6ANkl2dAb9S7364165BhyEKAOqFawuF2CICAhIQG7du3CjBkz6uw6NVHjYDFt2jRs2LAB8+fPr4v6EBERERHVK7WHGoeeOFTt8nKpHFqF1mW40Cq0CFIH4asxX1X72jWxdetWeHt7w2QywWq14oknnsDbb79do3PUlRoHi5KSEnz66af46aef0LNnT8jlcof9H3zwQa1VjoiIiIiorkkkkhp1Ryo2FWNC1ASs+mOV074JURNgtprd6t5UmeHDh2PVqlVQKBRo1aoVPDxuay6mOlHjmvzxxx/o3bs3AODkyZMO+9wZyE1ERERE1BSo5WpM7TkVAPB18tf1OiuUl5cXOnToUGfnd0eNg8WePXvqoh5ERERERE2GUqbE5O6T8UzPZ5BvyodGblvHoi5DRWPXeNpOiIiIiIiaEPtieH4yPwCAXCavrHizV+1g8de//rVa5b7//vvbrgwREREREbm2bt26apWrzsyrdaHawUKn09VlPYiIiIiIqAmrdrBYu3ZtXdaDiIiIiIiasOqtNU5ERERERFQJBgsiIiIiInIbgwURERERtTgNNcC5saqNz4PBgoiIiIhaDLncNiVsUVFRA9ekcbF/HvbP53ZwHQsiIiIiajFkMhl8fHyQmZkJAPD09IREImngWjUcQRBQVFSEzMxM+Pj4QCaT3fa5GCyIiIiIqEUJCQkBADFcEODj4yN+LreLwYKIiIiIWhSJRILQ0FAEBQXBZDI1dHUanFwud6ulwo7BgoiIiIhaJJlMVisP1GTDwdtEREREROQ2BgsiIiIiInIbgwUREREREbmNwYKIiIiIiNzGYEFERERERG5jsCAiIiIiIrcxWBARERERkdsYLIiIiIiIyG0MFkRERERE5DYGCyIiIiIichuDBRERERERuY3BgoiIiIiI3MZgQUREREREbmOwICIiIiIitzFYEBERERGR2xgsiIiIiIjIbQwWRERERETkNgYLIiIiIiJyG4MFERERERG5jcGCiIiIiIjcxmBBRERERERuY7AgIiIiIiK3MVgQEREREZHbGCyIiIiIiMhtDBZEREREROQ2BgsiIiIiInIbgwUREREREbmNwYKIiIiIiNzGYEFERERERG5r0GCxf/9+3H///WjVqhUkEgm2bNnisF8ikbh8LVu2TCzTrl07p/3vvvuuw3n++OMP3HnnnVCpVAgPD8fSpUud6rJp0yZERUVBpVKhR48e2L59e53cMxERERFRc9SgwaKwsBC9evXCypUrXe5PS0tzeK1ZswYSiQTjx493KLdo0SKHcjNmzBD36fV6jBw5Em3btsXRo0exbNkyvP322/j000/FMgcOHMDjjz+OqVOn4vjx4xg3bhzGjRuHkydP1s2NExERERE1MxJBEISGrgRga53YvHkzxo0bV2GZcePGIT8/HwkJCeK2du3aYebMmZg5c6bLY1atWoU33ngD6enpUCgUAIC5c+diy5YtSE5OBgA8+uijKCwsxNatW8XjBg0ahN69e2P16tXVqr9er4dOp0NeXh60Wm21jiEiIiIiauyq+5zbZMZYZGRkYNu2bZg6darTvnfffRf+/v7o06cPli1bBrPZLO5LTEzEXXfdJYYKAIiNjcWZM2eQk5MjlhkxYoTDOWNjY5GYmFhhfQwGA/R6vcOLiIiIiKil8mjoClTX+vXrodFo8Ne//tVh+0svvYS+ffvCz88PBw4cwLx585CWloYPPvgAAJCeno6IiAiHY4KDg8V9vr6+SE9PF7eVLZOenl5hfRYvXoyFCxfWxq0RERERETV5TSZYrFmzBhMmTIBKpXLYPnv2bPH7nj17QqFQ4LnnnsPixYuhVCrrrD7z5s1zuLZer0d4eHidXY+IiIiIqDFrEsHi559/xpkzZ/DNN99UWTY6OhpmsxkXL15E586dERISgoyMDIcy9vchISHiV1dl7PtdUSqVdRpciIiIiIiakiYxxuKLL75Av3790KtXryrLJiUlQSqVIigoCAAQExOD/fv3w2QyiWXi4+PRuXNn+Pr6imXKDgi3l4mJianFuyAiIiIiar4aNFgUFBQgKSkJSUlJAIDU1FQkJSXh8uXLYhm9Xo9NmzZh2rRpTscnJibio48+wu+//44LFy7g66+/xqxZs/Dkk0+KoeGJJ56AQqHA1KlT8eeff+Kbb77B8uXLHboxvfzyy9i5cyfef/99JCcn4+2338Zvv/2G6dOn1+0HQERERETUTDTodLN79+7F8OHDnbZPnDgR69atAwB8+umnmDlzJtLS0qDT6RzKHTt2DC+++CKSk5NhMBgQERGBp556CrNnz3bopvTHH38gLi4OR44cQUBAAGbMmIE5c+Y4nGvTpk148803cfHiRXTs2BFLly7FmDFjqn0vnG6WiIiIiJqj6j7nNpp1LJo6BgsiIiIiao6a3ToWRERERETUeDFYEBERERGR2xgsiIiIiIjIbQwWRERERETkNgYLIiIiIiJyG4MFERERERG5jcGCiIiIiIjcxmBBRERERERuY7AgIiIiIiK3MVgQEREREZHbGCyIiIiIiMhtDBZEREREROQ2BgsiIiIiInIbgwUREREREbmNwYKIiIiIiNzGYEFERERERG5jsCAiIiIiIrcxWBARERERkdsYLIiIiIiIyG0MFkRERERE5DYGCyIiIiIichuDBRERERERuY3BgoiIiIiI3MZgQUREREREbmOwICIiIiIitzFYEBERERGR2xgsiIiIiIjIbQwWRERERETkNgYLIiIiIiJyG4MFERERERG5jcGCiIiIiIjcxmBBRERERERuY7AgIiIiIiK3MVgQEREREZHbGCyIiIiIiMhtDBZEREREROQ2BgsiIiIiInIbgwUREREREbmNwYKIiIiIiNzGYEFERERERG5jsCAiIiIiIrcxWBARERERkdsYLIiIiIiIyG0MFkRERERE5DYGCyIiIiIichuDBRERERERua1Bg8X+/ftx//33o1WrVpBIJNiyZYvD/kmTJkEikTi8Ro0a5VAmOzsbEyZMgFarhY+PD6ZOnYqCggKHMn/88QfuvPNOqFQqhIeHY+nSpU512bRpE6KioqBSqdCjRw9s37691u+XiIiIiKi5atBgUVhYiF69emHlypUVlhk1ahTS0tLE1//7f//PYf+ECRPw559/Ij4+Hlu3bsX+/fvx7LPPivv1ej1GjhyJtm3b4ujRo1i2bBnefvttfPrpp2KZAwcO4PHHH8fUqVNx/PhxjBs3DuPGjcPJkydr/6aJiIiIiJohiSAIQkNXAgAkEgk2b96McePGidsmTZqE3Nxcp5YMu9OnT6Nr1644cuQI+vfvDwDYuXMnxowZg6tXr6JVq1ZYtWoV3njjDaSnp0OhUAAA5s6diy1btiA5ORkA8Oijj6KwsBBbt24Vzz1o0CD07t0bq1evrlb99Xo9dDod8vLyoNVqb+MTICIiIiJqfKr7nNvox1js3bsXQUFB6Ny5M1544QVkZWWJ+xITE+Hj4yOGCgAYMWIEpFIpDh06JJa56667xFABALGxsThz5gxycnLEMiNGjHC4bmxsLBITEyusl8FggF6vd3gREREREbVUjTpYjBo1Cv/+97+RkJCAJUuWYN++fRg9ejQsFgsAID09HUFBQQ7HeHh4wM/PD+np6WKZ4OBghzL291WVse93ZfHixdDpdOIrPDzcvZslIiIiImrCPBq6ApV57LHHxO979OiBnj17on379ti7dy/uueeeBqwZMG/ePMyePVt8r9frGS6IiIiIqMVq1C0W5UVGRiIgIAApKSkAgJCQEGRmZjqUMZvNyM7ORkhIiFgmIyPDoYz9fVVl7PtdUSqV0Gq1Di8iIiIiopaqSQWLq1evIisrC6GhoQCAmJgY5Obm4ujRo2KZ3bt3w2q1Ijo6Wiyzf/9+mEwmsUx8fDw6d+4MX19fsUxCQoLDteLj4xETE1PXt0RERERE1Cw0aLAoKChAUlISkpKSAACpqalISkrC5cuXUVBQgNdeew0HDx7ExYsXkZCQgAcffBAdOnRAbGwsAKBLly4YNWoUnnnmGRw+fBi//vorpk+fjsceewytWrUCADzxxBNQKBSYOnUq/vzzT3zzzTdYvny5Qzeml19+GTt37sT777+P5ORkvP322/jtt98wffr0ev9MiIiIiIiaogadbnbv3r0YPny40/aJEydi1apVGDduHI4fP47c3Fy0atUKI0eOxDvvvOMw0Do7OxvTp0/H//73P0ilUowfPx4ff/wxvL29xTJ//PEH4uLicOTIEQQEBGDGjBmYM2eOwzU3bdqEN998ExcvXkTHjh2xdOlSjBkzptr3wulmiYiIiKg5qu5zbqNZx6KpY7AgIiIiouao2axjQUREREREjR+DBRERERERuY3BgoiIiIiI3MZgQURERETUSBWbimGymJBdnA2TxYRiU3FDV6lCjXrlbSIiIiKilspgMWDNyTXYkLwBeqMeWoUWE6ImYGrPqVDKlA1dPScMFkREREREjUyxqRhrTq7B6j9Wi9v0Rj1W/bEKADC5+2So5eqGqp5L7ApFRERERNRICIKAjMIMyKQybEje4LLM18lfw0Pa+NoHGl+NiIiIiIhagDxDHlJyU3Au55z49VzuOYR4huDjuz+G3qh3eZzeqEe+KR9+Mr96rnHlGCyIiIiIiOqQwWLAhdwLYng4m3sW53LOIbMo02V5pVQJf7U/tAqty3ChVWihkWvquto1xmBBRERERFQLLFYLrhZcRUpOihgeUnJTcFl/GRbB4vKYUK9QdPTtiI4+HdHBtwM6+nREhC4CFqsFE6ImiGMqypoQNQFmqxlymbyub6lGGCyIiIiIiGpAEATcLL6Jc7nnbN2XSgPE+dzzKLGUuDxGp9Sho09HdPTtiA4+HdDJtxPa+7SHRlFBy4MMmNpzKgDbmIqmMCuURBAEoaEr0Rzo9XrodDrk5eVBq9U2dHWIiIiIqBYUGAtsXZhyzzmMhcg15Losr5Qp0d6nvRgi7F8D1AGQSCQ1vn6xqRgeUg/km/KhkWtgtprrfTao6j7nssWCiIiIiFo8k8WEVH2qQwvEuZxzuF543WV5qUSKNpo2DuGhg08HhGvCIZPKaq1e9hBhH6jd2Lo/lcVgQUREREQthlWw4nrBdXEGppQcW2vExbyLMAtml8cEeQbdaoEoDRCRukioPFT1XPvGjcGCiIiIiJql7JJspxaIlNwUFJmLXJbXyDXiAGp7gOjo2xE6pa6ea940MVgQERERUZNWZCrC+dzztwZTl37NLsl2WV4ulSNSF+nQAtHJtxOCPYNvaxwE2TBYEBEREVGTYLaacUl/ySE8nMs5h2sF1yDAeT4iCSQI04TdaoHw7YBOPp3QRtumUa5c3dTxEyUiIiKiRkUQBKQXpju0QKTkpOBC3gWYrCaXx/ir/MUWCHuQiNRFwlPuWc+1b7kYLIiIiIioweQZ8hxaIFJyU5CSk4J8U77L8p4eng7jIOwLy/mp/Oq55lQegwURERER1bkScwku5F1wGkydWZzpsryHxAPtdO0cWiA6+nZEqFcopBJpPdeeqoPBgoiIiIhqjcVqwZX8K04Lyl3OvwyrYHV5TGvv1uIMTPYWiAhtRKNes4GcMVgQERERUY0JgoAbxTfEFgh7kLiQdwEGi8HlMT5KH6cF5Tr4dIC3wruea091gcGCiIiIiCqVb8wXWx7EwdS5Kcgz5Lksr5Kp0N6nvUMLRCffTvBX+XM612aMwYKIiIiIAABGixGpeak4m3P2VpDIPYf0wnSX5aUSKdpq2zoMpO7o2xGtvVtDJpXVc+2poTFYEBEREbUwVsGKa/nXcDb3LFJyUsRuTJf0l2ARLC6PCfYMdhpIHaGLgFKmrOfaU2PFYEFERETUjN0svunYjSnnHM7nnUexudhleY1C49QC0d6nPXRKXT3XnJoaBgsiIiKiZqDIVOTQfcneEpFdku2yvEKqQHuf9rdmYyodTB3sGcxxEHRbGCyIiIiImhCT1YRLeZccVqU+l3MO1wquuSwvgQRttG2cpnNto2kDDykfBan28KeJiIiIqBESBAFphWkO4eFc7jmk5qXCbDW7PCZQHejQAtHRpyMifSKh9lDXc+2pJWKwICIiImpguSW5OJd7zmE2ppTcFBSaCl2W95J7ObRA2Lsx+ap867nmRLcwWBARERHVk2JzMS7kXnCazvVm8U2X5T2kHojQRTgNpg71CuU4CGp0GCyIiIiIqlBsKoaH1AP5xnxoFBqYrWao5RV3LzJbzbicf1lsebDPxnQl/woECC6Pae3d2nE6V5+OaKtrC7lUXle3RVSrGCyIiKhJqekDHpG7DBYD1pxcgw3JG6A36qFVaDEhagKm9pwKhVSBjKIMxwCRew4Xci/AaDW6PJ+fyk8cQF12OlcvuVc93xlR7WKwICKiJqOyBzwu0tX0CYIAAYLzVwiwClYIgu03/eL70jIAHN5X9tVezvZfmfPYy5S5piAI8Ff745vkb7D6j9ViPfVGPVb9sQpWWNEjoAem757u8n7UHmp08OngNJ1rgDqg7j9MogbAYEFERI2SIAgwWAwoMBUg35gPb7k3Np7Z6PIBT4CA0RGj8cu1X5weSKv9YOniYbbsg6ZVsNrqVbpdPA9Q/Ydc+3lKr+1wXsHxIRcCYIW1ygflyh666+oeq1Of27nHxsZX6Yud43diQ/IGl/v/X/L/w5SHpiBAFQCdUufQAtHRpyNaa1pDKpHWc62JGg6DBRER1QmT1YQCoy0U5JvyUWAsQIGxAHqjHgUm2/f5pnzkG/OdvreHCZPVBKDqB7wNyRswuftkfH7ic+QYcurzNqkRkkACiUTi+LX0e/uDvgS27yWQwPbfrff2YyJ9IpFjyIHeqHd5Hb1Rj2JzMX586EfIZRwHQcRgQURETixWi+3h3x4AjKUP/Sbn78WvpeHAXr7EUlIrdZFAgjaaNsg15Fb6gKc36vGXDn9BZnGm+HAIwOlhsfyDZtmv4kOnRAIppOJ2SODwvsKv9ofT0muXf1itVn3K1EUCya36lHlf4TlK621/UK6sPpCUOU8Vn4XTcWU/m/L1Kf8gX7Y+ZT7X8sc5vHdxLoc/mzLlXP3Z1CaTxQStQuvyZ0+r0EKr0DJUEJVisCAiamYEQUCRucg5AJRvPTCVth6UaSGwl69o7vzb4enhCW+FNzRyDTQKjfi9t8IbGkXpNrnj994Kb2gVWnjLveEp94RUIq3yAc9f5Y9Z/WfVWr2JANvsThOiJmDVH6uc9k2ImgCz1cxgQVSKwYKIqBGxjytw6j5k0lfZlahsC4K9T7u7lDKl00N/+QBQ0T6NQgMvuRc8pLXzTw0f8KghqOVqTO05FQDwdfLXnDSAqBISwT7ai9yi1+uh0+mQl5cHrVbb0NUhogZispgcugM5fF9J96Gy35ut5lqpi4fEQ2wh8JaXtgCUfu8yDJRvSZBrGt2DusFiwBd/fMEHPKp34jTHpnxo5JzmmFqW6j7nMljUEgYLoqbPPq6g0gd/F+HA/n2BsaDWxhVIJVJ4yb2cug+VDQqVBQJvhTdUMlWzXJmXD3hERPWrus+57ApFRLelsS1SZhWsKDIVuR5cXMXsQ/ZxBkXmolqrj5fcS3z4F79WEABctR54eng2y1BQG+w/Z34yPwBodK0qREQtFYMFEdVYbS9SJggCSiwlzt2HyrUUlG0ZKB8UCk2FtTauQCVTVdl9qOzg4vLhwFvuDZlUVit1ISIiaioYLIioRopNxVhzck2Fi5Q90vkRpOSmOE5TanLuRlS+RcEs1NK4AqmH4wN/Rd2HKupK1AjHFRARETUFDBZEVClBEKA36nG14CoyCjMwpNWQKhcpm7N/zm0tUiaVSF3POlTRNKUuuhIpZUp2ISIiImoADBZEhBJzCa4XXMfVgqu4VnANV/NtX+3fF5gKAAAdfTqik2+nShcpyzXkok9QH+QYcqqcprR8VyKOKyAiImq6GjRY7N+/H8uWLcPRo0eRlpaGzZs3Y9y4cQAAk8mEN998E9u3b8eFCxeg0+kwYsQIvPvuu2jVqpV4jnbt2uHSpUsO5128eDHmzp0rvv/jjz8QFxeHI0eOIDAwEDNmzMDrr7/ucMymTZswf/58XLx4ER07dsSSJUswZsyYurt5onpksVqQWZSJqwVXnULDtYJruFF8o8pzBKgDEOwVjAB1QKWLlAWqA7H87uV1cRtERETUiDVosCgsLESvXr0wZcoU/PWvf3XYV1RUhGPHjmH+/Pno1asXcnJy8PLLL+OBBx7Ab7/95lB20aJFeOaZZ8T3Go1G/F6v12PkyJEYMWIEVq9ejRMnTmDKlCnw8fHBs88+CwA4cOAAHn/8cSxevBj33XcfNmzYgHHjxuHYsWPo3r17HX4CRLVDEATkGfJswaHgKq7lXxO/Xiu4huuF16tcG8FL7oUw7zC09m6N1prWCPMOQ5jG9r6VdyuoPWwz8RSbirlIGRERETlpNOtYSCQShxYLV44cOYKBAwfi0qVLaNOmDQBbi8XMmTMxc+ZMl8esWrUKb7zxBtLT06FQKAAAc+fOxZYtW5CcnAwAePTRR1FYWIitW7eKxw0aNAi9e/fG6tWrXZ63PK5jQXWt2Fxs666Uf1XssiQGiIJrKDQVVnq8h9QDrbxaobV3azEwtNa0Rrh3OFp7t4ZOqat2NyQuUkZERNRyNMt1LPLy8iCRSODj4+Ow/d1338U777yDNm3a4IknnsCsWbPg4WG7tcTERNx1111iqACA2NhYLFmyBDk5OfD19UViYiJmz57tcM7Y2Fhs2bKlwroYDAYYDAbxvV7vus85UXWZrWZkFGWIrQxX8q84dFnKKsmq8hxB6iC01rR2DA/ettaHIM+gWpsCVSlTYnL3yXim5zMOi5QxVBAREbVcTSZYlJSUYM6cOXj88ccdktJLL72Evn37ws/PDwcOHMC8efOQlpaGDz74AACQnp6OiIgIh3MFBweL+3x9fZGeni5uK1smPT29wvosXrwYCxcurK3boxZAEATkGHIcWhnE1of8a0gvTK9yylWNXCN2UyrbZam1pjVaebWCykNVT3fDRcqIiIjIUZMIFiaTCY888ggEQcCqVY79usu2NPTs2RMKhQLPPfccFi9eDKWy7n57Om/ePIdr6/V6hIeH19n1qGkoMhWJrQwOwaH0+2JzcaXHy6VysZWhfJelMO8w6JS6eroTIiIioppp9MHCHiouXbqE3bt3Vzl+ITo6GmazGRcvXkTnzp0REhKCjIwMhzL29yEhIeJXV2Xs+11RKpV1GlyocTJbzUgvTHcYGG2fWelqwVVkl2RXerwEEgR6BjoMjC4bIII8gyCVSOvpboiIiIhqT6MOFvZQce7cOezZswf+/v5VHpOUlASpVIqgoCAAQExMDN544w2YTCbI5bauGvHx8ejcuTN8fX3FMgkJCQ4DwOPj4xETE1P7N0WNmiAIyCrJchoYbf8+vTAdFsFS6Tk0Co1DcLB3VbLPrsRxCERERNQcNWiwKCgoQEpKivg+NTUVSUlJ8PPzQ2hoKB566CEcO3YMW7duhcViEcc8+Pn5QaFQIDExEYcOHcLw4cOh0WiQmJiIWbNm4cknnxRDwxNPPIGFCxdi6tSpmDNnDk6ePInly5fjww8/FK/78ssvY+jQoXj//fcxduxY/Oc//8Fvv/2GTz/9tH4/EKoXRaaiCtdzuFZwrcruSgqpAq28WzkEh7JdlrQKzgpGRERELU+DTje7d+9eDB8+3Gn7xIkT8fbbbzsNurbbs2cPhg0bhmPHjuHFF19EcnIyDAYDIiIi8NRTT2H27NkO3ZTKLpAXEBCAGTNmYM6cOQ7n3LRpE958801xgbylS5fWaIE8TjfbeJisJqQXpFe4inSOIafS4yWQINgr2KGbkn2wdJgmDAHqAHZXIiIiohajus+5jWYdi6aOwaL+2LsrlZ1RqWyXpfSidFgFa6Xn0Cl1Dt2UwrzDxO9DvUKhkCkqPZ6IiIiopWiW61hQy1FgLBAHRJdvcbhecB0llpJKj1fKlE6zK5Ud66BRaCo9noiIiIhqhsGCGoTJYkJaYZrTdKz2AJFryK30eKlEimDPYKeF4MI1tlWk/dX+7K5EREREVI8YLKhOWAUrbhbfdFoEzt4KkVmUWWV3JV+lr9MicPbuS6FeoVyQjYiIiKgRYbCg25ZvzHdcx6FM68P1guswWAyVHq+SqZxaHMSZljRh8JJ71dOdEBEREZG7GCyoQkaLEdcLrjstAmf/Xm/UV3q8VCJFqFeo8yrSpd/7q/whkUjq6W6IiIiIqC4xWDQDxaZieEg9kG/Mh0ahgdlqhlqurvI4q2DFjaIbTovA2YNDZlEmBFQ+aZifys9pETh7gAjxCoFcyu5KRERERC0Bg0UTZ7AYsObkGmxI3gC9UQ+tQosJURMwtedUKGVK5BnynBaBs493uF5wHUarsdLzqz3UTtOylh334Cn3rKc7JSIiIqLGjMGiCSs2FWPNyTVY/cdqcZveqMeqP1bBCit6BPTA9N3TKz2HTCJDiFeI4+rRZVod/FR+7K5ERERERFVisGjCPKQe2JC8weW+/5f8/zDloSnwVfpCKpE6zKhUNkCEeIXAQ8ofAyIiIiJyD58om7B8Y36FA6j1Rj2KzcXYNX5XtcZbEBERERG5gyuINWEahQZahetl1bUKLbQKLUMFEREREdULBosmzGw1Y0LUBJf7JkRNgNlqrucaEREREVFLxa5QTZharsbUnlMBAF8nf+1yVqj/3969B0VV/mEAf3ZDLiuuIFcNBB1TCVTwbmpOSaKlptnUrIqNI16SwkupOZW3ykvkmKKYWWLjJdS0ckxlSrGRBPKCJkqgBBopkBK38gLy/f3Bjx03QGHPsnvM5zPDjJ7znve855mXs+fL7jlLRERERGQNGhG59xcVUIOUlpaiZcuWKCkpgV5f98eTmorxeywqytCiWcO/x4KIiIiI6H4aep3Ldyz+A2qKiFaPtAIANHuEX0pHRERERNbFeyyIiIiIiEgxFhZERERERKQYCwsiIiIiIlKMhQURERERESnGwoKIiIiIiBRjYUFERERERIqxsCAiIiIiIsVYWBARERERkWIsLIiIiIiISDEWFkREREREpBgLCyIiIiIiUoyFBRERERERKcbCgoiIiIiIFGNhQUREREREitnZegD/FSICACgtLbXxSIiIiIiILKfm+rbmerc+LCwspKysDADg6+tr45EQEREREVleWVkZWrZsWe96jdyv9KAGqaqqwpUrV9CiRQtoNBqr77+0tBS+vr74/fffodfrrb7/BxmzMx+zU4b5mY/ZmY/ZmY/ZKcP8zGfr7EQEZWVlaNOmDbTa+u+k4DsWFqLVauHj42PrYUCv1/OX1UzMznzMThnmZz5mZz5mZz5mpwzzM58ts7vXOxU1ePM2EREREREpxsKCiIiIiIgUY2HxH+Hg4ICFCxfCwcHB1kN54DA78zE7ZZif+Zid+Zid+ZidMszPfA9Kdrx5m4iIiIiIFOM7FkREREREpBgLCyIiIiIiUoyFBRERERERKcbCgoiIiIiIFGNhYWXLli1Dr1690KJFC3h6emLUqFHIzMw0aXPz5k1ERkbCzc0Nzs7OGDNmDAoKCkzaREVFoUePHnBwcEBwcHCd+9q5cyeCg4Oh0+ng5+eH6Ojo+46vqKgI48aNg16vh4uLCyZNmoTy8nKzj9eS1J6dv78/NBqNyc/y5cvNPl5LskR2Z86cgcFggK+vL5ycnBAQEIDVq1fX2teRI0fQvXt3ODg4oEOHDti8efN9x/fLL79g4MCBcHR0hK+vLz788EPFx2xJas4vNze31rzTaDRISUmxyLErZa3srl69irFjx6Jjx47QarWYOXNmg8Z3+fJlPPfcc9DpdPD09MScOXNQWVmp+LgtQe3Z1TXv4uPjFR+3JVgruz179uCZZ56Bh4cH9Ho9+vXrh4SEhPuOj+e8aubkx3NetaSkJPTv3x9ubm5wcnJC586dsWrVqvuOr8nnnpBVhYWFSVxcnKSnp8vp06fl2WeflbZt20p5ebmxzbRp08TX11cOHTokJ06ckL59+8oTTzxh0s/rr78ua9eulfDwcOnWrVut/ezfv1/s7Oxk/fr1kp2dLfv27ZPWrVtLTEzMPcc3dOhQ6datm6SkpMjRo0elQ4cOYjAYLHLsSqk9Oz8/P1myZIlcvXrV+HP32GzJEtl9/vnnEhUVJUeOHJHs7GzZsmWLODk5meTy22+/iU6nk9mzZ8v58+clJiZGHnnkETl48GC9YyspKREvLy8ZN26cpKeny5dffilOTk6yYcOGpgnDDGrOLycnRwDIDz/8YDL3bt++3TRhNJK1ssvJyZGoqCj54osvJDg4WGbMmHHfsVVWVkpQUJCEhoZKWlqa7N+/X9zd3WX+/PkWzcBcas5ORASAxMXFmcy7GzduWOz4lbBWdjNmzJAVK1bIzz//LFlZWTJ//nxp1qyZnDp1qt6x8ZynLD+e86qdOnVKtm/fLunp6ZKTkyNbtmwRnU53z3lkjbnHwsLGCgsLBYD8+OOPIiJSXFwszZo1k127dhnbZGRkCABJTk6utf3ChQvrvDg2GAzy4osvmixbs2aN+Pj4SFVVVZ1jOX/+vACQ48ePG5cdOHBANBqN/PHHH+YcXpNSU3Yi1YXFqlWrzDsYK1OaXY3p06fLU089Zfz/3LlzJTAw0KTNyy+/LGFhYfX2ERsbK66urnLr1i3jsnnz5kmnTp0afVzWoqb8al5k09LSzDwa62qq7O42aNCgBl0c79+/X7RareTn5xuXrV+/XvR6vcl8VAs1ZSdSXVh8/fXXDR6/LVkjuxqPP/64LF68uN71POcpy4/nvPqNHj1axo8fX+96a8w9fhTKxkpKSgAArVq1AgCcPHkSFRUVCA0NNbbp3Lkz2rZti+Tk5Ab3e+vWLTg6Oposc3JyQl5eHi5dulTnNsnJyXBxcUHPnj2Ny0JDQ6HVapGamtrgfVuLmrKrsXz5cri5uSEkJATR0dGq+UjFv1kqu5KSEmMfQPUcursPAAgLC7tnH8nJyXjyySdhb29vsk1mZib++uuvxh2YlagpvxojR46Ep6cnBgwYgL179zbqeKypqbIzR3JyMrp06QIvLy/jsrCwMJSWluLcuXOK+m4KasquRmRkJNzd3dG7d29s2rQJotKvxrJWdlVVVSgrK7tnG57zlOVXg+c8U2lpaTh27BgGDRpUbxtrzD0WFjZUVVWFmTNnon///ggKCgIA5Ofnw97eHi4uLiZtvby8kJ+f3+C+w8LCsGfPHhw6dAhVVVXIysrCypUrAVR/nrYu+fn58PT0NFlmZ2eHVq1aNWrf1qC27IDqezfi4+ORmJiIqVOnYunSpZg7d27jD66JWSq7Y8eOYceOHZgyZYpxWX5+vslFWk0fpaWluHHjRp391LdNzTq1UVt+zs7OWLlyJXbt2oXvvvsOAwYMwKhRo1T5QtuU2ZnjQZp7assOAJYsWYKdO3fi+++/x5gxYzB9+nTExMQo7tfSrJndRx99hPLycrz00kv1tnmQ5h2gvvx4zjPl4+MDBwcH9OzZE5GRkYiIiKh3PNaYe3YW6YXMEhkZifT0dCQlJVm878mTJyM7OxvDhw9HRUUF9Ho9ZsyYgUWLFkGrffDrSTVmN3v2bOO/u3btCnt7e0ydOhXLli2Dg4ODxcdpLktkl56ejueffx4LFy7EkCFDLDg69VNbfu7u7iZzr1evXrhy5Qqio6MxcuRIRX1bmtqye5CoMbt3333X+O+QkBD8/fffiI6ORlRUlOK+Lcla2W3fvh2LFy/Gt99+W+uPdA8yteXHc56po0ePory8HCkpKXjrrbfQoUMHGAwGJcNW5MG/wnxAvfbaa9i3bx8SExPh4+NjXO7t7Y3bt2+juLjYpH1BQQG8vb0b3L9Go8GKFStQXl6OS5cuIT8/H7179wYAtG/fvs5tvL29UVhYaLKssrISRUVFjdp3U1NjdnXp06cPKisrkZub2+Btmpolsjt//jwGDx6MKVOm4J133jFZ5+3tXespXAUFBdDr9XBycqpzTPVtU7NOTdSYX1369OmDixcvNri9NTR1duZ4UOaeGrOrS58+fZCXl4dbt241Sf/msFZ28fHxiIiIwM6dO2t9nPHfHpR5B6gzv7o8zOe8du3aoUuXLpg8eTJmzZqFRYsW1Tsmq8w9i92tQQ1SVVUlkZGR0qZNG8nKyqq1vuamnq+++sq47Ndff230Dch1CQ8Pl379+tW7vubm7RMnThiXJSQkqObmbTVnV5etW7eKVquVoqKiRm3XFCyVXXp6unh6esqcOXPq3M/cuXMlKCjIZJnBYGjQzdt3P9Fj/vz5qrqRUc351SUiIkJCQkIatU1TsVZ2d2vszdsFBQXGZRs2bBC9Xi83b9687/ZNTc3Z1eX9998XV1dXs7a1NGtmt337dnF0dJRvvvmmQWPjOc9UY/Ory8N+zquxePFi8fPzq3e9NeYeCwsre/XVV6Vly5Zy5MgRk8ek/fPPP8Y206ZNk7Zt28rhw4flxIkT0q9fv1oXtRcuXJC0tDSZOnWqdOzYUdLS0iQtLc14p/+ff/4p69evl4yMDElLS5OoqChxdHSU1NRUYx+pqanSqVMnycvLMy4bOnSohISESGpqqiQlJcljjz2mmsfNqjm7Y8eOyapVq+T06dOSnZ0tW7duFQ8PD5kwYYIVkrk/S2R39uxZ8fDwkPHjx5v0UVhYaGxT87jUOXPmSEZGhqxbt67W41JjYmLk6aefNv6/uLhYvLy8JDw8XNLT0yU+Pv6+j8yzNjXnt3nzZtm+fbtkZGRIRkaGfPDBB6LVamXTpk1NnErDWCs7ETH+Lvfo0UPGjh0raWlpcu7cOeP6PXv2mLyA1jxudsiQIXL69Gk5ePCgeHh4qOZxs2rObu/evbJx40Y5e/asXLhwQWJjY0Wn08mCBQuaMJGGs1Z227ZtEzs7O1m3bp1Jm+LiYmMbnvMsmx/PedXWrl0re/fulaysLMnKypLPPvtMWrRoIW+//baxjS3mHgsLKwNQ509cXJyxzY0bN2T69Oni6uoqOp1ORo8eLVevXjXpZ9CgQXX2k5OTIyLVF8d9+/aV5s2bi06nk8GDB0tKSopJH4mJiSbbiIhcv35dDAaDODs7i16vl4kTJ0pZWVlTxdEoas7u5MmT0qdPH2nZsqU4OjpKQECALF26VBV/9RSxTHYLFy6ss49//3UkMTFRgoODxd7eXtq3b2+yj5p+/r3NmTNnZMCAAeLg4CCPPvqoLF++3MIJKKPm/DZv3iwBAQGi0+lEr9dL7969TR5jaGvWzO5+beLi4uTfb9Tn5ubKsGHDxMnJSdzd3eWNN96QioqKpoii0dSc3YEDByQ4OFicnZ2lefPm0q1bN/nkk0/kzp07TRVHo1gru/peT1555RWTfnjOs1x+POdVW7NmjQQGBhpzCAkJkdjYWJPfQVvMPc3/QyAiIiIiIjIbb94mIiIiIiLFWFgQEREREZFiLCyIiIiIiEgxFhZERERERKQYCwsiIiIiIlKMhQURERERESnGwoKIiIiIiBRjYUFERERERIqxsCAiIiIiIsVYWBARkc2ICEJDQxEWFlZrXWxsLFxcXJCXl2eDkRERUWOxsCAiIpvRaDSIi4tDamoqNmzYYFyek5ODuXPnIiYmBj4+PhbdZ0VFhUX7IyKiaiwsiIjIpnx9fbF69Wq8+eabyMnJgYhg0qRJGDJkCEJCQjBs2DA4OzvDy8sL4eHhuHbtmnHbgwcPYsCAAXBxcYGbmxuGDx+O7Oxs4/rc3FxoNBrs2LEDgwYNgqOjI7Zt22aLwyQi+s/TiIjYehBERESjRo1CSUkJXnjhBbz33ns4d+4cAgMDERERgQkTJuDGjRuYN28eKisrcfjwYQDA7t27odFo0LVrV5SXl2PBggXIzc3F6dOnodVqkZubi3bt2sHf3x8rV65ESEgIHB0d0bp1axsfLRHRfw8LCyIiUoXCwkIEBgaiqKgIu3fvRnp6Oo4ePYqEhARjm7y8PPj6+iIzMxMdO3as1ce1a9fg4eGBs2fPIigoyFhYfPzxx5gxY4Y1D4eI6KHDj0IREZEqeHp6YurUqQgICMCoUaNw5swZJCYmwtnZ2fjTuXNnADB+3OnChQswGAxo37499Ho9/P39AQCXL1826btnz55WPRYiooeRna0HQEREVMPOzg52dtUvTeXl5RgxYgRWrFhRq13NR5lGjBgBPz8/bNy4EW3atEFVVRWCgoJw+/Ztk/bNmzdv+sETET3kWFgQEZEqde/eHbt374a/v7+x2Ljb9evXkZmZiY0bN2LgwIEAgKSkJGsPk4iI/o8fhSIiIlWKjIxEUVERDAYDjh8/juzsbCQkJGDixIm4c+cOXF1d4ebmhk8//RQXL17E4cOHMXv2bFsPm4joocXCgoiIVKlNmzb46aefcOfOHQwZMgRdunTBzJkz4eLiAq1WC61Wi/j4eJw8eRJBQUGYNWsWoqOjbT1sIqKHFp8KRUREREREivEdCyIiIiIiUoyFBRERERERKcbCgoiIiIiIFGNhQUREREREirGwICIiIiIixVhYEBERERGRYiwsiIiIiIhIMRYWRERERESkGAsLIiIiIiJSjIUFEREREREpxsKCiIiIiIgU+x+XoQYWaS+a3gAAAABJRU5ErkJggg==",
      "text/plain": [
       "<Figure size 900x600 with 1 Axes>"
      ]
     },
     "metadata": {},
     "output_type": "display_data"
    }
   ],
   "source": [
<<<<<<< HEAD
    "'''plt.figure(figsize=(9, 6))\n",
    "sns.lineplot(data=income_tidy, x=\"Year\", y=\"Income\", hue=\"Country\", marker=\"o\")\n",
    "plt.title(\"Income Trends for France (2019-2023)\")\n",
    "plt.xlabel(\"Year\")\n",
    "plt.ylabel(\"Income (€)\")\n",
    "plt.show()"
=======
    "portugal_income = income_tidy[income_tidy[\"Country\"] == \"PT\"]\n",
    "fig = px.line(\n",
    "    portugal_income,\n",
    "    x='Year',          # x-axis: Year\n",
    "    y='Income',        # y-axis: Income\n",
    "    markers=True,      # Add markers at each data point\n",
    "    title=\"Average income in Portugal (2019-2023)\"  # Chart title\n",
    ")\n",
    "\n",
    "# Show the plot\n",
    "fig.show()"
>>>>>>> 67009c5e46e024bce3b898e73da7e46ba3450d32
   ]
  },
  {
   "cell_type": "code",
   "execution_count": 64,
   "id": "0e991b87-3128-4c64-901a-acc8195b5e1b",
   "metadata": {},
   "outputs": [
    {
     "data": {
      "text/html": [
       "<div>\n",
       "<style scoped>\n",
       "    .dataframe tbody tr th:only-of-type {\n",
       "        vertical-align: middle;\n",
       "    }\n",
       "\n",
       "    .dataframe tbody tr th {\n",
       "        vertical-align: top;\n",
       "    }\n",
       "\n",
       "    .dataframe thead th {\n",
       "        text-align: right;\n",
       "    }\n",
       "</style>\n",
       "<table border=\"1\" class=\"dataframe\">\n",
       "  <thead>\n",
       "    <tr style=\"text-align: right;\">\n",
       "      <th></th>\n",
       "      <th>Type</th>\n",
       "      <th>City</th>\n",
       "      <th>2019</th>\n",
       "      <th>2020</th>\n",
       "      <th>2021</th>\n",
       "      <th>2022</th>\n",
       "      <th>2023</th>\n",
       "      <th>2024</th>\n",
       "    </tr>\n",
       "  </thead>\n",
       "  <tbody>\n",
       "    <tr>\n",
       "      <th>2</th>\n",
       "      <td>1 bed apartment (rent)</td>\n",
       "      <td>Paris</td>\n",
       "      <td>1201.81</td>\n",
       "      <td>1222.21</td>\n",
       "      <td>1256.88</td>\n",
       "      <td>1273.16</td>\n",
       "      <td>1333.65</td>\n",
       "      <td>1258.63</td>\n",
       "    </tr>\n",
       "    <tr>\n",
       "      <th>5</th>\n",
       "      <td>3 bed apartment (rent)</td>\n",
       "      <td>Paris</td>\n",
       "      <td>2660.91</td>\n",
       "      <td>2752.22</td>\n",
       "      <td>2660.99</td>\n",
       "      <td>2922.45</td>\n",
       "      <td>3013.00</td>\n",
       "      <td>3100.00</td>\n",
       "    </tr>\n",
       "    <tr>\n",
       "      <th>8</th>\n",
       "      <td>Buy apartment (per m2 in city center)</td>\n",
       "      <td>Paris</td>\n",
       "      <td>11508.28</td>\n",
       "      <td>12195.74</td>\n",
       "      <td>12520.70</td>\n",
       "      <td>12460.36</td>\n",
       "      <td>11844.44</td>\n",
       "      <td>12330.04</td>\n",
       "    </tr>\n",
       "    <tr>\n",
       "      <th>11</th>\n",
       "      <td>Av salary (after tax)</td>\n",
       "      <td>Paris</td>\n",
       "      <td>2308.96</td>\n",
       "      <td>2510.77</td>\n",
       "      <td>2791.18</td>\n",
       "      <td>2601.82</td>\n",
       "      <td>2846.41</td>\n",
       "      <td>3076.78</td>\n",
       "    </tr>\n",
       "  </tbody>\n",
       "</table>\n",
       "</div>"
      ],
      "text/plain": [
       "                                     Type   City      2019      2020  \\\n",
       "2                  1 bed apartment (rent)  Paris   1201.81   1222.21   \n",
       "5                  3 bed apartment (rent)  Paris   2660.91   2752.22   \n",
       "8   Buy apartment (per m2 in city center)  Paris  11508.28  12195.74   \n",
       "11                  Av salary (after tax)  Paris   2308.96   2510.77   \n",
       "\n",
       "        2021      2022      2023      2024  \n",
       "2    1256.88   1273.16   1333.65   1258.63  \n",
       "5    2660.99   2922.45   3013.00   3100.00  \n",
       "8   12520.70  12460.36  11844.44  12330.04  \n",
       "11   2791.18   2601.82   2846.41   3076.78  "
      ]
     },
     "execution_count": 64,
     "metadata": {},
     "output_type": "execute_result"
    }
   ],
   "source": [
<<<<<<< HEAD
    "df_paris = cities[cities[\"City\"] == \"Paris\"]\n",
    "df_paris"
   ]
  },
  {
   "cell_type": "code",
   "execution_count": 31,
   "id": "52b36378-3de6-4100-992a-3f9e55c0919e",
   "metadata": {},
   "outputs": [
    {
     "data": {
      "application/vnd.plotly.v1+json": {
       "config": {
        "plotlyServerURL": "https://plot.ly"
       },
       "data": [
        {
         "hovertemplate": "Type of Data=1 bed apartment (rent)<br>Year=%{x}<br>Amount (€)=%{y}<extra></extra>",
         "legendgroup": "1 bed apartment (rent)",
         "line": {
          "color": "#636efa",
          "dash": "solid"
         },
         "marker": {
          "symbol": "circle"
         },
         "mode": "lines+markers",
         "name": "1 bed apartment (rent)",
         "orientation": "v",
         "showlegend": true,
         "type": "scatter",
         "x": [
          "2019",
          "2020",
          "2021",
          "2022",
          "2023",
          "2024"
         ],
         "xaxis": "x",
         "y": [
          894,
          843.29,
          868.3,
          1024.46,
          1259.74,
          1413.16
         ],
         "yaxis": "y"
        },
        {
         "hovertemplate": "Type of Data=3 bed apartment (rent)<br>Year=%{x}<br>Amount (€)=%{y}<extra></extra>",
         "legendgroup": "3 bed apartment (rent)",
         "line": {
          "color": "#EF553B",
          "dash": "solid"
         },
         "marker": {
          "symbol": "circle"
         },
         "mode": "lines+markers",
         "name": "3 bed apartment (rent)",
         "orientation": "v",
         "showlegend": true,
         "type": "scatter",
         "x": [
          "2019",
          "2020",
          "2021",
          "2022",
          "2023",
          "2024"
         ],
         "xaxis": "x",
         "y": [
          1714.73,
          1590.85,
          1628.03,
          2039.4,
          2372.69,
          2642.11
         ],
         "yaxis": "y"
        },
        {
         "hovertemplate": "Type of Data=Av salary (after tax)<br>Year=%{x}<br>Amount (€)=%{y}<extra></extra>",
         "legendgroup": "Av salary (after tax)",
         "line": {
          "color": "#00cc96",
          "dash": "solid"
         },
         "marker": {
          "symbol": "circle"
         },
         "mode": "lines+markers",
         "name": "Av salary (after tax)",
         "orientation": "v",
         "showlegend": true,
         "type": "scatter",
         "x": [
          "2019",
          "2020",
          "2021",
          "2022",
          "2023",
          "2024"
         ],
         "xaxis": "x",
         "y": [
          931.03,
          1028.22,
          1034.12,
          1062.71,
          1169.53,
          1235.38
         ],
         "yaxis": "y"
        }
       ],
       "layout": {
        "autosize": true,
        "legend": {
         "title": {
          "text": "Type of Data"
         },
         "tracegroupgap": 0
        },
        "template": {
         "data": {
          "bar": [
           {
            "error_x": {
             "color": "#2a3f5f"
            },
            "error_y": {
             "color": "#2a3f5f"
            },
            "marker": {
             "line": {
              "color": "#E5ECF6",
              "width": 0.5
             },
             "pattern": {
              "fillmode": "overlay",
              "size": 10,
              "solidity": 0.2
             }
            },
            "type": "bar"
           }
          ],
          "barpolar": [
           {
            "marker": {
             "line": {
              "color": "#E5ECF6",
              "width": 0.5
             },
             "pattern": {
              "fillmode": "overlay",
              "size": 10,
              "solidity": 0.2
             }
            },
            "type": "barpolar"
           }
          ],
          "carpet": [
           {
            "aaxis": {
             "endlinecolor": "#2a3f5f",
             "gridcolor": "white",
             "linecolor": "white",
             "minorgridcolor": "white",
             "startlinecolor": "#2a3f5f"
            },
            "baxis": {
             "endlinecolor": "#2a3f5f",
             "gridcolor": "white",
             "linecolor": "white",
             "minorgridcolor": "white",
             "startlinecolor": "#2a3f5f"
            },
            "type": "carpet"
           }
          ],
          "choropleth": [
           {
            "colorbar": {
             "outlinewidth": 0,
             "ticks": ""
            },
            "type": "choropleth"
           }
          ],
          "contour": [
           {
            "colorbar": {
             "outlinewidth": 0,
             "ticks": ""
            },
            "colorscale": [
             [
              0,
              "#0d0887"
             ],
             [
              0.1111111111111111,
              "#46039f"
             ],
             [
              0.2222222222222222,
              "#7201a8"
             ],
             [
              0.3333333333333333,
              "#9c179e"
             ],
             [
              0.4444444444444444,
              "#bd3786"
             ],
             [
              0.5555555555555556,
              "#d8576b"
             ],
             [
              0.6666666666666666,
              "#ed7953"
             ],
             [
              0.7777777777777778,
              "#fb9f3a"
             ],
             [
              0.8888888888888888,
              "#fdca26"
             ],
             [
              1,
              "#f0f921"
             ]
            ],
            "type": "contour"
           }
          ],
          "contourcarpet": [
           {
            "colorbar": {
             "outlinewidth": 0,
             "ticks": ""
            },
            "type": "contourcarpet"
           }
          ],
          "heatmap": [
           {
            "colorbar": {
             "outlinewidth": 0,
             "ticks": ""
            },
            "colorscale": [
             [
              0,
              "#0d0887"
             ],
             [
              0.1111111111111111,
              "#46039f"
             ],
             [
              0.2222222222222222,
              "#7201a8"
             ],
             [
              0.3333333333333333,
              "#9c179e"
             ],
             [
              0.4444444444444444,
              "#bd3786"
             ],
             [
              0.5555555555555556,
              "#d8576b"
             ],
             [
              0.6666666666666666,
              "#ed7953"
             ],
             [
              0.7777777777777778,
              "#fb9f3a"
             ],
             [
              0.8888888888888888,
              "#fdca26"
             ],
             [
              1,
              "#f0f921"
             ]
            ],
            "type": "heatmap"
           }
          ],
          "heatmapgl": [
           {
            "colorbar": {
             "outlinewidth": 0,
             "ticks": ""
            },
            "colorscale": [
             [
              0,
              "#0d0887"
             ],
             [
              0.1111111111111111,
              "#46039f"
             ],
             [
              0.2222222222222222,
              "#7201a8"
             ],
             [
              0.3333333333333333,
              "#9c179e"
             ],
             [
              0.4444444444444444,
              "#bd3786"
             ],
             [
              0.5555555555555556,
              "#d8576b"
             ],
             [
              0.6666666666666666,
              "#ed7953"
             ],
             [
              0.7777777777777778,
              "#fb9f3a"
             ],
             [
              0.8888888888888888,
              "#fdca26"
             ],
             [
              1,
              "#f0f921"
             ]
            ],
            "type": "heatmapgl"
           }
          ],
          "histogram": [
           {
            "marker": {
             "pattern": {
              "fillmode": "overlay",
              "size": 10,
              "solidity": 0.2
             }
            },
            "type": "histogram"
           }
          ],
          "histogram2d": [
           {
            "colorbar": {
             "outlinewidth": 0,
             "ticks": ""
            },
            "colorscale": [
             [
              0,
              "#0d0887"
             ],
             [
              0.1111111111111111,
              "#46039f"
             ],
             [
              0.2222222222222222,
              "#7201a8"
             ],
             [
              0.3333333333333333,
              "#9c179e"
             ],
             [
              0.4444444444444444,
              "#bd3786"
             ],
             [
              0.5555555555555556,
              "#d8576b"
             ],
             [
              0.6666666666666666,
              "#ed7953"
             ],
             [
              0.7777777777777778,
              "#fb9f3a"
             ],
             [
              0.8888888888888888,
              "#fdca26"
             ],
             [
              1,
              "#f0f921"
             ]
            ],
            "type": "histogram2d"
           }
          ],
          "histogram2dcontour": [
           {
            "colorbar": {
             "outlinewidth": 0,
             "ticks": ""
            },
            "colorscale": [
             [
              0,
              "#0d0887"
             ],
             [
              0.1111111111111111,
              "#46039f"
             ],
             [
              0.2222222222222222,
              "#7201a8"
             ],
             [
              0.3333333333333333,
              "#9c179e"
             ],
             [
              0.4444444444444444,
              "#bd3786"
             ],
             [
              0.5555555555555556,
              "#d8576b"
             ],
             [
              0.6666666666666666,
              "#ed7953"
             ],
             [
              0.7777777777777778,
              "#fb9f3a"
             ],
             [
              0.8888888888888888,
              "#fdca26"
             ],
             [
              1,
              "#f0f921"
             ]
            ],
            "type": "histogram2dcontour"
           }
          ],
          "mesh3d": [
           {
            "colorbar": {
             "outlinewidth": 0,
             "ticks": ""
            },
            "type": "mesh3d"
           }
          ],
          "parcoords": [
           {
            "line": {
             "colorbar": {
              "outlinewidth": 0,
              "ticks": ""
             }
            },
            "type": "parcoords"
           }
          ],
          "pie": [
           {
            "automargin": true,
            "type": "pie"
           }
          ],
          "scatter": [
           {
            "fillpattern": {
             "fillmode": "overlay",
             "size": 10,
             "solidity": 0.2
            },
            "type": "scatter"
           }
          ],
          "scatter3d": [
           {
            "line": {
             "colorbar": {
              "outlinewidth": 0,
              "ticks": ""
             }
            },
            "marker": {
             "colorbar": {
              "outlinewidth": 0,
              "ticks": ""
             }
            },
            "type": "scatter3d"
           }
          ],
          "scattercarpet": [
           {
            "marker": {
             "colorbar": {
              "outlinewidth": 0,
              "ticks": ""
             }
            },
            "type": "scattercarpet"
           }
          ],
          "scattergeo": [
           {
            "marker": {
             "colorbar": {
              "outlinewidth": 0,
              "ticks": ""
             }
            },
            "type": "scattergeo"
           }
          ],
          "scattergl": [
           {
            "marker": {
             "colorbar": {
              "outlinewidth": 0,
              "ticks": ""
             }
            },
            "type": "scattergl"
           }
          ],
          "scattermapbox": [
           {
            "marker": {
             "colorbar": {
              "outlinewidth": 0,
              "ticks": ""
             }
            },
            "type": "scattermapbox"
           }
          ],
          "scatterpolar": [
           {
            "marker": {
             "colorbar": {
              "outlinewidth": 0,
              "ticks": ""
             }
            },
            "type": "scatterpolar"
           }
          ],
          "scatterpolargl": [
           {
            "marker": {
             "colorbar": {
              "outlinewidth": 0,
              "ticks": ""
             }
            },
            "type": "scatterpolargl"
           }
          ],
          "scatterternary": [
           {
            "marker": {
             "colorbar": {
              "outlinewidth": 0,
              "ticks": ""
             }
            },
            "type": "scatterternary"
           }
          ],
          "surface": [
           {
            "colorbar": {
             "outlinewidth": 0,
             "ticks": ""
            },
            "colorscale": [
             [
              0,
              "#0d0887"
             ],
             [
              0.1111111111111111,
              "#46039f"
             ],
             [
              0.2222222222222222,
              "#7201a8"
             ],
             [
              0.3333333333333333,
              "#9c179e"
             ],
             [
              0.4444444444444444,
              "#bd3786"
             ],
             [
              0.5555555555555556,
              "#d8576b"
             ],
             [
              0.6666666666666666,
              "#ed7953"
             ],
             [
              0.7777777777777778,
              "#fb9f3a"
             ],
             [
              0.8888888888888888,
              "#fdca26"
             ],
             [
              1,
              "#f0f921"
             ]
            ],
            "type": "surface"
           }
          ],
          "table": [
           {
            "cells": {
             "fill": {
              "color": "#EBF0F8"
             },
             "line": {
              "color": "white"
             }
            },
            "header": {
             "fill": {
              "color": "#C8D4E3"
             },
             "line": {
              "color": "white"
             }
            },
            "type": "table"
           }
          ]
         },
         "layout": {
          "annotationdefaults": {
           "arrowcolor": "#2a3f5f",
           "arrowhead": 0,
           "arrowwidth": 1
          },
          "autotypenumbers": "strict",
          "coloraxis": {
           "colorbar": {
            "outlinewidth": 0,
            "ticks": ""
           }
          },
          "colorscale": {
           "diverging": [
            [
             0,
             "#8e0152"
            ],
            [
             0.1,
             "#c51b7d"
            ],
            [
             0.2,
             "#de77ae"
            ],
            [
             0.3,
             "#f1b6da"
            ],
            [
             0.4,
             "#fde0ef"
            ],
            [
             0.5,
             "#f7f7f7"
            ],
            [
             0.6,
             "#e6f5d0"
            ],
            [
             0.7,
             "#b8e186"
            ],
            [
             0.8,
             "#7fbc41"
            ],
            [
             0.9,
             "#4d9221"
            ],
            [
             1,
             "#276419"
            ]
           ],
           "sequential": [
            [
             0,
             "#0d0887"
            ],
            [
             0.1111111111111111,
             "#46039f"
            ],
            [
             0.2222222222222222,
             "#7201a8"
            ],
            [
             0.3333333333333333,
             "#9c179e"
            ],
            [
             0.4444444444444444,
             "#bd3786"
            ],
            [
             0.5555555555555556,
             "#d8576b"
            ],
            [
             0.6666666666666666,
             "#ed7953"
            ],
            [
             0.7777777777777778,
             "#fb9f3a"
            ],
            [
             0.8888888888888888,
             "#fdca26"
            ],
            [
             1,
             "#f0f921"
            ]
           ],
           "sequentialminus": [
            [
             0,
             "#0d0887"
            ],
            [
             0.1111111111111111,
             "#46039f"
            ],
            [
             0.2222222222222222,
             "#7201a8"
            ],
            [
             0.3333333333333333,
             "#9c179e"
            ],
            [
             0.4444444444444444,
             "#bd3786"
            ],
            [
             0.5555555555555556,
             "#d8576b"
            ],
            [
             0.6666666666666666,
             "#ed7953"
            ],
            [
             0.7777777777777778,
             "#fb9f3a"
            ],
            [
             0.8888888888888888,
             "#fdca26"
            ],
            [
             1,
             "#f0f921"
            ]
           ]
          },
          "colorway": [
           "#636efa",
           "#EF553B",
           "#00cc96",
           "#ab63fa",
           "#FFA15A",
           "#19d3f3",
           "#FF6692",
           "#B6E880",
           "#FF97FF",
           "#FECB52"
          ],
          "font": {
           "color": "#2a3f5f"
          },
          "geo": {
           "bgcolor": "white",
           "lakecolor": "white",
           "landcolor": "#E5ECF6",
           "showlakes": true,
           "showland": true,
           "subunitcolor": "white"
          },
          "hoverlabel": {
           "align": "left"
          },
          "hovermode": "closest",
          "mapbox": {
           "style": "light"
          },
          "paper_bgcolor": "white",
          "plot_bgcolor": "#E5ECF6",
          "polar": {
           "angularaxis": {
            "gridcolor": "white",
            "linecolor": "white",
            "ticks": ""
           },
           "bgcolor": "#E5ECF6",
           "radialaxis": {
            "gridcolor": "white",
            "linecolor": "white",
            "ticks": ""
           }
          },
          "scene": {
           "xaxis": {
            "backgroundcolor": "#E5ECF6",
            "gridcolor": "white",
            "gridwidth": 2,
            "linecolor": "white",
            "showbackground": true,
            "ticks": "",
            "zerolinecolor": "white"
           },
           "yaxis": {
            "backgroundcolor": "#E5ECF6",
            "gridcolor": "white",
            "gridwidth": 2,
            "linecolor": "white",
            "showbackground": true,
            "ticks": "",
            "zerolinecolor": "white"
           },
           "zaxis": {
            "backgroundcolor": "#E5ECF6",
            "gridcolor": "white",
            "gridwidth": 2,
            "linecolor": "white",
            "showbackground": true,
            "ticks": "",
            "zerolinecolor": "white"
           }
          },
          "shapedefaults": {
           "line": {
            "color": "#2a3f5f"
           }
          },
          "ternary": {
           "aaxis": {
            "gridcolor": "white",
            "linecolor": "white",
            "ticks": ""
           },
           "baxis": {
            "gridcolor": "white",
            "linecolor": "white",
            "ticks": ""
           },
           "bgcolor": "#E5ECF6",
           "caxis": {
            "gridcolor": "white",
            "linecolor": "white",
            "ticks": ""
           }
          },
          "title": {
           "x": 0.05
          },
          "xaxis": {
           "automargin": true,
           "gridcolor": "white",
           "linecolor": "white",
           "ticks": "",
           "title": {
            "standoff": 15
           },
           "zerolinecolor": "white",
           "zerolinewidth": 2
          },
          "yaxis": {
           "automargin": true,
           "gridcolor": "white",
           "linecolor": "white",
           "ticks": "",
           "title": {
            "standoff": 15
           },
           "zerolinecolor": "white",
           "zerolinewidth": 2
          }
         }
        },
        "title": {
         "text": "Comparison between Rent and Salary in Lisbon (2019-2024)"
        },
        "xaxis": {
         "anchor": "y",
         "autorange": true,
         "domain": [
          0,
          1
         ],
         "range": [
          -0.3232852774137178,
          5.323285277413718
         ],
         "title": {
          "text": "Year"
         },
         "type": "category"
        },
        "yaxis": {
         "anchor": "x",
         "autorange": true,
         "domain": [
          0,
          1
         ],
         "range": [
          694.8436893203883,
          2790.5563106796117
         ],
         "title": {
          "text": "Amount (€)"
         },
         "type": "linear"
        }
       }
      },
      "image/png": "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",
      "text/html": [
       "<div>                            <div id=\"c7e025ce-d1a4-431f-b8d6-9b9a5fb1cc64\" class=\"plotly-graph-div\" style=\"height:525px; width:100%;\"></div>            <script type=\"text/javascript\">                require([\"plotly\"], function(Plotly) {                    window.PLOTLYENV=window.PLOTLYENV || {};                                    if (document.getElementById(\"c7e025ce-d1a4-431f-b8d6-9b9a5fb1cc64\")) {                    Plotly.newPlot(                        \"c7e025ce-d1a4-431f-b8d6-9b9a5fb1cc64\",                        [{\"hovertemplate\":\"Type of Data=1 bed apartment (rent)\\u003cbr\\u003eYear=%{x}\\u003cbr\\u003eAmount (\\u20ac)=%{y}\\u003cextra\\u003e\\u003c\\u002fextra\\u003e\",\"legendgroup\":\"1 bed apartment (rent)\",\"line\":{\"color\":\"#636efa\",\"dash\":\"solid\"},\"marker\":{\"symbol\":\"circle\"},\"mode\":\"lines+markers\",\"name\":\"1 bed apartment (rent)\",\"orientation\":\"v\",\"showlegend\":true,\"x\":[\"2019\",\"2020\",\"2021\",\"2022\",\"2023\",\"2024\"],\"xaxis\":\"x\",\"y\":[894.0,843.29,868.3,1024.46,1259.74,1413.16],\"yaxis\":\"y\",\"type\":\"scatter\"},{\"hovertemplate\":\"Type of Data=3 bed apartment (rent)\\u003cbr\\u003eYear=%{x}\\u003cbr\\u003eAmount (\\u20ac)=%{y}\\u003cextra\\u003e\\u003c\\u002fextra\\u003e\",\"legendgroup\":\"3 bed apartment (rent)\",\"line\":{\"color\":\"#EF553B\",\"dash\":\"solid\"},\"marker\":{\"symbol\":\"circle\"},\"mode\":\"lines+markers\",\"name\":\"3 bed apartment (rent)\",\"orientation\":\"v\",\"showlegend\":true,\"x\":[\"2019\",\"2020\",\"2021\",\"2022\",\"2023\",\"2024\"],\"xaxis\":\"x\",\"y\":[1714.73,1590.85,1628.03,2039.4,2372.69,2642.11],\"yaxis\":\"y\",\"type\":\"scatter\"},{\"hovertemplate\":\"Type of Data=Av salary (after tax)\\u003cbr\\u003eYear=%{x}\\u003cbr\\u003eAmount (\\u20ac)=%{y}\\u003cextra\\u003e\\u003c\\u002fextra\\u003e\",\"legendgroup\":\"Av salary (after tax)\",\"line\":{\"color\":\"#00cc96\",\"dash\":\"solid\"},\"marker\":{\"symbol\":\"circle\"},\"mode\":\"lines+markers\",\"name\":\"Av salary (after tax)\",\"orientation\":\"v\",\"showlegend\":true,\"x\":[\"2019\",\"2020\",\"2021\",\"2022\",\"2023\",\"2024\"],\"xaxis\":\"x\",\"y\":[931.03,1028.22,1034.12,1062.71,1169.53,1235.38],\"yaxis\":\"y\",\"type\":\"scatter\"}],                        {\"template\":{\"data\":{\"histogram2dcontour\":[{\"type\":\"histogram2dcontour\",\"colorbar\":{\"outlinewidth\":0,\"ticks\":\"\"},\"colorscale\":[[0.0,\"#0d0887\"],[0.1111111111111111,\"#46039f\"],[0.2222222222222222,\"#7201a8\"],[0.3333333333333333,\"#9c179e\"],[0.4444444444444444,\"#bd3786\"],[0.5555555555555556,\"#d8576b\"],[0.6666666666666666,\"#ed7953\"],[0.7777777777777778,\"#fb9f3a\"],[0.8888888888888888,\"#fdca26\"],[1.0,\"#f0f921\"]]}],\"choropleth\":[{\"type\":\"choropleth\",\"colorbar\":{\"outlinewidth\":0,\"ticks\":\"\"}}],\"histogram2d\":[{\"type\":\"histogram2d\",\"colorbar\":{\"outlinewidth\":0,\"ticks\":\"\"},\"colorscale\":[[0.0,\"#0d0887\"],[0.1111111111111111,\"#46039f\"],[0.2222222222222222,\"#7201a8\"],[0.3333333333333333,\"#9c179e\"],[0.4444444444444444,\"#bd3786\"],[0.5555555555555556,\"#d8576b\"],[0.6666666666666666,\"#ed7953\"],[0.7777777777777778,\"#fb9f3a\"],[0.8888888888888888,\"#fdca26\"],[1.0,\"#f0f921\"]]}],\"heatmap\":[{\"type\":\"heatmap\",\"colorbar\":{\"outlinewidth\":0,\"ticks\":\"\"},\"colorscale\":[[0.0,\"#0d0887\"],[0.1111111111111111,\"#46039f\"],[0.2222222222222222,\"#7201a8\"],[0.3333333333333333,\"#9c179e\"],[0.4444444444444444,\"#bd3786\"],[0.5555555555555556,\"#d8576b\"],[0.6666666666666666,\"#ed7953\"],[0.7777777777777778,\"#fb9f3a\"],[0.8888888888888888,\"#fdca26\"],[1.0,\"#f0f921\"]]}],\"heatmapgl\":[{\"type\":\"heatmapgl\",\"colorbar\":{\"outlinewidth\":0,\"ticks\":\"\"},\"colorscale\":[[0.0,\"#0d0887\"],[0.1111111111111111,\"#46039f\"],[0.2222222222222222,\"#7201a8\"],[0.3333333333333333,\"#9c179e\"],[0.4444444444444444,\"#bd3786\"],[0.5555555555555556,\"#d8576b\"],[0.6666666666666666,\"#ed7953\"],[0.7777777777777778,\"#fb9f3a\"],[0.8888888888888888,\"#fdca26\"],[1.0,\"#f0f921\"]]}],\"contourcarpet\":[{\"type\":\"contourcarpet\",\"colorbar\":{\"outlinewidth\":0,\"ticks\":\"\"}}],\"contour\":[{\"type\":\"contour\",\"colorbar\":{\"outlinewidth\":0,\"ticks\":\"\"},\"colorscale\":[[0.0,\"#0d0887\"],[0.1111111111111111,\"#46039f\"],[0.2222222222222222,\"#7201a8\"],[0.3333333333333333,\"#9c179e\"],[0.4444444444444444,\"#bd3786\"],[0.5555555555555556,\"#d8576b\"],[0.6666666666666666,\"#ed7953\"],[0.7777777777777778,\"#fb9f3a\"],[0.8888888888888888,\"#fdca26\"],[1.0,\"#f0f921\"]]}],\"surface\":[{\"type\":\"surface\",\"colorbar\":{\"outlinewidth\":0,\"ticks\":\"\"},\"colorscale\":[[0.0,\"#0d0887\"],[0.1111111111111111,\"#46039f\"],[0.2222222222222222,\"#7201a8\"],[0.3333333333333333,\"#9c179e\"],[0.4444444444444444,\"#bd3786\"],[0.5555555555555556,\"#d8576b\"],[0.6666666666666666,\"#ed7953\"],[0.7777777777777778,\"#fb9f3a\"],[0.8888888888888888,\"#fdca26\"],[1.0,\"#f0f921\"]]}],\"mesh3d\":[{\"type\":\"mesh3d\",\"colorbar\":{\"outlinewidth\":0,\"ticks\":\"\"}}],\"scatter\":[{\"fillpattern\":{\"fillmode\":\"overlay\",\"size\":10,\"solidity\":0.2},\"type\":\"scatter\"}],\"parcoords\":[{\"type\":\"parcoords\",\"line\":{\"colorbar\":{\"outlinewidth\":0,\"ticks\":\"\"}}}],\"scatterpolargl\":[{\"type\":\"scatterpolargl\",\"marker\":{\"colorbar\":{\"outlinewidth\":0,\"ticks\":\"\"}}}],\"bar\":[{\"error_x\":{\"color\":\"#2a3f5f\"},\"error_y\":{\"color\":\"#2a3f5f\"},\"marker\":{\"line\":{\"color\":\"#E5ECF6\",\"width\":0.5},\"pattern\":{\"fillmode\":\"overlay\",\"size\":10,\"solidity\":0.2}},\"type\":\"bar\"}],\"scattergeo\":[{\"type\":\"scattergeo\",\"marker\":{\"colorbar\":{\"outlinewidth\":0,\"ticks\":\"\"}}}],\"scatterpolar\":[{\"type\":\"scatterpolar\",\"marker\":{\"colorbar\":{\"outlinewidth\":0,\"ticks\":\"\"}}}],\"histogram\":[{\"marker\":{\"pattern\":{\"fillmode\":\"overlay\",\"size\":10,\"solidity\":0.2}},\"type\":\"histogram\"}],\"scattergl\":[{\"type\":\"scattergl\",\"marker\":{\"colorbar\":{\"outlinewidth\":0,\"ticks\":\"\"}}}],\"scatter3d\":[{\"type\":\"scatter3d\",\"line\":{\"colorbar\":{\"outlinewidth\":0,\"ticks\":\"\"}},\"marker\":{\"colorbar\":{\"outlinewidth\":0,\"ticks\":\"\"}}}],\"scattermapbox\":[{\"type\":\"scattermapbox\",\"marker\":{\"colorbar\":{\"outlinewidth\":0,\"ticks\":\"\"}}}],\"scatterternary\":[{\"type\":\"scatterternary\",\"marker\":{\"colorbar\":{\"outlinewidth\":0,\"ticks\":\"\"}}}],\"scattercarpet\":[{\"type\":\"scattercarpet\",\"marker\":{\"colorbar\":{\"outlinewidth\":0,\"ticks\":\"\"}}}],\"carpet\":[{\"aaxis\":{\"endlinecolor\":\"#2a3f5f\",\"gridcolor\":\"white\",\"linecolor\":\"white\",\"minorgridcolor\":\"white\",\"startlinecolor\":\"#2a3f5f\"},\"baxis\":{\"endlinecolor\":\"#2a3f5f\",\"gridcolor\":\"white\",\"linecolor\":\"white\",\"minorgridcolor\":\"white\",\"startlinecolor\":\"#2a3f5f\"},\"type\":\"carpet\"}],\"table\":[{\"cells\":{\"fill\":{\"color\":\"#EBF0F8\"},\"line\":{\"color\":\"white\"}},\"header\":{\"fill\":{\"color\":\"#C8D4E3\"},\"line\":{\"color\":\"white\"}},\"type\":\"table\"}],\"barpolar\":[{\"marker\":{\"line\":{\"color\":\"#E5ECF6\",\"width\":0.5},\"pattern\":{\"fillmode\":\"overlay\",\"size\":10,\"solidity\":0.2}},\"type\":\"barpolar\"}],\"pie\":[{\"automargin\":true,\"type\":\"pie\"}]},\"layout\":{\"autotypenumbers\":\"strict\",\"colorway\":[\"#636efa\",\"#EF553B\",\"#00cc96\",\"#ab63fa\",\"#FFA15A\",\"#19d3f3\",\"#FF6692\",\"#B6E880\",\"#FF97FF\",\"#FECB52\"],\"font\":{\"color\":\"#2a3f5f\"},\"hovermode\":\"closest\",\"hoverlabel\":{\"align\":\"left\"},\"paper_bgcolor\":\"white\",\"plot_bgcolor\":\"#E5ECF6\",\"polar\":{\"bgcolor\":\"#E5ECF6\",\"angularaxis\":{\"gridcolor\":\"white\",\"linecolor\":\"white\",\"ticks\":\"\"},\"radialaxis\":{\"gridcolor\":\"white\",\"linecolor\":\"white\",\"ticks\":\"\"}},\"ternary\":{\"bgcolor\":\"#E5ECF6\",\"aaxis\":{\"gridcolor\":\"white\",\"linecolor\":\"white\",\"ticks\":\"\"},\"baxis\":{\"gridcolor\":\"white\",\"linecolor\":\"white\",\"ticks\":\"\"},\"caxis\":{\"gridcolor\":\"white\",\"linecolor\":\"white\",\"ticks\":\"\"}},\"coloraxis\":{\"colorbar\":{\"outlinewidth\":0,\"ticks\":\"\"}},\"colorscale\":{\"sequential\":[[0.0,\"#0d0887\"],[0.1111111111111111,\"#46039f\"],[0.2222222222222222,\"#7201a8\"],[0.3333333333333333,\"#9c179e\"],[0.4444444444444444,\"#bd3786\"],[0.5555555555555556,\"#d8576b\"],[0.6666666666666666,\"#ed7953\"],[0.7777777777777778,\"#fb9f3a\"],[0.8888888888888888,\"#fdca26\"],[1.0,\"#f0f921\"]],\"sequentialminus\":[[0.0,\"#0d0887\"],[0.1111111111111111,\"#46039f\"],[0.2222222222222222,\"#7201a8\"],[0.3333333333333333,\"#9c179e\"],[0.4444444444444444,\"#bd3786\"],[0.5555555555555556,\"#d8576b\"],[0.6666666666666666,\"#ed7953\"],[0.7777777777777778,\"#fb9f3a\"],[0.8888888888888888,\"#fdca26\"],[1.0,\"#f0f921\"]],\"diverging\":[[0,\"#8e0152\"],[0.1,\"#c51b7d\"],[0.2,\"#de77ae\"],[0.3,\"#f1b6da\"],[0.4,\"#fde0ef\"],[0.5,\"#f7f7f7\"],[0.6,\"#e6f5d0\"],[0.7,\"#b8e186\"],[0.8,\"#7fbc41\"],[0.9,\"#4d9221\"],[1,\"#276419\"]]},\"xaxis\":{\"gridcolor\":\"white\",\"linecolor\":\"white\",\"ticks\":\"\",\"title\":{\"standoff\":15},\"zerolinecolor\":\"white\",\"automargin\":true,\"zerolinewidth\":2},\"yaxis\":{\"gridcolor\":\"white\",\"linecolor\":\"white\",\"ticks\":\"\",\"title\":{\"standoff\":15},\"zerolinecolor\":\"white\",\"automargin\":true,\"zerolinewidth\":2},\"scene\":{\"xaxis\":{\"backgroundcolor\":\"#E5ECF6\",\"gridcolor\":\"white\",\"linecolor\":\"white\",\"showbackground\":true,\"ticks\":\"\",\"zerolinecolor\":\"white\",\"gridwidth\":2},\"yaxis\":{\"backgroundcolor\":\"#E5ECF6\",\"gridcolor\":\"white\",\"linecolor\":\"white\",\"showbackground\":true,\"ticks\":\"\",\"zerolinecolor\":\"white\",\"gridwidth\":2},\"zaxis\":{\"backgroundcolor\":\"#E5ECF6\",\"gridcolor\":\"white\",\"linecolor\":\"white\",\"showbackground\":true,\"ticks\":\"\",\"zerolinecolor\":\"white\",\"gridwidth\":2}},\"shapedefaults\":{\"line\":{\"color\":\"#2a3f5f\"}},\"annotationdefaults\":{\"arrowcolor\":\"#2a3f5f\",\"arrowhead\":0,\"arrowwidth\":1},\"geo\":{\"bgcolor\":\"white\",\"landcolor\":\"#E5ECF6\",\"subunitcolor\":\"white\",\"showland\":true,\"showlakes\":true,\"lakecolor\":\"white\"},\"title\":{\"x\":0.05},\"mapbox\":{\"style\":\"light\"}}},\"xaxis\":{\"anchor\":\"y\",\"domain\":[0.0,1.0],\"title\":{\"text\":\"Year\"}},\"yaxis\":{\"anchor\":\"x\",\"domain\":[0.0,1.0],\"title\":{\"text\":\"Amount (\\u20ac)\"}},\"legend\":{\"title\":{\"text\":\"Type of Data\"},\"tracegroupgap\":0},\"title\":{\"text\":\"Comparison between Rent and Salary in Lisbon (2019-2024)\"}},                        {\"responsive\": true}                    ).then(function(){\n",
       "                            \n",
       "var gd = document.getElementById('c7e025ce-d1a4-431f-b8d6-9b9a5fb1cc64');\n",
       "var x = new MutationObserver(function (mutations, observer) {{\n",
       "        var display = window.getComputedStyle(gd).display;\n",
       "        if (!display || display === 'none') {{\n",
       "            console.log([gd, 'removed!']);\n",
       "            Plotly.purge(gd);\n",
       "            observer.disconnect();\n",
       "        }}\n",
       "}});\n",
       "\n",
       "// Listen for the removal of the full notebook cells\n",
       "var notebookContainer = gd.closest('#notebook-container');\n",
       "if (notebookContainer) {{\n",
       "    x.observe(notebookContainer, {childList: true});\n",
       "}}\n",
       "\n",
       "// Listen for the clearing of the current output cell\n",
       "var outputEl = gd.closest('.output');\n",
       "if (outputEl) {{\n",
       "    x.observe(outputEl, {childList: true});\n",
       "}}\n",
       "\n",
       "                        })                };                });            </script>        </div>"
      ]
     },
     "metadata": {},
     "output_type": "display_data"
    }
   ],
   "source": [
    "df_rent_salary = df_paris[df_paris['Type'].isin(['1 bed apartment (rent)', '3 bed apartment (rent)', 'Av salary (after tax)'])]\n",
    "df_rent_salary_melted = df_rent_salary.melt(id_vars=[\"Type\", \"City\"], var_name=\"Year\", value_name=\"Value\")\n",
    "fig = px.line(\n",
    "    df_rent_salary_melted,\n",
    "    x=\"Year\",              # x-axis: Year\n",
    "    y=\"Value\",             # y-axis: Value\n",
    "    color=\"Type\",          # Different lines for different Types (rent and salary)\n",
    "    markers=True,          # Add markers at each data point\n",
    "    title=\"Comparison between Rent and Salary in Lisbon (2019-2024)\", # Title of the chart\n",
    "    labels={\"Value\": \"Amount (€)\", \"Year\": \"Year\", \"Type\": \"Type of Data\"} # Axis labels\n",
    ")\n",
    "\n",
    "# Show the plot\n",
    "fig.show()"
   ]
  },
  {
   "cell_type": "code",
   "execution_count": 32,
   "id": "b6817b72-ff74-4483-a58c-585a5a3c894b",
   "metadata": {},
   "outputs": [
    {
     "data": {
      "text/html": [
       "<div>\n",
       "<style scoped>\n",
       "    .dataframe tbody tr th:only-of-type {\n",
       "        vertical-align: middle;\n",
       "    }\n",
       "\n",
       "    .dataframe tbody tr th {\n",
       "        vertical-align: top;\n",
       "    }\n",
       "\n",
       "    .dataframe thead th {\n",
       "        text-align: right;\n",
       "    }\n",
       "</style>\n",
       "<table border=\"1\" class=\"dataframe\">\n",
       "  <thead>\n",
       "    <tr style=\"text-align: right;\">\n",
       "      <th></th>\n",
       "      <th>Type</th>\n",
       "      <th>City</th>\n",
       "      <th>Year</th>\n",
       "      <th>Value</th>\n",
       "    </tr>\n",
       "  </thead>\n",
       "  <tbody>\n",
       "    <tr>\n",
       "      <th>0</th>\n",
       "      <td>1 bed apartment (rent)</td>\n",
       "      <td>Lisbon</td>\n",
       "      <td>2019</td>\n",
       "      <td>894.00</td>\n",
       "    </tr>\n",
       "    <tr>\n",
       "      <th>1</th>\n",
       "      <td>1 bed apartment (rent)</td>\n",
       "      <td>Berlin</td>\n",
       "      <td>2019</td>\n",
       "      <td>905.53</td>\n",
       "    </tr>\n",
       "    <tr>\n",
       "      <th>2</th>\n",
       "      <td>1 bed apartment (rent)</td>\n",
       "      <td>Paris</td>\n",
       "      <td>2019</td>\n",
       "      <td>1201.81</td>\n",
       "    </tr>\n",
       "    <tr>\n",
       "      <th>3</th>\n",
       "      <td>1 bed apartment (rent)</td>\n",
       "      <td>Lisbon</td>\n",
       "      <td>2020</td>\n",
       "      <td>843.29</td>\n",
       "    </tr>\n",
       "    <tr>\n",
       "      <th>4</th>\n",
       "      <td>1 bed apartment (rent)</td>\n",
       "      <td>Berlin</td>\n",
       "      <td>2020</td>\n",
       "      <td>889.28</td>\n",
       "    </tr>\n",
       "    <tr>\n",
       "      <th>5</th>\n",
       "      <td>1 bed apartment (rent)</td>\n",
       "      <td>Paris</td>\n",
       "      <td>2020</td>\n",
       "      <td>1222.21</td>\n",
       "    </tr>\n",
       "    <tr>\n",
       "      <th>6</th>\n",
       "      <td>1 bed apartment (rent)</td>\n",
       "      <td>Lisbon</td>\n",
       "      <td>2021</td>\n",
       "      <td>868.30</td>\n",
       "    </tr>\n",
       "    <tr>\n",
       "      <th>7</th>\n",
       "      <td>1 bed apartment (rent)</td>\n",
       "      <td>Berlin</td>\n",
       "      <td>2021</td>\n",
       "      <td>1036.35</td>\n",
       "    </tr>\n",
       "    <tr>\n",
       "      <th>8</th>\n",
       "      <td>1 bed apartment (rent)</td>\n",
       "      <td>Paris</td>\n",
       "      <td>2021</td>\n",
       "      <td>1256.88</td>\n",
       "    </tr>\n",
       "    <tr>\n",
       "      <th>9</th>\n",
       "      <td>1 bed apartment (rent)</td>\n",
       "      <td>Lisbon</td>\n",
       "      <td>2022</td>\n",
       "      <td>1024.46</td>\n",
       "    </tr>\n",
       "    <tr>\n",
       "      <th>10</th>\n",
       "      <td>1 bed apartment (rent)</td>\n",
       "      <td>Berlin</td>\n",
       "      <td>2022</td>\n",
       "      <td>1237.16</td>\n",
       "    </tr>\n",
       "    <tr>\n",
       "      <th>11</th>\n",
       "      <td>1 bed apartment (rent)</td>\n",
       "      <td>Paris</td>\n",
       "      <td>2022</td>\n",
       "      <td>1273.16</td>\n",
       "    </tr>\n",
       "    <tr>\n",
       "      <th>12</th>\n",
       "      <td>1 bed apartment (rent)</td>\n",
       "      <td>Lisbon</td>\n",
       "      <td>2023</td>\n",
       "      <td>1259.74</td>\n",
       "    </tr>\n",
       "    <tr>\n",
       "      <th>13</th>\n",
       "      <td>1 bed apartment (rent)</td>\n",
       "      <td>Berlin</td>\n",
       "      <td>2023</td>\n",
       "      <td>1276.16</td>\n",
       "    </tr>\n",
       "    <tr>\n",
       "      <th>14</th>\n",
       "      <td>1 bed apartment (rent)</td>\n",
       "      <td>Paris</td>\n",
       "      <td>2023</td>\n",
       "      <td>1333.65</td>\n",
       "    </tr>\n",
       "    <tr>\n",
       "      <th>15</th>\n",
       "      <td>1 bed apartment (rent)</td>\n",
       "      <td>Lisbon</td>\n",
       "      <td>2024</td>\n",
       "      <td>1413.16</td>\n",
       "    </tr>\n",
       "    <tr>\n",
       "      <th>16</th>\n",
       "      <td>1 bed apartment (rent)</td>\n",
       "      <td>Berlin</td>\n",
       "      <td>2024</td>\n",
       "      <td>1186.62</td>\n",
       "    </tr>\n",
       "    <tr>\n",
       "      <th>17</th>\n",
       "      <td>1 bed apartment (rent)</td>\n",
       "      <td>Paris</td>\n",
       "      <td>2024</td>\n",
       "      <td>1258.63</td>\n",
       "    </tr>\n",
       "  </tbody>\n",
       "</table>\n",
       "</div>"
      ],
      "text/plain": [
       "                      Type    City  Year    Value\n",
       "0   1 bed apartment (rent)  Lisbon  2019   894.00\n",
       "1   1 bed apartment (rent)  Berlin  2019   905.53\n",
       "2   1 bed apartment (rent)   Paris  2019  1201.81\n",
       "3   1 bed apartment (rent)  Lisbon  2020   843.29\n",
       "4   1 bed apartment (rent)  Berlin  2020   889.28\n",
       "5   1 bed apartment (rent)   Paris  2020  1222.21\n",
       "6   1 bed apartment (rent)  Lisbon  2021   868.30\n",
       "7   1 bed apartment (rent)  Berlin  2021  1036.35\n",
       "8   1 bed apartment (rent)   Paris  2021  1256.88\n",
       "9   1 bed apartment (rent)  Lisbon  2022  1024.46\n",
       "10  1 bed apartment (rent)  Berlin  2022  1237.16\n",
       "11  1 bed apartment (rent)   Paris  2022  1273.16\n",
       "12  1 bed apartment (rent)  Lisbon  2023  1259.74\n",
       "13  1 bed apartment (rent)  Berlin  2023  1276.16\n",
       "14  1 bed apartment (rent)   Paris  2023  1333.65\n",
       "15  1 bed apartment (rent)  Lisbon  2024  1413.16\n",
       "16  1 bed apartment (rent)  Berlin  2024  1186.62\n",
       "17  1 bed apartment (rent)   Paris  2024  1258.63"
      ]
     },
     "execution_count": 32,
     "metadata": {},
     "output_type": "execute_result"
    }
   ],
   "source": [
    "cities_one_bed_apt = cities[cities['Type'] == \"1 bed apartment (rent)\"]\n",
    "cities_one_bed_apt_melted = cities_one_bed_apt.melt(id_vars=[\"Type\", \"City\"], var_name=\"Year\", value_name=\"Value\")\n",
    "cities_one_bed_apt_melted"
   ]
  },
  {
   "cell_type": "code",
   "execution_count": 33,
   "id": "e7459490-dfcf-4e81-a408-06379aa96966",
   "metadata": {},
   "outputs": [
    {
     "data": {
      "application/vnd.plotly.v1+json": {
       "config": {
        "plotlyServerURL": "https://plot.ly"
       },
       "data": [
        {
         "hovertemplate": "City=Lisbon<br>Type=1 bed apartment (rent)<br>Year=%{x}<br>Value=%{y}<extra></extra>",
         "legendgroup": "Lisbon",
         "line": {
          "color": "#636efa",
          "dash": "solid"
         },
         "marker": {
          "symbol": "circle"
         },
         "mode": "lines+markers",
         "name": "Lisbon",
         "orientation": "v",
         "showlegend": true,
         "type": "scatter",
         "x": [
          "2019",
          "2020",
          "2021",
          "2022",
          "2023",
          "2024"
         ],
         "xaxis": "x",
         "y": [
          894,
          843.29,
          868.3,
          1024.46,
          1259.74,
          1413.16
         ],
         "yaxis": "y"
        },
        {
         "hovertemplate": "City=Berlin<br>Type=1 bed apartment (rent)<br>Year=%{x}<br>Value=%{y}<extra></extra>",
         "legendgroup": "Berlin",
         "line": {
          "color": "#EF553B",
          "dash": "solid"
         },
         "marker": {
          "symbol": "circle"
         },
         "mode": "lines+markers",
         "name": "Berlin",
         "orientation": "v",
         "showlegend": true,
         "type": "scatter",
         "x": [
          "2019",
          "2020",
          "2021",
          "2022",
          "2023",
          "2024"
         ],
         "xaxis": "x",
         "y": [
          905.53,
          889.28,
          1036.35,
          1237.16,
          1276.16,
          1186.62
         ],
         "yaxis": "y"
        },
        {
         "hovertemplate": "City=Paris<br>Type=1 bed apartment (rent)<br>Year=%{x}<br>Value=%{y}<extra></extra>",
         "legendgroup": "Paris",
         "line": {
          "color": "#00cc96",
          "dash": "solid"
         },
         "marker": {
          "symbol": "circle"
         },
         "mode": "lines+markers",
         "name": "Paris",
         "orientation": "v",
         "showlegend": true,
         "type": "scatter",
         "x": [
          "2019",
          "2020",
          "2021",
          "2022",
          "2023",
          "2024"
         ],
         "xaxis": "x",
         "y": [
          1201.81,
          1222.21,
          1256.88,
          1273.16,
          1333.65,
          1258.63
         ],
         "yaxis": "y"
        }
       ],
       "layout": {
        "annotations": [
         {
          "font": {},
          "showarrow": false,
          "text": "Type=1 bed apartment (rent)",
          "x": 0.5,
          "xanchor": "center",
          "xref": "paper",
          "y": 1,
          "yanchor": "bottom",
          "yref": "paper"
         }
        ],
        "autosize": true,
        "legend": {
         "title": {
          "text": "City"
         },
         "tracegroupgap": 0
        },
        "margin": {
         "t": 60
        },
        "template": {
         "data": {
          "bar": [
           {
            "error_x": {
             "color": "#2a3f5f"
            },
            "error_y": {
             "color": "#2a3f5f"
            },
            "marker": {
             "line": {
              "color": "#E5ECF6",
              "width": 0.5
             },
             "pattern": {
              "fillmode": "overlay",
              "size": 10,
              "solidity": 0.2
             }
            },
            "type": "bar"
           }
          ],
          "barpolar": [
           {
            "marker": {
             "line": {
              "color": "#E5ECF6",
              "width": 0.5
             },
             "pattern": {
              "fillmode": "overlay",
              "size": 10,
              "solidity": 0.2
             }
            },
            "type": "barpolar"
           }
          ],
          "carpet": [
           {
            "aaxis": {
             "endlinecolor": "#2a3f5f",
             "gridcolor": "white",
             "linecolor": "white",
             "minorgridcolor": "white",
             "startlinecolor": "#2a3f5f"
            },
            "baxis": {
             "endlinecolor": "#2a3f5f",
             "gridcolor": "white",
             "linecolor": "white",
             "minorgridcolor": "white",
             "startlinecolor": "#2a3f5f"
            },
            "type": "carpet"
           }
          ],
          "choropleth": [
           {
            "colorbar": {
             "outlinewidth": 0,
             "ticks": ""
            },
            "type": "choropleth"
           }
          ],
          "contour": [
           {
            "colorbar": {
             "outlinewidth": 0,
             "ticks": ""
            },
            "colorscale": [
             [
              0,
              "#0d0887"
             ],
             [
              0.1111111111111111,
              "#46039f"
             ],
             [
              0.2222222222222222,
              "#7201a8"
             ],
             [
              0.3333333333333333,
              "#9c179e"
             ],
             [
              0.4444444444444444,
              "#bd3786"
             ],
             [
              0.5555555555555556,
              "#d8576b"
             ],
             [
              0.6666666666666666,
              "#ed7953"
             ],
             [
              0.7777777777777778,
              "#fb9f3a"
             ],
             [
              0.8888888888888888,
              "#fdca26"
             ],
             [
              1,
              "#f0f921"
             ]
            ],
            "type": "contour"
           }
          ],
          "contourcarpet": [
           {
            "colorbar": {
             "outlinewidth": 0,
             "ticks": ""
            },
            "type": "contourcarpet"
           }
          ],
          "heatmap": [
           {
            "colorbar": {
             "outlinewidth": 0,
             "ticks": ""
            },
            "colorscale": [
             [
              0,
              "#0d0887"
             ],
             [
              0.1111111111111111,
              "#46039f"
             ],
             [
              0.2222222222222222,
              "#7201a8"
             ],
             [
              0.3333333333333333,
              "#9c179e"
             ],
             [
              0.4444444444444444,
              "#bd3786"
             ],
             [
              0.5555555555555556,
              "#d8576b"
             ],
             [
              0.6666666666666666,
              "#ed7953"
             ],
             [
              0.7777777777777778,
              "#fb9f3a"
             ],
             [
              0.8888888888888888,
              "#fdca26"
             ],
             [
              1,
              "#f0f921"
             ]
            ],
            "type": "heatmap"
           }
          ],
          "heatmapgl": [
           {
            "colorbar": {
             "outlinewidth": 0,
             "ticks": ""
            },
            "colorscale": [
             [
              0,
              "#0d0887"
             ],
             [
              0.1111111111111111,
              "#46039f"
             ],
             [
              0.2222222222222222,
              "#7201a8"
             ],
             [
              0.3333333333333333,
              "#9c179e"
             ],
             [
              0.4444444444444444,
              "#bd3786"
             ],
             [
              0.5555555555555556,
              "#d8576b"
             ],
             [
              0.6666666666666666,
              "#ed7953"
             ],
             [
              0.7777777777777778,
              "#fb9f3a"
             ],
             [
              0.8888888888888888,
              "#fdca26"
             ],
             [
              1,
              "#f0f921"
             ]
            ],
            "type": "heatmapgl"
           }
          ],
          "histogram": [
           {
            "marker": {
             "pattern": {
              "fillmode": "overlay",
              "size": 10,
              "solidity": 0.2
             }
            },
            "type": "histogram"
           }
          ],
          "histogram2d": [
           {
            "colorbar": {
             "outlinewidth": 0,
             "ticks": ""
            },
            "colorscale": [
             [
              0,
              "#0d0887"
             ],
             [
              0.1111111111111111,
              "#46039f"
             ],
             [
              0.2222222222222222,
              "#7201a8"
             ],
             [
              0.3333333333333333,
              "#9c179e"
             ],
             [
              0.4444444444444444,
              "#bd3786"
             ],
             [
              0.5555555555555556,
              "#d8576b"
             ],
             [
              0.6666666666666666,
              "#ed7953"
             ],
             [
              0.7777777777777778,
              "#fb9f3a"
             ],
             [
              0.8888888888888888,
              "#fdca26"
             ],
             [
              1,
              "#f0f921"
             ]
            ],
            "type": "histogram2d"
           }
          ],
          "histogram2dcontour": [
           {
            "colorbar": {
             "outlinewidth": 0,
             "ticks": ""
            },
            "colorscale": [
             [
              0,
              "#0d0887"
             ],
             [
              0.1111111111111111,
              "#46039f"
             ],
             [
              0.2222222222222222,
              "#7201a8"
             ],
             [
              0.3333333333333333,
              "#9c179e"
             ],
             [
              0.4444444444444444,
              "#bd3786"
             ],
             [
              0.5555555555555556,
              "#d8576b"
             ],
             [
              0.6666666666666666,
              "#ed7953"
             ],
             [
              0.7777777777777778,
              "#fb9f3a"
             ],
             [
              0.8888888888888888,
              "#fdca26"
             ],
             [
              1,
              "#f0f921"
             ]
            ],
            "type": "histogram2dcontour"
           }
          ],
          "mesh3d": [
           {
            "colorbar": {
             "outlinewidth": 0,
             "ticks": ""
            },
            "type": "mesh3d"
           }
          ],
          "parcoords": [
           {
            "line": {
             "colorbar": {
              "outlinewidth": 0,
              "ticks": ""
             }
            },
            "type": "parcoords"
           }
          ],
          "pie": [
           {
            "automargin": true,
            "type": "pie"
           }
          ],
          "scatter": [
           {
            "fillpattern": {
             "fillmode": "overlay",
             "size": 10,
             "solidity": 0.2
            },
            "type": "scatter"
           }
          ],
          "scatter3d": [
           {
            "line": {
             "colorbar": {
              "outlinewidth": 0,
              "ticks": ""
             }
            },
            "marker": {
             "colorbar": {
              "outlinewidth": 0,
              "ticks": ""
             }
            },
            "type": "scatter3d"
           }
          ],
          "scattercarpet": [
           {
            "marker": {
             "colorbar": {
              "outlinewidth": 0,
              "ticks": ""
             }
            },
            "type": "scattercarpet"
           }
          ],
          "scattergeo": [
           {
            "marker": {
             "colorbar": {
              "outlinewidth": 0,
              "ticks": ""
             }
            },
            "type": "scattergeo"
           }
          ],
          "scattergl": [
           {
            "marker": {
             "colorbar": {
              "outlinewidth": 0,
              "ticks": ""
             }
            },
            "type": "scattergl"
           }
          ],
          "scattermapbox": [
           {
            "marker": {
             "colorbar": {
              "outlinewidth": 0,
              "ticks": ""
             }
            },
            "type": "scattermapbox"
           }
          ],
          "scatterpolar": [
           {
            "marker": {
             "colorbar": {
              "outlinewidth": 0,
              "ticks": ""
             }
            },
            "type": "scatterpolar"
           }
          ],
          "scatterpolargl": [
           {
            "marker": {
             "colorbar": {
              "outlinewidth": 0,
              "ticks": ""
             }
            },
            "type": "scatterpolargl"
           }
          ],
          "scatterternary": [
           {
            "marker": {
             "colorbar": {
              "outlinewidth": 0,
              "ticks": ""
             }
            },
            "type": "scatterternary"
           }
          ],
          "surface": [
           {
            "colorbar": {
             "outlinewidth": 0,
             "ticks": ""
            },
            "colorscale": [
             [
              0,
              "#0d0887"
             ],
             [
              0.1111111111111111,
              "#46039f"
             ],
             [
              0.2222222222222222,
              "#7201a8"
             ],
             [
              0.3333333333333333,
              "#9c179e"
             ],
             [
              0.4444444444444444,
              "#bd3786"
             ],
             [
              0.5555555555555556,
              "#d8576b"
             ],
             [
              0.6666666666666666,
              "#ed7953"
             ],
             [
              0.7777777777777778,
              "#fb9f3a"
             ],
             [
              0.8888888888888888,
              "#fdca26"
             ],
             [
              1,
              "#f0f921"
             ]
            ],
            "type": "surface"
           }
          ],
          "table": [
           {
            "cells": {
             "fill": {
              "color": "#EBF0F8"
             },
             "line": {
              "color": "white"
             }
            },
            "header": {
             "fill": {
              "color": "#C8D4E3"
             },
             "line": {
              "color": "white"
             }
            },
            "type": "table"
           }
          ]
         },
         "layout": {
          "annotationdefaults": {
           "arrowcolor": "#2a3f5f",
           "arrowhead": 0,
           "arrowwidth": 1
          },
          "autotypenumbers": "strict",
          "coloraxis": {
           "colorbar": {
            "outlinewidth": 0,
            "ticks": ""
           }
          },
          "colorscale": {
           "diverging": [
            [
             0,
             "#8e0152"
            ],
            [
             0.1,
             "#c51b7d"
            ],
            [
             0.2,
             "#de77ae"
            ],
            [
             0.3,
             "#f1b6da"
            ],
            [
             0.4,
             "#fde0ef"
            ],
            [
             0.5,
             "#f7f7f7"
            ],
            [
             0.6,
             "#e6f5d0"
            ],
            [
             0.7,
             "#b8e186"
            ],
            [
             0.8,
             "#7fbc41"
            ],
            [
             0.9,
             "#4d9221"
            ],
            [
             1,
             "#276419"
            ]
           ],
           "sequential": [
            [
             0,
             "#0d0887"
            ],
            [
             0.1111111111111111,
             "#46039f"
            ],
            [
             0.2222222222222222,
             "#7201a8"
            ],
            [
             0.3333333333333333,
             "#9c179e"
            ],
            [
             0.4444444444444444,
             "#bd3786"
            ],
            [
             0.5555555555555556,
             "#d8576b"
            ],
            [
             0.6666666666666666,
             "#ed7953"
            ],
            [
             0.7777777777777778,
             "#fb9f3a"
            ],
            [
             0.8888888888888888,
             "#fdca26"
            ],
            [
             1,
             "#f0f921"
            ]
           ],
           "sequentialminus": [
            [
             0,
             "#0d0887"
            ],
            [
             0.1111111111111111,
             "#46039f"
            ],
            [
             0.2222222222222222,
             "#7201a8"
            ],
            [
             0.3333333333333333,
             "#9c179e"
            ],
            [
             0.4444444444444444,
             "#bd3786"
            ],
            [
             0.5555555555555556,
             "#d8576b"
            ],
            [
             0.6666666666666666,
             "#ed7953"
            ],
            [
             0.7777777777777778,
             "#fb9f3a"
            ],
            [
             0.8888888888888888,
             "#fdca26"
            ],
            [
             1,
             "#f0f921"
            ]
           ]
          },
          "colorway": [
           "#636efa",
           "#EF553B",
           "#00cc96",
           "#ab63fa",
           "#FFA15A",
           "#19d3f3",
           "#FF6692",
           "#B6E880",
           "#FF97FF",
           "#FECB52"
          ],
          "font": {
           "color": "#2a3f5f"
          },
          "geo": {
           "bgcolor": "white",
           "lakecolor": "white",
           "landcolor": "#E5ECF6",
           "showlakes": true,
           "showland": true,
           "subunitcolor": "white"
          },
          "hoverlabel": {
           "align": "left"
          },
          "hovermode": "closest",
          "mapbox": {
           "style": "light"
          },
          "paper_bgcolor": "white",
          "plot_bgcolor": "#E5ECF6",
          "polar": {
           "angularaxis": {
            "gridcolor": "white",
            "linecolor": "white",
            "ticks": ""
           },
           "bgcolor": "#E5ECF6",
           "radialaxis": {
            "gridcolor": "white",
            "linecolor": "white",
            "ticks": ""
           }
          },
          "scene": {
           "xaxis": {
            "backgroundcolor": "#E5ECF6",
            "gridcolor": "white",
            "gridwidth": 2,
            "linecolor": "white",
            "showbackground": true,
            "ticks": "",
            "zerolinecolor": "white"
           },
           "yaxis": {
            "backgroundcolor": "#E5ECF6",
            "gridcolor": "white",
            "gridwidth": 2,
            "linecolor": "white",
            "showbackground": true,
            "ticks": "",
            "zerolinecolor": "white"
           },
           "zaxis": {
            "backgroundcolor": "#E5ECF6",
            "gridcolor": "white",
            "gridwidth": 2,
            "linecolor": "white",
            "showbackground": true,
            "ticks": "",
            "zerolinecolor": "white"
           }
          },
          "shapedefaults": {
           "line": {
            "color": "#2a3f5f"
           }
          },
          "ternary": {
           "aaxis": {
            "gridcolor": "white",
            "linecolor": "white",
            "ticks": ""
           },
           "baxis": {
            "gridcolor": "white",
            "linecolor": "white",
            "ticks": ""
           },
           "bgcolor": "#E5ECF6",
           "caxis": {
            "gridcolor": "white",
            "linecolor": "white",
            "ticks": ""
           }
          },
          "title": {
           "x": 0.05
          },
          "xaxis": {
           "automargin": true,
           "gridcolor": "white",
           "linecolor": "white",
           "ticks": "",
           "title": {
            "standoff": 15
           },
           "zerolinecolor": "white",
           "zerolinewidth": 2
          },
          "yaxis": {
           "automargin": true,
           "gridcolor": "white",
           "linecolor": "white",
           "ticks": "",
           "title": {
            "standoff": 15
           },
           "zerolinecolor": "white",
           "zerolinewidth": 2
          }
         }
        },
        "xaxis": {
         "anchor": "y",
         "autorange": true,
         "domain": [
          0,
          1
         ],
         "range": [
          -0.3158086893026652,
          5.315808689302665
         ],
         "title": {
          "text": "Year"
         },
         "type": "category"
        },
        "yaxis": {
         "anchor": "x",
         "autorange": true,
         "domain": [
          0,
          1
         ],
         "range": [
          799.1662073490813,
          1457.2837926509187
         ],
         "title": {
          "text": "Value"
         },
         "type": "linear"
        }
       }
      },
      "image/png": "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",
      "text/html": [
       "<div>                            <div id=\"c16edd8a-656d-47da-afb3-a62fd9710108\" class=\"plotly-graph-div\" style=\"height:525px; width:100%;\"></div>            <script type=\"text/javascript\">                require([\"plotly\"], function(Plotly) {                    window.PLOTLYENV=window.PLOTLYENV || {};                                    if (document.getElementById(\"c16edd8a-656d-47da-afb3-a62fd9710108\")) {                    Plotly.newPlot(                        \"c16edd8a-656d-47da-afb3-a62fd9710108\",                        [{\"hovertemplate\":\"City=Lisbon\\u003cbr\\u003eType=1 bed apartment (rent)\\u003cbr\\u003eYear=%{x}\\u003cbr\\u003eValue=%{y}\\u003cextra\\u003e\\u003c\\u002fextra\\u003e\",\"legendgroup\":\"Lisbon\",\"line\":{\"color\":\"#636efa\",\"dash\":\"solid\"},\"marker\":{\"symbol\":\"circle\"},\"mode\":\"lines+markers\",\"name\":\"Lisbon\",\"orientation\":\"v\",\"showlegend\":true,\"x\":[\"2019\",\"2020\",\"2021\",\"2022\",\"2023\",\"2024\"],\"xaxis\":\"x\",\"y\":[894.0,843.29,868.3,1024.46,1259.74,1413.16],\"yaxis\":\"y\",\"type\":\"scatter\"},{\"hovertemplate\":\"City=Berlin\\u003cbr\\u003eType=1 bed apartment (rent)\\u003cbr\\u003eYear=%{x}\\u003cbr\\u003eValue=%{y}\\u003cextra\\u003e\\u003c\\u002fextra\\u003e\",\"legendgroup\":\"Berlin\",\"line\":{\"color\":\"#EF553B\",\"dash\":\"solid\"},\"marker\":{\"symbol\":\"circle\"},\"mode\":\"lines+markers\",\"name\":\"Berlin\",\"orientation\":\"v\",\"showlegend\":true,\"x\":[\"2019\",\"2020\",\"2021\",\"2022\",\"2023\",\"2024\"],\"xaxis\":\"x\",\"y\":[905.53,889.28,1036.35,1237.16,1276.16,1186.62],\"yaxis\":\"y\",\"type\":\"scatter\"},{\"hovertemplate\":\"City=Paris\\u003cbr\\u003eType=1 bed apartment (rent)\\u003cbr\\u003eYear=%{x}\\u003cbr\\u003eValue=%{y}\\u003cextra\\u003e\\u003c\\u002fextra\\u003e\",\"legendgroup\":\"Paris\",\"line\":{\"color\":\"#00cc96\",\"dash\":\"solid\"},\"marker\":{\"symbol\":\"circle\"},\"mode\":\"lines+markers\",\"name\":\"Paris\",\"orientation\":\"v\",\"showlegend\":true,\"x\":[\"2019\",\"2020\",\"2021\",\"2022\",\"2023\",\"2024\"],\"xaxis\":\"x\",\"y\":[1201.81,1222.21,1256.88,1273.16,1333.65,1258.63],\"yaxis\":\"y\",\"type\":\"scatter\"}],                        {\"template\":{\"data\":{\"histogram2dcontour\":[{\"type\":\"histogram2dcontour\",\"colorbar\":{\"outlinewidth\":0,\"ticks\":\"\"},\"colorscale\":[[0.0,\"#0d0887\"],[0.1111111111111111,\"#46039f\"],[0.2222222222222222,\"#7201a8\"],[0.3333333333333333,\"#9c179e\"],[0.4444444444444444,\"#bd3786\"],[0.5555555555555556,\"#d8576b\"],[0.6666666666666666,\"#ed7953\"],[0.7777777777777778,\"#fb9f3a\"],[0.8888888888888888,\"#fdca26\"],[1.0,\"#f0f921\"]]}],\"choropleth\":[{\"type\":\"choropleth\",\"colorbar\":{\"outlinewidth\":0,\"ticks\":\"\"}}],\"histogram2d\":[{\"type\":\"histogram2d\",\"colorbar\":{\"outlinewidth\":0,\"ticks\":\"\"},\"colorscale\":[[0.0,\"#0d0887\"],[0.1111111111111111,\"#46039f\"],[0.2222222222222222,\"#7201a8\"],[0.3333333333333333,\"#9c179e\"],[0.4444444444444444,\"#bd3786\"],[0.5555555555555556,\"#d8576b\"],[0.6666666666666666,\"#ed7953\"],[0.7777777777777778,\"#fb9f3a\"],[0.8888888888888888,\"#fdca26\"],[1.0,\"#f0f921\"]]}],\"heatmap\":[{\"type\":\"heatmap\",\"colorbar\":{\"outlinewidth\":0,\"ticks\":\"\"},\"colorscale\":[[0.0,\"#0d0887\"],[0.1111111111111111,\"#46039f\"],[0.2222222222222222,\"#7201a8\"],[0.3333333333333333,\"#9c179e\"],[0.4444444444444444,\"#bd3786\"],[0.5555555555555556,\"#d8576b\"],[0.6666666666666666,\"#ed7953\"],[0.7777777777777778,\"#fb9f3a\"],[0.8888888888888888,\"#fdca26\"],[1.0,\"#f0f921\"]]}],\"heatmapgl\":[{\"type\":\"heatmapgl\",\"colorbar\":{\"outlinewidth\":0,\"ticks\":\"\"},\"colorscale\":[[0.0,\"#0d0887\"],[0.1111111111111111,\"#46039f\"],[0.2222222222222222,\"#7201a8\"],[0.3333333333333333,\"#9c179e\"],[0.4444444444444444,\"#bd3786\"],[0.5555555555555556,\"#d8576b\"],[0.6666666666666666,\"#ed7953\"],[0.7777777777777778,\"#fb9f3a\"],[0.8888888888888888,\"#fdca26\"],[1.0,\"#f0f921\"]]}],\"contourcarpet\":[{\"type\":\"contourcarpet\",\"colorbar\":{\"outlinewidth\":0,\"ticks\":\"\"}}],\"contour\":[{\"type\":\"contour\",\"colorbar\":{\"outlinewidth\":0,\"ticks\":\"\"},\"colorscale\":[[0.0,\"#0d0887\"],[0.1111111111111111,\"#46039f\"],[0.2222222222222222,\"#7201a8\"],[0.3333333333333333,\"#9c179e\"],[0.4444444444444444,\"#bd3786\"],[0.5555555555555556,\"#d8576b\"],[0.6666666666666666,\"#ed7953\"],[0.7777777777777778,\"#fb9f3a\"],[0.8888888888888888,\"#fdca26\"],[1.0,\"#f0f921\"]]}],\"surface\":[{\"type\":\"surface\",\"colorbar\":{\"outlinewidth\":0,\"ticks\":\"\"},\"colorscale\":[[0.0,\"#0d0887\"],[0.1111111111111111,\"#46039f\"],[0.2222222222222222,\"#7201a8\"],[0.3333333333333333,\"#9c179e\"],[0.4444444444444444,\"#bd3786\"],[0.5555555555555556,\"#d8576b\"],[0.6666666666666666,\"#ed7953\"],[0.7777777777777778,\"#fb9f3a\"],[0.8888888888888888,\"#fdca26\"],[1.0,\"#f0f921\"]]}],\"mesh3d\":[{\"type\":\"mesh3d\",\"colorbar\":{\"outlinewidth\":0,\"ticks\":\"\"}}],\"scatter\":[{\"fillpattern\":{\"fillmode\":\"overlay\",\"size\":10,\"solidity\":0.2},\"type\":\"scatter\"}],\"parcoords\":[{\"type\":\"parcoords\",\"line\":{\"colorbar\":{\"outlinewidth\":0,\"ticks\":\"\"}}}],\"scatterpolargl\":[{\"type\":\"scatterpolargl\",\"marker\":{\"colorbar\":{\"outlinewidth\":0,\"ticks\":\"\"}}}],\"bar\":[{\"error_x\":{\"color\":\"#2a3f5f\"},\"error_y\":{\"color\":\"#2a3f5f\"},\"marker\":{\"line\":{\"color\":\"#E5ECF6\",\"width\":0.5},\"pattern\":{\"fillmode\":\"overlay\",\"size\":10,\"solidity\":0.2}},\"type\":\"bar\"}],\"scattergeo\":[{\"type\":\"scattergeo\",\"marker\":{\"colorbar\":{\"outlinewidth\":0,\"ticks\":\"\"}}}],\"scatterpolar\":[{\"type\":\"scatterpolar\",\"marker\":{\"colorbar\":{\"outlinewidth\":0,\"ticks\":\"\"}}}],\"histogram\":[{\"marker\":{\"pattern\":{\"fillmode\":\"overlay\",\"size\":10,\"solidity\":0.2}},\"type\":\"histogram\"}],\"scattergl\":[{\"type\":\"scattergl\",\"marker\":{\"colorbar\":{\"outlinewidth\":0,\"ticks\":\"\"}}}],\"scatter3d\":[{\"type\":\"scatter3d\",\"line\":{\"colorbar\":{\"outlinewidth\":0,\"ticks\":\"\"}},\"marker\":{\"colorbar\":{\"outlinewidth\":0,\"ticks\":\"\"}}}],\"scattermapbox\":[{\"type\":\"scattermapbox\",\"marker\":{\"colorbar\":{\"outlinewidth\":0,\"ticks\":\"\"}}}],\"scatterternary\":[{\"type\":\"scatterternary\",\"marker\":{\"colorbar\":{\"outlinewidth\":0,\"ticks\":\"\"}}}],\"scattercarpet\":[{\"type\":\"scattercarpet\",\"marker\":{\"colorbar\":{\"outlinewidth\":0,\"ticks\":\"\"}}}],\"carpet\":[{\"aaxis\":{\"endlinecolor\":\"#2a3f5f\",\"gridcolor\":\"white\",\"linecolor\":\"white\",\"minorgridcolor\":\"white\",\"startlinecolor\":\"#2a3f5f\"},\"baxis\":{\"endlinecolor\":\"#2a3f5f\",\"gridcolor\":\"white\",\"linecolor\":\"white\",\"minorgridcolor\":\"white\",\"startlinecolor\":\"#2a3f5f\"},\"type\":\"carpet\"}],\"table\":[{\"cells\":{\"fill\":{\"color\":\"#EBF0F8\"},\"line\":{\"color\":\"white\"}},\"header\":{\"fill\":{\"color\":\"#C8D4E3\"},\"line\":{\"color\":\"white\"}},\"type\":\"table\"}],\"barpolar\":[{\"marker\":{\"line\":{\"color\":\"#E5ECF6\",\"width\":0.5},\"pattern\":{\"fillmode\":\"overlay\",\"size\":10,\"solidity\":0.2}},\"type\":\"barpolar\"}],\"pie\":[{\"automargin\":true,\"type\":\"pie\"}]},\"layout\":{\"autotypenumbers\":\"strict\",\"colorway\":[\"#636efa\",\"#EF553B\",\"#00cc96\",\"#ab63fa\",\"#FFA15A\",\"#19d3f3\",\"#FF6692\",\"#B6E880\",\"#FF97FF\",\"#FECB52\"],\"font\":{\"color\":\"#2a3f5f\"},\"hovermode\":\"closest\",\"hoverlabel\":{\"align\":\"left\"},\"paper_bgcolor\":\"white\",\"plot_bgcolor\":\"#E5ECF6\",\"polar\":{\"bgcolor\":\"#E5ECF6\",\"angularaxis\":{\"gridcolor\":\"white\",\"linecolor\":\"white\",\"ticks\":\"\"},\"radialaxis\":{\"gridcolor\":\"white\",\"linecolor\":\"white\",\"ticks\":\"\"}},\"ternary\":{\"bgcolor\":\"#E5ECF6\",\"aaxis\":{\"gridcolor\":\"white\",\"linecolor\":\"white\",\"ticks\":\"\"},\"baxis\":{\"gridcolor\":\"white\",\"linecolor\":\"white\",\"ticks\":\"\"},\"caxis\":{\"gridcolor\":\"white\",\"linecolor\":\"white\",\"ticks\":\"\"}},\"coloraxis\":{\"colorbar\":{\"outlinewidth\":0,\"ticks\":\"\"}},\"colorscale\":{\"sequential\":[[0.0,\"#0d0887\"],[0.1111111111111111,\"#46039f\"],[0.2222222222222222,\"#7201a8\"],[0.3333333333333333,\"#9c179e\"],[0.4444444444444444,\"#bd3786\"],[0.5555555555555556,\"#d8576b\"],[0.6666666666666666,\"#ed7953\"],[0.7777777777777778,\"#fb9f3a\"],[0.8888888888888888,\"#fdca26\"],[1.0,\"#f0f921\"]],\"sequentialminus\":[[0.0,\"#0d0887\"],[0.1111111111111111,\"#46039f\"],[0.2222222222222222,\"#7201a8\"],[0.3333333333333333,\"#9c179e\"],[0.4444444444444444,\"#bd3786\"],[0.5555555555555556,\"#d8576b\"],[0.6666666666666666,\"#ed7953\"],[0.7777777777777778,\"#fb9f3a\"],[0.8888888888888888,\"#fdca26\"],[1.0,\"#f0f921\"]],\"diverging\":[[0,\"#8e0152\"],[0.1,\"#c51b7d\"],[0.2,\"#de77ae\"],[0.3,\"#f1b6da\"],[0.4,\"#fde0ef\"],[0.5,\"#f7f7f7\"],[0.6,\"#e6f5d0\"],[0.7,\"#b8e186\"],[0.8,\"#7fbc41\"],[0.9,\"#4d9221\"],[1,\"#276419\"]]},\"xaxis\":{\"gridcolor\":\"white\",\"linecolor\":\"white\",\"ticks\":\"\",\"title\":{\"standoff\":15},\"zerolinecolor\":\"white\",\"automargin\":true,\"zerolinewidth\":2},\"yaxis\":{\"gridcolor\":\"white\",\"linecolor\":\"white\",\"ticks\":\"\",\"title\":{\"standoff\":15},\"zerolinecolor\":\"white\",\"automargin\":true,\"zerolinewidth\":2},\"scene\":{\"xaxis\":{\"backgroundcolor\":\"#E5ECF6\",\"gridcolor\":\"white\",\"linecolor\":\"white\",\"showbackground\":true,\"ticks\":\"\",\"zerolinecolor\":\"white\",\"gridwidth\":2},\"yaxis\":{\"backgroundcolor\":\"#E5ECF6\",\"gridcolor\":\"white\",\"linecolor\":\"white\",\"showbackground\":true,\"ticks\":\"\",\"zerolinecolor\":\"white\",\"gridwidth\":2},\"zaxis\":{\"backgroundcolor\":\"#E5ECF6\",\"gridcolor\":\"white\",\"linecolor\":\"white\",\"showbackground\":true,\"ticks\":\"\",\"zerolinecolor\":\"white\",\"gridwidth\":2}},\"shapedefaults\":{\"line\":{\"color\":\"#2a3f5f\"}},\"annotationdefaults\":{\"arrowcolor\":\"#2a3f5f\",\"arrowhead\":0,\"arrowwidth\":1},\"geo\":{\"bgcolor\":\"white\",\"landcolor\":\"#E5ECF6\",\"subunitcolor\":\"white\",\"showland\":true,\"showlakes\":true,\"lakecolor\":\"white\"},\"title\":{\"x\":0.05},\"mapbox\":{\"style\":\"light\"}}},\"xaxis\":{\"anchor\":\"y\",\"domain\":[0.0,1.0],\"title\":{\"text\":\"Year\"}},\"yaxis\":{\"anchor\":\"x\",\"domain\":[0.0,1.0],\"title\":{\"text\":\"Value\"}},\"annotations\":[{\"font\":{},\"showarrow\":false,\"text\":\"Type=1 bed apartment (rent)\",\"x\":0.5,\"xanchor\":\"center\",\"xref\":\"paper\",\"y\":1.0,\"yanchor\":\"bottom\",\"yref\":\"paper\"}],\"legend\":{\"title\":{\"text\":\"City\"},\"tracegroupgap\":0},\"margin\":{\"t\":60}},                        {\"responsive\": true}                    ).then(function(){\n",
       "                            \n",
       "var gd = document.getElementById('c16edd8a-656d-47da-afb3-a62fd9710108');\n",
       "var x = new MutationObserver(function (mutations, observer) {{\n",
       "        var display = window.getComputedStyle(gd).display;\n",
       "        if (!display || display === 'none') {{\n",
       "            console.log([gd, 'removed!']);\n",
       "            Plotly.purge(gd);\n",
       "            observer.disconnect();\n",
       "        }}\n",
       "}});\n",
       "\n",
       "// Listen for the removal of the full notebook cells\n",
       "var notebookContainer = gd.closest('#notebook-container');\n",
       "if (notebookContainer) {{\n",
       "    x.observe(notebookContainer, {childList: true});\n",
       "}}\n",
       "\n",
       "// Listen for the clearing of the current output cell\n",
       "var outputEl = gd.closest('.output');\n",
       "if (outputEl) {{\n",
       "    x.observe(outputEl, {childList: true});\n",
       "}}\n",
       "\n",
       "                        })                };                });            </script>        </div>"
      ]
     },
     "metadata": {},
     "output_type": "display_data"
    }
   ],
   "source": [
=======
    "cities_one_bed_apt = cities[cities['Type'] == \"1 bed apartment (rent)\"]\n",
    "cities_one_bed_apt_melted = cities_one_bed_apt.melt(id_vars=[\"Type\", \"City\"], var_name=\"Year\", value_name=\"Value\")\n",
>>>>>>> 67009c5e46e024bce3b898e73da7e46ba3450d32
    "fig = px.line(\n",
    "    cities_one_bed_apt_melted, \n",
    "    x=\"Year\", \n",
    "    y=\"Value\",\n",
    "    color=\"City\",       \n",
    "    line_group=\"City\",  \n",
    "    facet_col=\"Type\",      \n",
    "    markers=True \n",
    ")\n",
    "\n",
    "fig.show()"
   ]
  },
  {
   "cell_type": "code",
   "execution_count": 34,
   "id": "5ac9825d-7047-4d9a-80f3-2146497e270c",
   "metadata": {},
   "outputs": [
    {
     "data": {
      "text/html": [
       "<div>\n",
       "<style scoped>\n",
       "    .dataframe tbody tr th:only-of-type {\n",
       "        vertical-align: middle;\n",
       "    }\n",
       "\n",
       "    .dataframe tbody tr th {\n",
       "        vertical-align: top;\n",
       "    }\n",
       "\n",
       "    .dataframe thead th {\n",
       "        text-align: right;\n",
       "    }\n",
       "</style>\n",
       "<table border=\"1\" class=\"dataframe\">\n",
       "  <thead>\n",
       "    <tr style=\"text-align: right;\">\n",
       "      <th></th>\n",
       "      <th>Type</th>\n",
       "      <th>City</th>\n",
       "      <th>Year</th>\n",
       "      <th>Value</th>\n",
       "    </tr>\n",
       "  </thead>\n",
       "  <tbody>\n",
       "    <tr>\n",
       "      <th>0</th>\n",
       "      <td>Av salary (after tax)</td>\n",
       "      <td>Lisbon</td>\n",
       "      <td>2019</td>\n",
       "      <td>931.03</td>\n",
       "    </tr>\n",
       "    <tr>\n",
       "      <th>1</th>\n",
       "      <td>Av salary (after tax)</td>\n",
       "      <td>Berlin</td>\n",
       "      <td>2019</td>\n",
       "      <td>2360.33</td>\n",
       "    </tr>\n",
       "    <tr>\n",
       "      <th>2</th>\n",
       "      <td>Av salary (after tax)</td>\n",
       "      <td>Paris</td>\n",
       "      <td>2019</td>\n",
       "      <td>2308.96</td>\n",
       "    </tr>\n",
       "    <tr>\n",
       "      <th>3</th>\n",
       "      <td>Av salary (after tax)</td>\n",
       "      <td>Lisbon</td>\n",
       "      <td>2020</td>\n",
       "      <td>1028.22</td>\n",
       "    </tr>\n",
       "    <tr>\n",
       "      <th>4</th>\n",
       "      <td>Av salary (after tax)</td>\n",
       "      <td>Berlin</td>\n",
       "      <td>2020</td>\n",
       "      <td>2397.59</td>\n",
       "    </tr>\n",
       "    <tr>\n",
       "      <th>5</th>\n",
       "      <td>Av salary (after tax)</td>\n",
       "      <td>Paris</td>\n",
       "      <td>2020</td>\n",
       "      <td>2510.77</td>\n",
       "    </tr>\n",
       "    <tr>\n",
       "      <th>6</th>\n",
       "      <td>Av salary (after tax)</td>\n",
       "      <td>Lisbon</td>\n",
       "      <td>2021</td>\n",
       "      <td>1034.12</td>\n",
       "    </tr>\n",
       "    <tr>\n",
       "      <th>7</th>\n",
       "      <td>Av salary (after tax)</td>\n",
       "      <td>Berlin</td>\n",
       "      <td>2021</td>\n",
       "      <td>2971.54</td>\n",
       "    </tr>\n",
       "    <tr>\n",
       "      <th>8</th>\n",
       "      <td>Av salary (after tax)</td>\n",
       "      <td>Paris</td>\n",
       "      <td>2021</td>\n",
       "      <td>2791.18</td>\n",
       "    </tr>\n",
       "    <tr>\n",
       "      <th>9</th>\n",
       "      <td>Av salary (after tax)</td>\n",
       "      <td>Lisbon</td>\n",
       "      <td>2022</td>\n",
       "      <td>1062.71</td>\n",
       "    </tr>\n",
       "    <tr>\n",
       "      <th>10</th>\n",
       "      <td>Av salary (after tax)</td>\n",
       "      <td>Berlin</td>\n",
       "      <td>2022</td>\n",
       "      <td>2987.30</td>\n",
       "    </tr>\n",
       "    <tr>\n",
       "      <th>11</th>\n",
       "      <td>Av salary (after tax)</td>\n",
       "      <td>Paris</td>\n",
       "      <td>2022</td>\n",
       "      <td>2601.82</td>\n",
       "    </tr>\n",
       "    <tr>\n",
       "      <th>12</th>\n",
       "      <td>Av salary (after tax)</td>\n",
       "      <td>Lisbon</td>\n",
       "      <td>2023</td>\n",
       "      <td>1169.53</td>\n",
       "    </tr>\n",
       "    <tr>\n",
       "      <th>13</th>\n",
       "      <td>Av salary (after tax)</td>\n",
       "      <td>Berlin</td>\n",
       "      <td>2023</td>\n",
       "      <td>3128.02</td>\n",
       "    </tr>\n",
       "    <tr>\n",
       "      <th>14</th>\n",
       "      <td>Av salary (after tax)</td>\n",
       "      <td>Paris</td>\n",
       "      <td>2023</td>\n",
       "      <td>2846.41</td>\n",
       "    </tr>\n",
       "    <tr>\n",
       "      <th>15</th>\n",
       "      <td>Av salary (after tax)</td>\n",
       "      <td>Lisbon</td>\n",
       "      <td>2024</td>\n",
       "      <td>1235.38</td>\n",
       "    </tr>\n",
       "    <tr>\n",
       "      <th>16</th>\n",
       "      <td>Av salary (after tax)</td>\n",
       "      <td>Berlin</td>\n",
       "      <td>2024</td>\n",
       "      <td>2952.47</td>\n",
       "    </tr>\n",
       "    <tr>\n",
       "      <th>17</th>\n",
       "      <td>Av salary (after tax)</td>\n",
       "      <td>Paris</td>\n",
       "      <td>2024</td>\n",
       "      <td>3076.78</td>\n",
       "    </tr>\n",
       "  </tbody>\n",
       "</table>\n",
       "</div>"
      ],
      "text/plain": [
       "                     Type    City  Year    Value\n",
       "0   Av salary (after tax)  Lisbon  2019   931.03\n",
       "1   Av salary (after tax)  Berlin  2019  2360.33\n",
       "2   Av salary (after tax)   Paris  2019  2308.96\n",
       "3   Av salary (after tax)  Lisbon  2020  1028.22\n",
       "4   Av salary (after tax)  Berlin  2020  2397.59\n",
       "5   Av salary (after tax)   Paris  2020  2510.77\n",
       "6   Av salary (after tax)  Lisbon  2021  1034.12\n",
       "7   Av salary (after tax)  Berlin  2021  2971.54\n",
       "8   Av salary (after tax)   Paris  2021  2791.18\n",
       "9   Av salary (after tax)  Lisbon  2022  1062.71\n",
       "10  Av salary (after tax)  Berlin  2022  2987.30\n",
       "11  Av salary (after tax)   Paris  2022  2601.82\n",
       "12  Av salary (after tax)  Lisbon  2023  1169.53\n",
       "13  Av salary (after tax)  Berlin  2023  3128.02\n",
       "14  Av salary (after tax)   Paris  2023  2846.41\n",
       "15  Av salary (after tax)  Lisbon  2024  1235.38\n",
       "16  Av salary (after tax)  Berlin  2024  2952.47\n",
       "17  Av salary (after tax)   Paris  2024  3076.78"
      ]
     },
     "execution_count": 34,
     "metadata": {},
     "output_type": "execute_result"
    }
   ],
   "source": [
    "cities_salaries = cities[cities['Type'] == \"Av salary (after tax)\"]\n",
    "cities_salaries_melted = cities_salaries.melt(id_vars=[\"Type\", \"City\"], var_name=\"Year\", value_name=\"Value\")\n",
<<<<<<< HEAD
    "cities_salaries_melted"
   ]
  },
  {
   "cell_type": "code",
   "execution_count": 38,
   "id": "0350306e-764f-4331-bc53-cf3f52b92575",
   "metadata": {},
   "outputs": [
    {
     "ename": "SyntaxError",
     "evalue": "invalid syntax. Perhaps you forgot a comma? (2258501593.py, line 8)",
     "output_type": "error",
     "traceback": [
      "\u001b[1;36m  Cell \u001b[1;32mIn[38], line 8\u001b[1;36m\u001b[0m\n\u001b[1;33m    markers=True\u001b[0m\n\u001b[1;37m            ^\u001b[0m\n\u001b[1;31mSyntaxError\u001b[0m\u001b[1;31m:\u001b[0m invalid syntax. Perhaps you forgot a comma?\n"
     ]
    }
   ],
   "source": [
=======
>>>>>>> 67009c5e46e024bce3b898e73da7e46ba3450d32
    "fig = px.line(\n",
    "    cities_salaries_melted, \n",
    "    x=\"Year\", \n",
    "    y=\"Value\",\n",
    "    color=\"City\",       \n",
    "    line_group=\"City\",  \n",
    "    facet_col=\"Type\",      \n",
    "    markers=True,  # Added comma here\n",
    "    title=\"Average salaries per month in Lisbon, Berlin and Paris (2019-2024)\",  # Title of the chart\n",
    "    labels={\"Value\": \"Amount (€)\", \"Year\": \"Year\"}  # Axis labels\n",
    ")\n",
    "\n",
    "fig.show()"
   ]
  },
  {
   "cell_type": "code",
   "execution_count": null,
   "id": "eeacd40c-1e8a-481b-a229-c3d8d7cec3a6",
   "metadata": {},
   "outputs": [],
   "source": [
    "three_bed_apt_rent = cities[cities['Type'] == \"3 bed apartment (rent)\"]\n",
    "three_bed_apt_rent = three_bed_apt_rent.melt(id_vars=[\"Type\", \"City\"], var_name=\"Year\", value_name=\"Value\")\n",
    "fig = px.line(\n",
    "    three_bed_apt_rent, \n",
    "    x=\"Year\", \n",
    "    y=\"Value\",\n",
    "    color=\"City\",       \n",
    "    line_group=\"City\",  \n",
    "    facet_col=\"Type\",      \n",
    "    markers=True, \n",
    "     title=\"Average rent for 3bedroom apartment per month in Lisbon, Berlin and Paris (2019-2024)\",  # Title of the chart\n",
    "    labels={\"Value\": \"Amount (€)\", \"Year\": \"Year\"} )\n",
    "\n",
    "fig.show()"
   ]
  },
  {
   "cell_type": "code",
   "execution_count": null,
   "id": "5fc9c626-d338-42c4-b1dc-248642a60d1c",
   "metadata": {},
   "outputs": [],
   "source": [
    "df_lisbon = cities[cities[\"City\"] == \"Lisbon\"]\n",
    "df_portugal = countries[countries[\"Country\"] == \"PT\"]\n",
    "display(cities)\n",
    "display(countries)"
   ]
  },
  {
   "cell_type": "code",
   "execution_count": null,
   "id": "f87cd4f3-1199-4f44-8d2f-b605974ff70c",
   "metadata": {},
   "outputs": [],
   "source": [
    "national_average = pd.concat([df_lisbon, df_portugal], ignore_index=True)    \n",
    "national_average.rename(columns={\"City\": \"City/Country\"}, inplace=True) \n",
    "national_average.drop(columns=[\"Country\"], inplace=True)\n",
    "national_average.loc[[4,5,6,7,8], \"City/Country\"] = \"Portugal\"\n",
    "national_average"
   ]
  },
  {
   "cell_type": "code",
   "execution_count": null,
   "id": "2aa6949c-6af2-4f4e-a39e-d2f3675f6215",
   "metadata": {},
   "outputs": [],
   "source": [
    "salary_data = national_average[\n",
    "    (national_average['Type'].isin(['Av salary (after tax)', 'Min wage (after tax)'])) &\n",
    "    (national_average['City/Country'].isin(['Portugal', 'Lisbon']))]\n",
    "\n",
    "salary_data_melted = salary_data.melt(id_vars=[\"Type\", \"City/Country\"], var_name=\"Year\", value_name=\"Value\")\n",
    "fig = px.line(\n",
    "    salary_data_melted,\n",
    "    x=\"Year\",\n",
    "    y=\"Value\",\n",
    "    color=\"Type\",\n",
    "    line_dash=\"City/Country\",   # Different lines for Lisbon and Portugal\n",
    "    markers=True,\n",
    "    title=\"Average Salary and Minimum Wage in Lisbon with National Average (2019-2024)\",\n",
    "    labels={\"Value\": \"Amount (€)\", \"Year\": \"Year\", \"Type\": \"Type of Income\"}\n",
    ")\n",
    "\n",
    "fig.show()"
   ]
  },
  {
   "cell_type": "code",
   "execution_count": null,
   "id": "7e0df3ab-3ee2-4293-b13e-8e6494421235",
   "metadata": {},
   "outputs": [],
   "source": []
  },
  {
   "cell_type": "code",
   "execution_count": null,
   "id": "cfd7fc71-b162-4e3e-b634-6eb5721e4cc2",
   "metadata": {},
   "outputs": [],
   "source": []
  }
 ],
 "metadata": {
  "kernelspec": {
   "display_name": "venv",
   "language": "python",
   "name": "venv"
  },
  "language_info": {
   "codemirror_mode": {
    "name": "ipython",
    "version": 3
   },
   "file_extension": ".py",
   "mimetype": "text/x-python",
   "name": "python",
   "nbconvert_exporter": "python",
   "pygments_lexer": "ipython3",
   "version": "3.12.4"
  }
 },
 "nbformat": 4,
 "nbformat_minor": 5
}
