{
 "cells": [
  {
   "cell_type": "code",
   "execution_count": null,
   "id": "ae46d5ac-14c0-4531-b645-c79b4e6efcc1",
   "metadata": {},
   "outputs": [],
   "source": [
    "import pandas as pd\n",
    "import seaborn as sns\n",
    "import matplotlib.pyplot as plt\n",
    "import plotly.express as px  # For Plotly Express, which is easy-to-use for quick visualizations\n",
    "import plotly.graph_objects as go "
   ]
  },
  {
   "cell_type": "code",
   "execution_count": null,
   "id": "9f59a386-039b-41ad-be96-022dfba39688",
   "metadata": {},
   "outputs": [],
   "source": [
    "from functions import concatenate_eurostat_countries, cleaning_eurostat_data_for_viz, clean_countries_numbeo, clean_cities\n",
    "eurostat_df = concatenate_eurostat_countries()\n",
    "eurostat_df"
   ]
  },
  {
   "cell_type": "code",
   "execution_count": null,
   "id": "81437663-c40d-4a6d-9285-29f34505dc2f",
   "metadata": {},
   "outputs": [],
   "source": [
    "cities = clean_cities()"
   ]
  },
  {
   "cell_type": "code",
   "execution_count": null,
   "id": "b1719071-cf99-4d23-9b44-cb53715fcc20",
   "metadata": {},
   "outputs": [],
   "source": [
    "countries = clean_countries_numbeo()\n",
    "countries"
   ]
  },
  {
   "cell_type": "code",
   "execution_count": null,
   "id": "29e8738e-9a0a-4633-a8df-04e8baac48b7",
   "metadata": {},
   "outputs": [],
   "source": [
    "income_tidy, housing_tidy, rental_tidy, income_df, housing_df, rental_df = cleaning_eurostat_data_for_viz(eurostat_df)\n",
    "income_df"
   ]
  },
  {
   "cell_type": "code",
   "execution_count": null,
   "id": "9a2751c0-0e54-4df5-a88a-b68556c572e2",
   "metadata": {},
   "outputs": [],
   "source": [
    "# Concatenate the DataFrames into one long DataFrame\n",
    "combined_data = pd.concat([housing_df, rental_df], axis=0)\n",
    "df_portugal = combined_data[combined_data['Country'] == 'PT']\n",
    "df_portugal = df_portugal.reset_index().rename(columns={'index': 'Type'})\n",
    "df_portugal_melted = df_portugal.melt(id_vars=['Type', 'Country'], var_name='Year', value_name='Value')\n",
    "df_portugal_melted"
   ]
  },
  {
   "cell_type": "code",
   "execution_count": null,
   "id": "ab8ddbdf-bc74-41da-ba29-594f6fcdae89",
   "metadata": {},
   "outputs": [],
   "source": [
    "fig = px.line(\n",
    "    df_portugal_melted,\n",
    "    x='Year',\n",
    "    y='Value',\n",
    "    color='Type',  # Different lines for Income and Rental\n",
    "    markers=True,\n",
    "    title=\"Housing vs Rental in Portugal (2019-2023)\"\n",
    ")\n",
    "\n",
    "fig.show()"
   ]
  },
  {
   "cell_type": "code",
   "execution_count": null,
   "id": "132460d2-01d7-466e-8ec4-8433e30f8252",
   "metadata": {},
   "outputs": [],
   "source": [
    "portugal_income = income_tidy[income_tidy[\"Country\"] == \"PT\"]\n",
    "fig = px.line(\n",
    "    portugal_income,\n",
    "    x='Year',          # x-axis: Year\n",
    "    y='Income',        # y-axis: Income\n",
    "    markers=True,      # Add markers at each data point\n",
    "    title=\"Average income in Portugal (2019-2023)\"  # Chart title\n",
    ")\n",
    "\n",
    "# Show the plot\n",
    "fig.show()"
   ]
  },
  {
   "cell_type": "code",
   "execution_count": null,
   "id": "0e991b87-3128-4c64-901a-acc8195b5e1b",
   "metadata": {},
   "outputs": [],
   "source": [
    "cities_one_bed_apt = cities[cities['Type'] == \"1 bed apartment (rent)\"]\n",
    "cities_one_bed_apt_melted = cities_one_bed_apt.melt(id_vars=[\"Type\", \"City\"], var_name=\"Year\", value_name=\"Value\")\n",
    "fig = px.line(\n",
    "    cities_one_bed_apt_melted, \n",
    "    x=\"Year\", \n",
    "    y=\"Value\",\n",
    "    color=\"City\",       \n",
    "    line_group=\"City\",  \n",
    "    facet_col=\"Type\",      \n",
    "    markers=True \n",
    ")\n",
    "\n",
    "fig.show()"
   ]
  },
  {
   "cell_type": "code",
   "execution_count": null,
   "id": "5ac9825d-7047-4d9a-80f3-2146497e270c",
   "metadata": {},
   "outputs": [],
   "source": [
    "cities_salaries = cities[cities['Type'] == \"Av salary (after tax)\"]\n",
    "cities_salaries_melted = cities_salaries.melt(id_vars=[\"Type\", \"City\"], var_name=\"Year\", value_name=\"Value\")\n",
    "fig = px.line(\n",
    "    cities_salaries_melted, \n",
    "    x=\"Year\", \n",
    "    y=\"Value\",\n",
    "    color=\"City\",       \n",
    "    line_group=\"City\",  \n",
    "    facet_col=\"Type\",      \n",
    "    markers=True,  # Added comma here\n",
    "    title=\"Average salaries per month in Lisbon, Berlin and Paris (2019-2024)\",  # Title of the chart\n",
    "    labels={\"Value\": \"Amount (€)\", \"Year\": \"Year\"}  # Axis labels\n",
    ")\n",
    "\n",
    "fig.show()"
   ]
  },
  {
   "cell_type": "code",
   "execution_count": null,
   "id": "eeacd40c-1e8a-481b-a229-c3d8d7cec3a6",
   "metadata": {},
   "outputs": [],
   "source": [
    "three_bed_apt_rent = cities[cities['Type'] == \"3 bed apartment (rent)\"]\n",
    "three_bed_apt_rent = three_bed_apt_rent.melt(id_vars=[\"Type\", \"City\"], var_name=\"Year\", value_name=\"Value\")\n",
    "fig = px.line(\n",
    "    three_bed_apt_rent, \n",
    "    x=\"Year\", \n",
    "    y=\"Value\",\n",
    "    color=\"City\",       \n",
    "    line_group=\"City\",  \n",
    "    facet_col=\"Type\",      \n",
    "    markers=True, \n",
    "     title=\"Average rent for 3bedroom apartment per month in Lisbon, Berlin and Paris (2019-2024)\",  # Title of the chart\n",
    "    labels={\"Value\": \"Amount (€)\", \"Year\": \"Year\"} )\n",
    "\n",
    "fig.show()"
   ]
  },
  {
   "cell_type": "code",
   "execution_count": null,
   "id": "5fc9c626-d338-42c4-b1dc-248642a60d1c",
   "metadata": {},
   "outputs": [],
   "source": [
    "df_lisbon = cities[cities[\"City\"] == \"Lisbon\"]\n",
    "df_portugal = countries[countries[\"Country\"] == \"PT\"]\n",
    "display(cities)\n",
    "display(countries)"
   ]
  },
  {
   "cell_type": "code",
   "execution_count": null,
   "id": "f87cd4f3-1199-4f44-8d2f-b605974ff70c",
   "metadata": {},
   "outputs": [],
   "source": [
    "national_average = pd.concat([df_lisbon, df_portugal], ignore_index=True)    \n",
    "national_average.rename(columns={\"City\": \"City/Country\"}, inplace=True) \n",
    "national_average.drop(columns=[\"Country\"], inplace=True)\n",
    "national_average.loc[[4,5,6,7,8], \"City/Country\"] = \"Portugal\"\n",
    "national_average"
   ]
  },
  {
   "cell_type": "code",
   "execution_count": null,
   "id": "2aa6949c-6af2-4f4e-a39e-d2f3675f6215",
   "metadata": {},
   "outputs": [],
   "source": [
    "salary_data = national_average[\n",
    "    (national_average['Type'].isin(['Av salary (after tax)', 'Min wage (after tax)'])) &\n",
    "    (national_average['City/Country'].isin(['Portugal', 'Lisbon']))]\n",
    "\n",
    "salary_data_melted = salary_data.melt(id_vars=[\"Type\", \"City/Country\"], var_name=\"Year\", value_name=\"Value\")\n",
    "fig = px.line(\n",
    "    salary_data_melted,\n",
    "    x=\"Year\",\n",
    "    y=\"Value\",\n",
    "    color=\"Type\",\n",
    "    line_dash=\"City/Country\",   # Different lines for Lisbon and Portugal\n",
    "    markers=True,\n",
    "    title=\"Average Salary and Minimum Wage in Lisbon with National Average (2019-2024)\",\n",
    "    labels={\"Value\": \"Amount (€)\", \"Year\": \"Year\", \"Type\": \"Type of Income\"}\n",
    ")\n",
    "\n",
    "fig.show()"
   ]
  },
  {
   "cell_type": "code",
   "execution_count": null,
   "id": "7e0df3ab-3ee2-4293-b13e-8e6494421235",
   "metadata": {},
   "outputs": [],
   "source": []
  },
  {
   "cell_type": "code",
   "execution_count": null,
   "id": "cfd7fc71-b162-4e3e-b634-6eb5721e4cc2",
   "metadata": {},
   "outputs": [],
   "source": []
  }
 ],
 "metadata": {
  "kernelspec": {
   "display_name": "venv",
   "language": "python",
   "name": "venv"
  },
  "language_info": {
   "codemirror_mode": {
    "name": "ipython",
    "version": 3
   },
   "file_extension": ".py",
   "mimetype": "text/x-python",
   "name": "python",
   "nbconvert_exporter": "python",
   "pygments_lexer": "ipython3",
   "version": "3.12.4"
  }
 },
 "nbformat": 4,
 "nbformat_minor": 5
}
