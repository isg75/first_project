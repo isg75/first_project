{
 "cells": [
  {
   "cell_type": "code",
   "execution_count": null,
   "id": "ae46d5ac-14c0-4531-b645-c79b4e6efcc1",
   "metadata": {},
   "outputs": [],
   "source": [
    "import pandas as pd\n",
    "import seaborn as sns\n",
    "import matplotlib.pyplot as plt\n",
    "import plotly.express as px  # For Plotly Express, which is easy-to-use for quick visualizations\n",
    "import plotly.graph_objects as go "
   ]
  },
  {
   "cell_type": "code",
   "execution_count": null,
   "id": "ffc5e6ea-831d-4343-80cb-7867b0931977",
   "metadata": {},
   "outputs": [],
   "source": [
    "def concatenate_countries():\n",
    "    housing = pd.read_excel(\"../data/raw/week_3_project_data.xlsx\", sheet_name=0)\n",
    "    rental = pd.read_excel(\"../data/raw/week_3_project_data.xlsx\", sheet_name=1)\n",
    "    income = pd.read_excel(\"../data/raw/week_3_project_data.xlsx\", sheet_name=2)\n",
    "    eurostat_df = pd.concat([housing, rental, income], ignore_index=True)\n",
    "    index_labels = ['Housing'] * len(housing) + ['Rental'] * len(rental) + ['Income'] * len(income)\n",
    "    eurostat_df.index = index_labels\n",
    "    eurostat_df.rename(columns={\"Unnamed: 0\": \"Country\"}, inplace=True)    \n",
    "    \n",
    "    return eurostat_df"
   ]
  },
  {
   "cell_type": "code",
   "execution_count": null,
   "id": "81437663-c40d-4a6d-9285-29f34505dc2f",
   "metadata": {},
   "outputs": [],
   "source": [
    "eurostat_df = contacenate_countries()\n",
    "eurostat_df"
   ]
  },
  {
   "cell_type": "code",
   "execution_count": null,
   "id": "981cf8c0-fcae-4e20-9e6a-fa6f87d5a9d9",
   "metadata": {},
   "outputs": [],
   "source": [
    "def cleaning_eurostat_data_for_viz():\n",
    "    income_df = eurostat_df[eurostat_df.index == 'Income']\n",
    "    housing_df = eurostat_df[eurostat_df.index == \"Housing\"]\n",
    "    rental_df = eurostat_df[eurostat_df.index == \"Rental\"]\n",
    "\n",
    "    income_tidy = income_df.melt(id_vars=\"Country\", var_name=\"Year\", value_name=\"Income\")\n",
    "    housing_tidy = housing_df.melt(id_vars=\"Country\", var_name=\"Year\", value_name=\"Housing\")\n",
    "    rental_tidy = rental_df.melt(id_vars=\"Country\", var_name=\"Year\", value_name=\"Rental\")\n",
    "\n",
    "    return income_tidy, housing_tidy, rental_tidy"
   ]
  },
  {
   "cell_type": "code",
   "execution_count": null,
   "id": "53cd3700-6720-4fd0-800e-57870dac7cf3",
   "metadata": {},
   "outputs": [],
   "source": [
    "income_tidy, housing_tidy, rental_tidy = cleaning_eurostat_data_for_viz()\n",
    "rental_tidy"
   ]
  },
  {
   "cell_type": "code",
   "execution_count": null,
   "id": "ab8ddbdf-bc74-41da-ba29-594f6fcdae89",
   "metadata": {},
   "outputs": [],
   "source": [
    "sns.lineplot(data=income_tidy, x=\"Year\", y=\"Income\", hue=\"Country\", marker=\"*\")"
   ]
  },
  {
   "cell_type": "code",
   "execution_count": null,
   "id": "24a01a3a-1683-4841-b58e-5942e4e9116e",
   "metadata": {},
   "outputs": [],
   "source": [
    "plt.figure(figsize=(9, 6))\n",
    "sns.lineplot(data=rental_tidy, x=\"Year\", y=\"Rental\", hue=\"Country\", marker=\"o\")\n",
    "plt.title(\"Rental Trends for Germany, France and Portugal (2019-2023)\")\n",
    "plt.xlabel(\"Year\")\n",
    "plt.ylabel(\"Rental index\")\n",
    "plt.show()"
   ]
  },
  {
   "cell_type": "code",
   "execution_count": null,
   "id": "60eb0745-795a-4e96-91a5-103d0140153e",
   "metadata": {},
   "outputs": [],
   "source": [
    "def clean_countries():\n",
    "    countries = pd.read_excel(\"../data/raw/numbeo_stats.xlsx\", sheet_name=1)\n",
    "    countries.columns = countries.columns.str.strip()\n",
    "    countries.rename(columns={\"Unnamed: 0\": \"Type\"}, inplace = True)\n",
    "\n",
    "    countries.loc[[1,2],\"Type\"] = '1 bed apartment (rent)'\n",
    "    countries.loc[[4,5], 'Type'] = '3 bed apartment (rent)'\n",
    "    countries.loc[[6,7,8], 'Type'] = 'Buy apartment (per m2 in city center)'\n",
    "    countries.loc[[10,11], 'Type'] = 'Av salary (after tax)'\n",
    "    countries.loc[[13,14], 'Type'] = 'Min wage (after tax)'\n",
    "        \n",
    "    return countries\n",
    "\n",
    "countries = clean_countries()\n",
    "one_bed_apt = countries[countries[\"Type\"] == \"1 bed apartment (rent)\"]\n",
    "one_bed_apt"
   ]
  },
  {
   "cell_type": "code",
   "execution_count": null,
   "id": "0b9b0825-4cd1-4910-9d12-b1b7f406c84c",
   "metadata": {},
   "outputs": [],
   "source": [
    "plt.figure(figsize=(9, 6))\n",
    "sns.lineplot(data=income_tidy, x=\"Year\", y=\"Income\", hue=\"Country\", marker=\"o\")\n",
    "plt.title(\"Income Trends for Germany, France and Portugal (2019-2023)\")\n",
    "plt.xlabel(\"Year\")\n",
    "plt.ylabel(\"Income (€)\")\n",
    "plt.show()"
   ]
  },
  {
   "cell_type": "code",
   "execution_count": null,
   "id": "306c4ccd-dfc9-4c62-96c8-8f634170930c",
   "metadata": {},
   "outputs": [],
   "source": [
    "def clean_countries():\n",
    "    countries = pd.read_excel(\"../data/raw/numbeo_stats.xlsx\", sheet_name=1)\n",
    "    countries.columns = countries.columns.str.strip()\n",
    "    countries.rename(columns={\"Unnamed: 0\": \"Type\"}, inplace = True)\n",
    "\n",
    "    countries.loc[[1,2],\"Type\"] = '1 bed apartment (rent)'\n",
    "    countries.loc[[4,5], 'Type'] = '3 bed apartment (rent)'\n",
    "    countries.loc[[6,7,8], 'Type'] = 'Buy apartment (per m2 in city center)'\n",
    "    countries.loc[[10,11], 'Type'] = 'Av salary (after tax)'\n",
    "    countries.loc[[13,14], 'Type'] = 'Min wage (after tax)'\n",
    "\n",
    "    columns_to_clean = ['2019', '2020', '2021', '2022', '2023', '2024']\n",
    "    # Remove spaces and convert to float for each column\n",
    "    for col in columns_to_clean:\n",
    "        countries[col] = countries[col].astype(str).str.replace(\" \", \"\").str.replace(\"\\xa0\", \"\").astype(float)\n",
    "        \n",
    "    return countries"
   ]
  },
  {
   "cell_type": "code",
   "execution_count": null,
   "id": "16d0ebfb-7516-418c-a095-694d1944d0cc",
   "metadata": {},
   "outputs": [],
   "source": []
  },
  {
   "cell_type": "code",
   "execution_count": null,
   "id": "7df3f168-0c58-4f81-a19a-f409fe40a99b",
   "metadata": {},
   "outputs": [],
   "source": [
    "countries = clean_countries()\n",
    "one_bed_apt = countries[countries[\"Type\"] == \"1 bed apartment (rent)\"]\n",
    "one_bed_apt"
   ]
  },
  {
   "cell_type": "code",
   "execution_count": null,
   "id": "f252a5d1-1770-48a0-8efe-7769c2b2b725",
   "metadata": {},
   "outputs": [],
   "source": []
  },
  {
   "cell_type": "code",
   "execution_count": null,
   "id": "0e991b87-3128-4c64-901a-acc8195b5e1b",
   "metadata": {},
   "outputs": [],
   "source": [
    "one_bed_apt_melted = one_bed_apt.melt(id_vars=[\"Type\", \"Country\"], var_name=\"Year\", value_name=\"Value\")\n",
    "one_bed_apt_melted[\"Year\"] = one_bed_apt_melted[\"Year\"].astype(int)"
   ]
  },
  {
   "cell_type": "code",
   "execution_count": null,
   "id": "60aecd95-282c-4a5a-8a82-e55429ba4882",
   "metadata": {},
   "outputs": [],
   "source": [
    "fig = px.line(\n",
    "    one_bed_apt_melted, \n",
    "    x=\"Year\", \n",
    "    y=\"Value\",\n",
    "    color=\"Country\",       # Color lines by Country\n",
    "    line_group=\"Country\",  # Group lines by Country\n",
    "    facet_col=\"Type\",      # Create a separate subplot for each apartment Type\n",
    "    markers=True           # Add markers to each point\n",
    ")\n",
    "\n",
    "fig.show()"
   ]
  },
  {
   "cell_type": "code",
   "execution_count": null,
   "id": "1b6230f6-bfd5-4dae-a576-1dcec813a46c",
   "metadata": {},
   "outputs": [],
   "source": [
    "def clean_cities():\n",
    "    cities = pd.read_excel(\"../data/raw/numbeo_stats.xlsx\", sheet_name=0)\n",
    "    cities.columns = cities.columns.str.strip()\n",
    "    cities.rename(columns={\"Unnamed: 0\": \"Type\"}, inplace = True)\n",
    "\n",
    "    cities.loc[[1,2],\"Type\"] = '1 bed apartment (rent)'\n",
    "    cities.loc[[4,5], 'Type'] = '3 bed apartment (rent)'\n",
    "    cities.loc[[6,7,8], 'Type'] = 'Buy apartment (per m2 in city center)'\n",
    "    cities.loc[[10,11], 'Type'] = 'Av salary (after tax)'\n",
    "\n",
    "    columns_to_clean = ['2019', '2020', '2021', '2022', '2023', '2024']\n",
    "    # Remove spaces and convert to float for each column\n",
    "    for col in columns_to_clean:\n",
    "        cities[col] = cities[col].astype(str).str.replace(\" \", \"\").str.replace(\"\\xa0\", \"\").astype(float)\n",
    "    \n",
    "    return cities"
   ]
  },
  {
   "cell_type": "code",
   "execution_count": null,
   "id": "f9b962d4-5d44-402f-84f3-d1f4a3ccd29c",
   "metadata": {},
   "outputs": [],
   "source": [
    "cities = clean_cities()\n",
    "cities"
   ]
  },
  {
   "cell_type": "code",
   "execution_count": null,
   "id": "49781a02-1cf0-48e8-892b-8ccbd1b203f5",
   "metadata": {},
   "outputs": [],
   "source": []
  },
  {
   "cell_type": "code",
   "execution_count": null,
   "id": "cf2fced9-2a01-4fb6-9b58-82a04403f852",
   "metadata": {},
   "outputs": [],
   "source": [
    "def cleaning_eurostat_data_for_viz():\n",
    "    income_df = eurostat_df[eurostat_df.index == 'Income']\n",
    "    housing_df = eurostat_df[eurostat_df.index == \"Housing\"]\n",
    "    rental_df = eurostat_df[eurostat_df.index == \"Rental\"]\n",
    "\n",
    "    income_tidy = income_df.melt(id_vars=\"Country\", var_name=\"Year\", value_name=\"Income\")\n",
    "    housing_tidy = housing_df.melt(id_vars=\"Country\", var_name=\"Year\", value_name=\"Housing\")\n",
    "    rental_tidy = rental_df.melt(id_vars=\"Country\", var_name=\"Year\", value_name=\"Rental\")\n",
    "\n",
    "    return income_tidy, housing_tidy, rental_tidy, income_df, housing_df, rental_df"
   ]
  },
  {
   "cell_type": "code",
   "execution_count": null,
   "id": "5c87adf8-2a2a-4822-af92-c8d6c05d8080",
   "metadata": {},
   "outputs": [],
   "source": [
    "income_tidy, housing_tidy, rental_tidy, income_df, housing_df, rental_df = cleaning_eurostat_data_for_viz()\n",
    "income_df"
   ]
  },
  {
   "cell_type": "code",
   "execution_count": null,
   "id": "c890fd7f-8652-412d-bbaf-c6ef2432df76",
   "metadata": {},
   "outputs": [],
   "source": [
    "df_lisbon = cities[cities['City'] == 'Lisbon']\n",
    "df_lisbon"
   ]
  },
  {
   "cell_type": "code",
   "execution_count": null,
   "id": "ec2d6bf3-ce91-46ca-8563-14688a2f1426",
   "metadata": {},
   "outputs": [],
   "source": [
    "lisbon_melted = df_lisbon.melt(id_vars=[\"Type\", \"City\"], var_name=\"Year\", value_name=\"Value\")\n",
    "lisbon_melted[\"Year\"] = lisbon_melted[\"Year\"].astype(int)"
   ]
  },
  {
   "cell_type": "code",
   "execution_count": null,
   "id": "e7459490-dfcf-4e81-a408-06379aa96966",
   "metadata": {},
   "outputs": [],
   "source": [
    "fig = px.line(\n",
    "    lisbon_melted, \n",
    "    x=\"Year\", \n",
    "    y=\"Value\",\n",
    "    color=\"City\",       # Color lines by Country\n",
    "    line_group=\"City\",  # Group lines by Country\n",
    "    facet_col=\"Type\",      # Create a separate subplot for each apartment Type\n",
    "    markers=True           # Add markers to each point\n",
    ")\n",
    "\n",
    "fig.show()"
   ]
  },
  {
   "cell_type": "code",
   "execution_count": null,
   "id": "d8c14555-4a63-402c-bfdb-2ae8a3d44632",
   "metadata": {},
   "outputs": [],
   "source": []
  }
 ],
 "metadata": {
  "kernelspec": {
   "display_name": "venv",
   "language": "python",
   "name": "venv"
  },
  "language_info": {
   "codemirror_mode": {
    "name": "ipython",
    "version": 3
   },
   "file_extension": ".py",
   "mimetype": "text/x-python",
   "name": "python",
   "nbconvert_exporter": "python",
   "pygments_lexer": "ipython3",
   "version": "3.12.4"
  }
 },
 "nbformat": 4,
 "nbformat_minor": 5
}
