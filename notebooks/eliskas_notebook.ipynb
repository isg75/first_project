{
 "cells": [
  {
   "cell_type": "code",
   "execution_count": 225,
   "id": "ae46d5ac-14c0-4531-b645-c79b4e6efcc1",
   "metadata": {},
   "outputs": [],
   "source": [
    "import pandas as pd\n",
    "import seaborn as sns\n",
    "import matplotlib.pyplot as plt\n",
    "import plotly.express as px  # For Plotly Express, which is easy-to-use for quick visualizations\n",
    "import plotly.graph_objects as go "
   ]
  },
  {
   "cell_type": "code",
   "execution_count": 102,
   "id": "1db1242e-d7c7-43ea-b131-bda0dcc37982",
   "metadata": {},
   "outputs": [
    {
     "data": {
      "text/html": [
       "<div>\n",
       "<style scoped>\n",
       "    .dataframe tbody tr th:only-of-type {\n",
       "        vertical-align: middle;\n",
       "    }\n",
       "\n",
       "    .dataframe tbody tr th {\n",
       "        vertical-align: top;\n",
       "    }\n",
       "\n",
       "    .dataframe thead th {\n",
       "        text-align: right;\n",
       "    }\n",
       "</style>\n",
       "<table border=\"1\" class=\"dataframe\">\n",
       "  <thead>\n",
       "    <tr style=\"text-align: right;\">\n",
       "      <th></th>\n",
       "      <th>Unnamed: 0</th>\n",
       "      <th>2019</th>\n",
       "      <th>2020</th>\n",
       "      <th>2021</th>\n",
       "      <th>2022</th>\n",
       "      <th>2023</th>\n",
       "    </tr>\n",
       "  </thead>\n",
       "  <tbody>\n",
       "    <tr>\n",
       "      <th>Housing</th>\n",
       "      <td>DE</td>\n",
       "      <td>128.70</td>\n",
       "      <td>138.70</td>\n",
       "      <td>154.80</td>\n",
       "      <td>162.60</td>\n",
       "      <td>148.80</td>\n",
       "    </tr>\n",
       "    <tr>\n",
       "      <th>Housing</th>\n",
       "      <td>FR</td>\n",
       "      <td>110.86</td>\n",
       "      <td>116.62</td>\n",
       "      <td>123.98</td>\n",
       "      <td>131.82</td>\n",
       "      <td>131.26</td>\n",
       "    </tr>\n",
       "    <tr>\n",
       "      <th>Housing</th>\n",
       "      <td>PT</td>\n",
       "      <td>141.88</td>\n",
       "      <td>154.33</td>\n",
       "      <td>168.84</td>\n",
       "      <td>190.17</td>\n",
       "      <td>205.76</td>\n",
       "    </tr>\n",
       "  </tbody>\n",
       "</table>\n",
       "</div>"
      ],
      "text/plain": [
       "        Unnamed: 0    2019    2020    2021    2022    2023\n",
       "Housing         DE  128.70  138.70  154.80  162.60  148.80\n",
       "Housing         FR  110.86  116.62  123.98  131.82  131.26\n",
       "Housing         PT  141.88  154.33  168.84  190.17  205.76"
      ]
     },
     "execution_count": 102,
     "metadata": {},
     "output_type": "execute_result"
    }
   ],
   "source": [
    "housing = pd.read_excel(\"../data/raw/week_3_project_data.xlsx\", sheet_name=0)\n",
    "housing.index = ['Housing'] * len(housing)\n",
    "housing"
   ]
  },
  {
   "cell_type": "code",
   "execution_count": 9,
   "id": "9dd33e13-8bed-4186-9cc9-974a7503d7bb",
   "metadata": {},
   "outputs": [
    {
     "data": {
      "text/html": [
       "<div>\n",
       "<style scoped>\n",
       "    .dataframe tbody tr th:only-of-type {\n",
       "        vertical-align: middle;\n",
       "    }\n",
       "\n",
       "    .dataframe tbody tr th {\n",
       "        vertical-align: top;\n",
       "    }\n",
       "\n",
       "    .dataframe thead th {\n",
       "        text-align: right;\n",
       "    }\n",
       "</style>\n",
       "<table border=\"1\" class=\"dataframe\">\n",
       "  <thead>\n",
       "    <tr style=\"text-align: right;\">\n",
       "      <th></th>\n",
       "      <th>Unnamed: 0</th>\n",
       "      <th>2019</th>\n",
       "      <th>2020</th>\n",
       "      <th>2021</th>\n",
       "      <th>2022</th>\n",
       "      <th>2023</th>\n",
       "    </tr>\n",
       "  </thead>\n",
       "  <tbody>\n",
       "    <tr>\n",
       "      <th>Rental</th>\n",
       "      <td>DE</td>\n",
       "      <td>100.67</td>\n",
       "      <td>101.06</td>\n",
       "      <td>101.92</td>\n",
       "      <td>102.60</td>\n",
       "      <td>104.78</td>\n",
       "    </tr>\n",
       "    <tr>\n",
       "      <th>Rental</th>\n",
       "      <td>FR</td>\n",
       "      <td>107.97</td>\n",
       "      <td>110.76</td>\n",
       "      <td>101.92</td>\n",
       "      <td>115.79</td>\n",
       "      <td>121.05</td>\n",
       "    </tr>\n",
       "    <tr>\n",
       "      <th>Rental</th>\n",
       "      <td>PT</td>\n",
       "      <td>106.10</td>\n",
       "      <td>107.60</td>\n",
       "      <td>109.00</td>\n",
       "      <td>110.80</td>\n",
       "      <td>113.10</td>\n",
       "    </tr>\n",
       "  </tbody>\n",
       "</table>\n",
       "</div>"
      ],
      "text/plain": [
       "       Unnamed: 0    2019    2020    2021    2022    2023\n",
       "Rental         DE  100.67  101.06  101.92  102.60  104.78\n",
       "Rental         FR  107.97  110.76  101.92  115.79  121.05\n",
       "Rental         PT  106.10  107.60  109.00  110.80  113.10"
      ]
     },
     "execution_count": 9,
     "metadata": {},
     "output_type": "execute_result"
    }
   ],
   "source": [
    "rental = pd.read_excel(\"../data/raw/week_3_project_data.xlsx\", sheet_name=1)\n",
    "rental.index = ['Rental'] * len(rental)\n",
    "rental"
   ]
  },
  {
   "cell_type": "code",
   "execution_count": 11,
   "id": "9a5d7de7-14fd-4edf-84d4-871ec95f26ac",
   "metadata": {},
   "outputs": [
    {
     "data": {
      "text/html": [
       "<div>\n",
       "<style scoped>\n",
       "    .dataframe tbody tr th:only-of-type {\n",
       "        vertical-align: middle;\n",
       "    }\n",
       "\n",
       "    .dataframe tbody tr th {\n",
       "        vertical-align: top;\n",
       "    }\n",
       "\n",
       "    .dataframe thead th {\n",
       "        text-align: right;\n",
       "    }\n",
       "</style>\n",
       "<table border=\"1\" class=\"dataframe\">\n",
       "  <thead>\n",
       "    <tr style=\"text-align: right;\">\n",
       "      <th></th>\n",
       "      <th>Unnamed: 0</th>\n",
       "      <th>2019</th>\n",
       "      <th>2020</th>\n",
       "      <th>2021</th>\n",
       "      <th>2022</th>\n",
       "      <th>2023</th>\n",
       "    </tr>\n",
       "  </thead>\n",
       "  <tbody>\n",
       "    <tr>\n",
       "      <th>Income</th>\n",
       "      <td>DE</td>\n",
       "      <td>26105</td>\n",
       "      <td>29896</td>\n",
       "      <td>29106</td>\n",
       "      <td>28569</td>\n",
       "      <td>30308</td>\n",
       "    </tr>\n",
       "    <tr>\n",
       "      <th>Income</th>\n",
       "      <td>FR</td>\n",
       "      <td>26210</td>\n",
       "      <td>25382</td>\n",
       "      <td>26075</td>\n",
       "      <td>26419</td>\n",
       "      <td>27577</td>\n",
       "    </tr>\n",
       "    <tr>\n",
       "      <th>Income</th>\n",
       "      <td>PT</td>\n",
       "      <td>11786</td>\n",
       "      <td>12696</td>\n",
       "      <td>13113</td>\n",
       "      <td>13148</td>\n",
       "      <td>14368</td>\n",
       "    </tr>\n",
       "  </tbody>\n",
       "</table>\n",
       "</div>"
      ],
      "text/plain": [
       "       Unnamed: 0   2019   2020   2021   2022   2023\n",
       "Income         DE  26105  29896  29106  28569  30308\n",
       "Income         FR  26210  25382  26075  26419  27577\n",
       "Income         PT  11786  12696  13113  13148  14368"
      ]
     },
     "execution_count": 11,
     "metadata": {},
     "output_type": "execute_result"
    }
   ],
   "source": [
    "income = pd.read_excel(\"../data/raw/week_3_project_data.xlsx\", sheet_name=2)\n",
    "income.index = ['Income'] * len(income)\n",
    "income"
   ]
  },
  {
   "cell_type": "code",
   "execution_count": 13,
   "id": "2d080e4f-6b0f-4055-bfd0-d7b7a31cd714",
   "metadata": {},
   "outputs": [],
   "source": [
    "final_df = pd.concat([housing, rental, income], ignore_index=True)\n",
    "index_labels = ['Housing'] * len(housing) + ['Rental'] * len(rental) + ['Income'] * len(income)\n",
    "final_df.index = index_labels"
   ]
  },
  {
   "cell_type": "code",
   "execution_count": 15,
   "id": "3e5a2018-c241-4ea2-8629-5d8b1f6d35c1",
   "metadata": {},
   "outputs": [
    {
     "data": {
      "text/html": [
       "<div>\n",
       "<style scoped>\n",
       "    .dataframe tbody tr th:only-of-type {\n",
       "        vertical-align: middle;\n",
       "    }\n",
       "\n",
       "    .dataframe tbody tr th {\n",
       "        vertical-align: top;\n",
       "    }\n",
       "\n",
       "    .dataframe thead th {\n",
       "        text-align: right;\n",
       "    }\n",
       "</style>\n",
       "<table border=\"1\" class=\"dataframe\">\n",
       "  <thead>\n",
       "    <tr style=\"text-align: right;\">\n",
       "      <th></th>\n",
       "      <th>Country</th>\n",
       "      <th>2019</th>\n",
       "      <th>2020</th>\n",
       "      <th>2021</th>\n",
       "      <th>2022</th>\n",
       "      <th>2023</th>\n",
       "    </tr>\n",
       "  </thead>\n",
       "  <tbody>\n",
       "    <tr>\n",
       "      <th>Housing</th>\n",
       "      <td>DE</td>\n",
       "      <td>128.70</td>\n",
       "      <td>138.70</td>\n",
       "      <td>154.80</td>\n",
       "      <td>162.60</td>\n",
       "      <td>148.80</td>\n",
       "    </tr>\n",
       "    <tr>\n",
       "      <th>Housing</th>\n",
       "      <td>FR</td>\n",
       "      <td>110.86</td>\n",
       "      <td>116.62</td>\n",
       "      <td>123.98</td>\n",
       "      <td>131.82</td>\n",
       "      <td>131.26</td>\n",
       "    </tr>\n",
       "    <tr>\n",
       "      <th>Housing</th>\n",
       "      <td>PT</td>\n",
       "      <td>141.88</td>\n",
       "      <td>154.33</td>\n",
       "      <td>168.84</td>\n",
       "      <td>190.17</td>\n",
       "      <td>205.76</td>\n",
       "    </tr>\n",
       "    <tr>\n",
       "      <th>Rental</th>\n",
       "      <td>DE</td>\n",
       "      <td>100.67</td>\n",
       "      <td>101.06</td>\n",
       "      <td>101.92</td>\n",
       "      <td>102.60</td>\n",
       "      <td>104.78</td>\n",
       "    </tr>\n",
       "    <tr>\n",
       "      <th>Rental</th>\n",
       "      <td>FR</td>\n",
       "      <td>107.97</td>\n",
       "      <td>110.76</td>\n",
       "      <td>101.92</td>\n",
       "      <td>115.79</td>\n",
       "      <td>121.05</td>\n",
       "    </tr>\n",
       "    <tr>\n",
       "      <th>Rental</th>\n",
       "      <td>PT</td>\n",
       "      <td>106.10</td>\n",
       "      <td>107.60</td>\n",
       "      <td>109.00</td>\n",
       "      <td>110.80</td>\n",
       "      <td>113.10</td>\n",
       "    </tr>\n",
       "    <tr>\n",
       "      <th>Income</th>\n",
       "      <td>DE</td>\n",
       "      <td>26105.00</td>\n",
       "      <td>29896.00</td>\n",
       "      <td>29106.00</td>\n",
       "      <td>28569.00</td>\n",
       "      <td>30308.00</td>\n",
       "    </tr>\n",
       "    <tr>\n",
       "      <th>Income</th>\n",
       "      <td>FR</td>\n",
       "      <td>26210.00</td>\n",
       "      <td>25382.00</td>\n",
       "      <td>26075.00</td>\n",
       "      <td>26419.00</td>\n",
       "      <td>27577.00</td>\n",
       "    </tr>\n",
       "    <tr>\n",
       "      <th>Income</th>\n",
       "      <td>PT</td>\n",
       "      <td>11786.00</td>\n",
       "      <td>12696.00</td>\n",
       "      <td>13113.00</td>\n",
       "      <td>13148.00</td>\n",
       "      <td>14368.00</td>\n",
       "    </tr>\n",
       "  </tbody>\n",
       "</table>\n",
       "</div>"
      ],
      "text/plain": [
       "        Country      2019      2020      2021      2022      2023\n",
       "Housing      DE    128.70    138.70    154.80    162.60    148.80\n",
       "Housing      FR    110.86    116.62    123.98    131.82    131.26\n",
       "Housing      PT    141.88    154.33    168.84    190.17    205.76\n",
       "Rental       DE    100.67    101.06    101.92    102.60    104.78\n",
       "Rental       FR    107.97    110.76    101.92    115.79    121.05\n",
       "Rental       PT    106.10    107.60    109.00    110.80    113.10\n",
       "Income       DE  26105.00  29896.00  29106.00  28569.00  30308.00\n",
       "Income       FR  26210.00  25382.00  26075.00  26419.00  27577.00\n",
       "Income       PT  11786.00  12696.00  13113.00  13148.00  14368.00"
      ]
     },
     "execution_count": 15,
     "metadata": {},
     "output_type": "execute_result"
    }
   ],
   "source": [
    "final_df.rename(columns={\"Unnamed: 0\": \"Country\"}, inplace=True)\n",
    "final_df"
   ]
  },
  {
   "cell_type": "code",
   "execution_count": 18,
   "id": "dfceb88b-f130-4249-8895-d0780767ae68",
   "metadata": {},
   "outputs": [
    {
     "data": {
      "text/html": [
       "<div>\n",
       "<style scoped>\n",
       "    .dataframe tbody tr th:only-of-type {\n",
       "        vertical-align: middle;\n",
       "    }\n",
       "\n",
       "    .dataframe tbody tr th {\n",
       "        vertical-align: top;\n",
       "    }\n",
       "\n",
       "    .dataframe thead th {\n",
       "        text-align: right;\n",
       "    }\n",
       "</style>\n",
       "<table border=\"1\" class=\"dataframe\">\n",
       "  <thead>\n",
       "    <tr style=\"text-align: right;\">\n",
       "      <th></th>\n",
       "      <th>Country</th>\n",
       "      <th>2019</th>\n",
       "      <th>2020</th>\n",
       "      <th>2021</th>\n",
       "      <th>2022</th>\n",
       "      <th>2023</th>\n",
       "    </tr>\n",
       "  </thead>\n",
       "  <tbody>\n",
       "    <tr>\n",
       "      <th>Income</th>\n",
       "      <td>DE</td>\n",
       "      <td>26105.0</td>\n",
       "      <td>29896.0</td>\n",
       "      <td>29106.0</td>\n",
       "      <td>28569.0</td>\n",
       "      <td>30308.0</td>\n",
       "    </tr>\n",
       "    <tr>\n",
       "      <th>Income</th>\n",
       "      <td>FR</td>\n",
       "      <td>26210.0</td>\n",
       "      <td>25382.0</td>\n",
       "      <td>26075.0</td>\n",
       "      <td>26419.0</td>\n",
       "      <td>27577.0</td>\n",
       "    </tr>\n",
       "    <tr>\n",
       "      <th>Income</th>\n",
       "      <td>PT</td>\n",
       "      <td>11786.0</td>\n",
       "      <td>12696.0</td>\n",
       "      <td>13113.0</td>\n",
       "      <td>13148.0</td>\n",
       "      <td>14368.0</td>\n",
       "    </tr>\n",
       "  </tbody>\n",
       "</table>\n",
       "</div>"
      ],
      "text/plain": [
       "       Country     2019     2020     2021     2022     2023\n",
       "Income      DE  26105.0  29896.0  29106.0  28569.0  30308.0\n",
       "Income      FR  26210.0  25382.0  26075.0  26419.0  27577.0\n",
       "Income      PT  11786.0  12696.0  13113.0  13148.0  14368.0"
      ]
     },
     "execution_count": 18,
     "metadata": {},
     "output_type": "execute_result"
    }
   ],
   "source": [
    "income_df = final_df[final_df.index == 'Income']\n",
    "income_df"
   ]
  },
  {
   "cell_type": "code",
   "execution_count": 19,
   "id": "53cd3700-6720-4fd0-800e-57870dac7cf3",
   "metadata": {},
   "outputs": [
    {
     "data": {
      "text/html": [
       "<div>\n",
       "<style scoped>\n",
       "    .dataframe tbody tr th:only-of-type {\n",
       "        vertical-align: middle;\n",
       "    }\n",
       "\n",
       "    .dataframe tbody tr th {\n",
       "        vertical-align: top;\n",
       "    }\n",
       "\n",
       "    .dataframe thead th {\n",
       "        text-align: right;\n",
       "    }\n",
       "</style>\n",
       "<table border=\"1\" class=\"dataframe\">\n",
       "  <thead>\n",
       "    <tr style=\"text-align: right;\">\n",
       "      <th></th>\n",
       "      <th>Country</th>\n",
       "      <th>Year</th>\n",
       "      <th>Income</th>\n",
       "    </tr>\n",
       "  </thead>\n",
       "  <tbody>\n",
       "    <tr>\n",
       "      <th>0</th>\n",
       "      <td>DE</td>\n",
       "      <td>2019</td>\n",
       "      <td>26105.0</td>\n",
       "    </tr>\n",
       "    <tr>\n",
       "      <th>1</th>\n",
       "      <td>FR</td>\n",
       "      <td>2019</td>\n",
       "      <td>26210.0</td>\n",
       "    </tr>\n",
       "    <tr>\n",
       "      <th>2</th>\n",
       "      <td>PT</td>\n",
       "      <td>2019</td>\n",
       "      <td>11786.0</td>\n",
       "    </tr>\n",
       "    <tr>\n",
       "      <th>3</th>\n",
       "      <td>DE</td>\n",
       "      <td>2020</td>\n",
       "      <td>29896.0</td>\n",
       "    </tr>\n",
       "    <tr>\n",
       "      <th>4</th>\n",
       "      <td>FR</td>\n",
       "      <td>2020</td>\n",
       "      <td>25382.0</td>\n",
       "    </tr>\n",
       "    <tr>\n",
       "      <th>5</th>\n",
       "      <td>PT</td>\n",
       "      <td>2020</td>\n",
       "      <td>12696.0</td>\n",
       "    </tr>\n",
       "    <tr>\n",
       "      <th>6</th>\n",
       "      <td>DE</td>\n",
       "      <td>2021</td>\n",
       "      <td>29106.0</td>\n",
       "    </tr>\n",
       "    <tr>\n",
       "      <th>7</th>\n",
       "      <td>FR</td>\n",
       "      <td>2021</td>\n",
       "      <td>26075.0</td>\n",
       "    </tr>\n",
       "    <tr>\n",
       "      <th>8</th>\n",
       "      <td>PT</td>\n",
       "      <td>2021</td>\n",
       "      <td>13113.0</td>\n",
       "    </tr>\n",
       "    <tr>\n",
       "      <th>9</th>\n",
       "      <td>DE</td>\n",
       "      <td>2022</td>\n",
       "      <td>28569.0</td>\n",
       "    </tr>\n",
       "    <tr>\n",
       "      <th>10</th>\n",
       "      <td>FR</td>\n",
       "      <td>2022</td>\n",
       "      <td>26419.0</td>\n",
       "    </tr>\n",
       "    <tr>\n",
       "      <th>11</th>\n",
       "      <td>PT</td>\n",
       "      <td>2022</td>\n",
       "      <td>13148.0</td>\n",
       "    </tr>\n",
       "    <tr>\n",
       "      <th>12</th>\n",
       "      <td>DE</td>\n",
       "      <td>2023</td>\n",
       "      <td>30308.0</td>\n",
       "    </tr>\n",
       "    <tr>\n",
       "      <th>13</th>\n",
       "      <td>FR</td>\n",
       "      <td>2023</td>\n",
       "      <td>27577.0</td>\n",
       "    </tr>\n",
       "    <tr>\n",
       "      <th>14</th>\n",
       "      <td>PT</td>\n",
       "      <td>2023</td>\n",
       "      <td>14368.0</td>\n",
       "    </tr>\n",
       "  </tbody>\n",
       "</table>\n",
       "</div>"
      ],
      "text/plain": [
       "   Country  Year   Income\n",
       "0       DE  2019  26105.0\n",
       "1       FR  2019  26210.0\n",
       "2       PT  2019  11786.0\n",
       "3       DE  2020  29896.0\n",
       "4       FR  2020  25382.0\n",
       "5       PT  2020  12696.0\n",
       "6       DE  2021  29106.0\n",
       "7       FR  2021  26075.0\n",
       "8       PT  2021  13113.0\n",
       "9       DE  2022  28569.0\n",
       "10      FR  2022  26419.0\n",
       "11      PT  2022  13148.0\n",
       "12      DE  2023  30308.0\n",
       "13      FR  2023  27577.0\n",
       "14      PT  2023  14368.0"
      ]
     },
     "execution_count": 19,
     "metadata": {},
     "output_type": "execute_result"
    }
   ],
   "source": [
    "income_tidy = income_df.melt(id_vars=\"Country\", var_name=\"Year\", value_name=\"Income\")\n",
    "income_tidy"
   ]
  },
  {
   "cell_type": "code",
   "execution_count": 20,
   "id": "ab8ddbdf-bc74-41da-ba29-594f6fcdae89",
   "metadata": {},
   "outputs": [
    {
     "data": {
      "text/plain": [
       "<Axes: xlabel='Year', ylabel='Income'>"
      ]
     },
     "execution_count": 20,
     "metadata": {},
     "output_type": "execute_result"
    },
    {
     "data": {
      "image/png": "[encoded data removed]",
      "text/plain": [
       "<Figure size 640x480 with 1 Axes>"
      ]
     },
     "metadata": {},
     "output_type": "display_data"
    }
   ],
   "source": [
    "sns.lineplot(data=income_tidy, x=\"Year\", y=\"Income\", hue=\"Country\", marker=\"*\")"
   ]
  },
  {
   "cell_type": "code",
   "execution_count": 21,
   "id": "0b9b0825-4cd1-4910-9d12-b1b7f406c84c",
   "metadata": {},
   "outputs": [
    {
     "data": {
      "image/png": "[encoded data removed]",
      "text/plain": [
       "<Figure size 900x600 with 1 Axes>"
      ]
     },
     "metadata": {},
     "output_type": "display_data"
    }
   ],
   "source": [
    "plt.figure(figsize=(9, 6))\n",
    "sns.lineplot(data=income_tidy, x=\"Year\", y=\"Income\", hue=\"Country\", marker=\"o\")\n",
    "plt.title(\"Income Trends for Germany, France and Portugal (2019-2023)\")\n",
    "plt.xlabel(\"Year\")\n",
    "plt.ylabel(\"Income (€)\")\n",
    "plt.show()"
   ]
  },
  {
   "cell_type": "code",
   "execution_count": 37,
   "id": "2dce9237-67ef-44a2-8952-bc2a5276afec",
   "metadata": {},
   "outputs": [
    {
     "data": {
      "text/html": [
       "<div>\n",
       "<style scoped>\n",
       "    .dataframe tbody tr th:only-of-type {\n",
       "        vertical-align: middle;\n",
       "    }\n",
       "\n",
       "    .dataframe tbody tr th {\n",
       "        vertical-align: top;\n",
       "    }\n",
       "\n",
       "    .dataframe thead th {\n",
       "        text-align: right;\n",
       "    }\n",
       "</style>\n",
       "<table border=\"1\" class=\"dataframe\">\n",
       "  <thead>\n",
       "    <tr style=\"text-align: right;\">\n",
       "      <th></th>\n",
       "      <th>Unnamed: 0</th>\n",
       "      <th>City</th>\n",
       "      <th>2019</th>\n",
       "      <th>2020</th>\n",
       "      <th>2021</th>\n",
       "      <th>2022</th>\n",
       "      <th>2023</th>\n",
       "      <th>2024</th>\n",
       "    </tr>\n",
       "  </thead>\n",
       "  <tbody>\n",
       "    <tr>\n",
       "      <th>0</th>\n",
       "      <td>1 bed apartment (rent)</td>\n",
       "      <td>Lisbon</td>\n",
       "      <td>894.00</td>\n",
       "      <td>843.29</td>\n",
       "      <td>868.30</td>\n",
       "      <td>1024.46</td>\n",
       "      <td>1259.74</td>\n",
       "      <td>1413.16</td>\n",
       "    </tr>\n",
       "    <tr>\n",
       "      <th>1</th>\n",
       "      <td>NaN</td>\n",
       "      <td>Berlin</td>\n",
       "      <td>905.53</td>\n",
       "      <td>889.28</td>\n",
       "      <td>1036.35</td>\n",
       "      <td>1237.16</td>\n",
       "      <td>1276.16</td>\n",
       "      <td>1186.62</td>\n",
       "    </tr>\n",
       "    <tr>\n",
       "      <th>2</th>\n",
       "      <td>NaN</td>\n",
       "      <td>Paris</td>\n",
       "      <td>1201.81</td>\n",
       "      <td>1222.21</td>\n",
       "      <td>1256.88</td>\n",
       "      <td>1273.16</td>\n",
       "      <td>1333.65</td>\n",
       "      <td>1258.63</td>\n",
       "    </tr>\n",
       "    <tr>\n",
       "      <th>3</th>\n",
       "      <td>3 bed apartment (rent)</td>\n",
       "      <td>Lisbon</td>\n",
       "      <td>1714.73</td>\n",
       "      <td>1590.85</td>\n",
       "      <td>1628.03</td>\n",
       "      <td>2039.40</td>\n",
       "      <td>2372.69</td>\n",
       "      <td>2642.11</td>\n",
       "    </tr>\n",
       "    <tr>\n",
       "      <th>4</th>\n",
       "      <td>NaN</td>\n",
       "      <td>Berlin</td>\n",
       "      <td>1717.16</td>\n",
       "      <td>1715.00</td>\n",
       "      <td>2038.62</td>\n",
       "      <td>2265.78</td>\n",
       "      <td>1879.18</td>\n",
       "      <td>2253.27</td>\n",
       "    </tr>\n",
       "    <tr>\n",
       "      <th>5</th>\n",
       "      <td>NaN</td>\n",
       "      <td>Paris</td>\n",
       "      <td>2660.91</td>\n",
       "      <td>2752.22</td>\n",
       "      <td>2660.99</td>\n",
       "      <td>2922.45</td>\n",
       "      <td>3013.00</td>\n",
       "      <td>3100.00</td>\n",
       "    </tr>\n",
       "    <tr>\n",
       "      <th>6</th>\n",
       "      <td>Buy apartment ( per m2 in city center)</td>\n",
       "      <td>Lisbon</td>\n",
       "      <td>4342.65</td>\n",
       "      <td>4422.10</td>\n",
       "      <td>4868.25</td>\n",
       "      <td>6097.94</td>\n",
       "      <td>5251.24</td>\n",
       "      <td>5979.57</td>\n",
       "    </tr>\n",
       "    <tr>\n",
       "      <th>7</th>\n",
       "      <td>NaN</td>\n",
       "      <td>Berlin</td>\n",
       "      <td>6193.00</td>\n",
       "      <td>5989.03</td>\n",
       "      <td>6872.62</td>\n",
       "      <td>8426.66</td>\n",
       "      <td>8147.85</td>\n",
       "      <td>7880.79</td>\n",
       "    </tr>\n",
       "    <tr>\n",
       "      <th>8</th>\n",
       "      <td>NaN</td>\n",
       "      <td>Paris</td>\n",
       "      <td>11508.28</td>\n",
       "      <td>12195.74</td>\n",
       "      <td>12520.70</td>\n",
       "      <td>12460.36</td>\n",
       "      <td>11844.44</td>\n",
       "      <td>12330.04</td>\n",
       "    </tr>\n",
       "    <tr>\n",
       "      <th>9</th>\n",
       "      <td>Av salary (after tax)</td>\n",
       "      <td>Lisbon</td>\n",
       "      <td>931.03</td>\n",
       "      <td>1028.22</td>\n",
       "      <td>1034.12</td>\n",
       "      <td>1062.71</td>\n",
       "      <td>1169.53</td>\n",
       "      <td>1235.38</td>\n",
       "    </tr>\n",
       "    <tr>\n",
       "      <th>10</th>\n",
       "      <td>NaN</td>\n",
       "      <td>Berlin</td>\n",
       "      <td>2360.33</td>\n",
       "      <td>2397.59</td>\n",
       "      <td>2971.54</td>\n",
       "      <td>2987.30</td>\n",
       "      <td>3128.02</td>\n",
       "      <td>2952.47</td>\n",
       "    </tr>\n",
       "    <tr>\n",
       "      <th>11</th>\n",
       "      <td>NaN</td>\n",
       "      <td>Paris</td>\n",
       "      <td>2308.96</td>\n",
       "      <td>2510.77</td>\n",
       "      <td>2791.18</td>\n",
       "      <td>2601.82</td>\n",
       "      <td>2846.41</td>\n",
       "      <td>3076.78</td>\n",
       "    </tr>\n",
       "  </tbody>\n",
       "</table>\n",
       "</div>"
      ],
      "text/plain": [
       "                                Unnamed: 0    City      2019      2020  \\\n",
       "0                   1 bed apartment (rent)  Lisbon    894.00    843.29   \n",
       "1                                      NaN  Berlin    905.53    889.28   \n",
       "2                                      NaN   Paris   1201.81   1222.21   \n",
       "3                   3 bed apartment (rent)  Lisbon   1714.73   1590.85   \n",
       "4                                      NaN  Berlin   1717.16   1715.00   \n",
       "5                                      NaN   Paris   2660.91   2752.22   \n",
       "6   Buy apartment ( per m2 in city center)  Lisbon   4342.65   4422.10   \n",
       "7                                      NaN  Berlin   6193.00   5989.03   \n",
       "8                                      NaN   Paris  11508.28  12195.74   \n",
       "9                    Av salary (after tax)  Lisbon    931.03   1028.22   \n",
       "10                                     NaN  Berlin   2360.33   2397.59   \n",
       "11                                     NaN   Paris   2308.96   2510.77   \n",
       "\n",
       "        2021      2022      2023      2024  \n",
       "0     868.30   1024.46   1259.74   1413.16  \n",
       "1    1036.35   1237.16   1276.16   1186.62  \n",
       "2    1256.88   1273.16   1333.65   1258.63  \n",
       "3    1628.03   2039.40   2372.69   2642.11  \n",
       "4    2038.62   2265.78   1879.18   2253.27  \n",
       "5    2660.99   2922.45   3013.00   3100.00  \n",
       "6    4868.25   6097.94   5251.24   5979.57  \n",
       "7    6872.62   8426.66   8147.85   7880.79  \n",
       "8   12520.70  12460.36  11844.44  12330.04  \n",
       "9    1034.12   1062.71   1169.53   1235.38  \n",
       "10   2971.54   2987.30   3128.02   2952.47  \n",
       "11   2791.18   2601.82   2846.41   3076.78  "
      ]
     },
     "execution_count": 37,
     "metadata": {},
     "output_type": "execute_result"
    }
   ],
   "source": [
    "cities = pd.read_excel(\"../data/raw/numbeo_stats.xlsx\", sheet_name=0)\n",
    "cities"
   ]
  },
  {
   "cell_type": "code",
   "execution_count": 177,
   "id": "4dbaae6c-9806-4d38-ab81-d21df838ee82",
   "metadata": {},
   "outputs": [
    {
     "data": {
      "text/html": [
       "<div>\n",
       "<style scoped>\n",
       "    .dataframe tbody tr th:only-of-type {\n",
       "        vertical-align: middle;\n",
       "    }\n",
       "\n",
       "    .dataframe tbody tr th {\n",
       "        vertical-align: top;\n",
       "    }\n",
       "\n",
       "    .dataframe thead th {\n",
       "        text-align: right;\n",
       "    }\n",
       "</style>\n",
       "<table border=\"1\" class=\"dataframe\">\n",
       "  <thead>\n",
       "    <tr style=\"text-align: right;\">\n",
       "      <th></th>\n",
       "      <th>Unnamed: 0</th>\n",
       "      <th>Country</th>\n",
       "      <th>2019</th>\n",
       "      <th>2020</th>\n",
       "      <th>2021</th>\n",
       "      <th>2022</th>\n",
       "      <th>2023</th>\n",
       "      <th>2024</th>\n",
       "    </tr>\n",
       "  </thead>\n",
       "  <tbody>\n",
       "    <tr>\n",
       "      <th>0</th>\n",
       "      <td>1 bed apartment (rent)</td>\n",
       "      <td>PT</td>\n",
       "      <td>727.16</td>\n",
       "      <td>690.16</td>\n",
       "      <td>677.24</td>\n",
       "      <td>802.66</td>\n",
       "      <td>967.85</td>\n",
       "      <td>925.52</td>\n",
       "    </tr>\n",
       "    <tr>\n",
       "      <th>1</th>\n",
       "      <td>NaN</td>\n",
       "      <td>DE</td>\n",
       "      <td>833.65</td>\n",
       "      <td>844.54</td>\n",
       "      <td>850.07</td>\n",
       "      <td>908.01</td>\n",
       "      <td>986.39</td>\n",
       "      <td>886.44</td>\n",
       "    </tr>\n",
       "    <tr>\n",
       "      <th>2</th>\n",
       "      <td>NaN</td>\n",
       "      <td>FR</td>\n",
       "      <td>827.61</td>\n",
       "      <td>848.22</td>\n",
       "      <td>820.06</td>\n",
       "      <td>820.66</td>\n",
       "      <td>862.08</td>\n",
       "      <td>754.73</td>\n",
       "    </tr>\n",
       "    <tr>\n",
       "      <th>3</th>\n",
       "      <td>3 bed apartment (rent)</td>\n",
       "      <td>PT</td>\n",
       "      <td>1374.06</td>\n",
       "      <td>1196.87</td>\n",
       "      <td>1216.46</td>\n",
       "      <td>1396.72</td>\n",
       "      <td>1734.01</td>\n",
       "      <td>1632.07</td>\n",
       "    </tr>\n",
       "    <tr>\n",
       "      <th>4</th>\n",
       "      <td>NaN</td>\n",
       "      <td>DE</td>\n",
       "      <td>1574.66</td>\n",
       "      <td>1632.03</td>\n",
       "      <td>1675.07</td>\n",
       "      <td>1687.72</td>\n",
       "      <td>1824.63</td>\n",
       "      <td>1259.65</td>\n",
       "    </tr>\n",
       "    <tr>\n",
       "      <th>5</th>\n",
       "      <td>NaN</td>\n",
       "      <td>FR</td>\n",
       "      <td>1656.09</td>\n",
       "      <td>1742.43</td>\n",
       "      <td>1512.53</td>\n",
       "      <td>1651.85</td>\n",
       "      <td>1619.44</td>\n",
       "      <td>1126.74</td>\n",
       "    </tr>\n",
       "    <tr>\n",
       "      <th>6</th>\n",
       "      <td>Buy apartment ( per m2 in city center)</td>\n",
       "      <td>PT</td>\n",
       "      <td>3181.63</td>\n",
       "      <td>3171.13</td>\n",
       "      <td>3284.32</td>\n",
       "      <td>3071.82</td>\n",
       "      <td>3418.93</td>\n",
       "      <td>3473.81</td>\n",
       "    </tr>\n",
       "    <tr>\n",
       "      <th>7</th>\n",
       "      <td>NaN</td>\n",
       "      <td>DE</td>\n",
       "      <td>5930.62</td>\n",
       "      <td>6226.27</td>\n",
       "      <td>6663.72</td>\n",
       "      <td>6516.65</td>\n",
       "      <td>6782.66</td>\n",
       "      <td>5717.90</td>\n",
       "    </tr>\n",
       "    <tr>\n",
       "      <th>8</th>\n",
       "      <td>NaN</td>\n",
       "      <td>FR</td>\n",
       "      <td>8306.39</td>\n",
       "      <td>8919.73</td>\n",
       "      <td>6900.37</td>\n",
       "      <td>7471.86</td>\n",
       "      <td>6 201.12</td>\n",
       "      <td>5818.93</td>\n",
       "    </tr>\n",
       "    <tr>\n",
       "      <th>9</th>\n",
       "      <td>Av salary (after tax)</td>\n",
       "      <td>PT</td>\n",
       "      <td>885.56</td>\n",
       "      <td>897.57</td>\n",
       "      <td>923.04</td>\n",
       "      <td>1012.24</td>\n",
       "      <td>1064.03</td>\n",
       "      <td>1037.11</td>\n",
       "    </tr>\n",
       "    <tr>\n",
       "      <th>10</th>\n",
       "      <td>NaN</td>\n",
       "      <td>DE</td>\n",
       "      <td>2355.41</td>\n",
       "      <td>2524.62</td>\n",
       "      <td>2819.95</td>\n",
       "      <td>2814.30</td>\n",
       "      <td>3018.04</td>\n",
       "      <td>2806.37</td>\n",
       "    </tr>\n",
       "    <tr>\n",
       "      <th>11</th>\n",
       "      <td>NaN</td>\n",
       "      <td>FR</td>\n",
       "      <td>2061.50</td>\n",
       "      <td>2222.49</td>\n",
       "      <td>2405.39</td>\n",
       "      <td>2269.04</td>\n",
       "      <td>2578.74</td>\n",
       "      <td>2343.19</td>\n",
       "    </tr>\n",
       "    <tr>\n",
       "      <th>12</th>\n",
       "      <td>Min wage (after tax)</td>\n",
       "      <td>PT</td>\n",
       "      <td>600.00</td>\n",
       "      <td>635.00</td>\n",
       "      <td>665.00</td>\n",
       "      <td>705.00</td>\n",
       "      <td>760.00</td>\n",
       "      <td>820.00</td>\n",
       "    </tr>\n",
       "    <tr>\n",
       "      <th>13</th>\n",
       "      <td>NaN</td>\n",
       "      <td>DE</td>\n",
       "      <td>1249.84</td>\n",
       "      <td>1271.60</td>\n",
       "      <td>1305.60</td>\n",
       "      <td>1345.55</td>\n",
       "      <td>1684.8</td>\n",
       "      <td>1742.31</td>\n",
       "    </tr>\n",
       "    <tr>\n",
       "      <th>14</th>\n",
       "      <td>NaN</td>\n",
       "      <td>FR</td>\n",
       "      <td>1232.18</td>\n",
       "      <td>1246.93</td>\n",
       "      <td>1287.47</td>\n",
       "      <td>1359.95</td>\n",
       "      <td>1 415.23</td>\n",
       "      <td>1531.53</td>\n",
       "    </tr>\n",
       "  </tbody>\n",
       "</table>\n",
       "</div>"
      ],
      "text/plain": [
       "                                Unnamed: 0 Country     2019     2020     2021  \\\n",
       "0                   1 bed apartment (rent)      PT   727.16   690.16   677.24   \n",
       "1                                      NaN      DE   833.65   844.54   850.07   \n",
       "2                                      NaN      FR   827.61   848.22   820.06   \n",
       "3                   3 bed apartment (rent)      PT  1374.06  1196.87  1216.46   \n",
       "4                                      NaN      DE  1574.66  1632.03  1675.07   \n",
       "5                                      NaN      FR  1656.09  1742.43  1512.53   \n",
       "6   Buy apartment ( per m2 in city center)      PT  3181.63  3171.13  3284.32   \n",
       "7                                      NaN      DE  5930.62  6226.27  6663.72   \n",
       "8                                      NaN      FR  8306.39  8919.73  6900.37   \n",
       "9                    Av salary (after tax)      PT   885.56   897.57   923.04   \n",
       "10                                     NaN      DE  2355.41  2524.62  2819.95   \n",
       "11                                     NaN      FR  2061.50  2222.49  2405.39   \n",
       "12                    Min wage (after tax)      PT   600.00   635.00   665.00   \n",
       "13                                     NaN      DE  1249.84  1271.60  1305.60   \n",
       "14                                     NaN      FR  1232.18  1246.93  1287.47   \n",
       "\n",
       "       2022      2023     2024  \n",
       "0    802.66    967.85   925.52  \n",
       "1    908.01    986.39   886.44  \n",
       "2    820.66    862.08   754.73  \n",
       "3   1396.72   1734.01  1632.07  \n",
       "4   1687.72   1824.63  1259.65  \n",
       "5   1651.85   1619.44  1126.74  \n",
       "6   3071.82   3418.93  3473.81  \n",
       "7   6516.65   6782.66  5717.90  \n",
       "8   7471.86  6 201.12  5818.93  \n",
       "9   1012.24   1064.03  1037.11  \n",
       "10  2814.30   3018.04  2806.37  \n",
       "11  2269.04   2578.74  2343.19  \n",
       "12   705.00    760.00   820.00  \n",
       "13  1345.55    1684.8  1742.31  \n",
       "14  1359.95  1 415.23  1531.53  "
      ]
     },
     "execution_count": 177,
     "metadata": {},
     "output_type": "execute_result"
    }
   ],
   "source": [
    "countries = pd.read_excel(\"../data/raw/numbeo_stats.xlsx\", sheet_name=1)\n",
    "countries.columns = countries.columns.str.strip()\n",
    "countries"
   ]
  },
  {
   "cell_type": "code",
   "execution_count": 58,
   "id": "12eb41d3-2b81-44d1-a8c1-6ac9efd5139e",
   "metadata": {},
   "outputs": [],
   "source": [
    "cities.rename(columns={\"Unnamed: 0\": \"Type\"}, inplace = True)"
   ]
  },
  {
   "cell_type": "code",
   "execution_count": 183,
   "id": "eb4d0b60-6b0b-47ab-b422-1b9577d0e4e4",
   "metadata": {},
   "outputs": [],
   "source": [
    "countries.rename(columns={\"Unnamed: 0\": \"Type\"}, inplace = True)"
   ]
  },
  {
   "cell_type": "code",
   "execution_count": 217,
   "id": "306c4ccd-dfc9-4c62-96c8-8f634170930c",
   "metadata": {},
   "outputs": [],
   "source": [
    "def clean_countries(countries):\n",
    "    countries = pd.read_excel(\"../data/raw/numbeo_stats.xlsx\", sheet_name=1)\n",
    "    countries.columns = countries.columns.str.strip()\n",
    "    countries.rename(columns={\"Unnamed: 0\": \"Type\"}, inplace = True)\n",
    "\n",
    "    countries.loc[[1,2],\"Type\"] = '1 bed apartment (rent)'\n",
    "    countries.loc[[4,5], 'Type'] = '3 bed apartment (rent)'\n",
    "    countries.loc[[6,7,8], 'Type'] = 'Buy apartment (per m2 in city center)'\n",
    "    countries.loc[[10,11], 'Type'] = 'Av salary (after tax)'\n",
    "    countries.loc[[13,14], 'Type'] = 'Min wage (after tax)'\n",
    "        \n",
    "    return countries"
   ]
  },
  {
   "cell_type": "code",
   "execution_count": 219,
   "id": "7df3f168-0c58-4f81-a19a-f409fe40a99b",
   "metadata": {},
   "outputs": [
    {
     "data": {
      "text/html": [
       "<div>\n",
       "<style scoped>\n",
       "    .dataframe tbody tr th:only-of-type {\n",
       "        vertical-align: middle;\n",
       "    }\n",
       "\n",
       "    .dataframe tbody tr th {\n",
       "        vertical-align: top;\n",
       "    }\n",
       "\n",
       "    .dataframe thead th {\n",
       "        text-align: right;\n",
       "    }\n",
       "</style>\n",
       "<table border=\"1\" class=\"dataframe\">\n",
       "  <thead>\n",
       "    <tr style=\"text-align: right;\">\n",
       "      <th></th>\n",
       "      <th>Type</th>\n",
       "      <th>Country</th>\n",
       "      <th>2019</th>\n",
       "      <th>2020</th>\n",
       "      <th>2021</th>\n",
       "      <th>2022</th>\n",
       "      <th>2023</th>\n",
       "      <th>2024</th>\n",
       "    </tr>\n",
       "  </thead>\n",
       "  <tbody>\n",
       "    <tr>\n",
       "      <th>0</th>\n",
       "      <td>1 bed apartment (rent)</td>\n",
       "      <td>PT</td>\n",
       "      <td>727.16</td>\n",
       "      <td>690.16</td>\n",
       "      <td>677.24</td>\n",
       "      <td>802.66</td>\n",
       "      <td>967.85</td>\n",
       "      <td>925.52</td>\n",
       "    </tr>\n",
       "    <tr>\n",
       "      <th>1</th>\n",
       "      <td>1 bed apartment (rent)</td>\n",
       "      <td>DE</td>\n",
       "      <td>833.65</td>\n",
       "      <td>844.54</td>\n",
       "      <td>850.07</td>\n",
       "      <td>908.01</td>\n",
       "      <td>986.39</td>\n",
       "      <td>886.44</td>\n",
       "    </tr>\n",
       "    <tr>\n",
       "      <th>2</th>\n",
       "      <td>1 bed apartment (rent)</td>\n",
       "      <td>FR</td>\n",
       "      <td>827.61</td>\n",
       "      <td>848.22</td>\n",
       "      <td>820.06</td>\n",
       "      <td>820.66</td>\n",
       "      <td>862.08</td>\n",
       "      <td>754.73</td>\n",
       "    </tr>\n",
       "  </tbody>\n",
       "</table>\n",
       "</div>"
      ],
      "text/plain": [
       "                     Type Country    2019    2020    2021    2022    2023  \\\n",
       "0  1 bed apartment (rent)      PT  727.16  690.16  677.24  802.66  967.85   \n",
       "1  1 bed apartment (rent)      DE  833.65  844.54  850.07  908.01  986.39   \n",
       "2  1 bed apartment (rent)      FR  827.61  848.22  820.06  820.66  862.08   \n",
       "\n",
       "     2024  \n",
       "0  925.52  \n",
       "1  886.44  \n",
       "2  754.73  "
      ]
     },
     "execution_count": 219,
     "metadata": {},
     "output_type": "execute_result"
    }
   ],
   "source": [
    "countries = clean_countries(countries)\n",
    "one_bed_apt = countries[countries[\"Type\"] == \"1 bed apartment (rent)\"]\n",
    "one_bed_apt"
   ]
  },
  {
   "cell_type": "code",
   "execution_count": 223,
   "id": "0e991b87-3128-4c64-901a-acc8195b5e1b",
   "metadata": {},
   "outputs": [],
   "source": [
    "one_bed_apt_melted = one_bed_apt.melt(id_vars=[\"Type\", \"Country\"], var_name=\"Year\", value_name=\"Value\")\n",
    "one_bed_apt_melted[\"Year\"] = one_bed_apt_melted[\"Year\"].astype(int)"
   ]
  },
  {
   "cell_type": "code",
   "execution_count": 231,
   "id": "587b6fad-b2bb-46d2-8ace-4b12284d4d21",
   "metadata": {},
   "outputs": [
    {
     "data": {
      "application/vnd.plotly.v1+json": {
       "config": {
        "plotlyServerURL": "https://plot.ly"
       },
       "data": [
        {
         "hovertemplate": "Country=PT<br>Type=1 bed apartment (rent)<br>Year=%{x}<br>Value=%{y}<extra></extra>",
         "legendgroup": "PT",
         "line": {
          "color": "#636efa",
          "dash": "solid"
         },
         "marker": {
          "symbol": "circle"
         },
         "mode": "lines+markers",
         "name": "PT",
         "orientation": "h",
         "showlegend": true,
         "type": "scatter",
         "x": [
          2019,
          2020,
          2021,
          2022,
          2023,
          2024
         ],
         "xaxis": "x",
         "y": [
          727.16,
          690.16,
          677.24,
          802.66,
          "967.85",
          925.52
         ],
         "yaxis": "y"
        },
        {
         "hovertemplate": "Country=DE<br>Type=1 bed apartment (rent)<br>Year=%{x}<br>Value=%{y}<extra></extra>",
         "legendgroup": "DE",
         "line": {
          "color": "#EF553B",
          "dash": "solid"
         },
         "marker": {
          "symbol": "circle"
         },
         "mode": "lines+markers",
         "name": "DE",
         "orientation": "h",
         "showlegend": true,
         "type": "scatter",
         "x": [
          2019,
          2020,
          2021,
          2022,
          2023,
          2024
         ],
         "xaxis": "x",
         "y": [
          833.65,
          844.54,
          850.07,
          908.01,
          "986.39",
          886.44
         ],
         "yaxis": "y"
        },
        {
         "hovertemplate": "Country=FR<br>Type=1 bed apartment (rent)<br>Year=%{x}<br>Value=%{y}<extra></extra>",
         "legendgroup": "FR",
         "line": {
          "color": "#00cc96",
          "dash": "solid"
         },
         "marker": {
          "symbol": "circle"
         },
         "mode": "lines+markers",
         "name": "FR",
         "orientation": "h",
         "showlegend": true,
         "type": "scatter",
         "x": [
          2019,
          2020,
          2021,
          2022,
          2023,
          2024
         ],
         "xaxis": "x",
         "y": [
          827.61,
          848.22,
          820.06,
          820.66,
          "862.08",
          754.73
         ],
         "yaxis": "y"
        }
       ],
       "layout": {
        "annotations": [
         {
          "font": {},
          "showarrow": false,
          "text": "Type=1 bed apartment (rent)",
          "x": 0.5,
          "xanchor": "center",
          "xref": "paper",
          "y": 1,
          "yanchor": "bottom",
          "yref": "paper"
         }
        ],
        "autosize": true,
        "legend": {
         "title": {
          "text": "Country"
         },
         "tracegroupgap": 0
        },
        "margin": {
         "t": 60
        },
        "template": {
         "data": {
          "bar": [
           {
            "error_x": {
             "color": "#2a3f5f"
            },
            "error_y": {
             "color": "#2a3f5f"
            },
            "marker": {
             "line": {
              "color": "#E5ECF6",
              "width": 0.5
             },
             "pattern": {
              "fillmode": "overlay",
              "size": 10,
              "solidity": 0.2
             }
            },
            "type": "bar"
           }
          ],
          "barpolar": [
           {
            "marker": {
             "line": {
              "color": "#E5ECF6",
              "width": 0.5
             },
             "pattern": {
              "fillmode": "overlay",
              "size": 10,
              "solidity": 0.2
             }
            },
            "type": "barpolar"
           }
          ],
          "carpet": [
           {
            "aaxis": {
             "endlinecolor": "#2a3f5f",
             "gridcolor": "white",
             "linecolor": "white",
             "minorgridcolor": "white",
             "startlinecolor": "#2a3f5f"
            },
            "baxis": {
             "endlinecolor": "#2a3f5f",
             "gridcolor": "white",
             "linecolor": "white",
             "minorgridcolor": "white",
             "startlinecolor": "#2a3f5f"
            },
            "type": "carpet"
           }
          ],
          "choropleth": [
           {
            "colorbar": {
             "outlinewidth": 0,
             "ticks": ""
            },
            "type": "choropleth"
           }
          ],
          "contour": [
           {
            "colorbar": {
             "outlinewidth": 0,
             "ticks": ""
            },
            "colorscale": [
             [
              0,
              "#0d0887"
             ],
             [
              0.1111111111111111,
              "#46039f"
             ],
             [
              0.2222222222222222,
              "#7201a8"
             ],
             [
              0.3333333333333333,
              "#9c179e"
             ],
             [
              0.4444444444444444,
              "#bd3786"
             ],
             [
              0.5555555555555556,
              "#d8576b"
             ],
             [
              0.6666666666666666,
              "#ed7953"
             ],
             [
              0.7777777777777778,
              "#fb9f3a"
             ],
             [
              0.8888888888888888,
              "#fdca26"
             ],
             [
              1,
              "#f0f921"
             ]
            ],
            "type": "contour"
           }
          ],
          "contourcarpet": [
           {
            "colorbar": {
             "outlinewidth": 0,
             "ticks": ""
            },
            "type": "contourcarpet"
           }
          ],
          "heatmap": [
           {
            "colorbar": {
             "outlinewidth": 0,
             "ticks": ""
            },
            "colorscale": [
             [
              0,
              "#0d0887"
             ],
             [
              0.1111111111111111,
              "#46039f"
             ],
             [
              0.2222222222222222,
              "#7201a8"
             ],
             [
              0.3333333333333333,
              "#9c179e"
             ],
             [
              0.4444444444444444,
              "#bd3786"
             ],
             [
              0.5555555555555556,
              "#d8576b"
             ],
             [
              0.6666666666666666,
              "#ed7953"
             ],
             [
              0.7777777777777778,
              "#fb9f3a"
             ],
             [
              0.8888888888888888,
              "#fdca26"
             ],
             [
              1,
              "#f0f921"
             ]
            ],
            "type": "heatmap"
           }
          ],
          "heatmapgl": [
           {
            "colorbar": {
             "outlinewidth": 0,
             "ticks": ""
            },
            "colorscale": [
             [
              0,
              "#0d0887"
             ],
             [
              0.1111111111111111,
              "#46039f"
             ],
             [
              0.2222222222222222,
              "#7201a8"
             ],
             [
              0.3333333333333333,
              "#9c179e"
             ],
             [
              0.4444444444444444,
              "#bd3786"
             ],
             [
              0.5555555555555556,
              "#d8576b"
             ],
             [
              0.6666666666666666,
              "#ed7953"
             ],
             [
              0.7777777777777778,
              "#fb9f3a"
             ],
             [
              0.8888888888888888,
              "#fdca26"
             ],
             [
              1,
              "#f0f921"
             ]
            ],
            "type": "heatmapgl"
           }
          ],
          "histogram": [
           {
            "marker": {
             "pattern": {
              "fillmode": "overlay",
              "size": 10,
              "solidity": 0.2
             }
            },
            "type": "histogram"
           }
          ],
          "histogram2d": [
           {
            "colorbar": {
             "outlinewidth": 0,
             "ticks": ""
            },
            "colorscale": [
             [
              0,
              "#0d0887"
             ],
             [
              0.1111111111111111,
              "#46039f"
             ],
             [
              0.2222222222222222,
              "#7201a8"
             ],
             [
              0.3333333333333333,
              "#9c179e"
             ],
             [
              0.4444444444444444,
              "#bd3786"
             ],
             [
              0.5555555555555556,
              "#d8576b"
             ],
             [
              0.6666666666666666,
              "#ed7953"
             ],
             [
              0.7777777777777778,
              "#fb9f3a"
             ],
             [
              0.8888888888888888,
              "#fdca26"
             ],
             [
              1,
              "#f0f921"
             ]
            ],
            "type": "histogram2d"
           }
          ],
          "histogram2dcontour": [
           {
            "colorbar": {
             "outlinewidth": 0,
             "ticks": ""
            },
            "colorscale": [
             [
              0,
              "#0d0887"
             ],
             [
              0.1111111111111111,
              "#46039f"
             ],
             [
              0.2222222222222222,
              "#7201a8"
             ],
             [
              0.3333333333333333,
              "#9c179e"
             ],
             [
              0.4444444444444444,
              "#bd3786"
             ],
             [
              0.5555555555555556,
              "#d8576b"
             ],
             [
              0.6666666666666666,
              "#ed7953"
             ],
             [
              0.7777777777777778,
              "#fb9f3a"
             ],
             [
              0.8888888888888888,
              "#fdca26"
             ],
             [
              1,
              "#f0f921"
             ]
            ],
            "type": "histogram2dcontour"
           }
          ],
          "mesh3d": [
           {
            "colorbar": {
             "outlinewidth": 0,
             "ticks": ""
            },
            "type": "mesh3d"
           }
          ],
          "parcoords": [
           {
            "line": {
             "colorbar": {
              "outlinewidth": 0,
              "ticks": ""
             }
            },
            "type": "parcoords"
           }
          ],
          "pie": [
           {
            "automargin": true,
            "type": "pie"
           }
          ],
          "scatter": [
           {
            "fillpattern": {
             "fillmode": "overlay",
             "size": 10,
             "solidity": 0.2
            },
            "type": "scatter"
           }
          ],
          "scatter3d": [
           {
            "line": {
             "colorbar": {
              "outlinewidth": 0,
              "ticks": ""
             }
            },
            "marker": {
             "colorbar": {
              "outlinewidth": 0,
              "ticks": ""
             }
            },
            "type": "scatter3d"
           }
          ],
          "scattercarpet": [
           {
            "marker": {
             "colorbar": {
              "outlinewidth": 0,
              "ticks": ""
             }
            },
            "type": "scattercarpet"
           }
          ],
          "scattergeo": [
           {
            "marker": {
             "colorbar": {
              "outlinewidth": 0,
              "ticks": ""
             }
            },
            "type": "scattergeo"
           }
          ],
          "scattergl": [
           {
            "marker": {
             "colorbar": {
              "outlinewidth": 0,
              "ticks": ""
             }
            },
            "type": "scattergl"
           }
          ],
          "scattermapbox": [
           {
            "marker": {
             "colorbar": {
              "outlinewidth": 0,
              "ticks": ""
             }
            },
            "type": "scattermapbox"
           }
          ],
          "scatterpolar": [
           {
            "marker": {
             "colorbar": {
              "outlinewidth": 0,
              "ticks": ""
             }
            },
            "type": "scatterpolar"
           }
          ],
          "scatterpolargl": [
           {
            "marker": {
             "colorbar": {
              "outlinewidth": 0,
              "ticks": ""
             }
            },
            "type": "scatterpolargl"
           }
          ],
          "scatterternary": [
           {
            "marker": {
             "colorbar": {
              "outlinewidth": 0,
              "ticks": ""
             }
            },
            "type": "scatterternary"
           }
          ],
          "surface": [
           {
            "colorbar": {
             "outlinewidth": 0,
             "ticks": ""
            },
            "colorscale": [
             [
              0,
              "#0d0887"
             ],
             [
              0.1111111111111111,
              "#46039f"
             ],
             [
              0.2222222222222222,
              "#7201a8"
             ],
             [
              0.3333333333333333,
              "#9c179e"
             ],
             [
              0.4444444444444444,
              "#bd3786"
             ],
             [
              0.5555555555555556,
              "#d8576b"
             ],
             [
              0.6666666666666666,
              "#ed7953"
             ],
             [
              0.7777777777777778,
              "#fb9f3a"
             ],
             [
              0.8888888888888888,
              "#fdca26"
             ],
             [
              1,
              "#f0f921"
             ]
            ],
            "type": "surface"
           }
          ],
          "table": [
           {
            "cells": {
             "fill": {
              "color": "#EBF0F8"
             },
             "line": {
              "color": "white"
             }
            },
            "header": {
             "fill": {
              "color": "#C8D4E3"
             },
             "line": {
              "color": "white"
             }
            },
            "type": "table"
           }
          ]
         },
         "layout": {
          "annotationdefaults": {
           "arrowcolor": "#2a3f5f",
           "arrowhead": 0,
           "arrowwidth": 1
          },
          "autotypenumbers": "strict",
          "coloraxis": {
           "colorbar": {
            "outlinewidth": 0,
            "ticks": ""
           }
          },
          "colorscale": {
           "diverging": [
            [
             0,
             "#8e0152"
            ],
            [
             0.1,
             "#c51b7d"
            ],
            [
             0.2,
             "#de77ae"
            ],
            [
             0.3,
             "#f1b6da"
            ],
            [
             0.4,
             "#fde0ef"
            ],
            [
             0.5,
             "#f7f7f7"
            ],
            [
             0.6,
             "#e6f5d0"
            ],
            [
             0.7,
             "#b8e186"
            ],
            [
             0.8,
             "#7fbc41"
            ],
            [
             0.9,
             "#4d9221"
            ],
            [
             1,
             "#276419"
            ]
           ],
           "sequential": [
            [
             0,
             "#0d0887"
            ],
            [
             0.1111111111111111,
             "#46039f"
            ],
            [
             0.2222222222222222,
             "#7201a8"
            ],
            [
             0.3333333333333333,
             "#9c179e"
            ],
            [
             0.4444444444444444,
             "#bd3786"
            ],
            [
             0.5555555555555556,
             "#d8576b"
            ],
            [
             0.6666666666666666,
             "#ed7953"
            ],
            [
             0.7777777777777778,
             "#fb9f3a"
            ],
            [
             0.8888888888888888,
             "#fdca26"
            ],
            [
             1,
             "#f0f921"
            ]
           ],
           "sequentialminus": [
            [
             0,
             "#0d0887"
            ],
            [
             0.1111111111111111,
             "#46039f"
            ],
            [
             0.2222222222222222,
             "#7201a8"
            ],
            [
             0.3333333333333333,
             "#9c179e"
            ],
            [
             0.4444444444444444,
             "#bd3786"
            ],
            [
             0.5555555555555556,
             "#d8576b"
            ],
            [
             0.6666666666666666,
             "#ed7953"
            ],
            [
             0.7777777777777778,
             "#fb9f3a"
            ],
            [
             0.8888888888888888,
             "#fdca26"
            ],
            [
             1,
             "#f0f921"
            ]
           ]
          },
          "colorway": [
           "#636efa",
           "#EF553B",
           "#00cc96",
           "#ab63fa",
           "#FFA15A",
           "#19d3f3",
           "#FF6692",
           "#B6E880",
           "#FF97FF",
           "#FECB52"
          ],
          "font": {
           "color": "#2a3f5f"
          },
          "geo": {
           "bgcolor": "white",
           "lakecolor": "white",
           "landcolor": "#E5ECF6",
           "showlakes": true,
           "showland": true,
           "subunitcolor": "white"
          },
          "hoverlabel": {
           "align": "left"
          },
          "hovermode": "closest",
          "mapbox": {
           "style": "light"
          },
          "paper_bgcolor": "white",
          "plot_bgcolor": "#E5ECF6",
          "polar": {
           "angularaxis": {
            "gridcolor": "white",
            "linecolor": "white",
            "ticks": ""
           },
           "bgcolor": "#E5ECF6",
           "radialaxis": {
            "gridcolor": "white",
            "linecolor": "white",
            "ticks": ""
           }
          },
          "scene": {
           "xaxis": {
            "backgroundcolor": "#E5ECF6",
            "gridcolor": "white",
            "gridwidth": 2,
            "linecolor": "white",
            "showbackground": true,
            "ticks": "",
            "zerolinecolor": "white"
           },
           "yaxis": {
            "backgroundcolor": "#E5ECF6",
            "gridcolor": "white",
            "gridwidth": 2,
            "linecolor": "white",
            "showbackground": true,
            "ticks": "",
            "zerolinecolor": "white"
           },
           "zaxis": {
            "backgroundcolor": "#E5ECF6",
            "gridcolor": "white",
            "gridwidth": 2,
            "linecolor": "white",
            "showbackground": true,
            "ticks": "",
            "zerolinecolor": "white"
           }
          },
          "shapedefaults": {
           "line": {
            "color": "#2a3f5f"
           }
          },
          "ternary": {
           "aaxis": {
            "gridcolor": "white",
            "linecolor": "white",
            "ticks": ""
           },
           "baxis": {
            "gridcolor": "white",
            "linecolor": "white",
            "ticks": ""
           },
           "bgcolor": "#E5ECF6",
           "caxis": {
            "gridcolor": "white",
            "linecolor": "white",
            "ticks": ""
           }
          },
          "title": {
           "x": 0.05
          },
          "xaxis": {
           "automargin": true,
           "gridcolor": "white",
           "linecolor": "white",
           "ticks": "",
           "title": {
            "standoff": 15
           },
           "zerolinecolor": "white",
           "zerolinewidth": 2
          },
          "yaxis": {
           "automargin": true,
           "gridcolor": "white",
           "linecolor": "white",
           "ticks": "",
           "title": {
            "standoff": 15
           },
           "zerolinecolor": "white",
           "zerolinewidth": 2
          }
         }
        },
        "xaxis": {
         "anchor": "y",
         "autorange": true,
         "domain": [
          0,
          1
         ],
         "range": [
          2018.6860908775582,
          2024.3139091224418
         ],
         "title": {
          "text": "Year"
         },
         "type": "linear"
        },
        "yaxis": {
         "anchor": "x",
         "autorange": true,
         "domain": [
          0,
          1
         ],
         "range": [
          653.303188976378,
          1010.326811023622
         ],
         "title": {
          "text": "Value"
         },
         "type": "linear"
        }
       }
      },
      "image/png": "[encoded data removed]",
      "text/html": [
       "<div>                            <div id=\"77266310-2078-41c2-bfae-9b2e796d0a9c\" class=\"plotly-graph-div\" style=\"height:525px; width:100%;\"></div>            <script type=\"text/javascript\">                require([\"plotly\"], function(Plotly) {                    window.PLOTLYENV=window.PLOTLYENV || {};                                    if (document.getElementById(\"77266310-2078-41c2-bfae-9b2e796d0a9c\")) {                    Plotly.newPlot(                        \"77266310-2078-41c2-bfae-9b2e796d0a9c\",                        [{\"hovertemplate\":\"Country=PT\\u003cbr\\u003eType=1 bed apartment (rent)\\u003cbr\\u003eYear=%{x}\\u003cbr\\u003eValue=%{y}\\u003cextra\\u003e\\u003c\\u002fextra\\u003e\",\"legendgroup\":\"PT\",\"line\":{\"color\":\"#636efa\",\"dash\":\"solid\"},\"marker\":{\"symbol\":\"circle\"},\"mode\":\"lines+markers\",\"name\":\"PT\",\"orientation\":\"h\",\"showlegend\":true,\"x\":[2019,2020,2021,2022,2023,2024],\"xaxis\":\"x\",\"y\":[727.16,690.16,677.24,802.66,\"967.85\",925.52],\"yaxis\":\"y\",\"type\":\"scatter\"},{\"hovertemplate\":\"Country=DE\\u003cbr\\u003eType=1 bed apartment (rent)\\u003cbr\\u003eYear=%{x}\\u003cbr\\u003eValue=%{y}\\u003cextra\\u003e\\u003c\\u002fextra\\u003e\",\"legendgroup\":\"DE\",\"line\":{\"color\":\"#EF553B\",\"dash\":\"solid\"},\"marker\":{\"symbol\":\"circle\"},\"mode\":\"lines+markers\",\"name\":\"DE\",\"orientation\":\"h\",\"showlegend\":true,\"x\":[2019,2020,2021,2022,2023,2024],\"xaxis\":\"x\",\"y\":[833.65,844.54,850.07,908.01,\"986.39\",886.44],\"yaxis\":\"y\",\"type\":\"scatter\"},{\"hovertemplate\":\"Country=FR\\u003cbr\\u003eType=1 bed apartment (rent)\\u003cbr\\u003eYear=%{x}\\u003cbr\\u003eValue=%{y}\\u003cextra\\u003e\\u003c\\u002fextra\\u003e\",\"legendgroup\":\"FR\",\"line\":{\"color\":\"#00cc96\",\"dash\":\"solid\"},\"marker\":{\"symbol\":\"circle\"},\"mode\":\"lines+markers\",\"name\":\"FR\",\"orientation\":\"h\",\"showlegend\":true,\"x\":[2019,2020,2021,2022,2023,2024],\"xaxis\":\"x\",\"y\":[827.61,848.22,820.06,820.66,\"862.08\",754.73],\"yaxis\":\"y\",\"type\":\"scatter\"}],                        {\"template\":{\"data\":{\"histogram2dcontour\":[{\"type\":\"histogram2dcontour\",\"colorbar\":{\"outlinewidth\":0,\"ticks\":\"\"},\"colorscale\":[[0.0,\"#0d0887\"],[0.1111111111111111,\"#46039f\"],[0.2222222222222222,\"#7201a8\"],[0.3333333333333333,\"#9c179e\"],[0.4444444444444444,\"#bd3786\"],[0.5555555555555556,\"#d8576b\"],[0.6666666666666666,\"#ed7953\"],[0.7777777777777778,\"#fb9f3a\"],[0.8888888888888888,\"#fdca26\"],[1.0,\"#f0f921\"]]}],\"choropleth\":[{\"type\":\"choropleth\",\"colorbar\":{\"outlinewidth\":0,\"ticks\":\"\"}}],\"histogram2d\":[{\"type\":\"histogram2d\",\"colorbar\":{\"outlinewidth\":0,\"ticks\":\"\"},\"colorscale\":[[0.0,\"#0d0887\"],[0.1111111111111111,\"#46039f\"],[0.2222222222222222,\"#7201a8\"],[0.3333333333333333,\"#9c179e\"],[0.4444444444444444,\"#bd3786\"],[0.5555555555555556,\"#d8576b\"],[0.6666666666666666,\"#ed7953\"],[0.7777777777777778,\"#fb9f3a\"],[0.8888888888888888,\"#fdca26\"],[1.0,\"#f0f921\"]]}],\"heatmap\":[{\"type\":\"heatmap\",\"colorbar\":{\"outlinewidth\":0,\"ticks\":\"\"},\"colorscale\":[[0.0,\"#0d0887\"],[0.1111111111111111,\"#46039f\"],[0.2222222222222222,\"#7201a8\"],[0.3333333333333333,\"#9c179e\"],[0.4444444444444444,\"#bd3786\"],[0.5555555555555556,\"#d8576b\"],[0.6666666666666666,\"#ed7953\"],[0.7777777777777778,\"#fb9f3a\"],[0.8888888888888888,\"#fdca26\"],[1.0,\"#f0f921\"]]}],\"heatmapgl\":[{\"type\":\"heatmapgl\",\"colorbar\":{\"outlinewidth\":0,\"ticks\":\"\"},\"colorscale\":[[0.0,\"#0d0887\"],[0.1111111111111111,\"#46039f\"],[0.2222222222222222,\"#7201a8\"],[0.3333333333333333,\"#9c179e\"],[0.4444444444444444,\"#bd3786\"],[0.5555555555555556,\"#d8576b\"],[0.6666666666666666,\"#ed7953\"],[0.7777777777777778,\"#fb9f3a\"],[0.8888888888888888,\"#fdca26\"],[1.0,\"#f0f921\"]]}],\"contourcarpet\":[{\"type\":\"contourcarpet\",\"colorbar\":{\"outlinewidth\":0,\"ticks\":\"\"}}],\"contour\":[{\"type\":\"contour\",\"colorbar\":{\"outlinewidth\":0,\"ticks\":\"\"},\"colorscale\":[[0.0,\"#0d0887\"],[0.1111111111111111,\"#46039f\"],[0.2222222222222222,\"#7201a8\"],[0.3333333333333333,\"#9c179e\"],[0.4444444444444444,\"#bd3786\"],[0.5555555555555556,\"#d8576b\"],[0.6666666666666666,\"#ed7953\"],[0.7777777777777778,\"#fb9f3a\"],[0.8888888888888888,\"#fdca26\"],[1.0,\"#f0f921\"]]}],\"surface\":[{\"type\":\"surface\",\"colorbar\":{\"outlinewidth\":0,\"ticks\":\"\"},\"colorscale\":[[0.0,\"#0d0887\"],[0.1111111111111111,\"#46039f\"],[0.2222222222222222,\"#7201a8\"],[0.3333333333333333,\"#9c179e\"],[0.4444444444444444,\"#bd3786\"],[0.5555555555555556,\"#d8576b\"],[0.6666666666666666,\"#ed7953\"],[0.7777777777777778,\"#fb9f3a\"],[0.8888888888888888,\"#fdca26\"],[1.0,\"#f0f921\"]]}],\"mesh3d\":[{\"type\":\"mesh3d\",\"colorbar\":{\"outlinewidth\":0,\"ticks\":\"\"}}],\"scatter\":[{\"fillpattern\":{\"fillmode\":\"overlay\",\"size\":10,\"solidity\":0.2},\"type\":\"scatter\"}],\"parcoords\":[{\"type\":\"parcoords\",\"line\":{\"colorbar\":{\"outlinewidth\":0,\"ticks\":\"\"}}}],\"scatterpolargl\":[{\"type\":\"scatterpolargl\",\"marker\":{\"colorbar\":{\"outlinewidth\":0,\"ticks\":\"\"}}}],\"bar\":[{\"error_x\":{\"color\":\"#2a3f5f\"},\"error_y\":{\"color\":\"#2a3f5f\"},\"marker\":{\"line\":{\"color\":\"#E5ECF6\",\"width\":0.5},\"pattern\":{\"fillmode\":\"overlay\",\"size\":10,\"solidity\":0.2}},\"type\":\"bar\"}],\"scattergeo\":[{\"type\":\"scattergeo\",\"marker\":{\"colorbar\":{\"outlinewidth\":0,\"ticks\":\"\"}}}],\"scatterpolar\":[{\"type\":\"scatterpolar\",\"marker\":{\"colorbar\":{\"outlinewidth\":0,\"ticks\":\"\"}}}],\"histogram\":[{\"marker\":{\"pattern\":{\"fillmode\":\"overlay\",\"size\":10,\"solidity\":0.2}},\"type\":\"histogram\"}],\"scattergl\":[{\"type\":\"scattergl\",\"marker\":{\"colorbar\":{\"outlinewidth\":0,\"ticks\":\"\"}}}],\"scatter3d\":[{\"type\":\"scatter3d\",\"line\":{\"colorbar\":{\"outlinewidth\":0,\"ticks\":\"\"}},\"marker\":{\"colorbar\":{\"outlinewidth\":0,\"ticks\":\"\"}}}],\"scattermapbox\":[{\"type\":\"scattermapbox\",\"marker\":{\"colorbar\":{\"outlinewidth\":0,\"ticks\":\"\"}}}],\"scatterternary\":[{\"type\":\"scatterternary\",\"marker\":{\"colorbar\":{\"outlinewidth\":0,\"ticks\":\"\"}}}],\"scattercarpet\":[{\"type\":\"scattercarpet\",\"marker\":{\"colorbar\":{\"outlinewidth\":0,\"ticks\":\"\"}}}],\"carpet\":[{\"aaxis\":{\"endlinecolor\":\"#2a3f5f\",\"gridcolor\":\"white\",\"linecolor\":\"white\",\"minorgridcolor\":\"white\",\"startlinecolor\":\"#2a3f5f\"},\"baxis\":{\"endlinecolor\":\"#2a3f5f\",\"gridcolor\":\"white\",\"linecolor\":\"white\",\"minorgridcolor\":\"white\",\"startlinecolor\":\"#2a3f5f\"},\"type\":\"carpet\"}],\"table\":[{\"cells\":{\"fill\":{\"color\":\"#EBF0F8\"},\"line\":{\"color\":\"white\"}},\"header\":{\"fill\":{\"color\":\"#C8D4E3\"},\"line\":{\"color\":\"white\"}},\"type\":\"table\"}],\"barpolar\":[{\"marker\":{\"line\":{\"color\":\"#E5ECF6\",\"width\":0.5},\"pattern\":{\"fillmode\":\"overlay\",\"size\":10,\"solidity\":0.2}},\"type\":\"barpolar\"}],\"pie\":[{\"automargin\":true,\"type\":\"pie\"}]},\"layout\":{\"autotypenumbers\":\"strict\",\"colorway\":[\"#636efa\",\"#EF553B\",\"#00cc96\",\"#ab63fa\",\"#FFA15A\",\"#19d3f3\",\"#FF6692\",\"#B6E880\",\"#FF97FF\",\"#FECB52\"],\"font\":{\"color\":\"#2a3f5f\"},\"hovermode\":\"closest\",\"hoverlabel\":{\"align\":\"left\"},\"paper_bgcolor\":\"white\",\"plot_bgcolor\":\"#E5ECF6\",\"polar\":{\"bgcolor\":\"#E5ECF6\",\"angularaxis\":{\"gridcolor\":\"white\",\"linecolor\":\"white\",\"ticks\":\"\"},\"radialaxis\":{\"gridcolor\":\"white\",\"linecolor\":\"white\",\"ticks\":\"\"}},\"ternary\":{\"bgcolor\":\"#E5ECF6\",\"aaxis\":{\"gridcolor\":\"white\",\"linecolor\":\"white\",\"ticks\":\"\"},\"baxis\":{\"gridcolor\":\"white\",\"linecolor\":\"white\",\"ticks\":\"\"},\"caxis\":{\"gridcolor\":\"white\",\"linecolor\":\"white\",\"ticks\":\"\"}},\"coloraxis\":{\"colorbar\":{\"outlinewidth\":0,\"ticks\":\"\"}},\"colorscale\":{\"sequential\":[[0.0,\"#0d0887\"],[0.1111111111111111,\"#46039f\"],[0.2222222222222222,\"#7201a8\"],[0.3333333333333333,\"#9c179e\"],[0.4444444444444444,\"#bd3786\"],[0.5555555555555556,\"#d8576b\"],[0.6666666666666666,\"#ed7953\"],[0.7777777777777778,\"#fb9f3a\"],[0.8888888888888888,\"#fdca26\"],[1.0,\"#f0f921\"]],\"sequentialminus\":[[0.0,\"#0d0887\"],[0.1111111111111111,\"#46039f\"],[0.2222222222222222,\"#7201a8\"],[0.3333333333333333,\"#9c179e\"],[0.4444444444444444,\"#bd3786\"],[0.5555555555555556,\"#d8576b\"],[0.6666666666666666,\"#ed7953\"],[0.7777777777777778,\"#fb9f3a\"],[0.8888888888888888,\"#fdca26\"],[1.0,\"#f0f921\"]],\"diverging\":[[0,\"#8e0152\"],[0.1,\"#c51b7d\"],[0.2,\"#de77ae\"],[0.3,\"#f1b6da\"],[0.4,\"#fde0ef\"],[0.5,\"#f7f7f7\"],[0.6,\"#e6f5d0\"],[0.7,\"#b8e186\"],[0.8,\"#7fbc41\"],[0.9,\"#4d9221\"],[1,\"#276419\"]]},\"xaxis\":{\"gridcolor\":\"white\",\"linecolor\":\"white\",\"ticks\":\"\",\"title\":{\"standoff\":15},\"zerolinecolor\":\"white\",\"automargin\":true,\"zerolinewidth\":2},\"yaxis\":{\"gridcolor\":\"white\",\"linecolor\":\"white\",\"ticks\":\"\",\"title\":{\"standoff\":15},\"zerolinecolor\":\"white\",\"automargin\":true,\"zerolinewidth\":2},\"scene\":{\"xaxis\":{\"backgroundcolor\":\"#E5ECF6\",\"gridcolor\":\"white\",\"linecolor\":\"white\",\"showbackground\":true,\"ticks\":\"\",\"zerolinecolor\":\"white\",\"gridwidth\":2},\"yaxis\":{\"backgroundcolor\":\"#E5ECF6\",\"gridcolor\":\"white\",\"linecolor\":\"white\",\"showbackground\":true,\"ticks\":\"\",\"zerolinecolor\":\"white\",\"gridwidth\":2},\"zaxis\":{\"backgroundcolor\":\"#E5ECF6\",\"gridcolor\":\"white\",\"linecolor\":\"white\",\"showbackground\":true,\"ticks\":\"\",\"zerolinecolor\":\"white\",\"gridwidth\":2}},\"shapedefaults\":{\"line\":{\"color\":\"#2a3f5f\"}},\"annotationdefaults\":{\"arrowcolor\":\"#2a3f5f\",\"arrowhead\":0,\"arrowwidth\":1},\"geo\":{\"bgcolor\":\"white\",\"landcolor\":\"#E5ECF6\",\"subunitcolor\":\"white\",\"showland\":true,\"showlakes\":true,\"lakecolor\":\"white\"},\"title\":{\"x\":0.05},\"mapbox\":{\"style\":\"light\"}}},\"xaxis\":{\"anchor\":\"y\",\"domain\":[0.0,1.0],\"title\":{\"text\":\"Year\"}},\"yaxis\":{\"anchor\":\"x\",\"domain\":[0.0,1.0],\"title\":{\"text\":\"Value\"}},\"annotations\":[{\"font\":{},\"showarrow\":false,\"text\":\"Type=1 bed apartment (rent)\",\"x\":0.5,\"xanchor\":\"center\",\"xref\":\"paper\",\"y\":1.0,\"yanchor\":\"bottom\",\"yref\":\"paper\"}],\"legend\":{\"title\":{\"text\":\"Country\"},\"tracegroupgap\":0},\"margin\":{\"t\":60}},                        {\"responsive\": true}                    ).then(function(){\n",
       "                            \n",
       "var gd = document.getElementById('77266310-2078-41c2-bfae-9b2e796d0a9c');\n",
       "var x = new MutationObserver(function (mutations, observer) {{\n",
       "        var display = window.getComputedStyle(gd).display;\n",
       "        if (!display || display === 'none') {{\n",
       "            console.log([gd, 'removed!']);\n",
       "            Plotly.purge(gd);\n",
       "            observer.disconnect();\n",
       "        }}\n",
       "}});\n",
       "\n",
       "// Listen for the removal of the full notebook cells\n",
       "var notebookContainer = gd.closest('#notebook-container');\n",
       "if (notebookContainer) {{\n",
       "    x.observe(notebookContainer, {childList: true});\n",
       "}}\n",
       "\n",
       "// Listen for the clearing of the current output cell\n",
       "var outputEl = gd.closest('.output');\n",
       "if (outputEl) {{\n",
       "    x.observe(outputEl, {childList: true});\n",
       "}}\n",
       "\n",
       "                        })                };                });            </script>        </div>"
      ]
     },
     "metadata": {},
     "output_type": "display_data"
    }
   ],
   "source": [
    "fig = px.line(\n",
    "    one_bed_apt_melted, \n",
    "    x=\"Year\", \n",
    "    y=\"Value\",\n",
    "    color=\"Country\",       # Color lines by Country\n",
    "    line_group=\"Country\",  # Group lines by Country\n",
    "    facet_col=\"Type\",      # Create a separate subplot for each apartment Type\n",
    "    markers=True           # Add markers to each point\n",
    ")\n",
    "\n",
    "fig.show()"
   ]
  },
  {
   "cell_type": "code",
   "execution_count": null,
   "id": "1b6230f6-bfd5-4dae-a576-1dcec813a46c",
   "metadata": {},
   "outputs": [],
   "source": []
  }
 ],
 "metadata": {
  "kernelspec": {
   "display_name": "venv",
   "language": "python",
   "name": "venv"
  },
  "language_info": {
   "codemirror_mode": {
    "name": "ipython",
    "version": 3
   },
   "file_extension": ".py",
   "mimetype": "text/x-python",
   "name": "python",
   "nbconvert_exporter": "python",
   "pygments_lexer": "ipython3",
   "version": "3.12.4"
  }
 },
 "nbformat": 4,
 "nbformat_minor": 5
}
