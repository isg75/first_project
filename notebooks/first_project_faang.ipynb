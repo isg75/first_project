{
 "cells": [
  {
   "cell_type": "code",
   "execution_count": null,
   "id": "b9a0a3f8-dd6a-427e-8af6-e7ec2cb750f0",
   "metadata": {},
   "outputs": [],
   "source": [
    "!pip install yfinance"
   ]
  },
  {
   "cell_type": "markdown",
   "id": "56673e9a-1d0c-4252-9d60-753b09c83324",
   "metadata": {},
   "source": [
    "# List of FAANG Stocks\n",
    "1. **Facebook** is an online social media and social networking service company founded in 2004. The company’s primary revenue stream comes from online advertisements. Facebook also owns several prominent subsidiaries, including Instagram, WhatsApp, and Oculus VR.\n",
    "2. **Amazon** is a diversified technology company operating in e-commerce, consumer electronics, and cloud computing industries. Jeff Bezos established the company in 1994 as an online bookstore. Amazon is now the world’s biggest e-commerce retailer based on market capitalization. The company owns several subsidiaries, including Whole Foods Market (chain of supermarkets) and Twitch (live streaming platform).\n",
    "3. **Apple** is a multinational technology company based in California, known for selling consumer electronics such as phones, tablets, and computers. It was founded by Steve Jobs and two others in 1976, making it the oldest of the FAANG stocks. Apple went public in December 1980, with an IPO that raised over $100 million (at $22 per share).\n",
    "4. **Netflix** is a media provider that provides customers with subscription-based online streaming of films and TV shows. Recently, the company entered the content-production industry, producing its own movies and TV shows.\n",
    "5. **Google (Alphabet)** Headquartered in California, U.S., Google specializes in providing internet-based services and products. It was founded in 1998 by Larry Page and Sergey Brin and is perhaps best known for its web search engine. The company went public in August 2004, offering almost 20 million shares at $85 per share."
   ]
  },
  {
   "cell_type": "markdown",
   "id": "9e2fc7f9-c9a6-40cf-88a3-3820bcb61863",
   "metadata": {},
   "source": [
    "# Stocks information\n",
    "\n",
    "**Date**: This column represents the specific day for which the stock data is recorded.\n",
    "\n",
    "**Open**: This is the price at which the stock started trading when the market opened on that particular day.\n",
    "\n",
    "**High**: This indicates the highest price the stock reached during that trading day.\n",
    "\n",
    "**Low**: This is the lowest price at which the stock was traded during the day.\n",
    "\n",
    "**Close**: This is the price of the stock at the end of the trading day. It's one of the most commonly used prices for analyzing stock performance.\n",
    "\n",
    "**Adj Close**: Stands for \"Adjusted Close\". This price reflects the stock's close price after accounting for any corporate actions that could impact the price, such as dividends, stock splits, or new stock offerings. It is useful for analyzing the real return on investment.\n",
    "\n",
    "**Volume**: This is the total number of shares that were traded during the day. It helps provide context about the activity level and liquidity of the stock."
   ]
  },
  {
   "cell_type": "code",
   "execution_count": null,
   "id": "d9595f3c-8766-4740-9503-070ac1ff8a8e",
   "metadata": {},
   "outputs": [],
   "source": [
    "import yfinance as yf\n",
    "import pandas as pd\n",
    "import matplotlib as plt"
   ]
  },
  {
   "cell_type": "code",
   "execution_count": null,
   "id": "acd356c6-b977-4ea3-b60b-e81278c71d0b",
   "metadata": {},
   "outputs": [],
   "source": [
    "# Function to download and format stock data\n",
    "def download_stock_data(ticker_symbol, start_date, end_date):\n",
    "    # Download the stock data\n",
    "    stock_data = yf.download(ticker_symbol, start=start_date, end=end_date)\n",
    "\n",
    "    # Reset the index to remove any multi-level indexing\n",
    "    stock_data = stock_data.reset_index()\n",
    "\n",
    "    # Fix potential multi-index issue\n",
    "    if isinstance(stock_data.columns, pd.MultiIndex):\n",
    "        # Flatten the columns if it's MultiIndex and keep the first level\n",
    "        stock_data.columns = stock_data.columns.get_level_values(0)\n",
    "\n",
    "    # Add the 'Ticker' as a new column\n",
    "    stock_data['company'] = ticker_symbol\n",
    "\n",
    "    return stock_data\n",
    "\n",
    "def format_columns(df):\n",
    "    df.columns = df.columns.str.strip().str.lower().str.replace(' ', '_')\n",
    "    df['date'] = pd.to_datetime(df['date'], utc=True)\n",
    "    df.set_index('date', inplace=True)\n",
    "    return df\n",
    "\n",
    "def round_values(df):\n",
    "    for column in ['open', 'high', 'low', 'close', 'adj_close', 'volume']:\n",
    "        df[column] = df[column].apply(lambda x: round(x, 3))\n",
    "    return df\n",
    "\n",
    "start_date = \"2019-11-01\"\n",
    "end_date= \"2024-10-31\"\n",
    "\n",
    "facebook_ticker = \"META\"\n",
    "facebook_data = download_stock_data(facebook_ticker, start_date, end_date)\n",
    "facebook_data = format_columns(facebook_data)\n",
    "facebook_data = round_values(facebook_data)\n",
    "amazon_ticker = \"AMZN\"\n",
    "amazon_data = download_stock_data(amazon_ticker, start_date, end_date)\n",
    "amazon_data = format_columns(amazon_data)\n",
    "amazon_data = round_values(amazon_data)\n",
    "apple_ticker = \"AAPL\"\n",
    "apple_data = download_stock_data(apple_ticker, start_date, end_date)\n",
    "apple_data = format_columns(apple_data)\n",
    "apple_data = round_values(apple_data)\n",
    "netflix_ticker = \"NFLX\"\n",
    "netflix_data = download_stock_data(netflix_ticker, start_date, end_date)\n",
    "netflix_data = format_columns(netflix_data)\n",
    "netflix_data = round_values(netflix_data)\n",
    "google_ticker = \"GOOG\"\n",
    "google_data = download_stock_data(google_ticker, start_date, end_date)\n",
    "google_data = format_columns(google_data)\n",
    "google_data = round_values(google_data)"
   ]
  },
  {
   "cell_type": "markdown",
   "id": "d24ef74d-e6bb-404f-8ecb-65e5b155b70d",
   "metadata": {},
   "source": [
    "# FACEBOOK"
   ]
  },
  {
   "cell_type": "code",
   "execution_count": null,
   "id": "c155522a-6dff-474f-96fb-c260d1dcd7c4",
   "metadata": {},
   "outputs": [],
   "source": [
    "#calculate daily returns\n",
    "facebook_data['daily_returns'] = facebook_data.adj_close.pct_change() * 100\n",
    "if facebook_data.index.name == 'date':\n",
    "    facebook_data.reset_index(inplace=True)\n",
    "\n",
    "facebook_data.describe()"
   ]
  },
  {
   "cell_type": "code",
   "execution_count": null,
   "id": "f149a609-5481-4315-841b-275aa343aa5b",
   "metadata": {},
   "outputs": [],
   "source": [
    "if 'date' in facebook_data.columns:  # Ensure 'date' is only indexed if not already\n",
    "    facebook_data.set_index('date', inplace=True)"
   ]
  },
  {
   "cell_type": "code",
   "execution_count": null,
   "id": "8db9c611-d2a7-41db-8c6c-da603d190e0c",
   "metadata": {},
   "outputs": [],
   "source": [
    "# Calculate monthly returns\n",
    "facebook_data_monthly = facebook_data.resample(\"M\").last()\n",
    "facebook_data_monthly['monthly_return'] = facebook_data_monthly['adj_close'].diff()\n",
    "\n",
    "# Calculate annual returns\n",
    "facebook_data_annual = facebook_data.resample(\"A\").last()\n",
    "facebook_data_annual['annual_return'] = facebook_data_annual['adj_close'].diff()\n",
    "\n",
    "# Combine monthly and annual returns\n",
    "facebook_data_periods = facebook_data_monthly[['monthly_return']].join(facebook_data_annual[['annual_return']], how='outer')\n",
    "\n",
    "# Reset index to make 'date' a column again\n",
    "facebook_data_periods.reset_index(inplace=True)\n",
    "\n",
    "# Describe the combined DataFrame\n",
    "facebook_data_periods.head()"
   ]
  },
  {
   "cell_type": "code",
   "execution_count": null,
   "id": "cfc3aaf9-18cd-45f8-b623-9a6ca18eed5e",
   "metadata": {},
   "outputs": [],
   "source": [
    "facebook_merged = pd.merge(facebook_data, facebook_data_periods, on='date', how='outer')\n",
    "facebook_merged.describe()"
   ]
  },
  {
   "cell_type": "markdown",
   "id": "77bf0d47-4cec-439d-83a9-8d81ec6f065a",
   "metadata": {},
   "source": [
    "# AMAZON\n"
   ]
  },
  {
   "cell_type": "code",
   "execution_count": null,
   "id": "38ed4d33-7a27-41d6-8966-fa16aee8c155",
   "metadata": {},
   "outputs": [],
   "source": [
    "amazon_data['daily_returns'] = amazon_data.adj_close.pct_change() * 100\n",
    "if amazon_data.index.name == 'date':\n",
    "    amazon_data.reset_index(inplace=True)\n",
    "amazon_data"
   ]
  },
  {
   "cell_type": "code",
   "execution_count": null,
   "id": "f8abc89e-23f7-40db-8b87-8f06a6c06b80",
   "metadata": {},
   "outputs": [],
   "source": [
    "if 'date' in amazon_data.columns:  # Ensure 'date' is only indexed if not already\n",
    "    amazon_data.set_index('date', inplace=True)"
   ]
  },
  {
   "cell_type": "code",
   "execution_count": null,
   "id": "7229bd84-39b9-4923-814b-93da20eeb1b6",
   "metadata": {},
   "outputs": [],
   "source": [
    "# Calculate monthly returns\n",
    "amazon_data_monthly = amazon_data.resample(\"M\").last()\n",
    "amazon_data_monthly['monthly_return'] = amazon_data_monthly['adj_close'].diff()\n",
    "\n",
    "# Calculate annual returns\n",
    "amazon_data_annual = amazon_data.resample(\"A\").last()\n",
    "amazon_data_annual['annual_return'] = amazon_data_annual['adj_close'].diff()\n",
    "\n",
    "# Combine monthly and annual returns\n",
    "amazon_data_periods = amazon_data_monthly[['monthly_return']].join(amazon_data_annual[['annual_return']], how='outer')\n",
    "\n",
    "# Reset index to make 'date' a column again\n",
    "amazon_data_periods.reset_index(inplace=True)\n",
    "\n",
    "# Describe the combined DataFrame\n",
    "amazon_data_periods.describe()"
   ]
  },
  {
   "cell_type": "code",
   "execution_count": null,
   "id": "a27c68ca-f28d-4624-b46d-f159e091fe88",
   "metadata": {},
   "outputs": [],
   "source": [
    "amazon_merged = pd.merge(amazon_data, amazon_data_periods, on='date', how='outer')\n",
    "amazon_merged.describe()"
   ]
  },
  {
   "cell_type": "markdown",
   "id": "73fe4627-94cd-4837-a04b-d9abed7f65f9",
   "metadata": {},
   "source": [
    "# APPLE"
   ]
  },
  {
   "cell_type": "code",
   "execution_count": null,
   "id": "ed80e050-3c97-4a67-a15e-ccee2a213984",
   "metadata": {},
   "outputs": [],
   "source": [
    "apple_data['daily_returns'] = apple_data.adj_close.pct_change() * 100\n",
    "if apple_data.index.name == 'date':\n",
    "    apple_data.reset_index(inplace=True)\n",
    "apple_data"
   ]
  },
  {
   "cell_type": "code",
   "execution_count": null,
   "id": "7ffff487-c9b4-4026-b4d0-e7be0b82d368",
   "metadata": {},
   "outputs": [],
   "source": [
    "if 'date' in apple_data.columns:  # Ensure 'date' is only indexed if not already\n",
    "    apple_data.set_index('date', inplace=True)"
   ]
  },
  {
   "cell_type": "code",
   "execution_count": null,
   "id": "84061cf2-cb04-4dd4-aad2-67e10277edc0",
   "metadata": {},
   "outputs": [],
   "source": [
    "# Calculate monthly returns\n",
    "apple_data_monthly = apple_data.resample(\"M\").last()\n",
    "apple_data_monthly['monthly_return'] = apple_data_monthly['adj_close'].diff()\n",
    "\n",
    "# Calculate annual returns\n",
    "apple_data_annual = apple_data.resample(\"A\").last()\n",
    "apple_data_annual['annual_return'] = apple_data_annual['adj_close'].diff()\n",
    "\n",
    "# Combine monthly and annual returns\n",
    "apple_data_periods = apple_data_monthly[['monthly_return']].join(apple_data_annual[['annual_return']], how='outer')\n",
    "\n",
    "# Reset index to make 'date' a column again\n",
    "apple_data_periods.reset_index(inplace=True)\n",
    "\n",
    "# Describe the combined DataFrame\n",
    "apple_data_periods.describe()"
   ]
  },
  {
   "cell_type": "code",
   "execution_count": null,
   "id": "6a6a8362-756b-4564-9648-0882f8c230ab",
   "metadata": {},
   "outputs": [],
   "source": [
    "apple_merged = pd.merge(apple_data, apple_data_periods, on='date', how='outer')\n",
    "apple_merged.describe()"
   ]
  },
  {
   "cell_type": "markdown",
   "id": "fa58e658-99c9-42f4-a6f8-4ed4323d7c05",
   "metadata": {},
   "source": [
    "# NETFLIX"
   ]
  },
  {
   "cell_type": "code",
   "execution_count": null,
   "id": "cd89e1b1-c0c2-49ae-94a5-d2fcd48d0d86",
   "metadata": {},
   "outputs": [],
   "source": [
    "netflix_data['daily_returns'] = netflix_data.adj_close.pct_change() * 100\n",
    "if netflix_data.index.name == 'date':\n",
    "    netflix_data.reset_index(inplace=True)\n",
    "netflix_data"
   ]
  },
  {
   "cell_type": "code",
   "execution_count": null,
   "id": "26b1eda2-d784-43a5-91a7-c63a6cbb874d",
   "metadata": {},
   "outputs": [],
   "source": [
    "if 'date' in netflix_data.columns:  # Ensure 'date' is only indexed if not already\n",
    "    netflix_data.set_index('date', inplace=True)"
   ]
  },
  {
   "cell_type": "code",
   "execution_count": null,
   "id": "eb109589-b32a-45f5-a131-6c1e508ca4e3",
   "metadata": {},
   "outputs": [],
   "source": [
    "# Calculate monthly returns\n",
    "netflix_data_monthly = netflix_data.resample(\"M\").last()\n",
    "netflix_data_monthly['monthly_return'] = netflix_data_monthly['adj_close'].diff()\n",
    "\n",
    "# Calculate annual returns\n",
    "netflix_data_annual = netflix_data.resample(\"A\").last()\n",
    "netflix_data_annual['annual_return'] = netflix_data_annual['adj_close'].diff()\n",
    "\n",
    "# Combine monthly and annual returns\n",
    "netflix_data_periods = netflix_data_monthly[['monthly_return']].join(netflix_data_annual[['annual_return']], how='outer')\n",
    "\n",
    "# Reset index to make 'date' a column again\n",
    "netflix_data_periods.reset_index(inplace=True)\n",
    "\n",
    "# Describe the combined DataFrame\n",
    "netflix_data_periods.describe()"
   ]
  },
  {
   "cell_type": "code",
   "execution_count": null,
   "id": "6c3ed5ea-f8d9-4fc3-ae26-7d20ea9f3111",
   "metadata": {},
   "outputs": [],
   "source": [
    "netflix_merged = pd.merge(netflix_data, netflix_data_periods, on='date', how='outer')\n",
    "netflix_merged.describe()"
   ]
  },
  {
   "cell_type": "markdown",
   "id": "f9e3ce18-c169-4b56-9aa1-5c26fa9d1fbc",
   "metadata": {},
   "source": [
    "# GOOGLE"
   ]
  },
  {
   "cell_type": "code",
   "execution_count": null,
   "id": "562ac934-2304-43ce-ad6d-336760e3ec4d",
   "metadata": {},
   "outputs": [],
   "source": [
    "google_data['daily_returns'] = google_data.adj_close.pct_change() * 100\n",
    "if google_data.index.name == 'date':\n",
    "    google_data.reset_index(inplace=True)\n",
    "\n",
    "google_data"
   ]
  },
  {
   "cell_type": "code",
   "execution_count": null,
   "id": "540e588f-d4f8-4bdf-8b32-85e9ff759b7e",
   "metadata": {},
   "outputs": [],
   "source": [
    "if 'date' in google_data.columns:  # Ensure 'date' is only indexed if not already\n",
    "    google_data.set_index('date', inplace=True)"
   ]
  },
  {
   "cell_type": "code",
   "execution_count": null,
   "id": "bec57991-3632-45bf-bf3c-a784d2d77cc8",
   "metadata": {},
   "outputs": [],
   "source": [
    "# Calculate monthly returns\n",
    "google_data_monthly = google_data.resample(\"M\").last()\n",
    "google_data_monthly['monthly_return'] = google_data_monthly['adj_close'].diff()\n",
    "\n",
    "# Calculate annual returns\n",
    "google_data_annual = google_data.resample(\"A\").last()\n",
    "google_data_annual['annual_return'] = google_data_annual['adj_close'].diff()\n",
    "\n",
    "# Combine monthly and annual returns\n",
    "google_data_periods = google_data_monthly[['monthly_return']].join(google_data_annual[['annual_return']], how='outer')\n",
    "\n",
    "# Reset index to make 'date' a column again\n",
    "google_data_periods.reset_index(inplace=True)\n",
    "\n",
    "# Describe the combined DataFrame\n",
    "google_data_periods.describe()"
   ]
  },
  {
   "cell_type": "code",
   "execution_count": null,
   "id": "e12479c2-b074-48c8-b166-c21e6e096e4a",
   "metadata": {},
   "outputs": [],
   "source": [
    "google_merged = pd.merge(google_data, google_data_periods, on='date', how='outer')\n",
    "google_merged.describe()"
   ]
  },
  {
   "cell_type": "code",
   "execution_count": null,
   "id": "6d7f82d6-7153-42fe-b3e8-50323b06e951",
   "metadata": {},
   "outputs": [],
   "source": []
  }
 ],
 "metadata": {
  "kernelspec": {
   "display_name": "venv",
   "language": "python",
   "name": "venv"
  },
  "language_info": {
   "codemirror_mode": {
    "name": "ipython",
    "version": 3
   },
   "file_extension": ".py",
   "mimetype": "text/x-python",
   "name": "python",
   "nbconvert_exporter": "python",
   "pygments_lexer": "ipython3",
   "version": "3.12.3"
  }
 },
 "nbformat": 4,
 "nbformat_minor": 5
}
