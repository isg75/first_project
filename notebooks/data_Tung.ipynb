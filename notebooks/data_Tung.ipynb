{
 "cells": [
  {
   "cell_type": "code",
   "execution_count": null,
   "id": "0564ac8f-b914-441b-9952-29a217f6babf",
   "metadata": {},
   "outputs": [],
   "source": [
    "import pandas as pd\n",
    "import plotly.express as px  # For Plotly Express, which is easy-to-use for quick visualizations\n",
    "import plotly.graph_objects as go "
   ]
  },
  {
   "cell_type": "code",
   "execution_count": null,
   "id": "5ab2dafb-89b8-4145-8dc1-c8609eb8782b",
   "metadata": {},
   "outputs": [],
   "source": [
    "import seaborn as sns\n",
    "import matplotlib.pyplot as plt"
   ]
  },
  {
   "cell_type": "markdown",
   "id": "c64e7d7e-107e-4616-b71e-4069200a4fcd",
   "metadata": {},
   "source": [
    "HOUSING RENTAL INCOME FORMATTING\n",
    "---"
   ]
  },
  {
   "cell_type": "code",
   "execution_count": null,
   "id": "db4649e6-3938-4e3a-9b31-ecc764d70d73",
   "metadata": {},
   "outputs": [],
   "source": [
    "housing = pd.read_excel(\"../data/raw/week_3_project_data.xlsx\", sheet_name=0)\n",
    "housing.index = ['Housing'] * len(housing)\n",
    "housing"
   ]
  },
  {
   "cell_type": "code",
   "execution_count": null,
   "id": "ea7bf466-fc42-4c7d-8dea-a0abc9f88cb1",
   "metadata": {},
   "outputs": [],
   "source": [
    "rental = pd.read_excel(\"../data/raw/week_3_project_data.xlsx\", sheet_name=1)\n",
    "rental.index = ['Rental'] * len(rental)\n",
    "rental"
   ]
  },
  {
   "cell_type": "code",
   "execution_count": null,
   "id": "d9792bf6-6877-4c40-8243-1326601d0f4a",
   "metadata": {},
   "outputs": [],
   "source": [
    "income = pd.read_excel(\"../data/raw/week_3_project_data.xlsx\", sheet_name=2)\n",
    "income.index = ['Income'] * len(income)\n",
    "income"
   ]
  },
  {
   "cell_type": "code",
   "execution_count": null,
   "id": "9c93f316-8243-41b6-8a3a-914e3140d290",
   "metadata": {},
   "outputs": [],
   "source": [
    "final_df = pd.concat([housing, rental, income], ignore_index=True)\n",
    "index_labels = ['Housing'] * len(housing) + ['Rental'] * len(rental) + ['Income'] * len(income)\n",
    "final_df.index = index_labels"
   ]
  },
  {
   "cell_type": "code",
   "execution_count": null,
   "id": "faadb9a3-9c4b-4f63-bce0-51113e6c40a7",
   "metadata": {},
   "outputs": [],
   "source": [
    "final_df.rename(columns={\"Unnamed: 0\": \"Country\"}, inplace=True)\n",
    "final_df"
   ]
  },
  {
   "cell_type": "code",
   "execution_count": null,
   "id": "04ae9d09-5f67-4237-b94c-5845da8dc2a5",
   "metadata": {},
   "outputs": [],
   "source": [
    "income_df = final_df[final_df.index == 'Income']\n",
    "housing_df = final_df[final_df.index == \"Housing\"]\n",
    "rental_df = final_df[final_df.index == \"Rental\"]"
   ]
  },
  {
   "cell_type": "code",
   "execution_count": null,
   "id": "02f00cc9-6ab3-4b16-931f-a12709629971",
   "metadata": {},
   "outputs": [],
   "source": [
    "income_tidy = income_df.melt(id_vars=\"Country\", var_name=\"Year\", value_name=\"Income\")\n",
    "housing_tidy = housing_df.melt(id_vars=\"Country\", var_name=\"Year\", value_name=\"Housing\")\n",
    "rental_tidy = rental_df.melt(id_vars=\"Country\", var_name=\"Year\", value_name=\"Rental\")\n"
   ]
  },
  {
   "cell_type": "markdown",
   "id": "ad4f82d7-f53b-4606-9fe2-88e614f90b39",
   "metadata": {},
   "source": [
    "HOUSING RENTAL INCOME GRAPHS\n",
    "---"
   ]
  },
  {
   "cell_type": "code",
   "execution_count": null,
   "id": "3b0f1bfa-7684-449f-86ed-4ca16ec176aa",
   "metadata": {},
   "outputs": [],
   "source": [
    "# Assuming income_tidy, housing_tidy, and rental_tidy are your original DataFrames\n",
    "\n",
    "# Add a new column to each DataFrame to indicate the type of data\n",
    "income_tidy['Type'] = 'Income'\n",
    "housing_tidy['Type'] = 'Housing'\n",
    "rental_tidy['Type'] = 'Rental'\n",
    "\n",
    "# Concatenate the DataFrames into one long DataFrame\n",
    "combined_data = pd.concat([income_tidy, housing_tidy, rental_tidy], axis=0)\n",
    "\n",
    "# Create a figure and three subplots (axes), one for each graph\n",
    "fig, axes = plt.subplots(1, 3, figsize=(15, 5))  # 1 row, 3 columns\n",
    "\n",
    "# Plot the Income graph\n",
    "sns.lineplot(data=income_tidy, x=\"Year\", y=\"Income\", hue=\"Country\", marker=\"*\", ax=axes[0])\n",
    "axes[0].set_title('Income Over Time')\n",
    "axes[0].set_xlabel('Year')\n",
    "axes[0].set_ylabel('Income')\n",
    "axes[0].legend(title='Country')\n",
    "\n",
    "# Plot the Housing graph\n",
    "sns.lineplot(data=housing_tidy, x=\"Year\", y=\"Housing\", hue=\"Country\", marker=\"*\", ax=axes[1])\n",
    "axes[1].set_title('House Price Index Over Time')\n",
    "axes[1].set_xlabel('Year')\n",
    "axes[1].set_ylabel('HPI')\n",
    "axes[1].legend(title='Country')\n",
    "\n",
    "# Plot the Rental graph\n",
    "sns.lineplot(data=rental_tidy, x=\"Year\", y=\"Rental\", hue=\"Country\", marker=\"*\", ax=axes[2])\n",
    "axes[2].set_title('Rental Price Index Over Time')\n",
    "axes[2].set_xlabel('Year')\n",
    "axes[2].set_ylabel('RPI')\n",
    "axes[2].legend(title='Country')\n",
    "\n",
    "# Adjust the x-axis to only show whole years (no 0.5 steps)\n",
    "for ax in axes:\n",
    "    # Set x-axis ticks to only whole numbers (years)\n",
    "    ax.set_xticks(range(int(min(combined_data['Year'])), int(max(combined_data['Year'])) + 1))\n",
    "\n",
    "# Adjust the layout for better spacing\n",
    "plt.tight_layout()\n",
    "\n",
    "# Show the plot\n",
    "plt.show()"
   ]
  },
  {
   "cell_type": "markdown",
   "id": "4786bc2d-e0d7-44cb-9a2f-821c6358757e",
   "metadata": {},
   "source": [
    "GERMANY, BERLIN\n",
    "---"
   ]
  },
  {
   "cell_type": "code",
   "execution_count": null,
   "id": "8088abaa-c4a9-4f24-b51a-64af625c4362",
   "metadata": {},
   "outputs": [],
   "source": [
    "df_Cities = pd.read_excel(\"../data/raw/numbeo_stats.xlsx\")\n",
    "df_Cities.rename(columns = {\"Unnamed: 0\" : \"Category\"}, inplace = True)\n",
    "# Fill missing 'Category' values using forward fill\n",
    "df_Cities['Category'] = df_Cities['Category'].fillna(method='ffill')\n",
    "\n",
    "df_berlin = df_Cities[df_Cities['City'] == 'Berlin']\n",
    "\n",
    "\n",
    "# Display the updated DataFrame\n",
    "df_berlin\n"
   ]
  },
  {
   "cell_type": "markdown",
   "id": "11ac6802-d74a-4f3c-91ad-b6676d1b0e2c",
   "metadata": {},
   "source": [
    "\n",
    "\n",
    "# Melt the DataFrame to long format for easier plotting\n",
    "df_long = df_numbeo.melt(id_vars=['Category', 'City'], var_name='Year', value_name='Rent Price')\n",
    "\n",
    "# Convert 'Year' to numeric\n",
    "df_long['Year'] = pd.to_numeric(df_long['Year'], errors='coerce')\n",
    "\n",
    "# Line plot to show trends over time for each Category and City\n",
    "plt.figure(figsize=(10, 6))\n",
    "sns.lineplot(data=df_long, x=\"Year\", y=\"Rent Price\", hue=\"Category\", style=\"City\", markers=True)\n",
    "plt.title('Rent Price Trends Over Time')\n",
    "plt.xlabel('Year')\n",
    "plt.ylabel('Rent Price')\n",
    "plt.legend(title='Category', bbox_to_anchor=(1.05, 1), loc='upper left')\n",
    "plt.tight_layout()\n",
    "plt.show()\n"
   ]
  },
  {
   "cell_type": "code",
   "execution_count": null,
   "id": "ef1ff315-3fca-4235-a3c3-f0a70e520d74",
   "metadata": {},
   "outputs": [],
   "source": [
    "# Filter the DataFrame for Berlin\n",
    "df_berlin_long = df_berlin.melt(id_vars=['Category', 'City'], var_name='Year', value_name='Cost in Euros')\n",
    "\n",
    "# Convert 'Year' to numeric\n",
    "df_berlin_long['Year'] = pd.to_numeric(df_berlin_long['Year'], errors='coerce')\n",
    "\n",
    "# Line plot to show trends over time for each Category in Berlin\n",
    "plt.figure(figsize=(10, 6))\n",
    "sns.lineplot(data=df_berlin_long, x=\"Year\", y=\"Cost in Euros\", hue=\"Category\", markers=True)\n",
    "plt.title('Rent Price Trends Over Time (Berlin)')\n",
    "plt.xlabel('Year')\n",
    "plt.ylabel('Cost in Euros')\n",
    "plt.legend(title='Category', bbox_to_anchor=(1.05, 1), loc='upper left')\n",
    "plt.tight_layout()\n",
    "plt.show()\n",
    "\n",
    "\n",
    "\"\"\"\n",
    "mortgage cost instead of price per sqm\n",
    "\n",
    "\"\"\""
   ]
  },
  {
   "cell_type": "markdown",
   "id": "79a290e0-6fb7-4e1c-aa1a-10aaa6ae7100",
   "metadata": {},
   "source": [
    "GERMANY\n",
    "---"
   ]
  },
  {
   "cell_type": "code",
   "execution_count": null,
   "id": "06ea3421-9d52-4b45-b5b0-60dabbd1d26f",
   "metadata": {},
   "outputs": [],
   "source": [
    "df_Countries = pd.read_excel(\"../data/raw/numbeo_stats.xlsx\", sheet_name = 1)\n",
    "df_Countries.rename(columns = {\"Unnamed: 0\" : \"Category\"}, inplace = True)\n",
    "# Fill missing 'Category' values using forward fill\n",
    "df_Countries['Category'] = df_Countries['Category'].fillna(method='ffill')\n",
    "df_Countries.columns = df_Countries.columns.str.strip()\n",
    "\n",
    "df_Germany = df_Countries[df_Countries[\"Country\"] == 'DE']\n",
    "\n",
    "\n",
    "# Display the updated DataFrame\n",
    "df_Germany\n"
   ]
  },
  {
   "cell_type": "code",
   "execution_count": null,
   "id": "6e5663c7-21b6-40db-a087-936bd563a462",
   "metadata": {},
   "outputs": [],
   "source": [
    "df_Germany_long = df_Germany.melt(id_vars=['Category', 'Country'], var_name='Year', value_name='Rent Price')\n",
    "\n",
    "# Convert 'Year' to numeric (to ensure it's treated as a number)\n",
    "df_Germany_long['Year'] = pd.to_numeric(df_Germany_long['Year'], errors='coerce')\n",
    "\n",
    "# Replace the 'Country' column value from 'DE' to 'Germany' if needed\n",
    "# For now, we keep it as 'DE' for simplicity.\n",
    "df_Germany_long['Country'] = df_Germany_long['Country'].replace({'DE': 'Germany'})\n",
    "\n",
    "# Line plot to show trends over time for each Category in Germany\n",
    "plt.figure(figsize=(10, 6))\n",
    "sns.lineplot(data=df_Germany_long, x=\"Year\", y=\"Rent Price\", hue=\"Category\", markers=True)\n",
    "plt.title('Rent Price Trends Over Time (Germany)')\n",
    "plt.xlabel('Year')\n",
    "plt.ylabel('Rent Price')\n",
    "plt.legend(title='Category', bbox_to_anchor=(1.05, 1), loc='upper left')\n",
    "plt.tight_layout()\n",
    "plt.show()\n"
   ]
  },
  {
   "cell_type": "code",
   "execution_count": null,
   "id": "a234cb7a-5976-46e0-88c0-39ff4dd6ed7b",
   "metadata": {},
   "outputs": [],
   "source": [
    "\n",
    "\n",
    "\n",
    "# Melt Berlin's data to long format\n",
    "df_berlin_long = df_berlin.melt(id_vars=['Category', 'City'], var_name='Year', value_name='Rent Price')\n",
    "df_berlin_long['Year'] = pd.to_numeric(df_berlin_long['Year'], errors='coerce')\n",
    "\n",
    "# Filter Germany's data\n",
    "df_germany = df_Countries[df_Countries['Country'] == 'DE']\n",
    "\n",
    "# Melt Germany's data to long format\n",
    "df_germany_long = df_germany.melt(id_vars=['Category', 'Country'], var_name='Year', value_name='Rent Price')\n",
    "df_germany_long['Year'] = pd.to_numeric(df_germany_long['Year'], errors='coerce')\n",
    "\n",
    "# Create a side-by-side graph using matplotlib\n",
    "fig, axes = plt.subplots(1, 2, figsize=(16, 6), sharey=True)\n",
    "\n",
    "# Plot for Berlin\n",
    "sns.lineplot(data=df_berlin_long, x=\"Year\", y=\"Rent Price\", hue=\"Category\", markers=True, ax=axes[0])\n",
    "axes[0].set_title('Rent Price Trends Over Time (Berlin)')\n",
    "axes[0].set_xlabel('Year')\n",
    "axes[0].set_ylabel('Rent Price')\n",
    "\n",
    "# Plot for Germany\n",
    "sns.lineplot(data=df_germany_long, x=\"Year\", y=\"Rent Price\", hue=\"Category\", markers=True, ax=axes[1])\n",
    "axes[1].set_title('Rent Price Trends Over Time (Germany)')\n",
    "axes[1].set_xlabel('Year')\n",
    "\n",
    "# Adjust layout for better spacing\n",
    "plt.tight_layout()\n",
    "\n",
    "# Display t\n"
   ]
  },
  {
   "cell_type": "code",
   "execution_count": null,
   "id": "2ff057f4-72c2-4a0d-a507-19c1de994391",
   "metadata": {},
   "outputs": [],
   "source": [
    "# not working so far\n",
    "\n",
    "# Clean column names and fill missing 'Category' values\n",
    "df_Countries.rename(columns={\"Country\": \"Region\"}, inplace=True)\n",
    "df_Countries['Category'] = df_Countries['Category'].fillna(method='ffill')\n",
    "\n",
    "# Switch 'Region' back to 'Country'\n",
    "df_Countries.rename(columns={\"Region\": \"Country\"}, inplace=True)\n",
    "\n",
    "# Filter Berlin's data\n",
    "df_berlin = df_Countries[df_Countries['City'] == 'Berlin']\n",
    "\n",
    "# Filter out the \"Buy apartment\" category from Berlin's data\n",
    "df_berlin = df_berlin[df_berlin['Category'] != 'Buy apartment ( per m2 in city center)']\n",
    "\n",
    "# Melt Berlin's data to long format\n",
    "df_berlin_long = df_berlin.melt(id_vars=['Category', 'City'], var_name='Year', value_name='Rent Price')\n",
    "df_berlin_long['Year'] = pd.to_numeric(df_berlin_long['Year'], errors='coerce')\n",
    "\n",
    "# Filter Germany's data\n",
    "df_germany = df_Countries[df_Countries['Country'] == 'DE']\n",
    "\n",
    "# Filter out the \"Buy apartment\" category from Germany's data\n",
    "df_germany = df_germany[df_germany['Category'] != 'Buy apartment ( per m2 in city center)']\n",
    "\n",
    "# Melt Germany's data to long format\n",
    "df_germany_long = df_germany.melt(id_vars=['Category', 'Country'], var_name='Year', value_name='Rent Price')\n",
    "df_germany_long['Year'] = pd.to_numeric(df_germany_long['Year'], errors='coerce')\n",
    "\n",
    "# Create a side-by-side graph using matplotlib\n",
    "fig, axes = plt.subplots(1, 2, figsize=(16, 6), sharey=True)\n",
    "\n",
    "# Plot for Berlin\n",
    "sns.lineplot(data=df_berlin_long, x=\"Year\", y=\"Rent Price\", hue=\"Category\", markers=True, ax=axes[0])\n",
    "axes[0].set_title('Rent Price Trends Over Time (Berlin)')\n",
    "axes[0].set_xlabel('Year')\n",
    "axes[0].set_ylabel('Rent Price')\n",
    "\n",
    "# Plot for Germany\n",
    "sns.lineplot(data=df_germany_long, x=\"Year\", y=\"Rent Price\", hue=\"Category\", markers=True, ax=axes[1])\n",
    "axes[1].set_title('Rent Price Trends Over Time (Germany)')\n",
    "axes[1].set_xlabel('Year')\n",
    "\n",
    "# Adjust layout for better spacing\n",
    "plt.tight_layout()\n",
    "\n",
    "# Display the plots\n",
    "plt.show()\n"
   ]
  }
 ],
 "metadata": {
  "kernelspec": {
   "display_name": "venv",
   "language": "python",
   "name": "venv"
  },
  "language_info": {
   "codemirror_mode": {
    "name": "ipython",
    "version": 3
   },
   "file_extension": ".py",
   "mimetype": "text/x-python",
   "name": "python",
   "nbconvert_exporter": "python",
   "pygments_lexer": "ipython3",
   "version": "3.13.0"
  }
 },
 "nbformat": 4,
 "nbformat_minor": 5
}
