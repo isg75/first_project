{
 "cells": [
  {
   "cell_type": "code",
   "execution_count": 2,
   "id": "1be6cdd5-0eb9-4453-acae-eb66d317f230",
   "metadata": {},
   "outputs": [],
   "source": [
    "import pandas as pd\n",
    "import matplotlib.pyplot as plt\n",
    "import seaborn as sns\n",
    "import numpy as np\n",
    "from scipy.stats import binomtest\n",
    "from scipy.stats import ttest_ind\n",
    "import scipy.stats as stats\n",
    "%matplotlib inline"
   ]
  },
  {
   "cell_type": "code",
   "execution_count": 3,
   "id": "67aff827-4f82-4d4e-a083-09cd2569a0c8",
   "metadata": {},
   "outputs": [],
   "source": [
    "df_final = pd.read_csv(\"../data/clean/df_combined.csv\")\n",
    "df_exp = pd.read_csv(\"../data/clean/experiments.csv\")"
   ]
  },
  {
   "cell_type": "code",
   "execution_count": 15,
   "id": "3ec6eedf-850a-48f3-a4f7-7e473d68efee",
   "metadata": {},
   "outputs": [],
   "source": [
    "# Merge the two tables based on 'client_id'\n",
    "df_merged = df_final.merge(df_exp[['client_id', 'variation']], on='client_id', how='left')\n",
    "df_merged['variation'] = df_merged['variation'].fillna('Unknown')\n",
    "# Drop null rows\n",
    "df_merged = df_merged[df_merged['variation'] != 'Unknown']\n",
    "df_merged.reset_index(drop=True, inplace=True)"
   ]
  },
  {
   "cell_type": "code",
   "execution_count": 19,
   "id": "f72c484d-e2c3-4db6-85f3-4226668394fe",
   "metadata": {},
   "outputs": [],
   "source": [
    "df_merged = df_merged.drop(columns=['time_diff', 'error', 'step_numeric'])"
   ]
  },
  {
   "cell_type": "code",
   "execution_count": 21,
   "id": "d2c01d1a-a558-4878-aa39-c8db4885c6e4",
   "metadata": {},
   "outputs": [
    {
     "data": {
      "text/plain": [
       "(443897, 6)"
      ]
     },
     "execution_count": 21,
     "metadata": {},
     "output_type": "execute_result"
    }
   ],
   "source": [
    "df_merged.shape"
   ]
  },
  {
   "cell_type": "code",
   "execution_count": 8,
   "id": "f3ea21c2-ee03-40c1-9b43-4b0f224e147e",
   "metadata": {},
   "outputs": [],
   "source": [
    "# Filter data for control and test groups\n",
    "control_group = df_merged[df_merged['variation'] == 'Control']\n",
    "test_group = df_merged[df_merged['variation'] == 'Test']"
   ]
  },
  {
   "cell_type": "code",
   "execution_count": 10,
   "id": "d4194256-1b5f-471f-ab52-687263972f6f",
   "metadata": {},
   "outputs": [
    {
     "name": "stdout",
     "output_type": "stream",
     "text": [
      "0.6718126225914388\n"
     ]
    }
   ],
   "source": [
    "# Calculate completion rate for control group\n",
    "control_completed = control_group[control_group['process_step'] == 'confirm']['client_id'].nunique()\n",
    "control_started = control_group[control_group['process_step'] == 'start']['client_id'].nunique()\n",
    "control_completion_rate = control_completed / control_started\n",
    "print(control_completion_rate)"
   ]
  },
  {
   "cell_type": "code",
   "execution_count": 14,
   "id": "c4aa6092-1838-4ef2-b185-6a7a10f18c2f",
   "metadata": {
    "scrolled": true
   },
   "outputs": [
    {
     "name": "stdout",
     "output_type": "stream",
     "text": [
      "0.700438547171933\n"
     ]
    }
   ],
   "source": [
    "# Calculate completion rate for test group\n",
    "test_completed = test_group[test_group['process_step'] == 'confirm']['client_id'].nunique()\n",
    "test_started = test_group[test_group['process_step'] == 'start']['client_id'].nunique()\n",
    "test_completion_rate = test_completed / test_started\n",
    "print(test_completion_rate)"
   ]
  },
  {
   "cell_type": "code",
   "execution_count": 16,
   "id": "f5dff1bb-4e0d-4754-8650-3c6d4f42b30c",
   "metadata": {},
   "outputs": [
    {
     "name": "stdout",
     "output_type": "stream",
     "text": [
      "0.028625924580494178\n"
     ]
    }
   ],
   "source": [
    "observed_increase = test_completion_rate - control_completion_rate\n",
    "print(observed_increase)"
   ]
  },
  {
   "cell_type": "code",
   "execution_count": 18,
   "id": "409f4ebe-ff9c-48ae-bd9f-a01770c1cbaa",
   "metadata": {},
   "outputs": [
    {
     "name": "stdout",
     "output_type": "stream",
     "text": [
      "  variation process_step                 time_diff\n",
      "0   Control      confirm 0 days 00:02:10.250405388\n",
      "1   Control        start           0 days 00:00:00\n",
      "2   Control       step_1 0 days 00:00:42.260355239\n",
      "3   Control       step_2 0 days 00:00:40.950420604\n",
      "4   Control       step_3 0 days 00:01:34.860185229\n",
      "5      Test      confirm 0 days 00:02:09.595182350\n",
      "6      Test        start           0 days 00:00:00\n",
      "7      Test       step_1 0 days 00:00:37.896578700\n",
      "8      Test       step_2 0 days 00:00:48.206424108\n",
      "9      Test       step_3 0 days 00:01:37.191935040\n"
     ]
    }
   ],
   "source": [
    "#date_time column in datetime format\n",
    "df_merged['date_time'] = pd.to_datetime(df_merged['date_time'])\n",
    "# Sort Data\n",
    "df_merged = df_merged.sort_values(by=['client_id', 'visit_id', 'date_time'])\n",
    "\n",
    "# Calculate time difference to the next step\n",
    "df_merged['time_diff'] = df_merged.groupby(['client_id', 'visit_id'])['date_time'].diff()\n",
    "\n",
    "# Set time_diff to 0 for the \"start\" process step\n",
    "df_merged.loc[df_merged['process_step'] == 'start', 'time_diff'] = pd.Timedelta(seconds=0)\n",
    "\n",
    "# Average time spent per step, separated control and test\n",
    "completion_times_by_group = df_merged.groupby(['variation', 'process_step'])['time_diff'].mean().reset_index()\n",
    "\n",
    "print(completion_times_by_group)"
   ]
  },
  {
   "cell_type": "code",
   "execution_count": 22,
   "id": "8c8f4589-3b5e-4303-8c21-df38ecd2cbda",
   "metadata": {},
   "outputs": [
    {
     "name": "stdout",
     "output_type": "stream",
     "text": [
      "The observed increase is <= than the 5% threshold.\n"
     ]
    }
   ],
   "source": [
    "threshold = 0.05\n",
    "\n",
    "if observed_increase >= threshold:\n",
    "    print(f\"The observed increase is >= than the 5% threshold.\")\n",
    "else:\n",
    "    print(f\"The observed increase is <= than the 5% threshold.\")\n"
   ]
  },
  {
   "cell_type": "code",
   "execution_count": 26,
   "id": "9c45da1d-3a41-4e2e-9cdb-d04e557534d8",
   "metadata": {},
   "outputs": [
    {
     "name": "stdout",
     "output_type": "stream",
     "text": [
      "  variation process_step  completion_rate\n",
      "0   Control      confirm         0.415817\n",
      "1   Control        start         0.618948\n",
      "2   Control       step_1         0.541120\n",
      "3   Control       step_2         0.499329\n",
      "4   Control       step_3         0.467506\n",
      "5      Test      confirm         0.266904\n",
      "6      Test        start         0.381052\n",
      "7      Test       step_1         0.346602\n",
      "8      Test       step_2         0.317908\n",
      "9      Test       step_3         0.298240\n"
     ]
    }
   ],
   "source": [
    "#Calculate completion rates (number of clients who completed each step)\n",
    "clients_started = df_merged[df_merged['process_step'] == 'start']['client_id'].nunique()\n",
    "completion_rates = (\n",
    "    df_merged.groupby(['variation', 'process_step'])['client_id'].nunique() / clients_started\n",
    ").reset_index(name='completion_rate')\n",
    "print(completion_rates)"
   ]
  },
  {
   "cell_type": "code",
   "execution_count": 28,
   "id": "b705c4e9-43f4-43d1-8090-f4e8e4a2babd",
   "metadata": {},
   "outputs": [
    {
     "name": "stdout",
     "output_type": "stream",
     "text": [
      "  variation     error\n",
      "0   Control  0.033848\n",
      "1      Test  0.032253\n"
     ]
    }
   ],
   "source": [
    "step_order = { 'step_1': 0, 'step_2': 2, 'step_3': 3, 'confirm': 4}\n",
    "\n",
    "df_merged['step_numeric'] = df_merged['process_step'].map(step_order)\n",
    "\n",
    "# Ensure the data is sorted by client_id and date_time\n",
    "df_merged = df_merged.sort_values(by=['client_id', 'date_time'])\n",
    "\n",
    "# Calculate errors separately for Control and Test groups\n",
    "df_merged['error'] = df_merged.groupby(['variation', 'client_id' , 'visitor_id' , 'visit_id' ])['step_numeric'].shift(-1) < df_merged['step_numeric']\n",
    "\n",
    "# Calculate error rate for each group\n",
    "error_rate_by_variation = df_merged.groupby('variation')['error'].mean().reset_index()\n",
    "\n",
    "# Display results\n",
    "print(error_rate_by_variation)\n"
   ]
  },
  {
   "cell_type": "code",
   "execution_count": 30,
   "id": "d751a108-2457-4c64-ab6b-42ef88a8bb47",
   "metadata": {},
   "outputs": [
    {
     "data": {
      "text/plain": [
       "4.9814105918316764"
      ]
     },
     "execution_count": 30,
     "metadata": {},
     "output_type": "execute_result"
    }
   ],
   "source": [
    "df_control_transitions = df_merged[df_merged['variation'] == 'Control']\n",
    "total_test_transitions = len(df_control_transitions[df_control_transitions[\"process_step\"] != \"start\"])\n",
    "\n",
    "df_control_backwards = df_control_transitions[df_control_transitions['error'] == True]\n",
    "\n",
    "control_transitions = 100 * len(df_control_backwards) / total_test_transitions\n",
    "control_transitions\n",
    "\n"
   ]
  },
  {
   "cell_type": "code",
   "execution_count": 32,
   "id": "811bf16a-d827-43d6-b43f-74090c483b40",
   "metadata": {},
   "outputs": [
    {
     "data": {
      "text/plain": [
       "4.712799563369333"
      ]
     },
     "execution_count": 32,
     "metadata": {},
     "output_type": "execute_result"
    }
   ],
   "source": [
    "df_test_transitions = df_merged[df_merged['variation'] == 'Test']\n",
    "\n",
    "total_test_transitions = len(df_test_transitions[df_test_transitions[\"process_step\"] != \"start\"])\n",
    "\n",
    "df_test_backwards = df_test_transitions[df_test_transitions['error'] == True]\n",
    "\n",
    "test_transitions = 100 * len(df_test_backwards) / total_test_transitions\n",
    "test_transitions"
   ]
  },
  {
   "cell_type": "code",
   "execution_count": 34,
   "id": "a17bf520-5bf8-4b96-b01a-c8ce8d201f5e",
   "metadata": {},
   "outputs": [
    {
     "name": "stdout",
     "output_type": "stream",
     "text": [
      "0.10226471456216195\n"
     ]
    }
   ],
   "source": [
    "step_order = {'start': 0, 'step_1': 1, 'step_2': 2, 'step_3': 3, 'confirm': 4}\n",
    "df_merged['step_numeric'] = df_merged['process_step'].map(step_order)\n",
    "# Ensure the data is sorted by client_id and date_time\n",
    "df_merged = df_merged.sort_values(by=['client_id', 'date_time'])\n",
    "# Check if the next step is less than the current step\n",
    "df_merged['error'] = df_merged.groupby('client_id')['step_numeric'].shift(-1) < df_merged['step_numeric']\n",
    "error_rate = df_merged['error'].mean()\n",
    "print(error_rate)"
   ]
  },
  {
   "cell_type": "code",
   "execution_count": 36,
   "id": "14bdf416-05c8-4a9b-97c7-99f563c6b272",
   "metadata": {},
   "outputs": [
    {
     "name": "stdout",
     "output_type": "stream",
     "text": [
      "process_step\n",
      "confirm    0.063439\n",
      "start      0.000000\n",
      "step_1     0.163266\n",
      "step_2     0.141296\n",
      "step_3     0.218799\n",
      "Name: error, dtype: float64\n"
     ]
    }
   ],
   "source": [
    "error_rate_by_step = df_merged.groupby('process_step')['error'].mean()\n",
    "print(error_rate_by_step)"
   ]
  },
  {
   "cell_type": "code",
   "execution_count": 24,
   "id": "6b9c16d9-d236-4d57-a2f2-9e0ac8c5b52c",
   "metadata": {},
   "outputs": [
    {
     "name": "stdout",
     "output_type": "stream",
     "text": [
      "Binomial Test P-value : 5.6838514065e-24\n"
     ]
    }
   ],
   "source": [
    "# Binomial test\n",
    "successes = test_completed\n",
    "total = test_started\n",
    "p_null = control_completion_rate\n",
    "\n",
    "binom_result = binomtest(successes, total, p=p_null, alternative='greater')\n",
    "print(f\"Binomial Test P-value : {binom_result.pvalue:.10e}\")\n"
   ]
  },
  {
   "cell_type": "code",
   "execution_count": 38,
   "id": "4d967f81-81d2-4585-8c8b-210c9e5029b6",
   "metadata": {},
   "outputs": [],
   "source": [
    "# Create completion arrays for Control and Test groups\n",
    "control_completion = control_group['process_step'].apply(lambda x: 1 if x == 'confirm' else 0)\n",
    "test_completion = test_group['process_step'].apply(lambda x: 1 if x == 'confirm' else 0)"
   ]
  },
  {
   "cell_type": "code",
   "execution_count": 40,
   "id": "9e194e54-fac4-4f6e-9b4a-a65dc56c75c9",
   "metadata": {},
   "outputs": [
    {
     "name": "stdout",
     "output_type": "stream",
     "text": [
      "T-statistic: -14.8044, P-value: 1.4182407520e-49\n"
     ]
    }
   ],
   "source": [
    "t_stat, p_value = ttest_ind(control_completion, test_completion, equal_var=False)\n",
    "print(f\"T-statistic: {t_stat:.4f}, P-value: {p_value:.10e}\")"
   ]
  },
  {
   "cell_type": "code",
   "execution_count": 42,
   "id": "075423cb-5941-48a7-87d8-0dc56aaf98de",
   "metadata": {},
   "outputs": [
    {
     "name": "stdout",
     "output_type": "stream",
     "text": [
      "The difference in completion rates between Control and Test groups is statistically significant.\n"
     ]
    }
   ],
   "source": [
    "# Interpret the result\n",
    "alpha = 0.05\n",
    "if p_value < alpha:\n",
    "    print(\"The difference in completion rates between Control and Test groups is statistically significant.\")\n",
    "else:\n",
    "    print(\"The difference in completion rates between Control and Test groups is not statistically significant.\")"
   ]
  },
  {
   "cell_type": "code",
   "execution_count": 44,
   "id": "5bbf1a6a-7944-436d-8f26-dc1e652b6048",
   "metadata": {},
   "outputs": [],
   "source": [
    "df_merged['completion_rate_control'] = control_completion_rate \n",
    "df_merged['completion_rate_test'] = test_completion_rate        "
   ]
  },
  {
   "cell_type": "code",
   "execution_count": 46,
   "id": "aab1cd63-a783-44e9-9a13-75b5949b0576",
   "metadata": {},
   "outputs": [],
   "source": [
    "df_merged['error_rate_control'] = error_rate_by_variation[error_rate_by_variation['variation'] == 'Control']['error'].values[0]\n",
    "df_merged['error_rate_test'] = error_rate_by_variation[error_rate_by_variation['variation'] == 'Test']['error'].values[0]"
   ]
  },
  {
   "cell_type": "code",
   "execution_count": 48,
   "id": "01c3500f-5fc9-4c57-b617-ca2676ee88b9",
   "metadata": {},
   "outputs": [],
   "source": [
    "# Error rates (overall)\n",
    "error_rate_overall = pd.DataFrame({\n",
    "    'variation': ['Control', 'Test'],\n",
    "    'error_rate': [\n",
    "        error_rate_by_variation.query(\"variation == 'Control'\")['error'].values[0],\n",
    "        error_rate_by_variation.query(\"variation == 'Test'\")['error'].values[0]\n",
    "    ]\n",
    "})\n",
    "\n",
    "error_rate_by_step = error_rate_by_step.rename('step_error_rate')"
   ]
  },
  {
   "cell_type": "code",
   "execution_count": 114,
   "id": "dffb3212-73cb-4b4c-bc0c-d14ee56e920c",
   "metadata": {},
   "outputs": [],
   "source": [
    "df_merged.to_csv(\"../data/clean/df_combined_exp.csv\", index=False)"
   ]
  },
  {
   "cell_type": "code",
   "execution_count": null,
   "id": "97593c99-c4f4-4389-9ba9-dc4265f902a8",
   "metadata": {},
   "outputs": [],
   "source": []
  }
 ],
 "metadata": {
  "kernelspec": {
   "display_name": "Python 3 (ipykernel)",
   "language": "python",
   "name": "python3"
  },
  "language_info": {
   "codemirror_mode": {
    "name": "ipython",
    "version": 3
   },
   "file_extension": ".py",
   "mimetype": "text/x-python",
   "name": "python",
   "nbconvert_exporter": "python",
   "pygments_lexer": "ipython3",
   "version": "3.12.4"
  }
 },
 "nbformat": 4,
 "nbformat_minor": 5
}
