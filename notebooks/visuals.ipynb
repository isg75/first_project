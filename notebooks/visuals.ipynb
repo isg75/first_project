{
 "cells": [
  {
   "cell_type": "code",
   "execution_count": null,
   "id": "17963993-a2d2-4927-8ce8-7ad43a9b15ff",
   "metadata": {},
   "outputs": [],
   "source": [
    "import pandas as pd"
   ]
  },
  {
   "cell_type": "code",
   "execution_count": 6,
   "id": "39ce6dd4-7258-4e6c-8f75-13aea2cf0dfc",
   "metadata": {},
   "outputs": [
    {
     "data": {
      "text/html": [
       "<div>\n",
       "<style scoped>\n",
       "    .dataframe tbody tr th:only-of-type {\n",
       "        vertical-align: middle;\n",
       "    }\n",
       "\n",
       "    .dataframe tbody tr th {\n",
       "        vertical-align: top;\n",
       "    }\n",
       "\n",
       "    .dataframe thead th {\n",
       "        text-align: right;\n",
       "    }\n",
       "</style>\n",
       "<table border=\"1\" class=\"dataframe\">\n",
       "  <thead>\n",
       "    <tr style=\"text-align: right;\">\n",
       "      <th></th>\n",
       "      <th>Post ID</th>\n",
       "      <th>Post Title</th>\n",
       "      <th>Comment ID</th>\n",
       "      <th>Comment Author</th>\n",
       "      <th>Comment Score</th>\n",
       "      <th>Comment Body</th>\n",
       "      <th>Comment Created</th>\n",
       "    </tr>\n",
       "  </thead>\n",
       "  <tbody>\n",
       "    <tr>\n",
       "      <th>0</th>\n",
       "      <td>17i2fhi</td>\n",
       "      <td>Are you guys worried that AI will take your job?</td>\n",
       "      <td>k6rs0pq</td>\n",
       "      <td>Thisbymaster</td>\n",
       "      <td>26</td>\n",
       "      <td>Try getting GitHub copilot to build a function...</td>\n",
       "      <td>1698461647</td>\n",
       "    </tr>\n",
       "    <tr>\n",
       "      <th>1</th>\n",
       "      <td>17i2fhi</td>\n",
       "      <td>Are you guys worried that AI will take your job?</td>\n",
       "      <td>k6rg2pa</td>\n",
       "      <td>usernames_suck_ok</td>\n",
       "      <td>39</td>\n",
       "      <td>The fact that employers don't want people to w...</td>\n",
       "      <td>1698455954</td>\n",
       "    </tr>\n",
       "    <tr>\n",
       "      <th>2</th>\n",
       "      <td>17i2fhi</td>\n",
       "      <td>Are you guys worried that AI will take your job?</td>\n",
       "      <td>k6ruz4g</td>\n",
       "      <td>ponzi_pyramid_digdug</td>\n",
       "      <td>18</td>\n",
       "      <td>Sometimes. Then I see what ai can output and d...</td>\n",
       "      <td>1698463171</td>\n",
       "    </tr>\n",
       "    <tr>\n",
       "      <th>3</th>\n",
       "      <td>17i2fhi</td>\n",
       "      <td>Are you guys worried that AI will take your job?</td>\n",
       "      <td>k6rfq8z</td>\n",
       "      <td>Battosai_Kenshin99</td>\n",
       "      <td>88</td>\n",
       "      <td>I do not understand people's fear of AI. Imagi...</td>\n",
       "      <td>1698455791</td>\n",
       "    </tr>\n",
       "    <tr>\n",
       "      <th>4</th>\n",
       "      <td>17i2fhi</td>\n",
       "      <td>Are you guys worried that AI will take your job?</td>\n",
       "      <td>k6rt4lj</td>\n",
       "      <td>Excuse_my_GRAMMER</td>\n",
       "      <td>7</td>\n",
       "      <td>Not really lol AI is just another tool \\n\\nI t...</td>\n",
       "      <td>1698462202</td>\n",
       "    </tr>\n",
       "  </tbody>\n",
       "</table>\n",
       "</div>"
      ],
      "text/plain": [
       "   Post ID                                        Post Title Comment ID  \\\n",
       "0  17i2fhi  Are you guys worried that AI will take your job?    k6rs0pq   \n",
       "1  17i2fhi  Are you guys worried that AI will take your job?    k6rg2pa   \n",
       "2  17i2fhi  Are you guys worried that AI will take your job?    k6ruz4g   \n",
       "3  17i2fhi  Are you guys worried that AI will take your job?    k6rfq8z   \n",
       "4  17i2fhi  Are you guys worried that AI will take your job?    k6rt4lj   \n",
       "\n",
       "         Comment Author  Comment Score  \\\n",
       "0          Thisbymaster             26   \n",
       "1     usernames_suck_ok             39   \n",
       "2  ponzi_pyramid_digdug             18   \n",
       "3    Battosai_Kenshin99             88   \n",
       "4     Excuse_my_GRAMMER              7   \n",
       "\n",
       "                                        Comment Body  Comment Created  \n",
       "0  Try getting GitHub copilot to build a function...       1698461647  \n",
       "1  The fact that employers don't want people to w...       1698455954  \n",
       "2  Sometimes. Then I see what ai can output and d...       1698463171  \n",
       "3  I do not understand people's fear of AI. Imagi...       1698455791  \n",
       "4  Not really lol AI is just another tool \\n\\nI t...       1698462202  "
      ]
     },
     "execution_count": 6,
     "metadata": {},
     "output_type": "execute_result"
    }
   ],
   "source": [
    "reddit_comments =pd.read_csv(r'..\\data\\raw\\reddit_comments_combined.csv')\n",
    "reddit_comments.head()\n",
    "\n"
   ]
  },
  {
   "cell_type": "markdown",
   "id": "6fe3b8ba-7b18-4c4c-97b9-1eb022a241c5",
   "metadata": {},
   "source": [
    "## Clean column name by lower and replace white space"
   ]
  },
  {
   "cell_type": "code",
   "execution_count": 8,
   "id": "f292607e-6eca-45c0-8d49-8a045f4af12b",
   "metadata": {
    "scrolled": true
   },
   "outputs": [],
   "source": [
    "#clean column name-1 change to lower letter and replace white space with _ null values\n",
    "reddit_comments.columns = (\n",
    "reddit_comments.columns.str.lower().str.replace(\" \", \"_\").str.strip()\n",
    ")"
   ]
  },
  {
   "cell_type": "code",
   "execution_count": 2,
   "id": "2a383e21-d376-47ef-9e02-ae892d17f04e",
   "metadata": {},
   "outputs": [
    {
     "ename": "NameError",
     "evalue": "name 'reddit_comments' is not defined",
     "output_type": "error",
     "traceback": [
      "\u001b[31m---------------------------------------------------------------------------\u001b[39m",
      "\u001b[31mNameError\u001b[39m                                 Traceback (most recent call last)",
      "\u001b[36mCell\u001b[39m\u001b[36m \u001b[39m\u001b[32mIn[2]\u001b[39m\u001b[32m, line 1\u001b[39m\n\u001b[32m----> \u001b[39m\u001b[32m1\u001b[39m \u001b[43mreddit_comments\u001b[49m.to_csv(\u001b[33mr\u001b[39m\u001b[33m'\u001b[39m\u001b[33m..\u001b[39m\u001b[33m\\\u001b[39m\u001b[33mdata\u001b[39m\u001b[33m\\\u001b[39m\u001b[33mraw\u001b[39m\u001b[33m\\\u001b[39m\u001b[33mai_job_sentiments.csv\u001b[39m\u001b[33m'\u001b[39m, index=\u001b[38;5;28;01mFalse\u001b[39;00m, encoding=\u001b[33m'\u001b[39m\u001b[33mutf-8\u001b[39m\u001b[33m'\u001b[39m, sep=\u001b[33m\"\u001b[39m\u001b[33m;\u001b[39m\u001b[33m\"\u001b[39m)\n",
      "\u001b[31mNameError\u001b[39m: name 'reddit_comments' is not defined"
     ]
    }
   ],
   "source": [
    "reddit_comments.to_csv(r'..\\data\\raw\\ai_job_sentiments.csv', index=False, encoding='utf-8', sep=\";\")\n"
   ]
  },
  {
   "cell_type": "code",
   "execution_count": 9,
   "id": "2f4564e7-e27a-4d85-bbf2-7a648e4f12c6",
   "metadata": {},
   "outputs": [
    {
     "name": "stdout",
     "output_type": "stream",
     "text": [
      "Missing values per column:\n",
      " post_id             0\n",
      "post_title          0\n",
      "comment_id          0\n",
      "comment_author     89\n",
      "comment_score       0\n",
      "comment_body        0\n",
      "comment_created     0\n",
      "dtype: int64\n"
     ]
    }
   ],
   "source": [
    "# 2. View nulls\n",
    "print(\"Missing values per column:\\n\", reddit_comments.isnull().sum())"
   ]
  },
  {
   "cell_type": "code",
   "execution_count": 12,
   "id": "4d7ce0d6-2793-4bee-b403-7ff829104dcf",
   "metadata": {},
   "outputs": [],
   "source": [
    " for col in reddit_comments.columns:\n",
    "    if reddit_comments[col].isnull().sum() == 0:\n",
    "        continue  # Skip columns with no missing values\n",
    "    \n",
    "    if reddit_comments[col].dtype == 'object':\n",
    "        mode_val = reddit_comments[col].mode()\n",
    "        if not mode_val.empty:\n",
    "            reddit_comments[col] = reddit_comments[col].fillna(mode_val[0])\n",
    "        else:\n",
    "            reddit_comments[col] = reddit_comments[col].fillna(\"unknown\")  # fallback\n",
    "    else:\n",
    "        mean_val = reddit_comments[col].mean()\n",
    "        reddit_comments[col] = reddit_comments[col].fillna(mean_val)"
   ]
  },
  {
   "cell_type": "code",
   "execution_count": 15,
   "id": "0008a94b-65c3-49ec-9463-db2bc6f5eaaf",
   "metadata": {},
   "outputs": [],
   "source": [
    "\n",
    "reddit_comments['comment_author'] = reddit_comments['comment_author'].fillna('anonymous')\n",
    "\n"
   ]
  },
  {
   "cell_type": "code",
   "execution_count": 16,
   "id": "67783f34-8a46-4998-ab53-3b8784826047",
   "metadata": {},
   "outputs": [],
   "source": [
    "# Remove duplicates\n",
    "reddit_comments = reddit_comments.drop_duplicates().reset_index(drop=True)"
   ]
  },
  {
   "cell_type": "code",
   "execution_count": 17,
   "id": "f2cd30de-f8f1-4b6d-bd8f-26172749e009",
   "metadata": {},
   "outputs": [
    {
     "name": "stdout",
     "output_type": "stream",
     "text": [
      "Remaining nulls:\n",
      " post_id            0\n",
      "post_title         0\n",
      "comment_id         0\n",
      "comment_author     0\n",
      "comment_score      0\n",
      "comment_body       0\n",
      "comment_created    0\n",
      "dtype: int64\n"
     ]
    }
   ],
   "source": [
    "print(\"Remaining nulls:\\n\", reddit_comments.isnull().sum())\n"
   ]
  },
  {
   "cell_type": "code",
   "execution_count": null,
   "id": "b3063c11-c90f-4f32-81a3-e358ce0812f4",
   "metadata": {},
   "outputs": [],
   "source": [
    "import pandas as pd"
   ]
  },
  {
   "cell_type": "code",
   "execution_count": 19,
   "id": "b35f56e9-c1a4-49ca-93f8-b04571cd86b0",
   "metadata": {},
   "outputs": [
    {
     "data": {
      "text/html": [
       "<div>\n",
       "<style scoped>\n",
       "    .dataframe tbody tr th:only-of-type {\n",
       "        vertical-align: middle;\n",
       "    }\n",
       "\n",
       "    .dataframe tbody tr th {\n",
       "        vertical-align: top;\n",
       "    }\n",
       "\n",
       "    .dataframe thead th {\n",
       "        text-align: right;\n",
       "    }\n",
       "</style>\n",
       "<table border=\"1\" class=\"dataframe\">\n",
       "  <thead>\n",
       "    <tr style=\"text-align: right;\">\n",
       "      <th></th>\n",
       "      <th>Occupation Title</th>\n",
       "      <th>Occupation Code</th>\n",
       "      <th>Employment 2023</th>\n",
       "      <th>Employment 2033</th>\n",
       "      <th>Employment Change, 2023-2033</th>\n",
       "      <th>Employment Percent Change, 2023-2033</th>\n",
       "      <th>Occupational Openings, 2023-2033 Annual Average</th>\n",
       "      <th>Median Annual Wage 2024</th>\n",
       "      <th>Typical Entry-Level Education</th>\n",
       "      <th>Education Code</th>\n",
       "      <th>Work Experience in a Related Occupation</th>\n",
       "      <th>Workex Code</th>\n",
       "      <th>Typical on-the-job Training</th>\n",
       "      <th>trCode</th>\n",
       "    </tr>\n",
       "  </thead>\n",
       "  <tbody>\n",
       "    <tr>\n",
       "      <th>0</th>\n",
       "      <td>Accountants and auditors    * Account Auditor*...</td>\n",
       "      <td>=\"13-2011\"</td>\n",
       "      <td>1,562.0</td>\n",
       "      <td>1,653.4</td>\n",
       "      <td>91.4</td>\n",
       "      <td>5.8</td>\n",
       "      <td>130.8</td>\n",
       "      <td>81,680</td>\n",
       "      <td>Bachelor's degree</td>\n",
       "      <td>3</td>\n",
       "      <td>NaN</td>\n",
       "      <td>4</td>\n",
       "      <td>NaN</td>\n",
       "      <td>6</td>\n",
       "    </tr>\n",
       "    <tr>\n",
       "      <th>1</th>\n",
       "      <td>Actors    * Actor Understudy* Actress* Dramati...</td>\n",
       "      <td>=\"27-2011\"</td>\n",
       "      <td>76.0</td>\n",
       "      <td>79.5</td>\n",
       "      <td>3.5</td>\n",
       "      <td>4.5</td>\n",
       "      <td>8.6</td>\n",
       "      <td>NaN</td>\n",
       "      <td>Some college, no degree</td>\n",
       "      <td>6</td>\n",
       "      <td>NaN</td>\n",
       "      <td>4</td>\n",
       "      <td>Long-term on-the-job training</td>\n",
       "      <td>3</td>\n",
       "    </tr>\n",
       "    <tr>\n",
       "      <th>2</th>\n",
       "      <td>Actuaries    * Actuarial Associate* Actuarial ...</td>\n",
       "      <td>=\"15-2011\"</td>\n",
       "      <td>30.2</td>\n",
       "      <td>36.8</td>\n",
       "      <td>6.6</td>\n",
       "      <td>21.8</td>\n",
       "      <td>2.2</td>\n",
       "      <td>125,770</td>\n",
       "      <td>Bachelor's degree</td>\n",
       "      <td>3</td>\n",
       "      <td>NaN</td>\n",
       "      <td>4</td>\n",
       "      <td>Long-term on-the-job training</td>\n",
       "      <td>3</td>\n",
       "    </tr>\n",
       "    <tr>\n",
       "      <th>3</th>\n",
       "      <td>Acupuncturists    * Acupuncture Physician* Lic...</td>\n",
       "      <td>=\"29-1291\"</td>\n",
       "      <td>22.1</td>\n",
       "      <td>23.3</td>\n",
       "      <td>1.2</td>\n",
       "      <td>5.5</td>\n",
       "      <td>1.3</td>\n",
       "      <td>78,140</td>\n",
       "      <td>Master's degree</td>\n",
       "      <td>2</td>\n",
       "      <td>NaN</td>\n",
       "      <td>4</td>\n",
       "      <td>NaN</td>\n",
       "      <td>6</td>\n",
       "    </tr>\n",
       "    <tr>\n",
       "      <th>4</th>\n",
       "      <td>Adhesive bonding machine operators and tenders...</td>\n",
       "      <td>=\"51-9191\"</td>\n",
       "      <td>12.5</td>\n",
       "      <td>12.4</td>\n",
       "      <td>-0.1</td>\n",
       "      <td>-0.5</td>\n",
       "      <td>1.2</td>\n",
       "      <td>45,210</td>\n",
       "      <td>High school diploma or equivalent</td>\n",
       "      <td>7</td>\n",
       "      <td>NaN</td>\n",
       "      <td>4</td>\n",
       "      <td>Moderate-term on-the-job training</td>\n",
       "      <td>4</td>\n",
       "    </tr>\n",
       "  </tbody>\n",
       "</table>\n",
       "</div>"
      ],
      "text/plain": [
       "                                    Occupation Title Occupation Code  \\\n",
       "0  Accountants and auditors    * Account Auditor*...      =\"13-2011\"   \n",
       "1  Actors    * Actor Understudy* Actress* Dramati...      =\"27-2011\"   \n",
       "2  Actuaries    * Actuarial Associate* Actuarial ...      =\"15-2011\"   \n",
       "3  Acupuncturists    * Acupuncture Physician* Lic...      =\"29-1291\"   \n",
       "4  Adhesive bonding machine operators and tenders...      =\"51-9191\"   \n",
       "\n",
       "  Employment 2023 Employment 2033  Employment Change, 2023-2033  \\\n",
       "0         1,562.0         1,653.4                          91.4   \n",
       "1            76.0            79.5                           3.5   \n",
       "2            30.2            36.8                           6.6   \n",
       "3            22.1            23.3                           1.2   \n",
       "4            12.5            12.4                          -0.1   \n",
       "\n",
       "   Employment Percent Change, 2023-2033  \\\n",
       "0                                   5.8   \n",
       "1                                   4.5   \n",
       "2                                  21.8   \n",
       "3                                   5.5   \n",
       "4                                  -0.5   \n",
       "\n",
       "   Occupational Openings, 2023-2033 Annual Average Median Annual Wage 2024  \\\n",
       "0                                            130.8                  81,680   \n",
       "1                                              8.6                     NaN   \n",
       "2                                              2.2                 125,770   \n",
       "3                                              1.3                  78,140   \n",
       "4                                              1.2                  45,210   \n",
       "\n",
       "       Typical Entry-Level Education  Education Code  \\\n",
       "0                  Bachelor's degree               3   \n",
       "1            Some college, no degree               6   \n",
       "2                  Bachelor's degree               3   \n",
       "3                    Master's degree               2   \n",
       "4  High school diploma or equivalent               7   \n",
       "\n",
       "  Work Experience in a Related Occupation  Workex Code  \\\n",
       "0                                     NaN            4   \n",
       "1                                     NaN            4   \n",
       "2                                     NaN            4   \n",
       "3                                     NaN            4   \n",
       "4                                     NaN            4   \n",
       "\n",
       "         Typical on-the-job Training  trCode  \n",
       "0                                NaN       6  \n",
       "1      Long-term on-the-job training       3  \n",
       "2      Long-term on-the-job training       3  \n",
       "3                                NaN       6  \n",
       "4  Moderate-term on-the-job training       4  "
      ]
     },
     "execution_count": 19,
     "metadata": {},
     "output_type": "execute_result"
    }
   ],
   "source": [
    "Employment_projections = pd.read_csv(r'..\\data\\raw\\Employment_projections.csv')\n",
    "Employment_projections.head()\n"
   ]
  },
  {
   "cell_type": "code",
   "execution_count": 20,
   "id": "52935c3e-400a-4263-a6c3-6e7f0f635f4a",
   "metadata": {},
   "outputs": [],
   "source": [
    "# 1. Clean column names\n",
    "Employment_projections.columns = Employment_projections.columns.str.lower().str.replace(\" \", \"_\").str.strip()"
   ]
  },
  {
   "cell_type": "code",
   "execution_count": 24,
   "id": "2fe05d51-47b9-45c1-969e-001088756603",
   "metadata": {
    "scrolled": true
   },
   "outputs": [
    {
     "name": "stdout",
     "output_type": "stream",
     "text": [
      "Missing values per column:\n",
      " occupation_title                                     0\n",
      "occupation_code                                      0\n",
      "employment_2023                                      0\n",
      "employment_2033                                      0\n",
      "employment_change,_2023-2033                         0\n",
      "employment_percent_change,_2023-2033                 0\n",
      "occupational_openings,_2023-2033_annual_average      0\n",
      "median_annual_wage_2024                              6\n",
      "typical_entry-level_education                        0\n",
      "education_code                                       0\n",
      "work_experience_in_a_related_occupation            719\n",
      "workex_code                                          0\n",
      "typical_on-the-job_training                        322\n",
      "trcode                                               0\n",
      "dtype: int64\n"
     ]
    }
   ],
   "source": [
    "# 2. View nulls\n",
    "print(\"Missing values per column:\\n\", Employment_projections.isnull().sum())"
   ]
  },
  {
   "cell_type": "code",
   "execution_count": 31,
   "id": "55cee13d-c0b0-4c33-a889-8d797b337029",
   "metadata": {},
   "outputs": [
    {
     "name": "stdout",
     "output_type": "stream",
     "text": [
      "['Occupation Title', 'Occupation Code', 'Employment 2023', 'Employment 2033', 'Employment Change, 2023-2033', 'Employment Percent Change, 2023-2033', 'Occupational Openings, 2023-2033 Annual Average', 'Median Annual Wage 2024', 'Typical Entry-Level Education', 'Education Code', 'Work Experience in a Related Occupation', 'Workex Code', 'Typical on-the-job Training', 'trCode']\n"
     ]
    }
   ],
   "source": [
    "print(df.columns.tolist())\n",
    "\n"
   ]
  },
  {
   "cell_type": "code",
   "execution_count": 32,
   "id": "8582d9fd-59c7-41ba-b9d8-c86be6869fb6",
   "metadata": {},
   "outputs": [
    {
     "name": "stdout",
     "output_type": "stream",
     "text": [
      "['occupation_title', 'occupation_code', 'employment_2023', 'employment_2033', 'employment_change_2023-2033', 'employment_percent_change_2023-2033', 'occupational_openings_2023-2033_annual_average', 'median_annual_wage_2024', 'typical_entry-level_education', 'education_code', 'work_experience_in_a_related_occupation', 'workex_code', 'typical_on-the-job_training', 'trcode']\n"
     ]
    }
   ],
   "source": [
    "df.columns = df.columns.str.lower().str.replace(\" \", \"_\").str.replace(\",\", \"\").str.strip()\n",
    "print(df.columns.tolist())\n"
   ]
  },
  {
   "cell_type": "code",
   "execution_count": 37,
   "id": "1acdbc07-a5b9-476a-b92d-67e084ae0405",
   "metadata": {},
   "outputs": [],
   "source": [
    "df['work_experience_in_a_related_occupation'] = df['work_experience_in_a_related_occupation'].fillna('Not Required')\n"
   ]
  },
  {
   "cell_type": "code",
   "execution_count": 38,
   "id": "14ee00ab-6405-45f4-971a-27cd8a19fe0c",
   "metadata": {},
   "outputs": [],
   "source": [
    "df['typical_on-the-job_training'] = df['typical_on-the-job_training'].fillna('None')\n"
   ]
  },
  {
   "cell_type": "raw",
   "id": "12cf3f55-488f-4bf0-9106-9ee17bd6f6a8",
   "metadata": {},
   "source": [
    "print(df[['work_experience_in_a_related_occupation', 'typical_on-the-job_training']].isnull().sum())\n"
   ]
  },
  {
   "cell_type": "code",
   "execution_count": 56,
   "id": "f9cac495-0a3e-4a65-a0f2-9130d64b62df",
   "metadata": {},
   "outputs": [
    {
     "data": {
      "text/html": [
       "<div>\n",
       "<style scoped>\n",
       "    .dataframe tbody tr th:only-of-type {\n",
       "        vertical-align: middle;\n",
       "    }\n",
       "\n",
       "    .dataframe tbody tr th {\n",
       "        vertical-align: top;\n",
       "    }\n",
       "\n",
       "    .dataframe thead th {\n",
       "        text-align: right;\n",
       "    }\n",
       "</style>\n",
       "<table border=\"1\" class=\"dataframe\">\n",
       "  <thead>\n",
       "    <tr style=\"text-align: right;\">\n",
       "      <th></th>\n",
       "      <th>occupation_title</th>\n",
       "      <th>occupation_code</th>\n",
       "      <th>employment_2023</th>\n",
       "      <th>employment_2033</th>\n",
       "      <th>employment_change,_2023-2033</th>\n",
       "      <th>employment_percent_change,_2023-2033</th>\n",
       "      <th>occupational_openings,_2023-2033_annual_average</th>\n",
       "      <th>median_annual_wage_2024</th>\n",
       "      <th>typical_entry-level_education</th>\n",
       "      <th>education_code</th>\n",
       "      <th>work_experience_in_a_related_occupation</th>\n",
       "      <th>workex_code</th>\n",
       "      <th>typical_on-the-job_training</th>\n",
       "      <th>trcode</th>\n",
       "    </tr>\n",
       "  </thead>\n",
       "  <tbody>\n",
       "    <tr>\n",
       "      <th>0</th>\n",
       "      <td>Accountants and auditors    * Account Auditor*...</td>\n",
       "      <td>=\"13-2011\"</td>\n",
       "      <td>1,562.0</td>\n",
       "      <td>1,653.4</td>\n",
       "      <td>91.4</td>\n",
       "      <td>5.8</td>\n",
       "      <td>130.8</td>\n",
       "      <td>81,680</td>\n",
       "      <td>Bachelor's degree</td>\n",
       "      <td>3</td>\n",
       "      <td>NaN</td>\n",
       "      <td>4</td>\n",
       "      <td>NaN</td>\n",
       "      <td>6</td>\n",
       "    </tr>\n",
       "    <tr>\n",
       "      <th>1</th>\n",
       "      <td>Actors    * Actor Understudy* Actress* Dramati...</td>\n",
       "      <td>=\"27-2011\"</td>\n",
       "      <td>76.0</td>\n",
       "      <td>79.5</td>\n",
       "      <td>3.5</td>\n",
       "      <td>4.5</td>\n",
       "      <td>8.6</td>\n",
       "      <td>NaN</td>\n",
       "      <td>Some college, no degree</td>\n",
       "      <td>6</td>\n",
       "      <td>NaN</td>\n",
       "      <td>4</td>\n",
       "      <td>Long-term on-the-job training</td>\n",
       "      <td>3</td>\n",
       "    </tr>\n",
       "    <tr>\n",
       "      <th>2</th>\n",
       "      <td>Actuaries    * Actuarial Associate* Actuarial ...</td>\n",
       "      <td>=\"15-2011\"</td>\n",
       "      <td>30.2</td>\n",
       "      <td>36.8</td>\n",
       "      <td>6.6</td>\n",
       "      <td>21.8</td>\n",
       "      <td>2.2</td>\n",
       "      <td>125,770</td>\n",
       "      <td>Bachelor's degree</td>\n",
       "      <td>3</td>\n",
       "      <td>NaN</td>\n",
       "      <td>4</td>\n",
       "      <td>Long-term on-the-job training</td>\n",
       "      <td>3</td>\n",
       "    </tr>\n",
       "    <tr>\n",
       "      <th>3</th>\n",
       "      <td>Acupuncturists    * Acupuncture Physician* Lic...</td>\n",
       "      <td>=\"29-1291\"</td>\n",
       "      <td>22.1</td>\n",
       "      <td>23.3</td>\n",
       "      <td>1.2</td>\n",
       "      <td>5.5</td>\n",
       "      <td>1.3</td>\n",
       "      <td>78,140</td>\n",
       "      <td>Master's degree</td>\n",
       "      <td>2</td>\n",
       "      <td>NaN</td>\n",
       "      <td>4</td>\n",
       "      <td>NaN</td>\n",
       "      <td>6</td>\n",
       "    </tr>\n",
       "    <tr>\n",
       "      <th>4</th>\n",
       "      <td>Adhesive bonding machine operators and tenders...</td>\n",
       "      <td>=\"51-9191\"</td>\n",
       "      <td>12.5</td>\n",
       "      <td>12.4</td>\n",
       "      <td>-0.1</td>\n",
       "      <td>-0.5</td>\n",
       "      <td>1.2</td>\n",
       "      <td>45,210</td>\n",
       "      <td>High school diploma or equivalent</td>\n",
       "      <td>7</td>\n",
       "      <td>NaN</td>\n",
       "      <td>4</td>\n",
       "      <td>Moderate-term on-the-job training</td>\n",
       "      <td>4</td>\n",
       "    </tr>\n",
       "  </tbody>\n",
       "</table>\n",
       "</div>"
      ],
      "text/plain": [
       "                                    occupation_title occupation_code  \\\n",
       "0  Accountants and auditors    * Account Auditor*...      =\"13-2011\"   \n",
       "1  Actors    * Actor Understudy* Actress* Dramati...      =\"27-2011\"   \n",
       "2  Actuaries    * Actuarial Associate* Actuarial ...      =\"15-2011\"   \n",
       "3  Acupuncturists    * Acupuncture Physician* Lic...      =\"29-1291\"   \n",
       "4  Adhesive bonding machine operators and tenders...      =\"51-9191\"   \n",
       "\n",
       "  employment_2023 employment_2033  employment_change,_2023-2033  \\\n",
       "0         1,562.0         1,653.4                          91.4   \n",
       "1            76.0            79.5                           3.5   \n",
       "2            30.2            36.8                           6.6   \n",
       "3            22.1            23.3                           1.2   \n",
       "4            12.5            12.4                          -0.1   \n",
       "\n",
       "   employment_percent_change,_2023-2033  \\\n",
       "0                                   5.8   \n",
       "1                                   4.5   \n",
       "2                                  21.8   \n",
       "3                                   5.5   \n",
       "4                                  -0.5   \n",
       "\n",
       "   occupational_openings,_2023-2033_annual_average median_annual_wage_2024  \\\n",
       "0                                            130.8                  81,680   \n",
       "1                                              8.6                     NaN   \n",
       "2                                              2.2                 125,770   \n",
       "3                                              1.3                  78,140   \n",
       "4                                              1.2                  45,210   \n",
       "\n",
       "       typical_entry-level_education  education_code  \\\n",
       "0                  Bachelor's degree               3   \n",
       "1            Some college, no degree               6   \n",
       "2                  Bachelor's degree               3   \n",
       "3                    Master's degree               2   \n",
       "4  High school diploma or equivalent               7   \n",
       "\n",
       "  work_experience_in_a_related_occupation  workex_code  \\\n",
       "0                                     NaN            4   \n",
       "1                                     NaN            4   \n",
       "2                                     NaN            4   \n",
       "3                                     NaN            4   \n",
       "4                                     NaN            4   \n",
       "\n",
       "         typical_on-the-job_training  trcode  \n",
       "0                                NaN       6  \n",
       "1      Long-term on-the-job training       3  \n",
       "2      Long-term on-the-job training       3  \n",
       "3                                NaN       6  \n",
       "4  Moderate-term on-the-job training       4  "
      ]
     },
     "execution_count": 56,
     "metadata": {},
     "output_type": "execute_result"
    }
   ],
   "source": [
    "Employment_projections.head()\n"
   ]
  },
  {
   "cell_type": "code",
   "execution_count": 42,
   "id": "c0f089cc-78ed-49ff-84b9-824b9b2eec27",
   "metadata": {},
   "outputs": [
    {
     "data": {
      "text/html": [
       "<div>\n",
       "<style scoped>\n",
       "    .dataframe tbody tr th:only-of-type {\n",
       "        vertical-align: middle;\n",
       "    }\n",
       "\n",
       "    .dataframe tbody tr th {\n",
       "        vertical-align: top;\n",
       "    }\n",
       "\n",
       "    .dataframe thead th {\n",
       "        text-align: right;\n",
       "    }\n",
       "</style>\n",
       "<table border=\"1\" class=\"dataframe\">\n",
       "  <thead>\n",
       "    <tr style=\"text-align: right;\">\n",
       "      <th></th>\n",
       "      <th>Occupation Title</th>\n",
       "      <th>Occupation Code</th>\n",
       "      <th>Occupation Type</th>\n",
       "      <th>2023 Employment</th>\n",
       "      <th>2023 Percent of Industry</th>\n",
       "      <th>2023 Percent of Occupation</th>\n",
       "      <th>Projected 2033 Employment</th>\n",
       "      <th>Projected 2033 Percent of Industry</th>\n",
       "      <th>Projected 2033 Percent of Occupation</th>\n",
       "      <th>Employment Change, 2023-2033</th>\n",
       "      <th>Employment Percent Change, 2023-2033</th>\n",
       "      <th>Occupation Sort</th>\n",
       "      <th>Display Level</th>\n",
       "      <th>source_file</th>\n",
       "      <th>Industry Title</th>\n",
       "      <th>Industry Code</th>\n",
       "      <th>Industry Type</th>\n",
       "      <th>Industry Sort</th>\n",
       "    </tr>\n",
       "  </thead>\n",
       "  <tbody>\n",
       "    <tr>\n",
       "      <th>0</th>\n",
       "      <td>Total, all occupations</td>\n",
       "      <td>=\"00-0000\"</td>\n",
       "      <td>Summary</td>\n",
       "      <td>12,939.5</td>\n",
       "      <td>100.0</td>\n",
       "      <td>7.7</td>\n",
       "      <td>13,049.5</td>\n",
       "      <td>100.0</td>\n",
       "      <td>7.5</td>\n",
       "      <td>110.0</td>\n",
       "      <td>0.8</td>\n",
       "      <td>NaN</td>\n",
       "      <td>0</td>\n",
       "      <td>National_Employment_Matrix_IND_31-330.csv</td>\n",
       "      <td>NaN</td>\n",
       "      <td>NaN</td>\n",
       "      <td>NaN</td>\n",
       "      <td>NaN</td>\n",
       "    </tr>\n",
       "    <tr>\n",
       "      <th>1</th>\n",
       "      <td>Management occupations</td>\n",
       "      <td>=\"11-0000\"</td>\n",
       "      <td>Summary</td>\n",
       "      <td>857.7</td>\n",
       "      <td>6.6</td>\n",
       "      <td>6.5</td>\n",
       "      <td>889.8</td>\n",
       "      <td>6.8</td>\n",
       "      <td>6.3</td>\n",
       "      <td>32.0</td>\n",
       "      <td>3.7</td>\n",
       "      <td>2.0</td>\n",
       "      <td>1</td>\n",
       "      <td>National_Employment_Matrix_IND_31-330.csv</td>\n",
       "      <td>NaN</td>\n",
       "      <td>NaN</td>\n",
       "      <td>NaN</td>\n",
       "      <td>NaN</td>\n",
       "    </tr>\n",
       "    <tr>\n",
       "      <th>2</th>\n",
       "      <td>Top executives</td>\n",
       "      <td>=\"11-1000\"</td>\n",
       "      <td>Summary</td>\n",
       "      <td>273.6</td>\n",
       "      <td>2.1</td>\n",
       "      <td>6.9</td>\n",
       "      <td>279.5</td>\n",
       "      <td>2.1</td>\n",
       "      <td>6.6</td>\n",
       "      <td>5.8</td>\n",
       "      <td>2.1</td>\n",
       "      <td>3.0</td>\n",
       "      <td>2</td>\n",
       "      <td>National_Employment_Matrix_IND_31-330.csv</td>\n",
       "      <td>NaN</td>\n",
       "      <td>NaN</td>\n",
       "      <td>NaN</td>\n",
       "      <td>NaN</td>\n",
       "    </tr>\n",
       "    <tr>\n",
       "      <th>3</th>\n",
       "      <td>Chief executives</td>\n",
       "      <td>=\"11-1011\"</td>\n",
       "      <td>Line Item</td>\n",
       "      <td>12.7</td>\n",
       "      <td>0.1</td>\n",
       "      <td>4.0</td>\n",
       "      <td>13.1</td>\n",
       "      <td>0.1</td>\n",
       "      <td>4.0</td>\n",
       "      <td>0.4</td>\n",
       "      <td>3.2</td>\n",
       "      <td>4.0</td>\n",
       "      <td>3</td>\n",
       "      <td>National_Employment_Matrix_IND_31-330.csv</td>\n",
       "      <td>NaN</td>\n",
       "      <td>NaN</td>\n",
       "      <td>NaN</td>\n",
       "      <td>NaN</td>\n",
       "    </tr>\n",
       "    <tr>\n",
       "      <th>4</th>\n",
       "      <td>General and operations managers</td>\n",
       "      <td>=\"11-1021\"</td>\n",
       "      <td>Line Item</td>\n",
       "      <td>260.9</td>\n",
       "      <td>2.0</td>\n",
       "      <td>7.2</td>\n",
       "      <td>266.4</td>\n",
       "      <td>2.0</td>\n",
       "      <td>6.9</td>\n",
       "      <td>5.4</td>\n",
       "      <td>2.1</td>\n",
       "      <td>5.0</td>\n",
       "      <td>3</td>\n",
       "      <td>National_Employment_Matrix_IND_31-330.csv</td>\n",
       "      <td>NaN</td>\n",
       "      <td>NaN</td>\n",
       "      <td>NaN</td>\n",
       "      <td>NaN</td>\n",
       "    </tr>\n",
       "  </tbody>\n",
       "</table>\n",
       "</div>"
      ],
      "text/plain": [
       "                  Occupation Title Occupation Code Occupation Type  \\\n",
       "0           Total, all occupations      =\"00-0000\"         Summary   \n",
       "1           Management occupations      =\"11-0000\"         Summary   \n",
       "2                   Top executives      =\"11-1000\"         Summary   \n",
       "3                 Chief executives      =\"11-1011\"       Line Item   \n",
       "4  General and operations managers      =\"11-1021\"       Line Item   \n",
       "\n",
       "  2023 Employment  2023 Percent of Industry  2023 Percent of Occupation  \\\n",
       "0        12,939.5                     100.0                         7.7   \n",
       "1           857.7                       6.6                         6.5   \n",
       "2           273.6                       2.1                         6.9   \n",
       "3            12.7                       0.1                         4.0   \n",
       "4           260.9                       2.0                         7.2   \n",
       "\n",
       "  Projected 2033 Employment  Projected 2033 Percent of Industry  \\\n",
       "0                  13,049.5                               100.0   \n",
       "1                     889.8                                 6.8   \n",
       "2                     279.5                                 2.1   \n",
       "3                      13.1                                 0.1   \n",
       "4                     266.4                                 2.0   \n",
       "\n",
       "   Projected 2033 Percent of Occupation  Employment Change, 2023-2033  \\\n",
       "0                                   7.5                         110.0   \n",
       "1                                   6.3                          32.0   \n",
       "2                                   6.6                           5.8   \n",
       "3                                   4.0                           0.4   \n",
       "4                                   6.9                           5.4   \n",
       "\n",
       "   Employment Percent Change, 2023-2033  Occupation Sort  Display Level  \\\n",
       "0                                   0.8              NaN              0   \n",
       "1                                   3.7              2.0              1   \n",
       "2                                   2.1              3.0              2   \n",
       "3                                   3.2              4.0              3   \n",
       "4                                   2.1              5.0              3   \n",
       "\n",
       "                                 source_file Industry Title Industry Code  \\\n",
       "0  National_Employment_Matrix_IND_31-330.csv            NaN           NaN   \n",
       "1  National_Employment_Matrix_IND_31-330.csv            NaN           NaN   \n",
       "2  National_Employment_Matrix_IND_31-330.csv            NaN           NaN   \n",
       "3  National_Employment_Matrix_IND_31-330.csv            NaN           NaN   \n",
       "4  National_Employment_Matrix_IND_31-330.csv            NaN           NaN   \n",
       "\n",
       "  Industry Type  Industry Sort  \n",
       "0           NaN            NaN  \n",
       "1           NaN            NaN  \n",
       "2           NaN            NaN  \n",
       "3           NaN            NaN  \n",
       "4           NaN            NaN  "
      ]
     },
     "execution_count": 42,
     "metadata": {},
     "output_type": "execute_result"
    }
   ],
   "source": [
    "occupation_growth= pd.read_csv(r'..\\data\\clean\\occupation_growth.csv')\n",
    "occupation_growth.head()"
   ]
  },
  {
   "cell_type": "code",
   "execution_count": 43,
   "id": "fe0656d2-470b-498d-842a-9d522758ab15",
   "metadata": {},
   "outputs": [],
   "source": [
    "# 2. Clean column names\n",
    "df.columns = df.columns.str.lower().str.replace(\" \", \"_\").str.replace(\",\", \"\").str.strip()"
   ]
  },
  {
   "cell_type": "code",
   "execution_count": 44,
   "id": "05617bce-d10f-46f2-9791-5c2ae055593d",
   "metadata": {},
   "outputs": [
    {
     "name": "stdout",
     "output_type": "stream",
     "text": [
      "🔍 Missing values before cleaning:\n",
      " occupation_title                                  0\n",
      "occupation_code                                   0\n",
      "employment_2023                                   0\n",
      "employment_2033                                   0\n",
      "employment_change_2023-2033                       0\n",
      "employment_percent_change_2023-2033               0\n",
      "occupational_openings_2023-2033_annual_average    0\n",
      "median_annual_wage_2024                           6\n",
      "typical_entry-level_education                     0\n",
      "education_code                                    0\n",
      "work_experience_in_a_related_occupation           0\n",
      "workex_code                                       0\n",
      "typical_on-the-job_training                       0\n",
      "trcode                                            0\n",
      "dtype: int64\n"
     ]
    }
   ],
   "source": [
    "# 3. Check missing values\n",
    "print(\"Missing values before cleaning:\\n\", df.isnull().sum())\n"
   ]
  },
  {
   "cell_type": "code",
   "execution_count": 46,
   "id": "1d5f452e-ca22-4636-b478-a2624e67e0ae",
   "metadata": {},
   "outputs": [],
   "source": [
    "# Drop rows where median wage is missing\n",
    "df = df.dropna(subset=['median_annual_wage_2024'])"
   ]
  },
  {
   "cell_type": "code",
   "execution_count": 47,
   "id": "56d21975-97a4-44e4-b8dd-c7fd807d1ea9",
   "metadata": {},
   "outputs": [
    {
     "name": "stdout",
     "output_type": "stream",
     "text": [
      "🔍 Missing values before cleaning:\n",
      " occupation_title                                  0\n",
      "occupation_code                                   0\n",
      "employment_2023                                   0\n",
      "employment_2033                                   0\n",
      "employment_change_2023-2033                       0\n",
      "employment_percent_change_2023-2033               0\n",
      "occupational_openings_2023-2033_annual_average    0\n",
      "median_annual_wage_2024                           0\n",
      "typical_entry-level_education                     0\n",
      "education_code                                    0\n",
      "work_experience_in_a_related_occupation           0\n",
      "workex_code                                       0\n",
      "typical_on-the-job_training                       0\n",
      "trcode                                            0\n",
      "dtype: int64\n"
     ]
    }
   ],
   "source": [
    "# 3. Check missing values\n",
    "print(\"🔍 Missing values before cleaning:\\n\", df.isnull().sum())\n"
   ]
  },
  {
   "cell_type": "code",
   "execution_count": 49,
   "id": "084c0b9e-744e-429a-afea-17e0e36147ea",
   "metadata": {},
   "outputs": [
    {
     "name": "stdout",
     "output_type": "stream",
     "text": [
      "<class 'pandas.core.frame.DataFrame'>\n",
      "RangeIndex: 3834 entries, 0 to 3833\n",
      "Data columns (total 18 columns):\n",
      " #   Column                                Non-Null Count  Dtype  \n",
      "---  ------                                --------------  -----  \n",
      " 0   Occupation Title                      3810 non-null   object \n",
      " 1   Occupation Code                       3810 non-null   object \n",
      " 2   Occupation Type                       3810 non-null   object \n",
      " 3   2023 Employment                       3834 non-null   object \n",
      " 4   2023 Percent of Industry              3834 non-null   float64\n",
      " 5   2023 Percent of Occupation            3834 non-null   float64\n",
      " 6   Projected 2033 Employment             3834 non-null   object \n",
      " 7   Projected 2033 Percent of Industry    3834 non-null   float64\n",
      " 8   Projected 2033 Percent of Occupation  3834 non-null   float64\n",
      " 9   Employment Change, 2023-2033          3834 non-null   float64\n",
      " 10  Employment Percent Change, 2023-2033  3834 non-null   float64\n",
      " 11  Occupation Sort                       3803 non-null   float64\n",
      " 12  Display Level                         3834 non-null   int64  \n",
      " 13  source_file                           3834 non-null   object \n",
      " 14  Industry Title                        24 non-null     object \n",
      " 15  Industry Code                         24 non-null     object \n",
      " 16  Industry Type                         24 non-null     object \n",
      " 17  Industry Sort                         23 non-null     float64\n",
      "dtypes: float64(8), int64(1), object(9)\n",
      "memory usage: 539.3+ KB\n"
     ]
    },
    {
     "data": {
      "text/plain": [
       "None"
      ]
     },
     "metadata": {},
     "output_type": "display_data"
    }
   ],
   "source": [
    "display(occupation_growth.info())"
   ]
  },
  {
   "cell_type": "code",
   "execution_count": 53,
   "id": "b5c39870-3e86-4511-914e-39a17ea69f72",
   "metadata": {},
   "outputs": [],
   "source": [
    "# 2. Clean column names\n",
    "occupation_growth.columns = (\n",
    "    occupation_growth.columns\n",
    "    .str.lower()\n",
    "    .str.replace(\" \", \"_\")\n",
    "    .str.replace(\",\", \"\")\n",
    "    .str.strip()\n",
    ")"
   ]
  },
  {
   "cell_type": "code",
   "execution_count": 54,
   "id": "4c8c2bda-35f4-4944-9701-0dd447fc137c",
   "metadata": {},
   "outputs": [
    {
     "name": "stdout",
     "output_type": "stream",
     "text": [
      "📋 Column names:\n",
      "['occupation_title', 'occupation_code', 'occupation_type', '2023_employment', '2023_percent_of_industry', '2023_percent_of_occupation', 'projected_2033_employment', 'projected_2033_percent_of_industry', 'projected_2033_percent_of_occupation', 'employment_change_2023-2033', 'employment_percent_change_2023-2033', 'occupation_sort', 'display_level', 'source_file', 'industry_title', 'industry_code', 'industry_type', 'industry_sort']\n"
     ]
    }
   ],
   "source": [
    "# 3. View actual column names to identify which need conversion\n",
    "print(\"📋 Column names:\")\n",
    "print(occupation_growth.columns.tolist())"
   ]
  },
  {
   "cell_type": "code",
   "execution_count": 55,
   "id": "686bd350-e469-4267-93d0-4620e290f7db",
   "metadata": {},
   "outputs": [],
   "source": [
    "numeric_cols = ['2023_employment', 'projected_2033_employment']\n",
    "\n",
    "for col in numeric_cols:\n",
    "    # Remove commas and convert to numeric\n",
    "    occupation_growth[col] = occupation_growth[col].replace(r',', '', regex=True)\n",
    "    occupation_growth[col] = pd.to_numeric(occupation_growth[col], errors='coerce')\n"
   ]
  },
  {
   "cell_type": "code",
   "execution_count": null,
   "id": "303383a2-6c93-465d-b7f3-5b4d4351e2ba",
   "metadata": {},
   "outputs": [],
   "source": []
  },
  {
   "cell_type": "code",
   "execution_count": null,
   "id": "a5114f0d-a56b-44fb-a438-53f52fb2eec2",
   "metadata": {},
   "outputs": [],
   "source": []
  },
  {
   "cell_type": "code",
   "execution_count": null,
   "id": "0a3dfd06-ed26-449b-a474-413dc74b26fe",
   "metadata": {},
   "outputs": [],
   "source": []
  },
  {
   "cell_type": "code",
   "execution_count": 2,
   "id": "c9926a86-fea3-4efb-898f-17b81d0737a4",
   "metadata": {},
   "outputs": [],
   "source": [
    "import pandas as pd\n",
    "import matplotlib.pyplot as plt\n",
    "import seaborn as sns"
   ]
  },
  {
   "cell_type": "code",
   "execution_count": 4,
   "id": "f49d0d04-5210-4fd0-9596-761eeac493b1",
   "metadata": {},
   "outputs": [],
   "source": [
    "# Reddit comments dataset\n",
    "reddit_comments = pd.read_csv(r'../data/raw/reddit_comments_combined.csv')\n",
    "\n",
    "# Employment projections dataset\n",
    "employment_projections = pd.read_csv(r'../data/raw/Employment_projections.csv')"
   ]
  },
  {
   "cell_type": "code",
   "execution_count": null,
   "id": "64132cc2-e99a-4f54-a424-13578389cb14",
   "metadata": {},
   "outputs": [],
   "source": []
  },
  {
   "cell_type": "code",
   "execution_count": 10,
   "id": "ded499bb-a37d-4e7f-8015-eb4d348b85ea",
   "metadata": {},
   "outputs": [],
   "source": [
    "# Clean columns (lowercase and replace spaces with underscores)\n",
    "reddit_comments.columns = reddit_comments.columns.str.lower().str.replace(\" \", \"_\").str.strip()\n",
    "employment_projections.columns = employment_projections.columns.str.lower().str.replace(\" \", \"_\").str.strip()"
   ]
  },
  {
   "cell_type": "code",
   "execution_count": null,
   "id": "ced3cbac-8eb6-4c24-b978-997c684c0884",
   "metadata": {},
   "outputs": [],
   "source": []
  },
  {
   "cell_type": "code",
   "execution_count": 12,
   "id": "893c8432-f80f-4d8f-bb48-8ddab1856b69",
   "metadata": {},
   "outputs": [
    {
     "data": {
      "image/png": "[encoded data removed]",
      "text/plain": [
       "<Figure size 1000x600 with 1 Axes>"
      ]
     },
     "metadata": {},
     "output_type": "display_data"
    }
   ],
   "source": [
    "top_comments = reddit_comments.sort_values('comment_score', ascending=False).head(10)\n",
    "\n",
    "plt.figure(figsize=(10, 6))\n",
    "sns.barplot(data=top_comments, x='comment_score', y='comment_author')\n",
    "plt.title('Top 10 Reddit Comments by Score')\n",
    "plt.xlabel('Score')\n",
    "plt.ylabel('Author')\n",
    "plt.tight_layout()\n",
    "plt.show()"
   ]
  },
  {
   "cell_type": "code",
   "execution_count": null,
   "id": "07ecff27-95fb-4bcf-b07c-3d5edc97818d",
   "metadata": {},
   "outputs": [],
   "source": []
  },
  {
   "cell_type": "code",
   "execution_count": 14,
   "id": "2d601f60-7c9f-4050-ba56-0e878c75acae",
   "metadata": {},
   "outputs": [
    {
     "data": {
      "image/png": "[encoded data removed]",
      "text/plain": [
       "<Figure size 800x500 with 1 Axes>"
      ]
     },
     "metadata": {},
     "output_type": "display_data"
    }
   ],
   "source": [
    "plt.figure(figsize=(8, 5))\n",
    "sns.histplot(reddit_comments['comment_score'], bins=30, kde=True)\n",
    "plt.title('Distribution of Comment Scores')\n",
    "plt.xlabel('Score')\n",
    "plt.ylabel('Count')\n",
    "plt.show()"
   ]
  },
  {
   "cell_type": "code",
   "execution_count": null,
   "id": "9af45b69-1bca-41fb-b241-dd89ef21065d",
   "metadata": {},
   "outputs": [],
   "source": []
  },
  {
   "cell_type": "code",
   "execution_count": 18,
   "id": "4dd7ec6a-c5ab-437d-845f-a3cb919ee3fd",
   "metadata": {},
   "outputs": [
    {
     "ename": "KeyError",
     "evalue": "'employment_change_2023-2033'",
     "output_type": "error",
     "traceback": [
      "\u001b[31m---------------------------------------------------------------------------\u001b[39m",
      "\u001b[31mKeyError\u001b[39m                                  Traceback (most recent call last)",
      "\u001b[32m/var/folders/n1/y8sspmsx4xd1t1d43rvf6yzc0000gn/T/ipykernel_94261/1268532217.py\u001b[39m in \u001b[36m?\u001b[39m\u001b[34m()\u001b[39m\n\u001b[32m      1\u001b[39m \u001b[38;5;66;03m# Sort by employment change\u001b[39;00m\n\u001b[32m----> \u001b[39m\u001b[32m2\u001b[39m top_growth = employment_projections.sort_values(\u001b[33m'employment_change_2023-2033'\u001b[39m, ascending=\u001b[38;5;28;01mFalse\u001b[39;00m).head(\u001b[32m10\u001b[39m)\n\u001b[32m      3\u001b[39m \n\u001b[32m      4\u001b[39m plt.figure(figsize=(\u001b[32m12\u001b[39m, \u001b[32m6\u001b[39m))\n\u001b[32m      5\u001b[39m sns.lineplot(data=top_growth, x=\u001b[33m'occupation_title'\u001b[39m, y=\u001b[33m'employment_change_2023-2033'\u001b[39m, marker=\u001b[33m'o'\u001b[39m)\n",
      "\u001b[32m~/Desktop/Ironhack/Week4/first_project/.venv/lib/python3.12/site-packages/pandas/core/frame.py\u001b[39m in \u001b[36m?\u001b[39m\u001b[34m(self, by, axis, ascending, inplace, kind, na_position, ignore_index, key)\u001b[39m\n\u001b[32m   7185\u001b[39m             )\n\u001b[32m   7186\u001b[39m         \u001b[38;5;28;01melif\u001b[39;00m len(by):\n\u001b[32m   7187\u001b[39m             \u001b[38;5;66;03m# len(by) == 1\u001b[39;00m\n\u001b[32m   7188\u001b[39m \n\u001b[32m-> \u001b[39m\u001b[32m7189\u001b[39m             k = self._get_label_or_level_values(by[\u001b[32m0\u001b[39m], axis=axis)\n\u001b[32m   7190\u001b[39m \n\u001b[32m   7191\u001b[39m             \u001b[38;5;66;03m# need to rewrap column in Series to apply key function\u001b[39;00m\n\u001b[32m   7192\u001b[39m             \u001b[38;5;28;01mif\u001b[39;00m key \u001b[38;5;28;01mis\u001b[39;00m \u001b[38;5;28;01mnot\u001b[39;00m \u001b[38;5;28;01mNone\u001b[39;00m:\n",
      "\u001b[32m~/Desktop/Ironhack/Week4/first_project/.venv/lib/python3.12/site-packages/pandas/core/generic.py\u001b[39m in \u001b[36m?\u001b[39m\u001b[34m(self, key, axis)\u001b[39m\n\u001b[32m   1907\u001b[39m             values = self.xs(key, axis=other_axes[\u001b[32m0\u001b[39m])._values\n\u001b[32m   1908\u001b[39m         \u001b[38;5;28;01melif\u001b[39;00m self._is_level_reference(key, axis=axis):\n\u001b[32m   1909\u001b[39m             values = self.axes[axis].get_level_values(key)._values\n\u001b[32m   1910\u001b[39m         \u001b[38;5;28;01melse\u001b[39;00m:\n\u001b[32m-> \u001b[39m\u001b[32m1911\u001b[39m             \u001b[38;5;28;01mraise\u001b[39;00m KeyError(key)\n\u001b[32m   1912\u001b[39m \n\u001b[32m   1913\u001b[39m         \u001b[38;5;66;03m# Check for duplicates\u001b[39;00m\n\u001b[32m   1914\u001b[39m         \u001b[38;5;28;01mif\u001b[39;00m values.ndim > \u001b[32m1\u001b[39m:\n",
      "\u001b[31mKeyError\u001b[39m: 'employment_change_2023-2033'"
     ]
    }
   ],
   "source": [
    "# Sort by employment change\n",
    "top_growth = employment_projections.sort_values('employment_change_2023-2033', ascending=False).head(10)\n",
    "\n",
    "plt.figure(figsize=(12, 6))\n",
    "sns.lineplot(data=top_growth, x='occupation_title', y='employment_change_2023-2033', marker='o')\n",
    "plt.xticks(rotation=45, ha='right')\n",
    "plt.title('Top 10 Jobs with Highest Employment Growth (2023–2033)')\n",
    "plt.ylabel('Employment Change')\n",
    "plt.xlabel('Occupation')\n",
    "plt.tight_layout()\n",
    "plt.show()\n"
   ]
  },
  {
   "cell_type": "code",
   "execution_count": null,
   "id": "4c143912-9799-4377-ae15-e4cf30df7f2e",
   "metadata": {},
   "outputs": [],
   "source": []
  },
  {
   "cell_type": "code",
   "execution_count": null,
   "id": "5936d1aa-d6d7-4f6f-8668-6088eba0bc73",
   "metadata": {},
   "outputs": [],
   "source": []
  },
  {
   "cell_type": "code",
   "execution_count": null,
   "id": "4d52132c-0062-4ba7-be8f-5aceb6f5b34a",
   "metadata": {},
   "outputs": [],
   "source": []
  },
  {
   "cell_type": "markdown",
   "id": "5d254839-b6a6-484e-9b72-de647f3d5f82",
   "metadata": {},
   "source": [
    "## Cleaning invalid Values/row"
   ]
  },
  {
   "cell_type": "markdown",
   "id": "fb8addeb-85bb-455d-b409-53ee7601dbc9",
   "metadata": {},
   "source": [
    "## Formatting data types\n",
    "Dealing with Null values\n",
    "Identify any columns with null or missing values. Identify how many null values each column has. You can use the isnull() function in pandas to find columns with null values.\n",
    "\n",
    "Decide on a strategy for handling the null values. There are several options, including:\n",
    "\n",
    "Drop the rows or columns with null values\n",
    "Fill the null values with a specific value (such as the column mean or median for numerical variables, and mode for categorical variables)\n",
    "Fill the null values with the previous or next value in the column\n",
    "\n",
    "-- Implement your chosen strategy to handle the null values. You can use the fillna() function in pandas to fill null values or dropna() function to drop null values.\n",
    "\n",
    "Verify that your strategy has successfully handled the null values. You can use the isnull() function again to check if there are still null values in the dataset.\n",
    "\n",
    "Remember to document your process and explain your reasoning for choosing a particular strategy for handling null values.\n",
    "\n",
    "After formatting data types, as a last step, convert all the numeric variables to integers."
   ]
  },
  {
   "cell_type": "markdown",
   "id": "7050f0ab-c128-4be9-801a-4acb7667d1fc",
   "metadata": {},
   "source": [
    " ## Dealing with duplicates\n",
    "Use the .duplicated() method to identify any duplicate rows in the dataframe.\n",
    "\n",
    "Decide on a strategy for handling the duplicates. Options include:\n",
    "\n",
    "Dropping all duplicate rows\n",
    "Keeping only the first occurrence of each duplicated row\n",
    "Keeping only the last occurrence of each duplicated row\n",
    "Dropping duplicates based on a subset of columns\n",
    "Dropping duplicates based on a specific column\n",
    "Implement your chosen strategy using the drop_duplicates() function.\n",
    "\n",
    "Verify that your strategy has successfully handled the duplicates by checking for duplicates again using .duplicated().\n",
    "\n",
    "Remember to document your process and explain your reasoning for choosing a particular strategy for handling duplicates.\n",
    "\n",
    "Save the cleaned dataset to a new CSV file.\n",
    "\n",
    "Hint: after dropping duplicates, reset the index to ensure consistency."
   ]
  },
  {
   "cell_type": "markdown",
   "id": "8eea7cdb-3b57-4c55-bb03-00e19674d839",
   "metadata": {},
   "source": [
    "## Creating functions on a separate py file\n",
    "Put all the data cleaning and formatting steps into functions, and create a main function that performs all the cleaning and formatting.\n",
    "\n",
    "Write these functions in separate .py file(s). By putting these steps into functions, we can make the code more modular and easier to maintain.\n",
    "\n",
    "Hint: autoreload module is a utility module in Python that allows you to automatically reload modules in the current session when changes are made to the source code. This can be useful in situations where you are actively developing code and want to see the effects of changes you make without having to constantly restart the Python interpreter or Jupyter Notebook kernel."
   ]
  },
  {
   "cell_type": "markdown",
   "id": "43968208-c1ae-41bc-bb73-6e18d589bf42",
   "metadata": {},
   "source": [
    "## Analyzing Clean and Formated Data"
   ]
  },
  {
   "cell_type": "code",
   "execution_count": null,
   "id": "853fec34-1961-4d49-8643-cb766af2db64",
   "metadata": {},
   "outputs": [],
   "source": []
  }
 ],
 "metadata": {
  "kernelspec": {
   "display_name": "venv",
   "language": "python",
   "name": "venv"
  },
  "language_info": {
   "codemirror_mode": {
    "name": "ipython",
    "version": 3
   },
   "file_extension": ".py",
   "mimetype": "text/x-python",
   "name": "python",
   "nbconvert_exporter": "python",
   "pygments_lexer": "ipython3",
   "version": "3.12.7"
  }
 },
 "nbformat": 4,
 "nbformat_minor": 5
}
