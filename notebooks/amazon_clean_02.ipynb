{
 "cells": [
  {
   "cell_type": "code",
   "execution_count": null,
   "id": "18369dea-635d-40de-b50d-cb46d150954d",
   "metadata": {},
   "outputs": [],
   "source": [
    "# Load YAML configuration file\n",
    "import yaml\n",
    "\n",
    "with open(\"../amazon_config.yaml\", \"r\") as file:\n",
    "    config = yaml.safe_load(file)\n",
    "\n",
    "# Load dataset with pandas\n",
    "import pandas as pd\n",
    "df = pd.read_csv(config['input_data']['file'])  # Load dataset based on YAML path\n",
    "df.head()  # Show the first 5 rows of the dataset"
   ]
  },
  {
   "cell_type": "code",
   "execution_count": null,
   "id": "500bffd5-ee43-45f2-96f5-aa1955ad3e59",
   "metadata": {},
   "outputs": [],
   "source": [
    "# Drop unnecessary columns (corrected column names)\n",
    "columns_to_drop = [ 'director', 'cast', 'country', 'date_added', 'description']\n",
    "\n",
    "# Use drop safely with existing column names\n",
    "df = df.drop(columns=[col for col in columns_to_drop if col in df.columns])\n",
    "\n",
    "# Confirm columns after dropping\n",
    "print(\"\\nColumns after dropping unnecessary ones:\")\n",
    "print(df.columns)"
   ]
  },
  {
   "cell_type": "code",
   "execution_count": null,
   "id": "ffe24f5d-c36d-4012-bc4b-7a53233ceb70",
   "metadata": {},
   "outputs": [],
   "source": [
    "# Explore structure and metadata\n",
    "df.shape         # Check number of rows and columns\n",
    "df.columns       # List all column names\n",
    "df.info()        # Get data types and non-null counts per column"
   ]
  },
  {
   "cell_type": "code",
   "execution_count": null,
   "id": "7301adb3-d58e-457a-9edf-abc12746a7fb",
   "metadata": {},
   "outputs": [],
   "source": [
    "# Check missing values in descending order\n",
    "df.isnull().sum().sort_values(ascending=False)"
   ]
  },
  {
   "cell_type": "code",
   "execution_count": null,
   "id": "bf42c07a-5d0b-4718-b91d-365ecae7cc25",
   "metadata": {},
   "outputs": [],
   "source": [
    "# Number of unique values per column\n",
    "df.nunique().sort_values()\n",
    "\n",
    "# Distribution of key categorical columns\n",
    "df['type'].value_counts(normalize=True)  # Distribution of 'Movie' vs 'TV Show'\n",
    "df['rating'].value_counts().head(10)     # Most common ratings"
   ]
  },
  {
   "cell_type": "code",
   "execution_count": null,
   "id": "f6ed3254-84e9-4189-9427-44487f165e9c",
   "metadata": {},
   "outputs": [],
   "source": [
    "print(df['rating'].unique())"
   ]
  },
  {
   "cell_type": "code",
   "execution_count": null,
   "id": "cbf79246-6a10-44d5-a114-8435b949d91e",
   "metadata": {},
   "outputs": [],
   "source": [
    "# View a sample of the genres column\n",
    "df['listed_in'].sample(30)"
   ]
  },
  {
   "cell_type": "code",
   "execution_count": null,
   "id": "2309b214-6318-49d9-9459-db6dfd592cbd",
   "metadata": {},
   "outputs": [],
   "source": [
    "# Ensure the column is string and remove leading/trailing spaces\n",
    "df['listed_in'] = df['listed_in'].astype(str).str.strip()\n",
    "\n",
    "# Keep only the first genre if there are multiple (split by comma)\n",
    "df['genres'] = df['listed_in'].apply(lambda x: x.split(',')[0].strip())\n",
    "\n",
    "# Optional: Drop the original 'listed_in' column if you no longer need it\n",
    "df = df.drop(columns=['listed_in'])\n",
    "\n",
    "# Preview to confirm changes\n",
    "print(df[['genres']].sample(10))\n"
   ]
  },
  {
   "cell_type": "code",
   "execution_count": null,
   "id": "fa86f324-9948-41bd-9ed4-d85ecc2219eb",
   "metadata": {},
   "outputs": [],
   "source": [
    "# Check all unique genres BEFORE replacements\n",
    "print(\"\\nUnique genres in Amazon (before grouping):\")\n",
    "print(df['genres'].unique())\n",
    "\n",
    "# Optional: Count how many times each genre appears\n",
    "print(\"\\nGenre value counts (before grouping):\")\n",
    "print(df['genres'].value_counts(dropna=False))\n"
   ]
  },
  {
   "cell_type": "code",
   "execution_count": null,
   "id": "00db9b75-2861-471a-895b-cd2e9b3d885f",
   "metadata": {},
   "outputs": [],
   "source": [
    "genre_replacements = {\n",
    "    # Drama group\n",
    "    'Drama': 'Drama',\n",
    "    'Romance': 'Drama',\n",
    "    'Suspense': 'Drama',\n",
    "    'Thrillers': 'Drama',  \n",
    "    'Mystery': 'Drama',    \n",
    "\n",
    "    # Comedy group\n",
    "    'Comedy': 'Comedy',\n",
    "    'Stand-Up Comedy': 'Comedy',\n",
    "    'Talk Show and Variety': 'Comedy',\n",
    "    'Talk Show': 'Comedy',\n",
    "    'Talk Show and Variety': 'Comedy',\n",
    "\n",
    "    # Action & Thriller group\n",
    "    'Action': 'Action/Thriller',\n",
    "    'Adventure': 'Action/Thriller',\n",
    "    'Military and War': 'Action/Thriller',\n",
    "    'Arthouse': 'Action/Thriller',\n",
    "    'Suspense': 'Action/Thriller',\n",
    "\n",
    "    # Documentary group\n",
    "    'Documentary': 'Documentary',\n",
    "    'Docuseries': 'Documentary',\n",
    "    'Unscripted': 'Documentary',\n",
    "\n",
    "    # International group\n",
    "    'International': 'International',\n",
    "\n",
    "    # Kids & Family group\n",
    "    'Kids': 'Kids',\n",
    "    'Young Adult Audience': 'Kids',\n",
    "\n",
    "    # Sci-Fi / Fantasy / Animation group\n",
    "    'Sci-Fi & Fantasy': 'Sci-Fi/Fantasy',\n",
    "    'Science Fiction': 'Sci-Fi/Fantasy',\n",
    "    'Fantasy': 'Sci-Fi/Fantasy',\n",
    "    'Animation': 'Sci-Fi/Fantasy',\n",
    "    'Anime': 'Sci-Fi/Fantasy',\n",
    "\n",
    "    # Horror group\n",
    "    'Horror': 'Horror',\n",
    "\n",
    "    # Reality / Other group\n",
    "    'Reality TV': 'Reality',\n",
    "    'Sports': 'Other',\n",
    "    'Fitness': 'Other',\n",
    "    'Music Videos and Concerts': 'Other',\n",
    "    'Arts': 'Other',\n",
    "    'Faith and Spirituality': 'Other',\n",
    "    'LGBTQ': 'Other',\n",
    "    'Historical': 'Other',\n",
    "    'Western': 'Other',\n",
    "}\n"
   ]
  },
  {
   "cell_type": "code",
   "execution_count": null,
   "id": "da11e5e6-1761-4397-90c5-e58fbec9c6ed",
   "metadata": {},
   "outputs": [],
   "source": [
    "# Check unique genres AFTER applying replacements\n",
    "print(\"\\nUnique genres in Amazon (after grouping):\")\n",
    "print(df['genres'].unique())"
   ]
  },
  {
   "cell_type": "code",
   "execution_count": null,
   "id": "911f9c27-f557-4eb7-a7a0-dfb121be83e4",
   "metadata": {},
   "outputs": [],
   "source": [
    "df['genres'] = df['genres'].replace(genre_replacements)\n"
   ]
  },
  {
   "cell_type": "code",
   "execution_count": null,
   "id": "484d2b5d-83f4-40ac-a615-048505e98a40",
   "metadata": {},
   "outputs": [],
   "source": [
    "# Optional: Count genre occurrences after grouping\n",
    "print(\"\\nGenre value counts (after grouping):\")\n",
    "print(df['genres'].value_counts(dropna=False))\n"
   ]
  },
  {
   "cell_type": "code",
   "execution_count": null,
   "id": "f1d3dbf9-c536-4ea5-8ec5-dad86748ceaa",
   "metadata": {},
   "outputs": [],
   "source": [
    "# Split 'duration' column into duration value and type (e.g., \"90 min\" → 90 + 'min')\n",
    "df[['duration_int', 'duration_type']] = df['duration'].str.extract(r'(\\d+)\\s*(\\w+)')\n",
    "df['duration_int'] = pd.to_numeric(df['duration_int'], errors='coerce')  # Convert to numeric\n",
    "df[['duration', 'duration_int', 'duration_type']].head()  # Preview new columns"
   ]
  },
  {
   "cell_type": "code",
   "execution_count": null,
   "id": "5b1e8658-0381-4aaf-bc84-9ae66449899f",
   "metadata": {},
   "outputs": [],
   "source": [
    "# Split genres into lists (for multi-label classification)\n",
    "\n",
    "df['genres'] = df['genres'].str.split(', ')  # Check results"
   ]
  },
  {
   "cell_type": "code",
   "execution_count": null,
   "id": "38fa55cf-54d4-4c25-b844-d8d092bd4f8b",
   "metadata": {},
   "outputs": [],
   "source": [
    "# Frequency of duration types (e.g., 'min', 'Season')\n",
    "df['duration_type'].value_counts() # Check types of duration (minutes or seasons)\n",
    "\n",
    "# Standardize plural form to singular ('Seasons' → 'Season')\n",
    "df['duration_type'] = df['duration_type'].replace('Seasons', 'Season') # Normalize to singular\n",
    "df['duration_type'].value_counts()  # Confirm correction"
   ]
  },
  {
   "cell_type": "code",
   "execution_count": null,
   "id": "177ff205-c6fa-415b-adba-9c56fb54a5f3",
   "metadata": {},
   "outputs": [],
   "source": [
    "# Check for missing values in 'duration_int'\n",
    "df['duration_int'].isnull().sum()  # Check how many null durations remain\n",
    "# Keep only rows where 'duration_int' is not null\n",
    "df = df[df['duration_int'].notna()]  # Filter out rows without valid duration\n",
    "# Inspect rows where duration was missing\n",
    "df[df['duration_int'].isna()][['duration']]\n"
   ]
  },
  {
   "cell_type": "code",
   "execution_count": null,
   "id": "5b3c4802-c72c-4e13-9941-5649f9428596",
   "metadata": {},
   "outputs": [],
   "source": [
    "# Remove duplicated rows based on 'show_id', 'title', and 'release_year'\n",
    "df = df.drop_duplicates(subset=['show_id', 'title', 'release_year'])  # Remove duplicates\n",
    "print(\"Number of rows after removing duplicates:\", df.shape[0])  # Check number of rows after deduplication"
   ]
  },
  {
   "cell_type": "code",
   "execution_count": null,
   "id": "161d1387-7808-4989-8775-3556d12a8448",
   "metadata": {},
   "outputs": [],
   "source": [
    "# Confirm that duplicates are removed\n",
    "duplicates = df.duplicated(subset=['show_id', 'title', 'release_year']).sum()  # Count remaining duplicates\n",
    "print(\"Remaining duplicates:\", duplicates) "
   ]
  },
  {
   "cell_type": "code",
   "execution_count": null,
   "id": "247b4264-ff75-4c16-8ec0-0385cd08e9bd",
   "metadata": {},
   "outputs": [],
   "source": [
    "# Check missing values again per column (after cleaning)\n",
    "df.isnull().sum().sort_values(ascending=False)"
   ]
  },
  {
   "cell_type": "code",
   "execution_count": null,
   "id": "3a421502-6259-4e12-b363-920115fab246",
   "metadata": {},
   "outputs": [],
   "source": [
    "import numpy as np  # Asegúrate de importar numpy para poder usar np.nan\n",
    "\n",
    "# Fill missing values with appropriate defaults\n",
    "\n",
    "# Replace missing 'rating' with \"Not Rated\"\n",
    "df['rating'] = df['rating'].fillna(\"Not Rated\")\n",
    "\n",
    "# Final check: confirm there are no missing values left\n",
    "print(\"\\nMissing values per column after filling:\")\n",
    "print(df.isnull().sum().sort_values(ascending=False))\n"
   ]
  },
  {
   "cell_type": "code",
   "execution_count": null,
   "id": "37cc1394-0caf-4245-b93b-624702c2bba9",
   "metadata": {},
   "outputs": [],
   "source": [
    "# Confirm again that no missing values remain after filling\n",
    "df.isnull().sum().sort_values(ascending=False)"
   ]
  },
  {
   "cell_type": "code",
   "execution_count": null,
   "id": "ce6f5d8f-56ab-4320-aa8f-f1ce86737329",
   "metadata": {},
   "outputs": [],
   "source": [
    "# Quick check of distributions on key columns\n",
    "print(df['duration_type'].value_counts())  # Check distribution of 'duration_type'\n",
    "print(df['type'].value_counts())           # Check distribution of 'type'\n",
    "print(df['rating'].value_counts())         # Check distribution of 'rating'\n"
   ]
  },
  {
   "cell_type": "code",
   "execution_count": null,
   "id": "2364d2de-e814-4267-8532-c15148bbc9fc",
   "metadata": {},
   "outputs": [],
   "source": [
    "print(\"Unique ratings:\")\n",
    "print(df['rating'].unique())\n",
    "\n",
    "print(\"\\nRating value counts:\")\n",
    "print(df['rating'].value_counts(dropna=False))\n"
   ]
  },
  {
   "cell_type": "code",
   "execution_count": null,
   "id": "49efb71b-5cee-44bb-a1aa-27e25b85d56c",
   "metadata": {},
   "outputs": [],
   "source": [
    "print(\"Unique types:\")\n",
    "print(df['type'].unique())"
   ]
  },
  {
   "cell_type": "code",
   "execution_count": null,
   "id": "300c35a6-b503-40fb-b3fd-783a1063b17d",
   "metadata": {},
   "outputs": [],
   "source": [
    "pd.crosstab(df['rating'], df['type'])\n"
   ]
  },
  {
   "cell_type": "code",
   "execution_count": null,
   "id": "4693f9cf-3266-43cf-8cb9-af8fdbb1310c",
   "metadata": {},
   "outputs": [],
   "source": [
    "# Define the replacements dictionary\n",
    "rating_replacements = {\n",
    "    # Movie ratings\n",
    "    '13+': 'PG-13',\n",
    "    '16+': 'R',\n",
    "    '16': 'R',\n",
    "    '18+': 'R',\n",
    "    '7+': 'G',\n",
    "    'AGES_16+': 'R',\n",
    "    'AGES_16_': 'R',\n",
    "    'AGES_18_': 'R',\n",
    "    'ALL': 'G',\n",
    "    'ALL_AGES': 'G',\n",
    "    'G': 'G',\n",
    "    'NC-17': 'R',\n",
    "    'NR': 'Unrated',\n",
    "    'Not Rated': 'Unrated',\n",
    "    'PG': 'PG',\n",
    "    'PG-13': 'PG-13',\n",
    "    'R': 'R',\n",
    "\n",
    "    # TV Show ratings\n",
    "    'TV-14': 'TV-14',\n",
    "    'TV-G': 'TV-G',\n",
    "    'TV-MA': 'TV-MA',\n",
    "    'TV-NR': 'Unrated',\n",
    "    'TV-PG': 'TV-PG',\n",
    "    'TV-Y': 'TV-Y',\n",
    "    'TV-Y7': 'TV-Y7',\n",
    "    'UNRATED': 'Unrated',\n",
    "    \n",
    "    # Additional cases\n",
    "    'AGE_18_': 'R',    # For content rated for 18+ should be R\n",
    "    'NOT_RATE': 'Unrated',  # 'NOT_RATE' should be treated as 'Unrated'\n",
    "    'nan': 'Unrated'   # Treat missing values (NaN) as 'Unrated'\n",
    "}\n",
    "\n",
    "# Function to map ratings based on 'type' (Movie or TV Show)\n",
    "def map_rating(row):\n",
    "    if row['type'] == 'Movie':  # For Movies\n",
    "        return rating_replacements.get(row['rating'], row['rating'])  # Replace based on movie ratings\n",
    "    else:  # For TV Shows\n",
    "        return rating_replacements.get(row['rating'], row['rating'])  # Replace based on TV show ratings\n",
    "\n",
    "# Apply the function to the DataFrame\n",
    "df['rating'] = df.apply(map_rating, axis=1)\n",
    "\n",
    "# Check the unique values after applying the replacements\n",
    "print(df['rating'].unique())"
   ]
  },
  {
   "cell_type": "code",
   "execution_count": null,
   "id": "2029649b-f76e-4acb-8957-f2633a27b32b",
   "metadata": {},
   "outputs": [],
   "source": [
    "# Apply the mapping function to the 'rating' column\n",
    "df['rating'] = df.apply(map_rating, axis=1)\n"
   ]
  },
  {
   "cell_type": "code",
   "execution_count": null,
   "id": "f5cf348b-569b-4893-aff9-17b3c962a2b8",
   "metadata": {},
   "outputs": [],
   "source": [
    "# Check the unique values after replacements\n",
    "print(\"\\nUnique ratings after mapping:\")\n",
    "print(df['rating'].unique())\n",
    "\n",
    "# Optional: Count how many times each rating appears\n",
    "print(\"\\nRating value counts after mapping:\")\n",
    "print(df['rating'].value_counts(dropna=False))\n"
   ]
  },
  {
   "cell_type": "code",
   "execution_count": null,
   "id": "d433bc54-7cf9-4065-9725-60161b3c491d",
   "metadata": {},
   "outputs": [],
   "source": [
    "# Standardize 'duration_type' to lowercase for consistency\n",
    "df['duration_type'] = df['duration_type'].str.lower()"
   ]
  },
  {
   "cell_type": "code",
   "execution_count": null,
   "id": "0dcfe27c-87f5-4e5c-ac15-fe595ea9cb5a",
   "metadata": {},
   "outputs": [],
   "source": [
    "# Calculate the average duration by 'duration_type' (e.g., average movie length)\n",
    "avg_duration = df.groupby('duration_type')['duration_int'].mean().reset_index()\n",
    "print(\"Average duration per type:\")\n",
    "print(avg_duration)"
   ]
  },
  {
   "cell_type": "code",
   "execution_count": null,
   "id": "186c0d03-814a-4049-80a8-cf40bd676f9d",
   "metadata": {},
   "outputs": [],
   "source": [
    "# Count number of titles by release year\n",
    "titles_per_year = df['release_year'].value_counts().sort_index().reset_index()\n",
    "titles_per_year.columns = ['release_year', 'count']\n",
    "print(\"\\n🔹 Titles by release year:\")\n",
    "print(titles_per_year.tail(10))  # Show most recent years"
   ]
  },
  {
   "cell_type": "code",
   "execution_count": null,
   "id": "26296d48-70c5-481b-bd5a-a53763091859",
   "metadata": {},
   "outputs": [],
   "source": [
    "# Check available columns\n",
    "print(df.columns)\n",
    "\n",
    "# Correct column order if platform exists\n",
    "correct_order = ['show_id', 'type', 'title', 'release_year', 'rating', 'duration', 'duration_int', 'duration_type', 'genres', 'platform']\n",
    "\n",
    "# Ensure that 'platform' column exists\n",
    "if 'platform' in df.columns:\n",
    "    df = df[correct_order]\n",
    "    df['genres'] = df['genres'].str.replace(r\"\\[|\\]\", '', regex=True).str.strip()\n",
    "else:\n",
    "    print(\"'platform' column is missing in the DataFrame\")\n"
   ]
  },
  {
   "cell_type": "code",
   "execution_count": null,
   "id": "14f89db2-3ad8-4202-b52e-7334f58fa094",
   "metadata": {},
   "outputs": [],
   "source": [
    "df['platform'] = 'Netflix'  \n",
    "if 'platform' not in df.columns:\n",
    "    df['platform'] = 'Netflix'  \n",
    "\n",
    "correct_order = ['show_id', 'type', 'title', 'release_year', 'rating', 'duration', 'duration_int', 'duration_type', 'genres', 'platform']\n",
    "df = df[correct_order]  \n"
   ]
  },
  {
   "cell_type": "code",
   "execution_count": null,
   "id": "840986ee-516f-4a77-b5ea-efb1a10b916f",
   "metadata": {},
   "outputs": [],
   "source": [
    "print(df.columns)\n"
   ]
  },
  {
   "cell_type": "code",
   "execution_count": null,
   "id": "22ba55d0-dc7e-4197-824a-616b7b0c0d99",
   "metadata": {},
   "outputs": [],
   "source": [
    "correct_order = ['show_id', 'type', 'title', 'release_year', 'rating', 'duration', 'duration_int', 'duration_type', 'genres', 'platform']\n",
    "df = df[correct_order]"
   ]
  },
  {
   "cell_type": "code",
   "execution_count": null,
   "id": "05d715e5-0ab6-42ad-acb9-b39c72a81ccd",
   "metadata": {},
   "outputs": [],
   "source": [
    "#Export cleaned DataFrame to CSV for SQL import or future use\n",
    "df['platform'] = 'Prime'\n",
    "df.to_csv('../data/clean/cleaned_prime_data.csv') #Save\n",
    "import pandas as pd\n",
    "df = pd.read_csv('../data/clean/cleaned_prime_data.csv')\n",
    "print(df['platform'].value_counts())\n",
    "print(df.shape)"
   ]
  },
  {
   "cell_type": "code",
   "execution_count": null,
   "id": "bb13d722-3085-4bd6-a485-239a14a77123",
   "metadata": {},
   "outputs": [],
   "source": [
    "df.to_csv('../data/clean/cleaned_prime_data.csv', index=False)\n",
    "\n",
    "import os\n",
    "\n"
   ]
  },
  {
   "cell_type": "code",
   "execution_count": null,
   "id": "a3eac08b-96ab-46df-80e3-1cdd44322933",
   "metadata": {},
   "outputs": [],
   "source": []
  },
  {
   "cell_type": "code",
   "execution_count": null,
   "id": "a29cfa4a-0c7c-4e67-a327-f9fca87165f3",
   "metadata": {},
   "outputs": [],
   "source": []
  },
  {
   "cell_type": "code",
   "execution_count": null,
   "id": "9cd1c7de-1551-4d59-bbea-f25d6e704df9",
   "metadata": {},
   "outputs": [],
   "source": []
  },
  {
   "cell_type": "code",
   "execution_count": null,
   "id": "79847a69-9073-48a6-9aef-b858022ca4d8",
   "metadata": {},
   "outputs": [],
   "source": []
  }
 ],
 "metadata": {
  "kernelspec": {
   "display_name": "Python 3 (ipykernel)",
   "language": "python",
   "name": "python3"
  },
  "language_info": {
   "codemirror_mode": {
    "name": "ipython",
    "version": 3
   },
   "file_extension": ".py",
   "mimetype": "text/x-python",
   "name": "python",
   "nbconvert_exporter": "python",
   "pygments_lexer": "ipython3",
   "version": "3.12.7"
  }
 },
 "nbformat": 4,
 "nbformat_minor": 5
}
