{
 "cells": [
  {
   "cell_type": "code",
   "execution_count": 2,
   "id": "18369dea-635d-40de-b50d-cb46d150954d",
   "metadata": {},
   "outputs": [
    {
     "data": {
      "text/html": [
       "<div>\n",
       "<style scoped>\n",
       "    .dataframe tbody tr th:only-of-type {\n",
       "        vertical-align: middle;\n",
       "    }\n",
       "\n",
       "    .dataframe tbody tr th {\n",
       "        vertical-align: top;\n",
       "    }\n",
       "\n",
       "    .dataframe thead th {\n",
       "        text-align: right;\n",
       "    }\n",
       "</style>\n",
       "<table border=\"1\" class=\"dataframe\">\n",
       "  <thead>\n",
       "    <tr style=\"text-align: right;\">\n",
       "      <th></th>\n",
       "      <th>show_id</th>\n",
       "      <th>type</th>\n",
       "      <th>title</th>\n",
       "      <th>director</th>\n",
       "      <th>cast</th>\n",
       "      <th>country</th>\n",
       "      <th>date_added</th>\n",
       "      <th>release_year</th>\n",
       "      <th>rating</th>\n",
       "      <th>duration</th>\n",
       "      <th>listed_in</th>\n",
       "      <th>description</th>\n",
       "    </tr>\n",
       "  </thead>\n",
       "  <tbody>\n",
       "    <tr>\n",
       "      <th>0</th>\n",
       "      <td>s1</td>\n",
       "      <td>Movie</td>\n",
       "      <td>The Grand Seduction</td>\n",
       "      <td>Don McKellar</td>\n",
       "      <td>Brendan Gleeson, Taylor Kitsch, Gordon Pinsent</td>\n",
       "      <td>Canada</td>\n",
       "      <td>March 30, 2021</td>\n",
       "      <td>2014</td>\n",
       "      <td>NaN</td>\n",
       "      <td>113 min</td>\n",
       "      <td>Comedy, Drama</td>\n",
       "      <td>A small fishing village must procure a local d...</td>\n",
       "    </tr>\n",
       "    <tr>\n",
       "      <th>1</th>\n",
       "      <td>s2</td>\n",
       "      <td>Movie</td>\n",
       "      <td>Take Care Good Night</td>\n",
       "      <td>Girish Joshi</td>\n",
       "      <td>Mahesh Manjrekar, Abhay Mahajan, Sachin Khedekar</td>\n",
       "      <td>India</td>\n",
       "      <td>March 30, 2021</td>\n",
       "      <td>2018</td>\n",
       "      <td>13+</td>\n",
       "      <td>110 min</td>\n",
       "      <td>Drama, International</td>\n",
       "      <td>A Metro Family decides to fight a Cyber Crimin...</td>\n",
       "    </tr>\n",
       "    <tr>\n",
       "      <th>2</th>\n",
       "      <td>s3</td>\n",
       "      <td>Movie</td>\n",
       "      <td>Secrets of Deception</td>\n",
       "      <td>Josh Webber</td>\n",
       "      <td>Tom Sizemore, Lorenzo Lamas, Robert LaSardo, R...</td>\n",
       "      <td>United States</td>\n",
       "      <td>March 30, 2021</td>\n",
       "      <td>2017</td>\n",
       "      <td>NaN</td>\n",
       "      <td>74 min</td>\n",
       "      <td>Action, Drama, Suspense</td>\n",
       "      <td>After a man discovers his wife is cheating on ...</td>\n",
       "    </tr>\n",
       "    <tr>\n",
       "      <th>3</th>\n",
       "      <td>s4</td>\n",
       "      <td>Movie</td>\n",
       "      <td>Pink: Staying True</td>\n",
       "      <td>Sonia Anderson</td>\n",
       "      <td>Interviews with: Pink, Adele, Beyoncé, Britney...</td>\n",
       "      <td>United States</td>\n",
       "      <td>March 30, 2021</td>\n",
       "      <td>2014</td>\n",
       "      <td>NaN</td>\n",
       "      <td>69 min</td>\n",
       "      <td>Documentary</td>\n",
       "      <td>Pink breaks the mold once again, bringing her ...</td>\n",
       "    </tr>\n",
       "    <tr>\n",
       "      <th>4</th>\n",
       "      <td>s5</td>\n",
       "      <td>Movie</td>\n",
       "      <td>Monster Maker</td>\n",
       "      <td>Giles Foster</td>\n",
       "      <td>Harry Dean Stanton, Kieran O'Brien, George Cos...</td>\n",
       "      <td>United Kingdom</td>\n",
       "      <td>March 30, 2021</td>\n",
       "      <td>1989</td>\n",
       "      <td>NaN</td>\n",
       "      <td>45 min</td>\n",
       "      <td>Drama, Fantasy</td>\n",
       "      <td>Teenage Matt Banting wants to work with a famo...</td>\n",
       "    </tr>\n",
       "  </tbody>\n",
       "</table>\n",
       "</div>"
      ],
      "text/plain": [
       "  show_id   type                 title        director  \\\n",
       "0      s1  Movie   The Grand Seduction    Don McKellar   \n",
       "1      s2  Movie  Take Care Good Night    Girish Joshi   \n",
       "2      s3  Movie  Secrets of Deception     Josh Webber   \n",
       "3      s4  Movie    Pink: Staying True  Sonia Anderson   \n",
       "4      s5  Movie         Monster Maker    Giles Foster   \n",
       "\n",
       "                                                cast         country  \\\n",
       "0     Brendan Gleeson, Taylor Kitsch, Gordon Pinsent          Canada   \n",
       "1   Mahesh Manjrekar, Abhay Mahajan, Sachin Khedekar           India   \n",
       "2  Tom Sizemore, Lorenzo Lamas, Robert LaSardo, R...   United States   \n",
       "3  Interviews with: Pink, Adele, Beyoncé, Britney...   United States   \n",
       "4  Harry Dean Stanton, Kieran O'Brien, George Cos...  United Kingdom   \n",
       "\n",
       "       date_added  release_year rating duration                listed_in  \\\n",
       "0  March 30, 2021          2014    NaN  113 min            Comedy, Drama   \n",
       "1  March 30, 2021          2018    13+  110 min     Drama, International   \n",
       "2  March 30, 2021          2017    NaN   74 min  Action, Drama, Suspense   \n",
       "3  March 30, 2021          2014    NaN   69 min              Documentary   \n",
       "4  March 30, 2021          1989    NaN   45 min           Drama, Fantasy   \n",
       "\n",
       "                                         description  \n",
       "0  A small fishing village must procure a local d...  \n",
       "1  A Metro Family decides to fight a Cyber Crimin...  \n",
       "2  After a man discovers his wife is cheating on ...  \n",
       "3  Pink breaks the mold once again, bringing her ...  \n",
       "4  Teenage Matt Banting wants to work with a famo...  "
      ]
     },
     "execution_count": 2,
     "metadata": {},
     "output_type": "execute_result"
    }
   ],
   "source": [
    "# Load YAML configuration file\n",
    "import yaml\n",
    "\n",
    "with open(\"../amazon_config.yaml\", \"r\") as file:\n",
    "    config = yaml.safe_load(file)\n",
    "\n",
    "# Load dataset with pandas\n",
    "import pandas as pd\n",
    "df = pd.read_csv(config['input_data']['file'])  # Load dataset based on YAML path\n",
    "df.head()  # Show the first 5 rows of the dataset"
   ]
  },
  {
   "cell_type": "code",
   "execution_count": 4,
   "id": "500bffd5-ee43-45f2-96f5-aa1955ad3e59",
   "metadata": {},
   "outputs": [
    {
     "name": "stdout",
     "output_type": "stream",
     "text": [
      "\n",
      "Columns after dropping unnecessary ones:\n",
      "Index(['show_id', 'type', 'title', 'release_year', 'rating', 'duration',\n",
      "       'listed_in'],\n",
      "      dtype='object')\n"
     ]
    }
   ],
   "source": [
    "# Drop unnecessary columns (corrected column names)\n",
    "columns_to_drop = [ 'director', 'cast', 'country', 'date_added', 'description']\n",
    "\n",
    "# Use drop safely with existing column names\n",
    "df = df.drop(columns=[col for col in columns_to_drop if col in df.columns])\n",
    "\n",
    "# Confirm columns after dropping\n",
    "print(\"\\nColumns after dropping unnecessary ones:\")\n",
    "print(df.columns)"
   ]
  },
  {
   "cell_type": "code",
   "execution_count": 6,
   "id": "ffe24f5d-c36d-4012-bc4b-7a53233ceb70",
   "metadata": {},
   "outputs": [
    {
     "name": "stdout",
     "output_type": "stream",
     "text": [
      "<class 'pandas.core.frame.DataFrame'>\n",
      "RangeIndex: 9668 entries, 0 to 9667\n",
      "Data columns (total 7 columns):\n",
      " #   Column        Non-Null Count  Dtype \n",
      "---  ------        --------------  ----- \n",
      " 0   show_id       9668 non-null   object\n",
      " 1   type          9668 non-null   object\n",
      " 2   title         9668 non-null   object\n",
      " 3   release_year  9668 non-null   int64 \n",
      " 4   rating        9331 non-null   object\n",
      " 5   duration      9668 non-null   object\n",
      " 6   listed_in     9668 non-null   object\n",
      "dtypes: int64(1), object(6)\n",
      "memory usage: 528.8+ KB\n"
     ]
    }
   ],
   "source": [
    "# Explore structure and metadata\n",
    "df.shape         # Check number of rows and columns\n",
    "df.columns       # List all column names\n",
    "df.info()        # Get data types and non-null counts per column"
   ]
  },
  {
   "cell_type": "code",
   "execution_count": 8,
   "id": "7301adb3-d58e-457a-9edf-abc12746a7fb",
   "metadata": {},
   "outputs": [
    {
     "data": {
      "text/plain": [
       "rating          337\n",
       "show_id           0\n",
       "type              0\n",
       "title             0\n",
       "release_year      0\n",
       "duration          0\n",
       "listed_in         0\n",
       "dtype: int64"
      ]
     },
     "execution_count": 8,
     "metadata": {},
     "output_type": "execute_result"
    }
   ],
   "source": [
    "# Check missing values in descending order\n",
    "df.isnull().sum().sort_values(ascending=False)"
   ]
  },
  {
   "cell_type": "code",
   "execution_count": 10,
   "id": "bf42c07a-5d0b-4718-b91d-365ecae7cc25",
   "metadata": {},
   "outputs": [
    {
     "data": {
      "text/plain": [
       "rating\n",
       "13+      2117\n",
       "16+      1547\n",
       "ALL      1268\n",
       "18+      1243\n",
       "R        1010\n",
       "PG-13     393\n",
       "7+        385\n",
       "PG        253\n",
       "NR        223\n",
       "TV-14     208\n",
       "Name: count, dtype: int64"
      ]
     },
     "execution_count": 10,
     "metadata": {},
     "output_type": "execute_result"
    }
   ],
   "source": [
    "# Number of unique values per column\n",
    "df.nunique().sort_values()\n",
    "\n",
    "# Distribution of key categorical columns\n",
    "df['type'].value_counts(normalize=True)  # Distribution of 'Movie' vs 'TV Show'\n",
    "df['rating'].value_counts().head(10)     # Most common ratings"
   ]
  },
  {
   "cell_type": "code",
   "execution_count": 12,
   "id": "f6ed3254-84e9-4189-9427-44487f165e9c",
   "metadata": {},
   "outputs": [
    {
     "name": "stdout",
     "output_type": "stream",
     "text": [
      "[nan '13+' 'ALL' '18+' 'R' 'TV-Y' 'TV-Y7' 'NR' '16+' 'TV-PG' '7+' 'TV-14'\n",
      " 'TV-NR' 'TV-G' 'PG-13' 'TV-MA' 'G' 'PG' 'NC-17' 'UNRATED' '16' 'AGES_16_'\n",
      " 'AGES_18_' 'ALL_AGES' 'NOT_RATE']\n"
     ]
    }
   ],
   "source": [
    "print(df['rating'].unique())"
   ]
  },
  {
   "cell_type": "code",
   "execution_count": 14,
   "id": "cbf79246-6a10-44d5-a114-8435b949d91e",
   "metadata": {},
   "outputs": [
    {
     "data": {
      "text/plain": [
       "222                                               Western\n",
       "3690                                               Horror\n",
       "8481                               Comedy, Drama, Romance\n",
       "4276                                      Drama, Suspense\n",
       "2088                                             TV Shows\n",
       "7599                                                Drama\n",
       "9096                            Science Fiction, Suspense\n",
       "2245                                               Horror\n",
       "527                                           Drama, Kids\n",
       "2447                                          Documentary\n",
       "9038                                                Drama\n",
       "1721                                                Drama\n",
       "5258                               International, Romance\n",
       "1251                   Action, Adventure, Science Fiction\n",
       "972                              Special Interest, Sports\n",
       "4708                                        Action, Drama\n",
       "8145                                                Drama\n",
       "1155                                          Documentary\n",
       "5067                                              Romance\n",
       "6774                                       Drama, Romance\n",
       "9428                             Arthouse, Drama, Romance\n",
       "7216                                      Animation, Kids\n",
       "5075                                   Comedy, Unscripted\n",
       "9078                                               Horror\n",
       "7913                                               Action\n",
       "2573    Arts, Entertainment, and Culture, Comedy, Inte...\n",
       "7137                                                Drama\n",
       "5600                              Action, Drama, Suspense\n",
       "8826                                      Drama, Suspense\n",
       "3447                                     Special Interest\n",
       "Name: listed_in, dtype: object"
      ]
     },
     "execution_count": 14,
     "metadata": {},
     "output_type": "execute_result"
    }
   ],
   "source": [
    "# View a sample of the genres column\n",
    "df['listed_in'].sample(30)"
   ]
  },
  {
   "cell_type": "code",
   "execution_count": 16,
   "id": "2309b214-6318-49d9-9459-db6dfd592cbd",
   "metadata": {},
   "outputs": [
    {
     "name": "stdout",
     "output_type": "stream",
     "text": [
      "                         genres\n",
      "210   Music Videos and Concerts\n",
      "3009                  Animation\n",
      "1527                      Drama\n",
      "5857                  Animation\n",
      "6154                      Drama\n",
      "6835                     Action\n",
      "959                        Kids\n",
      "2210                     Action\n",
      "9646                     Action\n",
      "4877                     Comedy\n"
     ]
    }
   ],
   "source": [
    "# Ensure the column is string and remove leading/trailing spaces\n",
    "df['listed_in'] = df['listed_in'].astype(str).str.strip()\n",
    "\n",
    "# Keep only the first genre if there are multiple (split by comma)\n",
    "df['genres'] = df['listed_in'].apply(lambda x: x.split(',')[0].strip())\n",
    "\n",
    "# Optional: Drop the original 'listed_in' column if you no longer need it\n",
    "df = df.drop(columns=['listed_in'])\n",
    "\n",
    "# Preview to confirm changes\n",
    "print(df[['genres']].sample(10))\n"
   ]
  },
  {
   "cell_type": "code",
   "execution_count": 18,
   "id": "fa86f324-9948-41bd-9ed4-d85ecc2219eb",
   "metadata": {},
   "outputs": [
    {
     "name": "stdout",
     "output_type": "stream",
     "text": [
      "\n",
      "Unique genres in Amazon (before grouping):\n",
      "['Comedy' 'Drama' 'Action' 'Documentary' 'Fantasy' 'Adventure' 'Horror'\n",
      " 'Kids' 'Science Fiction' 'Arts' 'TV Shows' 'Animation' 'Anime'\n",
      " 'Music Videos and Concerts' 'Fitness' 'Faith and Spirituality'\n",
      " 'Special Interest' 'Suspense' 'Unscripted' 'Western' 'Arthouse' 'Sports'\n",
      " 'Military and War' 'International' 'Romance' 'Young Adult Audience'\n",
      " 'Talk Show and Variety' 'LGBTQ' 'Historical']\n",
      "\n",
      "Genre value counts (before grouping):\n",
      "genres\n",
      "Drama                        2216\n",
      "Action                       1657\n",
      "Comedy                       1475\n",
      "Documentary                   913\n",
      "Horror                        535\n",
      "Animation                     498\n",
      "Arts                          457\n",
      "Kids                          373\n",
      "TV Shows                      263\n",
      "Suspense                      194\n",
      "Special Interest              188\n",
      "Arthouse                      132\n",
      "Romance                       126\n",
      "Music Videos and Concerts     103\n",
      "Western                       102\n",
      "Science Fiction                85\n",
      "Fitness                        83\n",
      "Adventure                      71\n",
      "International                  47\n",
      "Anime                          44\n",
      "Unscripted                     29\n",
      "Sports                         19\n",
      "Fantasy                        18\n",
      "Faith and Spirituality         13\n",
      "LGBTQ                          13\n",
      "Military and War                5\n",
      "Young Adult Audience            3\n",
      "Talk Show and Variety           3\n",
      "Historical                      3\n",
      "Name: count, dtype: int64\n"
     ]
    }
   ],
   "source": [
    "# Check all unique genres BEFORE replacements\n",
    "print(\"\\nUnique genres in Amazon (before grouping):\")\n",
    "print(df['genres'].unique())\n",
    "\n",
    "# Optional: Count how many times each genre appears\n",
    "print(\"\\nGenre value counts (before grouping):\")\n",
    "print(df['genres'].value_counts(dropna=False))\n"
   ]
  },
  {
   "cell_type": "code",
   "execution_count": 20,
   "id": "00db9b75-2861-471a-895b-cd2e9b3d885f",
   "metadata": {},
   "outputs": [],
   "source": [
    "# Replacing genre labels with unified categories for consistency\n",
    "genre_replacements = {\n",
    "    # Drama group\n",
    "    'Drama': 'Drama',\n",
    "    'Romance': 'Drama',\n",
    "    'Suspense': 'Drama',\n",
    "    'Thrillers': 'Drama',  \n",
    "    'Mystery': 'Drama',    \n",
    "\n",
    "    # Comedy group\n",
    "    'Comedy': 'Comedy',\n",
    "    'Stand-Up Comedy': 'Comedy',\n",
    "    'Talk Show and Variety': 'Comedy',\n",
    "    'Talk Show': 'Comedy',\n",
    "    'Talk Show and Variety': 'Comedy',\n",
    "\n",
    "    # Action & Thriller group\n",
    "    'Action': 'Action/Thriller',\n",
    "    'Adventure': 'Action/Thriller',\n",
    "    'Military and War': 'Action/Thriller',\n",
    "    'Arthouse': 'Action/Thriller',\n",
    "    'Suspense': 'Action/Thriller',\n",
    "\n",
    "    # Documentary group\n",
    "    'Documentary': 'Documentary',\n",
    "    'Docuseries': 'Documentary',\n",
    "    'Unscripted': 'Documentary',\n",
    "\n",
    "    # International group\n",
    "    'International': 'International',\n",
    "\n",
    "    # Kids & Family group\n",
    "    'Kids': 'Kids',\n",
    "    'Young Adult Audience': 'Kids',\n",
    "\n",
    "    # Sci-Fi / Fantasy / Animation group\n",
    "    'Sci-Fi & Fantasy': 'Sci-Fi/Fantasy',\n",
    "    'Science Fiction': 'Sci-Fi/Fantasy',\n",
    "    'Fantasy': 'Sci-Fi/Fantasy',\n",
    "    'Animation': 'Sci-Fi/Fantasy',\n",
    "    'Anime': 'Sci-Fi/Fantasy',\n",
    "\n",
    "    # Horror group\n",
    "    'Horror': 'Horror',\n",
    "\n",
    "    # Reality / Other group\n",
    "    'Reality TV': 'Reality',\n",
    "    'Sports': 'Other',\n",
    "    'Fitness': 'Other',\n",
    "    'Music Videos and Concerts': 'Other',\n",
    "    'Arts': 'Other',\n",
    "    'Faith and Spirituality': 'Other',\n",
    "    'LGBTQ': 'Other',\n",
    "    'Historical': 'Other',\n",
    "    'Western': 'Other',\n",
    "}\n"
   ]
  },
  {
   "cell_type": "code",
   "execution_count": 22,
   "id": "da11e5e6-1761-4397-90c5-e58fbec9c6ed",
   "metadata": {},
   "outputs": [
    {
     "name": "stdout",
     "output_type": "stream",
     "text": [
      "\n",
      "Unique genres in Amazon (after grouping):\n",
      "['Comedy' 'Drama' 'Action' 'Documentary' 'Fantasy' 'Adventure' 'Horror'\n",
      " 'Kids' 'Science Fiction' 'Arts' 'TV Shows' 'Animation' 'Anime'\n",
      " 'Music Videos and Concerts' 'Fitness' 'Faith and Spirituality'\n",
      " 'Special Interest' 'Suspense' 'Unscripted' 'Western' 'Arthouse' 'Sports'\n",
      " 'Military and War' 'International' 'Romance' 'Young Adult Audience'\n",
      " 'Talk Show and Variety' 'LGBTQ' 'Historical']\n"
     ]
    }
   ],
   "source": [
    "# Check unique genres AFTER applying replacements\n",
    "print(\"\\nUnique genres in Amazon (after grouping):\")\n",
    "print(df['genres'].unique())"
   ]
  },
  {
   "cell_type": "code",
   "execution_count": 24,
   "id": "911f9c27-f557-4eb7-a7a0-dfb121be83e4",
   "metadata": {},
   "outputs": [],
   "source": [
    "df['genres'] = df['genres'].replace(genre_replacements)\n"
   ]
  },
  {
   "cell_type": "code",
   "execution_count": 26,
   "id": "484d2b5d-83f4-40ac-a615-048505e98a40",
   "metadata": {},
   "outputs": [
    {
     "name": "stdout",
     "output_type": "stream",
     "text": [
      "\n",
      "Genre value counts (after grouping):\n",
      "genres\n",
      "Drama               2342\n",
      "Action/Thriller     2059\n",
      "Comedy              1478\n",
      "Documentary          942\n",
      "Other                793\n",
      "Sci-Fi/Fantasy       645\n",
      "Horror               535\n",
      "Kids                 376\n",
      "TV Shows             263\n",
      "Special Interest     188\n",
      "International         47\n",
      "Name: count, dtype: int64\n"
     ]
    }
   ],
   "source": [
    "# Optional: Count genre occurrences after grouping\n",
    "print(\"\\nGenre value counts (after grouping):\")\n",
    "print(df['genres'].value_counts(dropna=False))\n"
   ]
  },
  {
   "cell_type": "code",
   "execution_count": 28,
   "id": "f1d3dbf9-c536-4ea5-8ec5-dad86748ceaa",
   "metadata": {},
   "outputs": [
    {
     "data": {
      "text/html": [
       "<div>\n",
       "<style scoped>\n",
       "    .dataframe tbody tr th:only-of-type {\n",
       "        vertical-align: middle;\n",
       "    }\n",
       "\n",
       "    .dataframe tbody tr th {\n",
       "        vertical-align: top;\n",
       "    }\n",
       "\n",
       "    .dataframe thead th {\n",
       "        text-align: right;\n",
       "    }\n",
       "</style>\n",
       "<table border=\"1\" class=\"dataframe\">\n",
       "  <thead>\n",
       "    <tr style=\"text-align: right;\">\n",
       "      <th></th>\n",
       "      <th>duration</th>\n",
       "      <th>duration_int</th>\n",
       "      <th>duration_type</th>\n",
       "    </tr>\n",
       "  </thead>\n",
       "  <tbody>\n",
       "    <tr>\n",
       "      <th>0</th>\n",
       "      <td>113 min</td>\n",
       "      <td>113</td>\n",
       "      <td>min</td>\n",
       "    </tr>\n",
       "    <tr>\n",
       "      <th>1</th>\n",
       "      <td>110 min</td>\n",
       "      <td>110</td>\n",
       "      <td>min</td>\n",
       "    </tr>\n",
       "    <tr>\n",
       "      <th>2</th>\n",
       "      <td>74 min</td>\n",
       "      <td>74</td>\n",
       "      <td>min</td>\n",
       "    </tr>\n",
       "    <tr>\n",
       "      <th>3</th>\n",
       "      <td>69 min</td>\n",
       "      <td>69</td>\n",
       "      <td>min</td>\n",
       "    </tr>\n",
       "    <tr>\n",
       "      <th>4</th>\n",
       "      <td>45 min</td>\n",
       "      <td>45</td>\n",
       "      <td>min</td>\n",
       "    </tr>\n",
       "  </tbody>\n",
       "</table>\n",
       "</div>"
      ],
      "text/plain": [
       "  duration  duration_int duration_type\n",
       "0  113 min           113           min\n",
       "1  110 min           110           min\n",
       "2   74 min            74           min\n",
       "3   69 min            69           min\n",
       "4   45 min            45           min"
      ]
     },
     "execution_count": 28,
     "metadata": {},
     "output_type": "execute_result"
    }
   ],
   "source": [
    "# Split 'duration' column into duration value and type (e.g., \"90 min\" → 90 + 'min')\n",
    "df[['duration_int', 'duration_type']] = df['duration'].str.extract(r'(\\d+)\\s*(\\w+)')\n",
    "df['duration_int'] = pd.to_numeric(df['duration_int'], errors='coerce')  # Convert to numeric\n",
    "df[['duration', 'duration_int', 'duration_type']].head()  # Preview new columns"
   ]
  },
  {
   "cell_type": "code",
   "execution_count": 30,
   "id": "5b1e8658-0381-4aaf-bc84-9ae66449899f",
   "metadata": {},
   "outputs": [],
   "source": [
    "# Split genres into lists (for multi-label classification)\n",
    "\n",
    "df['genres'] = df['genres'].str.split(', ')  # Check results"
   ]
  },
  {
   "cell_type": "code",
   "execution_count": 32,
   "id": "38fa55cf-54d4-4c25-b844-d8d092bd4f8b",
   "metadata": {},
   "outputs": [
    {
     "data": {
      "text/plain": [
       "duration_type\n",
       "min       7814\n",
       "Season    1854\n",
       "Name: count, dtype: int64"
      ]
     },
     "execution_count": 32,
     "metadata": {},
     "output_type": "execute_result"
    }
   ],
   "source": [
    "# Frequency of duration types (e.g., 'min', 'Season')\n",
    "df['duration_type'].value_counts() # Check types of duration (minutes or seasons)\n",
    "\n",
    "# Standardize plural form to singular ('Seasons' → 'Season')\n",
    "df['duration_type'] = df['duration_type'].replace('Seasons', 'Season') # Normalize to singular\n",
    "df['duration_type'].value_counts()  # Confirm correction"
   ]
  },
  {
   "cell_type": "code",
   "execution_count": 34,
   "id": "177ff205-c6fa-415b-adba-9c56fb54a5f3",
   "metadata": {},
   "outputs": [
    {
     "data": {
      "text/html": [
       "<div>\n",
       "<style scoped>\n",
       "    .dataframe tbody tr th:only-of-type {\n",
       "        vertical-align: middle;\n",
       "    }\n",
       "\n",
       "    .dataframe tbody tr th {\n",
       "        vertical-align: top;\n",
       "    }\n",
       "\n",
       "    .dataframe thead th {\n",
       "        text-align: right;\n",
       "    }\n",
       "</style>\n",
       "<table border=\"1\" class=\"dataframe\">\n",
       "  <thead>\n",
       "    <tr style=\"text-align: right;\">\n",
       "      <th></th>\n",
       "      <th>duration</th>\n",
       "    </tr>\n",
       "  </thead>\n",
       "  <tbody>\n",
       "  </tbody>\n",
       "</table>\n",
       "</div>"
      ],
      "text/plain": [
       "Empty DataFrame\n",
       "Columns: [duration]\n",
       "Index: []"
      ]
     },
     "execution_count": 34,
     "metadata": {},
     "output_type": "execute_result"
    }
   ],
   "source": [
    "# Check for missing values in 'duration_int'\n",
    "df['duration_int'].isnull().sum()  # Check how many null durations remain\n",
    "# Keep only rows where 'duration_int' is not null\n",
    "df = df[df['duration_int'].notna()]  # Filter out rows without valid duration\n",
    "# Inspect rows where duration was missing\n",
    "df[df['duration_int'].isna()][['duration']]\n"
   ]
  },
  {
   "cell_type": "code",
   "execution_count": 36,
   "id": "5b3c4802-c72c-4e13-9941-5649f9428596",
   "metadata": {},
   "outputs": [
    {
     "name": "stdout",
     "output_type": "stream",
     "text": [
      "Number of rows after removing duplicates: 9668\n"
     ]
    }
   ],
   "source": [
    "# Remove duplicated rows based on 'show_id', 'title', and 'release_year'\n",
    "df = df.drop_duplicates(subset=['show_id', 'title', 'release_year'])  # Remove duplicates\n",
    "print(\"Number of rows after removing duplicates:\", df.shape[0])  # Check number of rows after deduplication"
   ]
  },
  {
   "cell_type": "code",
   "execution_count": 38,
   "id": "161d1387-7808-4989-8775-3556d12a8448",
   "metadata": {},
   "outputs": [
    {
     "name": "stdout",
     "output_type": "stream",
     "text": [
      "Remaining duplicates: 0\n"
     ]
    }
   ],
   "source": [
    "# Confirm that duplicates are removed\n",
    "duplicates = df.duplicated(subset=['show_id', 'title', 'release_year']).sum()  # Count remaining duplicates\n",
    "print(\"Remaining duplicates:\", duplicates) "
   ]
  },
  {
   "cell_type": "code",
   "execution_count": 40,
   "id": "247b4264-ff75-4c16-8ec0-0385cd08e9bd",
   "metadata": {},
   "outputs": [
    {
     "data": {
      "text/plain": [
       "rating           337\n",
       "show_id            0\n",
       "type               0\n",
       "title              0\n",
       "release_year       0\n",
       "duration           0\n",
       "genres             0\n",
       "duration_int       0\n",
       "duration_type      0\n",
       "dtype: int64"
      ]
     },
     "execution_count": 40,
     "metadata": {},
     "output_type": "execute_result"
    }
   ],
   "source": [
    "# Check missing values again per column (after cleaning)\n",
    "df.isnull().sum().sort_values(ascending=False)"
   ]
  },
  {
   "cell_type": "code",
   "execution_count": 42,
   "id": "3a421502-6259-4e12-b363-920115fab246",
   "metadata": {},
   "outputs": [
    {
     "name": "stdout",
     "output_type": "stream",
     "text": [
      "\n",
      "Missing values per column after filling:\n",
      "show_id          0\n",
      "type             0\n",
      "title            0\n",
      "release_year     0\n",
      "rating           0\n",
      "duration         0\n",
      "genres           0\n",
      "duration_int     0\n",
      "duration_type    0\n",
      "dtype: int64\n"
     ]
    }
   ],
   "source": [
    "import numpy as np  # Asegúrate de importar numpy para poder usar np.nan\n",
    "\n",
    "# Fill missing values with appropriate defaults\n",
    "\n",
    "# Replace missing 'rating' with \"Not Rated\"\n",
    "df['rating'] = df['rating'].fillna(\"Not Rated\")\n",
    "\n",
    "# Final check: confirm there are no missing values left\n",
    "print(\"\\nMissing values per column after filling:\")\n",
    "print(df.isnull().sum().sort_values(ascending=False))\n"
   ]
  },
  {
   "cell_type": "code",
   "execution_count": 44,
   "id": "37cc1394-0caf-4245-b93b-624702c2bba9",
   "metadata": {},
   "outputs": [
    {
     "data": {
      "text/plain": [
       "show_id          0\n",
       "type             0\n",
       "title            0\n",
       "release_year     0\n",
       "rating           0\n",
       "duration         0\n",
       "genres           0\n",
       "duration_int     0\n",
       "duration_type    0\n",
       "dtype: int64"
      ]
     },
     "execution_count": 44,
     "metadata": {},
     "output_type": "execute_result"
    }
   ],
   "source": [
    "# Confirm again that no missing values remain after filling\n",
    "df.isnull().sum().sort_values(ascending=False)"
   ]
  },
  {
   "cell_type": "code",
   "execution_count": 46,
   "id": "ce6f5d8f-56ab-4320-aa8f-f1ce86737329",
   "metadata": {},
   "outputs": [
    {
     "name": "stdout",
     "output_type": "stream",
     "text": [
      "duration_type\n",
      "min       7814\n",
      "Season    1854\n",
      "Name: count, dtype: int64\n",
      "type\n",
      "Movie      7814\n",
      "TV Show    1854\n",
      "Name: count, dtype: int64\n",
      "rating\n",
      "13+          2117\n",
      "16+          1547\n",
      "ALL          1268\n",
      "18+          1243\n",
      "R            1010\n",
      "PG-13         393\n",
      "7+            385\n",
      "Not Rated     337\n",
      "PG            253\n",
      "NR            223\n",
      "TV-14         208\n",
      "TV-PG         169\n",
      "TV-NR         105\n",
      "G              93\n",
      "TV-G           81\n",
      "TV-MA          77\n",
      "TV-Y           74\n",
      "TV-Y7          39\n",
      "UNRATED        33\n",
      "NC-17           3\n",
      "AGES_18_        3\n",
      "NOT_RATE        3\n",
      "AGES_16_        2\n",
      "16              1\n",
      "ALL_AGES        1\n",
      "Name: count, dtype: int64\n"
     ]
    }
   ],
   "source": [
    "# Quick check of distributions on key columns\n",
    "print(df['duration_type'].value_counts())  # Check distribution of 'duration_type'\n",
    "print(df['type'].value_counts())           # Check distribution of 'type'\n",
    "print(df['rating'].value_counts())         # Check distribution of 'rating'\n"
   ]
  },
  {
   "cell_type": "code",
   "execution_count": 48,
   "id": "2364d2de-e814-4267-8532-c15148bbc9fc",
   "metadata": {},
   "outputs": [
    {
     "name": "stdout",
     "output_type": "stream",
     "text": [
      "Unique ratings:\n",
      "['Not Rated' '13+' 'ALL' '18+' 'R' 'TV-Y' 'TV-Y7' 'NR' '16+' 'TV-PG' '7+'\n",
      " 'TV-14' 'TV-NR' 'TV-G' 'PG-13' 'TV-MA' 'G' 'PG' 'NC-17' 'UNRATED' '16'\n",
      " 'AGES_16_' 'AGES_18_' 'ALL_AGES' 'NOT_RATE']\n",
      "\n",
      "Rating value counts:\n",
      "rating\n",
      "13+          2117\n",
      "16+          1547\n",
      "ALL          1268\n",
      "18+          1243\n",
      "R            1010\n",
      "PG-13         393\n",
      "7+            385\n",
      "Not Rated     337\n",
      "PG            253\n",
      "NR            223\n",
      "TV-14         208\n",
      "TV-PG         169\n",
      "TV-NR         105\n",
      "G              93\n",
      "TV-G           81\n",
      "TV-MA          77\n",
      "TV-Y           74\n",
      "TV-Y7          39\n",
      "UNRATED        33\n",
      "NC-17           3\n",
      "AGES_18_        3\n",
      "NOT_RATE        3\n",
      "AGES_16_        2\n",
      "16              1\n",
      "ALL_AGES        1\n",
      "Name: count, dtype: int64\n"
     ]
    }
   ],
   "source": [
    "# Check the unique values in the 'rating' column\n",
    "print(\"Unique ratings:\")\n",
    "print(df['rating'].unique())\n",
    "# Count how many times each rating appears\n",
    "print(\"\\nRating value counts:\")\n",
    "print(df['rating'].value_counts(dropna=False))\n"
   ]
  },
  {
   "cell_type": "code",
   "execution_count": 50,
   "id": "49efb71b-5cee-44bb-a1aa-27e25b85d56c",
   "metadata": {},
   "outputs": [
    {
     "name": "stdout",
     "output_type": "stream",
     "text": [
      "Unique types:\n",
      "['Movie' 'TV Show']\n"
     ]
    }
   ],
   "source": [
    "# Check the unique values in the 'type' column\n",
    "print(\"Unique types:\")\n",
    "print(df['type'].unique())"
   ]
  },
  {
   "cell_type": "code",
   "execution_count": 52,
   "id": "300c35a6-b503-40fb-b3fd-783a1063b17d",
   "metadata": {},
   "outputs": [
    {
     "data": {
      "text/html": [
       "<div>\n",
       "<style scoped>\n",
       "    .dataframe tbody tr th:only-of-type {\n",
       "        vertical-align: middle;\n",
       "    }\n",
       "\n",
       "    .dataframe tbody tr th {\n",
       "        vertical-align: top;\n",
       "    }\n",
       "\n",
       "    .dataframe thead th {\n",
       "        text-align: right;\n",
       "    }\n",
       "</style>\n",
       "<table border=\"1\" class=\"dataframe\">\n",
       "  <thead>\n",
       "    <tr style=\"text-align: right;\">\n",
       "      <th>type</th>\n",
       "      <th>Movie</th>\n",
       "      <th>TV Show</th>\n",
       "    </tr>\n",
       "    <tr>\n",
       "      <th>rating</th>\n",
       "      <th></th>\n",
       "      <th></th>\n",
       "    </tr>\n",
       "  </thead>\n",
       "  <tbody>\n",
       "    <tr>\n",
       "      <th>13+</th>\n",
       "      <td>1849</td>\n",
       "      <td>268</td>\n",
       "    </tr>\n",
       "    <tr>\n",
       "      <th>16</th>\n",
       "      <td>1</td>\n",
       "      <td>0</td>\n",
       "    </tr>\n",
       "    <tr>\n",
       "      <th>16+</th>\n",
       "      <td>1272</td>\n",
       "      <td>275</td>\n",
       "    </tr>\n",
       "    <tr>\n",
       "      <th>18+</th>\n",
       "      <td>1097</td>\n",
       "      <td>146</td>\n",
       "    </tr>\n",
       "    <tr>\n",
       "      <th>7+</th>\n",
       "      <td>288</td>\n",
       "      <td>97</td>\n",
       "    </tr>\n",
       "    <tr>\n",
       "      <th>AGES_16_</th>\n",
       "      <td>2</td>\n",
       "      <td>0</td>\n",
       "    </tr>\n",
       "    <tr>\n",
       "      <th>AGES_18_</th>\n",
       "      <td>3</td>\n",
       "      <td>0</td>\n",
       "    </tr>\n",
       "    <tr>\n",
       "      <th>ALL</th>\n",
       "      <td>988</td>\n",
       "      <td>280</td>\n",
       "    </tr>\n",
       "    <tr>\n",
       "      <th>ALL_AGES</th>\n",
       "      <td>1</td>\n",
       "      <td>0</td>\n",
       "    </tr>\n",
       "    <tr>\n",
       "      <th>G</th>\n",
       "      <td>93</td>\n",
       "      <td>0</td>\n",
       "    </tr>\n",
       "    <tr>\n",
       "      <th>NC-17</th>\n",
       "      <td>3</td>\n",
       "      <td>0</td>\n",
       "    </tr>\n",
       "    <tr>\n",
       "      <th>NOT_RATE</th>\n",
       "      <td>3</td>\n",
       "      <td>0</td>\n",
       "    </tr>\n",
       "    <tr>\n",
       "      <th>NR</th>\n",
       "      <td>194</td>\n",
       "      <td>29</td>\n",
       "    </tr>\n",
       "    <tr>\n",
       "      <th>Not Rated</th>\n",
       "      <td>331</td>\n",
       "      <td>6</td>\n",
       "    </tr>\n",
       "    <tr>\n",
       "      <th>PG</th>\n",
       "      <td>253</td>\n",
       "      <td>0</td>\n",
       "    </tr>\n",
       "    <tr>\n",
       "      <th>PG-13</th>\n",
       "      <td>393</td>\n",
       "      <td>0</td>\n",
       "    </tr>\n",
       "    <tr>\n",
       "      <th>R</th>\n",
       "      <td>1010</td>\n",
       "      <td>0</td>\n",
       "    </tr>\n",
       "    <tr>\n",
       "      <th>TV-14</th>\n",
       "      <td>0</td>\n",
       "      <td>208</td>\n",
       "    </tr>\n",
       "    <tr>\n",
       "      <th>TV-G</th>\n",
       "      <td>0</td>\n",
       "      <td>81</td>\n",
       "    </tr>\n",
       "    <tr>\n",
       "      <th>TV-MA</th>\n",
       "      <td>0</td>\n",
       "      <td>77</td>\n",
       "    </tr>\n",
       "    <tr>\n",
       "      <th>TV-NR</th>\n",
       "      <td>0</td>\n",
       "      <td>105</td>\n",
       "    </tr>\n",
       "    <tr>\n",
       "      <th>TV-PG</th>\n",
       "      <td>0</td>\n",
       "      <td>169</td>\n",
       "    </tr>\n",
       "    <tr>\n",
       "      <th>TV-Y</th>\n",
       "      <td>0</td>\n",
       "      <td>74</td>\n",
       "    </tr>\n",
       "    <tr>\n",
       "      <th>TV-Y7</th>\n",
       "      <td>0</td>\n",
       "      <td>39</td>\n",
       "    </tr>\n",
       "    <tr>\n",
       "      <th>UNRATED</th>\n",
       "      <td>33</td>\n",
       "      <td>0</td>\n",
       "    </tr>\n",
       "  </tbody>\n",
       "</table>\n",
       "</div>"
      ],
      "text/plain": [
       "type       Movie  TV Show\n",
       "rating                   \n",
       "13+         1849      268\n",
       "16             1        0\n",
       "16+         1272      275\n",
       "18+         1097      146\n",
       "7+           288       97\n",
       "AGES_16_       2        0\n",
       "AGES_18_       3        0\n",
       "ALL          988      280\n",
       "ALL_AGES       1        0\n",
       "G             93        0\n",
       "NC-17          3        0\n",
       "NOT_RATE       3        0\n",
       "NR           194       29\n",
       "Not Rated    331        6\n",
       "PG           253        0\n",
       "PG-13        393        0\n",
       "R           1010        0\n",
       "TV-14          0      208\n",
       "TV-G           0       81\n",
       "TV-MA          0       77\n",
       "TV-NR          0      105\n",
       "TV-PG          0      169\n",
       "TV-Y           0       74\n",
       "TV-Y7          0       39\n",
       "UNRATED       33        0"
      ]
     },
     "execution_count": 52,
     "metadata": {},
     "output_type": "execute_result"
    }
   ],
   "source": [
    "# Create a table that shows the count of each rating by type\n",
    "pd.crosstab(df['rating'], df['type'])\n"
   ]
  },
  {
   "cell_type": "code",
   "execution_count": 54,
   "id": "4693f9cf-3266-43cf-8cb9-af8fdbb1310c",
   "metadata": {},
   "outputs": [
    {
     "name": "stdout",
     "output_type": "stream",
     "text": [
      "['Unrated' 'PG-13' 'G' 'R' 'TV-Y' 'TV-Y7' 'TV-PG' 'TV-14' 'TV-G' 'TV-MA'\n",
      " 'PG']\n"
     ]
    }
   ],
   "source": [
    "# Define the replacements dictionary\n",
    "rating_replacements = {\n",
    "    # Movie ratings\n",
    "    '13+': 'PG-13',\n",
    "    '16+': 'R',\n",
    "    '16': 'R',\n",
    "    '18+': 'R',\n",
    "    '7+': 'G',\n",
    "    'AGES_16+': 'R',\n",
    "    'AGES_16_': 'R',\n",
    "    'AGES_18_': 'R',\n",
    "    'ALL': 'G',\n",
    "    'ALL_AGES': 'G',\n",
    "    'G': 'G',\n",
    "    'NC-17': 'R',\n",
    "    'NR': 'Unrated',\n",
    "    'Not Rated': 'Unrated',\n",
    "    'PG': 'PG',\n",
    "    'PG-13': 'PG-13',\n",
    "    'R': 'R',\n",
    "\n",
    "    # TV Show ratings\n",
    "    'TV-14': 'TV-14',\n",
    "    'TV-G': 'TV-G',\n",
    "    'TV-MA': 'TV-MA',\n",
    "    'TV-NR': 'Unrated',\n",
    "    'TV-PG': 'TV-PG',\n",
    "    'TV-Y': 'TV-Y',\n",
    "    'TV-Y7': 'TV-Y7',\n",
    "    'UNRATED': 'Unrated',\n",
    "    \n",
    "    # Additional cases\n",
    "    'AGE_18_': 'R',    # For content rated for 18+ should be R\n",
    "    'NOT_RATE': 'Unrated',  # 'NOT_RATE' should be treated as 'Unrated'\n",
    "    'nan': 'Unrated'   # Treat missing values (NaN) as 'Unrated'\n",
    "}\n",
    "\n",
    "# Function to map ratings based on 'type' (Movie or TV Show)\n",
    "def map_rating(row):\n",
    "    if row['type'] == 'Movie':  # For Movies\n",
    "        return rating_replacements.get(row['rating'], row['rating'])  # Replace based on movie ratings\n",
    "    else:  # For TV Shows\n",
    "        return rating_replacements.get(row['rating'], row['rating'])  # Replace based on TV show ratings\n",
    "\n",
    "# Apply the function to the DataFrame\n",
    "df['rating'] = df.apply(map_rating, axis=1)\n",
    "\n",
    "# Check the unique values after applying the replacements\n",
    "print(df['rating'].unique())"
   ]
  },
  {
   "cell_type": "code",
   "execution_count": 56,
   "id": "2029649b-f76e-4acb-8957-f2633a27b32b",
   "metadata": {},
   "outputs": [],
   "source": [
    "# Apply the mapping function to the 'rating' column\n",
    "df['rating'] = df.apply(map_rating, axis=1)\n"
   ]
  },
  {
   "cell_type": "code",
   "execution_count": 58,
   "id": "f5cf348b-569b-4893-aff9-17b3c962a2b8",
   "metadata": {},
   "outputs": [
    {
     "name": "stdout",
     "output_type": "stream",
     "text": [
      "\n",
      "Unique ratings after mapping:\n",
      "['Unrated' 'PG-13' 'G' 'R' 'TV-Y' 'TV-Y7' 'TV-PG' 'TV-14' 'TV-G' 'TV-MA'\n",
      " 'PG']\n",
      "\n",
      "Rating value counts after mapping:\n",
      "rating\n",
      "R          3809\n",
      "PG-13      2510\n",
      "G          1747\n",
      "Unrated     701\n",
      "PG          253\n",
      "TV-14       208\n",
      "TV-PG       169\n",
      "TV-G         81\n",
      "TV-MA        77\n",
      "TV-Y         74\n",
      "TV-Y7        39\n",
      "Name: count, dtype: int64\n"
     ]
    }
   ],
   "source": [
    "# Check the unique values after replacements\n",
    "print(\"\\nUnique ratings after mapping:\")\n",
    "print(df['rating'].unique())\n",
    "\n",
    "#  Count how many times each rating appears\n",
    "print(\"\\nRating value counts after mapping:\")\n",
    "print(df['rating'].value_counts(dropna=False))\n"
   ]
  },
  {
   "cell_type": "code",
   "execution_count": 60,
   "id": "d433bc54-7cf9-4065-9725-60161b3c491d",
   "metadata": {},
   "outputs": [],
   "source": [
    "# Standardize 'duration_type' to lowercase for consistency\n",
    "df['duration_type'] = df['duration_type'].str.lower()"
   ]
  },
  {
   "cell_type": "code",
   "execution_count": 62,
   "id": "0dcfe27c-87f5-4e5c-ac15-fe595ea9cb5a",
   "metadata": {},
   "outputs": [
    {
     "name": "stdout",
     "output_type": "stream",
     "text": [
      "Average duration per type:\n",
      "  duration_type  duration_int\n",
      "0           min     91.311876\n",
      "1        season      1.723301\n"
     ]
    }
   ],
   "source": [
    "# Calculate the average duration by 'duration_type' (e.g., average movie length)\n",
    "avg_duration = df.groupby('duration_type')['duration_int'].mean().reset_index()\n",
    "print(\"Average duration per type:\")\n",
    "print(avg_duration)"
   ]
  },
  {
   "cell_type": "code",
   "execution_count": 64,
   "id": "186c0d03-814a-4049-80a8-cf40bd676f9d",
   "metadata": {},
   "outputs": [
    {
     "name": "stdout",
     "output_type": "stream",
     "text": [
      "\n",
      "🔹 Titles by release year:\n",
      "    release_year  count\n",
      "90          2012    252\n",
      "91          2013    289\n",
      "92          2014    391\n",
      "93          2015    378\n",
      "94          2016    521\n",
      "95          2017    562\n",
      "96          2018    623\n",
      "97          2019    929\n",
      "98          2020    962\n",
      "99          2021   1442\n"
     ]
    }
   ],
   "source": [
    "# Count number of titles by release year\n",
    "titles_per_year = df['release_year'].value_counts().sort_index().reset_index()\n",
    "titles_per_year.columns = ['release_year', 'count']\n",
    "print(\"\\n🔹 Titles by release year:\")\n",
    "print(titles_per_year.tail(10))  # Show most recent years"
   ]
  },
  {
   "cell_type": "code",
   "execution_count": 66,
   "id": "26296d48-70c5-481b-bd5a-a53763091859",
   "metadata": {},
   "outputs": [
    {
     "name": "stdout",
     "output_type": "stream",
     "text": [
      "Index(['show_id', 'type', 'title', 'release_year', 'rating', 'duration',\n",
      "       'genres', 'duration_int', 'duration_type'],\n",
      "      dtype='object')\n",
      "'platform' column is missing in the DataFrame\n"
     ]
    }
   ],
   "source": [
    "# Check available columns\n",
    "print(df.columns)\n",
    "\n",
    "# Correct column order if platform exists\n",
    "correct_order = ['show_id', 'type', 'title', 'release_year', 'rating', 'duration', 'duration_int', 'duration_type', 'genres', 'platform']\n",
    "\n",
    "# Ensure that 'platform' column exists\n",
    "if 'platform' in df.columns:\n",
    "    df = df[correct_order]\n",
    "    df['genres'] = df['genres'].str.replace(r\"\\[|\\]\", '', regex=True).str.strip()\n",
    "else:\n",
    "    print(\"'platform' column is missing in the DataFrame\")\n"
   ]
  },
  {
   "cell_type": "code",
   "execution_count": 68,
   "id": "14f89db2-3ad8-4202-b52e-7334f58fa094",
   "metadata": {},
   "outputs": [],
   "source": [
    "# Add the 'platform' column as 'Netflix' if it doesn't exist yet\n",
    "df['platform'] = 'Netflix'  \n",
    "if 'platform' not in df.columns:\n",
    "    df['platform'] = 'Netflix'  \n",
    "\n",
    "correct_order = ['show_id', 'type', 'title', 'release_year', 'rating', 'duration', 'duration_int', 'duration_type', 'genres', 'platform']\n",
    "df = df[correct_order]  \n"
   ]
  },
  {
   "cell_type": "code",
   "execution_count": 70,
   "id": "840986ee-516f-4a77-b5ea-efb1a10b916f",
   "metadata": {},
   "outputs": [
    {
     "name": "stdout",
     "output_type": "stream",
     "text": [
      "Index(['show_id', 'type', 'title', 'release_year', 'rating', 'duration',\n",
      "       'duration_int', 'duration_type', 'genres', 'platform'],\n",
      "      dtype='object')\n"
     ]
    }
   ],
   "source": [
    "# Check the current column names to confirm the order\n",
    "print(df.columns)\n"
   ]
  },
  {
   "cell_type": "code",
   "execution_count": 72,
   "id": "22ba55d0-dc7e-4197-824a-616b7b0c0d99",
   "metadata": {},
   "outputs": [],
   "source": [
    "correct_order = ['show_id', 'type', 'title', 'release_year', 'rating', 'duration', 'duration_int', 'duration_type', 'genres', 'platform']\n",
    "df = df[correct_order]"
   ]
  },
  {
   "cell_type": "code",
   "execution_count": 74,
   "id": "05d715e5-0ab6-42ad-acb9-b39c72a81ccd",
   "metadata": {},
   "outputs": [],
   "source": [
    "#Export cleaned DataFrame to CSV for SQL import or future use\n",
    "df['platform'] = 'Prime'\n",
    "# Save the cleaned Prime data to CSV\n",
    "df.to_csv('../data/clean/cleaned_prime_data.csv') \n"
   ]
  },
  {
   "cell_type": "code",
   "execution_count": 76,
   "id": "a748060b-f13d-4b63-b8e9-f0fb4c3c18c3",
   "metadata": {},
   "outputs": [
    {
     "name": "stdout",
     "output_type": "stream",
     "text": [
      "platform\n",
      "Prime    9668\n",
      "Name: count, dtype: int64\n",
      "(9668, 11)\n"
     ]
    }
   ],
   "source": [
    "# Quick check: read the file back and check platform counts\n",
    "import pandas as pd\n",
    "df = pd.read_csv('../data/clean/cleaned_prime_data.csv')\n",
    "print(df['platform'].value_counts())\n",
    "print(df.shape)"
   ]
  },
  {
   "cell_type": "code",
   "execution_count": 78,
   "id": "bb13d722-3085-4bd6-a485-239a14a77123",
   "metadata": {},
   "outputs": [],
   "source": [
    "# Save again without the index column\n",
    "df.to_csv('../data/clean/cleaned_prime_data.csv', index=False)\n",
    "\n",
    "import os\n",
    "\n"
   ]
  },
  {
   "cell_type": "code",
   "execution_count": null,
   "id": "a3eac08b-96ab-46df-80e3-1cdd44322933",
   "metadata": {},
   "outputs": [],
   "source": []
  },
  {
   "cell_type": "code",
   "execution_count": null,
   "id": "a29cfa4a-0c7c-4e67-a327-f9fca87165f3",
   "metadata": {},
   "outputs": [],
   "source": []
  },
  {
   "cell_type": "code",
   "execution_count": null,
   "id": "9cd1c7de-1551-4d59-bbea-f25d6e704df9",
   "metadata": {},
   "outputs": [],
   "source": []
  },
  {
   "cell_type": "code",
   "execution_count": null,
   "id": "79847a69-9073-48a6-9aef-b858022ca4d8",
   "metadata": {},
   "outputs": [],
   "source": []
  }
 ],
 "metadata": {
  "kernelspec": {
   "display_name": "Python 3 (ipykernel)",
   "language": "python",
   "name": "python3"
  },
  "language_info": {
   "codemirror_mode": {
    "name": "ipython",
    "version": 3
   },
   "file_extension": ".py",
   "mimetype": "text/x-python",
   "name": "python",
   "nbconvert_exporter": "python",
   "pygments_lexer": "ipython3",
   "version": "3.12.7"
  }
 },
 "nbformat": 4,
 "nbformat_minor": 5
}
