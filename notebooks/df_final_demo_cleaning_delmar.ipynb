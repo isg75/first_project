{
 "cells": [
  {
   "cell_type": "code",
   "execution_count": 2,
   "id": "1d544a05-c0e8-4fc4-89cb-314d127e26dd",
   "metadata": {
    "scrolled": true
   },
   "outputs": [
    {
     "data": {
      "text/html": [
       "<div>\n",
       "<style scoped>\n",
       "    .dataframe tbody tr th:only-of-type {\n",
       "        vertical-align: middle;\n",
       "    }\n",
       "\n",
       "    .dataframe tbody tr th {\n",
       "        vertical-align: top;\n",
       "    }\n",
       "\n",
       "    .dataframe thead th {\n",
       "        text-align: right;\n",
       "    }\n",
       "</style>\n",
       "<table border=\"1\" class=\"dataframe\">\n",
       "  <thead>\n",
       "    <tr style=\"text-align: right;\">\n",
       "      <th></th>\n",
       "      <th>client_id</th>\n",
       "      <th>clnt_tenure_yr</th>\n",
       "      <th>clnt_tenure_mnth</th>\n",
       "      <th>clnt_age</th>\n",
       "      <th>gendr</th>\n",
       "      <th>num_accts</th>\n",
       "      <th>bal</th>\n",
       "      <th>calls_6_mnth</th>\n",
       "      <th>logons_6_mnth</th>\n",
       "    </tr>\n",
       "  </thead>\n",
       "  <tbody>\n",
       "    <tr>\n",
       "      <th>0</th>\n",
       "      <td>836976</td>\n",
       "      <td>6.0</td>\n",
       "      <td>73.0</td>\n",
       "      <td>60.5</td>\n",
       "      <td>U</td>\n",
       "      <td>2.0</td>\n",
       "      <td>45105.30</td>\n",
       "      <td>6.0</td>\n",
       "      <td>9.0</td>\n",
       "    </tr>\n",
       "    <tr>\n",
       "      <th>1</th>\n",
       "      <td>2304905</td>\n",
       "      <td>7.0</td>\n",
       "      <td>94.0</td>\n",
       "      <td>58.0</td>\n",
       "      <td>U</td>\n",
       "      <td>2.0</td>\n",
       "      <td>110860.30</td>\n",
       "      <td>6.0</td>\n",
       "      <td>9.0</td>\n",
       "    </tr>\n",
       "    <tr>\n",
       "      <th>2</th>\n",
       "      <td>1439522</td>\n",
       "      <td>5.0</td>\n",
       "      <td>64.0</td>\n",
       "      <td>32.0</td>\n",
       "      <td>U</td>\n",
       "      <td>2.0</td>\n",
       "      <td>52467.79</td>\n",
       "      <td>6.0</td>\n",
       "      <td>9.0</td>\n",
       "    </tr>\n",
       "    <tr>\n",
       "      <th>3</th>\n",
       "      <td>1562045</td>\n",
       "      <td>16.0</td>\n",
       "      <td>198.0</td>\n",
       "      <td>49.0</td>\n",
       "      <td>M</td>\n",
       "      <td>2.0</td>\n",
       "      <td>67454.65</td>\n",
       "      <td>3.0</td>\n",
       "      <td>6.0</td>\n",
       "    </tr>\n",
       "    <tr>\n",
       "      <th>4</th>\n",
       "      <td>5126305</td>\n",
       "      <td>12.0</td>\n",
       "      <td>145.0</td>\n",
       "      <td>33.0</td>\n",
       "      <td>F</td>\n",
       "      <td>2.0</td>\n",
       "      <td>103671.75</td>\n",
       "      <td>0.0</td>\n",
       "      <td>3.0</td>\n",
       "    </tr>\n",
       "    <tr>\n",
       "      <th>5</th>\n",
       "      <td>3727881</td>\n",
       "      <td>5.0</td>\n",
       "      <td>71.0</td>\n",
       "      <td>30.5</td>\n",
       "      <td>U</td>\n",
       "      <td>2.0</td>\n",
       "      <td>23915.60</td>\n",
       "      <td>0.0</td>\n",
       "      <td>3.0</td>\n",
       "    </tr>\n",
       "    <tr>\n",
       "      <th>6</th>\n",
       "      <td>272934</td>\n",
       "      <td>5.0</td>\n",
       "      <td>66.0</td>\n",
       "      <td>58.5</td>\n",
       "      <td>U</td>\n",
       "      <td>2.0</td>\n",
       "      <td>27021.42</td>\n",
       "      <td>2.0</td>\n",
       "      <td>5.0</td>\n",
       "    </tr>\n",
       "    <tr>\n",
       "      <th>7</th>\n",
       "      <td>388801</td>\n",
       "      <td>30.0</td>\n",
       "      <td>361.0</td>\n",
       "      <td>57.5</td>\n",
       "      <td>M</td>\n",
       "      <td>5.0</td>\n",
       "      <td>522498.72</td>\n",
       "      <td>1.0</td>\n",
       "      <td>4.0</td>\n",
       "    </tr>\n",
       "    <tr>\n",
       "      <th>8</th>\n",
       "      <td>285619</td>\n",
       "      <td>30.0</td>\n",
       "      <td>369.0</td>\n",
       "      <td>67.5</td>\n",
       "      <td>M</td>\n",
       "      <td>2.0</td>\n",
       "      <td>299388.72</td>\n",
       "      <td>3.0</td>\n",
       "      <td>6.0</td>\n",
       "    </tr>\n",
       "    <tr>\n",
       "      <th>9</th>\n",
       "      <td>8198645</td>\n",
       "      <td>15.0</td>\n",
       "      <td>189.0</td>\n",
       "      <td>54.5</td>\n",
       "      <td>F</td>\n",
       "      <td>2.0</td>\n",
       "      <td>382303.83</td>\n",
       "      <td>6.0</td>\n",
       "      <td>9.0</td>\n",
       "    </tr>\n",
       "    <tr>\n",
       "      <th>10</th>\n",
       "      <td>8368822</td>\n",
       "      <td>8.0</td>\n",
       "      <td>100.0</td>\n",
       "      <td>34.5</td>\n",
       "      <td>U</td>\n",
       "      <td>2.0</td>\n",
       "      <td>75578.54</td>\n",
       "      <td>0.0</td>\n",
       "      <td>3.0</td>\n",
       "    </tr>\n",
       "    <tr>\n",
       "      <th>11</th>\n",
       "      <td>2537139</td>\n",
       "      <td>8.0</td>\n",
       "      <td>99.0</td>\n",
       "      <td>51.5</td>\n",
       "      <td>U</td>\n",
       "      <td>2.0</td>\n",
       "      <td>135940.68</td>\n",
       "      <td>6.0</td>\n",
       "      <td>9.0</td>\n",
       "    </tr>\n",
       "    <tr>\n",
       "      <th>12</th>\n",
       "      <td>2208717</td>\n",
       "      <td>5.0</td>\n",
       "      <td>67.0</td>\n",
       "      <td>33.0</td>\n",
       "      <td>U</td>\n",
       "      <td>2.0</td>\n",
       "      <td>29782.96</td>\n",
       "      <td>6.0</td>\n",
       "      <td>9.0</td>\n",
       "    </tr>\n",
       "    <tr>\n",
       "      <th>13</th>\n",
       "      <td>2214073</td>\n",
       "      <td>16.0</td>\n",
       "      <td>193.0</td>\n",
       "      <td>62.5</td>\n",
       "      <td>M</td>\n",
       "      <td>3.0</td>\n",
       "      <td>136818.03</td>\n",
       "      <td>6.0</td>\n",
       "      <td>9.0</td>\n",
       "    </tr>\n",
       "    <tr>\n",
       "      <th>14</th>\n",
       "      <td>2368987</td>\n",
       "      <td>5.0</td>\n",
       "      <td>71.0</td>\n",
       "      <td>54.5</td>\n",
       "      <td>U</td>\n",
       "      <td>2.0</td>\n",
       "      <td>44408.87</td>\n",
       "      <td>2.0</td>\n",
       "      <td>5.0</td>\n",
       "    </tr>\n",
       "    <tr>\n",
       "      <th>15</th>\n",
       "      <td>2892152</td>\n",
       "      <td>4.0</td>\n",
       "      <td>58.0</td>\n",
       "      <td>36.0</td>\n",
       "      <td>U</td>\n",
       "      <td>2.0</td>\n",
       "      <td>46815.48</td>\n",
       "      <td>5.0</td>\n",
       "      <td>8.0</td>\n",
       "    </tr>\n",
       "    <tr>\n",
       "      <th>16</th>\n",
       "      <td>4536541</td>\n",
       "      <td>3.0</td>\n",
       "      <td>47.0</td>\n",
       "      <td>74.0</td>\n",
       "      <td>U</td>\n",
       "      <td>2.0</td>\n",
       "      <td>47804.50</td>\n",
       "      <td>1.0</td>\n",
       "      <td>4.0</td>\n",
       "    </tr>\n",
       "    <tr>\n",
       "      <th>17</th>\n",
       "      <td>3788589</td>\n",
       "      <td>10.0</td>\n",
       "      <td>122.0</td>\n",
       "      <td>32.5</td>\n",
       "      <td>M</td>\n",
       "      <td>2.0</td>\n",
       "      <td>30750.76</td>\n",
       "      <td>0.0</td>\n",
       "      <td>3.0</td>\n",
       "    </tr>\n",
       "    <tr>\n",
       "      <th>18</th>\n",
       "      <td>719792</td>\n",
       "      <td>11.0</td>\n",
       "      <td>136.0</td>\n",
       "      <td>31.0</td>\n",
       "      <td>F</td>\n",
       "      <td>2.0</td>\n",
       "      <td>111736.78</td>\n",
       "      <td>5.0</td>\n",
       "      <td>8.0</td>\n",
       "    </tr>\n",
       "    <tr>\n",
       "      <th>19</th>\n",
       "      <td>5904035</td>\n",
       "      <td>8.0</td>\n",
       "      <td>101.0</td>\n",
       "      <td>25.5</td>\n",
       "      <td>U</td>\n",
       "      <td>2.0</td>\n",
       "      <td>27848.76</td>\n",
       "      <td>3.0</td>\n",
       "      <td>6.0</td>\n",
       "    </tr>\n",
       "  </tbody>\n",
       "</table>\n",
       "</div>"
      ],
      "text/plain": [
       "    client_id  clnt_tenure_yr  clnt_tenure_mnth  clnt_age gendr  num_accts  \\\n",
       "0      836976             6.0              73.0      60.5     U        2.0   \n",
       "1     2304905             7.0              94.0      58.0     U        2.0   \n",
       "2     1439522             5.0              64.0      32.0     U        2.0   \n",
       "3     1562045            16.0             198.0      49.0     M        2.0   \n",
       "4     5126305            12.0             145.0      33.0     F        2.0   \n",
       "5     3727881             5.0              71.0      30.5     U        2.0   \n",
       "6      272934             5.0              66.0      58.5     U        2.0   \n",
       "7      388801            30.0             361.0      57.5     M        5.0   \n",
       "8      285619            30.0             369.0      67.5     M        2.0   \n",
       "9     8198645            15.0             189.0      54.5     F        2.0   \n",
       "10    8368822             8.0             100.0      34.5     U        2.0   \n",
       "11    2537139             8.0              99.0      51.5     U        2.0   \n",
       "12    2208717             5.0              67.0      33.0     U        2.0   \n",
       "13    2214073            16.0             193.0      62.5     M        3.0   \n",
       "14    2368987             5.0              71.0      54.5     U        2.0   \n",
       "15    2892152             4.0              58.0      36.0     U        2.0   \n",
       "16    4536541             3.0              47.0      74.0     U        2.0   \n",
       "17    3788589            10.0             122.0      32.5     M        2.0   \n",
       "18     719792            11.0             136.0      31.0     F        2.0   \n",
       "19    5904035             8.0             101.0      25.5     U        2.0   \n",
       "\n",
       "          bal  calls_6_mnth  logons_6_mnth  \n",
       "0    45105.30           6.0            9.0  \n",
       "1   110860.30           6.0            9.0  \n",
       "2    52467.79           6.0            9.0  \n",
       "3    67454.65           3.0            6.0  \n",
       "4   103671.75           0.0            3.0  \n",
       "5    23915.60           0.0            3.0  \n",
       "6    27021.42           2.0            5.0  \n",
       "7   522498.72           1.0            4.0  \n",
       "8   299388.72           3.0            6.0  \n",
       "9   382303.83           6.0            9.0  \n",
       "10   75578.54           0.0            3.0  \n",
       "11  135940.68           6.0            9.0  \n",
       "12   29782.96           6.0            9.0  \n",
       "13  136818.03           6.0            9.0  \n",
       "14   44408.87           2.0            5.0  \n",
       "15   46815.48           5.0            8.0  \n",
       "16   47804.50           1.0            4.0  \n",
       "17   30750.76           0.0            3.0  \n",
       "18  111736.78           5.0            8.0  \n",
       "19   27848.76           3.0            6.0  "
      ]
     },
     "execution_count": 2,
     "metadata": {},
     "output_type": "execute_result"
    }
   ],
   "source": [
    "import pandas as pd\n",
    "\n",
    "df = pd.read_csv(\"../data/raw/df_final_demo.txt\")  # Go up one directory, then into data/raw\n",
    "df.head(20)"
   ]
  },
  {
   "cell_type": "code",
   "execution_count": 4,
   "id": "29f0ea4f-7606-4e68-9936-3ef6baa83162",
   "metadata": {},
   "outputs": [
    {
     "data": {
      "text/plain": [
       "(70609, 9)"
      ]
     },
     "execution_count": 4,
     "metadata": {},
     "output_type": "execute_result"
    }
   ],
   "source": [
    "df.shape"
   ]
  },
  {
   "cell_type": "code",
   "execution_count": 8,
   "id": "d6af1307-2a3c-45ce-b409-f482807d19b0",
   "metadata": {
    "collapsed": true,
    "jupyter": {
     "outputs_hidden": true
    }
   },
   "outputs": [
    {
     "data": {
      "text/plain": [
       "client_id             int64\n",
       "clnt_tenure_yr      float64\n",
       "clnt_tenure_mnth    float64\n",
       "clnt_age            float64\n",
       "gendr                object\n",
       "num_accts           float64\n",
       "bal                 float64\n",
       "calls_6_mnth        float64\n",
       "logons_6_mnth       float64\n",
       "dtype: object"
      ]
     },
     "execution_count": 8,
     "metadata": {},
     "output_type": "execute_result"
    }
   ],
   "source": [
    "df.dtypes"
   ]
  },
  {
   "cell_type": "code",
   "execution_count": 5,
   "id": "c62466da-7888-46dc-bc21-c8e6952aab76",
   "metadata": {
    "jupyter": {
     "source_hidden": true
    }
   },
   "outputs": [
    {
     "name": "stdout",
     "output_type": "stream",
     "text": [
      "Columns with leading/trailing spaces: []\n"
     ]
    }
   ],
   "source": [
    "# Check if any column names have leading or trailing whitespace\n",
    "columns_with_spaces = [col for col in df.columns if col != col.strip()]\n",
    "\n",
    "# Print columns with leading/trailing spaces\n",
    "print(\"Columns with leading/trailing spaces:\", columns_with_spaces)\n"
   ]
  },
  {
   "cell_type": "code",
   "execution_count": 6,
   "id": "f01c5479-3f68-4041-8ac7-4305675f3a6d",
   "metadata": {},
   "outputs": [
    {
     "data": {
      "text/plain": [
       "array([nan])"
      ]
     },
     "execution_count": 6,
     "metadata": {},
     "output_type": "execute_result"
    }
   ],
   "source": [
    "df[df['clnt_tenure_yr'] % 1 != 0]['clnt_tenure_yr'].unique()\n",
    "# clnt_tenure_yr can be casted as an int"
   ]
  },
  {
   "cell_type": "code",
   "execution_count": 7,
   "id": "2f16fac7-676e-4385-b509-31c70b436ff1",
   "metadata": {},
   "outputs": [
    {
     "data": {
      "text/plain": [
       "array([nan])"
      ]
     },
     "execution_count": 7,
     "metadata": {},
     "output_type": "execute_result"
    }
   ],
   "source": [
    "df[df['clnt_tenure_mnth'] % 1 != 0]['clnt_tenure_mnth'].unique()\n",
    "# clnt_tenure_mnth can be casted as an int"
   ]
  },
  {
   "cell_type": "code",
   "execution_count": 8,
   "id": "6d128a61-6325-4bf9-988e-133c4df2846f",
   "metadata": {},
   "outputs": [
    {
     "data": {
      "text/plain": [
       "array([nan])"
      ]
     },
     "execution_count": 8,
     "metadata": {},
     "output_type": "execute_result"
    }
   ],
   "source": [
    "df[df['num_accts'] % 1 != 0]['num_accts'].unique()\n",
    "# num_accts can be casted as an int"
   ]
  },
  {
   "cell_type": "code",
   "execution_count": 9,
   "id": "6e6780e8-0aff-4548-a0dc-293e71164775",
   "metadata": {},
   "outputs": [
    {
     "data": {
      "text/plain": [
       "array([nan])"
      ]
     },
     "execution_count": 9,
     "metadata": {},
     "output_type": "execute_result"
    }
   ],
   "source": [
    "df[df['calls_6_mnth'] % 1 != 0]['calls_6_mnth'].unique()\n",
    "# calls_6_mnth can be casted as an int"
   ]
  },
  {
   "cell_type": "code",
   "execution_count": 10,
   "id": "89d5bdd2-e599-42d6-b032-55feed908339",
   "metadata": {},
   "outputs": [
    {
     "data": {
      "text/plain": [
       "array([nan])"
      ]
     },
     "execution_count": 10,
     "metadata": {},
     "output_type": "execute_result"
    }
   ],
   "source": [
    "df[df['logons_6_mnth'] % 1 != 0]['logons_6_mnth'].unique()\n",
    "# logons_6_mnth can be casted as an int"
   ]
  },
  {
   "cell_type": "code",
   "execution_count": 11,
   "id": "e8ca5ca1-696c-4e77-811c-5b95dfc4b9cb",
   "metadata": {},
   "outputs": [
    {
     "name": "stdout",
     "output_type": "stream",
     "text": [
      "Rows with NaNs in all selected columns:\n",
      "       client_id  clnt_tenure_yr  clnt_tenure_mnth  clnt_age gendr  num_accts  \\\n",
      "4164     7402828             NaN               NaN       NaN   NaN        NaN   \n",
      "8316      355337             NaN               NaN       NaN   NaN        NaN   \n",
      "8677     8412164             NaN               NaN       NaN   NaN        NaN   \n",
      "13444    2222915             NaN               NaN       NaN   NaN        NaN   \n",
      "18066    4876926             NaN               NaN       NaN   NaN        NaN   \n",
      "25961    5277910             NaN               NaN       NaN   NaN        NaN   \n",
      "28432    7616759             NaN               NaN       NaN   NaN        NaN   \n",
      "35323    8191345             NaN               NaN       NaN   NaN        NaN   \n",
      "43518    1227228             NaN               NaN       NaN   NaN        NaN   \n",
      "46076    8611797             NaN               NaN       NaN   NaN        NaN   \n",
      "47189    5144725             NaN               NaN       NaN   NaN        NaN   \n",
      "49846    1037867             NaN               NaN       NaN   NaN        NaN   \n",
      "63701    1618749             NaN               NaN       NaN   NaN        NaN   \n",
      "66219    6021001             NaN               NaN       NaN   NaN        NaN   \n",
      "\n",
      "       bal  calls_6_mnth  logons_6_mnth  \n",
      "4164   NaN           NaN            NaN  \n",
      "8316   NaN           NaN            NaN  \n",
      "8677   NaN           NaN            NaN  \n",
      "13444  NaN           NaN            NaN  \n",
      "18066  NaN           NaN            NaN  \n",
      "25961  NaN           NaN            NaN  \n",
      "28432  NaN           NaN            NaN  \n",
      "35323  NaN           NaN            NaN  \n",
      "43518  NaN           NaN            NaN  \n",
      "46076  NaN           NaN            NaN  \n",
      "47189  NaN           NaN            NaN  \n",
      "49846  NaN           NaN            NaN  \n",
      "63701  NaN           NaN            NaN  \n",
      "66219  NaN           NaN            NaN  \n"
     ]
    }
   ],
   "source": [
    "# Proof if there are NaN value in rows\n",
    "\n",
    "# List of columns to check\n",
    "columns_to_check = ['clnt_tenure_yr', 'clnt_tenure_mnth', 'num_accts', 'calls_6_mnth', 'logons_6_mnth']\n",
    "\n",
    "# Filter rows where all selected columns have NaN values\n",
    "nan_rows = df[df[columns_to_check].isna().all(axis=1)]\n",
    "\n",
    "# Print the rows with NaN in all selected columns\n",
    "print(\"Rows with NaNs in all selected columns:\")\n",
    "print(nan_rows)\n",
    "\n",
    "## THIS OUTPUT SHOWS THAT THESE 14 ROWS HAVE NaN VALUES HAVE NaN VALUES IN THE WHOLE ROW"
   ]
  },
  {
   "cell_type": "code",
   "execution_count": 12,
   "id": "e088be1b-19ff-4cba-94f8-4ec6bd1a846d",
   "metadata": {},
   "outputs": [
    {
     "name": "stdout",
     "output_type": "stream",
     "text": [
      "clnt_tenure_yr: [nan]\n",
      "clnt_tenure_mnth: [nan]\n",
      "num_accts: [nan]\n",
      "calls_6_mnth: [nan]\n",
      "logons_6_mnth: [nan]\n"
     ]
    }
   ],
   "source": [
    "# List of columns to check if there are anything other than a .0 ending\n",
    "columns_to_check = ['clnt_tenure_yr', 'clnt_tenure_mnth', 'num_accts', 'calls_6_mnth', 'logons_6_mnth']\n",
    "\n",
    "# Get unique values where the values have decimals (i.e., not integers)\n",
    "for col in columns_to_check:\n",
    "    print(f\"{col}: {df[df[col] % 1 != 0][col].unique().tolist()}\")\n",
    "\n",
    "# nan MEANS NO OTHER ENDINGS OTHER THAN .0"
   ]
  },
  {
   "cell_type": "code",
   "execution_count": 13,
   "id": "5d97cd22-f551-4e89-96ae-92acfe56efda",
   "metadata": {},
   "outputs": [
    {
     "data": {
      "text/html": [
       "<div>\n",
       "<style scoped>\n",
       "    .dataframe tbody tr th:only-of-type {\n",
       "        vertical-align: middle;\n",
       "    }\n",
       "\n",
       "    .dataframe tbody tr th {\n",
       "        vertical-align: top;\n",
       "    }\n",
       "\n",
       "    .dataframe thead th {\n",
       "        text-align: right;\n",
       "    }\n",
       "</style>\n",
       "<table border=\"1\" class=\"dataframe\">\n",
       "  <thead>\n",
       "    <tr style=\"text-align: right;\">\n",
       "      <th></th>\n",
       "      <th>client_id</th>\n",
       "      <th>clnt_tenure_yr</th>\n",
       "      <th>clnt_tenure_mnth</th>\n",
       "      <th>clnt_age</th>\n",
       "      <th>gendr</th>\n",
       "      <th>num_accts</th>\n",
       "      <th>bal</th>\n",
       "      <th>calls_6_mnth</th>\n",
       "      <th>logons_6_mnth</th>\n",
       "    </tr>\n",
       "  </thead>\n",
       "  <tbody>\n",
       "    <tr>\n",
       "      <th>0</th>\n",
       "      <td>836976</td>\n",
       "      <td>6</td>\n",
       "      <td>73</td>\n",
       "      <td>60.5</td>\n",
       "      <td>U</td>\n",
       "      <td>2</td>\n",
       "      <td>45105.30</td>\n",
       "      <td>6</td>\n",
       "      <td>9</td>\n",
       "    </tr>\n",
       "    <tr>\n",
       "      <th>1</th>\n",
       "      <td>2304905</td>\n",
       "      <td>7</td>\n",
       "      <td>94</td>\n",
       "      <td>58.0</td>\n",
       "      <td>U</td>\n",
       "      <td>2</td>\n",
       "      <td>110860.30</td>\n",
       "      <td>6</td>\n",
       "      <td>9</td>\n",
       "    </tr>\n",
       "    <tr>\n",
       "      <th>2</th>\n",
       "      <td>1439522</td>\n",
       "      <td>5</td>\n",
       "      <td>64</td>\n",
       "      <td>32.0</td>\n",
       "      <td>U</td>\n",
       "      <td>2</td>\n",
       "      <td>52467.79</td>\n",
       "      <td>6</td>\n",
       "      <td>9</td>\n",
       "    </tr>\n",
       "    <tr>\n",
       "      <th>3</th>\n",
       "      <td>1562045</td>\n",
       "      <td>16</td>\n",
       "      <td>198</td>\n",
       "      <td>49.0</td>\n",
       "      <td>M</td>\n",
       "      <td>2</td>\n",
       "      <td>67454.65</td>\n",
       "      <td>3</td>\n",
       "      <td>6</td>\n",
       "    </tr>\n",
       "    <tr>\n",
       "      <th>4</th>\n",
       "      <td>5126305</td>\n",
       "      <td>12</td>\n",
       "      <td>145</td>\n",
       "      <td>33.0</td>\n",
       "      <td>F</td>\n",
       "      <td>2</td>\n",
       "      <td>103671.75</td>\n",
       "      <td>0</td>\n",
       "      <td>3</td>\n",
       "    </tr>\n",
       "    <tr>\n",
       "      <th>...</th>\n",
       "      <td>...</td>\n",
       "      <td>...</td>\n",
       "      <td>...</td>\n",
       "      <td>...</td>\n",
       "      <td>...</td>\n",
       "      <td>...</td>\n",
       "      <td>...</td>\n",
       "      <td>...</td>\n",
       "      <td>...</td>\n",
       "    </tr>\n",
       "    <tr>\n",
       "      <th>70604</th>\n",
       "      <td>7993686</td>\n",
       "      <td>4</td>\n",
       "      <td>56</td>\n",
       "      <td>38.5</td>\n",
       "      <td>U</td>\n",
       "      <td>3</td>\n",
       "      <td>1411062.68</td>\n",
       "      <td>5</td>\n",
       "      <td>5</td>\n",
       "    </tr>\n",
       "    <tr>\n",
       "      <th>70605</th>\n",
       "      <td>8981690</td>\n",
       "      <td>12</td>\n",
       "      <td>148</td>\n",
       "      <td>31.0</td>\n",
       "      <td>M</td>\n",
       "      <td>2</td>\n",
       "      <td>101867.07</td>\n",
       "      <td>6</td>\n",
       "      <td>6</td>\n",
       "    </tr>\n",
       "    <tr>\n",
       "      <th>70606</th>\n",
       "      <td>333913</td>\n",
       "      <td>16</td>\n",
       "      <td>198</td>\n",
       "      <td>61.5</td>\n",
       "      <td>F</td>\n",
       "      <td>2</td>\n",
       "      <td>40745.00</td>\n",
       "      <td>3</td>\n",
       "      <td>3</td>\n",
       "    </tr>\n",
       "    <tr>\n",
       "      <th>70607</th>\n",
       "      <td>1573142</td>\n",
       "      <td>21</td>\n",
       "      <td>255</td>\n",
       "      <td>68.0</td>\n",
       "      <td>M</td>\n",
       "      <td>3</td>\n",
       "      <td>475114.69</td>\n",
       "      <td>4</td>\n",
       "      <td>4</td>\n",
       "    </tr>\n",
       "    <tr>\n",
       "      <th>70608</th>\n",
       "      <td>5602139</td>\n",
       "      <td>21</td>\n",
       "      <td>254</td>\n",
       "      <td>59.5</td>\n",
       "      <td>F</td>\n",
       "      <td>3</td>\n",
       "      <td>157498.73</td>\n",
       "      <td>7</td>\n",
       "      <td>7</td>\n",
       "    </tr>\n",
       "  </tbody>\n",
       "</table>\n",
       "<p>70595 rows × 9 columns</p>\n",
       "</div>"
      ],
      "text/plain": [
       "       client_id  clnt_tenure_yr  clnt_tenure_mnth  clnt_age gendr  num_accts  \\\n",
       "0         836976               6                73      60.5     U          2   \n",
       "1        2304905               7                94      58.0     U          2   \n",
       "2        1439522               5                64      32.0     U          2   \n",
       "3        1562045              16               198      49.0     M          2   \n",
       "4        5126305              12               145      33.0     F          2   \n",
       "...          ...             ...               ...       ...   ...        ...   \n",
       "70604    7993686               4                56      38.5     U          3   \n",
       "70605    8981690              12               148      31.0     M          2   \n",
       "70606     333913              16               198      61.5     F          2   \n",
       "70607    1573142              21               255      68.0     M          3   \n",
       "70608    5602139              21               254      59.5     F          3   \n",
       "\n",
       "              bal  calls_6_mnth  logons_6_mnth  \n",
       "0        45105.30             6              9  \n",
       "1       110860.30             6              9  \n",
       "2        52467.79             6              9  \n",
       "3        67454.65             3              6  \n",
       "4       103671.75             0              3  \n",
       "...           ...           ...            ...  \n",
       "70604  1411062.68             5              5  \n",
       "70605   101867.07             6              6  \n",
       "70606    40745.00             3              3  \n",
       "70607   475114.69             4              4  \n",
       "70608   157498.73             7              7  \n",
       "\n",
       "[70595 rows x 9 columns]"
      ]
     },
     "metadata": {},
     "output_type": "display_data"
    }
   ],
   "source": [
    "# List of columns to check\n",
    "columns_to_check = ['clnt_tenure_yr', 'clnt_tenure_mnth', 'num_accts', 'calls_6_mnth', 'logons_6_mnth']\n",
    "\n",
    "# Step 1: Drop rows where all selected columns have NaN values\n",
    "df_cleaned = df.dropna(subset=columns_to_check, how='all').copy()  # Ensure we work with a copy\n",
    "\n",
    "# Step 2: Convert float columns to Int64 if they are of float type\n",
    "for col in columns_to_check:\n",
    "    if df_cleaned[col].dtype == 'float64':  # Check if column is of float type\n",
    "        df_cleaned[col] = df_cleaned[col].astype('Int64')  # Convert to nullable Int64\n",
    "\n",
    "# Verify the result\n",
    "display(df_cleaned)\n"
   ]
  },
  {
   "cell_type": "code",
   "execution_count": 14,
   "id": "de1c1f47-2d3f-418a-8655-3bf57e174711",
   "metadata": {},
   "outputs": [
    {
     "data": {
      "text/plain": [
       "client_id             int64\n",
       "clnt_tenure_yr        Int64\n",
       "clnt_tenure_mnth      Int64\n",
       "clnt_age            float64\n",
       "gendr                object\n",
       "num_accts             Int64\n",
       "bal                 float64\n",
       "calls_6_mnth          Int64\n",
       "logons_6_mnth         Int64\n",
       "dtype: object"
      ]
     },
     "execution_count": 14,
     "metadata": {},
     "output_type": "execute_result"
    }
   ],
   "source": [
    "df_cleaned.dtypes\n"
   ]
  },
  {
   "cell_type": "code",
   "execution_count": 15,
   "id": "b85933db-a387-41ed-8340-81c845680d37",
   "metadata": {},
   "outputs": [
    {
     "data": {
      "text/plain": [
       "array(['U', 'M', 'F', 'X'], dtype=object)"
      ]
     },
     "metadata": {},
     "output_type": "display_data"
    }
   ],
   "source": [
    "display(df_cleaned['gendr'].unique())"
   ]
  },
  {
   "cell_type": "code",
   "execution_count": 16,
   "id": "e65e1594-7b6a-43af-bf12-bc8cbd1d251a",
   "metadata": {},
   "outputs": [
    {
     "data": {
      "text/plain": [
       "4"
      ]
     },
     "metadata": {},
     "output_type": "display_data"
    }
   ],
   "source": [
    "display(df_cleaned['gendr'].nunique())"
   ]
  },
  {
   "cell_type": "code",
   "execution_count": 17,
   "id": "72cc0812-222b-437c-8ea8-dec2714b2e7a",
   "metadata": {},
   "outputs": [
    {
     "name": "stdout",
     "output_type": "stream",
     "text": [
      "NaN count in 'gendr' column: 0\n"
     ]
    }
   ],
   "source": [
    "print(f\"NaN count in 'gendr' column: {df_cleaned['gendr'].isna().sum()}\")"
   ]
  },
  {
   "cell_type": "code",
   "execution_count": 18,
   "id": "1b3c3400-d619-4afe-9778-365aebc84197",
   "metadata": {
    "scrolled": true
   },
   "outputs": [
    {
     "data": {
      "text/html": [
       "<div>\n",
       "<style scoped>\n",
       "    .dataframe tbody tr th:only-of-type {\n",
       "        vertical-align: middle;\n",
       "    }\n",
       "\n",
       "    .dataframe tbody tr th {\n",
       "        vertical-align: top;\n",
       "    }\n",
       "\n",
       "    .dataframe thead th {\n",
       "        text-align: right;\n",
       "    }\n",
       "</style>\n",
       "<table border=\"1\" class=\"dataframe\">\n",
       "  <thead>\n",
       "    <tr style=\"text-align: right;\">\n",
       "      <th></th>\n",
       "      <th>client_id</th>\n",
       "      <th>clnt_tenure_yr</th>\n",
       "      <th>clnt_tenure_mnth</th>\n",
       "      <th>clnt_age</th>\n",
       "      <th>gendr</th>\n",
       "      <th>num_accts</th>\n",
       "      <th>bal</th>\n",
       "      <th>calls_6_mnth</th>\n",
       "      <th>logons_6_mnth</th>\n",
       "    </tr>\n",
       "  </thead>\n",
       "  <tbody>\n",
       "    <tr>\n",
       "      <th>0</th>\n",
       "      <td>836976</td>\n",
       "      <td>6</td>\n",
       "      <td>73</td>\n",
       "      <td>60.5</td>\n",
       "      <td>U</td>\n",
       "      <td>2</td>\n",
       "      <td>45105.30</td>\n",
       "      <td>6</td>\n",
       "      <td>9</td>\n",
       "    </tr>\n",
       "    <tr>\n",
       "      <th>1</th>\n",
       "      <td>2304905</td>\n",
       "      <td>7</td>\n",
       "      <td>94</td>\n",
       "      <td>58.0</td>\n",
       "      <td>U</td>\n",
       "      <td>2</td>\n",
       "      <td>110860.30</td>\n",
       "      <td>6</td>\n",
       "      <td>9</td>\n",
       "    </tr>\n",
       "    <tr>\n",
       "      <th>2</th>\n",
       "      <td>1439522</td>\n",
       "      <td>5</td>\n",
       "      <td>64</td>\n",
       "      <td>32.0</td>\n",
       "      <td>U</td>\n",
       "      <td>2</td>\n",
       "      <td>52467.79</td>\n",
       "      <td>6</td>\n",
       "      <td>9</td>\n",
       "    </tr>\n",
       "    <tr>\n",
       "      <th>3</th>\n",
       "      <td>1562045</td>\n",
       "      <td>16</td>\n",
       "      <td>198</td>\n",
       "      <td>49.0</td>\n",
       "      <td>M</td>\n",
       "      <td>2</td>\n",
       "      <td>67454.65</td>\n",
       "      <td>3</td>\n",
       "      <td>6</td>\n",
       "    </tr>\n",
       "    <tr>\n",
       "      <th>4</th>\n",
       "      <td>5126305</td>\n",
       "      <td>12</td>\n",
       "      <td>145</td>\n",
       "      <td>33.0</td>\n",
       "      <td>F</td>\n",
       "      <td>2</td>\n",
       "      <td>103671.75</td>\n",
       "      <td>0</td>\n",
       "      <td>3</td>\n",
       "    </tr>\n",
       "  </tbody>\n",
       "</table>\n",
       "</div>"
      ],
      "text/plain": [
       "   client_id  clnt_tenure_yr  clnt_tenure_mnth  clnt_age gendr  num_accts  \\\n",
       "0     836976               6                73      60.5     U          2   \n",
       "1    2304905               7                94      58.0     U          2   \n",
       "2    1439522               5                64      32.0     U          2   \n",
       "3    1562045              16               198      49.0     M          2   \n",
       "4    5126305              12               145      33.0     F          2   \n",
       "\n",
       "         bal  calls_6_mnth  logons_6_mnth  \n",
       "0   45105.30             6              9  \n",
       "1  110860.30             6              9  \n",
       "2   52467.79             6              9  \n",
       "3   67454.65             3              6  \n",
       "4  103671.75             0              3  "
      ]
     },
     "execution_count": 18,
     "metadata": {},
     "output_type": "execute_result"
    }
   ],
   "source": [
    "df_cleaned.head()"
   ]
  },
  {
   "cell_type": "code",
   "execution_count": 19,
   "id": "be5fc547-84a8-4fc9-9ac1-f305153135a9",
   "metadata": {},
   "outputs": [],
   "source": [
    "df_cleaned.to_csv(\"df_final_demo_cleaned.csv\", index=False)\n"
   ]
  },
  {
   "cell_type": "code",
   "execution_count": null,
   "id": "cb002141-6810-48f3-b91d-b3f7761192b8",
   "metadata": {},
   "outputs": [],
   "source": []
  }
 ],
 "metadata": {
  "kernelspec": {
   "display_name": "venv",
   "language": "python",
   "name": "venv"
  },
  "language_info": {
   "codemirror_mode": {
    "name": "ipython",
    "version": 3
   },
   "file_extension": ".py",
   "mimetype": "text/x-python",
   "name": "python",
   "nbconvert_exporter": "python",
   "pygments_lexer": "ipython3",
   "version": "3.12.7"
  }
 },
 "nbformat": 4,
 "nbformat_minor": 5
}
