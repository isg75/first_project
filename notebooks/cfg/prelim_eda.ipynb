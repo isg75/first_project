{
 "cells": [
  {
   "cell_type": "code",
   "execution_count": 26,
   "id": "0c25350b-3bf8-4e24-b5be-f5cbc51ec79a",
   "metadata": {},
   "outputs": [
    {
     "name": "stdout",
     "output_type": "stream",
     "text": [
      "Index(['client_id', 'visitor_id', 'visit_id', 'process_step', 'date_time'], dtype='object')\n",
      "Index(['client_id', 'visitor_id', 'visit_id', 'process_step', 'date_time'], dtype='object')\n"
     ]
    }
   ],
   "source": [
    "import pandas as pd\n",
    "\n",
    "# Step 1: Load Data\n",
    "df_final_web_data_pt_1 = pd.read_csv(r'C:\\Users\\Cecilia\\Downloads\\ironhack\\coursework\\group_work\\group_project_week5_6\\second_project\\data\\raw\\df_final_web_data_pt_1.txt')\n",
    "df_final_web_data_pt_2 = pd.read_csv(r'C:\\Users\\Cecilia\\Downloads\\ironhack\\coursework\\group_work\\group_project_week5_6\\second_project\\data\\raw\\df_final_web_data_pt_2.txt')\n",
    "\n",
    "# Step 2: Inspect the DataFrames to find common columns\n",
    "print(df_final_web_data_pt_1.columns)\n",
    "print(df_final_web_data_pt_2.columns)"
   ]
  },
  {
   "cell_type": "code",
   "execution_count": null,
   "id": "dd4c0474-7711-4539-b0ff-64b54c190ddc",
   "metadata": {},
   "outputs": [],
   "source": []
  }
 ],
 "metadata": {
  "kernelspec": {
   "display_name": "Python 3 (ipykernel)",
   "language": "python",
   "name": "python3"
  },
  "language_info": {
   "codemirror_mode": {
    "name": "ipython",
    "version": 3
   },
   "file_extension": ".py",
   "mimetype": "text/x-python",
   "name": "python",
   "nbconvert_exporter": "python",
   "pygments_lexer": "ipython3",
   "version": "3.12.4"
  }
 },
 "nbformat": 4,
 "nbformat_minor": 5
}
