{
 "cells": [
  {
   "cell_type": "code",
   "execution_count": 11,
   "id": "30295b6e-093d-4f13-8dd7-7e9d91f9abda",
   "metadata": {},
   "outputs": [
    {
     "name": "stdout",
     "output_type": "stream",
     "text": [
      "Index(['client_id', 'visitor_id', 'visit_id', 'process_step', 'date_time'], dtype='object')\n",
      "Index(['client_id', 'visitor_id', 'visit_id', 'process_step', 'date_time'], dtype='object')\n",
      "   client_id           visitor_id_x                    visit_id_x  \\\n",
      "0     438567  923318467_50708963627  711884648_43943594307_585328   \n",
      "1     438567  923318467_50708963627  711884648_43943594307_585328   \n",
      "2     438567  923318467_50708963627  711884648_43943594307_585328   \n",
      "3     438567  923318467_50708963627  711884648_43943594307_585328   \n",
      "4     438567  923318467_50708963627  711884648_43943594307_585328   \n",
      "\n",
      "  process_step_x          date_time_x           visitor_id_y  \\\n",
      "0         step_1  2017-04-05 16:06:35  694624747_14580652583   \n",
      "1         step_1  2017-04-05 16:06:35  694624747_14580652583   \n",
      "2         step_1  2017-04-05 16:06:35  694624747_14580652583   \n",
      "3         step_1  2017-04-05 16:06:35  694624747_14580652583   \n",
      "4         step_1  2017-04-05 16:06:35  694624747_14580652583   \n",
      "\n",
      "                     visit_id_y process_step_y          date_time_y  \n",
      "0  787486191_38787201768_120150        confirm  2017-06-08 16:46:39  \n",
      "1  787486191_38787201768_120150         step_3  2017-06-08 16:46:08  \n",
      "2  787486191_38787201768_120150         step_2  2017-06-08 16:45:09  \n",
      "3  787486191_38787201768_120150         step_1  2017-06-08 16:44:30  \n",
      "4  787486191_38787201768_120150          start  2017-06-08 16:44:07  \n"
     ]
    }
   ],
   "source": [
    "import pandas as pd\n",
    "\n",
    "# Step 1: Load Data\n",
    "df_final_web_data_pt_1 = pd.read_csv(r'C:\\Users\\Cecilia\\Downloads\\ironhack\\coursework\\group_work\\group_project_week5_6\\second_project\\data\\raw\\df_final_web_data_pt_1.txt')\n",
    "df_final_web_data_pt_2 = pd.read_csv(r'C:\\Users\\Cecilia\\Downloads\\ironhack\\coursework\\group_work\\group_project_week5_6\\second_project\\data\\raw\\df_final_web_data_pt_2.txt')\n",
    "\n",
    "# Step 2: Inspect the DataFrames to find common columns\n",
    "print(df_final_web_data_pt_1.columns)\n",
    "print(df_final_web_data_pt_2.columns)\n",
    "\n",
    "# Example merge based on a common column (e.g., 'client_id')\n",
    "merged_df = pd.merge(df_final_web_data_pt_1, df_final_web_data_pt_2, on='client_id', how='inner')\n",
    "\n",
    "# Check the result of the merge\n",
    "print(merged_df.head())"
   ]
  },
  {
   "cell_type": "code",
   "execution_count": 12,
   "id": "410cc507-cf85-4b0f-98f9-a64dd62ee3fb",
   "metadata": {},
   "outputs": [
    {
     "name": "stdout",
     "output_type": "stream",
     "text": [
      "<class 'pandas.core.frame.DataFrame'>\n",
      "RangeIndex: 160786 entries, 0 to 160785\n",
      "Data columns (total 9 columns):\n",
      " #   Column          Non-Null Count   Dtype \n",
      "---  ------          --------------   ----- \n",
      " 0   client_id       160786 non-null  int64 \n",
      " 1   visitor_id_x    160786 non-null  object\n",
      " 2   visit_id_x      160786 non-null  object\n",
      " 3   process_step_x  160786 non-null  object\n",
      " 4   date_time_x     160786 non-null  object\n",
      " 5   visitor_id_y    160786 non-null  object\n",
      " 6   visit_id_y      160786 non-null  object\n",
      " 7   process_step_y  160786 non-null  object\n",
      " 8   date_time_y     160786 non-null  object\n",
      "dtypes: int64(1), object(8)\n",
      "memory usage: 11.0+ MB\n"
     ]
    },
    {
     "data": {
      "text/html": [
       "<div>\n",
       "<style scoped>\n",
       "    .dataframe tbody tr th:only-of-type {\n",
       "        vertical-align: middle;\n",
       "    }\n",
       "\n",
       "    .dataframe tbody tr th {\n",
       "        vertical-align: top;\n",
       "    }\n",
       "\n",
       "    .dataframe thead th {\n",
       "        text-align: right;\n",
       "    }\n",
       "</style>\n",
       "<table border=\"1\" class=\"dataframe\">\n",
       "  <thead>\n",
       "    <tr style=\"text-align: right;\">\n",
       "      <th></th>\n",
       "      <th>client_id</th>\n",
       "    </tr>\n",
       "  </thead>\n",
       "  <tbody>\n",
       "    <tr>\n",
       "      <th>count</th>\n",
       "      <td>1.607860e+05</td>\n",
       "    </tr>\n",
       "    <tr>\n",
       "      <th>mean</th>\n",
       "      <td>5.028800e+06</td>\n",
       "    </tr>\n",
       "    <tr>\n",
       "      <th>std</th>\n",
       "      <td>2.844869e+06</td>\n",
       "    </tr>\n",
       "    <tr>\n",
       "      <th>min</th>\n",
       "      <td>1.643000e+03</td>\n",
       "    </tr>\n",
       "    <tr>\n",
       "      <th>25%</th>\n",
       "      <td>2.565627e+06</td>\n",
       "    </tr>\n",
       "    <tr>\n",
       "      <th>50%</th>\n",
       "      <td>5.100333e+06</td>\n",
       "    </tr>\n",
       "    <tr>\n",
       "      <th>75%</th>\n",
       "      <td>7.409605e+06</td>\n",
       "    </tr>\n",
       "    <tr>\n",
       "      <th>max</th>\n",
       "      <td>9.999729e+06</td>\n",
       "    </tr>\n",
       "  </tbody>\n",
       "</table>\n",
       "</div>"
      ],
      "text/plain": [
       "          client_id\n",
       "count  1.607860e+05\n",
       "mean   5.028800e+06\n",
       "std    2.844869e+06\n",
       "min    1.643000e+03\n",
       "25%    2.565627e+06\n",
       "50%    5.100333e+06\n",
       "75%    7.409605e+06\n",
       "max    9.999729e+06"
      ]
     },
     "execution_count": 12,
     "metadata": {},
     "output_type": "execute_result"
    }
   ],
   "source": [
    "merged_df.info()\n",
    "merged_df.describe()"
   ]
  },
  {
   "cell_type": "code",
   "execution_count": 13,
   "id": "dc23142e-d1db-42bd-bb02-813a70725bd2",
   "metadata": {},
   "outputs": [
    {
     "data": {
      "text/plain": [
       "client_id         0\n",
       "visitor_id_x      0\n",
       "visit_id_x        0\n",
       "process_step_x    0\n",
       "date_time_x       0\n",
       "visitor_id_y      0\n",
       "visit_id_y        0\n",
       "process_step_y    0\n",
       "date_time_y       0\n",
       "dtype: int64"
      ]
     },
     "execution_count": 13,
     "metadata": {},
     "output_type": "execute_result"
    }
   ],
   "source": [
    "# Step 3: Check for Missing Values\n",
    "merged_df.isnull().sum()"
   ]
  },
  {
   "cell_type": "code",
   "execution_count": 14,
   "id": "c446bc15-27b7-4cdf-8d40-5bf82024b9cc",
   "metadata": {},
   "outputs": [
    {
     "name": "stdout",
     "output_type": "stream",
     "text": [
      "File has been exported to merged_data.csv\n"
     ]
    }
   ],
   "source": [
    "# Export the merged DataFrame to CSV\n",
    "merged_df.to_csv(r'C:\\Users\\Cecilia\\Downloads\\ironhack\\coursework\\group_work\\group_project_week5_6\\second_project\\data\\clean\\merged_data.csv', index=False)\n",
    "\n",
    "print(\"File has been exported to merged_data.csv\")"
   ]
  },
  {
   "cell_type": "code",
   "execution_count": null,
   "id": "1aa6c0b3-154a-4b8f-ae78-020a9d064346",
   "metadata": {},
   "outputs": [],
   "source": []
  }
 ],
 "metadata": {
  "kernelspec": {
   "display_name": "Python 3 (ipykernel)",
   "language": "python",
   "name": "python3"
  },
  "language_info": {
   "codemirror_mode": {
    "name": "ipython",
    "version": 3
   },
   "file_extension": ".py",
   "mimetype": "text/x-python",
   "name": "python",
   "nbconvert_exporter": "python",
   "pygments_lexer": "ipython3",
   "version": "3.12.4"
  }
 },
 "nbformat": 4,
 "nbformat_minor": 5
}
