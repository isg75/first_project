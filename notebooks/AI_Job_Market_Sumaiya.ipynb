{
 "cells": [
  {
   "cell_type": "code",
   "execution_count": null,
   "id": "6a15f29a-c4a1-4d6e-aad0-1fb533555e3e",
   "metadata": {},
   "outputs": [],
   "source": [
    "import pandas as pd\n",
    "import seaborn as sns\n",
    "import matplotlib.pyplot as plt\n",
    "from pathlib import Path\n",
    "\n",
    "import pivot as\n",
    "\n",
    "# Specify encoding when reading the CSV files\n",
    "# Common encodings to try: 'latin1', 'ISO-8859-1', 'cp1252'\n",
    "df = pd.read_csv('../data/raw/ai_job_dataset.csv')\n",
    "\n",
    "df.head()"
   ]
  },
  {
   "cell_type": "code",
   "execution_count": null,
   "id": "9472a284-d41b-4ad5-a6e3-1c0f637cf295",
   "metadata": {},
   "outputs": [],
   "source": [
    "df.info()"
   ]
  },
  {
   "cell_type": "code",
   "execution_count": null,
   "id": "add4e624-89d5-4f2b-8a83-742c8aa88630",
   "metadata": {},
   "outputs": [],
   "source": [
    "type(df)"
   ]
  },
  {
   "cell_type": "code",
   "execution_count": null,
   "id": "a90a8aa6-fc93-4f40-832a-e47784c00ffb",
   "metadata": {},
   "outputs": [],
   "source": [
    "df.index"
   ]
  },
  {
   "cell_type": "code",
   "execution_count": null,
   "id": "5b3e7e10-3f99-44d7-939d-167eb4703cf5",
   "metadata": {},
   "outputs": [],
   "source": [
    "df.columns\n",
    "print(df.columns)"
   ]
  },
  {
   "cell_type": "code",
   "execution_count": null,
   "id": "9d96d1e2-c130-4327-b534-3dae2d2ffdfc",
   "metadata": {},
   "outputs": [],
   "source": [
    "df.duplicated().sum()\n",
    "df.isna().sum()"
   ]
  },
  {
   "cell_type": "code",
   "execution_count": null,
   "id": "cd1ee5fa-6421-4068-b818-e6d45b035954",
   "metadata": {},
   "outputs": [],
   "source": [
    "def clean_all_columns(df):\n",
    "    # Import numpy for NaN values\n",
    "    import numpy as np\n",
    "    \n",
    "    # Loop through all columns in the dataframe\n",
    "    for column in df.columns:\n",
    "        # Convert column to string type\n",
    "        df[column] = df[column].astype(str)\n",
    "        # Strip whitespace and convert to uppercase\n",
    "        df[column] = df[column].str.strip().str.upper()\n",
    "        # Replace column name with NaN (assuming column names might be in the data)\n",
    "        df[column] = df[column].replace(column.upper(), np.nan)\n",
    "        # Also replace 'NAN' string with actual NaN value\n",
    "        df[column] = df[column].replace('NAN', np.nan)\n",
    "    \n",
    "    return df\n",
    "\n",
    "# Clean all columns\n",
    "df = clean_all_columns(df)\n",
    "\n",
    "# Example of checking unique values in a specific column\n"
   ]
  },
  {
   "cell_type": "code",
   "execution_count": null,
   "id": "6a1a3c41-ad52-45d9-ba0a-8556a13475ed",
   "metadata": {},
   "outputs": [],
   "source": [
    "print(sorted(df['job_title'].dropna().unique()))"
   ]
  },
  {
   "cell_type": "code",
   "execution_count": null,
   "id": "65d7bd04-33c1-4541-a92d-7847031a6927",
   "metadata": {},
   "outputs": [],
   "source": [
    "df.columns = df.columns.str.strip().str.lower().str.replace(r'[\\s/]+', '_', regex=True)"
   ]
  },
  {
   "cell_type": "code",
   "execution_count": null,
   "id": "6922282c-d02e-4ef6-909f-dd6d0bb895af",
   "metadata": {},
   "outputs": [],
   "source": [
    "print(df.head())\n",
    "print(df.isna().mean().round(2).sort_values(ascending=False).head(5))"
   ]
  },
  {
   "cell_type": "code",
   "execution_count": null,
   "id": "4b0e5c49-91ca-4749-80eb-c4767edfaaba",
   "metadata": {},
   "outputs": [],
   "source": [
    "top_roles = (\n",
    "    df.groupby('job_title')               # group by job title\n",
    "      .size()                             # count rows in each group\n",
    "      .reset_index(name='postings')       # convert Series to DataFrame\n",
    "      .sort_values(by='postings', ascending=False)\n",
    "      .head(100)\n",
    ")\n",
    "print(top_roles)"
   ]
  },
  {
   "cell_type": "code",
   "execution_count": null,
   "id": "9a94e1ae-e882-49ab-9e75-49d11c489b0c",
   "metadata": {},
   "outputs": [],
   "source": [
    "import seaborn as sns\n",
    "import matplotlib.pyplot as plt\n",
    "\n",
    "# Get top 10 most common job titles\n",
    "top_roles = (\n",
    "    df['job_title']\n",
    "    .value_counts()\n",
    "    .head(10)\n",
    "    .reset_index(name='postings')\n",
    "    .rename(columns={'index': 'job_title'})\n",
    ")\n",
    "\n",
    "# Plot\n",
    "sns.barplot(data=top_roles, y='job_title', x='postings', palette='viridis')\n",
    "plt.title('Top 10 Advertised AI Roles (Oct 2024 – Jul 2025)')\n",
    "plt.xlabel('Number of Job Postings')\n",
    "plt.ylabel('Job Title')\n",
    "plt.tight_layout()\n",
    "plt.show()\n"
   ]
  },
  {
   "cell_type": "code",
   "execution_count": null,
   "id": "c94a2dd4-c58f-43a9-83a2-85c4c7440ecd",
   "metadata": {},
   "outputs": [],
   "source": [
    "import seaborn as sns\n",
    "import matplotlib.pyplot as plt\n",
    "\n",
    "# Get top 10 most common experience levels\n",
    "top_levels = (\n",
    "    df['experience_level']\n",
    "    .value_counts()\n",
    "    .head(10)\n",
    "    .reset_index(name='postings')\n",
    "    .rename(columns={'index': 'experience_level'})\n",
    ")\n",
    "\n",
    "# Plot\n",
    "sns.barplot(data=top_levels, y='experience_level', x='postings', palette='viridis')\n",
    "plt.title('Top 10 Experience Levels (Oct 2024 – Jul 2025)')\n",
    "plt.xlabel('Number of Job Postings')\n",
    "plt.ylabel('Experience Level')\n",
    "plt.tight_layout()\n",
    "plt.show()\n"
   ]
  },
  {
   "cell_type": "code",
   "execution_count": null,
   "id": "01cf97fb-2183-4122-9df3-c0811bd43dc8",
   "metadata": {},
   "outputs": [],
   "source": [
    "top_locations = df['company_location'].value_counts().head(10).index\n",
    "filtered_df = df[df['company_location'].isin(top_locations)]\n",
    "\n",
    "sns.countplot(data=filtered_df, y='company_location', hue='job_title', palette='Set2')\n",
    "plt.title('Job Title Distribution by Top 10 Locations')\n",
    "plt.xlabel('Number of Job Postings')\n",
    "plt.ylabel('company_location')\n",
    "plt.legend(title='job_title', bbox_to_anchor=(1.05, 1), loc='upper left')\n",
    "plt.tight_layout()\n",
    "plt.show()\n"
   ]
  },
  {
   "cell_type": "code",
   "execution_count": null,
   "id": "f89f9cb8-b90a-4567-91b4-7133c6c13616",
   "metadata": {},
   "outputs": [],
   "source": [
    "\n",
    "\n",
    "# Clean salary if not already done\n",
    "df['salary_usd'] = pd.to_numeric(\n",
    "    df['salary_usd'].astype(str).str.replace(r'[^\\d.]', '', regex=True),\n",
    "    errors='coerce'\n",
    ")\n",
    "\n",
    "# Pivot: Median salary per country\n",
    "country_salary_pivot = pd.pivot_table(\n",
    "    df,\n",
    "    index='company_location',\n",
    "    values='salary_usd',\n",
    "    aggfunc='median'\n",
    ").sort_values('salary_usd', ascending=False)\n",
    "\n",
    "# Display top 20 countries\n",
    "plt.figure(figsize=(10, 8))\n",
    "sns.barplot(data=country_salary_pivot.head(10).reset_index(),\n",
    "            y='company_location',\n",
    "            x='salary_usd',\n",
    "            palette='viridis')\n",
    "plt.title(\"Top 10 Countries by Median AI Salary (USD)\")\n",
    "plt.xlabel(\"Median Salary (USD)\")\n",
    "plt.ylabel(\"Company Location\")\n",
    "plt.tight_layout()\n",
    "plt.show()\n"
   ]
  },
  {
   "cell_type": "code",
   "execution_count": null,
   "id": "61fd9738-880a-4aac-922b-ec1b8c23136d",
   "metadata": {},
   "outputs": [],
   "source": [
    "pivot_exp_country = pd.pivot_table(\n",
    "    df,\n",
    "    index='company_location',\n",
    "    columns='experience_level',\n",
    "    values='salary_usd',\n",
    "    aggfunc='median'\n",
    ").round(0)\n",
    "\n",
    "# Heatmap\n",
    "plt.figure(figsize=(12, 8))\n",
    "sns.heatmap(pivot_exp_country,\n",
    "            annot=True,\n",
    "            fmt=\".0f\",\n",
    "            cmap=\"YlOrBr\",\n",
    "            linewidths=0.5)\n",
    "plt.title(\"Median Salary (USD) by Country and Experience Level\")\n",
    "plt.xlabel(\"Experience Level\")\n",
    "plt.ylabel(\"Company Location\")\n",
    "plt.tight_layout()\n",
    "plt.show()\n"
   ]
  },
  {
   "cell_type": "code",
   "execution_count": null,
   "id": "35f37257-0598-4f27-84a8-4f097557a31e",
   "metadata": {},
   "outputs": [],
   "source": [
    "\n",
    "# ─────────────────────────────────────────────────────────────\n",
    "#  Build pivot: rows = Job Title, cols = Country, values = median salary\n",
    "# ─────────────────────────────────────────────────────────────\n",
    "pivot = pd.pivot_table(\n",
    "    subset,\n",
    "    index='job_title',\n",
    "    columns='company_location',\n",
    "    values='salary_usd',\n",
    "    aggfunc='median'\n",
    ").round(0)              # whole-dollar medians\n",
    "\n",
    "# ─────────────────────────────────────────────────────────────\n",
    "#  Heat-map\n",
    "# ─────────────────────────────────────────────────────────────\n",
    "plt.figure(figsize=(14, 6))\n",
    "sns.heatmap(\n",
    "    pivot,\n",
    "    annot=True,\n",
    "    fmt='.0f',\n",
    "    cmap='YlGnBu',\n",
    "    linewidths=.5\n",
    ")\n",
    "plt.title('Median Salary (USD) - Top Job Titles × Top Countries')\n",
    "plt.xlabel('Company Location')\n",
    "plt.ylabel('Job Title')\n",
    "plt.tight_layout()\n",
    "plt.show()\n"
   ]
  },
  {
   "cell_type": "code",
   "execution_count": null,
   "id": "3fe58dbe-8c1c-4718-ba9b-c174da0cb36d",
   "metadata": {},
   "outputs": [],
   "source": [
    "pivot_exp_country = pd.pivot_table(\n",
    "    df,\n",
    "    index='idustry',\n",
    "    columns='experience_level',\n",
    "    values='salary_usd',\n",
    "    aggfunc='median'\n",
    ").round(0)\n",
    "\n",
    "# Heatmap\n",
    "plt.figure(figsize=(12, 8))\n",
    "sns.heatmap(pivot_exp_country,\n",
    "            annot=True,\n",
    "            fmt=\".0f\",\n",
    "            cmap=\"YlOrBr\",\n",
    "            linewidths=0.5)\n",
    "plt.title(\"Median Salary (USD) by Country and Experience Level\")\n",
    "plt.xlabel(\"Experience Level\")\n",
    "plt.ylabel(\"industry\")\n",
    "plt.tight_layout()\n",
    "plt.show()"
   ]
  },
  {
   "cell_type": "code",
   "execution_count": null,
   "id": "f14fb298-0282-49e1-85d5-2c5495f06cc0",
   "metadata": {},
   "outputs": [],
   "source": []
  }
 ],
 "metadata": {
  "kernelspec": {
   "display_name": "venv",
   "language": "python",
   "name": "venv"
  },
  "language_info": {
   "codemirror_mode": {
    "name": "ipython",
    "version": 3
   },
   "file_extension": ".py",
   "mimetype": "text/x-python",
   "name": "python",
   "nbconvert_exporter": "python",
   "pygments_lexer": "ipython3",
   "version": "3.13.2"
  }
 },
 "nbformat": 4,
 "nbformat_minor": 5
}
