{
 "cells": [
  {
   "cell_type": "code",
   "execution_count": 5,
   "id": "692aebf3-87b4-4134-8b37-24c320785800",
   "metadata": {},
   "outputs": [],
   "source": [
    "# Import libraries\n",
    "import pandas as pd\n",
    "import seaborn as sns\n",
    "import matplotlib.pyplot as plt\n",
    "\n",
    "# Load cleaned Netflix dataset\n",
    "netflix_df = pd.read_csv('../data/clean/cleaned_netflix_data_with_platform.csv')\n",
    "\n",
    "# Load cleaned Amazon dataset\n",
    "amazon_df = pd.read_csv('../data/clean/cleaned_prime_data.csv')\n",
    "\n",
    "#remove 'Unnamed' columns from Prime only\n",
    "amazon_df = amazon_df.loc[:, ~amazon_df.columns.str.contains('^Unnamed')]"
   ]
  },
  {
   "cell_type": "code",
   "execution_count": 6,
   "id": "733901b3-4c40-4376-b339-3b02feda29b1",
   "metadata": {},
   "outputs": [
    {
     "name": "stdout",
     "output_type": "stream",
     "text": [
      "Cleaned file saved successfully.\n"
     ]
    }
   ],
   "source": [
    "# Load the original CSV file\n",
    "df = pd.read_csv('../data/clean/combined_cleaned_data.csv', sep=',', encoding='utf-8')\n",
    "\n",
    "# Keep only the necessary columns\n",
    "columns_to_keep = ['show_id', 'type', 'title', 'release_year', \n",
    "                   'rating', 'duration_int', 'duration_type', \n",
    "                   'genres', 'platform']\n",
    "\n",
    "df_cleaned = df[columns_to_keep]\n",
    "\n",
    "print(\"Cleaned file saved successfully.\")\n"
   ]
  },
  {
   "cell_type": "code",
   "execution_count": 7,
   "id": "17cf1598-e5fc-4841-9bb9-4059a01086c2",
   "metadata": {},
   "outputs": [],
   "source": [
    "# Generate new unique 'show_id' for each platform\n",
    "netflix_df['show_id'] = ['n' + str(i + 1) for i in range(len(netflix_df))] \n",
    "amazon_df['show_id'] = ['p' + str(i + 1) for i in range(len(amazon_df))]"
   ]
  },
  {
   "cell_type": "code",
   "execution_count": 8,
   "id": "86546322-e318-4f07-8cc3-bf69c8231cc2",
   "metadata": {},
   "outputs": [
    {
     "name": "stdout",
     "output_type": "stream",
     "text": [
      "Netflix columns: Index(['show_id', 'type', 'title', 'release_year', 'rating', 'duration',\n",
      "       'listed_in', 'duration_int', 'duration_type', 'genres', 'platform'],\n",
      "      dtype='object')\n",
      "Amazon columns: Index(['show_id', 'type', 'title', 'release_year', 'rating', 'duration',\n",
      "       'duration_int', 'duration_type', 'genres', 'platform'],\n",
      "      dtype='object')\n",
      "  show_id\n",
      "0      n1\n",
      "1      n2\n",
      "2      n3\n",
      "3      n4\n",
      "4      n5\n",
      "  show_id\n",
      "0      p1\n",
      "1      p2\n",
      "2      p3\n",
      "3      p4\n",
      "4      p5\n"
     ]
    }
   ],
   "source": [
    "# Check columns to ensure alignment\n",
    "print(\"Netflix columns:\", netflix_df.columns)\n",
    "print(\"Amazon columns:\", amazon_df.columns)\n",
    "# Confirm that IDs are correctly set\n",
    "print(netflix_df[['show_id']].head())\n",
    "print(amazon_df[['show_id']].head())"
   ]
  },
  {
   "cell_type": "code",
   "execution_count": 9,
   "id": "e359376a-a37f-4ed9-9d21-2a086a08c0b9",
   "metadata": {},
   "outputs": [
    {
     "name": "stdout",
     "output_type": "stream",
     "text": [
      "Netflix columns: Index(['show_id', 'type', 'title', 'release_year', 'rating', 'duration',\n",
      "       'listed_in', 'duration_int', 'duration_type', 'genres', 'platform'],\n",
      "      dtype='object')\n",
      "Amazon columns: Index(['show_id', 'type', 'title', 'release_year', 'rating', 'duration',\n",
      "       'duration_int', 'duration_type', 'genres', 'platform'],\n",
      "      dtype='object')\n"
     ]
    }
   ],
   "source": [
    "# Check the columns of both DataFrames\n",
    "print(\"Netflix columns:\", netflix_df.columns)\n",
    "print(\"Amazon columns:\", amazon_df.columns)\n"
   ]
  },
  {
   "cell_type": "code",
   "execution_count": 10,
   "id": "c814d681-7221-44c4-afc0-a9607511023d",
   "metadata": {},
   "outputs": [
    {
     "name": "stdout",
     "output_type": "stream",
     "text": [
      "Netflix columns: Index(['show_id', 'type', 'title', 'release_year', 'rating', 'duration',\n",
      "       'duration_int', 'duration_type', 'genres', 'platform'],\n",
      "      dtype='object')\n",
      "Amazon columns: Index(['show_id', 'type', 'title', 'release_year', 'rating', 'duration',\n",
      "       'duration_int', 'duration_type', 'genres', 'platform'],\n",
      "      dtype='object')\n"
     ]
    }
   ],
   "source": [
    "# Check if 'listed_in' column exists before dropping\n",
    "if 'listed_in' in netflix_df.columns:\n",
    "    netflix_df = netflix_df.drop(columns=['listed_in'])\n",
    "    \n",
    "if 'listed_in' in amazon_df.columns:\n",
    "    amazon_df = amazon_df.drop(columns=['listed_in'])\n",
    "\n",
    "# Verify the columns again\n",
    "print(\"Netflix columns:\", netflix_df.columns)\n",
    "print(\"Amazon columns:\", amazon_df.columns)\n",
    "\n",
    "# Run the assertion check again\n",
    "assert list(netflix_df.columns) == list(amazon_df.columns), \"Column mismatch between Netflix and Amazon datasets\"\n"
   ]
  },
  {
   "cell_type": "code",
   "execution_count": 11,
   "id": "93548c40-d299-44c4-bea6-c8d9edb753d4",
   "metadata": {},
   "outputs": [],
   "source": [
    "assert list(netflix_df.columns) == list(amazon_df.columns), \"Column mismatch between Netflix and Amazon datasets\"\n"
   ]
  },
  {
   "cell_type": "code",
   "execution_count": 12,
   "id": "34986c7a-0955-4dfb-a5e6-ed2db705a074",
   "metadata": {},
   "outputs": [],
   "source": [
    "# Combine datasets\n",
    "combined_df = pd.concat([netflix_df, amazon_df], ignore_index=True)"
   ]
  },
  {
   "cell_type": "code",
   "execution_count": 13,
   "id": "54e3c616-ed43-40d9-a108-479301afe6ee",
   "metadata": {},
   "outputs": [
    {
     "name": "stdout",
     "output_type": "stream",
     "text": [
      "(18374, 10)\n",
      "platform\n",
      "Prime      9668\n",
      "Netflix    8706\n",
      "Name: count, dtype: int64\n"
     ]
    }
   ],
   "source": [
    "# Quick check\n",
    "print(combined_df.shape)\n",
    "print(combined_df['platform'].value_counts())"
   ]
  },
  {
   "cell_type": "code",
   "execution_count": 14,
   "id": "bb6fa1e0-5bee-4fd3-bd51-e6fbe35bb47b",
   "metadata": {},
   "outputs": [
    {
     "name": "stdout",
     "output_type": "stream",
     "text": [
      "    genre_id                 genre\n",
      "0          1       ['Documentary']\n",
      "1          2     ['International']\n",
      "2          3   ['Action/Thriller']\n",
      "3          4             ['Drama']\n",
      "4          5              ['Kids']\n",
      "5          6            ['Comedy']\n",
      "6          7            ['Horror']\n",
      "7          8         ['\"Kids TV\"']\n",
      "8          9           ['Reality']\n",
      "9         10    ['Sci-Fi/Fantasy']\n",
      "10        11          ['TV Shows']\n",
      "11        12            ['Movies']\n",
      "12        13             ['Other']\n",
      "13        14  ['Special Interest']\n"
     ]
    }
   ],
   "source": [
    "# Get unique genres\n",
    "unique_genres = combined_df['genres'].unique()\n",
    "\n",
    "# Create a DataFrame for the genres table\n",
    "genres_df = pd.DataFrame({\n",
    "    'genre_id': range(1, len(unique_genres) + 1),\n",
    "    'genre': unique_genres\n",
    "})\n",
    "\n",
    "# Preview the genres table\n",
    "print(genres_df)\n"
   ]
  },
  {
   "cell_type": "code",
   "execution_count": 15,
   "id": "46c03124-4ae3-40b2-8b3d-856560f25514",
   "metadata": {},
   "outputs": [
    {
     "name": "stdout",
     "output_type": "stream",
     "text": [
      "       title_id              movie_title\n",
      "0             1     Dick Johnson Is Dead\n",
      "1             2            Blood & Water\n",
      "2             3                Ganglands\n",
      "3             4    Jailbirds New Orleans\n",
      "4             5             Kota Factory\n",
      "...         ...                      ...\n",
      "17990     17991      Pride Of The Bowery\n",
      "17991     17992            Planet Patrol\n",
      "17992     17993                  Outpost\n",
      "17993     17994  Maradona: Blessed Dream\n",
      "17994     17995              Harry Brown\n",
      "\n",
      "[17995 rows x 2 columns]\n"
     ]
    }
   ],
   "source": [
    "# Get unique movies\n",
    "unique_movies = combined_df['title'].unique()\n",
    "\n",
    "# Create a DataFrame for the movies table\n",
    "movies_df = pd.DataFrame({\n",
    "    'title_id': range(1, len(unique_movies) + 1),\n",
    "    'movie_title': unique_movies\n",
    "})\n",
    "\n",
    "# Preview the movies table\n",
    "print(movies_df)"
   ]
  },
  {
   "cell_type": "code",
   "execution_count": 16,
   "id": "20486d5a-6d74-4517-969b-ba249cb3dbfb",
   "metadata": {},
   "outputs": [
    {
     "name": "stdout",
     "output_type": "stream",
     "text": [
      "  show_id  genre_id\n",
      "0      n1         1\n",
      "1      n2         2\n",
      "2      n3         3\n",
      "3      n4         1\n",
      "4      n5         2\n"
     ]
    }
   ],
   "source": [
    "# Merge to get genre_id\n",
    "movie_genres_df = combined_df[['show_id', 'genres']].merge(\n",
    "    genres_df,\n",
    "    left_on='genres',\n",
    "    right_on='genre',\n",
    "    how='left'\n",
    ")[['show_id', 'genre_id']]\n",
    "\n",
    "# Preview the movie_genres table\n",
    "print(movie_genres_df.head())\n"
   ]
  },
  {
   "cell_type": "code",
   "execution_count": 17,
   "id": "ae5920ce-2cde-4afa-90ef-9b9f039eff72",
   "metadata": {},
   "outputs": [
    {
     "name": "stdout",
     "output_type": "stream",
     "text": [
      "Tables exported successfully!\n"
     ]
    }
   ],
   "source": [
    "# Export genres table\n",
    "genres_df.to_csv('../data/clean/genres_table.csv', index=False)\n",
    "\n",
    "# Export movies table\n",
    "movies_df.to_csv('../data/clean/movies_table.csv', index=False)\n",
    "\n",
    "# Export movie_genres table\n",
    "movie_genres_df.to_csv('../data/clean/movie_genres_table.csv', index=False)\n",
    "\n",
    "print(\"Tables exported successfully!\")\n"
   ]
  },
  {
   "cell_type": "code",
   "execution_count": 18,
   "id": "b0d950bd-cacf-4656-9b39-1a76099d3c38",
   "metadata": {},
   "outputs": [
    {
     "name": "stdout",
     "output_type": "stream",
     "text": [
      "                               title  release_year  duration_int platform\n",
      "0               Dick Johnson Is Dead          2020            90  Netflix\n",
      "6   My Little Pony: A New Generation          2021            91  Netflix\n",
      "7                            Sankofa          1993           125  Netflix\n",
      "9                       The Starling          2021           104  Netflix\n",
      "12                      Je Suis Karl          2021           127  Netflix\n"
     ]
    }
   ],
   "source": [
    "### Hypothesis 1\n",
    "#\"How Has the Average Movie Duration Changed Over the Years?\"\n",
    "# Filter only Movies\n",
    "movies_df = combined_df[combined_df['type'] == 'Movie']\n",
    "\n",
    "# Check the first few rows\n",
    "print(movies_df[['title', 'release_year', 'duration_int', 'platform']].head())\n"
   ]
  },
  {
   "cell_type": "code",
   "execution_count": 19,
   "id": "219a9d5e-3d0d-4e00-b906-69c8927948f9",
   "metadata": {},
   "outputs": [
    {
     "name": "stdout",
     "output_type": "stream",
     "text": [
      "   release_year platform  duration_int\n",
      "0          1920    Prime        72.000\n",
      "1          1922    Prime       133.000\n",
      "2          1923    Prime       113.000\n",
      "3          1924    Prime       118.000\n",
      "4          1925    Prime        81.375\n"
     ]
    }
   ],
   "source": [
    "# Group by release_year and platform, then calculate the average duration\n",
    "avg_duration_movies = movies_df.groupby(['release_year', 'platform'])['duration_int'].mean().reset_index()\n",
    "\n",
    "# Preview the result\n",
    "print(avg_duration_movies.head())\n"
   ]
  },
  {
   "cell_type": "code",
   "execution_count": 39,
   "id": "adf0c1fc-d34a-4255-8e20-4079e82a433a",
   "metadata": {},
   "outputs": [
    {
     "ename": "NameError",
     "evalue": "name 'os' is not defined",
     "output_type": "error",
     "traceback": [
      "\u001b[1;31m---------------------------------------------------------------------------\u001b[0m",
      "\u001b[1;31mNameError\u001b[0m                                 Traceback (most recent call last)",
      "Cell \u001b[1;32mIn[39], line 2\u001b[0m\n\u001b[0;32m      1\u001b[0m \u001b[38;5;66;03m# Make sure the folder exists\u001b[39;00m\n\u001b[1;32m----> 2\u001b[0m os\u001b[38;5;241m.\u001b[39mmakedirs(\u001b[38;5;124m'\u001b[39m\u001b[38;5;124m../data/plots/\u001b[39m\u001b[38;5;124m'\u001b[39m, exist_ok\u001b[38;5;241m=\u001b[39m\u001b[38;5;28;01mTrue\u001b[39;00m)\n\u001b[0;32m      4\u001b[0m \u001b[38;5;66;03m# Plot with specified colors\u001b[39;00m\n\u001b[0;32m      5\u001b[0m plt\u001b[38;5;241m.\u001b[39mfigure(figsize\u001b[38;5;241m=\u001b[39m(\u001b[38;5;241m10\u001b[39m, \u001b[38;5;241m6\u001b[39m))\n",
      "\u001b[1;31mNameError\u001b[0m: name 'os' is not defined"
     ]
    }
   ],
   "source": [
    "# Make sure the folder exists\n",
    "os.makedirs('../data/plots/', exist_ok=True)\n",
    "\n",
    "# Plot with specified colors\n",
    "plt.figure(figsize=(10, 6))\n",
    "sns.set(style='whitegrid')  # Optional, helps with grid visibility on dark background\n",
    "\n",
    "# Plot the lineplot\n",
    "sns.lineplot(\n",
    "    data=avg_duration_movies,\n",
    "    x='release_year',\n",
    "    y='duration_int',\n",
    "    hue='platform',\n",
    "    palette={'Prime': '#1f77b4', 'Netflix': '#d62728'},  # Blue for Prime, Red for Netflix\n",
    "    marker='o'\n",
    ")\n",
    "\n",
    "# Customize text and background colors\n",
    "plt.title('How Movie Duration Has Changed Over Time: Netflix vs Prime Video', fontsize=14, fontweight='bold', color='white')\n",
    "plt.xlabel('Release Year', fontsize=12, color='white')\n",
    "plt.ylabel('Average Duration (minutes)', fontsize=12, color='white')\n",
    "\n",
    "plt.tick_params(axis='x', colors='white')\n",
    "plt.tick_params(axis='y', colors='white')\n",
    "\n",
    "plt.legend(title='Platform', facecolor='black', edgecolor='white', labelcolor='white', title_fontsize=12, fontsize=10)\n",
    "plt.gca().patch.set_facecolor('black')  # Set plot area background\n",
    "plt.gcf().patch.set_facecolor('black')  # Set figure background\n",
    "\n",
    "plt.grid(True, color='gray', linestyle='--', linewidth=0.5)\n",
    "plt.tight_layout()\n",
    "\n",
    "# Save the plot with transparent background\n",
    "plt.savefig(\n",
    "    '../data/plots/average_movie_duration_by_platform.png',\n",
    "    dpi=300,\n",
    "    bbox_inches='tight',\n",
    "    transparent=True  # Transparent outside the plot area, but inside remains black\n",
    ")\n",
    "\n",
    "# Show the plot\n",
    "plt.show()\n",
    "\n",
    "\n"
   ]
  },
  {
   "cell_type": "code",
   "execution_count": null,
   "id": "6a77559d-4d5f-4201-a296-0e4f2768a544",
   "metadata": {},
   "outputs": [],
   "source": [
    "## Group by 'release_year' and 'platform', then calculate the mean of the number of seasons for each group\n",
    "avg_seasons_tv = combined_df[combined_df['type'] == 'TV Show'] \\\n",
    "    .groupby(['release_year', 'platform'])['duration_int'].mean().reset_index()\n",
    "\n",
    "# Apply smoothing (rolling average)\n",
    "avg_seasons_tv['smoothed'] = avg_seasons_tv.groupby('platform')['duration_int'] \\\n",
    "    .rolling(3, min_periods=1).mean().reset_index(drop=True)\n",
    "\n",
    "# Create the plot with dark background and white text\n",
    "plt.figure(figsize=(10, 6))\n",
    "sns.set(style='whitegrid')  # Optional grid style\n",
    "\n",
    "sns.lineplot(\n",
    "    data=avg_seasons_tv,\n",
    "    x='release_year',\n",
    "    y='smoothed',\n",
    "    hue='platform',\n",
    "    palette={'Prime': '#1f77b4', 'Netflix': '#d62728'},  # Blue for Prime, Red for Netflix\n",
    "    marker='o'\n",
    ")\n",
    "\n",
    "# Customize the plot aesthetics for dark background\n",
    "plt.title('Are Seasons Getting Shorter? A Historical Comparison Between Netflix and Prime Video',\n",
    "          fontsize=16, fontweight='bold', color='white')\n",
    "plt.xlabel('Release Year', fontsize=14, color='white')\n",
    "plt.ylabel('Average Number of Seasons', fontsize=14, color='white')\n",
    "\n",
    "plt.tick_params(axis='x', colors='white')\n",
    "plt.tick_params(axis='y', colors='white')\n",
    "\n",
    "plt.legend(title='Platform', facecolor='black', edgecolor='white', labelcolor='white', title_fontsize=14, fontsize=12)\n",
    "plt.gca().patch.set_facecolor('black')  # Plot area background\n",
    "plt.gcf().patch.set_facecolor('black')  # Entire figure background\n",
    "\n",
    "plt.grid(True, color='gray', linestyle='--', linewidth=0.5)\n",
    "plt.tight_layout()\n",
    "\n",
    "# Export as PNG with transparent outside (but black background inside)\n",
    "plt.savefig('../data/plots/average_seasons_tv_by_platform.png', dpi=300, bbox_inches='tight', transparent=True)\n",
    "\n",
    "# Show the plot\n",
    "plt.show()\n",
    "\n",
    "\n"
   ]
  },
  {
   "cell_type": "code",
   "execution_count": 41,
   "id": "f3547c9a-4d9b-44bd-ae98-61b549698def",
   "metadata": {},
   "outputs": [],
   "source": [
    "## Hypothesis 2\n",
    "# (Ratings Analysis): “Amazon tends to push genre boundaries with more mature-rated content, while Netflix plays it safer with family-friendly options.”"
   ]
  },
  {
   "cell_type": "code",
   "execution_count": null,
   "id": "27f1db02-8847-40fe-a77e-8ee3332c8963",
   "metadata": {},
   "outputs": [],
   "source": [
    "plt.style.use('dark_background')  # Keep black background\n",
    "\n",
    "# Plotting the vertical bar plot\n",
    "plt.figure(figsize=(8, 6))\n",
    "bars = sns.barplot(\n",
    "    x=mature_percentage.index, \n",
    "    y=mature_percentage.values, \n",
    "    palette={'Netflix': '#d62728', 'Prime': '#1f77b4'},  # Red for Netflix, Blue for Prime\n",
    "    edgecolor='white'\n",
    ")\n",
    "\n",
    "# Add the percentage labels above each bar\n",
    "for index, value in enumerate(mature_percentage.values):\n",
    "    plt.text(index, value + 1, f'{value:.1f}%', ha='center', fontsize=12, color='white', fontweight='bold')\n",
    "\n",
    "# Title and labels\n",
    "plt.title('How Much Mature Content Are You Watching? A Netflix vs Prime Showdown', fontsize=16, fontweight='bold')\n",
    "plt.ylabel('Mature-rated Content (%)', fontsize=12)\n",
    "plt.xlabel('Platform', fontsize=12)\n",
    "\n",
    "# Layout adjustments\n",
    "plt.ylim(0, 100)  # Set the scale to 0-100%\n",
    "plt.tight_layout()\n",
    "\n",
    "# Save the plot with transparent background and white text\n",
    "plt.savefig('../data/plots/mature_content_comparison_vertical.png', dpi=300, bbox_inches='tight', transparent=True)\n",
    "\n",
    "# Show the plot\n",
    "plt.show()\n"
   ]
  },
  {
   "cell_type": "code",
   "execution_count": null,
   "id": "fe934823-2c67-4744-812b-5727bcd3d0f1",
   "metadata": {},
   "outputs": [],
   "source": [
    "import matplotlib.pyplot as plt\n",
    "import seaborn as sns\n",
    "\n",
    "plt.style.use('dark_background')  # Fondo negro\n",
    "\n",
    "# Plot vertical con detalles visuales\n",
    "plt.figure(figsize=(8, 6))\n",
    "bars = sns.barplot(\n",
    "    data=nature_percentage_movies,\n",
    "    x='platform',\n",
    "    y='mature_percentage',\n",
    "    palette={'Netflix': '#d62728', 'Prime': '#1f77b4'},\n",
    "    edgecolor='white'\n",
    ")\n",
    "\n",
    "# Etiquetas de porcentaje encima de cada barra\n",
    "for index, row in nature_percentage_movies.iterrows():\n",
    "    plt.text(index, row['mature_percentage'] + 1, f\"{row['mature_percentage']:.1f}%\", \n",
    "             color='white', ha='center', fontsize=12, fontweight='bold')\n",
    "\n",
    "# Título llamativo y etiquetas\n",
    "plt.title(\"How Mature Are Your Movie Nights? Netflix vs Prime\", fontsize=16, fontweight='bold')\n",
    "plt.ylabel('Mature-rated Movies (%)', fontsize=12)\n",
    "plt.xlabel('Platform', fontsize=12)\n",
    "\n",
    "# Ajustes visuales\n",
    "plt.ylim(0, 100)\n",
    "plt.grid(True, axis='y', linestyle='--', alpha=0.3)\n",
    "plt.tight_layout()\n",
    "\n",
    "# Guardar como PNG con fondo transparente\n",
    "plt.savefig('../data/plots/mature_movies_comparison.png', dpi=300, bbox_inches='tight', transparent=True)\n",
    "\n",
    "# Mostrar\n",
    "plt.show()\n"
   ]
  },
  {
   "cell_type": "code",
   "execution_count": 43,
   "id": "d024904a-88e1-4590-9f73-9c4a86fa1d0b",
   "metadata": {},
   "outputs": [
    {
     "name": "stderr",
     "output_type": "stream",
     "text": [
      "C:\\Users\\PcVIP\\AppData\\Local\\Temp\\ipykernel_39324\\2509275075.py:23: FutureWarning: \n",
      "\n",
      "Passing `palette` without assigning `hue` is deprecated and will be removed in v0.14.0. Assign the `x` variable to `hue` and set `legend=False` for the same effect.\n",
      "\n",
      "  sns.barplot(\n"
     ]
    },
    {
     "data": {
      "image/png": "[encoded data removed]",
      "text/plain": [
       "<Figure size 800x600 with 1 Axes>"
      ]
     },
     "metadata": {},
     "output_type": "display_data"
    }
   ],
   "source": [
    "# Filter only TV Shows\n",
    "tv_df = combined_df[combined_df['type'] == 'TV Show']\n",
    "\n",
    "# Define the mature ratings for TV Shows\n",
    "mature_ratings = ['R', 'TV-MA']\n",
    "\n",
    "# Calculate the number of mature-rated TV shows for each platform\n",
    "mature_counts_tv = tv_df[tv_df['rating'].isin(mature_ratings)].groupby('platform')['rating'].count()\n",
    "\n",
    "# Calculate the total number of TV shows for each platform\n",
    "total_counts_tv = tv_df['platform'].value_counts()\n",
    "\n",
    "# Calculate the percentage of mature-rated TV shows for each platform\n",
    "nature_percentage_tv = (mature_counts_tv / total_counts_tv) * 100\n",
    "\n",
    "# Prepare the data as a DataFrame\n",
    "nature_percentage_tv = nature_percentage_tv.reset_index()\n",
    "nature_percentage_tv.columns = ['platform', 'mature_percentage']\n",
    "\n",
    "# Create the bar plot with dark background style\n",
    "plt.style.use('dark_background')\n",
    "plt.figure(figsize=(8, 6))\n",
    "sns.barplot(\n",
    "    data=nature_percentage_tv, \n",
    "    x='platform', \n",
    "    y='mature_percentage', \n",
    "    palette={'Prime': '#1f77b4', 'Netflix': '#d62728'}\n",
    ")\n",
    "\n",
    "# Add labels and title\n",
    "plt.title('Mature-rated TV Shows Percentage by Platform', fontsize=16, fontweight='bold', color='white')\n",
    "plt.ylabel('Mature-rated TV Shows (%)', fontsize=12, color='white')\n",
    "plt.xlabel('Platform', fontsize=12, color='white')\n",
    "plt.ylim(0, 100)\n",
    "plt.tick_params(colors='white')\n",
    "plt.grid(True, axis='y', linestyle='--', alpha=0.7)\n",
    "\n",
    "# Adjust layout and save the plot with transparent background\n",
    "plt.tight_layout()\n",
    "plt.savefig('../data/plots/mature_tvshows_percentage_by_platform.png', dpi=300, bbox_inches='tight', transparent=True)\n",
    "\n",
    "# Show the plot\n",
    "plt.show()\n"
   ]
  },
  {
   "cell_type": "code",
   "execution_count": null,
   "id": "46be6a9c-c763-4098-b262-f667790967c4",
   "metadata": {},
   "outputs": [],
   "source": [
    "##How does the distribution of ratings compare between Netflix and Prime?"
   ]
  },
  {
   "cell_type": "code",
   "execution_count": 45,
   "id": "9cb4aa27-0923-4b1e-af2d-9afcbb3e3409",
   "metadata": {},
   "outputs": [
    {
     "ename": "NameError",
     "evalue": "name 'ratings_distribution' is not defined",
     "output_type": "error",
     "traceback": [
      "\u001b[1;31m---------------------------------------------------------------------------\u001b[0m",
      "\u001b[1;31mNameError\u001b[0m                                 Traceback (most recent call last)",
      "Cell \u001b[1;32mIn[45], line 7\u001b[0m\n\u001b[0;32m      4\u001b[0m \u001b[38;5;66;03m# Create the bar plot with improved visuals\u001b[39;00m\n\u001b[0;32m      5\u001b[0m plt\u001b[38;5;241m.\u001b[39mfigure(figsize\u001b[38;5;241m=\u001b[39m(\u001b[38;5;241m10\u001b[39m, \u001b[38;5;241m6\u001b[39m))\n\u001b[0;32m      6\u001b[0m sns\u001b[38;5;241m.\u001b[39mbarplot(\n\u001b[1;32m----> 7\u001b[0m     data\u001b[38;5;241m=\u001b[39mratings_distribution,\n\u001b[0;32m      8\u001b[0m     x\u001b[38;5;241m=\u001b[39m\u001b[38;5;124m'\u001b[39m\u001b[38;5;124mpercentage\u001b[39m\u001b[38;5;124m'\u001b[39m,\n\u001b[0;32m      9\u001b[0m     y\u001b[38;5;241m=\u001b[39m\u001b[38;5;124m'\u001b[39m\u001b[38;5;124mrating\u001b[39m\u001b[38;5;124m'\u001b[39m,\n\u001b[0;32m     10\u001b[0m     hue\u001b[38;5;241m=\u001b[39m\u001b[38;5;124m'\u001b[39m\u001b[38;5;124mplatform\u001b[39m\u001b[38;5;124m'\u001b[39m,\n\u001b[0;32m     11\u001b[0m     palette\u001b[38;5;241m=\u001b[39m{\u001b[38;5;124m'\u001b[39m\u001b[38;5;124mNetflix\u001b[39m\u001b[38;5;124m'\u001b[39m: \u001b[38;5;124m'\u001b[39m\u001b[38;5;124m#d62728\u001b[39m\u001b[38;5;124m'\u001b[39m, \u001b[38;5;124m'\u001b[39m\u001b[38;5;124mPrime\u001b[39m\u001b[38;5;124m'\u001b[39m: \u001b[38;5;124m'\u001b[39m\u001b[38;5;124m#1f77b4\u001b[39m\u001b[38;5;124m'\u001b[39m},\n\u001b[0;32m     12\u001b[0m     edgecolor\u001b[38;5;241m=\u001b[39m\u001b[38;5;124m'\u001b[39m\u001b[38;5;124mwhite\u001b[39m\u001b[38;5;124m'\u001b[39m\n\u001b[0;32m     13\u001b[0m )\n\u001b[0;32m     15\u001b[0m \u001b[38;5;66;03m# Add percentage labels inside the bars\u001b[39;00m\n\u001b[0;32m     16\u001b[0m \u001b[38;5;28;01mfor\u001b[39;00m index, row \u001b[38;5;129;01min\u001b[39;00m ratings_distribution\u001b[38;5;241m.\u001b[39miterrows():\n",
      "\u001b[1;31mNameError\u001b[0m: name 'ratings_distribution' is not defined"
     ]
    },
    {
     "data": {
      "text/plain": [
       "<Figure size 1000x600 with 0 Axes>"
      ]
     },
     "metadata": {},
     "output_type": "display_data"
    }
   ],
   "source": [
    "# Apply dark background style\n",
    "plt.style.use('dark_background')\n",
    "\n",
    "# Create the bar plot with improved visuals\n",
    "plt.figure(figsize=(10, 6))\n",
    "sns.barplot(\n",
    "    data=ratings_distribution,\n",
    "    x='percentage',\n",
    "    y='rating',\n",
    "    hue='platform',\n",
    "    palette={'Netflix': '#d62728', 'Prime': '#1f77b4'},\n",
    "    edgecolor='white'\n",
    ")\n",
    "\n",
    "# Add percentage labels inside the bars\n",
    "for index, row in ratings_distribution.iterrows():\n",
    "    plt.text(\n",
    "        row['percentage'] + 0.3,  # Horizontal position of the label\n",
    "        index % 5 + 0.2,          # Vertical adjustment based on position\n",
    "        f\"{row['percentage']:.1f}%\", \n",
    "        color='white', fontsize=10\n",
    "    )\n",
    "\n",
    "# Plot title and axis labels\n",
    "plt.title('How Family-Friendly Are These Platforms? Rating Distribution on Netflix vs Prime', \n",
    "          fontsize=16, fontweight='bold', color='white')\n",
    "plt.xlabel('Percentage of Titles (%)', fontsize=12, color='white')\n",
    "plt.ylabel('Rating', fontsize=12, color='white')\n",
    "\n",
    "# Adjust legend and ticks\n",
    "plt.legend(title='Platform')\n",
    "plt.tick_params(colors='white')\n",
    "plt.grid(True, axis='x', linestyle='--', alpha=0.3)\n",
    "\n",
    "# Adjust layout and save the plot with transparent background\n",
    "plt.tight_layout()\n",
    "plt.savefig('../data/plots/ratings_distribution_comparison.png', dpi=300, bbox_inches='tight', transparent=True)\n",
    "\n",
    "# Show the plot\n",
    "plt.show()\n"
   ]
  },
  {
   "cell_type": "code",
   "execution_count": null,
   "id": "3294767d-c7ad-433c-a71d-bc32d29c2eb6",
   "metadata": {},
   "outputs": [],
   "source": [
    "#export table\n",
    "ratings_distribution.to_csv('../data/clean/ratings_distribution_comparison.csv', index=False)\n"
   ]
  },
  {
   "cell_type": "code",
   "execution_count": 47,
   "id": "ffa44332-bdf9-42a4-84e4-b061d738148c",
   "metadata": {},
   "outputs": [
    {
     "data": {
      "image/png": "[encoded data removed]",
      "text/plain": [
       "<Figure size 1000x600 with 1 Axes>"
      ]
     },
     "metadata": {},
     "output_type": "display_data"
    }
   ],
   "source": [
    "# Calculate the Top 10 Most Common Genres Globally (regardless of platform)\n",
    "top_genres_global = combined_df.groupby('genres')['show_id'].count().sort_values(ascending=False).head(10)\n",
    "\n",
    "# Create the bar plot\n",
    "plt.figure(figsize=(10, 6))\n",
    "sns.barplot(\n",
    "    x=top_genres_global.values,\n",
    "    y=top_genres_global.index,\n",
    "    color='#e0e0e0'  # Soft white for bars\n",
    ")\n",
    "\n",
    "# Add plot title and labels\n",
    "plt.title('What’s the World Watching? The Top 10 Most Popular Genres Across All Platforms', \n",
    "          fontsize=16, fontweight='bold', color='white')\n",
    "plt.xlabel('Number of Titles', fontsize=12, color='white')\n",
    "plt.ylabel('Genres', fontsize=12, color='white')\n",
    "\n",
    "# Adjust tick colors and grid style\n",
    "plt.gca().tick_params(colors='white')\n",
    "plt.grid(True, axis='x', linestyle='--', alpha=0.3)\n",
    "\n",
    "# Adjust layout and save the plot with transparent background\n",
    "plt.tight_layout()\n",
    "plt.savefig('../data/plots/top_genres_global.png', dpi=300, bbox_inches='tight', transparent=True)\n",
    "\n",
    "# Display the plot\n",
    "plt.show()\n"
   ]
  },
  {
   "cell_type": "code",
   "execution_count": null,
   "id": "1cc72acf-60a7-45a0-9d26-c2be34352611",
   "metadata": {},
   "outputs": [],
   "source": [
    "##Content by type (Movies vs Tv Shows)"
   ]
  },
  {
   "cell_type": "code",
   "execution_count": 51,
   "id": "0f3e5d36-e71f-40d1-be80-5f229911c304",
   "metadata": {},
   "outputs": [
    {
     "data": {
      "image/png": "[encoded data removed]",
      "text/plain": [
       "<Figure size 800x600 with 1 Axes>"
      ]
     },
     "metadata": {},
     "output_type": "display_data"
    }
   ],
   "source": [
    "# Create the data\n",
    "data = {\n",
    "    'platform': ['Netflix', 'Netflix', 'Prime', 'Prime'],\n",
    "    'type': ['Movie', 'TV Show', 'Movie', 'TV Show'],\n",
    "    'percentage': [70.4, 29.6, 80.8, 19.2]\n",
    "}\n",
    "df = pd.DataFrame(data)\n",
    "\n",
    "# Dark style for the plot\n",
    "plt.style.use('dark_background')\n",
    "fig, ax = plt.subplots(figsize=(8, 6))\n",
    "\n",
    "# Consistent colors with the rest of the visuals\n",
    "colors = {'Movie': '#d62728', 'TV Show': '#1f77b4'}\n",
    "\n",
    "# Create the bar plot\n",
    "sns.barplot(\n",
    "    data=df,\n",
    "    x='type',\n",
    "    y='percentage',\n",
    "    hue='platform',\n",
    "    palette={'Netflix': '#d62728', 'Prime': '#1f77b4'},\n",
    "    dodge=True,\n",
    "    ax=ax\n",
    ")\n",
    "\n",
    "# Add percentage labels on top of the bars\n",
    "for container in ax.containers:\n",
    "    ax.bar_label(container, fmt='%.1f%%', label_type='edge', color='white', fontsize=10)\n",
    "\n",
    "# Plot aesthetics\n",
    "ax.set_title('Movies or TV Shows? How Netflix and Prime Split Their Content', fontsize=16, fontweight='bold', color='white')\n",
    "ax.set_ylabel('Percentage of Content (%)', fontsize=12, color='white')\n",
    "ax.set_xlabel('Content Type', fontsize=12, color='white')\n",
    "ax.legend(title='Platform', loc='upper right')\n",
    "ax.tick_params(colors='white')\n",
    "plt.grid(True, linestyle='--', alpha=0.3)\n",
    "plt.tight_layout()\n",
    "\n",
    "# Save the plot as PNG with transparent background\n",
    "plt.savefig('../data/plots/netflix_prime_content_split.png', dpi=300, bbox_inches='tight', transparent=True)\n",
    "\n",
    "# Show the plot\n",
    "plt.show()\n",
    "\n"
   ]
  },
  {
   "cell_type": "code",
   "execution_count": null,
   "id": "2e94eb6d-b17d-4e60-965f-edca84657be2",
   "metadata": {},
   "outputs": [],
   "source": [
    "# Verifica si hay valores nulos\n",
    "print(combined_df.isnull().sum())\n",
    "\n",
    "# Verifica las primeras filas\n",
    "print(combined_df.head())\n"
   ]
  },
  {
   "cell_type": "code",
   "execution_count": null,
   "id": "a87582d5-10eb-4fda-9acc-7938853567f7",
   "metadata": {},
   "outputs": [],
   "source": []
  },
  {
   "cell_type": "code",
   "execution_count": null,
   "id": "003d5bc6-cf63-4416-ae6a-42c4173e929c",
   "metadata": {},
   "outputs": [],
   "source": [
    "# Save the combined DataFrame as a CSV file\n",
    "combined_df.to_csv('../data/clean/combined_final.csv', index=False)\n",
    "print(\"Combined data saved as combined_final.csv successfully.\")\n"
   ]
  },
  {
   "cell_type": "code",
   "execution_count": null,
   "id": "ad87fc25-a4f7-45f2-b26d-52bfafb70a0b",
   "metadata": {},
   "outputs": [],
   "source": []
  },
  {
   "cell_type": "code",
   "execution_count": null,
   "id": "48a9b4a6-6bda-48af-ab08-e8337b46ba04",
   "metadata": {},
   "outputs": [],
   "source": []
  },
  {
   "cell_type": "code",
   "execution_count": null,
   "id": "2ab1a24a-bcc9-4900-ba82-b851cdc5f10f",
   "metadata": {},
   "outputs": [],
   "source": []
  },
  {
   "cell_type": "code",
   "execution_count": null,
   "id": "1ccd43ea-850d-4c41-b7bd-5035f7dbe4c4",
   "metadata": {},
   "outputs": [],
   "source": []
  },
  {
   "cell_type": "code",
   "execution_count": null,
   "id": "10b5c3c7-8bc4-4d28-bd8e-680565ca6360",
   "metadata": {},
   "outputs": [],
   "source": []
  },
  {
   "cell_type": "code",
   "execution_count": null,
   "id": "b7a72fc4-de83-41dc-ac17-e125db84ff22",
   "metadata": {},
   "outputs": [],
   "source": []
  },
  {
   "cell_type": "code",
   "execution_count": null,
   "id": "c85cfe61-5705-429d-9a31-c2a3d87f50e7",
   "metadata": {},
   "outputs": [],
   "source": []
  },
  {
   "cell_type": "code",
   "execution_count": null,
   "id": "2750cb8d-aefe-47e3-8b48-c2d59e4ff64f",
   "metadata": {},
   "outputs": [],
   "source": []
  },
  {
   "cell_type": "code",
   "execution_count": null,
   "id": "a6a54fc0-f037-43ce-aa39-5409c1273657",
   "metadata": {},
   "outputs": [],
   "source": []
  },
  {
   "cell_type": "code",
   "execution_count": null,
   "id": "e10a74e6-dee8-4130-8f44-80b3c0f9d148",
   "metadata": {},
   "outputs": [],
   "source": []
  },
  {
   "cell_type": "code",
   "execution_count": null,
   "id": "a535208f-cad9-4c0e-8f71-f1fee3329294",
   "metadata": {},
   "outputs": [],
   "source": []
  },
  {
   "cell_type": "code",
   "execution_count": null,
   "id": "1ff4f2f4-566e-464c-bb1d-3d8a0415cca9",
   "metadata": {},
   "outputs": [],
   "source": []
  },
  {
   "cell_type": "code",
   "execution_count": null,
   "id": "7144b009-a6a2-4e0f-bc08-41da74fe6517",
   "metadata": {},
   "outputs": [],
   "source": []
  },
  {
   "cell_type": "code",
   "execution_count": null,
   "id": "d4e5b2e3-8f86-4be5-832a-e40a1cf58c29",
   "metadata": {},
   "outputs": [],
   "source": []
  },
  {
   "cell_type": "code",
   "execution_count": null,
   "id": "990287a0-709c-4341-b363-3c03dc16130c",
   "metadata": {},
   "outputs": [],
   "source": []
  },
  {
   "cell_type": "code",
   "execution_count": null,
   "id": "d630c427-83cb-422d-8881-455feb62f9c8",
   "metadata": {},
   "outputs": [],
   "source": []
  },
  {
   "cell_type": "code",
   "execution_count": null,
   "id": "dc3751a4-7c42-4b0c-ba73-d5000cffdc54",
   "metadata": {},
   "outputs": [],
   "source": []
  },
  {
   "cell_type": "code",
   "execution_count": null,
   "id": "5ee8f716-6ddc-48d5-bc2a-8e0a97f143f6",
   "metadata": {},
   "outputs": [],
   "source": []
  },
  {
   "cell_type": "code",
   "execution_count": null,
   "id": "77aaab3a-fd34-43d6-814b-b4f73bd57203",
   "metadata": {},
   "outputs": [],
   "source": []
  },
  {
   "cell_type": "code",
   "execution_count": null,
   "id": "811a7a7c-3a42-481f-9cc2-b2c37bc96f20",
   "metadata": {},
   "outputs": [],
   "source": []
  },
  {
   "cell_type": "code",
   "execution_count": null,
   "id": "37c44b7b-ffcd-4118-bd91-b63918c5c329",
   "metadata": {},
   "outputs": [],
   "source": []
  },
  {
   "cell_type": "code",
   "execution_count": null,
   "id": "355d7124-9d51-4e39-85a4-816509e3cd3f",
   "metadata": {},
   "outputs": [],
   "source": []
  }
 ],
 "metadata": {
  "kernelspec": {
   "display_name": "Python 3 (ipykernel)",
   "language": "python",
   "name": "python3"
  },
  "language_info": {
   "codemirror_mode": {
    "name": "ipython",
    "version": 3
   },
   "file_extension": ".py",
   "mimetype": "text/x-python",
   "name": "python",
   "nbconvert_exporter": "python",
   "pygments_lexer": "ipython3",
   "version": "3.12.7"
  }
 },
 "nbformat": 4,
 "nbformat_minor": 5
}
