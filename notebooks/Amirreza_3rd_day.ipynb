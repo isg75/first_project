{
 "cells": [
  {
   "cell_type": "code",
   "execution_count": 3,
   "id": "5399d21f-0f41-4ff3-8173-84a76eb73818",
   "metadata": {},
   "outputs": [],
   "source": [
    "import pandas as pd\n",
    "url = '/Users/amirrezakamkar/Desktop/Works_in_progress/Ironhack/3_3rd_week/Project/first_project/data/clean/merged_clean_owen2.csv'\n",
    "df = pd.read_csv(url)"
   ]
  },
  {
   "cell_type": "code",
   "execution_count": null,
   "id": "30fe707e-a4f1-41a3-b280-ee4b920c57c3",
   "metadata": {},
   "outputs": [],
   "source": [
    "df.head()"
   ]
  },
  {
   "cell_type": "code",
   "execution_count": null,
   "id": "1c196382-63f1-42f0-bf30-e25eca5b90da",
   "metadata": {},
   "outputs": [],
   "source": [
    "average_revenue_per_publisher = df.groupby('publishers')['revenue'].mean()\n",
    "top_publishers = average_revenue_per_publisher.sort_values(ascending=False).head(10)\n",
    "display(top_publishers)"
   ]
  },
  {
   "cell_type": "code",
   "execution_count": null,
   "id": "5bc3a7b3-209e-46d6-8d9b-631c6ea18687",
   "metadata": {},
   "outputs": [],
   "source": [
    "import matplotlib.pyplot as plt\n",
    "\n",
    "# top_publishers is the result from the previous code\n",
    "\n",
    "# Create a bar chart\n",
    "plt.figure(figsize=(10, 6))  # Set the figure size for better readability\n",
    "top_publishers.plot(kind='bar', color='skyblue')\n",
    "\n",
    "# Add titles and labels\n",
    "plt.title('Top 10 Publishers by Average Revenue')\n",
    "plt.xlabel('Publisher')\n",
    "plt.ylabel('Average Revenue')\n",
    "\n",
    "# Rotate x labels for better visibility\n",
    "plt.xticks(rotation=45, ha='right')\n",
    "\n",
    "# Show the plot\n",
    "plt.tight_layout()  # Adjust layout for readability\n",
    "plt.savefig('top_publishers_avg_revenue.png', format='png', dpi=300)\n",
    "plt.show()\n"
   ]
  },
  {
   "cell_type": "code",
   "execution_count": null,
   "id": "b60392f4-58b5-4e56-add6-c3a5066ef26a",
   "metadata": {},
   "outputs": [],
   "source": [
    "revenue_per_game = df.groupby('name')['revenue'].sum()\n",
    "top_games = revenue_per_game.sort_values(ascending=False).head(10)\n",
    "display(top_games)"
   ]
  },
  {
   "cell_type": "code",
   "execution_count": null,
   "id": "dd53cbac-8f80-46e5-b97a-13f2db866d65",
   "metadata": {},
   "outputs": [],
   "source": [
    "# Sort the DataFrame by 'revenue' in descending order and select the top 10 rows\n",
    "top_10_games_df = df.sort_values(by='revenue', ascending=False).head(10)\n",
    "\n",
    "# Display the resulting DataFrame\n",
    "display(top_10_games_df)"
   ]
  },
  {
   "cell_type": "code",
   "execution_count": 5,
   "id": "75c9ddb6-58fe-46bf-a7af-db23b7753793",
   "metadata": {},
   "outputs": [
    {
     "data": {
      "text/plain": [
       "Index(['steamId', 'name', 'release_date', 'copies_sold', 'price_USD',\n",
       "       'price_local', 'revenue', 'avgPlaytime', 'publisherClass', 'publishers',\n",
       "       'developers', 'required_age', 'is_free', 'description',\n",
       "       'about the game', 'languages', 'language_count', 'genres', 'categories',\n",
       "       'estimated owners', 'peak ccu', 'metacritic score', 'review_score',\n",
       "       'positive', 'negative', 'recommendations', 'average playtime forever',\n",
       "       'average playtime two weeks', 'median playtime forever',\n",
       "       'median playtime two weeks', 'Early Access', 'Strategy', 'Casual',\n",
       "       'Simulation', 'RPG', 'Racing', 'Massively Multiplayer', 'Indie',\n",
       "       'Action', 'Free To Play', 'Adventure', 'Sports', 'Single-player',\n",
       "       'Multi-player', 'Steam Achievements', 'In-App Purchases',\n",
       "       'Partial Controller Support', 'Steam Cloud', 'Family Sharing',\n",
       "       'Full controller support', 'Steam Trading Cards'],\n",
       "      dtype='object')"
      ]
     },
     "execution_count": 5,
     "metadata": {},
     "output_type": "execute_result"
    }
   ],
   "source": [
    "df.columns"
   ]
  },
  {
   "cell_type": "code",
   "execution_count": 11,
   "id": "37ddf2de-6a73-4f1f-bf77-a7eee6f1d216",
   "metadata": {},
   "outputs": [
    {
     "data": {
      "text/plain": [
       "Early Access\n",
       "False    2.531628e+06\n",
       "True     2.983687e+06\n",
       "Name: revenue, dtype: float64"
      ]
     },
     "execution_count": 11,
     "metadata": {},
     "output_type": "execute_result"
    }
   ],
   "source": [
    "early_access_revenue = df.groupby('Early Access')['revenue'].mean()\n",
    "early_access_revenue"
   ]
  },
  {
   "cell_type": "code",
   "execution_count": 13,
   "id": "69680a3a-5afb-4de4-b7c6-2dec2c7ef94b",
   "metadata": {},
   "outputs": [
    {
     "data": {
      "text/plain": [
       "Early Access\n",
       "False    75.513929\n",
       "True     32.827309\n",
       "Name: average playtime forever, dtype: float64"
      ]
     },
     "execution_count": 13,
     "metadata": {},
     "output_type": "execute_result"
    }
   ],
   "source": [
    "early_access_playtime = df.groupby('Early Access')['average playtime forever'].mean()\n",
    "early_access_playtime"
   ]
  },
  {
   "cell_type": "code",
   "execution_count": 19,
   "id": "b2c17ce3-44b8-4053-a39d-17997cf0cc20",
   "metadata": {},
   "outputs": [
    {
     "data": {
      "text/plain": [
       "In-App Purchases\n",
       "False    2.224766e+06\n",
       "True     8.371637e+06\n",
       "Name: revenue, dtype: float64"
      ]
     },
     "execution_count": 19,
     "metadata": {},
     "output_type": "execute_result"
    }
   ],
   "source": [
    "in_app_purchase_revenue = df.groupby('In-App Purchases')['revenue'].mean()\n",
    "in_app_purchase_revenue"
   ]
  },
  {
   "cell_type": "code",
   "execution_count": 48,
   "id": "1090912f-08a2-4be1-97bd-c967274f6e71",
   "metadata": {},
   "outputs": [
    {
     "data": {
      "text/html": [
       "<div>\n",
       "<style scoped>\n",
       "    .dataframe tbody tr th:only-of-type {\n",
       "        vertical-align: middle;\n",
       "    }\n",
       "\n",
       "    .dataframe tbody tr th {\n",
       "        vertical-align: top;\n",
       "    }\n",
       "\n",
       "    .dataframe thead th {\n",
       "        text-align: right;\n",
       "    }\n",
       "</style>\n",
       "<table border=\"1\" class=\"dataframe\">\n",
       "  <thead>\n",
       "    <tr style=\"text-align: right;\">\n",
       "      <th></th>\n",
       "      <th>genre</th>\n",
       "      <th>num_games</th>\n",
       "      <th>avg_revenue</th>\n",
       "    </tr>\n",
       "  </thead>\n",
       "  <tbody>\n",
       "    <tr>\n",
       "      <th>0</th>\n",
       "      <td>Sports</td>\n",
       "      <td>46</td>\n",
       "      <td>1.131611e+06</td>\n",
       "    </tr>\n",
       "    <tr>\n",
       "      <th>1</th>\n",
       "      <td>Racing</td>\n",
       "      <td>31</td>\n",
       "      <td>1.146141e+06</td>\n",
       "    </tr>\n",
       "    <tr>\n",
       "      <th>2</th>\n",
       "      <td>Simulation</td>\n",
       "      <td>539</td>\n",
       "      <td>1.538958e+06</td>\n",
       "    </tr>\n",
       "    <tr>\n",
       "      <th>3</th>\n",
       "      <td>Action</td>\n",
       "      <td>568</td>\n",
       "      <td>5.708596e+06</td>\n",
       "    </tr>\n",
       "    <tr>\n",
       "      <th>4</th>\n",
       "      <td>Adventure</td>\n",
       "      <td>685</td>\n",
       "      <td>3.855070e+06</td>\n",
       "    </tr>\n",
       "    <tr>\n",
       "      <th>5</th>\n",
       "      <td>RPG</td>\n",
       "      <td>535</td>\n",
       "      <td>4.300139e+06</td>\n",
       "    </tr>\n",
       "  </tbody>\n",
       "</table>\n",
       "</div>"
      ],
      "text/plain": [
       "        genre  num_games   avg_revenue\n",
       "0      Sports         46  1.131611e+06\n",
       "1      Racing         31  1.146141e+06\n",
       "2  Simulation        539  1.538958e+06\n",
       "3      Action        568  5.708596e+06\n",
       "4   Adventure        685  3.855070e+06\n",
       "5         RPG        535  4.300139e+06"
      ]
     },
     "metadata": {},
     "output_type": "display_data"
    }
   ],
   "source": [
    "\n",
    "genres = ['Sports', 'Racing', 'Simulation', 'Action', 'Adventure', 'RPG']\n",
    "genre_revenue_data = []\n",
    "# Loop through each genre column\n",
    "for genre in genre_columns:\n",
    "    # Filter games where the genre is True\n",
    "    genre_games = df[df[genre] == True]\n",
    "    \n",
    "    # Calculate the average revenue for the games of this genre\n",
    "    avg_revenue = genre_games['revenue'].mean()\n",
    "    \n",
    "    # Count the number of games in this genre\n",
    "    num_games = genre_games.shape[0]\n",
    "    \n",
    "    # Append the result to the list\n",
    "    genre_revenue_data.append({'genre': genre, 'num_games': num_games, 'avg_revenue': avg_revenue})\n",
    "\n",
    "# Convert the list to a DataFrame for easier plotting\n",
    "genre_revenue_df = pd.DataFrame(genre_revenue_data)\n",
    "\n",
    "# Display the resulting DataFrame\n",
    "display(genre_revenue_df)\n"
   ]
  },
  {
   "cell_type": "code",
   "execution_count": 60,
   "id": "9225ad44-28de-4972-982a-aca728081cac",
   "metadata": {},
   "outputs": [
    {
     "name": "stderr",
     "output_type": "stream",
     "text": [
      "/var/folders/kh/bjfqwck131971mz369pxctvm0000gn/T/ipykernel_99709/3230508302.py:5: FutureWarning: \n",
      "\n",
      "Passing `palette` without assigning `hue` is deprecated and will be removed in v0.14.0. Assign the `x` variable to `hue` and set `legend=False` for the same effect.\n",
      "\n",
      "  sns.barplot(data=genre_revenue_df,\n"
     ]
    },
    {
     "data": {
      "image/png": "[encoded data removed]",
      "text/plain": [
       "<Figure size 1200x600 with 1 Axes>"
      ]
     },
     "metadata": {},
     "output_type": "display_data"
    }
   ],
   "source": [
    "# Set up the plot\n",
    "plt.figure(figsize=(12, 6))\n",
    "\n",
    "# Plot using seaborn\n",
    "sns.barplot(data=genre_revenue_df, \n",
    "            x='genre', \n",
    "            y='avg_revenue', \n",
    "            palette='viridis')\n",
    "\n",
    "# Add title and labels\n",
    "plt.title('Average Revenue by Genre', fontsize=14)\n",
    "plt.xlabel('Genre', fontsize=12)\n",
    "plt.ylabel('Average Revenue', fontsize=12)\n",
    "\n",
    "# Show the plot\n",
    "plt.tight_layout()\n",
    "plt.savefig('average_revenue_by_genre.png', dpi=300)"
   ]
  },
  {
   "cell_type": "code",
   "execution_count": 72,
   "id": "0c15ce83-00e5-4ef5-afe0-fde3d248e257",
   "metadata": {},
   "outputs": [
    {
     "name": "stderr",
     "output_type": "stream",
     "text": [
      "/var/folders/kh/bjfqwck131971mz369pxctvm0000gn/T/ipykernel_99709/1136146772.py:5: FutureWarning: \n",
      "\n",
      "Passing `palette` without assigning `hue` is deprecated and will be removed in v0.14.0. Assign the `x` variable to `hue` and set `legend=False` for the same effect.\n",
      "\n",
      "  sns.barplot(data=genre_revenue_df,\n"
     ]
    },
    {
     "data": {
      "image/png": "[encoded data removed]",
      "text/plain": [
       "<Figure size 1200x600 with 1 Axes>"
      ]
     },
     "metadata": {},
     "output_type": "display_data"
    }
   ],
   "source": [
    "# Set up the plot\n",
    "plt.figure(figsize=(12, 6))\n",
    "\n",
    "# Plot using seaborn\n",
    "sns.barplot(data=genre_revenue_df, \n",
    "            x='genre', \n",
    "            y='average_revenue_per_game', \n",
    "            palette='viridis')\n",
    "\n",
    "# Add title and labels\n",
    "plt.title('Average Revenue by Genre (Per Game)', fontsize=14)\n",
    "plt.xlabel('Genre', fontsize=12)\n",
    "plt.ylabel('Average Revenue Per Game', fontsize=12)\n",
    "\n",
    "# Show the plot\n",
    "plt.tight_layout()\n",
    "plt.savefig('average_revenue_by_genre_per_game.png', dpi=300)"
   ]
  },
  {
   "cell_type": "code",
   "execution_count": 52,
   "id": "24691c41-9617-4aa3-a1ac-0d710cac777d",
   "metadata": {},
   "outputs": [
    {
     "data": {
      "text/plain": [
       "<Figure size 640x480 with 0 Axes>"
      ]
     },
     "metadata": {},
     "output_type": "display_data"
    }
   ],
   "source": []
  },
  {
   "cell_type": "code",
   "execution_count": null,
   "id": "3705e7d6-b873-45b1-87c1-3a70d34c0dc2",
   "metadata": {},
   "outputs": [],
   "source": []
  }
 ],
 "metadata": {
  "kernelspec": {
   "display_name": "venv",
   "language": "python",
   "name": "venv"
  },
  "language_info": {
   "codemirror_mode": {
    "name": "ipython",
    "version": 3
   },
   "file_extension": ".py",
   "mimetype": "text/x-python",
   "name": "python",
   "nbconvert_exporter": "python",
   "pygments_lexer": "ipython3",
   "version": "3.12.4"
  }
 },
 "nbformat": 4,
 "nbformat_minor": 5
}
