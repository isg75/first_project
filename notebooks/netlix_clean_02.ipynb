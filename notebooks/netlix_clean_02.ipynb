{
 "cells": [
  {
   "cell_type": "markdown",
   "id": "1b4fae98-e58e-4ed7-895b-90a5990aca86",
   "metadata": {},
   "source": [
    " # Load YAML Configuration and Dataset"
   ]
  },
  {
   "cell_type": "code",
   "execution_count": 10,
   "id": "5b548402-193d-480d-af05-ce2dc1755329",
   "metadata": {},
   "outputs": [
    {
     "data": {
      "text/html": [
       "<div>\n",
       "<style scoped>\n",
       "    .dataframe tbody tr th:only-of-type {\n",
       "        vertical-align: middle;\n",
       "    }\n",
       "\n",
       "    .dataframe tbody tr th {\n",
       "        vertical-align: top;\n",
       "    }\n",
       "\n",
       "    .dataframe thead th {\n",
       "        text-align: right;\n",
       "    }\n",
       "</style>\n",
       "<table border=\"1\" class=\"dataframe\">\n",
       "  <thead>\n",
       "    <tr style=\"text-align: right;\">\n",
       "      <th></th>\n",
       "      <th>show_id</th>\n",
       "      <th>type</th>\n",
       "      <th>title</th>\n",
       "      <th>release_year</th>\n",
       "      <th>rating</th>\n",
       "      <th>duration</th>\n",
       "      <th>listed_in</th>\n",
       "      <th>duration_int</th>\n",
       "      <th>duration_type</th>\n",
       "      <th>genres</th>\n",
       "      <th>platform</th>\n",
       "    </tr>\n",
       "  </thead>\n",
       "  <tbody>\n",
       "    <tr>\n",
       "      <th>0</th>\n",
       "      <td>s1</td>\n",
       "      <td>Movie</td>\n",
       "      <td>Dick Johnson Is Dead</td>\n",
       "      <td>2020</td>\n",
       "      <td>PG-13</td>\n",
       "      <td>90 min</td>\n",
       "      <td>Documentaries</td>\n",
       "      <td>90</td>\n",
       "      <td>min</td>\n",
       "      <td>['Documentary']</td>\n",
       "      <td>Netflix</td>\n",
       "    </tr>\n",
       "    <tr>\n",
       "      <th>1</th>\n",
       "      <td>s2</td>\n",
       "      <td>TV Show</td>\n",
       "      <td>Blood &amp; Water</td>\n",
       "      <td>2021</td>\n",
       "      <td>TV-MA</td>\n",
       "      <td>2 Seasons</td>\n",
       "      <td>International TV Shows, TV Dramas, TV Mysteries</td>\n",
       "      <td>2</td>\n",
       "      <td>season</td>\n",
       "      <td>['International']</td>\n",
       "      <td>Netflix</td>\n",
       "    </tr>\n",
       "    <tr>\n",
       "      <th>2</th>\n",
       "      <td>s3</td>\n",
       "      <td>TV Show</td>\n",
       "      <td>Ganglands</td>\n",
       "      <td>2021</td>\n",
       "      <td>TV-MA</td>\n",
       "      <td>1 Season</td>\n",
       "      <td>Crime TV Shows, International TV Shows, TV Act...</td>\n",
       "      <td>1</td>\n",
       "      <td>season</td>\n",
       "      <td>['Action/Thriller']</td>\n",
       "      <td>Netflix</td>\n",
       "    </tr>\n",
       "    <tr>\n",
       "      <th>3</th>\n",
       "      <td>s4</td>\n",
       "      <td>TV Show</td>\n",
       "      <td>Jailbirds New Orleans</td>\n",
       "      <td>2021</td>\n",
       "      <td>TV-MA</td>\n",
       "      <td>1 Season</td>\n",
       "      <td>Docuseries, Reality TV</td>\n",
       "      <td>1</td>\n",
       "      <td>season</td>\n",
       "      <td>['Documentary']</td>\n",
       "      <td>Netflix</td>\n",
       "    </tr>\n",
       "    <tr>\n",
       "      <th>4</th>\n",
       "      <td>s5</td>\n",
       "      <td>TV Show</td>\n",
       "      <td>Kota Factory</td>\n",
       "      <td>2021</td>\n",
       "      <td>TV-MA</td>\n",
       "      <td>2 Seasons</td>\n",
       "      <td>International TV Shows, Romantic TV Shows, TV ...</td>\n",
       "      <td>2</td>\n",
       "      <td>season</td>\n",
       "      <td>['International']</td>\n",
       "      <td>Netflix</td>\n",
       "    </tr>\n",
       "  </tbody>\n",
       "</table>\n",
       "</div>"
      ],
      "text/plain": [
       "  show_id     type                  title  release_year rating   duration  \\\n",
       "0      s1    Movie   Dick Johnson Is Dead          2020  PG-13     90 min   \n",
       "1      s2  TV Show          Blood & Water          2021  TV-MA  2 Seasons   \n",
       "2      s3  TV Show              Ganglands          2021  TV-MA   1 Season   \n",
       "3      s4  TV Show  Jailbirds New Orleans          2021  TV-MA   1 Season   \n",
       "4      s5  TV Show           Kota Factory          2021  TV-MA  2 Seasons   \n",
       "\n",
       "                                           listed_in  duration_int  \\\n",
       "0                                      Documentaries            90   \n",
       "1    International TV Shows, TV Dramas, TV Mysteries             2   \n",
       "2  Crime TV Shows, International TV Shows, TV Act...             1   \n",
       "3                             Docuseries, Reality TV             1   \n",
       "4  International TV Shows, Romantic TV Shows, TV ...             2   \n",
       "\n",
       "  duration_type               genres platform  \n",
       "0           min      ['Documentary']  Netflix  \n",
       "1        season    ['International']  Netflix  \n",
       "2        season  ['Action/Thriller']  Netflix  \n",
       "3        season      ['Documentary']  Netflix  \n",
       "4        season    ['International']  Netflix  "
      ]
     },
     "execution_count": 10,
     "metadata": {},
     "output_type": "execute_result"
    }
   ],
   "source": [
    "# Load YAML configuration file\n",
    "import yaml\n",
    "with open(\"../netflix_config.yaml\", \"r\") as file:\n",
    "    config = yaml.safe_load(file)\n",
    "\n",
    "# Load dataset with pandas\n",
    "import pandas as pd\n",
    "df = pd.read_csv(config['input_data']['file'])  # Load dataset based on YAML path\n",
    "df.head()  # Show the first 5 rows of the dataset"
   ]
  },
  {
   "cell_type": "markdown",
   "id": "9abc7246-8dab-4a06-a2d5-f2e559236c47",
   "metadata": {},
   "source": [
    "# Check the Initial Structure of the DataFrame"
   ]
  },
  {
   "cell_type": "code",
   "execution_count": 13,
   "id": "abd8967c-6e41-4361-93a1-b07ea0d0b123",
   "metadata": {
    "scrolled": true
   },
   "outputs": [
    {
     "name": "stdout",
     "output_type": "stream",
     "text": [
      "Index(['show_id', 'type', 'title', 'release_year', 'rating', 'duration',\n",
      "       'listed_in', 'duration_int', 'duration_type', 'genres', 'platform'],\n",
      "      dtype='object')\n",
      "<class 'pandas.core.frame.DataFrame'>\n",
      "RangeIndex: 8706 entries, 0 to 8705\n",
      "Data columns (total 11 columns):\n",
      " #   Column         Non-Null Count  Dtype \n",
      "---  ------         --------------  ----- \n",
      " 0   show_id        8706 non-null   object\n",
      " 1   type           8706 non-null   object\n",
      " 2   title          8706 non-null   object\n",
      " 3   release_year   8706 non-null   int64 \n",
      " 4   rating         8706 non-null   object\n",
      " 5   duration       8706 non-null   object\n",
      " 6   listed_in      8706 non-null   object\n",
      " 7   duration_int   8706 non-null   int64 \n",
      " 8   duration_type  8706 non-null   object\n",
      " 9   genres         8706 non-null   object\n",
      " 10  platform       8706 non-null   object\n",
      "dtypes: int64(2), object(9)\n",
      "memory usage: 748.3+ KB\n",
      "None\n",
      "  show_id     type                  title  release_year rating   duration  \\\n",
      "0      s1    Movie   Dick Johnson Is Dead          2020  PG-13     90 min   \n",
      "1      s2  TV Show          Blood & Water          2021  TV-MA  2 Seasons   \n",
      "2      s3  TV Show              Ganglands          2021  TV-MA   1 Season   \n",
      "3      s4  TV Show  Jailbirds New Orleans          2021  TV-MA   1 Season   \n",
      "4      s5  TV Show           Kota Factory          2021  TV-MA  2 Seasons   \n",
      "\n",
      "                                           listed_in  duration_int  \\\n",
      "0                                      Documentaries            90   \n",
      "1    International TV Shows, TV Dramas, TV Mysteries             2   \n",
      "2  Crime TV Shows, International TV Shows, TV Act...             1   \n",
      "3                             Docuseries, Reality TV             1   \n",
      "4  International TV Shows, Romantic TV Shows, TV ...             2   \n",
      "\n",
      "  duration_type               genres platform  \n",
      "0           min      ['Documentary']  Netflix  \n",
      "1        season    ['International']  Netflix  \n",
      "2        season  ['Action/Thriller']  Netflix  \n",
      "3        season      ['Documentary']  Netflix  \n",
      "4        season    ['International']  Netflix  \n"
     ]
    }
   ],
   "source": [
    "# Check the initial structure of the DataFrame\n",
    "print(df.columns)\n",
    "print(df.info())\n",
    "print(df.head())"
   ]
  },
  {
   "cell_type": "markdown",
   "id": "c2a0f5a3-709c-4748-bf41-b5eac4c16f86",
   "metadata": {},
   "source": [
    "# Explore Structure and Metadata\n"
   ]
  },
  {
   "cell_type": "code",
   "execution_count": 16,
   "id": "ffe24f5d-c36d-4012-bc4b-7a53233ceb70",
   "metadata": {},
   "outputs": [
    {
     "name": "stdout",
     "output_type": "stream",
     "text": [
      "<class 'pandas.core.frame.DataFrame'>\n",
      "RangeIndex: 8706 entries, 0 to 8705\n",
      "Data columns (total 11 columns):\n",
      " #   Column         Non-Null Count  Dtype \n",
      "---  ------         --------------  ----- \n",
      " 0   show_id        8706 non-null   object\n",
      " 1   type           8706 non-null   object\n",
      " 2   title          8706 non-null   object\n",
      " 3   release_year   8706 non-null   int64 \n",
      " 4   rating         8706 non-null   object\n",
      " 5   duration       8706 non-null   object\n",
      " 6   listed_in      8706 non-null   object\n",
      " 7   duration_int   8706 non-null   int64 \n",
      " 8   duration_type  8706 non-null   object\n",
      " 9   genres         8706 non-null   object\n",
      " 10  platform       8706 non-null   object\n",
      "dtypes: int64(2), object(9)\n",
      "memory usage: 748.3+ KB\n"
     ]
    }
   ],
   "source": [
    "# Explore structure and metadata\n",
    "df.shape         # Check number of rows and columns\n",
    "df.columns       # List all column names\n",
    "df.info()        # Get data types and non-null counts per column"
   ]
  },
  {
   "cell_type": "markdown",
   "id": "6d7e9781-f942-4cf0-8645-df1e6472d89c",
   "metadata": {},
   "source": [
    "# Load Original Dataset from YAML"
   ]
  },
  {
   "cell_type": "code",
   "execution_count": 19,
   "id": "72759670-afe6-4fd3-97c1-d49b1f329b55",
   "metadata": {},
   "outputs": [],
   "source": [
    "# Load original dataset from YAML\n",
    "original_df = pd.read_csv(config['input_data']['file'], usecols=['show_id'])\n",
    "\n",
    "# Reassign show_id into your working df\n",
    "df['show_id'] = original_df['show_id']"
   ]
  },
  {
   "cell_type": "code",
   "execution_count": 21,
   "id": "afb6c700-ab80-44d0-ae40-e1aae4517f10",
   "metadata": {},
   "outputs": [
    {
     "name": "stdout",
     "output_type": "stream",
     "text": [
      "\n",
      "Columns after dropping unnecessary ones:\n",
      "Index(['show_id', 'type', 'title', 'release_year', 'rating', 'duration',\n",
      "       'listed_in', 'duration_int', 'duration_type', 'genres', 'platform'],\n",
      "      dtype='object')\n"
     ]
    }
   ],
   "source": [
    "# Drop unnecessary columns (corrected column names)\n",
    "columns_to_drop = [ 'director', 'cast', 'country', 'date_added', 'description']\n",
    "\n",
    "# Use drop safely with existing column names\n",
    "df = df.drop(columns=[col for col in columns_to_drop if col in df.columns])\n",
    "\n",
    "# Confirm columns after dropping\n",
    "print(\"\\nColumns after dropping unnecessary ones:\")\n",
    "print(df.columns)\n"
   ]
  },
  {
   "cell_type": "code",
   "execution_count": 23,
   "id": "7301adb3-d58e-457a-9edf-abc12746a7fb",
   "metadata": {},
   "outputs": [
    {
     "data": {
      "text/plain": [
       "show_id          0\n",
       "type             0\n",
       "title            0\n",
       "release_year     0\n",
       "rating           0\n",
       "duration         0\n",
       "listed_in        0\n",
       "duration_int     0\n",
       "duration_type    0\n",
       "genres           0\n",
       "platform         0\n",
       "dtype: int64"
      ]
     },
     "execution_count": 23,
     "metadata": {},
     "output_type": "execute_result"
    }
   ],
   "source": [
    "# Check missing values in descending order\n",
    "df.isnull().sum().sort_values(ascending=False)"
   ]
  },
  {
   "cell_type": "code",
   "execution_count": 25,
   "id": "bf42c07a-5d0b-4718-b91d-365ecae7cc25",
   "metadata": {},
   "outputs": [
    {
     "data": {
      "text/plain": [
       "rating\n",
       "TV-MA      3183\n",
       "TV-14      2133\n",
       "TV-PG       838\n",
       "R           802\n",
       "PG-13       490\n",
       "TV-Y7       335\n",
       "TV-Y        300\n",
       "PG          287\n",
       "TV-G        212\n",
       "Unrated      85\n",
       "Name: count, dtype: int64"
      ]
     },
     "execution_count": 25,
     "metadata": {},
     "output_type": "execute_result"
    }
   ],
   "source": [
    "# Number of unique values per column\n",
    "df.nunique().sort_values()\n",
    "\n",
    "# Distribution of key categorical columns\n",
    "df['type'].value_counts(normalize=True)  # Distribution of 'Movie' vs 'TV Show'\n",
    "df['rating'].value_counts().head(10)     # Most common ratings"
   ]
  },
  {
   "cell_type": "code",
   "execution_count": 27,
   "id": "cbf79246-6a10-44d5-a114-8435b949d91e",
   "metadata": {},
   "outputs": [
    {
     "data": {
      "text/plain": [
       "7110                          Action & Adventure, Dramas\n",
       "2304                 Documentaries, International Movies\n",
       "4574              Comedies, Dramas, International Movies\n",
       "7546                                       Documentaries\n",
       "7062                        Documentaries, Sports Movies\n",
       "7189                                    Comedies, Dramas\n",
       "3671                  International TV Shows, Reality TV\n",
       "8612    Dramas, Independent Movies, International Movies\n",
       "2204                      Comedies, International Movies\n",
       "4225    Dramas, Independent Movies, International Movies\n",
       "Name: listed_in, dtype: object"
      ]
     },
     "execution_count": 27,
     "metadata": {},
     "output_type": "execute_result"
    }
   ],
   "source": [
    "# View a sample of the genres column\n",
    "df['listed_in'].sample(10)"
   ]
  },
  {
   "cell_type": "code",
   "execution_count": 29,
   "id": "c15a6015-f37c-4de3-84a8-05618f0319fd",
   "metadata": {},
   "outputs": [],
   "source": [
    "# First, ensure the 'genres' column is string type\n",
    "df['genres'] = df['genres'].astype(str)\n",
    "\n",
    "# Clean the brackets and quotes from the string\n",
    "df['genres'] = df['genres'].str.replace(\"[\", \"\").str.replace(\"]\", \"\").str.replace(\"'\", \"\").str.strip()\n",
    "\n",
    "# Split by comma and select only the first genre\n",
    "df['genres'] = df['genres'].apply(lambda x: x.split(\",\")[0].strip())\n"
   ]
  },
  {
   "cell_type": "code",
   "execution_count": 31,
   "id": "8f86da1e-47b2-4df1-b39f-0ce970ce1582",
   "metadata": {},
   "outputs": [
    {
     "name": "stdout",
     "output_type": "stream",
     "text": [
      "                           title           genres\n",
      "6818              Ghost Whispers  Action/Thriller\n",
      "866             Small Town Crime  Action/Thriller\n",
      "3190                    Cut Bank            Drama\n",
      "557                   Winchester           Horror\n",
      "7855             Samudri Lootere             Kids\n",
      "3784  March Comes in Like a Lion   Sci-Fi/Fantasy\n",
      "1960             Kiss the Ground      Documentary\n",
      "1487             Sakho & Mangane  Action/Thriller\n",
      "331                Darwin’s Game   Sci-Fi/Fantasy\n",
      "8094                   The 2000s      Documentary\n",
      "Empty DataFrame\n",
      "Columns: [show_id, type, title, release_year, rating, duration, listed_in, duration_int, duration_type, genres, platform]\n",
      "Index: []\n"
     ]
    }
   ],
   "source": [
    "# Show a random sample of 10 rows with 'title' and 'genres' columns\n",
    "print(df[['title', 'genres']].sample(10))\n",
    "print(df[df['genres'].str.contains(r\"[\\[\\]']\")])"
   ]
  },
  {
   "cell_type": "code",
   "execution_count": 33,
   "id": "c076d07f-f4bd-4169-a296-6cafe76f2e8e",
   "metadata": {},
   "outputs": [],
   "source": [
    "# Remove leading/trailing spaces in column names\n",
    "df.columns = df.columns.str.strip()  "
   ]
  },
  {
   "cell_type": "code",
   "execution_count": 35,
   "id": "f1d3dbf9-c536-4ea5-8ec5-dad86748ceaa",
   "metadata": {},
   "outputs": [
    {
     "data": {
      "text/html": [
       "<div>\n",
       "<style scoped>\n",
       "    .dataframe tbody tr th:only-of-type {\n",
       "        vertical-align: middle;\n",
       "    }\n",
       "\n",
       "    .dataframe tbody tr th {\n",
       "        vertical-align: top;\n",
       "    }\n",
       "\n",
       "    .dataframe thead th {\n",
       "        text-align: right;\n",
       "    }\n",
       "</style>\n",
       "<table border=\"1\" class=\"dataframe\">\n",
       "  <thead>\n",
       "    <tr style=\"text-align: right;\">\n",
       "      <th></th>\n",
       "      <th>duration</th>\n",
       "      <th>duration_int</th>\n",
       "      <th>duration_type</th>\n",
       "    </tr>\n",
       "  </thead>\n",
       "  <tbody>\n",
       "    <tr>\n",
       "      <th>0</th>\n",
       "      <td>90 min</td>\n",
       "      <td>90</td>\n",
       "      <td>min</td>\n",
       "    </tr>\n",
       "    <tr>\n",
       "      <th>1</th>\n",
       "      <td>2 Seasons</td>\n",
       "      <td>2</td>\n",
       "      <td>Seasons</td>\n",
       "    </tr>\n",
       "    <tr>\n",
       "      <th>2</th>\n",
       "      <td>1 Season</td>\n",
       "      <td>1</td>\n",
       "      <td>Season</td>\n",
       "    </tr>\n",
       "    <tr>\n",
       "      <th>3</th>\n",
       "      <td>1 Season</td>\n",
       "      <td>1</td>\n",
       "      <td>Season</td>\n",
       "    </tr>\n",
       "    <tr>\n",
       "      <th>4</th>\n",
       "      <td>2 Seasons</td>\n",
       "      <td>2</td>\n",
       "      <td>Seasons</td>\n",
       "    </tr>\n",
       "  </tbody>\n",
       "</table>\n",
       "</div>"
      ],
      "text/plain": [
       "    duration  duration_int duration_type\n",
       "0     90 min            90           min\n",
       "1  2 Seasons             2       Seasons\n",
       "2   1 Season             1        Season\n",
       "3   1 Season             1        Season\n",
       "4  2 Seasons             2       Seasons"
      ]
     },
     "execution_count": 35,
     "metadata": {},
     "output_type": "execute_result"
    }
   ],
   "source": [
    "# Split 'duration' column into duration value and type (e.g., \"90 min\" → 90 + 'min')\n",
    "df[['duration_int', 'duration_type']] = df['duration'].str.extract(r'(\\d+)\\s*(\\w+)')\n",
    "df['duration_int'] = pd.to_numeric(df['duration_int'], errors='coerce')  # Convert to numeric\n",
    "df[['duration', 'duration_int', 'duration_type']].head()  # Preview new columns"
   ]
  },
  {
   "cell_type": "code",
   "execution_count": 37,
   "id": "38fa55cf-54d4-4c25-b844-d8d092bd4f8b",
   "metadata": {},
   "outputs": [
    {
     "data": {
      "text/plain": [
       "duration_type\n",
       "min       6128\n",
       "Season    2578\n",
       "Name: count, dtype: int64"
      ]
     },
     "execution_count": 37,
     "metadata": {},
     "output_type": "execute_result"
    }
   ],
   "source": [
    "# Frequency of duration types (e.g., 'min', 'Season')\n",
    "df['duration_type'].value_counts() # Check types of duration (minutes or seasons)\n",
    "\n",
    "# Standardize plural form to singular ('Seasons' → 'Season')\n",
    "df['duration_type'] = df['duration_type'].replace('Seasons', 'Season') # Normalize to singular\n",
    "df['duration_type'].value_counts()  # Confirm correction"
   ]
  },
  {
   "cell_type": "code",
   "execution_count": 39,
   "id": "177ff205-c6fa-415b-adba-9c56fb54a5f3",
   "metadata": {},
   "outputs": [
    {
     "data": {
      "text/html": [
       "<div>\n",
       "<style scoped>\n",
       "    .dataframe tbody tr th:only-of-type {\n",
       "        vertical-align: middle;\n",
       "    }\n",
       "\n",
       "    .dataframe tbody tr th {\n",
       "        vertical-align: top;\n",
       "    }\n",
       "\n",
       "    .dataframe thead th {\n",
       "        text-align: right;\n",
       "    }\n",
       "</style>\n",
       "<table border=\"1\" class=\"dataframe\">\n",
       "  <thead>\n",
       "    <tr style=\"text-align: right;\">\n",
       "      <th></th>\n",
       "      <th>duration</th>\n",
       "    </tr>\n",
       "  </thead>\n",
       "  <tbody>\n",
       "  </tbody>\n",
       "</table>\n",
       "</div>"
      ],
      "text/plain": [
       "Empty DataFrame\n",
       "Columns: [duration]\n",
       "Index: []"
      ]
     },
     "execution_count": 39,
     "metadata": {},
     "output_type": "execute_result"
    }
   ],
   "source": [
    "# Check for missing values in 'duration_int'\n",
    "df['duration_int'].isnull().sum()  # Check how many null durations remain\n",
    "# Keep only rows where 'duration_int' is not null\n",
    "df = df[df['duration_int'].notna()]  # Filter out rows without valid duration\n",
    "# Inspect rows where duration was missing\n",
    "df[df['duration_int'].isna()][['duration']]\n"
   ]
  },
  {
   "cell_type": "code",
   "execution_count": 41,
   "id": "5b3c4802-c72c-4e13-9941-5649f9428596",
   "metadata": {},
   "outputs": [
    {
     "name": "stdout",
     "output_type": "stream",
     "text": [
      "Number of rows after removing duplicates: 8706\n"
     ]
    }
   ],
   "source": [
    "# Remove duplicated rows based on 'show_id' and 'title', and 'release_year'\n",
    "df = df.drop_duplicates(subset=['show_id', 'title', 'release_year'])  # Remove duplicates\n",
    "print(\"Number of rows after removing duplicates:\", df.shape[0])  # Check number of rows after deduplication"
   ]
  },
  {
   "cell_type": "code",
   "execution_count": 43,
   "id": "161d1387-7808-4989-8775-3556d12a8448",
   "metadata": {},
   "outputs": [
    {
     "name": "stdout",
     "output_type": "stream",
     "text": [
      "Remaining duplicates: 0\n"
     ]
    }
   ],
   "source": [
    "# Confirm that duplicates are removed\n",
    "duplicates = df.duplicated(subset=['show_id', 'title', 'release_year']).sum()  # Count remaining duplicates\n",
    "print(\"Remaining duplicates:\", duplicates) "
   ]
  },
  {
   "cell_type": "code",
   "execution_count": 45,
   "id": "247b4264-ff75-4c16-8ec0-0385cd08e9bd",
   "metadata": {},
   "outputs": [
    {
     "data": {
      "text/plain": [
       "show_id          0\n",
       "type             0\n",
       "title            0\n",
       "release_year     0\n",
       "rating           0\n",
       "duration         0\n",
       "listed_in        0\n",
       "duration_int     0\n",
       "duration_type    0\n",
       "genres           0\n",
       "platform         0\n",
       "dtype: int64"
      ]
     },
     "execution_count": 45,
     "metadata": {},
     "output_type": "execute_result"
    }
   ],
   "source": [
    "# Check missing values again per column (after cleaning)\n",
    "df.isnull().sum().sort_values(ascending=False)"
   ]
  },
  {
   "cell_type": "code",
   "execution_count": 47,
   "id": "3a421502-6259-4e12-b363-920115fab246",
   "metadata": {},
   "outputs": [],
   "source": [
    "# Fill missing values with appropriate defaults\n",
    "# Replace missing 'rating' with \"Not Rated\"\n",
    "df['rating'] = df['rating'].fillna(\"Not Rated\")"
   ]
  },
  {
   "cell_type": "code",
   "execution_count": 49,
   "id": "37cc1394-0caf-4245-b93b-624702c2bba9",
   "metadata": {},
   "outputs": [
    {
     "data": {
      "text/plain": [
       "show_id          0\n",
       "type             0\n",
       "title            0\n",
       "release_year     0\n",
       "rating           0\n",
       "duration         0\n",
       "listed_in        0\n",
       "duration_int     0\n",
       "duration_type    0\n",
       "genres           0\n",
       "platform         0\n",
       "dtype: int64"
      ]
     },
     "execution_count": 49,
     "metadata": {},
     "output_type": "execute_result"
    }
   ],
   "source": [
    "# Confirm again that no missing values remain after filling\n",
    "df.isnull().sum().sort_values(ascending=False)"
   ]
  },
  {
   "cell_type": "code",
   "execution_count": 51,
   "id": "ce6f5d8f-56ab-4320-aa8f-f1ce86737329",
   "metadata": {},
   "outputs": [
    {
     "name": "stdout",
     "output_type": "stream",
     "text": [
      "duration_type\n",
      "min       6128\n",
      "Season    2578\n",
      "Name: count, dtype: int64\n",
      "type\n",
      "Movie      6128\n",
      "TV Show    2578\n",
      "Name: count, dtype: int64\n",
      "rating\n",
      "TV-MA      3183\n",
      "TV-14      2133\n",
      "TV-PG       838\n",
      "R           802\n",
      "PG-13       490\n",
      "TV-Y7       335\n",
      "TV-Y        300\n",
      "PG          287\n",
      "TV-G        212\n",
      "Unrated      85\n",
      "G            41\n",
      "Name: count, dtype: int64\n"
     ]
    }
   ],
   "source": [
    "# Quick check of distributions on key columns\n",
    "print(df['duration_type'].value_counts())  # Check distribution of 'duration_type'\n",
    "print(df['type'].value_counts())           # Check distribution of 'type'\n",
    "print(df['rating'].value_counts())         # Check distribution of 'rating'\n"
   ]
  },
  {
   "cell_type": "code",
   "execution_count": 53,
   "id": "6fa80e90-8d3a-4562-9f13-f739b2db95e0",
   "metadata": {},
   "outputs": [
    {
     "name": "stdout",
     "output_type": "stream",
     "text": [
      "\n",
      "Unique ratings in the original data:\n",
      "['PG-13' 'TV-MA' 'PG' 'TV-14' 'TV-PG' 'TV-Y' 'TV-Y7' 'R' 'TV-G' 'G'\n",
      " 'Unrated']\n",
      "\n",
      "Rating value counts:\n",
      "rating\n",
      "TV-MA      3183\n",
      "TV-14      2133\n",
      "TV-PG       838\n",
      "R           802\n",
      "PG-13       490\n",
      "TV-Y7       335\n",
      "TV-Y        300\n",
      "PG          287\n",
      "TV-G        212\n",
      "Unrated      85\n",
      "G            41\n",
      "Name: count, dtype: int64\n"
     ]
    }
   ],
   "source": [
    "# Check unique ratings before applying any replacements\n",
    "print(\"\\nUnique ratings in the original data:\")\n",
    "print(df['rating'].unique())\n",
    "\n",
    "# Count how many times each rating appears\n",
    "print(\"\\nRating value counts:\")\n",
    "print(df['rating'].value_counts(dropna=False))\n"
   ]
  },
  {
   "cell_type": "code",
   "execution_count": 55,
   "id": "bfb8374a-8b5f-465a-a670-56193a6ccb6a",
   "metadata": {},
   "outputs": [],
   "source": [
    "# Define the replacements dictionary\n",
    "rating_replacements = {\n",
    "    # Movie ratings\n",
    "    '13+': 'PG-13',\n",
    "    '16': 'R',\n",
    "    '16+': 'R',\n",
    "    '18+': 'R',\n",
    "    '7+': 'G',                      \n",
    "    'AGES_16_': 'R',\n",
    "    'AGES_18_': 'R',\n",
    "    'ALL': 'G',\n",
    "    'ALL_AGES': 'G',\n",
    "    'G': 'G',\n",
    "    'NC-17': 'R',                   \n",
    "    'NOT_RATE': 'Unrated',\n",
    "    'NR': 'Unrated',\n",
    "    'Not Rated': 'Unrated',\n",
    "    'PG': 'PG',\n",
    "    'PG-13': 'PG-13',\n",
    "    'R': 'R',\n",
    "\n",
    "    # TV Show ratings\n",
    "    'TV-14': 'TV-14',\n",
    "    'TV-G': 'TV-G',\n",
    "    'TV-MA': 'TV-MA',\n",
    "    'TV-NR': 'Unrated',\n",
    "    'TV-PG': 'TV-PG',\n",
    "    'TV-Y': 'TV-Y',\n",
    "    'TV-Y7': 'TV-Y7',\n",
    "    'UNRATED': 'Unrated'\n",
    "}"
   ]
  },
  {
   "cell_type": "code",
   "execution_count": 57,
   "id": "93d87953-788c-4e08-91d4-74474ce175dc",
   "metadata": {},
   "outputs": [],
   "source": [
    "def map_rating(row):\n",
    "    if row['type'] == 'Movie':  # Si es una película\n",
    "        replacements = {\n",
    "            '13+': 'PG-13',\n",
    "            '16+': 'R',\n",
    "            '16+': 'R',\n",
    "            '16+': 'R',\n",
    "            '18+': 'R',\n",
    "            '7+': 'G',\n",
    "            'AGES_16+': 'R',\n",
    "            'AGES_18+': 'R',\n",
    "            'ALL': 'G',\n",
    "            'ALL_AGES': 'G',\n",
    "            'G': 'G',\n",
    "            'NC-17': 'R',\n",
    "            'NOT_RATE': 'Unrated',\n",
    "            'NR': 'Unrated',\n",
    "            'Not Rated': 'Unrated',\n",
    "            'PG': 'PG',\n",
    "            'PG-13': 'PG-13',\n",
    "            'R': 'R'\n",
    "        }\n",
    "    else:  # Si es una serie de TV\n",
    "        replacements = {\n",
    "            'TV-14': 'TV-14',\n",
    "            'TV-G': 'TV-G',\n",
    "            'TV-MA': 'TV-MA',\n",
    "            'TV-NR': 'Unrated',\n",
    "            'TV-PG': 'TV-PG',\n",
    "            'TV-Y': 'TV-Y',\n",
    "            'TV-Y7': 'TV-Y7',\n",
    "            'UNRATED': 'Unrated'\n",
    "        }\n",
    "    return replacements.get(row['rating'], row['rating'])  # Keep original if not found\n",
    "\n",
    "# Apply the mapping\n",
    "df['rating'] = df.apply(map_rating, axis=1)"
   ]
  },
  {
   "cell_type": "code",
   "execution_count": 59,
   "id": "873c26a4-a84c-40b1-a1ee-839a8e7a454a",
   "metadata": {},
   "outputs": [
    {
     "name": "stdout",
     "output_type": "stream",
     "text": [
      "\n",
      "Unique ratings after mapping:\n",
      "['PG-13' 'TV-MA' 'PG' 'TV-14' 'TV-PG' 'TV-Y' 'TV-Y7' 'R' 'TV-G' 'G'\n",
      " 'Unrated']\n",
      "\n",
      "Rating value counts after mapping:\n",
      "rating\n",
      "TV-MA      3183\n",
      "TV-14      2133\n",
      "TV-PG       838\n",
      "R           802\n",
      "PG-13       490\n",
      "TV-Y7       335\n",
      "TV-Y        300\n",
      "PG          287\n",
      "TV-G        212\n",
      "Unrated      85\n",
      "G            41\n",
      "Name: count, dtype: int64\n"
     ]
    }
   ],
   "source": [
    "# Check the unique values after replacements\n",
    "print(\"\\nUnique ratings after mapping:\")\n",
    "print(df['rating'].unique())\n",
    "\n",
    "# Optional: Count how many times each rating appears\n",
    "print(\"\\nRating value counts after mapping:\")\n",
    "print(df['rating'].value_counts(dropna=False))"
   ]
  },
  {
   "cell_type": "code",
   "execution_count": 61,
   "id": "f2e7a498-4374-447d-9084-c2f734dc7b09",
   "metadata": {},
   "outputs": [
    {
     "data": {
      "text/html": [
       "<div>\n",
       "<style scoped>\n",
       "    .dataframe tbody tr th:only-of-type {\n",
       "        vertical-align: middle;\n",
       "    }\n",
       "\n",
       "    .dataframe tbody tr th {\n",
       "        vertical-align: top;\n",
       "    }\n",
       "\n",
       "    .dataframe thead th {\n",
       "        text-align: right;\n",
       "    }\n",
       "</style>\n",
       "<table border=\"1\" class=\"dataframe\">\n",
       "  <thead>\n",
       "    <tr style=\"text-align: right;\">\n",
       "      <th>type</th>\n",
       "      <th>Movie</th>\n",
       "      <th>TV Show</th>\n",
       "    </tr>\n",
       "    <tr>\n",
       "      <th>rating</th>\n",
       "      <th></th>\n",
       "      <th></th>\n",
       "    </tr>\n",
       "  </thead>\n",
       "  <tbody>\n",
       "    <tr>\n",
       "      <th>G</th>\n",
       "      <td>41</td>\n",
       "      <td>0</td>\n",
       "    </tr>\n",
       "    <tr>\n",
       "      <th>PG</th>\n",
       "      <td>287</td>\n",
       "      <td>0</td>\n",
       "    </tr>\n",
       "    <tr>\n",
       "      <th>PG-13</th>\n",
       "      <td>490</td>\n",
       "      <td>0</td>\n",
       "    </tr>\n",
       "    <tr>\n",
       "      <th>R</th>\n",
       "      <td>800</td>\n",
       "      <td>2</td>\n",
       "    </tr>\n",
       "    <tr>\n",
       "      <th>TV-14</th>\n",
       "      <td>1427</td>\n",
       "      <td>706</td>\n",
       "    </tr>\n",
       "    <tr>\n",
       "      <th>TV-G</th>\n",
       "      <td>126</td>\n",
       "      <td>86</td>\n",
       "    </tr>\n",
       "    <tr>\n",
       "      <th>TV-MA</th>\n",
       "      <td>2062</td>\n",
       "      <td>1121</td>\n",
       "    </tr>\n",
       "    <tr>\n",
       "      <th>TV-PG</th>\n",
       "      <td>540</td>\n",
       "      <td>298</td>\n",
       "    </tr>\n",
       "    <tr>\n",
       "      <th>TV-Y</th>\n",
       "      <td>131</td>\n",
       "      <td>169</td>\n",
       "    </tr>\n",
       "    <tr>\n",
       "      <th>TV-Y7</th>\n",
       "      <td>144</td>\n",
       "      <td>191</td>\n",
       "    </tr>\n",
       "    <tr>\n",
       "      <th>Unrated</th>\n",
       "      <td>80</td>\n",
       "      <td>5</td>\n",
       "    </tr>\n",
       "  </tbody>\n",
       "</table>\n",
       "</div>"
      ],
      "text/plain": [
       "type     Movie  TV Show\n",
       "rating                 \n",
       "G           41        0\n",
       "PG         287        0\n",
       "PG-13      490        0\n",
       "R          800        2\n",
       "TV-14     1427      706\n",
       "TV-G       126       86\n",
       "TV-MA     2062     1121\n",
       "TV-PG      540      298\n",
       "TV-Y       131      169\n",
       "TV-Y7      144      191\n",
       "Unrated     80        5"
      ]
     },
     "execution_count": 61,
     "metadata": {},
     "output_type": "execute_result"
    }
   ],
   "source": [
    "# Creates a contingency table (Movie or TV Show).\n",
    "pd.crosstab(df['rating'], df['type'])"
   ]
  },
  {
   "cell_type": "code",
   "execution_count": 63,
   "id": "c63029e1-3f95-4ae9-8cbc-1d1596663ed8",
   "metadata": {},
   "outputs": [
    {
     "name": "stdout",
     "output_type": "stream",
     "text": [
      "['PG-13' 'TV-MA' 'PG' 'TV-14' 'TV-PG' 'TV-Y' 'TV-Y7' 'R' 'TV-G' 'G'\n",
      " 'Unrated']\n",
      "rating\n",
      "TV-MA      3183\n",
      "TV-14      2133\n",
      "TV-PG       838\n",
      "R           802\n",
      "PG-13       490\n",
      "TV-Y7       335\n",
      "TV-Y        300\n",
      "PG          287\n",
      "TV-G        212\n",
      "Unrated      85\n",
      "G            41\n",
      "Name: count, dtype: int64\n"
     ]
    }
   ],
   "source": [
    "# Strip whitespace to ensure clean matching\n",
    "df['rating'] = df['rating'].str.strip()\n",
    "\n",
    "# Apply the replacements because you never know\n",
    "df['rating'] = df['rating'].replace(rating_replacements)\n",
    "\n",
    "# Check again unique values\n",
    "print(df['rating'].unique())\n",
    "print(df['rating'].value_counts(dropna=False))"
   ]
  },
  {
   "cell_type": "code",
   "execution_count": 65,
   "id": "d433bc54-7cf9-4065-9725-60161b3c491d",
   "metadata": {},
   "outputs": [],
   "source": [
    "# Standardize 'duration_type' to lowercase for consistency\n",
    "df['duration_type'] = df['duration_type'].str.lower()"
   ]
  },
  {
   "cell_type": "code",
   "execution_count": 67,
   "id": "0dcfe27c-87f5-4e5c-ac15-fe595ea9cb5a",
   "metadata": {},
   "outputs": [
    {
     "name": "stdout",
     "output_type": "stream",
     "text": [
      "Average duration per type:\n",
      "  duration_type  duration_int\n",
      "0           min     99.577187\n",
      "1        season      1.688518\n"
     ]
    }
   ],
   "source": [
    "# Calculate the average duration by 'duration_type' (e.g., average movie length)\n",
    "avg_duration = df.groupby('duration_type')['duration_int'].mean().reset_index()\n",
    "print(\"Average duration per type:\")\n",
    "print(avg_duration)"
   ]
  },
  {
   "cell_type": "code",
   "execution_count": 69,
   "id": "8c638e0e-92a6-4d82-97d4-26a07175ca5f",
   "metadata": {},
   "outputs": [],
   "source": [
    "# Convert to string (if not already), then clean brackets and quotes\n",
    "df['genres'] = df['genres'].astype(str).str.replace(r\"[\\[\\]']\", '', regex=True).str.strip()\n",
    "# Keep only the first genre if multiple are listed\n",
    "df['genres'] = df['genres'].apply(lambda x: x.split(',')[0].strip())\n"
   ]
  },
  {
   "cell_type": "code",
   "execution_count": 71,
   "id": "3d6fbae6-44ea-4396-88ad-0fac6cd4a9e8",
   "metadata": {
    "scrolled": true
   },
   "outputs": [
    {
     "name": "stdout",
     "output_type": "stream",
     "text": [
      "['Documentary' 'International' 'Action/Thriller' 'Drama' 'Kids' 'Comedy'\n",
      " 'Horror' '\"Kids TV\"' 'Reality' 'Sci-Fi/Fantasy' 'TV Shows' 'Movies'\n",
      " 'Other']\n"
     ]
    }
   ],
   "source": [
    "# Explodes 'genres' and gets unique values\n",
    "unique_genres = df['genres'].explode().unique()\n",
    "print(unique_genres)"
   ]
  },
  {
   "cell_type": "code",
   "execution_count": 73,
   "id": "29c8f587-37ea-4668-a5bd-4e0ee5be3cde",
   "metadata": {},
   "outputs": [],
   "source": [
    "# Replacing genre labels with unified categories for consistency\n",
    "genre_replacements = {\n",
    "    # Drama group\n",
    "    'TV Dramas': 'Drama',\n",
    "    'Dramas': 'Drama',\n",
    "    'Romantic Movies': 'Drama',\n",
    "    'Romantic TV Shows': 'Drama',\n",
    "    'TV Mysteries': 'Drama',\n",
    "    'Classic Movies': 'Drama',\n",
    "    'Classic & Cult TV': 'Drama',\n",
    "\n",
    "    # Comedy group\n",
    "    'TV Comedies': 'Comedy',\n",
    "    'Comedies': 'Comedy',\n",
    "    'Stand-Up Comedy': 'Comedy',\n",
    "    'Stand-Up Comedy & Talk Shows': 'Comedy',\n",
    "\n",
    "    # Action & Thriller group\n",
    "    'Action & Adventure': 'Action/Thriller',\n",
    "    'TV Action & Adventure': 'Action/Thriller',\n",
    "    'Thrillers': 'Action/Thriller',\n",
    "    'TV Thrillers': 'Action/Thriller',\n",
    "    'Crime TV Shows': 'Action/Thriller',\n",
    "    'Crime': 'Action/Thriller',\n",
    "\n",
    "    # Documentary group\n",
    "    'Documentaries': 'Documentary',\n",
    "    'Docuseries': 'Documentary',\n",
    "\n",
    "    # International group\n",
    "    'International TV Shows': 'International',\n",
    "    'International Movies': 'International',\n",
    "    'British TV Shows': 'International',\n",
    "    'Spanish-Language TV Shows': 'International',\n",
    "\n",
    "    # Kids & Family group\n",
    "    'Children & Family Movies': 'Kids',\n",
    "    'Kids TV': 'Kids',\n",
    "\n",
    "    # Animation / Fantasy / Sci-Fi group\n",
    "    'TV Sci-Fi & Fantasy': 'Sci-Fi/Fantasy',\n",
    "    'Sci-Fi & Fantasy': 'Sci-Fi/Fantasy',\n",
    "    'Anime Features': 'Sci-Fi/Fantasy',\n",
    "    'Anime Series': 'Sci-Fi/Fantasy',\n",
    "    'Korean TV Shows': 'Sci-Fi/Fantasy',\n",
    "\n",
    "    # Horror group\n",
    "    'TV Horror': 'Horror',\n",
    "    'Horror Movies': 'Horror',\n",
    "\n",
    "    # Reality group (simplified)\n",
    "    'Reality TV': 'Reality',\n",
    "    'Talk Show and Variety': 'Reality',\n",
    "    'Talk Show': 'Reality',\n",
    "\n",
    "    # Other group (everything else)\n",
    "    'Music & Musicals': 'Other',\n",
    "    'Sports Movies': 'Other',\n",
    "    'Science & Nature TV': 'Other',\n",
    "    'Faith & Spirituality': 'Other',\n",
    "    'LGBTQ Movies': 'Other',\n",
    "    'Independent Movies': 'Other',\n",
    "    'Teen TV Shows': 'Other',\n",
    "    'Cult Movies': 'Other'\n",
    "}"
   ]
  },
  {
   "cell_type": "code",
   "execution_count": 75,
   "id": "92167cc4-6f2e-4fba-8e7c-adb9420f29df",
   "metadata": {},
   "outputs": [],
   "source": [
    "# Convert 'genres' column to string and replace genres based on the genre_replacements dictionary\n",
    "df['genres'] = df['genres'].astype(str)\n",
    "df['genres'] = df['genres'].replace(genre_replacements)\n",
    "df['genres'] = df['genres'].str.strip()"
   ]
  },
  {
   "cell_type": "code",
   "execution_count": 77,
   "id": "2cd26c06-a63b-4009-9adf-43f01cf429c1",
   "metadata": {},
   "outputs": [],
   "source": [
    "# Filter out invalid or missing genres, then split them into separate entries\n",
    "df = df[df['genres'].notna() & (df['genres'] != 'nan') & (df['genres'] != '')]\n",
    "df['genres'] = df['genres'].str.split(', ')"
   ]
  },
  {
   "cell_type": "code",
   "execution_count": 79,
   "id": "5860b2f2-6eb2-4202-92fa-782a3430101d",
   "metadata": {},
   "outputs": [],
   "source": [
    "# Explode the 'genres' column to create a new row for each genre per show\n",
    "df_exploded = df.explode('genres')\n",
    "df_exploded['genres'] = df_exploded['genres'].str.strip()\n",
    "df_exploded = df_exploded[df_exploded['genres'].notna() & (df_exploded['genres'] != 'nan') & (df_exploded['genres'] != '')]"
   ]
  },
  {
   "cell_type": "code",
   "execution_count": 81,
   "id": "d6ecb705-7ad4-4fbb-ba4c-0e117a63a728",
   "metadata": {},
   "outputs": [],
   "source": [
    "# Count the most common genres and store the result\n",
    "genre_counts = df_exploded['genres'].value_counts().reset_index()\n",
    "genre_counts.columns = ['genre', 'count']"
   ]
  },
  {
   "cell_type": "code",
   "execution_count": 83,
   "id": "b583fb9c-41c7-4e18-aec6-4b1fee56eb96",
   "metadata": {},
   "outputs": [
    {
     "name": "stdout",
     "output_type": "stream",
     "text": [
      "\n",
      "Most common genres after grouping:\n",
      "             genre  count\n",
      "0            Drama   1789\n",
      "1           Comedy   1689\n",
      "2  Action/Thriller   1352\n",
      "3    International   1126\n",
      "4      Documentary   1040\n",
      "5             Kids    605\n",
      "6        \"Kids TV\"    373\n",
      "7           Horror    286\n",
      "8   Sci-Fi/Fantasy    207\n",
      "9          Reality    117\n"
     ]
    }
   ],
   "source": [
    "print(\"\\nMost common genres after grouping:\")\n",
    "print(genre_counts.head(10))"
   ]
  },
  {
   "cell_type": "code",
   "execution_count": 85,
   "id": "50e37393-25f4-429a-9f4e-a89870c03117",
   "metadata": {},
   "outputs": [
    {
     "name": "stdout",
     "output_type": "stream",
     "text": [
      "Index(['show_id', 'type', 'title', 'release_year', 'rating', 'duration',\n",
      "       'listed_in', 'duration_int', 'duration_type', 'genres', 'platform'],\n",
      "      dtype='object')\n"
     ]
    }
   ],
   "source": [
    "print(df.columns)"
   ]
  },
  {
   "cell_type": "code",
   "execution_count": 87,
   "id": "186c0d03-814a-4049-80a8-cf40bd676f9d",
   "metadata": {},
   "outputs": [
    {
     "name": "stdout",
     "output_type": "stream",
     "text": [
      "\n",
      "🔹 Titles by release year:\n",
      "    release_year  count\n",
      "64          2012    229\n",
      "65          2013    282\n",
      "66          2014    343\n",
      "67          2015    548\n",
      "68          2016    878\n",
      "69          2017   1015\n",
      "70          2018   1140\n",
      "71          2019   1030\n",
      "72          2020    953\n",
      "73          2021    592\n"
     ]
    }
   ],
   "source": [
    "# Count number of titles by release year\n",
    "titles_per_year = df['release_year'].value_counts().sort_index().reset_index()\n",
    "titles_per_year.columns = ['release_year', 'count']\n",
    "print(\"\\n🔹 Titles by release year:\")\n",
    "print(titles_per_year.tail(10))  # Show most recent years"
   ]
  },
  {
   "cell_type": "code",
   "execution_count": 89,
   "id": "bb13d722-3085-4bd6-a485-239a14a77123",
   "metadata": {},
   "outputs": [
    {
     "name": "stdout",
     "output_type": "stream",
     "text": [
      "File updated successfully: 1745570234.942207\n"
     ]
    }
   ],
   "source": [
    "# Import os library to interact with the file system\n",
    "import os\n",
    "print(\"File updated successfully:\", os.path.getmtime('../data/clean/cleaned_netflix_data_with_platform.csv'))"
   ]
  },
  {
   "cell_type": "code",
   "execution_count": 91,
   "id": "05d715e5-0ab6-42ad-acb9-b39c72a81ccd",
   "metadata": {},
   "outputs": [],
   "source": [
    "#Export cleaned DataFrame to CSV for SQL import or future use\n",
    "df['platform'] = 'Netflix'\n",
    "df.to_csv('../data/clean/cleaned_netflix_data_with_platform.csv', index=False) #Save"
   ]
  },
  {
   "cell_type": "code",
   "execution_count": null,
   "id": "38c6c72b-f07a-4f67-9c70-c22ed9fc0785",
   "metadata": {},
   "outputs": [],
   "source": []
  },
  {
   "cell_type": "code",
   "execution_count": null,
   "id": "1c6b7fb0-a84f-45ce-92d8-2c767ec79346",
   "metadata": {},
   "outputs": [],
   "source": []
  },
  {
   "cell_type": "code",
   "execution_count": null,
   "id": "a23a4f12-d7c5-47cf-874b-abb3cc61963b",
   "metadata": {},
   "outputs": [],
   "source": []
  },
  {
   "cell_type": "code",
   "execution_count": null,
   "id": "79479d8b-4de3-40ea-9c57-d5904f9387a2",
   "metadata": {},
   "outputs": [],
   "source": []
  }
 ],
 "metadata": {
  "kernelspec": {
   "display_name": "Python 3 (ipykernel)",
   "language": "python",
   "name": "python3"
  },
  "language_info": {
   "codemirror_mode": {
    "name": "ipython",
    "version": 3
   },
   "file_extension": ".py",
   "mimetype": "text/x-python",
   "name": "python",
   "nbconvert_exporter": "python",
   "pygments_lexer": "ipython3",
   "version": "3.12.7"
  }
 },
 "nbformat": 4,
 "nbformat_minor": 5
}
