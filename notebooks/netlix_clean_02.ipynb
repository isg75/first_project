{
 "cells": [
  {
   "cell_type": "code",
   "execution_count": null,
   "id": "18369dea-635d-40de-b50d-cb46d150954d",
   "metadata": {},
   "outputs": [],
   "source": [
    "# Load YAML configuration file\n",
    "import yaml\n",
    "\n",
    "with open(\"../netflix_config.yaml\", \"r\") as file:\n",
    "    config = yaml.safe_load(file)\n",
    "\n",
    "# Load dataset with pandas\n",
    "import pandas as pd\n",
    "df = pd.read_csv(config['input_data']['file'])  # Load dataset based on YAML path\n",
    "df.head()  # Show the first 5 rows of the dataset"
   ]
  },
  {
   "cell_type": "code",
   "execution_count": null,
   "id": "abd8967c-6e41-4361-93a1-b07ea0d0b123",
   "metadata": {
    "scrolled": true
   },
   "outputs": [],
   "source": [
    "# Check the initial structure of the DataFrame\n",
    "print(df.columns)\n",
    "print(df.info())\n",
    "print(df.head())"
   ]
  },
  {
   "cell_type": "code",
   "execution_count": null,
   "id": "ffe24f5d-c36d-4012-bc4b-7a53233ceb70",
   "metadata": {},
   "outputs": [],
   "source": [
    "# Explore structure and metadata\n",
    "df.shape         # Check number of rows and columns\n",
    "df.columns       # List all column names\n",
    "df.info()        # Get data types and non-null counts per column"
   ]
  },
  {
   "cell_type": "code",
   "execution_count": null,
   "id": "72759670-afe6-4fd3-97c1-d49b1f329b55",
   "metadata": {},
   "outputs": [],
   "source": [
    "# Load original dataset from YAML\n",
    "original_df = pd.read_csv(config['input_data']['file'], usecols=['show_id'])\n",
    "\n",
    "# Reassign show_id into your working df\n",
    "df['show_id'] = original_df['show_id']"
   ]
  },
  {
   "cell_type": "code",
   "execution_count": null,
   "id": "afb6c700-ab80-44d0-ae40-e1aae4517f10",
   "metadata": {},
   "outputs": [],
   "source": [
    "# Drop unnecessary columns (corrected column names)\n",
    "columns_to_drop = [ 'director', 'cast', 'country', 'date_added', 'description']\n",
    "\n",
    "# Use drop safely with existing column names\n",
    "df = df.drop(columns=[col for col in columns_to_drop if col in df.columns])\n",
    "\n",
    "# Confirm columns after dropping\n",
    "print(\"\\nColumns after dropping unnecessary ones:\")\n",
    "print(df.columns)\n"
   ]
  },
  {
   "cell_type": "code",
   "execution_count": null,
   "id": "7301adb3-d58e-457a-9edf-abc12746a7fb",
   "metadata": {},
   "outputs": [],
   "source": [
    "# Check missing values in descending order\n",
    "df.isnull().sum().sort_values(ascending=False)"
   ]
  },
  {
   "cell_type": "code",
   "execution_count": null,
   "id": "bf42c07a-5d0b-4718-b91d-365ecae7cc25",
   "metadata": {},
   "outputs": [],
   "source": [
    "# Number of unique values per column\n",
    "df.nunique().sort_values()\n",
    "\n",
    "# Distribution of key categorical columns\n",
    "df['type'].value_counts(normalize=True)  # Distribution of 'Movie' vs 'TV Show'\n",
    "df['rating'].value_counts().head(10)     # Most common ratings"
   ]
  },
  {
   "cell_type": "code",
   "execution_count": null,
   "id": "cbf79246-6a10-44d5-a114-8435b949d91e",
   "metadata": {},
   "outputs": [],
   "source": [
    "# View a sample of the genres column\n",
    "df['listed_in'].sample(10)"
   ]
  },
  {
   "cell_type": "code",
   "execution_count": null,
   "id": "c15a6015-f37c-4de3-84a8-05618f0319fd",
   "metadata": {},
   "outputs": [],
   "source": [
    "# First, ensure the 'genres' column is string type\n",
    "df['genres'] = df['genres'].astype(str)\n",
    "\n",
    "# Clean the brackets and quotes from the string\n",
    "df['genres'] = df['genres'].str.replace(\"[\", \"\").str.replace(\"]\", \"\").str.replace(\"'\", \"\").str.strip()\n",
    "\n",
    "# Split by comma and select only the first genre\n",
    "df['genres'] = df['genres'].apply(lambda x: x.split(\",\")[0].strip())\n"
   ]
  },
  {
   "cell_type": "code",
   "execution_count": null,
   "id": "8f86da1e-47b2-4df1-b39f-0ce970ce1582",
   "metadata": {},
   "outputs": [],
   "source": [
    "print(df[['title', 'genres']].sample(10))\n",
    "print(df[df['genres'].str.contains(r\"[\\[\\]']\")])\n",
    "\n"
   ]
  },
  {
   "cell_type": "code",
   "execution_count": null,
   "id": "c076d07f-f4bd-4169-a296-6cafe76f2e8e",
   "metadata": {},
   "outputs": [],
   "source": [
    "df.columns = df.columns.str.strip()  # Remove leading/trailing spaces in column names\n"
   ]
  },
  {
   "cell_type": "code",
   "execution_count": null,
   "id": "f1d3dbf9-c536-4ea5-8ec5-dad86748ceaa",
   "metadata": {},
   "outputs": [],
   "source": [
    "# Split 'duration' column into duration value and type (e.g., \"90 min\" → 90 + 'min')\n",
    "df[['duration_int', 'duration_type']] = df['duration'].str.extract(r'(\\d+)\\s*(\\w+)')\n",
    "df['duration_int'] = pd.to_numeric(df['duration_int'], errors='coerce')  # Convert to numeric\n",
    "df[['duration', 'duration_int', 'duration_type']].head()  # Preview new columns"
   ]
  },
  {
   "cell_type": "code",
   "execution_count": null,
   "id": "38fa55cf-54d4-4c25-b844-d8d092bd4f8b",
   "metadata": {},
   "outputs": [],
   "source": [
    "# Frequency of duration types (e.g., 'min', 'Season')\n",
    "df['duration_type'].value_counts() # Check types of duration (minutes or seasons)\n",
    "\n",
    "# Standardize plural form to singular ('Seasons' → 'Season')\n",
    "df['duration_type'] = df['duration_type'].replace('Seasons', 'Season') # Normalize to singular\n",
    "df['duration_type'].value_counts()  # Confirm correction"
   ]
  },
  {
   "cell_type": "code",
   "execution_count": null,
   "id": "177ff205-c6fa-415b-adba-9c56fb54a5f3",
   "metadata": {},
   "outputs": [],
   "source": [
    "# Check for missing values in 'duration_int'\n",
    "df['duration_int'].isnull().sum()  # Check how many null durations remain\n",
    "# Keep only rows where 'duration_int' is not null\n",
    "df = df[df['duration_int'].notna()]  # Filter out rows without valid duration\n",
    "# Inspect rows where duration was missing\n",
    "df[df['duration_int'].isna()][['duration']]\n"
   ]
  },
  {
   "cell_type": "code",
   "execution_count": null,
   "id": "5b3c4802-c72c-4e13-9941-5649f9428596",
   "metadata": {},
   "outputs": [],
   "source": [
    "# Remove duplicated rows based on 'show_id' and 'title', and 'release_year'\n",
    "df = df.drop_duplicates(subset=['show_id', 'title', 'release_year'])  # Remove duplicates\n",
    "print(\"Number of rows after removing duplicates:\", df.shape[0])  # Check number of rows after deduplication"
   ]
  },
  {
   "cell_type": "code",
   "execution_count": null,
   "id": "161d1387-7808-4989-8775-3556d12a8448",
   "metadata": {},
   "outputs": [],
   "source": [
    "# Confirm that duplicates are removed\n",
    "duplicates = df.duplicated(subset=['show_id', 'title', 'release_year']).sum()  # Count remaining duplicates\n",
    "print(\"Remaining duplicates:\", duplicates) "
   ]
  },
  {
   "cell_type": "code",
   "execution_count": null,
   "id": "247b4264-ff75-4c16-8ec0-0385cd08e9bd",
   "metadata": {},
   "outputs": [],
   "source": [
    "# Check missing values again per column (after cleaning)\n",
    "df.isnull().sum().sort_values(ascending=False)"
   ]
  },
  {
   "cell_type": "code",
   "execution_count": null,
   "id": "3a421502-6259-4e12-b363-920115fab246",
   "metadata": {},
   "outputs": [],
   "source": [
    "# Fill missing values with appropriate defaults\n",
    "# Replace missing 'rating' with \"Not Rated\"\n",
    "df['rating'] = df['rating'].fillna(\"Not Rated\")"
   ]
  },
  {
   "cell_type": "code",
   "execution_count": null,
   "id": "37cc1394-0caf-4245-b93b-624702c2bba9",
   "metadata": {},
   "outputs": [],
   "source": [
    "# Confirm again that no missing values remain after filling\n",
    "df.isnull().sum().sort_values(ascending=False)"
   ]
  },
  {
   "cell_type": "code",
   "execution_count": null,
   "id": "ce6f5d8f-56ab-4320-aa8f-f1ce86737329",
   "metadata": {},
   "outputs": [],
   "source": [
    "# Quick check of distributions on key columns\n",
    "print(df['duration_type'].value_counts())  # Check distribution of 'duration_type'\n",
    "print(df['type'].value_counts())           # Check distribution of 'type'\n",
    "print(df['rating'].value_counts())         # Check distribution of 'rating'\n"
   ]
  },
  {
   "cell_type": "code",
   "execution_count": null,
   "id": "6fa80e90-8d3a-4562-9f13-f739b2db95e0",
   "metadata": {},
   "outputs": [],
   "source": [
    "# Check unique ratings before applying any replacements\n",
    "print(\"\\nUnique ratings in the original data:\")\n",
    "print(df['rating'].unique())\n",
    "\n",
    "# Count how many times each rating appears\n",
    "print(\"\\nRating value counts:\")\n",
    "print(df['rating'].value_counts(dropna=False))\n"
   ]
  },
  {
   "cell_type": "code",
   "execution_count": null,
   "id": "bfb8374a-8b5f-465a-a670-56193a6ccb6a",
   "metadata": {},
   "outputs": [],
   "source": [
    "# Define the replacements dictionary\n",
    "rating_replacements = {\n",
    "    # Movie ratings\n",
    "    '13+': 'PG-13',\n",
    "    '16': 'R',\n",
    "    '16+': 'R',\n",
    "    '18+': 'R',\n",
    "    '7+': 'G',                      # Assumed G for movies\n",
    "    'AGES_16_': 'R',\n",
    "    'AGES_18_': 'R',\n",
    "    'ALL': 'G',\n",
    "    'ALL_AGES': 'G',\n",
    "    'G': 'G',\n",
    "    'NC-17': 'R',                   # Group NC-17 into R\n",
    "    'NOT_RATE': 'Unrated',\n",
    "    'NR': 'Unrated',\n",
    "    'Not Rated': 'Unrated',\n",
    "    'PG': 'PG',\n",
    "    'PG-13': 'PG-13',\n",
    "    'R': 'R',\n",
    "\n",
    "    # TV Show ratings\n",
    "    'TV-14': 'TV-14',\n",
    "    'TV-G': 'TV-G',\n",
    "    'TV-MA': 'TV-MA',\n",
    "    'TV-NR': 'Unrated',\n",
    "    'TV-PG': 'TV-PG',\n",
    "    'TV-Y': 'TV-Y',\n",
    "    'TV-Y7': 'TV-Y7',\n",
    "    'UNRATED': 'Unrated'\n",
    "}"
   ]
  },
  {
   "cell_type": "code",
   "execution_count": null,
   "id": "93d87953-788c-4e08-91d4-74474ce175dc",
   "metadata": {},
   "outputs": [],
   "source": [
    "def map_rating(row):\n",
    "    if row['type'] == 'Movie':  # Si es una película\n",
    "        replacements = {\n",
    "            '13+': 'PG-13',\n",
    "            '16+': 'R',\n",
    "            '16+': 'R',\n",
    "            '16+': 'R',\n",
    "            '18+': 'R',\n",
    "            '7+': 'G',\n",
    "            'AGES_16+': 'R',\n",
    "            'AGES_18+': 'R',\n",
    "            'ALL': 'G',\n",
    "            'ALL_AGES': 'G',\n",
    "            'G': 'G',\n",
    "            'NC-17': 'R',\n",
    "            'NOT_RATE': 'Unrated',\n",
    "            'NR': 'Unrated',\n",
    "            'Not Rated': 'Unrated',\n",
    "            'PG': 'PG',\n",
    "            'PG-13': 'PG-13',\n",
    "            'R': 'R'\n",
    "        }\n",
    "    else:  # Si es una serie de TV\n",
    "        replacements = {\n",
    "            'TV-14': 'TV-14',\n",
    "            'TV-G': 'TV-G',\n",
    "            'TV-MA': 'TV-MA',\n",
    "            'TV-NR': 'Unrated',\n",
    "            'TV-PG': 'TV-PG',\n",
    "            'TV-Y': 'TV-Y',\n",
    "            'TV-Y7': 'TV-Y7',\n",
    "            'UNRATED': 'Unrated'\n",
    "        }\n",
    "    return replacements.get(row['rating'], row['rating'])  # Keep original if not found\n",
    "\n",
    "# Apply the mapping\n",
    "df['rating'] = df.apply(map_rating, axis=1)"
   ]
  },
  {
   "cell_type": "code",
   "execution_count": null,
   "id": "873c26a4-a84c-40b1-a1ee-839a8e7a454a",
   "metadata": {},
   "outputs": [],
   "source": [
    "# Check the unique values after replacements\n",
    "print(\"\\nUnique ratings after mapping:\")\n",
    "print(df['rating'].unique())\n",
    "\n",
    "# Optional: Count how many times each rating appears\n",
    "print(\"\\nRating value counts after mapping:\")\n",
    "print(df['rating'].value_counts(dropna=False))"
   ]
  },
  {
   "cell_type": "code",
   "execution_count": null,
   "id": "f2e7a498-4374-447d-9084-c2f734dc7b09",
   "metadata": {},
   "outputs": [],
   "source": [
    "pd.crosstab(df['rating'], df['type'])"
   ]
  },
  {
   "cell_type": "code",
   "execution_count": null,
   "id": "c63029e1-3f95-4ae9-8cbc-1d1596663ed8",
   "metadata": {},
   "outputs": [],
   "source": [
    "# Strip whitespace to ensure clean matching\n",
    "df['rating'] = df['rating'].str.strip()\n",
    "\n",
    "# Apply the replacements because you never know\n",
    "df['rating'] = df['rating'].replace(rating_replacements)\n",
    "\n",
    "# Check again unique values\n",
    "print(df['rating'].unique())\n",
    "print(df['rating'].value_counts(dropna=False))"
   ]
  },
  {
   "cell_type": "code",
   "execution_count": null,
   "id": "d433bc54-7cf9-4065-9725-60161b3c491d",
   "metadata": {},
   "outputs": [],
   "source": [
    "# Standardize 'duration_type' to lowercase for consistency\n",
    "df['duration_type'] = df['duration_type'].str.lower()"
   ]
  },
  {
   "cell_type": "code",
   "execution_count": null,
   "id": "0dcfe27c-87f5-4e5c-ac15-fe595ea9cb5a",
   "metadata": {},
   "outputs": [],
   "source": [
    "# Calculate the average duration by 'duration_type' (e.g., average movie length)\n",
    "avg_duration = df.groupby('duration_type')['duration_int'].mean().reset_index()\n",
    "print(\"Average duration per type:\")\n",
    "print(avg_duration)"
   ]
  },
  {
   "cell_type": "code",
   "execution_count": null,
   "id": "8c638e0e-92a6-4d82-97d4-26a07175ca5f",
   "metadata": {},
   "outputs": [],
   "source": [
    "# Convert to string (if not already), then clean brackets and quotes\n",
    "df['genres'] = df['genres'].astype(str).str.replace(r\"[\\[\\]']\", '', regex=True).str.strip()\n",
    "# Keep only the first genre if multiple are listed\n",
    "df['genres'] = df['genres'].apply(lambda x: x.split(',')[0].strip())\n"
   ]
  },
  {
   "cell_type": "code",
   "execution_count": null,
   "id": "3d6fbae6-44ea-4396-88ad-0fac6cd4a9e8",
   "metadata": {
    "scrolled": true
   },
   "outputs": [],
   "source": [
    "unique_genres = df['genres'].explode().unique()\n",
    "print(unique_genres)"
   ]
  },
  {
   "cell_type": "code",
   "execution_count": null,
   "id": "29c8f587-37ea-4668-a5bd-4e0ee5be3cde",
   "metadata": {},
   "outputs": [],
   "source": [
    "genre_replacements = {\n",
    "    # Drama group\n",
    "    'TV Dramas': 'Drama',\n",
    "    'Dramas': 'Drama',\n",
    "    'Romantic Movies': 'Drama',\n",
    "    'Romantic TV Shows': 'Drama',\n",
    "    'TV Mysteries': 'Drama',\n",
    "    'Classic Movies': 'Drama',\n",
    "    'Classic & Cult TV': 'Drama',\n",
    "\n",
    "    # Comedy group\n",
    "    'TV Comedies': 'Comedy',\n",
    "    'Comedies': 'Comedy',\n",
    "    'Stand-Up Comedy': 'Comedy',\n",
    "    'Stand-Up Comedy & Talk Shows': 'Comedy',\n",
    "\n",
    "    # Action & Thriller group\n",
    "    'Action & Adventure': 'Action/Thriller',\n",
    "    'TV Action & Adventure': 'Action/Thriller',\n",
    "    'Thrillers': 'Action/Thriller',\n",
    "    'TV Thrillers': 'Action/Thriller',\n",
    "    'Crime TV Shows': 'Action/Thriller',\n",
    "    'Crime': 'Action/Thriller',\n",
    "\n",
    "    # Documentary group\n",
    "    'Documentaries': 'Documentary',\n",
    "    'Docuseries': 'Documentary',\n",
    "\n",
    "    # International group\n",
    "    'International TV Shows': 'International',\n",
    "    'International Movies': 'International',\n",
    "    'British TV Shows': 'International',\n",
    "    'Spanish-Language TV Shows': 'International',\n",
    "\n",
    "    # Kids & Family group\n",
    "    'Children & Family Movies': 'Kids',\n",
    "    'Kids TV': 'Kids',\n",
    "\n",
    "    # Animation / Fantasy / Sci-Fi group\n",
    "    'TV Sci-Fi & Fantasy': 'Sci-Fi/Fantasy',\n",
    "    'Sci-Fi & Fantasy': 'Sci-Fi/Fantasy',\n",
    "    'Anime Features': 'Sci-Fi/Fantasy',\n",
    "    'Anime Series': 'Sci-Fi/Fantasy',\n",
    "    'Korean TV Shows': 'Sci-Fi/Fantasy',\n",
    "\n",
    "    # Horror group\n",
    "    'TV Horror': 'Horror',\n",
    "    'Horror Movies': 'Horror',\n",
    "\n",
    "    # Reality group (simplified)\n",
    "    'Reality TV': 'Reality',\n",
    "    'Talk Show and Variety': 'Reality',\n",
    "    'Talk Show': 'Reality',\n",
    "\n",
    "    # Other group (everything else)\n",
    "    'Music & Musicals': 'Other',\n",
    "    'Sports Movies': 'Other',\n",
    "    'Science & Nature TV': 'Other',\n",
    "    'Faith & Spirituality': 'Other',\n",
    "    'LGBTQ Movies': 'Other',\n",
    "    'Independent Movies': 'Other',\n",
    "    'Teen TV Shows': 'Other',\n",
    "    'Cult Movies': 'Other'\n",
    "}\n"
   ]
  },
  {
   "cell_type": "code",
   "execution_count": null,
   "id": "92167cc4-6f2e-4fba-8e7c-adb9420f29df",
   "metadata": {},
   "outputs": [],
   "source": [
    "df['genres'] = df['genres'].astype(str)\n",
    "df['genres'] = df['genres'].replace(genre_replacements)\n",
    "df['genres'] = df['genres'].str.strip()\n"
   ]
  },
  {
   "cell_type": "code",
   "execution_count": null,
   "id": "2cd26c06-a63b-4009-9adf-43f01cf429c1",
   "metadata": {},
   "outputs": [],
   "source": [
    "df = df[df['genres'].notna() & (df['genres'] != 'nan') & (df['genres'] != '')]\n",
    "df['genres'] = df['genres'].str.split(', ')"
   ]
  },
  {
   "cell_type": "code",
   "execution_count": null,
   "id": "5860b2f2-6eb2-4202-92fa-782a3430101d",
   "metadata": {},
   "outputs": [],
   "source": [
    "df_exploded = df.explode('genres')\n",
    "df_exploded['genres'] = df_exploded['genres'].str.strip()\n",
    "df_exploded = df_exploded[df_exploded['genres'].notna() & (df_exploded['genres'] != 'nan') & (df_exploded['genres'] != '')]\n"
   ]
  },
  {
   "cell_type": "code",
   "execution_count": null,
   "id": "d6ecb705-7ad4-4fbb-ba4c-0e117a63a728",
   "metadata": {},
   "outputs": [],
   "source": [
    "genre_counts = df_exploded['genres'].value_counts().reset_index()\n",
    "genre_counts.columns = ['genre', 'count']"
   ]
  },
  {
   "cell_type": "code",
   "execution_count": null,
   "id": "b583fb9c-41c7-4e18-aec6-4b1fee56eb96",
   "metadata": {},
   "outputs": [],
   "source": [
    "print(\"\\nMost common genres after grouping:\")\n",
    "print(genre_counts.head(10))"
   ]
  },
  {
   "cell_type": "code",
   "execution_count": null,
   "id": "50e37393-25f4-429a-9f4e-a89870c03117",
   "metadata": {},
   "outputs": [],
   "source": [
    "print(df.columns)\n"
   ]
  },
  {
   "cell_type": "code",
   "execution_count": null,
   "id": "186c0d03-814a-4049-80a8-cf40bd676f9d",
   "metadata": {},
   "outputs": [],
   "source": [
    "# Count number of titles by release year\n",
    "titles_per_year = df['release_year'].value_counts().sort_index().reset_index()\n",
    "titles_per_year.columns = ['release_year', 'count']\n",
    "print(\"\\n🔹 Titles by release year:\")\n",
    "print(titles_per_year.tail(10))  # Show most recent years"
   ]
  },
  {
   "cell_type": "code",
   "execution_count": null,
   "id": "bb13d722-3085-4bd6-a485-239a14a77123",
   "metadata": {},
   "outputs": [],
   "source": [
    "import os\n",
    "print(\"File updated successfully:\", os.path.getmtime('../data/clean/cleaned_netflix_data_with_platform.csv'))\n"
   ]
  },
  {
   "cell_type": "code",
   "execution_count": null,
   "id": "05d715e5-0ab6-42ad-acb9-b39c72a81ccd",
   "metadata": {},
   "outputs": [],
   "source": [
    "#Export cleaned DataFrame to CSV for SQL import or future use\n",
    "df['platform'] = 'Netflix'\n",
    "df.to_csv('../data/clean/cleaned_netflix_data_with_platform.csv', index=False) #Save\n"
   ]
  },
  {
   "cell_type": "code",
   "execution_count": null,
   "id": "38c6c72b-f07a-4f67-9c70-c22ed9fc0785",
   "metadata": {},
   "outputs": [],
   "source": []
  },
  {
   "cell_type": "code",
   "execution_count": null,
   "id": "1c6b7fb0-a84f-45ce-92d8-2c767ec79346",
   "metadata": {},
   "outputs": [],
   "source": []
  },
  {
   "cell_type": "code",
   "execution_count": null,
   "id": "a23a4f12-d7c5-47cf-874b-abb3cc61963b",
   "metadata": {},
   "outputs": [],
   "source": []
  },
  {
   "cell_type": "code",
   "execution_count": null,
   "id": "79479d8b-4de3-40ea-9c57-d5904f9387a2",
   "metadata": {},
   "outputs": [],
   "source": []
  }
 ],
 "metadata": {
  "kernelspec": {
   "display_name": "Python 3 (ipykernel)",
   "language": "python",
   "name": "python3"
  },
  "language_info": {
   "codemirror_mode": {
    "name": "ipython",
    "version": 3
   },
   "file_extension": ".py",
   "mimetype": "text/x-python",
   "name": "python",
   "nbconvert_exporter": "python",
   "pygments_lexer": "ipython3",
   "version": "3.12.7"
  }
 },
 "nbformat": 4,
 "nbformat_minor": 5
}
