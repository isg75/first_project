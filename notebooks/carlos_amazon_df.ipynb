{
 "cells": [
  {
   "cell_type": "code",
   "execution_count": null,
   "id": "734dc796-01e0-49b3-9958-952de19abce2",
   "metadata": {},
   "outputs": [],
   "source": [
    "import pandas as pd\n",
    "\n",
    "df = pd.read_csv(\"../data/raw/amazon_sales_data 2025.csv\")\n",
    "df"
   ]
  },
  {
   "cell_type": "code",
   "execution_count": null,
   "id": "a056af4c-9d92-44cb-8315-3e45dc79b379",
   "metadata": {},
   "outputs": [],
   "source": [
    "#Checking for columns of interest\n",
    "list(df.columns)"
   ]
  },
  {
   "cell_type": "code",
   "execution_count": null,
   "id": "92fe47d9-695c-4d23-8b3b-ee8091df984d",
   "metadata": {},
   "outputs": [],
   "source": [
    "#Finding unique values\n",
    "df.Product.unique()"
   ]
  },
  {
   "cell_type": "code",
   "execution_count": null,
   "id": "01c4f16b-c678-4215-9a50-589fa8396742",
   "metadata": {},
   "outputs": [],
   "source": [
    "df.Category.unique()"
   ]
  },
  {
   "cell_type": "code",
   "execution_count": null,
   "id": "3a1e73e5-021d-47ab-8908-e761f107e4a1",
   "metadata": {},
   "outputs": [],
   "source": [
    "df['Customer Location'].unique()"
   ]
  },
  {
   "cell_type": "code",
   "execution_count": null,
   "id": "037ef7fc-4a74-4b6c-a4f7-c239e0ac1de5",
   "metadata": {},
   "outputs": [],
   "source": [
    "df['Payment Method'].unique()"
   ]
  },
  {
   "cell_type": "code",
   "execution_count": null,
   "id": "1ca52ead-c61d-4d66-a353-da1016766260",
   "metadata": {},
   "outputs": [],
   "source": [
    "df.Status.unique()"
   ]
  },
  {
   "cell_type": "code",
   "execution_count": null,
   "id": "65a1453a-6a8b-43ff-a744-e19be18ab6ce",
   "metadata": {},
   "outputs": [],
   "source": [
    "#Ranking the top values and its counts\n",
    "df['Product'].str.split(',').explode().value_counts().nlargest(5).to_dict()"
   ]
  },
  {
   "cell_type": "code",
   "execution_count": null,
   "id": "485f66b4-3865-48d3-943d-2fa96a51c8f6",
   "metadata": {},
   "outputs": [],
   "source": [
    "df['Category'].str.split(',').explode().value_counts().nlargest(5).to_dict()"
   ]
  },
  {
   "cell_type": "code",
   "execution_count": null,
   "id": "8aed3b94-5090-4f59-a626-992054e2f0a7",
   "metadata": {},
   "outputs": [],
   "source": [
    "df['Customer Location'].str.split(',').explode().value_counts().nlargest(5).to_dict()"
   ]
  },
  {
   "cell_type": "code",
   "execution_count": null,
   "id": "5ce6f3d4-19dd-4df6-9130-16e8c80d643e",
   "metadata": {},
   "outputs": [],
   "source": [
    "df['Payment Method'].str.split(',').explode().value_counts().nlargest(5).to_dict()"
   ]
  },
  {
   "cell_type": "code",
   "execution_count": null,
   "id": "e59dd8f7-3c39-41e4-bc3a-ff59d0d7452d",
   "metadata": {},
   "outputs": [],
   "source": [
    "df['Status'].str.split(',').explode().value_counts().nlargest(3).to_dict()"
   ]
  },
  {
   "cell_type": "code",
   "execution_count": null,
   "id": "36dd9daa-442c-40bb-b073-bc68edf3050b",
   "metadata": {},
   "outputs": [],
   "source": [
    "#Calculating the total sales sum in all categories\n",
    "total_sales_sum = df['Total Sales'].sum()\n",
    "print(total_sales_sum)"
   ]
  },
  {
   "cell_type": "code",
   "execution_count": null,
   "id": "552f8135-7db8-4779-bdc0-7766c3b7025e",
   "metadata": {},
   "outputs": [],
   "source": [
    "#Calculating the total sales sum of completed orders only\n",
    "status_filter = 'Completed'\n",
    "total_sales_completed = df.loc[df['Status'] == status_filter, 'Total Sales'].sum()\n",
    "\n",
    "print(total_sales_completed)"
   ]
  },
  {
   "cell_type": "code",
   "execution_count": null,
   "id": "94b4dbde-6429-4e4c-b3df-5772f423afa0",
   "metadata": {},
   "outputs": [],
   "source": [
    "status_filter = 'Cancelled'\n",
    "total_sales_cancelled = df.loc[df['Status'] == status_filter, 'Total Sales'].sum()\n",
    "\n",
    "print(total_sales_cancelled)"
   ]
  },
  {
   "cell_type": "code",
   "execution_count": null,
   "id": "d32f09dd-441a-4e5d-9c0d-21e36d5357b2",
   "metadata": {},
   "outputs": [],
   "source": [
    "#Calcuate the total sum of quantity of products sold\n",
    "total_qty = df['Quantity'].sum()\n",
    "print(total_qty)"
   ]
  },
  {
   "cell_type": "code",
   "execution_count": null,
   "id": "8b01ae24-3ba0-422f-8bf4-2e9b97d89130",
   "metadata": {},
   "outputs": [],
   "source": [
    "#Getting stats about the df\n",
    "df.describe()"
   ]
  },
  {
   "cell_type": "code",
   "execution_count": null,
   "id": "1ff525ac-bbe8-42c6-9440-58e571fef3cb",
   "metadata": {},
   "outputs": [],
   "source": [
    "import pandas as pd\n",
    "import matplotlib.pyplot as plt\n",
    "import seaborn as sns"
   ]
  },
  {
   "cell_type": "code",
   "execution_count": null,
   "id": "f8b4c70b-4f4a-4e2d-955a-580a6d69b0a3",
   "metadata": {},
   "outputs": [],
   "source": [
    "#Creating barplots for interesting data\n",
    "top_products = df['Product'].value_counts().head(5)\n",
    "\n",
    "plt.figure(figsize=(10, 6))\n",
    "sns.barplot(x=top_products.index, y=top_products.values)\n",
    "plt.title('Top 5 Products')\n",
    "plt.xlabel('Product')\n",
    "plt.ylabel('Count')\n",
    "plt.xticks(rotation=45)\n",
    "plt.show()"
   ]
  },
  {
   "cell_type": "code",
   "execution_count": null,
   "id": "74c62d43-ddc1-4634-aa67-040fcf53d23e",
   "metadata": {},
   "outputs": [],
   "source": [
    "top_categories = df['Category'].value_counts().head(5)\n",
    "\n",
    "plt.figure(figsize=(10, 6))\n",
    "sns.barplot(x=top_categories.index, y=top_categories.values)\n",
    "plt.title('Top 5 Categories')\n",
    "plt.xlabel('Category')\n",
    "plt.ylabel('Count')\n",
    "plt.xticks(rotation=45)\n",
    "plt.show()"
   ]
  },
  {
   "cell_type": "code",
   "execution_count": null,
   "id": "eee387a1-b791-4891-b782-9f37f5de398a",
   "metadata": {},
   "outputs": [],
   "source": [
    "top_locations = df['Customer Location'].value_counts().head(5)\n",
    "\n",
    "plt.figure(figsize=(10, 6))\n",
    "sns.barplot(x=top_locations.index, y=top_locations.values)\n",
    "plt.title('Top 5 Locations')\n",
    "plt.xlabel('Location')\n",
    "plt.ylabel('Count')\n",
    "plt.xticks(rotation=45)\n",
    "plt.show()"
   ]
  },
  {
   "cell_type": "code",
   "execution_count": null,
   "id": "ac24c2d7-104c-4cb4-9fd8-3d812c43bba5",
   "metadata": {},
   "outputs": [],
   "source": []
  }
 ],
 "metadata": {
  "kernelspec": {
   "display_name": "venv",
   "language": "python",
   "name": "venv"
  },
  "language_info": {
   "codemirror_mode": {
    "name": "ipython",
    "version": 3
   },
   "file_extension": ".py",
   "mimetype": "text/x-python",
   "name": "python",
   "nbconvert_exporter": "python",
   "pygments_lexer": "ipython3",
   "version": "3.12.7"
  }
 },
 "nbformat": 4,
 "nbformat_minor": 5
}
