{
 "cells": [
  {
   "cell_type": "code",
   "execution_count": null,
   "id": "dde68837-6f5f-40a5-abeb-c350ed808636",
   "metadata": {},
   "outputs": [],
   "source": [
    "import pandas as pd \n",
    "df= pd.read_csv('../data/raw/amazon_sales_data 2025.csv')"
   ]
  },
  {
   "cell_type": "code",
   "execution_count": null,
   "id": "3f6a3fec",
   "metadata": {},
   "outputs": [],
   "source": [
    "list(df.columns)"
   ]
  },
  {
   "cell_type": "code",
   "execution_count": null,
   "id": "14ce6715",
   "metadata": {},
   "outputs": [],
   "source": [
    "df.Product.unique()"
   ]
  },
  {
   "cell_type": "code",
   "execution_count": null,
   "id": "c2764f11",
   "metadata": {},
   "outputs": [],
   "source": []
  },
  {
   "cell_type": "code",
   "execution_count": null,
   "id": "ba85ab13",
   "metadata": {},
   "outputs": [],
   "source": [
    "df.Category.unique()"
   ]
  },
  {
   "cell_type": "code",
   "execution_count": null,
   "id": "a56ed365",
   "metadata": {},
   "outputs": [],
   "source": [
    "df.Status.unique()"
   ]
  },
  {
   "cell_type": "code",
   "execution_count": null,
   "id": "f4419b74",
   "metadata": {},
   "outputs": [],
   "source": [
    "df.Date.unique"
   ]
  },
  {
   "cell_type": "code",
   "execution_count": null,
   "id": "12ccbd84",
   "metadata": {},
   "outputs": [],
   "source": [
    "df['Payment Method'].unique\n"
   ]
  },
  {
   "cell_type": "code",
   "execution_count": null,
   "id": "81dd8a96",
   "metadata": {},
   "outputs": [],
   "source": [
    "df['Customer Location'].unique"
   ]
  },
  {
   "cell_type": "code",
   "execution_count": null,
   "id": "3e469d8d",
   "metadata": {},
   "outputs": [],
   "source": [
    "total_sales_sum= df['Total Sales'].sum()\n",
    "print(total_sales_sum)"
   ]
  },
  {
   "cell_type": "code",
   "execution_count": null,
   "id": "9ae8e43d",
   "metadata": {},
   "outputs": [],
   "source": [
    "df [\"Date\"] = pd.to_datetime(df [\"Date\"],format=\"%d-%m-%y\")"
   ]
  },
  {
   "cell_type": "code",
   "execution_count": null,
   "id": "cd3ef7a3",
   "metadata": {},
   "outputs": [],
   "source": [
    "df.drop_duplicates(inplace=True)"
   ]
  },
  {
   "cell_type": "code",
   "execution_count": null,
   "id": "f839efc0",
   "metadata": {},
   "outputs": [],
   "source": [
    "df.head"
   ]
  },
  {
   "cell_type": "code",
   "execution_count": null,
   "id": "85afee1a",
   "metadata": {},
   "outputs": [],
   "source": [
    "import pandas as pd\n",
    "import matplotlib.pyplot as plt\n",
    "import seaborn as sns"
   ]
  }
 ],
 "metadata": {
  "kernelspec": {
   "display_name": "Python 3 (ipykernel)",
   "language": "python",
   "name": "python3"
  },
  "language_info": {
   "codemirror_mode": {
    "name": "ipython",
    "version": 3
   },
   "file_extension": ".py",
   "mimetype": "text/x-python",
   "name": "python",
   "nbconvert_exporter": "python",
   "pygments_lexer": "ipython3",
   "version": "3.12.7"
  }
 },
 "nbformat": 4,
 "nbformat_minor": 5
}
