{
 "cells": [
  {
   "cell_type": "code",
   "execution_count": null,
   "id": "79746aa9-25d3-418b-a2e9-9e3b91fe98ac",
   "metadata": {},
   "outputs": [],
   "source": [
    "import os\n",
    "import pandas as pd"
   ]
  },
  {
   "cell_type": "code",
   "execution_count": null,
   "id": "f118388f-602e-48f1-89bd-cff435888c2f",
   "metadata": {},
   "outputs": [],
   "source": [
    "folder_path = r'../data/raw'"
   ]
  },
  {
   "cell_type": "code",
   "execution_count": null,
   "id": "79d266a8-9574-496a-864a-e5cccdf83c48",
   "metadata": {},
   "outputs": [],
   "source": [
    "print(\"Files in folder:\", os.listdir(folder_path))"
   ]
  },
  {
   "cell_type": "code",
   "execution_count": null,
   "id": "76fcfde7-4854-4a95-9de5-7578d2f48edd",
   "metadata": {},
   "outputs": [],
   "source": [
    "csv_files = [f for f in os.listdir(folder_path) if f.lower().endswith('.csv')]\n",
    "\n",
    "print(\"CSV files found:\")\n",
    "for f in csv_files:\n",
    "    print(f)\n"
   ]
  },
  {
   "cell_type": "markdown",
   "id": "f7d8355d-3ec6-45d3-a08f-302a79a115a4",
   "metadata": {},
   "source": [
    "## READ DATASETS"
   ]
  },
  {
   "cell_type": "code",
   "execution_count": null,
   "id": "8e6fc0b0-f224-486d-b500-eb2718e21c78",
   "metadata": {},
   "outputs": [],
   "source": [
    "#REDDIT COMMENTS AKA ai job sentiment\n",
    "file_p= r'../data/raw/reddit_comments_combined.csv'\n",
    "sentiment_df= pd.read_csv(file_p)\n",
    "sentiment_df.head()"
   ]
  },
  {
   "cell_type": "code",
   "execution_count": null,
   "id": "a457ce06-2307-4d44-adef-f08bd212e535",
   "metadata": {},
   "outputs": [],
   "source": [
    "# # Set folder and file\n",
    "\n",
    "# projection_file = \"Employment_Projections.csv\"\n",
    "\n",
    "# # Load the file\n",
    "# employment_proj = pd.read_csv(os.path.join(folder_path, projection_file), on_bad_lines='skip')\n",
    "\n",
    "# print(f\"Employment Projections loaded. Shape: {employment_proj.shape}\")\n",
    "# employment_proj.head()\n"
   ]
  },
  {
   "cell_type": "code",
   "execution_count": null,
   "id": "732e9a8a-54b2-42ad-a867-f4e0cce6f256",
   "metadata": {},
   "outputs": [],
   "source": [
    "import glob\n",
    "\n",
    "cleaned_files = glob.glob(\"../data/raw/National_Employment_Matrix_*.csv\")\n",
    "cleaned_files\n",
    "#pd.read_csv(cleaned_files[0])"
   ]
  },
  {
   "cell_type": "code",
   "execution_count": null,
   "id": "b45353a9-1e59-4432-b0ec-7ce152dfe1ad",
   "metadata": {},
   "outputs": [],
   "source": [
    "#READ data occupation growth\n",
    "\n",
    "folder_path = r'../data/raw' # \"../data/clean/\"\n",
    "matrix_files = [\n",
    "    \"National_Employment_Matrix_IND_31-330.csv\",\n",
    "    \"National_Employment_Matrix_IND_230000.csv\",\n",
    "    \"National_Employment_Matrix_IND_541200.csv\",\n",
    "    \"National_Employment_Matrix_IND_541300.csv\",\n",
    "    \"National_Employment_Matrix_IND_610000.csv\",\n",
    "    \"National_Employment_Matrix_IND_710000.csv\",\n",
    "    \"National_Employment_Matrix_IND_721000.csv\",\n",
    "    \"National_Employment_Matrix_OCC_39-3011.csv\"\n",
    "]\n",
    "\n",
    "# Load and combine all matrix datasets\n",
    "matrix_dfs = []\n",
    "for file in matrix_files:\n",
    "    path = os.path.join(folder_path, file)\n",
    "    occu_gro_df = pd.read_csv(path, on_bad_lines='skip')  # Skip broken lines\n",
    "    occu_gro_df['source_file'] = file  # Track origin\n",
    "    matrix_dfs.append(df)\n",
    "\n",
    "# Merge into one dataframe\n",
    "occu_gro_df = pd.concat(matrix_dfs, ignore_index=True)\n",
    "print(\"Employment matrix shape:\", occu_gro_df.shape)\n",
    "occu_gro_df.head(5)"
   ]
  },
  {
   "cell_type": "code",
   "execution_count": null,
   "id": "7bfc9315-b7e1-42cb-a059-22214d04b9a1",
   "metadata": {},
   "outputs": [],
   "source": [
    "#READ data occupation wages\n",
    "\n",
    "import csv\n",
    "\n",
    "# Reload the re-uploaded file after reset\n",
    "file_path =r'../data/raw/all_data_M_2024.csv'\n",
    "\n",
    "# Attempt to load while skipping problematic lines\n",
    "try:\n",
    "    occ_w_df = pd.read_csv(\n",
    "        file_path,\n",
    "        quoting=csv.QUOTE_MINIMAL,\n",
    "        encoding='utf-8',\n",
    "        on_bad_lines='skip'  # skips problematic lines\n",
    "    )\n",
    "    cleaned_preview = occ_w_df.head()\n",
    "except Exception as e:\n",
    "    cleaned_preview = f\"Error during loading: {e}\"\n",
    "\n",
    "cleaned_preview\n",
    "# Reload the file using semicolon delimiter\n",
    "occ_w_df = pd.read_csv(file_path, delimiter=';', encoding='utf-8', on_bad_lines='skip')\n",
    "\n",
    "# Show the cleaned preview\n",
    "occ_w_df.head()"
   ]
  },
  {
   "cell_type": "code",
   "execution_count": null,
   "id": "49b8265b-52d6-4a78-85f7-6a0506a8501d",
   "metadata": {},
   "outputs": [],
   "source": [
    "#READ country ai adoption\n",
    "file_path = r'../data/raw/Oecd.csv'\n",
    "\n",
    "# Read the Excel file\n",
    "co_ai_adop_df = pd.read_csv(file_path)\n",
    "\n",
    "# Display the first few rows\n",
    "co_ai_adop_df.tail()"
   ]
  },
  {
   "cell_type": "markdown",
   "id": "7c9589f2-02bf-46cd-bb5f-92007c621057",
   "metadata": {},
   "source": [
    "## EXPLORE COLUMNS"
   ]
  },
  {
   "cell_type": "code",
   "execution_count": null,
   "id": "71bd261f-b725-4476-a7d8-5d3386629c75",
   "metadata": {},
   "outputs": [],
   "source": [
    "occu_gro_df[\"Industry Title\"].unique()"
   ]
  },
  {
   "cell_type": "code",
   "execution_count": null,
   "id": "f1e1b138-f752-421a-a336-331399cecdd2",
   "metadata": {},
   "outputs": [],
   "source": [
    "\n",
    "print(occu_gro_df.isnull().sum())"
   ]
  },
  {
   "cell_type": "code",
   "execution_count": null,
   "id": "3713badd-4f18-46df-a04f-e080e6dd2789",
   "metadata": {},
   "outputs": [],
   "source": [
    "print(f\"Columns: {list(occu_gro_df.columns)}\\n\")\n",
    "    "
   ]
  },
  {
   "cell_type": "code",
   "execution_count": null,
   "id": "d11bcb12-d0f4-497d-8d5d-938066dec591",
   "metadata": {},
   "outputs": [],
   "source": [
    "#Display infos\n",
    "display(employment_proj.info())\n",
    "display(employment_matrix.info())\n",
    "display(sentiment_df.info())"
   ]
  },
  {
   "cell_type": "code",
   "execution_count": null,
   "id": "d91511a6-7fd2-41d0-b684-46b2ed7655fb",
   "metadata": {},
   "outputs": [],
   "source": []
  }
 ],
 "metadata": {
  "kernelspec": {
   "display_name": "venv",
   "language": "python",
   "name": "venv"
  },
  "language_info": {
   "codemirror_mode": {
    "name": "ipython",
    "version": 3
   },
   "file_extension": ".py",
   "mimetype": "text/x-python",
   "name": "python",
   "nbconvert_exporter": "python",
   "pygments_lexer": "ipython3",
   "version": "3.11.3"
  }
 },
 "nbformat": 4,
 "nbformat_minor": 5
}
