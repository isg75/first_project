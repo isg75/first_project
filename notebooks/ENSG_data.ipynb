{
 "cells": [
  {
   "cell_type": "code",
   "execution_count": 196,
   "id": "ad3704f3-3fc8-471c-8f3a-b6fa439d3f0f",
   "metadata": {},
   "outputs": [
    {
     "name": "stdout",
     "output_type": "stream",
     "text": [
      "Requirement already satisfied: yfinance in /opt/anaconda3/lib/python3.12/site-packages (0.2.48)\n",
      "Requirement already satisfied: pandas>=1.3.0 in /opt/anaconda3/lib/python3.12/site-packages (from yfinance) (2.2.2)\n",
      "Requirement already satisfied: numpy>=1.16.5 in /opt/anaconda3/lib/python3.12/site-packages (from yfinance) (1.26.4)\n",
      "Requirement already satisfied: requests>=2.31 in /opt/anaconda3/lib/python3.12/site-packages (from yfinance) (2.32.2)\n",
      "Requirement already satisfied: multitasking>=0.0.7 in /opt/anaconda3/lib/python3.12/site-packages (from yfinance) (0.0.11)\n",
      "Requirement already satisfied: lxml>=4.9.1 in /opt/anaconda3/lib/python3.12/site-packages (from yfinance) (5.2.1)\n",
      "Requirement already satisfied: platformdirs>=2.0.0 in /opt/anaconda3/lib/python3.12/site-packages (from yfinance) (3.10.0)\n",
      "Requirement already satisfied: pytz>=2022.5 in /opt/anaconda3/lib/python3.12/site-packages (from yfinance) (2024.1)\n",
      "Requirement already satisfied: frozendict>=2.3.4 in /opt/anaconda3/lib/python3.12/site-packages (from yfinance) (2.4.2)\n",
      "Requirement already satisfied: peewee>=3.16.2 in /opt/anaconda3/lib/python3.12/site-packages (from yfinance) (3.17.7)\n",
      "Requirement already satisfied: beautifulsoup4>=4.11.1 in /opt/anaconda3/lib/python3.12/site-packages (from yfinance) (4.12.3)\n",
      "Requirement already satisfied: html5lib>=1.1 in /opt/anaconda3/lib/python3.12/site-packages (from yfinance) (1.1)\n",
      "Requirement already satisfied: soupsieve>1.2 in /opt/anaconda3/lib/python3.12/site-packages (from beautifulsoup4>=4.11.1->yfinance) (2.5)\n",
      "Requirement already satisfied: six>=1.9 in /opt/anaconda3/lib/python3.12/site-packages (from html5lib>=1.1->yfinance) (1.16.0)\n",
      "Requirement already satisfied: webencodings in /opt/anaconda3/lib/python3.12/site-packages (from html5lib>=1.1->yfinance) (0.5.1)\n",
      "Requirement already satisfied: python-dateutil>=2.8.2 in /opt/anaconda3/lib/python3.12/site-packages (from pandas>=1.3.0->yfinance) (2.9.0.post0)\n",
      "Requirement already satisfied: tzdata>=2022.7 in /opt/anaconda3/lib/python3.12/site-packages (from pandas>=1.3.0->yfinance) (2023.3)\n",
      "Requirement already satisfied: charset-normalizer<4,>=2 in /opt/anaconda3/lib/python3.12/site-packages (from requests>=2.31->yfinance) (2.0.4)\n",
      "Requirement already satisfied: idna<4,>=2.5 in /opt/anaconda3/lib/python3.12/site-packages (from requests>=2.31->yfinance) (3.7)\n",
      "Requirement already satisfied: urllib3<3,>=1.21.1 in /opt/anaconda3/lib/python3.12/site-packages (from requests>=2.31->yfinance) (2.2.2)\n",
      "Requirement already satisfied: certifi>=2017.4.17 in /opt/anaconda3/lib/python3.12/site-packages (from requests>=2.31->yfinance) (2024.8.30)\n"
     ]
    }
   ],
   "source": [
    "!pip install yfinance\n"
   ]
  },
  {
   "cell_type": "code",
   "execution_count": 626,
   "id": "d0ac2669-9a65-4c5f-a378-8970327236ac",
   "metadata": {},
   "outputs": [],
   "source": [
    "import yfinance as yf\n",
    "import pandas as pd\n",
    "import plotly.express as px\n",
    "\n",
    "import seaborn as sns\n",
    "import matplotlib.pyplot as plt"
   ]
  },
  {
   "cell_type": "code",
   "execution_count": 628,
   "id": "42283293-7b7f-451d-9579-2a68b0c9e23c",
   "metadata": {},
   "outputs": [],
   "source": [
    "ensign_ticker = \"ENSG\"\n",
    "#date range\n",
    "start_date = \"2019-11-01\"\n",
    "end_date =\"2024-11-01\""
   ]
  },
  {
   "cell_type": "code",
   "execution_count": 630,
   "id": "3de4c5f0-5070-4b0d-8028-fa87559686ef",
   "metadata": {},
   "outputs": [
    {
     "name": "stderr",
     "output_type": "stream",
     "text": [
      "[*********************100%***********************]  1 of 1 completed\n"
     ]
    },
    {
     "data": {
      "text/html": [
       "<div>\n",
       "<style scoped>\n",
       "    .dataframe tbody tr th:only-of-type {\n",
       "        vertical-align: middle;\n",
       "    }\n",
       "\n",
       "    .dataframe tbody tr th {\n",
       "        vertical-align: top;\n",
       "    }\n",
       "\n",
       "    .dataframe thead tr th {\n",
       "        text-align: left;\n",
       "    }\n",
       "\n",
       "    .dataframe thead tr:last-of-type th {\n",
       "        text-align: right;\n",
       "    }\n",
       "</style>\n",
       "<table border=\"1\" class=\"dataframe\">\n",
       "  <thead>\n",
       "    <tr>\n",
       "      <th>Price</th>\n",
       "      <th>Adj Close</th>\n",
       "      <th>Close</th>\n",
       "      <th>High</th>\n",
       "      <th>Low</th>\n",
       "      <th>Open</th>\n",
       "      <th>Volume</th>\n",
       "    </tr>\n",
       "    <tr>\n",
       "      <th>Ticker</th>\n",
       "      <th>ENSG</th>\n",
       "      <th>ENSG</th>\n",
       "      <th>ENSG</th>\n",
       "      <th>ENSG</th>\n",
       "      <th>ENSG</th>\n",
       "      <th>ENSG</th>\n",
       "    </tr>\n",
       "    <tr>\n",
       "      <th>Date</th>\n",
       "      <th></th>\n",
       "      <th></th>\n",
       "      <th></th>\n",
       "      <th></th>\n",
       "      <th></th>\n",
       "      <th></th>\n",
       "    </tr>\n",
       "  </thead>\n",
       "  <tbody>\n",
       "    <tr>\n",
       "      <th>2019-11-01 00:00:00+00:00</th>\n",
       "      <td>42.468433</td>\n",
       "      <td>43.070000</td>\n",
       "      <td>44.279999</td>\n",
       "      <td>42.369999</td>\n",
       "      <td>42.669998</td>\n",
       "      <td>237100</td>\n",
       "    </tr>\n",
       "    <tr>\n",
       "      <th>2019-11-04 00:00:00+00:00</th>\n",
       "      <td>42.014862</td>\n",
       "      <td>42.610001</td>\n",
       "      <td>43.189999</td>\n",
       "      <td>42.180000</td>\n",
       "      <td>43.189999</td>\n",
       "      <td>322100</td>\n",
       "    </tr>\n",
       "    <tr>\n",
       "      <th>2019-11-05 00:00:00+00:00</th>\n",
       "      <td>41.857098</td>\n",
       "      <td>42.450001</td>\n",
       "      <td>43.480000</td>\n",
       "      <td>42.189999</td>\n",
       "      <td>42.910000</td>\n",
       "      <td>240200</td>\n",
       "    </tr>\n",
       "    <tr>\n",
       "      <th>2019-11-06 00:00:00+00:00</th>\n",
       "      <td>41.344360</td>\n",
       "      <td>41.930000</td>\n",
       "      <td>42.580002</td>\n",
       "      <td>41.889999</td>\n",
       "      <td>42.520000</td>\n",
       "      <td>178300</td>\n",
       "    </tr>\n",
       "    <tr>\n",
       "      <th>2019-11-07 00:00:00+00:00</th>\n",
       "      <td>41.137299</td>\n",
       "      <td>41.720001</td>\n",
       "      <td>42.869999</td>\n",
       "      <td>41.099998</td>\n",
       "      <td>42.290001</td>\n",
       "      <td>210900</td>\n",
       "    </tr>\n",
       "  </tbody>\n",
       "</table>\n",
       "</div>"
      ],
      "text/plain": [
       "Price                      Adj Close      Close       High        Low  \\\n",
       "Ticker                          ENSG       ENSG       ENSG       ENSG   \n",
       "Date                                                                    \n",
       "2019-11-01 00:00:00+00:00  42.468433  43.070000  44.279999  42.369999   \n",
       "2019-11-04 00:00:00+00:00  42.014862  42.610001  43.189999  42.180000   \n",
       "2019-11-05 00:00:00+00:00  41.857098  42.450001  43.480000  42.189999   \n",
       "2019-11-06 00:00:00+00:00  41.344360  41.930000  42.580002  41.889999   \n",
       "2019-11-07 00:00:00+00:00  41.137299  41.720001  42.869999  41.099998   \n",
       "\n",
       "Price                           Open  Volume  \n",
       "Ticker                          ENSG    ENSG  \n",
       "Date                                          \n",
       "2019-11-01 00:00:00+00:00  42.669998  237100  \n",
       "2019-11-04 00:00:00+00:00  43.189999  322100  \n",
       "2019-11-05 00:00:00+00:00  42.910000  240200  \n",
       "2019-11-06 00:00:00+00:00  42.520000  178300  \n",
       "2019-11-07 00:00:00+00:00  42.290001  210900  "
      ]
     },
     "metadata": {},
     "output_type": "display_data"
    }
   ],
   "source": [
    "#downloading data\n",
    "df_ensign = yf.download(ensign_ticker, start = start_date, end= end_date)\n",
    "display(df_ensign.head())"
   ]
  },
  {
   "cell_type": "code",
   "execution_count": 632,
   "id": "fc27e2e2-7b81-4d52-8cb4-3f9f19852f96",
   "metadata": {},
   "outputs": [
    {
     "data": {
      "text/html": [
       "<div>\n",
       "<style scoped>\n",
       "    .dataframe tbody tr th:only-of-type {\n",
       "        vertical-align: middle;\n",
       "    }\n",
       "\n",
       "    .dataframe tbody tr th {\n",
       "        vertical-align: top;\n",
       "    }\n",
       "\n",
       "    .dataframe thead tr th {\n",
       "        text-align: left;\n",
       "    }\n",
       "\n",
       "    .dataframe thead tr:last-of-type th {\n",
       "        text-align: right;\n",
       "    }\n",
       "</style>\n",
       "<table border=\"1\" class=\"dataframe\">\n",
       "  <thead>\n",
       "    <tr>\n",
       "      <th>Price</th>\n",
       "      <th>Adj Close</th>\n",
       "      <th>Close</th>\n",
       "      <th>High</th>\n",
       "      <th>Low</th>\n",
       "      <th>Open</th>\n",
       "      <th>Volume</th>\n",
       "    </tr>\n",
       "    <tr>\n",
       "      <th>Ticker</th>\n",
       "      <th>ENSG</th>\n",
       "      <th>ENSG</th>\n",
       "      <th>ENSG</th>\n",
       "      <th>ENSG</th>\n",
       "      <th>ENSG</th>\n",
       "      <th>ENSG</th>\n",
       "    </tr>\n",
       "    <tr>\n",
       "      <th>Date</th>\n",
       "      <th></th>\n",
       "      <th></th>\n",
       "      <th></th>\n",
       "      <th></th>\n",
       "      <th></th>\n",
       "      <th></th>\n",
       "    </tr>\n",
       "  </thead>\n",
       "  <tbody>\n",
       "    <tr>\n",
       "      <th>2019-11-01 00:00:00+00:00</th>\n",
       "      <td>42.468433</td>\n",
       "      <td>43.070000</td>\n",
       "      <td>44.279999</td>\n",
       "      <td>42.369999</td>\n",
       "      <td>42.669998</td>\n",
       "      <td>237100</td>\n",
       "    </tr>\n",
       "    <tr>\n",
       "      <th>2019-11-04 00:00:00+00:00</th>\n",
       "      <td>42.014862</td>\n",
       "      <td>42.610001</td>\n",
       "      <td>43.189999</td>\n",
       "      <td>42.180000</td>\n",
       "      <td>43.189999</td>\n",
       "      <td>322100</td>\n",
       "    </tr>\n",
       "    <tr>\n",
       "      <th>2019-11-05 00:00:00+00:00</th>\n",
       "      <td>41.857098</td>\n",
       "      <td>42.450001</td>\n",
       "      <td>43.480000</td>\n",
       "      <td>42.189999</td>\n",
       "      <td>42.910000</td>\n",
       "      <td>240200</td>\n",
       "    </tr>\n",
       "    <tr>\n",
       "      <th>2019-11-06 00:00:00+00:00</th>\n",
       "      <td>41.344360</td>\n",
       "      <td>41.930000</td>\n",
       "      <td>42.580002</td>\n",
       "      <td>41.889999</td>\n",
       "      <td>42.520000</td>\n",
       "      <td>178300</td>\n",
       "    </tr>\n",
       "    <tr>\n",
       "      <th>2019-11-07 00:00:00+00:00</th>\n",
       "      <td>41.137299</td>\n",
       "      <td>41.720001</td>\n",
       "      <td>42.869999</td>\n",
       "      <td>41.099998</td>\n",
       "      <td>42.290001</td>\n",
       "      <td>210900</td>\n",
       "    </tr>\n",
       "    <tr>\n",
       "      <th>...</th>\n",
       "      <td>...</td>\n",
       "      <td>...</td>\n",
       "      <td>...</td>\n",
       "      <td>...</td>\n",
       "      <td>...</td>\n",
       "      <td>...</td>\n",
       "    </tr>\n",
       "    <tr>\n",
       "      <th>2024-10-25 00:00:00+00:00</th>\n",
       "      <td>152.820007</td>\n",
       "      <td>152.820007</td>\n",
       "      <td>155.679993</td>\n",
       "      <td>150.000000</td>\n",
       "      <td>150.000000</td>\n",
       "      <td>500700</td>\n",
       "    </tr>\n",
       "    <tr>\n",
       "      <th>2024-10-28 00:00:00+00:00</th>\n",
       "      <td>151.869995</td>\n",
       "      <td>151.869995</td>\n",
       "      <td>156.070007</td>\n",
       "      <td>151.580002</td>\n",
       "      <td>154.080002</td>\n",
       "      <td>384500</td>\n",
       "    </tr>\n",
       "    <tr>\n",
       "      <th>2024-10-29 00:00:00+00:00</th>\n",
       "      <td>156.910004</td>\n",
       "      <td>156.910004</td>\n",
       "      <td>157.139999</td>\n",
       "      <td>151.770004</td>\n",
       "      <td>152.070007</td>\n",
       "      <td>496000</td>\n",
       "    </tr>\n",
       "    <tr>\n",
       "      <th>2024-10-30 00:00:00+00:00</th>\n",
       "      <td>156.009995</td>\n",
       "      <td>156.009995</td>\n",
       "      <td>158.220001</td>\n",
       "      <td>155.429993</td>\n",
       "      <td>158.100006</td>\n",
       "      <td>330000</td>\n",
       "    </tr>\n",
       "    <tr>\n",
       "      <th>2024-10-31 00:00:00+00:00</th>\n",
       "      <td>154.990005</td>\n",
       "      <td>154.990005</td>\n",
       "      <td>157.929993</td>\n",
       "      <td>154.580002</td>\n",
       "      <td>155.300003</td>\n",
       "      <td>425100</td>\n",
       "    </tr>\n",
       "  </tbody>\n",
       "</table>\n",
       "<p>1258 rows × 6 columns</p>\n",
       "</div>"
      ],
      "text/plain": [
       "Price                       Adj Close       Close        High         Low  \\\n",
       "Ticker                           ENSG        ENSG        ENSG        ENSG   \n",
       "Date                                                                        \n",
       "2019-11-01 00:00:00+00:00   42.468433   43.070000   44.279999   42.369999   \n",
       "2019-11-04 00:00:00+00:00   42.014862   42.610001   43.189999   42.180000   \n",
       "2019-11-05 00:00:00+00:00   41.857098   42.450001   43.480000   42.189999   \n",
       "2019-11-06 00:00:00+00:00   41.344360   41.930000   42.580002   41.889999   \n",
       "2019-11-07 00:00:00+00:00   41.137299   41.720001   42.869999   41.099998   \n",
       "...                               ...         ...         ...         ...   \n",
       "2024-10-25 00:00:00+00:00  152.820007  152.820007  155.679993  150.000000   \n",
       "2024-10-28 00:00:00+00:00  151.869995  151.869995  156.070007  151.580002   \n",
       "2024-10-29 00:00:00+00:00  156.910004  156.910004  157.139999  151.770004   \n",
       "2024-10-30 00:00:00+00:00  156.009995  156.009995  158.220001  155.429993   \n",
       "2024-10-31 00:00:00+00:00  154.990005  154.990005  157.929993  154.580002   \n",
       "\n",
       "Price                            Open  Volume  \n",
       "Ticker                           ENSG    ENSG  \n",
       "Date                                           \n",
       "2019-11-01 00:00:00+00:00   42.669998  237100  \n",
       "2019-11-04 00:00:00+00:00   43.189999  322100  \n",
       "2019-11-05 00:00:00+00:00   42.910000  240200  \n",
       "2019-11-06 00:00:00+00:00   42.520000  178300  \n",
       "2019-11-07 00:00:00+00:00   42.290001  210900  \n",
       "...                               ...     ...  \n",
       "2024-10-25 00:00:00+00:00  150.000000  500700  \n",
       "2024-10-28 00:00:00+00:00  154.080002  384500  \n",
       "2024-10-29 00:00:00+00:00  152.070007  496000  \n",
       "2024-10-30 00:00:00+00:00  158.100006  330000  \n",
       "2024-10-31 00:00:00+00:00  155.300003  425100  \n",
       "\n",
       "[1258 rows x 6 columns]"
      ]
     },
     "metadata": {},
     "output_type": "display_data"
    }
   ],
   "source": [
    "#date format\n",
    "def format_and_round_df(df_ensign):\n",
    "    df_ensign.index = pd.to_datetime(df_ensign.index)\n",
    "    df_ensign.index = df_ensign.index.strftime('%Y-%m-%d')\n",
    "    df_ensign = df_ensign.round(3)\n",
    "    return df\n",
    "\n",
    "\n",
    "\n",
    "display(df_ensign)"
   ]
  },
  {
   "cell_type": "code",
   "execution_count": 634,
   "id": "79bff953-a4ab-4b73-93aa-22288eb837ac",
   "metadata": {},
   "outputs": [
    {
     "data": {
      "text/html": [
       "<div>\n",
       "<style scoped>\n",
       "    .dataframe tbody tr th:only-of-type {\n",
       "        vertical-align: middle;\n",
       "    }\n",
       "\n",
       "    .dataframe tbody tr th {\n",
       "        vertical-align: top;\n",
       "    }\n",
       "\n",
       "    .dataframe thead tr th {\n",
       "        text-align: left;\n",
       "    }\n",
       "\n",
       "    .dataframe thead tr:last-of-type th {\n",
       "        text-align: right;\n",
       "    }\n",
       "</style>\n",
       "<table border=\"1\" class=\"dataframe\">\n",
       "  <thead>\n",
       "    <tr>\n",
       "      <th>Price</th>\n",
       "      <th>Adj Close</th>\n",
       "      <th>Close</th>\n",
       "      <th>High</th>\n",
       "      <th>Low</th>\n",
       "      <th>Open</th>\n",
       "      <th>Volume</th>\n",
       "      <th>daily_returns</th>\n",
       "      <th>monthly_returns</th>\n",
       "      <th>annual_returns</th>\n",
       "      <th>daily_range</th>\n",
       "    </tr>\n",
       "    <tr>\n",
       "      <th>Ticker</th>\n",
       "      <th>ENSG</th>\n",
       "      <th>ENSG</th>\n",
       "      <th>ENSG</th>\n",
       "      <th>ENSG</th>\n",
       "      <th>ENSG</th>\n",
       "      <th>ENSG</th>\n",
       "      <th></th>\n",
       "      <th></th>\n",
       "      <th></th>\n",
       "      <th></th>\n",
       "    </tr>\n",
       "    <tr>\n",
       "      <th>Date</th>\n",
       "      <th></th>\n",
       "      <th></th>\n",
       "      <th></th>\n",
       "      <th></th>\n",
       "      <th></th>\n",
       "      <th></th>\n",
       "      <th></th>\n",
       "      <th></th>\n",
       "      <th></th>\n",
       "      <th></th>\n",
       "    </tr>\n",
       "  </thead>\n",
       "  <tbody>\n",
       "    <tr>\n",
       "      <th>2019-11-01 00:00:00+00:00</th>\n",
       "      <td>42.468433</td>\n",
       "      <td>43.070000</td>\n",
       "      <td>44.279999</td>\n",
       "      <td>42.369999</td>\n",
       "      <td>42.669998</td>\n",
       "      <td>237100</td>\n",
       "      <td>-1.068020</td>\n",
       "      <td>-1.068020</td>\n",
       "      <td>61.427238</td>\n",
       "      <td>1.910000</td>\n",
       "    </tr>\n",
       "    <tr>\n",
       "      <th>2019-11-04 00:00:00+00:00</th>\n",
       "      <td>42.014862</td>\n",
       "      <td>42.610001</td>\n",
       "      <td>43.189999</td>\n",
       "      <td>42.180000</td>\n",
       "      <td>43.189999</td>\n",
       "      <td>322100</td>\n",
       "      <td>-1.068020</td>\n",
       "      <td>-1.068020</td>\n",
       "      <td>61.427238</td>\n",
       "      <td>1.009998</td>\n",
       "    </tr>\n",
       "    <tr>\n",
       "      <th>2019-11-05 00:00:00+00:00</th>\n",
       "      <td>41.857098</td>\n",
       "      <td>42.450001</td>\n",
       "      <td>43.480000</td>\n",
       "      <td>42.189999</td>\n",
       "      <td>42.910000</td>\n",
       "      <td>240200</td>\n",
       "      <td>-0.375497</td>\n",
       "      <td>-0.375497</td>\n",
       "      <td>61.427238</td>\n",
       "      <td>1.290001</td>\n",
       "    </tr>\n",
       "    <tr>\n",
       "      <th>2019-11-06 00:00:00+00:00</th>\n",
       "      <td>41.344360</td>\n",
       "      <td>41.930000</td>\n",
       "      <td>42.580002</td>\n",
       "      <td>41.889999</td>\n",
       "      <td>42.520000</td>\n",
       "      <td>178300</td>\n",
       "      <td>-1.224971</td>\n",
       "      <td>-1.224971</td>\n",
       "      <td>61.427238</td>\n",
       "      <td>0.690002</td>\n",
       "    </tr>\n",
       "    <tr>\n",
       "      <th>2019-11-07 00:00:00+00:00</th>\n",
       "      <td>41.137299</td>\n",
       "      <td>41.720001</td>\n",
       "      <td>42.869999</td>\n",
       "      <td>41.099998</td>\n",
       "      <td>42.290001</td>\n",
       "      <td>210900</td>\n",
       "      <td>-0.500822</td>\n",
       "      <td>-0.500822</td>\n",
       "      <td>61.427238</td>\n",
       "      <td>1.770000</td>\n",
       "    </tr>\n",
       "  </tbody>\n",
       "</table>\n",
       "</div>"
      ],
      "text/plain": [
       "Price                      Adj Close      Close       High        Low  \\\n",
       "Ticker                          ENSG       ENSG       ENSG       ENSG   \n",
       "Date                                                                    \n",
       "2019-11-01 00:00:00+00:00  42.468433  43.070000  44.279999  42.369999   \n",
       "2019-11-04 00:00:00+00:00  42.014862  42.610001  43.189999  42.180000   \n",
       "2019-11-05 00:00:00+00:00  41.857098  42.450001  43.480000  42.189999   \n",
       "2019-11-06 00:00:00+00:00  41.344360  41.930000  42.580002  41.889999   \n",
       "2019-11-07 00:00:00+00:00  41.137299  41.720001  42.869999  41.099998   \n",
       "\n",
       "Price                           Open  Volume daily_returns monthly_returns  \\\n",
       "Ticker                          ENSG    ENSG                                 \n",
       "Date                                                                         \n",
       "2019-11-01 00:00:00+00:00  42.669998  237100     -1.068020       -1.068020   \n",
       "2019-11-04 00:00:00+00:00  43.189999  322100     -1.068020       -1.068020   \n",
       "2019-11-05 00:00:00+00:00  42.910000  240200     -0.375497       -0.375497   \n",
       "2019-11-06 00:00:00+00:00  42.520000  178300     -1.224971       -1.224971   \n",
       "2019-11-07 00:00:00+00:00  42.290001  210900     -0.500822       -0.500822   \n",
       "\n",
       "Price                     annual_returns daily_range  \n",
       "Ticker                                                \n",
       "Date                                                  \n",
       "2019-11-01 00:00:00+00:00      61.427238    1.910000  \n",
       "2019-11-04 00:00:00+00:00      61.427238    1.009998  \n",
       "2019-11-05 00:00:00+00:00      61.427238    1.290001  \n",
       "2019-11-06 00:00:00+00:00      61.427238    0.690002  \n",
       "2019-11-07 00:00:00+00:00      61.427238    1.770000  "
      ]
     },
     "execution_count": 634,
     "metadata": {},
     "output_type": "execute_result"
    }
   ],
   "source": [
    "df_ensign.index = pd.to_datetime(df_ensign.index)\n",
    "\n",
    "#daily returns\n",
    "\n",
    "df_ensign['daily_returns'] = df_ensign['Adj Close'].pct_change() *100\n",
    "df_ensign['daily_returns'] = df_ensign['daily_returns'].bfill()\n",
    "\n",
    "#monthly\n",
    "\n",
    "monthly_df = df_ensign.resample('ME')['Adj Close'].last()\n",
    "df_ensign['monthly_returns']= df_ensign['Adj Close'].pct_change()*100\n",
    "\n",
    "#annual\n",
    "\n",
    "year_end_df = df_ensign.resample('YE')['Adj Close'].last()\n",
    "df_ensign['annual_returns']=year_end_df.pct_change() * 100\n",
    "\n",
    "\n",
    "\n",
    "#nan values\n",
    "df_ensign['daily_returns'] = df_ensign['daily_returns'].bfill()\n",
    "df_ensign['monthly_returns'] = df_ensign['monthly_returns'].bfill()\n",
    "df_ensign['annual_returns'] = df_ensign['annual_returns'].bfill()\n",
    "\n",
    "#daily range\n",
    "df_ensign['daily_range'] = df_ensign['High'] - df_ensign['Low']\n",
    "\n",
    "df_ensign.head()\n"
   ]
  },
  {
   "cell_type": "code",
   "execution_count": 636,
   "id": "43d0d297-9503-4105-bbd3-c7ddd2f76a31",
   "metadata": {},
   "outputs": [
    {
     "data": {
      "text/html": [
       "<div>\n",
       "<style scoped>\n",
       "    .dataframe tbody tr th:only-of-type {\n",
       "        vertical-align: middle;\n",
       "    }\n",
       "\n",
       "    .dataframe tbody tr th {\n",
       "        vertical-align: top;\n",
       "    }\n",
       "\n",
       "    .dataframe thead tr th {\n",
       "        text-align: left;\n",
       "    }\n",
       "</style>\n",
       "<table border=\"1\" class=\"dataframe\">\n",
       "  <thead>\n",
       "    <tr>\n",
       "      <th>Price</th>\n",
       "      <th>Adj Close</th>\n",
       "      <th>Close</th>\n",
       "      <th>High</th>\n",
       "      <th>Low</th>\n",
       "      <th>Open</th>\n",
       "      <th>Volume</th>\n",
       "      <th>daily_returns</th>\n",
       "      <th>monthly_returns</th>\n",
       "      <th>annual_returns</th>\n",
       "      <th>daily_range</th>\n",
       "    </tr>\n",
       "    <tr>\n",
       "      <th>Ticker</th>\n",
       "      <th>ENSG</th>\n",
       "      <th>ENSG</th>\n",
       "      <th>ENSG</th>\n",
       "      <th>ENSG</th>\n",
       "      <th>ENSG</th>\n",
       "      <th>ENSG</th>\n",
       "      <th></th>\n",
       "      <th></th>\n",
       "      <th></th>\n",
       "      <th></th>\n",
       "    </tr>\n",
       "  </thead>\n",
       "  <tbody>\n",
       "    <tr>\n",
       "      <th>count</th>\n",
       "      <td>1258.000000</td>\n",
       "      <td>1258.000000</td>\n",
       "      <td>1258.000000</td>\n",
       "      <td>1258.000000</td>\n",
       "      <td>1258.000000</td>\n",
       "      <td>1.258000e+03</td>\n",
       "      <td>1258.000000</td>\n",
       "      <td>1258.000000</td>\n",
       "      <td>546.000000</td>\n",
       "      <td>1258.000000</td>\n",
       "    </tr>\n",
       "    <tr>\n",
       "      <th>mean</th>\n",
       "      <td>85.303221</td>\n",
       "      <td>85.694642</td>\n",
       "      <td>86.823998</td>\n",
       "      <td>84.482957</td>\n",
       "      <td>85.644380</td>\n",
       "      <td>2.864280e+05</td>\n",
       "      <td>0.134170</td>\n",
       "      <td>0.134170</td>\n",
       "      <td>40.198182</td>\n",
       "      <td>2.341041</td>\n",
       "    </tr>\n",
       "    <tr>\n",
       "      <th>std</th>\n",
       "      <td>27.289685</td>\n",
       "      <td>27.135188</td>\n",
       "      <td>27.209022</td>\n",
       "      <td>27.012716</td>\n",
       "      <td>27.109005</td>\n",
       "      <td>3.449076e+05</td>\n",
       "      <td>2.522260</td>\n",
       "      <td>2.522260</td>\n",
       "      <td>22.951028</td>\n",
       "      <td>1.185394</td>\n",
       "    </tr>\n",
       "    <tr>\n",
       "      <th>min</th>\n",
       "      <td>24.668566</td>\n",
       "      <td>24.990000</td>\n",
       "      <td>28.020000</td>\n",
       "      <td>24.059999</td>\n",
       "      <td>25.760000</td>\n",
       "      <td>4.070000e+04</td>\n",
       "      <td>-22.307882</td>\n",
       "      <td>-22.307882</td>\n",
       "      <td>15.430950</td>\n",
       "      <td>0.459999</td>\n",
       "    </tr>\n",
       "    <tr>\n",
       "      <th>25%</th>\n",
       "      <td>73.248722</td>\n",
       "      <td>73.702501</td>\n",
       "      <td>75.015001</td>\n",
       "      <td>72.515001</td>\n",
       "      <td>73.785000</td>\n",
       "      <td>1.857750e+05</td>\n",
       "      <td>-1.063571</td>\n",
       "      <td>-1.063571</td>\n",
       "      <td>15.430950</td>\n",
       "      <td>1.559998</td>\n",
       "    </tr>\n",
       "    <tr>\n",
       "      <th>50%</th>\n",
       "      <td>85.097912</td>\n",
       "      <td>85.579998</td>\n",
       "      <td>86.965000</td>\n",
       "      <td>84.305000</td>\n",
       "      <td>85.805000</td>\n",
       "      <td>2.395500e+05</td>\n",
       "      <td>0.113241</td>\n",
       "      <td>0.113241</td>\n",
       "      <td>61.427238</td>\n",
       "      <td>2.084999</td>\n",
       "    </tr>\n",
       "    <tr>\n",
       "      <th>75%</th>\n",
       "      <td>95.351961</td>\n",
       "      <td>95.655003</td>\n",
       "      <td>96.934999</td>\n",
       "      <td>94.537498</td>\n",
       "      <td>95.772499</td>\n",
       "      <td>3.202750e+05</td>\n",
       "      <td>1.187354</td>\n",
       "      <td>1.187354</td>\n",
       "      <td>61.427238</td>\n",
       "      <td>2.800003</td>\n",
       "    </tr>\n",
       "    <tr>\n",
       "      <th>max</th>\n",
       "      <td>156.910004</td>\n",
       "      <td>156.910004</td>\n",
       "      <td>158.220001</td>\n",
       "      <td>155.429993</td>\n",
       "      <td>158.100006</td>\n",
       "      <td>1.122320e+07</td>\n",
       "      <td>20.790394</td>\n",
       "      <td>20.790394</td>\n",
       "      <td>61.427238</td>\n",
       "      <td>12.190002</td>\n",
       "    </tr>\n",
       "  </tbody>\n",
       "</table>\n",
       "</div>"
      ],
      "text/plain": [
       "Price     Adj Close        Close         High          Low         Open  \\\n",
       "Ticker         ENSG         ENSG         ENSG         ENSG         ENSG   \n",
       "count   1258.000000  1258.000000  1258.000000  1258.000000  1258.000000   \n",
       "mean      85.303221    85.694642    86.823998    84.482957    85.644380   \n",
       "std       27.289685    27.135188    27.209022    27.012716    27.109005   \n",
       "min       24.668566    24.990000    28.020000    24.059999    25.760000   \n",
       "25%       73.248722    73.702501    75.015001    72.515001    73.785000   \n",
       "50%       85.097912    85.579998    86.965000    84.305000    85.805000   \n",
       "75%       95.351961    95.655003    96.934999    94.537498    95.772499   \n",
       "max      156.910004   156.910004   158.220001   155.429993   158.100006   \n",
       "\n",
       "Price         Volume daily_returns monthly_returns annual_returns  daily_range  \n",
       "Ticker          ENSG                                                            \n",
       "count   1.258000e+03   1258.000000     1258.000000     546.000000  1258.000000  \n",
       "mean    2.864280e+05      0.134170        0.134170      40.198182     2.341041  \n",
       "std     3.449076e+05      2.522260        2.522260      22.951028     1.185394  \n",
       "min     4.070000e+04    -22.307882      -22.307882      15.430950     0.459999  \n",
       "25%     1.857750e+05     -1.063571       -1.063571      15.430950     1.559998  \n",
       "50%     2.395500e+05      0.113241        0.113241      61.427238     2.084999  \n",
       "75%     3.202750e+05      1.187354        1.187354      61.427238     2.800003  \n",
       "max     1.122320e+07     20.790394       20.790394      61.427238    12.190002  "
      ]
     },
     "execution_count": 636,
     "metadata": {},
     "output_type": "execute_result"
    }
   ],
   "source": [
    "df_ensign.describe()"
   ]
  },
  {
   "cell_type": "code",
   "execution_count": 638,
   "id": "2ff68ee5-2f0d-431a-b3ec-95bc235cf760",
   "metadata": {},
   "outputs": [],
   "source": [
    "df_ensign.to_csv('ensign_stock_data.csv', index=True)"
   ]
  },
  {
   "cell_type": "code",
   "execution_count": 640,
   "id": "f4ab08ea-37ea-4f18-9b94-c5ee96d06a65",
   "metadata": {},
   "outputs": [
    {
     "data": {
      "application/vnd.plotly.v1+json": {
       "config": {
        "plotlyServerURL": "https://plot.ly"
       },
       "data": [
        {
         "hovertemplate": "Date=%{x}<br>y=%{y}<extra></extra>",
         "legendgroup": "",
         "line": {
          "color": "#636efa",
          "dash": "solid"
         },
         "marker": {
          "symbol": "circle"
         },
         "mode": "lines",
         "name": "",
         "showlegend": false,
         "type": "scattergl",
         "x": [
          "2019-11-01T00:00:00+00:00",
          "2019-11-04T00:00:00+00:00",
          "2019-11-05T00:00:00+00:00",
          "2019-11-06T00:00:00+00:00",
          "2019-11-07T00:00:00+00:00",
          "2019-11-08T00:00:00+00:00",
          "2019-11-11T00:00:00+00:00",
          "2019-11-12T00:00:00+00:00",
          "2019-11-13T00:00:00+00:00",
          "2019-11-14T00:00:00+00:00",
          "2019-11-15T00:00:00+00:00",
          "2019-11-18T00:00:00+00:00",
          "2019-11-19T00:00:00+00:00",
          "2019-11-20T00:00:00+00:00",
          "2019-11-21T00:00:00+00:00",
          "2019-11-22T00:00:00+00:00",
          "2019-11-25T00:00:00+00:00",
          "2019-11-26T00:00:00+00:00",
          "2019-11-27T00:00:00+00:00",
          "2019-11-29T00:00:00+00:00",
          "2019-12-02T00:00:00+00:00",
          "2019-12-03T00:00:00+00:00",
          "2019-12-04T00:00:00+00:00",
          "2019-12-05T00:00:00+00:00",
          "2019-12-06T00:00:00+00:00",
          "2019-12-09T00:00:00+00:00",
          "2019-12-10T00:00:00+00:00",
          "2019-12-11T00:00:00+00:00",
          "2019-12-12T00:00:00+00:00",
          "2019-12-13T00:00:00+00:00",
          "2019-12-16T00:00:00+00:00",
          "2019-12-17T00:00:00+00:00",
          "2019-12-18T00:00:00+00:00",
          "2019-12-19T00:00:00+00:00",
          "2019-12-20T00:00:00+00:00",
          "2019-12-23T00:00:00+00:00",
          "2019-12-24T00:00:00+00:00",
          "2019-12-26T00:00:00+00:00",
          "2019-12-27T00:00:00+00:00",
          "2019-12-30T00:00:00+00:00",
          "2019-12-31T00:00:00+00:00",
          "2020-01-02T00:00:00+00:00",
          "2020-01-03T00:00:00+00:00",
          "2020-01-06T00:00:00+00:00",
          "2020-01-07T00:00:00+00:00",
          "2020-01-08T00:00:00+00:00",
          "2020-01-09T00:00:00+00:00",
          "2020-01-10T00:00:00+00:00",
          "2020-01-13T00:00:00+00:00",
          "2020-01-14T00:00:00+00:00",
          "2020-01-15T00:00:00+00:00",
          "2020-01-16T00:00:00+00:00",
          "2020-01-17T00:00:00+00:00",
          "2020-01-21T00:00:00+00:00",
          "2020-01-22T00:00:00+00:00",
          "2020-01-23T00:00:00+00:00",
          "2020-01-24T00:00:00+00:00",
          "2020-01-27T00:00:00+00:00",
          "2020-01-28T00:00:00+00:00",
          "2020-01-29T00:00:00+00:00",
          "2020-01-30T00:00:00+00:00",
          "2020-01-31T00:00:00+00:00",
          "2020-02-03T00:00:00+00:00",
          "2020-02-04T00:00:00+00:00",
          "2020-02-05T00:00:00+00:00",
          "2020-02-06T00:00:00+00:00",
          "2020-02-07T00:00:00+00:00",
          "2020-02-10T00:00:00+00:00",
          "2020-02-11T00:00:00+00:00",
          "2020-02-12T00:00:00+00:00",
          "2020-02-13T00:00:00+00:00",
          "2020-02-14T00:00:00+00:00",
          "2020-02-18T00:00:00+00:00",
          "2020-02-19T00:00:00+00:00",
          "2020-02-20T00:00:00+00:00",
          "2020-02-21T00:00:00+00:00",
          "2020-02-24T00:00:00+00:00",
          "2020-02-25T00:00:00+00:00",
          "2020-02-26T00:00:00+00:00",
          "2020-02-27T00:00:00+00:00",
          "2020-02-28T00:00:00+00:00",
          "2020-03-02T00:00:00+00:00",
          "2020-03-03T00:00:00+00:00",
          "2020-03-04T00:00:00+00:00",
          "2020-03-05T00:00:00+00:00",
          "2020-03-06T00:00:00+00:00",
          "2020-03-09T00:00:00+00:00",
          "2020-03-10T00:00:00+00:00",
          "2020-03-11T00:00:00+00:00",
          "2020-03-12T00:00:00+00:00",
          "2020-03-13T00:00:00+00:00",
          "2020-03-16T00:00:00+00:00",
          "2020-03-17T00:00:00+00:00",
          "2020-03-18T00:00:00+00:00",
          "2020-03-19T00:00:00+00:00",
          "2020-03-20T00:00:00+00:00",
          "2020-03-23T00:00:00+00:00",
          "2020-03-24T00:00:00+00:00",
          "2020-03-25T00:00:00+00:00",
          "2020-03-26T00:00:00+00:00",
          "2020-03-27T00:00:00+00:00",
          "2020-03-30T00:00:00+00:00",
          "2020-03-31T00:00:00+00:00",
          "2020-04-01T00:00:00+00:00",
          "2020-04-02T00:00:00+00:00",
          "2020-04-03T00:00:00+00:00",
          "2020-04-06T00:00:00+00:00",
          "2020-04-07T00:00:00+00:00",
          "2020-04-08T00:00:00+00:00",
          "2020-04-09T00:00:00+00:00",
          "2020-04-13T00:00:00+00:00",
          "2020-04-14T00:00:00+00:00",
          "2020-04-15T00:00:00+00:00",
          "2020-04-16T00:00:00+00:00",
          "2020-04-17T00:00:00+00:00",
          "2020-04-20T00:00:00+00:00",
          "2020-04-21T00:00:00+00:00",
          "2020-04-22T00:00:00+00:00",
          "2020-04-23T00:00:00+00:00",
          "2020-04-24T00:00:00+00:00",
          "2020-04-27T00:00:00+00:00",
          "2020-04-28T00:00:00+00:00",
          "2020-04-29T00:00:00+00:00",
          "2020-04-30T00:00:00+00:00",
          "2020-05-01T00:00:00+00:00",
          "2020-05-04T00:00:00+00:00",
          "2020-05-05T00:00:00+00:00",
          "2020-05-06T00:00:00+00:00",
          "2020-05-07T00:00:00+00:00",
          "2020-05-08T00:00:00+00:00",
          "2020-05-11T00:00:00+00:00",
          "2020-05-12T00:00:00+00:00",
          "2020-05-13T00:00:00+00:00",
          "2020-05-14T00:00:00+00:00",
          "2020-05-15T00:00:00+00:00",
          "2020-05-18T00:00:00+00:00",
          "2020-05-19T00:00:00+00:00",
          "2020-05-20T00:00:00+00:00",
          "2020-05-21T00:00:00+00:00",
          "2020-05-22T00:00:00+00:00",
          "2020-05-26T00:00:00+00:00",
          "2020-05-27T00:00:00+00:00",
          "2020-05-28T00:00:00+00:00",
          "2020-05-29T00:00:00+00:00",
          "2020-06-01T00:00:00+00:00",
          "2020-06-02T00:00:00+00:00",
          "2020-06-03T00:00:00+00:00",
          "2020-06-04T00:00:00+00:00",
          "2020-06-05T00:00:00+00:00",
          "2020-06-08T00:00:00+00:00",
          "2020-06-09T00:00:00+00:00",
          "2020-06-10T00:00:00+00:00",
          "2020-06-11T00:00:00+00:00",
          "2020-06-12T00:00:00+00:00",
          "2020-06-15T00:00:00+00:00",
          "2020-06-16T00:00:00+00:00",
          "2020-06-17T00:00:00+00:00",
          "2020-06-18T00:00:00+00:00",
          "2020-06-19T00:00:00+00:00",
          "2020-06-22T00:00:00+00:00",
          "2020-06-23T00:00:00+00:00",
          "2020-06-24T00:00:00+00:00",
          "2020-06-25T00:00:00+00:00",
          "2020-06-26T00:00:00+00:00",
          "2020-06-29T00:00:00+00:00",
          "2020-06-30T00:00:00+00:00",
          "2020-07-01T00:00:00+00:00",
          "2020-07-02T00:00:00+00:00",
          "2020-07-06T00:00:00+00:00",
          "2020-07-07T00:00:00+00:00",
          "2020-07-08T00:00:00+00:00",
          "2020-07-09T00:00:00+00:00",
          "2020-07-10T00:00:00+00:00",
          "2020-07-13T00:00:00+00:00",
          "2020-07-14T00:00:00+00:00",
          "2020-07-15T00:00:00+00:00",
          "2020-07-16T00:00:00+00:00",
          "2020-07-17T00:00:00+00:00",
          "2020-07-20T00:00:00+00:00",
          "2020-07-21T00:00:00+00:00",
          "2020-07-22T00:00:00+00:00",
          "2020-07-23T00:00:00+00:00",
          "2020-07-24T00:00:00+00:00",
          "2020-07-27T00:00:00+00:00",
          "2020-07-28T00:00:00+00:00",
          "2020-07-29T00:00:00+00:00",
          "2020-07-30T00:00:00+00:00",
          "2020-07-31T00:00:00+00:00",
          "2020-08-03T00:00:00+00:00",
          "2020-08-04T00:00:00+00:00",
          "2020-08-05T00:00:00+00:00",
          "2020-08-06T00:00:00+00:00",
          "2020-08-07T00:00:00+00:00",
          "2020-08-10T00:00:00+00:00",
          "2020-08-11T00:00:00+00:00",
          "2020-08-12T00:00:00+00:00",
          "2020-08-13T00:00:00+00:00",
          "2020-08-14T00:00:00+00:00",
          "2020-08-17T00:00:00+00:00",
          "2020-08-18T00:00:00+00:00",
          "2020-08-19T00:00:00+00:00",
          "2020-08-20T00:00:00+00:00",
          "2020-08-21T00:00:00+00:00",
          "2020-08-24T00:00:00+00:00",
          "2020-08-25T00:00:00+00:00",
          "2020-08-26T00:00:00+00:00",
          "2020-08-27T00:00:00+00:00",
          "2020-08-28T00:00:00+00:00",
          "2020-08-31T00:00:00+00:00",
          "2020-09-01T00:00:00+00:00",
          "2020-09-02T00:00:00+00:00",
          "2020-09-03T00:00:00+00:00",
          "2020-09-04T00:00:00+00:00",
          "2020-09-08T00:00:00+00:00",
          "2020-09-09T00:00:00+00:00",
          "2020-09-10T00:00:00+00:00",
          "2020-09-11T00:00:00+00:00",
          "2020-09-14T00:00:00+00:00",
          "2020-09-15T00:00:00+00:00",
          "2020-09-16T00:00:00+00:00",
          "2020-09-17T00:00:00+00:00",
          "2020-09-18T00:00:00+00:00",
          "2020-09-21T00:00:00+00:00",
          "2020-09-22T00:00:00+00:00",
          "2020-09-23T00:00:00+00:00",
          "2020-09-24T00:00:00+00:00",
          "2020-09-25T00:00:00+00:00",
          "2020-09-28T00:00:00+00:00",
          "2020-09-29T00:00:00+00:00",
          "2020-09-30T00:00:00+00:00",
          "2020-10-01T00:00:00+00:00",
          "2020-10-02T00:00:00+00:00",
          "2020-10-05T00:00:00+00:00",
          "2020-10-06T00:00:00+00:00",
          "2020-10-07T00:00:00+00:00",
          "2020-10-08T00:00:00+00:00",
          "2020-10-09T00:00:00+00:00",
          "2020-10-12T00:00:00+00:00",
          "2020-10-13T00:00:00+00:00",
          "2020-10-14T00:00:00+00:00",
          "2020-10-15T00:00:00+00:00",
          "2020-10-16T00:00:00+00:00",
          "2020-10-19T00:00:00+00:00",
          "2020-10-20T00:00:00+00:00",
          "2020-10-21T00:00:00+00:00",
          "2020-10-22T00:00:00+00:00",
          "2020-10-23T00:00:00+00:00",
          "2020-10-26T00:00:00+00:00",
          "2020-10-27T00:00:00+00:00",
          "2020-10-28T00:00:00+00:00",
          "2020-10-29T00:00:00+00:00",
          "2020-10-30T00:00:00+00:00",
          "2020-11-02T00:00:00+00:00",
          "2020-11-03T00:00:00+00:00",
          "2020-11-04T00:00:00+00:00",
          "2020-11-05T00:00:00+00:00",
          "2020-11-06T00:00:00+00:00",
          "2020-11-09T00:00:00+00:00",
          "2020-11-10T00:00:00+00:00",
          "2020-11-11T00:00:00+00:00",
          "2020-11-12T00:00:00+00:00",
          "2020-11-13T00:00:00+00:00",
          "2020-11-16T00:00:00+00:00",
          "2020-11-17T00:00:00+00:00",
          "2020-11-18T00:00:00+00:00",
          "2020-11-19T00:00:00+00:00",
          "2020-11-20T00:00:00+00:00",
          "2020-11-23T00:00:00+00:00",
          "2020-11-24T00:00:00+00:00",
          "2020-11-25T00:00:00+00:00",
          "2020-11-27T00:00:00+00:00",
          "2020-11-30T00:00:00+00:00",
          "2020-12-01T00:00:00+00:00",
          "2020-12-02T00:00:00+00:00",
          "2020-12-03T00:00:00+00:00",
          "2020-12-04T00:00:00+00:00",
          "2020-12-07T00:00:00+00:00",
          "2020-12-08T00:00:00+00:00",
          "2020-12-09T00:00:00+00:00",
          "2020-12-10T00:00:00+00:00",
          "2020-12-11T00:00:00+00:00",
          "2020-12-14T00:00:00+00:00",
          "2020-12-15T00:00:00+00:00",
          "2020-12-16T00:00:00+00:00",
          "2020-12-17T00:00:00+00:00",
          "2020-12-18T00:00:00+00:00",
          "2020-12-21T00:00:00+00:00",
          "2020-12-22T00:00:00+00:00",
          "2020-12-23T00:00:00+00:00",
          "2020-12-24T00:00:00+00:00",
          "2020-12-28T00:00:00+00:00",
          "2020-12-29T00:00:00+00:00",
          "2020-12-30T00:00:00+00:00",
          "2020-12-31T00:00:00+00:00",
          "2021-01-04T00:00:00+00:00",
          "2021-01-05T00:00:00+00:00",
          "2021-01-06T00:00:00+00:00",
          "2021-01-07T00:00:00+00:00",
          "2021-01-08T00:00:00+00:00",
          "2021-01-11T00:00:00+00:00",
          "2021-01-12T00:00:00+00:00",
          "2021-01-13T00:00:00+00:00",
          "2021-01-14T00:00:00+00:00",
          "2021-01-15T00:00:00+00:00",
          "2021-01-19T00:00:00+00:00",
          "2021-01-20T00:00:00+00:00",
          "2021-01-21T00:00:00+00:00",
          "2021-01-22T00:00:00+00:00",
          "2021-01-25T00:00:00+00:00",
          "2021-01-26T00:00:00+00:00",
          "2021-01-27T00:00:00+00:00",
          "2021-01-28T00:00:00+00:00",
          "2021-01-29T00:00:00+00:00",
          "2021-02-01T00:00:00+00:00",
          "2021-02-02T00:00:00+00:00",
          "2021-02-03T00:00:00+00:00",
          "2021-02-04T00:00:00+00:00",
          "2021-02-05T00:00:00+00:00",
          "2021-02-08T00:00:00+00:00",
          "2021-02-09T00:00:00+00:00",
          "2021-02-10T00:00:00+00:00",
          "2021-02-11T00:00:00+00:00",
          "2021-02-12T00:00:00+00:00",
          "2021-02-16T00:00:00+00:00",
          "2021-02-17T00:00:00+00:00",
          "2021-02-18T00:00:00+00:00",
          "2021-02-19T00:00:00+00:00",
          "2021-02-22T00:00:00+00:00",
          "2021-02-23T00:00:00+00:00",
          "2021-02-24T00:00:00+00:00",
          "2021-02-25T00:00:00+00:00",
          "2021-02-26T00:00:00+00:00",
          "2021-03-01T00:00:00+00:00",
          "2021-03-02T00:00:00+00:00",
          "2021-03-03T00:00:00+00:00",
          "2021-03-04T00:00:00+00:00",
          "2021-03-05T00:00:00+00:00",
          "2021-03-08T00:00:00+00:00",
          "2021-03-09T00:00:00+00:00",
          "2021-03-10T00:00:00+00:00",
          "2021-03-11T00:00:00+00:00",
          "2021-03-12T00:00:00+00:00",
          "2021-03-15T00:00:00+00:00",
          "2021-03-16T00:00:00+00:00",
          "2021-03-17T00:00:00+00:00",
          "2021-03-18T00:00:00+00:00",
          "2021-03-19T00:00:00+00:00",
          "2021-03-22T00:00:00+00:00",
          "2021-03-23T00:00:00+00:00",
          "2021-03-24T00:00:00+00:00",
          "2021-03-25T00:00:00+00:00",
          "2021-03-26T00:00:00+00:00",
          "2021-03-29T00:00:00+00:00",
          "2021-03-30T00:00:00+00:00",
          "2021-03-31T00:00:00+00:00",
          "2021-04-01T00:00:00+00:00",
          "2021-04-05T00:00:00+00:00",
          "2021-04-06T00:00:00+00:00",
          "2021-04-07T00:00:00+00:00",
          "2021-04-08T00:00:00+00:00",
          "2021-04-09T00:00:00+00:00",
          "2021-04-12T00:00:00+00:00",
          "2021-04-13T00:00:00+00:00",
          "2021-04-14T00:00:00+00:00",
          "2021-04-15T00:00:00+00:00",
          "2021-04-16T00:00:00+00:00",
          "2021-04-19T00:00:00+00:00",
          "2021-04-20T00:00:00+00:00",
          "2021-04-21T00:00:00+00:00",
          "2021-04-22T00:00:00+00:00",
          "2021-04-23T00:00:00+00:00",
          "2021-04-26T00:00:00+00:00",
          "2021-04-27T00:00:00+00:00",
          "2021-04-28T00:00:00+00:00",
          "2021-04-29T00:00:00+00:00",
          "2021-04-30T00:00:00+00:00",
          "2021-05-03T00:00:00+00:00",
          "2021-05-04T00:00:00+00:00",
          "2021-05-05T00:00:00+00:00",
          "2021-05-06T00:00:00+00:00",
          "2021-05-07T00:00:00+00:00",
          "2021-05-10T00:00:00+00:00",
          "2021-05-11T00:00:00+00:00",
          "2021-05-12T00:00:00+00:00",
          "2021-05-13T00:00:00+00:00",
          "2021-05-14T00:00:00+00:00",
          "2021-05-17T00:00:00+00:00",
          "2021-05-18T00:00:00+00:00",
          "2021-05-19T00:00:00+00:00",
          "2021-05-20T00:00:00+00:00",
          "2021-05-21T00:00:00+00:00",
          "2021-05-24T00:00:00+00:00",
          "2021-05-25T00:00:00+00:00",
          "2021-05-26T00:00:00+00:00",
          "2021-05-27T00:00:00+00:00",
          "2021-05-28T00:00:00+00:00",
          "2021-06-01T00:00:00+00:00",
          "2021-06-02T00:00:00+00:00",
          "2021-06-03T00:00:00+00:00",
          "2021-06-04T00:00:00+00:00",
          "2021-06-07T00:00:00+00:00",
          "2021-06-08T00:00:00+00:00",
          "2021-06-09T00:00:00+00:00",
          "2021-06-10T00:00:00+00:00",
          "2021-06-11T00:00:00+00:00",
          "2021-06-14T00:00:00+00:00",
          "2021-06-15T00:00:00+00:00",
          "2021-06-16T00:00:00+00:00",
          "2021-06-17T00:00:00+00:00",
          "2021-06-18T00:00:00+00:00",
          "2021-06-21T00:00:00+00:00",
          "2021-06-22T00:00:00+00:00",
          "2021-06-23T00:00:00+00:00",
          "2021-06-24T00:00:00+00:00",
          "2021-06-25T00:00:00+00:00",
          "2021-06-28T00:00:00+00:00",
          "2021-06-29T00:00:00+00:00",
          "2021-06-30T00:00:00+00:00",
          "2021-07-01T00:00:00+00:00",
          "2021-07-02T00:00:00+00:00",
          "2021-07-06T00:00:00+00:00",
          "2021-07-07T00:00:00+00:00",
          "2021-07-08T00:00:00+00:00",
          "2021-07-09T00:00:00+00:00",
          "2021-07-12T00:00:00+00:00",
          "2021-07-13T00:00:00+00:00",
          "2021-07-14T00:00:00+00:00",
          "2021-07-15T00:00:00+00:00",
          "2021-07-16T00:00:00+00:00",
          "2021-07-19T00:00:00+00:00",
          "2021-07-20T00:00:00+00:00",
          "2021-07-21T00:00:00+00:00",
          "2021-07-22T00:00:00+00:00",
          "2021-07-23T00:00:00+00:00",
          "2021-07-26T00:00:00+00:00",
          "2021-07-27T00:00:00+00:00",
          "2021-07-28T00:00:00+00:00",
          "2021-07-29T00:00:00+00:00",
          "2021-07-30T00:00:00+00:00",
          "2021-08-02T00:00:00+00:00",
          "2021-08-03T00:00:00+00:00",
          "2021-08-04T00:00:00+00:00",
          "2021-08-05T00:00:00+00:00",
          "2021-08-06T00:00:00+00:00",
          "2021-08-09T00:00:00+00:00",
          "2021-08-10T00:00:00+00:00",
          "2021-08-11T00:00:00+00:00",
          "2021-08-12T00:00:00+00:00",
          "2021-08-13T00:00:00+00:00",
          "2021-08-16T00:00:00+00:00",
          "2021-08-17T00:00:00+00:00",
          "2021-08-18T00:00:00+00:00",
          "2021-08-19T00:00:00+00:00",
          "2021-08-20T00:00:00+00:00",
          "2021-08-23T00:00:00+00:00",
          "2021-08-24T00:00:00+00:00",
          "2021-08-25T00:00:00+00:00",
          "2021-08-26T00:00:00+00:00",
          "2021-08-27T00:00:00+00:00",
          "2021-08-30T00:00:00+00:00",
          "2021-08-31T00:00:00+00:00",
          "2021-09-01T00:00:00+00:00",
          "2021-09-02T00:00:00+00:00",
          "2021-09-03T00:00:00+00:00",
          "2021-09-07T00:00:00+00:00",
          "2021-09-08T00:00:00+00:00",
          "2021-09-09T00:00:00+00:00",
          "2021-09-10T00:00:00+00:00",
          "2021-09-13T00:00:00+00:00",
          "2021-09-14T00:00:00+00:00",
          "2021-09-15T00:00:00+00:00",
          "2021-09-16T00:00:00+00:00",
          "2021-09-17T00:00:00+00:00",
          "2021-09-20T00:00:00+00:00",
          "2021-09-21T00:00:00+00:00",
          "2021-09-22T00:00:00+00:00",
          "2021-09-23T00:00:00+00:00",
          "2021-09-24T00:00:00+00:00",
          "2021-09-27T00:00:00+00:00",
          "2021-09-28T00:00:00+00:00",
          "2021-09-29T00:00:00+00:00",
          "2021-09-30T00:00:00+00:00",
          "2021-10-01T00:00:00+00:00",
          "2021-10-04T00:00:00+00:00",
          "2021-10-05T00:00:00+00:00",
          "2021-10-06T00:00:00+00:00",
          "2021-10-07T00:00:00+00:00",
          "2021-10-08T00:00:00+00:00",
          "2021-10-11T00:00:00+00:00",
          "2021-10-12T00:00:00+00:00",
          "2021-10-13T00:00:00+00:00",
          "2021-10-14T00:00:00+00:00",
          "2021-10-15T00:00:00+00:00",
          "2021-10-18T00:00:00+00:00",
          "2021-10-19T00:00:00+00:00",
          "2021-10-20T00:00:00+00:00",
          "2021-10-21T00:00:00+00:00",
          "2021-10-22T00:00:00+00:00",
          "2021-10-25T00:00:00+00:00",
          "2021-10-26T00:00:00+00:00",
          "2021-10-27T00:00:00+00:00",
          "2021-10-28T00:00:00+00:00",
          "2021-10-29T00:00:00+00:00",
          "2021-11-01T00:00:00+00:00",
          "2021-11-02T00:00:00+00:00",
          "2021-11-03T00:00:00+00:00",
          "2021-11-04T00:00:00+00:00",
          "2021-11-05T00:00:00+00:00",
          "2021-11-08T00:00:00+00:00",
          "2021-11-09T00:00:00+00:00",
          "2021-11-10T00:00:00+00:00",
          "2021-11-11T00:00:00+00:00",
          "2021-11-12T00:00:00+00:00",
          "2021-11-15T00:00:00+00:00",
          "2021-11-16T00:00:00+00:00",
          "2021-11-17T00:00:00+00:00",
          "2021-11-18T00:00:00+00:00",
          "2021-11-19T00:00:00+00:00",
          "2021-11-22T00:00:00+00:00",
          "2021-11-23T00:00:00+00:00",
          "2021-11-24T00:00:00+00:00",
          "2021-11-26T00:00:00+00:00",
          "2021-11-29T00:00:00+00:00",
          "2021-11-30T00:00:00+00:00",
          "2021-12-01T00:00:00+00:00",
          "2021-12-02T00:00:00+00:00",
          "2021-12-03T00:00:00+00:00",
          "2021-12-06T00:00:00+00:00",
          "2021-12-07T00:00:00+00:00",
          "2021-12-08T00:00:00+00:00",
          "2021-12-09T00:00:00+00:00",
          "2021-12-10T00:00:00+00:00",
          "2021-12-13T00:00:00+00:00",
          "2021-12-14T00:00:00+00:00",
          "2021-12-15T00:00:00+00:00",
          "2021-12-16T00:00:00+00:00",
          "2021-12-17T00:00:00+00:00",
          "2021-12-20T00:00:00+00:00",
          "2021-12-21T00:00:00+00:00",
          "2021-12-22T00:00:00+00:00",
          "2021-12-23T00:00:00+00:00",
          "2021-12-27T00:00:00+00:00",
          "2021-12-28T00:00:00+00:00",
          "2021-12-29T00:00:00+00:00",
          "2021-12-30T00:00:00+00:00",
          "2021-12-31T00:00:00+00:00",
          "2022-01-03T00:00:00+00:00",
          "2022-01-04T00:00:00+00:00",
          "2022-01-05T00:00:00+00:00",
          "2022-01-06T00:00:00+00:00",
          "2022-01-07T00:00:00+00:00",
          "2022-01-10T00:00:00+00:00",
          "2022-01-11T00:00:00+00:00",
          "2022-01-12T00:00:00+00:00",
          "2022-01-13T00:00:00+00:00",
          "2022-01-14T00:00:00+00:00",
          "2022-01-18T00:00:00+00:00",
          "2022-01-19T00:00:00+00:00",
          "2022-01-20T00:00:00+00:00",
          "2022-01-21T00:00:00+00:00",
          "2022-01-24T00:00:00+00:00",
          "2022-01-25T00:00:00+00:00",
          "2022-01-26T00:00:00+00:00",
          "2022-01-27T00:00:00+00:00",
          "2022-01-28T00:00:00+00:00",
          "2022-01-31T00:00:00+00:00",
          "2022-02-01T00:00:00+00:00",
          "2022-02-02T00:00:00+00:00",
          "2022-02-03T00:00:00+00:00",
          "2022-02-04T00:00:00+00:00",
          "2022-02-07T00:00:00+00:00",
          "2022-02-08T00:00:00+00:00",
          "2022-02-09T00:00:00+00:00",
          "2022-02-10T00:00:00+00:00",
          "2022-02-11T00:00:00+00:00",
          "2022-02-14T00:00:00+00:00",
          "2022-02-15T00:00:00+00:00",
          "2022-02-16T00:00:00+00:00",
          "2022-02-17T00:00:00+00:00",
          "2022-02-18T00:00:00+00:00",
          "2022-02-22T00:00:00+00:00",
          "2022-02-23T00:00:00+00:00",
          "2022-02-24T00:00:00+00:00",
          "2022-02-25T00:00:00+00:00",
          "2022-02-28T00:00:00+00:00",
          "2022-03-01T00:00:00+00:00",
          "2022-03-02T00:00:00+00:00",
          "2022-03-03T00:00:00+00:00",
          "2022-03-04T00:00:00+00:00",
          "2022-03-07T00:00:00+00:00",
          "2022-03-08T00:00:00+00:00",
          "2022-03-09T00:00:00+00:00",
          "2022-03-10T00:00:00+00:00",
          "2022-03-11T00:00:00+00:00",
          "2022-03-14T00:00:00+00:00",
          "2022-03-15T00:00:00+00:00",
          "2022-03-16T00:00:00+00:00",
          "2022-03-17T00:00:00+00:00",
          "2022-03-18T00:00:00+00:00",
          "2022-03-21T00:00:00+00:00",
          "2022-03-22T00:00:00+00:00",
          "2022-03-23T00:00:00+00:00",
          "2022-03-24T00:00:00+00:00",
          "2022-03-25T00:00:00+00:00",
          "2022-03-28T00:00:00+00:00",
          "2022-03-29T00:00:00+00:00",
          "2022-03-30T00:00:00+00:00",
          "2022-03-31T00:00:00+00:00",
          "2022-04-01T00:00:00+00:00",
          "2022-04-04T00:00:00+00:00",
          "2022-04-05T00:00:00+00:00",
          "2022-04-06T00:00:00+00:00",
          "2022-04-07T00:00:00+00:00",
          "2022-04-08T00:00:00+00:00",
          "2022-04-11T00:00:00+00:00",
          "2022-04-12T00:00:00+00:00",
          "2022-04-13T00:00:00+00:00",
          "2022-04-14T00:00:00+00:00",
          "2022-04-18T00:00:00+00:00",
          "2022-04-19T00:00:00+00:00",
          "2022-04-20T00:00:00+00:00",
          "2022-04-21T00:00:00+00:00",
          "2022-04-22T00:00:00+00:00",
          "2022-04-25T00:00:00+00:00",
          "2022-04-26T00:00:00+00:00",
          "2022-04-27T00:00:00+00:00",
          "2022-04-28T00:00:00+00:00",
          "2022-04-29T00:00:00+00:00",
          "2022-05-02T00:00:00+00:00",
          "2022-05-03T00:00:00+00:00",
          "2022-05-04T00:00:00+00:00",
          "2022-05-05T00:00:00+00:00",
          "2022-05-06T00:00:00+00:00",
          "2022-05-09T00:00:00+00:00",
          "2022-05-10T00:00:00+00:00",
          "2022-05-11T00:00:00+00:00",
          "2022-05-12T00:00:00+00:00",
          "2022-05-13T00:00:00+00:00",
          "2022-05-16T00:00:00+00:00",
          "2022-05-17T00:00:00+00:00",
          "2022-05-18T00:00:00+00:00",
          "2022-05-19T00:00:00+00:00",
          "2022-05-20T00:00:00+00:00",
          "2022-05-23T00:00:00+00:00",
          "2022-05-24T00:00:00+00:00",
          "2022-05-25T00:00:00+00:00",
          "2022-05-26T00:00:00+00:00",
          "2022-05-27T00:00:00+00:00",
          "2022-05-31T00:00:00+00:00",
          "2022-06-01T00:00:00+00:00",
          "2022-06-02T00:00:00+00:00",
          "2022-06-03T00:00:00+00:00",
          "2022-06-06T00:00:00+00:00",
          "2022-06-07T00:00:00+00:00",
          "2022-06-08T00:00:00+00:00",
          "2022-06-09T00:00:00+00:00",
          "2022-06-10T00:00:00+00:00",
          "2022-06-13T00:00:00+00:00",
          "2022-06-14T00:00:00+00:00",
          "2022-06-15T00:00:00+00:00",
          "2022-06-16T00:00:00+00:00",
          "2022-06-17T00:00:00+00:00",
          "2022-06-21T00:00:00+00:00",
          "2022-06-22T00:00:00+00:00",
          "2022-06-23T00:00:00+00:00",
          "2022-06-24T00:00:00+00:00",
          "2022-06-27T00:00:00+00:00",
          "2022-06-28T00:00:00+00:00",
          "2022-06-29T00:00:00+00:00",
          "2022-06-30T00:00:00+00:00",
          "2022-07-01T00:00:00+00:00",
          "2022-07-05T00:00:00+00:00",
          "2022-07-06T00:00:00+00:00",
          "2022-07-07T00:00:00+00:00",
          "2022-07-08T00:00:00+00:00",
          "2022-07-11T00:00:00+00:00",
          "2022-07-12T00:00:00+00:00",
          "2022-07-13T00:00:00+00:00",
          "2022-07-14T00:00:00+00:00",
          "2022-07-15T00:00:00+00:00",
          "2022-07-18T00:00:00+00:00",
          "2022-07-19T00:00:00+00:00",
          "2022-07-20T00:00:00+00:00",
          "2022-07-21T00:00:00+00:00",
          "2022-07-22T00:00:00+00:00",
          "2022-07-25T00:00:00+00:00",
          "2022-07-26T00:00:00+00:00",
          "2022-07-27T00:00:00+00:00",
          "2022-07-28T00:00:00+00:00",
          "2022-07-29T00:00:00+00:00",
          "2022-08-01T00:00:00+00:00",
          "2022-08-02T00:00:00+00:00",
          "2022-08-03T00:00:00+00:00",
          "2022-08-04T00:00:00+00:00",
          "2022-08-05T00:00:00+00:00",
          "2022-08-08T00:00:00+00:00",
          "2022-08-09T00:00:00+00:00",
          "2022-08-10T00:00:00+00:00",
          "2022-08-11T00:00:00+00:00",
          "2022-08-12T00:00:00+00:00",
          "2022-08-15T00:00:00+00:00",
          "2022-08-16T00:00:00+00:00",
          "2022-08-17T00:00:00+00:00",
          "2022-08-18T00:00:00+00:00",
          "2022-08-19T00:00:00+00:00",
          "2022-08-22T00:00:00+00:00",
          "2022-08-23T00:00:00+00:00",
          "2022-08-24T00:00:00+00:00",
          "2022-08-25T00:00:00+00:00",
          "2022-08-26T00:00:00+00:00",
          "2022-08-29T00:00:00+00:00",
          "2022-08-30T00:00:00+00:00",
          "2022-08-31T00:00:00+00:00",
          "2022-09-01T00:00:00+00:00",
          "2022-09-02T00:00:00+00:00",
          "2022-09-06T00:00:00+00:00",
          "2022-09-07T00:00:00+00:00",
          "2022-09-08T00:00:00+00:00",
          "2022-09-09T00:00:00+00:00",
          "2022-09-12T00:00:00+00:00",
          "2022-09-13T00:00:00+00:00",
          "2022-09-14T00:00:00+00:00",
          "2022-09-15T00:00:00+00:00",
          "2022-09-16T00:00:00+00:00",
          "2022-09-19T00:00:00+00:00",
          "2022-09-20T00:00:00+00:00",
          "2022-09-21T00:00:00+00:00",
          "2022-09-22T00:00:00+00:00",
          "2022-09-23T00:00:00+00:00",
          "2022-09-26T00:00:00+00:00",
          "2022-09-27T00:00:00+00:00",
          "2022-09-28T00:00:00+00:00",
          "2022-09-29T00:00:00+00:00",
          "2022-09-30T00:00:00+00:00",
          "2022-10-03T00:00:00+00:00",
          "2022-10-04T00:00:00+00:00",
          "2022-10-05T00:00:00+00:00",
          "2022-10-06T00:00:00+00:00",
          "2022-10-07T00:00:00+00:00",
          "2022-10-10T00:00:00+00:00",
          "2022-10-11T00:00:00+00:00",
          "2022-10-12T00:00:00+00:00",
          "2022-10-13T00:00:00+00:00",
          "2022-10-14T00:00:00+00:00",
          "2022-10-17T00:00:00+00:00",
          "2022-10-18T00:00:00+00:00",
          "2022-10-19T00:00:00+00:00",
          "2022-10-20T00:00:00+00:00",
          "2022-10-21T00:00:00+00:00",
          "2022-10-24T00:00:00+00:00",
          "2022-10-25T00:00:00+00:00",
          "2022-10-26T00:00:00+00:00",
          "2022-10-27T00:00:00+00:00",
          "2022-10-28T00:00:00+00:00",
          "2022-10-31T00:00:00+00:00",
          "2022-11-01T00:00:00+00:00",
          "2022-11-02T00:00:00+00:00",
          "2022-11-03T00:00:00+00:00",
          "2022-11-04T00:00:00+00:00",
          "2022-11-07T00:00:00+00:00",
          "2022-11-08T00:00:00+00:00",
          "2022-11-09T00:00:00+00:00",
          "2022-11-10T00:00:00+00:00",
          "2022-11-11T00:00:00+00:00",
          "2022-11-14T00:00:00+00:00",
          "2022-11-15T00:00:00+00:00",
          "2022-11-16T00:00:00+00:00",
          "2022-11-17T00:00:00+00:00",
          "2022-11-18T00:00:00+00:00",
          "2022-11-21T00:00:00+00:00",
          "2022-11-22T00:00:00+00:00",
          "2022-11-23T00:00:00+00:00",
          "2022-11-25T00:00:00+00:00",
          "2022-11-28T00:00:00+00:00",
          "2022-11-29T00:00:00+00:00",
          "2022-11-30T00:00:00+00:00",
          "2022-12-01T00:00:00+00:00",
          "2022-12-02T00:00:00+00:00",
          "2022-12-05T00:00:00+00:00",
          "2022-12-06T00:00:00+00:00",
          "2022-12-07T00:00:00+00:00",
          "2022-12-08T00:00:00+00:00",
          "2022-12-09T00:00:00+00:00",
          "2022-12-12T00:00:00+00:00",
          "2022-12-13T00:00:00+00:00",
          "2022-12-14T00:00:00+00:00",
          "2022-12-15T00:00:00+00:00",
          "2022-12-16T00:00:00+00:00",
          "2022-12-19T00:00:00+00:00",
          "2022-12-20T00:00:00+00:00",
          "2022-12-21T00:00:00+00:00",
          "2022-12-22T00:00:00+00:00",
          "2022-12-23T00:00:00+00:00",
          "2022-12-27T00:00:00+00:00",
          "2022-12-28T00:00:00+00:00",
          "2022-12-29T00:00:00+00:00",
          "2022-12-30T00:00:00+00:00",
          "2023-01-03T00:00:00+00:00",
          "2023-01-04T00:00:00+00:00",
          "2023-01-05T00:00:00+00:00",
          "2023-01-06T00:00:00+00:00",
          "2023-01-09T00:00:00+00:00",
          "2023-01-10T00:00:00+00:00",
          "2023-01-11T00:00:00+00:00",
          "2023-01-12T00:00:00+00:00",
          "2023-01-13T00:00:00+00:00",
          "2023-01-17T00:00:00+00:00",
          "2023-01-18T00:00:00+00:00",
          "2023-01-19T00:00:00+00:00",
          "2023-01-20T00:00:00+00:00",
          "2023-01-23T00:00:00+00:00",
          "2023-01-24T00:00:00+00:00",
          "2023-01-25T00:00:00+00:00",
          "2023-01-26T00:00:00+00:00",
          "2023-01-27T00:00:00+00:00",
          "2023-01-30T00:00:00+00:00",
          "2023-01-31T00:00:00+00:00",
          "2023-02-01T00:00:00+00:00",
          "2023-02-02T00:00:00+00:00",
          "2023-02-03T00:00:00+00:00",
          "2023-02-06T00:00:00+00:00",
          "2023-02-07T00:00:00+00:00",
          "2023-02-08T00:00:00+00:00",
          "2023-02-09T00:00:00+00:00",
          "2023-02-10T00:00:00+00:00",
          "2023-02-13T00:00:00+00:00",
          "2023-02-14T00:00:00+00:00",
          "2023-02-15T00:00:00+00:00",
          "2023-02-16T00:00:00+00:00",
          "2023-02-17T00:00:00+00:00",
          "2023-02-21T00:00:00+00:00",
          "2023-02-22T00:00:00+00:00",
          "2023-02-23T00:00:00+00:00",
          "2023-02-24T00:00:00+00:00",
          "2023-02-27T00:00:00+00:00",
          "2023-02-28T00:00:00+00:00",
          "2023-03-01T00:00:00+00:00",
          "2023-03-02T00:00:00+00:00",
          "2023-03-03T00:00:00+00:00",
          "2023-03-06T00:00:00+00:00",
          "2023-03-07T00:00:00+00:00",
          "2023-03-08T00:00:00+00:00",
          "2023-03-09T00:00:00+00:00",
          "2023-03-10T00:00:00+00:00",
          "2023-03-13T00:00:00+00:00",
          "2023-03-14T00:00:00+00:00",
          "2023-03-15T00:00:00+00:00",
          "2023-03-16T00:00:00+00:00",
          "2023-03-17T00:00:00+00:00",
          "2023-03-20T00:00:00+00:00",
          "2023-03-21T00:00:00+00:00",
          "2023-03-22T00:00:00+00:00",
          "2023-03-23T00:00:00+00:00",
          "2023-03-24T00:00:00+00:00",
          "2023-03-27T00:00:00+00:00",
          "2023-03-28T00:00:00+00:00",
          "2023-03-29T00:00:00+00:00",
          "2023-03-30T00:00:00+00:00",
          "2023-03-31T00:00:00+00:00",
          "2023-04-03T00:00:00+00:00",
          "2023-04-04T00:00:00+00:00",
          "2023-04-05T00:00:00+00:00",
          "2023-04-06T00:00:00+00:00",
          "2023-04-10T00:00:00+00:00",
          "2023-04-11T00:00:00+00:00",
          "2023-04-12T00:00:00+00:00",
          "2023-04-13T00:00:00+00:00",
          "2023-04-14T00:00:00+00:00",
          "2023-04-17T00:00:00+00:00",
          "2023-04-18T00:00:00+00:00",
          "2023-04-19T00:00:00+00:00",
          "2023-04-20T00:00:00+00:00",
          "2023-04-21T00:00:00+00:00",
          "2023-04-24T00:00:00+00:00",
          "2023-04-25T00:00:00+00:00",
          "2023-04-26T00:00:00+00:00",
          "2023-04-27T00:00:00+00:00",
          "2023-04-28T00:00:00+00:00",
          "2023-05-01T00:00:00+00:00",
          "2023-05-02T00:00:00+00:00",
          "2023-05-03T00:00:00+00:00",
          "2023-05-04T00:00:00+00:00",
          "2023-05-05T00:00:00+00:00",
          "2023-05-08T00:00:00+00:00",
          "2023-05-09T00:00:00+00:00",
          "2023-05-10T00:00:00+00:00",
          "2023-05-11T00:00:00+00:00",
          "2023-05-12T00:00:00+00:00",
          "2023-05-15T00:00:00+00:00",
          "2023-05-16T00:00:00+00:00",
          "2023-05-17T00:00:00+00:00",
          "2023-05-18T00:00:00+00:00",
          "2023-05-19T00:00:00+00:00",
          "2023-05-22T00:00:00+00:00",
          "2023-05-23T00:00:00+00:00",
          "2023-05-24T00:00:00+00:00",
          "2023-05-25T00:00:00+00:00",
          "2023-05-26T00:00:00+00:00",
          "2023-05-30T00:00:00+00:00",
          "2023-05-31T00:00:00+00:00",
          "2023-06-01T00:00:00+00:00",
          "2023-06-02T00:00:00+00:00",
          "2023-06-05T00:00:00+00:00",
          "2023-06-06T00:00:00+00:00",
          "2023-06-07T00:00:00+00:00",
          "2023-06-08T00:00:00+00:00",
          "2023-06-09T00:00:00+00:00",
          "2023-06-12T00:00:00+00:00",
          "2023-06-13T00:00:00+00:00",
          "2023-06-14T00:00:00+00:00",
          "2023-06-15T00:00:00+00:00",
          "2023-06-16T00:00:00+00:00",
          "2023-06-20T00:00:00+00:00",
          "2023-06-21T00:00:00+00:00",
          "2023-06-22T00:00:00+00:00",
          "2023-06-23T00:00:00+00:00",
          "2023-06-26T00:00:00+00:00",
          "2023-06-27T00:00:00+00:00",
          "2023-06-28T00:00:00+00:00",
          "2023-06-29T00:00:00+00:00",
          "2023-06-30T00:00:00+00:00",
          "2023-07-03T00:00:00+00:00",
          "2023-07-05T00:00:00+00:00",
          "2023-07-06T00:00:00+00:00",
          "2023-07-07T00:00:00+00:00",
          "2023-07-10T00:00:00+00:00",
          "2023-07-11T00:00:00+00:00",
          "2023-07-12T00:00:00+00:00",
          "2023-07-13T00:00:00+00:00",
          "2023-07-14T00:00:00+00:00",
          "2023-07-17T00:00:00+00:00",
          "2023-07-18T00:00:00+00:00",
          "2023-07-19T00:00:00+00:00",
          "2023-07-20T00:00:00+00:00",
          "2023-07-21T00:00:00+00:00",
          "2023-07-24T00:00:00+00:00",
          "2023-07-25T00:00:00+00:00",
          "2023-07-26T00:00:00+00:00",
          "2023-07-27T00:00:00+00:00",
          "2023-07-28T00:00:00+00:00",
          "2023-07-31T00:00:00+00:00",
          "2023-08-01T00:00:00+00:00",
          "2023-08-02T00:00:00+00:00",
          "2023-08-03T00:00:00+00:00",
          "2023-08-04T00:00:00+00:00",
          "2023-08-07T00:00:00+00:00",
          "2023-08-08T00:00:00+00:00",
          "2023-08-09T00:00:00+00:00",
          "2023-08-10T00:00:00+00:00",
          "2023-08-11T00:00:00+00:00",
          "2023-08-14T00:00:00+00:00",
          "2023-08-15T00:00:00+00:00",
          "2023-08-16T00:00:00+00:00",
          "2023-08-17T00:00:00+00:00",
          "2023-08-18T00:00:00+00:00",
          "2023-08-21T00:00:00+00:00",
          "2023-08-22T00:00:00+00:00",
          "2023-08-23T00:00:00+00:00",
          "2023-08-24T00:00:00+00:00",
          "2023-08-25T00:00:00+00:00",
          "2023-08-28T00:00:00+00:00",
          "2023-08-29T00:00:00+00:00",
          "2023-08-30T00:00:00+00:00",
          "2023-08-31T00:00:00+00:00",
          "2023-09-01T00:00:00+00:00",
          "2023-09-05T00:00:00+00:00",
          "2023-09-06T00:00:00+00:00",
          "2023-09-07T00:00:00+00:00",
          "2023-09-08T00:00:00+00:00",
          "2023-09-11T00:00:00+00:00",
          "2023-09-12T00:00:00+00:00",
          "2023-09-13T00:00:00+00:00",
          "2023-09-14T00:00:00+00:00",
          "2023-09-15T00:00:00+00:00",
          "2023-09-18T00:00:00+00:00",
          "2023-09-19T00:00:00+00:00",
          "2023-09-20T00:00:00+00:00",
          "2023-09-21T00:00:00+00:00",
          "2023-09-22T00:00:00+00:00",
          "2023-09-25T00:00:00+00:00",
          "2023-09-26T00:00:00+00:00",
          "2023-09-27T00:00:00+00:00",
          "2023-09-28T00:00:00+00:00",
          "2023-09-29T00:00:00+00:00",
          "2023-10-02T00:00:00+00:00",
          "2023-10-03T00:00:00+00:00",
          "2023-10-04T00:00:00+00:00",
          "2023-10-05T00:00:00+00:00",
          "2023-10-06T00:00:00+00:00",
          "2023-10-09T00:00:00+00:00",
          "2023-10-10T00:00:00+00:00",
          "2023-10-11T00:00:00+00:00",
          "2023-10-12T00:00:00+00:00",
          "2023-10-13T00:00:00+00:00",
          "2023-10-16T00:00:00+00:00",
          "2023-10-17T00:00:00+00:00",
          "2023-10-18T00:00:00+00:00",
          "2023-10-19T00:00:00+00:00",
          "2023-10-20T00:00:00+00:00",
          "2023-10-23T00:00:00+00:00",
          "2023-10-24T00:00:00+00:00",
          "2023-10-25T00:00:00+00:00",
          "2023-10-26T00:00:00+00:00",
          "2023-10-27T00:00:00+00:00",
          "2023-10-30T00:00:00+00:00",
          "2023-10-31T00:00:00+00:00",
          "2023-11-01T00:00:00+00:00",
          "2023-11-02T00:00:00+00:00",
          "2023-11-03T00:00:00+00:00",
          "2023-11-06T00:00:00+00:00",
          "2023-11-07T00:00:00+00:00",
          "2023-11-08T00:00:00+00:00",
          "2023-11-09T00:00:00+00:00",
          "2023-11-10T00:00:00+00:00",
          "2023-11-13T00:00:00+00:00",
          "2023-11-14T00:00:00+00:00",
          "2023-11-15T00:00:00+00:00",
          "2023-11-16T00:00:00+00:00",
          "2023-11-17T00:00:00+00:00",
          "2023-11-20T00:00:00+00:00",
          "2023-11-21T00:00:00+00:00",
          "2023-11-22T00:00:00+00:00",
          "2023-11-24T00:00:00+00:00",
          "2023-11-27T00:00:00+00:00",
          "2023-11-28T00:00:00+00:00",
          "2023-11-29T00:00:00+00:00",
          "2023-11-30T00:00:00+00:00",
          "2023-12-01T00:00:00+00:00",
          "2023-12-04T00:00:00+00:00",
          "2023-12-05T00:00:00+00:00",
          "2023-12-06T00:00:00+00:00",
          "2023-12-07T00:00:00+00:00",
          "2023-12-08T00:00:00+00:00",
          "2023-12-11T00:00:00+00:00",
          "2023-12-12T00:00:00+00:00",
          "2023-12-13T00:00:00+00:00",
          "2023-12-14T00:00:00+00:00",
          "2023-12-15T00:00:00+00:00",
          "2023-12-18T00:00:00+00:00",
          "2023-12-19T00:00:00+00:00",
          "2023-12-20T00:00:00+00:00",
          "2023-12-21T00:00:00+00:00",
          "2023-12-22T00:00:00+00:00",
          "2023-12-26T00:00:00+00:00",
          "2023-12-27T00:00:00+00:00",
          "2023-12-28T00:00:00+00:00",
          "2023-12-29T00:00:00+00:00",
          "2024-01-02T00:00:00+00:00",
          "2024-01-03T00:00:00+00:00",
          "2024-01-04T00:00:00+00:00",
          "2024-01-05T00:00:00+00:00",
          "2024-01-08T00:00:00+00:00",
          "2024-01-09T00:00:00+00:00",
          "2024-01-10T00:00:00+00:00",
          "2024-01-11T00:00:00+00:00",
          "2024-01-12T00:00:00+00:00",
          "2024-01-16T00:00:00+00:00",
          "2024-01-17T00:00:00+00:00",
          "2024-01-18T00:00:00+00:00",
          "2024-01-19T00:00:00+00:00",
          "2024-01-22T00:00:00+00:00",
          "2024-01-23T00:00:00+00:00",
          "2024-01-24T00:00:00+00:00",
          "2024-01-25T00:00:00+00:00",
          "2024-01-26T00:00:00+00:00",
          "2024-01-29T00:00:00+00:00",
          "2024-01-30T00:00:00+00:00",
          "2024-01-31T00:00:00+00:00",
          "2024-02-01T00:00:00+00:00",
          "2024-02-02T00:00:00+00:00",
          "2024-02-05T00:00:00+00:00",
          "2024-02-06T00:00:00+00:00",
          "2024-02-07T00:00:00+00:00",
          "2024-02-08T00:00:00+00:00",
          "2024-02-09T00:00:00+00:00",
          "2024-02-12T00:00:00+00:00",
          "2024-02-13T00:00:00+00:00",
          "2024-02-14T00:00:00+00:00",
          "2024-02-15T00:00:00+00:00",
          "2024-02-16T00:00:00+00:00",
          "2024-02-20T00:00:00+00:00",
          "2024-02-21T00:00:00+00:00",
          "2024-02-22T00:00:00+00:00",
          "2024-02-23T00:00:00+00:00",
          "2024-02-26T00:00:00+00:00",
          "2024-02-27T00:00:00+00:00",
          "2024-02-28T00:00:00+00:00",
          "2024-02-29T00:00:00+00:00",
          "2024-03-01T00:00:00+00:00",
          "2024-03-04T00:00:00+00:00",
          "2024-03-05T00:00:00+00:00",
          "2024-03-06T00:00:00+00:00",
          "2024-03-07T00:00:00+00:00",
          "2024-03-08T00:00:00+00:00",
          "2024-03-11T00:00:00+00:00",
          "2024-03-12T00:00:00+00:00",
          "2024-03-13T00:00:00+00:00",
          "2024-03-14T00:00:00+00:00",
          "2024-03-15T00:00:00+00:00",
          "2024-03-18T00:00:00+00:00",
          "2024-03-19T00:00:00+00:00",
          "2024-03-20T00:00:00+00:00",
          "2024-03-21T00:00:00+00:00",
          "2024-03-22T00:00:00+00:00",
          "2024-03-25T00:00:00+00:00",
          "2024-03-26T00:00:00+00:00",
          "2024-03-27T00:00:00+00:00",
          "2024-03-28T00:00:00+00:00",
          "2024-04-01T00:00:00+00:00",
          "2024-04-02T00:00:00+00:00",
          "2024-04-03T00:00:00+00:00",
          "2024-04-04T00:00:00+00:00",
          "2024-04-05T00:00:00+00:00",
          "2024-04-08T00:00:00+00:00",
          "2024-04-09T00:00:00+00:00",
          "2024-04-10T00:00:00+00:00",
          "2024-04-11T00:00:00+00:00",
          "2024-04-12T00:00:00+00:00",
          "2024-04-15T00:00:00+00:00",
          "2024-04-16T00:00:00+00:00",
          "2024-04-17T00:00:00+00:00",
          "2024-04-18T00:00:00+00:00",
          "2024-04-19T00:00:00+00:00",
          "2024-04-22T00:00:00+00:00",
          "2024-04-23T00:00:00+00:00",
          "2024-04-24T00:00:00+00:00",
          "2024-04-25T00:00:00+00:00",
          "2024-04-26T00:00:00+00:00",
          "2024-04-29T00:00:00+00:00",
          "2024-04-30T00:00:00+00:00",
          "2024-05-01T00:00:00+00:00",
          "2024-05-02T00:00:00+00:00",
          "2024-05-03T00:00:00+00:00",
          "2024-05-06T00:00:00+00:00",
          "2024-05-07T00:00:00+00:00",
          "2024-05-08T00:00:00+00:00",
          "2024-05-09T00:00:00+00:00",
          "2024-05-10T00:00:00+00:00",
          "2024-05-13T00:00:00+00:00",
          "2024-05-14T00:00:00+00:00",
          "2024-05-15T00:00:00+00:00",
          "2024-05-16T00:00:00+00:00",
          "2024-05-17T00:00:00+00:00",
          "2024-05-20T00:00:00+00:00",
          "2024-05-21T00:00:00+00:00",
          "2024-05-22T00:00:00+00:00",
          "2024-05-23T00:00:00+00:00",
          "2024-05-24T00:00:00+00:00",
          "2024-05-28T00:00:00+00:00",
          "2024-05-29T00:00:00+00:00",
          "2024-05-30T00:00:00+00:00",
          "2024-05-31T00:00:00+00:00",
          "2024-06-03T00:00:00+00:00",
          "2024-06-04T00:00:00+00:00",
          "2024-06-05T00:00:00+00:00",
          "2024-06-06T00:00:00+00:00",
          "2024-06-07T00:00:00+00:00",
          "2024-06-10T00:00:00+00:00",
          "2024-06-11T00:00:00+00:00",
          "2024-06-12T00:00:00+00:00",
          "2024-06-13T00:00:00+00:00",
          "2024-06-14T00:00:00+00:00",
          "2024-06-17T00:00:00+00:00",
          "2024-06-18T00:00:00+00:00",
          "2024-06-20T00:00:00+00:00",
          "2024-06-21T00:00:00+00:00",
          "2024-06-24T00:00:00+00:00",
          "2024-06-25T00:00:00+00:00",
          "2024-06-26T00:00:00+00:00",
          "2024-06-27T00:00:00+00:00",
          "2024-06-28T00:00:00+00:00",
          "2024-07-01T00:00:00+00:00",
          "2024-07-02T00:00:00+00:00",
          "2024-07-03T00:00:00+00:00",
          "2024-07-05T00:00:00+00:00",
          "2024-07-08T00:00:00+00:00",
          "2024-07-09T00:00:00+00:00",
          "2024-07-10T00:00:00+00:00",
          "2024-07-11T00:00:00+00:00",
          "2024-07-12T00:00:00+00:00",
          "2024-07-15T00:00:00+00:00",
          "2024-07-16T00:00:00+00:00",
          "2024-07-17T00:00:00+00:00",
          "2024-07-18T00:00:00+00:00",
          "2024-07-19T00:00:00+00:00",
          "2024-07-22T00:00:00+00:00",
          "2024-07-23T00:00:00+00:00",
          "2024-07-24T00:00:00+00:00",
          "2024-07-25T00:00:00+00:00",
          "2024-07-26T00:00:00+00:00",
          "2024-07-29T00:00:00+00:00",
          "2024-07-30T00:00:00+00:00",
          "2024-07-31T00:00:00+00:00",
          "2024-08-01T00:00:00+00:00",
          "2024-08-02T00:00:00+00:00",
          "2024-08-05T00:00:00+00:00",
          "2024-08-06T00:00:00+00:00",
          "2024-08-07T00:00:00+00:00",
          "2024-08-08T00:00:00+00:00",
          "2024-08-09T00:00:00+00:00",
          "2024-08-12T00:00:00+00:00",
          "2024-08-13T00:00:00+00:00",
          "2024-08-14T00:00:00+00:00",
          "2024-08-15T00:00:00+00:00",
          "2024-08-16T00:00:00+00:00",
          "2024-08-19T00:00:00+00:00",
          "2024-08-20T00:00:00+00:00",
          "2024-08-21T00:00:00+00:00",
          "2024-08-22T00:00:00+00:00",
          "2024-08-23T00:00:00+00:00",
          "2024-08-26T00:00:00+00:00",
          "2024-08-27T00:00:00+00:00",
          "2024-08-28T00:00:00+00:00",
          "2024-08-29T00:00:00+00:00",
          "2024-08-30T00:00:00+00:00",
          "2024-09-03T00:00:00+00:00",
          "2024-09-04T00:00:00+00:00",
          "2024-09-05T00:00:00+00:00",
          "2024-09-06T00:00:00+00:00",
          "2024-09-09T00:00:00+00:00",
          "2024-09-10T00:00:00+00:00",
          "2024-09-11T00:00:00+00:00",
          "2024-09-12T00:00:00+00:00",
          "2024-09-13T00:00:00+00:00",
          "2024-09-16T00:00:00+00:00",
          "2024-09-17T00:00:00+00:00",
          "2024-09-18T00:00:00+00:00",
          "2024-09-19T00:00:00+00:00",
          "2024-09-20T00:00:00+00:00",
          "2024-09-23T00:00:00+00:00",
          "2024-09-24T00:00:00+00:00",
          "2024-09-25T00:00:00+00:00",
          "2024-09-26T00:00:00+00:00",
          "2024-09-27T00:00:00+00:00",
          "2024-09-30T00:00:00+00:00",
          "2024-10-01T00:00:00+00:00",
          "2024-10-02T00:00:00+00:00",
          "2024-10-03T00:00:00+00:00",
          "2024-10-04T00:00:00+00:00",
          "2024-10-07T00:00:00+00:00",
          "2024-10-08T00:00:00+00:00",
          "2024-10-09T00:00:00+00:00",
          "2024-10-10T00:00:00+00:00",
          "2024-10-11T00:00:00+00:00",
          "2024-10-14T00:00:00+00:00",
          "2024-10-15T00:00:00+00:00",
          "2024-10-16T00:00:00+00:00",
          "2024-10-17T00:00:00+00:00",
          "2024-10-18T00:00:00+00:00",
          "2024-10-21T00:00:00+00:00",
          "2024-10-22T00:00:00+00:00",
          "2024-10-23T00:00:00+00:00",
          "2024-10-24T00:00:00+00:00",
          "2024-10-25T00:00:00+00:00",
          "2024-10-28T00:00:00+00:00",
          "2024-10-29T00:00:00+00:00",
          "2024-10-30T00:00:00+00:00",
          "2024-10-31T00:00:00+00:00"
         ],
         "xaxis": "x",
         "y": [
          42.46843338012695,
          42.014862060546875,
          41.85709762573242,
          41.3443603515625,
          41.137298583984375,
          41.600730895996094,
          41.30491256713867,
          41.68947219848633,
          39.746986389160156,
          40.12167739868164,
          40.82175827026367,
          40.486515045166016,
          40.94008255004883,
          40.486515045166016,
          42.18248748779297,
          42.734657287597656,
          43.47419357299805,
          42.91215515136719,
          43.178382873535156,
          42.82341384887695,
          41.6993293762207,
          42.50788116455078,
          42.84312057495117,
          41.73876953125,
          42.9220085144043,
          41.71904373168945,
          42.103599548339844,
          42.18248748779297,
          42.76424789428711,
          42.35011291503906,
          42.58675765991211,
          43.03047180175781,
          43.89818572998047,
          44.49966049194336,
          45.00254440307617,
          44.14469528198242,
          44.16440963745117,
          43.63195037841797,
          44.055946350097656,
          43.9374885559082,
          44.78642272949219,
          44.43106460571289,
          44.72720718383789,
          45.14179611206055,
          44.895023345947266,
          45.734092712402344,
          46.32636642456055,
          46.2177734375,
          46.691612243652344,
          46.04997634887695,
          46.48430633544922,
          47.1753044128418,
          46.91864776611328,
          46.61264419555664,
          46.91864776611328,
          45.32935333251953,
          44.29286575317383,
          44.23363494873047,
          45.19115447998047,
          45.38858413696289,
          45.734092712402344,
          44.61861801147461,
          45.22077560424805,
          46.148685455322266,
          47.28389358520508,
          51.489097595214844,
          52.347900390625,
          52.584815979003906,
          52.00241470336914,
          52.012271881103516,
          52.39726257324219,
          51.42986297607422,
          51.65691375732422,
          51.577938079833984,
          51.03501892089844,
          50.54144287109375,
          48.17231369018555,
          47.214786529541016,
          47.19505310058594,
          45.3392219543457,
          43.9276237487793,
          43.75981140136719,
          41.47951889038086,
          45.023345947265625,
          44.36196517944336,
          44.98386001586914,
          36.65242004394531,
          36.96830749511719,
          35.10261535644531,
          30.45319366455078,
          30.98624610900879,
          24.66856575012207,
          27.491779327392578,
          28.725704193115234,
          34.69789123535156,
          32.85194396972656,
          31.904285430908203,
          37.05714416503906,
          34.73736572265625,
          35.309913635253906,
          33.48371505737305,
          37.932376861572266,
          37.18104553222656,
          28.886741638183594,
          31.753662109375,
          32.44568634033203,
          35.66850280761719,
          34.27458190917969,
          36.68675994873047,
          38.980289459228516,
          36.25176239013672,
          37.3194580078125,
          35.065467834472656,
          36.08371353149414,
          36.825157165527344,
          36.55823516845703,
          34.48218536376953,
          35.085235595703125,
          37.39854431152344,
          35.9848518371582,
          38.48599624633789,
          37.2799072265625,
          40.28523254394531,
          36.98332214355469,
          36.04416275024414,
          33.760520935058594,
          35.164310455322266,
          33.39472961425781,
          34.01754379272461,
          36.963558197021484,
          37.991703033447266,
          37.91261672973633,
          36.063941955566406,
          37.24036407470703,
          37.932376861572266,
          41.01679992675781,
          39.64265823364258,
          41.38258361816406,
          41.916419982910156,
          42.746829986572266,
          43.96281051635742,
          46.38486099243164,
          44.32859420776367,
          43.22136306762695,
          42.618324279785156,
          42.93467330932617,
          44.546085357666016,
          43.59702682495117,
          46.63200759887695,
          47.67992401123047,
          46.41453170776367,
          45.31718826293945,
          41.02667999267578,
          41.51110076904297,
          42.30197525024414,
          43.28068161010742,
          42.143802642822266,
          41.71869659423828,
          41.38258361816406,
          41.639617919921875,
          41.323265075683594,
          39.92934036254883,
          40.433528900146484,
          38.57496643066406,
          40.069664001464844,
          41.42577362060547,
          42.08898162841797,
          41.99989700317383,
          42.71260070800781,
          40.911048889160156,
          40.7625617980957,
          39.881595611572266,
          40.58439636230469,
          40.34682083129883,
          40.742774963378906,
          44.454750061035156,
          44.27657699584961,
          44.87050247192383,
          44.029117584228516,
          45.06847381591797,
          45.4050178527832,
          45.23674774169922,
          44.72201919555664,
          45.87025833129883,
          45.088260650634766,
          45.94944381713867,
          46.0781364440918,
          45.52381896972656,
          46.90961456298828,
          45.75148010253906,
          48.18654251098633,
          55.39274978637695,
          56.432098388671875,
          55.59071731567383,
          55.5709228515625,
          55.73919677734375,
          55.818389892578125,
          54.97700119018555,
          54.59096145629883,
          54.68003845214844,
          56.05596160888672,
          56.96662521362305,
          57.372467041015625,
          57.65953063964844,
          57.412071228027344,
          56.50138854980469,
          57.47146224975586,
          58.04558563232422,
          57.946590423583984,
          58.09507369995117,
          59.3324089050293,
          56.709266662597656,
          55.333351135253906,
          54.571163177490234,
          55.75899887084961,
          54.20490646362305,
          52.898292541503906,
          54.91762161254883,
          54.432586669921875,
          55.39274978637695,
          54.254398345947266,
          55.046295166015625,
          54.363285064697266,
          54.83842468261719,
          53.60109329223633,
          53.85845947265625,
          55.36304473876953,
          55.91737747192383,
          55.50126647949219,
          56.53163146972656,
          56.1551513671875,
          55.86783981323242,
          57.31431579589844,
          56.75950622558594,
          57.443115234375,
          58.760799407958984,
          58.94904327392578,
          58.25552749633789,
          58.87968444824219,
          59.26607131958008,
          57.84931945800781,
          57.482749938964844,
          56.67033767700195,
          57.225154876708984,
          57.482749938964844,
          58.93913650512695,
          59.216529846191406,
          58.057373046875,
          57.54218673706055,
          56.075889587402344,
          59.15708923339844,
          58.29514694213867,
          60.29644775390625,
          62.4067268371582,
          62.04015350341797,
          61.74292755126953,
          60.722469329833984,
          63.16958999633789,
          65.3492202758789,
          66.15171813964844,
          63.704586029052734,
          67.10283660888672,
          68.74744415283203,
          68.9951400756836,
          67.84587860107422,
          68.64838409423828,
          69.25276184082031,
          69.75801849365234,
          70.64967346191406,
          71.76921844482422,
          70.89736938476562,
          71.20450592041016,
          70.8874740600586,
          69.49051666259766,
          70.17412567138672,
          71.87821197509766,
          73.18598175048828,
          75.15755462646484,
          75.19718933105469,
          75.14763641357422,
          71.55126190185547,
          71.1846694946289,
          75.10799407958984,
          73.8299560546875,
          73.6912612915039,
          75.46469116210938,
          72.21505737304688,
          72.40328216552734,
          71.88810729980469,
          72.14569854736328,
          73.19588470458984,
          72.02680206298828,
          72.28759002685547,
          72.2974853515625,
          74.69682312011719,
          79.92184448242188,
          85.37488555908203,
          84.6610107421875,
          83.21348571777344,
          82.74748992919922,
          83.19367218017578,
          82.78717803955078,
          83.99675750732422,
          83.97691345214844,
          84.09589385986328,
          84.59162139892578,
          82.53929138183594,
          84.45281982421875,
          85.05760955810547,
          83.89759826660156,
          80.705078125,
          80.6654281616211,
          77.61172485351562,
          84.07605743408203,
          85.52360534667969,
          88.21046447753906,
          85.87061309814453,
          83.10442352294922,
          83.73896026611328,
          84.90889739990234,
          85.62274932861328,
          87.44701385498047,
          85.91027069091797,
          83.52083587646484,
          83.98683166503906,
          82.49964904785156,
          82.92595672607422,
          82.7177505493164,
          81.76595306396484,
          84.71058654785156,
          80.2391128540039,
          81.3198013305664,
          82.50956726074219,
          81.32970428466797,
          81.63705444335938,
          81.8353500366211,
          80.1597900390625,
          82.53929138183594,
          85.2757339477539,
          87.2090835571289,
          88.08158111572266,
          89.24158477783203,
          91.08568572998047,
          87.2090835571289,
          86.27710723876953,
          88.04191589355469,
          88.973876953125,
          90.00501251220703,
          87.57593536376953,
          89.5489273071289,
          92.41425323486328,
          95.309326171875,
          90.5106430053711,
          91.91240692138672,
          93.09292602539062,
          93.00364685058594,
          93.4798355102539,
          93.82704162597656,
          91.1485366821289,
          94.75955200195312,
          92.69611358642578,
          91.267578125,
          91.267578125,
          92.19017028808594,
          92.567138671875,
          91.33702087402344,
          87.54742431640625,
          86.932373046875,
          88.8172378540039,
          86.3867416381836,
          87.67639923095703,
          87.91448211669922,
          87.65656280517578,
          88.04345703125,
          85.98992919921875,
          85.16653442382812,
          86.73395538330078,
          85.85104370117188,
          85.6327896118164,
          84.59114837646484,
          85.65263366699219,
          83.301513671875,
          83.33125305175781,
          81.09918212890625,
          82.23011779785156,
          83.29159545898438,
          81.45631408691406,
          81.3868637084961,
          81.97218322753906,
          82.67652130126953,
          82.01184844970703,
          80.5932388305664,
          81.54559326171875,
          82.34915924072266,
          81.54559326171875,
          82.5376205444336,
          83.25189971923828,
          81.65471649169922,
          81.80352020263672,
          81.97218322753906,
          82.5971450805664,
          83.14277648925781,
          82.4483642578125,
          82.75587463378906,
          83.65865325927734,
          83.47015380859375,
          84.7201156616211,
          84.25387573242188,
          85.32526397705078,
          82.7162094116211,
          83.67847442626953,
          84.3332290649414,
          84.57131958007812,
          86.31731414794922,
          86.8530044555664,
          88.4799575805664,
          87.48037719726562,
          86.03113555908203,
          88.20499420166016,
          87.97669982910156,
          87.39105224609375,
          87.99655151367188,
          86.55720520019531,
          86.8748779296875,
          88.6615982055664,
          87.00391387939453,
          86.64656066894531,
          86.0609130859375,
          86.30907440185547,
          85.55467987060547,
          86.30907440185547,
          85.73334503173828,
          84.18484497070312,
          85.63407135009766,
          84.4528579711914,
          84.88960266113281,
          85.87232208251953,
          82.79517364501953,
          84.44293212890625,
          83.75802612304688,
          84.63152313232422,
          82.88451385498047,
          83.6488265991211,
          84.28411865234375,
          83.98633575439453,
          83.62895965576172,
          82.92420959472656,
          83.51978302001953,
          82.97384643554688,
          82.73560333251953,
          81.22681427001953,
          79.2217025756836,
          79.03311920166016,
          80.98857879638672,
          81.46504974365234,
          80.82976531982422,
          79.98603820800781,
          79.29119110107422,
          81.70326232910156,
          80.7602767944336,
          81.0679931640625,
          82.33856964111328,
          82.57678985595703,
          82.24921417236328,
          80.73049926757812,
          80.45256805419922,
          79.47978973388672,
          79.48971557617188,
          79.78750610351562,
          78.54669952392578,
          77.11732482910156,
          78.32833862304688,
          77.40519714355469,
          76.26367950439453,
          76.2041244506836,
          76.56145477294922,
          75.35045623779297,
          74.84422302246094,
          76.36294555664062,
          74.86405181884766,
          74.6783218383789,
          74.39024353027344,
          75.11538696289062,
          75.03590393066406,
          74.78758239746094,
          73.15853881835938,
          71.81755065917969,
          72.02611541748047,
          70.82421112060547,
          71.90693664550781,
          71.78772735595703,
          72.24466705322266,
          72.35391998291016,
          73.24790954589844,
          73.37706756591797,
          71.60892486572266,
          72.97972106933594,
          71.66851806640625,
          68.9666748046875,
          69.85073852539062,
          68.78787994384766,
          75.67162322998047,
          77.48943328857422,
          77.75762939453125,
          75.2743148803711,
          77.81722259521484,
          76.85370635986328,
          82.57525634765625,
          80.97599792480469,
          81.70112609863281,
          80.75748443603516,
          81.40312957763672,
          81.61172485351562,
          80.85680389404297,
          81.01573181152344,
          81.54219055175781,
          81.4627456665039,
          79.80387115478516,
          81.61172485351562,
          81.11506652832031,
          80.618408203125,
          77.23115539550781,
          76.68482971191406,
          75.82064056396484,
          74.33065032958984,
          75.90009307861328,
          75.00611114501953,
          77.60862731933594,
          79.20787048339844,
          79.75421142578125,
          77.7675552368164,
          78.69136047363281,
          78.07548522949219,
          78.48277282714844,
          77.48943328857422,
          75.58223724365234,
          77.37023162841797,
          76.52590942382812,
          79.60520935058594,
          81.59185791015625,
          81.25413513183594,
          83.5785140991211,
          84.50231170654297,
          84.51224517822266,
          83.20516967773438,
          83.45367431640625,
          84.7557601928711,
          83.35427856445312,
          82.56903839111328,
          81.27687072753906,
          79.80580139160156,
          80.50157928466797,
          80.14375305175781,
          77.93714904785156,
          79.79586029052734,
          79.9449691772461,
          76.92328643798828,
          75.54167175292969,
          75.43234252929688,
          75.0645523071289,
          76.53564453125,
          74.66698455810547,
          73.5537338256836,
          72.96729278564453,
          73.54379272460938,
          74.97510528564453,
          74.12030029296875,
          73.87179565429688,
          72.98717498779297,
          72.45043182373047,
          70.53206634521484,
          72.72874450683594,
          74.53775787353516,
          78.50371551513672,
          77.5793228149414,
          77.10221862792969,
          80.0841064453125,
          80.46182250976562,
          79.43803405761719,
          79.30882263183594,
          78.48382568359375,
          77.28111267089844,
          79.03050994873047,
          81.69434356689453,
          83.53318786621094,
          82.36029815673828,
          83.99041748046875,
          84.467529296875,
          84.87503814697266,
          85.47142791748047,
          86.91268920898438,
          86.93256378173828,
          85.47142791748047,
          84.3084945678711,
          83.10578155517578,
          84.12956237792969,
          85.98829650878906,
          87.28045654296875,
          86.4952163696289,
          86.81328582763672,
          86.7039566040039,
          84.61662292480469,
          84.914794921875,
          85.98829650878906,
          86.51509094238281,
          88.37382507324219,
          88.86613464355469,
          89.52255249023438,
          93.71971130371094,
          89.49272918701172,
          88.65726470947266,
          87.5234603881836,
          87.57317352294922,
          86.52885437011719,
          84.9574203491211,
          81.9637222290039,
          83.99267578125,
          84.8877944946289,
          83.47549438476562,
          84.36067199707031,
          86.5785903930664,
          86.82723999023438,
          80.74037170410156,
          83.33624267578125,
          82.39138793945312,
          81.05864715576172,
          81.52610778808594,
          79.89498901367188,
          78.67164611816406,
          77.9754409790039,
          78.51250457763672,
          77.33890533447266,
          75.56854248046875,
          76.32441711425781,
          77.03056335449219,
          75.93653106689453,
          77.44831848144531,
          78.37328338623047,
          78.19424438476562,
          81.09843444824219,
          78.69154357910156,
          78.50257110595703,
          78.60202026367188,
          78.99984741210938,
          78.12461853027344,
          79.03964233398438,
          80.16351318359375,
          81.9637222290039,
          80.73043060302734,
          77.71684265136719,
          79.82536315917969,
          78.78104400634766,
          79.09931182861328,
          79.39769744873047,
          76.08573150634766,
          75.85697174072266,
          75.4591293334961,
          73.25115966796875,
          72.37592315673828,
          73.11192321777344,
          72.39582061767578,
          73.59925842285156,
          70.67518615722656,
          71.45095825195312,
          72.52511596679688,
          74.84249877929688,
          75.4989242553711,
          73.51968383789062,
          75.22666931152344,
          73.12654113769531,
          75.3361587524414,
          74.89823150634766,
          73.89292907714844,
          74.7489242553711,
          74.7091064453125,
          73.12654113769531,
          73.5246810913086,
          73.34551239013672,
          73.2857894897461,
          74.97785186767578,
          74.17162322998047,
          75.66462707519531,
          76.10255432128906,
          77.66521453857422,
          78.4017562866211,
          78.4017562866211,
          79.31745910644531,
          79.16815948486328,
          79.57623291015625,
          79.31745910644531,
          81.48727416992188,
          86.82221984863281,
          85.56810760498047,
          83.4779281616211,
          84.47323608398438,
          85.48847961425781,
          84.91118621826172,
          86.3444595336914,
          85.70745086669922,
          87.42935943603516,
          88.85266876220703,
          88.1260986328125,
          89.63898468017578,
          90.81346130371094,
          90.28594207763672,
          89.32048034667969,
          89.00198364257812,
          89.17117309570312,
          90.0769271850586,
          86.52361297607422,
          86.6231460571289,
          84.2940902709961,
          84.90123748779297,
          83.61727142333984,
          82.09443664550781,
          83.08975219726562,
          86.55348205566406,
          86.35442352294922,
          86.71273040771484,
          86.76249694824219,
          83.98552703857422,
          83.93577575683594,
          84.55287170410156,
          84.37371826171875,
          86.00604248046875,
          85.23963928222656,
          85.93637084960938,
          83.62722778320312,
          79.26769256591797,
          80.24311828613281,
          79.1781234741211,
          80.621337890625,
          80.62631225585938,
          79.18212127685547,
          81.12431335449219,
          82.94700622558594,
          83.78364562988281,
          83.59441375732422,
          82.17012023925781,
          85.03861236572266,
          84.99876403808594,
          83.23583221435547,
          85.13821411132812,
          82.56852722167969,
          85.99475860595703,
          85.01868438720703,
          84.36132049560547,
          84.12228393554688,
          85.16808319091797,
          87.18997192382812,
          87.82740783691406,
          89.7297592163086,
          86.16409301757812,
          89.60029602050781,
          89.42100524902344,
          91.32337188720703,
          90.30744171142578,
          90.8851318359375,
          90.87516784667969,
          91.64208984375,
          91.36322021484375,
          89.67996978759766,
          94.50062561035156,
          91.95085906982422,
          91.48273468017578,
          91.53253173828125,
          90.95484924316406,
          91.39309692382812,
          92.13013458251953,
          93.00662231445312,
          93.8631820678711,
          92.55841064453125,
          93.74365997314453,
          92.33929443359375,
          92.85721588134766,
          94.6201400756836,
          93.97274017333984,
          93.90302276611328,
          91.33332061767578,
          91.16400909423828,
          91.73173522949219,
          93.23570251464844,
          90.50665283203125,
          92.56838989257812,
          92.80741119384766,
          95.05838012695312,
          94.73966979980469,
          95.28746032714844,
          94.869140625,
          94.93885803222656,
          96.40298461914062,
          94.0922622680664,
          94.65997314453125,
          94.87910461425781,
          93.0364990234375,
          95.10747528076172,
          94.29023742675781,
          94.19058227539062,
          95.55595397949219,
          93.87166595458984,
          95.75527954101562,
          94.32014465332031,
          93.87166595458984,
          95.40645599365234,
          97.41963195800781,
          98.19698333740234,
          94.31018829345703,
          93.3534164428711,
          93.34346008300781,
          92.84514617919922,
          92.80528259277344,
          90.81204223632812,
          91.48973846435547,
          91.75882720947266,
          91.07115936279297,
          91.39007568359375,
          92.93485260009766,
          93.6723403930664,
          93.66236877441406,
          92.08770751953125,
          90.05459594726562,
          89.5562973022461,
          89.51644134521484,
          88.69920349121094,
          90.16423034667969,
          90.89177703857422,
          89.7855224609375,
          90.97149658203125,
          92.22724151611328,
          91.01136016845703,
          90.3436279296875,
          90.17420196533203,
          89.42674255371094,
          89.52640533447266,
          90.32369232177734,
          89.1775894165039,
          90.17420196533203,
          90.5130615234375,
          91.14092254638672,
          89.96491241455078,
          87.88197326660156,
          88.35039520263672,
          88.55968475341797,
          87.2939682006836,
          86.46678161621094,
          89.04801940917969,
          87.94176483154297,
          89.34700775146484,
          89.9748764038086,
          91.29042053222656,
          91.44987487792969,
          89.01812744140625,
          87.53315734863281,
          90.38349151611328,
          91.26051330566406,
          91.59937286376953,
          91.28045654296875,
          92.75438690185547,
          95.27743530273438,
          94.89847564697266,
          94.56938934326172,
          97.03260040283203,
          96.96279907226562,
          98.13955688476562,
          98.84761047363281,
          97.8902359008789,
          98.12957763671875,
          98.19938659667969,
          98.03982543945312,
          97.86031341552734,
          98.05976104736328,
          98.13955688476562,
          98.74787139892578,
          99.68528747558594,
          101.60997772216797,
          99.43597412109375,
          95.86581420898438,
          96.82316589355469,
          96.98273468017578,
          94.78878784179688,
          93.47240447998047,
          92.13609313964844,
          92.2258529663086,
          92.38540649414062,
          91.55768585205078,
          92.20590209960938,
          92.30561828613281,
          91.62749481201172,
          91.77709197998047,
          90.99922180175781,
          91.03911590576172,
          90.60033416748047,
          91.6075439453125,
          91.70726776123047,
          91.4779052734375,
          91.56765747070312,
          88.66566467285156,
          88.32659912109375,
          87.80802154541016,
          88.3664779663086,
          88.22686767578125,
          91.35822296142578,
          91.29840087890625,
          93.12337493896484,
          93.86134338378906,
          92.89400482177734,
          92.60480499267578,
          93.17323303222656,
          92.87406158447266,
          92.41532135009766,
          94.34001922607422,
          94.29015350341797,
          94.12062072753906,
          93.26298522949219,
          92.33554077148438,
          90.66017150878906,
          91.6474380493164,
          93.14331817626953,
          93.78154754638672,
          95.14663696289062,
          95.25640869140625,
          93.68975067138672,
          91.59423828125,
          90.43670654296875,
          88.84011840820312,
          89.10954284667969,
          89.48873138427734,
          89.319091796875,
          89.64837646484375,
          91.0054931640625,
          89.74817657470703,
          89.56855773925781,
          92.10314178466797,
          92.55218505859375,
          93.18083953857422,
          92.40249633789062,
          93.1509017944336,
          91.5543212890625,
          90.19721221923828,
          92.85154724121094,
          96.66339874267578,
          94.49801635742188,
          96.79312133789062,
          98.28990936279297,
          96.7332534790039,
          96.81307220458984,
          96.76319122314453,
          97.01265716552734,
          97.51158142089844,
          97.8907699584961,
          98.09034729003906,
          97.70118713378906,
          97.79098510742188,
          96.16446685791016,
          96.78312683105469,
          96.33409881591797,
          96.89289855957031,
          97.35191345214844,
          97.11243438720703,
          97.94066619873047,
          97.8907699584961,
          97.9306869506836,
          101.55294799804688,
          100.00624084472656,
          98.91857147216797,
          95.36617279052734,
          95.20651245117188,
          95.97486877441406,
          95.80523681640625,
          94.22859954833984,
          93.47021484375,
          93.60991668701172,
          93.0810546875,
          92.78169250488281,
          93.60991668701172,
          92.88148498535156,
          94.00907135009766,
          93.25068664550781,
          93.40037536621094,
          93.9092788696289,
          92.54220581054688,
          92.39252471923828,
          93.82836151123047,
          92.78992462158203,
          91.9012680053711,
          90.4834213256836,
          91.24225616455078,
          91.8114013671875,
          92.85982513427734,
          94.1578598022461,
          96.78388977050781,
          96.75394439697266,
          94.37752532958984,
          95.49583435058594,
          96.11491394042969,
          97.53276824951172,
          97.66256713867188,
          96.29463195800781,
          95.96513366699219,
          95.51581573486328,
          96.55423736572266,
          94.89674377441406,
          95.2062759399414,
          97.1533432006836,
          95.17632293701172,
          96.45439147949219,
          96.36453247070312,
          98.68103790283203,
          101.84626007080078,
          101.60661315917969,
          102.83476257324219,
          102.55519104003906,
          101.55669403076172,
          102.6650161743164,
          102.57515716552734,
          106.40936279296875,
          105.01148223876953,
          106.02994537353516,
          107.2281265258789,
          107.73736572265625,
          107.78728485107422,
          108.36641693115234,
          109.43479919433594,
          108.51618194580078,
          107.08834075927734,
          106.74886322021484,
          106.90861511230469,
          108.31649017333984,
          109.38487243652344,
          108.07685089111328,
          106.58909606933594,
          106.678955078125,
          106.5391616821289,
          107.49772644042969,
          108.92556762695312,
          111.50167846679688,
          110.9924545288086,
          111.31196594238281,
          111.59154510498047,
          113.87809753417969,
          110.213623046875,
          112.20063018798828,
          113.12921905517578,
          114.01788330078125,
          114.09776306152344,
          113.60824584960938,
          112.09972381591797,
          114.53732299804688,
          112.6691665649414,
          113.72811889648438,
          113.89795684814453,
          115.17669677734375,
          114.15769958496094,
          114.3475112915039,
          115.6562271118164,
          117.25465393066406,
          116.53536224365234,
          114.8470230102539,
          115.88600158691406,
          115.84603881835938,
          117.35455322265625,
          116.91499328613281,
          115.06680297851562,
          115.22664642333984,
          114.77709197998047,
          116.40548706054688,
          116.09579467773438,
          113.10872650146484,
          115.23664093017578,
          120.66130065917969,
          117.85406494140625,
          117.46444702148438,
          117.2746353149414,
          117.94397735595703,
          118.78314971923828,
          119.59235382080078,
          117.34456634521484,
          120.52143859863281,
          119.8021469116211,
          121.3606185913086,
          121.22074890136719,
          122.80918884277344,
          123.57843017578125,
          124.12789154052734,
          124.07793426513672,
          123.80821228027344,
          124.39762115478516,
          124.79722595214844,
          121.78020477294922,
          125.86618041992188,
          125.52651977539062,
          125.4665756225586,
          124.18782806396484,
          123.57843017578125,
          124.62739562988281,
          124.50751495361328,
          123.27872467041016,
          121.8601303100586,
          122.56942749023438,
          122.06991577148438,
          123.5984115600586,
          123.2987060546875,
          123.61839294433594,
          123.67833709716797,
          122.989013671875,
          123.20880126953125,
          125.55763244628906,
          124.35822296142578,
          123.80850219726562,
          120.87995147705078,
          121.27974700927734,
          118.72102355957031,
          119.66056060791016,
          118.98089599609375,
          119.69054412841797,
          117.3517074584961,
          120.15031433105469,
          119.22077178955078,
          118.63107299804688,
          117.611572265625,
          117.7614974975586,
          116.42217254638672,
          118.20128631591797,
          117.17179870605469,
          118.56110382080078,
          118.58109283447266,
          117.23176574707031,
          117.19178771972656,
          118.63107299804688,
          118.30123138427734,
          119.39068603515625,
          116.49213409423828,
          116.83196258544922,
          115.99238586425781,
          117.89143371582031,
          116.03235626220703,
          117.64155578613281,
          118.28124237060547,
          117.6815414428711,
          118.08134460449219,
          119.22077178955078,
          119.13082122802734,
          119.73052215576172,
          119.5006332397461,
          119.33071899414062,
          119.07084655761719,
          118.441162109375,
          120.100341796875,
          118.8709487915039,
          116.69203186035156,
          118.43116760253906,
          121.17980194091797,
          119.71053314208984,
          121.34972381591797,
          120.3602066040039,
          118.76100158691406,
          118.97090148925781,
          119.35071563720703,
          119.06085968017578,
          120.42018127441406,
          119.55061340332031,
          118.90093231201172,
          122.08935546875,
          121.13982391357422,
          119.82047271728516,
          120.97990417480469,
          121.30973815917969,
          121.11983489990234,
          120.60009765625,
          120.77999877929688,
          123.69000244140625,
          124.13999938964844,
          125.93000030517578,
          126.41000366210938,
          126.5999984741211,
          125.0199966430664,
          126.44000244140625,
          130.30999755859375,
          133.11000061035156,
          134.3300018310547,
          135.17999267578125,
          139.86000061035156,
          138.52000427246094,
          136.64999389648438,
          135.47000122070312,
          135.91000366210938,
          135.92999267578125,
          136.60000610351562,
          136.1699981689453,
          142.8000030517578,
          146.00999450683594,
          145.42999267578125,
          140.75,
          139.5399932861328,
          139.60000610351562,
          137.1999969482422,
          141.05999755859375,
          138.00999450683594,
          140.80999755859375,
          141.25,
          140.02999877929688,
          142.05999755859375,
          140.17999267578125,
          141.3699951171875,
          141.25,
          141.9199981689453,
          143.72000122070312,
          144.75,
          146.3699951171875,
          148.07000732421875,
          147.02999877929688,
          148.16000366210938,
          148.66000366210938,
          150.08999633789062,
          151.36000061035156,
          148.11000061035156,
          149.8300018310547,
          151.6699981689453,
          149.0500030517578,
          151.58999633789062,
          151.66000366210938,
          150.5500030517578,
          151.91000366210938,
          152.72999572753906,
          153.6699981689453,
          152.02999877929688,
          151,
          152.24000549316406,
          150.86000061035156,
          151.72999572753906,
          152.24000549316406,
          150.60000610351562,
          147.42999267578125,
          144.11000061035156,
          143.82000732421875,
          145.17999267578125,
          145.33999633789062,
          145.89999389648438,
          144.25999450683594,
          143.47000122070312,
          145.27999877929688,
          146.2899932861328,
          145.57000732421875,
          147.24000549316406,
          147.8300018310547,
          149.1199951171875,
          150.82000732421875,
          149.0399932861328,
          148.42999267578125,
          147.72000122070312,
          148.7899932861328,
          149.97999572753906,
          148.85000610351562,
          152.82000732421875,
          151.8699951171875,
          156.91000366210938,
          156.00999450683594,
          154.99000549316406
         ],
         "yaxis": "y"
        }
       ],
       "layout": {
        "autosize": true,
        "legend": {
         "tracegroupgap": 0
        },
        "template": {
         "data": {
          "bar": [
           {
            "error_x": {
             "color": "#2a3f5f"
            },
            "error_y": {
             "color": "#2a3f5f"
            },
            "marker": {
             "line": {
              "color": "#E5ECF6",
              "width": 0.5
             },
             "pattern": {
              "fillmode": "overlay",
              "size": 10,
              "solidity": 0.2
             }
            },
            "type": "bar"
           }
          ],
          "barpolar": [
           {
            "marker": {
             "line": {
              "color": "#E5ECF6",
              "width": 0.5
             },
             "pattern": {
              "fillmode": "overlay",
              "size": 10,
              "solidity": 0.2
             }
            },
            "type": "barpolar"
           }
          ],
          "carpet": [
           {
            "aaxis": {
             "endlinecolor": "#2a3f5f",
             "gridcolor": "white",
             "linecolor": "white",
             "minorgridcolor": "white",
             "startlinecolor": "#2a3f5f"
            },
            "baxis": {
             "endlinecolor": "#2a3f5f",
             "gridcolor": "white",
             "linecolor": "white",
             "minorgridcolor": "white",
             "startlinecolor": "#2a3f5f"
            },
            "type": "carpet"
           }
          ],
          "choropleth": [
           {
            "colorbar": {
             "outlinewidth": 0,
             "ticks": ""
            },
            "type": "choropleth"
           }
          ],
          "contour": [
           {
            "colorbar": {
             "outlinewidth": 0,
             "ticks": ""
            },
            "colorscale": [
             [
              0,
              "#0d0887"
             ],
             [
              0.1111111111111111,
              "#46039f"
             ],
             [
              0.2222222222222222,
              "#7201a8"
             ],
             [
              0.3333333333333333,
              "#9c179e"
             ],
             [
              0.4444444444444444,
              "#bd3786"
             ],
             [
              0.5555555555555556,
              "#d8576b"
             ],
             [
              0.6666666666666666,
              "#ed7953"
             ],
             [
              0.7777777777777778,
              "#fb9f3a"
             ],
             [
              0.8888888888888888,
              "#fdca26"
             ],
             [
              1,
              "#f0f921"
             ]
            ],
            "type": "contour"
           }
          ],
          "contourcarpet": [
           {
            "colorbar": {
             "outlinewidth": 0,
             "ticks": ""
            },
            "type": "contourcarpet"
           }
          ],
          "heatmap": [
           {
            "colorbar": {
             "outlinewidth": 0,
             "ticks": ""
            },
            "colorscale": [
             [
              0,
              "#0d0887"
             ],
             [
              0.1111111111111111,
              "#46039f"
             ],
             [
              0.2222222222222222,
              "#7201a8"
             ],
             [
              0.3333333333333333,
              "#9c179e"
             ],
             [
              0.4444444444444444,
              "#bd3786"
             ],
             [
              0.5555555555555556,
              "#d8576b"
             ],
             [
              0.6666666666666666,
              "#ed7953"
             ],
             [
              0.7777777777777778,
              "#fb9f3a"
             ],
             [
              0.8888888888888888,
              "#fdca26"
             ],
             [
              1,
              "#f0f921"
             ]
            ],
            "type": "heatmap"
           }
          ],
          "heatmapgl": [
           {
            "colorbar": {
             "outlinewidth": 0,
             "ticks": ""
            },
            "colorscale": [
             [
              0,
              "#0d0887"
             ],
             [
              0.1111111111111111,
              "#46039f"
             ],
             [
              0.2222222222222222,
              "#7201a8"
             ],
             [
              0.3333333333333333,
              "#9c179e"
             ],
             [
              0.4444444444444444,
              "#bd3786"
             ],
             [
              0.5555555555555556,
              "#d8576b"
             ],
             [
              0.6666666666666666,
              "#ed7953"
             ],
             [
              0.7777777777777778,
              "#fb9f3a"
             ],
             [
              0.8888888888888888,
              "#fdca26"
             ],
             [
              1,
              "#f0f921"
             ]
            ],
            "type": "heatmapgl"
           }
          ],
          "histogram": [
           {
            "marker": {
             "pattern": {
              "fillmode": "overlay",
              "size": 10,
              "solidity": 0.2
             }
            },
            "type": "histogram"
           }
          ],
          "histogram2d": [
           {
            "colorbar": {
             "outlinewidth": 0,
             "ticks": ""
            },
            "colorscale": [
             [
              0,
              "#0d0887"
             ],
             [
              0.1111111111111111,
              "#46039f"
             ],
             [
              0.2222222222222222,
              "#7201a8"
             ],
             [
              0.3333333333333333,
              "#9c179e"
             ],
             [
              0.4444444444444444,
              "#bd3786"
             ],
             [
              0.5555555555555556,
              "#d8576b"
             ],
             [
              0.6666666666666666,
              "#ed7953"
             ],
             [
              0.7777777777777778,
              "#fb9f3a"
             ],
             [
              0.8888888888888888,
              "#fdca26"
             ],
             [
              1,
              "#f0f921"
             ]
            ],
            "type": "histogram2d"
           }
          ],
          "histogram2dcontour": [
           {
            "colorbar": {
             "outlinewidth": 0,
             "ticks": ""
            },
            "colorscale": [
             [
              0,
              "#0d0887"
             ],
             [
              0.1111111111111111,
              "#46039f"
             ],
             [
              0.2222222222222222,
              "#7201a8"
             ],
             [
              0.3333333333333333,
              "#9c179e"
             ],
             [
              0.4444444444444444,
              "#bd3786"
             ],
             [
              0.5555555555555556,
              "#d8576b"
             ],
             [
              0.6666666666666666,
              "#ed7953"
             ],
             [
              0.7777777777777778,
              "#fb9f3a"
             ],
             [
              0.8888888888888888,
              "#fdca26"
             ],
             [
              1,
              "#f0f921"
             ]
            ],
            "type": "histogram2dcontour"
           }
          ],
          "mesh3d": [
           {
            "colorbar": {
             "outlinewidth": 0,
             "ticks": ""
            },
            "type": "mesh3d"
           }
          ],
          "parcoords": [
           {
            "line": {
             "colorbar": {
              "outlinewidth": 0,
              "ticks": ""
             }
            },
            "type": "parcoords"
           }
          ],
          "pie": [
           {
            "automargin": true,
            "type": "pie"
           }
          ],
          "scatter": [
           {
            "fillpattern": {
             "fillmode": "overlay",
             "size": 10,
             "solidity": 0.2
            },
            "type": "scatter"
           }
          ],
          "scatter3d": [
           {
            "line": {
             "colorbar": {
              "outlinewidth": 0,
              "ticks": ""
             }
            },
            "marker": {
             "colorbar": {
              "outlinewidth": 0,
              "ticks": ""
             }
            },
            "type": "scatter3d"
           }
          ],
          "scattercarpet": [
           {
            "marker": {
             "colorbar": {
              "outlinewidth": 0,
              "ticks": ""
             }
            },
            "type": "scattercarpet"
           }
          ],
          "scattergeo": [
           {
            "marker": {
             "colorbar": {
              "outlinewidth": 0,
              "ticks": ""
             }
            },
            "type": "scattergeo"
           }
          ],
          "scattergl": [
           {
            "marker": {
             "colorbar": {
              "outlinewidth": 0,
              "ticks": ""
             }
            },
            "type": "scattergl"
           }
          ],
          "scattermapbox": [
           {
            "marker": {
             "colorbar": {
              "outlinewidth": 0,
              "ticks": ""
             }
            },
            "type": "scattermapbox"
           }
          ],
          "scatterpolar": [
           {
            "marker": {
             "colorbar": {
              "outlinewidth": 0,
              "ticks": ""
             }
            },
            "type": "scatterpolar"
           }
          ],
          "scatterpolargl": [
           {
            "marker": {
             "colorbar": {
              "outlinewidth": 0,
              "ticks": ""
             }
            },
            "type": "scatterpolargl"
           }
          ],
          "scatterternary": [
           {
            "marker": {
             "colorbar": {
              "outlinewidth": 0,
              "ticks": ""
             }
            },
            "type": "scatterternary"
           }
          ],
          "surface": [
           {
            "colorbar": {
             "outlinewidth": 0,
             "ticks": ""
            },
            "colorscale": [
             [
              0,
              "#0d0887"
             ],
             [
              0.1111111111111111,
              "#46039f"
             ],
             [
              0.2222222222222222,
              "#7201a8"
             ],
             [
              0.3333333333333333,
              "#9c179e"
             ],
             [
              0.4444444444444444,
              "#bd3786"
             ],
             [
              0.5555555555555556,
              "#d8576b"
             ],
             [
              0.6666666666666666,
              "#ed7953"
             ],
             [
              0.7777777777777778,
              "#fb9f3a"
             ],
             [
              0.8888888888888888,
              "#fdca26"
             ],
             [
              1,
              "#f0f921"
             ]
            ],
            "type": "surface"
           }
          ],
          "table": [
           {
            "cells": {
             "fill": {
              "color": "#EBF0F8"
             },
             "line": {
              "color": "white"
             }
            },
            "header": {
             "fill": {
              "color": "#C8D4E3"
             },
             "line": {
              "color": "white"
             }
            },
            "type": "table"
           }
          ]
         },
         "layout": {
          "annotationdefaults": {
           "arrowcolor": "#2a3f5f",
           "arrowhead": 0,
           "arrowwidth": 1
          },
          "autotypenumbers": "strict",
          "coloraxis": {
           "colorbar": {
            "outlinewidth": 0,
            "ticks": ""
           }
          },
          "colorscale": {
           "diverging": [
            [
             0,
             "#8e0152"
            ],
            [
             0.1,
             "#c51b7d"
            ],
            [
             0.2,
             "#de77ae"
            ],
            [
             0.3,
             "#f1b6da"
            ],
            [
             0.4,
             "#fde0ef"
            ],
            [
             0.5,
             "#f7f7f7"
            ],
            [
             0.6,
             "#e6f5d0"
            ],
            [
             0.7,
             "#b8e186"
            ],
            [
             0.8,
             "#7fbc41"
            ],
            [
             0.9,
             "#4d9221"
            ],
            [
             1,
             "#276419"
            ]
           ],
           "sequential": [
            [
             0,
             "#0d0887"
            ],
            [
             0.1111111111111111,
             "#46039f"
            ],
            [
             0.2222222222222222,
             "#7201a8"
            ],
            [
             0.3333333333333333,
             "#9c179e"
            ],
            [
             0.4444444444444444,
             "#bd3786"
            ],
            [
             0.5555555555555556,
             "#d8576b"
            ],
            [
             0.6666666666666666,
             "#ed7953"
            ],
            [
             0.7777777777777778,
             "#fb9f3a"
            ],
            [
             0.8888888888888888,
             "#fdca26"
            ],
            [
             1,
             "#f0f921"
            ]
           ],
           "sequentialminus": [
            [
             0,
             "#0d0887"
            ],
            [
             0.1111111111111111,
             "#46039f"
            ],
            [
             0.2222222222222222,
             "#7201a8"
            ],
            [
             0.3333333333333333,
             "#9c179e"
            ],
            [
             0.4444444444444444,
             "#bd3786"
            ],
            [
             0.5555555555555556,
             "#d8576b"
            ],
            [
             0.6666666666666666,
             "#ed7953"
            ],
            [
             0.7777777777777778,
             "#fb9f3a"
            ],
            [
             0.8888888888888888,
             "#fdca26"
            ],
            [
             1,
             "#f0f921"
            ]
           ]
          },
          "colorway": [
           "#636efa",
           "#EF553B",
           "#00cc96",
           "#ab63fa",
           "#FFA15A",
           "#19d3f3",
           "#FF6692",
           "#B6E880",
           "#FF97FF",
           "#FECB52"
          ],
          "font": {
           "color": "#2a3f5f"
          },
          "geo": {
           "bgcolor": "white",
           "lakecolor": "white",
           "landcolor": "#E5ECF6",
           "showlakes": true,
           "showland": true,
           "subunitcolor": "white"
          },
          "hoverlabel": {
           "align": "left"
          },
          "hovermode": "closest",
          "mapbox": {
           "style": "light"
          },
          "paper_bgcolor": "white",
          "plot_bgcolor": "#E5ECF6",
          "polar": {
           "angularaxis": {
            "gridcolor": "white",
            "linecolor": "white",
            "ticks": ""
           },
           "bgcolor": "#E5ECF6",
           "radialaxis": {
            "gridcolor": "white",
            "linecolor": "white",
            "ticks": ""
           }
          },
          "scene": {
           "xaxis": {
            "backgroundcolor": "#E5ECF6",
            "gridcolor": "white",
            "gridwidth": 2,
            "linecolor": "white",
            "showbackground": true,
            "ticks": "",
            "zerolinecolor": "white"
           },
           "yaxis": {
            "backgroundcolor": "#E5ECF6",
            "gridcolor": "white",
            "gridwidth": 2,
            "linecolor": "white",
            "showbackground": true,
            "ticks": "",
            "zerolinecolor": "white"
           },
           "zaxis": {
            "backgroundcolor": "#E5ECF6",
            "gridcolor": "white",
            "gridwidth": 2,
            "linecolor": "white",
            "showbackground": true,
            "ticks": "",
            "zerolinecolor": "white"
           }
          },
          "shapedefaults": {
           "line": {
            "color": "#2a3f5f"
           }
          },
          "ternary": {
           "aaxis": {
            "gridcolor": "white",
            "linecolor": "white",
            "ticks": ""
           },
           "baxis": {
            "gridcolor": "white",
            "linecolor": "white",
            "ticks": ""
           },
           "bgcolor": "#E5ECF6",
           "caxis": {
            "gridcolor": "white",
            "linecolor": "white",
            "ticks": ""
           }
          },
          "title": {
           "x": 0.05
          },
          "xaxis": {
           "automargin": true,
           "gridcolor": "white",
           "linecolor": "white",
           "ticks": "",
           "title": {
            "standoff": 15
           },
           "zerolinecolor": "white",
           "zerolinewidth": 2
          },
          "yaxis": {
           "automargin": true,
           "gridcolor": "white",
           "linecolor": "white",
           "ticks": "",
           "title": {
            "standoff": 15
           },
           "zerolinecolor": "white",
           "zerolinewidth": 2
          }
         }
        },
        "title": {
         "text": "Adjustment Close Value ENSG"
        },
        "xaxis": {
         "anchor": "y",
         "autorange": true,
         "domain": [
          0,
          1
         ],
         "range": [
          "2019-11-01",
          "2024-10-31"
         ],
         "title": {
          "text": "Date"
         },
         "type": "date"
        },
        "yaxis": {
         "anchor": "x",
         "autorange": true,
         "domain": [
          0,
          1
         ],
         "range": [
          17.321819199456108,
          164.25675021277533
         ],
         "title": {
          "text": "y"
         },
         "type": "linear"
        }
       }
      },
      "image/png": "[encoded data removed]",
      "text/html": [
       "<div>                            <div id=\"e558a0fb-bd0e-42f3-8478-d3e8214412a9\" class=\"plotly-graph-div\" style=\"height:525px; width:100%;\"></div>            <script type=\"text/javascript\">                require([\"plotly\"], function(Plotly) {                    window.PLOTLYENV=window.PLOTLYENV || {};                                    if (document.getElementById(\"e558a0fb-bd0e-42f3-8478-d3e8214412a9\")) {                    Plotly.newPlot(                        \"e558a0fb-bd0e-42f3-8478-d3e8214412a9\",                        [{\"hovertemplate\":\"Date=%{x}\\u003cbr\\u003ey=%{y}\\u003cextra\\u003e\\u003c\\u002fextra\\u003e\",\"legendgroup\":\"\",\"line\":{\"color\":\"#636efa\",\"dash\":\"solid\"},\"marker\":{\"symbol\":\"circle\"},\"mode\":\"lines\",\"name\":\"\",\"showlegend\":false,\"x\":[\"2019-11-01T00:00:00+00:00\",\"2019-11-04T00:00:00+00:00\",\"2019-11-05T00:00:00+00:00\",\"2019-11-06T00:00:00+00:00\",\"2019-11-07T00:00:00+00:00\",\"2019-11-08T00:00:00+00:00\",\"2019-11-11T00:00:00+00:00\",\"2019-11-12T00:00:00+00:00\",\"2019-11-13T00:00:00+00:00\",\"2019-11-14T00:00:00+00:00\",\"2019-11-15T00:00:00+00:00\",\"2019-11-18T00:00:00+00:00\",\"2019-11-19T00:00:00+00:00\",\"2019-11-20T00:00:00+00:00\",\"2019-11-21T00:00:00+00:00\",\"2019-11-22T00:00:00+00:00\",\"2019-11-25T00:00:00+00:00\",\"2019-11-26T00:00:00+00:00\",\"2019-11-27T00:00:00+00:00\",\"2019-11-29T00:00:00+00:00\",\"2019-12-02T00:00:00+00:00\",\"2019-12-03T00:00:00+00:00\",\"2019-12-04T00:00:00+00:00\",\"2019-12-05T00:00:00+00:00\",\"2019-12-06T00:00:00+00:00\",\"2019-12-09T00:00:00+00:00\",\"2019-12-10T00:00:00+00:00\",\"2019-12-11T00:00:00+00:00\",\"2019-12-12T00:00:00+00:00\",\"2019-12-13T00:00:00+00:00\",\"2019-12-16T00:00:00+00:00\",\"2019-12-17T00:00:00+00:00\",\"2019-12-18T00:00:00+00:00\",\"2019-12-19T00:00:00+00:00\",\"2019-12-20T00:00:00+00:00\",\"2019-12-23T00:00:00+00:00\",\"2019-12-24T00:00:00+00:00\",\"2019-12-26T00:00:00+00:00\",\"2019-12-27T00:00:00+00:00\",\"2019-12-30T00:00:00+00:00\",\"2019-12-31T00:00:00+00:00\",\"2020-01-02T00:00:00+00:00\",\"2020-01-03T00:00:00+00:00\",\"2020-01-06T00:00:00+00:00\",\"2020-01-07T00:00:00+00:00\",\"2020-01-08T00:00:00+00:00\",\"2020-01-09T00:00:00+00:00\",\"2020-01-10T00:00:00+00:00\",\"2020-01-13T00:00:00+00:00\",\"2020-01-14T00:00:00+00:00\",\"2020-01-15T00:00:00+00:00\",\"2020-01-16T00:00:00+00:00\",\"2020-01-17T00:00:00+00:00\",\"2020-01-21T00:00:00+00:00\",\"2020-01-22T00:00:00+00:00\",\"2020-01-23T00:00:00+00:00\",\"2020-01-24T00:00:00+00:00\",\"2020-01-27T00:00:00+00:00\",\"2020-01-28T00:00:00+00:00\",\"2020-01-29T00:00:00+00:00\",\"2020-01-30T00:00:00+00:00\",\"2020-01-31T00:00:00+00:00\",\"2020-02-03T00:00:00+00:00\",\"2020-02-04T00:00:00+00:00\",\"2020-02-05T00:00:00+00:00\",\"2020-02-06T00:00:00+00:00\",\"2020-02-07T00:00:00+00:00\",\"2020-02-10T00:00:00+00:00\",\"2020-02-11T00:00:00+00:00\",\"2020-02-12T00:00:00+00:00\",\"2020-02-13T00:00:00+00:00\",\"2020-02-14T00:00:00+00:00\",\"2020-02-18T00:00:00+00:00\",\"2020-02-19T00:00:00+00:00\",\"2020-02-20T00:00:00+00:00\",\"2020-02-21T00:00:00+00:00\",\"2020-02-24T00:00:00+00:00\",\"2020-02-25T00:00:00+00:00\",\"2020-02-26T00:00:00+00:00\",\"2020-02-27T00:00:00+00:00\",\"2020-02-28T00:00:00+00:00\",\"2020-03-02T00:00:00+00:00\",\"2020-03-03T00:00:00+00:00\",\"2020-03-04T00:00:00+00:00\",\"2020-03-05T00:00:00+00:00\",\"2020-03-06T00:00:00+00:00\",\"2020-03-09T00:00:00+00:00\",\"2020-03-10T00:00:00+00:00\",\"2020-03-11T00:00:00+00:00\",\"2020-03-12T00:00:00+00:00\",\"2020-03-13T00:00:00+00:00\",\"2020-03-16T00:00:00+00:00\",\"2020-03-17T00:00:00+00:00\",\"2020-03-18T00:00:00+00:00\",\"2020-03-19T00:00:00+00:00\",\"2020-03-20T00:00:00+00:00\",\"2020-03-23T00:00:00+00:00\",\"2020-03-24T00:00:00+00:00\",\"2020-03-25T00:00:00+00:00\",\"2020-03-26T00:00:00+00:00\",\"2020-03-27T00:00:00+00:00\",\"2020-03-30T00:00:00+00:00\",\"2020-03-31T00:00:00+00:00\",\"2020-04-01T00:00:00+00:00\",\"2020-04-02T00:00:00+00:00\",\"2020-04-03T00:00:00+00:00\",\"2020-04-06T00:00:00+00:00\",\"2020-04-07T00:00:00+00:00\",\"2020-04-08T00:00:00+00:00\",\"2020-04-09T00:00:00+00:00\",\"2020-04-13T00:00:00+00:00\",\"2020-04-14T00:00:00+00:00\",\"2020-04-15T00:00:00+00:00\",\"2020-04-16T00:00:00+00:00\",\"2020-04-17T00:00:00+00:00\",\"2020-04-20T00:00:00+00:00\",\"2020-04-21T00:00:00+00:00\",\"2020-04-22T00:00:00+00:00\",\"2020-04-23T00:00:00+00:00\",\"2020-04-24T00:00:00+00:00\",\"2020-04-27T00:00:00+00:00\",\"2020-04-28T00:00:00+00:00\",\"2020-04-29T00:00:00+00:00\",\"2020-04-30T00:00:00+00:00\",\"2020-05-01T00:00:00+00:00\",\"2020-05-04T00:00:00+00:00\",\"2020-05-05T00:00:00+00:00\",\"2020-05-06T00:00:00+00:00\",\"2020-05-07T00:00:00+00:00\",\"2020-05-08T00:00:00+00:00\",\"2020-05-11T00:00:00+00:00\",\"2020-05-12T00:00:00+00:00\",\"2020-05-13T00:00:00+00:00\",\"2020-05-14T00:00:00+00:00\",\"2020-05-15T00:00:00+00:00\",\"2020-05-18T00:00:00+00:00\",\"2020-05-19T00:00:00+00:00\",\"2020-05-20T00:00:00+00:00\",\"2020-05-21T00:00:00+00:00\",\"2020-05-22T00:00:00+00:00\",\"2020-05-26T00:00:00+00:00\",\"2020-05-27T00:00:00+00:00\",\"2020-05-28T00:00:00+00:00\",\"2020-05-29T00:00:00+00:00\",\"2020-06-01T00:00:00+00:00\",\"2020-06-02T00:00:00+00:00\",\"2020-06-03T00:00:00+00:00\",\"2020-06-04T00:00:00+00:00\",\"2020-06-05T00:00:00+00:00\",\"2020-06-08T00:00:00+00:00\",\"2020-06-09T00:00:00+00:00\",\"2020-06-10T00:00:00+00:00\",\"2020-06-11T00:00:00+00:00\",\"2020-06-12T00:00:00+00:00\",\"2020-06-15T00:00:00+00:00\",\"2020-06-16T00:00:00+00:00\",\"2020-06-17T00:00:00+00:00\",\"2020-06-18T00:00:00+00:00\",\"2020-06-19T00:00:00+00:00\",\"2020-06-22T00:00:00+00:00\",\"2020-06-23T00:00:00+00:00\",\"2020-06-24T00:00:00+00:00\",\"2020-06-25T00:00:00+00:00\",\"2020-06-26T00:00:00+00:00\",\"2020-06-29T00:00:00+00:00\",\"2020-06-30T00:00:00+00:00\",\"2020-07-01T00:00:00+00:00\",\"2020-07-02T00:00:00+00:00\",\"2020-07-06T00:00:00+00:00\",\"2020-07-07T00:00:00+00:00\",\"2020-07-08T00:00:00+00:00\",\"2020-07-09T00:00:00+00:00\",\"2020-07-10T00:00:00+00:00\",\"2020-07-13T00:00:00+00:00\",\"2020-07-14T00:00:00+00:00\",\"2020-07-15T00:00:00+00:00\",\"2020-07-16T00:00:00+00:00\",\"2020-07-17T00:00:00+00:00\",\"2020-07-20T00:00:00+00:00\",\"2020-07-21T00:00:00+00:00\",\"2020-07-22T00:00:00+00:00\",\"2020-07-23T00:00:00+00:00\",\"2020-07-24T00:00:00+00:00\",\"2020-07-27T00:00:00+00:00\",\"2020-07-28T00:00:00+00:00\",\"2020-07-29T00:00:00+00:00\",\"2020-07-30T00:00:00+00:00\",\"2020-07-31T00:00:00+00:00\",\"2020-08-03T00:00:00+00:00\",\"2020-08-04T00:00:00+00:00\",\"2020-08-05T00:00:00+00:00\",\"2020-08-06T00:00:00+00:00\",\"2020-08-07T00:00:00+00:00\",\"2020-08-10T00:00:00+00:00\",\"2020-08-11T00:00:00+00:00\",\"2020-08-12T00:00:00+00:00\",\"2020-08-13T00:00:00+00:00\",\"2020-08-14T00:00:00+00:00\",\"2020-08-17T00:00:00+00:00\",\"2020-08-18T00:00:00+00:00\",\"2020-08-19T00:00:00+00:00\",\"2020-08-20T00:00:00+00:00\",\"2020-08-21T00:00:00+00:00\",\"2020-08-24T00:00:00+00:00\",\"2020-08-25T00:00:00+00:00\",\"2020-08-26T00:00:00+00:00\",\"2020-08-27T00:00:00+00:00\",\"2020-08-28T00:00:00+00:00\",\"2020-08-31T00:00:00+00:00\",\"2020-09-01T00:00:00+00:00\",\"2020-09-02T00:00:00+00:00\",\"2020-09-03T00:00:00+00:00\",\"2020-09-04T00:00:00+00:00\",\"2020-09-08T00:00:00+00:00\",\"2020-09-09T00:00:00+00:00\",\"2020-09-10T00:00:00+00:00\",\"2020-09-11T00:00:00+00:00\",\"2020-09-14T00:00:00+00:00\",\"2020-09-15T00:00:00+00:00\",\"2020-09-16T00:00:00+00:00\",\"2020-09-17T00:00:00+00:00\",\"2020-09-18T00:00:00+00:00\",\"2020-09-21T00:00:00+00:00\",\"2020-09-22T00:00:00+00:00\",\"2020-09-23T00:00:00+00:00\",\"2020-09-24T00:00:00+00:00\",\"2020-09-25T00:00:00+00:00\",\"2020-09-28T00:00:00+00:00\",\"2020-09-29T00:00:00+00:00\",\"2020-09-30T00:00:00+00:00\",\"2020-10-01T00:00:00+00:00\",\"2020-10-02T00:00:00+00:00\",\"2020-10-05T00:00:00+00:00\",\"2020-10-06T00:00:00+00:00\",\"2020-10-07T00:00:00+00:00\",\"2020-10-08T00:00:00+00:00\",\"2020-10-09T00:00:00+00:00\",\"2020-10-12T00:00:00+00:00\",\"2020-10-13T00:00:00+00:00\",\"2020-10-14T00:00:00+00:00\",\"2020-10-15T00:00:00+00:00\",\"2020-10-16T00:00:00+00:00\",\"2020-10-19T00:00:00+00:00\",\"2020-10-20T00:00:00+00:00\",\"2020-10-21T00:00:00+00:00\",\"2020-10-22T00:00:00+00:00\",\"2020-10-23T00:00:00+00:00\",\"2020-10-26T00:00:00+00:00\",\"2020-10-27T00:00:00+00:00\",\"2020-10-28T00:00:00+00:00\",\"2020-10-29T00:00:00+00:00\",\"2020-10-30T00:00:00+00:00\",\"2020-11-02T00:00:00+00:00\",\"2020-11-03T00:00:00+00:00\",\"2020-11-04T00:00:00+00:00\",\"2020-11-05T00:00:00+00:00\",\"2020-11-06T00:00:00+00:00\",\"2020-11-09T00:00:00+00:00\",\"2020-11-10T00:00:00+00:00\",\"2020-11-11T00:00:00+00:00\",\"2020-11-12T00:00:00+00:00\",\"2020-11-13T00:00:00+00:00\",\"2020-11-16T00:00:00+00:00\",\"2020-11-17T00:00:00+00:00\",\"2020-11-18T00:00:00+00:00\",\"2020-11-19T00:00:00+00:00\",\"2020-11-20T00:00:00+00:00\",\"2020-11-23T00:00:00+00:00\",\"2020-11-24T00:00:00+00:00\",\"2020-11-25T00:00:00+00:00\",\"2020-11-27T00:00:00+00:00\",\"2020-11-30T00:00:00+00:00\",\"2020-12-01T00:00:00+00:00\",\"2020-12-02T00:00:00+00:00\",\"2020-12-03T00:00:00+00:00\",\"2020-12-04T00:00:00+00:00\",\"2020-12-07T00:00:00+00:00\",\"2020-12-08T00:00:00+00:00\",\"2020-12-09T00:00:00+00:00\",\"2020-12-10T00:00:00+00:00\",\"2020-12-11T00:00:00+00:00\",\"2020-12-14T00:00:00+00:00\",\"2020-12-15T00:00:00+00:00\",\"2020-12-16T00:00:00+00:00\",\"2020-12-17T00:00:00+00:00\",\"2020-12-18T00:00:00+00:00\",\"2020-12-21T00:00:00+00:00\",\"2020-12-22T00:00:00+00:00\",\"2020-12-23T00:00:00+00:00\",\"2020-12-24T00:00:00+00:00\",\"2020-12-28T00:00:00+00:00\",\"2020-12-29T00:00:00+00:00\",\"2020-12-30T00:00:00+00:00\",\"2020-12-31T00:00:00+00:00\",\"2021-01-04T00:00:00+00:00\",\"2021-01-05T00:00:00+00:00\",\"2021-01-06T00:00:00+00:00\",\"2021-01-07T00:00:00+00:00\",\"2021-01-08T00:00:00+00:00\",\"2021-01-11T00:00:00+00:00\",\"2021-01-12T00:00:00+00:00\",\"2021-01-13T00:00:00+00:00\",\"2021-01-14T00:00:00+00:00\",\"2021-01-15T00:00:00+00:00\",\"2021-01-19T00:00:00+00:00\",\"2021-01-20T00:00:00+00:00\",\"2021-01-21T00:00:00+00:00\",\"2021-01-22T00:00:00+00:00\",\"2021-01-25T00:00:00+00:00\",\"2021-01-26T00:00:00+00:00\",\"2021-01-27T00:00:00+00:00\",\"2021-01-28T00:00:00+00:00\",\"2021-01-29T00:00:00+00:00\",\"2021-02-01T00:00:00+00:00\",\"2021-02-02T00:00:00+00:00\",\"2021-02-03T00:00:00+00:00\",\"2021-02-04T00:00:00+00:00\",\"2021-02-05T00:00:00+00:00\",\"2021-02-08T00:00:00+00:00\",\"2021-02-09T00:00:00+00:00\",\"2021-02-10T00:00:00+00:00\",\"2021-02-11T00:00:00+00:00\",\"2021-02-12T00:00:00+00:00\",\"2021-02-16T00:00:00+00:00\",\"2021-02-17T00:00:00+00:00\",\"2021-02-18T00:00:00+00:00\",\"2021-02-19T00:00:00+00:00\",\"2021-02-22T00:00:00+00:00\",\"2021-02-23T00:00:00+00:00\",\"2021-02-24T00:00:00+00:00\",\"2021-02-25T00:00:00+00:00\",\"2021-02-26T00:00:00+00:00\",\"2021-03-01T00:00:00+00:00\",\"2021-03-02T00:00:00+00:00\",\"2021-03-03T00:00:00+00:00\",\"2021-03-04T00:00:00+00:00\",\"2021-03-05T00:00:00+00:00\",\"2021-03-08T00:00:00+00:00\",\"2021-03-09T00:00:00+00:00\",\"2021-03-10T00:00:00+00:00\",\"2021-03-11T00:00:00+00:00\",\"2021-03-12T00:00:00+00:00\",\"2021-03-15T00:00:00+00:00\",\"2021-03-16T00:00:00+00:00\",\"2021-03-17T00:00:00+00:00\",\"2021-03-18T00:00:00+00:00\",\"2021-03-19T00:00:00+00:00\",\"2021-03-22T00:00:00+00:00\",\"2021-03-23T00:00:00+00:00\",\"2021-03-24T00:00:00+00:00\",\"2021-03-25T00:00:00+00:00\",\"2021-03-26T00:00:00+00:00\",\"2021-03-29T00:00:00+00:00\",\"2021-03-30T00:00:00+00:00\",\"2021-03-31T00:00:00+00:00\",\"2021-04-01T00:00:00+00:00\",\"2021-04-05T00:00:00+00:00\",\"2021-04-06T00:00:00+00:00\",\"2021-04-07T00:00:00+00:00\",\"2021-04-08T00:00:00+00:00\",\"2021-04-09T00:00:00+00:00\",\"2021-04-12T00:00:00+00:00\",\"2021-04-13T00:00:00+00:00\",\"2021-04-14T00:00:00+00:00\",\"2021-04-15T00:00:00+00:00\",\"2021-04-16T00:00:00+00:00\",\"2021-04-19T00:00:00+00:00\",\"2021-04-20T00:00:00+00:00\",\"2021-04-21T00:00:00+00:00\",\"2021-04-22T00:00:00+00:00\",\"2021-04-23T00:00:00+00:00\",\"2021-04-26T00:00:00+00:00\",\"2021-04-27T00:00:00+00:00\",\"2021-04-28T00:00:00+00:00\",\"2021-04-29T00:00:00+00:00\",\"2021-04-30T00:00:00+00:00\",\"2021-05-03T00:00:00+00:00\",\"2021-05-04T00:00:00+00:00\",\"2021-05-05T00:00:00+00:00\",\"2021-05-06T00:00:00+00:00\",\"2021-05-07T00:00:00+00:00\",\"2021-05-10T00:00:00+00:00\",\"2021-05-11T00:00:00+00:00\",\"2021-05-12T00:00:00+00:00\",\"2021-05-13T00:00:00+00:00\",\"2021-05-14T00:00:00+00:00\",\"2021-05-17T00:00:00+00:00\",\"2021-05-18T00:00:00+00:00\",\"2021-05-19T00:00:00+00:00\",\"2021-05-20T00:00:00+00:00\",\"2021-05-21T00:00:00+00:00\",\"2021-05-24T00:00:00+00:00\",\"2021-05-25T00:00:00+00:00\",\"2021-05-26T00:00:00+00:00\",\"2021-05-27T00:00:00+00:00\",\"2021-05-28T00:00:00+00:00\",\"2021-06-01T00:00:00+00:00\",\"2021-06-02T00:00:00+00:00\",\"2021-06-03T00:00:00+00:00\",\"2021-06-04T00:00:00+00:00\",\"2021-06-07T00:00:00+00:00\",\"2021-06-08T00:00:00+00:00\",\"2021-06-09T00:00:00+00:00\",\"2021-06-10T00:00:00+00:00\",\"2021-06-11T00:00:00+00:00\",\"2021-06-14T00:00:00+00:00\",\"2021-06-15T00:00:00+00:00\",\"2021-06-16T00:00:00+00:00\",\"2021-06-17T00:00:00+00:00\",\"2021-06-18T00:00:00+00:00\",\"2021-06-21T00:00:00+00:00\",\"2021-06-22T00:00:00+00:00\",\"2021-06-23T00:00:00+00:00\",\"2021-06-24T00:00:00+00:00\",\"2021-06-25T00:00:00+00:00\",\"2021-06-28T00:00:00+00:00\",\"2021-06-29T00:00:00+00:00\",\"2021-06-30T00:00:00+00:00\",\"2021-07-01T00:00:00+00:00\",\"2021-07-02T00:00:00+00:00\",\"2021-07-06T00:00:00+00:00\",\"2021-07-07T00:00:00+00:00\",\"2021-07-08T00:00:00+00:00\",\"2021-07-09T00:00:00+00:00\",\"2021-07-12T00:00:00+00:00\",\"2021-07-13T00:00:00+00:00\",\"2021-07-14T00:00:00+00:00\",\"2021-07-15T00:00:00+00:00\",\"2021-07-16T00:00:00+00:00\",\"2021-07-19T00:00:00+00:00\",\"2021-07-20T00:00:00+00:00\",\"2021-07-21T00:00:00+00:00\",\"2021-07-22T00:00:00+00:00\",\"2021-07-23T00:00:00+00:00\",\"2021-07-26T00:00:00+00:00\",\"2021-07-27T00:00:00+00:00\",\"2021-07-28T00:00:00+00:00\",\"2021-07-29T00:00:00+00:00\",\"2021-07-30T00:00:00+00:00\",\"2021-08-02T00:00:00+00:00\",\"2021-08-03T00:00:00+00:00\",\"2021-08-04T00:00:00+00:00\",\"2021-08-05T00:00:00+00:00\",\"2021-08-06T00:00:00+00:00\",\"2021-08-09T00:00:00+00:00\",\"2021-08-10T00:00:00+00:00\",\"2021-08-11T00:00:00+00:00\",\"2021-08-12T00:00:00+00:00\",\"2021-08-13T00:00:00+00:00\",\"2021-08-16T00:00:00+00:00\",\"2021-08-17T00:00:00+00:00\",\"2021-08-18T00:00:00+00:00\",\"2021-08-19T00:00:00+00:00\",\"2021-08-20T00:00:00+00:00\",\"2021-08-23T00:00:00+00:00\",\"2021-08-24T00:00:00+00:00\",\"2021-08-25T00:00:00+00:00\",\"2021-08-26T00:00:00+00:00\",\"2021-08-27T00:00:00+00:00\",\"2021-08-30T00:00:00+00:00\",\"2021-08-31T00:00:00+00:00\",\"2021-09-01T00:00:00+00:00\",\"2021-09-02T00:00:00+00:00\",\"2021-09-03T00:00:00+00:00\",\"2021-09-07T00:00:00+00:00\",\"2021-09-08T00:00:00+00:00\",\"2021-09-09T00:00:00+00:00\",\"2021-09-10T00:00:00+00:00\",\"2021-09-13T00:00:00+00:00\",\"2021-09-14T00:00:00+00:00\",\"2021-09-15T00:00:00+00:00\",\"2021-09-16T00:00:00+00:00\",\"2021-09-17T00:00:00+00:00\",\"2021-09-20T00:00:00+00:00\",\"2021-09-21T00:00:00+00:00\",\"2021-09-22T00:00:00+00:00\",\"2021-09-23T00:00:00+00:00\",\"2021-09-24T00:00:00+00:00\",\"2021-09-27T00:00:00+00:00\",\"2021-09-28T00:00:00+00:00\",\"2021-09-29T00:00:00+00:00\",\"2021-09-30T00:00:00+00:00\",\"2021-10-01T00:00:00+00:00\",\"2021-10-04T00:00:00+00:00\",\"2021-10-05T00:00:00+00:00\",\"2021-10-06T00:00:00+00:00\",\"2021-10-07T00:00:00+00:00\",\"2021-10-08T00:00:00+00:00\",\"2021-10-11T00:00:00+00:00\",\"2021-10-12T00:00:00+00:00\",\"2021-10-13T00:00:00+00:00\",\"2021-10-14T00:00:00+00:00\",\"2021-10-15T00:00:00+00:00\",\"2021-10-18T00:00:00+00:00\",\"2021-10-19T00:00:00+00:00\",\"2021-10-20T00:00:00+00:00\",\"2021-10-21T00:00:00+00:00\",\"2021-10-22T00:00:00+00:00\",\"2021-10-25T00:00:00+00:00\",\"2021-10-26T00:00:00+00:00\",\"2021-10-27T00:00:00+00:00\",\"2021-10-28T00:00:00+00:00\",\"2021-10-29T00:00:00+00:00\",\"2021-11-01T00:00:00+00:00\",\"2021-11-02T00:00:00+00:00\",\"2021-11-03T00:00:00+00:00\",\"2021-11-04T00:00:00+00:00\",\"2021-11-05T00:00:00+00:00\",\"2021-11-08T00:00:00+00:00\",\"2021-11-09T00:00:00+00:00\",\"2021-11-10T00:00:00+00:00\",\"2021-11-11T00:00:00+00:00\",\"2021-11-12T00:00:00+00:00\",\"2021-11-15T00:00:00+00:00\",\"2021-11-16T00:00:00+00:00\",\"2021-11-17T00:00:00+00:00\",\"2021-11-18T00:00:00+00:00\",\"2021-11-19T00:00:00+00:00\",\"2021-11-22T00:00:00+00:00\",\"2021-11-23T00:00:00+00:00\",\"2021-11-24T00:00:00+00:00\",\"2021-11-26T00:00:00+00:00\",\"2021-11-29T00:00:00+00:00\",\"2021-11-30T00:00:00+00:00\",\"2021-12-01T00:00:00+00:00\",\"2021-12-02T00:00:00+00:00\",\"2021-12-03T00:00:00+00:00\",\"2021-12-06T00:00:00+00:00\",\"2021-12-07T00:00:00+00:00\",\"2021-12-08T00:00:00+00:00\",\"2021-12-09T00:00:00+00:00\",\"2021-12-10T00:00:00+00:00\",\"2021-12-13T00:00:00+00:00\",\"2021-12-14T00:00:00+00:00\",\"2021-12-15T00:00:00+00:00\",\"2021-12-16T00:00:00+00:00\",\"2021-12-17T00:00:00+00:00\",\"2021-12-20T00:00:00+00:00\",\"2021-12-21T00:00:00+00:00\",\"2021-12-22T00:00:00+00:00\",\"2021-12-23T00:00:00+00:00\",\"2021-12-27T00:00:00+00:00\",\"2021-12-28T00:00:00+00:00\",\"2021-12-29T00:00:00+00:00\",\"2021-12-30T00:00:00+00:00\",\"2021-12-31T00:00:00+00:00\",\"2022-01-03T00:00:00+00:00\",\"2022-01-04T00:00:00+00:00\",\"2022-01-05T00:00:00+00:00\",\"2022-01-06T00:00:00+00:00\",\"2022-01-07T00:00:00+00:00\",\"2022-01-10T00:00:00+00:00\",\"2022-01-11T00:00:00+00:00\",\"2022-01-12T00:00:00+00:00\",\"2022-01-13T00:00:00+00:00\",\"2022-01-14T00:00:00+00:00\",\"2022-01-18T00:00:00+00:00\",\"2022-01-19T00:00:00+00:00\",\"2022-01-20T00:00:00+00:00\",\"2022-01-21T00:00:00+00:00\",\"2022-01-24T00:00:00+00:00\",\"2022-01-25T00:00:00+00:00\",\"2022-01-26T00:00:00+00:00\",\"2022-01-27T00:00:00+00:00\",\"2022-01-28T00:00:00+00:00\",\"2022-01-31T00:00:00+00:00\",\"2022-02-01T00:00:00+00:00\",\"2022-02-02T00:00:00+00:00\",\"2022-02-03T00:00:00+00:00\",\"2022-02-04T00:00:00+00:00\",\"2022-02-07T00:00:00+00:00\",\"2022-02-08T00:00:00+00:00\",\"2022-02-09T00:00:00+00:00\",\"2022-02-10T00:00:00+00:00\",\"2022-02-11T00:00:00+00:00\",\"2022-02-14T00:00:00+00:00\",\"2022-02-15T00:00:00+00:00\",\"2022-02-16T00:00:00+00:00\",\"2022-02-17T00:00:00+00:00\",\"2022-02-18T00:00:00+00:00\",\"2022-02-22T00:00:00+00:00\",\"2022-02-23T00:00:00+00:00\",\"2022-02-24T00:00:00+00:00\",\"2022-02-25T00:00:00+00:00\",\"2022-02-28T00:00:00+00:00\",\"2022-03-01T00:00:00+00:00\",\"2022-03-02T00:00:00+00:00\",\"2022-03-03T00:00:00+00:00\",\"2022-03-04T00:00:00+00:00\",\"2022-03-07T00:00:00+00:00\",\"2022-03-08T00:00:00+00:00\",\"2022-03-09T00:00:00+00:00\",\"2022-03-10T00:00:00+00:00\",\"2022-03-11T00:00:00+00:00\",\"2022-03-14T00:00:00+00:00\",\"2022-03-15T00:00:00+00:00\",\"2022-03-16T00:00:00+00:00\",\"2022-03-17T00:00:00+00:00\",\"2022-03-18T00:00:00+00:00\",\"2022-03-21T00:00:00+00:00\",\"2022-03-22T00:00:00+00:00\",\"2022-03-23T00:00:00+00:00\",\"2022-03-24T00:00:00+00:00\",\"2022-03-25T00:00:00+00:00\",\"2022-03-28T00:00:00+00:00\",\"2022-03-29T00:00:00+00:00\",\"2022-03-30T00:00:00+00:00\",\"2022-03-31T00:00:00+00:00\",\"2022-04-01T00:00:00+00:00\",\"2022-04-04T00:00:00+00:00\",\"2022-04-05T00:00:00+00:00\",\"2022-04-06T00:00:00+00:00\",\"2022-04-07T00:00:00+00:00\",\"2022-04-08T00:00:00+00:00\",\"2022-04-11T00:00:00+00:00\",\"2022-04-12T00:00:00+00:00\",\"2022-04-13T00:00:00+00:00\",\"2022-04-14T00:00:00+00:00\",\"2022-04-18T00:00:00+00:00\",\"2022-04-19T00:00:00+00:00\",\"2022-04-20T00:00:00+00:00\",\"2022-04-21T00:00:00+00:00\",\"2022-04-22T00:00:00+00:00\",\"2022-04-25T00:00:00+00:00\",\"2022-04-26T00:00:00+00:00\",\"2022-04-27T00:00:00+00:00\",\"2022-04-28T00:00:00+00:00\",\"2022-04-29T00:00:00+00:00\",\"2022-05-02T00:00:00+00:00\",\"2022-05-03T00:00:00+00:00\",\"2022-05-04T00:00:00+00:00\",\"2022-05-05T00:00:00+00:00\",\"2022-05-06T00:00:00+00:00\",\"2022-05-09T00:00:00+00:00\",\"2022-05-10T00:00:00+00:00\",\"2022-05-11T00:00:00+00:00\",\"2022-05-12T00:00:00+00:00\",\"2022-05-13T00:00:00+00:00\",\"2022-05-16T00:00:00+00:00\",\"2022-05-17T00:00:00+00:00\",\"2022-05-18T00:00:00+00:00\",\"2022-05-19T00:00:00+00:00\",\"2022-05-20T00:00:00+00:00\",\"2022-05-23T00:00:00+00:00\",\"2022-05-24T00:00:00+00:00\",\"2022-05-25T00:00:00+00:00\",\"2022-05-26T00:00:00+00:00\",\"2022-05-27T00:00:00+00:00\",\"2022-05-31T00:00:00+00:00\",\"2022-06-01T00:00:00+00:00\",\"2022-06-02T00:00:00+00:00\",\"2022-06-03T00:00:00+00:00\",\"2022-06-06T00:00:00+00:00\",\"2022-06-07T00:00:00+00:00\",\"2022-06-08T00:00:00+00:00\",\"2022-06-09T00:00:00+00:00\",\"2022-06-10T00:00:00+00:00\",\"2022-06-13T00:00:00+00:00\",\"2022-06-14T00:00:00+00:00\",\"2022-06-15T00:00:00+00:00\",\"2022-06-16T00:00:00+00:00\",\"2022-06-17T00:00:00+00:00\",\"2022-06-21T00:00:00+00:00\",\"2022-06-22T00:00:00+00:00\",\"2022-06-23T00:00:00+00:00\",\"2022-06-24T00:00:00+00:00\",\"2022-06-27T00:00:00+00:00\",\"2022-06-28T00:00:00+00:00\",\"2022-06-29T00:00:00+00:00\",\"2022-06-30T00:00:00+00:00\",\"2022-07-01T00:00:00+00:00\",\"2022-07-05T00:00:00+00:00\",\"2022-07-06T00:00:00+00:00\",\"2022-07-07T00:00:00+00:00\",\"2022-07-08T00:00:00+00:00\",\"2022-07-11T00:00:00+00:00\",\"2022-07-12T00:00:00+00:00\",\"2022-07-13T00:00:00+00:00\",\"2022-07-14T00:00:00+00:00\",\"2022-07-15T00:00:00+00:00\",\"2022-07-18T00:00:00+00:00\",\"2022-07-19T00:00:00+00:00\",\"2022-07-20T00:00:00+00:00\",\"2022-07-21T00:00:00+00:00\",\"2022-07-22T00:00:00+00:00\",\"2022-07-25T00:00:00+00:00\",\"2022-07-26T00:00:00+00:00\",\"2022-07-27T00:00:00+00:00\",\"2022-07-28T00:00:00+00:00\",\"2022-07-29T00:00:00+00:00\",\"2022-08-01T00:00:00+00:00\",\"2022-08-02T00:00:00+00:00\",\"2022-08-03T00:00:00+00:00\",\"2022-08-04T00:00:00+00:00\",\"2022-08-05T00:00:00+00:00\",\"2022-08-08T00:00:00+00:00\",\"2022-08-09T00:00:00+00:00\",\"2022-08-10T00:00:00+00:00\",\"2022-08-11T00:00:00+00:00\",\"2022-08-12T00:00:00+00:00\",\"2022-08-15T00:00:00+00:00\",\"2022-08-16T00:00:00+00:00\",\"2022-08-17T00:00:00+00:00\",\"2022-08-18T00:00:00+00:00\",\"2022-08-19T00:00:00+00:00\",\"2022-08-22T00:00:00+00:00\",\"2022-08-23T00:00:00+00:00\",\"2022-08-24T00:00:00+00:00\",\"2022-08-25T00:00:00+00:00\",\"2022-08-26T00:00:00+00:00\",\"2022-08-29T00:00:00+00:00\",\"2022-08-30T00:00:00+00:00\",\"2022-08-31T00:00:00+00:00\",\"2022-09-01T00:00:00+00:00\",\"2022-09-02T00:00:00+00:00\",\"2022-09-06T00:00:00+00:00\",\"2022-09-07T00:00:00+00:00\",\"2022-09-08T00:00:00+00:00\",\"2022-09-09T00:00:00+00:00\",\"2022-09-12T00:00:00+00:00\",\"2022-09-13T00:00:00+00:00\",\"2022-09-14T00:00:00+00:00\",\"2022-09-15T00:00:00+00:00\",\"2022-09-16T00:00:00+00:00\",\"2022-09-19T00:00:00+00:00\",\"2022-09-20T00:00:00+00:00\",\"2022-09-21T00:00:00+00:00\",\"2022-09-22T00:00:00+00:00\",\"2022-09-23T00:00:00+00:00\",\"2022-09-26T00:00:00+00:00\",\"2022-09-27T00:00:00+00:00\",\"2022-09-28T00:00:00+00:00\",\"2022-09-29T00:00:00+00:00\",\"2022-09-30T00:00:00+00:00\",\"2022-10-03T00:00:00+00:00\",\"2022-10-04T00:00:00+00:00\",\"2022-10-05T00:00:00+00:00\",\"2022-10-06T00:00:00+00:00\",\"2022-10-07T00:00:00+00:00\",\"2022-10-10T00:00:00+00:00\",\"2022-10-11T00:00:00+00:00\",\"2022-10-12T00:00:00+00:00\",\"2022-10-13T00:00:00+00:00\",\"2022-10-14T00:00:00+00:00\",\"2022-10-17T00:00:00+00:00\",\"2022-10-18T00:00:00+00:00\",\"2022-10-19T00:00:00+00:00\",\"2022-10-20T00:00:00+00:00\",\"2022-10-21T00:00:00+00:00\",\"2022-10-24T00:00:00+00:00\",\"2022-10-25T00:00:00+00:00\",\"2022-10-26T00:00:00+00:00\",\"2022-10-27T00:00:00+00:00\",\"2022-10-28T00:00:00+00:00\",\"2022-10-31T00:00:00+00:00\",\"2022-11-01T00:00:00+00:00\",\"2022-11-02T00:00:00+00:00\",\"2022-11-03T00:00:00+00:00\",\"2022-11-04T00:00:00+00:00\",\"2022-11-07T00:00:00+00:00\",\"2022-11-08T00:00:00+00:00\",\"2022-11-09T00:00:00+00:00\",\"2022-11-10T00:00:00+00:00\",\"2022-11-11T00:00:00+00:00\",\"2022-11-14T00:00:00+00:00\",\"2022-11-15T00:00:00+00:00\",\"2022-11-16T00:00:00+00:00\",\"2022-11-17T00:00:00+00:00\",\"2022-11-18T00:00:00+00:00\",\"2022-11-21T00:00:00+00:00\",\"2022-11-22T00:00:00+00:00\",\"2022-11-23T00:00:00+00:00\",\"2022-11-25T00:00:00+00:00\",\"2022-11-28T00:00:00+00:00\",\"2022-11-29T00:00:00+00:00\",\"2022-11-30T00:00:00+00:00\",\"2022-12-01T00:00:00+00:00\",\"2022-12-02T00:00:00+00:00\",\"2022-12-05T00:00:00+00:00\",\"2022-12-06T00:00:00+00:00\",\"2022-12-07T00:00:00+00:00\",\"2022-12-08T00:00:00+00:00\",\"2022-12-09T00:00:00+00:00\",\"2022-12-12T00:00:00+00:00\",\"2022-12-13T00:00:00+00:00\",\"2022-12-14T00:00:00+00:00\",\"2022-12-15T00:00:00+00:00\",\"2022-12-16T00:00:00+00:00\",\"2022-12-19T00:00:00+00:00\",\"2022-12-20T00:00:00+00:00\",\"2022-12-21T00:00:00+00:00\",\"2022-12-22T00:00:00+00:00\",\"2022-12-23T00:00:00+00:00\",\"2022-12-27T00:00:00+00:00\",\"2022-12-28T00:00:00+00:00\",\"2022-12-29T00:00:00+00:00\",\"2022-12-30T00:00:00+00:00\",\"2023-01-03T00:00:00+00:00\",\"2023-01-04T00:00:00+00:00\",\"2023-01-05T00:00:00+00:00\",\"2023-01-06T00:00:00+00:00\",\"2023-01-09T00:00:00+00:00\",\"2023-01-10T00:00:00+00:00\",\"2023-01-11T00:00:00+00:00\",\"2023-01-12T00:00:00+00:00\",\"2023-01-13T00:00:00+00:00\",\"2023-01-17T00:00:00+00:00\",\"2023-01-18T00:00:00+00:00\",\"2023-01-19T00:00:00+00:00\",\"2023-01-20T00:00:00+00:00\",\"2023-01-23T00:00:00+00:00\",\"2023-01-24T00:00:00+00:00\",\"2023-01-25T00:00:00+00:00\",\"2023-01-26T00:00:00+00:00\",\"2023-01-27T00:00:00+00:00\",\"2023-01-30T00:00:00+00:00\",\"2023-01-31T00:00:00+00:00\",\"2023-02-01T00:00:00+00:00\",\"2023-02-02T00:00:00+00:00\",\"2023-02-03T00:00:00+00:00\",\"2023-02-06T00:00:00+00:00\",\"2023-02-07T00:00:00+00:00\",\"2023-02-08T00:00:00+00:00\",\"2023-02-09T00:00:00+00:00\",\"2023-02-10T00:00:00+00:00\",\"2023-02-13T00:00:00+00:00\",\"2023-02-14T00:00:00+00:00\",\"2023-02-15T00:00:00+00:00\",\"2023-02-16T00:00:00+00:00\",\"2023-02-17T00:00:00+00:00\",\"2023-02-21T00:00:00+00:00\",\"2023-02-22T00:00:00+00:00\",\"2023-02-23T00:00:00+00:00\",\"2023-02-24T00:00:00+00:00\",\"2023-02-27T00:00:00+00:00\",\"2023-02-28T00:00:00+00:00\",\"2023-03-01T00:00:00+00:00\",\"2023-03-02T00:00:00+00:00\",\"2023-03-03T00:00:00+00:00\",\"2023-03-06T00:00:00+00:00\",\"2023-03-07T00:00:00+00:00\",\"2023-03-08T00:00:00+00:00\",\"2023-03-09T00:00:00+00:00\",\"2023-03-10T00:00:00+00:00\",\"2023-03-13T00:00:00+00:00\",\"2023-03-14T00:00:00+00:00\",\"2023-03-15T00:00:00+00:00\",\"2023-03-16T00:00:00+00:00\",\"2023-03-17T00:00:00+00:00\",\"2023-03-20T00:00:00+00:00\",\"2023-03-21T00:00:00+00:00\",\"2023-03-22T00:00:00+00:00\",\"2023-03-23T00:00:00+00:00\",\"2023-03-24T00:00:00+00:00\",\"2023-03-27T00:00:00+00:00\",\"2023-03-28T00:00:00+00:00\",\"2023-03-29T00:00:00+00:00\",\"2023-03-30T00:00:00+00:00\",\"2023-03-31T00:00:00+00:00\",\"2023-04-03T00:00:00+00:00\",\"2023-04-04T00:00:00+00:00\",\"2023-04-05T00:00:00+00:00\",\"2023-04-06T00:00:00+00:00\",\"2023-04-10T00:00:00+00:00\",\"2023-04-11T00:00:00+00:00\",\"2023-04-12T00:00:00+00:00\",\"2023-04-13T00:00:00+00:00\",\"2023-04-14T00:00:00+00:00\",\"2023-04-17T00:00:00+00:00\",\"2023-04-18T00:00:00+00:00\",\"2023-04-19T00:00:00+00:00\",\"2023-04-20T00:00:00+00:00\",\"2023-04-21T00:00:00+00:00\",\"2023-04-24T00:00:00+00:00\",\"2023-04-25T00:00:00+00:00\",\"2023-04-26T00:00:00+00:00\",\"2023-04-27T00:00:00+00:00\",\"2023-04-28T00:00:00+00:00\",\"2023-05-01T00:00:00+00:00\",\"2023-05-02T00:00:00+00:00\",\"2023-05-03T00:00:00+00:00\",\"2023-05-04T00:00:00+00:00\",\"2023-05-05T00:00:00+00:00\",\"2023-05-08T00:00:00+00:00\",\"2023-05-09T00:00:00+00:00\",\"2023-05-10T00:00:00+00:00\",\"2023-05-11T00:00:00+00:00\",\"2023-05-12T00:00:00+00:00\",\"2023-05-15T00:00:00+00:00\",\"2023-05-16T00:00:00+00:00\",\"2023-05-17T00:00:00+00:00\",\"2023-05-18T00:00:00+00:00\",\"2023-05-19T00:00:00+00:00\",\"2023-05-22T00:00:00+00:00\",\"2023-05-23T00:00:00+00:00\",\"2023-05-24T00:00:00+00:00\",\"2023-05-25T00:00:00+00:00\",\"2023-05-26T00:00:00+00:00\",\"2023-05-30T00:00:00+00:00\",\"2023-05-31T00:00:00+00:00\",\"2023-06-01T00:00:00+00:00\",\"2023-06-02T00:00:00+00:00\",\"2023-06-05T00:00:00+00:00\",\"2023-06-06T00:00:00+00:00\",\"2023-06-07T00:00:00+00:00\",\"2023-06-08T00:00:00+00:00\",\"2023-06-09T00:00:00+00:00\",\"2023-06-12T00:00:00+00:00\",\"2023-06-13T00:00:00+00:00\",\"2023-06-14T00:00:00+00:00\",\"2023-06-15T00:00:00+00:00\",\"2023-06-16T00:00:00+00:00\",\"2023-06-20T00:00:00+00:00\",\"2023-06-21T00:00:00+00:00\",\"2023-06-22T00:00:00+00:00\",\"2023-06-23T00:00:00+00:00\",\"2023-06-26T00:00:00+00:00\",\"2023-06-27T00:00:00+00:00\",\"2023-06-28T00:00:00+00:00\",\"2023-06-29T00:00:00+00:00\",\"2023-06-30T00:00:00+00:00\",\"2023-07-03T00:00:00+00:00\",\"2023-07-05T00:00:00+00:00\",\"2023-07-06T00:00:00+00:00\",\"2023-07-07T00:00:00+00:00\",\"2023-07-10T00:00:00+00:00\",\"2023-07-11T00:00:00+00:00\",\"2023-07-12T00:00:00+00:00\",\"2023-07-13T00:00:00+00:00\",\"2023-07-14T00:00:00+00:00\",\"2023-07-17T00:00:00+00:00\",\"2023-07-18T00:00:00+00:00\",\"2023-07-19T00:00:00+00:00\",\"2023-07-20T00:00:00+00:00\",\"2023-07-21T00:00:00+00:00\",\"2023-07-24T00:00:00+00:00\",\"2023-07-25T00:00:00+00:00\",\"2023-07-26T00:00:00+00:00\",\"2023-07-27T00:00:00+00:00\",\"2023-07-28T00:00:00+00:00\",\"2023-07-31T00:00:00+00:00\",\"2023-08-01T00:00:00+00:00\",\"2023-08-02T00:00:00+00:00\",\"2023-08-03T00:00:00+00:00\",\"2023-08-04T00:00:00+00:00\",\"2023-08-07T00:00:00+00:00\",\"2023-08-08T00:00:00+00:00\",\"2023-08-09T00:00:00+00:00\",\"2023-08-10T00:00:00+00:00\",\"2023-08-11T00:00:00+00:00\",\"2023-08-14T00:00:00+00:00\",\"2023-08-15T00:00:00+00:00\",\"2023-08-16T00:00:00+00:00\",\"2023-08-17T00:00:00+00:00\",\"2023-08-18T00:00:00+00:00\",\"2023-08-21T00:00:00+00:00\",\"2023-08-22T00:00:00+00:00\",\"2023-08-23T00:00:00+00:00\",\"2023-08-24T00:00:00+00:00\",\"2023-08-25T00:00:00+00:00\",\"2023-08-28T00:00:00+00:00\",\"2023-08-29T00:00:00+00:00\",\"2023-08-30T00:00:00+00:00\",\"2023-08-31T00:00:00+00:00\",\"2023-09-01T00:00:00+00:00\",\"2023-09-05T00:00:00+00:00\",\"2023-09-06T00:00:00+00:00\",\"2023-09-07T00:00:00+00:00\",\"2023-09-08T00:00:00+00:00\",\"2023-09-11T00:00:00+00:00\",\"2023-09-12T00:00:00+00:00\",\"2023-09-13T00:00:00+00:00\",\"2023-09-14T00:00:00+00:00\",\"2023-09-15T00:00:00+00:00\",\"2023-09-18T00:00:00+00:00\",\"2023-09-19T00:00:00+00:00\",\"2023-09-20T00:00:00+00:00\",\"2023-09-21T00:00:00+00:00\",\"2023-09-22T00:00:00+00:00\",\"2023-09-25T00:00:00+00:00\",\"2023-09-26T00:00:00+00:00\",\"2023-09-27T00:00:00+00:00\",\"2023-09-28T00:00:00+00:00\",\"2023-09-29T00:00:00+00:00\",\"2023-10-02T00:00:00+00:00\",\"2023-10-03T00:00:00+00:00\",\"2023-10-04T00:00:00+00:00\",\"2023-10-05T00:00:00+00:00\",\"2023-10-06T00:00:00+00:00\",\"2023-10-09T00:00:00+00:00\",\"2023-10-10T00:00:00+00:00\",\"2023-10-11T00:00:00+00:00\",\"2023-10-12T00:00:00+00:00\",\"2023-10-13T00:00:00+00:00\",\"2023-10-16T00:00:00+00:00\",\"2023-10-17T00:00:00+00:00\",\"2023-10-18T00:00:00+00:00\",\"2023-10-19T00:00:00+00:00\",\"2023-10-20T00:00:00+00:00\",\"2023-10-23T00:00:00+00:00\",\"2023-10-24T00:00:00+00:00\",\"2023-10-25T00:00:00+00:00\",\"2023-10-26T00:00:00+00:00\",\"2023-10-27T00:00:00+00:00\",\"2023-10-30T00:00:00+00:00\",\"2023-10-31T00:00:00+00:00\",\"2023-11-01T00:00:00+00:00\",\"2023-11-02T00:00:00+00:00\",\"2023-11-03T00:00:00+00:00\",\"2023-11-06T00:00:00+00:00\",\"2023-11-07T00:00:00+00:00\",\"2023-11-08T00:00:00+00:00\",\"2023-11-09T00:00:00+00:00\",\"2023-11-10T00:00:00+00:00\",\"2023-11-13T00:00:00+00:00\",\"2023-11-14T00:00:00+00:00\",\"2023-11-15T00:00:00+00:00\",\"2023-11-16T00:00:00+00:00\",\"2023-11-17T00:00:00+00:00\",\"2023-11-20T00:00:00+00:00\",\"2023-11-21T00:00:00+00:00\",\"2023-11-22T00:00:00+00:00\",\"2023-11-24T00:00:00+00:00\",\"2023-11-27T00:00:00+00:00\",\"2023-11-28T00:00:00+00:00\",\"2023-11-29T00:00:00+00:00\",\"2023-11-30T00:00:00+00:00\",\"2023-12-01T00:00:00+00:00\",\"2023-12-04T00:00:00+00:00\",\"2023-12-05T00:00:00+00:00\",\"2023-12-06T00:00:00+00:00\",\"2023-12-07T00:00:00+00:00\",\"2023-12-08T00:00:00+00:00\",\"2023-12-11T00:00:00+00:00\",\"2023-12-12T00:00:00+00:00\",\"2023-12-13T00:00:00+00:00\",\"2023-12-14T00:00:00+00:00\",\"2023-12-15T00:00:00+00:00\",\"2023-12-18T00:00:00+00:00\",\"2023-12-19T00:00:00+00:00\",\"2023-12-20T00:00:00+00:00\",\"2023-12-21T00:00:00+00:00\",\"2023-12-22T00:00:00+00:00\",\"2023-12-26T00:00:00+00:00\",\"2023-12-27T00:00:00+00:00\",\"2023-12-28T00:00:00+00:00\",\"2023-12-29T00:00:00+00:00\",\"2024-01-02T00:00:00+00:00\",\"2024-01-03T00:00:00+00:00\",\"2024-01-04T00:00:00+00:00\",\"2024-01-05T00:00:00+00:00\",\"2024-01-08T00:00:00+00:00\",\"2024-01-09T00:00:00+00:00\",\"2024-01-10T00:00:00+00:00\",\"2024-01-11T00:00:00+00:00\",\"2024-01-12T00:00:00+00:00\",\"2024-01-16T00:00:00+00:00\",\"2024-01-17T00:00:00+00:00\",\"2024-01-18T00:00:00+00:00\",\"2024-01-19T00:00:00+00:00\",\"2024-01-22T00:00:00+00:00\",\"2024-01-23T00:00:00+00:00\",\"2024-01-24T00:00:00+00:00\",\"2024-01-25T00:00:00+00:00\",\"2024-01-26T00:00:00+00:00\",\"2024-01-29T00:00:00+00:00\",\"2024-01-30T00:00:00+00:00\",\"2024-01-31T00:00:00+00:00\",\"2024-02-01T00:00:00+00:00\",\"2024-02-02T00:00:00+00:00\",\"2024-02-05T00:00:00+00:00\",\"2024-02-06T00:00:00+00:00\",\"2024-02-07T00:00:00+00:00\",\"2024-02-08T00:00:00+00:00\",\"2024-02-09T00:00:00+00:00\",\"2024-02-12T00:00:00+00:00\",\"2024-02-13T00:00:00+00:00\",\"2024-02-14T00:00:00+00:00\",\"2024-02-15T00:00:00+00:00\",\"2024-02-16T00:00:00+00:00\",\"2024-02-20T00:00:00+00:00\",\"2024-02-21T00:00:00+00:00\",\"2024-02-22T00:00:00+00:00\",\"2024-02-23T00:00:00+00:00\",\"2024-02-26T00:00:00+00:00\",\"2024-02-27T00:00:00+00:00\",\"2024-02-28T00:00:00+00:00\",\"2024-02-29T00:00:00+00:00\",\"2024-03-01T00:00:00+00:00\",\"2024-03-04T00:00:00+00:00\",\"2024-03-05T00:00:00+00:00\",\"2024-03-06T00:00:00+00:00\",\"2024-03-07T00:00:00+00:00\",\"2024-03-08T00:00:00+00:00\",\"2024-03-11T00:00:00+00:00\",\"2024-03-12T00:00:00+00:00\",\"2024-03-13T00:00:00+00:00\",\"2024-03-14T00:00:00+00:00\",\"2024-03-15T00:00:00+00:00\",\"2024-03-18T00:00:00+00:00\",\"2024-03-19T00:00:00+00:00\",\"2024-03-20T00:00:00+00:00\",\"2024-03-21T00:00:00+00:00\",\"2024-03-22T00:00:00+00:00\",\"2024-03-25T00:00:00+00:00\",\"2024-03-26T00:00:00+00:00\",\"2024-03-27T00:00:00+00:00\",\"2024-03-28T00:00:00+00:00\",\"2024-04-01T00:00:00+00:00\",\"2024-04-02T00:00:00+00:00\",\"2024-04-03T00:00:00+00:00\",\"2024-04-04T00:00:00+00:00\",\"2024-04-05T00:00:00+00:00\",\"2024-04-08T00:00:00+00:00\",\"2024-04-09T00:00:00+00:00\",\"2024-04-10T00:00:00+00:00\",\"2024-04-11T00:00:00+00:00\",\"2024-04-12T00:00:00+00:00\",\"2024-04-15T00:00:00+00:00\",\"2024-04-16T00:00:00+00:00\",\"2024-04-17T00:00:00+00:00\",\"2024-04-18T00:00:00+00:00\",\"2024-04-19T00:00:00+00:00\",\"2024-04-22T00:00:00+00:00\",\"2024-04-23T00:00:00+00:00\",\"2024-04-24T00:00:00+00:00\",\"2024-04-25T00:00:00+00:00\",\"2024-04-26T00:00:00+00:00\",\"2024-04-29T00:00:00+00:00\",\"2024-04-30T00:00:00+00:00\",\"2024-05-01T00:00:00+00:00\",\"2024-05-02T00:00:00+00:00\",\"2024-05-03T00:00:00+00:00\",\"2024-05-06T00:00:00+00:00\",\"2024-05-07T00:00:00+00:00\",\"2024-05-08T00:00:00+00:00\",\"2024-05-09T00:00:00+00:00\",\"2024-05-10T00:00:00+00:00\",\"2024-05-13T00:00:00+00:00\",\"2024-05-14T00:00:00+00:00\",\"2024-05-15T00:00:00+00:00\",\"2024-05-16T00:00:00+00:00\",\"2024-05-17T00:00:00+00:00\",\"2024-05-20T00:00:00+00:00\",\"2024-05-21T00:00:00+00:00\",\"2024-05-22T00:00:00+00:00\",\"2024-05-23T00:00:00+00:00\",\"2024-05-24T00:00:00+00:00\",\"2024-05-28T00:00:00+00:00\",\"2024-05-29T00:00:00+00:00\",\"2024-05-30T00:00:00+00:00\",\"2024-05-31T00:00:00+00:00\",\"2024-06-03T00:00:00+00:00\",\"2024-06-04T00:00:00+00:00\",\"2024-06-05T00:00:00+00:00\",\"2024-06-06T00:00:00+00:00\",\"2024-06-07T00:00:00+00:00\",\"2024-06-10T00:00:00+00:00\",\"2024-06-11T00:00:00+00:00\",\"2024-06-12T00:00:00+00:00\",\"2024-06-13T00:00:00+00:00\",\"2024-06-14T00:00:00+00:00\",\"2024-06-17T00:00:00+00:00\",\"2024-06-18T00:00:00+00:00\",\"2024-06-20T00:00:00+00:00\",\"2024-06-21T00:00:00+00:00\",\"2024-06-24T00:00:00+00:00\",\"2024-06-25T00:00:00+00:00\",\"2024-06-26T00:00:00+00:00\",\"2024-06-27T00:00:00+00:00\",\"2024-06-28T00:00:00+00:00\",\"2024-07-01T00:00:00+00:00\",\"2024-07-02T00:00:00+00:00\",\"2024-07-03T00:00:00+00:00\",\"2024-07-05T00:00:00+00:00\",\"2024-07-08T00:00:00+00:00\",\"2024-07-09T00:00:00+00:00\",\"2024-07-10T00:00:00+00:00\",\"2024-07-11T00:00:00+00:00\",\"2024-07-12T00:00:00+00:00\",\"2024-07-15T00:00:00+00:00\",\"2024-07-16T00:00:00+00:00\",\"2024-07-17T00:00:00+00:00\",\"2024-07-18T00:00:00+00:00\",\"2024-07-19T00:00:00+00:00\",\"2024-07-22T00:00:00+00:00\",\"2024-07-23T00:00:00+00:00\",\"2024-07-24T00:00:00+00:00\",\"2024-07-25T00:00:00+00:00\",\"2024-07-26T00:00:00+00:00\",\"2024-07-29T00:00:00+00:00\",\"2024-07-30T00:00:00+00:00\",\"2024-07-31T00:00:00+00:00\",\"2024-08-01T00:00:00+00:00\",\"2024-08-02T00:00:00+00:00\",\"2024-08-05T00:00:00+00:00\",\"2024-08-06T00:00:00+00:00\",\"2024-08-07T00:00:00+00:00\",\"2024-08-08T00:00:00+00:00\",\"2024-08-09T00:00:00+00:00\",\"2024-08-12T00:00:00+00:00\",\"2024-08-13T00:00:00+00:00\",\"2024-08-14T00:00:00+00:00\",\"2024-08-15T00:00:00+00:00\",\"2024-08-16T00:00:00+00:00\",\"2024-08-19T00:00:00+00:00\",\"2024-08-20T00:00:00+00:00\",\"2024-08-21T00:00:00+00:00\",\"2024-08-22T00:00:00+00:00\",\"2024-08-23T00:00:00+00:00\",\"2024-08-26T00:00:00+00:00\",\"2024-08-27T00:00:00+00:00\",\"2024-08-28T00:00:00+00:00\",\"2024-08-29T00:00:00+00:00\",\"2024-08-30T00:00:00+00:00\",\"2024-09-03T00:00:00+00:00\",\"2024-09-04T00:00:00+00:00\",\"2024-09-05T00:00:00+00:00\",\"2024-09-06T00:00:00+00:00\",\"2024-09-09T00:00:00+00:00\",\"2024-09-10T00:00:00+00:00\",\"2024-09-11T00:00:00+00:00\",\"2024-09-12T00:00:00+00:00\",\"2024-09-13T00:00:00+00:00\",\"2024-09-16T00:00:00+00:00\",\"2024-09-17T00:00:00+00:00\",\"2024-09-18T00:00:00+00:00\",\"2024-09-19T00:00:00+00:00\",\"2024-09-20T00:00:00+00:00\",\"2024-09-23T00:00:00+00:00\",\"2024-09-24T00:00:00+00:00\",\"2024-09-25T00:00:00+00:00\",\"2024-09-26T00:00:00+00:00\",\"2024-09-27T00:00:00+00:00\",\"2024-09-30T00:00:00+00:00\",\"2024-10-01T00:00:00+00:00\",\"2024-10-02T00:00:00+00:00\",\"2024-10-03T00:00:00+00:00\",\"2024-10-04T00:00:00+00:00\",\"2024-10-07T00:00:00+00:00\",\"2024-10-08T00:00:00+00:00\",\"2024-10-09T00:00:00+00:00\",\"2024-10-10T00:00:00+00:00\",\"2024-10-11T00:00:00+00:00\",\"2024-10-14T00:00:00+00:00\",\"2024-10-15T00:00:00+00:00\",\"2024-10-16T00:00:00+00:00\",\"2024-10-17T00:00:00+00:00\",\"2024-10-18T00:00:00+00:00\",\"2024-10-21T00:00:00+00:00\",\"2024-10-22T00:00:00+00:00\",\"2024-10-23T00:00:00+00:00\",\"2024-10-24T00:00:00+00:00\",\"2024-10-25T00:00:00+00:00\",\"2024-10-28T00:00:00+00:00\",\"2024-10-29T00:00:00+00:00\",\"2024-10-30T00:00:00+00:00\",\"2024-10-31T00:00:00+00:00\"],\"xaxis\":\"x\",\"y\":[42.46843338012695,42.014862060546875,41.85709762573242,41.3443603515625,41.137298583984375,41.600730895996094,41.30491256713867,41.68947219848633,39.746986389160156,40.12167739868164,40.82175827026367,40.486515045166016,40.94008255004883,40.486515045166016,42.18248748779297,42.734657287597656,43.47419357299805,42.91215515136719,43.178382873535156,42.82341384887695,41.6993293762207,42.50788116455078,42.84312057495117,41.73876953125,42.9220085144043,41.71904373168945,42.103599548339844,42.18248748779297,42.76424789428711,42.35011291503906,42.58675765991211,43.03047180175781,43.89818572998047,44.49966049194336,45.00254440307617,44.14469528198242,44.16440963745117,43.63195037841797,44.055946350097656,43.9374885559082,44.78642272949219,44.43106460571289,44.72720718383789,45.14179611206055,44.895023345947266,45.734092712402344,46.32636642456055,46.2177734375,46.691612243652344,46.04997634887695,46.48430633544922,47.1753044128418,46.91864776611328,46.61264419555664,46.91864776611328,45.32935333251953,44.29286575317383,44.23363494873047,45.19115447998047,45.38858413696289,45.734092712402344,44.61861801147461,45.22077560424805,46.148685455322266,47.28389358520508,51.489097595214844,52.347900390625,52.584815979003906,52.00241470336914,52.012271881103516,52.39726257324219,51.42986297607422,51.65691375732422,51.577938079833984,51.03501892089844,50.54144287109375,48.17231369018555,47.214786529541016,47.19505310058594,45.3392219543457,43.9276237487793,43.75981140136719,41.47951889038086,45.023345947265625,44.36196517944336,44.98386001586914,36.65242004394531,36.96830749511719,35.10261535644531,30.45319366455078,30.98624610900879,24.66856575012207,27.491779327392578,28.725704193115234,34.69789123535156,32.85194396972656,31.904285430908203,37.05714416503906,34.73736572265625,35.309913635253906,33.48371505737305,37.932376861572266,37.18104553222656,28.886741638183594,31.753662109375,32.44568634033203,35.66850280761719,34.27458190917969,36.68675994873047,38.980289459228516,36.25176239013672,37.3194580078125,35.065467834472656,36.08371353149414,36.825157165527344,36.55823516845703,34.48218536376953,35.085235595703125,37.39854431152344,35.9848518371582,38.48599624633789,37.2799072265625,40.28523254394531,36.98332214355469,36.04416275024414,33.760520935058594,35.164310455322266,33.39472961425781,34.01754379272461,36.963558197021484,37.991703033447266,37.91261672973633,36.063941955566406,37.24036407470703,37.932376861572266,41.01679992675781,39.64265823364258,41.38258361816406,41.916419982910156,42.746829986572266,43.96281051635742,46.38486099243164,44.32859420776367,43.22136306762695,42.618324279785156,42.93467330932617,44.546085357666016,43.59702682495117,46.63200759887695,47.67992401123047,46.41453170776367,45.31718826293945,41.02667999267578,41.51110076904297,42.30197525024414,43.28068161010742,42.143802642822266,41.71869659423828,41.38258361816406,41.639617919921875,41.323265075683594,39.92934036254883,40.433528900146484,38.57496643066406,40.069664001464844,41.42577362060547,42.08898162841797,41.99989700317383,42.71260070800781,40.911048889160156,40.7625617980957,39.881595611572266,40.58439636230469,40.34682083129883,40.742774963378906,44.454750061035156,44.27657699584961,44.87050247192383,44.029117584228516,45.06847381591797,45.4050178527832,45.23674774169922,44.72201919555664,45.87025833129883,45.088260650634766,45.94944381713867,46.0781364440918,45.52381896972656,46.90961456298828,45.75148010253906,48.18654251098633,55.39274978637695,56.432098388671875,55.59071731567383,55.5709228515625,55.73919677734375,55.818389892578125,54.97700119018555,54.59096145629883,54.68003845214844,56.05596160888672,56.96662521362305,57.372467041015625,57.65953063964844,57.412071228027344,56.50138854980469,57.47146224975586,58.04558563232422,57.946590423583984,58.09507369995117,59.3324089050293,56.709266662597656,55.333351135253906,54.571163177490234,55.75899887084961,54.20490646362305,52.898292541503906,54.91762161254883,54.432586669921875,55.39274978637695,54.254398345947266,55.046295166015625,54.363285064697266,54.83842468261719,53.60109329223633,53.85845947265625,55.36304473876953,55.91737747192383,55.50126647949219,56.53163146972656,56.1551513671875,55.86783981323242,57.31431579589844,56.75950622558594,57.443115234375,58.760799407958984,58.94904327392578,58.25552749633789,58.87968444824219,59.26607131958008,57.84931945800781,57.482749938964844,56.67033767700195,57.225154876708984,57.482749938964844,58.93913650512695,59.216529846191406,58.057373046875,57.54218673706055,56.075889587402344,59.15708923339844,58.29514694213867,60.29644775390625,62.4067268371582,62.04015350341797,61.74292755126953,60.722469329833984,63.16958999633789,65.3492202758789,66.15171813964844,63.704586029052734,67.10283660888672,68.74744415283203,68.9951400756836,67.84587860107422,68.64838409423828,69.25276184082031,69.75801849365234,70.64967346191406,71.76921844482422,70.89736938476562,71.20450592041016,70.8874740600586,69.49051666259766,70.17412567138672,71.87821197509766,73.18598175048828,75.15755462646484,75.19718933105469,75.14763641357422,71.55126190185547,71.1846694946289,75.10799407958984,73.8299560546875,73.6912612915039,75.46469116210938,72.21505737304688,72.40328216552734,71.88810729980469,72.14569854736328,73.19588470458984,72.02680206298828,72.28759002685547,72.2974853515625,74.69682312011719,79.92184448242188,85.37488555908203,84.6610107421875,83.21348571777344,82.74748992919922,83.19367218017578,82.78717803955078,83.99675750732422,83.97691345214844,84.09589385986328,84.59162139892578,82.53929138183594,84.45281982421875,85.05760955810547,83.89759826660156,80.705078125,80.6654281616211,77.61172485351562,84.07605743408203,85.52360534667969,88.21046447753906,85.87061309814453,83.10442352294922,83.73896026611328,84.90889739990234,85.62274932861328,87.44701385498047,85.91027069091797,83.52083587646484,83.98683166503906,82.49964904785156,82.92595672607422,82.7177505493164,81.76595306396484,84.71058654785156,80.2391128540039,81.3198013305664,82.50956726074219,81.32970428466797,81.63705444335938,81.8353500366211,80.1597900390625,82.53929138183594,85.2757339477539,87.2090835571289,88.08158111572266,89.24158477783203,91.08568572998047,87.2090835571289,86.27710723876953,88.04191589355469,88.973876953125,90.00501251220703,87.57593536376953,89.5489273071289,92.41425323486328,95.309326171875,90.5106430053711,91.91240692138672,93.09292602539062,93.00364685058594,93.4798355102539,93.82704162597656,91.1485366821289,94.75955200195312,92.69611358642578,91.267578125,91.267578125,92.19017028808594,92.567138671875,91.33702087402344,87.54742431640625,86.932373046875,88.8172378540039,86.3867416381836,87.67639923095703,87.91448211669922,87.65656280517578,88.04345703125,85.98992919921875,85.16653442382812,86.73395538330078,85.85104370117188,85.6327896118164,84.59114837646484,85.65263366699219,83.301513671875,83.33125305175781,81.09918212890625,82.23011779785156,83.29159545898438,81.45631408691406,81.3868637084961,81.97218322753906,82.67652130126953,82.01184844970703,80.5932388305664,81.54559326171875,82.34915924072266,81.54559326171875,82.5376205444336,83.25189971923828,81.65471649169922,81.80352020263672,81.97218322753906,82.5971450805664,83.14277648925781,82.4483642578125,82.75587463378906,83.65865325927734,83.47015380859375,84.7201156616211,84.25387573242188,85.32526397705078,82.7162094116211,83.67847442626953,84.3332290649414,84.57131958007812,86.31731414794922,86.8530044555664,88.4799575805664,87.48037719726562,86.03113555908203,88.20499420166016,87.97669982910156,87.39105224609375,87.99655151367188,86.55720520019531,86.8748779296875,88.6615982055664,87.00391387939453,86.64656066894531,86.0609130859375,86.30907440185547,85.55467987060547,86.30907440185547,85.73334503173828,84.18484497070312,85.63407135009766,84.4528579711914,84.88960266113281,85.87232208251953,82.79517364501953,84.44293212890625,83.75802612304688,84.63152313232422,82.88451385498047,83.6488265991211,84.28411865234375,83.98633575439453,83.62895965576172,82.92420959472656,83.51978302001953,82.97384643554688,82.73560333251953,81.22681427001953,79.2217025756836,79.03311920166016,80.98857879638672,81.46504974365234,80.82976531982422,79.98603820800781,79.29119110107422,81.70326232910156,80.7602767944336,81.0679931640625,82.33856964111328,82.57678985595703,82.24921417236328,80.73049926757812,80.45256805419922,79.47978973388672,79.48971557617188,79.78750610351562,78.54669952392578,77.11732482910156,78.32833862304688,77.40519714355469,76.26367950439453,76.2041244506836,76.56145477294922,75.35045623779297,74.84422302246094,76.36294555664062,74.86405181884766,74.6783218383789,74.39024353027344,75.11538696289062,75.03590393066406,74.78758239746094,73.15853881835938,71.81755065917969,72.02611541748047,70.82421112060547,71.90693664550781,71.78772735595703,72.24466705322266,72.35391998291016,73.24790954589844,73.37706756591797,71.60892486572266,72.97972106933594,71.66851806640625,68.9666748046875,69.85073852539062,68.78787994384766,75.67162322998047,77.48943328857422,77.75762939453125,75.2743148803711,77.81722259521484,76.85370635986328,82.57525634765625,80.97599792480469,81.70112609863281,80.75748443603516,81.40312957763672,81.61172485351562,80.85680389404297,81.01573181152344,81.54219055175781,81.4627456665039,79.80387115478516,81.61172485351562,81.11506652832031,80.618408203125,77.23115539550781,76.68482971191406,75.82064056396484,74.33065032958984,75.90009307861328,75.00611114501953,77.60862731933594,79.20787048339844,79.75421142578125,77.7675552368164,78.69136047363281,78.07548522949219,78.48277282714844,77.48943328857422,75.58223724365234,77.37023162841797,76.52590942382812,79.60520935058594,81.59185791015625,81.25413513183594,83.5785140991211,84.50231170654297,84.51224517822266,83.20516967773438,83.45367431640625,84.7557601928711,83.35427856445312,82.56903839111328,81.27687072753906,79.80580139160156,80.50157928466797,80.14375305175781,77.93714904785156,79.79586029052734,79.9449691772461,76.92328643798828,75.54167175292969,75.43234252929688,75.0645523071289,76.53564453125,74.66698455810547,73.5537338256836,72.96729278564453,73.54379272460938,74.97510528564453,74.12030029296875,73.87179565429688,72.98717498779297,72.45043182373047,70.53206634521484,72.72874450683594,74.53775787353516,78.50371551513672,77.5793228149414,77.10221862792969,80.0841064453125,80.46182250976562,79.43803405761719,79.30882263183594,78.48382568359375,77.28111267089844,79.03050994873047,81.69434356689453,83.53318786621094,82.36029815673828,83.99041748046875,84.467529296875,84.87503814697266,85.47142791748047,86.91268920898438,86.93256378173828,85.47142791748047,84.3084945678711,83.10578155517578,84.12956237792969,85.98829650878906,87.28045654296875,86.4952163696289,86.81328582763672,86.7039566040039,84.61662292480469,84.914794921875,85.98829650878906,86.51509094238281,88.37382507324219,88.86613464355469,89.52255249023438,93.71971130371094,89.49272918701172,88.65726470947266,87.5234603881836,87.57317352294922,86.52885437011719,84.9574203491211,81.9637222290039,83.99267578125,84.8877944946289,83.47549438476562,84.36067199707031,86.5785903930664,86.82723999023438,80.74037170410156,83.33624267578125,82.39138793945312,81.05864715576172,81.52610778808594,79.89498901367188,78.67164611816406,77.9754409790039,78.51250457763672,77.33890533447266,75.56854248046875,76.32441711425781,77.03056335449219,75.93653106689453,77.44831848144531,78.37328338623047,78.19424438476562,81.09843444824219,78.69154357910156,78.50257110595703,78.60202026367188,78.99984741210938,78.12461853027344,79.03964233398438,80.16351318359375,81.9637222290039,80.73043060302734,77.71684265136719,79.82536315917969,78.78104400634766,79.09931182861328,79.39769744873047,76.08573150634766,75.85697174072266,75.4591293334961,73.25115966796875,72.37592315673828,73.11192321777344,72.39582061767578,73.59925842285156,70.67518615722656,71.45095825195312,72.52511596679688,74.84249877929688,75.4989242553711,73.51968383789062,75.22666931152344,73.12654113769531,75.3361587524414,74.89823150634766,73.89292907714844,74.7489242553711,74.7091064453125,73.12654113769531,73.5246810913086,73.34551239013672,73.2857894897461,74.97785186767578,74.17162322998047,75.66462707519531,76.10255432128906,77.66521453857422,78.4017562866211,78.4017562866211,79.31745910644531,79.16815948486328,79.57623291015625,79.31745910644531,81.48727416992188,86.82221984863281,85.56810760498047,83.4779281616211,84.47323608398438,85.48847961425781,84.91118621826172,86.3444595336914,85.70745086669922,87.42935943603516,88.85266876220703,88.1260986328125,89.63898468017578,90.81346130371094,90.28594207763672,89.32048034667969,89.00198364257812,89.17117309570312,90.0769271850586,86.52361297607422,86.6231460571289,84.2940902709961,84.90123748779297,83.61727142333984,82.09443664550781,83.08975219726562,86.55348205566406,86.35442352294922,86.71273040771484,86.76249694824219,83.98552703857422,83.93577575683594,84.55287170410156,84.37371826171875,86.00604248046875,85.23963928222656,85.93637084960938,83.62722778320312,79.26769256591797,80.24311828613281,79.1781234741211,80.621337890625,80.62631225585938,79.18212127685547,81.12431335449219,82.94700622558594,83.78364562988281,83.59441375732422,82.17012023925781,85.03861236572266,84.99876403808594,83.23583221435547,85.13821411132812,82.56852722167969,85.99475860595703,85.01868438720703,84.36132049560547,84.12228393554688,85.16808319091797,87.18997192382812,87.82740783691406,89.7297592163086,86.16409301757812,89.60029602050781,89.42100524902344,91.32337188720703,90.30744171142578,90.8851318359375,90.87516784667969,91.64208984375,91.36322021484375,89.67996978759766,94.50062561035156,91.95085906982422,91.48273468017578,91.53253173828125,90.95484924316406,91.39309692382812,92.13013458251953,93.00662231445312,93.8631820678711,92.55841064453125,93.74365997314453,92.33929443359375,92.85721588134766,94.6201400756836,93.97274017333984,93.90302276611328,91.33332061767578,91.16400909423828,91.73173522949219,93.23570251464844,90.50665283203125,92.56838989257812,92.80741119384766,95.05838012695312,94.73966979980469,95.28746032714844,94.869140625,94.93885803222656,96.40298461914062,94.0922622680664,94.65997314453125,94.87910461425781,93.0364990234375,95.10747528076172,94.29023742675781,94.19058227539062,95.55595397949219,93.87166595458984,95.75527954101562,94.32014465332031,93.87166595458984,95.40645599365234,97.41963195800781,98.19698333740234,94.31018829345703,93.3534164428711,93.34346008300781,92.84514617919922,92.80528259277344,90.81204223632812,91.48973846435547,91.75882720947266,91.07115936279297,91.39007568359375,92.93485260009766,93.6723403930664,93.66236877441406,92.08770751953125,90.05459594726562,89.5562973022461,89.51644134521484,88.69920349121094,90.16423034667969,90.89177703857422,89.7855224609375,90.97149658203125,92.22724151611328,91.01136016845703,90.3436279296875,90.17420196533203,89.42674255371094,89.52640533447266,90.32369232177734,89.1775894165039,90.17420196533203,90.5130615234375,91.14092254638672,89.96491241455078,87.88197326660156,88.35039520263672,88.55968475341797,87.2939682006836,86.46678161621094,89.04801940917969,87.94176483154297,89.34700775146484,89.9748764038086,91.29042053222656,91.44987487792969,89.01812744140625,87.53315734863281,90.38349151611328,91.26051330566406,91.59937286376953,91.28045654296875,92.75438690185547,95.27743530273438,94.89847564697266,94.56938934326172,97.03260040283203,96.96279907226562,98.13955688476562,98.84761047363281,97.8902359008789,98.12957763671875,98.19938659667969,98.03982543945312,97.86031341552734,98.05976104736328,98.13955688476562,98.74787139892578,99.68528747558594,101.60997772216797,99.43597412109375,95.86581420898438,96.82316589355469,96.98273468017578,94.78878784179688,93.47240447998047,92.13609313964844,92.2258529663086,92.38540649414062,91.55768585205078,92.20590209960938,92.30561828613281,91.62749481201172,91.77709197998047,90.99922180175781,91.03911590576172,90.60033416748047,91.6075439453125,91.70726776123047,91.4779052734375,91.56765747070312,88.66566467285156,88.32659912109375,87.80802154541016,88.3664779663086,88.22686767578125,91.35822296142578,91.29840087890625,93.12337493896484,93.86134338378906,92.89400482177734,92.60480499267578,93.17323303222656,92.87406158447266,92.41532135009766,94.34001922607422,94.29015350341797,94.12062072753906,93.26298522949219,92.33554077148438,90.66017150878906,91.6474380493164,93.14331817626953,93.78154754638672,95.14663696289062,95.25640869140625,93.68975067138672,91.59423828125,90.43670654296875,88.84011840820312,89.10954284667969,89.48873138427734,89.319091796875,89.64837646484375,91.0054931640625,89.74817657470703,89.56855773925781,92.10314178466797,92.55218505859375,93.18083953857422,92.40249633789062,93.1509017944336,91.5543212890625,90.19721221923828,92.85154724121094,96.66339874267578,94.49801635742188,96.79312133789062,98.28990936279297,96.7332534790039,96.81307220458984,96.76319122314453,97.01265716552734,97.51158142089844,97.8907699584961,98.09034729003906,97.70118713378906,97.79098510742188,96.16446685791016,96.78312683105469,96.33409881591797,96.89289855957031,97.35191345214844,97.11243438720703,97.94066619873047,97.8907699584961,97.9306869506836,101.55294799804688,100.00624084472656,98.91857147216797,95.36617279052734,95.20651245117188,95.97486877441406,95.80523681640625,94.22859954833984,93.47021484375,93.60991668701172,93.0810546875,92.78169250488281,93.60991668701172,92.88148498535156,94.00907135009766,93.25068664550781,93.40037536621094,93.9092788696289,92.54220581054688,92.39252471923828,93.82836151123047,92.78992462158203,91.9012680053711,90.4834213256836,91.24225616455078,91.8114013671875,92.85982513427734,94.1578598022461,96.78388977050781,96.75394439697266,94.37752532958984,95.49583435058594,96.11491394042969,97.53276824951172,97.66256713867188,96.29463195800781,95.96513366699219,95.51581573486328,96.55423736572266,94.89674377441406,95.2062759399414,97.1533432006836,95.17632293701172,96.45439147949219,96.36453247070312,98.68103790283203,101.84626007080078,101.60661315917969,102.83476257324219,102.55519104003906,101.55669403076172,102.6650161743164,102.57515716552734,106.40936279296875,105.01148223876953,106.02994537353516,107.2281265258789,107.73736572265625,107.78728485107422,108.36641693115234,109.43479919433594,108.51618194580078,107.08834075927734,106.74886322021484,106.90861511230469,108.31649017333984,109.38487243652344,108.07685089111328,106.58909606933594,106.678955078125,106.5391616821289,107.49772644042969,108.92556762695312,111.50167846679688,110.9924545288086,111.31196594238281,111.59154510498047,113.87809753417969,110.213623046875,112.20063018798828,113.12921905517578,114.01788330078125,114.09776306152344,113.60824584960938,112.09972381591797,114.53732299804688,112.6691665649414,113.72811889648438,113.89795684814453,115.17669677734375,114.15769958496094,114.3475112915039,115.6562271118164,117.25465393066406,116.53536224365234,114.8470230102539,115.88600158691406,115.84603881835938,117.35455322265625,116.91499328613281,115.06680297851562,115.22664642333984,114.77709197998047,116.40548706054688,116.09579467773438,113.10872650146484,115.23664093017578,120.66130065917969,117.85406494140625,117.46444702148438,117.2746353149414,117.94397735595703,118.78314971923828,119.59235382080078,117.34456634521484,120.52143859863281,119.8021469116211,121.3606185913086,121.22074890136719,122.80918884277344,123.57843017578125,124.12789154052734,124.07793426513672,123.80821228027344,124.39762115478516,124.79722595214844,121.78020477294922,125.86618041992188,125.52651977539062,125.4665756225586,124.18782806396484,123.57843017578125,124.62739562988281,124.50751495361328,123.27872467041016,121.8601303100586,122.56942749023438,122.06991577148438,123.5984115600586,123.2987060546875,123.61839294433594,123.67833709716797,122.989013671875,123.20880126953125,125.55763244628906,124.35822296142578,123.80850219726562,120.87995147705078,121.27974700927734,118.72102355957031,119.66056060791016,118.98089599609375,119.69054412841797,117.3517074584961,120.15031433105469,119.22077178955078,118.63107299804688,117.611572265625,117.7614974975586,116.42217254638672,118.20128631591797,117.17179870605469,118.56110382080078,118.58109283447266,117.23176574707031,117.19178771972656,118.63107299804688,118.30123138427734,119.39068603515625,116.49213409423828,116.83196258544922,115.99238586425781,117.89143371582031,116.03235626220703,117.64155578613281,118.28124237060547,117.6815414428711,118.08134460449219,119.22077178955078,119.13082122802734,119.73052215576172,119.5006332397461,119.33071899414062,119.07084655761719,118.441162109375,120.100341796875,118.8709487915039,116.69203186035156,118.43116760253906,121.17980194091797,119.71053314208984,121.34972381591797,120.3602066040039,118.76100158691406,118.97090148925781,119.35071563720703,119.06085968017578,120.42018127441406,119.55061340332031,118.90093231201172,122.08935546875,121.13982391357422,119.82047271728516,120.97990417480469,121.30973815917969,121.11983489990234,120.60009765625,120.77999877929688,123.69000244140625,124.13999938964844,125.93000030517578,126.41000366210938,126.5999984741211,125.0199966430664,126.44000244140625,130.30999755859375,133.11000061035156,134.3300018310547,135.17999267578125,139.86000061035156,138.52000427246094,136.64999389648438,135.47000122070312,135.91000366210938,135.92999267578125,136.60000610351562,136.1699981689453,142.8000030517578,146.00999450683594,145.42999267578125,140.75,139.5399932861328,139.60000610351562,137.1999969482422,141.05999755859375,138.00999450683594,140.80999755859375,141.25,140.02999877929688,142.05999755859375,140.17999267578125,141.3699951171875,141.25,141.9199981689453,143.72000122070312,144.75,146.3699951171875,148.07000732421875,147.02999877929688,148.16000366210938,148.66000366210938,150.08999633789062,151.36000061035156,148.11000061035156,149.8300018310547,151.6699981689453,149.0500030517578,151.58999633789062,151.66000366210938,150.5500030517578,151.91000366210938,152.72999572753906,153.6699981689453,152.02999877929688,151.0,152.24000549316406,150.86000061035156,151.72999572753906,152.24000549316406,150.60000610351562,147.42999267578125,144.11000061035156,143.82000732421875,145.17999267578125,145.33999633789062,145.89999389648438,144.25999450683594,143.47000122070312,145.27999877929688,146.2899932861328,145.57000732421875,147.24000549316406,147.8300018310547,149.1199951171875,150.82000732421875,149.0399932861328,148.42999267578125,147.72000122070312,148.7899932861328,149.97999572753906,148.85000610351562,152.82000732421875,151.8699951171875,156.91000366210938,156.00999450683594,154.99000549316406],\"yaxis\":\"y\",\"type\":\"scattergl\"}],                        {\"template\":{\"data\":{\"histogram2dcontour\":[{\"type\":\"histogram2dcontour\",\"colorbar\":{\"outlinewidth\":0,\"ticks\":\"\"},\"colorscale\":[[0.0,\"#0d0887\"],[0.1111111111111111,\"#46039f\"],[0.2222222222222222,\"#7201a8\"],[0.3333333333333333,\"#9c179e\"],[0.4444444444444444,\"#bd3786\"],[0.5555555555555556,\"#d8576b\"],[0.6666666666666666,\"#ed7953\"],[0.7777777777777778,\"#fb9f3a\"],[0.8888888888888888,\"#fdca26\"],[1.0,\"#f0f921\"]]}],\"choropleth\":[{\"type\":\"choropleth\",\"colorbar\":{\"outlinewidth\":0,\"ticks\":\"\"}}],\"histogram2d\":[{\"type\":\"histogram2d\",\"colorbar\":{\"outlinewidth\":0,\"ticks\":\"\"},\"colorscale\":[[0.0,\"#0d0887\"],[0.1111111111111111,\"#46039f\"],[0.2222222222222222,\"#7201a8\"],[0.3333333333333333,\"#9c179e\"],[0.4444444444444444,\"#bd3786\"],[0.5555555555555556,\"#d8576b\"],[0.6666666666666666,\"#ed7953\"],[0.7777777777777778,\"#fb9f3a\"],[0.8888888888888888,\"#fdca26\"],[1.0,\"#f0f921\"]]}],\"heatmap\":[{\"type\":\"heatmap\",\"colorbar\":{\"outlinewidth\":0,\"ticks\":\"\"},\"colorscale\":[[0.0,\"#0d0887\"],[0.1111111111111111,\"#46039f\"],[0.2222222222222222,\"#7201a8\"],[0.3333333333333333,\"#9c179e\"],[0.4444444444444444,\"#bd3786\"],[0.5555555555555556,\"#d8576b\"],[0.6666666666666666,\"#ed7953\"],[0.7777777777777778,\"#fb9f3a\"],[0.8888888888888888,\"#fdca26\"],[1.0,\"#f0f921\"]]}],\"heatmapgl\":[{\"type\":\"heatmapgl\",\"colorbar\":{\"outlinewidth\":0,\"ticks\":\"\"},\"colorscale\":[[0.0,\"#0d0887\"],[0.1111111111111111,\"#46039f\"],[0.2222222222222222,\"#7201a8\"],[0.3333333333333333,\"#9c179e\"],[0.4444444444444444,\"#bd3786\"],[0.5555555555555556,\"#d8576b\"],[0.6666666666666666,\"#ed7953\"],[0.7777777777777778,\"#fb9f3a\"],[0.8888888888888888,\"#fdca26\"],[1.0,\"#f0f921\"]]}],\"contourcarpet\":[{\"type\":\"contourcarpet\",\"colorbar\":{\"outlinewidth\":0,\"ticks\":\"\"}}],\"contour\":[{\"type\":\"contour\",\"colorbar\":{\"outlinewidth\":0,\"ticks\":\"\"},\"colorscale\":[[0.0,\"#0d0887\"],[0.1111111111111111,\"#46039f\"],[0.2222222222222222,\"#7201a8\"],[0.3333333333333333,\"#9c179e\"],[0.4444444444444444,\"#bd3786\"],[0.5555555555555556,\"#d8576b\"],[0.6666666666666666,\"#ed7953\"],[0.7777777777777778,\"#fb9f3a\"],[0.8888888888888888,\"#fdca26\"],[1.0,\"#f0f921\"]]}],\"surface\":[{\"type\":\"surface\",\"colorbar\":{\"outlinewidth\":0,\"ticks\":\"\"},\"colorscale\":[[0.0,\"#0d0887\"],[0.1111111111111111,\"#46039f\"],[0.2222222222222222,\"#7201a8\"],[0.3333333333333333,\"#9c179e\"],[0.4444444444444444,\"#bd3786\"],[0.5555555555555556,\"#d8576b\"],[0.6666666666666666,\"#ed7953\"],[0.7777777777777778,\"#fb9f3a\"],[0.8888888888888888,\"#fdca26\"],[1.0,\"#f0f921\"]]}],\"mesh3d\":[{\"type\":\"mesh3d\",\"colorbar\":{\"outlinewidth\":0,\"ticks\":\"\"}}],\"scatter\":[{\"fillpattern\":{\"fillmode\":\"overlay\",\"size\":10,\"solidity\":0.2},\"type\":\"scatter\"}],\"parcoords\":[{\"type\":\"parcoords\",\"line\":{\"colorbar\":{\"outlinewidth\":0,\"ticks\":\"\"}}}],\"scatterpolargl\":[{\"type\":\"scatterpolargl\",\"marker\":{\"colorbar\":{\"outlinewidth\":0,\"ticks\":\"\"}}}],\"bar\":[{\"error_x\":{\"color\":\"#2a3f5f\"},\"error_y\":{\"color\":\"#2a3f5f\"},\"marker\":{\"line\":{\"color\":\"#E5ECF6\",\"width\":0.5},\"pattern\":{\"fillmode\":\"overlay\",\"size\":10,\"solidity\":0.2}},\"type\":\"bar\"}],\"scattergeo\":[{\"type\":\"scattergeo\",\"marker\":{\"colorbar\":{\"outlinewidth\":0,\"ticks\":\"\"}}}],\"scatterpolar\":[{\"type\":\"scatterpolar\",\"marker\":{\"colorbar\":{\"outlinewidth\":0,\"ticks\":\"\"}}}],\"histogram\":[{\"marker\":{\"pattern\":{\"fillmode\":\"overlay\",\"size\":10,\"solidity\":0.2}},\"type\":\"histogram\"}],\"scattergl\":[{\"type\":\"scattergl\",\"marker\":{\"colorbar\":{\"outlinewidth\":0,\"ticks\":\"\"}}}],\"scatter3d\":[{\"type\":\"scatter3d\",\"line\":{\"colorbar\":{\"outlinewidth\":0,\"ticks\":\"\"}},\"marker\":{\"colorbar\":{\"outlinewidth\":0,\"ticks\":\"\"}}}],\"scattermapbox\":[{\"type\":\"scattermapbox\",\"marker\":{\"colorbar\":{\"outlinewidth\":0,\"ticks\":\"\"}}}],\"scatterternary\":[{\"type\":\"scatterternary\",\"marker\":{\"colorbar\":{\"outlinewidth\":0,\"ticks\":\"\"}}}],\"scattercarpet\":[{\"type\":\"scattercarpet\",\"marker\":{\"colorbar\":{\"outlinewidth\":0,\"ticks\":\"\"}}}],\"carpet\":[{\"aaxis\":{\"endlinecolor\":\"#2a3f5f\",\"gridcolor\":\"white\",\"linecolor\":\"white\",\"minorgridcolor\":\"white\",\"startlinecolor\":\"#2a3f5f\"},\"baxis\":{\"endlinecolor\":\"#2a3f5f\",\"gridcolor\":\"white\",\"linecolor\":\"white\",\"minorgridcolor\":\"white\",\"startlinecolor\":\"#2a3f5f\"},\"type\":\"carpet\"}],\"table\":[{\"cells\":{\"fill\":{\"color\":\"#EBF0F8\"},\"line\":{\"color\":\"white\"}},\"header\":{\"fill\":{\"color\":\"#C8D4E3\"},\"line\":{\"color\":\"white\"}},\"type\":\"table\"}],\"barpolar\":[{\"marker\":{\"line\":{\"color\":\"#E5ECF6\",\"width\":0.5},\"pattern\":{\"fillmode\":\"overlay\",\"size\":10,\"solidity\":0.2}},\"type\":\"barpolar\"}],\"pie\":[{\"automargin\":true,\"type\":\"pie\"}]},\"layout\":{\"autotypenumbers\":\"strict\",\"colorway\":[\"#636efa\",\"#EF553B\",\"#00cc96\",\"#ab63fa\",\"#FFA15A\",\"#19d3f3\",\"#FF6692\",\"#B6E880\",\"#FF97FF\",\"#FECB52\"],\"font\":{\"color\":\"#2a3f5f\"},\"hovermode\":\"closest\",\"hoverlabel\":{\"align\":\"left\"},\"paper_bgcolor\":\"white\",\"plot_bgcolor\":\"#E5ECF6\",\"polar\":{\"bgcolor\":\"#E5ECF6\",\"angularaxis\":{\"gridcolor\":\"white\",\"linecolor\":\"white\",\"ticks\":\"\"},\"radialaxis\":{\"gridcolor\":\"white\",\"linecolor\":\"white\",\"ticks\":\"\"}},\"ternary\":{\"bgcolor\":\"#E5ECF6\",\"aaxis\":{\"gridcolor\":\"white\",\"linecolor\":\"white\",\"ticks\":\"\"},\"baxis\":{\"gridcolor\":\"white\",\"linecolor\":\"white\",\"ticks\":\"\"},\"caxis\":{\"gridcolor\":\"white\",\"linecolor\":\"white\",\"ticks\":\"\"}},\"coloraxis\":{\"colorbar\":{\"outlinewidth\":0,\"ticks\":\"\"}},\"colorscale\":{\"sequential\":[[0.0,\"#0d0887\"],[0.1111111111111111,\"#46039f\"],[0.2222222222222222,\"#7201a8\"],[0.3333333333333333,\"#9c179e\"],[0.4444444444444444,\"#bd3786\"],[0.5555555555555556,\"#d8576b\"],[0.6666666666666666,\"#ed7953\"],[0.7777777777777778,\"#fb9f3a\"],[0.8888888888888888,\"#fdca26\"],[1.0,\"#f0f921\"]],\"sequentialminus\":[[0.0,\"#0d0887\"],[0.1111111111111111,\"#46039f\"],[0.2222222222222222,\"#7201a8\"],[0.3333333333333333,\"#9c179e\"],[0.4444444444444444,\"#bd3786\"],[0.5555555555555556,\"#d8576b\"],[0.6666666666666666,\"#ed7953\"],[0.7777777777777778,\"#fb9f3a\"],[0.8888888888888888,\"#fdca26\"],[1.0,\"#f0f921\"]],\"diverging\":[[0,\"#8e0152\"],[0.1,\"#c51b7d\"],[0.2,\"#de77ae\"],[0.3,\"#f1b6da\"],[0.4,\"#fde0ef\"],[0.5,\"#f7f7f7\"],[0.6,\"#e6f5d0\"],[0.7,\"#b8e186\"],[0.8,\"#7fbc41\"],[0.9,\"#4d9221\"],[1,\"#276419\"]]},\"xaxis\":{\"gridcolor\":\"white\",\"linecolor\":\"white\",\"ticks\":\"\",\"title\":{\"standoff\":15},\"zerolinecolor\":\"white\",\"automargin\":true,\"zerolinewidth\":2},\"yaxis\":{\"gridcolor\":\"white\",\"linecolor\":\"white\",\"ticks\":\"\",\"title\":{\"standoff\":15},\"zerolinecolor\":\"white\",\"automargin\":true,\"zerolinewidth\":2},\"scene\":{\"xaxis\":{\"backgroundcolor\":\"#E5ECF6\",\"gridcolor\":\"white\",\"linecolor\":\"white\",\"showbackground\":true,\"ticks\":\"\",\"zerolinecolor\":\"white\",\"gridwidth\":2},\"yaxis\":{\"backgroundcolor\":\"#E5ECF6\",\"gridcolor\":\"white\",\"linecolor\":\"white\",\"showbackground\":true,\"ticks\":\"\",\"zerolinecolor\":\"white\",\"gridwidth\":2},\"zaxis\":{\"backgroundcolor\":\"#E5ECF6\",\"gridcolor\":\"white\",\"linecolor\":\"white\",\"showbackground\":true,\"ticks\":\"\",\"zerolinecolor\":\"white\",\"gridwidth\":2}},\"shapedefaults\":{\"line\":{\"color\":\"#2a3f5f\"}},\"annotationdefaults\":{\"arrowcolor\":\"#2a3f5f\",\"arrowhead\":0,\"arrowwidth\":1},\"geo\":{\"bgcolor\":\"white\",\"landcolor\":\"#E5ECF6\",\"subunitcolor\":\"white\",\"showland\":true,\"showlakes\":true,\"lakecolor\":\"white\"},\"title\":{\"x\":0.05},\"mapbox\":{\"style\":\"light\"}}},\"xaxis\":{\"anchor\":\"y\",\"domain\":[0.0,1.0],\"title\":{\"text\":\"Date\"}},\"yaxis\":{\"anchor\":\"x\",\"domain\":[0.0,1.0],\"title\":{\"text\":\"y\"}},\"legend\":{\"tracegroupgap\":0},\"title\":{\"text\":\"Adjustment Close Value ENSG\"}},                        {\"responsive\": true}                    ).then(function(){\n",
       "                            \n",
       "var gd = document.getElementById('e558a0fb-bd0e-42f3-8478-d3e8214412a9');\n",
       "var x = new MutationObserver(function (mutations, observer) {{\n",
       "        var display = window.getComputedStyle(gd).display;\n",
       "        if (!display || display === 'none') {{\n",
       "            console.log([gd, 'removed!']);\n",
       "            Plotly.purge(gd);\n",
       "            observer.disconnect();\n",
       "        }}\n",
       "}});\n",
       "\n",
       "// Listen for the removal of the full notebook cells\n",
       "var notebookContainer = gd.closest('#notebook-container');\n",
       "if (notebookContainer) {{\n",
       "    x.observe(notebookContainer, {childList: true});\n",
       "}}\n",
       "\n",
       "// Listen for the clearing of the current output cell\n",
       "var outputEl = gd.closest('.output');\n",
       "if (outputEl) {{\n",
       "    x.observe(outputEl, {childList: true});\n",
       "}}\n",
       "\n",
       "                        })                };                });            </script>        </div>"
      ]
     },
     "metadata": {},
     "output_type": "display_data"
    }
   ],
   "source": [
    "#data by day in period of 5y Adjusted\n",
    "fig_adj = px.line(df_ensign, x=df_ensign.index, y=df_ensign['Adj Close'].values.squeeze(), title='Adjustment Close Value ENSG')\n",
    "fig_adj.show()"
   ]
  },
  {
   "cell_type": "code",
   "execution_count": 642,
   "id": "21655a3e-ea1f-4684-8627-57ce0f95e5df",
   "metadata": {},
   "outputs": [
    {
     "data": {
      "application/vnd.plotly.v1+json": {
       "config": {
        "plotlyServerURL": "https://plot.ly"
       },
       "data": [
        {
         "hovertemplate": "Date=%{x}<br>y=%{y}<extra></extra>",
         "legendgroup": "",
         "line": {
          "color": "#636efa",
          "dash": "solid"
         },
         "marker": {
          "symbol": "circle"
         },
         "mode": "lines",
         "name": "",
         "showlegend": false,
         "type": "scattergl",
         "x": [
          "2019-11-01T00:00:00+00:00",
          "2019-11-04T00:00:00+00:00",
          "2019-11-05T00:00:00+00:00",
          "2019-11-06T00:00:00+00:00",
          "2019-11-07T00:00:00+00:00",
          "2019-11-08T00:00:00+00:00",
          "2019-11-11T00:00:00+00:00",
          "2019-11-12T00:00:00+00:00",
          "2019-11-13T00:00:00+00:00",
          "2019-11-14T00:00:00+00:00",
          "2019-11-15T00:00:00+00:00",
          "2019-11-18T00:00:00+00:00",
          "2019-11-19T00:00:00+00:00",
          "2019-11-20T00:00:00+00:00",
          "2019-11-21T00:00:00+00:00",
          "2019-11-22T00:00:00+00:00",
          "2019-11-25T00:00:00+00:00",
          "2019-11-26T00:00:00+00:00",
          "2019-11-27T00:00:00+00:00",
          "2019-11-29T00:00:00+00:00",
          "2019-12-02T00:00:00+00:00",
          "2019-12-03T00:00:00+00:00",
          "2019-12-04T00:00:00+00:00",
          "2019-12-05T00:00:00+00:00",
          "2019-12-06T00:00:00+00:00",
          "2019-12-09T00:00:00+00:00",
          "2019-12-10T00:00:00+00:00",
          "2019-12-11T00:00:00+00:00",
          "2019-12-12T00:00:00+00:00",
          "2019-12-13T00:00:00+00:00",
          "2019-12-16T00:00:00+00:00",
          "2019-12-17T00:00:00+00:00",
          "2019-12-18T00:00:00+00:00",
          "2019-12-19T00:00:00+00:00",
          "2019-12-20T00:00:00+00:00",
          "2019-12-23T00:00:00+00:00",
          "2019-12-24T00:00:00+00:00",
          "2019-12-26T00:00:00+00:00",
          "2019-12-27T00:00:00+00:00",
          "2019-12-30T00:00:00+00:00",
          "2019-12-31T00:00:00+00:00",
          "2020-01-02T00:00:00+00:00",
          "2020-01-03T00:00:00+00:00",
          "2020-01-06T00:00:00+00:00",
          "2020-01-07T00:00:00+00:00",
          "2020-01-08T00:00:00+00:00",
          "2020-01-09T00:00:00+00:00",
          "2020-01-10T00:00:00+00:00",
          "2020-01-13T00:00:00+00:00",
          "2020-01-14T00:00:00+00:00",
          "2020-01-15T00:00:00+00:00",
          "2020-01-16T00:00:00+00:00",
          "2020-01-17T00:00:00+00:00",
          "2020-01-21T00:00:00+00:00",
          "2020-01-22T00:00:00+00:00",
          "2020-01-23T00:00:00+00:00",
          "2020-01-24T00:00:00+00:00",
          "2020-01-27T00:00:00+00:00",
          "2020-01-28T00:00:00+00:00",
          "2020-01-29T00:00:00+00:00",
          "2020-01-30T00:00:00+00:00",
          "2020-01-31T00:00:00+00:00",
          "2020-02-03T00:00:00+00:00",
          "2020-02-04T00:00:00+00:00",
          "2020-02-05T00:00:00+00:00",
          "2020-02-06T00:00:00+00:00",
          "2020-02-07T00:00:00+00:00",
          "2020-02-10T00:00:00+00:00",
          "2020-02-11T00:00:00+00:00",
          "2020-02-12T00:00:00+00:00",
          "2020-02-13T00:00:00+00:00",
          "2020-02-14T00:00:00+00:00",
          "2020-02-18T00:00:00+00:00",
          "2020-02-19T00:00:00+00:00",
          "2020-02-20T00:00:00+00:00",
          "2020-02-21T00:00:00+00:00",
          "2020-02-24T00:00:00+00:00",
          "2020-02-25T00:00:00+00:00",
          "2020-02-26T00:00:00+00:00",
          "2020-02-27T00:00:00+00:00",
          "2020-02-28T00:00:00+00:00",
          "2020-03-02T00:00:00+00:00",
          "2020-03-03T00:00:00+00:00",
          "2020-03-04T00:00:00+00:00",
          "2020-03-05T00:00:00+00:00",
          "2020-03-06T00:00:00+00:00",
          "2020-03-09T00:00:00+00:00",
          "2020-03-10T00:00:00+00:00",
          "2020-03-11T00:00:00+00:00",
          "2020-03-12T00:00:00+00:00",
          "2020-03-13T00:00:00+00:00",
          "2020-03-16T00:00:00+00:00",
          "2020-03-17T00:00:00+00:00",
          "2020-03-18T00:00:00+00:00",
          "2020-03-19T00:00:00+00:00",
          "2020-03-20T00:00:00+00:00",
          "2020-03-23T00:00:00+00:00",
          "2020-03-24T00:00:00+00:00",
          "2020-03-25T00:00:00+00:00",
          "2020-03-26T00:00:00+00:00",
          "2020-03-27T00:00:00+00:00",
          "2020-03-30T00:00:00+00:00",
          "2020-03-31T00:00:00+00:00",
          "2020-04-01T00:00:00+00:00",
          "2020-04-02T00:00:00+00:00",
          "2020-04-03T00:00:00+00:00",
          "2020-04-06T00:00:00+00:00",
          "2020-04-07T00:00:00+00:00",
          "2020-04-08T00:00:00+00:00",
          "2020-04-09T00:00:00+00:00",
          "2020-04-13T00:00:00+00:00",
          "2020-04-14T00:00:00+00:00",
          "2020-04-15T00:00:00+00:00",
          "2020-04-16T00:00:00+00:00",
          "2020-04-17T00:00:00+00:00",
          "2020-04-20T00:00:00+00:00",
          "2020-04-21T00:00:00+00:00",
          "2020-04-22T00:00:00+00:00",
          "2020-04-23T00:00:00+00:00",
          "2020-04-24T00:00:00+00:00",
          "2020-04-27T00:00:00+00:00",
          "2020-04-28T00:00:00+00:00",
          "2020-04-29T00:00:00+00:00",
          "2020-04-30T00:00:00+00:00",
          "2020-05-01T00:00:00+00:00",
          "2020-05-04T00:00:00+00:00",
          "2020-05-05T00:00:00+00:00",
          "2020-05-06T00:00:00+00:00",
          "2020-05-07T00:00:00+00:00",
          "2020-05-08T00:00:00+00:00",
          "2020-05-11T00:00:00+00:00",
          "2020-05-12T00:00:00+00:00",
          "2020-05-13T00:00:00+00:00",
          "2020-05-14T00:00:00+00:00",
          "2020-05-15T00:00:00+00:00",
          "2020-05-18T00:00:00+00:00",
          "2020-05-19T00:00:00+00:00",
          "2020-05-20T00:00:00+00:00",
          "2020-05-21T00:00:00+00:00",
          "2020-05-22T00:00:00+00:00",
          "2020-05-26T00:00:00+00:00",
          "2020-05-27T00:00:00+00:00",
          "2020-05-28T00:00:00+00:00",
          "2020-05-29T00:00:00+00:00",
          "2020-06-01T00:00:00+00:00",
          "2020-06-02T00:00:00+00:00",
          "2020-06-03T00:00:00+00:00",
          "2020-06-04T00:00:00+00:00",
          "2020-06-05T00:00:00+00:00",
          "2020-06-08T00:00:00+00:00",
          "2020-06-09T00:00:00+00:00",
          "2020-06-10T00:00:00+00:00",
          "2020-06-11T00:00:00+00:00",
          "2020-06-12T00:00:00+00:00",
          "2020-06-15T00:00:00+00:00",
          "2020-06-16T00:00:00+00:00",
          "2020-06-17T00:00:00+00:00",
          "2020-06-18T00:00:00+00:00",
          "2020-06-19T00:00:00+00:00",
          "2020-06-22T00:00:00+00:00",
          "2020-06-23T00:00:00+00:00",
          "2020-06-24T00:00:00+00:00",
          "2020-06-25T00:00:00+00:00",
          "2020-06-26T00:00:00+00:00",
          "2020-06-29T00:00:00+00:00",
          "2020-06-30T00:00:00+00:00",
          "2020-07-01T00:00:00+00:00",
          "2020-07-02T00:00:00+00:00",
          "2020-07-06T00:00:00+00:00",
          "2020-07-07T00:00:00+00:00",
          "2020-07-08T00:00:00+00:00",
          "2020-07-09T00:00:00+00:00",
          "2020-07-10T00:00:00+00:00",
          "2020-07-13T00:00:00+00:00",
          "2020-07-14T00:00:00+00:00",
          "2020-07-15T00:00:00+00:00",
          "2020-07-16T00:00:00+00:00",
          "2020-07-17T00:00:00+00:00",
          "2020-07-20T00:00:00+00:00",
          "2020-07-21T00:00:00+00:00",
          "2020-07-22T00:00:00+00:00",
          "2020-07-23T00:00:00+00:00",
          "2020-07-24T00:00:00+00:00",
          "2020-07-27T00:00:00+00:00",
          "2020-07-28T00:00:00+00:00",
          "2020-07-29T00:00:00+00:00",
          "2020-07-30T00:00:00+00:00",
          "2020-07-31T00:00:00+00:00",
          "2020-08-03T00:00:00+00:00",
          "2020-08-04T00:00:00+00:00",
          "2020-08-05T00:00:00+00:00",
          "2020-08-06T00:00:00+00:00",
          "2020-08-07T00:00:00+00:00",
          "2020-08-10T00:00:00+00:00",
          "2020-08-11T00:00:00+00:00",
          "2020-08-12T00:00:00+00:00",
          "2020-08-13T00:00:00+00:00",
          "2020-08-14T00:00:00+00:00",
          "2020-08-17T00:00:00+00:00",
          "2020-08-18T00:00:00+00:00",
          "2020-08-19T00:00:00+00:00",
          "2020-08-20T00:00:00+00:00",
          "2020-08-21T00:00:00+00:00",
          "2020-08-24T00:00:00+00:00",
          "2020-08-25T00:00:00+00:00",
          "2020-08-26T00:00:00+00:00",
          "2020-08-27T00:00:00+00:00",
          "2020-08-28T00:00:00+00:00",
          "2020-08-31T00:00:00+00:00",
          "2020-09-01T00:00:00+00:00",
          "2020-09-02T00:00:00+00:00",
          "2020-09-03T00:00:00+00:00",
          "2020-09-04T00:00:00+00:00",
          "2020-09-08T00:00:00+00:00",
          "2020-09-09T00:00:00+00:00",
          "2020-09-10T00:00:00+00:00",
          "2020-09-11T00:00:00+00:00",
          "2020-09-14T00:00:00+00:00",
          "2020-09-15T00:00:00+00:00",
          "2020-09-16T00:00:00+00:00",
          "2020-09-17T00:00:00+00:00",
          "2020-09-18T00:00:00+00:00",
          "2020-09-21T00:00:00+00:00",
          "2020-09-22T00:00:00+00:00",
          "2020-09-23T00:00:00+00:00",
          "2020-09-24T00:00:00+00:00",
          "2020-09-25T00:00:00+00:00",
          "2020-09-28T00:00:00+00:00",
          "2020-09-29T00:00:00+00:00",
          "2020-09-30T00:00:00+00:00",
          "2020-10-01T00:00:00+00:00",
          "2020-10-02T00:00:00+00:00",
          "2020-10-05T00:00:00+00:00",
          "2020-10-06T00:00:00+00:00",
          "2020-10-07T00:00:00+00:00",
          "2020-10-08T00:00:00+00:00",
          "2020-10-09T00:00:00+00:00",
          "2020-10-12T00:00:00+00:00",
          "2020-10-13T00:00:00+00:00",
          "2020-10-14T00:00:00+00:00",
          "2020-10-15T00:00:00+00:00",
          "2020-10-16T00:00:00+00:00",
          "2020-10-19T00:00:00+00:00",
          "2020-10-20T00:00:00+00:00",
          "2020-10-21T00:00:00+00:00",
          "2020-10-22T00:00:00+00:00",
          "2020-10-23T00:00:00+00:00",
          "2020-10-26T00:00:00+00:00",
          "2020-10-27T00:00:00+00:00",
          "2020-10-28T00:00:00+00:00",
          "2020-10-29T00:00:00+00:00",
          "2020-10-30T00:00:00+00:00",
          "2020-11-02T00:00:00+00:00",
          "2020-11-03T00:00:00+00:00",
          "2020-11-04T00:00:00+00:00",
          "2020-11-05T00:00:00+00:00",
          "2020-11-06T00:00:00+00:00",
          "2020-11-09T00:00:00+00:00",
          "2020-11-10T00:00:00+00:00",
          "2020-11-11T00:00:00+00:00",
          "2020-11-12T00:00:00+00:00",
          "2020-11-13T00:00:00+00:00",
          "2020-11-16T00:00:00+00:00",
          "2020-11-17T00:00:00+00:00",
          "2020-11-18T00:00:00+00:00",
          "2020-11-19T00:00:00+00:00",
          "2020-11-20T00:00:00+00:00",
          "2020-11-23T00:00:00+00:00",
          "2020-11-24T00:00:00+00:00",
          "2020-11-25T00:00:00+00:00",
          "2020-11-27T00:00:00+00:00",
          "2020-11-30T00:00:00+00:00",
          "2020-12-01T00:00:00+00:00",
          "2020-12-02T00:00:00+00:00",
          "2020-12-03T00:00:00+00:00",
          "2020-12-04T00:00:00+00:00",
          "2020-12-07T00:00:00+00:00",
          "2020-12-08T00:00:00+00:00",
          "2020-12-09T00:00:00+00:00",
          "2020-12-10T00:00:00+00:00",
          "2020-12-11T00:00:00+00:00",
          "2020-12-14T00:00:00+00:00",
          "2020-12-15T00:00:00+00:00",
          "2020-12-16T00:00:00+00:00",
          "2020-12-17T00:00:00+00:00",
          "2020-12-18T00:00:00+00:00",
          "2020-12-21T00:00:00+00:00",
          "2020-12-22T00:00:00+00:00",
          "2020-12-23T00:00:00+00:00",
          "2020-12-24T00:00:00+00:00",
          "2020-12-28T00:00:00+00:00",
          "2020-12-29T00:00:00+00:00",
          "2020-12-30T00:00:00+00:00",
          "2020-12-31T00:00:00+00:00",
          "2021-01-04T00:00:00+00:00",
          "2021-01-05T00:00:00+00:00",
          "2021-01-06T00:00:00+00:00",
          "2021-01-07T00:00:00+00:00",
          "2021-01-08T00:00:00+00:00",
          "2021-01-11T00:00:00+00:00",
          "2021-01-12T00:00:00+00:00",
          "2021-01-13T00:00:00+00:00",
          "2021-01-14T00:00:00+00:00",
          "2021-01-15T00:00:00+00:00",
          "2021-01-19T00:00:00+00:00",
          "2021-01-20T00:00:00+00:00",
          "2021-01-21T00:00:00+00:00",
          "2021-01-22T00:00:00+00:00",
          "2021-01-25T00:00:00+00:00",
          "2021-01-26T00:00:00+00:00",
          "2021-01-27T00:00:00+00:00",
          "2021-01-28T00:00:00+00:00",
          "2021-01-29T00:00:00+00:00",
          "2021-02-01T00:00:00+00:00",
          "2021-02-02T00:00:00+00:00",
          "2021-02-03T00:00:00+00:00",
          "2021-02-04T00:00:00+00:00",
          "2021-02-05T00:00:00+00:00",
          "2021-02-08T00:00:00+00:00",
          "2021-02-09T00:00:00+00:00",
          "2021-02-10T00:00:00+00:00",
          "2021-02-11T00:00:00+00:00",
          "2021-02-12T00:00:00+00:00",
          "2021-02-16T00:00:00+00:00",
          "2021-02-17T00:00:00+00:00",
          "2021-02-18T00:00:00+00:00",
          "2021-02-19T00:00:00+00:00",
          "2021-02-22T00:00:00+00:00",
          "2021-02-23T00:00:00+00:00",
          "2021-02-24T00:00:00+00:00",
          "2021-02-25T00:00:00+00:00",
          "2021-02-26T00:00:00+00:00",
          "2021-03-01T00:00:00+00:00",
          "2021-03-02T00:00:00+00:00",
          "2021-03-03T00:00:00+00:00",
          "2021-03-04T00:00:00+00:00",
          "2021-03-05T00:00:00+00:00",
          "2021-03-08T00:00:00+00:00",
          "2021-03-09T00:00:00+00:00",
          "2021-03-10T00:00:00+00:00",
          "2021-03-11T00:00:00+00:00",
          "2021-03-12T00:00:00+00:00",
          "2021-03-15T00:00:00+00:00",
          "2021-03-16T00:00:00+00:00",
          "2021-03-17T00:00:00+00:00",
          "2021-03-18T00:00:00+00:00",
          "2021-03-19T00:00:00+00:00",
          "2021-03-22T00:00:00+00:00",
          "2021-03-23T00:00:00+00:00",
          "2021-03-24T00:00:00+00:00",
          "2021-03-25T00:00:00+00:00",
          "2021-03-26T00:00:00+00:00",
          "2021-03-29T00:00:00+00:00",
          "2021-03-30T00:00:00+00:00",
          "2021-03-31T00:00:00+00:00",
          "2021-04-01T00:00:00+00:00",
          "2021-04-05T00:00:00+00:00",
          "2021-04-06T00:00:00+00:00",
          "2021-04-07T00:00:00+00:00",
          "2021-04-08T00:00:00+00:00",
          "2021-04-09T00:00:00+00:00",
          "2021-04-12T00:00:00+00:00",
          "2021-04-13T00:00:00+00:00",
          "2021-04-14T00:00:00+00:00",
          "2021-04-15T00:00:00+00:00",
          "2021-04-16T00:00:00+00:00",
          "2021-04-19T00:00:00+00:00",
          "2021-04-20T00:00:00+00:00",
          "2021-04-21T00:00:00+00:00",
          "2021-04-22T00:00:00+00:00",
          "2021-04-23T00:00:00+00:00",
          "2021-04-26T00:00:00+00:00",
          "2021-04-27T00:00:00+00:00",
          "2021-04-28T00:00:00+00:00",
          "2021-04-29T00:00:00+00:00",
          "2021-04-30T00:00:00+00:00",
          "2021-05-03T00:00:00+00:00",
          "2021-05-04T00:00:00+00:00",
          "2021-05-05T00:00:00+00:00",
          "2021-05-06T00:00:00+00:00",
          "2021-05-07T00:00:00+00:00",
          "2021-05-10T00:00:00+00:00",
          "2021-05-11T00:00:00+00:00",
          "2021-05-12T00:00:00+00:00",
          "2021-05-13T00:00:00+00:00",
          "2021-05-14T00:00:00+00:00",
          "2021-05-17T00:00:00+00:00",
          "2021-05-18T00:00:00+00:00",
          "2021-05-19T00:00:00+00:00",
          "2021-05-20T00:00:00+00:00",
          "2021-05-21T00:00:00+00:00",
          "2021-05-24T00:00:00+00:00",
          "2021-05-25T00:00:00+00:00",
          "2021-05-26T00:00:00+00:00",
          "2021-05-27T00:00:00+00:00",
          "2021-05-28T00:00:00+00:00",
          "2021-06-01T00:00:00+00:00",
          "2021-06-02T00:00:00+00:00",
          "2021-06-03T00:00:00+00:00",
          "2021-06-04T00:00:00+00:00",
          "2021-06-07T00:00:00+00:00",
          "2021-06-08T00:00:00+00:00",
          "2021-06-09T00:00:00+00:00",
          "2021-06-10T00:00:00+00:00",
          "2021-06-11T00:00:00+00:00",
          "2021-06-14T00:00:00+00:00",
          "2021-06-15T00:00:00+00:00",
          "2021-06-16T00:00:00+00:00",
          "2021-06-17T00:00:00+00:00",
          "2021-06-18T00:00:00+00:00",
          "2021-06-21T00:00:00+00:00",
          "2021-06-22T00:00:00+00:00",
          "2021-06-23T00:00:00+00:00",
          "2021-06-24T00:00:00+00:00",
          "2021-06-25T00:00:00+00:00",
          "2021-06-28T00:00:00+00:00",
          "2021-06-29T00:00:00+00:00",
          "2021-06-30T00:00:00+00:00",
          "2021-07-01T00:00:00+00:00",
          "2021-07-02T00:00:00+00:00",
          "2021-07-06T00:00:00+00:00",
          "2021-07-07T00:00:00+00:00",
          "2021-07-08T00:00:00+00:00",
          "2021-07-09T00:00:00+00:00",
          "2021-07-12T00:00:00+00:00",
          "2021-07-13T00:00:00+00:00",
          "2021-07-14T00:00:00+00:00",
          "2021-07-15T00:00:00+00:00",
          "2021-07-16T00:00:00+00:00",
          "2021-07-19T00:00:00+00:00",
          "2021-07-20T00:00:00+00:00",
          "2021-07-21T00:00:00+00:00",
          "2021-07-22T00:00:00+00:00",
          "2021-07-23T00:00:00+00:00",
          "2021-07-26T00:00:00+00:00",
          "2021-07-27T00:00:00+00:00",
          "2021-07-28T00:00:00+00:00",
          "2021-07-29T00:00:00+00:00",
          "2021-07-30T00:00:00+00:00",
          "2021-08-02T00:00:00+00:00",
          "2021-08-03T00:00:00+00:00",
          "2021-08-04T00:00:00+00:00",
          "2021-08-05T00:00:00+00:00",
          "2021-08-06T00:00:00+00:00",
          "2021-08-09T00:00:00+00:00",
          "2021-08-10T00:00:00+00:00",
          "2021-08-11T00:00:00+00:00",
          "2021-08-12T00:00:00+00:00",
          "2021-08-13T00:00:00+00:00",
          "2021-08-16T00:00:00+00:00",
          "2021-08-17T00:00:00+00:00",
          "2021-08-18T00:00:00+00:00",
          "2021-08-19T00:00:00+00:00",
          "2021-08-20T00:00:00+00:00",
          "2021-08-23T00:00:00+00:00",
          "2021-08-24T00:00:00+00:00",
          "2021-08-25T00:00:00+00:00",
          "2021-08-26T00:00:00+00:00",
          "2021-08-27T00:00:00+00:00",
          "2021-08-30T00:00:00+00:00",
          "2021-08-31T00:00:00+00:00",
          "2021-09-01T00:00:00+00:00",
          "2021-09-02T00:00:00+00:00",
          "2021-09-03T00:00:00+00:00",
          "2021-09-07T00:00:00+00:00",
          "2021-09-08T00:00:00+00:00",
          "2021-09-09T00:00:00+00:00",
          "2021-09-10T00:00:00+00:00",
          "2021-09-13T00:00:00+00:00",
          "2021-09-14T00:00:00+00:00",
          "2021-09-15T00:00:00+00:00",
          "2021-09-16T00:00:00+00:00",
          "2021-09-17T00:00:00+00:00",
          "2021-09-20T00:00:00+00:00",
          "2021-09-21T00:00:00+00:00",
          "2021-09-22T00:00:00+00:00",
          "2021-09-23T00:00:00+00:00",
          "2021-09-24T00:00:00+00:00",
          "2021-09-27T00:00:00+00:00",
          "2021-09-28T00:00:00+00:00",
          "2021-09-29T00:00:00+00:00",
          "2021-09-30T00:00:00+00:00",
          "2021-10-01T00:00:00+00:00",
          "2021-10-04T00:00:00+00:00",
          "2021-10-05T00:00:00+00:00",
          "2021-10-06T00:00:00+00:00",
          "2021-10-07T00:00:00+00:00",
          "2021-10-08T00:00:00+00:00",
          "2021-10-11T00:00:00+00:00",
          "2021-10-12T00:00:00+00:00",
          "2021-10-13T00:00:00+00:00",
          "2021-10-14T00:00:00+00:00",
          "2021-10-15T00:00:00+00:00",
          "2021-10-18T00:00:00+00:00",
          "2021-10-19T00:00:00+00:00",
          "2021-10-20T00:00:00+00:00",
          "2021-10-21T00:00:00+00:00",
          "2021-10-22T00:00:00+00:00",
          "2021-10-25T00:00:00+00:00",
          "2021-10-26T00:00:00+00:00",
          "2021-10-27T00:00:00+00:00",
          "2021-10-28T00:00:00+00:00",
          "2021-10-29T00:00:00+00:00",
          "2021-11-01T00:00:00+00:00",
          "2021-11-02T00:00:00+00:00",
          "2021-11-03T00:00:00+00:00",
          "2021-11-04T00:00:00+00:00",
          "2021-11-05T00:00:00+00:00",
          "2021-11-08T00:00:00+00:00",
          "2021-11-09T00:00:00+00:00",
          "2021-11-10T00:00:00+00:00",
          "2021-11-11T00:00:00+00:00",
          "2021-11-12T00:00:00+00:00",
          "2021-11-15T00:00:00+00:00",
          "2021-11-16T00:00:00+00:00",
          "2021-11-17T00:00:00+00:00",
          "2021-11-18T00:00:00+00:00",
          "2021-11-19T00:00:00+00:00",
          "2021-11-22T00:00:00+00:00",
          "2021-11-23T00:00:00+00:00",
          "2021-11-24T00:00:00+00:00",
          "2021-11-26T00:00:00+00:00",
          "2021-11-29T00:00:00+00:00",
          "2021-11-30T00:00:00+00:00",
          "2021-12-01T00:00:00+00:00",
          "2021-12-02T00:00:00+00:00",
          "2021-12-03T00:00:00+00:00",
          "2021-12-06T00:00:00+00:00",
          "2021-12-07T00:00:00+00:00",
          "2021-12-08T00:00:00+00:00",
          "2021-12-09T00:00:00+00:00",
          "2021-12-10T00:00:00+00:00",
          "2021-12-13T00:00:00+00:00",
          "2021-12-14T00:00:00+00:00",
          "2021-12-15T00:00:00+00:00",
          "2021-12-16T00:00:00+00:00",
          "2021-12-17T00:00:00+00:00",
          "2021-12-20T00:00:00+00:00",
          "2021-12-21T00:00:00+00:00",
          "2021-12-22T00:00:00+00:00",
          "2021-12-23T00:00:00+00:00",
          "2021-12-27T00:00:00+00:00",
          "2021-12-28T00:00:00+00:00",
          "2021-12-29T00:00:00+00:00",
          "2021-12-30T00:00:00+00:00",
          "2021-12-31T00:00:00+00:00",
          "2022-01-03T00:00:00+00:00",
          "2022-01-04T00:00:00+00:00",
          "2022-01-05T00:00:00+00:00",
          "2022-01-06T00:00:00+00:00",
          "2022-01-07T00:00:00+00:00",
          "2022-01-10T00:00:00+00:00",
          "2022-01-11T00:00:00+00:00",
          "2022-01-12T00:00:00+00:00",
          "2022-01-13T00:00:00+00:00",
          "2022-01-14T00:00:00+00:00",
          "2022-01-18T00:00:00+00:00",
          "2022-01-19T00:00:00+00:00",
          "2022-01-20T00:00:00+00:00",
          "2022-01-21T00:00:00+00:00",
          "2022-01-24T00:00:00+00:00",
          "2022-01-25T00:00:00+00:00",
          "2022-01-26T00:00:00+00:00",
          "2022-01-27T00:00:00+00:00",
          "2022-01-28T00:00:00+00:00",
          "2022-01-31T00:00:00+00:00",
          "2022-02-01T00:00:00+00:00",
          "2022-02-02T00:00:00+00:00",
          "2022-02-03T00:00:00+00:00",
          "2022-02-04T00:00:00+00:00",
          "2022-02-07T00:00:00+00:00",
          "2022-02-08T00:00:00+00:00",
          "2022-02-09T00:00:00+00:00",
          "2022-02-10T00:00:00+00:00",
          "2022-02-11T00:00:00+00:00",
          "2022-02-14T00:00:00+00:00",
          "2022-02-15T00:00:00+00:00",
          "2022-02-16T00:00:00+00:00",
          "2022-02-17T00:00:00+00:00",
          "2022-02-18T00:00:00+00:00",
          "2022-02-22T00:00:00+00:00",
          "2022-02-23T00:00:00+00:00",
          "2022-02-24T00:00:00+00:00",
          "2022-02-25T00:00:00+00:00",
          "2022-02-28T00:00:00+00:00",
          "2022-03-01T00:00:00+00:00",
          "2022-03-02T00:00:00+00:00",
          "2022-03-03T00:00:00+00:00",
          "2022-03-04T00:00:00+00:00",
          "2022-03-07T00:00:00+00:00",
          "2022-03-08T00:00:00+00:00",
          "2022-03-09T00:00:00+00:00",
          "2022-03-10T00:00:00+00:00",
          "2022-03-11T00:00:00+00:00",
          "2022-03-14T00:00:00+00:00",
          "2022-03-15T00:00:00+00:00",
          "2022-03-16T00:00:00+00:00",
          "2022-03-17T00:00:00+00:00",
          "2022-03-18T00:00:00+00:00",
          "2022-03-21T00:00:00+00:00",
          "2022-03-22T00:00:00+00:00",
          "2022-03-23T00:00:00+00:00",
          "2022-03-24T00:00:00+00:00",
          "2022-03-25T00:00:00+00:00",
          "2022-03-28T00:00:00+00:00",
          "2022-03-29T00:00:00+00:00",
          "2022-03-30T00:00:00+00:00",
          "2022-03-31T00:00:00+00:00",
          "2022-04-01T00:00:00+00:00",
          "2022-04-04T00:00:00+00:00",
          "2022-04-05T00:00:00+00:00",
          "2022-04-06T00:00:00+00:00",
          "2022-04-07T00:00:00+00:00",
          "2022-04-08T00:00:00+00:00",
          "2022-04-11T00:00:00+00:00",
          "2022-04-12T00:00:00+00:00",
          "2022-04-13T00:00:00+00:00",
          "2022-04-14T00:00:00+00:00",
          "2022-04-18T00:00:00+00:00",
          "2022-04-19T00:00:00+00:00",
          "2022-04-20T00:00:00+00:00",
          "2022-04-21T00:00:00+00:00",
          "2022-04-22T00:00:00+00:00",
          "2022-04-25T00:00:00+00:00",
          "2022-04-26T00:00:00+00:00",
          "2022-04-27T00:00:00+00:00",
          "2022-04-28T00:00:00+00:00",
          "2022-04-29T00:00:00+00:00",
          "2022-05-02T00:00:00+00:00",
          "2022-05-03T00:00:00+00:00",
          "2022-05-04T00:00:00+00:00",
          "2022-05-05T00:00:00+00:00",
          "2022-05-06T00:00:00+00:00",
          "2022-05-09T00:00:00+00:00",
          "2022-05-10T00:00:00+00:00",
          "2022-05-11T00:00:00+00:00",
          "2022-05-12T00:00:00+00:00",
          "2022-05-13T00:00:00+00:00",
          "2022-05-16T00:00:00+00:00",
          "2022-05-17T00:00:00+00:00",
          "2022-05-18T00:00:00+00:00",
          "2022-05-19T00:00:00+00:00",
          "2022-05-20T00:00:00+00:00",
          "2022-05-23T00:00:00+00:00",
          "2022-05-24T00:00:00+00:00",
          "2022-05-25T00:00:00+00:00",
          "2022-05-26T00:00:00+00:00",
          "2022-05-27T00:00:00+00:00",
          "2022-05-31T00:00:00+00:00",
          "2022-06-01T00:00:00+00:00",
          "2022-06-02T00:00:00+00:00",
          "2022-06-03T00:00:00+00:00",
          "2022-06-06T00:00:00+00:00",
          "2022-06-07T00:00:00+00:00",
          "2022-06-08T00:00:00+00:00",
          "2022-06-09T00:00:00+00:00",
          "2022-06-10T00:00:00+00:00",
          "2022-06-13T00:00:00+00:00",
          "2022-06-14T00:00:00+00:00",
          "2022-06-15T00:00:00+00:00",
          "2022-06-16T00:00:00+00:00",
          "2022-06-17T00:00:00+00:00",
          "2022-06-21T00:00:00+00:00",
          "2022-06-22T00:00:00+00:00",
          "2022-06-23T00:00:00+00:00",
          "2022-06-24T00:00:00+00:00",
          "2022-06-27T00:00:00+00:00",
          "2022-06-28T00:00:00+00:00",
          "2022-06-29T00:00:00+00:00",
          "2022-06-30T00:00:00+00:00",
          "2022-07-01T00:00:00+00:00",
          "2022-07-05T00:00:00+00:00",
          "2022-07-06T00:00:00+00:00",
          "2022-07-07T00:00:00+00:00",
          "2022-07-08T00:00:00+00:00",
          "2022-07-11T00:00:00+00:00",
          "2022-07-12T00:00:00+00:00",
          "2022-07-13T00:00:00+00:00",
          "2022-07-14T00:00:00+00:00",
          "2022-07-15T00:00:00+00:00",
          "2022-07-18T00:00:00+00:00",
          "2022-07-19T00:00:00+00:00",
          "2022-07-20T00:00:00+00:00",
          "2022-07-21T00:00:00+00:00",
          "2022-07-22T00:00:00+00:00",
          "2022-07-25T00:00:00+00:00",
          "2022-07-26T00:00:00+00:00",
          "2022-07-27T00:00:00+00:00",
          "2022-07-28T00:00:00+00:00",
          "2022-07-29T00:00:00+00:00",
          "2022-08-01T00:00:00+00:00",
          "2022-08-02T00:00:00+00:00",
          "2022-08-03T00:00:00+00:00",
          "2022-08-04T00:00:00+00:00",
          "2022-08-05T00:00:00+00:00",
          "2022-08-08T00:00:00+00:00",
          "2022-08-09T00:00:00+00:00",
          "2022-08-10T00:00:00+00:00",
          "2022-08-11T00:00:00+00:00",
          "2022-08-12T00:00:00+00:00",
          "2022-08-15T00:00:00+00:00",
          "2022-08-16T00:00:00+00:00",
          "2022-08-17T00:00:00+00:00",
          "2022-08-18T00:00:00+00:00",
          "2022-08-19T00:00:00+00:00",
          "2022-08-22T00:00:00+00:00",
          "2022-08-23T00:00:00+00:00",
          "2022-08-24T00:00:00+00:00",
          "2022-08-25T00:00:00+00:00",
          "2022-08-26T00:00:00+00:00",
          "2022-08-29T00:00:00+00:00",
          "2022-08-30T00:00:00+00:00",
          "2022-08-31T00:00:00+00:00",
          "2022-09-01T00:00:00+00:00",
          "2022-09-02T00:00:00+00:00",
          "2022-09-06T00:00:00+00:00",
          "2022-09-07T00:00:00+00:00",
          "2022-09-08T00:00:00+00:00",
          "2022-09-09T00:00:00+00:00",
          "2022-09-12T00:00:00+00:00",
          "2022-09-13T00:00:00+00:00",
          "2022-09-14T00:00:00+00:00",
          "2022-09-15T00:00:00+00:00",
          "2022-09-16T00:00:00+00:00",
          "2022-09-19T00:00:00+00:00",
          "2022-09-20T00:00:00+00:00",
          "2022-09-21T00:00:00+00:00",
          "2022-09-22T00:00:00+00:00",
          "2022-09-23T00:00:00+00:00",
          "2022-09-26T00:00:00+00:00",
          "2022-09-27T00:00:00+00:00",
          "2022-09-28T00:00:00+00:00",
          "2022-09-29T00:00:00+00:00",
          "2022-09-30T00:00:00+00:00",
          "2022-10-03T00:00:00+00:00",
          "2022-10-04T00:00:00+00:00",
          "2022-10-05T00:00:00+00:00",
          "2022-10-06T00:00:00+00:00",
          "2022-10-07T00:00:00+00:00",
          "2022-10-10T00:00:00+00:00",
          "2022-10-11T00:00:00+00:00",
          "2022-10-12T00:00:00+00:00",
          "2022-10-13T00:00:00+00:00",
          "2022-10-14T00:00:00+00:00",
          "2022-10-17T00:00:00+00:00",
          "2022-10-18T00:00:00+00:00",
          "2022-10-19T00:00:00+00:00",
          "2022-10-20T00:00:00+00:00",
          "2022-10-21T00:00:00+00:00",
          "2022-10-24T00:00:00+00:00",
          "2022-10-25T00:00:00+00:00",
          "2022-10-26T00:00:00+00:00",
          "2022-10-27T00:00:00+00:00",
          "2022-10-28T00:00:00+00:00",
          "2022-10-31T00:00:00+00:00",
          "2022-11-01T00:00:00+00:00",
          "2022-11-02T00:00:00+00:00",
          "2022-11-03T00:00:00+00:00",
          "2022-11-04T00:00:00+00:00",
          "2022-11-07T00:00:00+00:00",
          "2022-11-08T00:00:00+00:00",
          "2022-11-09T00:00:00+00:00",
          "2022-11-10T00:00:00+00:00",
          "2022-11-11T00:00:00+00:00",
          "2022-11-14T00:00:00+00:00",
          "2022-11-15T00:00:00+00:00",
          "2022-11-16T00:00:00+00:00",
          "2022-11-17T00:00:00+00:00",
          "2022-11-18T00:00:00+00:00",
          "2022-11-21T00:00:00+00:00",
          "2022-11-22T00:00:00+00:00",
          "2022-11-23T00:00:00+00:00",
          "2022-11-25T00:00:00+00:00",
          "2022-11-28T00:00:00+00:00",
          "2022-11-29T00:00:00+00:00",
          "2022-11-30T00:00:00+00:00",
          "2022-12-01T00:00:00+00:00",
          "2022-12-02T00:00:00+00:00",
          "2022-12-05T00:00:00+00:00",
          "2022-12-06T00:00:00+00:00",
          "2022-12-07T00:00:00+00:00",
          "2022-12-08T00:00:00+00:00",
          "2022-12-09T00:00:00+00:00",
          "2022-12-12T00:00:00+00:00",
          "2022-12-13T00:00:00+00:00",
          "2022-12-14T00:00:00+00:00",
          "2022-12-15T00:00:00+00:00",
          "2022-12-16T00:00:00+00:00",
          "2022-12-19T00:00:00+00:00",
          "2022-12-20T00:00:00+00:00",
          "2022-12-21T00:00:00+00:00",
          "2022-12-22T00:00:00+00:00",
          "2022-12-23T00:00:00+00:00",
          "2022-12-27T00:00:00+00:00",
          "2022-12-28T00:00:00+00:00",
          "2022-12-29T00:00:00+00:00",
          "2022-12-30T00:00:00+00:00",
          "2023-01-03T00:00:00+00:00",
          "2023-01-04T00:00:00+00:00",
          "2023-01-05T00:00:00+00:00",
          "2023-01-06T00:00:00+00:00",
          "2023-01-09T00:00:00+00:00",
          "2023-01-10T00:00:00+00:00",
          "2023-01-11T00:00:00+00:00",
          "2023-01-12T00:00:00+00:00",
          "2023-01-13T00:00:00+00:00",
          "2023-01-17T00:00:00+00:00",
          "2023-01-18T00:00:00+00:00",
          "2023-01-19T00:00:00+00:00",
          "2023-01-20T00:00:00+00:00",
          "2023-01-23T00:00:00+00:00",
          "2023-01-24T00:00:00+00:00",
          "2023-01-25T00:00:00+00:00",
          "2023-01-26T00:00:00+00:00",
          "2023-01-27T00:00:00+00:00",
          "2023-01-30T00:00:00+00:00",
          "2023-01-31T00:00:00+00:00",
          "2023-02-01T00:00:00+00:00",
          "2023-02-02T00:00:00+00:00",
          "2023-02-03T00:00:00+00:00",
          "2023-02-06T00:00:00+00:00",
          "2023-02-07T00:00:00+00:00",
          "2023-02-08T00:00:00+00:00",
          "2023-02-09T00:00:00+00:00",
          "2023-02-10T00:00:00+00:00",
          "2023-02-13T00:00:00+00:00",
          "2023-02-14T00:00:00+00:00",
          "2023-02-15T00:00:00+00:00",
          "2023-02-16T00:00:00+00:00",
          "2023-02-17T00:00:00+00:00",
          "2023-02-21T00:00:00+00:00",
          "2023-02-22T00:00:00+00:00",
          "2023-02-23T00:00:00+00:00",
          "2023-02-24T00:00:00+00:00",
          "2023-02-27T00:00:00+00:00",
          "2023-02-28T00:00:00+00:00",
          "2023-03-01T00:00:00+00:00",
          "2023-03-02T00:00:00+00:00",
          "2023-03-03T00:00:00+00:00",
          "2023-03-06T00:00:00+00:00",
          "2023-03-07T00:00:00+00:00",
          "2023-03-08T00:00:00+00:00",
          "2023-03-09T00:00:00+00:00",
          "2023-03-10T00:00:00+00:00",
          "2023-03-13T00:00:00+00:00",
          "2023-03-14T00:00:00+00:00",
          "2023-03-15T00:00:00+00:00",
          "2023-03-16T00:00:00+00:00",
          "2023-03-17T00:00:00+00:00",
          "2023-03-20T00:00:00+00:00",
          "2023-03-21T00:00:00+00:00",
          "2023-03-22T00:00:00+00:00",
          "2023-03-23T00:00:00+00:00",
          "2023-03-24T00:00:00+00:00",
          "2023-03-27T00:00:00+00:00",
          "2023-03-28T00:00:00+00:00",
          "2023-03-29T00:00:00+00:00",
          "2023-03-30T00:00:00+00:00",
          "2023-03-31T00:00:00+00:00",
          "2023-04-03T00:00:00+00:00",
          "2023-04-04T00:00:00+00:00",
          "2023-04-05T00:00:00+00:00",
          "2023-04-06T00:00:00+00:00",
          "2023-04-10T00:00:00+00:00",
          "2023-04-11T00:00:00+00:00",
          "2023-04-12T00:00:00+00:00",
          "2023-04-13T00:00:00+00:00",
          "2023-04-14T00:00:00+00:00",
          "2023-04-17T00:00:00+00:00",
          "2023-04-18T00:00:00+00:00",
          "2023-04-19T00:00:00+00:00",
          "2023-04-20T00:00:00+00:00",
          "2023-04-21T00:00:00+00:00",
          "2023-04-24T00:00:00+00:00",
          "2023-04-25T00:00:00+00:00",
          "2023-04-26T00:00:00+00:00",
          "2023-04-27T00:00:00+00:00",
          "2023-04-28T00:00:00+00:00",
          "2023-05-01T00:00:00+00:00",
          "2023-05-02T00:00:00+00:00",
          "2023-05-03T00:00:00+00:00",
          "2023-05-04T00:00:00+00:00",
          "2023-05-05T00:00:00+00:00",
          "2023-05-08T00:00:00+00:00",
          "2023-05-09T00:00:00+00:00",
          "2023-05-10T00:00:00+00:00",
          "2023-05-11T00:00:00+00:00",
          "2023-05-12T00:00:00+00:00",
          "2023-05-15T00:00:00+00:00",
          "2023-05-16T00:00:00+00:00",
          "2023-05-17T00:00:00+00:00",
          "2023-05-18T00:00:00+00:00",
          "2023-05-19T00:00:00+00:00",
          "2023-05-22T00:00:00+00:00",
          "2023-05-23T00:00:00+00:00",
          "2023-05-24T00:00:00+00:00",
          "2023-05-25T00:00:00+00:00",
          "2023-05-26T00:00:00+00:00",
          "2023-05-30T00:00:00+00:00",
          "2023-05-31T00:00:00+00:00",
          "2023-06-01T00:00:00+00:00",
          "2023-06-02T00:00:00+00:00",
          "2023-06-05T00:00:00+00:00",
          "2023-06-06T00:00:00+00:00",
          "2023-06-07T00:00:00+00:00",
          "2023-06-08T00:00:00+00:00",
          "2023-06-09T00:00:00+00:00",
          "2023-06-12T00:00:00+00:00",
          "2023-06-13T00:00:00+00:00",
          "2023-06-14T00:00:00+00:00",
          "2023-06-15T00:00:00+00:00",
          "2023-06-16T00:00:00+00:00",
          "2023-06-20T00:00:00+00:00",
          "2023-06-21T00:00:00+00:00",
          "2023-06-22T00:00:00+00:00",
          "2023-06-23T00:00:00+00:00",
          "2023-06-26T00:00:00+00:00",
          "2023-06-27T00:00:00+00:00",
          "2023-06-28T00:00:00+00:00",
          "2023-06-29T00:00:00+00:00",
          "2023-06-30T00:00:00+00:00",
          "2023-07-03T00:00:00+00:00",
          "2023-07-05T00:00:00+00:00",
          "2023-07-06T00:00:00+00:00",
          "2023-07-07T00:00:00+00:00",
          "2023-07-10T00:00:00+00:00",
          "2023-07-11T00:00:00+00:00",
          "2023-07-12T00:00:00+00:00",
          "2023-07-13T00:00:00+00:00",
          "2023-07-14T00:00:00+00:00",
          "2023-07-17T00:00:00+00:00",
          "2023-07-18T00:00:00+00:00",
          "2023-07-19T00:00:00+00:00",
          "2023-07-20T00:00:00+00:00",
          "2023-07-21T00:00:00+00:00",
          "2023-07-24T00:00:00+00:00",
          "2023-07-25T00:00:00+00:00",
          "2023-07-26T00:00:00+00:00",
          "2023-07-27T00:00:00+00:00",
          "2023-07-28T00:00:00+00:00",
          "2023-07-31T00:00:00+00:00",
          "2023-08-01T00:00:00+00:00",
          "2023-08-02T00:00:00+00:00",
          "2023-08-03T00:00:00+00:00",
          "2023-08-04T00:00:00+00:00",
          "2023-08-07T00:00:00+00:00",
          "2023-08-08T00:00:00+00:00",
          "2023-08-09T00:00:00+00:00",
          "2023-08-10T00:00:00+00:00",
          "2023-08-11T00:00:00+00:00",
          "2023-08-14T00:00:00+00:00",
          "2023-08-15T00:00:00+00:00",
          "2023-08-16T00:00:00+00:00",
          "2023-08-17T00:00:00+00:00",
          "2023-08-18T00:00:00+00:00",
          "2023-08-21T00:00:00+00:00",
          "2023-08-22T00:00:00+00:00",
          "2023-08-23T00:00:00+00:00",
          "2023-08-24T00:00:00+00:00",
          "2023-08-25T00:00:00+00:00",
          "2023-08-28T00:00:00+00:00",
          "2023-08-29T00:00:00+00:00",
          "2023-08-30T00:00:00+00:00",
          "2023-08-31T00:00:00+00:00",
          "2023-09-01T00:00:00+00:00",
          "2023-09-05T00:00:00+00:00",
          "2023-09-06T00:00:00+00:00",
          "2023-09-07T00:00:00+00:00",
          "2023-09-08T00:00:00+00:00",
          "2023-09-11T00:00:00+00:00",
          "2023-09-12T00:00:00+00:00",
          "2023-09-13T00:00:00+00:00",
          "2023-09-14T00:00:00+00:00",
          "2023-09-15T00:00:00+00:00",
          "2023-09-18T00:00:00+00:00",
          "2023-09-19T00:00:00+00:00",
          "2023-09-20T00:00:00+00:00",
          "2023-09-21T00:00:00+00:00",
          "2023-09-22T00:00:00+00:00",
          "2023-09-25T00:00:00+00:00",
          "2023-09-26T00:00:00+00:00",
          "2023-09-27T00:00:00+00:00",
          "2023-09-28T00:00:00+00:00",
          "2023-09-29T00:00:00+00:00",
          "2023-10-02T00:00:00+00:00",
          "2023-10-03T00:00:00+00:00",
          "2023-10-04T00:00:00+00:00",
          "2023-10-05T00:00:00+00:00",
          "2023-10-06T00:00:00+00:00",
          "2023-10-09T00:00:00+00:00",
          "2023-10-10T00:00:00+00:00",
          "2023-10-11T00:00:00+00:00",
          "2023-10-12T00:00:00+00:00",
          "2023-10-13T00:00:00+00:00",
          "2023-10-16T00:00:00+00:00",
          "2023-10-17T00:00:00+00:00",
          "2023-10-18T00:00:00+00:00",
          "2023-10-19T00:00:00+00:00",
          "2023-10-20T00:00:00+00:00",
          "2023-10-23T00:00:00+00:00",
          "2023-10-24T00:00:00+00:00",
          "2023-10-25T00:00:00+00:00",
          "2023-10-26T00:00:00+00:00",
          "2023-10-27T00:00:00+00:00",
          "2023-10-30T00:00:00+00:00",
          "2023-10-31T00:00:00+00:00",
          "2023-11-01T00:00:00+00:00",
          "2023-11-02T00:00:00+00:00",
          "2023-11-03T00:00:00+00:00",
          "2023-11-06T00:00:00+00:00",
          "2023-11-07T00:00:00+00:00",
          "2023-11-08T00:00:00+00:00",
          "2023-11-09T00:00:00+00:00",
          "2023-11-10T00:00:00+00:00",
          "2023-11-13T00:00:00+00:00",
          "2023-11-14T00:00:00+00:00",
          "2023-11-15T00:00:00+00:00",
          "2023-11-16T00:00:00+00:00",
          "2023-11-17T00:00:00+00:00",
          "2023-11-20T00:00:00+00:00",
          "2023-11-21T00:00:00+00:00",
          "2023-11-22T00:00:00+00:00",
          "2023-11-24T00:00:00+00:00",
          "2023-11-27T00:00:00+00:00",
          "2023-11-28T00:00:00+00:00",
          "2023-11-29T00:00:00+00:00",
          "2023-11-30T00:00:00+00:00",
          "2023-12-01T00:00:00+00:00",
          "2023-12-04T00:00:00+00:00",
          "2023-12-05T00:00:00+00:00",
          "2023-12-06T00:00:00+00:00",
          "2023-12-07T00:00:00+00:00",
          "2023-12-08T00:00:00+00:00",
          "2023-12-11T00:00:00+00:00",
          "2023-12-12T00:00:00+00:00",
          "2023-12-13T00:00:00+00:00",
          "2023-12-14T00:00:00+00:00",
          "2023-12-15T00:00:00+00:00",
          "2023-12-18T00:00:00+00:00",
          "2023-12-19T00:00:00+00:00",
          "2023-12-20T00:00:00+00:00",
          "2023-12-21T00:00:00+00:00",
          "2023-12-22T00:00:00+00:00",
          "2023-12-26T00:00:00+00:00",
          "2023-12-27T00:00:00+00:00",
          "2023-12-28T00:00:00+00:00",
          "2023-12-29T00:00:00+00:00",
          "2024-01-02T00:00:00+00:00",
          "2024-01-03T00:00:00+00:00",
          "2024-01-04T00:00:00+00:00",
          "2024-01-05T00:00:00+00:00",
          "2024-01-08T00:00:00+00:00",
          "2024-01-09T00:00:00+00:00",
          "2024-01-10T00:00:00+00:00",
          "2024-01-11T00:00:00+00:00",
          "2024-01-12T00:00:00+00:00",
          "2024-01-16T00:00:00+00:00",
          "2024-01-17T00:00:00+00:00",
          "2024-01-18T00:00:00+00:00",
          "2024-01-19T00:00:00+00:00",
          "2024-01-22T00:00:00+00:00",
          "2024-01-23T00:00:00+00:00",
          "2024-01-24T00:00:00+00:00",
          "2024-01-25T00:00:00+00:00",
          "2024-01-26T00:00:00+00:00",
          "2024-01-29T00:00:00+00:00",
          "2024-01-30T00:00:00+00:00",
          "2024-01-31T00:00:00+00:00",
          "2024-02-01T00:00:00+00:00",
          "2024-02-02T00:00:00+00:00",
          "2024-02-05T00:00:00+00:00",
          "2024-02-06T00:00:00+00:00",
          "2024-02-07T00:00:00+00:00",
          "2024-02-08T00:00:00+00:00",
          "2024-02-09T00:00:00+00:00",
          "2024-02-12T00:00:00+00:00",
          "2024-02-13T00:00:00+00:00",
          "2024-02-14T00:00:00+00:00",
          "2024-02-15T00:00:00+00:00",
          "2024-02-16T00:00:00+00:00",
          "2024-02-20T00:00:00+00:00",
          "2024-02-21T00:00:00+00:00",
          "2024-02-22T00:00:00+00:00",
          "2024-02-23T00:00:00+00:00",
          "2024-02-26T00:00:00+00:00",
          "2024-02-27T00:00:00+00:00",
          "2024-02-28T00:00:00+00:00",
          "2024-02-29T00:00:00+00:00",
          "2024-03-01T00:00:00+00:00",
          "2024-03-04T00:00:00+00:00",
          "2024-03-05T00:00:00+00:00",
          "2024-03-06T00:00:00+00:00",
          "2024-03-07T00:00:00+00:00",
          "2024-03-08T00:00:00+00:00",
          "2024-03-11T00:00:00+00:00",
          "2024-03-12T00:00:00+00:00",
          "2024-03-13T00:00:00+00:00",
          "2024-03-14T00:00:00+00:00",
          "2024-03-15T00:00:00+00:00",
          "2024-03-18T00:00:00+00:00",
          "2024-03-19T00:00:00+00:00",
          "2024-03-20T00:00:00+00:00",
          "2024-03-21T00:00:00+00:00",
          "2024-03-22T00:00:00+00:00",
          "2024-03-25T00:00:00+00:00",
          "2024-03-26T00:00:00+00:00",
          "2024-03-27T00:00:00+00:00",
          "2024-03-28T00:00:00+00:00",
          "2024-04-01T00:00:00+00:00",
          "2024-04-02T00:00:00+00:00",
          "2024-04-03T00:00:00+00:00",
          "2024-04-04T00:00:00+00:00",
          "2024-04-05T00:00:00+00:00",
          "2024-04-08T00:00:00+00:00",
          "2024-04-09T00:00:00+00:00",
          "2024-04-10T00:00:00+00:00",
          "2024-04-11T00:00:00+00:00",
          "2024-04-12T00:00:00+00:00",
          "2024-04-15T00:00:00+00:00",
          "2024-04-16T00:00:00+00:00",
          "2024-04-17T00:00:00+00:00",
          "2024-04-18T00:00:00+00:00",
          "2024-04-19T00:00:00+00:00",
          "2024-04-22T00:00:00+00:00",
          "2024-04-23T00:00:00+00:00",
          "2024-04-24T00:00:00+00:00",
          "2024-04-25T00:00:00+00:00",
          "2024-04-26T00:00:00+00:00",
          "2024-04-29T00:00:00+00:00",
          "2024-04-30T00:00:00+00:00",
          "2024-05-01T00:00:00+00:00",
          "2024-05-02T00:00:00+00:00",
          "2024-05-03T00:00:00+00:00",
          "2024-05-06T00:00:00+00:00",
          "2024-05-07T00:00:00+00:00",
          "2024-05-08T00:00:00+00:00",
          "2024-05-09T00:00:00+00:00",
          "2024-05-10T00:00:00+00:00",
          "2024-05-13T00:00:00+00:00",
          "2024-05-14T00:00:00+00:00",
          "2024-05-15T00:00:00+00:00",
          "2024-05-16T00:00:00+00:00",
          "2024-05-17T00:00:00+00:00",
          "2024-05-20T00:00:00+00:00",
          "2024-05-21T00:00:00+00:00",
          "2024-05-22T00:00:00+00:00",
          "2024-05-23T00:00:00+00:00",
          "2024-05-24T00:00:00+00:00",
          "2024-05-28T00:00:00+00:00",
          "2024-05-29T00:00:00+00:00",
          "2024-05-30T00:00:00+00:00",
          "2024-05-31T00:00:00+00:00",
          "2024-06-03T00:00:00+00:00",
          "2024-06-04T00:00:00+00:00",
          "2024-06-05T00:00:00+00:00",
          "2024-06-06T00:00:00+00:00",
          "2024-06-07T00:00:00+00:00",
          "2024-06-10T00:00:00+00:00",
          "2024-06-11T00:00:00+00:00",
          "2024-06-12T00:00:00+00:00",
          "2024-06-13T00:00:00+00:00",
          "2024-06-14T00:00:00+00:00",
          "2024-06-17T00:00:00+00:00",
          "2024-06-18T00:00:00+00:00",
          "2024-06-20T00:00:00+00:00",
          "2024-06-21T00:00:00+00:00",
          "2024-06-24T00:00:00+00:00",
          "2024-06-25T00:00:00+00:00",
          "2024-06-26T00:00:00+00:00",
          "2024-06-27T00:00:00+00:00",
          "2024-06-28T00:00:00+00:00",
          "2024-07-01T00:00:00+00:00",
          "2024-07-02T00:00:00+00:00",
          "2024-07-03T00:00:00+00:00",
          "2024-07-05T00:00:00+00:00",
          "2024-07-08T00:00:00+00:00",
          "2024-07-09T00:00:00+00:00",
          "2024-07-10T00:00:00+00:00",
          "2024-07-11T00:00:00+00:00",
          "2024-07-12T00:00:00+00:00",
          "2024-07-15T00:00:00+00:00",
          "2024-07-16T00:00:00+00:00",
          "2024-07-17T00:00:00+00:00",
          "2024-07-18T00:00:00+00:00",
          "2024-07-19T00:00:00+00:00",
          "2024-07-22T00:00:00+00:00",
          "2024-07-23T00:00:00+00:00",
          "2024-07-24T00:00:00+00:00",
          "2024-07-25T00:00:00+00:00",
          "2024-07-26T00:00:00+00:00",
          "2024-07-29T00:00:00+00:00",
          "2024-07-30T00:00:00+00:00",
          "2024-07-31T00:00:00+00:00",
          "2024-08-01T00:00:00+00:00",
          "2024-08-02T00:00:00+00:00",
          "2024-08-05T00:00:00+00:00",
          "2024-08-06T00:00:00+00:00",
          "2024-08-07T00:00:00+00:00",
          "2024-08-08T00:00:00+00:00",
          "2024-08-09T00:00:00+00:00",
          "2024-08-12T00:00:00+00:00",
          "2024-08-13T00:00:00+00:00",
          "2024-08-14T00:00:00+00:00",
          "2024-08-15T00:00:00+00:00",
          "2024-08-16T00:00:00+00:00",
          "2024-08-19T00:00:00+00:00",
          "2024-08-20T00:00:00+00:00",
          "2024-08-21T00:00:00+00:00",
          "2024-08-22T00:00:00+00:00",
          "2024-08-23T00:00:00+00:00",
          "2024-08-26T00:00:00+00:00",
          "2024-08-27T00:00:00+00:00",
          "2024-08-28T00:00:00+00:00",
          "2024-08-29T00:00:00+00:00",
          "2024-08-30T00:00:00+00:00",
          "2024-09-03T00:00:00+00:00",
          "2024-09-04T00:00:00+00:00",
          "2024-09-05T00:00:00+00:00",
          "2024-09-06T00:00:00+00:00",
          "2024-09-09T00:00:00+00:00",
          "2024-09-10T00:00:00+00:00",
          "2024-09-11T00:00:00+00:00",
          "2024-09-12T00:00:00+00:00",
          "2024-09-13T00:00:00+00:00",
          "2024-09-16T00:00:00+00:00",
          "2024-09-17T00:00:00+00:00",
          "2024-09-18T00:00:00+00:00",
          "2024-09-19T00:00:00+00:00",
          "2024-09-20T00:00:00+00:00",
          "2024-09-23T00:00:00+00:00",
          "2024-09-24T00:00:00+00:00",
          "2024-09-25T00:00:00+00:00",
          "2024-09-26T00:00:00+00:00",
          "2024-09-27T00:00:00+00:00",
          "2024-09-30T00:00:00+00:00",
          "2024-10-01T00:00:00+00:00",
          "2024-10-02T00:00:00+00:00",
          "2024-10-03T00:00:00+00:00",
          "2024-10-04T00:00:00+00:00",
          "2024-10-07T00:00:00+00:00",
          "2024-10-08T00:00:00+00:00",
          "2024-10-09T00:00:00+00:00",
          "2024-10-10T00:00:00+00:00",
          "2024-10-11T00:00:00+00:00",
          "2024-10-14T00:00:00+00:00",
          "2024-10-15T00:00:00+00:00",
          "2024-10-16T00:00:00+00:00",
          "2024-10-17T00:00:00+00:00",
          "2024-10-18T00:00:00+00:00",
          "2024-10-21T00:00:00+00:00",
          "2024-10-22T00:00:00+00:00",
          "2024-10-23T00:00:00+00:00",
          "2024-10-24T00:00:00+00:00",
          "2024-10-25T00:00:00+00:00",
          "2024-10-28T00:00:00+00:00",
          "2024-10-29T00:00:00+00:00",
          "2024-10-30T00:00:00+00:00",
          "2024-10-31T00:00:00+00:00"
         ],
         "xaxis": "x",
         "y": [
          237100,
          322100,
          240200,
          178300,
          210900,
          189100,
          132200,
          139200,
          223900,
          204900,
          197000,
          122100,
          162700,
          249800,
          421000,
          250800,
          209500,
          212500,
          123800,
          76200,
          256000,
          134000,
          200100,
          281100,
          330200,
          264400,
          212600,
          139700,
          239600,
          209800,
          250500,
          202200,
          386600,
          413600,
          1115100,
          214900,
          40700,
          82200,
          133400,
          145700,
          232000,
          186500,
          277900,
          249000,
          195300,
          286700,
          211300,
          231400,
          198700,
          252400,
          204500,
          186300,
          150700,
          218100,
          140100,
          383100,
          222200,
          205400,
          184100,
          186700,
          221000,
          203500,
          209900,
          217900,
          231800,
          619600,
          455000,
          321800,
          252800,
          231000,
          162300,
          182000,
          237800,
          352900,
          265000,
          342000,
          241000,
          210900,
          182000,
          415100,
          374400,
          431900,
          386900,
          503700,
          530900,
          414300,
          861200,
          833200,
          628300,
          865700,
          652200,
          1001500,
          1199300,
          716200,
          729100,
          1155900,
          556000,
          411300,
          461500,
          405000,
          397700,
          381300,
          587000,
          604500,
          353400,
          363500,
          409100,
          462300,
          281600,
          299100,
          312300,
          299900,
          396500,
          503700,
          445600,
          286900,
          809600,
          455700,
          397300,
          351400,
          478300,
          537100,
          401000,
          580200,
          374900,
          475400,
          356300,
          306100,
          353400,
          568200,
          597100,
          761500,
          441200,
          509700,
          442000,
          445900,
          323200,
          314800,
          346100,
          252700,
          334400,
          418100,
          402000,
          511000,
          245800,
          243100,
          263400,
          261500,
          318700,
          278700,
          228600,
          194800,
          294300,
          243200,
          359200,
          249000,
          200700,
          160100,
          413400,
          252400,
          191700,
          195000,
          338500,
          581400,
          239600,
          379400,
          264800,
          194200,
          207400,
          230200,
          197900,
          273400,
          169600,
          198800,
          200600,
          416300,
          269200,
          311300,
          159700,
          213700,
          199500,
          226300,
          189600,
          137800,
          179100,
          187200,
          181800,
          293900,
          355900,
          294900,
          322900,
          602400,
          368700,
          382000,
          288900,
          191500,
          171000,
          203300,
          209300,
          165500,
          269400,
          308000,
          325000,
          357200,
          232800,
          166300,
          209900,
          156800,
          251800,
          225300,
          190300,
          207800,
          219200,
          234200,
          294600,
          225300,
          221200,
          180200,
          170800,
          275200,
          189500,
          818300,
          244000,
          193200,
          288900,
          367700,
          260500,
          207500,
          164200,
          290700,
          280200,
          130700,
          149200,
          258400,
          223400,
          149500,
          133100,
          185200,
          125600,
          591200,
          328100,
          165600,
          176200,
          118200,
          121500,
          199800,
          111400,
          239100,
          281200,
          228900,
          319600,
          379200,
          236400,
          338700,
          235300,
          127700,
          138100,
          371100,
          293800,
          382200,
          185600,
          236900,
          189800,
          221400,
          189200,
          151900,
          241400,
          257200,
          265500,
          247500,
          173000,
          308700,
          378100,
          235200,
          221000,
          160300,
          210600,
          266600,
          210500,
          191200,
          235200,
          295700,
          251700,
          200800,
          268300,
          982600,
          239200,
          219200,
          197300,
          71200,
          202100,
          255800,
          196600,
          317500,
          403600,
          381900,
          552400,
          357600,
          389300,
          189300,
          171700,
          331100,
          273100,
          254500,
          194500,
          256400,
          188000,
          213400,
          273300,
          167800,
          323100,
          208100,
          330400,
          352400,
          338700,
          396800,
          527500,
          297800,
          306900,
          216800,
          314700,
          245000,
          202800,
          156200,
          201500,
          158800,
          130800,
          131800,
          290300,
          201800,
          210900,
          249800,
          180600,
          181000,
          250700,
          287100,
          371400,
          251200,
          321500,
          261600,
          231100,
          417800,
          229000,
          297400,
          327600,
          284900,
          782100,
          339100,
          290000,
          324900,
          366000,
          494700,
          479600,
          396900,
          638600,
          331700,
          311300,
          396300,
          324300,
          311900,
          434000,
          435200,
          270900,
          272800,
          227800,
          178700,
          449000,
          276200,
          207000,
          410500,
          427200,
          281300,
          223900,
          282700,
          317200,
          353600,
          423300,
          216900,
          177400,
          324100,
          170000,
          221400,
          250200,
          155900,
          154900,
          160300,
          173900,
          246300,
          265100,
          205600,
          138300,
          192300,
          250200,
          149200,
          137800,
          144000,
          268900,
          689100,
          265900,
          150800,
          209100,
          179300,
          244700,
          164800,
          175800,
          275500,
          649600,
          228500,
          209200,
          631100,
          213200,
          156600,
          170100,
          245800,
          461000,
          260000,
          252900,
          347700,
          227500,
          150600,
          165800,
          171000,
          200000,
          138400,
          161700,
          97100,
          122600,
          99900,
          137000,
          149500,
          284000,
          135600,
          122500,
          94400,
          129400,
          128000,
          147600,
          241800,
          248700,
          152000,
          178300,
          118800,
          129500,
          153300,
          96700,
          120800,
          150200,
          176100,
          84100,
          78400,
          201800,
          185000,
          249700,
          157200,
          167800,
          131900,
          134200,
          153600,
          199400,
          96800,
          130400,
          108700,
          75500,
          135100,
          114200,
          171500,
          157200,
          203100,
          173000,
          137800,
          284100,
          155400,
          679200,
          191300,
          134500,
          211200,
          160900,
          327700,
          196300,
          132000,
          201800,
          172100,
          263400,
          226200,
          214200,
          285400,
          308200,
          179800,
          207800,
          156600,
          163900,
          152400,
          175700,
          277700,
          197000,
          482500,
          603400,
          296800,
          536500,
          513100,
          428500,
          1024100,
          533900,
          305900,
          282400,
          329900,
          140000,
          426200,
          208200,
          190900,
          155200,
          219400,
          131300,
          255900,
          210300,
          195100,
          282400,
          240200,
          171100,
          151600,
          202700,
          258000,
          200200,
          269100,
          194100,
          232500,
          194900,
          252000,
          171700,
          152700,
          130000,
          167500,
          179800,
          187900,
          350100,
          208100,
          1568100,
          260200,
          207200,
          254100,
          161100,
          265900,
          250400,
          172000,
          117000,
          169500,
          224100,
          173500,
          183500,
          196600,
          180100,
          172800,
          164200,
          177700,
          133700,
          151200,
          194300,
          172600,
          121100,
          190200,
          505900,
          322600,
          282200,
          291100,
          304500,
          305000,
          340700,
          229800,
          216800,
          180500,
          215000,
          171200,
          208500,
          538400,
          235800,
          279200,
          177000,
          144300,
          170200,
          198000,
          165800,
          138900,
          145400,
          158500,
          241700,
          273800,
          217600,
          224100,
          119300,
          232000,
          227500,
          296600,
          156200,
          182400,
          189100,
          215900,
          218900,
          181500,
          387500,
          175600,
          132500,
          170500,
          181400,
          172800,
          105700,
          220200,
          213900,
          507500,
          385400,
          833700,
          299500,
          225500,
          294000,
          237200,
          238000,
          476900,
          287400,
          223500,
          352200,
          173700,
          286900,
          229200,
          316500,
          378400,
          345600,
          546900,
          401800,
          332600,
          294200,
          244400,
          304500,
          342400,
          368400,
          389200,
          213300,
          216700,
          189100,
          232000,
          149300,
          190200,
          249900,
          178300,
          211900,
          326400,
          237200,
          169500,
          195200,
          163600,
          231900,
          235300,
          143600,
          143700,
          154900,
          152100,
          219100,
          164900,
          130300,
          198600,
          299400,
          233100,
          240400,
          463100,
          409600,
          213300,
          156800,
          352100,
          149700,
          154900,
          149600,
          286900,
          209700,
          273800,
          224200,
          144200,
          136100,
          169900,
          192500,
          133800,
          117600,
          173100,
          156000,
          215500,
          193900,
          199800,
          190100,
          108800,
          98400,
          157000,
          135000,
          149800,
          272200,
          283800,
          247100,
          170600,
          138400,
          139800,
          163000,
          155500,
          139300,
          107800,
          208500,
          179000,
          277700,
          298000,
          206800,
          163700,
          165500,
          113900,
          184100,
          183200,
          165900,
          173800,
          157300,
          406300,
          214500,
          264300,
          233000,
          157600,
          157400,
          293100,
          209800,
          209000,
          284100,
          807400,
          274400,
          245900,
          306500,
          280000,
          527500,
          201600,
          175100,
          255500,
          248700,
          401800,
          295200,
          293000,
          413700,
          333900,
          337000,
          332800,
          361100,
          191500,
          364100,
          262800,
          221000,
          276600,
          249900,
          327400,
          288000,
          267700,
          229300,
          433100,
          358200,
          349000,
          241800,
          320500,
          241800,
          227300,
          138700,
          181500,
          142000,
          139200,
          230400,
          273900,
          181200,
          161100,
          173600,
          119700,
          207000,
          196100,
          200700,
          171500,
          68900,
          152800,
          122400,
          277900,
          192000,
          200300,
          237400,
          174800,
          167300,
          176400,
          221700,
          195800,
          242400,
          309500,
          495100,
          1251800,
          258000,
          228700,
          194300,
          204100,
          150700,
          134500,
          122800,
          159500,
          182100,
          229000,
          245400,
          247200,
          256100,
          236700,
          245900,
          244500,
          196600,
          207100,
          268300,
          260600,
          195400,
          318400,
          256300,
          206000,
          193200,
          169400,
          265500,
          237500,
          269200,
          272200,
          388700,
          397700,
          278900,
          224700,
          230500,
          186900,
          223200,
          167500,
          156100,
          200700,
          302300,
          292900,
          174400,
          221200,
          235600,
          219400,
          274400,
          466400,
          236600,
          204800,
          300200,
          379300,
          298400,
          254100,
          203200,
          243800,
          202500,
          257000,
          252900,
          216000,
          728100,
          337700,
          282600,
          273600,
          179300,
          242900,
          140800,
          176900,
          438400,
          449900,
          592700,
          802800,
          344800,
          338900,
          200300,
          322900,
          500600,
          343700,
          282300,
          217000,
          274900,
          184800,
          180600,
          184100,
          185200,
          228900,
          487400,
          515300,
          578400,
          494400,
          263800,
          313200,
          468400,
          440800,
          340400,
          246900,
          275500,
          164300,
          208900,
          111700,
          168000,
          169200,
          256100,
          256800,
          303800,
          147400,
          258800,
          372000,
          265500,
          246000,
          200500,
          526600,
          216200,
          252800,
          251700,
          297300,
          301600,
          163400,
          112600,
          178400,
          208700,
          289200,
          254200,
          864200,
          270500,
          255900,
          211800,
          445100,
          181800,
          157600,
          146500,
          248100,
          205300,
          92500,
          398100,
          393500,
          320800,
          327600,
          249200,
          299400,
          245400,
          160000,
          220600,
          189300,
          384500,
          326500,
          314000,
          190600,
          207700,
          197700,
          443200,
          490800,
          577800,
          292200,
          371900,
          345500,
          412300,
          233000,
          176000,
          187400,
          181800,
          113900,
          142600,
          179100,
          304400,
          291000,
          184300,
          191800,
          136100,
          141900,
          194100,
          109200,
          173800,
          160000,
          401500,
          541500,
          539500,
          433000,
          197500,
          164800,
          234300,
          239500,
          219200,
          415200,
          371500,
          977300,
          192200,
          164800,
          133400,
          206600,
          176100,
          158300,
          206600,
          182500,
          280600,
          416800,
          285000,
          178000,
          237200,
          206900,
          280300,
          129900,
          332600,
          293800,
          376100,
          298400,
          212000,
          312300,
          215100,
          242100,
          280200,
          276900,
          204000,
          471200,
          370100,
          351800,
          221900,
          238500,
          226500,
          250500,
          314900,
          322000,
          234200,
          207700,
          225700,
          172200,
          154800,
          315100,
          322700,
          258500,
          298300,
          257700,
          134100,
          184300,
          72000,
          245200,
          192000,
          295800,
          293600,
          327000,
          282700,
          328100,
          243600,
          280100,
          213500,
          195900,
          221900,
          345300,
          342700,
          556100,
          236900,
          376200,
          459900,
          160600,
          189400,
          148500,
          181100,
          187100,
          247500,
          327800,
          294000,
          329900,
          221100,
          193900,
          149200,
          275800,
          256100,
          198500,
          218400,
          188400,
          269100,
          223400,
          303100,
          164200,
          153900,
          208600,
          141800,
          224200,
          183200,
          395100,
          356100,
          620000,
          379800,
          334600,
          318700,
          247300,
          196100,
          245300,
          284700,
          303200,
          379300,
          324900,
          293400,
          260700,
          272500,
          276300,
          175200,
          164000,
          210700,
          299100,
          326300,
          306600,
          273100,
          191300,
          230900,
          186800,
          287400,
          146900,
          209600,
          246600,
          704000,
          203400,
          216200,
          156700,
          222700,
          124700,
          177700,
          283700,
          260800,
          418900,
          244900,
          308100,
          261400,
          246500,
          242400,
          284600,
          261200,
          463600,
          373000,
          219900,
          199900,
          272700,
          207200,
          265300,
          266700,
          350600,
          325700,
          257400,
          230200,
          159400,
          224000,
          395500,
          431600,
          453900,
          539800,
          368100,
          298500,
          275000,
          218800,
          195800,
          200500,
          168900,
          198300,
          184700,
          133300,
          171700,
          197600,
          211100,
          188400,
          157800,
          246800,
          248300,
          211900,
          444600,
          252400,
          237900,
          326700,
          228000,
          174700,
          254200,
          231500,
          256400,
          169600,
          201700,
          404100,
          279400,
          182500,
          593800,
          211200,
          231700,
          214400,
          228000,
          1208000,
          451500,
          489000,
          315900,
          345700,
          359300,
          489100,
          856300,
          673300,
          461600,
          433000,
          514000,
          589000,
          413800,
          248300,
          285500,
          310200,
          457700,
          610300,
          531700,
          510400,
          381500,
          489400,
          508400,
          356600,
          451100,
          425400,
          262700,
          208500,
          242500,
          176400,
          158400,
          281800,
          312100,
          160700,
          154900,
          200500,
          204000,
          306300,
          261000,
          190200,
          268900,
          312200,
          359400,
          283300,
          457200,
          284000,
          369300,
          1018200,
          492500,
          663800,
          272500,
          207100,
          351200,
          184600,
          412200,
          266600,
          392300,
          865000,
          179500,
          187900,
          174100,
          425900,
          1439300,
          11223200,
          813900,
          355100,
          363800,
          306400,
          290700,
          232400,
          277400,
          308800,
          230800,
          310600,
          271900,
          246000,
          194300,
          259600,
          304700,
          382800,
          287600,
          758800,
          500700,
          384500,
          496000,
          330000,
          425100
         ],
         "yaxis": "y"
        }
       ],
       "layout": {
        "autosize": true,
        "legend": {
         "tracegroupgap": 0
        },
        "template": {
         "data": {
          "bar": [
           {
            "error_x": {
             "color": "#2a3f5f"
            },
            "error_y": {
             "color": "#2a3f5f"
            },
            "marker": {
             "line": {
              "color": "#E5ECF6",
              "width": 0.5
             },
             "pattern": {
              "fillmode": "overlay",
              "size": 10,
              "solidity": 0.2
             }
            },
            "type": "bar"
           }
          ],
          "barpolar": [
           {
            "marker": {
             "line": {
              "color": "#E5ECF6",
              "width": 0.5
             },
             "pattern": {
              "fillmode": "overlay",
              "size": 10,
              "solidity": 0.2
             }
            },
            "type": "barpolar"
           }
          ],
          "carpet": [
           {
            "aaxis": {
             "endlinecolor": "#2a3f5f",
             "gridcolor": "white",
             "linecolor": "white",
             "minorgridcolor": "white",
             "startlinecolor": "#2a3f5f"
            },
            "baxis": {
             "endlinecolor": "#2a3f5f",
             "gridcolor": "white",
             "linecolor": "white",
             "minorgridcolor": "white",
             "startlinecolor": "#2a3f5f"
            },
            "type": "carpet"
           }
          ],
          "choropleth": [
           {
            "colorbar": {
             "outlinewidth": 0,
             "ticks": ""
            },
            "type": "choropleth"
           }
          ],
          "contour": [
           {
            "colorbar": {
             "outlinewidth": 0,
             "ticks": ""
            },
            "colorscale": [
             [
              0,
              "#0d0887"
             ],
             [
              0.1111111111111111,
              "#46039f"
             ],
             [
              0.2222222222222222,
              "#7201a8"
             ],
             [
              0.3333333333333333,
              "#9c179e"
             ],
             [
              0.4444444444444444,
              "#bd3786"
             ],
             [
              0.5555555555555556,
              "#d8576b"
             ],
             [
              0.6666666666666666,
              "#ed7953"
             ],
             [
              0.7777777777777778,
              "#fb9f3a"
             ],
             [
              0.8888888888888888,
              "#fdca26"
             ],
             [
              1,
              "#f0f921"
             ]
            ],
            "type": "contour"
           }
          ],
          "contourcarpet": [
           {
            "colorbar": {
             "outlinewidth": 0,
             "ticks": ""
            },
            "type": "contourcarpet"
           }
          ],
          "heatmap": [
           {
            "colorbar": {
             "outlinewidth": 0,
             "ticks": ""
            },
            "colorscale": [
             [
              0,
              "#0d0887"
             ],
             [
              0.1111111111111111,
              "#46039f"
             ],
             [
              0.2222222222222222,
              "#7201a8"
             ],
             [
              0.3333333333333333,
              "#9c179e"
             ],
             [
              0.4444444444444444,
              "#bd3786"
             ],
             [
              0.5555555555555556,
              "#d8576b"
             ],
             [
              0.6666666666666666,
              "#ed7953"
             ],
             [
              0.7777777777777778,
              "#fb9f3a"
             ],
             [
              0.8888888888888888,
              "#fdca26"
             ],
             [
              1,
              "#f0f921"
             ]
            ],
            "type": "heatmap"
           }
          ],
          "heatmapgl": [
           {
            "colorbar": {
             "outlinewidth": 0,
             "ticks": ""
            },
            "colorscale": [
             [
              0,
              "#0d0887"
             ],
             [
              0.1111111111111111,
              "#46039f"
             ],
             [
              0.2222222222222222,
              "#7201a8"
             ],
             [
              0.3333333333333333,
              "#9c179e"
             ],
             [
              0.4444444444444444,
              "#bd3786"
             ],
             [
              0.5555555555555556,
              "#d8576b"
             ],
             [
              0.6666666666666666,
              "#ed7953"
             ],
             [
              0.7777777777777778,
              "#fb9f3a"
             ],
             [
              0.8888888888888888,
              "#fdca26"
             ],
             [
              1,
              "#f0f921"
             ]
            ],
            "type": "heatmapgl"
           }
          ],
          "histogram": [
           {
            "marker": {
             "pattern": {
              "fillmode": "overlay",
              "size": 10,
              "solidity": 0.2
             }
            },
            "type": "histogram"
           }
          ],
          "histogram2d": [
           {
            "colorbar": {
             "outlinewidth": 0,
             "ticks": ""
            },
            "colorscale": [
             [
              0,
              "#0d0887"
             ],
             [
              0.1111111111111111,
              "#46039f"
             ],
             [
              0.2222222222222222,
              "#7201a8"
             ],
             [
              0.3333333333333333,
              "#9c179e"
             ],
             [
              0.4444444444444444,
              "#bd3786"
             ],
             [
              0.5555555555555556,
              "#d8576b"
             ],
             [
              0.6666666666666666,
              "#ed7953"
             ],
             [
              0.7777777777777778,
              "#fb9f3a"
             ],
             [
              0.8888888888888888,
              "#fdca26"
             ],
             [
              1,
              "#f0f921"
             ]
            ],
            "type": "histogram2d"
           }
          ],
          "histogram2dcontour": [
           {
            "colorbar": {
             "outlinewidth": 0,
             "ticks": ""
            },
            "colorscale": [
             [
              0,
              "#0d0887"
             ],
             [
              0.1111111111111111,
              "#46039f"
             ],
             [
              0.2222222222222222,
              "#7201a8"
             ],
             [
              0.3333333333333333,
              "#9c179e"
             ],
             [
              0.4444444444444444,
              "#bd3786"
             ],
             [
              0.5555555555555556,
              "#d8576b"
             ],
             [
              0.6666666666666666,
              "#ed7953"
             ],
             [
              0.7777777777777778,
              "#fb9f3a"
             ],
             [
              0.8888888888888888,
              "#fdca26"
             ],
             [
              1,
              "#f0f921"
             ]
            ],
            "type": "histogram2dcontour"
           }
          ],
          "mesh3d": [
           {
            "colorbar": {
             "outlinewidth": 0,
             "ticks": ""
            },
            "type": "mesh3d"
           }
          ],
          "parcoords": [
           {
            "line": {
             "colorbar": {
              "outlinewidth": 0,
              "ticks": ""
             }
            },
            "type": "parcoords"
           }
          ],
          "pie": [
           {
            "automargin": true,
            "type": "pie"
           }
          ],
          "scatter": [
           {
            "fillpattern": {
             "fillmode": "overlay",
             "size": 10,
             "solidity": 0.2
            },
            "type": "scatter"
           }
          ],
          "scatter3d": [
           {
            "line": {
             "colorbar": {
              "outlinewidth": 0,
              "ticks": ""
             }
            },
            "marker": {
             "colorbar": {
              "outlinewidth": 0,
              "ticks": ""
             }
            },
            "type": "scatter3d"
           }
          ],
          "scattercarpet": [
           {
            "marker": {
             "colorbar": {
              "outlinewidth": 0,
              "ticks": ""
             }
            },
            "type": "scattercarpet"
           }
          ],
          "scattergeo": [
           {
            "marker": {
             "colorbar": {
              "outlinewidth": 0,
              "ticks": ""
             }
            },
            "type": "scattergeo"
           }
          ],
          "scattergl": [
           {
            "marker": {
             "colorbar": {
              "outlinewidth": 0,
              "ticks": ""
             }
            },
            "type": "scattergl"
           }
          ],
          "scattermapbox": [
           {
            "marker": {
             "colorbar": {
              "outlinewidth": 0,
              "ticks": ""
             }
            },
            "type": "scattermapbox"
           }
          ],
          "scatterpolar": [
           {
            "marker": {
             "colorbar": {
              "outlinewidth": 0,
              "ticks": ""
             }
            },
            "type": "scatterpolar"
           }
          ],
          "scatterpolargl": [
           {
            "marker": {
             "colorbar": {
              "outlinewidth": 0,
              "ticks": ""
             }
            },
            "type": "scatterpolargl"
           }
          ],
          "scatterternary": [
           {
            "marker": {
             "colorbar": {
              "outlinewidth": 0,
              "ticks": ""
             }
            },
            "type": "scatterternary"
           }
          ],
          "surface": [
           {
            "colorbar": {
             "outlinewidth": 0,
             "ticks": ""
            },
            "colorscale": [
             [
              0,
              "#0d0887"
             ],
             [
              0.1111111111111111,
              "#46039f"
             ],
             [
              0.2222222222222222,
              "#7201a8"
             ],
             [
              0.3333333333333333,
              "#9c179e"
             ],
             [
              0.4444444444444444,
              "#bd3786"
             ],
             [
              0.5555555555555556,
              "#d8576b"
             ],
             [
              0.6666666666666666,
              "#ed7953"
             ],
             [
              0.7777777777777778,
              "#fb9f3a"
             ],
             [
              0.8888888888888888,
              "#fdca26"
             ],
             [
              1,
              "#f0f921"
             ]
            ],
            "type": "surface"
           }
          ],
          "table": [
           {
            "cells": {
             "fill": {
              "color": "#EBF0F8"
             },
             "line": {
              "color": "white"
             }
            },
            "header": {
             "fill": {
              "color": "#C8D4E3"
             },
             "line": {
              "color": "white"
             }
            },
            "type": "table"
           }
          ]
         },
         "layout": {
          "annotationdefaults": {
           "arrowcolor": "#2a3f5f",
           "arrowhead": 0,
           "arrowwidth": 1
          },
          "autotypenumbers": "strict",
          "coloraxis": {
           "colorbar": {
            "outlinewidth": 0,
            "ticks": ""
           }
          },
          "colorscale": {
           "diverging": [
            [
             0,
             "#8e0152"
            ],
            [
             0.1,
             "#c51b7d"
            ],
            [
             0.2,
             "#de77ae"
            ],
            [
             0.3,
             "#f1b6da"
            ],
            [
             0.4,
             "#fde0ef"
            ],
            [
             0.5,
             "#f7f7f7"
            ],
            [
             0.6,
             "#e6f5d0"
            ],
            [
             0.7,
             "#b8e186"
            ],
            [
             0.8,
             "#7fbc41"
            ],
            [
             0.9,
             "#4d9221"
            ],
            [
             1,
             "#276419"
            ]
           ],
           "sequential": [
            [
             0,
             "#0d0887"
            ],
            [
             0.1111111111111111,
             "#46039f"
            ],
            [
             0.2222222222222222,
             "#7201a8"
            ],
            [
             0.3333333333333333,
             "#9c179e"
            ],
            [
             0.4444444444444444,
             "#bd3786"
            ],
            [
             0.5555555555555556,
             "#d8576b"
            ],
            [
             0.6666666666666666,
             "#ed7953"
            ],
            [
             0.7777777777777778,
             "#fb9f3a"
            ],
            [
             0.8888888888888888,
             "#fdca26"
            ],
            [
             1,
             "#f0f921"
            ]
           ],
           "sequentialminus": [
            [
             0,
             "#0d0887"
            ],
            [
             0.1111111111111111,
             "#46039f"
            ],
            [
             0.2222222222222222,
             "#7201a8"
            ],
            [
             0.3333333333333333,
             "#9c179e"
            ],
            [
             0.4444444444444444,
             "#bd3786"
            ],
            [
             0.5555555555555556,
             "#d8576b"
            ],
            [
             0.6666666666666666,
             "#ed7953"
            ],
            [
             0.7777777777777778,
             "#fb9f3a"
            ],
            [
             0.8888888888888888,
             "#fdca26"
            ],
            [
             1,
             "#f0f921"
            ]
           ]
          },
          "colorway": [
           "#636efa",
           "#EF553B",
           "#00cc96",
           "#ab63fa",
           "#FFA15A",
           "#19d3f3",
           "#FF6692",
           "#B6E880",
           "#FF97FF",
           "#FECB52"
          ],
          "font": {
           "color": "#2a3f5f"
          },
          "geo": {
           "bgcolor": "white",
           "lakecolor": "white",
           "landcolor": "#E5ECF6",
           "showlakes": true,
           "showland": true,
           "subunitcolor": "white"
          },
          "hoverlabel": {
           "align": "left"
          },
          "hovermode": "closest",
          "mapbox": {
           "style": "light"
          },
          "paper_bgcolor": "white",
          "plot_bgcolor": "#E5ECF6",
          "polar": {
           "angularaxis": {
            "gridcolor": "white",
            "linecolor": "white",
            "ticks": ""
           },
           "bgcolor": "#E5ECF6",
           "radialaxis": {
            "gridcolor": "white",
            "linecolor": "white",
            "ticks": ""
           }
          },
          "scene": {
           "xaxis": {
            "backgroundcolor": "#E5ECF6",
            "gridcolor": "white",
            "gridwidth": 2,
            "linecolor": "white",
            "showbackground": true,
            "ticks": "",
            "zerolinecolor": "white"
           },
           "yaxis": {
            "backgroundcolor": "#E5ECF6",
            "gridcolor": "white",
            "gridwidth": 2,
            "linecolor": "white",
            "showbackground": true,
            "ticks": "",
            "zerolinecolor": "white"
           },
           "zaxis": {
            "backgroundcolor": "#E5ECF6",
            "gridcolor": "white",
            "gridwidth": 2,
            "linecolor": "white",
            "showbackground": true,
            "ticks": "",
            "zerolinecolor": "white"
           }
          },
          "shapedefaults": {
           "line": {
            "color": "#2a3f5f"
           }
          },
          "ternary": {
           "aaxis": {
            "gridcolor": "white",
            "linecolor": "white",
            "ticks": ""
           },
           "baxis": {
            "gridcolor": "white",
            "linecolor": "white",
            "ticks": ""
           },
           "bgcolor": "#E5ECF6",
           "caxis": {
            "gridcolor": "white",
            "linecolor": "white",
            "ticks": ""
           }
          },
          "title": {
           "x": 0.05
          },
          "xaxis": {
           "automargin": true,
           "gridcolor": "white",
           "linecolor": "white",
           "ticks": "",
           "title": {
            "standoff": 15
           },
           "zerolinecolor": "white",
           "zerolinewidth": 2
          },
          "yaxis": {
           "automargin": true,
           "gridcolor": "white",
           "linecolor": "white",
           "ticks": "",
           "title": {
            "standoff": 15
           },
           "zerolinecolor": "white",
           "zerolinewidth": 2
          }
         }
        },
        "title": {
         "text": "Trading Volume ENSG"
        },
        "xaxis": {
         "anchor": "y",
         "autorange": true,
         "domain": [
          0,
          1
         ],
         "range": [
          "2019-11-01",
          "2024-10-31"
         ],
         "title": {
          "text": "Date"
         },
         "type": "date"
        },
        "yaxis": {
         "anchor": "x",
         "autorange": true,
         "domain": [
          0,
          1
         ],
         "range": [
          -580550,
          11844450
         ],
         "title": {
          "text": "y"
         },
         "type": "linear"
        }
       }
      },
      "image/png": "[encoded data removed]",
      "text/html": [
       "<div>                            <div id=\"b056119a-233d-4426-b36e-40c077572605\" class=\"plotly-graph-div\" style=\"height:525px; width:100%;\"></div>            <script type=\"text/javascript\">                require([\"plotly\"], function(Plotly) {                    window.PLOTLYENV=window.PLOTLYENV || {};                                    if (document.getElementById(\"b056119a-233d-4426-b36e-40c077572605\")) {                    Plotly.newPlot(                        \"b056119a-233d-4426-b36e-40c077572605\",                        [{\"hovertemplate\":\"Date=%{x}\\u003cbr\\u003ey=%{y}\\u003cextra\\u003e\\u003c\\u002fextra\\u003e\",\"legendgroup\":\"\",\"line\":{\"color\":\"#636efa\",\"dash\":\"solid\"},\"marker\":{\"symbol\":\"circle\"},\"mode\":\"lines\",\"name\":\"\",\"showlegend\":false,\"x\":[\"2019-11-01T00:00:00+00:00\",\"2019-11-04T00:00:00+00:00\",\"2019-11-05T00:00:00+00:00\",\"2019-11-06T00:00:00+00:00\",\"2019-11-07T00:00:00+00:00\",\"2019-11-08T00:00:00+00:00\",\"2019-11-11T00:00:00+00:00\",\"2019-11-12T00:00:00+00:00\",\"2019-11-13T00:00:00+00:00\",\"2019-11-14T00:00:00+00:00\",\"2019-11-15T00:00:00+00:00\",\"2019-11-18T00:00:00+00:00\",\"2019-11-19T00:00:00+00:00\",\"2019-11-20T00:00:00+00:00\",\"2019-11-21T00:00:00+00:00\",\"2019-11-22T00:00:00+00:00\",\"2019-11-25T00:00:00+00:00\",\"2019-11-26T00:00:00+00:00\",\"2019-11-27T00:00:00+00:00\",\"2019-11-29T00:00:00+00:00\",\"2019-12-02T00:00:00+00:00\",\"2019-12-03T00:00:00+00:00\",\"2019-12-04T00:00:00+00:00\",\"2019-12-05T00:00:00+00:00\",\"2019-12-06T00:00:00+00:00\",\"2019-12-09T00:00:00+00:00\",\"2019-12-10T00:00:00+00:00\",\"2019-12-11T00:00:00+00:00\",\"2019-12-12T00:00:00+00:00\",\"2019-12-13T00:00:00+00:00\",\"2019-12-16T00:00:00+00:00\",\"2019-12-17T00:00:00+00:00\",\"2019-12-18T00:00:00+00:00\",\"2019-12-19T00:00:00+00:00\",\"2019-12-20T00:00:00+00:00\",\"2019-12-23T00:00:00+00:00\",\"2019-12-24T00:00:00+00:00\",\"2019-12-26T00:00:00+00:00\",\"2019-12-27T00:00:00+00:00\",\"2019-12-30T00:00:00+00:00\",\"2019-12-31T00:00:00+00:00\",\"2020-01-02T00:00:00+00:00\",\"2020-01-03T00:00:00+00:00\",\"2020-01-06T00:00:00+00:00\",\"2020-01-07T00:00:00+00:00\",\"2020-01-08T00:00:00+00:00\",\"2020-01-09T00:00:00+00:00\",\"2020-01-10T00:00:00+00:00\",\"2020-01-13T00:00:00+00:00\",\"2020-01-14T00:00:00+00:00\",\"2020-01-15T00:00:00+00:00\",\"2020-01-16T00:00:00+00:00\",\"2020-01-17T00:00:00+00:00\",\"2020-01-21T00:00:00+00:00\",\"2020-01-22T00:00:00+00:00\",\"2020-01-23T00:00:00+00:00\",\"2020-01-24T00:00:00+00:00\",\"2020-01-27T00:00:00+00:00\",\"2020-01-28T00:00:00+00:00\",\"2020-01-29T00:00:00+00:00\",\"2020-01-30T00:00:00+00:00\",\"2020-01-31T00:00:00+00:00\",\"2020-02-03T00:00:00+00:00\",\"2020-02-04T00:00:00+00:00\",\"2020-02-05T00:00:00+00:00\",\"2020-02-06T00:00:00+00:00\",\"2020-02-07T00:00:00+00:00\",\"2020-02-10T00:00:00+00:00\",\"2020-02-11T00:00:00+00:00\",\"2020-02-12T00:00:00+00:00\",\"2020-02-13T00:00:00+00:00\",\"2020-02-14T00:00:00+00:00\",\"2020-02-18T00:00:00+00:00\",\"2020-02-19T00:00:00+00:00\",\"2020-02-20T00:00:00+00:00\",\"2020-02-21T00:00:00+00:00\",\"2020-02-24T00:00:00+00:00\",\"2020-02-25T00:00:00+00:00\",\"2020-02-26T00:00:00+00:00\",\"2020-02-27T00:00:00+00:00\",\"2020-02-28T00:00:00+00:00\",\"2020-03-02T00:00:00+00:00\",\"2020-03-03T00:00:00+00:00\",\"2020-03-04T00:00:00+00:00\",\"2020-03-05T00:00:00+00:00\",\"2020-03-06T00:00:00+00:00\",\"2020-03-09T00:00:00+00:00\",\"2020-03-10T00:00:00+00:00\",\"2020-03-11T00:00:00+00:00\",\"2020-03-12T00:00:00+00:00\",\"2020-03-13T00:00:00+00:00\",\"2020-03-16T00:00:00+00:00\",\"2020-03-17T00:00:00+00:00\",\"2020-03-18T00:00:00+00:00\",\"2020-03-19T00:00:00+00:00\",\"2020-03-20T00:00:00+00:00\",\"2020-03-23T00:00:00+00:00\",\"2020-03-24T00:00:00+00:00\",\"2020-03-25T00:00:00+00:00\",\"2020-03-26T00:00:00+00:00\",\"2020-03-27T00:00:00+00:00\",\"2020-03-30T00:00:00+00:00\",\"2020-03-31T00:00:00+00:00\",\"2020-04-01T00:00:00+00:00\",\"2020-04-02T00:00:00+00:00\",\"2020-04-03T00:00:00+00:00\",\"2020-04-06T00:00:00+00:00\",\"2020-04-07T00:00:00+00:00\",\"2020-04-08T00:00:00+00:00\",\"2020-04-09T00:00:00+00:00\",\"2020-04-13T00:00:00+00:00\",\"2020-04-14T00:00:00+00:00\",\"2020-04-15T00:00:00+00:00\",\"2020-04-16T00:00:00+00:00\",\"2020-04-17T00:00:00+00:00\",\"2020-04-20T00:00:00+00:00\",\"2020-04-21T00:00:00+00:00\",\"2020-04-22T00:00:00+00:00\",\"2020-04-23T00:00:00+00:00\",\"2020-04-24T00:00:00+00:00\",\"2020-04-27T00:00:00+00:00\",\"2020-04-28T00:00:00+00:00\",\"2020-04-29T00:00:00+00:00\",\"2020-04-30T00:00:00+00:00\",\"2020-05-01T00:00:00+00:00\",\"2020-05-04T00:00:00+00:00\",\"2020-05-05T00:00:00+00:00\",\"2020-05-06T00:00:00+00:00\",\"2020-05-07T00:00:00+00:00\",\"2020-05-08T00:00:00+00:00\",\"2020-05-11T00:00:00+00:00\",\"2020-05-12T00:00:00+00:00\",\"2020-05-13T00:00:00+00:00\",\"2020-05-14T00:00:00+00:00\",\"2020-05-15T00:00:00+00:00\",\"2020-05-18T00:00:00+00:00\",\"2020-05-19T00:00:00+00:00\",\"2020-05-20T00:00:00+00:00\",\"2020-05-21T00:00:00+00:00\",\"2020-05-22T00:00:00+00:00\",\"2020-05-26T00:00:00+00:00\",\"2020-05-27T00:00:00+00:00\",\"2020-05-28T00:00:00+00:00\",\"2020-05-29T00:00:00+00:00\",\"2020-06-01T00:00:00+00:00\",\"2020-06-02T00:00:00+00:00\",\"2020-06-03T00:00:00+00:00\",\"2020-06-04T00:00:00+00:00\",\"2020-06-05T00:00:00+00:00\",\"2020-06-08T00:00:00+00:00\",\"2020-06-09T00:00:00+00:00\",\"2020-06-10T00:00:00+00:00\",\"2020-06-11T00:00:00+00:00\",\"2020-06-12T00:00:00+00:00\",\"2020-06-15T00:00:00+00:00\",\"2020-06-16T00:00:00+00:00\",\"2020-06-17T00:00:00+00:00\",\"2020-06-18T00:00:00+00:00\",\"2020-06-19T00:00:00+00:00\",\"2020-06-22T00:00:00+00:00\",\"2020-06-23T00:00:00+00:00\",\"2020-06-24T00:00:00+00:00\",\"2020-06-25T00:00:00+00:00\",\"2020-06-26T00:00:00+00:00\",\"2020-06-29T00:00:00+00:00\",\"2020-06-30T00:00:00+00:00\",\"2020-07-01T00:00:00+00:00\",\"2020-07-02T00:00:00+00:00\",\"2020-07-06T00:00:00+00:00\",\"2020-07-07T00:00:00+00:00\",\"2020-07-08T00:00:00+00:00\",\"2020-07-09T00:00:00+00:00\",\"2020-07-10T00:00:00+00:00\",\"2020-07-13T00:00:00+00:00\",\"2020-07-14T00:00:00+00:00\",\"2020-07-15T00:00:00+00:00\",\"2020-07-16T00:00:00+00:00\",\"2020-07-17T00:00:00+00:00\",\"2020-07-20T00:00:00+00:00\",\"2020-07-21T00:00:00+00:00\",\"2020-07-22T00:00:00+00:00\",\"2020-07-23T00:00:00+00:00\",\"2020-07-24T00:00:00+00:00\",\"2020-07-27T00:00:00+00:00\",\"2020-07-28T00:00:00+00:00\",\"2020-07-29T00:00:00+00:00\",\"2020-07-30T00:00:00+00:00\",\"2020-07-31T00:00:00+00:00\",\"2020-08-03T00:00:00+00:00\",\"2020-08-04T00:00:00+00:00\",\"2020-08-05T00:00:00+00:00\",\"2020-08-06T00:00:00+00:00\",\"2020-08-07T00:00:00+00:00\",\"2020-08-10T00:00:00+00:00\",\"2020-08-11T00:00:00+00:00\",\"2020-08-12T00:00:00+00:00\",\"2020-08-13T00:00:00+00:00\",\"2020-08-14T00:00:00+00:00\",\"2020-08-17T00:00:00+00:00\",\"2020-08-18T00:00:00+00:00\",\"2020-08-19T00:00:00+00:00\",\"2020-08-20T00:00:00+00:00\",\"2020-08-21T00:00:00+00:00\",\"2020-08-24T00:00:00+00:00\",\"2020-08-25T00:00:00+00:00\",\"2020-08-26T00:00:00+00:00\",\"2020-08-27T00:00:00+00:00\",\"2020-08-28T00:00:00+00:00\",\"2020-08-31T00:00:00+00:00\",\"2020-09-01T00:00:00+00:00\",\"2020-09-02T00:00:00+00:00\",\"2020-09-03T00:00:00+00:00\",\"2020-09-04T00:00:00+00:00\",\"2020-09-08T00:00:00+00:00\",\"2020-09-09T00:00:00+00:00\",\"2020-09-10T00:00:00+00:00\",\"2020-09-11T00:00:00+00:00\",\"2020-09-14T00:00:00+00:00\",\"2020-09-15T00:00:00+00:00\",\"2020-09-16T00:00:00+00:00\",\"2020-09-17T00:00:00+00:00\",\"2020-09-18T00:00:00+00:00\",\"2020-09-21T00:00:00+00:00\",\"2020-09-22T00:00:00+00:00\",\"2020-09-23T00:00:00+00:00\",\"2020-09-24T00:00:00+00:00\",\"2020-09-25T00:00:00+00:00\",\"2020-09-28T00:00:00+00:00\",\"2020-09-29T00:00:00+00:00\",\"2020-09-30T00:00:00+00:00\",\"2020-10-01T00:00:00+00:00\",\"2020-10-02T00:00:00+00:00\",\"2020-10-05T00:00:00+00:00\",\"2020-10-06T00:00:00+00:00\",\"2020-10-07T00:00:00+00:00\",\"2020-10-08T00:00:00+00:00\",\"2020-10-09T00:00:00+00:00\",\"2020-10-12T00:00:00+00:00\",\"2020-10-13T00:00:00+00:00\",\"2020-10-14T00:00:00+00:00\",\"2020-10-15T00:00:00+00:00\",\"2020-10-16T00:00:00+00:00\",\"2020-10-19T00:00:00+00:00\",\"2020-10-20T00:00:00+00:00\",\"2020-10-21T00:00:00+00:00\",\"2020-10-22T00:00:00+00:00\",\"2020-10-23T00:00:00+00:00\",\"2020-10-26T00:00:00+00:00\",\"2020-10-27T00:00:00+00:00\",\"2020-10-28T00:00:00+00:00\",\"2020-10-29T00:00:00+00:00\",\"2020-10-30T00:00:00+00:00\",\"2020-11-02T00:00:00+00:00\",\"2020-11-03T00:00:00+00:00\",\"2020-11-04T00:00:00+00:00\",\"2020-11-05T00:00:00+00:00\",\"2020-11-06T00:00:00+00:00\",\"2020-11-09T00:00:00+00:00\",\"2020-11-10T00:00:00+00:00\",\"2020-11-11T00:00:00+00:00\",\"2020-11-12T00:00:00+00:00\",\"2020-11-13T00:00:00+00:00\",\"2020-11-16T00:00:00+00:00\",\"2020-11-17T00:00:00+00:00\",\"2020-11-18T00:00:00+00:00\",\"2020-11-19T00:00:00+00:00\",\"2020-11-20T00:00:00+00:00\",\"2020-11-23T00:00:00+00:00\",\"2020-11-24T00:00:00+00:00\",\"2020-11-25T00:00:00+00:00\",\"2020-11-27T00:00:00+00:00\",\"2020-11-30T00:00:00+00:00\",\"2020-12-01T00:00:00+00:00\",\"2020-12-02T00:00:00+00:00\",\"2020-12-03T00:00:00+00:00\",\"2020-12-04T00:00:00+00:00\",\"2020-12-07T00:00:00+00:00\",\"2020-12-08T00:00:00+00:00\",\"2020-12-09T00:00:00+00:00\",\"2020-12-10T00:00:00+00:00\",\"2020-12-11T00:00:00+00:00\",\"2020-12-14T00:00:00+00:00\",\"2020-12-15T00:00:00+00:00\",\"2020-12-16T00:00:00+00:00\",\"2020-12-17T00:00:00+00:00\",\"2020-12-18T00:00:00+00:00\",\"2020-12-21T00:00:00+00:00\",\"2020-12-22T00:00:00+00:00\",\"2020-12-23T00:00:00+00:00\",\"2020-12-24T00:00:00+00:00\",\"2020-12-28T00:00:00+00:00\",\"2020-12-29T00:00:00+00:00\",\"2020-12-30T00:00:00+00:00\",\"2020-12-31T00:00:00+00:00\",\"2021-01-04T00:00:00+00:00\",\"2021-01-05T00:00:00+00:00\",\"2021-01-06T00:00:00+00:00\",\"2021-01-07T00:00:00+00:00\",\"2021-01-08T00:00:00+00:00\",\"2021-01-11T00:00:00+00:00\",\"2021-01-12T00:00:00+00:00\",\"2021-01-13T00:00:00+00:00\",\"2021-01-14T00:00:00+00:00\",\"2021-01-15T00:00:00+00:00\",\"2021-01-19T00:00:00+00:00\",\"2021-01-20T00:00:00+00:00\",\"2021-01-21T00:00:00+00:00\",\"2021-01-22T00:00:00+00:00\",\"2021-01-25T00:00:00+00:00\",\"2021-01-26T00:00:00+00:00\",\"2021-01-27T00:00:00+00:00\",\"2021-01-28T00:00:00+00:00\",\"2021-01-29T00:00:00+00:00\",\"2021-02-01T00:00:00+00:00\",\"2021-02-02T00:00:00+00:00\",\"2021-02-03T00:00:00+00:00\",\"2021-02-04T00:00:00+00:00\",\"2021-02-05T00:00:00+00:00\",\"2021-02-08T00:00:00+00:00\",\"2021-02-09T00:00:00+00:00\",\"2021-02-10T00:00:00+00:00\",\"2021-02-11T00:00:00+00:00\",\"2021-02-12T00:00:00+00:00\",\"2021-02-16T00:00:00+00:00\",\"2021-02-17T00:00:00+00:00\",\"2021-02-18T00:00:00+00:00\",\"2021-02-19T00:00:00+00:00\",\"2021-02-22T00:00:00+00:00\",\"2021-02-23T00:00:00+00:00\",\"2021-02-24T00:00:00+00:00\",\"2021-02-25T00:00:00+00:00\",\"2021-02-26T00:00:00+00:00\",\"2021-03-01T00:00:00+00:00\",\"2021-03-02T00:00:00+00:00\",\"2021-03-03T00:00:00+00:00\",\"2021-03-04T00:00:00+00:00\",\"2021-03-05T00:00:00+00:00\",\"2021-03-08T00:00:00+00:00\",\"2021-03-09T00:00:00+00:00\",\"2021-03-10T00:00:00+00:00\",\"2021-03-11T00:00:00+00:00\",\"2021-03-12T00:00:00+00:00\",\"2021-03-15T00:00:00+00:00\",\"2021-03-16T00:00:00+00:00\",\"2021-03-17T00:00:00+00:00\",\"2021-03-18T00:00:00+00:00\",\"2021-03-19T00:00:00+00:00\",\"2021-03-22T00:00:00+00:00\",\"2021-03-23T00:00:00+00:00\",\"2021-03-24T00:00:00+00:00\",\"2021-03-25T00:00:00+00:00\",\"2021-03-26T00:00:00+00:00\",\"2021-03-29T00:00:00+00:00\",\"2021-03-30T00:00:00+00:00\",\"2021-03-31T00:00:00+00:00\",\"2021-04-01T00:00:00+00:00\",\"2021-04-05T00:00:00+00:00\",\"2021-04-06T00:00:00+00:00\",\"2021-04-07T00:00:00+00:00\",\"2021-04-08T00:00:00+00:00\",\"2021-04-09T00:00:00+00:00\",\"2021-04-12T00:00:00+00:00\",\"2021-04-13T00:00:00+00:00\",\"2021-04-14T00:00:00+00:00\",\"2021-04-15T00:00:00+00:00\",\"2021-04-16T00:00:00+00:00\",\"2021-04-19T00:00:00+00:00\",\"2021-04-20T00:00:00+00:00\",\"2021-04-21T00:00:00+00:00\",\"2021-04-22T00:00:00+00:00\",\"2021-04-23T00:00:00+00:00\",\"2021-04-26T00:00:00+00:00\",\"2021-04-27T00:00:00+00:00\",\"2021-04-28T00:00:00+00:00\",\"2021-04-29T00:00:00+00:00\",\"2021-04-30T00:00:00+00:00\",\"2021-05-03T00:00:00+00:00\",\"2021-05-04T00:00:00+00:00\",\"2021-05-05T00:00:00+00:00\",\"2021-05-06T00:00:00+00:00\",\"2021-05-07T00:00:00+00:00\",\"2021-05-10T00:00:00+00:00\",\"2021-05-11T00:00:00+00:00\",\"2021-05-12T00:00:00+00:00\",\"2021-05-13T00:00:00+00:00\",\"2021-05-14T00:00:00+00:00\",\"2021-05-17T00:00:00+00:00\",\"2021-05-18T00:00:00+00:00\",\"2021-05-19T00:00:00+00:00\",\"2021-05-20T00:00:00+00:00\",\"2021-05-21T00:00:00+00:00\",\"2021-05-24T00:00:00+00:00\",\"2021-05-25T00:00:00+00:00\",\"2021-05-26T00:00:00+00:00\",\"2021-05-27T00:00:00+00:00\",\"2021-05-28T00:00:00+00:00\",\"2021-06-01T00:00:00+00:00\",\"2021-06-02T00:00:00+00:00\",\"2021-06-03T00:00:00+00:00\",\"2021-06-04T00:00:00+00:00\",\"2021-06-07T00:00:00+00:00\",\"2021-06-08T00:00:00+00:00\",\"2021-06-09T00:00:00+00:00\",\"2021-06-10T00:00:00+00:00\",\"2021-06-11T00:00:00+00:00\",\"2021-06-14T00:00:00+00:00\",\"2021-06-15T00:00:00+00:00\",\"2021-06-16T00:00:00+00:00\",\"2021-06-17T00:00:00+00:00\",\"2021-06-18T00:00:00+00:00\",\"2021-06-21T00:00:00+00:00\",\"2021-06-22T00:00:00+00:00\",\"2021-06-23T00:00:00+00:00\",\"2021-06-24T00:00:00+00:00\",\"2021-06-25T00:00:00+00:00\",\"2021-06-28T00:00:00+00:00\",\"2021-06-29T00:00:00+00:00\",\"2021-06-30T00:00:00+00:00\",\"2021-07-01T00:00:00+00:00\",\"2021-07-02T00:00:00+00:00\",\"2021-07-06T00:00:00+00:00\",\"2021-07-07T00:00:00+00:00\",\"2021-07-08T00:00:00+00:00\",\"2021-07-09T00:00:00+00:00\",\"2021-07-12T00:00:00+00:00\",\"2021-07-13T00:00:00+00:00\",\"2021-07-14T00:00:00+00:00\",\"2021-07-15T00:00:00+00:00\",\"2021-07-16T00:00:00+00:00\",\"2021-07-19T00:00:00+00:00\",\"2021-07-20T00:00:00+00:00\",\"2021-07-21T00:00:00+00:00\",\"2021-07-22T00:00:00+00:00\",\"2021-07-23T00:00:00+00:00\",\"2021-07-26T00:00:00+00:00\",\"2021-07-27T00:00:00+00:00\",\"2021-07-28T00:00:00+00:00\",\"2021-07-29T00:00:00+00:00\",\"2021-07-30T00:00:00+00:00\",\"2021-08-02T00:00:00+00:00\",\"2021-08-03T00:00:00+00:00\",\"2021-08-04T00:00:00+00:00\",\"2021-08-05T00:00:00+00:00\",\"2021-08-06T00:00:00+00:00\",\"2021-08-09T00:00:00+00:00\",\"2021-08-10T00:00:00+00:00\",\"2021-08-11T00:00:00+00:00\",\"2021-08-12T00:00:00+00:00\",\"2021-08-13T00:00:00+00:00\",\"2021-08-16T00:00:00+00:00\",\"2021-08-17T00:00:00+00:00\",\"2021-08-18T00:00:00+00:00\",\"2021-08-19T00:00:00+00:00\",\"2021-08-20T00:00:00+00:00\",\"2021-08-23T00:00:00+00:00\",\"2021-08-24T00:00:00+00:00\",\"2021-08-25T00:00:00+00:00\",\"2021-08-26T00:00:00+00:00\",\"2021-08-27T00:00:00+00:00\",\"2021-08-30T00:00:00+00:00\",\"2021-08-31T00:00:00+00:00\",\"2021-09-01T00:00:00+00:00\",\"2021-09-02T00:00:00+00:00\",\"2021-09-03T00:00:00+00:00\",\"2021-09-07T00:00:00+00:00\",\"2021-09-08T00:00:00+00:00\",\"2021-09-09T00:00:00+00:00\",\"2021-09-10T00:00:00+00:00\",\"2021-09-13T00:00:00+00:00\",\"2021-09-14T00:00:00+00:00\",\"2021-09-15T00:00:00+00:00\",\"2021-09-16T00:00:00+00:00\",\"2021-09-17T00:00:00+00:00\",\"2021-09-20T00:00:00+00:00\",\"2021-09-21T00:00:00+00:00\",\"2021-09-22T00:00:00+00:00\",\"2021-09-23T00:00:00+00:00\",\"2021-09-24T00:00:00+00:00\",\"2021-09-27T00:00:00+00:00\",\"2021-09-28T00:00:00+00:00\",\"2021-09-29T00:00:00+00:00\",\"2021-09-30T00:00:00+00:00\",\"2021-10-01T00:00:00+00:00\",\"2021-10-04T00:00:00+00:00\",\"2021-10-05T00:00:00+00:00\",\"2021-10-06T00:00:00+00:00\",\"2021-10-07T00:00:00+00:00\",\"2021-10-08T00:00:00+00:00\",\"2021-10-11T00:00:00+00:00\",\"2021-10-12T00:00:00+00:00\",\"2021-10-13T00:00:00+00:00\",\"2021-10-14T00:00:00+00:00\",\"2021-10-15T00:00:00+00:00\",\"2021-10-18T00:00:00+00:00\",\"2021-10-19T00:00:00+00:00\",\"2021-10-20T00:00:00+00:00\",\"2021-10-21T00:00:00+00:00\",\"2021-10-22T00:00:00+00:00\",\"2021-10-25T00:00:00+00:00\",\"2021-10-26T00:00:00+00:00\",\"2021-10-27T00:00:00+00:00\",\"2021-10-28T00:00:00+00:00\",\"2021-10-29T00:00:00+00:00\",\"2021-11-01T00:00:00+00:00\",\"2021-11-02T00:00:00+00:00\",\"2021-11-03T00:00:00+00:00\",\"2021-11-04T00:00:00+00:00\",\"2021-11-05T00:00:00+00:00\",\"2021-11-08T00:00:00+00:00\",\"2021-11-09T00:00:00+00:00\",\"2021-11-10T00:00:00+00:00\",\"2021-11-11T00:00:00+00:00\",\"2021-11-12T00:00:00+00:00\",\"2021-11-15T00:00:00+00:00\",\"2021-11-16T00:00:00+00:00\",\"2021-11-17T00:00:00+00:00\",\"2021-11-18T00:00:00+00:00\",\"2021-11-19T00:00:00+00:00\",\"2021-11-22T00:00:00+00:00\",\"2021-11-23T00:00:00+00:00\",\"2021-11-24T00:00:00+00:00\",\"2021-11-26T00:00:00+00:00\",\"2021-11-29T00:00:00+00:00\",\"2021-11-30T00:00:00+00:00\",\"2021-12-01T00:00:00+00:00\",\"2021-12-02T00:00:00+00:00\",\"2021-12-03T00:00:00+00:00\",\"2021-12-06T00:00:00+00:00\",\"2021-12-07T00:00:00+00:00\",\"2021-12-08T00:00:00+00:00\",\"2021-12-09T00:00:00+00:00\",\"2021-12-10T00:00:00+00:00\",\"2021-12-13T00:00:00+00:00\",\"2021-12-14T00:00:00+00:00\",\"2021-12-15T00:00:00+00:00\",\"2021-12-16T00:00:00+00:00\",\"2021-12-17T00:00:00+00:00\",\"2021-12-20T00:00:00+00:00\",\"2021-12-21T00:00:00+00:00\",\"2021-12-22T00:00:00+00:00\",\"2021-12-23T00:00:00+00:00\",\"2021-12-27T00:00:00+00:00\",\"2021-12-28T00:00:00+00:00\",\"2021-12-29T00:00:00+00:00\",\"2021-12-30T00:00:00+00:00\",\"2021-12-31T00:00:00+00:00\",\"2022-01-03T00:00:00+00:00\",\"2022-01-04T00:00:00+00:00\",\"2022-01-05T00:00:00+00:00\",\"2022-01-06T00:00:00+00:00\",\"2022-01-07T00:00:00+00:00\",\"2022-01-10T00:00:00+00:00\",\"2022-01-11T00:00:00+00:00\",\"2022-01-12T00:00:00+00:00\",\"2022-01-13T00:00:00+00:00\",\"2022-01-14T00:00:00+00:00\",\"2022-01-18T00:00:00+00:00\",\"2022-01-19T00:00:00+00:00\",\"2022-01-20T00:00:00+00:00\",\"2022-01-21T00:00:00+00:00\",\"2022-01-24T00:00:00+00:00\",\"2022-01-25T00:00:00+00:00\",\"2022-01-26T00:00:00+00:00\",\"2022-01-27T00:00:00+00:00\",\"2022-01-28T00:00:00+00:00\",\"2022-01-31T00:00:00+00:00\",\"2022-02-01T00:00:00+00:00\",\"2022-02-02T00:00:00+00:00\",\"2022-02-03T00:00:00+00:00\",\"2022-02-04T00:00:00+00:00\",\"2022-02-07T00:00:00+00:00\",\"2022-02-08T00:00:00+00:00\",\"2022-02-09T00:00:00+00:00\",\"2022-02-10T00:00:00+00:00\",\"2022-02-11T00:00:00+00:00\",\"2022-02-14T00:00:00+00:00\",\"2022-02-15T00:00:00+00:00\",\"2022-02-16T00:00:00+00:00\",\"2022-02-17T00:00:00+00:00\",\"2022-02-18T00:00:00+00:00\",\"2022-02-22T00:00:00+00:00\",\"2022-02-23T00:00:00+00:00\",\"2022-02-24T00:00:00+00:00\",\"2022-02-25T00:00:00+00:00\",\"2022-02-28T00:00:00+00:00\",\"2022-03-01T00:00:00+00:00\",\"2022-03-02T00:00:00+00:00\",\"2022-03-03T00:00:00+00:00\",\"2022-03-04T00:00:00+00:00\",\"2022-03-07T00:00:00+00:00\",\"2022-03-08T00:00:00+00:00\",\"2022-03-09T00:00:00+00:00\",\"2022-03-10T00:00:00+00:00\",\"2022-03-11T00:00:00+00:00\",\"2022-03-14T00:00:00+00:00\",\"2022-03-15T00:00:00+00:00\",\"2022-03-16T00:00:00+00:00\",\"2022-03-17T00:00:00+00:00\",\"2022-03-18T00:00:00+00:00\",\"2022-03-21T00:00:00+00:00\",\"2022-03-22T00:00:00+00:00\",\"2022-03-23T00:00:00+00:00\",\"2022-03-24T00:00:00+00:00\",\"2022-03-25T00:00:00+00:00\",\"2022-03-28T00:00:00+00:00\",\"2022-03-29T00:00:00+00:00\",\"2022-03-30T00:00:00+00:00\",\"2022-03-31T00:00:00+00:00\",\"2022-04-01T00:00:00+00:00\",\"2022-04-04T00:00:00+00:00\",\"2022-04-05T00:00:00+00:00\",\"2022-04-06T00:00:00+00:00\",\"2022-04-07T00:00:00+00:00\",\"2022-04-08T00:00:00+00:00\",\"2022-04-11T00:00:00+00:00\",\"2022-04-12T00:00:00+00:00\",\"2022-04-13T00:00:00+00:00\",\"2022-04-14T00:00:00+00:00\",\"2022-04-18T00:00:00+00:00\",\"2022-04-19T00:00:00+00:00\",\"2022-04-20T00:00:00+00:00\",\"2022-04-21T00:00:00+00:00\",\"2022-04-22T00:00:00+00:00\",\"2022-04-25T00:00:00+00:00\",\"2022-04-26T00:00:00+00:00\",\"2022-04-27T00:00:00+00:00\",\"2022-04-28T00:00:00+00:00\",\"2022-04-29T00:00:00+00:00\",\"2022-05-02T00:00:00+00:00\",\"2022-05-03T00:00:00+00:00\",\"2022-05-04T00:00:00+00:00\",\"2022-05-05T00:00:00+00:00\",\"2022-05-06T00:00:00+00:00\",\"2022-05-09T00:00:00+00:00\",\"2022-05-10T00:00:00+00:00\",\"2022-05-11T00:00:00+00:00\",\"2022-05-12T00:00:00+00:00\",\"2022-05-13T00:00:00+00:00\",\"2022-05-16T00:00:00+00:00\",\"2022-05-17T00:00:00+00:00\",\"2022-05-18T00:00:00+00:00\",\"2022-05-19T00:00:00+00:00\",\"2022-05-20T00:00:00+00:00\",\"2022-05-23T00:00:00+00:00\",\"2022-05-24T00:00:00+00:00\",\"2022-05-25T00:00:00+00:00\",\"2022-05-26T00:00:00+00:00\",\"2022-05-27T00:00:00+00:00\",\"2022-05-31T00:00:00+00:00\",\"2022-06-01T00:00:00+00:00\",\"2022-06-02T00:00:00+00:00\",\"2022-06-03T00:00:00+00:00\",\"2022-06-06T00:00:00+00:00\",\"2022-06-07T00:00:00+00:00\",\"2022-06-08T00:00:00+00:00\",\"2022-06-09T00:00:00+00:00\",\"2022-06-10T00:00:00+00:00\",\"2022-06-13T00:00:00+00:00\",\"2022-06-14T00:00:00+00:00\",\"2022-06-15T00:00:00+00:00\",\"2022-06-16T00:00:00+00:00\",\"2022-06-17T00:00:00+00:00\",\"2022-06-21T00:00:00+00:00\",\"2022-06-22T00:00:00+00:00\",\"2022-06-23T00:00:00+00:00\",\"2022-06-24T00:00:00+00:00\",\"2022-06-27T00:00:00+00:00\",\"2022-06-28T00:00:00+00:00\",\"2022-06-29T00:00:00+00:00\",\"2022-06-30T00:00:00+00:00\",\"2022-07-01T00:00:00+00:00\",\"2022-07-05T00:00:00+00:00\",\"2022-07-06T00:00:00+00:00\",\"2022-07-07T00:00:00+00:00\",\"2022-07-08T00:00:00+00:00\",\"2022-07-11T00:00:00+00:00\",\"2022-07-12T00:00:00+00:00\",\"2022-07-13T00:00:00+00:00\",\"2022-07-14T00:00:00+00:00\",\"2022-07-15T00:00:00+00:00\",\"2022-07-18T00:00:00+00:00\",\"2022-07-19T00:00:00+00:00\",\"2022-07-20T00:00:00+00:00\",\"2022-07-21T00:00:00+00:00\",\"2022-07-22T00:00:00+00:00\",\"2022-07-25T00:00:00+00:00\",\"2022-07-26T00:00:00+00:00\",\"2022-07-27T00:00:00+00:00\",\"2022-07-28T00:00:00+00:00\",\"2022-07-29T00:00:00+00:00\",\"2022-08-01T00:00:00+00:00\",\"2022-08-02T00:00:00+00:00\",\"2022-08-03T00:00:00+00:00\",\"2022-08-04T00:00:00+00:00\",\"2022-08-05T00:00:00+00:00\",\"2022-08-08T00:00:00+00:00\",\"2022-08-09T00:00:00+00:00\",\"2022-08-10T00:00:00+00:00\",\"2022-08-11T00:00:00+00:00\",\"2022-08-12T00:00:00+00:00\",\"2022-08-15T00:00:00+00:00\",\"2022-08-16T00:00:00+00:00\",\"2022-08-17T00:00:00+00:00\",\"2022-08-18T00:00:00+00:00\",\"2022-08-19T00:00:00+00:00\",\"2022-08-22T00:00:00+00:00\",\"2022-08-23T00:00:00+00:00\",\"2022-08-24T00:00:00+00:00\",\"2022-08-25T00:00:00+00:00\",\"2022-08-26T00:00:00+00:00\",\"2022-08-29T00:00:00+00:00\",\"2022-08-30T00:00:00+00:00\",\"2022-08-31T00:00:00+00:00\",\"2022-09-01T00:00:00+00:00\",\"2022-09-02T00:00:00+00:00\",\"2022-09-06T00:00:00+00:00\",\"2022-09-07T00:00:00+00:00\",\"2022-09-08T00:00:00+00:00\",\"2022-09-09T00:00:00+00:00\",\"2022-09-12T00:00:00+00:00\",\"2022-09-13T00:00:00+00:00\",\"2022-09-14T00:00:00+00:00\",\"2022-09-15T00:00:00+00:00\",\"2022-09-16T00:00:00+00:00\",\"2022-09-19T00:00:00+00:00\",\"2022-09-20T00:00:00+00:00\",\"2022-09-21T00:00:00+00:00\",\"2022-09-22T00:00:00+00:00\",\"2022-09-23T00:00:00+00:00\",\"2022-09-26T00:00:00+00:00\",\"2022-09-27T00:00:00+00:00\",\"2022-09-28T00:00:00+00:00\",\"2022-09-29T00:00:00+00:00\",\"2022-09-30T00:00:00+00:00\",\"2022-10-03T00:00:00+00:00\",\"2022-10-04T00:00:00+00:00\",\"2022-10-05T00:00:00+00:00\",\"2022-10-06T00:00:00+00:00\",\"2022-10-07T00:00:00+00:00\",\"2022-10-10T00:00:00+00:00\",\"2022-10-11T00:00:00+00:00\",\"2022-10-12T00:00:00+00:00\",\"2022-10-13T00:00:00+00:00\",\"2022-10-14T00:00:00+00:00\",\"2022-10-17T00:00:00+00:00\",\"2022-10-18T00:00:00+00:00\",\"2022-10-19T00:00:00+00:00\",\"2022-10-20T00:00:00+00:00\",\"2022-10-21T00:00:00+00:00\",\"2022-10-24T00:00:00+00:00\",\"2022-10-25T00:00:00+00:00\",\"2022-10-26T00:00:00+00:00\",\"2022-10-27T00:00:00+00:00\",\"2022-10-28T00:00:00+00:00\",\"2022-10-31T00:00:00+00:00\",\"2022-11-01T00:00:00+00:00\",\"2022-11-02T00:00:00+00:00\",\"2022-11-03T00:00:00+00:00\",\"2022-11-04T00:00:00+00:00\",\"2022-11-07T00:00:00+00:00\",\"2022-11-08T00:00:00+00:00\",\"2022-11-09T00:00:00+00:00\",\"2022-11-10T00:00:00+00:00\",\"2022-11-11T00:00:00+00:00\",\"2022-11-14T00:00:00+00:00\",\"2022-11-15T00:00:00+00:00\",\"2022-11-16T00:00:00+00:00\",\"2022-11-17T00:00:00+00:00\",\"2022-11-18T00:00:00+00:00\",\"2022-11-21T00:00:00+00:00\",\"2022-11-22T00:00:00+00:00\",\"2022-11-23T00:00:00+00:00\",\"2022-11-25T00:00:00+00:00\",\"2022-11-28T00:00:00+00:00\",\"2022-11-29T00:00:00+00:00\",\"2022-11-30T00:00:00+00:00\",\"2022-12-01T00:00:00+00:00\",\"2022-12-02T00:00:00+00:00\",\"2022-12-05T00:00:00+00:00\",\"2022-12-06T00:00:00+00:00\",\"2022-12-07T00:00:00+00:00\",\"2022-12-08T00:00:00+00:00\",\"2022-12-09T00:00:00+00:00\",\"2022-12-12T00:00:00+00:00\",\"2022-12-13T00:00:00+00:00\",\"2022-12-14T00:00:00+00:00\",\"2022-12-15T00:00:00+00:00\",\"2022-12-16T00:00:00+00:00\",\"2022-12-19T00:00:00+00:00\",\"2022-12-20T00:00:00+00:00\",\"2022-12-21T00:00:00+00:00\",\"2022-12-22T00:00:00+00:00\",\"2022-12-23T00:00:00+00:00\",\"2022-12-27T00:00:00+00:00\",\"2022-12-28T00:00:00+00:00\",\"2022-12-29T00:00:00+00:00\",\"2022-12-30T00:00:00+00:00\",\"2023-01-03T00:00:00+00:00\",\"2023-01-04T00:00:00+00:00\",\"2023-01-05T00:00:00+00:00\",\"2023-01-06T00:00:00+00:00\",\"2023-01-09T00:00:00+00:00\",\"2023-01-10T00:00:00+00:00\",\"2023-01-11T00:00:00+00:00\",\"2023-01-12T00:00:00+00:00\",\"2023-01-13T00:00:00+00:00\",\"2023-01-17T00:00:00+00:00\",\"2023-01-18T00:00:00+00:00\",\"2023-01-19T00:00:00+00:00\",\"2023-01-20T00:00:00+00:00\",\"2023-01-23T00:00:00+00:00\",\"2023-01-24T00:00:00+00:00\",\"2023-01-25T00:00:00+00:00\",\"2023-01-26T00:00:00+00:00\",\"2023-01-27T00:00:00+00:00\",\"2023-01-30T00:00:00+00:00\",\"2023-01-31T00:00:00+00:00\",\"2023-02-01T00:00:00+00:00\",\"2023-02-02T00:00:00+00:00\",\"2023-02-03T00:00:00+00:00\",\"2023-02-06T00:00:00+00:00\",\"2023-02-07T00:00:00+00:00\",\"2023-02-08T00:00:00+00:00\",\"2023-02-09T00:00:00+00:00\",\"2023-02-10T00:00:00+00:00\",\"2023-02-13T00:00:00+00:00\",\"2023-02-14T00:00:00+00:00\",\"2023-02-15T00:00:00+00:00\",\"2023-02-16T00:00:00+00:00\",\"2023-02-17T00:00:00+00:00\",\"2023-02-21T00:00:00+00:00\",\"2023-02-22T00:00:00+00:00\",\"2023-02-23T00:00:00+00:00\",\"2023-02-24T00:00:00+00:00\",\"2023-02-27T00:00:00+00:00\",\"2023-02-28T00:00:00+00:00\",\"2023-03-01T00:00:00+00:00\",\"2023-03-02T00:00:00+00:00\",\"2023-03-03T00:00:00+00:00\",\"2023-03-06T00:00:00+00:00\",\"2023-03-07T00:00:00+00:00\",\"2023-03-08T00:00:00+00:00\",\"2023-03-09T00:00:00+00:00\",\"2023-03-10T00:00:00+00:00\",\"2023-03-13T00:00:00+00:00\",\"2023-03-14T00:00:00+00:00\",\"2023-03-15T00:00:00+00:00\",\"2023-03-16T00:00:00+00:00\",\"2023-03-17T00:00:00+00:00\",\"2023-03-20T00:00:00+00:00\",\"2023-03-21T00:00:00+00:00\",\"2023-03-22T00:00:00+00:00\",\"2023-03-23T00:00:00+00:00\",\"2023-03-24T00:00:00+00:00\",\"2023-03-27T00:00:00+00:00\",\"2023-03-28T00:00:00+00:00\",\"2023-03-29T00:00:00+00:00\",\"2023-03-30T00:00:00+00:00\",\"2023-03-31T00:00:00+00:00\",\"2023-04-03T00:00:00+00:00\",\"2023-04-04T00:00:00+00:00\",\"2023-04-05T00:00:00+00:00\",\"2023-04-06T00:00:00+00:00\",\"2023-04-10T00:00:00+00:00\",\"2023-04-11T00:00:00+00:00\",\"2023-04-12T00:00:00+00:00\",\"2023-04-13T00:00:00+00:00\",\"2023-04-14T00:00:00+00:00\",\"2023-04-17T00:00:00+00:00\",\"2023-04-18T00:00:00+00:00\",\"2023-04-19T00:00:00+00:00\",\"2023-04-20T00:00:00+00:00\",\"2023-04-21T00:00:00+00:00\",\"2023-04-24T00:00:00+00:00\",\"2023-04-25T00:00:00+00:00\",\"2023-04-26T00:00:00+00:00\",\"2023-04-27T00:00:00+00:00\",\"2023-04-28T00:00:00+00:00\",\"2023-05-01T00:00:00+00:00\",\"2023-05-02T00:00:00+00:00\",\"2023-05-03T00:00:00+00:00\",\"2023-05-04T00:00:00+00:00\",\"2023-05-05T00:00:00+00:00\",\"2023-05-08T00:00:00+00:00\",\"2023-05-09T00:00:00+00:00\",\"2023-05-10T00:00:00+00:00\",\"2023-05-11T00:00:00+00:00\",\"2023-05-12T00:00:00+00:00\",\"2023-05-15T00:00:00+00:00\",\"2023-05-16T00:00:00+00:00\",\"2023-05-17T00:00:00+00:00\",\"2023-05-18T00:00:00+00:00\",\"2023-05-19T00:00:00+00:00\",\"2023-05-22T00:00:00+00:00\",\"2023-05-23T00:00:00+00:00\",\"2023-05-24T00:00:00+00:00\",\"2023-05-25T00:00:00+00:00\",\"2023-05-26T00:00:00+00:00\",\"2023-05-30T00:00:00+00:00\",\"2023-05-31T00:00:00+00:00\",\"2023-06-01T00:00:00+00:00\",\"2023-06-02T00:00:00+00:00\",\"2023-06-05T00:00:00+00:00\",\"2023-06-06T00:00:00+00:00\",\"2023-06-07T00:00:00+00:00\",\"2023-06-08T00:00:00+00:00\",\"2023-06-09T00:00:00+00:00\",\"2023-06-12T00:00:00+00:00\",\"2023-06-13T00:00:00+00:00\",\"2023-06-14T00:00:00+00:00\",\"2023-06-15T00:00:00+00:00\",\"2023-06-16T00:00:00+00:00\",\"2023-06-20T00:00:00+00:00\",\"2023-06-21T00:00:00+00:00\",\"2023-06-22T00:00:00+00:00\",\"2023-06-23T00:00:00+00:00\",\"2023-06-26T00:00:00+00:00\",\"2023-06-27T00:00:00+00:00\",\"2023-06-28T00:00:00+00:00\",\"2023-06-29T00:00:00+00:00\",\"2023-06-30T00:00:00+00:00\",\"2023-07-03T00:00:00+00:00\",\"2023-07-05T00:00:00+00:00\",\"2023-07-06T00:00:00+00:00\",\"2023-07-07T00:00:00+00:00\",\"2023-07-10T00:00:00+00:00\",\"2023-07-11T00:00:00+00:00\",\"2023-07-12T00:00:00+00:00\",\"2023-07-13T00:00:00+00:00\",\"2023-07-14T00:00:00+00:00\",\"2023-07-17T00:00:00+00:00\",\"2023-07-18T00:00:00+00:00\",\"2023-07-19T00:00:00+00:00\",\"2023-07-20T00:00:00+00:00\",\"2023-07-21T00:00:00+00:00\",\"2023-07-24T00:00:00+00:00\",\"2023-07-25T00:00:00+00:00\",\"2023-07-26T00:00:00+00:00\",\"2023-07-27T00:00:00+00:00\",\"2023-07-28T00:00:00+00:00\",\"2023-07-31T00:00:00+00:00\",\"2023-08-01T00:00:00+00:00\",\"2023-08-02T00:00:00+00:00\",\"2023-08-03T00:00:00+00:00\",\"2023-08-04T00:00:00+00:00\",\"2023-08-07T00:00:00+00:00\",\"2023-08-08T00:00:00+00:00\",\"2023-08-09T00:00:00+00:00\",\"2023-08-10T00:00:00+00:00\",\"2023-08-11T00:00:00+00:00\",\"2023-08-14T00:00:00+00:00\",\"2023-08-15T00:00:00+00:00\",\"2023-08-16T00:00:00+00:00\",\"2023-08-17T00:00:00+00:00\",\"2023-08-18T00:00:00+00:00\",\"2023-08-21T00:00:00+00:00\",\"2023-08-22T00:00:00+00:00\",\"2023-08-23T00:00:00+00:00\",\"2023-08-24T00:00:00+00:00\",\"2023-08-25T00:00:00+00:00\",\"2023-08-28T00:00:00+00:00\",\"2023-08-29T00:00:00+00:00\",\"2023-08-30T00:00:00+00:00\",\"2023-08-31T00:00:00+00:00\",\"2023-09-01T00:00:00+00:00\",\"2023-09-05T00:00:00+00:00\",\"2023-09-06T00:00:00+00:00\",\"2023-09-07T00:00:00+00:00\",\"2023-09-08T00:00:00+00:00\",\"2023-09-11T00:00:00+00:00\",\"2023-09-12T00:00:00+00:00\",\"2023-09-13T00:00:00+00:00\",\"2023-09-14T00:00:00+00:00\",\"2023-09-15T00:00:00+00:00\",\"2023-09-18T00:00:00+00:00\",\"2023-09-19T00:00:00+00:00\",\"2023-09-20T00:00:00+00:00\",\"2023-09-21T00:00:00+00:00\",\"2023-09-22T00:00:00+00:00\",\"2023-09-25T00:00:00+00:00\",\"2023-09-26T00:00:00+00:00\",\"2023-09-27T00:00:00+00:00\",\"2023-09-28T00:00:00+00:00\",\"2023-09-29T00:00:00+00:00\",\"2023-10-02T00:00:00+00:00\",\"2023-10-03T00:00:00+00:00\",\"2023-10-04T00:00:00+00:00\",\"2023-10-05T00:00:00+00:00\",\"2023-10-06T00:00:00+00:00\",\"2023-10-09T00:00:00+00:00\",\"2023-10-10T00:00:00+00:00\",\"2023-10-11T00:00:00+00:00\",\"2023-10-12T00:00:00+00:00\",\"2023-10-13T00:00:00+00:00\",\"2023-10-16T00:00:00+00:00\",\"2023-10-17T00:00:00+00:00\",\"2023-10-18T00:00:00+00:00\",\"2023-10-19T00:00:00+00:00\",\"2023-10-20T00:00:00+00:00\",\"2023-10-23T00:00:00+00:00\",\"2023-10-24T00:00:00+00:00\",\"2023-10-25T00:00:00+00:00\",\"2023-10-26T00:00:00+00:00\",\"2023-10-27T00:00:00+00:00\",\"2023-10-30T00:00:00+00:00\",\"2023-10-31T00:00:00+00:00\",\"2023-11-01T00:00:00+00:00\",\"2023-11-02T00:00:00+00:00\",\"2023-11-03T00:00:00+00:00\",\"2023-11-06T00:00:00+00:00\",\"2023-11-07T00:00:00+00:00\",\"2023-11-08T00:00:00+00:00\",\"2023-11-09T00:00:00+00:00\",\"2023-11-10T00:00:00+00:00\",\"2023-11-13T00:00:00+00:00\",\"2023-11-14T00:00:00+00:00\",\"2023-11-15T00:00:00+00:00\",\"2023-11-16T00:00:00+00:00\",\"2023-11-17T00:00:00+00:00\",\"2023-11-20T00:00:00+00:00\",\"2023-11-21T00:00:00+00:00\",\"2023-11-22T00:00:00+00:00\",\"2023-11-24T00:00:00+00:00\",\"2023-11-27T00:00:00+00:00\",\"2023-11-28T00:00:00+00:00\",\"2023-11-29T00:00:00+00:00\",\"2023-11-30T00:00:00+00:00\",\"2023-12-01T00:00:00+00:00\",\"2023-12-04T00:00:00+00:00\",\"2023-12-05T00:00:00+00:00\",\"2023-12-06T00:00:00+00:00\",\"2023-12-07T00:00:00+00:00\",\"2023-12-08T00:00:00+00:00\",\"2023-12-11T00:00:00+00:00\",\"2023-12-12T00:00:00+00:00\",\"2023-12-13T00:00:00+00:00\",\"2023-12-14T00:00:00+00:00\",\"2023-12-15T00:00:00+00:00\",\"2023-12-18T00:00:00+00:00\",\"2023-12-19T00:00:00+00:00\",\"2023-12-20T00:00:00+00:00\",\"2023-12-21T00:00:00+00:00\",\"2023-12-22T00:00:00+00:00\",\"2023-12-26T00:00:00+00:00\",\"2023-12-27T00:00:00+00:00\",\"2023-12-28T00:00:00+00:00\",\"2023-12-29T00:00:00+00:00\",\"2024-01-02T00:00:00+00:00\",\"2024-01-03T00:00:00+00:00\",\"2024-01-04T00:00:00+00:00\",\"2024-01-05T00:00:00+00:00\",\"2024-01-08T00:00:00+00:00\",\"2024-01-09T00:00:00+00:00\",\"2024-01-10T00:00:00+00:00\",\"2024-01-11T00:00:00+00:00\",\"2024-01-12T00:00:00+00:00\",\"2024-01-16T00:00:00+00:00\",\"2024-01-17T00:00:00+00:00\",\"2024-01-18T00:00:00+00:00\",\"2024-01-19T00:00:00+00:00\",\"2024-01-22T00:00:00+00:00\",\"2024-01-23T00:00:00+00:00\",\"2024-01-24T00:00:00+00:00\",\"2024-01-25T00:00:00+00:00\",\"2024-01-26T00:00:00+00:00\",\"2024-01-29T00:00:00+00:00\",\"2024-01-30T00:00:00+00:00\",\"2024-01-31T00:00:00+00:00\",\"2024-02-01T00:00:00+00:00\",\"2024-02-02T00:00:00+00:00\",\"2024-02-05T00:00:00+00:00\",\"2024-02-06T00:00:00+00:00\",\"2024-02-07T00:00:00+00:00\",\"2024-02-08T00:00:00+00:00\",\"2024-02-09T00:00:00+00:00\",\"2024-02-12T00:00:00+00:00\",\"2024-02-13T00:00:00+00:00\",\"2024-02-14T00:00:00+00:00\",\"2024-02-15T00:00:00+00:00\",\"2024-02-16T00:00:00+00:00\",\"2024-02-20T00:00:00+00:00\",\"2024-02-21T00:00:00+00:00\",\"2024-02-22T00:00:00+00:00\",\"2024-02-23T00:00:00+00:00\",\"2024-02-26T00:00:00+00:00\",\"2024-02-27T00:00:00+00:00\",\"2024-02-28T00:00:00+00:00\",\"2024-02-29T00:00:00+00:00\",\"2024-03-01T00:00:00+00:00\",\"2024-03-04T00:00:00+00:00\",\"2024-03-05T00:00:00+00:00\",\"2024-03-06T00:00:00+00:00\",\"2024-03-07T00:00:00+00:00\",\"2024-03-08T00:00:00+00:00\",\"2024-03-11T00:00:00+00:00\",\"2024-03-12T00:00:00+00:00\",\"2024-03-13T00:00:00+00:00\",\"2024-03-14T00:00:00+00:00\",\"2024-03-15T00:00:00+00:00\",\"2024-03-18T00:00:00+00:00\",\"2024-03-19T00:00:00+00:00\",\"2024-03-20T00:00:00+00:00\",\"2024-03-21T00:00:00+00:00\",\"2024-03-22T00:00:00+00:00\",\"2024-03-25T00:00:00+00:00\",\"2024-03-26T00:00:00+00:00\",\"2024-03-27T00:00:00+00:00\",\"2024-03-28T00:00:00+00:00\",\"2024-04-01T00:00:00+00:00\",\"2024-04-02T00:00:00+00:00\",\"2024-04-03T00:00:00+00:00\",\"2024-04-04T00:00:00+00:00\",\"2024-04-05T00:00:00+00:00\",\"2024-04-08T00:00:00+00:00\",\"2024-04-09T00:00:00+00:00\",\"2024-04-10T00:00:00+00:00\",\"2024-04-11T00:00:00+00:00\",\"2024-04-12T00:00:00+00:00\",\"2024-04-15T00:00:00+00:00\",\"2024-04-16T00:00:00+00:00\",\"2024-04-17T00:00:00+00:00\",\"2024-04-18T00:00:00+00:00\",\"2024-04-19T00:00:00+00:00\",\"2024-04-22T00:00:00+00:00\",\"2024-04-23T00:00:00+00:00\",\"2024-04-24T00:00:00+00:00\",\"2024-04-25T00:00:00+00:00\",\"2024-04-26T00:00:00+00:00\",\"2024-04-29T00:00:00+00:00\",\"2024-04-30T00:00:00+00:00\",\"2024-05-01T00:00:00+00:00\",\"2024-05-02T00:00:00+00:00\",\"2024-05-03T00:00:00+00:00\",\"2024-05-06T00:00:00+00:00\",\"2024-05-07T00:00:00+00:00\",\"2024-05-08T00:00:00+00:00\",\"2024-05-09T00:00:00+00:00\",\"2024-05-10T00:00:00+00:00\",\"2024-05-13T00:00:00+00:00\",\"2024-05-14T00:00:00+00:00\",\"2024-05-15T00:00:00+00:00\",\"2024-05-16T00:00:00+00:00\",\"2024-05-17T00:00:00+00:00\",\"2024-05-20T00:00:00+00:00\",\"2024-05-21T00:00:00+00:00\",\"2024-05-22T00:00:00+00:00\",\"2024-05-23T00:00:00+00:00\",\"2024-05-24T00:00:00+00:00\",\"2024-05-28T00:00:00+00:00\",\"2024-05-29T00:00:00+00:00\",\"2024-05-30T00:00:00+00:00\",\"2024-05-31T00:00:00+00:00\",\"2024-06-03T00:00:00+00:00\",\"2024-06-04T00:00:00+00:00\",\"2024-06-05T00:00:00+00:00\",\"2024-06-06T00:00:00+00:00\",\"2024-06-07T00:00:00+00:00\",\"2024-06-10T00:00:00+00:00\",\"2024-06-11T00:00:00+00:00\",\"2024-06-12T00:00:00+00:00\",\"2024-06-13T00:00:00+00:00\",\"2024-06-14T00:00:00+00:00\",\"2024-06-17T00:00:00+00:00\",\"2024-06-18T00:00:00+00:00\",\"2024-06-20T00:00:00+00:00\",\"2024-06-21T00:00:00+00:00\",\"2024-06-24T00:00:00+00:00\",\"2024-06-25T00:00:00+00:00\",\"2024-06-26T00:00:00+00:00\",\"2024-06-27T00:00:00+00:00\",\"2024-06-28T00:00:00+00:00\",\"2024-07-01T00:00:00+00:00\",\"2024-07-02T00:00:00+00:00\",\"2024-07-03T00:00:00+00:00\",\"2024-07-05T00:00:00+00:00\",\"2024-07-08T00:00:00+00:00\",\"2024-07-09T00:00:00+00:00\",\"2024-07-10T00:00:00+00:00\",\"2024-07-11T00:00:00+00:00\",\"2024-07-12T00:00:00+00:00\",\"2024-07-15T00:00:00+00:00\",\"2024-07-16T00:00:00+00:00\",\"2024-07-17T00:00:00+00:00\",\"2024-07-18T00:00:00+00:00\",\"2024-07-19T00:00:00+00:00\",\"2024-07-22T00:00:00+00:00\",\"2024-07-23T00:00:00+00:00\",\"2024-07-24T00:00:00+00:00\",\"2024-07-25T00:00:00+00:00\",\"2024-07-26T00:00:00+00:00\",\"2024-07-29T00:00:00+00:00\",\"2024-07-30T00:00:00+00:00\",\"2024-07-31T00:00:00+00:00\",\"2024-08-01T00:00:00+00:00\",\"2024-08-02T00:00:00+00:00\",\"2024-08-05T00:00:00+00:00\",\"2024-08-06T00:00:00+00:00\",\"2024-08-07T00:00:00+00:00\",\"2024-08-08T00:00:00+00:00\",\"2024-08-09T00:00:00+00:00\",\"2024-08-12T00:00:00+00:00\",\"2024-08-13T00:00:00+00:00\",\"2024-08-14T00:00:00+00:00\",\"2024-08-15T00:00:00+00:00\",\"2024-08-16T00:00:00+00:00\",\"2024-08-19T00:00:00+00:00\",\"2024-08-20T00:00:00+00:00\",\"2024-08-21T00:00:00+00:00\",\"2024-08-22T00:00:00+00:00\",\"2024-08-23T00:00:00+00:00\",\"2024-08-26T00:00:00+00:00\",\"2024-08-27T00:00:00+00:00\",\"2024-08-28T00:00:00+00:00\",\"2024-08-29T00:00:00+00:00\",\"2024-08-30T00:00:00+00:00\",\"2024-09-03T00:00:00+00:00\",\"2024-09-04T00:00:00+00:00\",\"2024-09-05T00:00:00+00:00\",\"2024-09-06T00:00:00+00:00\",\"2024-09-09T00:00:00+00:00\",\"2024-09-10T00:00:00+00:00\",\"2024-09-11T00:00:00+00:00\",\"2024-09-12T00:00:00+00:00\",\"2024-09-13T00:00:00+00:00\",\"2024-09-16T00:00:00+00:00\",\"2024-09-17T00:00:00+00:00\",\"2024-09-18T00:00:00+00:00\",\"2024-09-19T00:00:00+00:00\",\"2024-09-20T00:00:00+00:00\",\"2024-09-23T00:00:00+00:00\",\"2024-09-24T00:00:00+00:00\",\"2024-09-25T00:00:00+00:00\",\"2024-09-26T00:00:00+00:00\",\"2024-09-27T00:00:00+00:00\",\"2024-09-30T00:00:00+00:00\",\"2024-10-01T00:00:00+00:00\",\"2024-10-02T00:00:00+00:00\",\"2024-10-03T00:00:00+00:00\",\"2024-10-04T00:00:00+00:00\",\"2024-10-07T00:00:00+00:00\",\"2024-10-08T00:00:00+00:00\",\"2024-10-09T00:00:00+00:00\",\"2024-10-10T00:00:00+00:00\",\"2024-10-11T00:00:00+00:00\",\"2024-10-14T00:00:00+00:00\",\"2024-10-15T00:00:00+00:00\",\"2024-10-16T00:00:00+00:00\",\"2024-10-17T00:00:00+00:00\",\"2024-10-18T00:00:00+00:00\",\"2024-10-21T00:00:00+00:00\",\"2024-10-22T00:00:00+00:00\",\"2024-10-23T00:00:00+00:00\",\"2024-10-24T00:00:00+00:00\",\"2024-10-25T00:00:00+00:00\",\"2024-10-28T00:00:00+00:00\",\"2024-10-29T00:00:00+00:00\",\"2024-10-30T00:00:00+00:00\",\"2024-10-31T00:00:00+00:00\"],\"xaxis\":\"x\",\"y\":[237100,322100,240200,178300,210900,189100,132200,139200,223900,204900,197000,122100,162700,249800,421000,250800,209500,212500,123800,76200,256000,134000,200100,281100,330200,264400,212600,139700,239600,209800,250500,202200,386600,413600,1115100,214900,40700,82200,133400,145700,232000,186500,277900,249000,195300,286700,211300,231400,198700,252400,204500,186300,150700,218100,140100,383100,222200,205400,184100,186700,221000,203500,209900,217900,231800,619600,455000,321800,252800,231000,162300,182000,237800,352900,265000,342000,241000,210900,182000,415100,374400,431900,386900,503700,530900,414300,861200,833200,628300,865700,652200,1001500,1199300,716200,729100,1155900,556000,411300,461500,405000,397700,381300,587000,604500,353400,363500,409100,462300,281600,299100,312300,299900,396500,503700,445600,286900,809600,455700,397300,351400,478300,537100,401000,580200,374900,475400,356300,306100,353400,568200,597100,761500,441200,509700,442000,445900,323200,314800,346100,252700,334400,418100,402000,511000,245800,243100,263400,261500,318700,278700,228600,194800,294300,243200,359200,249000,200700,160100,413400,252400,191700,195000,338500,581400,239600,379400,264800,194200,207400,230200,197900,273400,169600,198800,200600,416300,269200,311300,159700,213700,199500,226300,189600,137800,179100,187200,181800,293900,355900,294900,322900,602400,368700,382000,288900,191500,171000,203300,209300,165500,269400,308000,325000,357200,232800,166300,209900,156800,251800,225300,190300,207800,219200,234200,294600,225300,221200,180200,170800,275200,189500,818300,244000,193200,288900,367700,260500,207500,164200,290700,280200,130700,149200,258400,223400,149500,133100,185200,125600,591200,328100,165600,176200,118200,121500,199800,111400,239100,281200,228900,319600,379200,236400,338700,235300,127700,138100,371100,293800,382200,185600,236900,189800,221400,189200,151900,241400,257200,265500,247500,173000,308700,378100,235200,221000,160300,210600,266600,210500,191200,235200,295700,251700,200800,268300,982600,239200,219200,197300,71200,202100,255800,196600,317500,403600,381900,552400,357600,389300,189300,171700,331100,273100,254500,194500,256400,188000,213400,273300,167800,323100,208100,330400,352400,338700,396800,527500,297800,306900,216800,314700,245000,202800,156200,201500,158800,130800,131800,290300,201800,210900,249800,180600,181000,250700,287100,371400,251200,321500,261600,231100,417800,229000,297400,327600,284900,782100,339100,290000,324900,366000,494700,479600,396900,638600,331700,311300,396300,324300,311900,434000,435200,270900,272800,227800,178700,449000,276200,207000,410500,427200,281300,223900,282700,317200,353600,423300,216900,177400,324100,170000,221400,250200,155900,154900,160300,173900,246300,265100,205600,138300,192300,250200,149200,137800,144000,268900,689100,265900,150800,209100,179300,244700,164800,175800,275500,649600,228500,209200,631100,213200,156600,170100,245800,461000,260000,252900,347700,227500,150600,165800,171000,200000,138400,161700,97100,122600,99900,137000,149500,284000,135600,122500,94400,129400,128000,147600,241800,248700,152000,178300,118800,129500,153300,96700,120800,150200,176100,84100,78400,201800,185000,249700,157200,167800,131900,134200,153600,199400,96800,130400,108700,75500,135100,114200,171500,157200,203100,173000,137800,284100,155400,679200,191300,134500,211200,160900,327700,196300,132000,201800,172100,263400,226200,214200,285400,308200,179800,207800,156600,163900,152400,175700,277700,197000,482500,603400,296800,536500,513100,428500,1024100,533900,305900,282400,329900,140000,426200,208200,190900,155200,219400,131300,255900,210300,195100,282400,240200,171100,151600,202700,258000,200200,269100,194100,232500,194900,252000,171700,152700,130000,167500,179800,187900,350100,208100,1568100,260200,207200,254100,161100,265900,250400,172000,117000,169500,224100,173500,183500,196600,180100,172800,164200,177700,133700,151200,194300,172600,121100,190200,505900,322600,282200,291100,304500,305000,340700,229800,216800,180500,215000,171200,208500,538400,235800,279200,177000,144300,170200,198000,165800,138900,145400,158500,241700,273800,217600,224100,119300,232000,227500,296600,156200,182400,189100,215900,218900,181500,387500,175600,132500,170500,181400,172800,105700,220200,213900,507500,385400,833700,299500,225500,294000,237200,238000,476900,287400,223500,352200,173700,286900,229200,316500,378400,345600,546900,401800,332600,294200,244400,304500,342400,368400,389200,213300,216700,189100,232000,149300,190200,249900,178300,211900,326400,237200,169500,195200,163600,231900,235300,143600,143700,154900,152100,219100,164900,130300,198600,299400,233100,240400,463100,409600,213300,156800,352100,149700,154900,149600,286900,209700,273800,224200,144200,136100,169900,192500,133800,117600,173100,156000,215500,193900,199800,190100,108800,98400,157000,135000,149800,272200,283800,247100,170600,138400,139800,163000,155500,139300,107800,208500,179000,277700,298000,206800,163700,165500,113900,184100,183200,165900,173800,157300,406300,214500,264300,233000,157600,157400,293100,209800,209000,284100,807400,274400,245900,306500,280000,527500,201600,175100,255500,248700,401800,295200,293000,413700,333900,337000,332800,361100,191500,364100,262800,221000,276600,249900,327400,288000,267700,229300,433100,358200,349000,241800,320500,241800,227300,138700,181500,142000,139200,230400,273900,181200,161100,173600,119700,207000,196100,200700,171500,68900,152800,122400,277900,192000,200300,237400,174800,167300,176400,221700,195800,242400,309500,495100,1251800,258000,228700,194300,204100,150700,134500,122800,159500,182100,229000,245400,247200,256100,236700,245900,244500,196600,207100,268300,260600,195400,318400,256300,206000,193200,169400,265500,237500,269200,272200,388700,397700,278900,224700,230500,186900,223200,167500,156100,200700,302300,292900,174400,221200,235600,219400,274400,466400,236600,204800,300200,379300,298400,254100,203200,243800,202500,257000,252900,216000,728100,337700,282600,273600,179300,242900,140800,176900,438400,449900,592700,802800,344800,338900,200300,322900,500600,343700,282300,217000,274900,184800,180600,184100,185200,228900,487400,515300,578400,494400,263800,313200,468400,440800,340400,246900,275500,164300,208900,111700,168000,169200,256100,256800,303800,147400,258800,372000,265500,246000,200500,526600,216200,252800,251700,297300,301600,163400,112600,178400,208700,289200,254200,864200,270500,255900,211800,445100,181800,157600,146500,248100,205300,92500,398100,393500,320800,327600,249200,299400,245400,160000,220600,189300,384500,326500,314000,190600,207700,197700,443200,490800,577800,292200,371900,345500,412300,233000,176000,187400,181800,113900,142600,179100,304400,291000,184300,191800,136100,141900,194100,109200,173800,160000,401500,541500,539500,433000,197500,164800,234300,239500,219200,415200,371500,977300,192200,164800,133400,206600,176100,158300,206600,182500,280600,416800,285000,178000,237200,206900,280300,129900,332600,293800,376100,298400,212000,312300,215100,242100,280200,276900,204000,471200,370100,351800,221900,238500,226500,250500,314900,322000,234200,207700,225700,172200,154800,315100,322700,258500,298300,257700,134100,184300,72000,245200,192000,295800,293600,327000,282700,328100,243600,280100,213500,195900,221900,345300,342700,556100,236900,376200,459900,160600,189400,148500,181100,187100,247500,327800,294000,329900,221100,193900,149200,275800,256100,198500,218400,188400,269100,223400,303100,164200,153900,208600,141800,224200,183200,395100,356100,620000,379800,334600,318700,247300,196100,245300,284700,303200,379300,324900,293400,260700,272500,276300,175200,164000,210700,299100,326300,306600,273100,191300,230900,186800,287400,146900,209600,246600,704000,203400,216200,156700,222700,124700,177700,283700,260800,418900,244900,308100,261400,246500,242400,284600,261200,463600,373000,219900,199900,272700,207200,265300,266700,350600,325700,257400,230200,159400,224000,395500,431600,453900,539800,368100,298500,275000,218800,195800,200500,168900,198300,184700,133300,171700,197600,211100,188400,157800,246800,248300,211900,444600,252400,237900,326700,228000,174700,254200,231500,256400,169600,201700,404100,279400,182500,593800,211200,231700,214400,228000,1208000,451500,489000,315900,345700,359300,489100,856300,673300,461600,433000,514000,589000,413800,248300,285500,310200,457700,610300,531700,510400,381500,489400,508400,356600,451100,425400,262700,208500,242500,176400,158400,281800,312100,160700,154900,200500,204000,306300,261000,190200,268900,312200,359400,283300,457200,284000,369300,1018200,492500,663800,272500,207100,351200,184600,412200,266600,392300,865000,179500,187900,174100,425900,1439300,11223200,813900,355100,363800,306400,290700,232400,277400,308800,230800,310600,271900,246000,194300,259600,304700,382800,287600,758800,500700,384500,496000,330000,425100],\"yaxis\":\"y\",\"type\":\"scattergl\"}],                        {\"template\":{\"data\":{\"histogram2dcontour\":[{\"type\":\"histogram2dcontour\",\"colorbar\":{\"outlinewidth\":0,\"ticks\":\"\"},\"colorscale\":[[0.0,\"#0d0887\"],[0.1111111111111111,\"#46039f\"],[0.2222222222222222,\"#7201a8\"],[0.3333333333333333,\"#9c179e\"],[0.4444444444444444,\"#bd3786\"],[0.5555555555555556,\"#d8576b\"],[0.6666666666666666,\"#ed7953\"],[0.7777777777777778,\"#fb9f3a\"],[0.8888888888888888,\"#fdca26\"],[1.0,\"#f0f921\"]]}],\"choropleth\":[{\"type\":\"choropleth\",\"colorbar\":{\"outlinewidth\":0,\"ticks\":\"\"}}],\"histogram2d\":[{\"type\":\"histogram2d\",\"colorbar\":{\"outlinewidth\":0,\"ticks\":\"\"},\"colorscale\":[[0.0,\"#0d0887\"],[0.1111111111111111,\"#46039f\"],[0.2222222222222222,\"#7201a8\"],[0.3333333333333333,\"#9c179e\"],[0.4444444444444444,\"#bd3786\"],[0.5555555555555556,\"#d8576b\"],[0.6666666666666666,\"#ed7953\"],[0.7777777777777778,\"#fb9f3a\"],[0.8888888888888888,\"#fdca26\"],[1.0,\"#f0f921\"]]}],\"heatmap\":[{\"type\":\"heatmap\",\"colorbar\":{\"outlinewidth\":0,\"ticks\":\"\"},\"colorscale\":[[0.0,\"#0d0887\"],[0.1111111111111111,\"#46039f\"],[0.2222222222222222,\"#7201a8\"],[0.3333333333333333,\"#9c179e\"],[0.4444444444444444,\"#bd3786\"],[0.5555555555555556,\"#d8576b\"],[0.6666666666666666,\"#ed7953\"],[0.7777777777777778,\"#fb9f3a\"],[0.8888888888888888,\"#fdca26\"],[1.0,\"#f0f921\"]]}],\"heatmapgl\":[{\"type\":\"heatmapgl\",\"colorbar\":{\"outlinewidth\":0,\"ticks\":\"\"},\"colorscale\":[[0.0,\"#0d0887\"],[0.1111111111111111,\"#46039f\"],[0.2222222222222222,\"#7201a8\"],[0.3333333333333333,\"#9c179e\"],[0.4444444444444444,\"#bd3786\"],[0.5555555555555556,\"#d8576b\"],[0.6666666666666666,\"#ed7953\"],[0.7777777777777778,\"#fb9f3a\"],[0.8888888888888888,\"#fdca26\"],[1.0,\"#f0f921\"]]}],\"contourcarpet\":[{\"type\":\"contourcarpet\",\"colorbar\":{\"outlinewidth\":0,\"ticks\":\"\"}}],\"contour\":[{\"type\":\"contour\",\"colorbar\":{\"outlinewidth\":0,\"ticks\":\"\"},\"colorscale\":[[0.0,\"#0d0887\"],[0.1111111111111111,\"#46039f\"],[0.2222222222222222,\"#7201a8\"],[0.3333333333333333,\"#9c179e\"],[0.4444444444444444,\"#bd3786\"],[0.5555555555555556,\"#d8576b\"],[0.6666666666666666,\"#ed7953\"],[0.7777777777777778,\"#fb9f3a\"],[0.8888888888888888,\"#fdca26\"],[1.0,\"#f0f921\"]]}],\"surface\":[{\"type\":\"surface\",\"colorbar\":{\"outlinewidth\":0,\"ticks\":\"\"},\"colorscale\":[[0.0,\"#0d0887\"],[0.1111111111111111,\"#46039f\"],[0.2222222222222222,\"#7201a8\"],[0.3333333333333333,\"#9c179e\"],[0.4444444444444444,\"#bd3786\"],[0.5555555555555556,\"#d8576b\"],[0.6666666666666666,\"#ed7953\"],[0.7777777777777778,\"#fb9f3a\"],[0.8888888888888888,\"#fdca26\"],[1.0,\"#f0f921\"]]}],\"mesh3d\":[{\"type\":\"mesh3d\",\"colorbar\":{\"outlinewidth\":0,\"ticks\":\"\"}}],\"scatter\":[{\"fillpattern\":{\"fillmode\":\"overlay\",\"size\":10,\"solidity\":0.2},\"type\":\"scatter\"}],\"parcoords\":[{\"type\":\"parcoords\",\"line\":{\"colorbar\":{\"outlinewidth\":0,\"ticks\":\"\"}}}],\"scatterpolargl\":[{\"type\":\"scatterpolargl\",\"marker\":{\"colorbar\":{\"outlinewidth\":0,\"ticks\":\"\"}}}],\"bar\":[{\"error_x\":{\"color\":\"#2a3f5f\"},\"error_y\":{\"color\":\"#2a3f5f\"},\"marker\":{\"line\":{\"color\":\"#E5ECF6\",\"width\":0.5},\"pattern\":{\"fillmode\":\"overlay\",\"size\":10,\"solidity\":0.2}},\"type\":\"bar\"}],\"scattergeo\":[{\"type\":\"scattergeo\",\"marker\":{\"colorbar\":{\"outlinewidth\":0,\"ticks\":\"\"}}}],\"scatterpolar\":[{\"type\":\"scatterpolar\",\"marker\":{\"colorbar\":{\"outlinewidth\":0,\"ticks\":\"\"}}}],\"histogram\":[{\"marker\":{\"pattern\":{\"fillmode\":\"overlay\",\"size\":10,\"solidity\":0.2}},\"type\":\"histogram\"}],\"scattergl\":[{\"type\":\"scattergl\",\"marker\":{\"colorbar\":{\"outlinewidth\":0,\"ticks\":\"\"}}}],\"scatter3d\":[{\"type\":\"scatter3d\",\"line\":{\"colorbar\":{\"outlinewidth\":0,\"ticks\":\"\"}},\"marker\":{\"colorbar\":{\"outlinewidth\":0,\"ticks\":\"\"}}}],\"scattermapbox\":[{\"type\":\"scattermapbox\",\"marker\":{\"colorbar\":{\"outlinewidth\":0,\"ticks\":\"\"}}}],\"scatterternary\":[{\"type\":\"scatterternary\",\"marker\":{\"colorbar\":{\"outlinewidth\":0,\"ticks\":\"\"}}}],\"scattercarpet\":[{\"type\":\"scattercarpet\",\"marker\":{\"colorbar\":{\"outlinewidth\":0,\"ticks\":\"\"}}}],\"carpet\":[{\"aaxis\":{\"endlinecolor\":\"#2a3f5f\",\"gridcolor\":\"white\",\"linecolor\":\"white\",\"minorgridcolor\":\"white\",\"startlinecolor\":\"#2a3f5f\"},\"baxis\":{\"endlinecolor\":\"#2a3f5f\",\"gridcolor\":\"white\",\"linecolor\":\"white\",\"minorgridcolor\":\"white\",\"startlinecolor\":\"#2a3f5f\"},\"type\":\"carpet\"}],\"table\":[{\"cells\":{\"fill\":{\"color\":\"#EBF0F8\"},\"line\":{\"color\":\"white\"}},\"header\":{\"fill\":{\"color\":\"#C8D4E3\"},\"line\":{\"color\":\"white\"}},\"type\":\"table\"}],\"barpolar\":[{\"marker\":{\"line\":{\"color\":\"#E5ECF6\",\"width\":0.5},\"pattern\":{\"fillmode\":\"overlay\",\"size\":10,\"solidity\":0.2}},\"type\":\"barpolar\"}],\"pie\":[{\"automargin\":true,\"type\":\"pie\"}]},\"layout\":{\"autotypenumbers\":\"strict\",\"colorway\":[\"#636efa\",\"#EF553B\",\"#00cc96\",\"#ab63fa\",\"#FFA15A\",\"#19d3f3\",\"#FF6692\",\"#B6E880\",\"#FF97FF\",\"#FECB52\"],\"font\":{\"color\":\"#2a3f5f\"},\"hovermode\":\"closest\",\"hoverlabel\":{\"align\":\"left\"},\"paper_bgcolor\":\"white\",\"plot_bgcolor\":\"#E5ECF6\",\"polar\":{\"bgcolor\":\"#E5ECF6\",\"angularaxis\":{\"gridcolor\":\"white\",\"linecolor\":\"white\",\"ticks\":\"\"},\"radialaxis\":{\"gridcolor\":\"white\",\"linecolor\":\"white\",\"ticks\":\"\"}},\"ternary\":{\"bgcolor\":\"#E5ECF6\",\"aaxis\":{\"gridcolor\":\"white\",\"linecolor\":\"white\",\"ticks\":\"\"},\"baxis\":{\"gridcolor\":\"white\",\"linecolor\":\"white\",\"ticks\":\"\"},\"caxis\":{\"gridcolor\":\"white\",\"linecolor\":\"white\",\"ticks\":\"\"}},\"coloraxis\":{\"colorbar\":{\"outlinewidth\":0,\"ticks\":\"\"}},\"colorscale\":{\"sequential\":[[0.0,\"#0d0887\"],[0.1111111111111111,\"#46039f\"],[0.2222222222222222,\"#7201a8\"],[0.3333333333333333,\"#9c179e\"],[0.4444444444444444,\"#bd3786\"],[0.5555555555555556,\"#d8576b\"],[0.6666666666666666,\"#ed7953\"],[0.7777777777777778,\"#fb9f3a\"],[0.8888888888888888,\"#fdca26\"],[1.0,\"#f0f921\"]],\"sequentialminus\":[[0.0,\"#0d0887\"],[0.1111111111111111,\"#46039f\"],[0.2222222222222222,\"#7201a8\"],[0.3333333333333333,\"#9c179e\"],[0.4444444444444444,\"#bd3786\"],[0.5555555555555556,\"#d8576b\"],[0.6666666666666666,\"#ed7953\"],[0.7777777777777778,\"#fb9f3a\"],[0.8888888888888888,\"#fdca26\"],[1.0,\"#f0f921\"]],\"diverging\":[[0,\"#8e0152\"],[0.1,\"#c51b7d\"],[0.2,\"#de77ae\"],[0.3,\"#f1b6da\"],[0.4,\"#fde0ef\"],[0.5,\"#f7f7f7\"],[0.6,\"#e6f5d0\"],[0.7,\"#b8e186\"],[0.8,\"#7fbc41\"],[0.9,\"#4d9221\"],[1,\"#276419\"]]},\"xaxis\":{\"gridcolor\":\"white\",\"linecolor\":\"white\",\"ticks\":\"\",\"title\":{\"standoff\":15},\"zerolinecolor\":\"white\",\"automargin\":true,\"zerolinewidth\":2},\"yaxis\":{\"gridcolor\":\"white\",\"linecolor\":\"white\",\"ticks\":\"\",\"title\":{\"standoff\":15},\"zerolinecolor\":\"white\",\"automargin\":true,\"zerolinewidth\":2},\"scene\":{\"xaxis\":{\"backgroundcolor\":\"#E5ECF6\",\"gridcolor\":\"white\",\"linecolor\":\"white\",\"showbackground\":true,\"ticks\":\"\",\"zerolinecolor\":\"white\",\"gridwidth\":2},\"yaxis\":{\"backgroundcolor\":\"#E5ECF6\",\"gridcolor\":\"white\",\"linecolor\":\"white\",\"showbackground\":true,\"ticks\":\"\",\"zerolinecolor\":\"white\",\"gridwidth\":2},\"zaxis\":{\"backgroundcolor\":\"#E5ECF6\",\"gridcolor\":\"white\",\"linecolor\":\"white\",\"showbackground\":true,\"ticks\":\"\",\"zerolinecolor\":\"white\",\"gridwidth\":2}},\"shapedefaults\":{\"line\":{\"color\":\"#2a3f5f\"}},\"annotationdefaults\":{\"arrowcolor\":\"#2a3f5f\",\"arrowhead\":0,\"arrowwidth\":1},\"geo\":{\"bgcolor\":\"white\",\"landcolor\":\"#E5ECF6\",\"subunitcolor\":\"white\",\"showland\":true,\"showlakes\":true,\"lakecolor\":\"white\"},\"title\":{\"x\":0.05},\"mapbox\":{\"style\":\"light\"}}},\"xaxis\":{\"anchor\":\"y\",\"domain\":[0.0,1.0],\"title\":{\"text\":\"Date\"}},\"yaxis\":{\"anchor\":\"x\",\"domain\":[0.0,1.0],\"title\":{\"text\":\"y\"}},\"legend\":{\"tracegroupgap\":0},\"title\":{\"text\":\"Trading Volume ENSG\"}},                        {\"responsive\": true}                    ).then(function(){\n",
       "                            \n",
       "var gd = document.getElementById('b056119a-233d-4426-b36e-40c077572605');\n",
       "var x = new MutationObserver(function (mutations, observer) {{\n",
       "        var display = window.getComputedStyle(gd).display;\n",
       "        if (!display || display === 'none') {{\n",
       "            console.log([gd, 'removed!']);\n",
       "            Plotly.purge(gd);\n",
       "            observer.disconnect();\n",
       "        }}\n",
       "}});\n",
       "\n",
       "// Listen for the removal of the full notebook cells\n",
       "var notebookContainer = gd.closest('#notebook-container');\n",
       "if (notebookContainer) {{\n",
       "    x.observe(notebookContainer, {childList: true});\n",
       "}}\n",
       "\n",
       "// Listen for the clearing of the current output cell\n",
       "var outputEl = gd.closest('.output');\n",
       "if (outputEl) {{\n",
       "    x.observe(outputEl, {childList: true});\n",
       "}}\n",
       "\n",
       "                        })                };                });            </script>        </div>"
      ]
     },
     "metadata": {},
     "output_type": "display_data"
    }
   ],
   "source": [
    "#Volume anlysis\n",
    "fig_volume = px.line(df_ensign, x=df_ensign.index, y=df_ensign['Volume'].values.squeeze(), title='Trading Volume ENSG')\n",
    "fig_volume.show()"
   ]
  },
  {
   "cell_type": "code",
   "execution_count": 644,
   "id": "2e48f1d3-4d7c-4061-a08c-214da7075d09",
   "metadata": {},
   "outputs": [
    {
     "data": {
      "text/html": [
       "<div>\n",
       "<style scoped>\n",
       "    .dataframe tbody tr th:only-of-type {\n",
       "        vertical-align: middle;\n",
       "    }\n",
       "\n",
       "    .dataframe tbody tr th {\n",
       "        vertical-align: top;\n",
       "    }\n",
       "\n",
       "    .dataframe thead th {\n",
       "        text-align: right;\n",
       "    }\n",
       "</style>\n",
       "<table border=\"1\" class=\"dataframe\">\n",
       "  <thead>\n",
       "    <tr style=\"text-align: right;\">\n",
       "      <th></th>\n",
       "      <th>open</th>\n",
       "      <th>high</th>\n",
       "      <th>low</th>\n",
       "      <th>close</th>\n",
       "      <th>adj close</th>\n",
       "      <th>volume</th>\n",
       "      <th>daily_returns</th>\n",
       "      <th>monthly_returns</th>\n",
       "      <th>annual_returns</th>\n",
       "      <th>daily_range</th>\n",
       "    </tr>\n",
       "  </thead>\n",
       "  <tbody>\n",
       "    <tr>\n",
       "      <th>mean</th>\n",
       "      <td>85.644</td>\n",
       "      <td>86.824</td>\n",
       "      <td>84.483</td>\n",
       "      <td>85.695</td>\n",
       "      <td>85.303</td>\n",
       "      <td>286427.981</td>\n",
       "      <td>0.134</td>\n",
       "      <td>0.134</td>\n",
       "      <td>40.198</td>\n",
       "      <td>2.341</td>\n",
       "    </tr>\n",
       "    <tr>\n",
       "      <th>std</th>\n",
       "      <td>27.109</td>\n",
       "      <td>27.209</td>\n",
       "      <td>27.013</td>\n",
       "      <td>27.135</td>\n",
       "      <td>27.290</td>\n",
       "      <td>344907.611</td>\n",
       "      <td>2.522</td>\n",
       "      <td>2.522</td>\n",
       "      <td>22.951</td>\n",
       "      <td>1.185</td>\n",
       "    </tr>\n",
       "  </tbody>\n",
       "</table>\n",
       "</div>"
      ],
      "text/plain": [
       "        open    high     low   close  adj close      volume  daily_returns  \\\n",
       "mean  85.644  86.824  84.483  85.695     85.303  286427.981          0.134   \n",
       "std   27.109  27.209  27.013  27.135     27.290  344907.611          2.522   \n",
       "\n",
       "      monthly_returns  annual_returns  daily_range  \n",
       "mean            0.134          40.198        2.341  \n",
       "std             2.522          22.951        1.185  "
      ]
     },
     "metadata": {},
     "output_type": "display_data"
    }
   ],
   "source": [
    "# Summmary of data\n",
    "\n",
    "summary_stats = df_ensign[['Open', 'High', 'Low', 'Close', 'Adj Close', 'Volume', \n",
    "                      'daily_returns', 'monthly_returns', 'annual_returns', 'daily_range']].agg(['mean', 'std'])\n",
    "summary_stats=summary_stats.round(3)\n",
    "\n",
    "summary_stats.columns = [''.join(col).lower().replace('ensg', '') for col in summary_stats.columns]\n",
    "\n",
    "display(summary_stats)"
   ]
  },
  {
   "cell_type": "code",
   "execution_count": 646,
   "id": "fe2d018b-2401-435c-8f0c-eceb0f8c3eec",
   "metadata": {},
   "outputs": [
    {
     "data": {
      "text/html": [
       "<div>\n",
       "<style scoped>\n",
       "    .dataframe tbody tr th:only-of-type {\n",
       "        vertical-align: middle;\n",
       "    }\n",
       "\n",
       "    .dataframe tbody tr th {\n",
       "        vertical-align: top;\n",
       "    }\n",
       "\n",
       "    .dataframe thead tr th {\n",
       "        text-align: left;\n",
       "    }\n",
       "</style>\n",
       "<table border=\"1\" class=\"dataframe\">\n",
       "  <thead>\n",
       "    <tr>\n",
       "      <th>Price</th>\n",
       "      <th>Adj Close</th>\n",
       "      <th>Close</th>\n",
       "      <th>High</th>\n",
       "      <th>Low</th>\n",
       "      <th>Open</th>\n",
       "      <th>Volume</th>\n",
       "      <th>daily_returns</th>\n",
       "      <th>monthly_returns</th>\n",
       "      <th>annual_returns</th>\n",
       "      <th>daily_range</th>\n",
       "    </tr>\n",
       "    <tr>\n",
       "      <th>Ticker</th>\n",
       "      <th>ENSG</th>\n",
       "      <th>ENSG</th>\n",
       "      <th>ENSG</th>\n",
       "      <th>ENSG</th>\n",
       "      <th>ENSG</th>\n",
       "      <th>ENSG</th>\n",
       "      <th></th>\n",
       "      <th></th>\n",
       "      <th></th>\n",
       "      <th></th>\n",
       "    </tr>\n",
       "  </thead>\n",
       "  <tbody>\n",
       "    <tr>\n",
       "      <th>count</th>\n",
       "      <td>1258.000000</td>\n",
       "      <td>1258.000000</td>\n",
       "      <td>1258.000000</td>\n",
       "      <td>1258.000000</td>\n",
       "      <td>1258.000000</td>\n",
       "      <td>1.258000e+03</td>\n",
       "      <td>1258.000000</td>\n",
       "      <td>1258.000000</td>\n",
       "      <td>546.000000</td>\n",
       "      <td>1258.000000</td>\n",
       "    </tr>\n",
       "    <tr>\n",
       "      <th>mean</th>\n",
       "      <td>85.303221</td>\n",
       "      <td>85.694642</td>\n",
       "      <td>86.823998</td>\n",
       "      <td>84.482957</td>\n",
       "      <td>85.644380</td>\n",
       "      <td>2.864280e+05</td>\n",
       "      <td>0.134170</td>\n",
       "      <td>0.134170</td>\n",
       "      <td>40.198182</td>\n",
       "      <td>2.341041</td>\n",
       "    </tr>\n",
       "    <tr>\n",
       "      <th>std</th>\n",
       "      <td>27.289685</td>\n",
       "      <td>27.135188</td>\n",
       "      <td>27.209022</td>\n",
       "      <td>27.012716</td>\n",
       "      <td>27.109005</td>\n",
       "      <td>3.449076e+05</td>\n",
       "      <td>2.522260</td>\n",
       "      <td>2.522260</td>\n",
       "      <td>22.951028</td>\n",
       "      <td>1.185394</td>\n",
       "    </tr>\n",
       "    <tr>\n",
       "      <th>min</th>\n",
       "      <td>24.668566</td>\n",
       "      <td>24.990000</td>\n",
       "      <td>28.020000</td>\n",
       "      <td>24.059999</td>\n",
       "      <td>25.760000</td>\n",
       "      <td>4.070000e+04</td>\n",
       "      <td>-22.307882</td>\n",
       "      <td>-22.307882</td>\n",
       "      <td>15.430950</td>\n",
       "      <td>0.459999</td>\n",
       "    </tr>\n",
       "    <tr>\n",
       "      <th>25%</th>\n",
       "      <td>73.248722</td>\n",
       "      <td>73.702501</td>\n",
       "      <td>75.015001</td>\n",
       "      <td>72.515001</td>\n",
       "      <td>73.785000</td>\n",
       "      <td>1.857750e+05</td>\n",
       "      <td>-1.063571</td>\n",
       "      <td>-1.063571</td>\n",
       "      <td>15.430950</td>\n",
       "      <td>1.559998</td>\n",
       "    </tr>\n",
       "    <tr>\n",
       "      <th>50%</th>\n",
       "      <td>85.097912</td>\n",
       "      <td>85.579998</td>\n",
       "      <td>86.965000</td>\n",
       "      <td>84.305000</td>\n",
       "      <td>85.805000</td>\n",
       "      <td>2.395500e+05</td>\n",
       "      <td>0.113241</td>\n",
       "      <td>0.113241</td>\n",
       "      <td>61.427238</td>\n",
       "      <td>2.084999</td>\n",
       "    </tr>\n",
       "    <tr>\n",
       "      <th>75%</th>\n",
       "      <td>95.351961</td>\n",
       "      <td>95.655003</td>\n",
       "      <td>96.934999</td>\n",
       "      <td>94.537498</td>\n",
       "      <td>95.772499</td>\n",
       "      <td>3.202750e+05</td>\n",
       "      <td>1.187354</td>\n",
       "      <td>1.187354</td>\n",
       "      <td>61.427238</td>\n",
       "      <td>2.800003</td>\n",
       "    </tr>\n",
       "    <tr>\n",
       "      <th>max</th>\n",
       "      <td>156.910004</td>\n",
       "      <td>156.910004</td>\n",
       "      <td>158.220001</td>\n",
       "      <td>155.429993</td>\n",
       "      <td>158.100006</td>\n",
       "      <td>1.122320e+07</td>\n",
       "      <td>20.790394</td>\n",
       "      <td>20.790394</td>\n",
       "      <td>61.427238</td>\n",
       "      <td>12.190002</td>\n",
       "    </tr>\n",
       "  </tbody>\n",
       "</table>\n",
       "</div>"
      ],
      "text/plain": [
       "Price     Adj Close        Close         High          Low         Open  \\\n",
       "Ticker         ENSG         ENSG         ENSG         ENSG         ENSG   \n",
       "count   1258.000000  1258.000000  1258.000000  1258.000000  1258.000000   \n",
       "mean      85.303221    85.694642    86.823998    84.482957    85.644380   \n",
       "std       27.289685    27.135188    27.209022    27.012716    27.109005   \n",
       "min       24.668566    24.990000    28.020000    24.059999    25.760000   \n",
       "25%       73.248722    73.702501    75.015001    72.515001    73.785000   \n",
       "50%       85.097912    85.579998    86.965000    84.305000    85.805000   \n",
       "75%       95.351961    95.655003    96.934999    94.537498    95.772499   \n",
       "max      156.910004   156.910004   158.220001   155.429993   158.100006   \n",
       "\n",
       "Price         Volume daily_returns monthly_returns annual_returns  daily_range  \n",
       "Ticker          ENSG                                                            \n",
       "count   1.258000e+03   1258.000000     1258.000000     546.000000  1258.000000  \n",
       "mean    2.864280e+05      0.134170        0.134170      40.198182     2.341041  \n",
       "std     3.449076e+05      2.522260        2.522260      22.951028     1.185394  \n",
       "min     4.070000e+04    -22.307882      -22.307882      15.430950     0.459999  \n",
       "25%     1.857750e+05     -1.063571       -1.063571      15.430950     1.559998  \n",
       "50%     2.395500e+05      0.113241        0.113241      61.427238     2.084999  \n",
       "75%     3.202750e+05      1.187354        1.187354      61.427238     2.800003  \n",
       "max     1.122320e+07     20.790394       20.790394      61.427238    12.190002  "
      ]
     },
     "execution_count": 646,
     "metadata": {},
     "output_type": "execute_result"
    }
   ],
   "source": [
    "df_ensign.describe()\n"
   ]
  },
  {
   "cell_type": "code",
   "execution_count": 648,
   "id": "70ca4f8d-1330-417b-9382-9cfb0802c2cf",
   "metadata": {},
   "outputs": [],
   "source": [
    "#csv file\n",
    "summary_stats.to_csv('ENSG_anlysis.csv', index=False)"
   ]
  },
  {
   "cell_type": "code",
   "execution_count": null,
   "id": "fab161a8-e58e-4a97-8e71-9e4eefe86197",
   "metadata": {},
   "outputs": [],
   "source": []
  },
  {
   "cell_type": "code",
   "execution_count": null,
   "id": "74efbf7e-28d6-48fb-a227-a1fa81046227",
   "metadata": {},
   "outputs": [],
   "source": []
  },
  {
   "cell_type": "code",
   "execution_count": 391,
   "id": "e1a84c62-c481-4d68-8b65-4b5f6b93b107",
   "metadata": {},
   "outputs": [
    {
     "data": {
      "text/html": [
       "<div>\n",
       "<style scoped>\n",
       "    .dataframe tbody tr th:only-of-type {\n",
       "        vertical-align: middle;\n",
       "    }\n",
       "\n",
       "    .dataframe tbody tr th {\n",
       "        vertical-align: top;\n",
       "    }\n",
       "\n",
       "    .dataframe thead tr th {\n",
       "        text-align: left;\n",
       "    }\n",
       "\n",
       "    .dataframe thead tr:last-of-type th {\n",
       "        text-align: right;\n",
       "    }\n",
       "</style>\n",
       "<table border=\"1\" class=\"dataframe\">\n",
       "  <thead>\n",
       "    <tr>\n",
       "      <th>Price</th>\n",
       "      <th>Adj Close</th>\n",
       "      <th>Close</th>\n",
       "      <th>High</th>\n",
       "      <th>Low</th>\n",
       "      <th>Open</th>\n",
       "      <th>Volume</th>\n",
       "      <th>daily_returns</th>\n",
       "      <th>monthly_returns</th>\n",
       "      <th>annual_returns</th>\n",
       "      <th>daily_range</th>\n",
       "    </tr>\n",
       "    <tr>\n",
       "      <th>Ticker</th>\n",
       "      <th>ENSG</th>\n",
       "      <th>ENSG</th>\n",
       "      <th>ENSG</th>\n",
       "      <th>ENSG</th>\n",
       "      <th>ENSG</th>\n",
       "      <th>ENSG</th>\n",
       "      <th></th>\n",
       "      <th></th>\n",
       "      <th></th>\n",
       "      <th></th>\n",
       "    </tr>\n",
       "    <tr>\n",
       "      <th>Date</th>\n",
       "      <th></th>\n",
       "      <th></th>\n",
       "      <th></th>\n",
       "      <th></th>\n",
       "      <th></th>\n",
       "      <th></th>\n",
       "      <th></th>\n",
       "      <th></th>\n",
       "      <th></th>\n",
       "      <th></th>\n",
       "    </tr>\n",
       "  </thead>\n",
       "  <tbody>\n",
       "    <tr>\n",
       "      <th>2019-11-30</th>\n",
       "      <td>42.823</td>\n",
       "      <td>43.43</td>\n",
       "      <td>43.86</td>\n",
       "      <td>43.34</td>\n",
       "      <td>43.57</td>\n",
       "      <td>76200</td>\n",
       "      <td>-0.822178</td>\n",
       "      <td>-0.822178</td>\n",
       "      <td>61.427678</td>\n",
       "      <td>0.52</td>\n",
       "    </tr>\n",
       "    <tr>\n",
       "      <th>2019-12-31</th>\n",
       "      <td>44.786</td>\n",
       "      <td>45.37</td>\n",
       "      <td>45.46</td>\n",
       "      <td>44.23</td>\n",
       "      <td>44.48</td>\n",
       "      <td>232000</td>\n",
       "      <td>1.932312</td>\n",
       "      <td>1.932312</td>\n",
       "      <td>61.427678</td>\n",
       "      <td>1.23</td>\n",
       "    </tr>\n",
       "    <tr>\n",
       "      <th>2020-01-31</th>\n",
       "      <td>44.619</td>\n",
       "      <td>45.20</td>\n",
       "      <td>46.64</td>\n",
       "      <td>45.03</td>\n",
       "      <td>46.17</td>\n",
       "      <td>203500</td>\n",
       "      <td>-2.438011</td>\n",
       "      <td>-2.438011</td>\n",
       "      <td>61.427678</td>\n",
       "      <td>1.61</td>\n",
       "    </tr>\n",
       "    <tr>\n",
       "      <th>2020-02-29</th>\n",
       "      <td>43.928</td>\n",
       "      <td>44.50</td>\n",
       "      <td>45.75</td>\n",
       "      <td>43.64</td>\n",
       "      <td>44.40</td>\n",
       "      <td>374400</td>\n",
       "      <td>-3.112111</td>\n",
       "      <td>-3.112111</td>\n",
       "      <td>61.427678</td>\n",
       "      <td>2.11</td>\n",
       "    </tr>\n",
       "    <tr>\n",
       "      <th>2020-03-31</th>\n",
       "      <td>37.181</td>\n",
       "      <td>37.61</td>\n",
       "      <td>39.77</td>\n",
       "      <td>36.71</td>\n",
       "      <td>37.88</td>\n",
       "      <td>587000</td>\n",
       "      <td>-1.979859</td>\n",
       "      <td>-1.979859</td>\n",
       "      <td>61.427678</td>\n",
       "      <td>3.06</td>\n",
       "    </tr>\n",
       "    <tr>\n",
       "      <th>2020-04-30</th>\n",
       "      <td>36.983</td>\n",
       "      <td>37.41</td>\n",
       "      <td>39.97</td>\n",
       "      <td>37.33</td>\n",
       "      <td>39.79</td>\n",
       "      <td>580200</td>\n",
       "      <td>-8.196599</td>\n",
       "      <td>-8.196599</td>\n",
       "      <td>61.427678</td>\n",
       "      <td>2.64</td>\n",
       "    </tr>\n",
       "    <tr>\n",
       "      <th>2020-05-31</th>\n",
       "      <td>43.221</td>\n",
       "      <td>43.72</td>\n",
       "      <td>44.77</td>\n",
       "      <td>43.45</td>\n",
       "      <td>44.33</td>\n",
       "      <td>511000</td>\n",
       "      <td>-2.499492</td>\n",
       "      <td>-2.499492</td>\n",
       "      <td>61.427678</td>\n",
       "      <td>1.32</td>\n",
       "    </tr>\n",
       "    <tr>\n",
       "      <th>2020-06-30</th>\n",
       "      <td>41.426</td>\n",
       "      <td>41.85</td>\n",
       "      <td>41.97</td>\n",
       "      <td>40.17</td>\n",
       "      <td>40.28</td>\n",
       "      <td>379400</td>\n",
       "      <td>3.384078</td>\n",
       "      <td>3.384078</td>\n",
       "      <td>61.427678</td>\n",
       "      <td>1.80</td>\n",
       "    </tr>\n",
       "    <tr>\n",
       "      <th>2020-07-31</th>\n",
       "      <td>45.524</td>\n",
       "      <td>45.99</td>\n",
       "      <td>46.55</td>\n",
       "      <td>44.47</td>\n",
       "      <td>46.09</td>\n",
       "      <td>293900</td>\n",
       "      <td>-1.202309</td>\n",
       "      <td>-1.202309</td>\n",
       "      <td>61.427678</td>\n",
       "      <td>2.08</td>\n",
       "    </tr>\n",
       "    <tr>\n",
       "      <th>2020-08-31</th>\n",
       "      <td>57.947</td>\n",
       "      <td>58.54</td>\n",
       "      <td>59.36</td>\n",
       "      <td>58.43</td>\n",
       "      <td>58.51</td>\n",
       "      <td>251800</td>\n",
       "      <td>-0.170554</td>\n",
       "      <td>-0.170554</td>\n",
       "      <td>61.427678</td>\n",
       "      <td>0.93</td>\n",
       "    </tr>\n",
       "    <tr>\n",
       "      <th>2020-09-30</th>\n",
       "      <td>56.532</td>\n",
       "      <td>57.06</td>\n",
       "      <td>57.75</td>\n",
       "      <td>56.10</td>\n",
       "      <td>56.10</td>\n",
       "      <td>290700</td>\n",
       "      <td>1.857624</td>\n",
       "      <td>1.857624</td>\n",
       "      <td>61.427678</td>\n",
       "      <td>1.65</td>\n",
       "    </tr>\n",
       "    <tr>\n",
       "      <th>2020-10-31</th>\n",
       "      <td>58.295</td>\n",
       "      <td>58.84</td>\n",
       "      <td>61.23</td>\n",
       "      <td>57.50</td>\n",
       "      <td>59.49</td>\n",
       "      <td>379200</td>\n",
       "      <td>-1.457139</td>\n",
       "      <td>-1.457139</td>\n",
       "      <td>61.427678</td>\n",
       "      <td>3.73</td>\n",
       "    </tr>\n",
       "    <tr>\n",
       "      <th>2020-11-30</th>\n",
       "      <td>71.205</td>\n",
       "      <td>71.87</td>\n",
       "      <td>73.43</td>\n",
       "      <td>71.29</td>\n",
       "      <td>71.53</td>\n",
       "      <td>308700</td>\n",
       "      <td>0.434433</td>\n",
       "      <td>0.434433</td>\n",
       "      <td>61.427678</td>\n",
       "      <td>2.14</td>\n",
       "    </tr>\n",
       "    <tr>\n",
       "      <th>2020-12-31</th>\n",
       "      <td>72.297</td>\n",
       "      <td>72.92</td>\n",
       "      <td>73.36</td>\n",
       "      <td>71.52</td>\n",
       "      <td>72.98</td>\n",
       "      <td>317500</td>\n",
       "      <td>0.012450</td>\n",
       "      <td>0.012450</td>\n",
       "      <td>61.427678</td>\n",
       "      <td>1.84</td>\n",
       "    </tr>\n",
       "    <tr>\n",
       "      <th>2021-01-31</th>\n",
       "      <td>77.612</td>\n",
       "      <td>78.28</td>\n",
       "      <td>82.33</td>\n",
       "      <td>77.35</td>\n",
       "      <td>80.80</td>\n",
       "      <td>330400</td>\n",
       "      <td>-3.784789</td>\n",
       "      <td>-3.784789</td>\n",
       "      <td>15.432176</td>\n",
       "      <td>4.98</td>\n",
       "    </tr>\n",
       "    <tr>\n",
       "      <th>2021-02-28</th>\n",
       "      <td>81.320</td>\n",
       "      <td>82.02</td>\n",
       "      <td>83.53</td>\n",
       "      <td>80.52</td>\n",
       "      <td>81.62</td>\n",
       "      <td>249800</td>\n",
       "      <td>1.347225</td>\n",
       "      <td>1.347225</td>\n",
       "      <td>15.432176</td>\n",
       "      <td>3.01</td>\n",
       "    </tr>\n",
       "    <tr>\n",
       "      <th>2021-03-31</th>\n",
       "      <td>93.093</td>\n",
       "      <td>93.84</td>\n",
       "      <td>94.65</td>\n",
       "      <td>92.23</td>\n",
       "      <td>92.98</td>\n",
       "      <td>638600</td>\n",
       "      <td>1.284925</td>\n",
       "      <td>1.284925</td>\n",
       "      <td>15.432176</td>\n",
       "      <td>2.42</td>\n",
       "    </tr>\n",
       "    <tr>\n",
       "      <th>2021-04-30</th>\n",
       "      <td>85.167</td>\n",
       "      <td>85.85</td>\n",
       "      <td>88.76</td>\n",
       "      <td>76.95</td>\n",
       "      <td>85.50</td>\n",
       "      <td>353600</td>\n",
       "      <td>-0.957088</td>\n",
       "      <td>-0.957088</td>\n",
       "      <td>15.432176</td>\n",
       "      <td>11.81</td>\n",
       "    </tr>\n",
       "    <tr>\n",
       "      <th>2021-05-31</th>\n",
       "      <td>82.538</td>\n",
       "      <td>83.20</td>\n",
       "      <td>83.77</td>\n",
       "      <td>82.23</td>\n",
       "      <td>82.23</td>\n",
       "      <td>144000</td>\n",
       "      <td>1.216491</td>\n",
       "      <td>1.216491</td>\n",
       "      <td>15.432176</td>\n",
       "      <td>1.54</td>\n",
       "    </tr>\n",
       "    <tr>\n",
       "      <th>2021-06-30</th>\n",
       "      <td>86.031</td>\n",
       "      <td>86.67</td>\n",
       "      <td>88.13</td>\n",
       "      <td>85.66</td>\n",
       "      <td>87.67</td>\n",
       "      <td>347700</td>\n",
       "      <td>-1.656379</td>\n",
       "      <td>-1.656379</td>\n",
       "      <td>15.432176</td>\n",
       "      <td>2.47</td>\n",
       "    </tr>\n",
       "    <tr>\n",
       "      <th>2021-07-31</th>\n",
       "      <td>84.443</td>\n",
       "      <td>85.07</td>\n",
       "      <td>86.41</td>\n",
       "      <td>83.25</td>\n",
       "      <td>83.31</td>\n",
       "      <td>248700</td>\n",
       "      <td>1.990458</td>\n",
       "      <td>1.990458</td>\n",
       "      <td>15.432176</td>\n",
       "      <td>3.16</td>\n",
       "    </tr>\n",
       "    <tr>\n",
       "      <th>2021-08-31</th>\n",
       "      <td>81.068</td>\n",
       "      <td>81.67</td>\n",
       "      <td>81.72</td>\n",
       "      <td>80.56</td>\n",
       "      <td>81.38</td>\n",
       "      <td>130400</td>\n",
       "      <td>0.381377</td>\n",
       "      <td>0.381377</td>\n",
       "      <td>15.432176</td>\n",
       "      <td>1.16</td>\n",
       "    </tr>\n",
       "    <tr>\n",
       "      <th>2021-09-30</th>\n",
       "      <td>74.390</td>\n",
       "      <td>74.89</td>\n",
       "      <td>76.16</td>\n",
       "      <td>74.29</td>\n",
       "      <td>75.73</td>\n",
       "      <td>172100</td>\n",
       "      <td>-0.385656</td>\n",
       "      <td>-0.385656</td>\n",
       "      <td>15.432176</td>\n",
       "      <td>1.87</td>\n",
       "    </tr>\n",
       "    <tr>\n",
       "      <th>2021-10-31</th>\n",
       "      <td>77.489</td>\n",
       "      <td>78.01</td>\n",
       "      <td>78.68</td>\n",
       "      <td>74.45</td>\n",
       "      <td>75.09</td>\n",
       "      <td>533900</td>\n",
       "      <td>2.401152</td>\n",
       "      <td>2.401152</td>\n",
       "      <td>15.432176</td>\n",
       "      <td>4.23</td>\n",
       "    </tr>\n",
       "    <tr>\n",
       "      <th>2021-11-30</th>\n",
       "      <td>75.821</td>\n",
       "      <td>76.33</td>\n",
       "      <td>78.27</td>\n",
       "      <td>76.02</td>\n",
       "      <td>77.14</td>\n",
       "      <td>269100</td>\n",
       "      <td>-1.126687</td>\n",
       "      <td>-1.126687</td>\n",
       "      <td>15.432176</td>\n",
       "      <td>2.25</td>\n",
       "    </tr>\n",
       "    <tr>\n",
       "      <th>2021-12-31</th>\n",
       "      <td>83.454</td>\n",
       "      <td>83.96</td>\n",
       "      <td>84.21</td>\n",
       "      <td>82.95</td>\n",
       "      <td>83.55</td>\n",
       "      <td>169500</td>\n",
       "      <td>0.299261</td>\n",
       "      <td>0.299261</td>\n",
       "      <td>15.432176</td>\n",
       "      <td>1.26</td>\n",
       "    </tr>\n",
       "    <tr>\n",
       "      <th>2022-01-31</th>\n",
       "      <td>74.975</td>\n",
       "      <td>75.43</td>\n",
       "      <td>75.59</td>\n",
       "      <td>73.49</td>\n",
       "      <td>73.49</td>\n",
       "      <td>305000</td>\n",
       "      <td>1.945774</td>\n",
       "      <td>1.945774</td>\n",
       "      <td>NaN</td>\n",
       "      <td>2.10</td>\n",
       "    </tr>\n",
       "    <tr>\n",
       "      <th>2022-02-28</th>\n",
       "      <td>83.533</td>\n",
       "      <td>84.04</td>\n",
       "      <td>84.57</td>\n",
       "      <td>81.13</td>\n",
       "      <td>81.13</td>\n",
       "      <td>241700</td>\n",
       "      <td>2.251083</td>\n",
       "      <td>2.251083</td>\n",
       "      <td>NaN</td>\n",
       "      <td>3.44</td>\n",
       "    </tr>\n",
       "    <tr>\n",
       "      <th>2022-03-31</th>\n",
       "      <td>89.523</td>\n",
       "      <td>90.01</td>\n",
       "      <td>91.02</td>\n",
       "      <td>88.94</td>\n",
       "      <td>88.94</td>\n",
       "      <td>507500</td>\n",
       "      <td>0.739315</td>\n",
       "      <td>0.739315</td>\n",
       "      <td>NaN</td>\n",
       "      <td>2.08</td>\n",
       "    </tr>\n",
       "    <tr>\n",
       "      <th>2022-04-30</th>\n",
       "      <td>79.895</td>\n",
       "      <td>80.33</td>\n",
       "      <td>83.53</td>\n",
       "      <td>79.59</td>\n",
       "      <td>81.25</td>\n",
       "      <td>332600</td>\n",
       "      <td>-2.000589</td>\n",
       "      <td>-2.000589</td>\n",
       "      <td>NaN</td>\n",
       "      <td>3.94</td>\n",
       "    </tr>\n",
       "    <tr>\n",
       "      <th>2022-05-31</th>\n",
       "      <td>80.730</td>\n",
       "      <td>81.17</td>\n",
       "      <td>82.61</td>\n",
       "      <td>80.85</td>\n",
       "      <td>81.86</td>\n",
       "      <td>231900</td>\n",
       "      <td>-1.505539</td>\n",
       "      <td>-1.505539</td>\n",
       "      <td>NaN</td>\n",
       "      <td>1.76</td>\n",
       "    </tr>\n",
       "    <tr>\n",
       "      <th>2022-06-30</th>\n",
       "      <td>73.127</td>\n",
       "      <td>73.47</td>\n",
       "      <td>75.30</td>\n",
       "      <td>72.99</td>\n",
       "      <td>74.52</td>\n",
       "      <td>286900</td>\n",
       "      <td>-2.791551</td>\n",
       "      <td>-2.791551</td>\n",
       "      <td>NaN</td>\n",
       "      <td>2.31</td>\n",
       "    </tr>\n",
       "    <tr>\n",
       "      <th>2022-07-31</th>\n",
       "      <td>79.317</td>\n",
       "      <td>79.69</td>\n",
       "      <td>79.97</td>\n",
       "      <td>78.23</td>\n",
       "      <td>79.56</td>\n",
       "      <td>149800</td>\n",
       "      <td>-0.325475</td>\n",
       "      <td>-0.325475</td>\n",
       "      <td>NaN</td>\n",
       "      <td>1.74</td>\n",
       "    </tr>\n",
       "    <tr>\n",
       "      <th>2022-08-31</th>\n",
       "      <td>84.901</td>\n",
       "      <td>85.30</td>\n",
       "      <td>86.24</td>\n",
       "      <td>84.14</td>\n",
       "      <td>85.08</td>\n",
       "      <td>157300</td>\n",
       "      <td>0.720099</td>\n",
       "      <td>0.720099</td>\n",
       "      <td>NaN</td>\n",
       "      <td>2.10</td>\n",
       "    </tr>\n",
       "    <tr>\n",
       "      <th>2022-09-30</th>\n",
       "      <td>79.182</td>\n",
       "      <td>79.50</td>\n",
       "      <td>82.00</td>\n",
       "      <td>79.42</td>\n",
       "      <td>81.25</td>\n",
       "      <td>401800</td>\n",
       "      <td>-1.790986</td>\n",
       "      <td>-1.790986</td>\n",
       "      <td>NaN</td>\n",
       "      <td>2.58</td>\n",
       "    </tr>\n",
       "    <tr>\n",
       "      <th>2022-10-31</th>\n",
       "      <td>89.421</td>\n",
       "      <td>89.78</td>\n",
       "      <td>91.43</td>\n",
       "      <td>89.18</td>\n",
       "      <td>89.52</td>\n",
       "      <td>241800</td>\n",
       "      <td>-0.199777</td>\n",
       "      <td>-0.199777</td>\n",
       "      <td>NaN</td>\n",
       "      <td>2.25</td>\n",
       "    </tr>\n",
       "    <tr>\n",
       "      <th>2022-11-30</th>\n",
       "      <td>94.620</td>\n",
       "      <td>95.00</td>\n",
       "      <td>95.06</td>\n",
       "      <td>91.92</td>\n",
       "      <td>92.92</td>\n",
       "      <td>277900</td>\n",
       "      <td>1.898618</td>\n",
       "      <td>1.898618</td>\n",
       "      <td>NaN</td>\n",
       "      <td>3.14</td>\n",
       "    </tr>\n",
       "    <tr>\n",
       "      <th>2022-12-31</th>\n",
       "      <td>94.290</td>\n",
       "      <td>94.61</td>\n",
       "      <td>95.49</td>\n",
       "      <td>93.64</td>\n",
       "      <td>95.27</td>\n",
       "      <td>182100</td>\n",
       "      <td>-0.859032</td>\n",
       "      <td>-0.859032</td>\n",
       "      <td>NaN</td>\n",
       "      <td>1.85</td>\n",
       "    </tr>\n",
       "    <tr>\n",
       "      <th>2023-01-31</th>\n",
       "      <td>92.935</td>\n",
       "      <td>93.25</td>\n",
       "      <td>93.25</td>\n",
       "      <td>91.37</td>\n",
       "      <td>92.61</td>\n",
       "      <td>269200</td>\n",
       "      <td>1.690557</td>\n",
       "      <td>1.690557</td>\n",
       "      <td>NaN</td>\n",
       "      <td>1.88</td>\n",
       "    </tr>\n",
       "    <tr>\n",
       "      <th>2023-02-28</th>\n",
       "      <td>89.178</td>\n",
       "      <td>89.48</td>\n",
       "      <td>90.89</td>\n",
       "      <td>89.40</td>\n",
       "      <td>90.64</td>\n",
       "      <td>466400</td>\n",
       "      <td>-1.268766</td>\n",
       "      <td>-1.268766</td>\n",
       "      <td>NaN</td>\n",
       "      <td>1.49</td>\n",
       "    </tr>\n",
       "    <tr>\n",
       "      <th>2023-03-31</th>\n",
       "      <td>95.277</td>\n",
       "      <td>95.54</td>\n",
       "      <td>95.62</td>\n",
       "      <td>93.27</td>\n",
       "      <td>93.62</td>\n",
       "      <td>592700</td>\n",
       "      <td>2.720098</td>\n",
       "      <td>2.720098</td>\n",
       "      <td>NaN</td>\n",
       "      <td>2.35</td>\n",
       "    </tr>\n",
       "    <tr>\n",
       "      <th>2023-04-30</th>\n",
       "      <td>96.823</td>\n",
       "      <td>97.09</td>\n",
       "      <td>97.46</td>\n",
       "      <td>94.92</td>\n",
       "      <td>95.79</td>\n",
       "      <td>494400</td>\n",
       "      <td>0.998268</td>\n",
       "      <td>0.998268</td>\n",
       "      <td>NaN</td>\n",
       "      <td>2.54</td>\n",
       "    </tr>\n",
       "    <tr>\n",
       "      <th>2023-05-31</th>\n",
       "      <td>88.366</td>\n",
       "      <td>88.61</td>\n",
       "      <td>89.45</td>\n",
       "      <td>87.20</td>\n",
       "      <td>88.08</td>\n",
       "      <td>526600</td>\n",
       "      <td>0.635477</td>\n",
       "      <td>0.635477</td>\n",
       "      <td>NaN</td>\n",
       "      <td>2.25</td>\n",
       "    </tr>\n",
       "    <tr>\n",
       "      <th>2023-06-30</th>\n",
       "      <td>95.256</td>\n",
       "      <td>95.46</td>\n",
       "      <td>96.20</td>\n",
       "      <td>95.42</td>\n",
       "      <td>95.55</td>\n",
       "      <td>205300</td>\n",
       "      <td>0.114560</td>\n",
       "      <td>0.114560</td>\n",
       "      <td>NaN</td>\n",
       "      <td>0.78</td>\n",
       "    </tr>\n",
       "    <tr>\n",
       "      <th>2023-07-31</th>\n",
       "      <td>96.663</td>\n",
       "      <td>96.87</td>\n",
       "      <td>97.00</td>\n",
       "      <td>92.64</td>\n",
       "      <td>93.11</td>\n",
       "      <td>577800</td>\n",
       "      <td>4.104381</td>\n",
       "      <td>4.104381</td>\n",
       "      <td>NaN</td>\n",
       "      <td>4.36</td>\n",
       "    </tr>\n",
       "    <tr>\n",
       "      <th>2023-08-31</th>\n",
       "      <td>100.006</td>\n",
       "      <td>100.22</td>\n",
       "      <td>104.04</td>\n",
       "      <td>99.95</td>\n",
       "      <td>101.90</td>\n",
       "      <td>541500</td>\n",
       "      <td>-1.523342</td>\n",
       "      <td>-1.523342</td>\n",
       "      <td>NaN</td>\n",
       "      <td>4.09</td>\n",
       "    </tr>\n",
       "    <tr>\n",
       "      <th>2023-09-30</th>\n",
       "      <td>92.790</td>\n",
       "      <td>92.93</td>\n",
       "      <td>94.47</td>\n",
       "      <td>92.50</td>\n",
       "      <td>94.11</td>\n",
       "      <td>416800</td>\n",
       "      <td>-1.106280</td>\n",
       "      <td>-1.106280</td>\n",
       "      <td>NaN</td>\n",
       "      <td>1.97</td>\n",
       "    </tr>\n",
       "    <tr>\n",
       "      <th>2023-10-31</th>\n",
       "      <td>96.454</td>\n",
       "      <td>96.60</td>\n",
       "      <td>96.86</td>\n",
       "      <td>95.12</td>\n",
       "      <td>95.90</td>\n",
       "      <td>238500</td>\n",
       "      <td>1.342775</td>\n",
       "      <td>1.342775</td>\n",
       "      <td>NaN</td>\n",
       "      <td>1.74</td>\n",
       "    </tr>\n",
       "    <tr>\n",
       "      <th>2023-11-30</th>\n",
       "      <td>106.909</td>\n",
       "      <td>107.07</td>\n",
       "      <td>107.41</td>\n",
       "      <td>106.61</td>\n",
       "      <td>106.88</td>\n",
       "      <td>293600</td>\n",
       "      <td>0.149884</td>\n",
       "      <td>0.149884</td>\n",
       "      <td>NaN</td>\n",
       "      <td>0.80</td>\n",
       "    </tr>\n",
       "    <tr>\n",
       "      <th>2023-12-31</th>\n",
       "      <td>112.100</td>\n",
       "      <td>112.21</td>\n",
       "      <td>113.80</td>\n",
       "      <td>111.98</td>\n",
       "      <td>113.75</td>\n",
       "      <td>247500</td>\n",
       "      <td>-1.327371</td>\n",
       "      <td>-1.327371</td>\n",
       "      <td>NaN</td>\n",
       "      <td>1.82</td>\n",
       "    </tr>\n",
       "    <tr>\n",
       "      <th>2024-01-31</th>\n",
       "      <td>113.109</td>\n",
       "      <td>113.22</td>\n",
       "      <td>116.58</td>\n",
       "      <td>113.18</td>\n",
       "      <td>116.58</td>\n",
       "      <td>395100</td>\n",
       "      <td>-2.572871</td>\n",
       "      <td>-2.572871</td>\n",
       "      <td>NaN</td>\n",
       "      <td>3.40</td>\n",
       "    </tr>\n",
       "    <tr>\n",
       "      <th>2024-02-29</th>\n",
       "      <td>124.797</td>\n",
       "      <td>124.92</td>\n",
       "      <td>125.64</td>\n",
       "      <td>124.12</td>\n",
       "      <td>125.64</td>\n",
       "      <td>299100</td>\n",
       "      <td>0.320745</td>\n",
       "      <td>0.320745</td>\n",
       "      <td>NaN</td>\n",
       "      <td>1.52</td>\n",
       "    </tr>\n",
       "    <tr>\n",
       "      <th>2024-03-31</th>\n",
       "      <td>124.358</td>\n",
       "      <td>124.42</td>\n",
       "      <td>126.77</td>\n",
       "      <td>123.98</td>\n",
       "      <td>125.67</td>\n",
       "      <td>418900</td>\n",
       "      <td>-0.955734</td>\n",
       "      <td>-0.955734</td>\n",
       "      <td>NaN</td>\n",
       "      <td>2.79</td>\n",
       "    </tr>\n",
       "    <tr>\n",
       "      <th>2024-04-30</th>\n",
       "      <td>118.301</td>\n",
       "      <td>118.36</td>\n",
       "      <td>118.82</td>\n",
       "      <td>116.85</td>\n",
       "      <td>118.39</td>\n",
       "      <td>395500</td>\n",
       "      <td>-0.278173</td>\n",
       "      <td>-0.278173</td>\n",
       "      <td>NaN</td>\n",
       "      <td>1.97</td>\n",
       "    </tr>\n",
       "    <tr>\n",
       "      <th>2024-05-31</th>\n",
       "      <td>121.180</td>\n",
       "      <td>121.24</td>\n",
       "      <td>121.42</td>\n",
       "      <td>117.69</td>\n",
       "      <td>118.63</td>\n",
       "      <td>444600</td>\n",
       "      <td>2.321183</td>\n",
       "      <td>2.321183</td>\n",
       "      <td>NaN</td>\n",
       "      <td>3.73</td>\n",
       "    </tr>\n",
       "    <tr>\n",
       "      <th>2024-06-30</th>\n",
       "      <td>123.690</td>\n",
       "      <td>123.69</td>\n",
       "      <td>123.82</td>\n",
       "      <td>120.77</td>\n",
       "      <td>122.00</td>\n",
       "      <td>1208000</td>\n",
       "      <td>2.409339</td>\n",
       "      <td>2.409339</td>\n",
       "      <td>NaN</td>\n",
       "      <td>3.05</td>\n",
       "    </tr>\n",
       "    <tr>\n",
       "      <th>2024-07-31</th>\n",
       "      <td>140.750</td>\n",
       "      <td>140.75</td>\n",
       "      <td>145.00</td>\n",
       "      <td>140.50</td>\n",
       "      <td>145.00</td>\n",
       "      <td>489400</td>\n",
       "      <td>-3.218043</td>\n",
       "      <td>-3.218043</td>\n",
       "      <td>NaN</td>\n",
       "      <td>4.50</td>\n",
       "    </tr>\n",
       "    <tr>\n",
       "      <th>2024-08-31</th>\n",
       "      <td>151.360</td>\n",
       "      <td>151.36</td>\n",
       "      <td>151.74</td>\n",
       "      <td>146.66</td>\n",
       "      <td>150.20</td>\n",
       "      <td>283300</td>\n",
       "      <td>0.846159</td>\n",
       "      <td>0.846159</td>\n",
       "      <td>NaN</td>\n",
       "      <td>5.08</td>\n",
       "    </tr>\n",
       "    <tr>\n",
       "      <th>2024-09-30</th>\n",
       "      <td>143.820</td>\n",
       "      <td>143.82</td>\n",
       "      <td>145.62</td>\n",
       "      <td>137.44</td>\n",
       "      <td>143.58</td>\n",
       "      <td>11223200</td>\n",
       "      <td>-0.201235</td>\n",
       "      <td>-0.201235</td>\n",
       "      <td>NaN</td>\n",
       "      <td>8.18</td>\n",
       "    </tr>\n",
       "    <tr>\n",
       "      <th>2024-10-31</th>\n",
       "      <td>154.990</td>\n",
       "      <td>154.99</td>\n",
       "      <td>157.93</td>\n",
       "      <td>154.58</td>\n",
       "      <td>155.30</td>\n",
       "      <td>425100</td>\n",
       "      <td>-0.653804</td>\n",
       "      <td>-0.653804</td>\n",
       "      <td>NaN</td>\n",
       "      <td>3.35</td>\n",
       "    </tr>\n",
       "  </tbody>\n",
       "</table>\n",
       "</div>"
      ],
      "text/plain": [
       "Price      Adj Close   Close    High     Low    Open    Volume daily_returns  \\\n",
       "Ticker          ENSG    ENSG    ENSG    ENSG    ENSG      ENSG                 \n",
       "Date                                                                           \n",
       "2019-11-30    42.823   43.43   43.86   43.34   43.57     76200     -0.822178   \n",
       "2019-12-31    44.786   45.37   45.46   44.23   44.48    232000      1.932312   \n",
       "2020-01-31    44.619   45.20   46.64   45.03   46.17    203500     -2.438011   \n",
       "2020-02-29    43.928   44.50   45.75   43.64   44.40    374400     -3.112111   \n",
       "2020-03-31    37.181   37.61   39.77   36.71   37.88    587000     -1.979859   \n",
       "2020-04-30    36.983   37.41   39.97   37.33   39.79    580200     -8.196599   \n",
       "2020-05-31    43.221   43.72   44.77   43.45   44.33    511000     -2.499492   \n",
       "2020-06-30    41.426   41.85   41.97   40.17   40.28    379400      3.384078   \n",
       "2020-07-31    45.524   45.99   46.55   44.47   46.09    293900     -1.202309   \n",
       "2020-08-31    57.947   58.54   59.36   58.43   58.51    251800     -0.170554   \n",
       "2020-09-30    56.532   57.06   57.75   56.10   56.10    290700      1.857624   \n",
       "2020-10-31    58.295   58.84   61.23   57.50   59.49    379200     -1.457139   \n",
       "2020-11-30    71.205   71.87   73.43   71.29   71.53    308700      0.434433   \n",
       "2020-12-31    72.297   72.92   73.36   71.52   72.98    317500      0.012450   \n",
       "2021-01-31    77.612   78.28   82.33   77.35   80.80    330400     -3.784789   \n",
       "2021-02-28    81.320   82.02   83.53   80.52   81.62    249800      1.347225   \n",
       "2021-03-31    93.093   93.84   94.65   92.23   92.98    638600      1.284925   \n",
       "2021-04-30    85.167   85.85   88.76   76.95   85.50    353600     -0.957088   \n",
       "2021-05-31    82.538   83.20   83.77   82.23   82.23    144000      1.216491   \n",
       "2021-06-30    86.031   86.67   88.13   85.66   87.67    347700     -1.656379   \n",
       "2021-07-31    84.443   85.07   86.41   83.25   83.31    248700      1.990458   \n",
       "2021-08-31    81.068   81.67   81.72   80.56   81.38    130400      0.381377   \n",
       "2021-09-30    74.390   74.89   76.16   74.29   75.73    172100     -0.385656   \n",
       "2021-10-31    77.489   78.01   78.68   74.45   75.09    533900      2.401152   \n",
       "2021-11-30    75.821   76.33   78.27   76.02   77.14    269100     -1.126687   \n",
       "2021-12-31    83.454   83.96   84.21   82.95   83.55    169500      0.299261   \n",
       "2022-01-31    74.975   75.43   75.59   73.49   73.49    305000      1.945774   \n",
       "2022-02-28    83.533   84.04   84.57   81.13   81.13    241700      2.251083   \n",
       "2022-03-31    89.523   90.01   91.02   88.94   88.94    507500      0.739315   \n",
       "2022-04-30    79.895   80.33   83.53   79.59   81.25    332600     -2.000589   \n",
       "2022-05-31    80.730   81.17   82.61   80.85   81.86    231900     -1.505539   \n",
       "2022-06-30    73.127   73.47   75.30   72.99   74.52    286900     -2.791551   \n",
       "2022-07-31    79.317   79.69   79.97   78.23   79.56    149800     -0.325475   \n",
       "2022-08-31    84.901   85.30   86.24   84.14   85.08    157300      0.720099   \n",
       "2022-09-30    79.182   79.50   82.00   79.42   81.25    401800     -1.790986   \n",
       "2022-10-31    89.421   89.78   91.43   89.18   89.52    241800     -0.199777   \n",
       "2022-11-30    94.620   95.00   95.06   91.92   92.92    277900      1.898618   \n",
       "2022-12-31    94.290   94.61   95.49   93.64   95.27    182100     -0.859032   \n",
       "2023-01-31    92.935   93.25   93.25   91.37   92.61    269200      1.690557   \n",
       "2023-02-28    89.178   89.48   90.89   89.40   90.64    466400     -1.268766   \n",
       "2023-03-31    95.277   95.54   95.62   93.27   93.62    592700      2.720098   \n",
       "2023-04-30    96.823   97.09   97.46   94.92   95.79    494400      0.998268   \n",
       "2023-05-31    88.366   88.61   89.45   87.20   88.08    526600      0.635477   \n",
       "2023-06-30    95.256   95.46   96.20   95.42   95.55    205300      0.114560   \n",
       "2023-07-31    96.663   96.87   97.00   92.64   93.11    577800      4.104381   \n",
       "2023-08-31   100.006  100.22  104.04   99.95  101.90    541500     -1.523342   \n",
       "2023-09-30    92.790   92.93   94.47   92.50   94.11    416800     -1.106280   \n",
       "2023-10-31    96.454   96.60   96.86   95.12   95.90    238500      1.342775   \n",
       "2023-11-30   106.909  107.07  107.41  106.61  106.88    293600      0.149884   \n",
       "2023-12-31   112.100  112.21  113.80  111.98  113.75    247500     -1.327371   \n",
       "2024-01-31   113.109  113.22  116.58  113.18  116.58    395100     -2.572871   \n",
       "2024-02-29   124.797  124.92  125.64  124.12  125.64    299100      0.320745   \n",
       "2024-03-31   124.358  124.42  126.77  123.98  125.67    418900     -0.955734   \n",
       "2024-04-30   118.301  118.36  118.82  116.85  118.39    395500     -0.278173   \n",
       "2024-05-31   121.180  121.24  121.42  117.69  118.63    444600      2.321183   \n",
       "2024-06-30   123.690  123.69  123.82  120.77  122.00   1208000      2.409339   \n",
       "2024-07-31   140.750  140.75  145.00  140.50  145.00    489400     -3.218043   \n",
       "2024-08-31   151.360  151.36  151.74  146.66  150.20    283300      0.846159   \n",
       "2024-09-30   143.820  143.82  145.62  137.44  143.58  11223200     -0.201235   \n",
       "2024-10-31   154.990  154.99  157.93  154.58  155.30    425100     -0.653804   \n",
       "\n",
       "Price      monthly_returns annual_returns daily_range  \n",
       "Ticker                                                 \n",
       "Date                                                   \n",
       "2019-11-30       -0.822178      61.427678        0.52  \n",
       "2019-12-31        1.932312      61.427678        1.23  \n",
       "2020-01-31       -2.438011      61.427678        1.61  \n",
       "2020-02-29       -3.112111      61.427678        2.11  \n",
       "2020-03-31       -1.979859      61.427678        3.06  \n",
       "2020-04-30       -8.196599      61.427678        2.64  \n",
       "2020-05-31       -2.499492      61.427678        1.32  \n",
       "2020-06-30        3.384078      61.427678        1.80  \n",
       "2020-07-31       -1.202309      61.427678        2.08  \n",
       "2020-08-31       -0.170554      61.427678        0.93  \n",
       "2020-09-30        1.857624      61.427678        1.65  \n",
       "2020-10-31       -1.457139      61.427678        3.73  \n",
       "2020-11-30        0.434433      61.427678        2.14  \n",
       "2020-12-31        0.012450      61.427678        1.84  \n",
       "2021-01-31       -3.784789      15.432176        4.98  \n",
       "2021-02-28        1.347225      15.432176        3.01  \n",
       "2021-03-31        1.284925      15.432176        2.42  \n",
       "2021-04-30       -0.957088      15.432176       11.81  \n",
       "2021-05-31        1.216491      15.432176        1.54  \n",
       "2021-06-30       -1.656379      15.432176        2.47  \n",
       "2021-07-31        1.990458      15.432176        3.16  \n",
       "2021-08-31        0.381377      15.432176        1.16  \n",
       "2021-09-30       -0.385656      15.432176        1.87  \n",
       "2021-10-31        2.401152      15.432176        4.23  \n",
       "2021-11-30       -1.126687      15.432176        2.25  \n",
       "2021-12-31        0.299261      15.432176        1.26  \n",
       "2022-01-31        1.945774            NaN        2.10  \n",
       "2022-02-28        2.251083            NaN        3.44  \n",
       "2022-03-31        0.739315            NaN        2.08  \n",
       "2022-04-30       -2.000589            NaN        3.94  \n",
       "2022-05-31       -1.505539            NaN        1.76  \n",
       "2022-06-30       -2.791551            NaN        2.31  \n",
       "2022-07-31       -0.325475            NaN        1.74  \n",
       "2022-08-31        0.720099            NaN        2.10  \n",
       "2022-09-30       -1.790986            NaN        2.58  \n",
       "2022-10-31       -0.199777            NaN        2.25  \n",
       "2022-11-30        1.898618            NaN        3.14  \n",
       "2022-12-31       -0.859032            NaN        1.85  \n",
       "2023-01-31        1.690557            NaN        1.88  \n",
       "2023-02-28       -1.268766            NaN        1.49  \n",
       "2023-03-31        2.720098            NaN        2.35  \n",
       "2023-04-30        0.998268            NaN        2.54  \n",
       "2023-05-31        0.635477            NaN        2.25  \n",
       "2023-06-30        0.114560            NaN        0.78  \n",
       "2023-07-31        4.104381            NaN        4.36  \n",
       "2023-08-31       -1.523342            NaN        4.09  \n",
       "2023-09-30       -1.106280            NaN        1.97  \n",
       "2023-10-31        1.342775            NaN        1.74  \n",
       "2023-11-30        0.149884            NaN        0.80  \n",
       "2023-12-31       -1.327371            NaN        1.82  \n",
       "2024-01-31       -2.572871            NaN        3.40  \n",
       "2024-02-29        0.320745            NaN        1.52  \n",
       "2024-03-31       -0.955734            NaN        2.79  \n",
       "2024-04-30       -0.278173            NaN        1.97  \n",
       "2024-05-31        2.321183            NaN        3.73  \n",
       "2024-06-30        2.409339            NaN        3.05  \n",
       "2024-07-31       -3.218043            NaN        4.50  \n",
       "2024-08-31        0.846159            NaN        5.08  \n",
       "2024-09-30       -0.201235            NaN        8.18  \n",
       "2024-10-31       -0.653804            NaN        3.35  "
      ]
     },
     "metadata": {},
     "output_type": "display_data"
    }
   ],
   "source": [
    "# data by the end of the month\n",
    "monthly_df = df_ensign.resample(\"ME\").last()\n",
    "\n",
    "display(monthly_df)"
   ]
  },
  {
   "cell_type": "code",
   "execution_count": 385,
   "id": "0ee23b22-3ca7-44da-8671-5d4b06b71660",
   "metadata": {},
   "outputs": [],
   "source": [
    "##The opening price on November 30, 2019, was approximately $42.82, and by October 31, 2024, it has increased to about $154.99.\n",
    "#The highest price reached was approximately $157.93 in October 2024.\n",
    "#The lowest price during this period was about $36.98 in April 2020, reflecting a significant drop in the early days of the COVID-19 pandemic\n",
    "#There are noticeable price swings, particularly between 2020 and 2021, where the stock rose from around $37.18 in March 2020 to a peak of $93.09 by March 2021.\n",
    "#The stock showed volatility, particularly in early 2020 and in the months following, likely influenced by economic conditions and events such as the pandemic."
   ]
  },
  {
   "cell_type": "code",
   "execution_count": 393,
   "id": "c1403979-ce5c-49ee-b635-805a90728a9d",
   "metadata": {},
   "outputs": [
    {
     "data": {
      "application/vnd.plotly.v1+json": {
       "config": {
        "plotlyServerURL": "https://plot.ly"
       },
       "data": [
        {
         "hovertemplate": "x=%{x}<br>y=%{y}<extra></extra>",
         "legendgroup": "",
         "line": {
          "color": "#636efa",
          "dash": "solid"
         },
         "marker": {
          "symbol": "circle"
         },
         "mode": "lines",
         "name": "",
         "orientation": "v",
         "showlegend": false,
         "type": "scatter",
         "x": [
          "2019-11-30T00:00:00",
          "2019-12-31T00:00:00",
          "2020-01-31T00:00:00",
          "2020-02-29T00:00:00",
          "2020-03-31T00:00:00",
          "2020-04-30T00:00:00",
          "2020-05-31T00:00:00",
          "2020-06-30T00:00:00",
          "2020-07-31T00:00:00",
          "2020-08-31T00:00:00",
          "2020-09-30T00:00:00",
          "2020-10-31T00:00:00",
          "2020-11-30T00:00:00",
          "2020-12-31T00:00:00",
          "2021-01-31T00:00:00",
          "2021-02-28T00:00:00",
          "2021-03-31T00:00:00",
          "2021-04-30T00:00:00",
          "2021-05-31T00:00:00",
          "2021-06-30T00:00:00",
          "2021-07-31T00:00:00",
          "2021-08-31T00:00:00",
          "2021-09-30T00:00:00",
          "2021-10-31T00:00:00",
          "2021-11-30T00:00:00",
          "2021-12-31T00:00:00",
          "2022-01-31T00:00:00",
          "2022-02-28T00:00:00",
          "2022-03-31T00:00:00",
          "2022-04-30T00:00:00",
          "2022-05-31T00:00:00",
          "2022-06-30T00:00:00",
          "2022-07-31T00:00:00",
          "2022-08-31T00:00:00",
          "2022-09-30T00:00:00",
          "2022-10-31T00:00:00",
          "2022-11-30T00:00:00",
          "2022-12-31T00:00:00",
          "2023-01-31T00:00:00",
          "2023-02-28T00:00:00",
          "2023-03-31T00:00:00",
          "2023-04-30T00:00:00",
          "2023-05-31T00:00:00",
          "2023-06-30T00:00:00",
          "2023-07-31T00:00:00",
          "2023-08-31T00:00:00",
          "2023-09-30T00:00:00",
          "2023-10-31T00:00:00",
          "2023-11-30T00:00:00",
          "2023-12-31T00:00:00",
          "2024-01-31T00:00:00",
          "2024-02-29T00:00:00",
          "2024-03-31T00:00:00",
          "2024-04-30T00:00:00",
          "2024-05-31T00:00:00",
          "2024-06-30T00:00:00",
          "2024-07-31T00:00:00",
          "2024-08-31T00:00:00",
          "2024-09-30T00:00:00",
          "2024-10-31T00:00:00"
         ],
         "xaxis": "x",
         "y": [
          43.34,
          44.23,
          45.03,
          43.64,
          36.71,
          37.33,
          43.45,
          40.17,
          44.47,
          58.43,
          56.1,
          57.5,
          71.29,
          71.52,
          77.35,
          80.52,
          92.23,
          76.95,
          82.23,
          85.66,
          83.25,
          80.56,
          74.29,
          74.45,
          76.02,
          82.95,
          73.49,
          81.13,
          88.94,
          79.59,
          80.85,
          72.99,
          78.23,
          84.14,
          79.42,
          89.18,
          91.92,
          93.64,
          91.37,
          89.4,
          93.27,
          94.92,
          87.2,
          95.42,
          92.64,
          99.95,
          92.5,
          95.12,
          106.61,
          111.98,
          113.18,
          124.12,
          123.98,
          116.85,
          117.69,
          120.77,
          140.5,
          146.66,
          137.44,
          154.58
         ],
         "yaxis": "y"
        }
       ],
       "layout": {
        "autosize": true,
        "legend": {
         "tracegroupgap": 0
        },
        "template": {
         "data": {
          "bar": [
           {
            "error_x": {
             "color": "#2a3f5f"
            },
            "error_y": {
             "color": "#2a3f5f"
            },
            "marker": {
             "line": {
              "color": "#E5ECF6",
              "width": 0.5
             },
             "pattern": {
              "fillmode": "overlay",
              "size": 10,
              "solidity": 0.2
             }
            },
            "type": "bar"
           }
          ],
          "barpolar": [
           {
            "marker": {
             "line": {
              "color": "#E5ECF6",
              "width": 0.5
             },
             "pattern": {
              "fillmode": "overlay",
              "size": 10,
              "solidity": 0.2
             }
            },
            "type": "barpolar"
           }
          ],
          "carpet": [
           {
            "aaxis": {
             "endlinecolor": "#2a3f5f",
             "gridcolor": "white",
             "linecolor": "white",
             "minorgridcolor": "white",
             "startlinecolor": "#2a3f5f"
            },
            "baxis": {
             "endlinecolor": "#2a3f5f",
             "gridcolor": "white",
             "linecolor": "white",
             "minorgridcolor": "white",
             "startlinecolor": "#2a3f5f"
            },
            "type": "carpet"
           }
          ],
          "choropleth": [
           {
            "colorbar": {
             "outlinewidth": 0,
             "ticks": ""
            },
            "type": "choropleth"
           }
          ],
          "contour": [
           {
            "colorbar": {
             "outlinewidth": 0,
             "ticks": ""
            },
            "colorscale": [
             [
              0,
              "#0d0887"
             ],
             [
              0.1111111111111111,
              "#46039f"
             ],
             [
              0.2222222222222222,
              "#7201a8"
             ],
             [
              0.3333333333333333,
              "#9c179e"
             ],
             [
              0.4444444444444444,
              "#bd3786"
             ],
             [
              0.5555555555555556,
              "#d8576b"
             ],
             [
              0.6666666666666666,
              "#ed7953"
             ],
             [
              0.7777777777777778,
              "#fb9f3a"
             ],
             [
              0.8888888888888888,
              "#fdca26"
             ],
             [
              1,
              "#f0f921"
             ]
            ],
            "type": "contour"
           }
          ],
          "contourcarpet": [
           {
            "colorbar": {
             "outlinewidth": 0,
             "ticks": ""
            },
            "type": "contourcarpet"
           }
          ],
          "heatmap": [
           {
            "colorbar": {
             "outlinewidth": 0,
             "ticks": ""
            },
            "colorscale": [
             [
              0,
              "#0d0887"
             ],
             [
              0.1111111111111111,
              "#46039f"
             ],
             [
              0.2222222222222222,
              "#7201a8"
             ],
             [
              0.3333333333333333,
              "#9c179e"
             ],
             [
              0.4444444444444444,
              "#bd3786"
             ],
             [
              0.5555555555555556,
              "#d8576b"
             ],
             [
              0.6666666666666666,
              "#ed7953"
             ],
             [
              0.7777777777777778,
              "#fb9f3a"
             ],
             [
              0.8888888888888888,
              "#fdca26"
             ],
             [
              1,
              "#f0f921"
             ]
            ],
            "type": "heatmap"
           }
          ],
          "heatmapgl": [
           {
            "colorbar": {
             "outlinewidth": 0,
             "ticks": ""
            },
            "colorscale": [
             [
              0,
              "#0d0887"
             ],
             [
              0.1111111111111111,
              "#46039f"
             ],
             [
              0.2222222222222222,
              "#7201a8"
             ],
             [
              0.3333333333333333,
              "#9c179e"
             ],
             [
              0.4444444444444444,
              "#bd3786"
             ],
             [
              0.5555555555555556,
              "#d8576b"
             ],
             [
              0.6666666666666666,
              "#ed7953"
             ],
             [
              0.7777777777777778,
              "#fb9f3a"
             ],
             [
              0.8888888888888888,
              "#fdca26"
             ],
             [
              1,
              "#f0f921"
             ]
            ],
            "type": "heatmapgl"
           }
          ],
          "histogram": [
           {
            "marker": {
             "pattern": {
              "fillmode": "overlay",
              "size": 10,
              "solidity": 0.2
             }
            },
            "type": "histogram"
           }
          ],
          "histogram2d": [
           {
            "colorbar": {
             "outlinewidth": 0,
             "ticks": ""
            },
            "colorscale": [
             [
              0,
              "#0d0887"
             ],
             [
              0.1111111111111111,
              "#46039f"
             ],
             [
              0.2222222222222222,
              "#7201a8"
             ],
             [
              0.3333333333333333,
              "#9c179e"
             ],
             [
              0.4444444444444444,
              "#bd3786"
             ],
             [
              0.5555555555555556,
              "#d8576b"
             ],
             [
              0.6666666666666666,
              "#ed7953"
             ],
             [
              0.7777777777777778,
              "#fb9f3a"
             ],
             [
              0.8888888888888888,
              "#fdca26"
             ],
             [
              1,
              "#f0f921"
             ]
            ],
            "type": "histogram2d"
           }
          ],
          "histogram2dcontour": [
           {
            "colorbar": {
             "outlinewidth": 0,
             "ticks": ""
            },
            "colorscale": [
             [
              0,
              "#0d0887"
             ],
             [
              0.1111111111111111,
              "#46039f"
             ],
             [
              0.2222222222222222,
              "#7201a8"
             ],
             [
              0.3333333333333333,
              "#9c179e"
             ],
             [
              0.4444444444444444,
              "#bd3786"
             ],
             [
              0.5555555555555556,
              "#d8576b"
             ],
             [
              0.6666666666666666,
              "#ed7953"
             ],
             [
              0.7777777777777778,
              "#fb9f3a"
             ],
             [
              0.8888888888888888,
              "#fdca26"
             ],
             [
              1,
              "#f0f921"
             ]
            ],
            "type": "histogram2dcontour"
           }
          ],
          "mesh3d": [
           {
            "colorbar": {
             "outlinewidth": 0,
             "ticks": ""
            },
            "type": "mesh3d"
           }
          ],
          "parcoords": [
           {
            "line": {
             "colorbar": {
              "outlinewidth": 0,
              "ticks": ""
             }
            },
            "type": "parcoords"
           }
          ],
          "pie": [
           {
            "automargin": true,
            "type": "pie"
           }
          ],
          "scatter": [
           {
            "fillpattern": {
             "fillmode": "overlay",
             "size": 10,
             "solidity": 0.2
            },
            "type": "scatter"
           }
          ],
          "scatter3d": [
           {
            "line": {
             "colorbar": {
              "outlinewidth": 0,
              "ticks": ""
             }
            },
            "marker": {
             "colorbar": {
              "outlinewidth": 0,
              "ticks": ""
             }
            },
            "type": "scatter3d"
           }
          ],
          "scattercarpet": [
           {
            "marker": {
             "colorbar": {
              "outlinewidth": 0,
              "ticks": ""
             }
            },
            "type": "scattercarpet"
           }
          ],
          "scattergeo": [
           {
            "marker": {
             "colorbar": {
              "outlinewidth": 0,
              "ticks": ""
             }
            },
            "type": "scattergeo"
           }
          ],
          "scattergl": [
           {
            "marker": {
             "colorbar": {
              "outlinewidth": 0,
              "ticks": ""
             }
            },
            "type": "scattergl"
           }
          ],
          "scattermapbox": [
           {
            "marker": {
             "colorbar": {
              "outlinewidth": 0,
              "ticks": ""
             }
            },
            "type": "scattermapbox"
           }
          ],
          "scatterpolar": [
           {
            "marker": {
             "colorbar": {
              "outlinewidth": 0,
              "ticks": ""
             }
            },
            "type": "scatterpolar"
           }
          ],
          "scatterpolargl": [
           {
            "marker": {
             "colorbar": {
              "outlinewidth": 0,
              "ticks": ""
             }
            },
            "type": "scatterpolargl"
           }
          ],
          "scatterternary": [
           {
            "marker": {
             "colorbar": {
              "outlinewidth": 0,
              "ticks": ""
             }
            },
            "type": "scatterternary"
           }
          ],
          "surface": [
           {
            "colorbar": {
             "outlinewidth": 0,
             "ticks": ""
            },
            "colorscale": [
             [
              0,
              "#0d0887"
             ],
             [
              0.1111111111111111,
              "#46039f"
             ],
             [
              0.2222222222222222,
              "#7201a8"
             ],
             [
              0.3333333333333333,
              "#9c179e"
             ],
             [
              0.4444444444444444,
              "#bd3786"
             ],
             [
              0.5555555555555556,
              "#d8576b"
             ],
             [
              0.6666666666666666,
              "#ed7953"
             ],
             [
              0.7777777777777778,
              "#fb9f3a"
             ],
             [
              0.8888888888888888,
              "#fdca26"
             ],
             [
              1,
              "#f0f921"
             ]
            ],
            "type": "surface"
           }
          ],
          "table": [
           {
            "cells": {
             "fill": {
              "color": "#EBF0F8"
             },
             "line": {
              "color": "white"
             }
            },
            "header": {
             "fill": {
              "color": "#C8D4E3"
             },
             "line": {
              "color": "white"
             }
            },
            "type": "table"
           }
          ]
         },
         "layout": {
          "annotationdefaults": {
           "arrowcolor": "#2a3f5f",
           "arrowhead": 0,
           "arrowwidth": 1
          },
          "autotypenumbers": "strict",
          "coloraxis": {
           "colorbar": {
            "outlinewidth": 0,
            "ticks": ""
           }
          },
          "colorscale": {
           "diverging": [
            [
             0,
             "#8e0152"
            ],
            [
             0.1,
             "#c51b7d"
            ],
            [
             0.2,
             "#de77ae"
            ],
            [
             0.3,
             "#f1b6da"
            ],
            [
             0.4,
             "#fde0ef"
            ],
            [
             0.5,
             "#f7f7f7"
            ],
            [
             0.6,
             "#e6f5d0"
            ],
            [
             0.7,
             "#b8e186"
            ],
            [
             0.8,
             "#7fbc41"
            ],
            [
             0.9,
             "#4d9221"
            ],
            [
             1,
             "#276419"
            ]
           ],
           "sequential": [
            [
             0,
             "#0d0887"
            ],
            [
             0.1111111111111111,
             "#46039f"
            ],
            [
             0.2222222222222222,
             "#7201a8"
            ],
            [
             0.3333333333333333,
             "#9c179e"
            ],
            [
             0.4444444444444444,
             "#bd3786"
            ],
            [
             0.5555555555555556,
             "#d8576b"
            ],
            [
             0.6666666666666666,
             "#ed7953"
            ],
            [
             0.7777777777777778,
             "#fb9f3a"
            ],
            [
             0.8888888888888888,
             "#fdca26"
            ],
            [
             1,
             "#f0f921"
            ]
           ],
           "sequentialminus": [
            [
             0,
             "#0d0887"
            ],
            [
             0.1111111111111111,
             "#46039f"
            ],
            [
             0.2222222222222222,
             "#7201a8"
            ],
            [
             0.3333333333333333,
             "#9c179e"
            ],
            [
             0.4444444444444444,
             "#bd3786"
            ],
            [
             0.5555555555555556,
             "#d8576b"
            ],
            [
             0.6666666666666666,
             "#ed7953"
            ],
            [
             0.7777777777777778,
             "#fb9f3a"
            ],
            [
             0.8888888888888888,
             "#fdca26"
            ],
            [
             1,
             "#f0f921"
            ]
           ]
          },
          "colorway": [
           "#636efa",
           "#EF553B",
           "#00cc96",
           "#ab63fa",
           "#FFA15A",
           "#19d3f3",
           "#FF6692",
           "#B6E880",
           "#FF97FF",
           "#FECB52"
          ],
          "font": {
           "color": "#2a3f5f"
          },
          "geo": {
           "bgcolor": "white",
           "lakecolor": "white",
           "landcolor": "#E5ECF6",
           "showlakes": true,
           "showland": true,
           "subunitcolor": "white"
          },
          "hoverlabel": {
           "align": "left"
          },
          "hovermode": "closest",
          "mapbox": {
           "style": "light"
          },
          "paper_bgcolor": "white",
          "plot_bgcolor": "#E5ECF6",
          "polar": {
           "angularaxis": {
            "gridcolor": "white",
            "linecolor": "white",
            "ticks": ""
           },
           "bgcolor": "#E5ECF6",
           "radialaxis": {
            "gridcolor": "white",
            "linecolor": "white",
            "ticks": ""
           }
          },
          "scene": {
           "xaxis": {
            "backgroundcolor": "#E5ECF6",
            "gridcolor": "white",
            "gridwidth": 2,
            "linecolor": "white",
            "showbackground": true,
            "ticks": "",
            "zerolinecolor": "white"
           },
           "yaxis": {
            "backgroundcolor": "#E5ECF6",
            "gridcolor": "white",
            "gridwidth": 2,
            "linecolor": "white",
            "showbackground": true,
            "ticks": "",
            "zerolinecolor": "white"
           },
           "zaxis": {
            "backgroundcolor": "#E5ECF6",
            "gridcolor": "white",
            "gridwidth": 2,
            "linecolor": "white",
            "showbackground": true,
            "ticks": "",
            "zerolinecolor": "white"
           }
          },
          "shapedefaults": {
           "line": {
            "color": "#2a3f5f"
           }
          },
          "ternary": {
           "aaxis": {
            "gridcolor": "white",
            "linecolor": "white",
            "ticks": ""
           },
           "baxis": {
            "gridcolor": "white",
            "linecolor": "white",
            "ticks": ""
           },
           "bgcolor": "#E5ECF6",
           "caxis": {
            "gridcolor": "white",
            "linecolor": "white",
            "ticks": ""
           }
          },
          "title": {
           "x": 0.05
          },
          "xaxis": {
           "automargin": true,
           "gridcolor": "white",
           "linecolor": "white",
           "ticks": "",
           "title": {
            "standoff": 15
           },
           "zerolinecolor": "white",
           "zerolinewidth": 2
          },
          "yaxis": {
           "automargin": true,
           "gridcolor": "white",
           "linecolor": "white",
           "ticks": "",
           "title": {
            "standoff": 15
           },
           "zerolinecolor": "white",
           "zerolinewidth": 2
          }
         }
        },
        "title": {
         "text": "Low Prices Over Time"
        },
        "xaxis": {
         "anchor": "y",
         "autorange": true,
         "domain": [
          0,
          1
         ],
         "range": [
          "2019-11-30",
          "2024-10-31"
         ],
         "title": {
          "text": "x"
         },
         "type": "date"
        },
        "yaxis": {
         "anchor": "x",
         "autorange": true,
         "domain": [
          0,
          1
         ],
         "range": [
          30.16166666666667,
          161.12833333333336
         ],
         "title": {
          "text": "y"
         },
         "type": "linear"
        }
       }
      },
      "image/png": "[encoded data removed]",
      "text/html": [
       "<div>                            <div id=\"25165a1e-fce0-42d3-8cbd-56885e42dd52\" class=\"plotly-graph-div\" style=\"height:525px; width:100%;\"></div>            <script type=\"text/javascript\">                require([\"plotly\"], function(Plotly) {                    window.PLOTLYENV=window.PLOTLYENV || {};                                    if (document.getElementById(\"25165a1e-fce0-42d3-8cbd-56885e42dd52\")) {                    Plotly.newPlot(                        \"25165a1e-fce0-42d3-8cbd-56885e42dd52\",                        [{\"hovertemplate\":\"x=%{x}\\u003cbr\\u003ey=%{y}\\u003cextra\\u003e\\u003c\\u002fextra\\u003e\",\"legendgroup\":\"\",\"line\":{\"color\":\"#636efa\",\"dash\":\"solid\"},\"marker\":{\"symbol\":\"circle\"},\"mode\":\"lines\",\"name\":\"\",\"orientation\":\"v\",\"showlegend\":false,\"x\":[\"2019-11-30T00:00:00\",\"2019-12-31T00:00:00\",\"2020-01-31T00:00:00\",\"2020-02-29T00:00:00\",\"2020-03-31T00:00:00\",\"2020-04-30T00:00:00\",\"2020-05-31T00:00:00\",\"2020-06-30T00:00:00\",\"2020-07-31T00:00:00\",\"2020-08-31T00:00:00\",\"2020-09-30T00:00:00\",\"2020-10-31T00:00:00\",\"2020-11-30T00:00:00\",\"2020-12-31T00:00:00\",\"2021-01-31T00:00:00\",\"2021-02-28T00:00:00\",\"2021-03-31T00:00:00\",\"2021-04-30T00:00:00\",\"2021-05-31T00:00:00\",\"2021-06-30T00:00:00\",\"2021-07-31T00:00:00\",\"2021-08-31T00:00:00\",\"2021-09-30T00:00:00\",\"2021-10-31T00:00:00\",\"2021-11-30T00:00:00\",\"2021-12-31T00:00:00\",\"2022-01-31T00:00:00\",\"2022-02-28T00:00:00\",\"2022-03-31T00:00:00\",\"2022-04-30T00:00:00\",\"2022-05-31T00:00:00\",\"2022-06-30T00:00:00\",\"2022-07-31T00:00:00\",\"2022-08-31T00:00:00\",\"2022-09-30T00:00:00\",\"2022-10-31T00:00:00\",\"2022-11-30T00:00:00\",\"2022-12-31T00:00:00\",\"2023-01-31T00:00:00\",\"2023-02-28T00:00:00\",\"2023-03-31T00:00:00\",\"2023-04-30T00:00:00\",\"2023-05-31T00:00:00\",\"2023-06-30T00:00:00\",\"2023-07-31T00:00:00\",\"2023-08-31T00:00:00\",\"2023-09-30T00:00:00\",\"2023-10-31T00:00:00\",\"2023-11-30T00:00:00\",\"2023-12-31T00:00:00\",\"2024-01-31T00:00:00\",\"2024-02-29T00:00:00\",\"2024-03-31T00:00:00\",\"2024-04-30T00:00:00\",\"2024-05-31T00:00:00\",\"2024-06-30T00:00:00\",\"2024-07-31T00:00:00\",\"2024-08-31T00:00:00\",\"2024-09-30T00:00:00\",\"2024-10-31T00:00:00\"],\"xaxis\":\"x\",\"y\":[43.34,44.23,45.03,43.64,36.71,37.33,43.45,40.17,44.47,58.43,56.1,57.5,71.29,71.52,77.35,80.52,92.23,76.95,82.23,85.66,83.25,80.56,74.29,74.45,76.02,82.95,73.49,81.13,88.94,79.59,80.85,72.99,78.23,84.14,79.42,89.18,91.92,93.64,91.37,89.4,93.27,94.92,87.2,95.42,92.64,99.95,92.5,95.12,106.61,111.98,113.18,124.12,123.98,116.85,117.69,120.77,140.5,146.66,137.44,154.58],\"yaxis\":\"y\",\"type\":\"scatter\"}],                        {\"template\":{\"data\":{\"histogram2dcontour\":[{\"type\":\"histogram2dcontour\",\"colorbar\":{\"outlinewidth\":0,\"ticks\":\"\"},\"colorscale\":[[0.0,\"#0d0887\"],[0.1111111111111111,\"#46039f\"],[0.2222222222222222,\"#7201a8\"],[0.3333333333333333,\"#9c179e\"],[0.4444444444444444,\"#bd3786\"],[0.5555555555555556,\"#d8576b\"],[0.6666666666666666,\"#ed7953\"],[0.7777777777777778,\"#fb9f3a\"],[0.8888888888888888,\"#fdca26\"],[1.0,\"#f0f921\"]]}],\"choropleth\":[{\"type\":\"choropleth\",\"colorbar\":{\"outlinewidth\":0,\"ticks\":\"\"}}],\"histogram2d\":[{\"type\":\"histogram2d\",\"colorbar\":{\"outlinewidth\":0,\"ticks\":\"\"},\"colorscale\":[[0.0,\"#0d0887\"],[0.1111111111111111,\"#46039f\"],[0.2222222222222222,\"#7201a8\"],[0.3333333333333333,\"#9c179e\"],[0.4444444444444444,\"#bd3786\"],[0.5555555555555556,\"#d8576b\"],[0.6666666666666666,\"#ed7953\"],[0.7777777777777778,\"#fb9f3a\"],[0.8888888888888888,\"#fdca26\"],[1.0,\"#f0f921\"]]}],\"heatmap\":[{\"type\":\"heatmap\",\"colorbar\":{\"outlinewidth\":0,\"ticks\":\"\"},\"colorscale\":[[0.0,\"#0d0887\"],[0.1111111111111111,\"#46039f\"],[0.2222222222222222,\"#7201a8\"],[0.3333333333333333,\"#9c179e\"],[0.4444444444444444,\"#bd3786\"],[0.5555555555555556,\"#d8576b\"],[0.6666666666666666,\"#ed7953\"],[0.7777777777777778,\"#fb9f3a\"],[0.8888888888888888,\"#fdca26\"],[1.0,\"#f0f921\"]]}],\"heatmapgl\":[{\"type\":\"heatmapgl\",\"colorbar\":{\"outlinewidth\":0,\"ticks\":\"\"},\"colorscale\":[[0.0,\"#0d0887\"],[0.1111111111111111,\"#46039f\"],[0.2222222222222222,\"#7201a8\"],[0.3333333333333333,\"#9c179e\"],[0.4444444444444444,\"#bd3786\"],[0.5555555555555556,\"#d8576b\"],[0.6666666666666666,\"#ed7953\"],[0.7777777777777778,\"#fb9f3a\"],[0.8888888888888888,\"#fdca26\"],[1.0,\"#f0f921\"]]}],\"contourcarpet\":[{\"type\":\"contourcarpet\",\"colorbar\":{\"outlinewidth\":0,\"ticks\":\"\"}}],\"contour\":[{\"type\":\"contour\",\"colorbar\":{\"outlinewidth\":0,\"ticks\":\"\"},\"colorscale\":[[0.0,\"#0d0887\"],[0.1111111111111111,\"#46039f\"],[0.2222222222222222,\"#7201a8\"],[0.3333333333333333,\"#9c179e\"],[0.4444444444444444,\"#bd3786\"],[0.5555555555555556,\"#d8576b\"],[0.6666666666666666,\"#ed7953\"],[0.7777777777777778,\"#fb9f3a\"],[0.8888888888888888,\"#fdca26\"],[1.0,\"#f0f921\"]]}],\"surface\":[{\"type\":\"surface\",\"colorbar\":{\"outlinewidth\":0,\"ticks\":\"\"},\"colorscale\":[[0.0,\"#0d0887\"],[0.1111111111111111,\"#46039f\"],[0.2222222222222222,\"#7201a8\"],[0.3333333333333333,\"#9c179e\"],[0.4444444444444444,\"#bd3786\"],[0.5555555555555556,\"#d8576b\"],[0.6666666666666666,\"#ed7953\"],[0.7777777777777778,\"#fb9f3a\"],[0.8888888888888888,\"#fdca26\"],[1.0,\"#f0f921\"]]}],\"mesh3d\":[{\"type\":\"mesh3d\",\"colorbar\":{\"outlinewidth\":0,\"ticks\":\"\"}}],\"scatter\":[{\"fillpattern\":{\"fillmode\":\"overlay\",\"size\":10,\"solidity\":0.2},\"type\":\"scatter\"}],\"parcoords\":[{\"type\":\"parcoords\",\"line\":{\"colorbar\":{\"outlinewidth\":0,\"ticks\":\"\"}}}],\"scatterpolargl\":[{\"type\":\"scatterpolargl\",\"marker\":{\"colorbar\":{\"outlinewidth\":0,\"ticks\":\"\"}}}],\"bar\":[{\"error_x\":{\"color\":\"#2a3f5f\"},\"error_y\":{\"color\":\"#2a3f5f\"},\"marker\":{\"line\":{\"color\":\"#E5ECF6\",\"width\":0.5},\"pattern\":{\"fillmode\":\"overlay\",\"size\":10,\"solidity\":0.2}},\"type\":\"bar\"}],\"scattergeo\":[{\"type\":\"scattergeo\",\"marker\":{\"colorbar\":{\"outlinewidth\":0,\"ticks\":\"\"}}}],\"scatterpolar\":[{\"type\":\"scatterpolar\",\"marker\":{\"colorbar\":{\"outlinewidth\":0,\"ticks\":\"\"}}}],\"histogram\":[{\"marker\":{\"pattern\":{\"fillmode\":\"overlay\",\"size\":10,\"solidity\":0.2}},\"type\":\"histogram\"}],\"scattergl\":[{\"type\":\"scattergl\",\"marker\":{\"colorbar\":{\"outlinewidth\":0,\"ticks\":\"\"}}}],\"scatter3d\":[{\"type\":\"scatter3d\",\"line\":{\"colorbar\":{\"outlinewidth\":0,\"ticks\":\"\"}},\"marker\":{\"colorbar\":{\"outlinewidth\":0,\"ticks\":\"\"}}}],\"scattermapbox\":[{\"type\":\"scattermapbox\",\"marker\":{\"colorbar\":{\"outlinewidth\":0,\"ticks\":\"\"}}}],\"scatterternary\":[{\"type\":\"scatterternary\",\"marker\":{\"colorbar\":{\"outlinewidth\":0,\"ticks\":\"\"}}}],\"scattercarpet\":[{\"type\":\"scattercarpet\",\"marker\":{\"colorbar\":{\"outlinewidth\":0,\"ticks\":\"\"}}}],\"carpet\":[{\"aaxis\":{\"endlinecolor\":\"#2a3f5f\",\"gridcolor\":\"white\",\"linecolor\":\"white\",\"minorgridcolor\":\"white\",\"startlinecolor\":\"#2a3f5f\"},\"baxis\":{\"endlinecolor\":\"#2a3f5f\",\"gridcolor\":\"white\",\"linecolor\":\"white\",\"minorgridcolor\":\"white\",\"startlinecolor\":\"#2a3f5f\"},\"type\":\"carpet\"}],\"table\":[{\"cells\":{\"fill\":{\"color\":\"#EBF0F8\"},\"line\":{\"color\":\"white\"}},\"header\":{\"fill\":{\"color\":\"#C8D4E3\"},\"line\":{\"color\":\"white\"}},\"type\":\"table\"}],\"barpolar\":[{\"marker\":{\"line\":{\"color\":\"#E5ECF6\",\"width\":0.5},\"pattern\":{\"fillmode\":\"overlay\",\"size\":10,\"solidity\":0.2}},\"type\":\"barpolar\"}],\"pie\":[{\"automargin\":true,\"type\":\"pie\"}]},\"layout\":{\"autotypenumbers\":\"strict\",\"colorway\":[\"#636efa\",\"#EF553B\",\"#00cc96\",\"#ab63fa\",\"#FFA15A\",\"#19d3f3\",\"#FF6692\",\"#B6E880\",\"#FF97FF\",\"#FECB52\"],\"font\":{\"color\":\"#2a3f5f\"},\"hovermode\":\"closest\",\"hoverlabel\":{\"align\":\"left\"},\"paper_bgcolor\":\"white\",\"plot_bgcolor\":\"#E5ECF6\",\"polar\":{\"bgcolor\":\"#E5ECF6\",\"angularaxis\":{\"gridcolor\":\"white\",\"linecolor\":\"white\",\"ticks\":\"\"},\"radialaxis\":{\"gridcolor\":\"white\",\"linecolor\":\"white\",\"ticks\":\"\"}},\"ternary\":{\"bgcolor\":\"#E5ECF6\",\"aaxis\":{\"gridcolor\":\"white\",\"linecolor\":\"white\",\"ticks\":\"\"},\"baxis\":{\"gridcolor\":\"white\",\"linecolor\":\"white\",\"ticks\":\"\"},\"caxis\":{\"gridcolor\":\"white\",\"linecolor\":\"white\",\"ticks\":\"\"}},\"coloraxis\":{\"colorbar\":{\"outlinewidth\":0,\"ticks\":\"\"}},\"colorscale\":{\"sequential\":[[0.0,\"#0d0887\"],[0.1111111111111111,\"#46039f\"],[0.2222222222222222,\"#7201a8\"],[0.3333333333333333,\"#9c179e\"],[0.4444444444444444,\"#bd3786\"],[0.5555555555555556,\"#d8576b\"],[0.6666666666666666,\"#ed7953\"],[0.7777777777777778,\"#fb9f3a\"],[0.8888888888888888,\"#fdca26\"],[1.0,\"#f0f921\"]],\"sequentialminus\":[[0.0,\"#0d0887\"],[0.1111111111111111,\"#46039f\"],[0.2222222222222222,\"#7201a8\"],[0.3333333333333333,\"#9c179e\"],[0.4444444444444444,\"#bd3786\"],[0.5555555555555556,\"#d8576b\"],[0.6666666666666666,\"#ed7953\"],[0.7777777777777778,\"#fb9f3a\"],[0.8888888888888888,\"#fdca26\"],[1.0,\"#f0f921\"]],\"diverging\":[[0,\"#8e0152\"],[0.1,\"#c51b7d\"],[0.2,\"#de77ae\"],[0.3,\"#f1b6da\"],[0.4,\"#fde0ef\"],[0.5,\"#f7f7f7\"],[0.6,\"#e6f5d0\"],[0.7,\"#b8e186\"],[0.8,\"#7fbc41\"],[0.9,\"#4d9221\"],[1,\"#276419\"]]},\"xaxis\":{\"gridcolor\":\"white\",\"linecolor\":\"white\",\"ticks\":\"\",\"title\":{\"standoff\":15},\"zerolinecolor\":\"white\",\"automargin\":true,\"zerolinewidth\":2},\"yaxis\":{\"gridcolor\":\"white\",\"linecolor\":\"white\",\"ticks\":\"\",\"title\":{\"standoff\":15},\"zerolinecolor\":\"white\",\"automargin\":true,\"zerolinewidth\":2},\"scene\":{\"xaxis\":{\"backgroundcolor\":\"#E5ECF6\",\"gridcolor\":\"white\",\"linecolor\":\"white\",\"showbackground\":true,\"ticks\":\"\",\"zerolinecolor\":\"white\",\"gridwidth\":2},\"yaxis\":{\"backgroundcolor\":\"#E5ECF6\",\"gridcolor\":\"white\",\"linecolor\":\"white\",\"showbackground\":true,\"ticks\":\"\",\"zerolinecolor\":\"white\",\"gridwidth\":2},\"zaxis\":{\"backgroundcolor\":\"#E5ECF6\",\"gridcolor\":\"white\",\"linecolor\":\"white\",\"showbackground\":true,\"ticks\":\"\",\"zerolinecolor\":\"white\",\"gridwidth\":2}},\"shapedefaults\":{\"line\":{\"color\":\"#2a3f5f\"}},\"annotationdefaults\":{\"arrowcolor\":\"#2a3f5f\",\"arrowhead\":0,\"arrowwidth\":1},\"geo\":{\"bgcolor\":\"white\",\"landcolor\":\"#E5ECF6\",\"subunitcolor\":\"white\",\"showland\":true,\"showlakes\":true,\"lakecolor\":\"white\"},\"title\":{\"x\":0.05},\"mapbox\":{\"style\":\"light\"}}},\"xaxis\":{\"anchor\":\"y\",\"domain\":[0.0,1.0],\"title\":{\"text\":\"x\"}},\"yaxis\":{\"anchor\":\"x\",\"domain\":[0.0,1.0],\"title\":{\"text\":\"y\"}},\"legend\":{\"tracegroupgap\":0},\"title\":{\"text\":\"Low Prices Over Time\"}},                        {\"responsive\": true}                    ).then(function(){\n",
       "                            \n",
       "var gd = document.getElementById('25165a1e-fce0-42d3-8cbd-56885e42dd52');\n",
       "var x = new MutationObserver(function (mutations, observer) {{\n",
       "        var display = window.getComputedStyle(gd).display;\n",
       "        if (!display || display === 'none') {{\n",
       "            console.log([gd, 'removed!']);\n",
       "            Plotly.purge(gd);\n",
       "            observer.disconnect();\n",
       "        }}\n",
       "}});\n",
       "\n",
       "// Listen for the removal of the full notebook cells\n",
       "var notebookContainer = gd.closest('#notebook-container');\n",
       "if (notebookContainer) {{\n",
       "    x.observe(notebookContainer, {childList: true});\n",
       "}}\n",
       "\n",
       "// Listen for the clearing of the current output cell\n",
       "var outputEl = gd.closest('.output');\n",
       "if (outputEl) {{\n",
       "    x.observe(outputEl, {childList: true});\n",
       "}}\n",
       "\n",
       "                        })                };                });            </script>        </div>"
      ]
     },
     "metadata": {},
     "output_type": "display_data"
    }
   ],
   "source": [
    "#monthly\n",
    "ensign_low_data = monthly_df[('Low', 'ENSG')]\n",
    "fig_low_ensign = px.line(x=monthly_df.index, y=ensign_low_data, title='Low Prices Over Time')\n",
    "fig_low_ensign.show()"
   ]
  },
  {
   "cell_type": "code",
   "execution_count": 395,
   "id": "74488629-3269-4dfd-ba16-2fa1c6652505",
   "metadata": {},
   "outputs": [
    {
     "data": {
      "text/html": [
       "<div>\n",
       "<style scoped>\n",
       "    .dataframe tbody tr th:only-of-type {\n",
       "        vertical-align: middle;\n",
       "    }\n",
       "\n",
       "    .dataframe tbody tr th {\n",
       "        vertical-align: top;\n",
       "    }\n",
       "\n",
       "    .dataframe thead tr th {\n",
       "        text-align: left;\n",
       "    }\n",
       "</style>\n",
       "<table border=\"1\" class=\"dataframe\">\n",
       "  <thead>\n",
       "    <tr>\n",
       "      <th>Price</th>\n",
       "      <th>Adj Close</th>\n",
       "      <th>Close</th>\n",
       "      <th>High</th>\n",
       "      <th>Low</th>\n",
       "      <th>Open</th>\n",
       "      <th>Volume</th>\n",
       "      <th>daily_returns</th>\n",
       "      <th>monthly_returns</th>\n",
       "      <th>annual_returns</th>\n",
       "      <th>daily_range</th>\n",
       "    </tr>\n",
       "    <tr>\n",
       "      <th>Ticker</th>\n",
       "      <th>ENSG</th>\n",
       "      <th>ENSG</th>\n",
       "      <th>ENSG</th>\n",
       "      <th>ENSG</th>\n",
       "      <th>ENSG</th>\n",
       "      <th>ENSG</th>\n",
       "      <th></th>\n",
       "      <th></th>\n",
       "      <th></th>\n",
       "      <th></th>\n",
       "    </tr>\n",
       "  </thead>\n",
       "  <tbody>\n",
       "    <tr>\n",
       "      <th>count</th>\n",
       "      <td>60.000000</td>\n",
       "      <td>60.000000</td>\n",
       "      <td>60.000000</td>\n",
       "      <td>60.000000</td>\n",
       "      <td>60.000000</td>\n",
       "      <td>6.000000e+01</td>\n",
       "      <td>60.000000</td>\n",
       "      <td>60.000000</td>\n",
       "      <td>26.000000</td>\n",
       "      <td>60.00000</td>\n",
       "    </tr>\n",
       "    <tr>\n",
       "      <th>mean</th>\n",
       "      <td>86.030317</td>\n",
       "      <td>86.408833</td>\n",
       "      <td>87.651500</td>\n",
       "      <td>84.989000</td>\n",
       "      <td>86.338667</td>\n",
       "      <td>5.357017e+05</td>\n",
       "      <td>-0.176955</td>\n",
       "      <td>-0.176955</td>\n",
       "      <td>40.198985</td>\n",
       "      <td>2.66250</td>\n",
       "    </tr>\n",
       "    <tr>\n",
       "      <th>std</th>\n",
       "      <td>27.908663</td>\n",
       "      <td>27.747706</td>\n",
       "      <td>27.899797</td>\n",
       "      <td>27.346088</td>\n",
       "      <td>27.817743</td>\n",
       "      <td>1.413988e+06</td>\n",
       "      <td>2.049772</td>\n",
       "      <td>2.049772</td>\n",
       "      <td>23.383705</td>\n",
       "      <td>1.75414</td>\n",
       "    </tr>\n",
       "    <tr>\n",
       "      <th>min</th>\n",
       "      <td>36.983000</td>\n",
       "      <td>37.410000</td>\n",
       "      <td>39.770000</td>\n",
       "      <td>36.710000</td>\n",
       "      <td>37.880000</td>\n",
       "      <td>7.620000e+04</td>\n",
       "      <td>-8.196599</td>\n",
       "      <td>-8.196599</td>\n",
       "      <td>15.432176</td>\n",
       "      <td>0.52000</td>\n",
       "    </tr>\n",
       "    <tr>\n",
       "      <th>25%</th>\n",
       "      <td>74.074250</td>\n",
       "      <td>74.535000</td>\n",
       "      <td>75.517500</td>\n",
       "      <td>73.365000</td>\n",
       "      <td>74.262500</td>\n",
       "      <td>2.460750e+05</td>\n",
       "      <td>-1.359813</td>\n",
       "      <td>-1.359813</td>\n",
       "      <td>15.432176</td>\n",
       "      <td>1.75500</td>\n",
       "    </tr>\n",
       "    <tr>\n",
       "      <th>50%</th>\n",
       "      <td>84.672000</td>\n",
       "      <td>85.185000</td>\n",
       "      <td>86.325000</td>\n",
       "      <td>83.100000</td>\n",
       "      <td>84.315000</td>\n",
       "      <td>3.131000e+05</td>\n",
       "      <td>-0.185166</td>\n",
       "      <td>-0.185166</td>\n",
       "      <td>61.427678</td>\n",
       "      <td>2.19500</td>\n",
       "    </tr>\n",
       "    <tr>\n",
       "      <th>75%</th>\n",
       "      <td>96.506250</td>\n",
       "      <td>96.667500</td>\n",
       "      <td>96.895000</td>\n",
       "      <td>94.970000</td>\n",
       "      <td>95.610000</td>\n",
       "      <td>4.500500e+05</td>\n",
       "      <td>1.299387</td>\n",
       "      <td>1.299387</td>\n",
       "      <td>61.427678</td>\n",
       "      <td>3.14500</td>\n",
       "    </tr>\n",
       "    <tr>\n",
       "      <th>max</th>\n",
       "      <td>154.990000</td>\n",
       "      <td>154.990000</td>\n",
       "      <td>157.930000</td>\n",
       "      <td>154.580000</td>\n",
       "      <td>155.300000</td>\n",
       "      <td>1.122320e+07</td>\n",
       "      <td>4.104381</td>\n",
       "      <td>4.104381</td>\n",
       "      <td>61.427678</td>\n",
       "      <td>11.81000</td>\n",
       "    </tr>\n",
       "  </tbody>\n",
       "</table>\n",
       "</div>"
      ],
      "text/plain": [
       "Price    Adj Close       Close        High         Low        Open  \\\n",
       "Ticker        ENSG        ENSG        ENSG        ENSG        ENSG   \n",
       "count    60.000000   60.000000   60.000000   60.000000   60.000000   \n",
       "mean     86.030317   86.408833   87.651500   84.989000   86.338667   \n",
       "std      27.908663   27.747706   27.899797   27.346088   27.817743   \n",
       "min      36.983000   37.410000   39.770000   36.710000   37.880000   \n",
       "25%      74.074250   74.535000   75.517500   73.365000   74.262500   \n",
       "50%      84.672000   85.185000   86.325000   83.100000   84.315000   \n",
       "75%      96.506250   96.667500   96.895000   94.970000   95.610000   \n",
       "max     154.990000  154.990000  157.930000  154.580000  155.300000   \n",
       "\n",
       "Price         Volume daily_returns monthly_returns annual_returns daily_range  \n",
       "Ticker          ENSG                                                           \n",
       "count   6.000000e+01     60.000000       60.000000      26.000000    60.00000  \n",
       "mean    5.357017e+05     -0.176955       -0.176955      40.198985     2.66250  \n",
       "std     1.413988e+06      2.049772        2.049772      23.383705     1.75414  \n",
       "min     7.620000e+04     -8.196599       -8.196599      15.432176     0.52000  \n",
       "25%     2.460750e+05     -1.359813       -1.359813      15.432176     1.75500  \n",
       "50%     3.131000e+05     -0.185166       -0.185166      61.427678     2.19500  \n",
       "75%     4.500500e+05      1.299387        1.299387      61.427678     3.14500  \n",
       "max     1.122320e+07      4.104381        4.104381      61.427678    11.81000  "
      ]
     },
     "execution_count": 395,
     "metadata": {},
     "output_type": "execute_result"
    }
   ],
   "source": [
    "\n",
    "monthly_df.describe()"
   ]
  },
  {
   "cell_type": "code",
   "execution_count": 397,
   "id": "b24e7a17-e317-46a3-918e-fffbdea511fe",
   "metadata": {},
   "outputs": [
    {
     "data": {
      "text/plain": [
       "DatetimeIndex(['2019-11-01', '2019-11-04', '2019-11-05', '2019-11-06',\n",
       "               '2019-11-07', '2019-11-08', '2019-11-11', '2019-11-12',\n",
       "               '2019-11-13', '2019-11-14',\n",
       "               ...\n",
       "               '2024-10-18', '2024-10-21', '2024-10-22', '2024-10-23',\n",
       "               '2024-10-24', '2024-10-25', '2024-10-28', '2024-10-29',\n",
       "               '2024-10-30', '2024-10-31'],\n",
       "              dtype='datetime64[ns]', name='Date', length=1258, freq=None)"
      ]
     },
     "execution_count": 397,
     "metadata": {},
     "output_type": "execute_result"
    }
   ],
   "source": [
    "\n",
    "df_ensign.index"
   ]
  },
  {
   "cell_type": "code",
   "execution_count": 401,
   "id": "5f437b58-e9d8-4aa2-81ac-476516fe86ab",
   "metadata": {},
   "outputs": [
    {
     "data": {
      "application/vnd.plotly.v1+json": {
       "config": {
        "plotlyServerURL": "https://plot.ly"
       },
       "data": [
        {
         "hovertemplate": "Date=%{x}<br>y=%{y}<extra></extra>",
         "legendgroup": "",
         "line": {
          "color": "#636efa",
          "dash": "solid"
         },
         "marker": {
          "symbol": "circle"
         },
         "mode": "lines",
         "name": "",
         "orientation": "v",
         "showlegend": false,
         "type": "scatter",
         "x": [
          "2019-11-30T00:00:00",
          "2019-12-31T00:00:00",
          "2020-01-31T00:00:00",
          "2020-02-29T00:00:00",
          "2020-03-31T00:00:00",
          "2020-04-30T00:00:00",
          "2020-05-31T00:00:00",
          "2020-06-30T00:00:00",
          "2020-07-31T00:00:00",
          "2020-08-31T00:00:00",
          "2020-09-30T00:00:00",
          "2020-10-31T00:00:00",
          "2020-11-30T00:00:00",
          "2020-12-31T00:00:00",
          "2021-01-31T00:00:00",
          "2021-02-28T00:00:00",
          "2021-03-31T00:00:00",
          "2021-04-30T00:00:00",
          "2021-05-31T00:00:00",
          "2021-06-30T00:00:00",
          "2021-07-31T00:00:00",
          "2021-08-31T00:00:00",
          "2021-09-30T00:00:00",
          "2021-10-31T00:00:00",
          "2021-11-30T00:00:00",
          "2021-12-31T00:00:00",
          "2022-01-31T00:00:00",
          "2022-02-28T00:00:00",
          "2022-03-31T00:00:00",
          "2022-04-30T00:00:00",
          "2022-05-31T00:00:00",
          "2022-06-30T00:00:00",
          "2022-07-31T00:00:00",
          "2022-08-31T00:00:00",
          "2022-09-30T00:00:00",
          "2022-10-31T00:00:00",
          "2022-11-30T00:00:00",
          "2022-12-31T00:00:00",
          "2023-01-31T00:00:00",
          "2023-02-28T00:00:00",
          "2023-03-31T00:00:00",
          "2023-04-30T00:00:00",
          "2023-05-31T00:00:00",
          "2023-06-30T00:00:00",
          "2023-07-31T00:00:00",
          "2023-08-31T00:00:00",
          "2023-09-30T00:00:00",
          "2023-10-31T00:00:00",
          "2023-11-30T00:00:00",
          "2023-12-31T00:00:00",
          "2024-01-31T00:00:00",
          "2024-02-29T00:00:00",
          "2024-03-31T00:00:00",
          "2024-04-30T00:00:00",
          "2024-05-31T00:00:00",
          "2024-06-30T00:00:00",
          "2024-07-31T00:00:00",
          "2024-08-31T00:00:00",
          "2024-09-30T00:00:00",
          "2024-10-31T00:00:00"
         ],
         "xaxis": "x",
         "y": [
          42.823,
          44.786,
          44.619,
          43.928,
          37.181,
          36.983,
          43.221,
          41.426,
          45.524,
          57.947,
          56.532,
          58.295,
          71.205,
          72.297,
          77.612,
          81.32,
          93.093,
          85.167,
          82.538,
          86.031,
          84.443,
          81.068,
          74.39,
          77.489,
          75.821,
          83.454,
          74.975,
          83.533,
          89.523,
          79.895,
          80.73,
          73.127,
          79.317,
          84.901,
          79.182,
          89.421,
          94.62,
          94.29,
          92.935,
          89.178,
          95.277,
          96.823,
          88.366,
          95.256,
          96.663,
          100.006,
          92.79,
          96.454,
          106.909,
          112.1,
          113.109,
          124.797,
          124.358,
          118.301,
          121.18,
          123.69,
          140.75,
          151.36,
          143.82,
          154.99
         ],
         "yaxis": "y"
        }
       ],
       "layout": {
        "autosize": true,
        "legend": {
         "tracegroupgap": 0
        },
        "template": {
         "data": {
          "bar": [
           {
            "error_x": {
             "color": "#2a3f5f"
            },
            "error_y": {
             "color": "#2a3f5f"
            },
            "marker": {
             "line": {
              "color": "#E5ECF6",
              "width": 0.5
             },
             "pattern": {
              "fillmode": "overlay",
              "size": 10,
              "solidity": 0.2
             }
            },
            "type": "bar"
           }
          ],
          "barpolar": [
           {
            "marker": {
             "line": {
              "color": "#E5ECF6",
              "width": 0.5
             },
             "pattern": {
              "fillmode": "overlay",
              "size": 10,
              "solidity": 0.2
             }
            },
            "type": "barpolar"
           }
          ],
          "carpet": [
           {
            "aaxis": {
             "endlinecolor": "#2a3f5f",
             "gridcolor": "white",
             "linecolor": "white",
             "minorgridcolor": "white",
             "startlinecolor": "#2a3f5f"
            },
            "baxis": {
             "endlinecolor": "#2a3f5f",
             "gridcolor": "white",
             "linecolor": "white",
             "minorgridcolor": "white",
             "startlinecolor": "#2a3f5f"
            },
            "type": "carpet"
           }
          ],
          "choropleth": [
           {
            "colorbar": {
             "outlinewidth": 0,
             "ticks": ""
            },
            "type": "choropleth"
           }
          ],
          "contour": [
           {
            "colorbar": {
             "outlinewidth": 0,
             "ticks": ""
            },
            "colorscale": [
             [
              0,
              "#0d0887"
             ],
             [
              0.1111111111111111,
              "#46039f"
             ],
             [
              0.2222222222222222,
              "#7201a8"
             ],
             [
              0.3333333333333333,
              "#9c179e"
             ],
             [
              0.4444444444444444,
              "#bd3786"
             ],
             [
              0.5555555555555556,
              "#d8576b"
             ],
             [
              0.6666666666666666,
              "#ed7953"
             ],
             [
              0.7777777777777778,
              "#fb9f3a"
             ],
             [
              0.8888888888888888,
              "#fdca26"
             ],
             [
              1,
              "#f0f921"
             ]
            ],
            "type": "contour"
           }
          ],
          "contourcarpet": [
           {
            "colorbar": {
             "outlinewidth": 0,
             "ticks": ""
            },
            "type": "contourcarpet"
           }
          ],
          "heatmap": [
           {
            "colorbar": {
             "outlinewidth": 0,
             "ticks": ""
            },
            "colorscale": [
             [
              0,
              "#0d0887"
             ],
             [
              0.1111111111111111,
              "#46039f"
             ],
             [
              0.2222222222222222,
              "#7201a8"
             ],
             [
              0.3333333333333333,
              "#9c179e"
             ],
             [
              0.4444444444444444,
              "#bd3786"
             ],
             [
              0.5555555555555556,
              "#d8576b"
             ],
             [
              0.6666666666666666,
              "#ed7953"
             ],
             [
              0.7777777777777778,
              "#fb9f3a"
             ],
             [
              0.8888888888888888,
              "#fdca26"
             ],
             [
              1,
              "#f0f921"
             ]
            ],
            "type": "heatmap"
           }
          ],
          "heatmapgl": [
           {
            "colorbar": {
             "outlinewidth": 0,
             "ticks": ""
            },
            "colorscale": [
             [
              0,
              "#0d0887"
             ],
             [
              0.1111111111111111,
              "#46039f"
             ],
             [
              0.2222222222222222,
              "#7201a8"
             ],
             [
              0.3333333333333333,
              "#9c179e"
             ],
             [
              0.4444444444444444,
              "#bd3786"
             ],
             [
              0.5555555555555556,
              "#d8576b"
             ],
             [
              0.6666666666666666,
              "#ed7953"
             ],
             [
              0.7777777777777778,
              "#fb9f3a"
             ],
             [
              0.8888888888888888,
              "#fdca26"
             ],
             [
              1,
              "#f0f921"
             ]
            ],
            "type": "heatmapgl"
           }
          ],
          "histogram": [
           {
            "marker": {
             "pattern": {
              "fillmode": "overlay",
              "size": 10,
              "solidity": 0.2
             }
            },
            "type": "histogram"
           }
          ],
          "histogram2d": [
           {
            "colorbar": {
             "outlinewidth": 0,
             "ticks": ""
            },
            "colorscale": [
             [
              0,
              "#0d0887"
             ],
             [
              0.1111111111111111,
              "#46039f"
             ],
             [
              0.2222222222222222,
              "#7201a8"
             ],
             [
              0.3333333333333333,
              "#9c179e"
             ],
             [
              0.4444444444444444,
              "#bd3786"
             ],
             [
              0.5555555555555556,
              "#d8576b"
             ],
             [
              0.6666666666666666,
              "#ed7953"
             ],
             [
              0.7777777777777778,
              "#fb9f3a"
             ],
             [
              0.8888888888888888,
              "#fdca26"
             ],
             [
              1,
              "#f0f921"
             ]
            ],
            "type": "histogram2d"
           }
          ],
          "histogram2dcontour": [
           {
            "colorbar": {
             "outlinewidth": 0,
             "ticks": ""
            },
            "colorscale": [
             [
              0,
              "#0d0887"
             ],
             [
              0.1111111111111111,
              "#46039f"
             ],
             [
              0.2222222222222222,
              "#7201a8"
             ],
             [
              0.3333333333333333,
              "#9c179e"
             ],
             [
              0.4444444444444444,
              "#bd3786"
             ],
             [
              0.5555555555555556,
              "#d8576b"
             ],
             [
              0.6666666666666666,
              "#ed7953"
             ],
             [
              0.7777777777777778,
              "#fb9f3a"
             ],
             [
              0.8888888888888888,
              "#fdca26"
             ],
             [
              1,
              "#f0f921"
             ]
            ],
            "type": "histogram2dcontour"
           }
          ],
          "mesh3d": [
           {
            "colorbar": {
             "outlinewidth": 0,
             "ticks": ""
            },
            "type": "mesh3d"
           }
          ],
          "parcoords": [
           {
            "line": {
             "colorbar": {
              "outlinewidth": 0,
              "ticks": ""
             }
            },
            "type": "parcoords"
           }
          ],
          "pie": [
           {
            "automargin": true,
            "type": "pie"
           }
          ],
          "scatter": [
           {
            "fillpattern": {
             "fillmode": "overlay",
             "size": 10,
             "solidity": 0.2
            },
            "type": "scatter"
           }
          ],
          "scatter3d": [
           {
            "line": {
             "colorbar": {
              "outlinewidth": 0,
              "ticks": ""
             }
            },
            "marker": {
             "colorbar": {
              "outlinewidth": 0,
              "ticks": ""
             }
            },
            "type": "scatter3d"
           }
          ],
          "scattercarpet": [
           {
            "marker": {
             "colorbar": {
              "outlinewidth": 0,
              "ticks": ""
             }
            },
            "type": "scattercarpet"
           }
          ],
          "scattergeo": [
           {
            "marker": {
             "colorbar": {
              "outlinewidth": 0,
              "ticks": ""
             }
            },
            "type": "scattergeo"
           }
          ],
          "scattergl": [
           {
            "marker": {
             "colorbar": {
              "outlinewidth": 0,
              "ticks": ""
             }
            },
            "type": "scattergl"
           }
          ],
          "scattermapbox": [
           {
            "marker": {
             "colorbar": {
              "outlinewidth": 0,
              "ticks": ""
             }
            },
            "type": "scattermapbox"
           }
          ],
          "scatterpolar": [
           {
            "marker": {
             "colorbar": {
              "outlinewidth": 0,
              "ticks": ""
             }
            },
            "type": "scatterpolar"
           }
          ],
          "scatterpolargl": [
           {
            "marker": {
             "colorbar": {
              "outlinewidth": 0,
              "ticks": ""
             }
            },
            "type": "scatterpolargl"
           }
          ],
          "scatterternary": [
           {
            "marker": {
             "colorbar": {
              "outlinewidth": 0,
              "ticks": ""
             }
            },
            "type": "scatterternary"
           }
          ],
          "surface": [
           {
            "colorbar": {
             "outlinewidth": 0,
             "ticks": ""
            },
            "colorscale": [
             [
              0,
              "#0d0887"
             ],
             [
              0.1111111111111111,
              "#46039f"
             ],
             [
              0.2222222222222222,
              "#7201a8"
             ],
             [
              0.3333333333333333,
              "#9c179e"
             ],
             [
              0.4444444444444444,
              "#bd3786"
             ],
             [
              0.5555555555555556,
              "#d8576b"
             ],
             [
              0.6666666666666666,
              "#ed7953"
             ],
             [
              0.7777777777777778,
              "#fb9f3a"
             ],
             [
              0.8888888888888888,
              "#fdca26"
             ],
             [
              1,
              "#f0f921"
             ]
            ],
            "type": "surface"
           }
          ],
          "table": [
           {
            "cells": {
             "fill": {
              "color": "#EBF0F8"
             },
             "line": {
              "color": "white"
             }
            },
            "header": {
             "fill": {
              "color": "#C8D4E3"
             },
             "line": {
              "color": "white"
             }
            },
            "type": "table"
           }
          ]
         },
         "layout": {
          "annotationdefaults": {
           "arrowcolor": "#2a3f5f",
           "arrowhead": 0,
           "arrowwidth": 1
          },
          "autotypenumbers": "strict",
          "coloraxis": {
           "colorbar": {
            "outlinewidth": 0,
            "ticks": ""
           }
          },
          "colorscale": {
           "diverging": [
            [
             0,
             "#8e0152"
            ],
            [
             0.1,
             "#c51b7d"
            ],
            [
             0.2,
             "#de77ae"
            ],
            [
             0.3,
             "#f1b6da"
            ],
            [
             0.4,
             "#fde0ef"
            ],
            [
             0.5,
             "#f7f7f7"
            ],
            [
             0.6,
             "#e6f5d0"
            ],
            [
             0.7,
             "#b8e186"
            ],
            [
             0.8,
             "#7fbc41"
            ],
            [
             0.9,
             "#4d9221"
            ],
            [
             1,
             "#276419"
            ]
           ],
           "sequential": [
            [
             0,
             "#0d0887"
            ],
            [
             0.1111111111111111,
             "#46039f"
            ],
            [
             0.2222222222222222,
             "#7201a8"
            ],
            [
             0.3333333333333333,
             "#9c179e"
            ],
            [
             0.4444444444444444,
             "#bd3786"
            ],
            [
             0.5555555555555556,
             "#d8576b"
            ],
            [
             0.6666666666666666,
             "#ed7953"
            ],
            [
             0.7777777777777778,
             "#fb9f3a"
            ],
            [
             0.8888888888888888,
             "#fdca26"
            ],
            [
             1,
             "#f0f921"
            ]
           ],
           "sequentialminus": [
            [
             0,
             "#0d0887"
            ],
            [
             0.1111111111111111,
             "#46039f"
            ],
            [
             0.2222222222222222,
             "#7201a8"
            ],
            [
             0.3333333333333333,
             "#9c179e"
            ],
            [
             0.4444444444444444,
             "#bd3786"
            ],
            [
             0.5555555555555556,
             "#d8576b"
            ],
            [
             0.6666666666666666,
             "#ed7953"
            ],
            [
             0.7777777777777778,
             "#fb9f3a"
            ],
            [
             0.8888888888888888,
             "#fdca26"
            ],
            [
             1,
             "#f0f921"
            ]
           ]
          },
          "colorway": [
           "#636efa",
           "#EF553B",
           "#00cc96",
           "#ab63fa",
           "#FFA15A",
           "#19d3f3",
           "#FF6692",
           "#B6E880",
           "#FF97FF",
           "#FECB52"
          ],
          "font": {
           "color": "#2a3f5f"
          },
          "geo": {
           "bgcolor": "white",
           "lakecolor": "white",
           "landcolor": "#E5ECF6",
           "showlakes": true,
           "showland": true,
           "subunitcolor": "white"
          },
          "hoverlabel": {
           "align": "left"
          },
          "hovermode": "closest",
          "mapbox": {
           "style": "light"
          },
          "paper_bgcolor": "white",
          "plot_bgcolor": "#E5ECF6",
          "polar": {
           "angularaxis": {
            "gridcolor": "white",
            "linecolor": "white",
            "ticks": ""
           },
           "bgcolor": "#E5ECF6",
           "radialaxis": {
            "gridcolor": "white",
            "linecolor": "white",
            "ticks": ""
           }
          },
          "scene": {
           "xaxis": {
            "backgroundcolor": "#E5ECF6",
            "gridcolor": "white",
            "gridwidth": 2,
            "linecolor": "white",
            "showbackground": true,
            "ticks": "",
            "zerolinecolor": "white"
           },
           "yaxis": {
            "backgroundcolor": "#E5ECF6",
            "gridcolor": "white",
            "gridwidth": 2,
            "linecolor": "white",
            "showbackground": true,
            "ticks": "",
            "zerolinecolor": "white"
           },
           "zaxis": {
            "backgroundcolor": "#E5ECF6",
            "gridcolor": "white",
            "gridwidth": 2,
            "linecolor": "white",
            "showbackground": true,
            "ticks": "",
            "zerolinecolor": "white"
           }
          },
          "shapedefaults": {
           "line": {
            "color": "#2a3f5f"
           }
          },
          "ternary": {
           "aaxis": {
            "gridcolor": "white",
            "linecolor": "white",
            "ticks": ""
           },
           "baxis": {
            "gridcolor": "white",
            "linecolor": "white",
            "ticks": ""
           },
           "bgcolor": "#E5ECF6",
           "caxis": {
            "gridcolor": "white",
            "linecolor": "white",
            "ticks": ""
           }
          },
          "title": {
           "x": 0.05
          },
          "xaxis": {
           "automargin": true,
           "gridcolor": "white",
           "linecolor": "white",
           "ticks": "",
           "title": {
            "standoff": 15
           },
           "zerolinecolor": "white",
           "zerolinewidth": 2
          },
          "yaxis": {
           "automargin": true,
           "gridcolor": "white",
           "linecolor": "white",
           "ticks": "",
           "title": {
            "standoff": 15
           },
           "zerolinecolor": "white",
           "zerolinewidth": 2
          }
         }
        },
        "title": {
         "text": "Adjusted Close Price Over Months"
        },
        "xaxis": {
         "anchor": "y",
         "autorange": true,
         "domain": [
          0,
          1
         ],
         "range": [
          "2019-11-30",
          "2024-10-31"
         ],
         "title": {
          "text": "Date"
         },
         "type": "date"
        },
        "yaxis": {
         "anchor": "x",
         "autorange": true,
         "domain": [
          0,
          1
         ],
         "range": [
          30.42705555555555,
          161.54594444444444
         ],
         "title": {
          "text": "y"
         },
         "type": "linear"
        }
       }
      },
      "image/png": "[encoded data removed]",
      "text/html": [
       "<div>                            <div id=\"d1d9143f-2b87-4a12-85a0-5ef71e7b8c3b\" class=\"plotly-graph-div\" style=\"height:525px; width:100%;\"></div>            <script type=\"text/javascript\">                require([\"plotly\"], function(Plotly) {                    window.PLOTLYENV=window.PLOTLYENV || {};                                    if (document.getElementById(\"d1d9143f-2b87-4a12-85a0-5ef71e7b8c3b\")) {                    Plotly.newPlot(                        \"d1d9143f-2b87-4a12-85a0-5ef71e7b8c3b\",                        [{\"hovertemplate\":\"Date=%{x}\\u003cbr\\u003ey=%{y}\\u003cextra\\u003e\\u003c\\u002fextra\\u003e\",\"legendgroup\":\"\",\"line\":{\"color\":\"#636efa\",\"dash\":\"solid\"},\"marker\":{\"symbol\":\"circle\"},\"mode\":\"lines\",\"name\":\"\",\"orientation\":\"v\",\"showlegend\":false,\"x\":[\"2019-11-30T00:00:00\",\"2019-12-31T00:00:00\",\"2020-01-31T00:00:00\",\"2020-02-29T00:00:00\",\"2020-03-31T00:00:00\",\"2020-04-30T00:00:00\",\"2020-05-31T00:00:00\",\"2020-06-30T00:00:00\",\"2020-07-31T00:00:00\",\"2020-08-31T00:00:00\",\"2020-09-30T00:00:00\",\"2020-10-31T00:00:00\",\"2020-11-30T00:00:00\",\"2020-12-31T00:00:00\",\"2021-01-31T00:00:00\",\"2021-02-28T00:00:00\",\"2021-03-31T00:00:00\",\"2021-04-30T00:00:00\",\"2021-05-31T00:00:00\",\"2021-06-30T00:00:00\",\"2021-07-31T00:00:00\",\"2021-08-31T00:00:00\",\"2021-09-30T00:00:00\",\"2021-10-31T00:00:00\",\"2021-11-30T00:00:00\",\"2021-12-31T00:00:00\",\"2022-01-31T00:00:00\",\"2022-02-28T00:00:00\",\"2022-03-31T00:00:00\",\"2022-04-30T00:00:00\",\"2022-05-31T00:00:00\",\"2022-06-30T00:00:00\",\"2022-07-31T00:00:00\",\"2022-08-31T00:00:00\",\"2022-09-30T00:00:00\",\"2022-10-31T00:00:00\",\"2022-11-30T00:00:00\",\"2022-12-31T00:00:00\",\"2023-01-31T00:00:00\",\"2023-02-28T00:00:00\",\"2023-03-31T00:00:00\",\"2023-04-30T00:00:00\",\"2023-05-31T00:00:00\",\"2023-06-30T00:00:00\",\"2023-07-31T00:00:00\",\"2023-08-31T00:00:00\",\"2023-09-30T00:00:00\",\"2023-10-31T00:00:00\",\"2023-11-30T00:00:00\",\"2023-12-31T00:00:00\",\"2024-01-31T00:00:00\",\"2024-02-29T00:00:00\",\"2024-03-31T00:00:00\",\"2024-04-30T00:00:00\",\"2024-05-31T00:00:00\",\"2024-06-30T00:00:00\",\"2024-07-31T00:00:00\",\"2024-08-31T00:00:00\",\"2024-09-30T00:00:00\",\"2024-10-31T00:00:00\"],\"xaxis\":\"x\",\"y\":[42.823,44.786,44.619,43.928,37.181,36.983,43.221,41.426,45.524,57.947,56.532,58.295,71.205,72.297,77.612,81.32,93.093,85.167,82.538,86.031,84.443,81.068,74.39,77.489,75.821,83.454,74.975,83.533,89.523,79.895,80.73,73.127,79.317,84.901,79.182,89.421,94.62,94.29,92.935,89.178,95.277,96.823,88.366,95.256,96.663,100.006,92.79,96.454,106.909,112.1,113.109,124.797,124.358,118.301,121.18,123.69,140.75,151.36,143.82,154.99],\"yaxis\":\"y\",\"type\":\"scatter\"}],                        {\"template\":{\"data\":{\"histogram2dcontour\":[{\"type\":\"histogram2dcontour\",\"colorbar\":{\"outlinewidth\":0,\"ticks\":\"\"},\"colorscale\":[[0.0,\"#0d0887\"],[0.1111111111111111,\"#46039f\"],[0.2222222222222222,\"#7201a8\"],[0.3333333333333333,\"#9c179e\"],[0.4444444444444444,\"#bd3786\"],[0.5555555555555556,\"#d8576b\"],[0.6666666666666666,\"#ed7953\"],[0.7777777777777778,\"#fb9f3a\"],[0.8888888888888888,\"#fdca26\"],[1.0,\"#f0f921\"]]}],\"choropleth\":[{\"type\":\"choropleth\",\"colorbar\":{\"outlinewidth\":0,\"ticks\":\"\"}}],\"histogram2d\":[{\"type\":\"histogram2d\",\"colorbar\":{\"outlinewidth\":0,\"ticks\":\"\"},\"colorscale\":[[0.0,\"#0d0887\"],[0.1111111111111111,\"#46039f\"],[0.2222222222222222,\"#7201a8\"],[0.3333333333333333,\"#9c179e\"],[0.4444444444444444,\"#bd3786\"],[0.5555555555555556,\"#d8576b\"],[0.6666666666666666,\"#ed7953\"],[0.7777777777777778,\"#fb9f3a\"],[0.8888888888888888,\"#fdca26\"],[1.0,\"#f0f921\"]]}],\"heatmap\":[{\"type\":\"heatmap\",\"colorbar\":{\"outlinewidth\":0,\"ticks\":\"\"},\"colorscale\":[[0.0,\"#0d0887\"],[0.1111111111111111,\"#46039f\"],[0.2222222222222222,\"#7201a8\"],[0.3333333333333333,\"#9c179e\"],[0.4444444444444444,\"#bd3786\"],[0.5555555555555556,\"#d8576b\"],[0.6666666666666666,\"#ed7953\"],[0.7777777777777778,\"#fb9f3a\"],[0.8888888888888888,\"#fdca26\"],[1.0,\"#f0f921\"]]}],\"heatmapgl\":[{\"type\":\"heatmapgl\",\"colorbar\":{\"outlinewidth\":0,\"ticks\":\"\"},\"colorscale\":[[0.0,\"#0d0887\"],[0.1111111111111111,\"#46039f\"],[0.2222222222222222,\"#7201a8\"],[0.3333333333333333,\"#9c179e\"],[0.4444444444444444,\"#bd3786\"],[0.5555555555555556,\"#d8576b\"],[0.6666666666666666,\"#ed7953\"],[0.7777777777777778,\"#fb9f3a\"],[0.8888888888888888,\"#fdca26\"],[1.0,\"#f0f921\"]]}],\"contourcarpet\":[{\"type\":\"contourcarpet\",\"colorbar\":{\"outlinewidth\":0,\"ticks\":\"\"}}],\"contour\":[{\"type\":\"contour\",\"colorbar\":{\"outlinewidth\":0,\"ticks\":\"\"},\"colorscale\":[[0.0,\"#0d0887\"],[0.1111111111111111,\"#46039f\"],[0.2222222222222222,\"#7201a8\"],[0.3333333333333333,\"#9c179e\"],[0.4444444444444444,\"#bd3786\"],[0.5555555555555556,\"#d8576b\"],[0.6666666666666666,\"#ed7953\"],[0.7777777777777778,\"#fb9f3a\"],[0.8888888888888888,\"#fdca26\"],[1.0,\"#f0f921\"]]}],\"surface\":[{\"type\":\"surface\",\"colorbar\":{\"outlinewidth\":0,\"ticks\":\"\"},\"colorscale\":[[0.0,\"#0d0887\"],[0.1111111111111111,\"#46039f\"],[0.2222222222222222,\"#7201a8\"],[0.3333333333333333,\"#9c179e\"],[0.4444444444444444,\"#bd3786\"],[0.5555555555555556,\"#d8576b\"],[0.6666666666666666,\"#ed7953\"],[0.7777777777777778,\"#fb9f3a\"],[0.8888888888888888,\"#fdca26\"],[1.0,\"#f0f921\"]]}],\"mesh3d\":[{\"type\":\"mesh3d\",\"colorbar\":{\"outlinewidth\":0,\"ticks\":\"\"}}],\"scatter\":[{\"fillpattern\":{\"fillmode\":\"overlay\",\"size\":10,\"solidity\":0.2},\"type\":\"scatter\"}],\"parcoords\":[{\"type\":\"parcoords\",\"line\":{\"colorbar\":{\"outlinewidth\":0,\"ticks\":\"\"}}}],\"scatterpolargl\":[{\"type\":\"scatterpolargl\",\"marker\":{\"colorbar\":{\"outlinewidth\":0,\"ticks\":\"\"}}}],\"bar\":[{\"error_x\":{\"color\":\"#2a3f5f\"},\"error_y\":{\"color\":\"#2a3f5f\"},\"marker\":{\"line\":{\"color\":\"#E5ECF6\",\"width\":0.5},\"pattern\":{\"fillmode\":\"overlay\",\"size\":10,\"solidity\":0.2}},\"type\":\"bar\"}],\"scattergeo\":[{\"type\":\"scattergeo\",\"marker\":{\"colorbar\":{\"outlinewidth\":0,\"ticks\":\"\"}}}],\"scatterpolar\":[{\"type\":\"scatterpolar\",\"marker\":{\"colorbar\":{\"outlinewidth\":0,\"ticks\":\"\"}}}],\"histogram\":[{\"marker\":{\"pattern\":{\"fillmode\":\"overlay\",\"size\":10,\"solidity\":0.2}},\"type\":\"histogram\"}],\"scattergl\":[{\"type\":\"scattergl\",\"marker\":{\"colorbar\":{\"outlinewidth\":0,\"ticks\":\"\"}}}],\"scatter3d\":[{\"type\":\"scatter3d\",\"line\":{\"colorbar\":{\"outlinewidth\":0,\"ticks\":\"\"}},\"marker\":{\"colorbar\":{\"outlinewidth\":0,\"ticks\":\"\"}}}],\"scattermapbox\":[{\"type\":\"scattermapbox\",\"marker\":{\"colorbar\":{\"outlinewidth\":0,\"ticks\":\"\"}}}],\"scatterternary\":[{\"type\":\"scatterternary\",\"marker\":{\"colorbar\":{\"outlinewidth\":0,\"ticks\":\"\"}}}],\"scattercarpet\":[{\"type\":\"scattercarpet\",\"marker\":{\"colorbar\":{\"outlinewidth\":0,\"ticks\":\"\"}}}],\"carpet\":[{\"aaxis\":{\"endlinecolor\":\"#2a3f5f\",\"gridcolor\":\"white\",\"linecolor\":\"white\",\"minorgridcolor\":\"white\",\"startlinecolor\":\"#2a3f5f\"},\"baxis\":{\"endlinecolor\":\"#2a3f5f\",\"gridcolor\":\"white\",\"linecolor\":\"white\",\"minorgridcolor\":\"white\",\"startlinecolor\":\"#2a3f5f\"},\"type\":\"carpet\"}],\"table\":[{\"cells\":{\"fill\":{\"color\":\"#EBF0F8\"},\"line\":{\"color\":\"white\"}},\"header\":{\"fill\":{\"color\":\"#C8D4E3\"},\"line\":{\"color\":\"white\"}},\"type\":\"table\"}],\"barpolar\":[{\"marker\":{\"line\":{\"color\":\"#E5ECF6\",\"width\":0.5},\"pattern\":{\"fillmode\":\"overlay\",\"size\":10,\"solidity\":0.2}},\"type\":\"barpolar\"}],\"pie\":[{\"automargin\":true,\"type\":\"pie\"}]},\"layout\":{\"autotypenumbers\":\"strict\",\"colorway\":[\"#636efa\",\"#EF553B\",\"#00cc96\",\"#ab63fa\",\"#FFA15A\",\"#19d3f3\",\"#FF6692\",\"#B6E880\",\"#FF97FF\",\"#FECB52\"],\"font\":{\"color\":\"#2a3f5f\"},\"hovermode\":\"closest\",\"hoverlabel\":{\"align\":\"left\"},\"paper_bgcolor\":\"white\",\"plot_bgcolor\":\"#E5ECF6\",\"polar\":{\"bgcolor\":\"#E5ECF6\",\"angularaxis\":{\"gridcolor\":\"white\",\"linecolor\":\"white\",\"ticks\":\"\"},\"radialaxis\":{\"gridcolor\":\"white\",\"linecolor\":\"white\",\"ticks\":\"\"}},\"ternary\":{\"bgcolor\":\"#E5ECF6\",\"aaxis\":{\"gridcolor\":\"white\",\"linecolor\":\"white\",\"ticks\":\"\"},\"baxis\":{\"gridcolor\":\"white\",\"linecolor\":\"white\",\"ticks\":\"\"},\"caxis\":{\"gridcolor\":\"white\",\"linecolor\":\"white\",\"ticks\":\"\"}},\"coloraxis\":{\"colorbar\":{\"outlinewidth\":0,\"ticks\":\"\"}},\"colorscale\":{\"sequential\":[[0.0,\"#0d0887\"],[0.1111111111111111,\"#46039f\"],[0.2222222222222222,\"#7201a8\"],[0.3333333333333333,\"#9c179e\"],[0.4444444444444444,\"#bd3786\"],[0.5555555555555556,\"#d8576b\"],[0.6666666666666666,\"#ed7953\"],[0.7777777777777778,\"#fb9f3a\"],[0.8888888888888888,\"#fdca26\"],[1.0,\"#f0f921\"]],\"sequentialminus\":[[0.0,\"#0d0887\"],[0.1111111111111111,\"#46039f\"],[0.2222222222222222,\"#7201a8\"],[0.3333333333333333,\"#9c179e\"],[0.4444444444444444,\"#bd3786\"],[0.5555555555555556,\"#d8576b\"],[0.6666666666666666,\"#ed7953\"],[0.7777777777777778,\"#fb9f3a\"],[0.8888888888888888,\"#fdca26\"],[1.0,\"#f0f921\"]],\"diverging\":[[0,\"#8e0152\"],[0.1,\"#c51b7d\"],[0.2,\"#de77ae\"],[0.3,\"#f1b6da\"],[0.4,\"#fde0ef\"],[0.5,\"#f7f7f7\"],[0.6,\"#e6f5d0\"],[0.7,\"#b8e186\"],[0.8,\"#7fbc41\"],[0.9,\"#4d9221\"],[1,\"#276419\"]]},\"xaxis\":{\"gridcolor\":\"white\",\"linecolor\":\"white\",\"ticks\":\"\",\"title\":{\"standoff\":15},\"zerolinecolor\":\"white\",\"automargin\":true,\"zerolinewidth\":2},\"yaxis\":{\"gridcolor\":\"white\",\"linecolor\":\"white\",\"ticks\":\"\",\"title\":{\"standoff\":15},\"zerolinecolor\":\"white\",\"automargin\":true,\"zerolinewidth\":2},\"scene\":{\"xaxis\":{\"backgroundcolor\":\"#E5ECF6\",\"gridcolor\":\"white\",\"linecolor\":\"white\",\"showbackground\":true,\"ticks\":\"\",\"zerolinecolor\":\"white\",\"gridwidth\":2},\"yaxis\":{\"backgroundcolor\":\"#E5ECF6\",\"gridcolor\":\"white\",\"linecolor\":\"white\",\"showbackground\":true,\"ticks\":\"\",\"zerolinecolor\":\"white\",\"gridwidth\":2},\"zaxis\":{\"backgroundcolor\":\"#E5ECF6\",\"gridcolor\":\"white\",\"linecolor\":\"white\",\"showbackground\":true,\"ticks\":\"\",\"zerolinecolor\":\"white\",\"gridwidth\":2}},\"shapedefaults\":{\"line\":{\"color\":\"#2a3f5f\"}},\"annotationdefaults\":{\"arrowcolor\":\"#2a3f5f\",\"arrowhead\":0,\"arrowwidth\":1},\"geo\":{\"bgcolor\":\"white\",\"landcolor\":\"#E5ECF6\",\"subunitcolor\":\"white\",\"showland\":true,\"showlakes\":true,\"lakecolor\":\"white\"},\"title\":{\"x\":0.05},\"mapbox\":{\"style\":\"light\"}}},\"xaxis\":{\"anchor\":\"y\",\"domain\":[0.0,1.0],\"title\":{\"text\":\"Date\"}},\"yaxis\":{\"anchor\":\"x\",\"domain\":[0.0,1.0],\"title\":{\"text\":\"y\"}},\"legend\":{\"tracegroupgap\":0},\"title\":{\"text\":\"Adjusted Close Price Over Months\"}},                        {\"responsive\": true}                    ).then(function(){\n",
       "                            \n",
       "var gd = document.getElementById('d1d9143f-2b87-4a12-85a0-5ef71e7b8c3b');\n",
       "var x = new MutationObserver(function (mutations, observer) {{\n",
       "        var display = window.getComputedStyle(gd).display;\n",
       "        if (!display || display === 'none') {{\n",
       "            console.log([gd, 'removed!']);\n",
       "            Plotly.purge(gd);\n",
       "            observer.disconnect();\n",
       "        }}\n",
       "}});\n",
       "\n",
       "// Listen for the removal of the full notebook cells\n",
       "var notebookContainer = gd.closest('#notebook-container');\n",
       "if (notebookContainer) {{\n",
       "    x.observe(notebookContainer, {childList: true});\n",
       "}}\n",
       "\n",
       "// Listen for the clearing of the current output cell\n",
       "var outputEl = gd.closest('.output');\n",
       "if (outputEl) {{\n",
       "    x.observe(outputEl, {childList: true});\n",
       "}}\n",
       "\n",
       "                        })                };                });            </script>        </div>"
      ]
     },
     "metadata": {},
     "output_type": "display_data"
    }
   ],
   "source": [
    "#monthly Adjucted price\n",
    "fig_monthly = px.line(monthly_df, x=monthly_df.index, y=monthly_df['Adj Close'].values.squeeze(), title='Adjusted Close Price Over Months')\n",
    "fig_monthly.show()"
   ]
  },
  {
   "cell_type": "code",
   "execution_count": 403,
   "id": "cb375b17-31be-49b4-91ee-711904646404",
   "metadata": {},
   "outputs": [],
   "source": [
    "#monthly_df.columns"
   ]
  },
  {
   "cell_type": "code",
   "execution_count": 405,
   "id": "70056a1d-dace-4f27-9d7b-f2a5d5b2e003",
   "metadata": {},
   "outputs": [
    {
     "data": {
      "application/vnd.plotly.v1+json": {
       "config": {
        "plotlyServerURL": "https://plot.ly"
       },
       "data": [
        {
         "hovertemplate": "x=%{x}<br>y=%{y}<extra></extra>",
         "legendgroup": "",
         "line": {
          "color": "#636efa",
          "dash": "solid"
         },
         "marker": {
          "symbol": "circle"
         },
         "mode": "lines",
         "name": "",
         "orientation": "v",
         "showlegend": false,
         "type": "scatter",
         "x": [
          "2019-11-30T00:00:00",
          "2019-12-31T00:00:00",
          "2020-01-31T00:00:00",
          "2020-02-29T00:00:00",
          "2020-03-31T00:00:00",
          "2020-04-30T00:00:00",
          "2020-05-31T00:00:00",
          "2020-06-30T00:00:00",
          "2020-07-31T00:00:00",
          "2020-08-31T00:00:00",
          "2020-09-30T00:00:00",
          "2020-10-31T00:00:00",
          "2020-11-30T00:00:00",
          "2020-12-31T00:00:00",
          "2021-01-31T00:00:00",
          "2021-02-28T00:00:00",
          "2021-03-31T00:00:00",
          "2021-04-30T00:00:00",
          "2021-05-31T00:00:00",
          "2021-06-30T00:00:00",
          "2021-07-31T00:00:00",
          "2021-08-31T00:00:00",
          "2021-09-30T00:00:00",
          "2021-10-31T00:00:00",
          "2021-11-30T00:00:00",
          "2021-12-31T00:00:00",
          "2022-01-31T00:00:00",
          "2022-02-28T00:00:00",
          "2022-03-31T00:00:00",
          "2022-04-30T00:00:00",
          "2022-05-31T00:00:00",
          "2022-06-30T00:00:00",
          "2022-07-31T00:00:00",
          "2022-08-31T00:00:00",
          "2022-09-30T00:00:00",
          "2022-10-31T00:00:00",
          "2022-11-30T00:00:00",
          "2022-12-31T00:00:00",
          "2023-01-31T00:00:00",
          "2023-02-28T00:00:00",
          "2023-03-31T00:00:00",
          "2023-04-30T00:00:00",
          "2023-05-31T00:00:00",
          "2023-06-30T00:00:00",
          "2023-07-31T00:00:00",
          "2023-08-31T00:00:00",
          "2023-09-30T00:00:00",
          "2023-10-31T00:00:00",
          "2023-11-30T00:00:00",
          "2023-12-31T00:00:00",
          "2024-01-31T00:00:00",
          "2024-02-29T00:00:00",
          "2024-03-31T00:00:00",
          "2024-04-30T00:00:00",
          "2024-05-31T00:00:00",
          "2024-06-30T00:00:00",
          "2024-07-31T00:00:00",
          "2024-08-31T00:00:00",
          "2024-09-30T00:00:00",
          "2024-10-31T00:00:00"
         ],
         "xaxis": "x",
         "y": [
          43.86,
          45.46,
          46.64,
          45.75,
          39.77,
          39.97,
          44.77,
          41.97,
          46.55,
          59.36,
          57.75,
          61.23,
          73.43,
          73.36,
          82.33,
          83.53,
          94.65,
          88.76,
          83.77,
          88.13,
          86.41,
          81.72,
          76.16,
          78.68,
          78.27,
          84.21,
          75.59,
          84.57,
          91.02,
          83.53,
          82.61,
          75.3,
          79.97,
          86.24,
          82,
          91.43,
          95.06,
          95.49,
          93.25,
          90.89,
          95.62,
          97.46,
          89.45,
          96.2,
          97,
          104.04,
          94.47,
          96.86,
          107.41,
          113.8,
          116.58,
          125.64,
          126.77,
          118.82,
          121.42,
          123.82,
          145,
          151.74,
          145.62,
          157.93
         ],
         "yaxis": "y"
        }
       ],
       "layout": {
        "autosize": true,
        "legend": {
         "tracegroupgap": 0
        },
        "template": {
         "data": {
          "bar": [
           {
            "error_x": {
             "color": "#2a3f5f"
            },
            "error_y": {
             "color": "#2a3f5f"
            },
            "marker": {
             "line": {
              "color": "#E5ECF6",
              "width": 0.5
             },
             "pattern": {
              "fillmode": "overlay",
              "size": 10,
              "solidity": 0.2
             }
            },
            "type": "bar"
           }
          ],
          "barpolar": [
           {
            "marker": {
             "line": {
              "color": "#E5ECF6",
              "width": 0.5
             },
             "pattern": {
              "fillmode": "overlay",
              "size": 10,
              "solidity": 0.2
             }
            },
            "type": "barpolar"
           }
          ],
          "carpet": [
           {
            "aaxis": {
             "endlinecolor": "#2a3f5f",
             "gridcolor": "white",
             "linecolor": "white",
             "minorgridcolor": "white",
             "startlinecolor": "#2a3f5f"
            },
            "baxis": {
             "endlinecolor": "#2a3f5f",
             "gridcolor": "white",
             "linecolor": "white",
             "minorgridcolor": "white",
             "startlinecolor": "#2a3f5f"
            },
            "type": "carpet"
           }
          ],
          "choropleth": [
           {
            "colorbar": {
             "outlinewidth": 0,
             "ticks": ""
            },
            "type": "choropleth"
           }
          ],
          "contour": [
           {
            "colorbar": {
             "outlinewidth": 0,
             "ticks": ""
            },
            "colorscale": [
             [
              0,
              "#0d0887"
             ],
             [
              0.1111111111111111,
              "#46039f"
             ],
             [
              0.2222222222222222,
              "#7201a8"
             ],
             [
              0.3333333333333333,
              "#9c179e"
             ],
             [
              0.4444444444444444,
              "#bd3786"
             ],
             [
              0.5555555555555556,
              "#d8576b"
             ],
             [
              0.6666666666666666,
              "#ed7953"
             ],
             [
              0.7777777777777778,
              "#fb9f3a"
             ],
             [
              0.8888888888888888,
              "#fdca26"
             ],
             [
              1,
              "#f0f921"
             ]
            ],
            "type": "contour"
           }
          ],
          "contourcarpet": [
           {
            "colorbar": {
             "outlinewidth": 0,
             "ticks": ""
            },
            "type": "contourcarpet"
           }
          ],
          "heatmap": [
           {
            "colorbar": {
             "outlinewidth": 0,
             "ticks": ""
            },
            "colorscale": [
             [
              0,
              "#0d0887"
             ],
             [
              0.1111111111111111,
              "#46039f"
             ],
             [
              0.2222222222222222,
              "#7201a8"
             ],
             [
              0.3333333333333333,
              "#9c179e"
             ],
             [
              0.4444444444444444,
              "#bd3786"
             ],
             [
              0.5555555555555556,
              "#d8576b"
             ],
             [
              0.6666666666666666,
              "#ed7953"
             ],
             [
              0.7777777777777778,
              "#fb9f3a"
             ],
             [
              0.8888888888888888,
              "#fdca26"
             ],
             [
              1,
              "#f0f921"
             ]
            ],
            "type": "heatmap"
           }
          ],
          "heatmapgl": [
           {
            "colorbar": {
             "outlinewidth": 0,
             "ticks": ""
            },
            "colorscale": [
             [
              0,
              "#0d0887"
             ],
             [
              0.1111111111111111,
              "#46039f"
             ],
             [
              0.2222222222222222,
              "#7201a8"
             ],
             [
              0.3333333333333333,
              "#9c179e"
             ],
             [
              0.4444444444444444,
              "#bd3786"
             ],
             [
              0.5555555555555556,
              "#d8576b"
             ],
             [
              0.6666666666666666,
              "#ed7953"
             ],
             [
              0.7777777777777778,
              "#fb9f3a"
             ],
             [
              0.8888888888888888,
              "#fdca26"
             ],
             [
              1,
              "#f0f921"
             ]
            ],
            "type": "heatmapgl"
           }
          ],
          "histogram": [
           {
            "marker": {
             "pattern": {
              "fillmode": "overlay",
              "size": 10,
              "solidity": 0.2
             }
            },
            "type": "histogram"
           }
          ],
          "histogram2d": [
           {
            "colorbar": {
             "outlinewidth": 0,
             "ticks": ""
            },
            "colorscale": [
             [
              0,
              "#0d0887"
             ],
             [
              0.1111111111111111,
              "#46039f"
             ],
             [
              0.2222222222222222,
              "#7201a8"
             ],
             [
              0.3333333333333333,
              "#9c179e"
             ],
             [
              0.4444444444444444,
              "#bd3786"
             ],
             [
              0.5555555555555556,
              "#d8576b"
             ],
             [
              0.6666666666666666,
              "#ed7953"
             ],
             [
              0.7777777777777778,
              "#fb9f3a"
             ],
             [
              0.8888888888888888,
              "#fdca26"
             ],
             [
              1,
              "#f0f921"
             ]
            ],
            "type": "histogram2d"
           }
          ],
          "histogram2dcontour": [
           {
            "colorbar": {
             "outlinewidth": 0,
             "ticks": ""
            },
            "colorscale": [
             [
              0,
              "#0d0887"
             ],
             [
              0.1111111111111111,
              "#46039f"
             ],
             [
              0.2222222222222222,
              "#7201a8"
             ],
             [
              0.3333333333333333,
              "#9c179e"
             ],
             [
              0.4444444444444444,
              "#bd3786"
             ],
             [
              0.5555555555555556,
              "#d8576b"
             ],
             [
              0.6666666666666666,
              "#ed7953"
             ],
             [
              0.7777777777777778,
              "#fb9f3a"
             ],
             [
              0.8888888888888888,
              "#fdca26"
             ],
             [
              1,
              "#f0f921"
             ]
            ],
            "type": "histogram2dcontour"
           }
          ],
          "mesh3d": [
           {
            "colorbar": {
             "outlinewidth": 0,
             "ticks": ""
            },
            "type": "mesh3d"
           }
          ],
          "parcoords": [
           {
            "line": {
             "colorbar": {
              "outlinewidth": 0,
              "ticks": ""
             }
            },
            "type": "parcoords"
           }
          ],
          "pie": [
           {
            "automargin": true,
            "type": "pie"
           }
          ],
          "scatter": [
           {
            "fillpattern": {
             "fillmode": "overlay",
             "size": 10,
             "solidity": 0.2
            },
            "type": "scatter"
           }
          ],
          "scatter3d": [
           {
            "line": {
             "colorbar": {
              "outlinewidth": 0,
              "ticks": ""
             }
            },
            "marker": {
             "colorbar": {
              "outlinewidth": 0,
              "ticks": ""
             }
            },
            "type": "scatter3d"
           }
          ],
          "scattercarpet": [
           {
            "marker": {
             "colorbar": {
              "outlinewidth": 0,
              "ticks": ""
             }
            },
            "type": "scattercarpet"
           }
          ],
          "scattergeo": [
           {
            "marker": {
             "colorbar": {
              "outlinewidth": 0,
              "ticks": ""
             }
            },
            "type": "scattergeo"
           }
          ],
          "scattergl": [
           {
            "marker": {
             "colorbar": {
              "outlinewidth": 0,
              "ticks": ""
             }
            },
            "type": "scattergl"
           }
          ],
          "scattermapbox": [
           {
            "marker": {
             "colorbar": {
              "outlinewidth": 0,
              "ticks": ""
             }
            },
            "type": "scattermapbox"
           }
          ],
          "scatterpolar": [
           {
            "marker": {
             "colorbar": {
              "outlinewidth": 0,
              "ticks": ""
             }
            },
            "type": "scatterpolar"
           }
          ],
          "scatterpolargl": [
           {
            "marker": {
             "colorbar": {
              "outlinewidth": 0,
              "ticks": ""
             }
            },
            "type": "scatterpolargl"
           }
          ],
          "scatterternary": [
           {
            "marker": {
             "colorbar": {
              "outlinewidth": 0,
              "ticks": ""
             }
            },
            "type": "scatterternary"
           }
          ],
          "surface": [
           {
            "colorbar": {
             "outlinewidth": 0,
             "ticks": ""
            },
            "colorscale": [
             [
              0,
              "#0d0887"
             ],
             [
              0.1111111111111111,
              "#46039f"
             ],
             [
              0.2222222222222222,
              "#7201a8"
             ],
             [
              0.3333333333333333,
              "#9c179e"
             ],
             [
              0.4444444444444444,
              "#bd3786"
             ],
             [
              0.5555555555555556,
              "#d8576b"
             ],
             [
              0.6666666666666666,
              "#ed7953"
             ],
             [
              0.7777777777777778,
              "#fb9f3a"
             ],
             [
              0.8888888888888888,
              "#fdca26"
             ],
             [
              1,
              "#f0f921"
             ]
            ],
            "type": "surface"
           }
          ],
          "table": [
           {
            "cells": {
             "fill": {
              "color": "#EBF0F8"
             },
             "line": {
              "color": "white"
             }
            },
            "header": {
             "fill": {
              "color": "#C8D4E3"
             },
             "line": {
              "color": "white"
             }
            },
            "type": "table"
           }
          ]
         },
         "layout": {
          "annotationdefaults": {
           "arrowcolor": "#2a3f5f",
           "arrowhead": 0,
           "arrowwidth": 1
          },
          "autotypenumbers": "strict",
          "coloraxis": {
           "colorbar": {
            "outlinewidth": 0,
            "ticks": ""
           }
          },
          "colorscale": {
           "diverging": [
            [
             0,
             "#8e0152"
            ],
            [
             0.1,
             "#c51b7d"
            ],
            [
             0.2,
             "#de77ae"
            ],
            [
             0.3,
             "#f1b6da"
            ],
            [
             0.4,
             "#fde0ef"
            ],
            [
             0.5,
             "#f7f7f7"
            ],
            [
             0.6,
             "#e6f5d0"
            ],
            [
             0.7,
             "#b8e186"
            ],
            [
             0.8,
             "#7fbc41"
            ],
            [
             0.9,
             "#4d9221"
            ],
            [
             1,
             "#276419"
            ]
           ],
           "sequential": [
            [
             0,
             "#0d0887"
            ],
            [
             0.1111111111111111,
             "#46039f"
            ],
            [
             0.2222222222222222,
             "#7201a8"
            ],
            [
             0.3333333333333333,
             "#9c179e"
            ],
            [
             0.4444444444444444,
             "#bd3786"
            ],
            [
             0.5555555555555556,
             "#d8576b"
            ],
            [
             0.6666666666666666,
             "#ed7953"
            ],
            [
             0.7777777777777778,
             "#fb9f3a"
            ],
            [
             0.8888888888888888,
             "#fdca26"
            ],
            [
             1,
             "#f0f921"
            ]
           ],
           "sequentialminus": [
            [
             0,
             "#0d0887"
            ],
            [
             0.1111111111111111,
             "#46039f"
            ],
            [
             0.2222222222222222,
             "#7201a8"
            ],
            [
             0.3333333333333333,
             "#9c179e"
            ],
            [
             0.4444444444444444,
             "#bd3786"
            ],
            [
             0.5555555555555556,
             "#d8576b"
            ],
            [
             0.6666666666666666,
             "#ed7953"
            ],
            [
             0.7777777777777778,
             "#fb9f3a"
            ],
            [
             0.8888888888888888,
             "#fdca26"
            ],
            [
             1,
             "#f0f921"
            ]
           ]
          },
          "colorway": [
           "#636efa",
           "#EF553B",
           "#00cc96",
           "#ab63fa",
           "#FFA15A",
           "#19d3f3",
           "#FF6692",
           "#B6E880",
           "#FF97FF",
           "#FECB52"
          ],
          "font": {
           "color": "#2a3f5f"
          },
          "geo": {
           "bgcolor": "white",
           "lakecolor": "white",
           "landcolor": "#E5ECF6",
           "showlakes": true,
           "showland": true,
           "subunitcolor": "white"
          },
          "hoverlabel": {
           "align": "left"
          },
          "hovermode": "closest",
          "mapbox": {
           "style": "light"
          },
          "paper_bgcolor": "white",
          "plot_bgcolor": "#E5ECF6",
          "polar": {
           "angularaxis": {
            "gridcolor": "white",
            "linecolor": "white",
            "ticks": ""
           },
           "bgcolor": "#E5ECF6",
           "radialaxis": {
            "gridcolor": "white",
            "linecolor": "white",
            "ticks": ""
           }
          },
          "scene": {
           "xaxis": {
            "backgroundcolor": "#E5ECF6",
            "gridcolor": "white",
            "gridwidth": 2,
            "linecolor": "white",
            "showbackground": true,
            "ticks": "",
            "zerolinecolor": "white"
           },
           "yaxis": {
            "backgroundcolor": "#E5ECF6",
            "gridcolor": "white",
            "gridwidth": 2,
            "linecolor": "white",
            "showbackground": true,
            "ticks": "",
            "zerolinecolor": "white"
           },
           "zaxis": {
            "backgroundcolor": "#E5ECF6",
            "gridcolor": "white",
            "gridwidth": 2,
            "linecolor": "white",
            "showbackground": true,
            "ticks": "",
            "zerolinecolor": "white"
           }
          },
          "shapedefaults": {
           "line": {
            "color": "#2a3f5f"
           }
          },
          "ternary": {
           "aaxis": {
            "gridcolor": "white",
            "linecolor": "white",
            "ticks": ""
           },
           "baxis": {
            "gridcolor": "white",
            "linecolor": "white",
            "ticks": ""
           },
           "bgcolor": "#E5ECF6",
           "caxis": {
            "gridcolor": "white",
            "linecolor": "white",
            "ticks": ""
           }
          },
          "title": {
           "x": 0.05
          },
          "xaxis": {
           "automargin": true,
           "gridcolor": "white",
           "linecolor": "white",
           "ticks": "",
           "title": {
            "standoff": 15
           },
           "zerolinecolor": "white",
           "zerolinewidth": 2
          },
          "yaxis": {
           "automargin": true,
           "gridcolor": "white",
           "linecolor": "white",
           "ticks": "",
           "title": {
            "standoff": 15
           },
           "zerolinecolor": "white",
           "zerolinewidth": 2
          }
         }
        },
        "title": {
         "text": "High Prices Over Time"
        },
        "xaxis": {
         "anchor": "y",
         "autorange": true,
         "domain": [
          0,
          1
         ],
         "range": [
          "2019-11-30",
          "2024-10-31"
         ],
         "title": {
          "text": "x"
         },
         "type": "date"
        },
        "yaxis": {
         "anchor": "x",
         "autorange": true,
         "domain": [
          0,
          1
         ],
         "range": [
          33.20555555555556,
          164.49444444444444
         ],
         "title": {
          "text": "y"
         },
         "type": "linear"
        }
       }
      },
      "image/png": "[encoded data removed]",
      "text/html": [
       "<div>                            <div id=\"7bce66a3-cc8d-4a1c-ab87-8f3bfe67a517\" class=\"plotly-graph-div\" style=\"height:525px; width:100%;\"></div>            <script type=\"text/javascript\">                require([\"plotly\"], function(Plotly) {                    window.PLOTLYENV=window.PLOTLYENV || {};                                    if (document.getElementById(\"7bce66a3-cc8d-4a1c-ab87-8f3bfe67a517\")) {                    Plotly.newPlot(                        \"7bce66a3-cc8d-4a1c-ab87-8f3bfe67a517\",                        [{\"hovertemplate\":\"x=%{x}\\u003cbr\\u003ey=%{y}\\u003cextra\\u003e\\u003c\\u002fextra\\u003e\",\"legendgroup\":\"\",\"line\":{\"color\":\"#636efa\",\"dash\":\"solid\"},\"marker\":{\"symbol\":\"circle\"},\"mode\":\"lines\",\"name\":\"\",\"orientation\":\"v\",\"showlegend\":false,\"x\":[\"2019-11-30T00:00:00\",\"2019-12-31T00:00:00\",\"2020-01-31T00:00:00\",\"2020-02-29T00:00:00\",\"2020-03-31T00:00:00\",\"2020-04-30T00:00:00\",\"2020-05-31T00:00:00\",\"2020-06-30T00:00:00\",\"2020-07-31T00:00:00\",\"2020-08-31T00:00:00\",\"2020-09-30T00:00:00\",\"2020-10-31T00:00:00\",\"2020-11-30T00:00:00\",\"2020-12-31T00:00:00\",\"2021-01-31T00:00:00\",\"2021-02-28T00:00:00\",\"2021-03-31T00:00:00\",\"2021-04-30T00:00:00\",\"2021-05-31T00:00:00\",\"2021-06-30T00:00:00\",\"2021-07-31T00:00:00\",\"2021-08-31T00:00:00\",\"2021-09-30T00:00:00\",\"2021-10-31T00:00:00\",\"2021-11-30T00:00:00\",\"2021-12-31T00:00:00\",\"2022-01-31T00:00:00\",\"2022-02-28T00:00:00\",\"2022-03-31T00:00:00\",\"2022-04-30T00:00:00\",\"2022-05-31T00:00:00\",\"2022-06-30T00:00:00\",\"2022-07-31T00:00:00\",\"2022-08-31T00:00:00\",\"2022-09-30T00:00:00\",\"2022-10-31T00:00:00\",\"2022-11-30T00:00:00\",\"2022-12-31T00:00:00\",\"2023-01-31T00:00:00\",\"2023-02-28T00:00:00\",\"2023-03-31T00:00:00\",\"2023-04-30T00:00:00\",\"2023-05-31T00:00:00\",\"2023-06-30T00:00:00\",\"2023-07-31T00:00:00\",\"2023-08-31T00:00:00\",\"2023-09-30T00:00:00\",\"2023-10-31T00:00:00\",\"2023-11-30T00:00:00\",\"2023-12-31T00:00:00\",\"2024-01-31T00:00:00\",\"2024-02-29T00:00:00\",\"2024-03-31T00:00:00\",\"2024-04-30T00:00:00\",\"2024-05-31T00:00:00\",\"2024-06-30T00:00:00\",\"2024-07-31T00:00:00\",\"2024-08-31T00:00:00\",\"2024-09-30T00:00:00\",\"2024-10-31T00:00:00\"],\"xaxis\":\"x\",\"y\":[43.86,45.46,46.64,45.75,39.77,39.97,44.77,41.97,46.55,59.36,57.75,61.23,73.43,73.36,82.33,83.53,94.65,88.76,83.77,88.13,86.41,81.72,76.16,78.68,78.27,84.21,75.59,84.57,91.02,83.53,82.61,75.3,79.97,86.24,82.0,91.43,95.06,95.49,93.25,90.89,95.62,97.46,89.45,96.2,97.0,104.04,94.47,96.86,107.41,113.8,116.58,125.64,126.77,118.82,121.42,123.82,145.0,151.74,145.62,157.93],\"yaxis\":\"y\",\"type\":\"scatter\"}],                        {\"template\":{\"data\":{\"histogram2dcontour\":[{\"type\":\"histogram2dcontour\",\"colorbar\":{\"outlinewidth\":0,\"ticks\":\"\"},\"colorscale\":[[0.0,\"#0d0887\"],[0.1111111111111111,\"#46039f\"],[0.2222222222222222,\"#7201a8\"],[0.3333333333333333,\"#9c179e\"],[0.4444444444444444,\"#bd3786\"],[0.5555555555555556,\"#d8576b\"],[0.6666666666666666,\"#ed7953\"],[0.7777777777777778,\"#fb9f3a\"],[0.8888888888888888,\"#fdca26\"],[1.0,\"#f0f921\"]]}],\"choropleth\":[{\"type\":\"choropleth\",\"colorbar\":{\"outlinewidth\":0,\"ticks\":\"\"}}],\"histogram2d\":[{\"type\":\"histogram2d\",\"colorbar\":{\"outlinewidth\":0,\"ticks\":\"\"},\"colorscale\":[[0.0,\"#0d0887\"],[0.1111111111111111,\"#46039f\"],[0.2222222222222222,\"#7201a8\"],[0.3333333333333333,\"#9c179e\"],[0.4444444444444444,\"#bd3786\"],[0.5555555555555556,\"#d8576b\"],[0.6666666666666666,\"#ed7953\"],[0.7777777777777778,\"#fb9f3a\"],[0.8888888888888888,\"#fdca26\"],[1.0,\"#f0f921\"]]}],\"heatmap\":[{\"type\":\"heatmap\",\"colorbar\":{\"outlinewidth\":0,\"ticks\":\"\"},\"colorscale\":[[0.0,\"#0d0887\"],[0.1111111111111111,\"#46039f\"],[0.2222222222222222,\"#7201a8\"],[0.3333333333333333,\"#9c179e\"],[0.4444444444444444,\"#bd3786\"],[0.5555555555555556,\"#d8576b\"],[0.6666666666666666,\"#ed7953\"],[0.7777777777777778,\"#fb9f3a\"],[0.8888888888888888,\"#fdca26\"],[1.0,\"#f0f921\"]]}],\"heatmapgl\":[{\"type\":\"heatmapgl\",\"colorbar\":{\"outlinewidth\":0,\"ticks\":\"\"},\"colorscale\":[[0.0,\"#0d0887\"],[0.1111111111111111,\"#46039f\"],[0.2222222222222222,\"#7201a8\"],[0.3333333333333333,\"#9c179e\"],[0.4444444444444444,\"#bd3786\"],[0.5555555555555556,\"#d8576b\"],[0.6666666666666666,\"#ed7953\"],[0.7777777777777778,\"#fb9f3a\"],[0.8888888888888888,\"#fdca26\"],[1.0,\"#f0f921\"]]}],\"contourcarpet\":[{\"type\":\"contourcarpet\",\"colorbar\":{\"outlinewidth\":0,\"ticks\":\"\"}}],\"contour\":[{\"type\":\"contour\",\"colorbar\":{\"outlinewidth\":0,\"ticks\":\"\"},\"colorscale\":[[0.0,\"#0d0887\"],[0.1111111111111111,\"#46039f\"],[0.2222222222222222,\"#7201a8\"],[0.3333333333333333,\"#9c179e\"],[0.4444444444444444,\"#bd3786\"],[0.5555555555555556,\"#d8576b\"],[0.6666666666666666,\"#ed7953\"],[0.7777777777777778,\"#fb9f3a\"],[0.8888888888888888,\"#fdca26\"],[1.0,\"#f0f921\"]]}],\"surface\":[{\"type\":\"surface\",\"colorbar\":{\"outlinewidth\":0,\"ticks\":\"\"},\"colorscale\":[[0.0,\"#0d0887\"],[0.1111111111111111,\"#46039f\"],[0.2222222222222222,\"#7201a8\"],[0.3333333333333333,\"#9c179e\"],[0.4444444444444444,\"#bd3786\"],[0.5555555555555556,\"#d8576b\"],[0.6666666666666666,\"#ed7953\"],[0.7777777777777778,\"#fb9f3a\"],[0.8888888888888888,\"#fdca26\"],[1.0,\"#f0f921\"]]}],\"mesh3d\":[{\"type\":\"mesh3d\",\"colorbar\":{\"outlinewidth\":0,\"ticks\":\"\"}}],\"scatter\":[{\"fillpattern\":{\"fillmode\":\"overlay\",\"size\":10,\"solidity\":0.2},\"type\":\"scatter\"}],\"parcoords\":[{\"type\":\"parcoords\",\"line\":{\"colorbar\":{\"outlinewidth\":0,\"ticks\":\"\"}}}],\"scatterpolargl\":[{\"type\":\"scatterpolargl\",\"marker\":{\"colorbar\":{\"outlinewidth\":0,\"ticks\":\"\"}}}],\"bar\":[{\"error_x\":{\"color\":\"#2a3f5f\"},\"error_y\":{\"color\":\"#2a3f5f\"},\"marker\":{\"line\":{\"color\":\"#E5ECF6\",\"width\":0.5},\"pattern\":{\"fillmode\":\"overlay\",\"size\":10,\"solidity\":0.2}},\"type\":\"bar\"}],\"scattergeo\":[{\"type\":\"scattergeo\",\"marker\":{\"colorbar\":{\"outlinewidth\":0,\"ticks\":\"\"}}}],\"scatterpolar\":[{\"type\":\"scatterpolar\",\"marker\":{\"colorbar\":{\"outlinewidth\":0,\"ticks\":\"\"}}}],\"histogram\":[{\"marker\":{\"pattern\":{\"fillmode\":\"overlay\",\"size\":10,\"solidity\":0.2}},\"type\":\"histogram\"}],\"scattergl\":[{\"type\":\"scattergl\",\"marker\":{\"colorbar\":{\"outlinewidth\":0,\"ticks\":\"\"}}}],\"scatter3d\":[{\"type\":\"scatter3d\",\"line\":{\"colorbar\":{\"outlinewidth\":0,\"ticks\":\"\"}},\"marker\":{\"colorbar\":{\"outlinewidth\":0,\"ticks\":\"\"}}}],\"scattermapbox\":[{\"type\":\"scattermapbox\",\"marker\":{\"colorbar\":{\"outlinewidth\":0,\"ticks\":\"\"}}}],\"scatterternary\":[{\"type\":\"scatterternary\",\"marker\":{\"colorbar\":{\"outlinewidth\":0,\"ticks\":\"\"}}}],\"scattercarpet\":[{\"type\":\"scattercarpet\",\"marker\":{\"colorbar\":{\"outlinewidth\":0,\"ticks\":\"\"}}}],\"carpet\":[{\"aaxis\":{\"endlinecolor\":\"#2a3f5f\",\"gridcolor\":\"white\",\"linecolor\":\"white\",\"minorgridcolor\":\"white\",\"startlinecolor\":\"#2a3f5f\"},\"baxis\":{\"endlinecolor\":\"#2a3f5f\",\"gridcolor\":\"white\",\"linecolor\":\"white\",\"minorgridcolor\":\"white\",\"startlinecolor\":\"#2a3f5f\"},\"type\":\"carpet\"}],\"table\":[{\"cells\":{\"fill\":{\"color\":\"#EBF0F8\"},\"line\":{\"color\":\"white\"}},\"header\":{\"fill\":{\"color\":\"#C8D4E3\"},\"line\":{\"color\":\"white\"}},\"type\":\"table\"}],\"barpolar\":[{\"marker\":{\"line\":{\"color\":\"#E5ECF6\",\"width\":0.5},\"pattern\":{\"fillmode\":\"overlay\",\"size\":10,\"solidity\":0.2}},\"type\":\"barpolar\"}],\"pie\":[{\"automargin\":true,\"type\":\"pie\"}]},\"layout\":{\"autotypenumbers\":\"strict\",\"colorway\":[\"#636efa\",\"#EF553B\",\"#00cc96\",\"#ab63fa\",\"#FFA15A\",\"#19d3f3\",\"#FF6692\",\"#B6E880\",\"#FF97FF\",\"#FECB52\"],\"font\":{\"color\":\"#2a3f5f\"},\"hovermode\":\"closest\",\"hoverlabel\":{\"align\":\"left\"},\"paper_bgcolor\":\"white\",\"plot_bgcolor\":\"#E5ECF6\",\"polar\":{\"bgcolor\":\"#E5ECF6\",\"angularaxis\":{\"gridcolor\":\"white\",\"linecolor\":\"white\",\"ticks\":\"\"},\"radialaxis\":{\"gridcolor\":\"white\",\"linecolor\":\"white\",\"ticks\":\"\"}},\"ternary\":{\"bgcolor\":\"#E5ECF6\",\"aaxis\":{\"gridcolor\":\"white\",\"linecolor\":\"white\",\"ticks\":\"\"},\"baxis\":{\"gridcolor\":\"white\",\"linecolor\":\"white\",\"ticks\":\"\"},\"caxis\":{\"gridcolor\":\"white\",\"linecolor\":\"white\",\"ticks\":\"\"}},\"coloraxis\":{\"colorbar\":{\"outlinewidth\":0,\"ticks\":\"\"}},\"colorscale\":{\"sequential\":[[0.0,\"#0d0887\"],[0.1111111111111111,\"#46039f\"],[0.2222222222222222,\"#7201a8\"],[0.3333333333333333,\"#9c179e\"],[0.4444444444444444,\"#bd3786\"],[0.5555555555555556,\"#d8576b\"],[0.6666666666666666,\"#ed7953\"],[0.7777777777777778,\"#fb9f3a\"],[0.8888888888888888,\"#fdca26\"],[1.0,\"#f0f921\"]],\"sequentialminus\":[[0.0,\"#0d0887\"],[0.1111111111111111,\"#46039f\"],[0.2222222222222222,\"#7201a8\"],[0.3333333333333333,\"#9c179e\"],[0.4444444444444444,\"#bd3786\"],[0.5555555555555556,\"#d8576b\"],[0.6666666666666666,\"#ed7953\"],[0.7777777777777778,\"#fb9f3a\"],[0.8888888888888888,\"#fdca26\"],[1.0,\"#f0f921\"]],\"diverging\":[[0,\"#8e0152\"],[0.1,\"#c51b7d\"],[0.2,\"#de77ae\"],[0.3,\"#f1b6da\"],[0.4,\"#fde0ef\"],[0.5,\"#f7f7f7\"],[0.6,\"#e6f5d0\"],[0.7,\"#b8e186\"],[0.8,\"#7fbc41\"],[0.9,\"#4d9221\"],[1,\"#276419\"]]},\"xaxis\":{\"gridcolor\":\"white\",\"linecolor\":\"white\",\"ticks\":\"\",\"title\":{\"standoff\":15},\"zerolinecolor\":\"white\",\"automargin\":true,\"zerolinewidth\":2},\"yaxis\":{\"gridcolor\":\"white\",\"linecolor\":\"white\",\"ticks\":\"\",\"title\":{\"standoff\":15},\"zerolinecolor\":\"white\",\"automargin\":true,\"zerolinewidth\":2},\"scene\":{\"xaxis\":{\"backgroundcolor\":\"#E5ECF6\",\"gridcolor\":\"white\",\"linecolor\":\"white\",\"showbackground\":true,\"ticks\":\"\",\"zerolinecolor\":\"white\",\"gridwidth\":2},\"yaxis\":{\"backgroundcolor\":\"#E5ECF6\",\"gridcolor\":\"white\",\"linecolor\":\"white\",\"showbackground\":true,\"ticks\":\"\",\"zerolinecolor\":\"white\",\"gridwidth\":2},\"zaxis\":{\"backgroundcolor\":\"#E5ECF6\",\"gridcolor\":\"white\",\"linecolor\":\"white\",\"showbackground\":true,\"ticks\":\"\",\"zerolinecolor\":\"white\",\"gridwidth\":2}},\"shapedefaults\":{\"line\":{\"color\":\"#2a3f5f\"}},\"annotationdefaults\":{\"arrowcolor\":\"#2a3f5f\",\"arrowhead\":0,\"arrowwidth\":1},\"geo\":{\"bgcolor\":\"white\",\"landcolor\":\"#E5ECF6\",\"subunitcolor\":\"white\",\"showland\":true,\"showlakes\":true,\"lakecolor\":\"white\"},\"title\":{\"x\":0.05},\"mapbox\":{\"style\":\"light\"}}},\"xaxis\":{\"anchor\":\"y\",\"domain\":[0.0,1.0],\"title\":{\"text\":\"x\"}},\"yaxis\":{\"anchor\":\"x\",\"domain\":[0.0,1.0],\"title\":{\"text\":\"y\"}},\"legend\":{\"tracegroupgap\":0},\"title\":{\"text\":\"High Prices Over Time\"}},                        {\"responsive\": true}                    ).then(function(){\n",
       "                            \n",
       "var gd = document.getElementById('7bce66a3-cc8d-4a1c-ab87-8f3bfe67a517');\n",
       "var x = new MutationObserver(function (mutations, observer) {{\n",
       "        var display = window.getComputedStyle(gd).display;\n",
       "        if (!display || display === 'none') {{\n",
       "            console.log([gd, 'removed!']);\n",
       "            Plotly.purge(gd);\n",
       "            observer.disconnect();\n",
       "        }}\n",
       "}});\n",
       "\n",
       "// Listen for the removal of the full notebook cells\n",
       "var notebookContainer = gd.closest('#notebook-container');\n",
       "if (notebookContainer) {{\n",
       "    x.observe(notebookContainer, {childList: true});\n",
       "}}\n",
       "\n",
       "// Listen for the clearing of the current output cell\n",
       "var outputEl = gd.closest('.output');\n",
       "if (outputEl) {{\n",
       "    x.observe(outputEl, {childList: true});\n",
       "}}\n",
       "\n",
       "                        })                };                });            </script>        </div>"
      ]
     },
     "metadata": {},
     "output_type": "display_data"
    }
   ],
   "source": [
    "#high low monthly prices\n",
    "high_data = monthly_df[('High', 'ENSG')]\n",
    "fig_high = px.line(x=monthly_df.index, y=high_data, title='High Prices Over Time')\n",
    "fig_high.show()"
   ]
  },
  {
   "cell_type": "code",
   "execution_count": 407,
   "id": "393eeadf-3e1b-4d95-87fc-75dfeae34c2e",
   "metadata": {},
   "outputs": [
    {
     "data": {
      "application/vnd.plotly.v1+json": {
       "config": {
        "plotlyServerURL": "https://plot.ly"
       },
       "data": [
        {
         "hovertemplate": "x=%{x}<br>y=%{y}<extra></extra>",
         "legendgroup": "",
         "line": {
          "color": "#636efa",
          "dash": "solid"
         },
         "marker": {
          "symbol": "circle"
         },
         "mode": "lines",
         "name": "",
         "orientation": "v",
         "showlegend": false,
         "type": "scatter",
         "x": [
          "2019-11-30T00:00:00",
          "2019-12-31T00:00:00",
          "2020-01-31T00:00:00",
          "2020-02-29T00:00:00",
          "2020-03-31T00:00:00",
          "2020-04-30T00:00:00",
          "2020-05-31T00:00:00",
          "2020-06-30T00:00:00",
          "2020-07-31T00:00:00",
          "2020-08-31T00:00:00",
          "2020-09-30T00:00:00",
          "2020-10-31T00:00:00",
          "2020-11-30T00:00:00",
          "2020-12-31T00:00:00",
          "2021-01-31T00:00:00",
          "2021-02-28T00:00:00",
          "2021-03-31T00:00:00",
          "2021-04-30T00:00:00",
          "2021-05-31T00:00:00",
          "2021-06-30T00:00:00",
          "2021-07-31T00:00:00",
          "2021-08-31T00:00:00",
          "2021-09-30T00:00:00",
          "2021-10-31T00:00:00",
          "2021-11-30T00:00:00",
          "2021-12-31T00:00:00",
          "2022-01-31T00:00:00",
          "2022-02-28T00:00:00",
          "2022-03-31T00:00:00",
          "2022-04-30T00:00:00",
          "2022-05-31T00:00:00",
          "2022-06-30T00:00:00",
          "2022-07-31T00:00:00",
          "2022-08-31T00:00:00",
          "2022-09-30T00:00:00",
          "2022-10-31T00:00:00",
          "2022-11-30T00:00:00",
          "2022-12-31T00:00:00",
          "2023-01-31T00:00:00",
          "2023-02-28T00:00:00",
          "2023-03-31T00:00:00",
          "2023-04-30T00:00:00",
          "2023-05-31T00:00:00",
          "2023-06-30T00:00:00",
          "2023-07-31T00:00:00",
          "2023-08-31T00:00:00",
          "2023-09-30T00:00:00",
          "2023-10-31T00:00:00",
          "2023-11-30T00:00:00",
          "2023-12-31T00:00:00",
          "2024-01-31T00:00:00",
          "2024-02-29T00:00:00",
          "2024-03-31T00:00:00",
          "2024-04-30T00:00:00",
          "2024-05-31T00:00:00",
          "2024-06-30T00:00:00",
          "2024-07-31T00:00:00",
          "2024-08-31T00:00:00",
          "2024-09-30T00:00:00",
          "2024-10-31T00:00:00"
         ],
         "xaxis": "x",
         "y": [
          43.34,
          44.23,
          45.03,
          43.64,
          36.71,
          37.33,
          43.45,
          40.17,
          44.47,
          58.43,
          56.1,
          57.5,
          71.29,
          71.52,
          77.35,
          80.52,
          92.23,
          76.95,
          82.23,
          85.66,
          83.25,
          80.56,
          74.29,
          74.45,
          76.02,
          82.95,
          73.49,
          81.13,
          88.94,
          79.59,
          80.85,
          72.99,
          78.23,
          84.14,
          79.42,
          89.18,
          91.92,
          93.64,
          91.37,
          89.4,
          93.27,
          94.92,
          87.2,
          95.42,
          92.64,
          99.95,
          92.5,
          95.12,
          106.61,
          111.98,
          113.18,
          124.12,
          123.98,
          116.85,
          117.69,
          120.77,
          140.5,
          146.66,
          137.44,
          154.58
         ],
         "yaxis": "y"
        }
       ],
       "layout": {
        "autosize": true,
        "legend": {
         "tracegroupgap": 0
        },
        "template": {
         "data": {
          "bar": [
           {
            "error_x": {
             "color": "#2a3f5f"
            },
            "error_y": {
             "color": "#2a3f5f"
            },
            "marker": {
             "line": {
              "color": "#E5ECF6",
              "width": 0.5
             },
             "pattern": {
              "fillmode": "overlay",
              "size": 10,
              "solidity": 0.2
             }
            },
            "type": "bar"
           }
          ],
          "barpolar": [
           {
            "marker": {
             "line": {
              "color": "#E5ECF6",
              "width": 0.5
             },
             "pattern": {
              "fillmode": "overlay",
              "size": 10,
              "solidity": 0.2
             }
            },
            "type": "barpolar"
           }
          ],
          "carpet": [
           {
            "aaxis": {
             "endlinecolor": "#2a3f5f",
             "gridcolor": "white",
             "linecolor": "white",
             "minorgridcolor": "white",
             "startlinecolor": "#2a3f5f"
            },
            "baxis": {
             "endlinecolor": "#2a3f5f",
             "gridcolor": "white",
             "linecolor": "white",
             "minorgridcolor": "white",
             "startlinecolor": "#2a3f5f"
            },
            "type": "carpet"
           }
          ],
          "choropleth": [
           {
            "colorbar": {
             "outlinewidth": 0,
             "ticks": ""
            },
            "type": "choropleth"
           }
          ],
          "contour": [
           {
            "colorbar": {
             "outlinewidth": 0,
             "ticks": ""
            },
            "colorscale": [
             [
              0,
              "#0d0887"
             ],
             [
              0.1111111111111111,
              "#46039f"
             ],
             [
              0.2222222222222222,
              "#7201a8"
             ],
             [
              0.3333333333333333,
              "#9c179e"
             ],
             [
              0.4444444444444444,
              "#bd3786"
             ],
             [
              0.5555555555555556,
              "#d8576b"
             ],
             [
              0.6666666666666666,
              "#ed7953"
             ],
             [
              0.7777777777777778,
              "#fb9f3a"
             ],
             [
              0.8888888888888888,
              "#fdca26"
             ],
             [
              1,
              "#f0f921"
             ]
            ],
            "type": "contour"
           }
          ],
          "contourcarpet": [
           {
            "colorbar": {
             "outlinewidth": 0,
             "ticks": ""
            },
            "type": "contourcarpet"
           }
          ],
          "heatmap": [
           {
            "colorbar": {
             "outlinewidth": 0,
             "ticks": ""
            },
            "colorscale": [
             [
              0,
              "#0d0887"
             ],
             [
              0.1111111111111111,
              "#46039f"
             ],
             [
              0.2222222222222222,
              "#7201a8"
             ],
             [
              0.3333333333333333,
              "#9c179e"
             ],
             [
              0.4444444444444444,
              "#bd3786"
             ],
             [
              0.5555555555555556,
              "#d8576b"
             ],
             [
              0.6666666666666666,
              "#ed7953"
             ],
             [
              0.7777777777777778,
              "#fb9f3a"
             ],
             [
              0.8888888888888888,
              "#fdca26"
             ],
             [
              1,
              "#f0f921"
             ]
            ],
            "type": "heatmap"
           }
          ],
          "heatmapgl": [
           {
            "colorbar": {
             "outlinewidth": 0,
             "ticks": ""
            },
            "colorscale": [
             [
              0,
              "#0d0887"
             ],
             [
              0.1111111111111111,
              "#46039f"
             ],
             [
              0.2222222222222222,
              "#7201a8"
             ],
             [
              0.3333333333333333,
              "#9c179e"
             ],
             [
              0.4444444444444444,
              "#bd3786"
             ],
             [
              0.5555555555555556,
              "#d8576b"
             ],
             [
              0.6666666666666666,
              "#ed7953"
             ],
             [
              0.7777777777777778,
              "#fb9f3a"
             ],
             [
              0.8888888888888888,
              "#fdca26"
             ],
             [
              1,
              "#f0f921"
             ]
            ],
            "type": "heatmapgl"
           }
          ],
          "histogram": [
           {
            "marker": {
             "pattern": {
              "fillmode": "overlay",
              "size": 10,
              "solidity": 0.2
             }
            },
            "type": "histogram"
           }
          ],
          "histogram2d": [
           {
            "colorbar": {
             "outlinewidth": 0,
             "ticks": ""
            },
            "colorscale": [
             [
              0,
              "#0d0887"
             ],
             [
              0.1111111111111111,
              "#46039f"
             ],
             [
              0.2222222222222222,
              "#7201a8"
             ],
             [
              0.3333333333333333,
              "#9c179e"
             ],
             [
              0.4444444444444444,
              "#bd3786"
             ],
             [
              0.5555555555555556,
              "#d8576b"
             ],
             [
              0.6666666666666666,
              "#ed7953"
             ],
             [
              0.7777777777777778,
              "#fb9f3a"
             ],
             [
              0.8888888888888888,
              "#fdca26"
             ],
             [
              1,
              "#f0f921"
             ]
            ],
            "type": "histogram2d"
           }
          ],
          "histogram2dcontour": [
           {
            "colorbar": {
             "outlinewidth": 0,
             "ticks": ""
            },
            "colorscale": [
             [
              0,
              "#0d0887"
             ],
             [
              0.1111111111111111,
              "#46039f"
             ],
             [
              0.2222222222222222,
              "#7201a8"
             ],
             [
              0.3333333333333333,
              "#9c179e"
             ],
             [
              0.4444444444444444,
              "#bd3786"
             ],
             [
              0.5555555555555556,
              "#d8576b"
             ],
             [
              0.6666666666666666,
              "#ed7953"
             ],
             [
              0.7777777777777778,
              "#fb9f3a"
             ],
             [
              0.8888888888888888,
              "#fdca26"
             ],
             [
              1,
              "#f0f921"
             ]
            ],
            "type": "histogram2dcontour"
           }
          ],
          "mesh3d": [
           {
            "colorbar": {
             "outlinewidth": 0,
             "ticks": ""
            },
            "type": "mesh3d"
           }
          ],
          "parcoords": [
           {
            "line": {
             "colorbar": {
              "outlinewidth": 0,
              "ticks": ""
             }
            },
            "type": "parcoords"
           }
          ],
          "pie": [
           {
            "automargin": true,
            "type": "pie"
           }
          ],
          "scatter": [
           {
            "fillpattern": {
             "fillmode": "overlay",
             "size": 10,
             "solidity": 0.2
            },
            "type": "scatter"
           }
          ],
          "scatter3d": [
           {
            "line": {
             "colorbar": {
              "outlinewidth": 0,
              "ticks": ""
             }
            },
            "marker": {
             "colorbar": {
              "outlinewidth": 0,
              "ticks": ""
             }
            },
            "type": "scatter3d"
           }
          ],
          "scattercarpet": [
           {
            "marker": {
             "colorbar": {
              "outlinewidth": 0,
              "ticks": ""
             }
            },
            "type": "scattercarpet"
           }
          ],
          "scattergeo": [
           {
            "marker": {
             "colorbar": {
              "outlinewidth": 0,
              "ticks": ""
             }
            },
            "type": "scattergeo"
           }
          ],
          "scattergl": [
           {
            "marker": {
             "colorbar": {
              "outlinewidth": 0,
              "ticks": ""
             }
            },
            "type": "scattergl"
           }
          ],
          "scattermapbox": [
           {
            "marker": {
             "colorbar": {
              "outlinewidth": 0,
              "ticks": ""
             }
            },
            "type": "scattermapbox"
           }
          ],
          "scatterpolar": [
           {
            "marker": {
             "colorbar": {
              "outlinewidth": 0,
              "ticks": ""
             }
            },
            "type": "scatterpolar"
           }
          ],
          "scatterpolargl": [
           {
            "marker": {
             "colorbar": {
              "outlinewidth": 0,
              "ticks": ""
             }
            },
            "type": "scatterpolargl"
           }
          ],
          "scatterternary": [
           {
            "marker": {
             "colorbar": {
              "outlinewidth": 0,
              "ticks": ""
             }
            },
            "type": "scatterternary"
           }
          ],
          "surface": [
           {
            "colorbar": {
             "outlinewidth": 0,
             "ticks": ""
            },
            "colorscale": [
             [
              0,
              "#0d0887"
             ],
             [
              0.1111111111111111,
              "#46039f"
             ],
             [
              0.2222222222222222,
              "#7201a8"
             ],
             [
              0.3333333333333333,
              "#9c179e"
             ],
             [
              0.4444444444444444,
              "#bd3786"
             ],
             [
              0.5555555555555556,
              "#d8576b"
             ],
             [
              0.6666666666666666,
              "#ed7953"
             ],
             [
              0.7777777777777778,
              "#fb9f3a"
             ],
             [
              0.8888888888888888,
              "#fdca26"
             ],
             [
              1,
              "#f0f921"
             ]
            ],
            "type": "surface"
           }
          ],
          "table": [
           {
            "cells": {
             "fill": {
              "color": "#EBF0F8"
             },
             "line": {
              "color": "white"
             }
            },
            "header": {
             "fill": {
              "color": "#C8D4E3"
             },
             "line": {
              "color": "white"
             }
            },
            "type": "table"
           }
          ]
         },
         "layout": {
          "annotationdefaults": {
           "arrowcolor": "#2a3f5f",
           "arrowhead": 0,
           "arrowwidth": 1
          },
          "autotypenumbers": "strict",
          "coloraxis": {
           "colorbar": {
            "outlinewidth": 0,
            "ticks": ""
           }
          },
          "colorscale": {
           "diverging": [
            [
             0,
             "#8e0152"
            ],
            [
             0.1,
             "#c51b7d"
            ],
            [
             0.2,
             "#de77ae"
            ],
            [
             0.3,
             "#f1b6da"
            ],
            [
             0.4,
             "#fde0ef"
            ],
            [
             0.5,
             "#f7f7f7"
            ],
            [
             0.6,
             "#e6f5d0"
            ],
            [
             0.7,
             "#b8e186"
            ],
            [
             0.8,
             "#7fbc41"
            ],
            [
             0.9,
             "#4d9221"
            ],
            [
             1,
             "#276419"
            ]
           ],
           "sequential": [
            [
             0,
             "#0d0887"
            ],
            [
             0.1111111111111111,
             "#46039f"
            ],
            [
             0.2222222222222222,
             "#7201a8"
            ],
            [
             0.3333333333333333,
             "#9c179e"
            ],
            [
             0.4444444444444444,
             "#bd3786"
            ],
            [
             0.5555555555555556,
             "#d8576b"
            ],
            [
             0.6666666666666666,
             "#ed7953"
            ],
            [
             0.7777777777777778,
             "#fb9f3a"
            ],
            [
             0.8888888888888888,
             "#fdca26"
            ],
            [
             1,
             "#f0f921"
            ]
           ],
           "sequentialminus": [
            [
             0,
             "#0d0887"
            ],
            [
             0.1111111111111111,
             "#46039f"
            ],
            [
             0.2222222222222222,
             "#7201a8"
            ],
            [
             0.3333333333333333,
             "#9c179e"
            ],
            [
             0.4444444444444444,
             "#bd3786"
            ],
            [
             0.5555555555555556,
             "#d8576b"
            ],
            [
             0.6666666666666666,
             "#ed7953"
            ],
            [
             0.7777777777777778,
             "#fb9f3a"
            ],
            [
             0.8888888888888888,
             "#fdca26"
            ],
            [
             1,
             "#f0f921"
            ]
           ]
          },
          "colorway": [
           "#636efa",
           "#EF553B",
           "#00cc96",
           "#ab63fa",
           "#FFA15A",
           "#19d3f3",
           "#FF6692",
           "#B6E880",
           "#FF97FF",
           "#FECB52"
          ],
          "font": {
           "color": "#2a3f5f"
          },
          "geo": {
           "bgcolor": "white",
           "lakecolor": "white",
           "landcolor": "#E5ECF6",
           "showlakes": true,
           "showland": true,
           "subunitcolor": "white"
          },
          "hoverlabel": {
           "align": "left"
          },
          "hovermode": "closest",
          "mapbox": {
           "style": "light"
          },
          "paper_bgcolor": "white",
          "plot_bgcolor": "#E5ECF6",
          "polar": {
           "angularaxis": {
            "gridcolor": "white",
            "linecolor": "white",
            "ticks": ""
           },
           "bgcolor": "#E5ECF6",
           "radialaxis": {
            "gridcolor": "white",
            "linecolor": "white",
            "ticks": ""
           }
          },
          "scene": {
           "xaxis": {
            "backgroundcolor": "#E5ECF6",
            "gridcolor": "white",
            "gridwidth": 2,
            "linecolor": "white",
            "showbackground": true,
            "ticks": "",
            "zerolinecolor": "white"
           },
           "yaxis": {
            "backgroundcolor": "#E5ECF6",
            "gridcolor": "white",
            "gridwidth": 2,
            "linecolor": "white",
            "showbackground": true,
            "ticks": "",
            "zerolinecolor": "white"
           },
           "zaxis": {
            "backgroundcolor": "#E5ECF6",
            "gridcolor": "white",
            "gridwidth": 2,
            "linecolor": "white",
            "showbackground": true,
            "ticks": "",
            "zerolinecolor": "white"
           }
          },
          "shapedefaults": {
           "line": {
            "color": "#2a3f5f"
           }
          },
          "ternary": {
           "aaxis": {
            "gridcolor": "white",
            "linecolor": "white",
            "ticks": ""
           },
           "baxis": {
            "gridcolor": "white",
            "linecolor": "white",
            "ticks": ""
           },
           "bgcolor": "#E5ECF6",
           "caxis": {
            "gridcolor": "white",
            "linecolor": "white",
            "ticks": ""
           }
          },
          "title": {
           "x": 0.05
          },
          "xaxis": {
           "automargin": true,
           "gridcolor": "white",
           "linecolor": "white",
           "ticks": "",
           "title": {
            "standoff": 15
           },
           "zerolinecolor": "white",
           "zerolinewidth": 2
          },
          "yaxis": {
           "automargin": true,
           "gridcolor": "white",
           "linecolor": "white",
           "ticks": "",
           "title": {
            "standoff": 15
           },
           "zerolinecolor": "white",
           "zerolinewidth": 2
          }
         }
        },
        "title": {
         "text": "High Prices Over Time"
        },
        "xaxis": {
         "anchor": "y",
         "autorange": true,
         "domain": [
          0,
          1
         ],
         "range": [
          "2019-11-30",
          "2024-10-31"
         ],
         "title": {
          "text": "x"
         },
         "type": "date"
        },
        "yaxis": {
         "anchor": "x",
         "autorange": true,
         "domain": [
          0,
          1
         ],
         "range": [
          30.16166666666667,
          161.12833333333336
         ],
         "title": {
          "text": "y"
         },
         "type": "linear"
        }
       }
      },
      "image/png": "[encoded data removed]",
      "text/html": [
       "<div>                            <div id=\"591f7c63-6a9a-44cd-bb4f-9012360a4912\" class=\"plotly-graph-div\" style=\"height:525px; width:100%;\"></div>            <script type=\"text/javascript\">                require([\"plotly\"], function(Plotly) {                    window.PLOTLYENV=window.PLOTLYENV || {};                                    if (document.getElementById(\"591f7c63-6a9a-44cd-bb4f-9012360a4912\")) {                    Plotly.newPlot(                        \"591f7c63-6a9a-44cd-bb4f-9012360a4912\",                        [{\"hovertemplate\":\"x=%{x}\\u003cbr\\u003ey=%{y}\\u003cextra\\u003e\\u003c\\u002fextra\\u003e\",\"legendgroup\":\"\",\"line\":{\"color\":\"#636efa\",\"dash\":\"solid\"},\"marker\":{\"symbol\":\"circle\"},\"mode\":\"lines\",\"name\":\"\",\"orientation\":\"v\",\"showlegend\":false,\"x\":[\"2019-11-30T00:00:00\",\"2019-12-31T00:00:00\",\"2020-01-31T00:00:00\",\"2020-02-29T00:00:00\",\"2020-03-31T00:00:00\",\"2020-04-30T00:00:00\",\"2020-05-31T00:00:00\",\"2020-06-30T00:00:00\",\"2020-07-31T00:00:00\",\"2020-08-31T00:00:00\",\"2020-09-30T00:00:00\",\"2020-10-31T00:00:00\",\"2020-11-30T00:00:00\",\"2020-12-31T00:00:00\",\"2021-01-31T00:00:00\",\"2021-02-28T00:00:00\",\"2021-03-31T00:00:00\",\"2021-04-30T00:00:00\",\"2021-05-31T00:00:00\",\"2021-06-30T00:00:00\",\"2021-07-31T00:00:00\",\"2021-08-31T00:00:00\",\"2021-09-30T00:00:00\",\"2021-10-31T00:00:00\",\"2021-11-30T00:00:00\",\"2021-12-31T00:00:00\",\"2022-01-31T00:00:00\",\"2022-02-28T00:00:00\",\"2022-03-31T00:00:00\",\"2022-04-30T00:00:00\",\"2022-05-31T00:00:00\",\"2022-06-30T00:00:00\",\"2022-07-31T00:00:00\",\"2022-08-31T00:00:00\",\"2022-09-30T00:00:00\",\"2022-10-31T00:00:00\",\"2022-11-30T00:00:00\",\"2022-12-31T00:00:00\",\"2023-01-31T00:00:00\",\"2023-02-28T00:00:00\",\"2023-03-31T00:00:00\",\"2023-04-30T00:00:00\",\"2023-05-31T00:00:00\",\"2023-06-30T00:00:00\",\"2023-07-31T00:00:00\",\"2023-08-31T00:00:00\",\"2023-09-30T00:00:00\",\"2023-10-31T00:00:00\",\"2023-11-30T00:00:00\",\"2023-12-31T00:00:00\",\"2024-01-31T00:00:00\",\"2024-02-29T00:00:00\",\"2024-03-31T00:00:00\",\"2024-04-30T00:00:00\",\"2024-05-31T00:00:00\",\"2024-06-30T00:00:00\",\"2024-07-31T00:00:00\",\"2024-08-31T00:00:00\",\"2024-09-30T00:00:00\",\"2024-10-31T00:00:00\"],\"xaxis\":\"x\",\"y\":[43.34,44.23,45.03,43.64,36.71,37.33,43.45,40.17,44.47,58.43,56.1,57.5,71.29,71.52,77.35,80.52,92.23,76.95,82.23,85.66,83.25,80.56,74.29,74.45,76.02,82.95,73.49,81.13,88.94,79.59,80.85,72.99,78.23,84.14,79.42,89.18,91.92,93.64,91.37,89.4,93.27,94.92,87.2,95.42,92.64,99.95,92.5,95.12,106.61,111.98,113.18,124.12,123.98,116.85,117.69,120.77,140.5,146.66,137.44,154.58],\"yaxis\":\"y\",\"type\":\"scatter\"}],                        {\"template\":{\"data\":{\"histogram2dcontour\":[{\"type\":\"histogram2dcontour\",\"colorbar\":{\"outlinewidth\":0,\"ticks\":\"\"},\"colorscale\":[[0.0,\"#0d0887\"],[0.1111111111111111,\"#46039f\"],[0.2222222222222222,\"#7201a8\"],[0.3333333333333333,\"#9c179e\"],[0.4444444444444444,\"#bd3786\"],[0.5555555555555556,\"#d8576b\"],[0.6666666666666666,\"#ed7953\"],[0.7777777777777778,\"#fb9f3a\"],[0.8888888888888888,\"#fdca26\"],[1.0,\"#f0f921\"]]}],\"choropleth\":[{\"type\":\"choropleth\",\"colorbar\":{\"outlinewidth\":0,\"ticks\":\"\"}}],\"histogram2d\":[{\"type\":\"histogram2d\",\"colorbar\":{\"outlinewidth\":0,\"ticks\":\"\"},\"colorscale\":[[0.0,\"#0d0887\"],[0.1111111111111111,\"#46039f\"],[0.2222222222222222,\"#7201a8\"],[0.3333333333333333,\"#9c179e\"],[0.4444444444444444,\"#bd3786\"],[0.5555555555555556,\"#d8576b\"],[0.6666666666666666,\"#ed7953\"],[0.7777777777777778,\"#fb9f3a\"],[0.8888888888888888,\"#fdca26\"],[1.0,\"#f0f921\"]]}],\"heatmap\":[{\"type\":\"heatmap\",\"colorbar\":{\"outlinewidth\":0,\"ticks\":\"\"},\"colorscale\":[[0.0,\"#0d0887\"],[0.1111111111111111,\"#46039f\"],[0.2222222222222222,\"#7201a8\"],[0.3333333333333333,\"#9c179e\"],[0.4444444444444444,\"#bd3786\"],[0.5555555555555556,\"#d8576b\"],[0.6666666666666666,\"#ed7953\"],[0.7777777777777778,\"#fb9f3a\"],[0.8888888888888888,\"#fdca26\"],[1.0,\"#f0f921\"]]}],\"heatmapgl\":[{\"type\":\"heatmapgl\",\"colorbar\":{\"outlinewidth\":0,\"ticks\":\"\"},\"colorscale\":[[0.0,\"#0d0887\"],[0.1111111111111111,\"#46039f\"],[0.2222222222222222,\"#7201a8\"],[0.3333333333333333,\"#9c179e\"],[0.4444444444444444,\"#bd3786\"],[0.5555555555555556,\"#d8576b\"],[0.6666666666666666,\"#ed7953\"],[0.7777777777777778,\"#fb9f3a\"],[0.8888888888888888,\"#fdca26\"],[1.0,\"#f0f921\"]]}],\"contourcarpet\":[{\"type\":\"contourcarpet\",\"colorbar\":{\"outlinewidth\":0,\"ticks\":\"\"}}],\"contour\":[{\"type\":\"contour\",\"colorbar\":{\"outlinewidth\":0,\"ticks\":\"\"},\"colorscale\":[[0.0,\"#0d0887\"],[0.1111111111111111,\"#46039f\"],[0.2222222222222222,\"#7201a8\"],[0.3333333333333333,\"#9c179e\"],[0.4444444444444444,\"#bd3786\"],[0.5555555555555556,\"#d8576b\"],[0.6666666666666666,\"#ed7953\"],[0.7777777777777778,\"#fb9f3a\"],[0.8888888888888888,\"#fdca26\"],[1.0,\"#f0f921\"]]}],\"surface\":[{\"type\":\"surface\",\"colorbar\":{\"outlinewidth\":0,\"ticks\":\"\"},\"colorscale\":[[0.0,\"#0d0887\"],[0.1111111111111111,\"#46039f\"],[0.2222222222222222,\"#7201a8\"],[0.3333333333333333,\"#9c179e\"],[0.4444444444444444,\"#bd3786\"],[0.5555555555555556,\"#d8576b\"],[0.6666666666666666,\"#ed7953\"],[0.7777777777777778,\"#fb9f3a\"],[0.8888888888888888,\"#fdca26\"],[1.0,\"#f0f921\"]]}],\"mesh3d\":[{\"type\":\"mesh3d\",\"colorbar\":{\"outlinewidth\":0,\"ticks\":\"\"}}],\"scatter\":[{\"fillpattern\":{\"fillmode\":\"overlay\",\"size\":10,\"solidity\":0.2},\"type\":\"scatter\"}],\"parcoords\":[{\"type\":\"parcoords\",\"line\":{\"colorbar\":{\"outlinewidth\":0,\"ticks\":\"\"}}}],\"scatterpolargl\":[{\"type\":\"scatterpolargl\",\"marker\":{\"colorbar\":{\"outlinewidth\":0,\"ticks\":\"\"}}}],\"bar\":[{\"error_x\":{\"color\":\"#2a3f5f\"},\"error_y\":{\"color\":\"#2a3f5f\"},\"marker\":{\"line\":{\"color\":\"#E5ECF6\",\"width\":0.5},\"pattern\":{\"fillmode\":\"overlay\",\"size\":10,\"solidity\":0.2}},\"type\":\"bar\"}],\"scattergeo\":[{\"type\":\"scattergeo\",\"marker\":{\"colorbar\":{\"outlinewidth\":0,\"ticks\":\"\"}}}],\"scatterpolar\":[{\"type\":\"scatterpolar\",\"marker\":{\"colorbar\":{\"outlinewidth\":0,\"ticks\":\"\"}}}],\"histogram\":[{\"marker\":{\"pattern\":{\"fillmode\":\"overlay\",\"size\":10,\"solidity\":0.2}},\"type\":\"histogram\"}],\"scattergl\":[{\"type\":\"scattergl\",\"marker\":{\"colorbar\":{\"outlinewidth\":0,\"ticks\":\"\"}}}],\"scatter3d\":[{\"type\":\"scatter3d\",\"line\":{\"colorbar\":{\"outlinewidth\":0,\"ticks\":\"\"}},\"marker\":{\"colorbar\":{\"outlinewidth\":0,\"ticks\":\"\"}}}],\"scattermapbox\":[{\"type\":\"scattermapbox\",\"marker\":{\"colorbar\":{\"outlinewidth\":0,\"ticks\":\"\"}}}],\"scatterternary\":[{\"type\":\"scatterternary\",\"marker\":{\"colorbar\":{\"outlinewidth\":0,\"ticks\":\"\"}}}],\"scattercarpet\":[{\"type\":\"scattercarpet\",\"marker\":{\"colorbar\":{\"outlinewidth\":0,\"ticks\":\"\"}}}],\"carpet\":[{\"aaxis\":{\"endlinecolor\":\"#2a3f5f\",\"gridcolor\":\"white\",\"linecolor\":\"white\",\"minorgridcolor\":\"white\",\"startlinecolor\":\"#2a3f5f\"},\"baxis\":{\"endlinecolor\":\"#2a3f5f\",\"gridcolor\":\"white\",\"linecolor\":\"white\",\"minorgridcolor\":\"white\",\"startlinecolor\":\"#2a3f5f\"},\"type\":\"carpet\"}],\"table\":[{\"cells\":{\"fill\":{\"color\":\"#EBF0F8\"},\"line\":{\"color\":\"white\"}},\"header\":{\"fill\":{\"color\":\"#C8D4E3\"},\"line\":{\"color\":\"white\"}},\"type\":\"table\"}],\"barpolar\":[{\"marker\":{\"line\":{\"color\":\"#E5ECF6\",\"width\":0.5},\"pattern\":{\"fillmode\":\"overlay\",\"size\":10,\"solidity\":0.2}},\"type\":\"barpolar\"}],\"pie\":[{\"automargin\":true,\"type\":\"pie\"}]},\"layout\":{\"autotypenumbers\":\"strict\",\"colorway\":[\"#636efa\",\"#EF553B\",\"#00cc96\",\"#ab63fa\",\"#FFA15A\",\"#19d3f3\",\"#FF6692\",\"#B6E880\",\"#FF97FF\",\"#FECB52\"],\"font\":{\"color\":\"#2a3f5f\"},\"hovermode\":\"closest\",\"hoverlabel\":{\"align\":\"left\"},\"paper_bgcolor\":\"white\",\"plot_bgcolor\":\"#E5ECF6\",\"polar\":{\"bgcolor\":\"#E5ECF6\",\"angularaxis\":{\"gridcolor\":\"white\",\"linecolor\":\"white\",\"ticks\":\"\"},\"radialaxis\":{\"gridcolor\":\"white\",\"linecolor\":\"white\",\"ticks\":\"\"}},\"ternary\":{\"bgcolor\":\"#E5ECF6\",\"aaxis\":{\"gridcolor\":\"white\",\"linecolor\":\"white\",\"ticks\":\"\"},\"baxis\":{\"gridcolor\":\"white\",\"linecolor\":\"white\",\"ticks\":\"\"},\"caxis\":{\"gridcolor\":\"white\",\"linecolor\":\"white\",\"ticks\":\"\"}},\"coloraxis\":{\"colorbar\":{\"outlinewidth\":0,\"ticks\":\"\"}},\"colorscale\":{\"sequential\":[[0.0,\"#0d0887\"],[0.1111111111111111,\"#46039f\"],[0.2222222222222222,\"#7201a8\"],[0.3333333333333333,\"#9c179e\"],[0.4444444444444444,\"#bd3786\"],[0.5555555555555556,\"#d8576b\"],[0.6666666666666666,\"#ed7953\"],[0.7777777777777778,\"#fb9f3a\"],[0.8888888888888888,\"#fdca26\"],[1.0,\"#f0f921\"]],\"sequentialminus\":[[0.0,\"#0d0887\"],[0.1111111111111111,\"#46039f\"],[0.2222222222222222,\"#7201a8\"],[0.3333333333333333,\"#9c179e\"],[0.4444444444444444,\"#bd3786\"],[0.5555555555555556,\"#d8576b\"],[0.6666666666666666,\"#ed7953\"],[0.7777777777777778,\"#fb9f3a\"],[0.8888888888888888,\"#fdca26\"],[1.0,\"#f0f921\"]],\"diverging\":[[0,\"#8e0152\"],[0.1,\"#c51b7d\"],[0.2,\"#de77ae\"],[0.3,\"#f1b6da\"],[0.4,\"#fde0ef\"],[0.5,\"#f7f7f7\"],[0.6,\"#e6f5d0\"],[0.7,\"#b8e186\"],[0.8,\"#7fbc41\"],[0.9,\"#4d9221\"],[1,\"#276419\"]]},\"xaxis\":{\"gridcolor\":\"white\",\"linecolor\":\"white\",\"ticks\":\"\",\"title\":{\"standoff\":15},\"zerolinecolor\":\"white\",\"automargin\":true,\"zerolinewidth\":2},\"yaxis\":{\"gridcolor\":\"white\",\"linecolor\":\"white\",\"ticks\":\"\",\"title\":{\"standoff\":15},\"zerolinecolor\":\"white\",\"automargin\":true,\"zerolinewidth\":2},\"scene\":{\"xaxis\":{\"backgroundcolor\":\"#E5ECF6\",\"gridcolor\":\"white\",\"linecolor\":\"white\",\"showbackground\":true,\"ticks\":\"\",\"zerolinecolor\":\"white\",\"gridwidth\":2},\"yaxis\":{\"backgroundcolor\":\"#E5ECF6\",\"gridcolor\":\"white\",\"linecolor\":\"white\",\"showbackground\":true,\"ticks\":\"\",\"zerolinecolor\":\"white\",\"gridwidth\":2},\"zaxis\":{\"backgroundcolor\":\"#E5ECF6\",\"gridcolor\":\"white\",\"linecolor\":\"white\",\"showbackground\":true,\"ticks\":\"\",\"zerolinecolor\":\"white\",\"gridwidth\":2}},\"shapedefaults\":{\"line\":{\"color\":\"#2a3f5f\"}},\"annotationdefaults\":{\"arrowcolor\":\"#2a3f5f\",\"arrowhead\":0,\"arrowwidth\":1},\"geo\":{\"bgcolor\":\"white\",\"landcolor\":\"#E5ECF6\",\"subunitcolor\":\"white\",\"showland\":true,\"showlakes\":true,\"lakecolor\":\"white\"},\"title\":{\"x\":0.05},\"mapbox\":{\"style\":\"light\"}}},\"xaxis\":{\"anchor\":\"y\",\"domain\":[0.0,1.0],\"title\":{\"text\":\"x\"}},\"yaxis\":{\"anchor\":\"x\",\"domain\":[0.0,1.0],\"title\":{\"text\":\"y\"}},\"legend\":{\"tracegroupgap\":0},\"title\":{\"text\":\"High Prices Over Time\"}},                        {\"responsive\": true}                    ).then(function(){\n",
       "                            \n",
       "var gd = document.getElementById('591f7c63-6a9a-44cd-bb4f-9012360a4912');\n",
       "var x = new MutationObserver(function (mutations, observer) {{\n",
       "        var display = window.getComputedStyle(gd).display;\n",
       "        if (!display || display === 'none') {{\n",
       "            console.log([gd, 'removed!']);\n",
       "            Plotly.purge(gd);\n",
       "            observer.disconnect();\n",
       "        }}\n",
       "}});\n",
       "\n",
       "// Listen for the removal of the full notebook cells\n",
       "var notebookContainer = gd.closest('#notebook-container');\n",
       "if (notebookContainer) {{\n",
       "    x.observe(notebookContainer, {childList: true});\n",
       "}}\n",
       "\n",
       "// Listen for the clearing of the current output cell\n",
       "var outputEl = gd.closest('.output');\n",
       "if (outputEl) {{\n",
       "    x.observe(outputEl, {childList: true});\n",
       "}}\n",
       "\n",
       "                        })                };                });            </script>        </div>"
      ]
     },
     "metadata": {},
     "output_type": "display_data"
    }
   ],
   "source": [
    "low_data = monthly_df[('Low', 'ENSG')]\n",
    "fig_low = px.line(x=monthly_df.index, y=low_data, title='High Prices Over Time')\n",
    "fig_low.show()"
   ]
  },
  {
   "cell_type": "code",
   "execution_count": 409,
   "id": "e90e3413-d3fa-4b9e-9c25-b17fcd404587",
   "metadata": {},
   "outputs": [
    {
     "data": {
      "application/vnd.plotly.v1+json": {
       "config": {
        "plotlyServerURL": "https://plot.ly"
       },
       "data": [
        {
         "hovertemplate": "variable=High<br>Date=%{x}<br>value=%{y}<extra></extra>",
         "legendgroup": "High",
         "line": {
          "color": "#636efa",
          "dash": "solid"
         },
         "marker": {
          "symbol": "circle"
         },
         "mode": "lines",
         "name": "High",
         "orientation": "v",
         "showlegend": true,
         "type": "scatter",
         "x": [
          "2019-11-30T00:00:00",
          "2019-12-31T00:00:00",
          "2020-01-31T00:00:00",
          "2020-02-29T00:00:00",
          "2020-03-31T00:00:00",
          "2020-04-30T00:00:00",
          "2020-05-31T00:00:00",
          "2020-06-30T00:00:00",
          "2020-07-31T00:00:00",
          "2020-08-31T00:00:00",
          "2020-09-30T00:00:00",
          "2020-10-31T00:00:00",
          "2020-11-30T00:00:00",
          "2020-12-31T00:00:00",
          "2021-01-31T00:00:00",
          "2021-02-28T00:00:00",
          "2021-03-31T00:00:00",
          "2021-04-30T00:00:00",
          "2021-05-31T00:00:00",
          "2021-06-30T00:00:00",
          "2021-07-31T00:00:00",
          "2021-08-31T00:00:00",
          "2021-09-30T00:00:00",
          "2021-10-31T00:00:00",
          "2021-11-30T00:00:00",
          "2021-12-31T00:00:00",
          "2022-01-31T00:00:00",
          "2022-02-28T00:00:00",
          "2022-03-31T00:00:00",
          "2022-04-30T00:00:00",
          "2022-05-31T00:00:00",
          "2022-06-30T00:00:00",
          "2022-07-31T00:00:00",
          "2022-08-31T00:00:00",
          "2022-09-30T00:00:00",
          "2022-10-31T00:00:00",
          "2022-11-30T00:00:00",
          "2022-12-31T00:00:00",
          "2023-01-31T00:00:00",
          "2023-02-28T00:00:00",
          "2023-03-31T00:00:00",
          "2023-04-30T00:00:00",
          "2023-05-31T00:00:00",
          "2023-06-30T00:00:00",
          "2023-07-31T00:00:00",
          "2023-08-31T00:00:00",
          "2023-09-30T00:00:00",
          "2023-10-31T00:00:00",
          "2023-11-30T00:00:00",
          "2023-12-31T00:00:00",
          "2024-01-31T00:00:00",
          "2024-02-29T00:00:00",
          "2024-03-31T00:00:00",
          "2024-04-30T00:00:00",
          "2024-05-31T00:00:00",
          "2024-06-30T00:00:00",
          "2024-07-31T00:00:00",
          "2024-08-31T00:00:00",
          "2024-09-30T00:00:00",
          "2024-10-31T00:00:00"
         ],
         "xaxis": "x",
         "y": [
          43.86,
          45.46,
          46.64,
          45.75,
          39.77,
          39.97,
          44.77,
          41.97,
          46.55,
          59.36,
          57.75,
          61.23,
          73.43,
          73.36,
          82.33,
          83.53,
          94.65,
          88.76,
          83.77,
          88.13,
          86.41,
          81.72,
          76.16,
          78.68,
          78.27,
          84.21,
          75.59,
          84.57,
          91.02,
          83.53,
          82.61,
          75.3,
          79.97,
          86.24,
          82,
          91.43,
          95.06,
          95.49,
          93.25,
          90.89,
          95.62,
          97.46,
          89.45,
          96.2,
          97,
          104.04,
          94.47,
          96.86,
          107.41,
          113.8,
          116.58,
          125.64,
          126.77,
          118.82,
          121.42,
          123.82,
          145,
          151.74,
          145.62,
          157.93
         ],
         "yaxis": "y"
        },
        {
         "hovertemplate": "variable=Low<br>Date=%{x}<br>value=%{y}<extra></extra>",
         "legendgroup": "Low",
         "line": {
          "color": "#EF553B",
          "dash": "solid"
         },
         "marker": {
          "symbol": "circle"
         },
         "mode": "lines",
         "name": "Low",
         "orientation": "v",
         "showlegend": true,
         "type": "scatter",
         "x": [
          "2019-11-30T00:00:00",
          "2019-12-31T00:00:00",
          "2020-01-31T00:00:00",
          "2020-02-29T00:00:00",
          "2020-03-31T00:00:00",
          "2020-04-30T00:00:00",
          "2020-05-31T00:00:00",
          "2020-06-30T00:00:00",
          "2020-07-31T00:00:00",
          "2020-08-31T00:00:00",
          "2020-09-30T00:00:00",
          "2020-10-31T00:00:00",
          "2020-11-30T00:00:00",
          "2020-12-31T00:00:00",
          "2021-01-31T00:00:00",
          "2021-02-28T00:00:00",
          "2021-03-31T00:00:00",
          "2021-04-30T00:00:00",
          "2021-05-31T00:00:00",
          "2021-06-30T00:00:00",
          "2021-07-31T00:00:00",
          "2021-08-31T00:00:00",
          "2021-09-30T00:00:00",
          "2021-10-31T00:00:00",
          "2021-11-30T00:00:00",
          "2021-12-31T00:00:00",
          "2022-01-31T00:00:00",
          "2022-02-28T00:00:00",
          "2022-03-31T00:00:00",
          "2022-04-30T00:00:00",
          "2022-05-31T00:00:00",
          "2022-06-30T00:00:00",
          "2022-07-31T00:00:00",
          "2022-08-31T00:00:00",
          "2022-09-30T00:00:00",
          "2022-10-31T00:00:00",
          "2022-11-30T00:00:00",
          "2022-12-31T00:00:00",
          "2023-01-31T00:00:00",
          "2023-02-28T00:00:00",
          "2023-03-31T00:00:00",
          "2023-04-30T00:00:00",
          "2023-05-31T00:00:00",
          "2023-06-30T00:00:00",
          "2023-07-31T00:00:00",
          "2023-08-31T00:00:00",
          "2023-09-30T00:00:00",
          "2023-10-31T00:00:00",
          "2023-11-30T00:00:00",
          "2023-12-31T00:00:00",
          "2024-01-31T00:00:00",
          "2024-02-29T00:00:00",
          "2024-03-31T00:00:00",
          "2024-04-30T00:00:00",
          "2024-05-31T00:00:00",
          "2024-06-30T00:00:00",
          "2024-07-31T00:00:00",
          "2024-08-31T00:00:00",
          "2024-09-30T00:00:00",
          "2024-10-31T00:00:00"
         ],
         "xaxis": "x",
         "y": [
          43.34,
          44.23,
          45.03,
          43.64,
          36.71,
          37.33,
          43.45,
          40.17,
          44.47,
          58.43,
          56.1,
          57.5,
          71.29,
          71.52,
          77.35,
          80.52,
          92.23,
          76.95,
          82.23,
          85.66,
          83.25,
          80.56,
          74.29,
          74.45,
          76.02,
          82.95,
          73.49,
          81.13,
          88.94,
          79.59,
          80.85,
          72.99,
          78.23,
          84.14,
          79.42,
          89.18,
          91.92,
          93.64,
          91.37,
          89.4,
          93.27,
          94.92,
          87.2,
          95.42,
          92.64,
          99.95,
          92.5,
          95.12,
          106.61,
          111.98,
          113.18,
          124.12,
          123.98,
          116.85,
          117.69,
          120.77,
          140.5,
          146.66,
          137.44,
          154.58
         ],
         "yaxis": "y"
        }
       ],
       "layout": {
        "autosize": true,
        "legend": {
         "title": {
          "text": "variable"
         },
         "tracegroupgap": 0
        },
        "template": {
         "data": {
          "bar": [
           {
            "error_x": {
             "color": "#2a3f5f"
            },
            "error_y": {
             "color": "#2a3f5f"
            },
            "marker": {
             "line": {
              "color": "#E5ECF6",
              "width": 0.5
             },
             "pattern": {
              "fillmode": "overlay",
              "size": 10,
              "solidity": 0.2
             }
            },
            "type": "bar"
           }
          ],
          "barpolar": [
           {
            "marker": {
             "line": {
              "color": "#E5ECF6",
              "width": 0.5
             },
             "pattern": {
              "fillmode": "overlay",
              "size": 10,
              "solidity": 0.2
             }
            },
            "type": "barpolar"
           }
          ],
          "carpet": [
           {
            "aaxis": {
             "endlinecolor": "#2a3f5f",
             "gridcolor": "white",
             "linecolor": "white",
             "minorgridcolor": "white",
             "startlinecolor": "#2a3f5f"
            },
            "baxis": {
             "endlinecolor": "#2a3f5f",
             "gridcolor": "white",
             "linecolor": "white",
             "minorgridcolor": "white",
             "startlinecolor": "#2a3f5f"
            },
            "type": "carpet"
           }
          ],
          "choropleth": [
           {
            "colorbar": {
             "outlinewidth": 0,
             "ticks": ""
            },
            "type": "choropleth"
           }
          ],
          "contour": [
           {
            "colorbar": {
             "outlinewidth": 0,
             "ticks": ""
            },
            "colorscale": [
             [
              0,
              "#0d0887"
             ],
             [
              0.1111111111111111,
              "#46039f"
             ],
             [
              0.2222222222222222,
              "#7201a8"
             ],
             [
              0.3333333333333333,
              "#9c179e"
             ],
             [
              0.4444444444444444,
              "#bd3786"
             ],
             [
              0.5555555555555556,
              "#d8576b"
             ],
             [
              0.6666666666666666,
              "#ed7953"
             ],
             [
              0.7777777777777778,
              "#fb9f3a"
             ],
             [
              0.8888888888888888,
              "#fdca26"
             ],
             [
              1,
              "#f0f921"
             ]
            ],
            "type": "contour"
           }
          ],
          "contourcarpet": [
           {
            "colorbar": {
             "outlinewidth": 0,
             "ticks": ""
            },
            "type": "contourcarpet"
           }
          ],
          "heatmap": [
           {
            "colorbar": {
             "outlinewidth": 0,
             "ticks": ""
            },
            "colorscale": [
             [
              0,
              "#0d0887"
             ],
             [
              0.1111111111111111,
              "#46039f"
             ],
             [
              0.2222222222222222,
              "#7201a8"
             ],
             [
              0.3333333333333333,
              "#9c179e"
             ],
             [
              0.4444444444444444,
              "#bd3786"
             ],
             [
              0.5555555555555556,
              "#d8576b"
             ],
             [
              0.6666666666666666,
              "#ed7953"
             ],
             [
              0.7777777777777778,
              "#fb9f3a"
             ],
             [
              0.8888888888888888,
              "#fdca26"
             ],
             [
              1,
              "#f0f921"
             ]
            ],
            "type": "heatmap"
           }
          ],
          "heatmapgl": [
           {
            "colorbar": {
             "outlinewidth": 0,
             "ticks": ""
            },
            "colorscale": [
             [
              0,
              "#0d0887"
             ],
             [
              0.1111111111111111,
              "#46039f"
             ],
             [
              0.2222222222222222,
              "#7201a8"
             ],
             [
              0.3333333333333333,
              "#9c179e"
             ],
             [
              0.4444444444444444,
              "#bd3786"
             ],
             [
              0.5555555555555556,
              "#d8576b"
             ],
             [
              0.6666666666666666,
              "#ed7953"
             ],
             [
              0.7777777777777778,
              "#fb9f3a"
             ],
             [
              0.8888888888888888,
              "#fdca26"
             ],
             [
              1,
              "#f0f921"
             ]
            ],
            "type": "heatmapgl"
           }
          ],
          "histogram": [
           {
            "marker": {
             "pattern": {
              "fillmode": "overlay",
              "size": 10,
              "solidity": 0.2
             }
            },
            "type": "histogram"
           }
          ],
          "histogram2d": [
           {
            "colorbar": {
             "outlinewidth": 0,
             "ticks": ""
            },
            "colorscale": [
             [
              0,
              "#0d0887"
             ],
             [
              0.1111111111111111,
              "#46039f"
             ],
             [
              0.2222222222222222,
              "#7201a8"
             ],
             [
              0.3333333333333333,
              "#9c179e"
             ],
             [
              0.4444444444444444,
              "#bd3786"
             ],
             [
              0.5555555555555556,
              "#d8576b"
             ],
             [
              0.6666666666666666,
              "#ed7953"
             ],
             [
              0.7777777777777778,
              "#fb9f3a"
             ],
             [
              0.8888888888888888,
              "#fdca26"
             ],
             [
              1,
              "#f0f921"
             ]
            ],
            "type": "histogram2d"
           }
          ],
          "histogram2dcontour": [
           {
            "colorbar": {
             "outlinewidth": 0,
             "ticks": ""
            },
            "colorscale": [
             [
              0,
              "#0d0887"
             ],
             [
              0.1111111111111111,
              "#46039f"
             ],
             [
              0.2222222222222222,
              "#7201a8"
             ],
             [
              0.3333333333333333,
              "#9c179e"
             ],
             [
              0.4444444444444444,
              "#bd3786"
             ],
             [
              0.5555555555555556,
              "#d8576b"
             ],
             [
              0.6666666666666666,
              "#ed7953"
             ],
             [
              0.7777777777777778,
              "#fb9f3a"
             ],
             [
              0.8888888888888888,
              "#fdca26"
             ],
             [
              1,
              "#f0f921"
             ]
            ],
            "type": "histogram2dcontour"
           }
          ],
          "mesh3d": [
           {
            "colorbar": {
             "outlinewidth": 0,
             "ticks": ""
            },
            "type": "mesh3d"
           }
          ],
          "parcoords": [
           {
            "line": {
             "colorbar": {
              "outlinewidth": 0,
              "ticks": ""
             }
            },
            "type": "parcoords"
           }
          ],
          "pie": [
           {
            "automargin": true,
            "type": "pie"
           }
          ],
          "scatter": [
           {
            "fillpattern": {
             "fillmode": "overlay",
             "size": 10,
             "solidity": 0.2
            },
            "type": "scatter"
           }
          ],
          "scatter3d": [
           {
            "line": {
             "colorbar": {
              "outlinewidth": 0,
              "ticks": ""
             }
            },
            "marker": {
             "colorbar": {
              "outlinewidth": 0,
              "ticks": ""
             }
            },
            "type": "scatter3d"
           }
          ],
          "scattercarpet": [
           {
            "marker": {
             "colorbar": {
              "outlinewidth": 0,
              "ticks": ""
             }
            },
            "type": "scattercarpet"
           }
          ],
          "scattergeo": [
           {
            "marker": {
             "colorbar": {
              "outlinewidth": 0,
              "ticks": ""
             }
            },
            "type": "scattergeo"
           }
          ],
          "scattergl": [
           {
            "marker": {
             "colorbar": {
              "outlinewidth": 0,
              "ticks": ""
             }
            },
            "type": "scattergl"
           }
          ],
          "scattermapbox": [
           {
            "marker": {
             "colorbar": {
              "outlinewidth": 0,
              "ticks": ""
             }
            },
            "type": "scattermapbox"
           }
          ],
          "scatterpolar": [
           {
            "marker": {
             "colorbar": {
              "outlinewidth": 0,
              "ticks": ""
             }
            },
            "type": "scatterpolar"
           }
          ],
          "scatterpolargl": [
           {
            "marker": {
             "colorbar": {
              "outlinewidth": 0,
              "ticks": ""
             }
            },
            "type": "scatterpolargl"
           }
          ],
          "scatterternary": [
           {
            "marker": {
             "colorbar": {
              "outlinewidth": 0,
              "ticks": ""
             }
            },
            "type": "scatterternary"
           }
          ],
          "surface": [
           {
            "colorbar": {
             "outlinewidth": 0,
             "ticks": ""
            },
            "colorscale": [
             [
              0,
              "#0d0887"
             ],
             [
              0.1111111111111111,
              "#46039f"
             ],
             [
              0.2222222222222222,
              "#7201a8"
             ],
             [
              0.3333333333333333,
              "#9c179e"
             ],
             [
              0.4444444444444444,
              "#bd3786"
             ],
             [
              0.5555555555555556,
              "#d8576b"
             ],
             [
              0.6666666666666666,
              "#ed7953"
             ],
             [
              0.7777777777777778,
              "#fb9f3a"
             ],
             [
              0.8888888888888888,
              "#fdca26"
             ],
             [
              1,
              "#f0f921"
             ]
            ],
            "type": "surface"
           }
          ],
          "table": [
           {
            "cells": {
             "fill": {
              "color": "#EBF0F8"
             },
             "line": {
              "color": "white"
             }
            },
            "header": {
             "fill": {
              "color": "#C8D4E3"
             },
             "line": {
              "color": "white"
             }
            },
            "type": "table"
           }
          ]
         },
         "layout": {
          "annotationdefaults": {
           "arrowcolor": "#2a3f5f",
           "arrowhead": 0,
           "arrowwidth": 1
          },
          "autotypenumbers": "strict",
          "coloraxis": {
           "colorbar": {
            "outlinewidth": 0,
            "ticks": ""
           }
          },
          "colorscale": {
           "diverging": [
            [
             0,
             "#8e0152"
            ],
            [
             0.1,
             "#c51b7d"
            ],
            [
             0.2,
             "#de77ae"
            ],
            [
             0.3,
             "#f1b6da"
            ],
            [
             0.4,
             "#fde0ef"
            ],
            [
             0.5,
             "#f7f7f7"
            ],
            [
             0.6,
             "#e6f5d0"
            ],
            [
             0.7,
             "#b8e186"
            ],
            [
             0.8,
             "#7fbc41"
            ],
            [
             0.9,
             "#4d9221"
            ],
            [
             1,
             "#276419"
            ]
           ],
           "sequential": [
            [
             0,
             "#0d0887"
            ],
            [
             0.1111111111111111,
             "#46039f"
            ],
            [
             0.2222222222222222,
             "#7201a8"
            ],
            [
             0.3333333333333333,
             "#9c179e"
            ],
            [
             0.4444444444444444,
             "#bd3786"
            ],
            [
             0.5555555555555556,
             "#d8576b"
            ],
            [
             0.6666666666666666,
             "#ed7953"
            ],
            [
             0.7777777777777778,
             "#fb9f3a"
            ],
            [
             0.8888888888888888,
             "#fdca26"
            ],
            [
             1,
             "#f0f921"
            ]
           ],
           "sequentialminus": [
            [
             0,
             "#0d0887"
            ],
            [
             0.1111111111111111,
             "#46039f"
            ],
            [
             0.2222222222222222,
             "#7201a8"
            ],
            [
             0.3333333333333333,
             "#9c179e"
            ],
            [
             0.4444444444444444,
             "#bd3786"
            ],
            [
             0.5555555555555556,
             "#d8576b"
            ],
            [
             0.6666666666666666,
             "#ed7953"
            ],
            [
             0.7777777777777778,
             "#fb9f3a"
            ],
            [
             0.8888888888888888,
             "#fdca26"
            ],
            [
             1,
             "#f0f921"
            ]
           ]
          },
          "colorway": [
           "#636efa",
           "#EF553B",
           "#00cc96",
           "#ab63fa",
           "#FFA15A",
           "#19d3f3",
           "#FF6692",
           "#B6E880",
           "#FF97FF",
           "#FECB52"
          ],
          "font": {
           "color": "#2a3f5f"
          },
          "geo": {
           "bgcolor": "white",
           "lakecolor": "white",
           "landcolor": "#E5ECF6",
           "showlakes": true,
           "showland": true,
           "subunitcolor": "white"
          },
          "hoverlabel": {
           "align": "left"
          },
          "hovermode": "closest",
          "mapbox": {
           "style": "light"
          },
          "paper_bgcolor": "white",
          "plot_bgcolor": "#E5ECF6",
          "polar": {
           "angularaxis": {
            "gridcolor": "white",
            "linecolor": "white",
            "ticks": ""
           },
           "bgcolor": "#E5ECF6",
           "radialaxis": {
            "gridcolor": "white",
            "linecolor": "white",
            "ticks": ""
           }
          },
          "scene": {
           "xaxis": {
            "backgroundcolor": "#E5ECF6",
            "gridcolor": "white",
            "gridwidth": 2,
            "linecolor": "white",
            "showbackground": true,
            "ticks": "",
            "zerolinecolor": "white"
           },
           "yaxis": {
            "backgroundcolor": "#E5ECF6",
            "gridcolor": "white",
            "gridwidth": 2,
            "linecolor": "white",
            "showbackground": true,
            "ticks": "",
            "zerolinecolor": "white"
           },
           "zaxis": {
            "backgroundcolor": "#E5ECF6",
            "gridcolor": "white",
            "gridwidth": 2,
            "linecolor": "white",
            "showbackground": true,
            "ticks": "",
            "zerolinecolor": "white"
           }
          },
          "shapedefaults": {
           "line": {
            "color": "#2a3f5f"
           }
          },
          "ternary": {
           "aaxis": {
            "gridcolor": "white",
            "linecolor": "white",
            "ticks": ""
           },
           "baxis": {
            "gridcolor": "white",
            "linecolor": "white",
            "ticks": ""
           },
           "bgcolor": "#E5ECF6",
           "caxis": {
            "gridcolor": "white",
            "linecolor": "white",
            "ticks": ""
           }
          },
          "title": {
           "x": 0.05
          },
          "xaxis": {
           "automargin": true,
           "gridcolor": "white",
           "linecolor": "white",
           "ticks": "",
           "title": {
            "standoff": 15
           },
           "zerolinecolor": "white",
           "zerolinewidth": 2
          },
          "yaxis": {
           "automargin": true,
           "gridcolor": "white",
           "linecolor": "white",
           "ticks": "",
           "title": {
            "standoff": 15
           },
           "zerolinecolor": "white",
           "zerolinewidth": 2
          }
         }
        },
        "title": {
         "text": "High and Low Prices Over Time"
        },
        "xaxis": {
         "anchor": "y",
         "autorange": true,
         "domain": [
          0,
          1
         ],
         "range": [
          "2019-11-30",
          "2024-10-31"
         ],
         "title": {
          "text": "Date"
         },
         "type": "date"
        },
        "yaxis": {
         "anchor": "x",
         "autorange": true,
         "domain": [
          0,
          1
         ],
         "range": [
          29.975555555555555,
          164.66444444444446
         ],
         "title": {
          "text": "value"
         },
         "type": "linear"
        }
       }
      },
      "image/png": "[encoded data removed]",
      "text/html": [
       "<div>                            <div id=\"343ae2c1-9b50-4f99-9236-1689c76ef874\" class=\"plotly-graph-div\" style=\"height:525px; width:100%;\"></div>            <script type=\"text/javascript\">                require([\"plotly\"], function(Plotly) {                    window.PLOTLYENV=window.PLOTLYENV || {};                                    if (document.getElementById(\"343ae2c1-9b50-4f99-9236-1689c76ef874\")) {                    Plotly.newPlot(                        \"343ae2c1-9b50-4f99-9236-1689c76ef874\",                        [{\"hovertemplate\":\"variable=High\\u003cbr\\u003eDate=%{x}\\u003cbr\\u003evalue=%{y}\\u003cextra\\u003e\\u003c\\u002fextra\\u003e\",\"legendgroup\":\"High\",\"line\":{\"color\":\"#636efa\",\"dash\":\"solid\"},\"marker\":{\"symbol\":\"circle\"},\"mode\":\"lines\",\"name\":\"High\",\"orientation\":\"v\",\"showlegend\":true,\"x\":[\"2019-11-30T00:00:00\",\"2019-12-31T00:00:00\",\"2020-01-31T00:00:00\",\"2020-02-29T00:00:00\",\"2020-03-31T00:00:00\",\"2020-04-30T00:00:00\",\"2020-05-31T00:00:00\",\"2020-06-30T00:00:00\",\"2020-07-31T00:00:00\",\"2020-08-31T00:00:00\",\"2020-09-30T00:00:00\",\"2020-10-31T00:00:00\",\"2020-11-30T00:00:00\",\"2020-12-31T00:00:00\",\"2021-01-31T00:00:00\",\"2021-02-28T00:00:00\",\"2021-03-31T00:00:00\",\"2021-04-30T00:00:00\",\"2021-05-31T00:00:00\",\"2021-06-30T00:00:00\",\"2021-07-31T00:00:00\",\"2021-08-31T00:00:00\",\"2021-09-30T00:00:00\",\"2021-10-31T00:00:00\",\"2021-11-30T00:00:00\",\"2021-12-31T00:00:00\",\"2022-01-31T00:00:00\",\"2022-02-28T00:00:00\",\"2022-03-31T00:00:00\",\"2022-04-30T00:00:00\",\"2022-05-31T00:00:00\",\"2022-06-30T00:00:00\",\"2022-07-31T00:00:00\",\"2022-08-31T00:00:00\",\"2022-09-30T00:00:00\",\"2022-10-31T00:00:00\",\"2022-11-30T00:00:00\",\"2022-12-31T00:00:00\",\"2023-01-31T00:00:00\",\"2023-02-28T00:00:00\",\"2023-03-31T00:00:00\",\"2023-04-30T00:00:00\",\"2023-05-31T00:00:00\",\"2023-06-30T00:00:00\",\"2023-07-31T00:00:00\",\"2023-08-31T00:00:00\",\"2023-09-30T00:00:00\",\"2023-10-31T00:00:00\",\"2023-11-30T00:00:00\",\"2023-12-31T00:00:00\",\"2024-01-31T00:00:00\",\"2024-02-29T00:00:00\",\"2024-03-31T00:00:00\",\"2024-04-30T00:00:00\",\"2024-05-31T00:00:00\",\"2024-06-30T00:00:00\",\"2024-07-31T00:00:00\",\"2024-08-31T00:00:00\",\"2024-09-30T00:00:00\",\"2024-10-31T00:00:00\"],\"xaxis\":\"x\",\"y\":[43.86,45.46,46.64,45.75,39.77,39.97,44.77,41.97,46.55,59.36,57.75,61.23,73.43,73.36,82.33,83.53,94.65,88.76,83.77,88.13,86.41,81.72,76.16,78.68,78.27,84.21,75.59,84.57,91.02,83.53,82.61,75.3,79.97,86.24,82.0,91.43,95.06,95.49,93.25,90.89,95.62,97.46,89.45,96.2,97.0,104.04,94.47,96.86,107.41,113.8,116.58,125.64,126.77,118.82,121.42,123.82,145.0,151.74,145.62,157.93],\"yaxis\":\"y\",\"type\":\"scatter\"},{\"hovertemplate\":\"variable=Low\\u003cbr\\u003eDate=%{x}\\u003cbr\\u003evalue=%{y}\\u003cextra\\u003e\\u003c\\u002fextra\\u003e\",\"legendgroup\":\"Low\",\"line\":{\"color\":\"#EF553B\",\"dash\":\"solid\"},\"marker\":{\"symbol\":\"circle\"},\"mode\":\"lines\",\"name\":\"Low\",\"orientation\":\"v\",\"showlegend\":true,\"x\":[\"2019-11-30T00:00:00\",\"2019-12-31T00:00:00\",\"2020-01-31T00:00:00\",\"2020-02-29T00:00:00\",\"2020-03-31T00:00:00\",\"2020-04-30T00:00:00\",\"2020-05-31T00:00:00\",\"2020-06-30T00:00:00\",\"2020-07-31T00:00:00\",\"2020-08-31T00:00:00\",\"2020-09-30T00:00:00\",\"2020-10-31T00:00:00\",\"2020-11-30T00:00:00\",\"2020-12-31T00:00:00\",\"2021-01-31T00:00:00\",\"2021-02-28T00:00:00\",\"2021-03-31T00:00:00\",\"2021-04-30T00:00:00\",\"2021-05-31T00:00:00\",\"2021-06-30T00:00:00\",\"2021-07-31T00:00:00\",\"2021-08-31T00:00:00\",\"2021-09-30T00:00:00\",\"2021-10-31T00:00:00\",\"2021-11-30T00:00:00\",\"2021-12-31T00:00:00\",\"2022-01-31T00:00:00\",\"2022-02-28T00:00:00\",\"2022-03-31T00:00:00\",\"2022-04-30T00:00:00\",\"2022-05-31T00:00:00\",\"2022-06-30T00:00:00\",\"2022-07-31T00:00:00\",\"2022-08-31T00:00:00\",\"2022-09-30T00:00:00\",\"2022-10-31T00:00:00\",\"2022-11-30T00:00:00\",\"2022-12-31T00:00:00\",\"2023-01-31T00:00:00\",\"2023-02-28T00:00:00\",\"2023-03-31T00:00:00\",\"2023-04-30T00:00:00\",\"2023-05-31T00:00:00\",\"2023-06-30T00:00:00\",\"2023-07-31T00:00:00\",\"2023-08-31T00:00:00\",\"2023-09-30T00:00:00\",\"2023-10-31T00:00:00\",\"2023-11-30T00:00:00\",\"2023-12-31T00:00:00\",\"2024-01-31T00:00:00\",\"2024-02-29T00:00:00\",\"2024-03-31T00:00:00\",\"2024-04-30T00:00:00\",\"2024-05-31T00:00:00\",\"2024-06-30T00:00:00\",\"2024-07-31T00:00:00\",\"2024-08-31T00:00:00\",\"2024-09-30T00:00:00\",\"2024-10-31T00:00:00\"],\"xaxis\":\"x\",\"y\":[43.34,44.23,45.03,43.64,36.71,37.33,43.45,40.17,44.47,58.43,56.1,57.5,71.29,71.52,77.35,80.52,92.23,76.95,82.23,85.66,83.25,80.56,74.29,74.45,76.02,82.95,73.49,81.13,88.94,79.59,80.85,72.99,78.23,84.14,79.42,89.18,91.92,93.64,91.37,89.4,93.27,94.92,87.2,95.42,92.64,99.95,92.5,95.12,106.61,111.98,113.18,124.12,123.98,116.85,117.69,120.77,140.5,146.66,137.44,154.58],\"yaxis\":\"y\",\"type\":\"scatter\"}],                        {\"template\":{\"data\":{\"histogram2dcontour\":[{\"type\":\"histogram2dcontour\",\"colorbar\":{\"outlinewidth\":0,\"ticks\":\"\"},\"colorscale\":[[0.0,\"#0d0887\"],[0.1111111111111111,\"#46039f\"],[0.2222222222222222,\"#7201a8\"],[0.3333333333333333,\"#9c179e\"],[0.4444444444444444,\"#bd3786\"],[0.5555555555555556,\"#d8576b\"],[0.6666666666666666,\"#ed7953\"],[0.7777777777777778,\"#fb9f3a\"],[0.8888888888888888,\"#fdca26\"],[1.0,\"#f0f921\"]]}],\"choropleth\":[{\"type\":\"choropleth\",\"colorbar\":{\"outlinewidth\":0,\"ticks\":\"\"}}],\"histogram2d\":[{\"type\":\"histogram2d\",\"colorbar\":{\"outlinewidth\":0,\"ticks\":\"\"},\"colorscale\":[[0.0,\"#0d0887\"],[0.1111111111111111,\"#46039f\"],[0.2222222222222222,\"#7201a8\"],[0.3333333333333333,\"#9c179e\"],[0.4444444444444444,\"#bd3786\"],[0.5555555555555556,\"#d8576b\"],[0.6666666666666666,\"#ed7953\"],[0.7777777777777778,\"#fb9f3a\"],[0.8888888888888888,\"#fdca26\"],[1.0,\"#f0f921\"]]}],\"heatmap\":[{\"type\":\"heatmap\",\"colorbar\":{\"outlinewidth\":0,\"ticks\":\"\"},\"colorscale\":[[0.0,\"#0d0887\"],[0.1111111111111111,\"#46039f\"],[0.2222222222222222,\"#7201a8\"],[0.3333333333333333,\"#9c179e\"],[0.4444444444444444,\"#bd3786\"],[0.5555555555555556,\"#d8576b\"],[0.6666666666666666,\"#ed7953\"],[0.7777777777777778,\"#fb9f3a\"],[0.8888888888888888,\"#fdca26\"],[1.0,\"#f0f921\"]]}],\"heatmapgl\":[{\"type\":\"heatmapgl\",\"colorbar\":{\"outlinewidth\":0,\"ticks\":\"\"},\"colorscale\":[[0.0,\"#0d0887\"],[0.1111111111111111,\"#46039f\"],[0.2222222222222222,\"#7201a8\"],[0.3333333333333333,\"#9c179e\"],[0.4444444444444444,\"#bd3786\"],[0.5555555555555556,\"#d8576b\"],[0.6666666666666666,\"#ed7953\"],[0.7777777777777778,\"#fb9f3a\"],[0.8888888888888888,\"#fdca26\"],[1.0,\"#f0f921\"]]}],\"contourcarpet\":[{\"type\":\"contourcarpet\",\"colorbar\":{\"outlinewidth\":0,\"ticks\":\"\"}}],\"contour\":[{\"type\":\"contour\",\"colorbar\":{\"outlinewidth\":0,\"ticks\":\"\"},\"colorscale\":[[0.0,\"#0d0887\"],[0.1111111111111111,\"#46039f\"],[0.2222222222222222,\"#7201a8\"],[0.3333333333333333,\"#9c179e\"],[0.4444444444444444,\"#bd3786\"],[0.5555555555555556,\"#d8576b\"],[0.6666666666666666,\"#ed7953\"],[0.7777777777777778,\"#fb9f3a\"],[0.8888888888888888,\"#fdca26\"],[1.0,\"#f0f921\"]]}],\"surface\":[{\"type\":\"surface\",\"colorbar\":{\"outlinewidth\":0,\"ticks\":\"\"},\"colorscale\":[[0.0,\"#0d0887\"],[0.1111111111111111,\"#46039f\"],[0.2222222222222222,\"#7201a8\"],[0.3333333333333333,\"#9c179e\"],[0.4444444444444444,\"#bd3786\"],[0.5555555555555556,\"#d8576b\"],[0.6666666666666666,\"#ed7953\"],[0.7777777777777778,\"#fb9f3a\"],[0.8888888888888888,\"#fdca26\"],[1.0,\"#f0f921\"]]}],\"mesh3d\":[{\"type\":\"mesh3d\",\"colorbar\":{\"outlinewidth\":0,\"ticks\":\"\"}}],\"scatter\":[{\"fillpattern\":{\"fillmode\":\"overlay\",\"size\":10,\"solidity\":0.2},\"type\":\"scatter\"}],\"parcoords\":[{\"type\":\"parcoords\",\"line\":{\"colorbar\":{\"outlinewidth\":0,\"ticks\":\"\"}}}],\"scatterpolargl\":[{\"type\":\"scatterpolargl\",\"marker\":{\"colorbar\":{\"outlinewidth\":0,\"ticks\":\"\"}}}],\"bar\":[{\"error_x\":{\"color\":\"#2a3f5f\"},\"error_y\":{\"color\":\"#2a3f5f\"},\"marker\":{\"line\":{\"color\":\"#E5ECF6\",\"width\":0.5},\"pattern\":{\"fillmode\":\"overlay\",\"size\":10,\"solidity\":0.2}},\"type\":\"bar\"}],\"scattergeo\":[{\"type\":\"scattergeo\",\"marker\":{\"colorbar\":{\"outlinewidth\":0,\"ticks\":\"\"}}}],\"scatterpolar\":[{\"type\":\"scatterpolar\",\"marker\":{\"colorbar\":{\"outlinewidth\":0,\"ticks\":\"\"}}}],\"histogram\":[{\"marker\":{\"pattern\":{\"fillmode\":\"overlay\",\"size\":10,\"solidity\":0.2}},\"type\":\"histogram\"}],\"scattergl\":[{\"type\":\"scattergl\",\"marker\":{\"colorbar\":{\"outlinewidth\":0,\"ticks\":\"\"}}}],\"scatter3d\":[{\"type\":\"scatter3d\",\"line\":{\"colorbar\":{\"outlinewidth\":0,\"ticks\":\"\"}},\"marker\":{\"colorbar\":{\"outlinewidth\":0,\"ticks\":\"\"}}}],\"scattermapbox\":[{\"type\":\"scattermapbox\",\"marker\":{\"colorbar\":{\"outlinewidth\":0,\"ticks\":\"\"}}}],\"scatterternary\":[{\"type\":\"scatterternary\",\"marker\":{\"colorbar\":{\"outlinewidth\":0,\"ticks\":\"\"}}}],\"scattercarpet\":[{\"type\":\"scattercarpet\",\"marker\":{\"colorbar\":{\"outlinewidth\":0,\"ticks\":\"\"}}}],\"carpet\":[{\"aaxis\":{\"endlinecolor\":\"#2a3f5f\",\"gridcolor\":\"white\",\"linecolor\":\"white\",\"minorgridcolor\":\"white\",\"startlinecolor\":\"#2a3f5f\"},\"baxis\":{\"endlinecolor\":\"#2a3f5f\",\"gridcolor\":\"white\",\"linecolor\":\"white\",\"minorgridcolor\":\"white\",\"startlinecolor\":\"#2a3f5f\"},\"type\":\"carpet\"}],\"table\":[{\"cells\":{\"fill\":{\"color\":\"#EBF0F8\"},\"line\":{\"color\":\"white\"}},\"header\":{\"fill\":{\"color\":\"#C8D4E3\"},\"line\":{\"color\":\"white\"}},\"type\":\"table\"}],\"barpolar\":[{\"marker\":{\"line\":{\"color\":\"#E5ECF6\",\"width\":0.5},\"pattern\":{\"fillmode\":\"overlay\",\"size\":10,\"solidity\":0.2}},\"type\":\"barpolar\"}],\"pie\":[{\"automargin\":true,\"type\":\"pie\"}]},\"layout\":{\"autotypenumbers\":\"strict\",\"colorway\":[\"#636efa\",\"#EF553B\",\"#00cc96\",\"#ab63fa\",\"#FFA15A\",\"#19d3f3\",\"#FF6692\",\"#B6E880\",\"#FF97FF\",\"#FECB52\"],\"font\":{\"color\":\"#2a3f5f\"},\"hovermode\":\"closest\",\"hoverlabel\":{\"align\":\"left\"},\"paper_bgcolor\":\"white\",\"plot_bgcolor\":\"#E5ECF6\",\"polar\":{\"bgcolor\":\"#E5ECF6\",\"angularaxis\":{\"gridcolor\":\"white\",\"linecolor\":\"white\",\"ticks\":\"\"},\"radialaxis\":{\"gridcolor\":\"white\",\"linecolor\":\"white\",\"ticks\":\"\"}},\"ternary\":{\"bgcolor\":\"#E5ECF6\",\"aaxis\":{\"gridcolor\":\"white\",\"linecolor\":\"white\",\"ticks\":\"\"},\"baxis\":{\"gridcolor\":\"white\",\"linecolor\":\"white\",\"ticks\":\"\"},\"caxis\":{\"gridcolor\":\"white\",\"linecolor\":\"white\",\"ticks\":\"\"}},\"coloraxis\":{\"colorbar\":{\"outlinewidth\":0,\"ticks\":\"\"}},\"colorscale\":{\"sequential\":[[0.0,\"#0d0887\"],[0.1111111111111111,\"#46039f\"],[0.2222222222222222,\"#7201a8\"],[0.3333333333333333,\"#9c179e\"],[0.4444444444444444,\"#bd3786\"],[0.5555555555555556,\"#d8576b\"],[0.6666666666666666,\"#ed7953\"],[0.7777777777777778,\"#fb9f3a\"],[0.8888888888888888,\"#fdca26\"],[1.0,\"#f0f921\"]],\"sequentialminus\":[[0.0,\"#0d0887\"],[0.1111111111111111,\"#46039f\"],[0.2222222222222222,\"#7201a8\"],[0.3333333333333333,\"#9c179e\"],[0.4444444444444444,\"#bd3786\"],[0.5555555555555556,\"#d8576b\"],[0.6666666666666666,\"#ed7953\"],[0.7777777777777778,\"#fb9f3a\"],[0.8888888888888888,\"#fdca26\"],[1.0,\"#f0f921\"]],\"diverging\":[[0,\"#8e0152\"],[0.1,\"#c51b7d\"],[0.2,\"#de77ae\"],[0.3,\"#f1b6da\"],[0.4,\"#fde0ef\"],[0.5,\"#f7f7f7\"],[0.6,\"#e6f5d0\"],[0.7,\"#b8e186\"],[0.8,\"#7fbc41\"],[0.9,\"#4d9221\"],[1,\"#276419\"]]},\"xaxis\":{\"gridcolor\":\"white\",\"linecolor\":\"white\",\"ticks\":\"\",\"title\":{\"standoff\":15},\"zerolinecolor\":\"white\",\"automargin\":true,\"zerolinewidth\":2},\"yaxis\":{\"gridcolor\":\"white\",\"linecolor\":\"white\",\"ticks\":\"\",\"title\":{\"standoff\":15},\"zerolinecolor\":\"white\",\"automargin\":true,\"zerolinewidth\":2},\"scene\":{\"xaxis\":{\"backgroundcolor\":\"#E5ECF6\",\"gridcolor\":\"white\",\"linecolor\":\"white\",\"showbackground\":true,\"ticks\":\"\",\"zerolinecolor\":\"white\",\"gridwidth\":2},\"yaxis\":{\"backgroundcolor\":\"#E5ECF6\",\"gridcolor\":\"white\",\"linecolor\":\"white\",\"showbackground\":true,\"ticks\":\"\",\"zerolinecolor\":\"white\",\"gridwidth\":2},\"zaxis\":{\"backgroundcolor\":\"#E5ECF6\",\"gridcolor\":\"white\",\"linecolor\":\"white\",\"showbackground\":true,\"ticks\":\"\",\"zerolinecolor\":\"white\",\"gridwidth\":2}},\"shapedefaults\":{\"line\":{\"color\":\"#2a3f5f\"}},\"annotationdefaults\":{\"arrowcolor\":\"#2a3f5f\",\"arrowhead\":0,\"arrowwidth\":1},\"geo\":{\"bgcolor\":\"white\",\"landcolor\":\"#E5ECF6\",\"subunitcolor\":\"white\",\"showland\":true,\"showlakes\":true,\"lakecolor\":\"white\"},\"title\":{\"x\":0.05},\"mapbox\":{\"style\":\"light\"}}},\"xaxis\":{\"anchor\":\"y\",\"domain\":[0.0,1.0],\"title\":{\"text\":\"Date\"}},\"yaxis\":{\"anchor\":\"x\",\"domain\":[0.0,1.0],\"title\":{\"text\":\"value\"}},\"legend\":{\"title\":{\"text\":\"variable\"},\"tracegroupgap\":0},\"title\":{\"text\":\"High and Low Prices Over Time\"}},                        {\"responsive\": true}                    ).then(function(){\n",
       "                            \n",
       "var gd = document.getElementById('343ae2c1-9b50-4f99-9236-1689c76ef874');\n",
       "var x = new MutationObserver(function (mutations, observer) {{\n",
       "        var display = window.getComputedStyle(gd).display;\n",
       "        if (!display || display === 'none') {{\n",
       "            console.log([gd, 'removed!']);\n",
       "            Plotly.purge(gd);\n",
       "            observer.disconnect();\n",
       "        }}\n",
       "}});\n",
       "\n",
       "// Listen for the removal of the full notebook cells\n",
       "var notebookContainer = gd.closest('#notebook-container');\n",
       "if (notebookContainer) {{\n",
       "    x.observe(notebookContainer, {childList: true});\n",
       "}}\n",
       "\n",
       "// Listen for the clearing of the current output cell\n",
       "var outputEl = gd.closest('.output');\n",
       "if (outputEl) {{\n",
       "    x.observe(outputEl, {childList: true});\n",
       "}}\n",
       "\n",
       "                        })                };                });            </script>        </div>"
      ]
     },
     "metadata": {},
     "output_type": "display_data"
    }
   ],
   "source": [
    "#Merged High and low monthly df\n",
    "merged_df = pd.DataFrame({'Date':monthly_df.index,\n",
    "                         'High': high_data,\n",
    "                         'Low': low_data})\n",
    "\n",
    "fig = px.line(merged_df, x='Date', y=['High', 'Low'], title='High and Low Prices Over Time')\n",
    "fig.show()"
   ]
  },
  {
   "cell_type": "code",
   "execution_count": 411,
   "id": "6cbb2852-b5e3-467e-87d2-4278369b1c69",
   "metadata": {},
   "outputs": [
    {
     "data": {
      "text/html": [
       "<div>\n",
       "<style scoped>\n",
       "    .dataframe tbody tr th:only-of-type {\n",
       "        vertical-align: middle;\n",
       "    }\n",
       "\n",
       "    .dataframe tbody tr th {\n",
       "        vertical-align: top;\n",
       "    }\n",
       "\n",
       "    .dataframe thead tr th {\n",
       "        text-align: left;\n",
       "    }\n",
       "\n",
       "    .dataframe thead tr:last-of-type th {\n",
       "        text-align: right;\n",
       "    }\n",
       "</style>\n",
       "<table border=\"1\" class=\"dataframe\">\n",
       "  <thead>\n",
       "    <tr>\n",
       "      <th>Price</th>\n",
       "      <th>Adj Close</th>\n",
       "      <th>Close</th>\n",
       "      <th>High</th>\n",
       "      <th>Low</th>\n",
       "      <th>Open</th>\n",
       "      <th>Volume</th>\n",
       "      <th>daily_returns</th>\n",
       "      <th>monthly_returns</th>\n",
       "      <th>annual_returns</th>\n",
       "      <th>daily_range</th>\n",
       "    </tr>\n",
       "    <tr>\n",
       "      <th>Ticker</th>\n",
       "      <th>ENSG</th>\n",
       "      <th>ENSG</th>\n",
       "      <th>ENSG</th>\n",
       "      <th>ENSG</th>\n",
       "      <th>ENSG</th>\n",
       "      <th>ENSG</th>\n",
       "      <th></th>\n",
       "      <th></th>\n",
       "      <th></th>\n",
       "      <th></th>\n",
       "    </tr>\n",
       "    <tr>\n",
       "      <th>Date</th>\n",
       "      <th></th>\n",
       "      <th></th>\n",
       "      <th></th>\n",
       "      <th></th>\n",
       "      <th></th>\n",
       "      <th></th>\n",
       "      <th></th>\n",
       "      <th></th>\n",
       "      <th></th>\n",
       "      <th></th>\n",
       "    </tr>\n",
       "  </thead>\n",
       "  <tbody>\n",
       "    <tr>\n",
       "      <th>2019-12-31</th>\n",
       "      <td>42.436415</td>\n",
       "      <td>43.035122</td>\n",
       "      <td>43.579756</td>\n",
       "      <td>42.458780</td>\n",
       "      <td>42.985610</td>\n",
       "      <td>233846.341463</td>\n",
       "      <td>0.117711</td>\n",
       "      <td>0.117711</td>\n",
       "      <td>61.427678</td>\n",
       "      <td>1.120976</td>\n",
       "    </tr>\n",
       "    <tr>\n",
       "      <th>2020-12-31</th>\n",
       "      <td>49.920909</td>\n",
       "      <td>50.457826</td>\n",
       "      <td>51.514387</td>\n",
       "      <td>49.397431</td>\n",
       "      <td>50.419051</td>\n",
       "      <td>314638.339921</td>\n",
       "      <td>0.290754</td>\n",
       "      <td>0.290754</td>\n",
       "      <td>61.427678</td>\n",
       "      <td>2.116957</td>\n",
       "    </tr>\n",
       "    <tr>\n",
       "      <th>2021-12-31</th>\n",
       "      <td>82.435992</td>\n",
       "      <td>83.069722</td>\n",
       "      <td>84.370000</td>\n",
       "      <td>81.707222</td>\n",
       "      <td>83.035476</td>\n",
       "      <td>255346.825397</td>\n",
       "      <td>0.077892</td>\n",
       "      <td>0.077892</td>\n",
       "      <td>15.432176</td>\n",
       "      <td>2.662778</td>\n",
       "    </tr>\n",
       "    <tr>\n",
       "      <th>2022-12-31</th>\n",
       "      <td>83.185028</td>\n",
       "      <td>83.600438</td>\n",
       "      <td>84.804622</td>\n",
       "      <td>82.314900</td>\n",
       "      <td>83.574502</td>\n",
       "      <td>238649.800797</td>\n",
       "      <td>0.067539</td>\n",
       "      <td>0.067539</td>\n",
       "      <td>NaN</td>\n",
       "      <td>2.489721</td>\n",
       "    </tr>\n",
       "    <tr>\n",
       "      <th>2023-12-31</th>\n",
       "      <td>95.743464</td>\n",
       "      <td>95.972720</td>\n",
       "      <td>96.921440</td>\n",
       "      <td>94.919560</td>\n",
       "      <td>95.929400</td>\n",
       "      <td>274635.600000</td>\n",
       "      <td>0.078468</td>\n",
       "      <td>0.078468</td>\n",
       "      <td>NaN</td>\n",
       "      <td>2.001880</td>\n",
       "    </tr>\n",
       "    <tr>\n",
       "      <th>2024-12-31</th>\n",
       "      <td>129.632223</td>\n",
       "      <td>129.683081</td>\n",
       "      <td>130.934218</td>\n",
       "      <td>128.246682</td>\n",
       "      <td>129.562607</td>\n",
       "      <td>370747.867299</td>\n",
       "      <td>0.162088</td>\n",
       "      <td>0.162088</td>\n",
       "      <td>NaN</td>\n",
       "      <td>2.687536</td>\n",
       "    </tr>\n",
       "  </tbody>\n",
       "</table>\n",
       "</div>"
      ],
      "text/plain": [
       "Price        Adj Close       Close        High         Low        Open  \\\n",
       "Ticker            ENSG        ENSG        ENSG        ENSG        ENSG   \n",
       "Date                                                                     \n",
       "2019-12-31   42.436415   43.035122   43.579756   42.458780   42.985610   \n",
       "2020-12-31   49.920909   50.457826   51.514387   49.397431   50.419051   \n",
       "2021-12-31   82.435992   83.069722   84.370000   81.707222   83.035476   \n",
       "2022-12-31   83.185028   83.600438   84.804622   82.314900   83.574502   \n",
       "2023-12-31   95.743464   95.972720   96.921440   94.919560   95.929400   \n",
       "2024-12-31  129.632223  129.683081  130.934218  128.246682  129.562607   \n",
       "\n",
       "Price              Volume daily_returns monthly_returns annual_returns  \\\n",
       "Ticker               ENSG                                                \n",
       "Date                                                                     \n",
       "2019-12-31  233846.341463      0.117711        0.117711      61.427678   \n",
       "2020-12-31  314638.339921      0.290754        0.290754      61.427678   \n",
       "2021-12-31  255346.825397      0.077892        0.077892      15.432176   \n",
       "2022-12-31  238649.800797      0.067539        0.067539            NaN   \n",
       "2023-12-31  274635.600000      0.078468        0.078468            NaN   \n",
       "2024-12-31  370747.867299      0.162088        0.162088            NaN   \n",
       "\n",
       "Price      daily_range  \n",
       "Ticker                  \n",
       "Date                    \n",
       "2019-12-31    1.120976  \n",
       "2020-12-31    2.116957  \n",
       "2021-12-31    2.662778  \n",
       "2022-12-31    2.489721  \n",
       "2023-12-31    2.001880  \n",
       "2024-12-31    2.687536  "
      ]
     },
     "metadata": {},
     "output_type": "display_data"
    }
   ],
   "source": [
    "#Year end data, average(mean)\n",
    "year_end_df = df_ensign.resample(\"YE\").mean()\n",
    "display(year_end_df)"
   ]
  },
  {
   "cell_type": "code",
   "execution_count": 413,
   "id": "a42fdfb7-c9f4-4f5a-ba8b-fa779d779054",
   "metadata": {},
   "outputs": [
    {
     "name": "stdout",
     "output_type": "stream",
     "text": [
      "<class 'pandas.core.frame.DataFrame'>\n"
     ]
    }
   ],
   "source": [
    "\n",
    "print(type(year_end_df))"
   ]
  },
  {
   "cell_type": "code",
   "execution_count": 415,
   "id": "18bd3590-9c78-4975-a8a3-a7f16ddd287a",
   "metadata": {},
   "outputs": [
    {
     "data": {
      "text/html": [
       "<div>\n",
       "<style scoped>\n",
       "    .dataframe tbody tr th:only-of-type {\n",
       "        vertical-align: middle;\n",
       "    }\n",
       "\n",
       "    .dataframe tbody tr th {\n",
       "        vertical-align: top;\n",
       "    }\n",
       "\n",
       "    .dataframe thead tr th {\n",
       "        text-align: left;\n",
       "    }\n",
       "</style>\n",
       "<table border=\"1\" class=\"dataframe\">\n",
       "  <thead>\n",
       "    <tr>\n",
       "      <th>Price</th>\n",
       "      <th>Adj Close</th>\n",
       "      <th>Close</th>\n",
       "      <th>High</th>\n",
       "      <th>Low</th>\n",
       "      <th>Open</th>\n",
       "      <th>Volume</th>\n",
       "      <th>daily_returns</th>\n",
       "      <th>monthly_returns</th>\n",
       "      <th>annual_returns</th>\n",
       "      <th>daily_range</th>\n",
       "    </tr>\n",
       "    <tr>\n",
       "      <th>Ticker</th>\n",
       "      <th>ENSG</th>\n",
       "      <th>ENSG</th>\n",
       "      <th>ENSG</th>\n",
       "      <th>ENSG</th>\n",
       "      <th>ENSG</th>\n",
       "      <th>ENSG</th>\n",
       "      <th></th>\n",
       "      <th></th>\n",
       "      <th></th>\n",
       "      <th></th>\n",
       "    </tr>\n",
       "  </thead>\n",
       "  <tbody>\n",
       "    <tr>\n",
       "      <th>count</th>\n",
       "      <td>6.000000</td>\n",
       "      <td>6.000000</td>\n",
       "      <td>6.000000</td>\n",
       "      <td>6.000000</td>\n",
       "      <td>6.000000</td>\n",
       "      <td>6.000000</td>\n",
       "      <td>6.000000</td>\n",
       "      <td>6.000000</td>\n",
       "      <td>3.000000</td>\n",
       "      <td>6.000000</td>\n",
       "    </tr>\n",
       "    <tr>\n",
       "      <th>mean</th>\n",
       "      <td>80.559005</td>\n",
       "      <td>80.969818</td>\n",
       "      <td>82.020737</td>\n",
       "      <td>79.840763</td>\n",
       "      <td>80.917774</td>\n",
       "      <td>281310.795813</td>\n",
       "      <td>0.132409</td>\n",
       "      <td>0.132409</td>\n",
       "      <td>46.095844</td>\n",
       "      <td>2.179974</td>\n",
       "    </tr>\n",
       "    <tr>\n",
       "      <th>std</th>\n",
       "      <td>31.752771</td>\n",
       "      <td>31.557635</td>\n",
       "      <td>31.736966</td>\n",
       "      <td>31.318740</td>\n",
       "      <td>31.534846</td>\n",
       "      <td>52728.049222</td>\n",
       "      <td>0.085159</td>\n",
       "      <td>0.085159</td>\n",
       "      <td>26.555516</td>\n",
       "      <td>0.590564</td>\n",
       "    </tr>\n",
       "    <tr>\n",
       "      <th>min</th>\n",
       "      <td>42.436415</td>\n",
       "      <td>43.035122</td>\n",
       "      <td>43.579756</td>\n",
       "      <td>42.458780</td>\n",
       "      <td>42.985610</td>\n",
       "      <td>233846.341463</td>\n",
       "      <td>0.067539</td>\n",
       "      <td>0.067539</td>\n",
       "      <td>15.432176</td>\n",
       "      <td>1.120976</td>\n",
       "    </tr>\n",
       "    <tr>\n",
       "      <th>25%</th>\n",
       "      <td>58.049680</td>\n",
       "      <td>58.610800</td>\n",
       "      <td>59.728291</td>\n",
       "      <td>57.474879</td>\n",
       "      <td>58.573158</td>\n",
       "      <td>242824.056947</td>\n",
       "      <td>0.078036</td>\n",
       "      <td>0.078036</td>\n",
       "      <td>38.429927</td>\n",
       "      <td>2.030649</td>\n",
       "    </tr>\n",
       "    <tr>\n",
       "      <th>50%</th>\n",
       "      <td>82.810510</td>\n",
       "      <td>83.335080</td>\n",
       "      <td>84.587311</td>\n",
       "      <td>82.011061</td>\n",
       "      <td>83.304989</td>\n",
       "      <td>264991.212698</td>\n",
       "      <td>0.098089</td>\n",
       "      <td>0.098089</td>\n",
       "      <td>61.427678</td>\n",
       "      <td>2.303339</td>\n",
       "    </tr>\n",
       "    <tr>\n",
       "      <th>75%</th>\n",
       "      <td>92.603855</td>\n",
       "      <td>92.879650</td>\n",
       "      <td>93.892235</td>\n",
       "      <td>91.768395</td>\n",
       "      <td>92.840675</td>\n",
       "      <td>304637.654941</td>\n",
       "      <td>0.150994</td>\n",
       "      <td>0.150994</td>\n",
       "      <td>61.427678</td>\n",
       "      <td>2.619514</td>\n",
       "    </tr>\n",
       "    <tr>\n",
       "      <th>max</th>\n",
       "      <td>129.632223</td>\n",
       "      <td>129.683081</td>\n",
       "      <td>130.934218</td>\n",
       "      <td>128.246682</td>\n",
       "      <td>129.562607</td>\n",
       "      <td>370747.867299</td>\n",
       "      <td>0.290754</td>\n",
       "      <td>0.290754</td>\n",
       "      <td>61.427678</td>\n",
       "      <td>2.687536</td>\n",
       "    </tr>\n",
       "  </tbody>\n",
       "</table>\n",
       "</div>"
      ],
      "text/plain": [
       "Price    Adj Close       Close        High         Low        Open  \\\n",
       "Ticker        ENSG        ENSG        ENSG        ENSG        ENSG   \n",
       "count     6.000000    6.000000    6.000000    6.000000    6.000000   \n",
       "mean     80.559005   80.969818   82.020737   79.840763   80.917774   \n",
       "std      31.752771   31.557635   31.736966   31.318740   31.534846   \n",
       "min      42.436415   43.035122   43.579756   42.458780   42.985610   \n",
       "25%      58.049680   58.610800   59.728291   57.474879   58.573158   \n",
       "50%      82.810510   83.335080   84.587311   82.011061   83.304989   \n",
       "75%      92.603855   92.879650   93.892235   91.768395   92.840675   \n",
       "max     129.632223  129.683081  130.934218  128.246682  129.562607   \n",
       "\n",
       "Price          Volume daily_returns monthly_returns annual_returns daily_range  \n",
       "Ticker           ENSG                                                           \n",
       "count        6.000000      6.000000        6.000000       3.000000    6.000000  \n",
       "mean    281310.795813      0.132409        0.132409      46.095844    2.179974  \n",
       "std      52728.049222      0.085159        0.085159      26.555516    0.590564  \n",
       "min     233846.341463      0.067539        0.067539      15.432176    1.120976  \n",
       "25%     242824.056947      0.078036        0.078036      38.429927    2.030649  \n",
       "50%     264991.212698      0.098089        0.098089      61.427678    2.303339  \n",
       "75%     304637.654941      0.150994        0.150994      61.427678    2.619514  \n",
       "max     370747.867299      0.290754        0.290754      61.427678    2.687536  "
      ]
     },
     "execution_count": 415,
     "metadata": {},
     "output_type": "execute_result"
    }
   ],
   "source": [
    "year_end_df.describe()"
   ]
  },
  {
   "cell_type": "code",
   "execution_count": 417,
   "id": "794fab3a-a53f-4fe2-b2cc-3f437e30a2ca",
   "metadata": {},
   "outputs": [
    {
     "data": {
      "application/vnd.plotly.v1+json": {
       "config": {
        "plotlyServerURL": "https://plot.ly"
       },
       "data": [
        {
         "hovertemplate": "Date=%{x}<br>y=%{y}<extra></extra>",
         "legendgroup": "",
         "line": {
          "color": "#636efa",
          "dash": "solid"
         },
         "marker": {
          "symbol": "circle"
         },
         "mode": "lines",
         "name": "",
         "orientation": "v",
         "showlegend": false,
         "type": "scatter",
         "x": [
          "2019-12-31T00:00:00",
          "2020-12-31T00:00:00",
          "2021-12-31T00:00:00",
          "2022-12-31T00:00:00",
          "2023-12-31T00:00:00",
          "2024-12-31T00:00:00"
         ],
         "xaxis": "x",
         "y": [
          42.436414634146345,
          49.92090909090909,
          82.43599206349207,
          83.18502788844621,
          95.743464,
          129.63222274881517
         ],
         "yaxis": "y"
        }
       ],
       "layout": {
        "autosize": true,
        "legend": {
         "tracegroupgap": 0
        },
        "template": {
         "data": {
          "bar": [
           {
            "error_x": {
             "color": "#2a3f5f"
            },
            "error_y": {
             "color": "#2a3f5f"
            },
            "marker": {
             "line": {
              "color": "#E5ECF6",
              "width": 0.5
             },
             "pattern": {
              "fillmode": "overlay",
              "size": 10,
              "solidity": 0.2
             }
            },
            "type": "bar"
           }
          ],
          "barpolar": [
           {
            "marker": {
             "line": {
              "color": "#E5ECF6",
              "width": 0.5
             },
             "pattern": {
              "fillmode": "overlay",
              "size": 10,
              "solidity": 0.2
             }
            },
            "type": "barpolar"
           }
          ],
          "carpet": [
           {
            "aaxis": {
             "endlinecolor": "#2a3f5f",
             "gridcolor": "white",
             "linecolor": "white",
             "minorgridcolor": "white",
             "startlinecolor": "#2a3f5f"
            },
            "baxis": {
             "endlinecolor": "#2a3f5f",
             "gridcolor": "white",
             "linecolor": "white",
             "minorgridcolor": "white",
             "startlinecolor": "#2a3f5f"
            },
            "type": "carpet"
           }
          ],
          "choropleth": [
           {
            "colorbar": {
             "outlinewidth": 0,
             "ticks": ""
            },
            "type": "choropleth"
           }
          ],
          "contour": [
           {
            "colorbar": {
             "outlinewidth": 0,
             "ticks": ""
            },
            "colorscale": [
             [
              0,
              "#0d0887"
             ],
             [
              0.1111111111111111,
              "#46039f"
             ],
             [
              0.2222222222222222,
              "#7201a8"
             ],
             [
              0.3333333333333333,
              "#9c179e"
             ],
             [
              0.4444444444444444,
              "#bd3786"
             ],
             [
              0.5555555555555556,
              "#d8576b"
             ],
             [
              0.6666666666666666,
              "#ed7953"
             ],
             [
              0.7777777777777778,
              "#fb9f3a"
             ],
             [
              0.8888888888888888,
              "#fdca26"
             ],
             [
              1,
              "#f0f921"
             ]
            ],
            "type": "contour"
           }
          ],
          "contourcarpet": [
           {
            "colorbar": {
             "outlinewidth": 0,
             "ticks": ""
            },
            "type": "contourcarpet"
           }
          ],
          "heatmap": [
           {
            "colorbar": {
             "outlinewidth": 0,
             "ticks": ""
            },
            "colorscale": [
             [
              0,
              "#0d0887"
             ],
             [
              0.1111111111111111,
              "#46039f"
             ],
             [
              0.2222222222222222,
              "#7201a8"
             ],
             [
              0.3333333333333333,
              "#9c179e"
             ],
             [
              0.4444444444444444,
              "#bd3786"
             ],
             [
              0.5555555555555556,
              "#d8576b"
             ],
             [
              0.6666666666666666,
              "#ed7953"
             ],
             [
              0.7777777777777778,
              "#fb9f3a"
             ],
             [
              0.8888888888888888,
              "#fdca26"
             ],
             [
              1,
              "#f0f921"
             ]
            ],
            "type": "heatmap"
           }
          ],
          "heatmapgl": [
           {
            "colorbar": {
             "outlinewidth": 0,
             "ticks": ""
            },
            "colorscale": [
             [
              0,
              "#0d0887"
             ],
             [
              0.1111111111111111,
              "#46039f"
             ],
             [
              0.2222222222222222,
              "#7201a8"
             ],
             [
              0.3333333333333333,
              "#9c179e"
             ],
             [
              0.4444444444444444,
              "#bd3786"
             ],
             [
              0.5555555555555556,
              "#d8576b"
             ],
             [
              0.6666666666666666,
              "#ed7953"
             ],
             [
              0.7777777777777778,
              "#fb9f3a"
             ],
             [
              0.8888888888888888,
              "#fdca26"
             ],
             [
              1,
              "#f0f921"
             ]
            ],
            "type": "heatmapgl"
           }
          ],
          "histogram": [
           {
            "marker": {
             "pattern": {
              "fillmode": "overlay",
              "size": 10,
              "solidity": 0.2
             }
            },
            "type": "histogram"
           }
          ],
          "histogram2d": [
           {
            "colorbar": {
             "outlinewidth": 0,
             "ticks": ""
            },
            "colorscale": [
             [
              0,
              "#0d0887"
             ],
             [
              0.1111111111111111,
              "#46039f"
             ],
             [
              0.2222222222222222,
              "#7201a8"
             ],
             [
              0.3333333333333333,
              "#9c179e"
             ],
             [
              0.4444444444444444,
              "#bd3786"
             ],
             [
              0.5555555555555556,
              "#d8576b"
             ],
             [
              0.6666666666666666,
              "#ed7953"
             ],
             [
              0.7777777777777778,
              "#fb9f3a"
             ],
             [
              0.8888888888888888,
              "#fdca26"
             ],
             [
              1,
              "#f0f921"
             ]
            ],
            "type": "histogram2d"
           }
          ],
          "histogram2dcontour": [
           {
            "colorbar": {
             "outlinewidth": 0,
             "ticks": ""
            },
            "colorscale": [
             [
              0,
              "#0d0887"
             ],
             [
              0.1111111111111111,
              "#46039f"
             ],
             [
              0.2222222222222222,
              "#7201a8"
             ],
             [
              0.3333333333333333,
              "#9c179e"
             ],
             [
              0.4444444444444444,
              "#bd3786"
             ],
             [
              0.5555555555555556,
              "#d8576b"
             ],
             [
              0.6666666666666666,
              "#ed7953"
             ],
             [
              0.7777777777777778,
              "#fb9f3a"
             ],
             [
              0.8888888888888888,
              "#fdca26"
             ],
             [
              1,
              "#f0f921"
             ]
            ],
            "type": "histogram2dcontour"
           }
          ],
          "mesh3d": [
           {
            "colorbar": {
             "outlinewidth": 0,
             "ticks": ""
            },
            "type": "mesh3d"
           }
          ],
          "parcoords": [
           {
            "line": {
             "colorbar": {
              "outlinewidth": 0,
              "ticks": ""
             }
            },
            "type": "parcoords"
           }
          ],
          "pie": [
           {
            "automargin": true,
            "type": "pie"
           }
          ],
          "scatter": [
           {
            "fillpattern": {
             "fillmode": "overlay",
             "size": 10,
             "solidity": 0.2
            },
            "type": "scatter"
           }
          ],
          "scatter3d": [
           {
            "line": {
             "colorbar": {
              "outlinewidth": 0,
              "ticks": ""
             }
            },
            "marker": {
             "colorbar": {
              "outlinewidth": 0,
              "ticks": ""
             }
            },
            "type": "scatter3d"
           }
          ],
          "scattercarpet": [
           {
            "marker": {
             "colorbar": {
              "outlinewidth": 0,
              "ticks": ""
             }
            },
            "type": "scattercarpet"
           }
          ],
          "scattergeo": [
           {
            "marker": {
             "colorbar": {
              "outlinewidth": 0,
              "ticks": ""
             }
            },
            "type": "scattergeo"
           }
          ],
          "scattergl": [
           {
            "marker": {
             "colorbar": {
              "outlinewidth": 0,
              "ticks": ""
             }
            },
            "type": "scattergl"
           }
          ],
          "scattermapbox": [
           {
            "marker": {
             "colorbar": {
              "outlinewidth": 0,
              "ticks": ""
             }
            },
            "type": "scattermapbox"
           }
          ],
          "scatterpolar": [
           {
            "marker": {
             "colorbar": {
              "outlinewidth": 0,
              "ticks": ""
             }
            },
            "type": "scatterpolar"
           }
          ],
          "scatterpolargl": [
           {
            "marker": {
             "colorbar": {
              "outlinewidth": 0,
              "ticks": ""
             }
            },
            "type": "scatterpolargl"
           }
          ],
          "scatterternary": [
           {
            "marker": {
             "colorbar": {
              "outlinewidth": 0,
              "ticks": ""
             }
            },
            "type": "scatterternary"
           }
          ],
          "surface": [
           {
            "colorbar": {
             "outlinewidth": 0,
             "ticks": ""
            },
            "colorscale": [
             [
              0,
              "#0d0887"
             ],
             [
              0.1111111111111111,
              "#46039f"
             ],
             [
              0.2222222222222222,
              "#7201a8"
             ],
             [
              0.3333333333333333,
              "#9c179e"
             ],
             [
              0.4444444444444444,
              "#bd3786"
             ],
             [
              0.5555555555555556,
              "#d8576b"
             ],
             [
              0.6666666666666666,
              "#ed7953"
             ],
             [
              0.7777777777777778,
              "#fb9f3a"
             ],
             [
              0.8888888888888888,
              "#fdca26"
             ],
             [
              1,
              "#f0f921"
             ]
            ],
            "type": "surface"
           }
          ],
          "table": [
           {
            "cells": {
             "fill": {
              "color": "#EBF0F8"
             },
             "line": {
              "color": "white"
             }
            },
            "header": {
             "fill": {
              "color": "#C8D4E3"
             },
             "line": {
              "color": "white"
             }
            },
            "type": "table"
           }
          ]
         },
         "layout": {
          "annotationdefaults": {
           "arrowcolor": "#2a3f5f",
           "arrowhead": 0,
           "arrowwidth": 1
          },
          "autotypenumbers": "strict",
          "coloraxis": {
           "colorbar": {
            "outlinewidth": 0,
            "ticks": ""
           }
          },
          "colorscale": {
           "diverging": [
            [
             0,
             "#8e0152"
            ],
            [
             0.1,
             "#c51b7d"
            ],
            [
             0.2,
             "#de77ae"
            ],
            [
             0.3,
             "#f1b6da"
            ],
            [
             0.4,
             "#fde0ef"
            ],
            [
             0.5,
             "#f7f7f7"
            ],
            [
             0.6,
             "#e6f5d0"
            ],
            [
             0.7,
             "#b8e186"
            ],
            [
             0.8,
             "#7fbc41"
            ],
            [
             0.9,
             "#4d9221"
            ],
            [
             1,
             "#276419"
            ]
           ],
           "sequential": [
            [
             0,
             "#0d0887"
            ],
            [
             0.1111111111111111,
             "#46039f"
            ],
            [
             0.2222222222222222,
             "#7201a8"
            ],
            [
             0.3333333333333333,
             "#9c179e"
            ],
            [
             0.4444444444444444,
             "#bd3786"
            ],
            [
             0.5555555555555556,
             "#d8576b"
            ],
            [
             0.6666666666666666,
             "#ed7953"
            ],
            [
             0.7777777777777778,
             "#fb9f3a"
            ],
            [
             0.8888888888888888,
             "#fdca26"
            ],
            [
             1,
             "#f0f921"
            ]
           ],
           "sequentialminus": [
            [
             0,
             "#0d0887"
            ],
            [
             0.1111111111111111,
             "#46039f"
            ],
            [
             0.2222222222222222,
             "#7201a8"
            ],
            [
             0.3333333333333333,
             "#9c179e"
            ],
            [
             0.4444444444444444,
             "#bd3786"
            ],
            [
             0.5555555555555556,
             "#d8576b"
            ],
            [
             0.6666666666666666,
             "#ed7953"
            ],
            [
             0.7777777777777778,
             "#fb9f3a"
            ],
            [
             0.8888888888888888,
             "#fdca26"
            ],
            [
             1,
             "#f0f921"
            ]
           ]
          },
          "colorway": [
           "#636efa",
           "#EF553B",
           "#00cc96",
           "#ab63fa",
           "#FFA15A",
           "#19d3f3",
           "#FF6692",
           "#B6E880",
           "#FF97FF",
           "#FECB52"
          ],
          "font": {
           "color": "#2a3f5f"
          },
          "geo": {
           "bgcolor": "white",
           "lakecolor": "white",
           "landcolor": "#E5ECF6",
           "showlakes": true,
           "showland": true,
           "subunitcolor": "white"
          },
          "hoverlabel": {
           "align": "left"
          },
          "hovermode": "closest",
          "mapbox": {
           "style": "light"
          },
          "paper_bgcolor": "white",
          "plot_bgcolor": "#E5ECF6",
          "polar": {
           "angularaxis": {
            "gridcolor": "white",
            "linecolor": "white",
            "ticks": ""
           },
           "bgcolor": "#E5ECF6",
           "radialaxis": {
            "gridcolor": "white",
            "linecolor": "white",
            "ticks": ""
           }
          },
          "scene": {
           "xaxis": {
            "backgroundcolor": "#E5ECF6",
            "gridcolor": "white",
            "gridwidth": 2,
            "linecolor": "white",
            "showbackground": true,
            "ticks": "",
            "zerolinecolor": "white"
           },
           "yaxis": {
            "backgroundcolor": "#E5ECF6",
            "gridcolor": "white",
            "gridwidth": 2,
            "linecolor": "white",
            "showbackground": true,
            "ticks": "",
            "zerolinecolor": "white"
           },
           "zaxis": {
            "backgroundcolor": "#E5ECF6",
            "gridcolor": "white",
            "gridwidth": 2,
            "linecolor": "white",
            "showbackground": true,
            "ticks": "",
            "zerolinecolor": "white"
           }
          },
          "shapedefaults": {
           "line": {
            "color": "#2a3f5f"
           }
          },
          "ternary": {
           "aaxis": {
            "gridcolor": "white",
            "linecolor": "white",
            "ticks": ""
           },
           "baxis": {
            "gridcolor": "white",
            "linecolor": "white",
            "ticks": ""
           },
           "bgcolor": "#E5ECF6",
           "caxis": {
            "gridcolor": "white",
            "linecolor": "white",
            "ticks": ""
           }
          },
          "title": {
           "x": 0.05
          },
          "xaxis": {
           "automargin": true,
           "gridcolor": "white",
           "linecolor": "white",
           "ticks": "",
           "title": {
            "standoff": 15
           },
           "zerolinecolor": "white",
           "zerolinewidth": 2
          },
          "yaxis": {
           "automargin": true,
           "gridcolor": "white",
           "linecolor": "white",
           "ticks": "",
           "title": {
            "standoff": 15
           },
           "zerolinecolor": "white",
           "zerolinewidth": 2
          }
         }
        },
        "title": {
         "text": "Adjusted Close Price Over Years"
        },
        "xaxis": {
         "anchor": "y",
         "autorange": true,
         "domain": [
          0,
          1
         ],
         "range": [
          "2019-12-31",
          "2024-12-31"
         ],
         "title": {
          "text": "Date"
         },
         "type": "date"
        },
        "yaxis": {
         "anchor": "x",
         "autorange": true,
         "domain": [
          0,
          1
         ],
         "range": [
          37.5922030722203,
          134.4764343107412
         ],
         "title": {
          "text": "y"
         },
         "type": "linear"
        }
       }
      },
      "image/png": "[encoded data removed]",
      "text/html": [
       "<div>                            <div id=\"ea6bef31-2048-4ee7-9847-f189f57b2762\" class=\"plotly-graph-div\" style=\"height:525px; width:100%;\"></div>            <script type=\"text/javascript\">                require([\"plotly\"], function(Plotly) {                    window.PLOTLYENV=window.PLOTLYENV || {};                                    if (document.getElementById(\"ea6bef31-2048-4ee7-9847-f189f57b2762\")) {                    Plotly.newPlot(                        \"ea6bef31-2048-4ee7-9847-f189f57b2762\",                        [{\"hovertemplate\":\"Date=%{x}\\u003cbr\\u003ey=%{y}\\u003cextra\\u003e\\u003c\\u002fextra\\u003e\",\"legendgroup\":\"\",\"line\":{\"color\":\"#636efa\",\"dash\":\"solid\"},\"marker\":{\"symbol\":\"circle\"},\"mode\":\"lines\",\"name\":\"\",\"orientation\":\"v\",\"showlegend\":false,\"x\":[\"2019-12-31T00:00:00\",\"2020-12-31T00:00:00\",\"2021-12-31T00:00:00\",\"2022-12-31T00:00:00\",\"2023-12-31T00:00:00\",\"2024-12-31T00:00:00\"],\"xaxis\":\"x\",\"y\":[42.436414634146345,49.92090909090909,82.43599206349207,83.18502788844621,95.743464,129.63222274881517],\"yaxis\":\"y\",\"type\":\"scatter\"}],                        {\"template\":{\"data\":{\"histogram2dcontour\":[{\"type\":\"histogram2dcontour\",\"colorbar\":{\"outlinewidth\":0,\"ticks\":\"\"},\"colorscale\":[[0.0,\"#0d0887\"],[0.1111111111111111,\"#46039f\"],[0.2222222222222222,\"#7201a8\"],[0.3333333333333333,\"#9c179e\"],[0.4444444444444444,\"#bd3786\"],[0.5555555555555556,\"#d8576b\"],[0.6666666666666666,\"#ed7953\"],[0.7777777777777778,\"#fb9f3a\"],[0.8888888888888888,\"#fdca26\"],[1.0,\"#f0f921\"]]}],\"choropleth\":[{\"type\":\"choropleth\",\"colorbar\":{\"outlinewidth\":0,\"ticks\":\"\"}}],\"histogram2d\":[{\"type\":\"histogram2d\",\"colorbar\":{\"outlinewidth\":0,\"ticks\":\"\"},\"colorscale\":[[0.0,\"#0d0887\"],[0.1111111111111111,\"#46039f\"],[0.2222222222222222,\"#7201a8\"],[0.3333333333333333,\"#9c179e\"],[0.4444444444444444,\"#bd3786\"],[0.5555555555555556,\"#d8576b\"],[0.6666666666666666,\"#ed7953\"],[0.7777777777777778,\"#fb9f3a\"],[0.8888888888888888,\"#fdca26\"],[1.0,\"#f0f921\"]]}],\"heatmap\":[{\"type\":\"heatmap\",\"colorbar\":{\"outlinewidth\":0,\"ticks\":\"\"},\"colorscale\":[[0.0,\"#0d0887\"],[0.1111111111111111,\"#46039f\"],[0.2222222222222222,\"#7201a8\"],[0.3333333333333333,\"#9c179e\"],[0.4444444444444444,\"#bd3786\"],[0.5555555555555556,\"#d8576b\"],[0.6666666666666666,\"#ed7953\"],[0.7777777777777778,\"#fb9f3a\"],[0.8888888888888888,\"#fdca26\"],[1.0,\"#f0f921\"]]}],\"heatmapgl\":[{\"type\":\"heatmapgl\",\"colorbar\":{\"outlinewidth\":0,\"ticks\":\"\"},\"colorscale\":[[0.0,\"#0d0887\"],[0.1111111111111111,\"#46039f\"],[0.2222222222222222,\"#7201a8\"],[0.3333333333333333,\"#9c179e\"],[0.4444444444444444,\"#bd3786\"],[0.5555555555555556,\"#d8576b\"],[0.6666666666666666,\"#ed7953\"],[0.7777777777777778,\"#fb9f3a\"],[0.8888888888888888,\"#fdca26\"],[1.0,\"#f0f921\"]]}],\"contourcarpet\":[{\"type\":\"contourcarpet\",\"colorbar\":{\"outlinewidth\":0,\"ticks\":\"\"}}],\"contour\":[{\"type\":\"contour\",\"colorbar\":{\"outlinewidth\":0,\"ticks\":\"\"},\"colorscale\":[[0.0,\"#0d0887\"],[0.1111111111111111,\"#46039f\"],[0.2222222222222222,\"#7201a8\"],[0.3333333333333333,\"#9c179e\"],[0.4444444444444444,\"#bd3786\"],[0.5555555555555556,\"#d8576b\"],[0.6666666666666666,\"#ed7953\"],[0.7777777777777778,\"#fb9f3a\"],[0.8888888888888888,\"#fdca26\"],[1.0,\"#f0f921\"]]}],\"surface\":[{\"type\":\"surface\",\"colorbar\":{\"outlinewidth\":0,\"ticks\":\"\"},\"colorscale\":[[0.0,\"#0d0887\"],[0.1111111111111111,\"#46039f\"],[0.2222222222222222,\"#7201a8\"],[0.3333333333333333,\"#9c179e\"],[0.4444444444444444,\"#bd3786\"],[0.5555555555555556,\"#d8576b\"],[0.6666666666666666,\"#ed7953\"],[0.7777777777777778,\"#fb9f3a\"],[0.8888888888888888,\"#fdca26\"],[1.0,\"#f0f921\"]]}],\"mesh3d\":[{\"type\":\"mesh3d\",\"colorbar\":{\"outlinewidth\":0,\"ticks\":\"\"}}],\"scatter\":[{\"fillpattern\":{\"fillmode\":\"overlay\",\"size\":10,\"solidity\":0.2},\"type\":\"scatter\"}],\"parcoords\":[{\"type\":\"parcoords\",\"line\":{\"colorbar\":{\"outlinewidth\":0,\"ticks\":\"\"}}}],\"scatterpolargl\":[{\"type\":\"scatterpolargl\",\"marker\":{\"colorbar\":{\"outlinewidth\":0,\"ticks\":\"\"}}}],\"bar\":[{\"error_x\":{\"color\":\"#2a3f5f\"},\"error_y\":{\"color\":\"#2a3f5f\"},\"marker\":{\"line\":{\"color\":\"#E5ECF6\",\"width\":0.5},\"pattern\":{\"fillmode\":\"overlay\",\"size\":10,\"solidity\":0.2}},\"type\":\"bar\"}],\"scattergeo\":[{\"type\":\"scattergeo\",\"marker\":{\"colorbar\":{\"outlinewidth\":0,\"ticks\":\"\"}}}],\"scatterpolar\":[{\"type\":\"scatterpolar\",\"marker\":{\"colorbar\":{\"outlinewidth\":0,\"ticks\":\"\"}}}],\"histogram\":[{\"marker\":{\"pattern\":{\"fillmode\":\"overlay\",\"size\":10,\"solidity\":0.2}},\"type\":\"histogram\"}],\"scattergl\":[{\"type\":\"scattergl\",\"marker\":{\"colorbar\":{\"outlinewidth\":0,\"ticks\":\"\"}}}],\"scatter3d\":[{\"type\":\"scatter3d\",\"line\":{\"colorbar\":{\"outlinewidth\":0,\"ticks\":\"\"}},\"marker\":{\"colorbar\":{\"outlinewidth\":0,\"ticks\":\"\"}}}],\"scattermapbox\":[{\"type\":\"scattermapbox\",\"marker\":{\"colorbar\":{\"outlinewidth\":0,\"ticks\":\"\"}}}],\"scatterternary\":[{\"type\":\"scatterternary\",\"marker\":{\"colorbar\":{\"outlinewidth\":0,\"ticks\":\"\"}}}],\"scattercarpet\":[{\"type\":\"scattercarpet\",\"marker\":{\"colorbar\":{\"outlinewidth\":0,\"ticks\":\"\"}}}],\"carpet\":[{\"aaxis\":{\"endlinecolor\":\"#2a3f5f\",\"gridcolor\":\"white\",\"linecolor\":\"white\",\"minorgridcolor\":\"white\",\"startlinecolor\":\"#2a3f5f\"},\"baxis\":{\"endlinecolor\":\"#2a3f5f\",\"gridcolor\":\"white\",\"linecolor\":\"white\",\"minorgridcolor\":\"white\",\"startlinecolor\":\"#2a3f5f\"},\"type\":\"carpet\"}],\"table\":[{\"cells\":{\"fill\":{\"color\":\"#EBF0F8\"},\"line\":{\"color\":\"white\"}},\"header\":{\"fill\":{\"color\":\"#C8D4E3\"},\"line\":{\"color\":\"white\"}},\"type\":\"table\"}],\"barpolar\":[{\"marker\":{\"line\":{\"color\":\"#E5ECF6\",\"width\":0.5},\"pattern\":{\"fillmode\":\"overlay\",\"size\":10,\"solidity\":0.2}},\"type\":\"barpolar\"}],\"pie\":[{\"automargin\":true,\"type\":\"pie\"}]},\"layout\":{\"autotypenumbers\":\"strict\",\"colorway\":[\"#636efa\",\"#EF553B\",\"#00cc96\",\"#ab63fa\",\"#FFA15A\",\"#19d3f3\",\"#FF6692\",\"#B6E880\",\"#FF97FF\",\"#FECB52\"],\"font\":{\"color\":\"#2a3f5f\"},\"hovermode\":\"closest\",\"hoverlabel\":{\"align\":\"left\"},\"paper_bgcolor\":\"white\",\"plot_bgcolor\":\"#E5ECF6\",\"polar\":{\"bgcolor\":\"#E5ECF6\",\"angularaxis\":{\"gridcolor\":\"white\",\"linecolor\":\"white\",\"ticks\":\"\"},\"radialaxis\":{\"gridcolor\":\"white\",\"linecolor\":\"white\",\"ticks\":\"\"}},\"ternary\":{\"bgcolor\":\"#E5ECF6\",\"aaxis\":{\"gridcolor\":\"white\",\"linecolor\":\"white\",\"ticks\":\"\"},\"baxis\":{\"gridcolor\":\"white\",\"linecolor\":\"white\",\"ticks\":\"\"},\"caxis\":{\"gridcolor\":\"white\",\"linecolor\":\"white\",\"ticks\":\"\"}},\"coloraxis\":{\"colorbar\":{\"outlinewidth\":0,\"ticks\":\"\"}},\"colorscale\":{\"sequential\":[[0.0,\"#0d0887\"],[0.1111111111111111,\"#46039f\"],[0.2222222222222222,\"#7201a8\"],[0.3333333333333333,\"#9c179e\"],[0.4444444444444444,\"#bd3786\"],[0.5555555555555556,\"#d8576b\"],[0.6666666666666666,\"#ed7953\"],[0.7777777777777778,\"#fb9f3a\"],[0.8888888888888888,\"#fdca26\"],[1.0,\"#f0f921\"]],\"sequentialminus\":[[0.0,\"#0d0887\"],[0.1111111111111111,\"#46039f\"],[0.2222222222222222,\"#7201a8\"],[0.3333333333333333,\"#9c179e\"],[0.4444444444444444,\"#bd3786\"],[0.5555555555555556,\"#d8576b\"],[0.6666666666666666,\"#ed7953\"],[0.7777777777777778,\"#fb9f3a\"],[0.8888888888888888,\"#fdca26\"],[1.0,\"#f0f921\"]],\"diverging\":[[0,\"#8e0152\"],[0.1,\"#c51b7d\"],[0.2,\"#de77ae\"],[0.3,\"#f1b6da\"],[0.4,\"#fde0ef\"],[0.5,\"#f7f7f7\"],[0.6,\"#e6f5d0\"],[0.7,\"#b8e186\"],[0.8,\"#7fbc41\"],[0.9,\"#4d9221\"],[1,\"#276419\"]]},\"xaxis\":{\"gridcolor\":\"white\",\"linecolor\":\"white\",\"ticks\":\"\",\"title\":{\"standoff\":15},\"zerolinecolor\":\"white\",\"automargin\":true,\"zerolinewidth\":2},\"yaxis\":{\"gridcolor\":\"white\",\"linecolor\":\"white\",\"ticks\":\"\",\"title\":{\"standoff\":15},\"zerolinecolor\":\"white\",\"automargin\":true,\"zerolinewidth\":2},\"scene\":{\"xaxis\":{\"backgroundcolor\":\"#E5ECF6\",\"gridcolor\":\"white\",\"linecolor\":\"white\",\"showbackground\":true,\"ticks\":\"\",\"zerolinecolor\":\"white\",\"gridwidth\":2},\"yaxis\":{\"backgroundcolor\":\"#E5ECF6\",\"gridcolor\":\"white\",\"linecolor\":\"white\",\"showbackground\":true,\"ticks\":\"\",\"zerolinecolor\":\"white\",\"gridwidth\":2},\"zaxis\":{\"backgroundcolor\":\"#E5ECF6\",\"gridcolor\":\"white\",\"linecolor\":\"white\",\"showbackground\":true,\"ticks\":\"\",\"zerolinecolor\":\"white\",\"gridwidth\":2}},\"shapedefaults\":{\"line\":{\"color\":\"#2a3f5f\"}},\"annotationdefaults\":{\"arrowcolor\":\"#2a3f5f\",\"arrowhead\":0,\"arrowwidth\":1},\"geo\":{\"bgcolor\":\"white\",\"landcolor\":\"#E5ECF6\",\"subunitcolor\":\"white\",\"showland\":true,\"showlakes\":true,\"lakecolor\":\"white\"},\"title\":{\"x\":0.05},\"mapbox\":{\"style\":\"light\"}}},\"xaxis\":{\"anchor\":\"y\",\"domain\":[0.0,1.0],\"title\":{\"text\":\"Date\"}},\"yaxis\":{\"anchor\":\"x\",\"domain\":[0.0,1.0],\"title\":{\"text\":\"y\"}},\"legend\":{\"tracegroupgap\":0},\"title\":{\"text\":\"Adjusted Close Price Over Years\"}},                        {\"responsive\": true}                    ).then(function(){\n",
       "                            \n",
       "var gd = document.getElementById('ea6bef31-2048-4ee7-9847-f189f57b2762');\n",
       "var x = new MutationObserver(function (mutations, observer) {{\n",
       "        var display = window.getComputedStyle(gd).display;\n",
       "        if (!display || display === 'none') {{\n",
       "            console.log([gd, 'removed!']);\n",
       "            Plotly.purge(gd);\n",
       "            observer.disconnect();\n",
       "        }}\n",
       "}});\n",
       "\n",
       "// Listen for the removal of the full notebook cells\n",
       "var notebookContainer = gd.closest('#notebook-container');\n",
       "if (notebookContainer) {{\n",
       "    x.observe(notebookContainer, {childList: true});\n",
       "}}\n",
       "\n",
       "// Listen for the clearing of the current output cell\n",
       "var outputEl = gd.closest('.output');\n",
       "if (outputEl) {{\n",
       "    x.observe(outputEl, {childList: true});\n",
       "}}\n",
       "\n",
       "                        })                };                });            </script>        </div>"
      ]
     },
     "metadata": {},
     "output_type": "display_data"
    }
   ],
   "source": [
    "###Visulaisation yearly\n",
    "fig_year = px.line(year_end_df, x=year_end_df.index, y=year_end_df['Adj Close'].values.squeeze(), title='Adjusted Close Price Over Years')\n",
    "fig_year.show()"
   ]
  },
  {
   "cell_type": "code",
   "execution_count": null,
   "id": "29e47b4f-9432-42d2-9a5c-0d879fa5f2a3",
   "metadata": {},
   "outputs": [],
   "source": []
  },
  {
   "cell_type": "code",
   "execution_count": null,
   "id": "38776031-8896-499c-89c6-f915e9f924b6",
   "metadata": {},
   "outputs": [],
   "source": []
  },
  {
   "cell_type": "code",
   "execution_count": null,
   "id": "e46aa5b3-2e60-4cec-8e76-535475333a62",
   "metadata": {},
   "outputs": [],
   "source": []
  }
 ],
 "metadata": {
  "kernelspec": {
   "display_name": "venv",
   "language": "python",
   "name": "venv"
  },
  "language_info": {
   "codemirror_mode": {
    "name": "ipython",
    "version": 3
   },
   "file_extension": ".py",
   "mimetype": "text/x-python",
   "name": "python",
   "nbconvert_exporter": "python",
   "pygments_lexer": "ipython3",
   "version": "3.12.4"
  }
 },
 "nbformat": 4,
 "nbformat_minor": 5
}
