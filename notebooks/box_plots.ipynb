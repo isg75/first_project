{
 "cells": [
  {
   "cell_type": "code",
   "execution_count": 69,
   "id": "d9595f3c-8766-4740-9503-070ac1ff8a8e",
   "metadata": {},
   "outputs": [],
   "source": [
    "import yfinance as yf\n",
    "import pandas as pd\n",
    "import matplotlib.pyplot as plt\n",
    "import numpy as np\n",
    "import seaborn as sns"
   ]
  },
  {
   "cell_type": "markdown",
   "id": "56673e9a-1d0c-4252-9d60-753b09c83324",
   "metadata": {},
   "source": [
    "# List of FAANG Stocks\n",
    "1. **Facebook** is an online social media and social networking service company founded in 2004. The company’s primary revenue stream comes from online advertisements. Facebook also owns several prominent subsidiaries, including Instagram, WhatsApp, and Oculus VR.\n",
    "2. **Amazon** is a diversified technology company operating in e-commerce, consumer electronics, and cloud computing industries. Jeff Bezos established the company in 1994 as an online bookstore. Amazon is now the world’s biggest e-commerce retailer based on market capitalization. The company owns several subsidiaries, including Whole Foods Market (chain of supermarkets) and Twitch (live streaming platform).\n",
    "3. **Apple** is a multinational technology company based in California, known for selling consumer electronics such as phones, tablets, and computers. It was founded by Steve Jobs and two others in 1976, making it the oldest of the FAANG stocks. Apple went public in December 1980, with an IPO that raised over $100 million (at $22 per share).\n",
    "4. **Netflix** is a media provider that provides customers with subscription-based online streaming of films and TV shows. Recently, the company entered the content-production industry, producing its own movies and TV shows.\n",
    "5. **Google (Alphabet)** Headquartered in California, U.S., Google specializes in providing internet-based services and products. It was founded in 1998 by Larry Page and Sergey Brin and is perhaps best known for its web search engine. The company went public in August 2004, offering almost 20 million shares at $85 per share."
   ]
  },
  {
   "cell_type": "markdown",
   "id": "9e2fc7f9-c9a6-40cf-88a3-3820bcb61863",
   "metadata": {},
   "source": [
    "# Stocks information\n",
    "\n",
    "**Date**: This column represents the specific day for which the stock data is recorded.\n",
    "\n",
    "**Open**: This is the price at which the stock started trading when the market opened on that particular day.\n",
    "\n",
    "**High**: This indicates the highest price the stock reached during that trading day.\n",
    "\n",
    "**Low**: This is the lowest price at which the stock was traded during the day.\n",
    "\n",
    "**Close**: This is the price of the stock at the end of the trading day. It's one of the most commonly used prices for analyzing stock performance.\n",
    "\n",
    "**Adj Close**: Stands for \"Adjusted Close\". This price reflects the stock's close price after accounting for any corporate actions that could impact the price, such as dividends, stock splits, or new stock offerings. It is useful for analyzing the real return on investment.\n",
    "\n",
    "**Volume**: This is the total number of shares that were traded during the day. It helps provide context about the activity level and liquidity of the stock."
   ]
  },
  {
   "cell_type": "code",
   "execution_count": 70,
   "id": "acd356c6-b977-4ea3-b60b-e81278c71d0b",
   "metadata": {},
   "outputs": [
    {
     "name": "stderr",
     "output_type": "stream",
     "text": [
      "[*********************100%***********************]  1 of 1 completed\n",
      "[*********************100%***********************]  1 of 1 completed\n",
      "[*********************100%***********************]  1 of 1 completed\n",
      "[*********************100%***********************]  1 of 1 completed\n",
      "[*********************100%***********************]  1 of 1 completed\n"
     ]
    }
   ],
   "source": [
    "# Function to download and format stock data\n",
    "def download_stock_data(ticker_symbol, start_date, end_date):\n",
    "    # Download the stock data\n",
    "    stock_data = yf.download(ticker_symbol, start=start_date, end=end_date)\n",
    "\n",
    "    # Reset the index to remove any multi-level indexing\n",
    "    stock_data = stock_data.reset_index()\n",
    "\n",
    "    # Fix potential multi-index issue\n",
    "    if isinstance(stock_data.columns, pd.MultiIndex):\n",
    "        # Flatten the columns if it's MultiIndex and keep the first level\n",
    "        stock_data.columns = stock_data.columns.get_level_values(0)\n",
    "\n",
    "    # Add the 'Ticker' as a new column\n",
    "    stock_data['company'] = ticker_symbol\n",
    "\n",
    "    return stock_data\n",
    "\n",
    "def format_columns(df):\n",
    "    df.columns = df.columns.str.strip().str.lower().str.replace(' ', '_')\n",
    "    df['date'] = pd.to_datetime(df['date'], utc=True)\n",
    "    df.set_index('date', inplace=True)\n",
    "    return df\n",
    "\n",
    "def round_values(df):\n",
    "    for column in ['open', 'high', 'low', 'close', 'adj_close', 'volume']:\n",
    "        df[column] = df[column].apply(lambda x: round(x, 3))\n",
    "    return df\n",
    "\n",
    "start_date = \"2019-11-01\"\n",
    "end_date= \"2024-10-31\"\n",
    "\n",
    "facebook_ticker = \"META\"\n",
    "facebook_data = download_stock_data(facebook_ticker, start_date, end_date)\n",
    "facebook_data = format_columns(facebook_data)\n",
    "facebook_data = round_values(facebook_data)\n",
    "amazon_ticker = \"AMZN\"\n",
    "amazon_data = download_stock_data(amazon_ticker, start_date, end_date)\n",
    "amazon_data = format_columns(amazon_data)\n",
    "amazon_data = round_values(amazon_data)\n",
    "apple_ticker = \"AAPL\"\n",
    "apple_data = download_stock_data(apple_ticker, start_date, end_date)\n",
    "apple_data = format_columns(apple_data)\n",
    "apple_data = round_values(apple_data)\n",
    "netflix_ticker = \"NFLX\"\n",
    "netflix_data = download_stock_data(netflix_ticker, start_date, end_date)\n",
    "netflix_data = format_columns(netflix_data)\n",
    "netflix_data = round_values(netflix_data)\n",
    "google_ticker = \"GOOG\"\n",
    "google_data = download_stock_data(google_ticker, start_date, end_date)\n",
    "google_data = format_columns(google_data)\n",
    "google_data = round_values(google_data)"
   ]
  },
  {
   "cell_type": "markdown",
   "id": "d24ef74d-e6bb-404f-8ecb-65e5b155b70d",
   "metadata": {},
   "source": [
    "# FACEBOOK"
   ]
  },
  {
   "cell_type": "code",
   "execution_count": 71,
   "id": "c155522a-6dff-474f-96fb-c260d1dcd7c4",
   "metadata": {},
   "outputs": [],
   "source": [
    "#calculate daily returns\n",
    "facebook_data['daily_returns'] = facebook_data.adj_close.pct_change() * 100\n",
    "if facebook_data.index.name == 'date':\n",
    "    facebook_data.reset_index(inplace=True)"
   ]
  },
  {
   "cell_type": "code",
   "execution_count": 72,
   "id": "f149a609-5481-4315-841b-275aa343aa5b",
   "metadata": {},
   "outputs": [],
   "source": [
    "if 'date' in facebook_data.columns:  # Ensure 'date' is only indexed if not already\n",
    "    facebook_data.set_index('date', inplace=True)"
   ]
  },
  {
   "cell_type": "code",
   "execution_count": 73,
   "id": "8db9c611-d2a7-41db-8c6c-da603d190e0c",
   "metadata": {},
   "outputs": [
    {
     "name": "stderr",
     "output_type": "stream",
     "text": [
      "/var/folders/5c/sspsd_y15mj4xzggy_2t9r0w0000gn/T/ipykernel_33231/2188815303.py:2: FutureWarning:\n",
      "\n",
      "'M' is deprecated and will be removed in a future version, please use 'ME' instead.\n",
      "\n"
     ]
    },
    {
     "name": "stderr",
     "output_type": "stream",
     "text": [
      "/var/folders/5c/sspsd_y15mj4xzggy_2t9r0w0000gn/T/ipykernel_33231/2188815303.py:6: FutureWarning:\n",
      "\n",
      "'A' is deprecated and will be removed in a future version, please use 'YE' instead.\n",
      "\n"
     ]
    },
    {
     "data": {
      "text/html": [
       "<div>\n",
       "<style scoped>\n",
       "    .dataframe tbody tr th:only-of-type {\n",
       "        vertical-align: middle;\n",
       "    }\n",
       "\n",
       "    .dataframe tbody tr th {\n",
       "        vertical-align: top;\n",
       "    }\n",
       "\n",
       "    .dataframe thead th {\n",
       "        text-align: right;\n",
       "    }\n",
       "</style>\n",
       "<table border=\"1\" class=\"dataframe\">\n",
       "  <thead>\n",
       "    <tr style=\"text-align: right;\">\n",
       "      <th>Price</th>\n",
       "      <th>monthly_return</th>\n",
       "      <th>annual_return</th>\n",
       "    </tr>\n",
       "  </thead>\n",
       "  <tbody>\n",
       "    <tr>\n",
       "      <th>count</th>\n",
       "      <td>59.000000</td>\n",
       "      <td>5.000000</td>\n",
       "    </tr>\n",
       "    <tr>\n",
       "      <th>mean</th>\n",
       "      <td>2.579514</td>\n",
       "      <td>50.765503</td>\n",
       "    </tr>\n",
       "    <tr>\n",
       "      <th>std</th>\n",
       "      <td>11.967447</td>\n",
       "      <td>93.726872</td>\n",
       "    </tr>\n",
       "    <tr>\n",
       "      <th>min</th>\n",
       "      <td>-32.634157</td>\n",
       "      <td>-64.221685</td>\n",
       "    </tr>\n",
       "    <tr>\n",
       "      <th>25%</th>\n",
       "      <td>-4.033952</td>\n",
       "      <td>23.132849</td>\n",
       "    </tr>\n",
       "    <tr>\n",
       "      <th>50%</th>\n",
       "      <td>2.407611</td>\n",
       "      <td>33.086388</td>\n",
       "    </tr>\n",
       "    <tr>\n",
       "      <th>75%</th>\n",
       "      <td>9.933945</td>\n",
       "      <td>67.697657</td>\n",
       "    </tr>\n",
       "    <tr>\n",
       "      <th>max</th>\n",
       "      <td>26.771102</td>\n",
       "      <td>194.132306</td>\n",
       "    </tr>\n",
       "  </tbody>\n",
       "</table>\n",
       "</div>"
      ],
      "text/plain": [
       "Price  monthly_return  annual_return\n",
       "count       59.000000       5.000000\n",
       "mean         2.579514      50.765503\n",
       "std         11.967447      93.726872\n",
       "min        -32.634157     -64.221685\n",
       "25%         -4.033952      23.132849\n",
       "50%          2.407611      33.086388\n",
       "75%          9.933945      67.697657\n",
       "max         26.771102     194.132306"
      ]
     },
     "execution_count": 73,
     "metadata": {},
     "output_type": "execute_result"
    }
   ],
   "source": [
    "# Calculate monthly returns\n",
    "facebook_data_monthly = facebook_data.resample(\"M\").last()\n",
    "facebook_data_monthly['monthly_return'] = facebook_data_monthly['adj_close'].pct_change() * 100\n",
    "\n",
    "# Calculate annual returns\n",
    "facebook_data_annual = facebook_data.resample(\"A\").last()\n",
    "facebook_data_annual['annual_return'] = facebook_data_annual['adj_close'].pct_change() * 100\n",
    "\n",
    "# Combine monthly and annual returns\n",
    "facebook_data_periods = facebook_data_monthly[['monthly_return']].join(facebook_data_annual[['annual_return']], how='outer')\n",
    "\n",
    "# Reset index to make 'date' a column again\n",
    "facebook_data_periods.reset_index(inplace=True)\n",
    "\n",
    "# Describe the combined DataFrame\n",
    "facebook_data_periods.describe()"
   ]
  },
  {
   "cell_type": "code",
   "execution_count": 74,
   "id": "cfc3aaf9-18cd-45f8-b623-9a6ca18eed5e",
   "metadata": {},
   "outputs": [
    {
     "data": {
      "text/html": [
       "<div>\n",
       "<style scoped>\n",
       "    .dataframe tbody tr th:only-of-type {\n",
       "        vertical-align: middle;\n",
       "    }\n",
       "\n",
       "    .dataframe tbody tr th {\n",
       "        vertical-align: top;\n",
       "    }\n",
       "\n",
       "    .dataframe thead th {\n",
       "        text-align: right;\n",
       "    }\n",
       "</style>\n",
       "<table border=\"1\" class=\"dataframe\">\n",
       "  <thead>\n",
       "    <tr style=\"text-align: right;\">\n",
       "      <th>Price</th>\n",
       "      <th>adj_close</th>\n",
       "      <th>close</th>\n",
       "      <th>high</th>\n",
       "      <th>low</th>\n",
       "      <th>open</th>\n",
       "      <th>volume</th>\n",
       "      <th>daily_returns</th>\n",
       "      <th>monthly_return</th>\n",
       "      <th>annual_return</th>\n",
       "    </tr>\n",
       "  </thead>\n",
       "  <tbody>\n",
       "    <tr>\n",
       "      <th>count</th>\n",
       "      <td>1257.000000</td>\n",
       "      <td>1257.000000</td>\n",
       "      <td>1257.000000</td>\n",
       "      <td>1257.000000</td>\n",
       "      <td>1257.000000</td>\n",
       "      <td>1.257000e+03</td>\n",
       "      <td>1256.000000</td>\n",
       "      <td>59.000000</td>\n",
       "      <td>5.000000</td>\n",
       "    </tr>\n",
       "    <tr>\n",
       "      <th>mean</th>\n",
       "      <td>287.713642</td>\n",
       "      <td>288.449666</td>\n",
       "      <td>292.336802</td>\n",
       "      <td>284.444320</td>\n",
       "      <td>288.268051</td>\n",
       "      <td>2.316552e+07</td>\n",
       "      <td>0.129444</td>\n",
       "      <td>2.579514</td>\n",
       "      <td>50.765503</td>\n",
       "    </tr>\n",
       "    <tr>\n",
       "      <th>std</th>\n",
       "      <td>114.045791</td>\n",
       "      <td>114.118445</td>\n",
       "      <td>115.118137</td>\n",
       "      <td>113.046027</td>\n",
       "      <td>114.213862</td>\n",
       "      <td>1.569375e+07</td>\n",
       "      <td>2.818176</td>\n",
       "      <td>11.967447</td>\n",
       "      <td>93.726872</td>\n",
       "    </tr>\n",
       "    <tr>\n",
       "      <th>min</th>\n",
       "      <td>88.643000</td>\n",
       "      <td>88.910000</td>\n",
       "      <td>90.460000</td>\n",
       "      <td>88.090000</td>\n",
       "      <td>90.080000</td>\n",
       "      <td>5.467500e+06</td>\n",
       "      <td>-26.390088</td>\n",
       "      <td>-32.634157</td>\n",
       "      <td>-64.221685</td>\n",
       "    </tr>\n",
       "    <tr>\n",
       "      <th>25%</th>\n",
       "      <td>201.653000</td>\n",
       "      <td>202.260000</td>\n",
       "      <td>205.760000</td>\n",
       "      <td>199.900000</td>\n",
       "      <td>202.250000</td>\n",
       "      <td>1.453120e+07</td>\n",
       "      <td>-1.154092</td>\n",
       "      <td>-4.033952</td>\n",
       "      <td>23.132849</td>\n",
       "    </tr>\n",
       "    <tr>\n",
       "      <th>50%</th>\n",
       "      <td>272.121000</td>\n",
       "      <td>272.940000</td>\n",
       "      <td>277.300000</td>\n",
       "      <td>269.410000</td>\n",
       "      <td>272.660000</td>\n",
       "      <td>1.940530e+07</td>\n",
       "      <td>0.133951</td>\n",
       "      <td>2.407611</td>\n",
       "      <td>33.086388</td>\n",
       "    </tr>\n",
       "    <tr>\n",
       "      <th>75%</th>\n",
       "      <td>336.238000</td>\n",
       "      <td>337.250000</td>\n",
       "      <td>341.310000</td>\n",
       "      <td>334.190000</td>\n",
       "      <td>337.570000</td>\n",
       "      <td>2.711680e+07</td>\n",
       "      <td>1.437633</td>\n",
       "      <td>9.933945</td>\n",
       "      <td>67.697657</td>\n",
       "    </tr>\n",
       "    <tr>\n",
       "      <th>max</th>\n",
       "      <td>595.940000</td>\n",
       "      <td>595.940000</td>\n",
       "      <td>602.950000</td>\n",
       "      <td>589.960000</td>\n",
       "      <td>600.980000</td>\n",
       "      <td>2.323166e+08</td>\n",
       "      <td>23.282458</td>\n",
       "      <td>26.771102</td>\n",
       "      <td>194.132306</td>\n",
       "    </tr>\n",
       "  </tbody>\n",
       "</table>\n",
       "</div>"
      ],
      "text/plain": [
       "Price    adj_close        close         high          low         open  \\\n",
       "count  1257.000000  1257.000000  1257.000000  1257.000000  1257.000000   \n",
       "mean    287.713642   288.449666   292.336802   284.444320   288.268051   \n",
       "std     114.045791   114.118445   115.118137   113.046027   114.213862   \n",
       "min      88.643000    88.910000    90.460000    88.090000    90.080000   \n",
       "25%     201.653000   202.260000   205.760000   199.900000   202.250000   \n",
       "50%     272.121000   272.940000   277.300000   269.410000   272.660000   \n",
       "75%     336.238000   337.250000   341.310000   334.190000   337.570000   \n",
       "max     595.940000   595.940000   602.950000   589.960000   600.980000   \n",
       "\n",
       "Price        volume  daily_returns  monthly_return  annual_return  \n",
       "count  1.257000e+03    1256.000000       59.000000       5.000000  \n",
       "mean   2.316552e+07       0.129444        2.579514      50.765503  \n",
       "std    1.569375e+07       2.818176       11.967447      93.726872  \n",
       "min    5.467500e+06     -26.390088      -32.634157     -64.221685  \n",
       "25%    1.453120e+07      -1.154092       -4.033952      23.132849  \n",
       "50%    1.940530e+07       0.133951        2.407611      33.086388  \n",
       "75%    2.711680e+07       1.437633        9.933945      67.697657  \n",
       "max    2.323166e+08      23.282458       26.771102     194.132306  "
      ]
     },
     "execution_count": 74,
     "metadata": {},
     "output_type": "execute_result"
    }
   ],
   "source": [
    "facebook_merged = pd.merge(facebook_data, facebook_data_periods, on='date', how='outer')\n",
    "facebook_merged.describe()"
   ]
  },
  {
   "cell_type": "markdown",
   "id": "77bf0d47-4cec-439d-83a9-8d81ec6f065a",
   "metadata": {},
   "source": [
    "# AMAZON\n"
   ]
  },
  {
   "cell_type": "code",
   "execution_count": 75,
   "id": "38ed4d33-7a27-41d6-8966-fa16aee8c155",
   "metadata": {},
   "outputs": [],
   "source": [
    "amazon_data['daily_returns'] = amazon_data.adj_close.pct_change() * 100\n",
    "if amazon_data.index.name == 'date':\n",
    "    amazon_data.reset_index(inplace=True)"
   ]
  },
  {
   "cell_type": "code",
   "execution_count": 76,
   "id": "f8abc89e-23f7-40db-8b87-8f06a6c06b80",
   "metadata": {},
   "outputs": [],
   "source": [
    "if 'date' in amazon_data.columns:  # Ensure 'date' is only indexed if not already\n",
    "    amazon_data.set_index('date', inplace=True)"
   ]
  },
  {
   "cell_type": "code",
   "execution_count": 77,
   "id": "7229bd84-39b9-4923-814b-93da20eeb1b6",
   "metadata": {},
   "outputs": [
    {
     "name": "stderr",
     "output_type": "stream",
     "text": [
      "/var/folders/5c/sspsd_y15mj4xzggy_2t9r0w0000gn/T/ipykernel_33231/3985160854.py:2: FutureWarning:\n",
      "\n",
      "'M' is deprecated and will be removed in a future version, please use 'ME' instead.\n",
      "\n",
      "/var/folders/5c/sspsd_y15mj4xzggy_2t9r0w0000gn/T/ipykernel_33231/3985160854.py:6: FutureWarning:\n",
      "\n",
      "'A' is deprecated and will be removed in a future version, please use 'YE' instead.\n",
      "\n"
     ]
    },
    {
     "data": {
      "text/html": [
       "<div>\n",
       "<style scoped>\n",
       "    .dataframe tbody tr th:only-of-type {\n",
       "        vertical-align: middle;\n",
       "    }\n",
       "\n",
       "    .dataframe tbody tr th {\n",
       "        vertical-align: top;\n",
       "    }\n",
       "\n",
       "    .dataframe thead th {\n",
       "        text-align: right;\n",
       "    }\n",
       "</style>\n",
       "<table border=\"1\" class=\"dataframe\">\n",
       "  <thead>\n",
       "    <tr style=\"text-align: right;\">\n",
       "      <th>Price</th>\n",
       "      <th>monthly_return</th>\n",
       "      <th>annual_return</th>\n",
       "    </tr>\n",
       "  </thead>\n",
       "  <tbody>\n",
       "    <tr>\n",
       "      <th>count</th>\n",
       "      <td>59.000000</td>\n",
       "      <td>5.000000</td>\n",
       "    </tr>\n",
       "    <tr>\n",
       "      <th>mean</th>\n",
       "      <td>1.727313</td>\n",
       "      <td>27.348894</td>\n",
       "    </tr>\n",
       "    <tr>\n",
       "      <th>std</th>\n",
       "      <td>9.469724</td>\n",
       "      <td>54.325080</td>\n",
       "    </tr>\n",
       "    <tr>\n",
       "      <th>min</th>\n",
       "      <td>-23.751971</td>\n",
       "      <td>-49.615216</td>\n",
       "    </tr>\n",
       "    <tr>\n",
       "      <th>25%</th>\n",
       "      <td>-4.730355</td>\n",
       "      <td>2.377092</td>\n",
       "    </tr>\n",
       "    <tr>\n",
       "      <th>50%</th>\n",
       "      <td>2.546793</td>\n",
       "      <td>26.846123</td>\n",
       "    </tr>\n",
       "    <tr>\n",
       "      <th>75%</th>\n",
       "      <td>6.439290</td>\n",
       "      <td>76.255520</td>\n",
       "    </tr>\n",
       "    <tr>\n",
       "      <th>max</th>\n",
       "      <td>27.059599</td>\n",
       "      <td>80.880952</td>\n",
       "    </tr>\n",
       "  </tbody>\n",
       "</table>\n",
       "</div>"
      ],
      "text/plain": [
       "Price  monthly_return  annual_return\n",
       "count       59.000000       5.000000\n",
       "mean         1.727313      27.348894\n",
       "std          9.469724      54.325080\n",
       "min        -23.751971     -49.615216\n",
       "25%         -4.730355       2.377092\n",
       "50%          2.546793      26.846123\n",
       "75%          6.439290      76.255520\n",
       "max         27.059599      80.880952"
      ]
     },
     "execution_count": 77,
     "metadata": {},
     "output_type": "execute_result"
    }
   ],
   "source": [
    "# Calculate monthly returns\n",
    "amazon_data_monthly = amazon_data.resample(\"M\").last()\n",
    "amazon_data_monthly['monthly_return'] = amazon_data_monthly['adj_close'].pct_change() * 100\n",
    "\n",
    "# Calculate annual returns\n",
    "amazon_data_annual = amazon_data.resample(\"A\").last()\n",
    "amazon_data_annual['annual_return'] = amazon_data_annual['adj_close'].pct_change() * 100\n",
    "\n",
    "# Combine monthly and annual returns\n",
    "amazon_data_periods = amazon_data_monthly[['monthly_return']].join(amazon_data_annual[['annual_return']], how='outer')\n",
    "\n",
    "# Reset index to make 'date' a column again\n",
    "amazon_data_periods.reset_index(inplace=True)\n",
    "\n",
    "# Describe the combined DataFrame\n",
    "amazon_data_periods.describe()"
   ]
  },
  {
   "cell_type": "code",
   "execution_count": 78,
   "id": "a27c68ca-f28d-4624-b46d-f159e091fe88",
   "metadata": {},
   "outputs": [
    {
     "data": {
      "text/html": [
       "<div>\n",
       "<style scoped>\n",
       "    .dataframe tbody tr th:only-of-type {\n",
       "        vertical-align: middle;\n",
       "    }\n",
       "\n",
       "    .dataframe tbody tr th {\n",
       "        vertical-align: top;\n",
       "    }\n",
       "\n",
       "    .dataframe thead th {\n",
       "        text-align: right;\n",
       "    }\n",
       "</style>\n",
       "<table border=\"1\" class=\"dataframe\">\n",
       "  <thead>\n",
       "    <tr style=\"text-align: right;\">\n",
       "      <th>Price</th>\n",
       "      <th>adj_close</th>\n",
       "      <th>close</th>\n",
       "      <th>high</th>\n",
       "      <th>low</th>\n",
       "      <th>open</th>\n",
       "      <th>volume</th>\n",
       "      <th>daily_returns</th>\n",
       "      <th>monthly_return</th>\n",
       "      <th>annual_return</th>\n",
       "    </tr>\n",
       "  </thead>\n",
       "  <tbody>\n",
       "    <tr>\n",
       "      <th>count</th>\n",
       "      <td>1257.000000</td>\n",
       "      <td>1257.000000</td>\n",
       "      <td>1257.000000</td>\n",
       "      <td>1257.000000</td>\n",
       "      <td>1257.000000</td>\n",
       "      <td>1.257000e+03</td>\n",
       "      <td>1256.000000</td>\n",
       "      <td>59.000000</td>\n",
       "      <td>5.000000</td>\n",
       "    </tr>\n",
       "    <tr>\n",
       "      <th>mean</th>\n",
       "      <td>142.587662</td>\n",
       "      <td>142.587662</td>\n",
       "      <td>144.359982</td>\n",
       "      <td>140.771759</td>\n",
       "      <td>142.626076</td>\n",
       "      <td>6.907051e+07</td>\n",
       "      <td>0.086139</td>\n",
       "      <td>1.727313</td>\n",
       "      <td>27.348894</td>\n",
       "    </tr>\n",
       "    <tr>\n",
       "      <th>std</th>\n",
       "      <td>31.006411</td>\n",
       "      <td>31.006411</td>\n",
       "      <td>31.181270</td>\n",
       "      <td>30.874941</td>\n",
       "      <td>31.096448</td>\n",
       "      <td>3.374720e+07</td>\n",
       "      <td>2.242374</td>\n",
       "      <td>9.469724</td>\n",
       "      <td>54.325080</td>\n",
       "    </tr>\n",
       "    <tr>\n",
       "      <th>min</th>\n",
       "      <td>81.820000</td>\n",
       "      <td>81.820000</td>\n",
       "      <td>83.480000</td>\n",
       "      <td>81.301000</td>\n",
       "      <td>82.076000</td>\n",
       "      <td>1.762600e+07</td>\n",
       "      <td>-14.048798</td>\n",
       "      <td>-23.751971</td>\n",
       "      <td>-49.615216</td>\n",
       "    </tr>\n",
       "    <tr>\n",
       "      <th>25%</th>\n",
       "      <td>115.890000</td>\n",
       "      <td>115.890000</td>\n",
       "      <td>118.240000</td>\n",
       "      <td>114.250000</td>\n",
       "      <td>116.280000</td>\n",
       "      <td>4.733940e+07</td>\n",
       "      <td>-1.100155</td>\n",
       "      <td>-4.730355</td>\n",
       "      <td>2.377092</td>\n",
       "    </tr>\n",
       "    <tr>\n",
       "      <th>50%</th>\n",
       "      <td>151.122000</td>\n",
       "      <td>151.122000</td>\n",
       "      <td>153.745000</td>\n",
       "      <td>148.750000</td>\n",
       "      <td>151.462000</td>\n",
       "      <td>6.060400e+07</td>\n",
       "      <td>0.071350</td>\n",
       "      <td>2.546793</td>\n",
       "      <td>26.846123</td>\n",
       "    </tr>\n",
       "    <tr>\n",
       "      <th>75%</th>\n",
       "      <td>167.482000</td>\n",
       "      <td>167.482000</td>\n",
       "      <td>169.038000</td>\n",
       "      <td>165.613000</td>\n",
       "      <td>167.555000</td>\n",
       "      <td>8.208400e+07</td>\n",
       "      <td>1.236559</td>\n",
       "      <td>6.439290</td>\n",
       "      <td>76.255520</td>\n",
       "    </tr>\n",
       "    <tr>\n",
       "      <th>max</th>\n",
       "      <td>200.000000</td>\n",
       "      <td>200.000000</td>\n",
       "      <td>201.200000</td>\n",
       "      <td>199.050000</td>\n",
       "      <td>200.090000</td>\n",
       "      <td>3.113460e+08</td>\n",
       "      <td>13.535140</td>\n",
       "      <td>27.059599</td>\n",
       "      <td>80.880952</td>\n",
       "    </tr>\n",
       "  </tbody>\n",
       "</table>\n",
       "</div>"
      ],
      "text/plain": [
       "Price    adj_close        close         high          low         open  \\\n",
       "count  1257.000000  1257.000000  1257.000000  1257.000000  1257.000000   \n",
       "mean    142.587662   142.587662   144.359982   140.771759   142.626076   \n",
       "std      31.006411    31.006411    31.181270    30.874941    31.096448   \n",
       "min      81.820000    81.820000    83.480000    81.301000    82.076000   \n",
       "25%     115.890000   115.890000   118.240000   114.250000   116.280000   \n",
       "50%     151.122000   151.122000   153.745000   148.750000   151.462000   \n",
       "75%     167.482000   167.482000   169.038000   165.613000   167.555000   \n",
       "max     200.000000   200.000000   201.200000   199.050000   200.090000   \n",
       "\n",
       "Price        volume  daily_returns  monthly_return  annual_return  \n",
       "count  1.257000e+03    1256.000000       59.000000       5.000000  \n",
       "mean   6.907051e+07       0.086139        1.727313      27.348894  \n",
       "std    3.374720e+07       2.242374        9.469724      54.325080  \n",
       "min    1.762600e+07     -14.048798      -23.751971     -49.615216  \n",
       "25%    4.733940e+07      -1.100155       -4.730355       2.377092  \n",
       "50%    6.060400e+07       0.071350        2.546793      26.846123  \n",
       "75%    8.208400e+07       1.236559        6.439290      76.255520  \n",
       "max    3.113460e+08      13.535140       27.059599      80.880952  "
      ]
     },
     "execution_count": 78,
     "metadata": {},
     "output_type": "execute_result"
    }
   ],
   "source": [
    "amazon_merged = pd.merge(amazon_data, amazon_data_periods, on='date', how='outer')\n",
    "amazon_merged.describe()"
   ]
  },
  {
   "cell_type": "markdown",
   "id": "73fe4627-94cd-4837-a04b-d9abed7f65f9",
   "metadata": {},
   "source": [
    "# APPLE"
   ]
  },
  {
   "cell_type": "code",
   "execution_count": 79,
   "id": "ed80e050-3c97-4a67-a15e-ccee2a213984",
   "metadata": {},
   "outputs": [],
   "source": [
    "apple_data['daily_returns'] = apple_data.adj_close.pct_change() * 100\n",
    "if apple_data.index.name == 'date':\n",
    "    apple_data.reset_index(inplace=True)"
   ]
  },
  {
   "cell_type": "code",
   "execution_count": 80,
   "id": "7ffff487-c9b4-4026-b4d0-e7be0b82d368",
   "metadata": {},
   "outputs": [],
   "source": [
    "if 'date' in apple_data.columns:  # Ensure 'date' is only indexed if not already\n",
    "    apple_data.set_index('date', inplace=True)"
   ]
  },
  {
   "cell_type": "code",
   "execution_count": 81,
   "id": "84061cf2-cb04-4dd4-aad2-67e10277edc0",
   "metadata": {},
   "outputs": [
    {
     "name": "stderr",
     "output_type": "stream",
     "text": [
      "/var/folders/5c/sspsd_y15mj4xzggy_2t9r0w0000gn/T/ipykernel_33231/2017478003.py:2: FutureWarning:\n",
      "\n",
      "'M' is deprecated and will be removed in a future version, please use 'ME' instead.\n",
      "\n",
      "/var/folders/5c/sspsd_y15mj4xzggy_2t9r0w0000gn/T/ipykernel_33231/2017478003.py:6: FutureWarning:\n",
      "\n",
      "'A' is deprecated and will be removed in a future version, please use 'YE' instead.\n",
      "\n"
     ]
    },
    {
     "data": {
      "text/html": [
       "<div>\n",
       "<style scoped>\n",
       "    .dataframe tbody tr th:only-of-type {\n",
       "        vertical-align: middle;\n",
       "    }\n",
       "\n",
       "    .dataframe tbody tr th {\n",
       "        vertical-align: top;\n",
       "    }\n",
       "\n",
       "    .dataframe thead th {\n",
       "        text-align: right;\n",
       "    }\n",
       "</style>\n",
       "<table border=\"1\" class=\"dataframe\">\n",
       "  <thead>\n",
       "    <tr style=\"text-align: right;\">\n",
       "      <th>Price</th>\n",
       "      <th>monthly_return</th>\n",
       "      <th>annual_return</th>\n",
       "    </tr>\n",
       "  </thead>\n",
       "  <tbody>\n",
       "    <tr>\n",
       "      <th>count</th>\n",
       "      <td>59.000000</td>\n",
       "      <td>5.000000</td>\n",
       "    </tr>\n",
       "    <tr>\n",
       "      <th>mean</th>\n",
       "      <td>2.512118</td>\n",
       "      <td>31.905432</td>\n",
       "    </tr>\n",
       "    <tr>\n",
       "      <th>std</th>\n",
       "      <td>8.449826</td>\n",
       "      <td>39.946584</td>\n",
       "    </tr>\n",
       "    <tr>\n",
       "      <th>min</th>\n",
       "      <td>-12.227670</td>\n",
       "      <td>-26.404231</td>\n",
       "    </tr>\n",
       "    <tr>\n",
       "      <th>25%</th>\n",
       "      <td>-4.644163</td>\n",
       "      <td>19.967466</td>\n",
       "    </tr>\n",
       "    <tr>\n",
       "      <th>50%</th>\n",
       "      <td>2.317658</td>\n",
       "      <td>34.648252</td>\n",
       "    </tr>\n",
       "    <tr>\n",
       "      <th>75%</th>\n",
       "      <td>9.552157</td>\n",
       "      <td>49.008305</td>\n",
       "    </tr>\n",
       "    <tr>\n",
       "      <th>max</th>\n",
       "      <td>21.657421</td>\n",
       "      <td>82.307368</td>\n",
       "    </tr>\n",
       "  </tbody>\n",
       "</table>\n",
       "</div>"
      ],
      "text/plain": [
       "Price  monthly_return  annual_return\n",
       "count       59.000000       5.000000\n",
       "mean         2.512118      31.905432\n",
       "std          8.449826      39.946584\n",
       "min        -12.227670     -26.404231\n",
       "25%         -4.644163      19.967466\n",
       "50%          2.317658      34.648252\n",
       "75%          9.552157      49.008305\n",
       "max         21.657421      82.307368"
      ]
     },
     "execution_count": 81,
     "metadata": {},
     "output_type": "execute_result"
    }
   ],
   "source": [
    "# Calculate monthly returns\n",
    "apple_data_monthly = apple_data.resample(\"M\").last()\n",
    "apple_data_monthly['monthly_return'] = apple_data_monthly['adj_close'].pct_change() * 100\n",
    "\n",
    "# Calculate annual returns\n",
    "apple_data_annual = apple_data.resample(\"A\").last()\n",
    "apple_data_annual['annual_return'] = apple_data_annual['adj_close'].pct_change() * 100\n",
    "\n",
    "# Combine monthly and annual returns\n",
    "apple_data_periods = apple_data_monthly[['monthly_return']].join(apple_data_annual[['annual_return']], how='outer')\n",
    "\n",
    "# Reset index to make 'date' a column again\n",
    "apple_data_periods.reset_index(inplace=True)\n",
    "\n",
    "# Describe the combined DataFrame\n",
    "apple_data_periods.describe()"
   ]
  },
  {
   "cell_type": "code",
   "execution_count": 82,
   "id": "6a6a8362-756b-4564-9648-0882f8c230ab",
   "metadata": {},
   "outputs": [
    {
     "data": {
      "text/html": [
       "<div>\n",
       "<style scoped>\n",
       "    .dataframe tbody tr th:only-of-type {\n",
       "        vertical-align: middle;\n",
       "    }\n",
       "\n",
       "    .dataframe tbody tr th {\n",
       "        vertical-align: top;\n",
       "    }\n",
       "\n",
       "    .dataframe thead th {\n",
       "        text-align: right;\n",
       "    }\n",
       "</style>\n",
       "<table border=\"1\" class=\"dataframe\">\n",
       "  <thead>\n",
       "    <tr style=\"text-align: right;\">\n",
       "      <th>Price</th>\n",
       "      <th>adj_close</th>\n",
       "      <th>close</th>\n",
       "      <th>high</th>\n",
       "      <th>low</th>\n",
       "      <th>open</th>\n",
       "      <th>volume</th>\n",
       "      <th>daily_returns</th>\n",
       "      <th>monthly_return</th>\n",
       "      <th>annual_return</th>\n",
       "    </tr>\n",
       "  </thead>\n",
       "  <tbody>\n",
       "    <tr>\n",
       "      <th>count</th>\n",
       "      <td>1257.000000</td>\n",
       "      <td>1257.000000</td>\n",
       "      <td>1257.000000</td>\n",
       "      <td>1257.000000</td>\n",
       "      <td>1257.000000</td>\n",
       "      <td>1.257000e+03</td>\n",
       "      <td>1256.000000</td>\n",
       "      <td>59.000000</td>\n",
       "      <td>5.000000</td>\n",
       "    </tr>\n",
       "    <tr>\n",
       "      <th>mean</th>\n",
       "      <td>146.790401</td>\n",
       "      <td>148.460884</td>\n",
       "      <td>149.975009</td>\n",
       "      <td>146.785778</td>\n",
       "      <td>148.327029</td>\n",
       "      <td>9.243444e+07</td>\n",
       "      <td>0.124495</td>\n",
       "      <td>2.512118</td>\n",
       "      <td>31.905432</td>\n",
       "    </tr>\n",
       "    <tr>\n",
       "      <th>std</th>\n",
       "      <td>41.725533</td>\n",
       "      <td>41.182549</td>\n",
       "      <td>41.406939</td>\n",
       "      <td>40.936187</td>\n",
       "      <td>41.190178</td>\n",
       "      <td>5.296154e+07</td>\n",
       "      <td>1.996045</td>\n",
       "      <td>8.449826</td>\n",
       "      <td>39.946584</td>\n",
       "    </tr>\n",
       "    <tr>\n",
       "      <th>min</th>\n",
       "      <td>54.570000</td>\n",
       "      <td>56.092000</td>\n",
       "      <td>57.125000</td>\n",
       "      <td>53.153000</td>\n",
       "      <td>57.020000</td>\n",
       "      <td>2.404830e+07</td>\n",
       "      <td>-12.864243</td>\n",
       "      <td>-12.227670</td>\n",
       "      <td>-26.404231</td>\n",
       "    </tr>\n",
       "    <tr>\n",
       "      <th>25%</th>\n",
       "      <td>123.392000</td>\n",
       "      <td>125.570000</td>\n",
       "      <td>127.130000</td>\n",
       "      <td>124.260000</td>\n",
       "      <td>125.830000</td>\n",
       "      <td>5.738840e+07</td>\n",
       "      <td>-0.831007</td>\n",
       "      <td>-4.644163</td>\n",
       "      <td>19.967466</td>\n",
       "    </tr>\n",
       "    <tr>\n",
       "      <th>50%</th>\n",
       "      <td>148.198000</td>\n",
       "      <td>150.020000</td>\n",
       "      <td>151.350000</td>\n",
       "      <td>148.170000</td>\n",
       "      <td>149.690000</td>\n",
       "      <td>7.856970e+07</td>\n",
       "      <td>0.121065</td>\n",
       "      <td>2.317658</td>\n",
       "      <td>34.648252</td>\n",
       "    </tr>\n",
       "    <tr>\n",
       "      <th>75%</th>\n",
       "      <td>173.924000</td>\n",
       "      <td>175.460000</td>\n",
       "      <td>177.080000</td>\n",
       "      <td>173.790000</td>\n",
       "      <td>175.310000</td>\n",
       "      <td>1.091802e+08</td>\n",
       "      <td>1.213981</td>\n",
       "      <td>9.552157</td>\n",
       "      <td>49.008305</td>\n",
       "    </tr>\n",
       "    <tr>\n",
       "      <th>max</th>\n",
       "      <td>236.480000</td>\n",
       "      <td>236.480000</td>\n",
       "      <td>237.490000</td>\n",
       "      <td>234.450000</td>\n",
       "      <td>236.480000</td>\n",
       "      <td>4.265100e+08</td>\n",
       "      <td>11.980521</td>\n",
       "      <td>21.657421</td>\n",
       "      <td>82.307368</td>\n",
       "    </tr>\n",
       "  </tbody>\n",
       "</table>\n",
       "</div>"
      ],
      "text/plain": [
       "Price    adj_close        close         high          low         open  \\\n",
       "count  1257.000000  1257.000000  1257.000000  1257.000000  1257.000000   \n",
       "mean    146.790401   148.460884   149.975009   146.785778   148.327029   \n",
       "std      41.725533    41.182549    41.406939    40.936187    41.190178   \n",
       "min      54.570000    56.092000    57.125000    53.153000    57.020000   \n",
       "25%     123.392000   125.570000   127.130000   124.260000   125.830000   \n",
       "50%     148.198000   150.020000   151.350000   148.170000   149.690000   \n",
       "75%     173.924000   175.460000   177.080000   173.790000   175.310000   \n",
       "max     236.480000   236.480000   237.490000   234.450000   236.480000   \n",
       "\n",
       "Price        volume  daily_returns  monthly_return  annual_return  \n",
       "count  1.257000e+03    1256.000000       59.000000       5.000000  \n",
       "mean   9.243444e+07       0.124495        2.512118      31.905432  \n",
       "std    5.296154e+07       1.996045        8.449826      39.946584  \n",
       "min    2.404830e+07     -12.864243      -12.227670     -26.404231  \n",
       "25%    5.738840e+07      -0.831007       -4.644163      19.967466  \n",
       "50%    7.856970e+07       0.121065        2.317658      34.648252  \n",
       "75%    1.091802e+08       1.213981        9.552157      49.008305  \n",
       "max    4.265100e+08      11.980521       21.657421      82.307368  "
      ]
     },
     "execution_count": 82,
     "metadata": {},
     "output_type": "execute_result"
    }
   ],
   "source": [
    "apple_merged = pd.merge(apple_data, apple_data_periods, on='date', how='outer')\n",
    "apple_merged.describe()"
   ]
  },
  {
   "cell_type": "markdown",
   "id": "fa58e658-99c9-42f4-a6f8-4ed4323d7c05",
   "metadata": {},
   "source": [
    "# NETFLIX"
   ]
  },
  {
   "cell_type": "code",
   "execution_count": 83,
   "id": "cd89e1b1-c0c2-49ae-94a5-d2fcd48d0d86",
   "metadata": {},
   "outputs": [],
   "source": [
    "netflix_data['daily_returns'] = netflix_data.adj_close.pct_change() * 100\n",
    "if netflix_data.index.name == 'date':\n",
    "    netflix_data.reset_index(inplace=True)"
   ]
  },
  {
   "cell_type": "code",
   "execution_count": 84,
   "id": "26b1eda2-d784-43a5-91a7-c63a6cbb874d",
   "metadata": {},
   "outputs": [],
   "source": [
    "if 'date' in netflix_data.columns:  # Ensure 'date' is only indexed if not already\n",
    "    netflix_data.set_index('date', inplace=True)"
   ]
  },
  {
   "cell_type": "code",
   "execution_count": 85,
   "id": "eb109589-b32a-45f5-a131-6c1e508ca4e3",
   "metadata": {},
   "outputs": [
    {
     "name": "stderr",
     "output_type": "stream",
     "text": [
      "/var/folders/5c/sspsd_y15mj4xzggy_2t9r0w0000gn/T/ipykernel_33231/2005235484.py:2: FutureWarning:\n",
      "\n",
      "'M' is deprecated and will be removed in a future version, please use 'ME' instead.\n",
      "\n",
      "/var/folders/5c/sspsd_y15mj4xzggy_2t9r0w0000gn/T/ipykernel_33231/2005235484.py:6: FutureWarning:\n",
      "\n",
      "'A' is deprecated and will be removed in a future version, please use 'YE' instead.\n",
      "\n"
     ]
    },
    {
     "data": {
      "text/html": [
       "<div>\n",
       "<style scoped>\n",
       "    .dataframe tbody tr th:only-of-type {\n",
       "        vertical-align: middle;\n",
       "    }\n",
       "\n",
       "    .dataframe tbody tr th {\n",
       "        vertical-align: top;\n",
       "    }\n",
       "\n",
       "    .dataframe thead th {\n",
       "        text-align: right;\n",
       "    }\n",
       "</style>\n",
       "<table border=\"1\" class=\"dataframe\">\n",
       "  <thead>\n",
       "    <tr style=\"text-align: right;\">\n",
       "      <th>Price</th>\n",
       "      <th>monthly_return</th>\n",
       "      <th>annual_return</th>\n",
       "    </tr>\n",
       "  </thead>\n",
       "  <tbody>\n",
       "    <tr>\n",
       "      <th>count</th>\n",
       "      <td>59.000000</td>\n",
       "      <td>5.000000</td>\n",
       "    </tr>\n",
       "    <tr>\n",
       "      <th>mean</th>\n",
       "      <td>2.292402</td>\n",
       "      <td>29.479035</td>\n",
       "    </tr>\n",
       "    <tr>\n",
       "      <th>std</th>\n",
       "      <td>11.875413</td>\n",
       "      <td>50.347319</td>\n",
       "    </tr>\n",
       "    <tr>\n",
       "      <th>min</th>\n",
       "      <td>-49.181772</td>\n",
       "      <td>-51.052387</td>\n",
       "    </tr>\n",
       "    <tr>\n",
       "      <th>25%</th>\n",
       "      <td>-3.337937</td>\n",
       "      <td>11.412350</td>\n",
       "    </tr>\n",
       "    <tr>\n",
       "      <th>50%</th>\n",
       "      <td>2.831628</td>\n",
       "      <td>54.810220</td>\n",
       "    </tr>\n",
       "    <tr>\n",
       "      <th>75%</th>\n",
       "      <td>8.366806</td>\n",
       "      <td>65.111232</td>\n",
       "    </tr>\n",
       "    <tr>\n",
       "      <th>max</th>\n",
       "      <td>28.609824</td>\n",
       "      <td>67.113762</td>\n",
       "    </tr>\n",
       "  </tbody>\n",
       "</table>\n",
       "</div>"
      ],
      "text/plain": [
       "Price  monthly_return  annual_return\n",
       "count       59.000000       5.000000\n",
       "mean         2.292402      29.479035\n",
       "std         11.875413      50.347319\n",
       "min        -49.181772     -51.052387\n",
       "25%         -3.337937      11.412350\n",
       "50%          2.831628      54.810220\n",
       "75%          8.366806      65.111232\n",
       "max         28.609824      67.113762"
      ]
     },
     "execution_count": 85,
     "metadata": {},
     "output_type": "execute_result"
    }
   ],
   "source": [
    "# Calculate monthly returns\n",
    "netflix_data_monthly = netflix_data.resample(\"M\").last()\n",
    "netflix_data_monthly['monthly_return'] = netflix_data_monthly['adj_close'].pct_change() * 100\n",
    "\n",
    "# Calculate annual returns\n",
    "netflix_data_annual = netflix_data.resample(\"A\").last()\n",
    "netflix_data_annual['annual_return'] = netflix_data_annual['adj_close'].pct_change() * 100\n",
    "\n",
    "# Combine monthly and annual returns\n",
    "netflix_data_periods = netflix_data_monthly[['monthly_return']].join(netflix_data_annual[['annual_return']], how='outer')\n",
    "\n",
    "# Reset index to make 'date' a column again\n",
    "netflix_data_periods.reset_index(inplace=True)\n",
    "\n",
    "# Describe the combined DataFrame\n",
    "netflix_data_periods.describe()"
   ]
  },
  {
   "cell_type": "code",
   "execution_count": 86,
   "id": "6c3ed5ea-f8d9-4fc3-ae26-7d20ea9f3111",
   "metadata": {},
   "outputs": [
    {
     "data": {
      "text/html": [
       "<div>\n",
       "<style scoped>\n",
       "    .dataframe tbody tr th:only-of-type {\n",
       "        vertical-align: middle;\n",
       "    }\n",
       "\n",
       "    .dataframe tbody tr th {\n",
       "        vertical-align: top;\n",
       "    }\n",
       "\n",
       "    .dataframe thead th {\n",
       "        text-align: right;\n",
       "    }\n",
       "</style>\n",
       "<table border=\"1\" class=\"dataframe\">\n",
       "  <thead>\n",
       "    <tr style=\"text-align: right;\">\n",
       "      <th>Price</th>\n",
       "      <th>adj_close</th>\n",
       "      <th>close</th>\n",
       "      <th>high</th>\n",
       "      <th>low</th>\n",
       "      <th>open</th>\n",
       "      <th>volume</th>\n",
       "      <th>daily_returns</th>\n",
       "      <th>monthly_return</th>\n",
       "      <th>annual_return</th>\n",
       "    </tr>\n",
       "  </thead>\n",
       "  <tbody>\n",
       "    <tr>\n",
       "      <th>count</th>\n",
       "      <td>1257.000000</td>\n",
       "      <td>1257.000000</td>\n",
       "      <td>1257.000000</td>\n",
       "      <td>1257.00000</td>\n",
       "      <td>1257.000000</td>\n",
       "      <td>1.257000e+03</td>\n",
       "      <td>1256.000000</td>\n",
       "      <td>59.000000</td>\n",
       "      <td>5.000000</td>\n",
       "    </tr>\n",
       "    <tr>\n",
       "      <th>mean</th>\n",
       "      <td>451.815879</td>\n",
       "      <td>451.815879</td>\n",
       "      <td>458.323429</td>\n",
       "      <td>445.06961</td>\n",
       "      <td>451.690072</td>\n",
       "      <td>6.434492e+06</td>\n",
       "      <td>0.119630</td>\n",
       "      <td>2.292402</td>\n",
       "      <td>29.479035</td>\n",
       "    </tr>\n",
       "    <tr>\n",
       "      <th>std</th>\n",
       "      <td>138.915204</td>\n",
       "      <td>138.915204</td>\n",
       "      <td>139.797978</td>\n",
       "      <td>138.13267</td>\n",
       "      <td>139.166035</td>\n",
       "      <td>6.307489e+06</td>\n",
       "      <td>2.870541</td>\n",
       "      <td>11.875413</td>\n",
       "      <td>50.347319</td>\n",
       "    </tr>\n",
       "    <tr>\n",
       "      <th>min</th>\n",
       "      <td>166.370000</td>\n",
       "      <td>166.370000</td>\n",
       "      <td>172.060000</td>\n",
       "      <td>162.71000</td>\n",
       "      <td>163.960000</td>\n",
       "      <td>1.144000e+06</td>\n",
       "      <td>-35.116606</td>\n",
       "      <td>-49.181772</td>\n",
       "      <td>-51.052387</td>\n",
       "    </tr>\n",
       "    <tr>\n",
       "      <th>25%</th>\n",
       "      <td>342.880000</td>\n",
       "      <td>342.880000</td>\n",
       "      <td>348.510000</td>\n",
       "      <td>337.64000</td>\n",
       "      <td>343.450000</td>\n",
       "      <td>3.355900e+06</td>\n",
       "      <td>-1.187175</td>\n",
       "      <td>-3.337937</td>\n",
       "      <td>11.412350</td>\n",
       "    </tr>\n",
       "    <tr>\n",
       "      <th>50%</th>\n",
       "      <td>465.910000</td>\n",
       "      <td>465.910000</td>\n",
       "      <td>470.650000</td>\n",
       "      <td>457.21000</td>\n",
       "      <td>463.000000</td>\n",
       "      <td>4.926800e+06</td>\n",
       "      <td>0.071874</td>\n",
       "      <td>2.831628</td>\n",
       "      <td>54.810220</td>\n",
       "    </tr>\n",
       "    <tr>\n",
       "      <th>75%</th>\n",
       "      <td>548.730000</td>\n",
       "      <td>548.730000</td>\n",
       "      <td>555.880000</td>\n",
       "      <td>541.01000</td>\n",
       "      <td>549.460000</td>\n",
       "      <td>7.390000e+06</td>\n",
       "      <td>1.426543</td>\n",
       "      <td>8.366806</td>\n",
       "      <td>65.111232</td>\n",
       "    </tr>\n",
       "    <tr>\n",
       "      <th>max</th>\n",
       "      <td>772.070000</td>\n",
       "      <td>772.070000</td>\n",
       "      <td>773.000000</td>\n",
       "      <td>761.12000</td>\n",
       "      <td>765.760000</td>\n",
       "      <td>1.333875e+08</td>\n",
       "      <td>16.854336</td>\n",
       "      <td>28.609824</td>\n",
       "      <td>67.113762</td>\n",
       "    </tr>\n",
       "  </tbody>\n",
       "</table>\n",
       "</div>"
      ],
      "text/plain": [
       "Price    adj_close        close         high         low         open  \\\n",
       "count  1257.000000  1257.000000  1257.000000  1257.00000  1257.000000   \n",
       "mean    451.815879   451.815879   458.323429   445.06961   451.690072   \n",
       "std     138.915204   138.915204   139.797978   138.13267   139.166035   \n",
       "min     166.370000   166.370000   172.060000   162.71000   163.960000   \n",
       "25%     342.880000   342.880000   348.510000   337.64000   343.450000   \n",
       "50%     465.910000   465.910000   470.650000   457.21000   463.000000   \n",
       "75%     548.730000   548.730000   555.880000   541.01000   549.460000   \n",
       "max     772.070000   772.070000   773.000000   761.12000   765.760000   \n",
       "\n",
       "Price        volume  daily_returns  monthly_return  annual_return  \n",
       "count  1.257000e+03    1256.000000       59.000000       5.000000  \n",
       "mean   6.434492e+06       0.119630        2.292402      29.479035  \n",
       "std    6.307489e+06       2.870541       11.875413      50.347319  \n",
       "min    1.144000e+06     -35.116606      -49.181772     -51.052387  \n",
       "25%    3.355900e+06      -1.187175       -3.337937      11.412350  \n",
       "50%    4.926800e+06       0.071874        2.831628      54.810220  \n",
       "75%    7.390000e+06       1.426543        8.366806      65.111232  \n",
       "max    1.333875e+08      16.854336       28.609824      67.113762  "
      ]
     },
     "execution_count": 86,
     "metadata": {},
     "output_type": "execute_result"
    }
   ],
   "source": [
    "netflix_merged = pd.merge(netflix_data, netflix_data_periods, on='date', how='outer')\n",
    "netflix_merged.describe()"
   ]
  },
  {
   "cell_type": "markdown",
   "id": "f9e3ce18-c169-4b56-9aa1-5c26fa9d1fbc",
   "metadata": {},
   "source": [
    "# GOOGLE"
   ]
  },
  {
   "cell_type": "code",
   "execution_count": 87,
   "id": "562ac934-2304-43ce-ad6d-336760e3ec4d",
   "metadata": {},
   "outputs": [],
   "source": [
    "google_data['daily_returns'] = google_data.adj_close.pct_change() * 100\n",
    "if google_data.index.name == 'date':\n",
    "    google_data.reset_index(inplace=True)"
   ]
  },
  {
   "cell_type": "code",
   "execution_count": 88,
   "id": "540e588f-d4f8-4bdf-8b32-85e9ff759b7e",
   "metadata": {},
   "outputs": [],
   "source": [
    "if 'date' in google_data.columns:  # Ensure 'date' is only indexed if not already\n",
    "    google_data.set_index('date', inplace=True)"
   ]
  },
  {
   "cell_type": "code",
   "execution_count": 89,
   "id": "bec57991-3632-45bf-bf3c-a784d2d77cc8",
   "metadata": {},
   "outputs": [
    {
     "name": "stderr",
     "output_type": "stream",
     "text": [
      "/var/folders/5c/sspsd_y15mj4xzggy_2t9r0w0000gn/T/ipykernel_33231/141737403.py:2: FutureWarning:\n",
      "\n",
      "'M' is deprecated and will be removed in a future version, please use 'ME' instead.\n",
      "\n",
      "/var/folders/5c/sspsd_y15mj4xzggy_2t9r0w0000gn/T/ipykernel_33231/141737403.py:6: FutureWarning:\n",
      "\n",
      "'A' is deprecated and will be removed in a future version, please use 'YE' instead.\n",
      "\n"
     ]
    },
    {
     "data": {
      "text/html": [
       "<div>\n",
       "<style scoped>\n",
       "    .dataframe tbody tr th:only-of-type {\n",
       "        vertical-align: middle;\n",
       "    }\n",
       "\n",
       "    .dataframe tbody tr th {\n",
       "        vertical-align: top;\n",
       "    }\n",
       "\n",
       "    .dataframe thead th {\n",
       "        text-align: right;\n",
       "    }\n",
       "</style>\n",
       "<table border=\"1\" class=\"dataframe\">\n",
       "  <thead>\n",
       "    <tr style=\"text-align: right;\">\n",
       "      <th>Price</th>\n",
       "      <th>monthly_return</th>\n",
       "      <th>annual_return</th>\n",
       "    </tr>\n",
       "  </thead>\n",
       "  <tbody>\n",
       "    <tr>\n",
       "      <th>count</th>\n",
       "      <td>59.000000</td>\n",
       "      <td>5.000000</td>\n",
       "    </tr>\n",
       "    <tr>\n",
       "      <th>mean</th>\n",
       "      <td>2.003031</td>\n",
       "      <td>28.329855</td>\n",
       "    </tr>\n",
       "    <tr>\n",
       "      <th>std</th>\n",
       "      <td>7.819297</td>\n",
       "      <td>41.210362</td>\n",
       "    </tr>\n",
       "    <tr>\n",
       "      <th>min</th>\n",
       "      <td>-17.674632</td>\n",
       "      <td>-38.671055</td>\n",
       "    </tr>\n",
       "    <tr>\n",
       "      <th>25%</th>\n",
       "      <td>-3.964394</td>\n",
       "      <td>25.290749</td>\n",
       "    </tr>\n",
       "    <tr>\n",
       "      <th>50%</th>\n",
       "      <td>3.185625</td>\n",
       "      <td>31.028536</td>\n",
       "    </tr>\n",
       "    <tr>\n",
       "      <th>75%</th>\n",
       "      <td>7.422430</td>\n",
       "      <td>58.829776</td>\n",
       "    </tr>\n",
       "    <tr>\n",
       "      <th>max</th>\n",
       "      <td>16.508364</td>\n",
       "      <td>65.171265</td>\n",
       "    </tr>\n",
       "  </tbody>\n",
       "</table>\n",
       "</div>"
      ],
      "text/plain": [
       "Price  monthly_return  annual_return\n",
       "count       59.000000       5.000000\n",
       "mean         2.003031      28.329855\n",
       "std          7.819297      41.210362\n",
       "min        -17.674632     -38.671055\n",
       "25%         -3.964394      25.290749\n",
       "50%          3.185625      31.028536\n",
       "75%          7.422430      58.829776\n",
       "max         16.508364      65.171265"
      ]
     },
     "execution_count": 89,
     "metadata": {},
     "output_type": "execute_result"
    }
   ],
   "source": [
    "# Calculate monthly returns\n",
    "google_data_monthly = google_data.resample(\"M\").last()\n",
    "google_data_monthly['monthly_return'] = google_data_monthly['adj_close'].pct_change() * 100\n",
    "\n",
    "# Calculate annual returns\n",
    "google_data_annual = google_data.resample(\"A\").last()\n",
    "google_data_annual['annual_return'] = google_data_annual['adj_close'].pct_change() * 100\n",
    "\n",
    "# Combine monthly and annual returns\n",
    "google_data_periods = google_data_monthly[['monthly_return']].join(google_data_annual[['annual_return']], how='outer')\n",
    "\n",
    "# Reset index to make 'date' a column again\n",
    "google_data_periods.reset_index(inplace=True)\n",
    "\n",
    "# Describe the combined DataFrame\n",
    "google_data_periods.describe()"
   ]
  },
  {
   "cell_type": "code",
   "execution_count": 90,
   "id": "e12479c2-b074-48c8-b166-c21e6e096e4a",
   "metadata": {},
   "outputs": [
    {
     "data": {
      "text/html": [
       "<div>\n",
       "<style scoped>\n",
       "    .dataframe tbody tr th:only-of-type {\n",
       "        vertical-align: middle;\n",
       "    }\n",
       "\n",
       "    .dataframe tbody tr th {\n",
       "        vertical-align: top;\n",
       "    }\n",
       "\n",
       "    .dataframe thead th {\n",
       "        text-align: right;\n",
       "    }\n",
       "</style>\n",
       "<table border=\"1\" class=\"dataframe\">\n",
       "  <thead>\n",
       "    <tr style=\"text-align: right;\">\n",
       "      <th>Price</th>\n",
       "      <th>adj_close</th>\n",
       "      <th>close</th>\n",
       "      <th>high</th>\n",
       "      <th>low</th>\n",
       "      <th>open</th>\n",
       "      <th>volume</th>\n",
       "      <th>daily_returns</th>\n",
       "      <th>monthly_return</th>\n",
       "      <th>annual_return</th>\n",
       "    </tr>\n",
       "  </thead>\n",
       "  <tbody>\n",
       "    <tr>\n",
       "      <th>count</th>\n",
       "      <td>1257.000000</td>\n",
       "      <td>1257.000000</td>\n",
       "      <td>1257.000000</td>\n",
       "      <td>1257.000000</td>\n",
       "      <td>1257.000000</td>\n",
       "      <td>1.257000e+03</td>\n",
       "      <td>1256.000000</td>\n",
       "      <td>59.000000</td>\n",
       "      <td>5.000000</td>\n",
       "    </tr>\n",
       "    <tr>\n",
       "      <th>mean</th>\n",
       "      <td>115.824842</td>\n",
       "      <td>116.087342</td>\n",
       "      <td>117.339185</td>\n",
       "      <td>114.813201</td>\n",
       "      <td>116.010182</td>\n",
       "      <td>2.759564e+07</td>\n",
       "      <td>0.101468</td>\n",
       "      <td>2.003031</td>\n",
       "      <td>28.329855</td>\n",
       "    </tr>\n",
       "    <tr>\n",
       "      <th>std</th>\n",
       "      <td>32.067377</td>\n",
       "      <td>32.110011</td>\n",
       "      <td>32.350877</td>\n",
       "      <td>31.921605</td>\n",
       "      <td>32.164535</td>\n",
       "      <td>1.266605e+07</td>\n",
       "      <td>2.011587</td>\n",
       "      <td>7.819297</td>\n",
       "      <td>41.210362</td>\n",
       "    </tr>\n",
       "    <tr>\n",
       "      <th>min</th>\n",
       "      <td>52.702000</td>\n",
       "      <td>52.831000</td>\n",
       "      <td>53.566000</td>\n",
       "      <td>50.677000</td>\n",
       "      <td>52.826000</td>\n",
       "      <td>6.936000e+06</td>\n",
       "      <td>-11.100153</td>\n",
       "      <td>-17.674632</td>\n",
       "      <td>-38.671055</td>\n",
       "    </tr>\n",
       "    <tr>\n",
       "      <th>25%</th>\n",
       "      <td>89.324000</td>\n",
       "      <td>89.543000</td>\n",
       "      <td>90.830000</td>\n",
       "      <td>88.468000</td>\n",
       "      <td>89.540000</td>\n",
       "      <td>1.916600e+07</td>\n",
       "      <td>-0.894330</td>\n",
       "      <td>-3.964394</td>\n",
       "      <td>25.290749</td>\n",
       "    </tr>\n",
       "    <tr>\n",
       "      <th>50%</th>\n",
       "      <td>117.424000</td>\n",
       "      <td>117.713000</td>\n",
       "      <td>118.960000</td>\n",
       "      <td>116.234000</td>\n",
       "      <td>117.115000</td>\n",
       "      <td>2.461000e+07</td>\n",
       "      <td>0.205491</td>\n",
       "      <td>3.185625</td>\n",
       "      <td>31.028536</td>\n",
       "    </tr>\n",
       "    <tr>\n",
       "      <th>75%</th>\n",
       "      <td>138.845000</td>\n",
       "      <td>139.186000</td>\n",
       "      <td>140.635000</td>\n",
       "      <td>138.005000</td>\n",
       "      <td>139.273000</td>\n",
       "      <td>3.211000e+07</td>\n",
       "      <td>1.104997</td>\n",
       "      <td>7.422430</td>\n",
       "      <td>58.829776</td>\n",
       "    </tr>\n",
       "    <tr>\n",
       "      <th>max</th>\n",
       "      <td>192.407000</td>\n",
       "      <td>192.660000</td>\n",
       "      <td>193.310000</td>\n",
       "      <td>190.620000</td>\n",
       "      <td>191.750000</td>\n",
       "      <td>9.779860e+07</td>\n",
       "      <td>9.964903</td>\n",
       "      <td>16.508364</td>\n",
       "      <td>65.171265</td>\n",
       "    </tr>\n",
       "  </tbody>\n",
       "</table>\n",
       "</div>"
      ],
      "text/plain": [
       "Price    adj_close        close         high          low         open  \\\n",
       "count  1257.000000  1257.000000  1257.000000  1257.000000  1257.000000   \n",
       "mean    115.824842   116.087342   117.339185   114.813201   116.010182   \n",
       "std      32.067377    32.110011    32.350877    31.921605    32.164535   \n",
       "min      52.702000    52.831000    53.566000    50.677000    52.826000   \n",
       "25%      89.324000    89.543000    90.830000    88.468000    89.540000   \n",
       "50%     117.424000   117.713000   118.960000   116.234000   117.115000   \n",
       "75%     138.845000   139.186000   140.635000   138.005000   139.273000   \n",
       "max     192.407000   192.660000   193.310000   190.620000   191.750000   \n",
       "\n",
       "Price        volume  daily_returns  monthly_return  annual_return  \n",
       "count  1.257000e+03    1256.000000       59.000000       5.000000  \n",
       "mean   2.759564e+07       0.101468        2.003031      28.329855  \n",
       "std    1.266605e+07       2.011587        7.819297      41.210362  \n",
       "min    6.936000e+06     -11.100153      -17.674632     -38.671055  \n",
       "25%    1.916600e+07      -0.894330       -3.964394      25.290749  \n",
       "50%    2.461000e+07       0.205491        3.185625      31.028536  \n",
       "75%    3.211000e+07       1.104997        7.422430      58.829776  \n",
       "max    9.779860e+07       9.964903       16.508364      65.171265  "
      ]
     },
     "execution_count": 90,
     "metadata": {},
     "output_type": "execute_result"
    }
   ],
   "source": [
    "google_merged = pd.merge(google_data, google_data_periods, on='date', how='outer')\n",
    "google_merged.describe()"
   ]
  },
  {
   "cell_type": "markdown",
   "id": "af9332d2",
   "metadata": {},
   "source": [
    "# FINANCE COMPANIES"
   ]
  },
  {
   "cell_type": "code",
   "execution_count": 93,
   "id": "538373cc",
   "metadata": {},
   "outputs": [],
   "source": [
    "df_JPM = pd.read_csv('../data/clean/analysis_JPM.csv')\n",
    "df_GS = pd.read_csv('../data/clean/analysis_GS.csv')\n",
    "df_MSFT = pd.read_csv('../data/clean/analysis_MSFT.csv')\n",
    "df_NVDA = pd.read_csv('../data/clean/analysis_NVDA.csv')\n",
    "df_ENSG = pd.read_csv('ENSG_anlysis.csv')\n",
    "df_UBS = pd.read_csv('UBS_anlysis.csv')\n",
    "\n",
    "renaming = {'monthly_returns': 'monthly_return', 'annual_returns': 'annual_return'}\n",
    "\n",
    "def adapt_df(df, company):\n",
    "    df_filtered = df[['volume', 'daily_returns', 'monthly_returns', 'annual_returns']].rename(columns = renaming)\n",
    "    df_filtered['company'] = company\n",
    "    df_filtered = df_filtered[['volume', 'daily_returns', 'monthly_return', 'annual_return', 'company']]\n",
    "    return df_filtered\n",
    "\n",
    "JPM_filtered = adapt_df(df_JPM, 'JP Morgan')\n",
    "GS_filtered = adapt_df(df_GS, 'Goldman Sachs')\n",
    "MSFT_filtered = adapt_df(df_MSFT, 'microsoft')\n",
    "NVDA_filtered = adapt_df(df_NVDA, 'nvidia')\n",
    "ENSG_filtered = adapt_df(df_ENSG, 'ENSG')\n",
    "UBS_filtered = adapt_df(df_UBS, 'UBS')"
   ]
  },
  {
   "cell_type": "markdown",
   "id": "4d7d603e-c183-4dd3-8e61-6384a81e2348",
   "metadata": {},
   "source": [
    "# GRAPHS"
   ]
  },
  {
   "cell_type": "code",
   "execution_count": 94,
   "id": "13dcd97c-7d0e-41e3-8399-66998861bd06",
   "metadata": {},
   "outputs": [],
   "source": [
    "facebook_stats=facebook_merged.describe()\n",
    "apple_stats=apple_merged.describe()\n",
    "amazon_stats=amazon_merged.describe()\n",
    "netflix_stats=netflix_merged.describe()\n",
    "google_stats=google_merged.describe()"
   ]
  },
  {
   "cell_type": "code",
   "execution_count": 95,
   "id": "20e66813-bbf0-4b73-b921-0f857630d598",
   "metadata": {},
   "outputs": [],
   "source": [
    "google_filtered = google_stats.loc[['mean', 'std'], ['volume', 'daily_returns', 'monthly_return', 'annual_return']]\n",
    "google_filtered['company'] = 'Google'\n",
    "facebook_filtered = facebook_stats.loc[['mean', 'std'], ['volume', 'daily_returns', 'monthly_return', 'annual_return']]\n",
    "facebook_filtered['company'] = 'Facebook'\n",
    "apple_filtered = apple_stats.loc[['mean', 'std'], ['volume', 'daily_returns', 'monthly_return', 'annual_return']]\n",
    "apple_filtered['company'] = 'Apple'\n",
    "amazon_filtered = amazon_stats.loc[['mean', 'std'], ['volume', 'daily_returns', 'monthly_return', 'annual_return']]\n",
    "amazon_filtered['company'] = 'Amazon'\n",
    "netflix_filtered = netflix_stats.loc[['mean', 'std'], ['volume', 'daily_returns', 'monthly_return', 'annual_return']]\n",
    "netflix_filtered['company'] = 'Netflix'"
   ]
  },
  {
   "cell_type": "code",
   "execution_count": null,
   "id": "789d5bef",
   "metadata": {},
   "outputs": [
    {
     "data": {
      "text/html": [
       "<div>\n",
       "<style scoped>\n",
       "    .dataframe tbody tr th:only-of-type {\n",
       "        vertical-align: middle;\n",
       "    }\n",
       "\n",
       "    .dataframe tbody tr th {\n",
       "        vertical-align: top;\n",
       "    }\n",
       "\n",
       "    .dataframe thead th {\n",
       "        text-align: right;\n",
       "    }\n",
       "</style>\n",
       "<table border=\"1\" class=\"dataframe\">\n",
       "  <thead>\n",
       "    <tr style=\"text-align: right;\">\n",
       "      <th></th>\n",
       "      <th>volume</th>\n",
       "      <th>daily_returns</th>\n",
       "      <th>monthly_return</th>\n",
       "      <th>annual_return</th>\n",
       "      <th>company</th>\n",
       "      <th>statistic</th>\n",
       "    </tr>\n",
       "  </thead>\n",
       "  <tbody>\n",
       "    <tr>\n",
       "      <th>mean</th>\n",
       "      <td>2.759564e+07</td>\n",
       "      <td>0.101468</td>\n",
       "      <td>2.003031</td>\n",
       "      <td>28.329855</td>\n",
       "      <td>Google</td>\n",
       "      <td>mean</td>\n",
       "    </tr>\n",
       "    <tr>\n",
       "      <th>std</th>\n",
       "      <td>1.266605e+07</td>\n",
       "      <td>2.011587</td>\n",
       "      <td>7.819297</td>\n",
       "      <td>41.210362</td>\n",
       "      <td>Google</td>\n",
       "      <td>std</td>\n",
       "    </tr>\n",
       "    <tr>\n",
       "      <th>mean</th>\n",
       "      <td>2.316552e+07</td>\n",
       "      <td>0.129444</td>\n",
       "      <td>2.579514</td>\n",
       "      <td>50.765503</td>\n",
       "      <td>Facebook</td>\n",
       "      <td>mean</td>\n",
       "    </tr>\n",
       "    <tr>\n",
       "      <th>std</th>\n",
       "      <td>1.569375e+07</td>\n",
       "      <td>2.818176</td>\n",
       "      <td>11.967447</td>\n",
       "      <td>93.726872</td>\n",
       "      <td>Facebook</td>\n",
       "      <td>std</td>\n",
       "    </tr>\n",
       "    <tr>\n",
       "      <th>mean</th>\n",
       "      <td>9.243444e+07</td>\n",
       "      <td>0.124495</td>\n",
       "      <td>2.512118</td>\n",
       "      <td>31.905432</td>\n",
       "      <td>Apple</td>\n",
       "      <td>mean</td>\n",
       "    </tr>\n",
       "    <tr>\n",
       "      <th>std</th>\n",
       "      <td>5.296154e+07</td>\n",
       "      <td>1.996045</td>\n",
       "      <td>8.449826</td>\n",
       "      <td>39.946584</td>\n",
       "      <td>Apple</td>\n",
       "      <td>std</td>\n",
       "    </tr>\n",
       "    <tr>\n",
       "      <th>mean</th>\n",
       "      <td>6.907051e+07</td>\n",
       "      <td>0.086139</td>\n",
       "      <td>1.727313</td>\n",
       "      <td>27.348894</td>\n",
       "      <td>Amazon</td>\n",
       "      <td>mean</td>\n",
       "    </tr>\n",
       "    <tr>\n",
       "      <th>std</th>\n",
       "      <td>3.374720e+07</td>\n",
       "      <td>2.242374</td>\n",
       "      <td>9.469724</td>\n",
       "      <td>54.325080</td>\n",
       "      <td>Amazon</td>\n",
       "      <td>std</td>\n",
       "    </tr>\n",
       "    <tr>\n",
       "      <th>mean</th>\n",
       "      <td>6.434492e+06</td>\n",
       "      <td>0.119630</td>\n",
       "      <td>2.292402</td>\n",
       "      <td>29.479035</td>\n",
       "      <td>Netflix</td>\n",
       "      <td>mean</td>\n",
       "    </tr>\n",
       "    <tr>\n",
       "      <th>std</th>\n",
       "      <td>6.307489e+06</td>\n",
       "      <td>2.870541</td>\n",
       "      <td>11.875413</td>\n",
       "      <td>50.347319</td>\n",
       "      <td>Netflix</td>\n",
       "      <td>std</td>\n",
       "    </tr>\n",
       "    <tr>\n",
       "      <th>0</th>\n",
       "      <td>4.500752e+08</td>\n",
       "      <td>0.326000</td>\n",
       "      <td>6.615000</td>\n",
       "      <td>125.479000</td>\n",
       "      <td>microsoft</td>\n",
       "      <td>mean</td>\n",
       "    </tr>\n",
       "    <tr>\n",
       "      <th>1</th>\n",
       "      <td>1.861858e+08</td>\n",
       "      <td>3.381000</td>\n",
       "      <td>14.346000</td>\n",
       "      <td>109.615000</td>\n",
       "      <td>microsoft</td>\n",
       "      <td>std</td>\n",
       "    </tr>\n",
       "    <tr>\n",
       "      <th>0</th>\n",
       "      <td>4.500752e+08</td>\n",
       "      <td>0.326000</td>\n",
       "      <td>6.615000</td>\n",
       "      <td>125.479000</td>\n",
       "      <td>nvidia</td>\n",
       "      <td>mean</td>\n",
       "    </tr>\n",
       "    <tr>\n",
       "      <th>1</th>\n",
       "      <td>1.861858e+08</td>\n",
       "      <td>3.381000</td>\n",
       "      <td>14.346000</td>\n",
       "      <td>109.615000</td>\n",
       "      <td>nvidia</td>\n",
       "      <td>std</td>\n",
       "    </tr>\n",
       "    <tr>\n",
       "      <th>0</th>\n",
       "      <td>1.313218e+07</td>\n",
       "      <td>0.083000</td>\n",
       "      <td>1.578000</td>\n",
       "      <td>17.228000</td>\n",
       "      <td>JP Morgan</td>\n",
       "      <td>mean</td>\n",
       "    </tr>\n",
       "    <tr>\n",
       "      <th>1</th>\n",
       "      <td>7.039448e+06</td>\n",
       "      <td>2.030000</td>\n",
       "      <td>7.945000</td>\n",
       "      <td>25.125000</td>\n",
       "      <td>JP Morgan</td>\n",
       "      <td>std</td>\n",
       "    </tr>\n",
       "    <tr>\n",
       "      <th>0</th>\n",
       "      <td>2.694719e+06</td>\n",
       "      <td>0.111000</td>\n",
       "      <td>2.245000</td>\n",
       "      <td>25.833000</td>\n",
       "      <td>Goldman Sachs</td>\n",
       "      <td>mean</td>\n",
       "    </tr>\n",
       "    <tr>\n",
       "      <th>1</th>\n",
       "      <td>1.362002e+06</td>\n",
       "      <td>2.074000</td>\n",
       "      <td>9.006000</td>\n",
       "      <td>25.947000</td>\n",
       "      <td>Goldman Sachs</td>\n",
       "      <td>std</td>\n",
       "    </tr>\n",
       "    <tr>\n",
       "      <th>0</th>\n",
       "      <td>2.864280e+05</td>\n",
       "      <td>0.134000</td>\n",
       "      <td>2.451000</td>\n",
       "      <td>27.565000</td>\n",
       "      <td>ENSG</td>\n",
       "      <td>mean</td>\n",
       "    </tr>\n",
       "    <tr>\n",
       "      <th>1</th>\n",
       "      <td>3.449076e+05</td>\n",
       "      <td>2.522000</td>\n",
       "      <td>8.198000</td>\n",
       "      <td>20.245000</td>\n",
       "      <td>ENSG</td>\n",
       "      <td>std</td>\n",
       "    </tr>\n",
       "    <tr>\n",
       "      <th>0</th>\n",
       "      <td>3.051076e+06</td>\n",
       "      <td>0.114000</td>\n",
       "      <td>2.247000</td>\n",
       "      <td>29.969000</td>\n",
       "      <td>UBS</td>\n",
       "      <td>mean</td>\n",
       "    </tr>\n",
       "    <tr>\n",
       "      <th>1</th>\n",
       "      <td>2.115771e+06</td>\n",
       "      <td>2.162000</td>\n",
       "      <td>8.923000</td>\n",
       "      <td>22.560000</td>\n",
       "      <td>UBS</td>\n",
       "      <td>std</td>\n",
       "    </tr>\n",
       "  </tbody>\n",
       "</table>\n",
       "</div>"
      ],
      "text/plain": [
       "            volume  daily_returns  monthly_return  annual_return  \\\n",
       "mean  2.759564e+07       0.101468        2.003031      28.329855   \n",
       "std   1.266605e+07       2.011587        7.819297      41.210362   \n",
       "mean  2.316552e+07       0.129444        2.579514      50.765503   \n",
       "std   1.569375e+07       2.818176       11.967447      93.726872   \n",
       "mean  9.243444e+07       0.124495        2.512118      31.905432   \n",
       "std   5.296154e+07       1.996045        8.449826      39.946584   \n",
       "mean  6.907051e+07       0.086139        1.727313      27.348894   \n",
       "std   3.374720e+07       2.242374        9.469724      54.325080   \n",
       "mean  6.434492e+06       0.119630        2.292402      29.479035   \n",
       "std   6.307489e+06       2.870541       11.875413      50.347319   \n",
       "0     4.500752e+08       0.326000        6.615000     125.479000   \n",
       "1     1.861858e+08       3.381000       14.346000     109.615000   \n",
       "0     4.500752e+08       0.326000        6.615000     125.479000   \n",
       "1     1.861858e+08       3.381000       14.346000     109.615000   \n",
       "0     1.313218e+07       0.083000        1.578000      17.228000   \n",
       "1     7.039448e+06       2.030000        7.945000      25.125000   \n",
       "0     2.694719e+06       0.111000        2.245000      25.833000   \n",
       "1     1.362002e+06       2.074000        9.006000      25.947000   \n",
       "0     2.864280e+05       0.134000        2.451000      27.565000   \n",
       "1     3.449076e+05       2.522000        8.198000      20.245000   \n",
       "0     3.051076e+06       0.114000        2.247000      29.969000   \n",
       "1     2.115771e+06       2.162000        8.923000      22.560000   \n",
       "\n",
       "            company statistic  \n",
       "mean         Google      mean  \n",
       "std          Google       std  \n",
       "mean       Facebook      mean  \n",
       "std        Facebook       std  \n",
       "mean          Apple      mean  \n",
       "std           Apple       std  \n",
       "mean         Amazon      mean  \n",
       "std          Amazon       std  \n",
       "mean        Netflix      mean  \n",
       "std         Netflix       std  \n",
       "0         microsoft      mean  \n",
       "1         microsoft       std  \n",
       "0            nvidia      mean  \n",
       "1            nvidia       std  \n",
       "0         JP Morgan      mean  \n",
       "1         JP Morgan       std  \n",
       "0     Goldman Sachs      mean  \n",
       "1     Goldman Sachs       std  \n",
       "0              ENSG      mean  \n",
       "1              ENSG       std  \n",
       "0               UBS      mean  \n",
       "1               UBS       std  "
      ]
     },
     "execution_count": 101,
     "metadata": {},
     "output_type": "execute_result"
    }
   ],
   "source": [
    "faang_concat = pd.concat([google_filtered, facebook_filtered, apple_filtered, amazon_filtered, netflix_filtered, MSFT_filtered, NVDA_filtered,\n",
    "                          JPM_filtered, GS_filtered, UBS_filtered])\n",
    "faang_concat['statistic'] = ['mean', 'std'] * (len(faang_concat) // 2)\n",
    "faang_concat"
   ]
  },
  {
   "cell_type": "code",
   "execution_count": 117,
   "id": "3ae0c185-933e-4855-9b1f-b28df02c6fe2",
   "metadata": {},
   "outputs": [
    {
     "data": {
      "image/png": "[encoded data removed]",
      "text/plain": [
       "<Figure size 1100x500 with 1 Axes>"
      ]
     },
     "metadata": {},
     "output_type": "display_data"
    }
   ],
   "source": [
    "from itertools import cycle\n",
    "\n",
    "companies = []\n",
    "means = []\n",
    "std_devs = []\n",
    "\n",
    "# Create box plots using the mean ± std approach for each company\n",
    "for i in range(0, len(faang_concat), 2):\n",
    "    mean_value = faang_concat.iloc[i]['volume']\n",
    "    std_value = faang_concat.iloc[i + 1]['volume']\n",
    "    company_name = faang_concat.iloc[i]['company']\n",
    "\n",
    "    companies.append(company_name)\n",
    "    means.append(mean_value)\n",
    "    std_devs.append(std_value)\n",
    "\n",
    "companies = ['Google', 'Facebook', 'Apple', 'Amazon', 'Netflix', 'Microsoft', 'NVIDIA', 'JP Morgan', 'Goldman Sachs', 'US Bancorp']\n",
    "means = np.array(means)\n",
    "std_devs = np.array(std_devs)\n",
    "\n",
    "sns.set(style='whitegrid')\n",
    "plotly_colors = ['#636EFA', '#EF553B', '#00CC96', '#AB63FA', '#FFA15A', '#19D3F3', '#FF6692', '#B6E880', '#FF97FF', '#FECB52', '#A3A3A3', '#D62728']\n",
    "\n",
    "fig, ax = plt.subplots(figsize=(11,5))\n",
    "ax.set_facecolor('#f2f2f2')  # Light grey background\n",
    "ax.grid(True, color='white', linestyle='--', linewidth=0.7)\n",
    "color_cycle = cycle(plotly_colors)\n",
    "\n",
    "for i, (company, mean, std) in enumerate(zip(companies, means, std_devs)):\n",
    "    ax.errorbar(company, mean, yerr=std, fmt='o', color=next(color_cycle), capsize=5, elinewidth = 3)\n",
    "\n",
    "# Set plot title and labels\n",
    "plt.title('Trading Volumes of Stock Companies (2019-2024)')\n",
    "plt.ylabel('Average Trading Volumes ($)')\n",
    "\n",
    "# Apply a logarithmic scale to the y-axis\n",
    "plt.yscale('log')\n",
    "\n",
    "# Show the plot\n",
    "plt.tight_layout()\n",
    "plt.savefig('../plots/trading_volume_stocks.png', dpi=300)\n",
    "plt.show()"
   ]
  },
  {
   "cell_type": "code",
   "execution_count": 118,
   "id": "d1175059",
   "metadata": {},
   "outputs": [
    {
     "data": {
      "image/png": "[encoded data removed]",
      "text/plain": [
       "<Figure size 1100x500 with 1 Axes>"
      ]
     },
     "metadata": {},
     "output_type": "display_data"
    }
   ],
   "source": [
    "companies = []\n",
    "means = []\n",
    "std_devs = []\n",
    "\n",
    "# Create box plots using the mean ± std approach for each company\n",
    "for i in range(0, len(faang_concat), 2):\n",
    "    mean_value = faang_concat.iloc[i]['monthly_return']\n",
    "    std_value = faang_concat.iloc[i + 1]['monthly_return']\n",
    "    company_name = faang_concat.iloc[i]['company']\n",
    "\n",
    "    companies.append(company_name)\n",
    "    means.append(mean_value)\n",
    "    std_devs.append(std_value)\n",
    "\n",
    "companies = ['Google', 'Facebook', 'Apple', 'Amazon', 'Netflix', 'Microsoft', 'NVIDIA', 'JP Morgan', 'Goldman Sachs', 'US Bancorp']\n",
    "means = np.array(means)\n",
    "std_devs = np.array(std_devs)\n",
    "\n",
    "sns.set(style='whitegrid')\n",
    "plotly_colors = ['#636EFA', '#EF553B', '#00CC96', '#AB63FA', '#FFA15A', '#19D3F3', '#FF6692', '#B6E880', '#FF97FF', '#FECB52', '#A3A3A3', '#D62728']\n",
    "\n",
    "fig, ax = plt.subplots(figsize=(11,5))\n",
    "ax.set_facecolor('#f2f2f2')  # Light grey background\n",
    "ax.grid(True, color='white', linestyle='--', linewidth=0.7)\n",
    "color_cycle = cycle(plotly_colors)\n",
    "\n",
    "for i, (company, mean, std) in enumerate(zip(companies, means, std_devs)):\n",
    "    ax.errorbar(company, mean, yerr=std, fmt='o', color=next(color_cycle), capsize=5, elinewidth = 3)\n",
    "\n",
    "# Set plot title and labels\n",
    "plt.title('Monthly Returns of Stock Companies (2019-2024)')\n",
    "plt.ylabel('Average Monthly Returns (%)')\n",
    "\n",
    "# Apply a logarithmic scale to the y-axis\n",
    "#plt.yscale('log')\n",
    "\n",
    "# Show the plot\n",
    "plt.tight_layout()\n",
    "plt.savefig('../plots/monthly_return_stocks.png', dpi=300)\n",
    "plt.show()"
   ]
  },
  {
   "cell_type": "code",
   "execution_count": 103,
   "id": "808aea24-24dc-4025-bd6b-443ec309d8df",
   "metadata": {},
   "outputs": [
    {
     "data": {
      "text/html": [
       "<div>\n",
       "<style scoped>\n",
       "    .dataframe tbody tr th:only-of-type {\n",
       "        vertical-align: middle;\n",
       "    }\n",
       "\n",
       "    .dataframe tbody tr th {\n",
       "        vertical-align: top;\n",
       "    }\n",
       "\n",
       "    .dataframe thead th {\n",
       "        text-align: right;\n",
       "    }\n",
       "</style>\n",
       "<table border=\"1\" class=\"dataframe\">\n",
       "  <thead>\n",
       "    <tr style=\"text-align: right;\">\n",
       "      <th></th>\n",
       "      <th>statistic</th>\n",
       "      <th>volume</th>\n",
       "      <th>daily_returns</th>\n",
       "      <th>monthly_return</th>\n",
       "      <th>annual_return</th>\n",
       "      <th>company</th>\n",
       "    </tr>\n",
       "  </thead>\n",
       "  <tbody>\n",
       "    <tr>\n",
       "      <th>0</th>\n",
       "      <td>mean</td>\n",
       "      <td>7.466478e+07</td>\n",
       "      <td>1.324723</td>\n",
       "      <td>6.600504</td>\n",
       "      <td>50.547497</td>\n",
       "      <td>FAANG</td>\n",
       "    </tr>\n",
       "    <tr>\n",
       "      <th>1</th>\n",
       "      <td>std</td>\n",
       "      <td>1.329356e+08</td>\n",
       "      <td>1.258871</td>\n",
       "      <td>4.264960</td>\n",
       "      <td>36.341422</td>\n",
       "      <td>FAANG</td>\n",
       "    </tr>\n",
       "  </tbody>\n",
       "</table>\n",
       "</div>"
      ],
      "text/plain": [
       "  statistic        volume  daily_returns  monthly_return  annual_return  \\\n",
       "0      mean  7.466478e+07       1.324723        6.600504      50.547497   \n",
       "1       std  1.329356e+08       1.258871        4.264960      36.341422   \n",
       "\n",
       "  company  \n",
       "0   FAANG  \n",
       "1   FAANG  "
      ]
     },
     "execution_count": 103,
     "metadata": {},
     "output_type": "execute_result"
    }
   ],
   "source": [
    "faang_summarize=faang_concat.describe()\n",
    "faang_summarize = faang_summarize.loc[['mean', 'std'], ['volume', 'daily_returns', 'monthly_return', 'annual_return']]\n",
    "faang_summarize['company'] = 'FAANG'\n",
    "faang_summarize = faang_summarize.reset_index()\n",
    "faang_summarize = faang_summarize.rename(columns={'index': 'statistic'})\n",
    "faang_summarize"
   ]
  },
  {
   "cell_type": "code",
   "execution_count": 104,
   "id": "c895e3ec-b7ef-4849-9cbb-823d01074af9",
   "metadata": {},
   "outputs": [
    {
     "data": {
      "application/vnd.plotly.v1+json": {
       "config": {
        "plotlyServerURL": "https://plot.ly"
       },
       "data": [
        {
         "boxmean": "sd",
         "name": "daily_returns",
         "type": "box",
         "y": [
          0.06585167205959186,
          1.3247227004675497,
          2.5835937288755075
         ]
        },
        {
         "boxmean": "sd",
         "name": "monthly_return",
         "type": "box",
         "y": [
          2.3355435865965406,
          6.600503881172012,
          10.865464175747483
         ]
        },
        {
         "boxmean": "sd",
         "name": "annual_return",
         "type": "box",
         "y": [
          14.206075610323893,
          50.54749711711366,
          86.88891862390342
         ]
        }
       ],
       "layout": {
        "template": {
         "data": {
          "bar": [
           {
            "error_x": {
             "color": "#2a3f5f"
            },
            "error_y": {
             "color": "#2a3f5f"
            },
            "marker": {
             "line": {
              "color": "#E5ECF6",
              "width": 0.5
             },
             "pattern": {
              "fillmode": "overlay",
              "size": 10,
              "solidity": 0.2
             }
            },
            "type": "bar"
           }
          ],
          "barpolar": [
           {
            "marker": {
             "line": {
              "color": "#E5ECF6",
              "width": 0.5
             },
             "pattern": {
              "fillmode": "overlay",
              "size": 10,
              "solidity": 0.2
             }
            },
            "type": "barpolar"
           }
          ],
          "carpet": [
           {
            "aaxis": {
             "endlinecolor": "#2a3f5f",
             "gridcolor": "white",
             "linecolor": "white",
             "minorgridcolor": "white",
             "startlinecolor": "#2a3f5f"
            },
            "baxis": {
             "endlinecolor": "#2a3f5f",
             "gridcolor": "white",
             "linecolor": "white",
             "minorgridcolor": "white",
             "startlinecolor": "#2a3f5f"
            },
            "type": "carpet"
           }
          ],
          "choropleth": [
           {
            "colorbar": {
             "outlinewidth": 0,
             "ticks": ""
            },
            "type": "choropleth"
           }
          ],
          "contour": [
           {
            "colorbar": {
             "outlinewidth": 0,
             "ticks": ""
            },
            "colorscale": [
             [
              0,
              "#0d0887"
             ],
             [
              0.1111111111111111,
              "#46039f"
             ],
             [
              0.2222222222222222,
              "#7201a8"
             ],
             [
              0.3333333333333333,
              "#9c179e"
             ],
             [
              0.4444444444444444,
              "#bd3786"
             ],
             [
              0.5555555555555556,
              "#d8576b"
             ],
             [
              0.6666666666666666,
              "#ed7953"
             ],
             [
              0.7777777777777778,
              "#fb9f3a"
             ],
             [
              0.8888888888888888,
              "#fdca26"
             ],
             [
              1,
              "#f0f921"
             ]
            ],
            "type": "contour"
           }
          ],
          "contourcarpet": [
           {
            "colorbar": {
             "outlinewidth": 0,
             "ticks": ""
            },
            "type": "contourcarpet"
           }
          ],
          "heatmap": [
           {
            "colorbar": {
             "outlinewidth": 0,
             "ticks": ""
            },
            "colorscale": [
             [
              0,
              "#0d0887"
             ],
             [
              0.1111111111111111,
              "#46039f"
             ],
             [
              0.2222222222222222,
              "#7201a8"
             ],
             [
              0.3333333333333333,
              "#9c179e"
             ],
             [
              0.4444444444444444,
              "#bd3786"
             ],
             [
              0.5555555555555556,
              "#d8576b"
             ],
             [
              0.6666666666666666,
              "#ed7953"
             ],
             [
              0.7777777777777778,
              "#fb9f3a"
             ],
             [
              0.8888888888888888,
              "#fdca26"
             ],
             [
              1,
              "#f0f921"
             ]
            ],
            "type": "heatmap"
           }
          ],
          "heatmapgl": [
           {
            "colorbar": {
             "outlinewidth": 0,
             "ticks": ""
            },
            "colorscale": [
             [
              0,
              "#0d0887"
             ],
             [
              0.1111111111111111,
              "#46039f"
             ],
             [
              0.2222222222222222,
              "#7201a8"
             ],
             [
              0.3333333333333333,
              "#9c179e"
             ],
             [
              0.4444444444444444,
              "#bd3786"
             ],
             [
              0.5555555555555556,
              "#d8576b"
             ],
             [
              0.6666666666666666,
              "#ed7953"
             ],
             [
              0.7777777777777778,
              "#fb9f3a"
             ],
             [
              0.8888888888888888,
              "#fdca26"
             ],
             [
              1,
              "#f0f921"
             ]
            ],
            "type": "heatmapgl"
           }
          ],
          "histogram": [
           {
            "marker": {
             "pattern": {
              "fillmode": "overlay",
              "size": 10,
              "solidity": 0.2
             }
            },
            "type": "histogram"
           }
          ],
          "histogram2d": [
           {
            "colorbar": {
             "outlinewidth": 0,
             "ticks": ""
            },
            "colorscale": [
             [
              0,
              "#0d0887"
             ],
             [
              0.1111111111111111,
              "#46039f"
             ],
             [
              0.2222222222222222,
              "#7201a8"
             ],
             [
              0.3333333333333333,
              "#9c179e"
             ],
             [
              0.4444444444444444,
              "#bd3786"
             ],
             [
              0.5555555555555556,
              "#d8576b"
             ],
             [
              0.6666666666666666,
              "#ed7953"
             ],
             [
              0.7777777777777778,
              "#fb9f3a"
             ],
             [
              0.8888888888888888,
              "#fdca26"
             ],
             [
              1,
              "#f0f921"
             ]
            ],
            "type": "histogram2d"
           }
          ],
          "histogram2dcontour": [
           {
            "colorbar": {
             "outlinewidth": 0,
             "ticks": ""
            },
            "colorscale": [
             [
              0,
              "#0d0887"
             ],
             [
              0.1111111111111111,
              "#46039f"
             ],
             [
              0.2222222222222222,
              "#7201a8"
             ],
             [
              0.3333333333333333,
              "#9c179e"
             ],
             [
              0.4444444444444444,
              "#bd3786"
             ],
             [
              0.5555555555555556,
              "#d8576b"
             ],
             [
              0.6666666666666666,
              "#ed7953"
             ],
             [
              0.7777777777777778,
              "#fb9f3a"
             ],
             [
              0.8888888888888888,
              "#fdca26"
             ],
             [
              1,
              "#f0f921"
             ]
            ],
            "type": "histogram2dcontour"
           }
          ],
          "mesh3d": [
           {
            "colorbar": {
             "outlinewidth": 0,
             "ticks": ""
            },
            "type": "mesh3d"
           }
          ],
          "parcoords": [
           {
            "line": {
             "colorbar": {
              "outlinewidth": 0,
              "ticks": ""
             }
            },
            "type": "parcoords"
           }
          ],
          "pie": [
           {
            "automargin": true,
            "type": "pie"
           }
          ],
          "scatter": [
           {
            "fillpattern": {
             "fillmode": "overlay",
             "size": 10,
             "solidity": 0.2
            },
            "type": "scatter"
           }
          ],
          "scatter3d": [
           {
            "line": {
             "colorbar": {
              "outlinewidth": 0,
              "ticks": ""
             }
            },
            "marker": {
             "colorbar": {
              "outlinewidth": 0,
              "ticks": ""
             }
            },
            "type": "scatter3d"
           }
          ],
          "scattercarpet": [
           {
            "marker": {
             "colorbar": {
              "outlinewidth": 0,
              "ticks": ""
             }
            },
            "type": "scattercarpet"
           }
          ],
          "scattergeo": [
           {
            "marker": {
             "colorbar": {
              "outlinewidth": 0,
              "ticks": ""
             }
            },
            "type": "scattergeo"
           }
          ],
          "scattergl": [
           {
            "marker": {
             "colorbar": {
              "outlinewidth": 0,
              "ticks": ""
             }
            },
            "type": "scattergl"
           }
          ],
          "scattermapbox": [
           {
            "marker": {
             "colorbar": {
              "outlinewidth": 0,
              "ticks": ""
             }
            },
            "type": "scattermapbox"
           }
          ],
          "scatterpolar": [
           {
            "marker": {
             "colorbar": {
              "outlinewidth": 0,
              "ticks": ""
             }
            },
            "type": "scatterpolar"
           }
          ],
          "scatterpolargl": [
           {
            "marker": {
             "colorbar": {
              "outlinewidth": 0,
              "ticks": ""
             }
            },
            "type": "scatterpolargl"
           }
          ],
          "scatterternary": [
           {
            "marker": {
             "colorbar": {
              "outlinewidth": 0,
              "ticks": ""
             }
            },
            "type": "scatterternary"
           }
          ],
          "surface": [
           {
            "colorbar": {
             "outlinewidth": 0,
             "ticks": ""
            },
            "colorscale": [
             [
              0,
              "#0d0887"
             ],
             [
              0.1111111111111111,
              "#46039f"
             ],
             [
              0.2222222222222222,
              "#7201a8"
             ],
             [
              0.3333333333333333,
              "#9c179e"
             ],
             [
              0.4444444444444444,
              "#bd3786"
             ],
             [
              0.5555555555555556,
              "#d8576b"
             ],
             [
              0.6666666666666666,
              "#ed7953"
             ],
             [
              0.7777777777777778,
              "#fb9f3a"
             ],
             [
              0.8888888888888888,
              "#fdca26"
             ],
             [
              1,
              "#f0f921"
             ]
            ],
            "type": "surface"
           }
          ],
          "table": [
           {
            "cells": {
             "fill": {
              "color": "#EBF0F8"
             },
             "line": {
              "color": "white"
             }
            },
            "header": {
             "fill": {
              "color": "#C8D4E3"
             },
             "line": {
              "color": "white"
             }
            },
            "type": "table"
           }
          ]
         },
         "layout": {
          "annotationdefaults": {
           "arrowcolor": "#2a3f5f",
           "arrowhead": 0,
           "arrowwidth": 1
          },
          "autotypenumbers": "strict",
          "coloraxis": {
           "colorbar": {
            "outlinewidth": 0,
            "ticks": ""
           }
          },
          "colorscale": {
           "diverging": [
            [
             0,
             "#8e0152"
            ],
            [
             0.1,
             "#c51b7d"
            ],
            [
             0.2,
             "#de77ae"
            ],
            [
             0.3,
             "#f1b6da"
            ],
            [
             0.4,
             "#fde0ef"
            ],
            [
             0.5,
             "#f7f7f7"
            ],
            [
             0.6,
             "#e6f5d0"
            ],
            [
             0.7,
             "#b8e186"
            ],
            [
             0.8,
             "#7fbc41"
            ],
            [
             0.9,
             "#4d9221"
            ],
            [
             1,
             "#276419"
            ]
           ],
           "sequential": [
            [
             0,
             "#0d0887"
            ],
            [
             0.1111111111111111,
             "#46039f"
            ],
            [
             0.2222222222222222,
             "#7201a8"
            ],
            [
             0.3333333333333333,
             "#9c179e"
            ],
            [
             0.4444444444444444,
             "#bd3786"
            ],
            [
             0.5555555555555556,
             "#d8576b"
            ],
            [
             0.6666666666666666,
             "#ed7953"
            ],
            [
             0.7777777777777778,
             "#fb9f3a"
            ],
            [
             0.8888888888888888,
             "#fdca26"
            ],
            [
             1,
             "#f0f921"
            ]
           ],
           "sequentialminus": [
            [
             0,
             "#0d0887"
            ],
            [
             0.1111111111111111,
             "#46039f"
            ],
            [
             0.2222222222222222,
             "#7201a8"
            ],
            [
             0.3333333333333333,
             "#9c179e"
            ],
            [
             0.4444444444444444,
             "#bd3786"
            ],
            [
             0.5555555555555556,
             "#d8576b"
            ],
            [
             0.6666666666666666,
             "#ed7953"
            ],
            [
             0.7777777777777778,
             "#fb9f3a"
            ],
            [
             0.8888888888888888,
             "#fdca26"
            ],
            [
             1,
             "#f0f921"
            ]
           ]
          },
          "colorway": [
           "#636efa",
           "#EF553B",
           "#00cc96",
           "#ab63fa",
           "#FFA15A",
           "#19d3f3",
           "#FF6692",
           "#B6E880",
           "#FF97FF",
           "#FECB52"
          ],
          "font": {
           "color": "#2a3f5f"
          },
          "geo": {
           "bgcolor": "white",
           "lakecolor": "white",
           "landcolor": "#E5ECF6",
           "showlakes": true,
           "showland": true,
           "subunitcolor": "white"
          },
          "hoverlabel": {
           "align": "left"
          },
          "hovermode": "closest",
          "mapbox": {
           "style": "light"
          },
          "paper_bgcolor": "white",
          "plot_bgcolor": "#E5ECF6",
          "polar": {
           "angularaxis": {
            "gridcolor": "white",
            "linecolor": "white",
            "ticks": ""
           },
           "bgcolor": "#E5ECF6",
           "radialaxis": {
            "gridcolor": "white",
            "linecolor": "white",
            "ticks": ""
           }
          },
          "scene": {
           "xaxis": {
            "backgroundcolor": "#E5ECF6",
            "gridcolor": "white",
            "gridwidth": 2,
            "linecolor": "white",
            "showbackground": true,
            "ticks": "",
            "zerolinecolor": "white"
           },
           "yaxis": {
            "backgroundcolor": "#E5ECF6",
            "gridcolor": "white",
            "gridwidth": 2,
            "linecolor": "white",
            "showbackground": true,
            "ticks": "",
            "zerolinecolor": "white"
           },
           "zaxis": {
            "backgroundcolor": "#E5ECF6",
            "gridcolor": "white",
            "gridwidth": 2,
            "linecolor": "white",
            "showbackground": true,
            "ticks": "",
            "zerolinecolor": "white"
           }
          },
          "shapedefaults": {
           "line": {
            "color": "#2a3f5f"
           }
          },
          "ternary": {
           "aaxis": {
            "gridcolor": "white",
            "linecolor": "white",
            "ticks": ""
           },
           "baxis": {
            "gridcolor": "white",
            "linecolor": "white",
            "ticks": ""
           },
           "bgcolor": "#E5ECF6",
           "caxis": {
            "gridcolor": "white",
            "linecolor": "white",
            "ticks": ""
           }
          },
          "title": {
           "x": 0.05
          },
          "xaxis": {
           "automargin": true,
           "gridcolor": "white",
           "linecolor": "white",
           "ticks": "",
           "title": {
            "standoff": 15
           },
           "zerolinecolor": "white",
           "zerolinewidth": 2
          },
          "yaxis": {
           "automargin": true,
           "gridcolor": "white",
           "linecolor": "white",
           "ticks": "",
           "title": {
            "standoff": 15
           },
           "zerolinecolor": "white",
           "zerolinewidth": 2
          }
         }
        },
        "title": {
         "text": "Returns of FAANG Company"
        },
        "xaxis": {
         "title": {
          "text": "Return Type"
         }
        },
        "yaxis": {
         "title": {
          "text": "Returns"
         }
        }
       }
      }
     },
     "metadata": {},
     "output_type": "display_data"
    }
   ],
   "source": [
    "mean_values = faang_summarize.loc[0, ['daily_returns', 'monthly_return', 'annual_return']]\n",
    "std_values = faang_summarize.loc[1, ['daily_returns', 'monthly_return', 'annual_return']]\n",
    "\n",
    "# Prepare the list of box plots\n",
    "box_plots = []\n",
    "\n",
    "# Create a box plot for each return type\n",
    "for return_type in mean_values.index:\n",
    "    mean = mean_values[return_type]\n",
    "    std = std_values[return_type]\n",
    "    \n",
    "    box_plots.append(\n",
    "        go.Box(\n",
    "            y=[mean - std, mean, mean + std],\n",
    "            name=return_type,\n",
    "            boxmean='sd'\n",
    "        )\n",
    "    )\n",
    "\n",
    "# Create the figure\n",
    "fig = go.Figure(data=box_plots)\n",
    "\n",
    "# Configure layout\n",
    "fig.update_layout(\n",
    "    title=\"Returns of FAANG Company\",\n",
    "    yaxis_title=\"Returns\",\n",
    "    xaxis_title=\"Return Type\"\n",
    ")\n",
    "\n",
    "# Show the plot\n",
    "fig.show()\n"
   ]
  }
 ],
 "metadata": {
  "kernelspec": {
   "display_name": "venv",
   "language": "python",
   "name": "venv"
  },
  "language_info": {
   "codemirror_mode": {
    "name": "ipython",
    "version": 3
   },
   "file_extension": ".py",
   "mimetype": "text/x-python",
   "name": "python",
   "nbconvert_exporter": "python",
   "pygments_lexer": "ipython3",
   "version": "3.9.13"
  }
 },
 "nbformat": 4,
 "nbformat_minor": 5
}
