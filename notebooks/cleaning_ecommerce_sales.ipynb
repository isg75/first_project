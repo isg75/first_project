{
 "cells": [
  {
   "cell_type": "code",
   "execution_count": 40,
   "metadata": {},
   "outputs": [],
   "source": [
    "import pandas as pd\n",
    "df = pd.read_csv(\"../data/raw/ecommerce_sales.csv\")"
   ]
  },
  {
   "cell_type": "code",
   "execution_count": 41,
   "metadata": {},
   "outputs": [],
   "source": [
    "# Clean Columns\n",
    "df.rename(columns={\"geo\": \"country\", \"TIME_PERIOD\": \"year\", \"OBS_VALUE\": \"sales\"}, inplace=True)\n",
    "cols = [0, 1, 2, 4, 5, 6, 10, 11]\n",
    "df.drop(df.columns[cols],axis=1,inplace=True)"
   ]
  },
  {
   "cell_type": "code",
   "execution_count": 42,
   "metadata": {},
   "outputs": [],
   "source": [
    "# Shortens the size_emp values\n",
    "size_map = {\n",
    "    \"From 1 to 9 persons employed\": \"A(1-9)\",\n",
    "    \"From 10 to 49 persons employed\": \"B(10-49)\",\n",
    "    \"From 50 to 249 persons employed\": \"C(50-249)\",\n",
    "    \"250 persons employed or more\": \"D(>=250)\",\n",
    "    \"10 persons employed or more\": \"E(>=10)\"\n",
    "}\n",
    "df[\"size_emp\"] = df[\"size_emp\"].apply(lambda x: size_map[x])"
   ]
  },
  {
   "cell_type": "code",
   "execution_count": null,
   "metadata": {},
   "outputs": [],
   "source": [
    "# Filter out \"Euro area\" and \"European Union\"\n",
    "df[~df['country'].str.contains(\"Euro\")]"
   ]
  },
  {
   "cell_type": "code",
   "execution_count": 44,
   "metadata": {},
   "outputs": [],
   "source": [
    "# Creates two different dataframes\n",
    "df_cat = df[(df[\"size_emp\"] != \"E(>=10)\") & (df[\"size_emp\"] != \"A(1-9)\")] # Dataframe with enterprises divided in four sizes categories\n",
    "df_all = df[df[\"size_emp\"] == \"E(>=10)\"] # Dataframe with enterprises in one categoriy encompasing all 4 previous categories"
   ]
  },
  {
   "cell_type": "code",
   "execution_count": null,
   "metadata": {},
   "outputs": [],
   "source": [
    "# Reset indexes\n",
    "df_cat.reset_index(drop=True, inplace=True)\n",
    "df_all.reset_index(drop=True, inplace=True)\n",
    "\n",
    "df_cat.head(5)\n"
   ]
  },
  {
   "cell_type": "code",
   "execution_count": 46,
   "metadata": {},
   "outputs": [],
   "source": [
    "# create a dummy function to send to the exploration notebook\n",
    "def import_df():\n",
    "    return df_cat, df_all"
   ]
  }
 ],
 "metadata": {
  "kernelspec": {
   "display_name": "project1_venv",
   "language": "python",
   "name": "python3"
  },
  "language_info": {
   "codemirror_mode": {
    "name": "ipython",
    "version": 3
   },
   "file_extension": ".py",
   "mimetype": "text/x-python",
   "name": "python",
   "nbconvert_exporter": "python",
   "pygments_lexer": "ipython3",
   "version": "3.9.6"
  }
 },
 "nbformat": 4,
 "nbformat_minor": 2
}
