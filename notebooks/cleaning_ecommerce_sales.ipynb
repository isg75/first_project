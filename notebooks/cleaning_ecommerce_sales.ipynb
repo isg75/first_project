{
 "cells": [
  {
   "cell_type": "code",
   "execution_count": 95,
   "metadata": {},
   "outputs": [],
   "source": [
    "import pandas as pd\n",
    "\n",
    "df = pd.read_csv(\"../data/raw/ecommerce_sales.csv\")"
   ]
  },
  {
   "cell_type": "code",
   "execution_count": null,
   "metadata": {},
   "outputs": [],
   "source": [
    "\n",
    "# Clean Columns\n",
    "df.rename(columns={\"geo\": \"country\", \"TIME_PERIOD\": \"year\", \"OBS_VALUE\": \"sales_%\"}, inplace=True)\n",
    "cols = [0, 1, 2, 4, 5, 6, 10, 11]\n",
    "df.drop(df.columns[cols],axis=1,inplace=True)\n",
    "print(df.columns)\n",
    "\n",
    "df_groups = df[df[\"size_emp\"] != \"10 persons employed or more\"]\n",
    "\n",
    "df_all = df[df[\"size_emp\"] == \"10 persons employed or more\"]\n",
    "\n",
    "df_groups.info()\n",
    "\n",
    "df_groups.reset_index( inplace=True)\n",
    "\n",
    "df_groups[\"sales_%\"] = round(df_groups[\"sales_%\"].interpolate(method='polynomial', order=2), 2)\n",
    "\n",
    "print(df_groups)\n"
   ]
  },
  {
   "cell_type": "code",
   "execution_count": null,
   "metadata": {},
   "outputs": [],
   "source": [
    "\n",
    "df_groups.sort_values(by=\"sales_%\", ascending=False).groupby(\"size_emp\")[[\"size_emp\", \"country\", \"year\", \"sales_%\"]].head(50)\n"
   ]
  },
  {
   "cell_type": "code",
   "execution_count": null,
   "metadata": {},
   "outputs": [],
   "source": [
    "df_groups[\"sales_%\"].agg([\"mean\", \"min\", \"max\", \"std\"])"
   ]
  },
  {
   "cell_type": "code",
   "execution_count": null,
   "metadata": {},
   "outputs": [],
   "source": [
    "df_groups.groupby(\"year\")[[\"year\", \"country\", \"sales_%\"]].head(50).sort_values(by=\"sales_%\", ascending=False).head(50)"
   ]
  },
  {
   "cell_type": "code",
   "execution_count": null,
   "metadata": {},
   "outputs": [],
   "source": [
    "df_groups.pivot(index=\"country\", columns=\"year\", values=\"sales_%\")"
   ]
  }
 ],
 "metadata": {
  "kernelspec": {
   "display_name": "project1_venv",
   "language": "python",
   "name": "python3"
  },
  "language_info": {
   "codemirror_mode": {
    "name": "ipython",
    "version": 3
   },
   "file_extension": ".py",
   "mimetype": "text/x-python",
   "name": "python",
   "nbconvert_exporter": "python",
   "pygments_lexer": "ipython3",
   "version": "3.9.6"
  }
 },
 "nbformat": 4,
 "nbformat_minor": 2
}
