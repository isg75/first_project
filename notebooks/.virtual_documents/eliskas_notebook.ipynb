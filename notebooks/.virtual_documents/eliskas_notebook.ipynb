import pandas as pd
import seaborn as sns
import matplotlib.pyplot as plt
import plotly.express as px  # For Plotly Express, which is easy-to-use for quick visualizations
import plotly.graph_objects as go 


housing = pd.read_excel("../data/raw/week_3_project_data.xlsx", sheet_name=0)
housing.index = ['Housing'] * len(housing)
housing


rental = pd.read_excel("../data/raw/week_3_project_data.xlsx", sheet_name=1)
rental.index = ['Rental'] * len(rental)
rental


income = pd.read_excel("../data/raw/week_3_project_data.xlsx", sheet_name=2)
income.index = ['Income'] * len(income)
income


final_df = pd.concat([housing, rental, income], ignore_index=True)
index_labels = ['Housing'] * len(housing) + ['Rental'] * len(rental) + ['Income'] * len(income)
final_df.index = index_labels


final_df.rename(columns={"Unnamed: 0": "Country"}, inplace=True)
final_df


income_df = final_df[final_df.index == 'Income']
income_df


income_tidy = income_df.melt(id_vars="Country", var_name="Year", value_name="Income")
income_tidy


sns.lineplot(data=income_tidy, x="Year", y="Income", hue="Country", marker="*")


plt.figure(figsize=(9, 6))
sns.lineplot(data=income_tidy, x="Year", y="Income", hue="Country", marker="o")
plt.title("Income Trends for Germany, France and Portugal (2019-2023)")
plt.xlabel("Year")
plt.ylabel("Income (€)")
plt.show()


cities = pd.read_excel("../data/raw/numbeo_stats.xlsx", sheet_name=0)
cities


countries = pd.read_excel("../data/raw/numbeo_stats.xlsx", sheet_name=1)
countries.columns = countries.columns.str.strip()
countries


cities.rename(columns={"Unnamed: 0": "Type"}, inplace = True)


countries.rename(columns={"Unnamed: 0": "Type"}, inplace = True)


def clean_countries(countries):
    countries = pd.read_excel("../data/raw/numbeo_stats.xlsx", sheet_name=1)
    countries.columns = countries.columns.str.strip()
    countries.rename(columns={"Unnamed: 0": "Type"}, inplace = True)

    countries.loc[[1,2],"Type"] = '1 bed apartment (rent)'
    countries.loc[[4,5], 'Type'] = '3 bed apartment (rent)'
    countries.loc[[6,7,8], 'Type'] = 'Buy apartment (per m2 in city center)'
    countries.loc[[10,11], 'Type'] = 'Av salary (after tax)'
    countries.loc[[13,14], 'Type'] = 'Min wage (after tax)'
        
    return countries


countries = clean_countries(countries)
one_bed_apt = countries[countries["Type"] == "1 bed apartment (rent)"]
one_bed_apt


one_bed_apt_melted = one_bed_apt.melt(id_vars=["Type", "Country"], var_name="Year", value_name="Value")
one_bed_apt_melted["Year"] = one_bed_apt_melted["Year"].astype(int)


fig = px.line(
    one_bed_apt_melted, 
    x="Year", 
    y="Value",
    color="Country",       # Color lines by Country
    line_group="Country",  # Group lines by Country
    facet_col="Type",      # Create a separate subplot for each apartment Type
    markers=True           # Add markers to each point
)

fig.show()



