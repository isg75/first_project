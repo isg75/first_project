import pandas as pd




# Replace with your actual file path
file_path = '/Users/volkan.coskun/esra/data/Week_4/day1/first_project/data/raw/Employment_Projections.csv'

# Read the Excel file
df = pd.read_csv(file_path)

# Display the first few rows
df.head()




# Replace with your actual file path
file_path = '/Users/volkan.coskun/esra/data/Week_4/day1/first_project/data/raw/National_Employment_Matrix_IND_541200.csv'

# Read the Excel file
df = pd.read_csv(file_path)

# Display the first few rows
df.head()



# Replace with your actual file path
file_path = '/Users/volkan.coskun/esra/data/Week_4/day1/first_project/data/raw/National_Employment_Matrix_IND_230000.csv'

# Read the Excel file
df = pd.read_csv(file_path)

# Display the first few rows
df.head()








# Replace with your actual file path
file_path = '/Users/volkan.coskun/esra/data/Week_4/day1/first_project/data/raw/National_Employment_Matrix_IND_31-330.csv'

# Read the Excel file
df = pd.read_csv(file_path)

# Display the first few rows
df.tail()





# Replace with your actual file path
file_path = '/Users/volkan.coskun/esra/data/Week_4/day1/first_project/data/raw/OECD.STI.DEP,DSD_ICT_B@DF_BUSINESSES,1.0+all.csv'

# Read the Excel file
df = pd.read_csv(file_path)

# Display the first few rows
df.tail()






