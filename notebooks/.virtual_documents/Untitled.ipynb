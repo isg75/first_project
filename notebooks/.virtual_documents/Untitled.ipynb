


#rename columns
df.rename(columns={'A old column': 'B new columns'}, inplace=True)

