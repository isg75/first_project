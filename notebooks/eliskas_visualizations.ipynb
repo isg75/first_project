{
 "cells": [
  {
   "cell_type": "code",
   "execution_count": null,
   "id": "ae46d5ac-14c0-4531-b645-c79b4e6efcc1",
   "metadata": {},
   "outputs": [],
   "source": [
    "import pandas as pd\n",
    "import seaborn as sns\n",
    "import matplotlib.pyplot as plt\n",
    "import plotly.express as px  # For Plotly Express, which is easy-to-use for quick visualizations\n",
    "import plotly.graph_objects as go "
   ]
  },
  {
   "cell_type": "code",
   "execution_count": null,
   "id": "9f59a386-039b-41ad-be96-022dfba39688",
   "metadata": {},
   "outputs": [],
   "source": [
    "from functions import concatenate_eurostat_countries, cleaning_eurostat_data_for_viz, clean_countries_numbeo, clean_cities\n",
    "eurostat_df = concatenate_eurostat_countries()\n",
    "countries = clean_countries_numbeo()\n",
    "cities = clean_cities()\n",
    "income_tidy, housing_tidy, rental_tidy, income_df, housing_df, rental_df = cleaning_eurostat_data_for_viz(eurostat_df)"
   ]
  },
  {
   "cell_type": "code",
   "execution_count": null,
   "id": "e453ce26-881f-46e9-9776-e2d135ae1231",
   "metadata": {},
   "outputs": [],
   "source": [
    "def adding_minimum_wage(eurostat_df):\n",
    "    min_wage = pd.read_excel(\"../data/raw/week_3_project_data.xlsx\", sheet_name=3)\n",
    "    min_wage.index = [\"Min Wage\"] * len(min_wage)\n",
    "    min_wage_yr = min_wage.select_dtypes(include='number')\n",
    "\n",
    "    # Multiply only numeric columns by 12\n",
    "    min_wage_yr = min_wage_yr * 12\n",
    "\n",
    "    min_wage_yr['Unnamed: 0'] = min_wage['Unnamed: 0']\n",
    "\n",
    "    # Reorder columns to have 'Country' as the first column\n",
    "    min_wage_yr = min_wage_yr[['Unnamed: 0'] + [col for col in min_wage_yr.columns if col != 'Unnamed: 0']]\n",
    "    min_wage_yr.rename(columns={\"Unnamed: 0\": \"Country\"}, inplace=True) \n",
    "    eurostat_df = pd.concat([eurostat_df, min_wage_yr])\n",
    "    return eurostat_df\n",
    "    \n",
    "eurostat_df = adding_minimum_wage(eurostat_df)"
   ]
  },
  {
   "cell_type": "code",
   "execution_count": null,
   "id": "132460d2-01d7-466e-8ec4-8433e30f8252",
   "metadata": {},
   "outputs": [],
   "source": [
    "portugal_income = income_tidy[income_tidy[\"Country\"] == \"PT\"]\n",
    "portugal_income\n",
    "fig = px.line(\n",
    "    portugal_income,\n",
    "    x='Year',          # x-axis: Year\n",
    "    y='Income',        # y-axis: Income\n",
    "    markers=True,      # Add markers at each data point\n",
    "    title=\"Average income in Portugal (2019-2023)\"  # Chart title\n",
    ")\n",
    "\n",
    "# Show the plot\n",
    "fig.show()"
   ]
  },
  {
   "cell_type": "code",
   "execution_count": null,
   "id": "0e991b87-3128-4c64-901a-acc8195b5e1b",
   "metadata": {},
   "outputs": [],
   "source": [
    "df_lisbon = cities[cities[\"City\"] == \"Lisbon\"]\n",
    "df_portugal = countries[countries[\"Country\"] == \"PT\"]\n",
    "display(df_lisbon)\n",
    "display(df_portugal)"
   ]
  },
  {
   "cell_type": "code",
   "execution_count": null,
   "id": "9a2751c0-0e54-4df5-a88a-b68556c572e2",
   "metadata": {},
   "outputs": [],
   "source": [
    "# Concatenate the DataFrames into one long DataFrame\n",
    "combined_data = pd.concat([housing_df, rental_df], axis=0)\n",
    "df_portugal = combined_data[combined_data['Country'] == 'PT']\n",
    "df_portugal = df_portugal.reset_index().rename(columns={'index': 'Type'})\n",
    "df_portugal_melted = df_portugal.melt(id_vars=['Type', 'Country'], var_name='Year', value_name='Value')\n",
    "fig = px.line(\n",
    "    df_portugal_melted,\n",
    "    x='Year',\n",
    "    y='Value',\n",
    "    color='Type',  # Different lines for Income and Rental\n",
    "    markers=True,\n",
    "    title=\"Housing vs Rental index in Portugal (2019-2023)\"\n",
    ")\n",
    "\n",
    "fig.show()"
   ]
  },
  {
   "cell_type": "code",
   "execution_count": null,
   "id": "52b36378-3de6-4100-992a-3f9e55c0919e",
   "metadata": {},
   "outputs": [],
   "source": [
    "df_rent_salary = df_lisbon[df_lisbon['Type'].isin(['1 bed apartment (rent)', '3 bed apartment (rent)', 'Av salary (after tax)'])]\n",
    "df_rent_salary_melted = df_rent_salary.melt(id_vars=[\"Type\", \"City\"], var_name=\"Year\", value_name=\"Value\")\n",
    "fig = px.line(\n",
    "    df_rent_salary_melted,\n",
    "    x=\"Year\",              # x-axis: Year\n",
    "    y=\"Value\",             # y-axis: Value\n",
    "    color=\"Type\",          # Different lines for different Types (rent and salary)\n",
    "    markers=True,          # Add markers at each data point\n",
    "    title=\"Comparison between Rent and Salary in Lisbon (2019-2024)\", # Title of the chart\n",
    "    labels={\"Value\": \"Amount (€)\", \"Year\": \"Year\", \"Type\": \"Type of Data\"} # Axis labels\n",
    ")\n",
    "\n",
    "# Show the plot\n",
    "fig.show()"
   ]
  },
  {
   "cell_type": "code",
   "execution_count": null,
   "id": "b6817b72-ff74-4483-a58c-585a5a3c894b",
   "metadata": {},
   "outputs": [],
   "source": [
    "cities_one_bed_apt = cities[cities['Type'] == \"1 bed apartment (rent)\"]\n",
    "cities_one_bed_apt_melted = cities_one_bed_apt.melt(id_vars=[\"Type\", \"City\"], var_name=\"Year\", value_name=\"Value\")\n",
    "fig = px.line(\n",
    "    cities_one_bed_apt_melted, \n",
    "    x=\"Year\", \n",
    "    y=\"Value\",\n",
    "    color=\"City\",       \n",
    "    line_group=\"City\",  \n",
    "    facet_col=\"Type\",      \n",
    "    markers=True,\n",
    "    title=\"Average rent for 1bedroom apartment per month in Lisbon, Berlin and Paris (2019-2024)\",  # Title of the chart\n",
    "    labels={\"Value\": \"Amount (€)\", \"Year\": \"Year\"}  # Axis labels\n",
    ")\n",
    "\n",
    "fig.show()"
   ]
  },
  {
   "cell_type": "code",
   "execution_count": null,
   "id": "5ac9825d-7047-4d9a-80f3-2146497e270c",
   "metadata": {},
   "outputs": [],
   "source": [
    "cities_salaries = cities[cities['Type'] == \"Av salary (after tax)\"]\n",
    "cities_salaries_melted = cities_salaries.melt(id_vars=[\"Type\", \"City\"], var_name=\"Year\", value_name=\"Value\")\n",
    "fig = px.line(\n",
    "    cities_salaries_melted, \n",
    "    x=\"Year\", \n",
    "    y=\"Value\",\n",
    "    color=\"City\",       \n",
    "    line_group=\"City\",  \n",
    "    facet_col=\"Type\",      \n",
    "    markers=True,\n",
    "    title=\"Average salaries per month in Lisbon, Berlin and Paris (2019-2024)\",  # Title of the chart\n",
    "    labels={\"Value\": \"Amount (€)\", \"Year\": \"Year\"}  # Axis labels\n",
    ")\n",
    "\n",
    "fig.show()"
   ]
  },
  {
   "cell_type": "code",
   "execution_count": null,
   "id": "bc006411-aab3-48bb-88b7-f9ebc4a440a1",
   "metadata": {},
   "outputs": [],
   "source": [
    "three_bed_apt_rent = cities[cities['Type'] == \"3 bed apartment (rent)\"]\n",
    "three_bed_apt_rent = three_bed_apt_rent.melt(id_vars=[\"Type\", \"City\"], var_name=\"Year\", value_name=\"Value\")\n",
    "fig = px.line(\n",
    "    three_bed_apt_rent, \n",
    "    x=\"Year\", \n",
    "    y=\"Value\",\n",
    "    color=\"City\",       \n",
    "    line_group=\"City\",  \n",
    "    facet_col=\"Type\",      \n",
    "    markers=True, \n",
    "     title=\"Average rent for 3bedroom apartment per month in Lisbon, Berlin and Paris (2019-2024)\",  # Title of the chart\n",
    "    labels={\"Value\": \"Amount (€)\", \"Year\": \"Year\"} )\n",
    "\n",
    "fig.show()"
   ]
  },
  {
   "cell_type": "code",
   "execution_count": null,
   "id": "5fc9c626-d338-42c4-b1dc-248642a60d1c",
   "metadata": {},
   "outputs": [],
   "source": [
    "national_average = pd.concat([df_lisbon, df_portugal], ignore_index=True)    \n",
    "national_average.rename(columns={\"City\": \"City/Country\"}, inplace=True) \n",
    "national_average.drop(columns=[\"Country\"], inplace=True)\n",
    "national_average.loc[[4,5,6,7,8], \"City/Country\"] = \"Portugal\"\n",
    "\n",
    "salary_data = national_average[\n",
    "    (national_average['Type'].isin(['Av salary (after tax)', 'Min wage (after tax)'])) &\n",
    "    (national_average['City/Country'].isin(['Portugal', 'Lisbon']))]\n",
    "\n",
    "salary_data_melted = salary_data.melt(id_vars=[\"Type\", \"City/Country\"], var_name=\"Year\", value_name=\"Value\")\n",
    "fig = px.line(\n",
    "    salary_data_melted,\n",
    "    x=\"Year\",\n",
    "    y=\"Value\",\n",
    "    color=\"Type\",\n",
    "    line_dash=\"City/Country\",   # Different lines for Lisbon and Portugal\n",
    "    markers=True,\n",
    "    title=\"Average Salary and Minimum Wage in Lisbon with National Average (2019-2024)\",\n",
    "    labels={\"Value\": \"Amount (€)\", \"Year\": \"Year\", \"Type\": \"Type of Income\"}\n",
    ")\n",
    "\n",
    "fig.show()"
   ]
  },
  {
   "cell_type": "code",
   "execution_count": null,
   "id": "cefb1b2e-b8c9-4d4e-86c6-cb487242bf5a",
   "metadata": {},
   "outputs": [],
   "source": []
  }
 ],
 "metadata": {
  "kernelspec": {
   "display_name": "venv",
   "language": "python",
   "name": "venv"
  },
  "language_info": {
   "codemirror_mode": {
    "name": "ipython",
    "version": 3
   },
   "file_extension": ".py",
   "mimetype": "text/x-python",
   "name": "python",
   "nbconvert_exporter": "python",
   "pygments_lexer": "ipython3",
   "version": "3.12.4"
  }
 },
 "nbformat": 4,
 "nbformat_minor": 5
}
