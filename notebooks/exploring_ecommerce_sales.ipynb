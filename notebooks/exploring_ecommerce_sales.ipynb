{
 "cells": [
  {
   "cell_type": "code",
   "execution_count": 1,
   "metadata": {},
   "outputs": [],
   "source": [
    "%run cleaning_ecommerce_sales.ipynb\n",
    "df_cat, df_all = import_df() # type: ignore"
   ]
  },
  {
   "cell_type": "markdown",
   "metadata": {},
   "source": [
    "### Hypotesis\n",
    "- Smaller firms grew in the latest years as technology became more affordable"
   ]
  },
  {
   "cell_type": "code",
   "execution_count": null,
   "metadata": {},
   "outputs": [],
   "source": [
    "# All time historical ranking\n",
    "df_cat.sort_values(by=\"sales\", ascending=False).groupby([\"size_emp\", \"year\"])[[\"country\", \"size_emp\", \"year\", \"sales\"]].head()"
   ]
  },
  {
   "cell_type": "code",
   "execution_count": null,
   "metadata": {},
   "outputs": [],
   "source": [
    "# Statistical values overall by enterprise size groups\n",
    "df_cat.groupby(\"size_emp\")[[\"size_emp\", \"country\",\"sales\"]].agg({\"sales\": {\"mean\", \"min\", \"max\", \"std\"}}).round(2)"
   ]
  },
  {
   "cell_type": "code",
   "execution_count": null,
   "metadata": {},
   "outputs": [],
   "source": [
    "df_pivot_size = df_cat.pivot(index=['size_emp', 'country'], columns='year', values='sales').reset_index().head(50)\n",
    "df_pivot_size"
   ]
  },
  {
   "cell_type": "code",
   "execution_count": null,
   "metadata": {},
   "outputs": [],
   "source": [
    "# Mean values for the % of sales for each enterprise size group year over year\n",
    "df_mean_by_year = (df_cat.\n",
    "                   pivot_table(\n",
    "                       index='size_emp', \n",
    "                       columns='year', \n",
    "                       values='sales',\n",
    "                       aggfunc='mean'\n",
    "                       )\n",
    "                       .round(2)\n",
    "                       .sort_index())\n",
    "\n",
    "df_mean_by_year.reset_index()"
   ]
  },
  {
   "cell_type": "code",
   "execution_count": null,
   "metadata": {},
   "outputs": [],
   "source": [
    "# Ranking of top digitalized countries per year.\n",
    "\n",
    "# Top countries by sales for each combination\n",
    "df_top = (df_cat\n",
    "    .reset_index()\n",
    "    .groupby(['size_emp', 'year'])\n",
    "    .apply(lambda x: x.nlargest(1, 'sales'))\n",
    "    .reset_index(drop=True)\n",
    ")\n",
    "\n",
    "# Pivot with years as columns\n",
    "df_result = (df_top\n",
    "    .pivot(\n",
    "        index='year',\n",
    "        columns='size_emp',\n",
    "        values=['country', 'sales']\n",
    "    )\n",
    "    .reset_index()\n",
    ")\n",
    "\n",
    "# Reorder columns to group country and sales by year\n",
    "sizes = sorted(df_top['size_emp'].unique())\n",
    "column_order = [('year', '')]\n",
    "for size in sizes:\n",
    "    column_order.extend([('country', size), ('sales', size)])\n",
    "\n",
    "# Reorder and format\n",
    "df_result[column_order].round(2).sort_values('year')"
   ]
  },
  {
   "cell_type": "code",
   "execution_count": null,
   "metadata": {},
   "outputs": [],
   "source": [
    "df_pivot_country = df_cat.pivot(index=['country','size_emp'], columns='year', values='sales').reset_index().head(50)\n",
    "df_pivot_country"
   ]
  }
 ],
 "metadata": {
  "kernelspec": {
   "display_name": "project1_venv",
   "language": "python",
   "name": "python3"
  },
  "language_info": {
   "codemirror_mode": {
    "name": "ipython",
    "version": 3
   },
   "file_extension": ".py",
   "mimetype": "text/x-python",
   "name": "python",
   "nbconvert_exporter": "python",
   "pygments_lexer": "ipython3",
   "version": "3.9.6"
  }
 },
 "nbformat": 4,
 "nbformat_minor": 2
}
