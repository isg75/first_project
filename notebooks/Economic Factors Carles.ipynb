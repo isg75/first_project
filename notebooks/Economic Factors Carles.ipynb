{
 "cells": [
  {
   "cell_type": "code",
   "execution_count": null,
   "id": "6d1556b2-1e78-4e40-92f1-0a7cd86ece3c",
   "metadata": {},
   "outputs": [],
   "source": [
    "import pandas as pd\n",
    "import numpy as np"
   ]
  },
  {
   "cell_type": "code",
   "execution_count": null,
   "id": "1241d917-fbf0-4c61-b8e2-1dfa2e839b6c",
   "metadata": {},
   "outputs": [],
   "source": [
    "gdp_per_capita = pd.read_csv(\"gdp_capita_final.csv\", delimiter=\";\")\n",
    "olympic_data = pd.read_csv(\"teams_not_duplicated_summer_olympics_1996-2016_deduplicate_team_medals.csv\")\n"
   ]
  },
  {
   "cell_type": "code",
   "execution_count": null,
   "id": "06ba4ca0-a394-486d-aee8-10f184cab028",
   "metadata": {},
   "outputs": [],
   "source": [
    "countries_to_remove = [\n",
    "    \"North Korea\", \"Kosovo\", \"Montenegro\", \"Tuvalu\", \"Individual Athletes\",\n",
    "    \"Virgin Islands, British\", \"Virgin Islands, US\", \"South Sudan\", \"Palestine\",\n",
    "    \"Cook Islands\", \"American Samoa\", \"Swaziland\", \"Refugee Team\"]\n",
    "\n",
    "olympic_data = olympic_data[~olympic_data[\"region\"].isin(countries_to_remove)]"
   ]
  },
  {
   "cell_type": "code",
   "execution_count": null,
   "id": "07cc306b-7d5b-4ba5-aeb3-378becce0d55",
   "metadata": {},
   "outputs": [],
   "source": [
    "gdp_per_capita"
   ]
  },
  {
   "cell_type": "code",
   "execution_count": null,
   "id": "1b90610f-e4ab-43bb-86b1-90d768aa06fc",
   "metadata": {},
   "outputs": [],
   "source": [
    "gdp_per_capita.shape"
   ]
  },
  {
   "cell_type": "code",
   "execution_count": null,
   "id": "2793a92c-6314-496b-a476-c4e118aa4c2c",
   "metadata": {},
   "outputs": [],
   "source": [
    "gdp_per_capita.isna().sum()"
   ]
  },
  {
   "cell_type": "code",
   "execution_count": null,
   "id": "f9bb47b5-e552-4ab3-a70c-17f3dfee0667",
   "metadata": {},
   "outputs": [],
   "source": [
    "def clean_numeric_values(gdp_per_capita):\n",
    "    gdp_per_capita = gdp_per_capita.copy()\n",
    "    for col in gdp_per_capita.columns[2:]:  \n",
    "        gdp_per_capita[col] = (\n",
    "            gdp_per_capita[col]\n",
    "            .astype(str)\n",
    "            .str.replace('.', '', regex=False)  \n",
    "            .str.replace(',', '.', regex=False)  \n",
    "            .astype(float))\n",
    "    return gdp_per_capita\n",
    "\n",
    "gdp_per_capita = clean_numeric_values(gdp_per_capita)\n",
    "olympic_years = [1996, 2000, 2004, 2008, 2012, 2016]\n",
    "\n",
    "# New dataframe with aggregated gdp\n",
    "agg_gdp_per_capita = gdp_per_capita.iloc[:, :2].copy()  # Keep \"Country Name\" and \"Country Code\"\n",
    "\n",
    "# Calculate aggregated gdp per capita (based on previous 4 years)\n",
    "for year in olympic_years:\n",
    "    previous_years = [str(year - i) for i in range(1, 5)]  # get previous 4 years\n",
    "    available_columns = [col for col in previous_years if col in gdp_per_capita.columns]  # check if the year exists\n",
    "    agg_gdp_per_capita[str(year)] = gdp_per_capita[available_columns].sum(axis=1, skipna=True)  "
   ]
  },
  {
   "cell_type": "code",
   "execution_count": null,
   "id": "28676f27-1388-4581-84be-8131d0854bd4",
   "metadata": {},
   "outputs": [],
   "source": [
    "agg_gdp_per_capita"
   ]
  },
  {
   "cell_type": "code",
   "execution_count": null,
   "id": "3426f785-a6ce-4e09-86fc-93d58ad284c6",
   "metadata": {},
   "outputs": [],
   "source": [
    "all_countries_years = olympic_data[[\"region\", \"Year\"]].drop_duplicates()\n",
    "\n",
    "medals_per_country_year = (olympic_data[olympic_data[\"Medal\"] != \"No Medal\"].groupby([\"region\", \"Year\"]).size().reset_index(name=\"Total Medals\"))\n",
    "\n",
    "full_medals_df = all_countries_years.merge(medals_per_country_year, on=[\"region\", \"Year\"], how=\"left\")\n",
    "\n",
    "full_medals_df[\"Total Medals\"] = full_medals_df[\"Total Medals\"].fillna(0).astype(int)"
   ]
  },
  {
   "cell_type": "code",
   "execution_count": null,
   "id": "4782e4f6-0f29-4f17-a826-7d1fd1453201",
   "metadata": {},
   "outputs": [],
   "source": [
    "agg_gdp_per_capita_long = agg_gdp_per_capita.melt(id_vars=[\"Country Name\", \"Country Code\"], var_name=\"Year\", value_name=\"Aggregated GDP per capita\")\n",
    "\n",
    "agg_gdp_per_capita_long[\"Year\"] = agg_gdp_per_capita_long[\"Year\"].astype(int)\n",
    "\n",
    "full_medals_with_gdp = full_medals_df.merge(agg_gdp_per_capita_long, left_on=[\"region\", \"Year\"], right_on=[\"Country Name\", \"Year\"], how=\"left\")\n",
    "\n",
    "full_medals_with_gdp = full_medals_with_gdp.drop(columns=[\"Country Name\", \"Country Code\"])\n",
    "full_medals_with_gdp"
   ]
  },
  {
   "cell_type": "code",
   "execution_count": null,
   "id": "bcfb0326-75fc-4095-8814-708378edef83",
   "metadata": {},
   "outputs": [],
   "source": [
    "import matplotlib.pyplot as plt"
   ]
  },
  {
   "cell_type": "code",
   "execution_count": null,
   "id": "e1e17caf-51d8-4f2c-be2a-a3aa7c2fcc13",
   "metadata": {},
   "outputs": [],
   "source": [
    "plt.figure(figsize=(10, 6))\n",
    "plt.scatter(full_medals_with_gdp[\"Aggregated GDP per capita\"], full_medals_with_gdp[\"Total Medals\"], alpha=0.7, edgecolors='k')\n",
    "\n",
    "plt.xlabel(\"Aggregated GDP per capita (USD)\")\n",
    "plt.ylabel(\"Total Medals\")\n",
    "plt.title(\"Scatter Plot: GDP per capita vs. Total Medals\")\n",
    "\n",
    "plt.xscale(\"log\")\n",
    "\n",
    "plt.grid(True, linestyle=\"--\", alpha=0.6)\n",
    "\n",
    "plt.show()"
   ]
  },
  {
   "cell_type": "code",
   "execution_count": null,
   "id": "ff675be1-067b-4c3e-bb70-4ff1a8c6e14f",
   "metadata": {},
   "outputs": [],
   "source": [
    "medals_winners = full_medals_with_gdp[full_medals_with_gdp[\"Total Medals\"] > 0]\n",
    "\n",
    "plt.figure(figsize=(10, 6))\n",
    "plt.scatter(medals_winners[\"Aggregated GDP per capita\"], medals_winners[\"Total Medals\"], alpha=0.7, edgecolors='k')\n",
    "\n",
    "plt.xlabel(\"Aggregated GDP per capita (USD)\")\n",
    "plt.ylabel(\"Total Medals\")\n",
    "plt.title(\"Scatter Plot: GDP per capita vs. Total Medals (Only Medal Winners)\")\n",
    "\n",
    "plt.xscale(\"log\")\n",
    "\n",
    "plt.grid(True, linestyle=\"--\", alpha=0.6)\n",
    "\n",
    "plt.show()"
   ]
  },
  {
   "cell_type": "code",
   "execution_count": null,
   "id": "aee1f07e-9053-4b87-81c8-7d42c03edbeb",
   "metadata": {},
   "outputs": [],
   "source": [
    "unique_years = sorted(full_medals_with_gdp[\"Year\"].unique())\n",
    "\n",
    "# Contador para los nombres de las imágenes\n",
    "image_counter = 1\n",
    "\n",
    "for year in unique_years:\n",
    "    # Filtrar datos para el año actual\n",
    "    medals_winners_year = full_medals_with_gdp[(full_medals_with_gdp[\"Total Medals\"] > 0) & (full_medals_with_gdp[\"Year\"] == year)]\n",
    "    \n",
    "    # Copiar para evitar cambios en el DataFrame original\n",
    "    medals_winners_year = medals_winners_year.copy()\n",
    "    medals_winners_year[\"Log Aggregated GDP per capita\"] = np.log(medals_winners_year[\"Aggregated GDP per capita\"])\n",
    "\n",
    "    # Crear una nueva figura para cada año\n",
    "    plt.figure(figsize=(10, 6))\n",
    "    \n",
    "    # Crear scatter plot con regresión\n",
    "    sns.regplot(\n",
    "        x=medals_winners_year[\"Log Aggregated GDP per capita\"], \n",
    "        y=medals_winners_year[\"Total Medals\"], \n",
    "        scatter=True, fit_reg=True,  \n",
    "        scatter_kws={\"alpha\": 0.7, \"edgecolors\": \"k\"},\n",
    "        line_kws={\"color\": \"red\", \"linewidth\": 2}\n",
    "    )\n",
    "\n",
    "    # Etiquetas y título\n",
    "    plt.xlabel(\"Log Aggregated GDP per capita\")\n",
    "    plt.ylabel(\"Total Medals\")\n",
    "    plt.title(f\"Log GDP per capita vs. Total Medals ({year})\")\n",
    "    plt.grid(True, linestyle=\"--\", alpha=0.6)\n",
    "\n",
    "    # Guardar la imagen con un nombre único\n",
    "    image_filename = f\"image_name{image_counter}.png\"\n",
    "    plt.savefig(image_filename, format='png', dpi=300)\n",
    "    image_counter += 1  # Incrementar el contador para la próxima imagen\n",
    "\n",
    "    # Mostrar el gráfico antes de pasar al siguiente año\n",
    "    plt.show()"
   ]
  },
  {
   "cell_type": "code",
   "execution_count": null,
   "id": "526e1157-598c-4bbc-af3f-73446ee42616",
   "metadata": {},
   "outputs": [],
   "source": [
    "full_medals_with_gdp"
   ]
  },
  {
   "cell_type": "code",
   "execution_count": null,
   "id": "b6d2d175-ccee-464b-9096-80492ac36884",
   "metadata": {},
   "outputs": [],
   "source": [
    "gdp_medals_total = full_medals_with_gdp.groupby(\"region\")[[\"Total Medals\",\"Aggregated GDP per capita\"]].sum()\n",
    "gdp_medals_total"
   ]
  },
  {
   "cell_type": "code",
   "execution_count": null,
   "id": "b3335e6f-90ae-4c6a-be07-72731fe1da20",
   "metadata": {},
   "outputs": [],
   "source": [
    "# Ordenar los datos por GDP agregado para mejor visualización\n",
    "df_sorted = gdp_medals_total.sort_values(\"Aggregated GDP per capita\", ascending=False)\n",
    "\n",
    "# Crear figura y ejes\n",
    "fig, ax1 = plt.subplots(figsize=(14, 6))\n",
    "\n",
    "# Crear gráfico de barras para el GDP agregado (escala logarítmica)\n",
    "ax1.bar(df_sorted.index, df_sorted[\"Aggregated GDP per capita\"], color=\"lightblue\", alpha=0.6, label=\"Aggregated GDP per capita\")\n",
    "ax1.set_yscale(\"log\")  # Escala logarítmica para reducir dispersión\n",
    "ax1.set_ylabel(\"Aggregated GDP per capita (Log Scale)\")\n",
    "\n",
    "# Quitar etiquetas del eje X (nombres de los países)\n",
    "ax1.set_xticks([])\n",
    "\n",
    "# Crear segundo eje para el número de medallas\n",
    "ax2 = ax1.twinx()\n",
    "ax2.scatter(df_sorted.index, df_sorted[\"Total Medals\"], color=\"red\", label=\"Total Medals\", zorder=3, s=20)\n",
    "ax2.set_ylabel(\"Total Medals\")\n",
    "\n",
    "# Etiquetas y título\n",
    "plt.title(\"Aggregated GDP per capita and Total Medals per Country\")\n",
    "\n",
    "# Agregar leyendas\n",
    "ax1.legend(loc=\"upper left\")\n",
    "ax2.legend(loc=\"upper right\")\n",
    "\n",
    "# Mostrar la cuadrícula\n",
    "ax1.grid(axis=\"y\", linestyle=\"--\", alpha=0.6)\n",
    "\n",
    "plt.savefig(\"image_name_general.png\", format='png', dpi=300)\n",
    "# Mostrar el gráfico\n",
    "plt.show()\n"
   ]
  },
  {
   "cell_type": "code",
   "execution_count": null,
   "id": "701b8d26-6eb4-4c4d-ace2-c9d0522f9b1b",
   "metadata": {},
   "outputs": [],
   "source": [
    "#gdp_medals_mean = full_medals_with_gdp.groupby(\"region\")[[\"Total Medals\",\"Aggregated GDP per capita\"]].mean()\n",
    "full_medals_with_gdp[\"Mean GDP per capita\"] = full_medals_with_gdp[\"Aggregated GDP per capita\"]/4\n",
    "full_medals_with_gdp"
   ]
  },
  {
   "cell_type": "code",
   "execution_count": null,
   "id": "bcd57627-5f5b-44ad-a082-f2ba737a11b5",
   "metadata": {},
   "outputs": [],
   "source": [
    "full_medals_mean = full_medals_with_gdp.groupby(\"region\")[[\"Total Medals\",\"Mean GDP per capita\"]].mean()\n",
    "full_medals_mean"
   ]
  },
  {
   "cell_type": "code",
   "execution_count": null,
   "id": "3452fe56-7379-4c42-85dd-b0db523e3fb1",
   "metadata": {},
   "outputs": [],
   "source": [
    "correlation = full_medals_mean[\"Mean GDP per capita\"].corr(full_medals_mean[\"Total Medals\"])\n",
    "correlation"
   ]
  },
  {
   "cell_type": "code",
   "execution_count": null,
   "id": "b69cee39-e972-42c7-a7c7-b994d189c8a2",
   "metadata": {},
   "outputs": [],
   "source": [
    "full_medals_mean = full_medals_mean.copy()\n",
    "full_medals_mean[\"Total Medals\"] = full_medals_mean[\"Total Medals\"].fillna(0).astype(float)\n",
    "full_medals_mean[\"Mean GDP per capita\"] = full_medals_mean[\"Mean GDP per capita\"].fillna(0).astype(float)\n",
    "\n",
    "# Asegurar que los nombres de los países sean strings y eliminar posibles NaN en el índice\n",
    "full_medals_mean.index = full_medals_mean.index.astype(str)\n",
    "\n",
    "full_medals_mean = full_medals_mean.sort_values(\"Mean GDP per capita\", ascending=True)\n",
    "\n",
    "# Crear la figura y ejes\n",
    "fig, ax = plt.subplots(figsize=(10, 12))\n",
    "\n",
    "# Crear gráfico de barras horizontal con el color extraído de la imagen\n",
    "ax.barh(full_medals_mean.index, full_medals_mean[\"Mean GDP per capita\"], color=\"#c5e3ec\", alpha=0.8)  # Azul extraído\n",
    "\n",
    "# Agregar círculos sobre las barras para representar el número de medallas ganadas\n",
    "for i, (country, medals, gdp) in enumerate(zip(full_medals_mean.index, full_medals_mean[\"Total Medals\"], full_medals_mean[\"Mean GDP per capita\"])):\n",
    "    if medals > 0:  # Evitar graficar círculos si no hay medallas\n",
    "        ax.scatter(gdp, i, s=medals * 50, color=\"red\", edgecolors=\"black\", alpha=0.8)\n",
    "        if countries_to_label[country]:  # Mostrar etiqueta solo en algunos países\n",
    "            ax.text(gdp + (0.1 * gdp + 500), i, country, fontsize=8, ha=\"left\", va=\"center\", color=\"black\")\n",
    "\n",
    "# Ocultar los nombres de los países en el eje Y\n",
    "ax.set_yticks([])\n",
    "ax.set_yticklabels([])\n",
    "\n",
    "# Etiquetas y título\n",
    "ax.set_xlabel(\"Mean GDP per capita (USD)\")\n",
    "ax.set_ylabel(\"Countries\")\n",
    "ax.set_title(\"Mean GDP per capita & Olympic Medals per Country\")\n",
    "\n",
    "plt.savefig(\"image_name_general2.png\", format='png', dpi=300)\n",
    "# Mostrar el gráfico sin barra de colores\n",
    "plt.show()\n"
   ]
  },
  {
   "cell_type": "code",
   "execution_count": null,
   "id": "5e9ac42a-a053-4c67-bfc6-4d09a9ed1bd9",
   "metadata": {},
   "outputs": [],
   "source": []
  }
 ],
 "metadata": {
  "kernelspec": {
   "display_name": "project1_venv",
   "language": "python",
   "name": "project1_venv"
  },
  "language_info": {
   "codemirror_mode": {
    "name": "ipython",
    "version": 3
   },
   "file_extension": ".py",
   "mimetype": "text/x-python",
   "name": "python",
   "nbconvert_exporter": "python",
   "pygments_lexer": "ipython3",
   "version": "3.9.18"
  }
 },
 "nbformat": 4,
 "nbformat_minor": 5
}
