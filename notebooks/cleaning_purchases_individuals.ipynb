{
 "cells": [
  {
   "cell_type": "code",
   "execution_count": null,
   "metadata": {},
   "outputs": [],
   "source": [
    "import pandas as pd\n",
    "\n",
    "df_purchases = pd.read_csv(\"../data/raw/purchases_individuals_2020.csv\")\n",
    "\n",
    "df_purchases.head(5)"
   ]
  },
  {
   "cell_type": "code",
   "execution_count": null,
   "metadata": {},
   "outputs": [],
   "source": [
    "df_purchases.columns"
   ]
  },
  {
   "cell_type": "code",
   "execution_count": null,
   "metadata": {},
   "outputs": [],
   "source": [
    "\n",
    "# Clean Columns\n",
    "df_purchases.rename(columns={\"geo\": \"country\", \"TIME_PERIOD\": \"year\", \"OBS_VALUE\": \"sales_%\"}, inplace=True)\n",
    "cols = [0, 1, 2, 4, 5, 6, 10, 11]\n",
    "df_purchases.drop(df_purchases.columns[cols],axis=1,inplace=True)\n",
    "print(df_purchases.columns)\n",
    "\n",
    "df_purchases_groups = df_purchases[df_purchases[\"size_emp\"] != \"10 persons employed or more\"]\n",
    "\n",
    "df_purchases_all = df[df[\"size_emp\"] == \"10 persons employed or more\"]\n",
    "\n",
    "df_purchases_groups.info()\n",
    "\n",
    "df_purchases_groups[\"sales_%\"] = round(df_purchases_groups[\"sales_%\"].interpolate(method='polynomial', order=2), 2)\n",
    "\n",
    "print(df_purchases_groups)\n"
   ]
  },
  {
   "cell_type": "code",
   "execution_count": null,
   "metadata": {},
   "outputs": [],
   "source": [
    "\n",
    "df_groups.sort_values(by=\"sales_%\", ascending=False).groupby(\"size_emp\")[[\"size_emp\", \"country\", \"year\", \"sales_%\"]].head(50)\n"
   ]
  },
  {
   "cell_type": "code",
   "execution_count": null,
   "metadata": {},
   "outputs": [],
   "source": [
    "df_groups[\"sales_%\"].agg([\"mean\", \"min\", \"max\", \"std\"])"
   ]
  },
  {
   "cell_type": "code",
   "execution_count": null,
   "metadata": {},
   "outputs": [],
   "source": [
    "df_groups.groupby(\"year\")[[\"year\", \"country\", \"sales_%\"]].head(50).sort_values(by=\"sales_%\", ascending=False).head(50)"
   ]
  },
  {
   "cell_type": "code",
   "execution_count": null,
   "metadata": {},
   "outputs": [],
   "source": [
    "df_result = (df_groups\n",
    "    .reset_index()\n",
    "    .groupby(\"size_emp\")\n",
    "    .apply(lambda x: x.sort_values(by=\"sales_%\", ascending=False))\n",
    "    .head(50)\n",
    "    [[ \"country\", \"year\", \"sales_%\"]]\n",
    ")\n",
    "\n",
    "df_result"
   ]
  },
  {
   "cell_type": "code",
   "execution_count": null,
   "metadata": {},
   "outputs": [],
   "source": [
    "df_ranked = (df_groups\n",
    "    .assign(rank=lambda x: x.groupby(\"size_emp\")[\"sales_%\"]\n",
    "    .rank(method=\"dense\", ascending=False))\n",
    "    .query(\"rank <= 50\")\n",
    "    [[\"size_emp\", \"country\", \"year\", \"sales_%\", \"rank\"]]\n",
    "    .sort_values([\"size_emp\", \"rank\"])\n",
    ")\n",
    "\n",
    "df_ranked"
   ]
  },
  {
   "cell_type": "code",
   "execution_count": null,
   "metadata": {},
   "outputs": [],
   "source": [
    "df_summary = (df_groups\n",
    "    .groupby(\"size_emp\")\n",
    "    .agg({\n",
    "        \"sales_%\": [\"count\", \"mean\", \"max\", \"min\"],\n",
    "        \"country\": \"nunique\",\n",
    "        \"year\": \"nunique\"\n",
    "    })\n",
    "    .round(2)\n",
    ")\n",
    "\n",
    "df_summary"
   ]
  }
 ],
 "metadata": {
  "kernelspec": {
   "display_name": "project1_venv",
   "language": "python",
   "name": "python3"
  },
  "language_info": {
   "codemirror_mode": {
    "name": "ipython",
    "version": 3
   },
   "file_extension": ".py",
   "mimetype": "text/x-python",
   "name": "python",
   "nbconvert_exporter": "python",
   "pygments_lexer": "ipython3",
   "version": "3.9.6"
  }
 },
 "nbformat": 4,
 "nbformat_minor": 2
}
