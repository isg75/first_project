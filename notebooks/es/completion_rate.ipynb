{
 "cells": [
  {
   "cell_type": "code",
   "execution_count": null,
   "id": "2ac9acb5-99c0-4b7f-8768-f298649b7f37",
   "metadata": {},
   "outputs": [],
   "source": [
    "import pandas as pd\n",
    "import matplotlib.pyplot as plt\n",
    "import seaborn as sns\n",
    "import numpy as np\n",
    "import plotly.graph_objects as go\n",
    "%matplotlib inline"
   ]
  },
  {
   "cell_type": "code",
   "execution_count": null,
   "id": "e443966e-15ab-43e8-b1c4-cb39257f2b87",
   "metadata": {
    "scrolled": true
   },
   "outputs": [],
   "source": [
    "df_1 = pd.read_csv(r'/Users/eliskasimova/Desktop/data_analytics_course_2024/project_folder/labs/second_project/data/clean/df_merged.csv')\n",
    "df_2 = pd.read_csv(r'/Users/eliskasimova/Desktop/data_analytics_course_2024/project_folder/labs/second_project/data/raw/df_final_web_data_pt_1.txt')\n",
    "df_3 = pd.read_csv(r'/Users/eliskasimova/Desktop/data_analytics_course_2024/project_folder/labs/second_project/data/raw/df_final_web_data_pt_2.txt')\n",
    "merged_df = pd.concat([df_2, df_3], axis=0)\n",
    "\n",
    "df_merged = df_1.merge(merged_df, on='client_id', how='inner')\n",
    "df_merged['date_time'] = pd.to_datetime(df_merged['date_time'])"
   ]
  },
  {
   "cell_type": "markdown",
   "id": "ac6462d6-51fd-4b80-ac58-9d51704622de",
   "metadata": {},
   "source": [
    "### Groups sorting to control/test"
   ]
  },
  {
   "cell_type": "code",
   "execution_count": null,
   "id": "0b667030-dcbf-4ef8-a6fa-da2f4e2fb1e1",
   "metadata": {},
   "outputs": [],
   "source": [
    "control_group = df_merged[df_merged['variation'] == 'Control']\n",
    "test_group = df_merged[df_merged['variation'] == 'Test']\n",
    "\n",
    "# Sort control group\n",
    "control_group_sorted = control_group.sort_values(by=['client_id', 'visit_id', 'process_step', 'date_time'])\n",
    "\n",
    "# Sort test group\n",
    "test_group_sorted = test_group.sort_values(by=['client_id', 'visit_id', 'process_step', 'date_time'])"
   ]
  },
  {
   "cell_type": "markdown",
   "id": "d216839a-ecc3-4069-856e-93ddb6c40502",
   "metadata": {},
   "source": [
    "### Adding age group"
   ]
  },
  {
   "cell_type": "code",
   "execution_count": null,
   "id": "bc46dfbf-dc33-4205-a577-52d2230b760b",
   "metadata": {},
   "outputs": [],
   "source": [
    "# define age bins and categorize ages\n",
    "bins = [0, 30, 40, 50, 100] # You can decide the intervals based on your data\n",
    "labels = ['Under 30', '30-39', '40-49', '50 and above']\n",
    "df_merged['age_group'] = pd.cut(df_merged['clnt_age'], bins=bins, labels=labels)\n",
    "control_group_sorted['age_group'] = pd.cut(control_group_sorted['clnt_age'], bins=bins, labels=labels)\n",
    "test_group_sorted['age_group'] = pd.cut(test_group_sorted['clnt_age'], bins=bins, labels=labels)\n"
   ]
  },
  {
   "cell_type": "markdown",
   "id": "bdc6e399-f62b-4556-bacb-84d486898687",
   "metadata": {},
   "source": [
    "### Function to get latest starts"
   ]
  },
  {
   "cell_type": "code",
   "execution_count": null,
   "id": "3ae95143-ada3-4c33-9881-ec2e2e94dfb5",
   "metadata": {},
   "outputs": [],
   "source": [
    "# Function to get latest starts\n",
    "def filter_latest_starts(group_df):\n",
    "    starts_only = group_df[group_df['process_step'] == 'start']\n",
    "    latest_starts = starts_only.loc[starts_only.groupby('client_id')['date_time'].idxmax()]\n",
    "    # Merge back to get the full process after the last start\n",
    "    return df_merged.merge(latest_starts[['client_id', 'date_time']], on=['client_id', 'date_time'], how='inner')\n",
    "\n",
    "# Apply to both groups\n",
    "filtered_control = filter_latest_starts(control_group)\n",
    "filtered_test = filter_latest_starts(test_group)\n",
    "\n",
    "#Check if it works\n",
    "client_total_entries = df_merged[df_merged[\"client_id\"] == 2304905]\n",
    "client_last_start = filtered_control[filtered_control['client_id'] == 2304905 ]"
   ]
  },
  {
   "cell_type": "markdown",
   "id": "9338f783-4876-466f-96d7-07a8914dd1c5",
   "metadata": {},
   "source": [
    "### Completion rate analysis\n",
    "\n",
    "- number of customers who reached the end of a step out of total who started"
   ]
  },
  {
   "cell_type": "code",
   "execution_count": null,
   "id": "40743dd6-eb2e-41ae-88ca-e25447863581",
   "metadata": {},
   "outputs": [],
   "source": [
    "#completion rate based on visit_id\n",
    "def calculate_within_visit_completion_rate(group):\n",
    "    # Total unique visits that started\n",
    "    started_visits = group[group['process_step'] == 'start']['visit_id'].nunique()\n",
    "\n",
    "    # Unique visits that completed each step\n",
    "    completed_visits = (\n",
    "        group[group['process_step'] != 'start']\n",
    "        .groupby('process_step')['visit_id']\n",
    "        .nunique()\n",
    "        .reset_index(name='completed_visits')\n",
    "    )\n",
    "\n",
    "    # Add the total started visits as a constant column\n",
    "    completed_visits['started_visits'] = started_visits\n",
    "\n",
    "    # Calculate the completion rate\n",
    "    completed_visits['completion_rate'] = (\n",
    "        completed_visits['completed_visits'] / completed_visits['started_visits']\n",
    "    ) * 100\n",
    "\n",
    "    return completed_visits\n",
    "\n",
    "# Calculate completion rates for the control and test groups\n",
    "control_completion_rate = calculate_within_visit_completion_rate(control_group_sorted)\n",
    "test_completion_rate = calculate_within_visit_completion_rate(test_group_sorted)\n",
    "\n",
    "# Display the results\n",
    "print(\"Control Group Within-Visit Completion Rates:\")\n",
    "display(control_completion_rate)\n",
    "\n",
    "print(\"Test Group Within-Visit Completion Rates:\")\n",
    "display(test_completion_rate)"
   ]
  },
  {
   "cell_type": "markdown",
   "id": "75e705cd-2b89-4ade-87b5-018bda028a5d",
   "metadata": {},
   "source": [
    "### Completion rate based on client_id "
   ]
  },
  {
   "cell_type": "code",
   "execution_count": null,
   "id": "996ccb01-5136-4d34-92f2-3783392e650e",
   "metadata": {},
   "outputs": [],
   "source": [
    "#completion rate based on client_id\n",
    "def calculate_within_visit_completion_rate(group):\n",
    "    # Total unique visits that started\n",
    "    started_visits = group[group['process_step'] == 'start']['client_id'].nunique()\n",
    "\n",
    "    # Unique visits that completed each step\n",
    "    completed_visits = (\n",
    "        group[group['process_step'] != 'start']\n",
    "        .groupby('process_step')['client_id']\n",
    "        .nunique()\n",
    "        .reset_index(name='completed_visits')\n",
    "    )\n",
    "\n",
    "    # Add the total started visits as a constant column\n",
    "    completed_visits['started_visits'] = started_visits\n",
    "\n",
    "    # Calculate the completion rate\n",
    "    completed_visits['completion_rate'] = (\n",
    "        completed_visits['completed_visits'] / completed_visits['started_visits']\n",
    "    ) * 100\n",
    "\n",
    "    return completed_visits\n",
    "\n",
    "# Calculate completion rates for the control and test groups\n",
    "control_completion_rate_id = calculate_within_visit_completion_rate(control_group_sorted)\n",
    "test_completion_rate_id = calculate_within_visit_completion_rate(test_group_sorted)\n",
    "\n",
    "\n",
    "\n",
    "# Display the results\n",
    "print(\"Control Group Within-Visit Completion Rates:\")\n",
    "display(control_completion_rate_id)\n",
    "\n",
    "print(\"Test Group Within-Visit Completion Rates:\")\n",
    "display(test_completion_rate_id)"
   ]
  },
  {
   "cell_type": "markdown",
   "id": "a61607b0-7a88-42aa-a4a5-7d7be504267b",
   "metadata": {},
   "source": [
    "### Completion rate chart"
   ]
  },
  {
   "cell_type": "code",
   "execution_count": null,
   "id": "e69699cb-edd7-4949-bf51-1b2a0710aa2d",
   "metadata": {},
   "outputs": [],
   "source": [
    "merged_data = pd.merge(control_completion_rate, test_completion_rate, on='process_step', suffixes=('_control', '_test'))\n",
    "\n",
    "# Plotting\n",
    "plt.figure(figsize=(10, 6))\n",
    "bar_width = 0.35\n",
    "index = range(len(merged_data))\n",
    "\n",
    "# Create bar chart\n",
    "plt.bar(index, merged_data['completion_rate_control'], bar_width, label='Control Group', color='blue')\n",
    "plt.bar(\n",
    "    [i + bar_width for i in index],\n",
    "    merged_data['completion_rate_test'],\n",
    "    bar_width,\n",
    "    label='Test Group',\n",
    "    color='orange'\n",
    ")\n",
    "\n",
    "# Add labels, title, and legend\n",
    "plt.xlabel('Process Step')\n",
    "plt.ylabel('Completion Rate (%)')\n",
    "plt.title('Completion Rates by Process Step')\n",
    "plt.xticks([i + bar_width / 2 for i in index], merged_data['process_step'])\n",
    "plt.legend()\n",
    "plt.tight_layout()\n",
    "\n",
    "# Show the plot\n",
    "plt.show()"
   ]
  },
  {
   "cell_type": "markdown",
   "metadata": {},
   "source": [
    "### Completion rates for the control and test groups based on age group"
   ]
  },
  {
   "cell_type": "code",
   "execution_count": null,
   "id": "43c0138d-a978-4dda-9b92-3ba5c7e9ce48",
   "metadata": {},
   "outputs": [],
   "source": [
    "def calculate_within_visit_completion_rate_by_age(group):\n",
    "    # Total unique visits that started\n",
    "    started_visits = group[group['process_step'] == 'start']['client_id'].nunique()\n",
    "\n",
    "    # Unique visits that completed each step, grouped by age_group\n",
    "    completed_visits = (\n",
    "        group[group['process_step'] != 'start']\n",
    "        .groupby(['process_step', 'age_group'])['client_id']\n",
    "        .nunique()\n",
    "        .reset_index(name='completed_visits')\n",
    "    )\n",
    "\n",
    "    # Add the total started visits as a constant column\n",
    "    completed_visits['started_visits'] = started_visits\n",
    "\n",
    "    # Calculate the completion rate\n",
    "    completed_visits['completion_rate'] = (\n",
    "        completed_visits['completed_visits'] / completed_visits['started_visits']\n",
    "    ) * 100\n",
    "\n",
    "    return completed_visits\n",
    "\n",
    "# Calculate completion rates for the control and test groups based on age group\n",
    "control_completion_rate_by_age = calculate_within_visit_completion_rate_by_age(control_group_sorted)\n",
    "test_completion_rate_by_age = calculate_within_visit_completion_rate_by_age(test_group_sorted)\n",
    "\n",
    "# Display the results for control and test groups\n",
    "print(\"Control Group Completion Rates by Age Group:\")\n",
    "display(control_completion_rate_by_age)\n",
    "\n",
    "print(\"Test Group Completion Rates by Age Group:\")\n",
    "display(test_completion_rate_by_age)\n"
   ]
  },
  {
   "cell_type": "markdown",
   "id": "9bd23675-8c15-4e13-abdc-b8eff006e080",
   "metadata": {},
   "source": [
    "### Completion rate hypothesis test using two-proportion z-test"
   ]
  },
  {
   "cell_type": "code",
   "execution_count": null,
   "id": "028f324e-cba4-4303-828b-9997dd614ef7",
   "metadata": {},
   "outputs": [],
   "source": [
    "import scipy.stats as stats\n",
    "\n",
    "# function to perform a two-proportion z-test\n",
    "def two_proportion_z_test(p1, p2, n1, n2):\n",
    "    # Calculate the pooled proportion\n",
    "    P = (p1 * n1 + p2 * n2) / (n1 + n2)\n",
    "    \n",
    "    # Calculate the standard error\n",
    "    SE = (P * (1 - P) * (1 / n1 + 1 / n2)) ** 0.5\n",
    "    \n",
    "    # Calculate the z-statistic,\n",
    "    \"\"\"\n",
    "    The Z-statistic measures the difference between control and test in terms of standard deviations. \n",
    "    The higher the z-stat it is(whether positive or negative), the more significant the difference between the groups. \n",
    "    If the p-value is less than the chosen significance level (e.g., 0.05), we reject the null hypothesis \n",
    "    and conclude that the observed difference is statistically significant.\n",
    "    \"\"\"\n",
    "    z = (p1 - p2) / SE\n",
    "    \n",
    "    # Calculate the p-value\n",
    "    p_value = 2 * (1 - stats.norm.cdf(abs(z)))  # Two-tailed test\n",
    "    \n",
    "    return z, p_value\n",
    "\n",
    "# Hypothesis testing for each step\n",
    "steps = ['confirm', 'step_1', 'step_2', 'step_3']\n",
    "\n",
    "for step in steps:\n",
    "s    # Get completion rates for both control and test groups for the current step\n",
    "    control_completions = control_completion_rate[control_completion_rate['process_step'] == step]['completion_rate'].values[0]\n",
    "    test_completions = test_completion_rate[test_completion_rate['process_step'] == step]['completion_rate'].values[0]\n",
    "    \n",
    "    control_total = control_completion_rate[control_completion_rate['process_step'] == step]['started_visits'].values[0]\n",
    "    test_total = test_completion_rate[test_completion_rate['process_step'] == step]['started_visits'].values[0]\n",
    "\n",
    "    # Calculate proportions (completion rate)\n",
    "    p_control = control_completions / 100  # Convert completion rate to a proportion\n",
    "    p_test = test_completions / 100  # Convert completion rate to a proportion\n",
    "    \n",
    "    # Perform the two-proportion z-test\n",
    "    z_stat, p_value = two_proportion_z_test(p_control, p_test, control_total, test_total)\n",
    "    \n",
    "    # Print results\n",
    "    print(f\"Step: {step}\")\n",
    "    print(f\"Z-statistic: {z_stat:.4f}\")\n",
    "    print(f\"P-value: {p_value:.4f}\")\n",
    "    \n",
    "    # Interpretation based on p-value\n",
    "    if p_value < 0.05:\n",
    "        print(f\"There is a significant difference in completion rates between control and test group for step: {step}.\")\n",
    "    else:\n",
    "        print(f\"There is no significant difference in completion rates between control and test group for step: {step}.\")\n",
    "    print(\"\\n\")\n"
   ]
  },
  {
   "cell_type": "markdown",
   "id": "eadbe4cd-fff8-47ad-a8c8-935c0b97a3fc",
   "metadata": {},
   "source": [
    "### Completion Rate with a Cost-Effectiveness Threshold"
   ]
  },
  {
   "cell_type": "code",
   "execution_count": null,
   "id": "ad0e5692-399f-4a32-9bbb-d7bf34f49daa",
   "metadata": {},
   "outputs": [],
   "source": [
    "# calculate the completion rate for each group across all steps\n",
    "control_mean = control_completion_rate['completion_rate'].mean()\n",
    "test_mean = test_completion_rate['completion_rate'].mean()\n",
    "\n",
    "# two-sample t-test to check if the completion rates are significantly different\n",
    "_, p_value = st.ttest_ind(control_completion_rate['completion_rate'], \n",
    "                                test_completion_rate['completion_rate'], \n",
    "                                alternative='two-sided')\n",
    "\n",
    "# display the results for completion rate difference significance\n",
    "print(f\"Average completion rate per Control group: {control_mean:.2f}%\")\n",
    "print(f\"Average completion rate per Test group: {test_mean:.2f}%\")\n",
    "print(f\"Statistic: {_:.4f}\") #how much the means of the two groups differ relative to the variability of the data\n",
    "print(f\"P-value: {p_value:.4f}\") #check if the difference in average tenure between the two groups is statistically significant.\n",
    "\n",
    "# hypothesis test: Is the completion rate difference significant?\n",
    "alpha = 0.05  \n",
    "if p_value < alpha:\n",
    "    print(\"Reject the null hypothesis: The completion rates are significantly different between the Test and Control groups.\")\n",
    "else:\n",
    "    print(\"Fail to reject the null hypothesis: The completion rates are not significantly different between the Test and Control groups.\")\n",
    "\n",
    "# check if the increase in completion rate meets the 5% threshold\n",
    "completion_rate_increase = test_mean - control_mean\n",
    "print(f\"Completion rate increase: {completion_rate_increase:.2f}%\")\n",
    "\n",
    "# check if the increase meets or exceeds the 5% threshold\n",
    "if completion_rate_increase >= 5:\n",
    "    print(\"The completion rate increase meets the 5% threshold, justifying the cost of the new design.\")\n",
    "else:\n",
    "    print(\"The completion rate increase does not meet the 5% threshold. The new design may not justify its cost.\")\n"
   ]
  },
  {
   "cell_type": "markdown",
   "id": "cceb0b39-1153-4be6-85a0-ddd3204ae736",
   "metadata": {},
   "source": [
    "### Additional hypothesis test \n",
    "\n",
    " Tenure: Test if client tenure (how long they've been with Vanguard) influences engagement with the new design, using two-sample t-test"
   ]
  },
  {
   "cell_type": "code",
   "execution_count": null,
   "id": "7f606334-3678-4526-8837-0cebd060bbcc",
   "metadata": {},
   "outputs": [],
   "source": [
    "control_tenure = control_group_sorted['clnt_tenure_yr'] \n",
    "test_tenure = test_group_sorted['clnt_tenure_yr']        \n",
    "# two-sample t-test to compare the means of tenure between the two groups\n",
    "_, p_value = st.ttest_ind(control_tenure, test_tenure, equal_var=True)  # assuming equal variance\n",
    "#results\n",
    "print(f\"Average tenure per Control group: {control_tenure.mean():.2f} years\")\n",
    "print(f\"Average tenure per Test group: {test_tenure.mean():.2f} years\")\n",
    "print(f\"Statistic: {_:.4f}\")\n",
    "print(f\"P-value: {p_value:.4f}\")\n",
    "\n",
    "# hypothesis test: Is there a significant difference in tenure between the two groups?\n",
    "alpha = 0.05  # significance level\n",
    "\n",
    "if p_value < alpha:\n",
    "    print(\"Reject the null hypothesis: The average tenure is significantly different between the Test and Control groups.\")\n",
    "else:\n",
    "    print(\"Fail to reject the null hypothesis: The average tenure is not significantly different between the Test and Control groups.\")\n"
   ]
  },
  {
   "cell_type": "markdown",
   "id": "c312fc03-ca01-4b67-ade2-9764bfe08fc3",
   "metadata": {},
   "source": [
    "#### Age: Test if the average age of clients engaging with the new design is different from those using the old design"
   ]
  },
  {
   "cell_type": "code",
   "execution_count": null,
   "id": "52197c62-2bc7-40dd-bc2b-6e79ec953231",
   "metadata": {},
   "outputs": [],
   "source": [
    "control_age = control_group_sorted['clnt_age']\n",
    "test_age = test_group_sorted['clnt_age']\n",
    "\n",
    "# two-sample t-test to compare the means of age between the two groups\n",
    "_, p_value = st.ttest_ind(control_age, test_age, equal_var=True)  # Assuming equal variance\n",
    "\n",
    "# results\n",
    "print(f\"Control Group Mean Age: {control_age.mean():.2f} years\")\n",
    "print(f\"Test Group Mean Age: {test_age.mean():.2f} years\")\n",
    "print(f\"Statistic: {_:.4f}\")\n",
    "print(f\"P-value: {p_value:.4f}\")\n",
    "\n",
    "# hypothesis test: Is there a significant difference in age between the two groups?\n",
    "alpha = 0.05  #\n",
    "\n",
    "if p_value < alpha:\n",
    "    print(\"Reject the null hypothesis: The average age is significantly different between the Test and Control groups.\")\n",
    "else:\n",
    "    print(\"Fail to reject the null hypothesis: The average age is not significantly different between the Test and Control groups.\")"
   ]
  },
  {
   "cell_type": "markdown",
   "id": "114f634a-4b24-4e4a-86e7-1914e7e3caa7",
   "metadata": {},
   "source": [
    "The statistical test (t-test) suggests that the average ages of the two groups are indeed different. Since the p-value is less than 0.05, this indicates a statistically significant difference in age between the Test and Control groups."
   ]
  }
 ],
 "metadata": {
  "kernelspec": {
   "display_name": "Python 3 (ipykernel)",
   "language": "python",
   "name": "python3"
  },
  "language_info": {
   "codemirror_mode": {
    "name": "ipython",
    "version": 3
   },
   "file_extension": ".py",
   "mimetype": "text/x-python",
   "name": "python",
   "nbconvert_exporter": "python",
   "pygments_lexer": "ipython3",
   "version": "3.12.4"
  }
 },
 "nbformat": 4,
 "nbformat_minor": 5
}
