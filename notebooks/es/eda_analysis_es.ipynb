{
 "cells": [
  {
   "cell_type": "code",
   "execution_count": null,
   "id": "36c71ab5-b2a3-473f-b138-b5680be62144",
   "metadata": {},
   "outputs": [],
   "source": [
    "import pandas as pd\n",
    "import matplotlib.pyplot as plt\n",
    "import seaborn as sns\n",
    "import numpy as np\n",
    "\n",
    "%matplotlib inline"
   ]
  },
  {
   "cell_type": "code",
   "execution_count": null,
   "id": "bb8ad1f4-d548-41a4-a0f6-f7a5926cdac3",
   "metadata": {},
   "outputs": [],
   "source": [
    "df_1 = pd.read_csv(r'/Users/eliskasimova/Desktop/data_analytics_course_2024/project_folder/labs/second_project/data/raw/df_final_demo.txt')\n",
    "df_1"
   ]
  },
  {
   "cell_type": "code",
   "execution_count": null,
   "id": "aff0f521-fc32-43d3-8d59-ff327258fc0a",
   "metadata": {},
   "outputs": [],
   "source": [
    "def clean_df_final_demo():\n",
    "    #key fields client_id, clnt_age, gender, num_accts, balance, clnt_tenure_yr\n",
    "    df_copy = pd.read_csv(\"df_final_demo.txt\")\n",
    "    df_copy = df_copy.dropna()\n",
    "    corrected_columns = {\"gendr\" : \"gender\", \"bal\" : \"balance\"}\n",
    "    df_copy.rename(columns=corrected_columns, inplace = True)\n",
    "    df_copy = df_copy[df_copy['gender'] != 'X']    \n",
    "    gender_mapping = {\n",
    "    'M': 'Male',\n",
    "    'F': 'Female',\n",
    "    'U': 'Unknown',\n",
    "    }\n",
    "    df_copy['gender'] = df_copy['gender'].map(gender_mapping)\n",
    "    return df_copy\n",
    "\n",
    "df_1 = clean_df_final_demo()"
   ]
  },
  {
   "cell_type": "code",
   "execution_count": null,
   "id": "df86fc7e-cb3e-4553-9e85-fb228f407350",
   "metadata": {},
   "outputs": [],
   "source": [
    "def clean_df_experiment_clients():\n",
    "    df_copy = pd.read_csv(\"df_final_experiment_clients.txt\")\n",
    "    df_copy = df_copy.dropna() # dropping the NaN values\n",
    "    df_copy.rename(columns={'Variation': 'variation'}, inplace=True)\n",
    "    return df_copy\n",
    "\n",
    "df_3 = clean_df_experiment_clients()"
   ]
  },
  {
   "cell_type": "code",
   "execution_count": null,
   "id": "1b6c1e72-22d1-4ef7-8083-9514f27272d5",
   "metadata": {},
   "outputs": [],
   "source": [
    "df_merged = df_1.merge(df_3, on='client_id', how='inner')\n",
    "df_merged.dtypes"
   ]
  },
  {
   "cell_type": "code",
   "execution_count": null,
   "id": "3a89656a-3d7c-4e61-8d38-8e331262c70c",
   "metadata": {},
   "outputs": [],
   "source": [
    "# -------------------------------------\n",
    "# Demographics analysis\n",
    "# -------------------------------------\n",
    "# #####################################\n",
    "# age analysis\n",
    "# #####################################\n",
    "print(df_merged['clnt_age'].value_counts())\n",
    "sns.histplot(df_merged['clnt_age'], bins=20, kde=True);"
   ]
  },
  {
   "cell_type": "code",
   "execution_count": null,
   "id": "893a6a79-d8b0-4c97-bb6b-3692310580eb",
   "metadata": {},
   "outputs": [],
   "source": [
    "# -------------------------------------\n",
    "# Demographics Analysis\n",
    "# -------------------------------------\n",
    "\n",
    "# #####################################\n",
    "# overview\n",
    "# #####################################\n",
    "\n",
    "primary_clients = df_merged.groupby('gender').agg({\n",
    "    'clnt_age': ['mean', 'median'],\n",
    "    'clnt_tenure_yr': ['mean', 'median'],\n",
    "    'balance': ['mean', 'median']\n",
    "})\n",
    "print(primary_clients)\n",
    "\n",
    "# gender analysis\n",
    "\n",
    "# gender distribution pie chart\n",
    "df_merged['gender'].value_counts().plot(kind='pie', autopct='%1.1f%%')\n",
    "plt.title('Gender Distribution')\n",
    "plt.ylabel('')  # not useful in our case\n",
    "plt.show()\n",
    "\n",
    "# #####################################\n",
    "# gender distribution count\n",
    "print(df_merged[\"gender\"].value_counts())"
   ]
  },
  {
   "cell_type": "code",
   "execution_count": null,
   "id": "b4409849-7b13-4c22-a582-ddfff3581c20",
   "metadata": {},
   "outputs": [],
   "source": [
    "# -------------------------------------\n",
    "# Tenure Distribution\n",
    "# -------------------------------------\n",
    "# #####################################\n",
    "# how long clients have been with Vanguard\n",
    "# #####################################\n",
    "print(\"tenure_mode:\", df_merged['clnt_tenure_yr'].mode())\n",
    "# #####################################\n",
    "sns.histplot(df_merged['clnt_tenure_yr'], bins=15, kde=True)\n",
    "plt.title('Tenure Distribution')\n",
    "plt.xlabel('Years of Tenure')\n",
    "plt.ylabel('Frequency')\n",
    "plt.show()"
   ]
  },
  {
   "cell_type": "code",
   "execution_count": null,
   "id": "2ff14a02-b7d4-4205-a8fb-239153341f6d",
   "metadata": {},
   "outputs": [],
   "source": [
    "# -------------------------------------\n",
    "# Account balances\n",
    "# -------------------------------------\n",
    "# #####################################\n",
    "# Understanding account balances might highlight financial engagement:\n",
    "# #####################################"
   ]
  }
 ],
 "metadata": {
  "kernelspec": {
   "display_name": "Python 3 (ipykernel)",
   "language": "python",
   "name": "python3"
  },
  "language_info": {
   "codemirror_mode": {
    "name": "ipython",
    "version": 3
   },
   "file_extension": ".py",
   "mimetype": "text/x-python",
   "name": "python",
   "nbconvert_exporter": "python",
   "pygments_lexer": "ipython3",
   "version": "3.12.4"
  }
 },
 "nbformat": 4,
 "nbformat_minor": 5
}
