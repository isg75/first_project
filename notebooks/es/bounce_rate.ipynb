{
 "cells": [
  {
   "cell_type": "code",
   "execution_count": null,
   "id": "2ac9acb5-99c0-4b7f-8768-f298649b7f37",
   "metadata": {},
   "outputs": [],
   "source": [
    "import pandas as pd\n",
    "import matplotlib.pyplot as plt\n",
    "import seaborn as sns\n",
    "import numpy as np\n",
    "import plotly.graph_objects as go\n",
    "import scipy.stats as stats\n",
    "from scipy import stats\n",
    "%matplotlib inline"
   ]
  },
  {
   "cell_type": "code",
   "execution_count": null,
   "id": "e443966e-15ab-43e8-b1c4-cb39257f2b87",
   "metadata": {
    "scrolled": true
   },
   "outputs": [],
   "source": [
    "df_1 = pd.read_csv(r'/Users/eliskasimova/Desktop/data_analytics_course_2024/project_folder/labs/second_project/data/clean/df_merged.csv')\n",
    "df_2 = pd.read_csv(r'/Users/eliskasimova/Desktop/data_analytics_course_2024/project_folder/labs/second_project/data/raw/df_final_web_data_pt_1.txt')\n",
    "df_3 = pd.read_csv(r'/Users/eliskasimova/Desktop/data_analytics_course_2024/project_folder/labs/second_project/data/raw/df_final_web_data_pt_2.txt')\n",
    "merged_df = pd.concat([df_2, df_3], axis=0)\n",
    "\n",
    "df_merged = df_1.merge(merged_df, on='client_id', how='inner')\n",
    "df_merged['date_time'] = pd.to_datetime(df_merged['date_time'])"
   ]
  },
  {
   "cell_type": "markdown",
   "id": "ac6462d6-51fd-4b80-ac58-9d51704622de",
   "metadata": {},
   "source": [
    "### Groups sorting to control/test"
   ]
  },
  {
   "cell_type": "code",
   "execution_count": null,
   "id": "0b667030-dcbf-4ef8-a6fa-da2f4e2fb1e1",
   "metadata": {},
   "outputs": [],
   "source": [
    "control_group = df_merged[df_merged['variation'] == 'Control']\n",
    "test_group = df_merged[df_merged['variation'] == 'Test']\n",
    "\n",
    "# Sort control group\n",
    "control_group_sorted = control_group.sort_values(by=['client_id', 'visit_id', 'process_step', 'date_time'])\n",
    "\n",
    "# Sort test group\n",
    "test_group_sorted = test_group.sort_values(by=['client_id', 'visit_id', 'process_step', 'date_time'])\n",
    "\n",
    "print(control_group_sorted.shape)\n",
    "print(test_group_sorted.shape)"
   ]
  },
  {
   "cell_type": "markdown",
   "id": "b267b238-bdba-4765-a268-3a9b99c3e617",
   "metadata": {},
   "source": [
    "### Adding age groups"
   ]
  },
  {
   "cell_type": "code",
   "execution_count": null,
   "id": "01f9c643-9c11-4b1c-9019-af94ab146338",
   "metadata": {},
   "outputs": [],
   "source": [
    "# define age bins and categorize ages\n",
    "bins = [0, 30, 40, 50, 100] # You can decide the intervals based on your data\n",
    "labels = ['Under 30', '30-39', '40-49', '50 and above']\n",
    "df_merged['age_group'] = pd.cut(df_merged['clnt_age'], bins=bins, labels=labels)\n",
    "control_group_sorted['age_group'] = pd.cut(control_group_sorted['clnt_age'], bins=bins, labels=labels)\n",
    "test_group_sorted['age_group'] = pd.cut(test_group_sorted['clnt_age'], bins=bins, labels=labels)"
   ]
  },
  {
   "cell_type": "markdown",
   "id": "37f7ed86-ae1c-4806-ad0a-6675454703f6",
   "metadata": {},
   "source": [
    "### Additional KPI\n",
    "### Calculate Bounce rate for Control and Test groups\n",
    "\n",
    "- percentage of clients who left the process at each step without progressing to the next step"
   ]
  },
  {
   "cell_type": "code",
   "execution_count": null,
   "id": "c83f7fa4-db9d-4023-8bb4-5883751bbd16",
   "metadata": {},
   "outputs": [],
   "source": [
    "# Calculate Bounce rate for Control and Test groups\n",
    "def calculate_dropoff_rate(group):\n",
    "    steps = ['start', 'step_1', 'step_2', 'step_3', 'confirm']\n",
    "    dropoff_rates = {}  # To store the drop-off percentages at each step\n",
    "    \n",
    "    # Count the drop-offs at each step\n",
    "    for i in range(len(steps) - 1):\n",
    "        current_step = steps[i]\n",
    "        next_step = steps[i + 1]\n",
    "        # Find the total number of clients who started at current_step\n",
    "        started = group[group['process_step'] == current_step]['client_id'].nunique()\n",
    "        # Find the number of clients who reached the next step\n",
    "        reached_next = group[group['process_step'] == next_step]['client_id'].nunique()\n",
    "        # Calculate the drop-off rate as a percentage\n",
    "        if started > 0:\n",
    "            dropoff_rate = ((started - reached_next) / started) * 100\n",
    "        else:\n",
    "            dropoff_rate = 0\n",
    "        \n",
    "        dropoff_rates[current_step] = dropoff_rate\n",
    "    \n",
    "    return dropoff_rates\n",
    "\n",
    "# Calculate drop-off rates for control and test groups\n",
    "control_dropoff_rate = calculate_dropoff_rate(control_group_sorted)\n",
    "test_dropoff_rate = calculate_dropoff_rate(test_group_sorted)\n",
    "\n",
    "print(f\"Control group bounce rates(%):\")\n",
    "for step, rate in control_dropoff_rate.items():\n",
    "    print(f\"{step}: {rate:.2f}%\")\n",
    "\n",
    "print(f\"\\nTest group bounce rates(%):\")\n",
    "for step, rate in test_dropoff_rate.items():\n",
    "    print(f\"{step}: {rate:.2f}%\")"
   ]
  },
  {
   "cell_type": "markdown",
   "id": "6be1b15d-3e39-461a-acf8-03ba44bdf090",
   "metadata": {},
   "source": [
    "### Calculate Bounce rate for Control and Test groups per Age group"
   ]
  },
  {
   "cell_type": "code",
   "execution_count": null,
   "id": "c75a3d63-804a-47c9-9ad1-78edda101a98",
   "metadata": {},
   "outputs": [],
   "source": [
    "import pandas as pd\n",
    "\n",
    "# Define custom order for age groups\n",
    "age_group_order = ['Under 30', '30-39', '40-49', '50 and above']\n",
    "\n",
    "# Calculate Drop-off Rate for each Age Group in Control and Test Groups\n",
    "def calculate_dropoff_rate_by_age(group):\n",
    "    # Define the steps in the process\n",
    "    steps = ['start', 'step_1', 'step_2', 'step_3', 'confirm']\n",
    "    dropoff_rates = {}  # To store the drop-off percentages at each step, grouped by age\n",
    "    \n",
    "    # Group by age group to calculate drop-off rates per age group\n",
    "    age_groups = group['age_group'].unique()\n",
    "\n",
    "    # Convert the age_group column to a categorical type with the custom order\n",
    "    group['age_group'] = pd.Categorical(group['age_group'], categories=age_group_order, ordered=True)\n",
    "    \n",
    "    # Iterate over each age group\n",
    "    for age_group in age_groups:\n",
    "        group_by_age = group[group['age_group'] == age_group]\n",
    "        age_group_dropoff = {}  # To store drop-off rates for this particular age group\n",
    "        \n",
    "        # Count the drop-offs at each step\n",
    "        for i in range(len(steps) - 1):\n",
    "            current_step = steps[i]\n",
    "            next_step = steps[i + 1]\n",
    "            # Find the total number of clients who started at current_step\n",
    "            started = group_by_age[group_by_age['process_step'] == current_step]['client_id'].nunique()\n",
    "            # Find the number of clients who reached the next step\n",
    "            reached_next = group_by_age[group_by_age['process_step'] == next_step]['client_id'].nunique()\n",
    "            # Calculate the drop-off rate as a percentage\n",
    "            if started > 0:\n",
    "                dropoff_rate = ((started - reached_next) / started) * 100\n",
    "            else:\n",
    "                dropoff_rate = 0\n",
    "            # Store the drop-off rate for the current step\n",
    "            age_group_dropoff[current_step] = dropoff_rate\n",
    "        \n",
    "        # Store the drop-off rates for this age group\n",
    "        dropoff_rates[age_group] = age_group_dropoff\n",
    "    \n",
    "    return dropoff_rates\n",
    "\n",
    "# Calculate drop-off rates for control and test groups by age group\n",
    "control_dropoff_rate_by_age = calculate_dropoff_rate_by_age(control_group_sorted)\n",
    "test_dropoff_rate_by_age = calculate_dropoff_rate_by_age(test_group_sorted)\n",
    "\n",
    "# Function to print drop-off rates in the correct order\n",
    "def print_dropoff_rates_by_age(dropoff_rates):\n",
    "    for age_group in age_group_order:\n",
    "        if age_group in dropoff_rates:  # Check if the age group exists in the dropoff rates\n",
    "            print(f\"\\nAge Group: {age_group}\")\n",
    "            for step, rate in dropoff_rates[age_group].items():\n",
    "                print(f\"{step}: {rate:.2f}%\")\n",
    "\n",
    "# Display the drop-off rates for control group by age group\n",
    "print(f\"Control Group Bounce Rates by Age Group:\")\n",
    "print_dropoff_rates_by_age(control_dropoff_rate_by_age)\n",
    "\n",
    "# Display the drop-off rates for test group by age group\n",
    "print(f\"\\nTest Group Bounce Rates by Age Group:\")\n",
    "print_dropoff_rates_by_age(test_dropoff_rate_by_age)\n"
   ]
  },
  {
   "cell_type": "markdown",
   "id": "d2ca87e2-4b00-42a9-bb3e-58c570c33c53",
   "metadata": {},
   "source": [
    "### Function to calculate the bounce rate"
   ]
  },
  {
   "cell_type": "code",
   "execution_count": null,
   "id": "485ba1f7-666f-47b5-8faa-eff61ab598a0",
   "metadata": {},
   "outputs": [],
   "source": [
    "\n",
    "# Define the sequence of steps in the process\n",
    "    steps = ['start', 'step_1', 'step_2', 'step_3', 'confirm']\n",
    "    # Initialize a list to store drop-off rates for all age groups\n",
    "    dropoff_data = []\n",
    "\n",
    "    # Loop over each unique age group in the specified column\n",
    "    for age in group[age_column].unique():\n",
    "        # Filter the dataset for the current age group\n",
    "        age_group_data = group[group[age_column] == age]\n",
    "        # Initialize a dictionary to store drop-off rates for the current age group\n",
    "        dropoff_rates = {}\n",
    "\n",
    "        # Loop through the steps (except the last one) to calculate drop-off rates\n",
    "        for i in range(len(steps) - 1):\n",
    "            # Get the current step\n",
    "            current_step = steps[i]\n",
    "            # Get the next step\n",
    "            next_step = steps[i + 1]\n",
    "                        \n",
    "            # Find the total number of clients who started at current_step for the current age group\n",
    "            started = age_group_data[age_group_data['process_step'] == current_step]['client_id'].nunique()\n",
    "            \n",
    "            # Find the number of clients who reached the next step for the current age group\n",
    "            reached_next = age_group_data[age_group_data['process_step'] == next_step]['client_id'].nunique()\n",
    "            \n",
    "            # Calculate the drop-off rate as a percentage\n",
    "            if started > 0:\n",
    "                dropoff_rate = ((started - reached_next) / started) * 100\n",
    "            else:\n",
    "                dropoff_rate = 0\n",
    "            \n",
    "            dropoff_rates[current_step] = dropoff_rate\n",
    "\n",
    "        # Append the drop-off rates for this age group\n",
    "        dropoff_data.append({'age_group': age, **dropoff_rates})\n",
    "\n",
    "    return pd.DataFrame(dropoff_data)\n",
    "\n",
    "# Calculate drop-off rates for the control group by age group\n",
    "control_dropoff_rate_by_age = calculate_dropoff_rate_by_age_group(control_group_sorted)\n",
    "\n",
    "# Calculate drop-off rates for the test group by age group\n",
    "test_dropoff_rate_by_age = calculate_dropoff_rate_by_age_group(test_group_sorted)\n",
    "\n",
    "# Display the tables\n",
    "print(\"Control Group Drop-off Rates by Age Group:\")\n",
    "print(control_dropoff_rate_by_age)\n",
    "\n",
    "print(\"\\nTest Group Drop-off Rates by Age Group:\")\n",
    "print(test_dropoff_rate_by_age)\n"
   ]
  },
  {
   "cell_type": "markdown",
   "id": "02e83621-9795-4d4f-a794-759218ecb8f2",
   "metadata": {},
   "source": [
    "### Creating age group columns"
   ]
  },
  {
   "cell_type": "code",
   "execution_count": null,
   "id": "bc8fb0bd-f667-41a8-ab75-4d1c944c7549",
   "metadata": {},
   "outputs": [],
   "source": [
    "# Define the custom age group order\n",
    "age_group_order = ['Under 30', '30-39', '40-49', '50 and above']\n",
    "\n",
    "# Sort the Control Group Drop-off Rates table by the custom age group order\n",
    "control_dropoff_rate_by_age['age_group'] = pd.Categorical(control_dropoff_rate_by_age['age_group'], categories=age_group_order, ordered=True)\n",
    "control_dropoff_rate_by_age_sorted = control_dropoff_rate_by_age.sort_values('age_group')\n",
    "\n",
    "# Sort the Test Group Drop-off Rates table by the custom age group order\n",
    "test_dropoff_rate_by_age['age_group'] = pd.Categorical(test_dropoff_rate_by_age['age_group'], categories=age_group_order, ordered=True)\n",
    "test_dropoff_rate_by_age_sorted = test_dropoff_rate_by_age.sort_values('age_group')"
   ]
  },
  {
   "cell_type": "markdown",
   "id": "86ec9907-c9bb-4be3-9b7d-2fb5d697bbe5",
   "metadata": {},
   "source": [
    "### Visualise bar chart"
   ]
  },
  {
   "cell_type": "code",
   "execution_count": null,
   "id": "9e6763da-2863-412c-bcbd-4e6b4b0c15db",
   "metadata": {},
   "outputs": [],
   "source": [
    "\n",
    "\n",
    "# Set up the bar chart for drop-off rates by age group\n",
    "def plot_grouped_bar_chart(dropoff_rate_df, title, ax):\n",
    "    # Plot each step for all age groups\n",
    "    age_groups = dropoff_rate_df['age_group']\n",
    "    steps = ['start', 'step_1', 'step_2', 'step_3']\n",
    "    \n",
    "    # Bar positions on the X axis\n",
    "    bar_width = 0.2\n",
    "    index = range(len(age_groups))\n",
    "    \n",
    "    # Create bars for each step\n",
    "    for i, step in enumerate(steps):\n",
    "        ax.bar([p + bar_width * i for p in index], \n",
    "               dropoff_rate_df[step], \n",
    "               bar_width, label=step)\n",
    "    \n",
    "    # Labeling\n",
    "    ax.set_xlabel('Age Group')\n",
    "    ax.set_ylabel('Drop-off Rate (%)')\n",
    "    ax.set_title(title)\n",
    "    ax.set_xticks([p + bar_width * 1.5 for p in index])  # Adjust for the grouped bars\n",
    "    ax.set_xticklabels(age_groups)\n",
    "    ax.legend()\n",
    "\n",
    "# Create a figure to plot Control and Test group drop-off rates\n",
    "fig, axes = plt.subplots(1, 2, figsize=(14, 6))\n",
    "\n",
    "# Plot for Control group\n",
    "plot_grouped_bar_chart(control_dropoff_rate_by_age_sorted, \n",
    "                       \"Control group Bounce Rates by Age Group\", axes[0])\n",
    "\n",
    "# Plot for Test group\n",
    "plot_grouped_bar_chart(test_dropoff_rate_by_age_sorted, \n",
    "                       \"Test group Bounce rates by Age group\", axes[1])\n",
    "plt.savefig(\"grouped_bar_chart.png\", dpi=300)\n",
    "plt.tight_layout()\n",
    "plt.show()"
   ]
  },
  {
   "cell_type": "markdown",
   "id": "cd08a68b-ec28-4b53-8a47-8ca956a0626d",
   "metadata": {},
   "source": [
    "### Visualise heatmaps"
   ]
  },
  {
   "cell_type": "code",
   "execution_count": null,
   "id": "fda36672-79dd-45c7-9de0-5e3e0ba05175",
   "metadata": {},
   "outputs": [],
   "source": [
    "\n",
    "# Prepare the data for heatmap\n",
    "def plot_heatmap(dropoff_rate_df, title):\n",
    "    # Pivot the data to have 'age_group' as columns and steps as rows\n",
    "    heatmap_data = dropoff_rate_df.set_index('age_group')[['start', 'step_1', 'step_2', 'step_3']]\n",
    "    \n",
    "    # Create the heatmap\n",
    "    plt.figure(figsize=(8, 6))\n",
    "    sns.heatmap(heatmap_data, annot=True, cmap='YlGnBu', fmt='.2f', linewidths=0.5)\n",
    "    plt.title(title)\n",
    "    plt.ylabel('Steps')\n",
    "    plt.xlabel('Age Group')\n",
    "    plt.show()\n",
    "# Plot for Control group\n",
    "plot_heatmap(control_dropoff_rate_by_age_sorted, \"Control group Bounce rates Heatmap\")\n",
    "\n",
    "# Plot for Test group\n",
    "plot_heatmap(test_dropoff_rate_by_age_sorted, \"Test group Bounce rates Heatmap\")\n"
   ]
  }
 ],
 "metadata": {
  "kernelspec": {
   "display_name": "Python 3 (ipykernel)",
   "language": "python",
   "name": "python3"
  },
  "language_info": {
   "codemirror_mode": {
    "name": "ipython",
    "version": 3
   },
   "file_extension": ".py",
   "mimetype": "text/x-python",
   "name": "python",
   "nbconvert_exporter": "python",
   "pygments_lexer": "ipython3",
   "version": "3.12.4"
  }
 },
 "nbformat": 4,
 "nbformat_minor": 5
}
