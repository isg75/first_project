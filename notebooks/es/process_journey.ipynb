{
 "cells": [
  {
   "cell_type": "code",
   "execution_count": null,
   "id": "2ac9acb5-99c0-4b7f-8768-f298649b7f37",
   "metadata": {},
   "outputs": [],
   "source": [
    "import pandas as pd\n",
    "import matplotlib.pyplot as plt\n",
    "import seaborn as sns\n",
    "import numpy as np\n",
    "%matplotlib inline"
   ]
  },
  {
   "cell_type": "code",
   "execution_count": null,
   "id": "e443966e-15ab-43e8-b1c4-cb39257f2b87",
   "metadata": {
    "scrolled": true
   },
   "outputs": [],
   "source": [
    "df_1 = pd.read_csv(r'/Users/eliskasimova/Desktop/data_analytics_course_2024/project_folder/labs/second_project/data/clean/df_merged.csv')\n",
    "df_2 = pd.read_csv(r'/Users/eliskasimova/Desktop/data_analytics_course_2024/project_folder/labs/second_project/data/raw/df_final_web_data_pt_1.txt')\n",
    "df_3 = pd.read_csv(r'/Users/eliskasimova/Desktop/data_analytics_course_2024/project_folder/labs/second_project/data/raw/df_final_web_data_pt_2.txt')\n",
    "merged_df = pd.concat([df_2, df_3], axis=0)\n",
    "\n",
    "df_merged = df_1.merge(merged_df, on='client_id', how='inner')\n",
    "df_merged['date_time'] = pd.to_datetime(df_merged['date_time'])\n",
    "df_merged.value_counts()C"
   ]
  },
  {
   "cell_type": "markdown",
   "id": "ac6462d6-51fd-4b80-ac58-9d51704622de",
   "metadata": {},
   "source": [
    "### Groups sorting to control/test"
   ]
  },
  {
   "cell_type": "code",
   "execution_count": null,
   "id": "0b667030-dcbf-4ef8-a6fa-da2f4e2fb1e1",
   "metadata": {},
   "outputs": [],
   "source": [
    "control_group = df_merged[df_merged['variation'] == 'Control']\n",
    "test_group = df_merged[df_merged['variation'] == 'Test']\n",
    "\n",
    "# Sort control group\n",
    "control_group_sorted = control_group.sort_values(by=['client_id', 'visit_id', 'process_step', 'date_time'])\n",
    "\n",
    "# Sort test group\n",
    "test_group_sorted = test_group.sort_values(by=['client_id', 'visit_id', 'process_step', 'date_time'])"
   ]
  },
  {
   "cell_type": "markdown",
   "id": "bdc6e399-f62b-4556-bacb-84d486898687",
   "metadata": {},
   "source": [
    "### Function to get latest starts"
   ]
  },
  {
   "cell_type": "code",
   "execution_count": null,
   "id": "3ae95143-ada3-4c33-9881-ec2e2e94dfb5",
   "metadata": {},
   "outputs": [],
   "source": [
    "# Function to get latest starts\n",
    "def filter_latest_starts(group_df):\n",
    "    starts_only = group_df[group_df['process_step'] == 'start']\n",
    "    latest_starts = starts_only.loc[starts_only.groupby('client_id')['date_time'].idxmax()]\n",
    "    # Merge back to get the full process after the last start\n",
    "    return df_merged.merge(latest_starts[['client_id', 'date_time']], on=['client_id', 'date_time'], how='inner')\n",
    "\n",
    "# Apply to both groups\n",
    "filtered_control = filter_latest_starts(control_group)\n",
    "filtered_test = filter_latest_starts(test_group)\n",
    "\n",
    "#Check if it works\n",
    "client_total_entries = df_merged[df_merged[\"client_id\"] == 2304905]\n",
    "display(client_total_entries)\n",
    "client_last_start = filtered_control[filtered_control['client_id'] == 2304905 ]\n",
    "display(client_last_start)"
   ]
  },
  {
   "cell_type": "markdown",
   "id": "6d04dcd5-756e-4ee2-b313-687b276e24a1",
   "metadata": {},
   "source": [
    "### Completion time without outliers for control group per each step"
   ]
  },
  {
   "cell_type": "code",
   "execution_count": null,
   "id": "94afac0b-ac85-45ef-9691-16cced66fde8",
   "metadata": {},
   "outputs": [],
   "source": [
    "df_merged['date_time'] = pd.to_datetime(df_merged['date_time'], errors='coerce')  # Coerce invalid formats to NaT\n",
    "# Filter for the test group only\n",
    "control_group = df_merged[df_merged['variation'] == 'Control']\n",
    "# Sort by client_id and date_time to ensure chronological order of events\n",
    "control_group = control_group.sort_values(by=['client_id', 'date_time'])\n",
    "# Function to calculate completion time for each step in the test group\n",
    "def calculate_completion_time(group_df):\n",
    "    # Create a new column to store the completion time for each step\n",
    "    group_df['next_step_time'] = group_df.groupby('client_id')['date_time'].shift(-1)\n",
    "    # Only keep rows where the next step exists (i.e., not NaT)\n",
    "    group_df = group_df.dropna(subset=['next_step_time'])\n",
    "    # Calculate the completion time as the time difference between current and next step\n",
    "    group_df['completion_time'] = group_df['next_step_time'] - group_df['date_time']\n",
    "    return group_df[['client_id', 'process_step', 'date_time', 'next_step_time', 'completion_time']]\n",
    "# Apply the function to the test group\n",
    "control_group_completion_times = calculate_completion_time(control_group)\n",
    "\n",
    "# Convert completion_time to minutes for easier interpretation\n",
    "control_group_completion_times['completion_time_minutes'] = control_group_completion_times['completion_time'].dt.total_seconds() / 60\n",
    "\n",
    "# Calculate the IQR (Interquartile Range) for completion time\n",
    "Q1 = control_group_completion_times['completion_time_minutes'].quantile(0.25)\n",
    "Q3 = control_group_completion_times['completion_time_minutes'].quantile(0.75)\n",
    "IQR = Q3 - Q1\n",
    "\n",
    "# Define the upper and lower bounds for outliers\n",
    "lower_bound = Q1 - 1.5 * IQR\n",
    "upper_bound = Q3 + 1.5 * IQR\n",
    "\n",
    "# Filter out the outliers based on IQR\n",
    "filtered_data = control_group_completion_times[\n",
    "    (control_group_completion_times['completion_time_minutes'] >= lower_bound) &\n",
    "    (control_group_completion_times['completion_time_minutes'] <= upper_bound)\n",
    "]\n",
    "\n",
    "# Now calculate the average completion time in minutes for each process step, after removing outliers\n",
    "average_completion_time_minutes_filtered = filtered_data.groupby('process_step')['completion_time_minutes'].mean().reset_index()\n",
    "\n",
    "# Display the result\n",
    "print(average_completion_time_minutes_filtered)\n"
   ]
  },
  {
   "cell_type": "markdown",
   "id": "6c53ae93-cce3-49c7-9628-a2a647784dc7",
   "metadata": {},
   "source": [
    "### Completion time analysis with outliers"
   ]
  },
  {
   "cell_type": "code",
   "execution_count": null,
   "id": "3ead9106-32a1-4723-94dd-0c22c9d01e36",
   "metadata": {},
   "outputs": [],
   "source": [
    "# filter to get the latest start for each client\n",
    "starts_only = df_merged[df_merged['process_step'] == 'start']\n",
    "latest_starts = starts_only.loc[starts_only.groupby('client_id')['date_time'].idxmax()]\n",
    "\n",
    "# filter to get the last confirmation for each client\n",
    "confirmation_only = df_merged[df_merged['process_step'] == 'confirm']\n",
    "latest_confirms = confirmation_only.loc[confirmation_only.groupby('client_id')['date_time'].idxmax()]\n",
    "\n",
    "# merge to have both latest start and confirm per client\n",
    "# Confirming datetime columns are of Timestamp type in merged DataFrame\n",
    "latest_start_confirms = pd.merge(latest_starts, latest_confirms, on='client_id', suffixes=('_start', '_confirm'))\n",
    "\n",
    "# calculate process duration for those who completed the process\n",
    "latest_start_confirms['process_duration'] = latest_start_confirms['date_time_confirm'] - latest_start_confirms['date_time_start']\n",
    "\n",
    "# Scalculate the average duration and compare with mode and mean\n",
    "print(\"Average duration:\", latest_start_confirms['process_duration'].mean())\n",
    "print(\"Duration mode:\", latest_start_confirms['process_duration'].mode())\n",
    "print(\"Duration median:\", latest_start_confirms['process_duration'].median())\n"
   ]
  },
  {
   "cell_type": "markdown",
   "id": "c9468952-b493-4e90-bce5-40c0a0d81d8d",
   "metadata": {},
   "source": [
    "### Completion time analysis without outliers in general (not divided by A/B)"
   ]
  },
  {
   "cell_type": "code",
   "execution_count": null,
   "id": "dc0f1e4a-4604-4b64-bbdb-dfdefcdf6aa9",
   "metadata": {},
   "outputs": [],
   "source": [
    "# Convert the timedelta to seconds for easier manipulation\n",
    "latest_start_confirms['process_duration_seconds'] = latest_start_confirms['process_duration'].dt.total_seconds()\n",
    "\n",
    "# Calculate the IQR (Interquartile Range)\n",
    "Q1 = latest_start_confirms['process_duration_seconds'].quantile(0.25)\n",
    "Q3 = latest_start_confirms['process_duration_seconds'].quantile(0.75)\n",
    "IQR = Q3 - Q1\n",
    "\n",
    "# Define the upper and lower bounds for outliers\n",
    "lower_bound = Q1 - 1.5 * IQR\n",
    "upper_bound = Q3 + 1.5 * IQR\n",
    "\n",
    "# Filter out the outliers based on IQR\n",
    "filtered_data = latest_start_confirms[(latest_start_confirms['process_duration_seconds'] >= lower_bound) &\n",
    "                                      (latest_start_confirms['process_duration_seconds'] <= upper_bound)]\n",
    "\n",
    "# Convert process_duration back to Timedelta\n",
    "filtered_data['process_duration'] = pd.to_timedelta(filtered_data['process_duration_seconds'], unit='s')\n",
    "\n",
    "# Calculate the average process duration again after removing outliers\n",
    "print(\"Average duration in total for both groups without outliers:\", filtered_data['process_duration'].mean())\n",
    "print(\"Median duration in total for both groups without outliers:\", filtered_data['process_duration'].median())\n"
   ]
  },
  {
   "cell_type": "markdown",
   "id": "9338f783-4876-466f-96d7-07a8914dd1c5",
   "metadata": {},
   "source": [
    "### Completion rate analysis\n",
    "\n",
    "- number of customers who reached the end of a step out of total who started"
   ]
  },
  {
   "cell_type": "code",
   "execution_count": null,
   "id": "40743dd6-eb2e-41ae-88ca-e25447863581",
   "metadata": {},
   "outputs": [],
   "source": [
    "#completion rate based on visit_id\n",
    "def calculate_within_visit_completion_rate(group):\n",
    "    # Total unique visits that started\n",
    "    started_visits = group[group['process_step'] == 'start']['visit_id'].nunique()\n",
    "\n",
    "    # Unique visits that completed each step\n",
    "    completed_visits = (\n",
    "        group[group['process_step'] != 'start']\n",
    "        .groupby('process_step')['visit_id']\n",
    "        .nunique()\n",
    "        .reset_index(name='completed_visits')\n",
    "    )\n",
    "\n",
    "    # Add the total started visits as a constant column\n",
    "    completed_visits['started_visits'] = started_visits\n",
    "\n",
    "    # Calculate the completion rate\n",
    "    completed_visits['completion_rate'] = (\n",
    "        completed_visits['completed_visits'] / completed_visits['started_visits']\n",
    "    ) * 100\n",
    "\n",
    "    return completed_visits\n",
    "\n",
    "# Calculate completion rates for the control and test groups\n",
    "control_completion_rate = calculate_within_visit_completion_rate(control_group_sorted)\n",
    "test_completion_rate = calculate_within_visit_completion_rate(test_group_sorted)\n",
    "\n",
    "# Display the results\n",
    "print(\"Control Group Within-Visit Completion Rates:\")\n",
    "display(control_completion_rate)\n",
    "\n",
    "print(\"Test Group Within-Visit Completion Rates:\")\n",
    "display(test_completion_rate)"
   ]
  },
  {
   "cell_type": "markdown",
   "id": "4a5b0848-1a58-41f8-9584-e1099549888b",
   "metadata": {},
   "source": [
    "### Calculate Error Rates\n",
    "The error rates are calculated using the formula:  \n",
    "- **Control Group Error Rate** = (Clients with errors in control) / (Total clients in control)  \n",
    "- **Test Group Error Rate** = (Clients with errors in test) / (Total clients in test)\n",
    "- an analysis ensuring that the observed increase in completion rate from the A/B test meets or exceeds this 5% threshold"
   ]
  },
  {
   "cell_type": "code",
   "execution_count": null,
   "id": "5f73dc0f-8b60-4e24-939f-f95faba05bbc",
   "metadata": {},
   "outputs": [],
   "source": [
    "#Error rate calculation\n",
    "\n",
    "def calculate_errors(group):\n",
    "    # Check if current step is before the last completed step\n",
    "    group['step_index'] = group['process_step'].map({'start': 0, 'step_1': 1, 'step_2': 2, 'step_3': 3, 'confirm': 4})\n",
    "    group['error'] = group['step_index'].diff().apply(lambda x: x < 0)  # Negative diff indicates a backward step\n",
    "    return group\n",
    "\n",
    "# Apply error calculation\n",
    "control_group_sorted = calculate_errors(control_group_sorted)\n",
    "test_group_sorted = calculate_errors(test_group_sorted)\n",
    "\n",
    "# Calculate Error Rates\n",
    "control_error_rate = control_group_sorted['error'].mean() * 100\n",
    "test_error_rate = test_group_sorted['error'].mean() * 100\n",
    "\n",
    "print(f\"Control Group Error Rate: {control_error_rate:.2f}%\")\n",
    "print(f\"Test Group Error Rate: {test_error_rate:.2f}%\")\n",
    "\n",
    "#Check if the test group's error rate is smaller than the control group by at least 5%\n",
    "error_rate_difference = control_error_rate - test_error_rate  # Difference between control and test error rates\n",
    "threshold = 5  # 5% threshold for the difference\n",
    "\n",
    "# Perform the analysis\n",
    "if error_rate_difference >= threshold:\n",
    "    print(f\"The test group has an error rate that is at least {threshold}% smaller than the control group.\")\n",
    "else:\n",
    "    print(f\"The test group does not have an error rate that is at least {threshold}% smaller than the control group.\")"
   ]
  },
  {
   "cell_type": "markdown",
   "id": "37f7ed86-ae1c-4806-ad0a-6675454703f6",
   "metadata": {},
   "source": [
    "### Drop-off Rate (Bounce rate)\n",
    "- percentage of clients who left the process at each step without progressing to the next step"
   ]
  },
  {
   "cell_type": "code",
   "execution_count": null,
   "id": "c83f7fa4-db9d-4023-8bb4-5883751bbd16",
   "metadata": {},
   "outputs": [],
   "source": [
    "# Calculate Bounce rate for Control and Test groups\n",
    "def calculate_dropoff_rate(group):\n",
    "    steps = ['start', 'step_1', 'step_2', 'step_3', 'confirm']\n",
    "    dropoff_rates = {}  # To store the drop-off percentages at each step\n",
    "    \n",
    "    # Count the drop-offs at each step\n",
    "    for i in range(len(steps) - 1):\n",
    "        current_step = steps[i]\n",
    "        next_step = steps[i + 1]\n",
    "        # Find the total number of clients who started at current_step\n",
    "        started = group[group['process_step'] == current_step]['client_id'].nunique()\n",
    "        # Find the number of clients who reached the next step\n",
    "        reached_next = group[group['process_step'] == next_step]['client_id'].nunique()\n",
    "        # Calculate the drop-off rate as a percentage\n",
    "        if started > 0:\n",
    "            dropoff_rate = ((started - reached_next) / started) * 100\n",
    "        else:\n",
    "            dropoff_rate = 0\n",
    "        \n",
    "        dropoff_rates[current_step] = dropoff_rate\n",
    "    \n",
    "    return dropoff_rates\n",
    "\n",
    "# Calculate drop-off rates for control and test groups\n",
    "control_dropoff_rate = calculate_dropoff_rate(control_group_sorted)\n",
    "test_dropoff_rate = calculate_dropoff_rate(test_group_sorted)\n",
    "\n",
    "print(f\"Control group bounce rates(%):\")\n",
    "for step, rate in control_dropoff_rate.items():\n",
    "    print(f\"{step}: {rate:.2f}%\")\n",
    "\n",
    "print(f\"\\nTest group bounce rates(%):\")\n",
    "for step, rate in test_dropoff_rate.items():\n",
    "    print(f\"{step}: {rate:.2f}%\")"
   ]
  },
  {
   "cell_type": "markdown",
   "id": "d33f2542-4f92-446f-a65a-d05718539469",
   "metadata": {},
   "source": [
    "### Additional KPI\n",
    "### Calculate Bounce rate for Control and Test groups\n"
   ]
  },
  {
   "cell_type": "code",
   "execution_count": null,
   "id": "05c7d19e-685b-41e6-abb8-cbf2660364e5",
   "metadata": {},
   "outputs": [],
   "source": []
  },
  {
   "cell_type": "markdown",
   "id": "b267b238-bdba-4765-a268-3a9b99c3e617",
   "metadata": {},
   "source": [
    "### Adding age groups"
   ]
  },
  {
   "cell_type": "code",
   "execution_count": null,
   "id": "d9ff1afa-dbac-4627-a3a9-35348387a656",
   "metadata": {},
   "outputs": [],
   "source": [
    "# define age bins and categorize ages\n",
    "bins = [0, 30, 40, 50, 100] # You can decide the intervals based on your data\n",
    "labels = ['Under 30', '30-39', '40-49', '50 and above']\n",
    "df_merged['age_group'] = pd.cut(df_merged['clnt_age'], bins=bins, labels=labels)"
   ]
  }
 ],
 "metadata": {
  "kernelspec": {
   "display_name": "Python 3 (ipykernel)",
   "language": "python",
   "name": "python3"
  },
  "language_info": {
   "codemirror_mode": {
    "name": "ipython",
    "version": 3
   },
   "file_extension": ".py",
   "mimetype": "text/x-python",
   "name": "python",
   "nbconvert_exporter": "python",
   "pygments_lexer": "ipython3",
   "version": "3.12.4"
  }
 },
 "nbformat": 4,
 "nbformat_minor": 5
}
