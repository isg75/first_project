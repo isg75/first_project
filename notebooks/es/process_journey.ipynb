{
 "cells": [
  {
   "cell_type": "code",
   "execution_count": null,
   "id": "2ac9acb5-99c0-4b7f-8768-f298649b7f37",
   "metadata": {},
   "outputs": [],
   "source": [
    "import pandas as pd\n",
    "import matplotlib.pyplot as plt\n",
    "import seaborn as sns\n",
    "import numpy as np\n",
    "\n",
    "%matplotlib inline"
   ]
  },
  {
   "cell_type": "code",
   "execution_count": null,
   "id": "534fdea7-709f-4674-8e57-44ec8369fd17",
   "metadata": {},
   "outputs": [],
   "source": [
    "df_1 = pd.read_csv(r'/Users/eliskasimova/Desktop/data_analytics_course_2024/project_folder/labs/second_project/data/clean/df_merged.csv')"
   ]
  },
  {
   "cell_type": "code",
   "execution_count": null,
   "id": "e443966e-15ab-43e8-b1c4-cb39257f2b87",
   "metadata": {
    "scrolled": true
   },
   "outputs": [],
   "source": [
    "df_2 = pd.read_csv(r'/Users/eliskasimova/Desktop/data_analytics_course_2024/project_folder/labs/second_project/data/raw/df_final_web_data_pt_1.txt')\n",
    "df_3 = pd.read_csv(r'/Users/eliskasimova/Desktop/data_analytics_course_2024/project_folder/labs/second_project/data/raw/df_final_web_data_pt_2.txt')"
   ]
  },
  {
   "cell_type": "code",
   "execution_count": null,
   "id": "3d28b95b-e8d3-41fc-9cd5-bd058f36b4a2",
   "metadata": {},
   "outputs": [],
   "source": [
    "merged_df = pd.concat([df_2, df_3], axis=0)"
   ]
  },
  {
   "cell_type": "code",
   "execution_count": null,
   "id": "8c791bcd-d0c7-4483-b68f-f175246cb445",
   "metadata": {},
   "outputs": [],
   "source": [
    "df_merged = df_1.merge(merged_df, on='client_id', how='inner')\n",
    "df_merged['date_time'] = pd.to_datetime(df_merged['date_time'])\n",
    "df_merged.dtypes"
   ]
  },
  {
   "cell_type": "code",
   "execution_count": null,
   "id": "27ef758f-7b5a-454b-8498-c6172fb0ab6c",
   "metadata": {},
   "outputs": [],
   "source": [
    "df_merged.to_csv(r'/Users/eliskasimova/Desktop/data_analytics_course_2024/project_folder/labs/second_project/data/clean/combined_cleaned_data.csv', index=False)"
   ]
  },
  {
   "cell_type": "code",
   "execution_count": null,
   "id": "e0b0bda0-ed79-48d5-9fca-73949e149667",
   "metadata": {},
   "outputs": [],
   "source": [
    "control_group = df_merged[df_merged['variation'] == 'Control']\n",
    "test_group = df_merged[df_merged['variation'] == 'Test']"
   ]
  },
  {
   "cell_type": "code",
   "execution_count": null,
   "id": "56dc50a6-e403-47fa-834d-eb2c06e348ca",
   "metadata": {},
   "outputs": [],
   "source": [
    "# Sort control group\n",
    "control_group_sorted = control_group.sort_values(by=['client_id', 'visit_id', 'process_step', 'date_time'])\n",
    "\n",
    "# Sort test group\n",
    "test_group_sorted = test_group.sort_values(by=['client_id', 'visit_id', 'process_step', 'date_time'])"
   ]
  },
  {
   "cell_type": "code",
   "execution_count": null,
   "id": "fe516642-e5b3-4014-ad9d-e37d2fcb0877",
   "metadata": {},
   "outputs": [],
   "source": [
    "test_group_sorted.head()"
   ]
  },
  {
   "cell_type": "code",
   "execution_count": null,
   "id": "3ae95143-ada3-4c33-9881-ec2e2e94dfb5",
   "metadata": {},
   "outputs": [],
   "source": [
    "# Function to get latest starts\n",
    "def filter_latest_starts(group_df):\n",
    "    starts_only = group_df[group_df['process_step'] == 'start']\n",
    "    latest_starts = starts_only.loc[starts_only.groupby('client_id')['date_time'].idxmax()]\n",
    "    # Merge back to get the full process after the last start\n",
    "    return df_merged.merge(latest_starts[['client_id', 'date_time']], on=['client_id', 'date_time'], how='inner')\n",
    "\n",
    "# Apply to both groups\n",
    "filtered_control = filter_latest_starts(control_group)\n",
    "filtered_test = filter_latest_starts(test_group)\n"
   ]
  },
  {
   "cell_type": "code",
   "execution_count": null,
   "id": "df41569a-5d95-4d21-a326-f551e8a6b2ec",
   "metadata": {},
   "outputs": [],
   "source": [
    "client_total_entries = df_merged[df_merged[\"client_id\"] == 2304905]\n",
    "client_total_entries"
   ]
  },
  {
   "cell_type": "code",
   "execution_count": null,
   "id": "9fa180dc-4269-4069-a6e6-dcdd6e949878",
   "metadata": {},
   "outputs": [],
   "source": [
    "client_last_start = filtered_control[filtered_control['client_id'] == 2304905 ]\n",
    "client_last_start"
   ]
  },
  {
   "cell_type": "code",
   "execution_count": null,
   "id": "3ead9106-32a1-4723-94dd-0c22c9d01e36",
   "metadata": {},
   "outputs": [],
   "source": [
    "# Step 1: Filter to get the latest start for each client\n",
    "starts_only = df_merged[df_merged['process_step'] == 'start']\n",
    "latest_starts = starts_only.loc[starts_only.groupby('client_id')['date_time'].idxmax()]\n",
    "\n",
    "# Step 2: Filter to get the last confirmation for each client\n",
    "confirmation_only = df_merged[df_merged['process_step'] == 'confirm']\n",
    "latest_confirms = confirmation_only.loc[confirmation_only.groupby('client_id')['date_time'].idxmax()]\n",
    "\n",
    "# Step 2: Merge to have both latest start and confirm per client\n",
    "# Confirming datetime columns are of Timestamp type in merged DataFrame\n",
    "latest_start_confirms = pd.merge(latest_starts, latest_confirms, on='client_id', suffixes=('_start', '_confirm'))\n",
    "\n",
    "# Step 3: Calculate process duration for those who completed the process\n",
    "latest_start_confirms['process_duration'] = latest_start_confirms['date_time_confirm'] - latest_start_confirms['date_time_start']\n",
    "\n",
    "# Step 4: Calculate the average duration\n",
    "average_duration = latest_start_confirms['process_duration'].mean()\n",
    "latest_start_confirms"
   ]
  },
  {
   "cell_type": "code",
   "execution_count": null,
   "id": "e72080fe-37ee-46f1-9560-d7ddfe6b7d64",
   "metadata": {},
   "outputs": [],
   "source": [
    "latest_start_confirms = pd.merge(latest_starts, latest_confirms, on='client_id', suffixes=('_start', '_confirm'))\n"
   ]
  },
  {
   "cell_type": "code",
   "execution_count": null,
   "id": "35d6df43-75ea-4af3-a9e8-d0afc9d411ce",
   "metadata": {},
   "outputs": [],
   "source": [
    "latest_start_confirms"
   ]
  },
  {
   "cell_type": "code",
   "execution_count": null,
   "id": "b6e50a05-705a-48a3-a7ea-09007da9194a",
   "metadata": {},
   "outputs": [],
   "source": [
    "latest_start_confirms['process_duration'] = latest_start_confirms['date_time_confirm'] - latest_start_confirms['date_time_start']\n"
   ]
  },
  {
   "cell_type": "code",
   "execution_count": null,
   "id": "fc70e065-c01d-4c97-b01b-7564bc1b0c4e",
   "metadata": {},
   "outputs": [],
   "source": []
  },
  {
   "cell_type": "code",
   "execution_count": null,
   "id": "53ff260a-4285-46d8-beb6-564570c12bc0",
   "metadata": {},
   "outputs": [],
   "source": [
    "# Function to calculate completion rates\n",
    "def calculate_completion_rate(group):\n",
    "    started = group.groupby('process_step')['client_id'].nunique()\n",
    "    completed = group.groupby('process_step').apply(lambda x: x[x['process_step'] != 'start']['client_id'].nunique())\n",
    "    completion_rate = (completed / started).fillna(0) * 100  # Convert to percentage\n",
    "    return completion_rate.reset_index(name='completion_rate')\n",
    "\n",
    "# Calculate for control and test groups\n",
    "control_completion_rate = calculate_completion_rate(control_group_sorted)\n",
    "test_completion_rate = calculate_completion_rate(test_group_sorted)"
   ]
  },
  {
   "cell_type": "code",
   "execution_count": null,
   "id": "447936b2-85e9-4703-9de2-c296dab33fa4",
   "metadata": {},
   "outputs": [],
   "source": [
    "# Merge control and test completion rates\n",
    "merged_completion_rates = control_completion_rate.merge(\n",
    "    test_completion_rate, on='process_step', suffixes=('_control', '_test')\n",
    ")\n",
    "\n",
    "# Perform chi-square test for each step\n",
    "for _, row in merged_completion_rates.iterrows():\n",
    "    observed = [row['completion_rate_control'], row['completion_rate_test']]\n",
    "    chi2, p = chi2_contingency([observed])\n",
    "    print(f\"Step: {row['process_step']}, p-value: {p}\")"
   ]
  }
 ],
 "metadata": {
  "kernelspec": {
   "display_name": "Python 3 (ipykernel)",
   "language": "python",
   "name": "python3"
  },
  "language_info": {
   "codemirror_mode": {
    "name": "ipython",
    "version": 3
   },
   "file_extension": ".py",
   "mimetype": "text/x-python",
   "name": "python",
   "nbconvert_exporter": "python",
   "pygments_lexer": "ipython3",
   "version": "3.12.4"
  }
 },
 "nbformat": 4,
 "nbformat_minor": 5
}
