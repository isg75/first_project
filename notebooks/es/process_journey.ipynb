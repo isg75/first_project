{
 "cells": [
  {
   "cell_type": "code",
   "execution_count": null,
   "id": "2ac9acb5-99c0-4b7f-8768-f298649b7f37",
   "metadata": {},
   "outputs": [],
   "source": [
    "import pandas as pd\n",
    "import matplotlib.pyplot as plt\n",
    "import seaborn as sns\n",
    "import numpy as np\n",
    "%matplotlib inline"
   ]
  },
  {
   "cell_type": "code",
   "execution_count": null,
   "id": "e443966e-15ab-43e8-b1c4-cb39257f2b87",
   "metadata": {
    "scrolled": true
   },
   "outputs": [],
   "source": [
    "df_1 = pd.read_csv(r'/Users/eliskasimova/Desktop/data_analytics_course_2024/project_folder/labs/second_project/data/clean/df_merged.csv')\n",
    "df_2 = pd.read_csv(r'/Users/eliskasimova/Desktop/data_analytics_course_2024/project_folder/labs/second_project/data/raw/df_final_web_data_pt_1.txt')\n",
    "df_3 = pd.read_csv(r'/Users/eliskasimova/Desktop/data_analytics_course_2024/project_folder/labs/second_project/data/raw/df_final_web_data_pt_2.txt')\n",
    "merged_df = pd.concat([df_2, df_3], axis=0)\n",
    "\n",
    "df_merged = df_1.merge(merged_df, on='client_id', how='inner')\n",
    "df_merged['date_time'] = pd.to_datetime(df_merged['date_time'])\n",
    "df_merged"
   ]
  },
  {
   "cell_type": "code",
   "execution_count": null,
   "id": "e0b0bda0-ed79-48d5-9fca-73949e149667",
   "metadata": {},
   "outputs": [],
   "source": [
    "control_group = df_merged[df_merged['variation'] == 'Control']\n",
    "test_group = df_merged[df_merged['variation'] == 'Test']\n",
    "\n",
    "#Sort control group\n",
    "control_group_sorted = control_group.sort_values(by=['client_id', 'visit_id', 'process_step', 'date_time'])\n",
    "\n",
    "# Sort test group\n",
    "test_group_sorted = test_group.sort_values(by=['client_id', 'visit_id', 'process_step', 'date_time'])"
   ]
  },
  {
   "cell_type": "code",
   "execution_count": null,
   "id": "3ae95143-ada3-4c33-9881-ec2e2e94dfb5",
   "metadata": {},
   "outputs": [],
   "source": [
    "# Function to get latest starts\n",
    "def filter_latest_starts(group_df):\n",
    "    starts_only = group_df[group_df['process_step'] == 'start']\n",
    "    latest_starts = starts_only.loc[starts_only.groupby('client_id')['date_time'].idxmax()]\n",
    "    # Merge back to get the full process after the last start\n",
    "    return df_merged.merge(latest_starts[['client_id', 'date_time']], on=['client_id', 'date_time'], how='inner')\n",
    "\n",
    "# Apply to both groups\n",
    "filtered_control = filter_latest_starts(control_group)\n",
    "filtered_test = filter_latest_starts(test_group)\n",
    "\n",
    "#Check if it works\n",
    "client_total_entries = df_merged[df_merged[\"client_id\"] == 2304905]\n",
    "display(client_total_entries)\n",
    "client_last_start = filtered_control[filtered_control['client_id'] == 2304905 ]\n",
    "display(client_last_start)"
   ]
  },
  {
   "cell_type": "code",
   "execution_count": null,
   "id": "3ead9106-32a1-4723-94dd-0c22c9d01e36",
   "metadata": {},
   "outputs": [],
   "source": [
    "# filter to get the latest start for each client\n",
    "starts_only = df_merged[df_merged['process_step'] == 'start']\n",
    "latest_starts = starts_only.loc[starts_only.groupby('client_id')['date_time'].idxmax()]\n",
    "\n",
    "# filter to get the last confirmation for each client\n",
    "confirmation_only = df_merged[df_merged['process_step'] == 'confirm']\n",
    "latest_confirms = confirmation_only.loc[confirmation_only.groupby('client_id')['date_time'].idxmax()]\n",
    "\n",
    "# merge to have both latest start and confirm per client\n",
    "# Confirming datetime columns are of Timestamp type in merged DataFrame\n",
    "latest_start_confirms = pd.merge(latest_starts, latest_confirms, on='client_id', suffixes=('_start', '_confirm'))\n",
    "\n",
    "# calculate process duration for those who completed the process\n",
    "latest_start_confirms['process_duration'] = latest_start_confirms['date_time_confirm'] - latest_start_confirms['date_time_start']\n",
    "\n",
    "# Scalculate the average duration and compare with mode and mean\n",
    "print(\"Average duration:\", latest_start_confirms['process_duration'].mean())\n",
    "print(\"Duration mode:\", latest_start_confirms['process_duration'].mode())\n",
    "print(\"Duration median:\", latest_start_confirms['process_duration'].median())"
   ]
  },
  {
   "cell_type": "code",
   "execution_count": null,
   "id": "40743dd6-eb2e-41ae-88ca-e25447863581",
   "metadata": {},
   "outputs": [],
   "source": [
    "#completion rate based on visit_id\n",
    "def calculate_within_visit_completion_rate(group):\n",
    "    # Total unique visits that started\n",
    "    started_visits = group[group['process_step'] == 'start']['visit_id'].nunique()\n",
    "\n",
    "    # Unique visits that completed each step\n",
    "    completed_visits = (\n",
    "        group[group['process_step'] != 'start']\n",
    "        .groupby('process_step')['visit_id']\n",
    "        .nunique()\n",
    "        .reset_index(name='completed_visits')\n",
    "    )\n",
    "\n",
    "    # Add the total started visits as a constant column\n",
    "    completed_visits['started_visits'] = started_visits\n",
    "\n",
    "    # Calculate the completion rate\n",
    "    completed_visits['completion_rate'] = (\n",
    "        completed_visits['completed_visits'] / completed_visits['started_visits']\n",
    "    ) * 100\n",
    "\n",
    "    return completed_visits\n",
    "\n",
    "# Calculate completion rates for the control and test groups\n",
    "control_completion_rate = calculate_within_visit_completion_rate(control_group_sorted)\n",
    "test_completion_rate = calculate_within_visit_completion_rate(test_group_sorted)\n",
    "\n",
    "# Display the results\n",
    "print(\"Control Group Within-Visit Completion Rates:\")\n",
    "display(control_completion_rate)\n",
    "\n",
    "print(\"Test Group Within-Visit Completion Rates:\")\n",
    "display(test_completion_rate)"
   ]
  },
  {
   "cell_type": "code",
   "execution_count": null,
   "id": "5f73dc0f-8b60-4e24-939f-f95faba05bbc",
   "metadata": {},
   "outputs": [],
   "source": [
    "def calculate_errors(group):\n",
    "    # Check if current step is before the last completed step\n",
    "    group['step_index'] = group['process_step'].map({'start': 0, 'step_1': 1, 'step_2': 2, 'step_3': 3, 'confirm': 4})\n",
    "    group['error'] = group['step_index'].diff().apply(lambda x: x < 0)  # Negative diff indicates a backward step\n",
    "    return group\n",
    "\n",
    "# Apply error calculation\n",
    "control_group_sorted = calculate_errors(control_group_sorted)\n",
    "test_group_sorted = calculate_errors(test_group_sorted)\n",
    "\n",
    "# Calculate Error Rates\n",
    "control_error_rate = control_group_sorted['error'].mean() * 100\n",
    "test_error_rate = test_group_sorted['error'].mean() * 100\n",
    "\n",
    "print(f\"Control Group Error Rate: {control_error_rate:.2f}%\")\n",
    "print(f\"Test Group Error Rate: {test_error_rate:.2f}%\")\n"
   ]
  },
  {
   "cell_type": "code",
   "execution_count": null,
   "id": "8cd36324-e3ef-43b8-912a-7f8c83d1ee39",
   "metadata": {},
   "outputs": [],
   "source": []
  }
 ],
 "metadata": {
  "kernelspec": {
   "display_name": "Python 3 (ipykernel)",
   "language": "python",
   "name": "python3"
  },
  "language_info": {
   "codemirror_mode": {
    "name": "ipython",
    "version": 3
   },
   "file_extension": ".py",
   "mimetype": "text/x-python",
   "name": "python",
   "nbconvert_exporter": "python",
   "pygments_lexer": "ipython3",
   "version": "3.12.4"
  }
 },
 "nbformat": 4,
 "nbformat_minor": 5
}
