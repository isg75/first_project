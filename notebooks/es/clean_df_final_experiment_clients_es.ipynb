{
 "cells": [
  {
   "cell_type": "code",
   "execution_count": null,
   "id": "b10f58b4-34f0-42d1-a942-2c92168107f0",
   "metadata": {},
   "outputs": [],
   "source": [
    "import pandas as pd\n",
    "import matplotlib.pyplot as plt\n",
    "import seaborn as sns\n",
    "import numpy as np\n",
    "\n",
    "%matplotlib inline"
   ]
  },
  {
   "cell_type": "code",
   "execution_count": null,
   "id": "691c8891-01e7-4ffb-8e7c-5c2cced50535",
   "metadata": {},
   "outputs": [],
   "source": [
    "#check the table structure\n",
    "df_3 = pd.read_csv(\"df_final_experiment_clients.txt\")\n",
    "df_3.head(10)"
   ]
  },
  {
   "cell_type": "code",
   "execution_count": null,
   "id": "fc6172ed-b2bd-473c-8994-12e99944cd63",
   "metadata": {},
   "outputs": [],
   "source": [
    "#check the missing values\n",
    "df_3.isnull().sum()"
   ]
  },
  {
   "cell_type": "code",
   "execution_count": null,
   "id": "be614a5b-88ec-4782-a628-2344655b7679",
   "metadata": {},
   "outputs": [],
   "source": [
    "def clean_df_experiment_clients():\n",
    "    df_copy = pd.read_csv(\"df_final_experiment_clients.txt\").str.lower()\n",
    "    df_copy = df_copy.dropna() # dropping the NaN values\n",
    "    df_copy.rename(columns={'Variation': 'variation'}, inplace=True)\n",
    "    return df_copy"
   ]
  },
  {
   "cell_type": "code",
   "execution_count": null,
   "id": "f3e17911-a7cb-4be9-8632-fa8a586f1e3e",
   "metadata": {},
   "outputs": [],
   "source": [
    "df_3 = clean_df_experiment_clients()"
   ]
  },
  {
   "cell_type": "code",
   "execution_count": null,
   "id": "08a659a6-2ca6-46e5-bff8-d7f92498ceb8",
   "metadata": {},
   "outputs": [],
   "source": []
  }
 ],
 "metadata": {
  "kernelspec": {
   "display_name": "Python 3 (ipykernel)",
   "language": "python",
   "name": "python3"
  },
  "language_info": {
   "codemirror_mode": {
    "name": "ipython",
    "version": 3
   },
   "file_extension": ".py",
   "mimetype": "text/x-python",
   "name": "python",
   "nbconvert_exporter": "python",
   "pygments_lexer": "ipython3",
   "version": "3.12.4"
  }
 },
 "nbformat": 4,
 "nbformat_minor": 5
}
