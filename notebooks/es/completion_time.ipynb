{
 "cells": [
  {
   "cell_type": "code",
   "execution_count": null,
   "id": "2ac9acb5-99c0-4b7f-8768-f298649b7f37",
   "metadata": {},
   "outputs": [],
   "source": [
    "import pandas as pd\n",
    "import matplotlib.pyplot as plt\n",
    "import seaborn as sns\n",
    "import numpy as np\n",
    "import plotly.graph_objects as go\n",
    "%matplotlib inline"
   ]
  },
  {
   "cell_type": "code",
   "execution_count": null,
   "id": "e443966e-15ab-43e8-b1c4-cb39257f2b87",
   "metadata": {
    "scrolled": true
   },
   "outputs": [],
   "source": [
    "df_1 = pd.read_csv(r'/Users/eliskasimova/Desktop/data_analytics_course_2024/project_folder/labs/second_project/data/clean/df_merged.csv')\n",
    "df_2 = pd.read_csv(r'/Users/eliskasimova/Desktop/data_analytics_course_2024/project_folder/labs/second_project/data/raw/df_final_web_data_pt_1.txt')\n",
    "df_3 = pd.read_csv(r'/Users/eliskasimova/Desktop/data_analytics_course_2024/project_folder/labs/second_project/data/raw/df_final_web_data_pt_2.txt')\n",
    "merged_df = pd.concat([df_2, df_3], axis=0)\n",
    "\n",
    "df_merged = df_1.merge(merged_df, on='client_id', how='inner')\n",
    "df_merged['date_time'] = pd.to_datetime(df_merged['date_time'], errors='coerce')  # coerce invalid formats to NaT"
   ]
  },
  {
   "cell_type": "markdown",
   "id": "ac6462d6-51fd-4b80-ac58-9d51704622de",
   "metadata": {},
   "source": [
    "### Groups sorting to control/test"
   ]
  },
  {
   "cell_type": "code",
   "execution_count": null,
   "id": "0b667030-dcbf-4ef8-a6fa-da2f4e2fb1e1",
   "metadata": {},
   "outputs": [],
   "source": [
    "control_group = df_merged[df_merged['variation'] == 'Control']\n",
    "test_group = df_merged[df_merged['variation'] == 'Test']\n",
    "\n",
    "# Sort control group\n",
    "control_group_sorted = control_group.sort_values(by=['client_id', 'visit_id', 'process_step', 'date_time'])\n",
    "\n",
    "# Sort test group\n",
    "test_group_sorted = test_group.sort_values(by=['client_id', 'visit_id', 'process_step', 'date_time'])"
   ]
  },
  {
   "cell_type": "code",
   "execution_count": null,
   "id": "94afac0b-ac85-45ef-9691-16cced66fde8",
   "metadata": {},
   "outputs": [],
   "source": [
    "df_merged['date_time'] = pd.to_datetime(df_merged['date_time'], errors='coerce')  # Coerce invalid formats to NaT\n",
    "# Filter for the test group only\n",
    "control_group = df_merged[df_merged['variation'] == 'Control']\n",
    "# Sort by client_id and date_time to ensure chronological order of events\n",
    "control_group = control_group.sort_values(by=['client_id', 'date_time'])\n",
    "# Function to calculate completion time for each step in the test group\n",
    "def calculate_completion_time(group_df):\n",
    "    # Create a new column to store the completion time for each step\n",
    "    group_df['next_step_time'] = group_df.groupby('client_id')['date_time'].shift(-1)\n",
    "    # Only keep rows where the next step exists (i.e., not NaT)\n",
    "    group_df = group_df.dropna(subset=['next_step_time'])\n",
    "    # Calculate the completion time as the time difference between current and next step\n",
    "    group_df['completion_time'] = group_df['next_step_time'] - group_df['date_time']\n",
    "    return group_df[['client_id', 'process_step', 'date_time', 'next_step_time', 'completion_time']]\n",
    "# Apply the function to the test group\n",
    "control_group_completion_times = calculate_completion_time(control_group)\n",
    "\n",
    "# Convert completion_time to minutes for easier interpretation\n",
    "control_group_completion_times['completion_time_minutes'] = control_group_completion_times['completion_time'].dt.total_seconds() / 60\n",
    "\n",
    "# Calculate the IQR (Interquartile Range) for completion time\n",
    "Q1 = control_group_completion_times['completion_time_minutes'].quantile(0.25)\n",
    "Q3 = control_group_completion_times['completion_time_minutes'].quantile(0.75)\n",
    "IQR = Q3 - Q1\n",
    "\n",
    "# Define the upper and lower bounds for outliers\n",
    "lower_bound = Q1 - 1.5 * IQR\n",
    "upper_bound = Q3 + 1.5 * IQR\n",
    "\n",
    "# Filter out the outliers based on IQR\n",
    "filtered_data = control_group_completion_times[\n",
    "    (control_group_completion_times['completion_time_minutes'] >= lower_bound) &\n",
    "    (control_group_completion_times['completion_time_minutes'] <= upper_bound)\n",
    "]\n",
    "\n",
    "# Now calculate the average completion time in minutes for each process step, after removing outliers\n",
    "average_completion_time_minutes_filtered = filtered_data.groupby('process_step')['completion_time_minutes'].mean().reset_index()\n",
    "\n",
    "# Display the result\n",
    "print(average_completion_time_minutes_filtered)\n"
   ]
  },
  {
   "cell_type": "markdown",
   "id": "6d04dcd5-756e-4ee2-b313-687b276e24a1",
   "metadata": {},
   "source": [
    "### Completion time without outliers for control group per each step"
   ]
  },
  {
   "cell_type": "markdown",
   "id": "6c53ae93-cce3-49c7-9628-a2a647784dc7",
   "metadata": {},
   "source": [
    "### Completion time analysis with outliers"
   ]
  },
  {
   "cell_type": "code",
   "execution_count": null,
   "id": "3ead9106-32a1-4723-94dd-0c22c9d01e36",
   "metadata": {},
   "outputs": [],
   "source": [
    "# filter to get the latest start for each client\n",
    "starts_only = df_merged[df_merged['process_step'] == 'start']\n",
    "latest_starts = starts_only.loc[starts_only.groupby('client_id')['date_time'].idxmax()]\n",
    "\n",
    "# filter to get the last confirmation for each client\n",
    "confirmation_only = df_merged[df_merged['process_step'] == 'confirm']\n",
    "latest_confirms = confirmation_only.loc[confirmation_only.groupby('client_id')['date_time'].idxmax()]\n",
    "\n",
    "# merge to have both latest start and confirm per client\n",
    "# Confirming datetime columns are of Timestamp type in merged DataFrame\n",
    "latest_start_confirms = pd.merge(latest_starts, latest_confirms, on='client_id', suffixes=('_start', '_confirm'))\n",
    "\n",
    "# calculate process duration for those who completed the process\n",
    "latest_start_confirms['process_duration'] = latest_start_confirms['date_time_confirm'] - latest_start_confirms['date_time_start']\n",
    "\n",
    "# Scalculate the average duration and compare with mode and mean\n",
    "print(\"Average duration:\", latest_start_confirms['process_duration'].mean())\n",
    "print(\"Duration mode:\", latest_start_confirms['process_duration'].mode())\n",
    "print(\"Duration median:\", latest_start_confirms['process_duration'].median())\n"
   ]
  },
  {
   "cell_type": "markdown",
   "id": "c9468952-b493-4e90-bce5-40c0a0d81d8d",
   "metadata": {},
   "source": [
    "### Completion time analysis without outliers in general (not divided by A/B)"
   ]
  },
  {
   "cell_type": "code",
   "execution_count": null,
   "id": "dc0f1e4a-4604-4b64-bbdb-dfdefcdf6aa9",
   "metadata": {},
   "outputs": [],
   "source": [
    "# Convert the timedelta to seconds for easier manipulation\n",
    "latest_start_confirms['process_duration_seconds'] = latest_start_confirms['process_duration'].dt.total_seconds()\n",
    "\n",
    "# Calculate the IQR (Interquartile Range)\n",
    "Q1 = latest_start_confirms['process_duration_seconds'].quantile(0.25)\n",
    "Q3 = latest_start_confirms['process_duration_seconds'].quantile(0.75)\n",
    "IQR = Q3 - Q1\n",
    "\n",
    "# Define the upper and lower bounds for outliers\n",
    "lower_bound = Q1 - 1.5 * IQR\n",
    "upper_bound = Q3 + 1.5 * IQR\n",
    "\n",
    "# Filter out the outliers based on IQR\n",
    "filtered_data = latest_start_confirms[(latest_start_confirms['process_duration_seconds'] >= lower_bound) &\n",
    "                                      (latest_start_confirms['process_duration_seconds'] <= upper_bound)]\n",
    "\n",
    "# Convert process_duration back to Timedelta\n",
    "filtered_data['process_duration'] = pd.to_timedelta(filtered_data['process_duration_seconds'], unit='s')\n",
    "\n",
    "# Calculate the average process duration again after removing outliers\n",
    "print(\"Average duration in total for both groups without outliers:\", filtered_data['process_duration'].mean())\n",
    "print(\"Median duration in total for both groups without outliers:\", filtered_data['process_duration'].median())\n"
   ]
  },
  {
   "cell_type": "code",
   "execution_count": null,
   "id": "880d3f1c-541f-4280-ae49-20f2c068d702",
   "metadata": {},
   "outputs": [],
   "source": []
  },
  {
   "cell_type": "code",
   "execution_count": null,
   "id": "e69699cb-edd7-4949-bf51-1b2a0710aa2d",
   "metadata": {},
   "outputs": [],
   "source": []
  },
  {
   "cell_type": "markdown",
   "id": "b267b238-bdba-4765-a268-3a9b99c3e617",
   "metadata": {},
   "source": [
    "### Adding age groups"
   ]
  },
  {
   "cell_type": "code",
   "execution_count": null,
   "id": "d9ff1afa-dbac-4627-a3a9-35348387a656",
   "metadata": {},
   "outputs": [],
   "source": [
    "# define age bins and categorize ages\n",
    "bins = [0, 30, 40, 50, 100] # You can decide the intervals based on your data\n",
    "labels = ['Under 30', '30-39', '40-49', '50 and above']\n",
    "df_merged['age_group'] = pd.cut(df_merged['clnt_age'], bins=bins, labels=labels)"
   ]
  }
 ],
 "metadata": {
  "kernelspec": {
   "display_name": "Python 3 (ipykernel)",
   "language": "python",
   "name": "python3"
  },
  "language_info": {
   "codemirror_mode": {
    "name": "ipython",
    "version": 3
   },
   "file_extension": ".py",
   "mimetype": "text/x-python",
   "name": "python",
   "nbconvert_exporter": "python",
   "pygments_lexer": "ipython3",
   "version": "3.12.4"
  }
 },
 "nbformat": 4,
 "nbformat_minor": 5
}
