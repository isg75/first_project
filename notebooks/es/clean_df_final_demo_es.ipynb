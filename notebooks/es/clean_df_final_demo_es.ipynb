{
 "cells": [
  {
   "cell_type": "code",
   "execution_count": null,
   "id": "2be45a48-19f1-48c0-a3ed-0b505ee1ecd9",
   "metadata": {},
   "outputs": [],
   "source": [
    "import pandas as pd\n",
    "import matplotlib.pyplot as plt\n",
    "import seaborn as sns\n",
    "import numpy as np\n",
    "\n",
    "%matplotlib inline"
   ]
  },
  {
   "cell_type": "code",
   "execution_count": null,
   "id": "37e38d2c-8865-4ac1-bc38-73e847630477",
   "metadata": {},
   "outputs": [],
   "source": [
    "df_1 = pd.read_csv(\"df_final_demo.txt\")\n",
    "df_1.head() #checking the structure of the table"
   ]
  },
  {
   "cell_type": "code",
   "execution_count": null,
   "id": "5b598cd2-5384-4eb8-803d-3575425d3e73",
   "metadata": {},
   "outputs": [],
   "source": [
    "df_1.dtypes # types of the values"
   ]
  },
  {
   "cell_type": "code",
   "execution_count": null,
   "id": "a50b9f57-be15-49dd-957b-4f6888f2cbbf",
   "metadata": {},
   "outputs": [],
   "source": [
    "df_1.isnull().sum()"
   ]
  },
  {
   "cell_type": "code",
   "execution_count": null,
   "id": "f2592e89-8958-41c3-b8d6-06f3895a4133",
   "metadata": {},
   "outputs": [],
   "source": [
    "def clean_df_final_demo():\n",
    "    #key fields client_id, clnt_age, gender, num_accts, balance, clnt_tenure_yr\n",
    "    df_copy = pd.read_csv(\"df_final_demo.txt\")\n",
    "    df_copy = df_copy.dropna()\n",
    "    corrected_columns = {\"gendr\" : \"gender\", \"bal\" : \"balance\"}\n",
    "    df_copy.rename(columns=corrected_columns, inplace = True)\n",
    "    df_copy = df_copy[df_copy['gender'] != 'X']    \n",
    "    gender_mapping = {\n",
    "    'M': 'Male',\n",
    "    'F': 'Female',\n",
    "    'U': 'Unknown',\n",
    "    }\n",
    "    df_copy['gender'] = df_copy['gender'].map(gender_mapping)\n",
    "    return df_copy\n",
    "\n",
    "df_1 = clean_df_final_demo()"
   ]
  },
  {
   "cell_type": "code",
   "execution_count": null,
   "id": "8c3cd7c3-9952-4c84-9db5-9bc5f1b188fd",
   "metadata": {},
   "outputs": [],
   "source": [
    "df_1"
   ]
  },
  {
   "cell_type": "code",
   "execution_count": null,
   "id": "ead90c28-ba51-4d1c-8089-d12fa3582765",
   "metadata": {},
   "outputs": [],
   "source": []
  }
 ],
 "metadata": {
  "kernelspec": {
   "display_name": "venv",
   "language": "python",
   "name": "venv"
  },
  "language_info": {
   "codemirror_mode": {
    "name": "ipython",
    "version": 3
   },
   "file_extension": ".py",
   "mimetype": "text/x-python",
   "name": "python",
   "nbconvert_exporter": "python",
   "pygments_lexer": "ipython3",
   "version": "3.12.4"
  }
 },
 "nbformat": 4,
 "nbformat_minor": 5
}
