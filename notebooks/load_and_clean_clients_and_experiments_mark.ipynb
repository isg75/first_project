{
 "cells": [
  {
   "cell_type": "code",
   "execution_count": 3,
   "metadata": {},
   "outputs": [],
   "source": [
    "import pandas as pd\n",
    "import functions\n",
    "\n",
    "%reload_ext autoreload\n",
    "%autoreload 2"
   ]
  },
  {
   "cell_type": "code",
   "execution_count": 4,
   "metadata": {},
   "outputs": [],
   "source": [
    "df_clients = pd.read_csv(\"../data/raw/df_final_demo.csv\")\n",
    "df_clients = functions.rename_client_columns(df_clients)\n",
    "\n",
    "df_clients.dropna(inplace=True)\n",
    "\n",
    "df_clients.to_csv(\"../data/clean/clients.csv\", index=False)"
   ]
  },
  {
   "cell_type": "code",
   "execution_count": null,
   "metadata": {},
   "outputs": [
    {
     "name": "stdout",
     "output_type": "stream",
     "text": [
      "Index(['id_x', 'tenure_years', 'tenure_months', 'age', 'gender',\n",
      "       'num_accounts', 'balance', 'calls_6_months', 'logons_6_months', 'id_y',\n",
      "       'client_id', 'visitor_id', 'visit_id', 'process_step', 'date_time'],\n",
      "      dtype='object')\n"
     ]
    },
    {
     "data": {
      "text/plain": [
       "<Axes: >"
      ]
     },
     "execution_count": 63,
     "metadata": {},
     "output_type": "execute_result"
    },
    {
     "data": {
      "image/png": "[encoded data removed]",
      "text/plain": [
       "<Figure size 640x480 with 1 Axes>"
      ]
     },
     "metadata": {},
     "output_type": "display_data"
    }
   ],
   "source": [
    "df_visits = pd.read_csv(\"../data/clean/visits.csv\")\n",
    "\n",
    "df_final = pd.merge(df_clients, df_visits, left_on=\"id\", right_on=\"client_id\", how=\"inner\")\n",
    "\n",
    "df_final.head()\n",
    "\n",
    "top_50_visitors = df_final.groupby([\"visitor_id\"]).size().sort_values(ascending=False).head(50)\n",
    "\n",
    "# df_final[df_final[\"visitor_id\"] in top_50_visitors]\n",
    "\n",
    "clients_top_50 = df_final[df_final[\"visitor_id\"].isin(top_50_visitors.keys())]\n",
    "\n",
    "print(clients_top_50.columns)\n",
    "\n",
    "#df_final[\"age\"].plot(kind=\"hist\", bins=range(0, 120, 10), rwidth=0.8)\n",
    "df_final[\"age\"].plot(kind=\"box\")"
   ]
  },
  {
   "cell_type": "code",
   "execution_count": 79,
   "metadata": {},
   "outputs": [
    {
     "data": {
      "text/plain": [
       "<Axes: >"
      ]
     },
     "execution_count": 79,
     "metadata": {},
     "output_type": "execute_result"
    },
    {
     "data": {
      "image/png": "[encoded data removed]",
      "text/plain": [
       "<Figure size 640x480 with 1 Axes>"
      ]
     },
     "metadata": {},
     "output_type": "display_data"
    }
   ],
   "source": [
    "tenure_years = df_final[\"tenure_years\"].value_counts()\n",
    "top_tenure_years = tenure_years.head(10)\n",
    "\n",
    "df_final[df_final[\"tenure_years\"].isin(top_tenure_years.keys())][\"age\"].plot(kind=\"box\")\n"
   ]
  },
  {
   "cell_type": "code",
   "execution_count": null,
   "metadata": {},
   "outputs": [
    {
     "data": {
      "text/html": [
       "<div>\n",
       "<style scoped>\n",
       "    .dataframe tbody tr th:only-of-type {\n",
       "        vertical-align: middle;\n",
       "    }\n",
       "\n",
       "    .dataframe tbody tr th {\n",
       "        vertical-align: top;\n",
       "    }\n",
       "\n",
       "    .dataframe thead th {\n",
       "        text-align: right;\n",
       "    }\n",
       "</style>\n",
       "<table border=\"1\" class=\"dataframe\">\n",
       "  <thead>\n",
       "    <tr style=\"text-align: right;\">\n",
       "      <th></th>\n",
       "      <th>client_id</th>\n",
       "      <th>variation</th>\n",
       "    </tr>\n",
       "    <tr>\n",
       "      <th>id</th>\n",
       "      <th></th>\n",
       "      <th></th>\n",
       "    </tr>\n",
       "  </thead>\n",
       "  <tbody>\n",
       "    <tr>\n",
       "      <th>1</th>\n",
       "      <td>9988021</td>\n",
       "      <td>Test</td>\n",
       "    </tr>\n",
       "    <tr>\n",
       "      <th>2</th>\n",
       "      <td>8320017</td>\n",
       "      <td>Test</td>\n",
       "    </tr>\n",
       "    <tr>\n",
       "      <th>3</th>\n",
       "      <td>4033851</td>\n",
       "      <td>Control</td>\n",
       "    </tr>\n",
       "    <tr>\n",
       "      <th>4</th>\n",
       "      <td>1982004</td>\n",
       "      <td>Test</td>\n",
       "    </tr>\n",
       "    <tr>\n",
       "      <th>5</th>\n",
       "      <td>9294070</td>\n",
       "      <td>Control</td>\n",
       "    </tr>\n",
       "  </tbody>\n",
       "</table>\n",
       "</div>"
      ],
      "text/plain": [
       "    client_id variation\n",
       "id                     \n",
       "1     9988021      Test\n",
       "2     8320017      Test\n",
       "3     4033851   Control\n",
       "4     1982004      Test\n",
       "5     9294070   Control"
      ]
     },
     "execution_count": 14,
     "metadata": {},
     "output_type": "execute_result"
    }
   ],
   "source": [
    "df_experiments = pd.read_csv(\"../data/raw/df_final_experiment_clients.csv\")\n",
    "df_experiments = functions.rename_experiment_columns(df_experiments)\n",
    "\n",
    "df_experiments.fillna({\"variation\": \"Control\"}, inplace=True)\n",
    "\n",
    "df_experiments.index.name = \"id\"\n",
    "df_experiments.index += 1\n",
    "df_experiments.to_csv(\"../data/clean/experiments.csv\")\n",
    "\n",
    "df_experiments.head()"
   ]
  }
 ],
 "metadata": {
  "kernelspec": {
   "display_name": ".venv",
   "language": "python",
   "name": "python3"
  },
  "language_info": {
   "codemirror_mode": {
    "name": "ipython",
    "version": 3
   },
   "file_extension": ".py",
   "mimetype": "text/x-python",
   "name": "python",
   "nbconvert_exporter": "python",
   "pygments_lexer": "ipython3",
   "version": "3.11.6"
  }
 },
 "nbformat": 4,
 "nbformat_minor": 2
}
