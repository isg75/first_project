{
 "cells": [
  {
   "cell_type": "code",
   "execution_count": null,
   "id": "6447e4e0-3a0a-44c3-a0d3-04ee397c40b4",
   "metadata": {},
   "outputs": [],
   "source": [
    "import pandas as pd\n"
   ]
  },
  {
   "cell_type": "code",
   "execution_count": null,
   "id": "db194835-4845-48ec-8836-98d301a173f2",
   "metadata": {},
   "outputs": [],
   "source": [
    "\n",
    "# Replace with your actual file path\n",
    "file_path = r'/../data/raw/Employment_Projections.csv'\n",
    "\n",
    "# Read the Excel file\n",
    "df = pd.read_csv(file_path)\n",
    "\n",
    "# Display the first few rows\n",
    "df.head()\n",
    "\n"
   ]
  },
  {
   "cell_type": "code",
   "execution_count": null,
   "id": "cb0cb4b1-0da1-4689-88e1-1810c585d31a",
   "metadata": {},
   "outputs": [],
   "source": [
    "# Replace with your actual file path\n",
    "file_path = r'../data/raw/National_Employment_Matrix_IND_541200.csv'\n",
    "\n",
    "# Read the Excel file\n",
    "df = pd.read_csv(file_path)\n",
    "\n",
    "# Display the first few rows\n",
    "df.head()\n"
   ]
  },
  {
   "cell_type": "code",
   "execution_count": null,
   "id": "d9fd460e-5372-45da-9ec5-abf0538dace8",
   "metadata": {},
   "outputs": [],
   "source": [
    "# Replace with your actual file path\n",
    "file_path = '../data/raw/National_Employment_Matrix_IND_230000.csv'\n",
    "\n",
    "# Read the Excel file\n",
    "df = pd.read_csv(file_path)\n",
    "\n",
    "# Display the first few rows\n",
    "df.head()\n",
    "\n",
    "\n",
    "\n"
   ]
  },
  {
   "cell_type": "code",
   "execution_count": null,
   "id": "fd9c5473-241f-4cc2-a7b8-ee90e377d1ea",
   "metadata": {},
   "outputs": [],
   "source": [
    "\n",
    "\n",
    "# Replace with your actual file path\n",
    "file_path = '../data/raw/National_Employment_Matrix_IND_31-330.csv'\n",
    "\n",
    "# Read the Excel file\n",
    "df = pd.read_csv(file_path)\n",
    "\n",
    "# Display the first few rows\n",
    "df.tail()\n",
    "\n"
   ]
  },
  {
   "cell_type": "code",
   "execution_count": null,
   "id": "0654c6a0-89c3-4c62-b3c2-94ce62dc6153",
   "metadata": {},
   "outputs": [],
   "source": [
    "\n",
    "# Replace with your actual file path\n",
    "file_path = '../data/raw/OECD.STI.DEP,DSD_ICT_B@DF_BUSINESSES,1.0+all.csv'\n",
    "\n",
    "# Read the Excel file\n",
    "df = pd.read_csv(file_path)\n",
    "\n",
    "# Display the first few rows\n",
    "df.tail(10)\n",
    "\n",
    "\n"
   ]
  },
  {
   "cell_type": "code",
   "execution_count": null,
   "id": "c5cc9ff8-bbf8-41e8-8986-8cf2983bd528",
   "metadata": {},
   "outputs": [],
   "source": [
    "df.columns"
   ]
  },
  {
   "cell_type": "code",
   "execution_count": null,
   "id": "5db0407d-b950-4e2e-9dc5-5a551d9202b3",
   "metadata": {},
   "outputs": [],
   "source": [
    "df['Observation value'].unique"
   ]
  }
 ],
 "metadata": {
  "kernelspec": {
   "display_name": "venv",
   "language": "python",
   "name": "venv"
  },
  "language_info": {
   "codemirror_mode": {
    "name": "ipython",
    "version": 3
   },
   "file_extension": ".py",
   "mimetype": "text/x-python",
   "name": "python",
   "nbconvert_exporter": "python",
   "pygments_lexer": "ipython3",
   "version": "3.12.7"
  }
 },
 "nbformat": 4,
 "nbformat_minor": 5
}
