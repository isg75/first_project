{
 "cells": [
  {
   "cell_type": "code",
   "execution_count": 1,
   "id": "a880fc45-573a-40d3-b40c-2277748bbf68",
   "metadata": {},
   "outputs": [
    {
     "name": "stdout",
     "output_type": "stream",
     "text": [
      "        UNODC   Unnamed: 1 Unnamed: 2                       Unnamed: 3  \\\n",
      "0  14/04/2025          NaN        NaN                              NaN   \n",
      "1   Iso3_code      Country     Region                        Subregion   \n",
      "2         ABW        Aruba   Americas  Latin America and the Caribbean   \n",
      "3         AFG  Afghanistan       Asia                    Southern Asia   \n",
      "4         AFG  Afghanistan       Asia                    Southern Asia   \n",
      "\n",
      "                     Unnamed: 4                  Unnamed: 5 Unnamed: 6  \\\n",
      "0                           NaN                         NaN        NaN   \n",
      "1                     Indicator                   Dimension   Category   \n",
      "2  Detected trafficking victims  by country of repatriation    Ukraine   \n",
      "3  Detected trafficking victims  by country of repatriation     Abroad   \n",
      "4  Detected trafficking victims  by country of repatriation     Abroad   \n",
      "\n",
      "  Unnamed: 7 Unnamed: 8 Unnamed: 9          Unnamed: 10 Unnamed: 11  \\\n",
      "0        NaN        NaN        NaN                  NaN         NaN   \n",
      "1        Sex        Age       Year  Unit of measurement    txtVALUE   \n",
      "2      Total      Total       2010               Counts          <5   \n",
      "3      Total      Total       2003               Counts          <5   \n",
      "4      Total      Total       2008               Counts          <5   \n",
      "\n",
      "  Unnamed: 12  \n",
      "0         NaN  \n",
      "1      Source  \n",
      "2      GLOTIP  \n",
      "3      GLOTIP  \n",
      "4      GLOTIP  \n"
     ]
    }
   ],
   "source": [
    "import pandas as pd\n",
    "df = pd.read_excel(r'../data/raw/data_glotip.xlsx')\n",
    "print(df.head())"
   ]
  },
  {
   "cell_type": "code",
   "execution_count": 2,
   "id": "3cceafbf-60d8-4547-a736-8a2ed524fca8",
   "metadata": {},
   "outputs": [
    {
     "data": {
      "text/html": [
       "<div>\n",
       "<style scoped>\n",
       "    .dataframe tbody tr th:only-of-type {\n",
       "        vertical-align: middle;\n",
       "    }\n",
       "\n",
       "    .dataframe tbody tr th {\n",
       "        vertical-align: top;\n",
       "    }\n",
       "\n",
       "    .dataframe thead th {\n",
       "        text-align: right;\n",
       "    }\n",
       "</style>\n",
       "<table border=\"1\" class=\"dataframe\">\n",
       "  <thead>\n",
       "    <tr style=\"text-align: right;\">\n",
       "      <th></th>\n",
       "      <th>Iso3_code</th>\n",
       "      <th>Country</th>\n",
       "      <th>Region</th>\n",
       "      <th>Subregion</th>\n",
       "      <th>Indicator</th>\n",
       "      <th>Dimension</th>\n",
       "      <th>Category</th>\n",
       "      <th>Sex</th>\n",
       "      <th>Age</th>\n",
       "      <th>Year</th>\n",
       "      <th>Unit of measurement</th>\n",
       "      <th>txtVALUE</th>\n",
       "      <th>Source</th>\n",
       "    </tr>\n",
       "  </thead>\n",
       "  <tbody>\n",
       "    <tr>\n",
       "      <th>0</th>\n",
       "      <td>ABW</td>\n",
       "      <td>Aruba</td>\n",
       "      <td>Americas</td>\n",
       "      <td>Latin America and the Caribbean</td>\n",
       "      <td>Detected trafficking victims</td>\n",
       "      <td>by country of repatriation</td>\n",
       "      <td>Ukraine</td>\n",
       "      <td>Total</td>\n",
       "      <td>Total</td>\n",
       "      <td>2010</td>\n",
       "      <td>Counts</td>\n",
       "      <td>&lt;5</td>\n",
       "      <td>GLOTIP</td>\n",
       "    </tr>\n",
       "    <tr>\n",
       "      <th>1</th>\n",
       "      <td>AFG</td>\n",
       "      <td>Afghanistan</td>\n",
       "      <td>Asia</td>\n",
       "      <td>Southern Asia</td>\n",
       "      <td>Detected trafficking victims</td>\n",
       "      <td>by country of repatriation</td>\n",
       "      <td>Abroad</td>\n",
       "      <td>Total</td>\n",
       "      <td>Total</td>\n",
       "      <td>2003</td>\n",
       "      <td>Counts</td>\n",
       "      <td>&lt;5</td>\n",
       "      <td>GLOTIP</td>\n",
       "    </tr>\n",
       "    <tr>\n",
       "      <th>2</th>\n",
       "      <td>AFG</td>\n",
       "      <td>Afghanistan</td>\n",
       "      <td>Asia</td>\n",
       "      <td>Southern Asia</td>\n",
       "      <td>Detected trafficking victims</td>\n",
       "      <td>by country of repatriation</td>\n",
       "      <td>Abroad</td>\n",
       "      <td>Total</td>\n",
       "      <td>Total</td>\n",
       "      <td>2008</td>\n",
       "      <td>Counts</td>\n",
       "      <td>&lt;5</td>\n",
       "      <td>GLOTIP</td>\n",
       "    </tr>\n",
       "    <tr>\n",
       "      <th>3</th>\n",
       "      <td>AFG</td>\n",
       "      <td>Afghanistan</td>\n",
       "      <td>Asia</td>\n",
       "      <td>Southern Asia</td>\n",
       "      <td>Offences of trafficking in persons</td>\n",
       "      <td>Total</td>\n",
       "      <td>Total</td>\n",
       "      <td>Total</td>\n",
       "      <td>Total</td>\n",
       "      <td>2013</td>\n",
       "      <td>Counts</td>\n",
       "      <td>103</td>\n",
       "      <td>GLOTIP</td>\n",
       "    </tr>\n",
       "    <tr>\n",
       "      <th>4</th>\n",
       "      <td>AFG</td>\n",
       "      <td>Afghanistan</td>\n",
       "      <td>Asia</td>\n",
       "      <td>Southern Asia</td>\n",
       "      <td>Persons brought into formal contact</td>\n",
       "      <td>Total</td>\n",
       "      <td>Total</td>\n",
       "      <td>Total</td>\n",
       "      <td>Total</td>\n",
       "      <td>2013</td>\n",
       "      <td>Counts</td>\n",
       "      <td>167</td>\n",
       "      <td>GLOTIP</td>\n",
       "    </tr>\n",
       "  </tbody>\n",
       "</table>\n",
       "</div>"
      ],
      "text/plain": [
       "  Iso3_code      Country    Region                        Subregion  \\\n",
       "0       ABW        Aruba  Americas  Latin America and the Caribbean   \n",
       "1       AFG  Afghanistan      Asia                    Southern Asia   \n",
       "2       AFG  Afghanistan      Asia                    Southern Asia   \n",
       "3       AFG  Afghanistan      Asia                    Southern Asia   \n",
       "4       AFG  Afghanistan      Asia                    Southern Asia   \n",
       "\n",
       "                             Indicator                   Dimension Category  \\\n",
       "0         Detected trafficking victims  by country of repatriation  Ukraine   \n",
       "1         Detected trafficking victims  by country of repatriation   Abroad   \n",
       "2         Detected trafficking victims  by country of repatriation   Abroad   \n",
       "3   Offences of trafficking in persons                       Total    Total   \n",
       "4  Persons brought into formal contact                       Total    Total   \n",
       "\n",
       "     Sex    Age  Year Unit of measurement txtVALUE  Source  \n",
       "0  Total  Total  2010              Counts       <5  GLOTIP  \n",
       "1  Total  Total  2003              Counts       <5  GLOTIP  \n",
       "2  Total  Total  2008              Counts       <5  GLOTIP  \n",
       "3  Total  Total  2013              Counts      103  GLOTIP  \n",
       "4  Total  Total  2013              Counts      167  GLOTIP  "
      ]
     },
     "metadata": {},
     "output_type": "display_data"
    }
   ],
   "source": [
    "new_columns = df.iloc[1].tolist()\n",
    "df.columns = new_columns\n",
    "df = df.drop(1).reset_index(drop=True)\n",
    "df = df.drop(0).reset_index(drop=True)\n",
    "display(df.head())"
   ]
  },
  {
   "cell_type": "code",
   "execution_count": 3,
   "id": "fdb63e52-51d2-4474-9c53-318379553fd5",
   "metadata": {},
   "outputs": [
    {
     "data": {
      "text/html": [
       "<div>\n",
       "<style scoped>\n",
       "    .dataframe tbody tr th:only-of-type {\n",
       "        vertical-align: middle;\n",
       "    }\n",
       "\n",
       "    .dataframe tbody tr th {\n",
       "        vertical-align: top;\n",
       "    }\n",
       "\n",
       "    .dataframe thead th {\n",
       "        text-align: right;\n",
       "    }\n",
       "</style>\n",
       "<table border=\"1\" class=\"dataframe\">\n",
       "  <thead>\n",
       "    <tr style=\"text-align: right;\">\n",
       "      <th></th>\n",
       "      <th>Country</th>\n",
       "      <th>Region</th>\n",
       "      <th>Subregion</th>\n",
       "      <th>Indicator</th>\n",
       "      <th>Dimension</th>\n",
       "      <th>Category</th>\n",
       "      <th>Sex</th>\n",
       "      <th>Age</th>\n",
       "      <th>Year</th>\n",
       "      <th>txtVALUE</th>\n",
       "    </tr>\n",
       "  </thead>\n",
       "  <tbody>\n",
       "    <tr>\n",
       "      <th>0</th>\n",
       "      <td>Aruba</td>\n",
       "      <td>Americas</td>\n",
       "      <td>Latin America and the Caribbean</td>\n",
       "      <td>Detected trafficking victims</td>\n",
       "      <td>by country of repatriation</td>\n",
       "      <td>Ukraine</td>\n",
       "      <td>Total</td>\n",
       "      <td>Total</td>\n",
       "      <td>2010</td>\n",
       "      <td>&lt;5</td>\n",
       "    </tr>\n",
       "    <tr>\n",
       "      <th>1</th>\n",
       "      <td>Afghanistan</td>\n",
       "      <td>Asia</td>\n",
       "      <td>Southern Asia</td>\n",
       "      <td>Detected trafficking victims</td>\n",
       "      <td>by country of repatriation</td>\n",
       "      <td>Abroad</td>\n",
       "      <td>Total</td>\n",
       "      <td>Total</td>\n",
       "      <td>2003</td>\n",
       "      <td>&lt;5</td>\n",
       "    </tr>\n",
       "    <tr>\n",
       "      <th>2</th>\n",
       "      <td>Afghanistan</td>\n",
       "      <td>Asia</td>\n",
       "      <td>Southern Asia</td>\n",
       "      <td>Detected trafficking victims</td>\n",
       "      <td>by country of repatriation</td>\n",
       "      <td>Abroad</td>\n",
       "      <td>Total</td>\n",
       "      <td>Total</td>\n",
       "      <td>2008</td>\n",
       "      <td>&lt;5</td>\n",
       "    </tr>\n",
       "    <tr>\n",
       "      <th>3</th>\n",
       "      <td>Afghanistan</td>\n",
       "      <td>Asia</td>\n",
       "      <td>Southern Asia</td>\n",
       "      <td>Offences of trafficking in persons</td>\n",
       "      <td>Total</td>\n",
       "      <td>Total</td>\n",
       "      <td>Total</td>\n",
       "      <td>Total</td>\n",
       "      <td>2013</td>\n",
       "      <td>103</td>\n",
       "    </tr>\n",
       "    <tr>\n",
       "      <th>4</th>\n",
       "      <td>Afghanistan</td>\n",
       "      <td>Asia</td>\n",
       "      <td>Southern Asia</td>\n",
       "      <td>Persons brought into formal contact</td>\n",
       "      <td>Total</td>\n",
       "      <td>Total</td>\n",
       "      <td>Total</td>\n",
       "      <td>Total</td>\n",
       "      <td>2013</td>\n",
       "      <td>167</td>\n",
       "    </tr>\n",
       "  </tbody>\n",
       "</table>\n",
       "</div>"
      ],
      "text/plain": [
       "       Country    Region                        Subregion  \\\n",
       "0        Aruba  Americas  Latin America and the Caribbean   \n",
       "1  Afghanistan      Asia                    Southern Asia   \n",
       "2  Afghanistan      Asia                    Southern Asia   \n",
       "3  Afghanistan      Asia                    Southern Asia   \n",
       "4  Afghanistan      Asia                    Southern Asia   \n",
       "\n",
       "                             Indicator                   Dimension Category  \\\n",
       "0         Detected trafficking victims  by country of repatriation  Ukraine   \n",
       "1         Detected trafficking victims  by country of repatriation   Abroad   \n",
       "2         Detected trafficking victims  by country of repatriation   Abroad   \n",
       "3   Offences of trafficking in persons                       Total    Total   \n",
       "4  Persons brought into formal contact                       Total    Total   \n",
       "\n",
       "     Sex    Age  Year txtVALUE  \n",
       "0  Total  Total  2010       <5  \n",
       "1  Total  Total  2003       <5  \n",
       "2  Total  Total  2008       <5  \n",
       "3  Total  Total  2013      103  \n",
       "4  Total  Total  2013      167  "
      ]
     },
     "metadata": {},
     "output_type": "display_data"
    }
   ],
   "source": [
    "df.drop(columns='Iso3_code',  inplace=True)\n",
    "df.drop(columns='Unit of measurement',  inplace=True)\n",
    "df.drop(columns='Source',  inplace=True)\n",
    "display(df.head())"
   ]
  },
  {
   "cell_type": "code",
   "execution_count": 4,
   "id": "633a6df2-aa48-46f8-a82f-0a48359b8d6c",
   "metadata": {},
   "outputs": [],
   "source": [
    "import numpy as np\n",
    "df['Sex'] = df['Sex'].replace('Total', np.nan)\n",
    "df['Sex'] = df['Sex'].str.capitalize()\n",
    "df['Sex'] = df['Sex'].replace('Unknown',np.nan)"
   ]
  },
  {
   "cell_type": "code",
   "execution_count": 5,
   "id": "4b978c51-f202-463f-8f80-6d120e2b85f4",
   "metadata": {},
   "outputs": [
    {
     "name": "stdout",
     "output_type": "stream",
     "text": [
      "[nan 'Female' 'Male' 'Other']\n"
     ]
    }
   ],
   "source": [
    "print(df['Sex'].unique())"
   ]
  },
  {
   "cell_type": "code",
   "execution_count": 6,
   "id": "d64ae6f2-7aa0-4971-848c-eb2570bb22f4",
   "metadata": {},
   "outputs": [
    {
     "data": {
      "text/plain": [
       "Sex\n",
       "NaN       33456\n",
       "Female    11846\n",
       "Male      11677\n",
       "Other      1790\n",
       "Name: count, dtype: int64"
      ]
     },
     "execution_count": 6,
     "metadata": {},
     "output_type": "execute_result"
    }
   ],
   "source": [
    "df['Sex'].value_counts(dropna=False)"
   ]
  },
  {
   "cell_type": "code",
   "execution_count": 20,
   "id": "bb391945-9c33-4baf-aa00-552d09793972",
   "metadata": {},
   "outputs": [
    {
     "name": "stdout",
     "output_type": "stream",
     "text": [
      "['Total' '0 to 17 years' '18 years or over' 'Unknown']\n"
     ]
    }
   ],
   "source": [
    "print(df['Age'].unique())"
   ]
  },
  {
   "cell_type": "code",
   "execution_count": 21,
   "id": "e2c24112-61ce-45d2-a5c2-39c7065a4846",
   "metadata": {},
   "outputs": [],
   "source": [
    "import numpy as np\n",
    "\n",
    "df['Age'] = df['Age'].replace({\n",
    "    '0 to 17 years': 'Minor',\n",
    "    '18 years or over': 'Adult',\n",
    "    'Total': np.nan,\n",
    "    'Unknown': np.nan\n",
    "})"
   ]
  },
  {
   "cell_type": "code",
   "execution_count": 22,
   "id": "cd9ddacc-cf19-49b1-a5fa-946f53b1b35b",
   "metadata": {},
   "outputs": [
    {
     "name": "stdout",
     "output_type": "stream",
     "text": [
      "[nan 'Minor' 'Adult']\n"
     ]
    }
   ],
   "source": [
    "print(df['Age'].unique())"
   ]
  },
  {
   "cell_type": "code",
   "execution_count": 26,
   "id": "7c7f0e39-3353-40ed-9157-c7106d4473cd",
   "metadata": {},
   "outputs": [
    {
     "data": {
      "text/plain": [
       "Age\n",
       "NaN      32579\n",
       "Adult    13571\n",
       "Minor    12619\n",
       "Name: count, dtype: int64"
      ]
     },
     "execution_count": 26,
     "metadata": {},
     "output_type": "execute_result"
    }
   ],
   "source": [
    "df['Age'].value_counts(dropna=False)"
   ]
  },
  {
   "cell_type": "code",
   "execution_count": 7,
   "id": "2a075863-78ec-47ff-a7a9-1d836cfef641",
   "metadata": {},
   "outputs": [
    {
     "data": {
      "text/plain": [
       "58769"
      ]
     },
     "execution_count": 7,
     "metadata": {},
     "output_type": "execute_result"
    }
   ],
   "source": [
    "df.shape[0]"
   ]
  },
  {
   "cell_type": "code",
   "execution_count": 24,
   "id": "1d79f77a-5f34-4da4-a38f-0185bbd6d03e",
   "metadata": {},
   "outputs": [
    {
     "data": {
      "text/plain": [
       "1490"
      ]
     },
     "execution_count": 24,
     "metadata": {},
     "output_type": "execute_result"
    }
   ],
   "source": [
    "df = df.rename(columns={'txtVALUE': 'Nr_of_victims'})\n",
    "df['Nr_of_victims'].nunique()"
   ]
  },
  {
   "cell_type": "code",
   "execution_count": 9,
   "id": "3047854f-da0b-4f71-97ac-fc26e88e4a68",
   "metadata": {},
   "outputs": [
    {
     "data": {
      "text/html": [
       "<div>\n",
       "<style scoped>\n",
       "    .dataframe tbody tr th:only-of-type {\n",
       "        vertical-align: middle;\n",
       "    }\n",
       "\n",
       "    .dataframe tbody tr th {\n",
       "        vertical-align: top;\n",
       "    }\n",
       "\n",
       "    .dataframe thead th {\n",
       "        text-align: right;\n",
       "    }\n",
       "</style>\n",
       "<table border=\"1\" class=\"dataframe\">\n",
       "  <thead>\n",
       "    <tr style=\"text-align: right;\">\n",
       "      <th></th>\n",
       "      <th>Country</th>\n",
       "      <th>Region</th>\n",
       "      <th>Subregion</th>\n",
       "      <th>Indicator</th>\n",
       "      <th>Dimension</th>\n",
       "      <th>Category</th>\n",
       "      <th>Sex</th>\n",
       "      <th>Age</th>\n",
       "      <th>Year</th>\n",
       "      <th>Nr_of_victims</th>\n",
       "    </tr>\n",
       "  </thead>\n",
       "  <tbody>\n",
       "    <tr>\n",
       "      <th>0</th>\n",
       "      <td>Aruba</td>\n",
       "      <td>Americas</td>\n",
       "      <td>Latin America and the Caribbean</td>\n",
       "      <td>Detected trafficking victims</td>\n",
       "      <td>by country of repatriation</td>\n",
       "      <td>Ukraine</td>\n",
       "      <td>NaN</td>\n",
       "      <td>Total</td>\n",
       "      <td>2010</td>\n",
       "      <td>&lt;5</td>\n",
       "    </tr>\n",
       "    <tr>\n",
       "      <th>1</th>\n",
       "      <td>Afghanistan</td>\n",
       "      <td>Asia</td>\n",
       "      <td>Southern Asia</td>\n",
       "      <td>Detected trafficking victims</td>\n",
       "      <td>by country of repatriation</td>\n",
       "      <td>Abroad</td>\n",
       "      <td>NaN</td>\n",
       "      <td>Total</td>\n",
       "      <td>2003</td>\n",
       "      <td>&lt;5</td>\n",
       "    </tr>\n",
       "    <tr>\n",
       "      <th>2</th>\n",
       "      <td>Afghanistan</td>\n",
       "      <td>Asia</td>\n",
       "      <td>Southern Asia</td>\n",
       "      <td>Detected trafficking victims</td>\n",
       "      <td>by country of repatriation</td>\n",
       "      <td>Abroad</td>\n",
       "      <td>NaN</td>\n",
       "      <td>Total</td>\n",
       "      <td>2008</td>\n",
       "      <td>&lt;5</td>\n",
       "    </tr>\n",
       "    <tr>\n",
       "      <th>3</th>\n",
       "      <td>Afghanistan</td>\n",
       "      <td>Asia</td>\n",
       "      <td>Southern Asia</td>\n",
       "      <td>Offences of trafficking in persons</td>\n",
       "      <td>Total</td>\n",
       "      <td>Total</td>\n",
       "      <td>NaN</td>\n",
       "      <td>Total</td>\n",
       "      <td>2013</td>\n",
       "      <td>103</td>\n",
       "    </tr>\n",
       "    <tr>\n",
       "      <th>4</th>\n",
       "      <td>Afghanistan</td>\n",
       "      <td>Asia</td>\n",
       "      <td>Southern Asia</td>\n",
       "      <td>Persons brought into formal contact</td>\n",
       "      <td>Total</td>\n",
       "      <td>Total</td>\n",
       "      <td>NaN</td>\n",
       "      <td>Total</td>\n",
       "      <td>2013</td>\n",
       "      <td>167</td>\n",
       "    </tr>\n",
       "  </tbody>\n",
       "</table>\n",
       "</div>"
      ],
      "text/plain": [
       "       Country    Region                        Subregion  \\\n",
       "0        Aruba  Americas  Latin America and the Caribbean   \n",
       "1  Afghanistan      Asia                    Southern Asia   \n",
       "2  Afghanistan      Asia                    Southern Asia   \n",
       "3  Afghanistan      Asia                    Southern Asia   \n",
       "4  Afghanistan      Asia                    Southern Asia   \n",
       "\n",
       "                             Indicator                   Dimension Category  \\\n",
       "0         Detected trafficking victims  by country of repatriation  Ukraine   \n",
       "1         Detected trafficking victims  by country of repatriation   Abroad   \n",
       "2         Detected trafficking victims  by country of repatriation   Abroad   \n",
       "3   Offences of trafficking in persons                       Total    Total   \n",
       "4  Persons brought into formal contact                       Total    Total   \n",
       "\n",
       "   Sex    Age  Year Nr_of_victims  \n",
       "0  NaN  Total  2010            <5  \n",
       "1  NaN  Total  2003            <5  \n",
       "2  NaN  Total  2008            <5  \n",
       "3  NaN  Total  2013           103  \n",
       "4  NaN  Total  2013           167  "
      ]
     },
     "metadata": {},
     "output_type": "display_data"
    }
   ],
   "source": [
    "display(df.head())"
   ]
  },
  {
   "cell_type": "code",
   "execution_count": 17,
   "id": "361bd975-6d37-42a6-a928-e26bcf29e1f0",
   "metadata": {},
   "outputs": [],
   "source": [
    "df1 = df[df['Indicator'] == 'Detected trafficking victims'].copy()"
   ]
  },
  {
   "cell_type": "code",
   "execution_count": 20,
   "id": "49c7c487-c223-4716-86c6-d31fa5a4537d",
   "metadata": {},
   "outputs": [
    {
     "data": {
      "text/html": [
       "<div>\n",
       "<style scoped>\n",
       "    .dataframe tbody tr th:only-of-type {\n",
       "        vertical-align: middle;\n",
       "    }\n",
       "\n",
       "    .dataframe tbody tr th {\n",
       "        vertical-align: top;\n",
       "    }\n",
       "\n",
       "    .dataframe thead th {\n",
       "        text-align: right;\n",
       "    }\n",
       "</style>\n",
       "<table border=\"1\" class=\"dataframe\">\n",
       "  <thead>\n",
       "    <tr style=\"text-align: right;\">\n",
       "      <th></th>\n",
       "      <th>Country</th>\n",
       "      <th>Region</th>\n",
       "      <th>Subregion</th>\n",
       "      <th>Indicator</th>\n",
       "      <th>Dimension</th>\n",
       "      <th>Category</th>\n",
       "      <th>Sex</th>\n",
       "      <th>Age</th>\n",
       "      <th>Year</th>\n",
       "      <th>Nr_of_victims</th>\n",
       "    </tr>\n",
       "  </thead>\n",
       "  <tbody>\n",
       "    <tr>\n",
       "      <th>0</th>\n",
       "      <td>Aruba</td>\n",
       "      <td>Americas</td>\n",
       "      <td>Latin America and the Caribbean</td>\n",
       "      <td>Detected trafficking victims</td>\n",
       "      <td>by country of repatriation</td>\n",
       "      <td>Ukraine</td>\n",
       "      <td>NaN</td>\n",
       "      <td>Total</td>\n",
       "      <td>2010</td>\n",
       "      <td>&lt;5</td>\n",
       "    </tr>\n",
       "    <tr>\n",
       "      <th>1</th>\n",
       "      <td>Afghanistan</td>\n",
       "      <td>Asia</td>\n",
       "      <td>Southern Asia</td>\n",
       "      <td>Detected trafficking victims</td>\n",
       "      <td>by country of repatriation</td>\n",
       "      <td>Abroad</td>\n",
       "      <td>NaN</td>\n",
       "      <td>Total</td>\n",
       "      <td>2003</td>\n",
       "      <td>&lt;5</td>\n",
       "    </tr>\n",
       "    <tr>\n",
       "      <th>2</th>\n",
       "      <td>Afghanistan</td>\n",
       "      <td>Asia</td>\n",
       "      <td>Southern Asia</td>\n",
       "      <td>Detected trafficking victims</td>\n",
       "      <td>by country of repatriation</td>\n",
       "      <td>Abroad</td>\n",
       "      <td>NaN</td>\n",
       "      <td>Total</td>\n",
       "      <td>2008</td>\n",
       "      <td>&lt;5</td>\n",
       "    </tr>\n",
       "    <tr>\n",
       "      <th>5</th>\n",
       "      <td>Afghanistan</td>\n",
       "      <td>Asia</td>\n",
       "      <td>Southern Asia</td>\n",
       "      <td>Detected trafficking victims</td>\n",
       "      <td>by form of exploitation</td>\n",
       "      <td>Sexual exploitation</td>\n",
       "      <td>NaN</td>\n",
       "      <td>Total</td>\n",
       "      <td>2017</td>\n",
       "      <td>&lt;5</td>\n",
       "    </tr>\n",
       "    <tr>\n",
       "      <th>6</th>\n",
       "      <td>Afghanistan</td>\n",
       "      <td>Asia</td>\n",
       "      <td>Southern Asia</td>\n",
       "      <td>Detected trafficking victims</td>\n",
       "      <td>by form of exploitation</td>\n",
       "      <td>Forced labour</td>\n",
       "      <td>NaN</td>\n",
       "      <td>Total</td>\n",
       "      <td>2018</td>\n",
       "      <td>&lt;5</td>\n",
       "    </tr>\n",
       "  </tbody>\n",
       "</table>\n",
       "</div>"
      ],
      "text/plain": [
       "       Country    Region                        Subregion  \\\n",
       "0        Aruba  Americas  Latin America and the Caribbean   \n",
       "1  Afghanistan      Asia                    Southern Asia   \n",
       "2  Afghanistan      Asia                    Southern Asia   \n",
       "5  Afghanistan      Asia                    Southern Asia   \n",
       "6  Afghanistan      Asia                    Southern Asia   \n",
       "\n",
       "                      Indicator                   Dimension  \\\n",
       "0  Detected trafficking victims  by country of repatriation   \n",
       "1  Detected trafficking victims  by country of repatriation   \n",
       "2  Detected trafficking victims  by country of repatriation   \n",
       "5  Detected trafficking victims     by form of exploitation   \n",
       "6  Detected trafficking victims     by form of exploitation   \n",
       "\n",
       "              Category  Sex    Age  Year Nr_of_victims  \n",
       "0              Ukraine  NaN  Total  2010            <5  \n",
       "1               Abroad  NaN  Total  2003            <5  \n",
       "2               Abroad  NaN  Total  2008            <5  \n",
       "5  Sexual exploitation  NaN  Total  2017            <5  \n",
       "6        Forced labour  NaN  Total  2018            <5  "
      ]
     },
     "execution_count": 20,
     "metadata": {},
     "output_type": "execute_result"
    }
   ],
   "source": [
    "df1.head()"
   ]
  },
  {
   "cell_type": "code",
   "execution_count": 21,
   "id": "63d227f8-2f21-4056-a40a-5a2243510d3b",
   "metadata": {},
   "outputs": [
    {
     "data": {
      "text/plain": [
       "(39485, 10)"
      ]
     },
     "execution_count": 21,
     "metadata": {},
     "output_type": "execute_result"
    }
   ],
   "source": [
    "df1.shape\n"
   ]
  },
  {
   "cell_type": "code",
   "execution_count": 25,
   "id": "611f1837-c9ff-48c6-8372-e65fa207aa99",
   "metadata": {},
   "outputs": [],
   "source": [
    "df1['Nr_of_victims']= df1['Nr_of_victims'].replace('<5',2.5)"
   ]
  },
  {
   "cell_type": "code",
   "execution_count": 26,
   "id": "0d4df12f-bc4a-4029-a874-81ba6cbaf989",
   "metadata": {},
   "outputs": [
    {
     "data": {
      "text/html": [
       "<div>\n",
       "<style scoped>\n",
       "    .dataframe tbody tr th:only-of-type {\n",
       "        vertical-align: middle;\n",
       "    }\n",
       "\n",
       "    .dataframe tbody tr th {\n",
       "        vertical-align: top;\n",
       "    }\n",
       "\n",
       "    .dataframe thead th {\n",
       "        text-align: right;\n",
       "    }\n",
       "</style>\n",
       "<table border=\"1\" class=\"dataframe\">\n",
       "  <thead>\n",
       "    <tr style=\"text-align: right;\">\n",
       "      <th></th>\n",
       "      <th>Country</th>\n",
       "      <th>Region</th>\n",
       "      <th>Subregion</th>\n",
       "      <th>Indicator</th>\n",
       "      <th>Dimension</th>\n",
       "      <th>Category</th>\n",
       "      <th>Sex</th>\n",
       "      <th>Age</th>\n",
       "      <th>Year</th>\n",
       "      <th>Nr_of_victims</th>\n",
       "    </tr>\n",
       "  </thead>\n",
       "  <tbody>\n",
       "    <tr>\n",
       "      <th>0</th>\n",
       "      <td>Aruba</td>\n",
       "      <td>Americas</td>\n",
       "      <td>Latin America and the Caribbean</td>\n",
       "      <td>Detected trafficking victims</td>\n",
       "      <td>by country of repatriation</td>\n",
       "      <td>Ukraine</td>\n",
       "      <td>NaN</td>\n",
       "      <td>Total</td>\n",
       "      <td>2010</td>\n",
       "      <td>2.5</td>\n",
       "    </tr>\n",
       "    <tr>\n",
       "      <th>1</th>\n",
       "      <td>Afghanistan</td>\n",
       "      <td>Asia</td>\n",
       "      <td>Southern Asia</td>\n",
       "      <td>Detected trafficking victims</td>\n",
       "      <td>by country of repatriation</td>\n",
       "      <td>Abroad</td>\n",
       "      <td>NaN</td>\n",
       "      <td>Total</td>\n",
       "      <td>2003</td>\n",
       "      <td>2.5</td>\n",
       "    </tr>\n",
       "    <tr>\n",
       "      <th>2</th>\n",
       "      <td>Afghanistan</td>\n",
       "      <td>Asia</td>\n",
       "      <td>Southern Asia</td>\n",
       "      <td>Detected trafficking victims</td>\n",
       "      <td>by country of repatriation</td>\n",
       "      <td>Abroad</td>\n",
       "      <td>NaN</td>\n",
       "      <td>Total</td>\n",
       "      <td>2008</td>\n",
       "      <td>2.5</td>\n",
       "    </tr>\n",
       "    <tr>\n",
       "      <th>5</th>\n",
       "      <td>Afghanistan</td>\n",
       "      <td>Asia</td>\n",
       "      <td>Southern Asia</td>\n",
       "      <td>Detected trafficking victims</td>\n",
       "      <td>by form of exploitation</td>\n",
       "      <td>Sexual exploitation</td>\n",
       "      <td>NaN</td>\n",
       "      <td>Total</td>\n",
       "      <td>2017</td>\n",
       "      <td>2.5</td>\n",
       "    </tr>\n",
       "    <tr>\n",
       "      <th>6</th>\n",
       "      <td>Afghanistan</td>\n",
       "      <td>Asia</td>\n",
       "      <td>Southern Asia</td>\n",
       "      <td>Detected trafficking victims</td>\n",
       "      <td>by form of exploitation</td>\n",
       "      <td>Forced labour</td>\n",
       "      <td>NaN</td>\n",
       "      <td>Total</td>\n",
       "      <td>2018</td>\n",
       "      <td>2.5</td>\n",
       "    </tr>\n",
       "  </tbody>\n",
       "</table>\n",
       "</div>"
      ],
      "text/plain": [
       "       Country    Region                        Subregion  \\\n",
       "0        Aruba  Americas  Latin America and the Caribbean   \n",
       "1  Afghanistan      Asia                    Southern Asia   \n",
       "2  Afghanistan      Asia                    Southern Asia   \n",
       "5  Afghanistan      Asia                    Southern Asia   \n",
       "6  Afghanistan      Asia                    Southern Asia   \n",
       "\n",
       "                      Indicator                   Dimension  \\\n",
       "0  Detected trafficking victims  by country of repatriation   \n",
       "1  Detected trafficking victims  by country of repatriation   \n",
       "2  Detected trafficking victims  by country of repatriation   \n",
       "5  Detected trafficking victims     by form of exploitation   \n",
       "6  Detected trafficking victims     by form of exploitation   \n",
       "\n",
       "              Category  Sex    Age  Year Nr_of_victims  \n",
       "0              Ukraine  NaN  Total  2010           2.5  \n",
       "1               Abroad  NaN  Total  2003           2.5  \n",
       "2               Abroad  NaN  Total  2008           2.5  \n",
       "5  Sexual exploitation  NaN  Total  2017           2.5  \n",
       "6        Forced labour  NaN  Total  2018           2.5  "
      ]
     },
     "execution_count": 26,
     "metadata": {},
     "output_type": "execute_result"
    }
   ],
   "source": [
    "df1.head()"
   ]
  },
  {
   "cell_type": "code",
   "execution_count": 27,
   "id": "89ba0f8c-f2a1-470b-9115-7d90f4605bc1",
   "metadata": {},
   "outputs": [
    {
     "data": {
      "text/plain": [
       "(39485, 10)"
      ]
     },
     "execution_count": 27,
     "metadata": {},
     "output_type": "execute_result"
    }
   ],
   "source": [
    "df1.shape"
   ]
  },
  {
   "cell_type": "code",
   "execution_count": 28,
   "id": "c8d86f21-393e-4e23-b040-c1934c14dbf3",
   "metadata": {},
   "outputs": [
    {
     "data": {
      "text/plain": [
       "array([2.5, '15', '7', ..., '957', '1,497', '1,698'], dtype=object)"
      ]
     },
     "execution_count": 28,
     "metadata": {},
     "output_type": "execute_result"
    }
   ],
   "source": [
    "df1['Nr_of_victims'].unique()"
   ]
  },
  {
   "cell_type": "code",
   "execution_count": 30,
   "id": "c97f13d0-1191-4fa9-bab3-826243168284",
   "metadata": {},
   "outputs": [],
   "source": [
    "df1['Nr_of_victims']= df1['Nr_of_victims'].replace(',','')"
   ]
  },
  {
   "cell_type": "code",
   "execution_count": 32,
   "id": "60168618-9ee0-4730-9ba4-7af143b1a9a9",
   "metadata": {},
   "outputs": [],
   "source": [
    "df1['Nr_of_victims']= df1['Nr_of_victims'].astype(str).str.replace(',', '')"
   ]
  },
  {
   "cell_type": "code",
   "execution_count": 33,
   "id": "a37f1936-5b9d-4b7d-9353-9c31a5575e87",
   "metadata": {},
   "outputs": [
    {
     "data": {
      "text/plain": [
       "array(['2.5', '15', '7', ..., '957', '1497', '1698'], dtype=object)"
      ]
     },
     "execution_count": 33,
     "metadata": {},
     "output_type": "execute_result"
    }
   ],
   "source": [
    "df1['Nr_of_victims'].unique()"
   ]
  },
  {
   "cell_type": "code",
   "execution_count": 35,
   "id": "50c3cea5-21f0-4699-8e9e-41d2d4faa6ba",
   "metadata": {},
   "outputs": [
    {
     "data": {
      "text/plain": [
       "Country          object\n",
       "Region           object\n",
       "Subregion        object\n",
       "Indicator        object\n",
       "Dimension        object\n",
       "Category         object\n",
       "Sex              object\n",
       "Age              object\n",
       "Year             object\n",
       "Nr_of_victims    object\n",
       "dtype: object"
      ]
     },
     "execution_count": 35,
     "metadata": {},
     "output_type": "execute_result"
    }
   ],
   "source": [
    "df1.dtypes"
   ]
  },
  {
   "cell_type": "code",
   "execution_count": 36,
   "id": "74c531bc-c908-4a1a-9eeb-6233838f209f",
   "metadata": {},
   "outputs": [
    {
     "name": "stdout",
     "output_type": "stream",
     "text": [
      "The new data type of the 'Nr_of_victims' column is: float64\n"
     ]
    }
   ],
   "source": [
    "df1['Nr_of_victims'] = df1['Nr_of_victims'].astype(float)\n",
    "print(f\"The new data type of the 'Nr_of_victims' column is: {df1['Nr_of_victims'].dtype}\")"
   ]
  },
  {
   "cell_type": "code",
   "execution_count": 37,
   "id": "1932ba52-65e6-4f96-b92a-b4c3e0164b0c",
   "metadata": {},
   "outputs": [
    {
     "data": {
      "text/plain": [
       "Country                  object\n",
       "Region                   object\n",
       "Subregion                object\n",
       "Indicator                object\n",
       "Dimension                object\n",
       "Category                 object\n",
       "Sex                      object\n",
       "Age                      object\n",
       "Year             datetime64[ns]\n",
       "Nr_of_victims           float64\n",
       "dtype: object"
      ]
     },
     "execution_count": 37,
     "metadata": {},
     "output_type": "execute_result"
    }
   ],
   "source": [
    "df1['Year'] = pd.to_datetime(df1['Year'], format='%Y')\n",
    "df1.dtypes"
   ]
  },
  {
   "cell_type": "code",
   "execution_count": 39,
   "id": "712def20-826c-4b60-b167-e7a0b45939d8",
   "metadata": {},
   "outputs": [
    {
     "data": {
      "text/plain": [
       "(39485, 10)"
      ]
     },
     "execution_count": 39,
     "metadata": {},
     "output_type": "execute_result"
    }
   ],
   "source": [
    "df1.shape\n"
   ]
  },
  {
   "cell_type": "code",
   "execution_count": 40,
   "id": "5b44786f-f5a4-4516-8902-de1963a87068",
   "metadata": {},
   "outputs": [],
   "source": [
    "df1['Dimension'] = df['Dimension'].replace('Total', np.nan)"
   ]
  },
  {
   "cell_type": "code",
   "execution_count": 41,
   "id": "939fbc73-31b2-4812-b0d0-4d7b5f9d6849",
   "metadata": {},
   "outputs": [],
   "source": [
    "df1['Category'] = df['Category'].replace('Total', np.nan)"
   ]
  },
  {
   "cell_type": "code",
   "execution_count": null,
   "id": "dd6b8cf1-944b-4662-a2d6-fe9a19b2d494",
   "metadata": {},
   "outputs": [],
   "source": []
  }
 ],
 "metadata": {
  "kernelspec": {
   "display_name": "venv",
   "language": "python",
   "name": "venv"
  },
  "language_info": {
   "codemirror_mode": {
    "name": "ipython",
    "version": 3
   },
   "file_extension": ".py",
   "mimetype": "text/x-python",
   "name": "python",
   "nbconvert_exporter": "python",
   "pygments_lexer": "ipython3",
   "version": "3.12.7"
  }
 },
 "nbformat": 4,
 "nbformat_minor": 5
}
