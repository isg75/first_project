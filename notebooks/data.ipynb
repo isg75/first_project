{
 "cells": [
  {
   "cell_type": "code",
   "execution_count": null,
   "id": "ce979ec4-b5fc-49cf-93b8-8cdbede92e16",
   "metadata": {},
   "outputs": [],
   "source": [
    "import pandas as pd"
   ]
  },
  {
   "cell_type": "code",
   "execution_count": null,
   "id": "833df164-bd73-4082-895c-5f4e1ee250ca",
   "metadata": {},
   "outputs": [],
   "source": [
    "housing = pd.read_excel(\"../data/raw/week_3_project_data.xlsx\", sheet_name=0)\n",
    "housing"
   ]
  },
  {
   "cell_type": "code",
   "execution_count": null,
   "id": "b27206ad-22e8-4854-a201-42c2c116e981",
   "metadata": {},
   "outputs": [],
   "source": [
    "rental = pd.read_excel(\"../data/raw/week_3_project_data.xlsx\", sheet_name=1)\n",
    "rental"
   ]
  },
  {
   "cell_type": "code",
   "execution_count": null,
   "id": "ceb930b7-d13c-436d-a3da-fdffdec26353",
   "metadata": {},
   "outputs": [],
   "source": [
    "income = pd.read_excel(\"../data/raw/week_3_project_data.xlsx\", sheet_name=2)\n",
    "income"
   ]
  }
 ],
 "metadata": {
  "kernelspec": {
   "display_name": "venv",
   "language": "python",
   "name": "venv"
  },
  "language_info": {
   "codemirror_mode": {
    "name": "ipython",
    "version": 3
   },
   "file_extension": ".py",
   "mimetype": "text/x-python",
   "name": "python",
   "nbconvert_exporter": "python",
   "pygments_lexer": "ipython3",
   "version": "3.12.4"
  }
 },
 "nbformat": 4,
 "nbformat_minor": 5
}
