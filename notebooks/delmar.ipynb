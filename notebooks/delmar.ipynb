{
 "cells": [
  {
   "cell_type": "code",
   "execution_count": null,
   "id": "f01196e4-27ca-4c26-b66d-1a65fd06aa4c",
   "metadata": {
    "scrolled": true
   },
   "outputs": [],
   "source": [
    "import pandas as pd\n",
    "\n",
    "# Use read_excel() instead of read_xlsx\n",
    "df = pd.read_excel(r'../data/raw/data_glotip.xlsx')\n",
    "display(df.head())\n"
   ]
  },
  {
   "cell_type": "code",
   "execution_count": null,
   "id": "88e9216f-beb5-472d-8913-882663ef6087",
   "metadata": {},
   "outputs": [],
   "source": [
    "new_columns = df.iloc[1].tolist()\n",
    "df.columns = new_columns\n",
    "df = df.drop(1).reset_index(drop=True)\n",
    "df = df.drop(0).reset_index(drop=True)\n",
    "display(df.head())"
   ]
  },
  {
   "cell_type": "code",
   "execution_count": null,
   "id": "f655d72b-8508-4b52-9a0c-5da7c799ba03",
   "metadata": {},
   "outputs": [],
   "source": [
    "df.drop(columns='Iso3_code',  inplace=True)\n",
    "df.drop(columns='Unit of measurement',  inplace=True)\n",
    "df.drop(columns='Source',  inplace=True)\n",
    "display(df.head())"
   ]
  },
  {
   "cell_type": "code",
   "execution_count": null,
   "id": "a8851285-90bf-4d25-a2df-d368eba5930a",
   "metadata": {},
   "outputs": [],
   "source": [
    "import numpy as np\n",
    "df['Sex'] = df['Sex'].replace('Total', np.nan)\n",
    "df['Sex'] = df['Sex'].str.capitalize()\n",
    "df['Sex'] = df['Sex'].replace('Other', np.nan)\n",
    "df['Sex'] = df['Sex'].replace('Unknown',np.nan)"
   ]
  },
  {
   "cell_type": "code",
   "execution_count": null,
   "id": "6ca558f0-523c-4e42-9ccf-87668dca794f",
   "metadata": {
    "scrolled": true
   },
   "outputs": [],
   "source": [
    "display(df.head())"
   ]
  },
  {
   "cell_type": "code",
   "execution_count": null,
   "id": "b7e3789d-1f69-412f-a475-f0a13c5d14f9",
   "metadata": {},
   "outputs": [],
   "source": [
    "import numpy as np\n",
    "df['Age'] = df['Age'].replace({\n",
    "    '0 to 17 years': 'Minor',\n",
    "    '18 years or over': 'Adult',\n",
    "    'Total': np.nan,\n",
    "    'Unknown': np.nan\n",
    "})"
   ]
  },
  {
   "cell_type": "code",
   "execution_count": null,
   "id": "9e7c6705-3a3e-473f-9b35-0a6eae575711",
   "metadata": {},
   "outputs": [],
   "source": [
    "print(df['Age'].unique())"
   ]
  },
  {
   "cell_type": "code",
   "execution_count": null,
   "id": "af47a6f5-ea55-4c2f-acf2-4851fb3d1705",
   "metadata": {
    "scrolled": true
   },
   "outputs": [],
   "source": [
    "df = df.rename(columns={'txtVALUE': 'Nr_of_victims'})\n",
    "display(df.head())"
   ]
  },
  {
   "cell_type": "code",
   "execution_count": null,
   "id": "f553d08a-97e8-4144-8f71-3fbb440e0c7f",
   "metadata": {
    "scrolled": true
   },
   "outputs": [],
   "source": [
    "df1 = df[df['Indicator'] == 'Detected trafficking victims'].copy()\n",
    "display(df1.head())"
   ]
  },
  {
   "cell_type": "code",
   "execution_count": null,
   "id": "088c8323-601d-4a94-bdf3-811f9b72ec4d",
   "metadata": {},
   "outputs": [],
   "source": [
    "df1['Nr_of_victims']= df1['Nr_of_victims'].replace('<5',2.5)\n",
    "display(df1.head())"
   ]
  },
  {
   "cell_type": "code",
   "execution_count": null,
   "id": "02d8d9de-193b-41da-9632-94d5ce999fdd",
   "metadata": {},
   "outputs": [],
   "source": [
    "count_2_5 = (df1['Nr_of_victims'] == 2.5).sum()\n",
    "\n",
    "# Print the result\n",
    "print(f\"Number of 2.5 entries in the column: {count_2_5}\")"
   ]
  },
  {
   "cell_type": "code",
   "execution_count": null,
   "id": "c1511960-7aa0-48b1-b99c-f7485c7de6d6",
   "metadata": {},
   "outputs": [],
   "source": [
    "df1['Nr_of_victims'].unique()"
   ]
  },
  {
   "cell_type": "code",
   "execution_count": null,
   "id": "e59e1bb3-1d81-42e0-9f45-309a5ba11f2c",
   "metadata": {},
   "outputs": [],
   "source": [
    "df1['Nr_of_victims']= df1['Nr_of_victims'].astype(str).str.replace(',', '')\n",
    "df1['Nr_of_victims'].unique()"
   ]
  },
  {
   "cell_type": "code",
   "execution_count": null,
   "id": "b7370633-b531-49d6-8c38-4095f2fab15c",
   "metadata": {},
   "outputs": [],
   "source": [
    "# Check the type of the 'Nr_of_victims' column\n",
    "column_type = df1['Nr_of_victims'].dtype\n",
    "\n",
    "# Print the type\n",
    "print(f\"The data type of the 'Nr_of_victims' column is: {column_type}\")\n"
   ]
  },
  {
   "cell_type": "code",
   "execution_count": null,
   "id": "ce3e1a19-81f6-419a-9d9c-39bc85ff1f5d",
   "metadata": {},
   "outputs": [],
   "source": [
    "df1['Nr_of_victims'] = df1['Nr_of_victims'].astype(float)\n",
    "\n",
    "print(f\"The new data type of the 'Nr_of_victims' column is: {df1['Nr_of_victims'].dtype}\")\n"
   ]
  },
  {
   "cell_type": "code",
   "execution_count": null,
   "id": "7320bfd2-99ea-46e6-a26d-ea876051b188",
   "metadata": {
    "scrolled": true
   },
   "outputs": [],
   "source": [
    "display(df1.head())"
   ]
  },
  {
   "cell_type": "code",
   "execution_count": null,
   "id": "12a42c02-528f-4125-b937-5bea73e80fb5",
   "metadata": {},
   "outputs": [],
   "source": [
    "df1['Year'] = pd.to_datetime(df1['Year'], errors='coerce', format='%Y')"
   ]
  },
  {
   "cell_type": "code",
   "execution_count": null,
   "id": "65437f90-f3b1-4d9e-917f-0815b7ca4bb7",
   "metadata": {},
   "outputs": [],
   "source": [
    "df1['Year'] = pd.to_datetime(df1['Year'], format='%Y')\n",
    "df1.dtypes"
   ]
  },
  {
   "cell_type": "code",
   "execution_count": null,
   "id": "2a1f296e-133b-4c5b-886f-d2c48aeef1e0",
   "metadata": {},
   "outputs": [],
   "source": [
    "display(df1.head())"
   ]
  },
  {
   "cell_type": "code",
   "execution_count": null,
   "id": "e9c0723d-880e-4a4e-800f-fac59a855ad0",
   "metadata": {},
   "outputs": [],
   "source": [
    "df1.shape"
   ]
  },
  {
   "cell_type": "code",
   "execution_count": null,
   "id": "a37bbe01-af79-43a7-9cbd-ecdf61bfa780",
   "metadata": {},
   "outputs": [],
   "source": [
    "df1['Dimension'] = df1['Dimension'].replace('Total', np.nan)"
   ]
  },
  {
   "cell_type": "code",
   "execution_count": null,
   "id": "aa47ecde-7c31-4ee7-b49b-44c259869462",
   "metadata": {},
   "outputs": [],
   "source": [
    "df1['Category'] = df1['Category'].replace('Total', np.nan)"
   ]
  },
  {
   "cell_type": "code",
   "execution_count": null,
   "id": "199ab75e-23c6-4baf-ab03-7cd7bb819219",
   "metadata": {},
   "outputs": [],
   "source": []
  }
 ],
 "metadata": {
  "kernelspec": {
   "display_name": "venv",
   "language": "python",
   "name": "venv"
  },
  "language_info": {
   "codemirror_mode": {
    "name": "ipython",
    "version": 3
   },
   "file_extension": ".py",
   "mimetype": "text/x-python",
   "name": "python",
   "nbconvert_exporter": "python",
   "pygments_lexer": "ipython3",
   "version": "3.12.7"
  }
 },
 "nbformat": 4,
 "nbformat_minor": 5
}
