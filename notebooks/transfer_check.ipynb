{
 "cells": [
  {
   "cell_type": "code",
   "execution_count": null,
   "id": "2df9f8dd-ab06-4220-b882-fb73e21df315",
   "metadata": {},
   "outputs": [],
   "source": [
    "import pandas as pd\n",
    "\n",
    "# Load the cleaned CSV file\n",
    "df_clean = pd.read_csv('../data/clean/cleaned_netflix_data.csv')\n",
    "\n",
    "# Check general info\n",
    "df_clean.info()\n",
    "\n",
    "# Preview the first few rows\n",
    "df_clean.head()"
   ]
  }
 ],
 "metadata": {
  "kernelspec": {
   "display_name": "Python 3 (ipykernel)",
   "language": "python",
   "name": "python3"
  },
  "language_info": {
   "codemirror_mode": {
    "name": "ipython",
    "version": 3
   },
   "file_extension": ".py",
   "mimetype": "text/x-python",
   "name": "python",
   "nbconvert_exporter": "python",
   "pygments_lexer": "ipython3",
   "version": "3.12.7"
  }
 },
 "nbformat": 4,
 "nbformat_minor": 5
}
