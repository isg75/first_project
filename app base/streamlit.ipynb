{
 "cells": [
  {
   "cell_type": "code",
   "execution_count": 7,
   "id": "008d3ae7-4b15-4789-95f9-ab2148d4dfb7",
   "metadata": {},
   "outputs": [],
   "source": [
    "import streamlit as st\n",
    "import pandas as pd\n",
    "import numpy as np\n",
    "from streamlit.web import cli as stcli\n",
    "from streamlit import runtime\n",
    "import sys\n",
    "\n",
    "# Function to calculate visit time differences (refactor from the previous code)\n",
    "def calculate_completion_time_by_visit(group_df):\n",
    "    group_df['next_step_time'] = group_df.groupby('client_id')['date_time'].shift(-1)\n",
    "    group_df = group_df.dropna(subset=['next_step_time'])\n",
    "    group_df['visit_time_diff'] = group_df['next_step_time'] - group_df['date_time']\n",
    "    return group_df[['client_id', 'age_group', 'process_step', 'date_time', 'next_step_time', 'visit_time_diff']]\n",
    "\n",
    "# Title of the app\n",
    "st.title('Client Visit Time Analysis')\n",
    "\n",
    "# Upload CSV File\n",
    "uploaded_file = st.file_uploader(\"Upload your CSV file\", type=[\"csv\"])\n",
    "\n",
    "if uploaded_file is not None:\n",
    "    # Read uploaded CSV file into a DataFrame\n",
    "    df_merged = pd.read_csv(uploaded_file)\n",
    "\n",
    "    # Display the first few rows of the uploaded dataset\n",
    "    st.subheader('Preview of the uploaded data:')\n",
    "    st.write(df_merged.head())\n",
    "\n",
    "    # Convert date_time column to datetime if it's not already\n",
    "    df_merged['date_time'] = pd.to_datetime(df_merged['date_time'], errors='coerce')\n",
    "\n",
    "    # Define age bins and labels\n",
    "    bins = [0, 30, 40, 50, 100]\n",
    "    labels = ['Under 30', '30-39', '40-49', '50 and above']\n",
    "\n",
    "    # Categorize ages into the defined bins and add a new 'age_group' column\n",
    "    df_merged['age_group'] = pd.cut(df_merged['clnt_age'], bins=bins, labels=labels)\n",
    "\n",
    "    # Filter for the test group only\n",
    "    test_group = df_merged[df_merged['variation'] == 'Test']\n",
    "\n",
    "    # Sort by client_id and date_time to ensure chronological order of visits\n",
    "    test_group = test_group.sort_values(by=['client_id', 'date_time'])\n",
    "\n",
    "    # Apply the function to calculate visit time differences for the test group\n",
    "    test_group_visit_times = calculate_completion_time_by_visit(test_group)\n",
    "\n",
    "    # Display the result in the app\n",
    "    st.subheader('Visit Time Differences for Test Group:')\n",
    "    st.write(test_group_visit_times)\n",
    "\n",
    "    # Optionally save the result to a CSV file\n",
    "    st.download_button(\n",
    "        label=\"Download visit times data\",\n",
    "        data=test_group_visit_times.to_csv(index=False),\n",
    "        file_name=\"test_group_visit_times.csv\",\n",
    "        mime=\"text/csv\"\n",
    "    )\n",
    "\n",
    "else:\n",
    "    st.info('Please upload a CSV file to start the analysis.')"
   ]
  },
  {
   "cell_type": "code",
   "execution_count": 12,
   "id": "624f2d84-513f-4ee0-adb0-02a7c8d97999",
   "metadata": {},
   "outputs": [
    {
     "ename": "SyntaxError",
     "evalue": "invalid syntax (3303438180.py, line 1)",
     "output_type": "error",
     "traceback": [
      "\u001b[1;36m  Cell \u001b[1;32mIn[12], line 1\u001b[1;36m\u001b[0m\n\u001b[1;33m    streamlit run untitled.py\u001b[0m\n\u001b[1;37m              ^\u001b[0m\n\u001b[1;31mSyntaxError\u001b[0m\u001b[1;31m:\u001b[0m invalid syntax\n"
     ]
    }
   ],
   "source": []
  },
  {
   "cell_type": "code",
   "execution_count": null,
   "id": "32337038-8658-4caf-bcdb-7c7fa5598de2",
   "metadata": {},
   "outputs": [],
   "source": []
  }
 ],
 "metadata": {
  "kernelspec": {
   "display_name": "Python 3 (ipykernel)",
   "language": "python",
   "name": "python3"
  },
  "language_info": {
   "codemirror_mode": {
    "name": "ipython",
    "version": 3
   },
   "file_extension": ".py",
   "mimetype": "text/x-python",
   "name": "python",
   "nbconvert_exporter": "python",
   "pygments_lexer": "ipython3",
   "version": "3.12.4"
  }
 },
 "nbformat": 4,
 "nbformat_minor": 5
}
