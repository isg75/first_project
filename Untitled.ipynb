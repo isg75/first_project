{
 "cells": [
  {
   "cell_type": "code",
   "execution_count": 11,
   "id": "33430237-3541-4f96-8459-0ae103b22716",
   "metadata": {},
   "outputs": [
    {
     "name": "stdout",
     "output_type": "stream",
     "text": [
      "'openpyxl' no está instalado. Instalando...\n"
     ]
    },
    {
     "ename": "CalledProcessError",
     "evalue": "Command '['C:\\\\Users\\\\Usuario\\\\Desktop\\\\IRONHACK\\\\Bootcamp\\\\week4\\\\first_project\\\\.venv\\\\Scripts\\\\python.exe', '-m', 'pip', 'install', 'openpyxl']' returned non-zero exit status 1.",
     "output_type": "error",
     "traceback": [
      "\u001b[31m---------------------------------------------------------------------------\u001b[39m",
      "\u001b[31mCalledProcessError\u001b[39m                        Traceback (most recent call last)",
      "\u001b[36mCell\u001b[39m\u001b[36m \u001b[39m\u001b[32mIn[11]\u001b[39m\u001b[32m, line 10\u001b[39m\n\u001b[32m      8\u001b[39m \u001b[38;5;28;01mif\u001b[39;00m importlib.util.find_spec(package_name) \u001b[38;5;129;01mis\u001b[39;00m \u001b[38;5;28;01mNone\u001b[39;00m:\n\u001b[32m      9\u001b[39m     \u001b[38;5;28mprint\u001b[39m(\u001b[33mf\u001b[39m\u001b[33m\"\u001b[39m\u001b[33m'\u001b[39m\u001b[38;5;132;01m{\u001b[39;00mpackage_name\u001b[38;5;132;01m}\u001b[39;00m\u001b[33m'\u001b[39m\u001b[33m no está instalado. Instalando...\u001b[39m\u001b[33m\"\u001b[39m)\n\u001b[32m---> \u001b[39m\u001b[32m10\u001b[39m     \u001b[43msubprocess\u001b[49m\u001b[43m.\u001b[49m\u001b[43mcheck_call\u001b[49m\u001b[43m(\u001b[49m\u001b[43m[\u001b[49m\u001b[43msys\u001b[49m\u001b[43m.\u001b[49m\u001b[43mexecutable\u001b[49m\u001b[43m,\u001b[49m\u001b[43m \u001b[49m\u001b[33;43m\"\u001b[39;49m\u001b[33;43m-m\u001b[39;49m\u001b[33;43m\"\u001b[39;49m\u001b[43m,\u001b[49m\u001b[43m \u001b[49m\u001b[33;43m\"\u001b[39;49m\u001b[33;43mpip\u001b[39;49m\u001b[33;43m\"\u001b[39;49m\u001b[43m,\u001b[49m\u001b[43m \u001b[49m\u001b[33;43m\"\u001b[39;49m\u001b[33;43minstall\u001b[39;49m\u001b[33;43m\"\u001b[39;49m\u001b[43m,\u001b[49m\u001b[43m \u001b[49m\u001b[43mpackage_name\u001b[49m\u001b[43m]\u001b[49m\u001b[43m)\u001b[49m\n\u001b[32m     11\u001b[39m \u001b[38;5;28;01melse\u001b[39;00m:\n\u001b[32m     12\u001b[39m     \u001b[38;5;28mprint\u001b[39m(\u001b[33mf\u001b[39m\u001b[33m\"\u001b[39m\u001b[33m'\u001b[39m\u001b[38;5;132;01m{\u001b[39;00mpackage_name\u001b[38;5;132;01m}\u001b[39;00m\u001b[33m'\u001b[39m\u001b[33m ya está instalado.\u001b[39m\u001b[33m\"\u001b[39m)\n",
      "\u001b[36mFile \u001b[39m\u001b[32m~\\anaconda3\\Lib\\subprocess.py:413\u001b[39m, in \u001b[36mcheck_call\u001b[39m\u001b[34m(*popenargs, **kwargs)\u001b[39m\n\u001b[32m    411\u001b[39m     \u001b[38;5;28;01mif\u001b[39;00m cmd \u001b[38;5;129;01mis\u001b[39;00m \u001b[38;5;28;01mNone\u001b[39;00m:\n\u001b[32m    412\u001b[39m         cmd = popenargs[\u001b[32m0\u001b[39m]\n\u001b[32m--> \u001b[39m\u001b[32m413\u001b[39m     \u001b[38;5;28;01mraise\u001b[39;00m CalledProcessError(retcode, cmd)\n\u001b[32m    414\u001b[39m \u001b[38;5;28;01mreturn\u001b[39;00m \u001b[32m0\u001b[39m\n",
      "\u001b[31mCalledProcessError\u001b[39m: Command '['C:\\\\Users\\\\Usuario\\\\Desktop\\\\IRONHACK\\\\Bootcamp\\\\week4\\\\first_project\\\\.venv\\\\Scripts\\\\python.exe', '-m', 'pip', 'install', 'openpyxl']' returned non-zero exit status 1."
     ]
    }
   ],
   "source": [
    "# Paso 1: Verificar e instalar openpyxl si no está instalado\n",
    "import importlib.util\n",
    "import subprocess\n",
    "import sys\n",
    "\n",
    "# Verifica si openpyxl está instalado\n",
    "package_name = 'openpyxl'\n",
    "if importlib.util.find_spec(package_name) is None:\n",
    "    print(f\"'{package_name}' no está instalado. Instalando...\")\n",
    "    subprocess.check_call([sys.executable, \"-m\", \"pip\", \"install\", package_name])\n",
    "else:\n",
    "    print(f\"'{package_name}' ya está instalado.\")\n",
    "\n",
    "# Paso 2: Importar pandas y cargar el archivo\n",
    "import pandas as pd\n",
    "\n",
    "# Ruta del archivo\n",
    "ruta = 'C:/Users/Usuario/Desktop/IRONHACK/Bootcamp/week4/first_project/data/raw/data_glotip.xlsx'\n",
    "\n",
    "# Cargar el archivo Excel\n",
    "df = pd.read_excel(ruta)\n",
    "\n",
    "# Ver los primeros registros\n",
    "df.head()"
   ]
  },
  {
   "cell_type": "code",
   "execution_count": null,
   "id": "0bdb1351-56fb-4abb-8a96-30a1b14b2222",
   "metadata": {},
   "outputs": [],
   "source": []
  }
 ],
 "metadata": {
  "kernelspec": {
   "display_name": "venv",
   "language": "python",
   "name": "venv"
  },
  "language_info": {
   "codemirror_mode": {
    "name": "ipython",
    "version": 3
   },
   "file_extension": ".py",
   "mimetype": "text/x-python",
   "name": "python",
   "nbconvert_exporter": "python",
   "pygments_lexer": "ipython3",
   "version": "3.12.7"
  }
 },
 "nbformat": 4,
 "nbformat_minor": 5
}
