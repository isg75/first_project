import pandas as pd

pd.read_csv('Users/Dejmen/Desktop/Ironhack/week5/Day1/vanguard-ab-test/data/raw/df_final_demo.txt', sep="\t")


df = pd.read_csv("../data/raw/df_final_demo.txt") 


df.head(20)



