import pandas as pd




# Replace with your actual file path
file_path = '../data/raw/Employment_Projections.csv'

# Read the Excel file
df = pd.read_csv(file_path)

# Display the first few rows
df.head()




# Replace with your actual file path
file_path = '../data/raw/National_Employment_Matrix_IND_541200.csv'

# Read the Excel file
df = pd.read_csv(file_path)

# Display the first few rows
df.head()



# Replace with your actual file path
file_path = '../data/raw/National_Employment_Matrix_IND_230000.csv'

# Read the Excel file
df = pd.read_csv(file_path)

# Display the first few rows
df.head()











# Replace with your actual file path
file_path = '../data/raw/National_Employment_Matrix_IND_31-330.csv'

# Read the Excel file
df = pd.read_csv(file_path)

# Display the first few rows
df.tail()




#df.to_csv("../data/clean/filename.csv", ...)
# Replace with your actual file path
file_path = '../data/raw/OECD.STI.DEP,DSD_ICT_B@DF_BUSINESSES,1.0+all.csv'

# Read the Excel file
df = pd.read_csv(file_path)

# Display the first few rows
df.tail()





text = "book or other written or printed work, regarded in terms of its content rather than its physical form."
text_list = [elem.replace(".","").replace("!","") for elem in text.split()]
word_count = {word: 0 for word in text_list}
for word in text_list:
    if word in word_count.keys():
        word_count[word] += 1
    else:
        word_count[word] = 1
word_count



