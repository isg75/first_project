import pandas as pd





#clean column name-1 change to lower letter and replace white space with _
df.columns = df.columns.str.lower().str.replace(' ', '_')



#rename columns
df.rename(columns={'A old column': 'B new columns'}, inplace=True)






# cleaning





#yourcodeherehehe












