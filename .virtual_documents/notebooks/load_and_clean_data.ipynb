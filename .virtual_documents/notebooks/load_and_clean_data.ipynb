import os


folder_path = '../data/raw'


csv_files = [f for f in os.listdir(folder_path) if f.lower().endswith('.csv')]

print("CSV files found:")
for f in csv_files:
    print(f)



import pandas as pd
 



matrix_files = [
    "National_Employment_Matrix_IND_31-330.csv",
    "National_Employment_Matrix_IND_230000.csv",
    "National_Employment_Matrix_IND_541200.csv",
    "National_Employment_Matrix_IND_541300.csv",
    "National_Employment_Matrix_IND_610000.csv",
    "National_Employment_Matrix_IND_710000.csv",
    "National_Employment_Matrix_IND_721000.csv",
    "National_Employment_Matrix_OCC_39-3011.csv"
]

# Load and combine all matrix datasets
matrix_dfs = []
for file in matrix_files:
    path = os.path.join(folder_path, file)
    df = pd.read_csv(path, on_bad_lines='skip')  # Skip broken lines
    df['source_file'] = file  # Track origin
    matrix_dfs.append(df)

# Merge into one dataframe
employment_matrix = pd.concat(matrix_dfs, ignore_index=True)
print(" Employment matrix shape:", employment_matrix.shape)
employment_matrix.tail()



import pandas as pd
import os

# Set folder and file
projection_file = "Employment_Projections.csv"

# Load the file
employment_proj = pd.read_csv(os.path.join(folder_path, projection_file), on_bad_lines='skip')

print(f" Employment Projections loaded. Shape: {employment_proj.shape}")
employment_proj.tail()



display(employment_proj.info())
display(employment_matrix.info())
display(reddit_comments.info())








reddit_comments = pd.read_csv(r'..\data\clean\reddit_comments_combined.csv')
reddit_comments.head()





print(df.isnull().sum())


print(f"Columns: {list(df.columns)}\n")
    


# Re-import necessary packages due to code environment reset
import pandas as pd
import csv

# Reload the re-uploaded file after reset
file_path =r'../data/raw/all_data_M_2024.csv'

# Attempt to load while skipping problematic lines
try:
    all_data_df = pd.read_csv(
        file_path,
        quoting=csv.QUOTE_MINIMAL,
        encoding='utf-8',
        on_bad_lines='skip'  # skips problematic lines
    )
    cleaned_preview = all_data_df.head()
except Exception as e:
    cleaned_preview = f"Error during loading: {e}"

cleaned_preview
# Reload the file using semicolon delimiter
all_data_df = pd.read_csv(file_path, delimiter=';', encoding='utf-8', on_bad_lines='skip')

# Show the cleaned preview
all_data_df.head()







