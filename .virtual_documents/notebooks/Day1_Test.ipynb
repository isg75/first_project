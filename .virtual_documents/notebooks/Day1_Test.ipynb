# Import csv
import pandas as pd
df_1 = pd.read_csv("../data/raw/Extended_Employee_Performance_and_Productivity_Data.csv")
display(df_1)

df_2 = pd.read_csv("../data/raw/Impact_of_Remote_Work_on_Mental_Health.csv")
display(df_2)


df_2["Company_Support_for_Remote_Work"].value_counts()


test = df_2.groupby("Satisfaction_with_Remote_Work")[["Social_Isolation_Rating"]].value_counts()
display(test)


test2 = df_2.groupby("Stress_Level")[["Work_Life_Balance_Rating"]].value_counts()
test2


test3 = df_2.groupby("Work_Life_Balance_Rating")[["Social_Isolation_Rating"]].value_counts()
test3 


test4 = df_2.groupby("Satisfaction_with_Remote_Work")[["Company_Support_for_Remote_Work"]].value_counts()
test4 



