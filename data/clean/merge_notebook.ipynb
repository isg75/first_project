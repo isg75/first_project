{
 "cells": [
  {
   "cell_type": "markdown",
   "id": "049b2544-b0a1-468b-8a14-237f83f5c1ae",
   "metadata": {},
   "source": [
    "## Merging DataFrames"
   ]
  },
  {
   "cell_type": "code",
   "execution_count": null,
   "id": "7d3fa62d-3eb3-4615-8c8a-f8cbf2179460",
   "metadata": {},
   "outputs": [],
   "source": [
    "import pandas as pd\n",
    "import numpy as np\n",
    "import matplotlib.pyplot as plt\n",
    "import seaborn as sns\n",
    "\n",
    "employment_df = pd.read_csv('./employment_df.csv')\n",
    "hdi_df = pd.read_csv('./hdi_clean.csv')\n",
    "rd_extended_df = pd.read_csv('./RD_extended_df.csv')\n",
    "patents_df = pd.read_csv('./patents_data_clean.csv')"
   ]
  },
  {
   "cell_type": "markdown",
   "id": "eb2c328c-05ef-4838-96c9-b1178f0eb21e",
   "metadata": {},
   "source": [
    "### Employment DataFrame"
   ]
  },
  {
   "cell_type": "code",
   "execution_count": null,
   "id": "d955293f-ae44-4ecb-920b-57d917e61ad5",
   "metadata": {},
   "outputs": [],
   "source": [
    "print('\\nemployment_df:\\n')\n",
    "display(employment_df)\n",
    "print(employment_df.dtypes)"
   ]
  },
  {
   "cell_type": "markdown",
   "id": "e056f2b6-0531-4149-9cb4-9eedebcddc48",
   "metadata": {},
   "source": [
    "### HDI (Human Development Index) DataFrame"
   ]
  },
  {
   "cell_type": "code",
   "execution_count": null,
   "id": "010d8a13-4b40-4bae-8723-e691fb2af7fd",
   "metadata": {},
   "outputs": [],
   "source": [
    "print('\\n hdi_df: \\n')\n",
    "hdi_df.rename(columns={'iso3':'country_iso', 'country':'area'}, inplace=True)\n",
    "display(hdi_df)\n",
    "print(hdi_df.dtypes)"
   ]
  },
  {
   "cell_type": "markdown",
   "id": "7b5e0923-aa2b-41a2-aabf-4bf5a9d64e8c",
   "metadata": {},
   "source": [
    "### Patents DataFrame"
   ]
  },
  {
   "cell_type": "code",
   "execution_count": null,
   "id": "d5a35389-0ab3-4cc0-ace2-ace69549310c",
   "metadata": {},
   "outputs": [],
   "source": [
    "print('\\nrd_extended_df:\\n')\n",
    "rd_extended_df.rename(columns={'location':'country_iso'}, inplace=True)\n",
    "display(rd_extended_df)\n",
    "print(rd_extended_df.dtypes)"
   ]
  },
  {
   "cell_type": "markdown",
   "id": "e7c1c70e-ab0e-4349-aad4-1eebea451bbe",
   "metadata": {},
   "source": [
    "### Extended R&D DataFrame:"
   ]
  },
  {
   "cell_type": "code",
   "execution_count": null,
   "id": "aa23bd08-33a3-40cc-9fa1-a6b3869be9f2",
   "metadata": {},
   "outputs": [],
   "source": [
    "print('\\npatents_df:\\n')\n",
    "patents_df.rename(columns={'region': 'country_code', 'country':'area'}, inplace=True)\n",
    "display(patents_df)\n",
    "print(patents_df.dtypes)"
   ]
  },
  {
   "cell_type": "code",
   "execution_count": null,
   "id": "0c9fd658-a0e1-4ab1-94b8-bd3168c2c002",
   "metadata": {},
   "outputs": [],
   "source": []
  }
 ],
 "metadata": {
  "kernelspec": {
   "display_name": "venv",
   "language": "python",
   "name": "venv"
  },
  "language_info": {
   "codemirror_mode": {
    "name": "ipython",
    "version": 3
   },
   "file_extension": ".py",
   "mimetype": "text/x-python",
   "name": "python",
   "nbconvert_exporter": "python",
   "pygments_lexer": "ipython3",
   "version": "3.12.2"
  }
 },
 "nbformat": 4,
 "nbformat_minor": 5
}
