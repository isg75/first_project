{
 "cells": [
  {
   "cell_type": "code",
   "execution_count": null,
   "id": "4b1ab74e-7812-46de-904f-fad6f58ce8ae",
   "metadata": {},
   "outputs": [],
   "source": [
    "import pandas as pd\n",
    "import numpy as np\n",
    "import re\n",
    "olympic_data=pd.read_csv('athlete_events.csv')\n",
    "olympic_data.shape"
   ]
  },
  {
   "cell_type": "code",
   "execution_count": null,
   "id": "cb405adc-e2d9-4f41-ac89-e72ed157011f",
   "metadata": {},
   "outputs": [],
   "source": [
    "print(olympic_data[['City', 'Sport']].isnull().sum())"
   ]
  },
  {
   "cell_type": "code",
   "execution_count": null,
   "id": "bbc19472-cedb-47c5-81c1-1124f402c358",
   "metadata": {},
   "outputs": [],
   "source": [
    "print(olympic_data[['City', 'Sport']].dtypes)"
   ]
  },
  {
   "cell_type": "code",
   "execution_count": null,
   "id": "db1e74f8-ea81-4c71-8dee-1fe6c1838cf1",
   "metadata": {},
   "outputs": [],
   "source": [
    "city_counts = olympic_data['City'].value_counts()\n",
    "city_counts"
   ]
  },
  {
   "cell_type": "code",
   "execution_count": null,
   "id": "46133d15-89c7-432c-b22a-8f41054e948b",
   "metadata": {},
   "outputs": [],
   "source": [
    "# Create a mapping dictionary for corrections\n",
    "corrections = {\n",
    "    \"Athina\": \"Athens\",\n",
    "    \"Roma\": \"Rome\",\n",
    "    \"Moskva\": \"Moscow\",\n",
    "    \"Sankt Moritz\": \"St. Moritz\"\n",
    "}\n",
    "\n",
    "# Replace incorrect names with correct ones\n",
    "olympic_data['City'] = olympic_data['City'].replace(corrections)\n",
    "print(olympic_data['City'].value_counts())"
   ]
  },
  {
   "cell_type": "code",
   "execution_count": null,
   "id": "10a599eb-886a-481c-b447-dcd8e7ac49f2",
   "metadata": {},
   "outputs": [],
   "source": [
    "pd.set_option('display.max_rows', None)\n",
    "\n",
    "# Some sports may have very few instances (e.g., \"Basque Pelota\" or \"Aeronautics\"), which could be edge cases.\n",
    "print(sport_counts)"
   ]
  },
  {
   "cell_type": "code",
   "execution_count": null,
   "id": "7670b28e-04eb-4d40-93eb-a4d1697a2099",
   "metadata": {},
   "outputs": [],
   "source": []
  }
 ],
 "metadata": {
  "kernelspec": {
   "display_name": "project1_venv",
   "language": "python",
   "name": "project1_venv"
  },
  "language_info": {
   "codemirror_mode": {
    "name": "ipython",
    "version": 3
   },
   "file_extension": ".py",
   "mimetype": "text/x-python",
   "name": "python",
   "nbconvert_exporter": "python",
   "pygments_lexer": "ipython3",
   "version": "3.12.7"
  }
 },
 "nbformat": 4,
 "nbformat_minor": 5
}
