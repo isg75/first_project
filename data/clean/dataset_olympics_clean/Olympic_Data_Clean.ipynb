{
 "cells": [
  {
   "cell_type": "code",
   "execution_count": 1,
   "id": "4b1ab74e-7812-46de-904f-fad6f58ce8ae",
   "metadata": {},
   "outputs": [],
   "source": [
    "import pandas as pd\n",
    "import numpy as np\n",
    "import re\n",
    "olympic_data=pd.read_csv('athlete_events.csv')"
   ]
  },
  {
   "cell_type": "code",
   "execution_count": 2,
   "id": "cb405adc-e2d9-4f41-ac89-e72ed157011f",
   "metadata": {},
   "outputs": [],
   "source": [
    "#Number of countries and athletes participating is inconsistent before 1996 - use only data post 1996\n",
    "condition_year_1996=olympic_data[\"Year\"]>=1996\n",
    "olympic_data=olympic_data[condition_year_1996]\n",
    "condition_summer=olympic_data[\"Season\"]==\"Summer\"\n",
    "olympic_data=olympic_data[condition_summer]"
   ]
  },
  {
   "cell_type": "code",
   "execution_count": 3,
   "id": "c4ac321a-8e79-422e-8973-dcc3dd24cc53",
   "metadata": {},
   "outputs": [],
   "source": [
    "# Create a mapping dictionary for corrections\n",
    "# Replace incorrect names with correct ones\n",
    "\n",
    "corrections = {\n",
    "    \"Athina\": \"Athens\",\n",
    "    \"Roma\": \"Rome\",\n",
    "    \"Moskva\": \"Moscow\",\n",
    "    \"Sankt Moritz\": \"St. Moritz\"\n",
    "}\n",
    "\n",
    "\n",
    "olympic_data['City'] = olympic_data['City'].replace(corrections)"
   ]
  },
  {
   "cell_type": "code",
   "execution_count": 7,
   "id": "9a25091a-32df-4a21-aefb-41809c47c3d9",
   "metadata": {},
   "outputs": [],
   "source": [
    "#Investigating quality of ID column\n",
    "#Duplicates exist but this is intentional, as one athlete can participate in more than one event/olympics.\n",
    "#ID numbering is consistent throughout years - e.g. same ID for athlete in different olympic games.\n",
    "#ID is based on alphabetical order of last name\n",
    "#no missing values in the ID column\n",
    "#Team column comments: Team names are inconsistent - mixed with countries and sports team names. We will use NOC column instead for our analysis"
   ]
  },
  {
   "cell_type": "code",
   "execution_count": 9,
   "id": "3227d41c-5686-4895-b4b8-f39693cd83e0",
   "metadata": {},
   "outputs": [],
   "source": [
    "#Replace Na values as \"No Medal\" string as null values correspond to no winning athletes.\n",
    "olympic_data[\"Medal\"] = olympic_data[\"Medal\"].apply(lambda x:\"No Medal\" if pd.isna(x) else x)"
   ]
  },
  {
   "cell_type": "code",
   "execution_count": 11,
   "id": "4f73c5f7-f382-498e-a792-b28193ceec08",
   "metadata": {},
   "outputs": [
    {
     "data": {
      "text/plain": [
       "Medal\n",
       "No Medal    69395\n",
       "Bronze       4078\n",
       "Gold         3903\n",
       "Silver       3878\n",
       "Name: count, dtype: int64"
      ]
     },
     "execution_count": 11,
     "metadata": {},
     "output_type": "execute_result"
    }
   ],
   "source": [
    "#The difference between the medal count can be due to differences on the number of team sport members and ties.\n",
    "olympic_data[\"Medal\"].value_counts()"
   ]
  },
  {
   "cell_type": "code",
   "execution_count": 13,
   "id": "47a6304e-eba7-470e-8b6e-7fa8c780f1ca",
   "metadata": {},
   "outputs": [
    {
     "name": "stdout",
     "output_type": "stream",
     "text": [
      "0\n"
     ]
    }
   ],
   "source": [
    "olympic_data.drop_duplicates(inplace = True)\n",
    "print(olympic_data.duplicated().sum())"
   ]
  },
  {
   "cell_type": "code",
   "execution_count": 15,
   "id": "dbc5224b-bfb4-41ec-9874-27895a6aa2d4",
   "metadata": {},
   "outputs": [
    {
     "name": "stderr",
     "output_type": "stream",
     "text": [
      "C:\\Users\\Usuario\\AppData\\Local\\Temp\\ipykernel_27252\\2009509916.py:5: SettingWithCopyWarning: \n",
      "A value is trying to be set on a copy of a slice from a DataFrame\n",
      "\n",
      "See the caveats in the documentation: https://pandas.pydata.org/pandas-docs/stable/user_guide/indexing.html#returning-a-view-versus-a-copy\n",
      "  olympic_data_podium.drop_duplicates(subset=[\"Concat\"], inplace= True)\n"
     ]
    },
    {
     "data": {
      "text/plain": [
       "np.int64(0)"
      ]
     },
     "execution_count": 15,
     "metadata": {},
     "output_type": "execute_result"
    }
   ],
   "source": [
    "#Deduplicating the number of medals from team sports\n",
    "#Creat a dataframe just with the result of each olympic by event (Gold, Silver and Bronze)\n",
    "olympic_data[\"Concat\"]=olympic_data[\"Games\"] + olympic_data[\"Event\"] +olympic_data[\"Medal\"]+olympic_data[\"NOC\"]\n",
    "olympic_data_podium=olympic_data[olympic_data[\"Medal\"]!= \"No Medal\"]\n",
    "olympic_data_podium.drop_duplicates(subset=[\"Concat\"], inplace= True)\n",
    "olympic_data_podium.Concat.duplicated().sum()"
   ]
  },
  {
   "cell_type": "code",
   "execution_count": 23,
   "id": "0526d611-40c2-4610-8c52-df95c9ea03ed",
   "metadata": {},
   "outputs": [],
   "source": [
    "#Creat a new file droping teams duplicated\n",
    "#Create a new dataframe\n",
    "olympic_data_not_duplicated=olympic_data\n",
    "olympic_data_not_duplicated[\"Concat\"]=olympic_data_not_duplicated[\"Games\"] + olympic_data_not_duplicated[\"Event\"] +olympic_data_not_duplicated[\"Medal\"]+olympic_data_not_duplicated[\"NOC\"]\n",
    "olympic_data_not_duplicated.drop_duplicates(subset=[\"Concat\"], inplace= True)\n",
    "olympic_data_not_duplicated.Concat.duplicated().sum()\n",
    "\n",
    "#NOC column - we want to merge the NOC column in our Olympics dataset with the region column from the NOC regions dataset\n",
    "noc_regions = pd.read_csv('noc_regions.csv')\n",
    "\n",
    "#Merge with NOC\n",
    "olympic_data_not_duplicated= pd.merge(\n",
    "    olympic_data_not_duplicated, \n",
    "    noc_regions[['NOC', 'region']], \n",
    "    on='NOC', \n",
    "    how='left')"
   ]
  },
  {
   "cell_type": "code",
   "execution_count": 27,
   "id": "f4c682aa-108f-451f-9093-fcd946616742",
   "metadata": {},
   "outputs": [],
   "source": [
    "# Save the updated DataFrame to a new CSV file\n",
    "olympic_data_not_duplicated.to_csv('teams_not_duplicated_summer_olympics_1996-2016_deduplicate_team_medals.csv', index=False)"
   ]
  },
  {
   "cell_type": "code",
   "execution_count": null,
   "id": "37c7a434-3d4f-48b7-b49a-6a9b3b027589",
   "metadata": {},
   "outputs": [],
   "source": [
    "#NOC column - we want to merge the NOC column in our Olympics dataset with the region column from the NOC regions dataset\n",
    "noc_regions = pd.read_csv('noc_regions.csv')\n",
    "\n",
    "#Merge the datasets on the 'NOC' column\n",
    "olympics_updated = pd.merge(\n",
    "    olympic_data_podium, \n",
    "    noc_regions[['NOC', 'region']], \n",
    "    on='NOC', \n",
    "    how='left'\n",
    ")"
   ]
  },
  {
   "cell_type": "code",
   "execution_count": null,
   "id": "928644aa-a9ef-4c1a-b766-8a9a6335ebb4",
   "metadata": {},
   "outputs": [],
   "source": [
    "# Save the updated DataFrame to a new CSV file\n",
    "olympics_updated.to_csv('summer_olympics_1996-2016_deduplicate_team_medals.csv', index=False)"
   ]
  },
  {
   "cell_type": "code",
   "execution_count": null,
   "id": "28ca1f4c-9085-4593-b15c-7dd2e96d217f",
   "metadata": {},
   "outputs": [],
   "source": [
    "#import pandas as pd\n",
    "#import numpy as np\n",
    "#import re\n",
    "#olympic_data=pd.read_csv('MAIN_summer_olympics_1996-2016_deduplicate_team_medals.csv')\n",
    "#olympic_data.region.fillna(\"Singapore\",inplace=True)\n",
    "#olympic_data.region.isnull().sum()\n",
    "#olympic_data_hour=olympic_data[olympic_data.region !=\"Kosovo\"]\n",
    "#olympic_data_hour"
   ]
  },
  {
   "cell_type": "code",
   "execution_count": null,
   "id": "dfec7321-4d93-410a-b46b-77cb0ea6e261",
   "metadata": {},
   "outputs": [],
   "source": [
    "#time_zones_athlete=pd.read_csv(\"time_zones2.csv\", encoding=\"latin-1\", sep=\";\")\n",
    "#time_zones_athlete"
   ]
  },
  {
   "cell_type": "code",
   "execution_count": null,
   "id": "5c9e4906-d6db-47c4-b3c1-a7e74644c7df",
   "metadata": {},
   "outputs": [],
   "source": [
    "#time_zones_athlete[[\"Hours\",\"Minutes\"]]=time_zones_athlete[\"GMT offset\"].str.split(\":\", expand=True)\n",
    "#time_zones_athlete\n",
    "#time_zones_athlete.Minutes.fillna(\"00\",inplace=True)\n",
    "#time_zones_athlete.head(40)\n",
    "\n",
    "#time_zones_athlete[\"Minutes\"]=time_zones_athlete[\"Minutes\"].map({\n",
    "    #\"30\": 0.5,\n",
    "    #\"00\": 0,\n",
    "    #\"0\": 0\n",
    "#})\n",
    "#time_zones_athlete[\"Hours\"]=time_zones_athlete[\"Hours\"].astype(float).abs()\n",
    "#time_zones_athlete[\"GMT Athlete Country\"]=time_zones_athlete[\"Hours\"]+time_zones_athlete[\"Minutes\"]\n",
    "\n",
    "#time_zones_athlete"
   ]
  },
  {
   "cell_type": "code",
   "execution_count": null,
   "id": "320d6763-a69c-4037-a518-5e19c3cb0a07",
   "metadata": {},
   "outputs": [],
   "source": [
    "#time_zones_athlete.rename(columns={\"Country\":'region'}, inplace=True)\n",
    "#time_zones_athlete"
   ]
  },
  {
   "cell_type": "code",
   "execution_count": null,
   "id": "8339e8e3-7068-473f-ab5c-5513f0bae14f",
   "metadata": {},
   "outputs": [],
   "source": [
    "#olympic_data.columns"
   ]
  },
  {
   "cell_type": "code",
   "execution_count": null,
   "id": "410e195e-9b88-4fda-893e-a80e3e6c4d1d",
   "metadata": {},
   "outputs": [],
   "source": [
    "#olympic_data_hour=pd.merge(\n",
    "    #olympic_data, \n",
    "    #time_zones_athlete[[\"region\",\"GMT Athlete Country\",\"Capital city\"]],\n",
    "    #on=\"region\",\n",
    "    #how=\"left\")\n",
    "\n",
    "#olympic_data_hour"
   ]
  },
  {
   "cell_type": "code",
   "execution_count": null,
   "id": "588f88e2-a919-46e0-96a4-9e3e9b846b3b",
   "metadata": {},
   "outputs": [],
   "source": [
    "#print(olympic_data_hour.region.isnull().sum())\n",
    "#print(olympic_data_hour[\"GMT Athlete Country\"].isnull().sum())\n",
    "#print(olympic_data_hour[\"Capital city\"].isnull().sum())"
   ]
  },
  {
   "cell_type": "code",
   "execution_count": null,
   "id": "5653c89e-7f6e-4bbc-8307-63b4fed2070f",
   "metadata": {},
   "outputs": [],
   "source": [
    "#olympic_data_hour[olympic_data_hour[\"GMT Athlete Country\"].isnull()].head()"
   ]
  },
  {
   "cell_type": "code",
   "execution_count": null,
   "id": "890f187f-98dd-49d6-8c24-df4838683d29",
   "metadata": {},
   "outputs": [],
   "source": [
    "#olympic_data_hour.dropna(subset=[\"GMT Athlete Country\"], inplace=True)\n",
    "#print(olympic_data_hour.region.isnull().sum())\n",
    "#print(olympic_data_hour[\"GMT Athlete Country\"].isnull().sum())\n",
    "#print(olympic_data_hour[\"Capital city\"].isnull().sum())"
   ]
  },
  {
   "cell_type": "code",
   "execution_count": null,
   "id": "f3461f9b-2999-41e4-b271-b69c8389520c",
   "metadata": {},
   "outputs": [],
   "source": [
    "#time_zones_host=time_zones_athlete\n",
    "#time_zones_host.rename(columns={\"Capital city\":'City'}, inplace=True)\n",
    "#time_zones_host.rename(columns={\"GMT Athlete Country\":'GMT Host City'}, inplace=True)\n",
    "#time_zones_host"
   ]
  },
  {
   "cell_type": "code",
   "execution_count": null,
   "id": "53695bd3-5e80-469f-b213-a50a550d0c0f",
   "metadata": {},
   "outputs": [],
   "source": [
    "#olympic_data_hour=pd.merge(\n",
    "    #olympic_data_hour, \n",
    "    #time_zones_host[[\"City\",\"GMT Host City\",]],\n",
    "    #on=\"City\",\n",
    "    #how=\"left\")\n",
    "\n",
    "#olympic_data_hour"
   ]
  },
  {
   "cell_type": "code",
   "execution_count": null,
   "id": "ce0b0567-8484-4eac-8f5d-994a577e6d1c",
   "metadata": {},
   "outputs": [],
   "source": [
    "#olympic_data_hour.isnull().any()"
   ]
  },
  {
   "cell_type": "code",
   "execution_count": null,
   "id": "81f75809-02da-4202-a7ee-0ba4fb65c6b5",
   "metadata": {},
   "outputs": [],
   "source": [
    "#olympic_data_hour.info()"
   ]
  },
  {
   "cell_type": "code",
   "execution_count": null,
   "id": "199b2c8f-1d61-4e9b-9e69-595665d731e1",
   "metadata": {},
   "outputs": [],
   "source": [
    "#olympic_data_hour.info()"
   ]
  },
  {
   "cell_type": "code",
   "execution_count": null,
   "id": "4c30b1cd-c364-4f9e-bf2b-42c31f5aa16f",
   "metadata": {},
   "outputs": [],
   "source": [
    "#olympic_data_hour[\"Time difference\"]=(olympic_data_hour[\"GMT Host City\"]-olympic_data_hour[\"GMT Athlete Country\"]).abs()\n",
    "#olympic_data_hour"
   ]
  },
  {
   "cell_type": "code",
   "execution_count": null,
   "id": "c82907fa-bb1b-47e2-a559-90d9e9d3063b",
   "metadata": {},
   "outputs": [],
   "source": [
    "#olympic_data_hour.groupby(\"Time difference\")[\"Medal\"].count()\n"
   ]
  },
  {
   "cell_type": "code",
   "execution_count": null,
   "id": "c86f6604-9445-4e18-91b0-ac942ab79979",
   "metadata": {},
   "outputs": [],
   "source": [
    "#def create_range_time(time):\n",
    "    #if time <= 2.0:\n",
    "        #return \"[0-2.0]\"\n",
    "    #elif time <=4:\n",
    "        #return \"(2.0-4.0]\"\n",
    "    #elif time <=6:\n",
    "        #return \"(4.0-6.0]\"\n",
    "    #elif time <=8:\n",
    "        #return \"(6.0-8.0]\"\n",
    "    #elif time <=10:\n",
    "        #return \"(8.0-10.0]\"\n",
    "    #elif time <=12:\n",
    "        #return \"(10.0-12.0]\"\n",
    "    #else:\n",
    "        #return \"(12.0-13.00]\""
   ]
  },
  {
   "cell_type": "code",
   "execution_count": null,
   "id": "090a5c28-c878-46fd-a43f-7f8a44d3c99a",
   "metadata": {},
   "outputs": [],
   "source": [
    "#olympic_data_hour[\"Range Time\"]=olympic_data_hour[\"Time difference\"].apply(create_range_time)\n",
    "#olympic_data_hour"
   ]
  },
  {
   "cell_type": "code",
   "execution_count": null,
   "id": "7dccc92b-469e-4fcf-ba20-7cf0e5c03fc3",
   "metadata": {},
   "outputs": [],
   "source": [
    "#olympic_data_hour.groupby(\"Range Time\")[\"Medal\"].count().sort_values(ascending=False)"
   ]
  },
  {
   "cell_type": "code",
   "execution_count": null,
   "id": "347891d0-ec4a-487c-9a19-e8b326d7ba0e",
   "metadata": {},
   "outputs": [],
   "source": []
  }
 ],
 "metadata": {
  "kernelspec": {
   "display_name": "venv",
   "language": "python",
   "name": "venv"
  },
  "language_info": {
   "codemirror_mode": {
    "name": "ipython",
    "version": 3
   },
   "file_extension": ".py",
   "mimetype": "text/x-python",
   "name": "python",
   "nbconvert_exporter": "python",
   "pygments_lexer": "ipython3",
   "version": "3.13.1"
  }
 },
 "nbformat": 4,
 "nbformat_minor": 5
}
