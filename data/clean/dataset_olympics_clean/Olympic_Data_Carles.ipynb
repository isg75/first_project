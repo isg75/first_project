{
 "cells": [
  {
   "cell_type": "code",
   "execution_count": null,
   "id": "4b1ab74e-7812-46de-904f-fad6f58ce8ae",
   "metadata": {},
   "outputs": [],
   "source": [
    "import pandas as pd\n",
    "import numpy as np\n",
    "import re\n",
    "olympic_data=pd.read_csv('athlete_events.csv')\n",
    "olympic_data.head()"
   ]
  },
  {
   "cell_type": "code",
   "execution_count": null,
   "id": "cb405adc-e2d9-4f41-ac89-e72ed157011f",
   "metadata": {},
   "outputs": [],
   "source": [
    "olympic_data.info()"
   ]
  },
  {
   "cell_type": "code",
   "execution_count": null,
   "id": "e17a2c65-606c-4445-ad44-565ffc570ed9",
   "metadata": {},
   "outputs": [],
   "source": [
    "olympic_data.isna().sum()"
   ]
  },
  {
   "cell_type": "code",
   "execution_count": null,
   "id": "0a2641cd-3af4-4070-ae2c-efa976e0f010",
   "metadata": {},
   "outputs": [],
   "source": [
    "olympic_data[\"Medal\"] = olympic_data[\"Medal\"].apply(lambda x:\"No Medal\" if pd.isna(x) else x)"
   ]
  },
  {
   "cell_type": "code",
   "execution_count": null,
   "id": "f4751e5b-a900-4ec9-bd7a-6b143e5d5d48",
   "metadata": {},
   "outputs": [],
   "source": [
    "olympic_data"
   ]
  },
  {
   "cell_type": "code",
   "execution_count": null,
   "id": "2df20d16-7f68-4b34-903a-fe9c1c028ede",
   "metadata": {},
   "outputs": [],
   "source": [
    "olympic_data[\"Medal\"].unique()"
   ]
  },
  {
   "cell_type": "code",
   "execution_count": null,
   "id": "52dbb1fc-8f38-46da-90c6-2a6129c8f44f",
   "metadata": {},
   "outputs": [],
   "source": [
    "olympic_data[\"Medal\"].value_counts()"
   ]
  },
  {
   "cell_type": "code",
   "execution_count": null,
   "id": "728b6d0a-6743-4b62-baf8-74518f8422f1",
   "metadata": {},
   "outputs": [],
   "source": [
    "print(olympic_data.duplicated().sum())"
   ]
  },
  {
   "cell_type": "code",
   "execution_count": null,
   "id": "bcbc8d0d-55d4-4d77-86c9-c1723de18ce0",
   "metadata": {},
   "outputs": [],
   "source": [
    "olympic_data.drop_duplicates(inplace = True)"
   ]
  },
  {
   "cell_type": "code",
   "execution_count": null,
   "id": "bef2aa32-fd31-4142-8d00-0025ed949bea",
   "metadata": {},
   "outputs": [],
   "source": [
    "print(olympic_data.duplicated().sum())"
   ]
  },
  {
   "cell_type": "code",
   "execution_count": null,
   "id": "e9771c85-4a19-494c-91b3-ea3867d0a66f",
   "metadata": {},
   "outputs": [],
   "source": [
    "olympic_data[\"Medal\"].value_counts()"
   ]
  }
 ],
 "metadata": {
  "kernelspec": {
   "display_name": "project1_venv",
   "language": "python",
   "name": "project1_venv"
  },
  "language_info": {
   "codemirror_mode": {
    "name": "ipython",
    "version": 3
   },
   "file_extension": ".py",
   "mimetype": "text/x-python",
   "name": "python",
   "nbconvert_exporter": "python",
   "pygments_lexer": "ipython3",
   "version": "3.9.18"
  }
 },
 "nbformat": 4,
 "nbformat_minor": 5
}
