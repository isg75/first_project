{
 "cells": [
  {
   "cell_type": "code",
   "execution_count": null,
   "id": "4b1ab74e-7812-46de-904f-fad6f58ce8ae",
   "metadata": {},
   "outputs": [],
   "source": [
    "import pandas as pd\n",
    "import numpy as np\n",
    "import re\n",
    "olympic_data=pd.read_csv('athlete_events.csv')\n",
    "olympic_data.head()\n"
   ]
  },
  {
   "cell_type": "code",
   "execution_count": null,
   "id": "2a56b502-29f9-4507-b6c6-7695230f081f",
   "metadata": {},
   "outputs": [],
   "source": [
    "#condition_year_1991=olympic_data[\"Year\"]>1991\n",
    "#olympic_data=olympic_data[condition_year_1991]\n",
    "condition_summer=olympic_data[\"Season\"]==\"Summer\"\n",
    "olympic_data=olympic_data[condition_summer]\n",
    "olympic_data"
   ]
  },
  {
   "cell_type": "code",
   "execution_count": null,
   "id": "d8fd7e6d-1013-46ff-8079-034126cf6df4",
   "metadata": {},
   "outputs": [],
   "source": []
  }
 ],
 "metadata": {
  "kernelspec": {
   "display_name": "venv",
   "language": "python",
   "name": "venv"
  },
  "language_info": {
   "codemirror_mode": {
    "name": "ipython",
    "version": 3
   },
   "file_extension": ".py",
   "mimetype": "text/x-python",
   "name": "python",
   "nbconvert_exporter": "python",
   "pygments_lexer": "ipython3",
   "version": "3.13.1"
  }
 },
 "nbformat": 4,
 "nbformat_minor": 5
}
