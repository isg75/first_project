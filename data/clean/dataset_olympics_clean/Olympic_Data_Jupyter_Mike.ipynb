{
 "cells": [
  {
   "cell_type": "code",
   "execution_count": null,
   "id": "4b1ab74e-7812-46de-904f-fad6f58ce8ae",
   "metadata": {},
   "outputs": [],
   "source": [
    "import pandas as pd\n",
    "import numpy as np\n",
    "import re\n",
    "olympic_data=pd.read_csv('athlete_events.csv')\n",
    "olympic_data.shape"
   ]
  },
  {
   "cell_type": "code",
   "execution_count": null,
   "id": "cb405adc-e2d9-4f41-ac89-e72ed157011f",
   "metadata": {},
   "outputs": [],
   "source": [
    "olympic_data.columns"
   ]
  },
  {
   "cell_type": "code",
   "execution_count": null,
   "id": "418091d6-5092-462e-bcaa-50581230811b",
   "metadata": {},
   "outputs": [],
   "source": [
    "#Investigating quality of ID column\n",
    "#Duplicates exist but this is intentional, as one athlete can participate in more than one event/olympics.\n",
    "#ID numbering is consistent throughout years - e.g. same ID for athlete in different olympic games.\n",
    "#ID is based on alphabetical order of last name\n",
    "\n",
    "olympic_data[[\"ID\",\"Name\",\"Event\",\"Year\"]].head(20)"
   ]
  },
  {
   "cell_type": "code",
   "execution_count": null,
   "id": "2b1ec225-a285-4358-b36e-be88037ec573",
   "metadata": {},
   "outputs": [],
   "source": [
    "na_mask = olympic_data[\"ID\"].isna()\n",
    "na_mask #no missing values"
   ]
  },
  {
   "cell_type": "code",
   "execution_count": null,
   "id": "de41a5ae-4778-45cd-831b-09f067a2bcc6",
   "metadata": {},
   "outputs": [],
   "source": [
    "#Filter to only show summer olympics\n",
    "summer_olympics = olympic_data[olympic_data[\"Season\"] == \"Summer\"]"
   ]
  },
  {
   "cell_type": "code",
   "execution_count": null,
   "id": "89bddc63-8446-4fe2-9936-f7393cbe4930",
   "metadata": {},
   "outputs": [],
   "source": [
    "#Pretty consistent number of athletes going back to 1960s\n",
    "summer_olympics.groupby(\"Year\")[\"ID\"].count()"
   ]
  },
  {
   "cell_type": "code",
   "execution_count": null,
   "id": "d3183afd-c535-460e-a749-22824963a48e",
   "metadata": {},
   "outputs": [],
   "source": [
    "#Investigating quality of Team column"
   ]
  },
  {
   "cell_type": "code",
   "execution_count": null,
   "id": "7b5b7c80-5193-41ab-a8c2-512188e1cdc1",
   "metadata": {},
   "outputs": [],
   "source": [
    "#Checking team names without year filter\n",
    "#Seem to be issues with Sports teams being mixed with countries (e.g. Toronto Argonauts)\n",
    "#Countries with numbers following (e.g. Ukraine-2, Belarus-1)\n",
    "teams = olympic_data[\"Team\"].unique()\n",
    "for team in teams:\n",
    "    print(team)"
   ]
  },
  {
   "cell_type": "code",
   "execution_count": null,
   "id": "21774189-81bf-4cfb-8e9d-efe18549fc9a",
   "metadata": {},
   "outputs": [],
   "source": [
    "#Only including Summer olympics since 1988\n",
    "summer_olympics_1988_2016 = olympic_data[olympic_data[\"Year\"] >= 1988]"
   ]
  },
  {
   "cell_type": "code",
   "execution_count": null,
   "id": "8dc42173-ad95-4c53-9805-414e0bc0fadd",
   "metadata": {},
   "outputs": [],
   "source": [
    "#Same issues as before\n",
    "teams_recent = summer_olympics_1988_2016[\"NOC\"].unique()\n",
    "for team in teams_recent:\n",
    "    print(team)"
   ]
  },
  {
   "cell_type": "code",
   "execution_count": null,
   "id": "c0bead24-d396-43b4-ac74-0d4cca4091b0",
   "metadata": {},
   "outputs": [],
   "source": []
  }
 ],
 "metadata": {
  "kernelspec": {
   "display_name": "project1_venv",
   "language": "python",
   "name": "project1_venv"
  },
  "language_info": {
   "codemirror_mode": {
    "name": "ipython",
    "version": 3
   },
   "file_extension": ".py",
   "mimetype": "text/x-python",
   "name": "python",
   "nbconvert_exporter": "python",
   "pygments_lexer": "ipython3",
   "version": "3.12.7"
  }
 },
 "nbformat": 4,
 "nbformat_minor": 5
}
