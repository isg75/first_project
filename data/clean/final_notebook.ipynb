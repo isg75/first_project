{
 "cells": [
  {
   "cell_type": "code",
   "execution_count": 1,
   "id": "79e24604-12ae-421d-a055-5ee085aa160d",
   "metadata": {},
   "outputs": [],
   "source": [
    "import pandas as pd\n",
    "import numpy as np"
   ]
  },
  {
   "cell_type": "code",
   "execution_count": 2,
   "id": "32b02637-7012-4bfc-8f20-fb4ee0a7a39f",
   "metadata": {},
   "outputs": [],
   "source": [
    "merged_df = pd.read_csv(\"merged_rd_gdp.csv\")\n",
    "patents_df = pd.read_csv(\"updated_patents_df.csv\")\n",
    "hdi_df = pd.read_csv(\"hdi_clean.csv\")\n",
    "education_df = pd.read_csv(\"educ_filtered.csv\")"
   ]
  },
  {
   "cell_type": "code",
   "execution_count": 5,
   "id": "086d5add-527f-4746-9e32-3a47fbe5bfa1",
   "metadata": {},
   "outputs": [
    {
     "data": {
      "text/plain": [
       "(883, 4)"
      ]
     },
     "execution_count": 5,
     "metadata": {},
     "output_type": "execute_result"
    }
   ],
   "source": [
    "education_df.shape\n"
   ]
  },
  {
   "cell_type": "code",
   "execution_count": 7,
   "id": "8f0618b9-570d-43eb-ac94-1a3619cb1308",
   "metadata": {},
   "outputs": [
    {
     "data": {
      "text/plain": [
       "(771, 4)"
      ]
     },
     "execution_count": 7,
     "metadata": {},
     "output_type": "execute_result"
    }
   ],
   "source": [
    "patents_df.shape"
   ]
  },
  {
   "cell_type": "code",
   "execution_count": 9,
   "id": "2e26e9e9-dbc1-4666-9c5f-fab91cfda158",
   "metadata": {},
   "outputs": [
    {
     "data": {
      "text/plain": [
       "(355, 6)"
      ]
     },
     "execution_count": 9,
     "metadata": {},
     "output_type": "execute_result"
    }
   ],
   "source": [
    "merged_df.shape"
   ]
  },
  {
   "cell_type": "code",
   "execution_count": 11,
   "id": "75fc0bc8-c0a0-4d9a-93d2-ec8480ca7e08",
   "metadata": {},
   "outputs": [],
   "source": [
    "hdi_df.rename(columns={'country':'area'}, inplace= True)"
   ]
  },
  {
   "cell_type": "code",
   "execution_count": 13,
   "id": "8c3503d4-e6a3-42c3-8110-5e83bc13f2f7",
   "metadata": {},
   "outputs": [],
   "source": [
    "merged_df_V2 = pd.merge(merged_df, hdi_df, on=['area', 'year'], how='inner')\n",
    "merged_df_V3 = pd.merge(merged_df_V2, education_df, on=['area', 'year'], how='inner')\n",
    "merged_df_V4 = pd.merge(merged_df_V3, patents_df, on=['area', 'year'], how='inner')\n",
    "\n",
    "\n"
   ]
  },
  {
   "cell_type": "code",
   "execution_count": 29,
   "id": "bc6b6cce-f25c-4aa6-b479-1faf9cd92807",
   "metadata": {},
   "outputs": [
    {
     "data": {
      "text/plain": [
       "(106, 8)"
      ]
     },
     "execution_count": 29,
     "metadata": {},
     "output_type": "execute_result"
    }
   ],
   "source": [
    "merged_df_V4.shape"
   ]
  },
  {
   "cell_type": "code",
   "execution_count": 19,
   "id": "e4c57c73-af94-448c-b3f7-0c4aa63f6991",
   "metadata": {},
   "outputs": [
    {
     "data": {
      "text/html": [
       "<div>\n",
       "<style scoped>\n",
       "    .dataframe tbody tr th:only-of-type {\n",
       "        vertical-align: middle;\n",
       "    }\n",
       "\n",
       "    .dataframe tbody tr th {\n",
       "        vertical-align: top;\n",
       "    }\n",
       "\n",
       "    .dataframe thead th {\n",
       "        text-align: right;\n",
       "    }\n",
       "</style>\n",
       "<table border=\"1\" class=\"dataframe\">\n",
       "  <thead>\n",
       "    <tr style=\"text-align: right;\">\n",
       "      <th></th>\n",
       "      <th>region_x</th>\n",
       "      <th>year</th>\n",
       "      <th>gdp</th>\n",
       "      <th>r_d</th>\n",
       "      <th>researchers</th>\n",
       "      <th>human_development_index_(hdi)</th>\n",
       "      <th>region_y</th>\n",
       "      <th>public_expenditure_education</th>\n",
       "      <th>country_code</th>\n",
       "      <th>patents_num</th>\n",
       "    </tr>\n",
       "  </thead>\n",
       "  <tbody>\n",
       "    <tr>\n",
       "      <th>count</th>\n",
       "      <td>106.000000</td>\n",
       "      <td>106.000000</td>\n",
       "      <td>1.060000e+02</td>\n",
       "      <td>106.000000</td>\n",
       "      <td>106.000000</td>\n",
       "      <td>106.000000</td>\n",
       "      <td>106.000000</td>\n",
       "      <td>106.000000</td>\n",
       "      <td>106.000000</td>\n",
       "      <td>106.000000</td>\n",
       "    </tr>\n",
       "    <tr>\n",
       "      <th>mean</th>\n",
       "      <td>410.349057</td>\n",
       "      <td>2009.754717</td>\n",
       "      <td>6.455052e+11</td>\n",
       "      <td>1.166038</td>\n",
       "      <td>2360.985849</td>\n",
       "      <td>0.808085</td>\n",
       "      <td>410.349057</td>\n",
       "      <td>4.825472</td>\n",
       "      <td>410.349057</td>\n",
       "      <td>7062.867925</td>\n",
       "    </tr>\n",
       "    <tr>\n",
       "      <th>std</th>\n",
       "      <td>244.602770</td>\n",
       "      <td>5.154400</td>\n",
       "      <td>1.129960e+12</td>\n",
       "      <td>0.911084</td>\n",
       "      <td>2009.348724</td>\n",
       "      <td>0.110381</td>\n",
       "      <td>244.602770</td>\n",
       "      <td>1.267473</td>\n",
       "      <td>244.602770</td>\n",
       "      <td>27631.421849</td>\n",
       "    </tr>\n",
       "    <tr>\n",
       "      <th>min</th>\n",
       "      <td>31.000000</td>\n",
       "      <td>2005.000000</td>\n",
       "      <td>5.859270e+09</td>\n",
       "      <td>0.000000</td>\n",
       "      <td>13.900000</td>\n",
       "      <td>0.469000</td>\n",
       "      <td>31.000000</td>\n",
       "      <td>1.700000</td>\n",
       "      <td>31.000000</td>\n",
       "      <td>4.000000</td>\n",
       "    </tr>\n",
       "    <tr>\n",
       "      <th>25%</th>\n",
       "      <td>204.250000</td>\n",
       "      <td>2005.000000</td>\n",
       "      <td>5.517256e+10</td>\n",
       "      <td>0.400000</td>\n",
       "      <td>572.875000</td>\n",
       "      <td>0.757500</td>\n",
       "      <td>204.250000</td>\n",
       "      <td>3.900000</td>\n",
       "      <td>204.250000</td>\n",
       "      <td>157.000000</td>\n",
       "    </tr>\n",
       "    <tr>\n",
       "      <th>50%</th>\n",
       "      <td>392.000000</td>\n",
       "      <td>2010.000000</td>\n",
       "      <td>2.123620e+11</td>\n",
       "      <td>0.800000</td>\n",
       "      <td>1662.200000</td>\n",
       "      <td>0.834000</td>\n",
       "      <td>392.000000</td>\n",
       "      <td>4.900000</td>\n",
       "      <td>392.000000</td>\n",
       "      <td>733.500000</td>\n",
       "    </tr>\n",
       "    <tr>\n",
       "      <th>75%</th>\n",
       "      <td>619.000000</td>\n",
       "      <td>2010.000000</td>\n",
       "      <td>4.645358e+11</td>\n",
       "      <td>1.675000</td>\n",
       "      <td>3847.200000</td>\n",
       "      <td>0.897250</td>\n",
       "      <td>619.000000</td>\n",
       "      <td>5.575000</td>\n",
       "      <td>619.000000</td>\n",
       "      <td>2946.250000</td>\n",
       "    </tr>\n",
       "    <tr>\n",
       "      <th>max</th>\n",
       "      <td>860.000000</td>\n",
       "      <td>2021.000000</td>\n",
       "      <td>6.087190e+12</td>\n",
       "      <td>3.700000</td>\n",
       "      <td>7720.200000</td>\n",
       "      <td>0.962000</td>\n",
       "      <td>860.000000</td>\n",
       "      <td>8.600000</td>\n",
       "      <td>860.000000</td>\n",
       "      <td>222693.000000</td>\n",
       "    </tr>\n",
       "  </tbody>\n",
       "</table>\n",
       "</div>"
      ],
      "text/plain": [
       "         region_x         year           gdp         r_d  researchers  \\\n",
       "count  106.000000   106.000000  1.060000e+02  106.000000   106.000000   \n",
       "mean   410.349057  2009.754717  6.455052e+11    1.166038  2360.985849   \n",
       "std    244.602770     5.154400  1.129960e+12    0.911084  2009.348724   \n",
       "min     31.000000  2005.000000  5.859270e+09    0.000000    13.900000   \n",
       "25%    204.250000  2005.000000  5.517256e+10    0.400000   572.875000   \n",
       "50%    392.000000  2010.000000  2.123620e+11    0.800000  1662.200000   \n",
       "75%    619.000000  2010.000000  4.645358e+11    1.675000  3847.200000   \n",
       "max    860.000000  2021.000000  6.087190e+12    3.700000  7720.200000   \n",
       "\n",
       "       human_development_index_(hdi)    region_y  \\\n",
       "count                     106.000000  106.000000   \n",
       "mean                        0.808085  410.349057   \n",
       "std                         0.110381  244.602770   \n",
       "min                         0.469000   31.000000   \n",
       "25%                         0.757500  204.250000   \n",
       "50%                         0.834000  392.000000   \n",
       "75%                         0.897250  619.000000   \n",
       "max                         0.962000  860.000000   \n",
       "\n",
       "       public_expenditure_education  country_code    patents_num  \n",
       "count                    106.000000    106.000000     106.000000  \n",
       "mean                       4.825472    410.349057    7062.867925  \n",
       "std                        1.267473    244.602770   27631.421849  \n",
       "min                        1.700000     31.000000       4.000000  \n",
       "25%                        3.900000    204.250000     157.000000  \n",
       "50%                        4.900000    392.000000     733.500000  \n",
       "75%                        5.575000    619.000000    2946.250000  \n",
       "max                        8.600000    860.000000  222693.000000  "
      ]
     },
     "execution_count": 19,
     "metadata": {},
     "output_type": "execute_result"
    }
   ],
   "source": [
    "merged_df_V4.describe()\n"
   ]
  },
  {
   "cell_type": "code",
   "execution_count": 27,
   "id": "219797b4-f111-47f2-8df3-4396976a1996",
   "metadata": {},
   "outputs": [
    {
     "data": {
      "text/html": [
       "<div>\n",
       "<style scoped>\n",
       "    .dataframe tbody tr th:only-of-type {\n",
       "        vertical-align: middle;\n",
       "    }\n",
       "\n",
       "    .dataframe tbody tr th {\n",
       "        vertical-align: top;\n",
       "    }\n",
       "\n",
       "    .dataframe thead th {\n",
       "        text-align: right;\n",
       "    }\n",
       "</style>\n",
       "<table border=\"1\" class=\"dataframe\">\n",
       "  <thead>\n",
       "    <tr style=\"text-align: right;\">\n",
       "      <th></th>\n",
       "      <th>area</th>\n",
       "      <th>year</th>\n",
       "      <th>gdp</th>\n",
       "      <th>r_d</th>\n",
       "      <th>researchers</th>\n",
       "      <th>hdi</th>\n",
       "      <th>public_expenditure_education</th>\n",
       "      <th>patents_num</th>\n",
       "    </tr>\n",
       "  </thead>\n",
       "  <tbody>\n",
       "    <tr>\n",
       "      <th>0</th>\n",
       "      <td>Azerbaijan</td>\n",
       "      <td>2021</td>\n",
       "      <td>54825411765</td>\n",
       "      <td>0.2</td>\n",
       "      <td>1741.1</td>\n",
       "      <td>0.745</td>\n",
       "      <td>3.5</td>\n",
       "      <td>119</td>\n",
       "    </tr>\n",
       "    <tr>\n",
       "      <th>1</th>\n",
       "      <td>Argentina</td>\n",
       "      <td>2005</td>\n",
       "      <td>198737000000</td>\n",
       "      <td>0.4</td>\n",
       "      <td>819.4</td>\n",
       "      <td>0.802</td>\n",
       "      <td>3.9</td>\n",
       "      <td>1798</td>\n",
       "    </tr>\n",
       "    <tr>\n",
       "      <th>2</th>\n",
       "      <td>Argentina</td>\n",
       "      <td>2010</td>\n",
       "      <td>423627000000</td>\n",
       "      <td>0.6</td>\n",
       "      <td>1123.8</td>\n",
       "      <td>0.834</td>\n",
       "      <td>5.0</td>\n",
       "      <td>1366</td>\n",
       "    </tr>\n",
       "    <tr>\n",
       "      <th>3</th>\n",
       "      <td>Argentina</td>\n",
       "      <td>2020</td>\n",
       "      <td>385741000000</td>\n",
       "      <td>0.5</td>\n",
       "      <td>1236.9</td>\n",
       "      <td>0.840</td>\n",
       "      <td>5.1</td>\n",
       "      <td>2337</td>\n",
       "    </tr>\n",
       "    <tr>\n",
       "      <th>4</th>\n",
       "      <td>Australia</td>\n",
       "      <td>2010</td>\n",
       "      <td>1148890000000</td>\n",
       "      <td>2.4</td>\n",
       "      <td>4532.4</td>\n",
       "      <td>0.923</td>\n",
       "      <td>5.5</td>\n",
       "      <td>14557</td>\n",
       "    </tr>\n",
       "  </tbody>\n",
       "</table>\n",
       "</div>"
      ],
      "text/plain": [
       "         area  year            gdp  r_d  researchers    hdi  \\\n",
       "0  Azerbaijan  2021    54825411765  0.2       1741.1  0.745   \n",
       "1   Argentina  2005   198737000000  0.4        819.4  0.802   \n",
       "2   Argentina  2010   423627000000  0.6       1123.8  0.834   \n",
       "3   Argentina  2020   385741000000  0.5       1236.9  0.840   \n",
       "4   Australia  2010  1148890000000  2.4       4532.4  0.923   \n",
       "\n",
       "   public_expenditure_education  patents_num  \n",
       "0                           3.5          119  \n",
       "1                           3.9         1798  \n",
       "2                           5.0         1366  \n",
       "3                           5.1         2337  \n",
       "4                           5.5        14557  "
      ]
     },
     "execution_count": 27,
     "metadata": {},
     "output_type": "execute_result"
    }
   ],
   "source": [
    "merged_df_V4.head()"
   ]
  },
  {
   "cell_type": "code",
   "execution_count": 23,
   "id": "6a19cbf6-54a9-45b8-b10a-96d92d701bf8",
   "metadata": {},
   "outputs": [],
   "source": [
    "merged_df_V4 = merged_df_V4.drop(columns={'region_y', 'region_x', 'iso3', 'human_development_groups', 'undp_developing_regions','country_code'}, axis=1)"
   ]
  },
  {
   "cell_type": "code",
   "execution_count": 25,
   "id": "2480a17b-13d0-4dca-96f3-53d38a397693",
   "metadata": {},
   "outputs": [],
   "source": [
    "merged_df_V4 = merged_df_V4.rename(columns={'human_development_index_(hdi)':'hdi'})"
   ]
  },
  {
   "cell_type": "code",
   "execution_count": 31,
   "id": "30e77186-2cb4-4468-b637-c353f12b92f1",
   "metadata": {},
   "outputs": [],
   "source": [
    "merged_df_V4.to_csv(\"final_df.csv\")"
   ]
  },
  {
   "cell_type": "code",
   "execution_count": null,
   "id": "d442a4cc-1b40-4ea0-aeb8-f5332973f361",
   "metadata": {},
   "outputs": [],
   "source": []
  },
  {
   "cell_type": "code",
   "execution_count": 320,
   "id": "7a7a5cff-5551-4fd8-93aa-68de68b75337",
   "metadata": {},
   "outputs": [
    {
     "data": {
      "text/plain": [
       "array([2021, 2005, 2010, 2020, 2019], dtype=int64)"
      ]
     },
     "execution_count": 320,
     "metadata": {},
     "output_type": "execute_result"
    }
   ],
   "source": [
    "merged_df_V4.year.unique()"
   ]
  },
  {
   "cell_type": "code",
   "execution_count": 33,
   "id": "e5d6c96a-4d51-4a82-b857-a45f79717caf",
   "metadata": {},
   "outputs": [
    {
     "data": {
      "text/plain": [
       "63"
      ]
     },
     "execution_count": 33,
     "metadata": {},
     "output_type": "execute_result"
    }
   ],
   "source": [
    "merged_df_V4.area.nunique()"
   ]
  },
  {
   "cell_type": "code",
   "execution_count": null,
   "id": "aeb42011-642a-46c0-bc03-d74f80fcbee5",
   "metadata": {},
   "outputs": [],
   "source": []
  },
  {
   "cell_type": "code",
   "execution_count": 324,
   "id": "f0ef959b-06be-4d2e-8d3d-d1f8f22e5e2c",
   "metadata": {},
   "outputs": [],
   "source": [
    "merged_germany = merged_df_V4[merged_df_V4['area']=='Germany']"
   ]
  },
  {
   "cell_type": "code",
   "execution_count": 326,
   "id": "721e4498-50ae-4d42-bae9-3aeb7bf77f58",
   "metadata": {},
   "outputs": [
    {
     "data": {
      "text/html": [
       "<div>\n",
       "<style scoped>\n",
       "    .dataframe tbody tr th:only-of-type {\n",
       "        vertical-align: middle;\n",
       "    }\n",
       "\n",
       "    .dataframe tbody tr th {\n",
       "        vertical-align: top;\n",
       "    }\n",
       "\n",
       "    .dataframe thead th {\n",
       "        text-align: right;\n",
       "    }\n",
       "</style>\n",
       "<table border=\"1\" class=\"dataframe\">\n",
       "  <thead>\n",
       "    <tr style=\"text-align: right;\">\n",
       "      <th></th>\n",
       "      <th>region_x</th>\n",
       "      <th>area</th>\n",
       "      <th>year</th>\n",
       "      <th>gdp</th>\n",
       "      <th>r_d</th>\n",
       "      <th>researchers</th>\n",
       "      <th>iso3</th>\n",
       "      <th>human_development_groups</th>\n",
       "      <th>undp_developing_regions</th>\n",
       "      <th>human_development_index_(hdi)</th>\n",
       "      <th>region_y</th>\n",
       "      <th>public_expenditure_education</th>\n",
       "      <th>country_code</th>\n",
       "      <th>patents_num</th>\n",
       "    </tr>\n",
       "  </thead>\n",
       "  <tbody>\n",
       "    <tr>\n",
       "      <th>38</th>\n",
       "      <td>276</td>\n",
       "      <td>Germany</td>\n",
       "      <td>2005</td>\n",
       "      <td>2846860000000</td>\n",
       "      <td>2.4</td>\n",
       "      <td>3335.0</td>\n",
       "      <td>DEU</td>\n",
       "      <td>Very High</td>\n",
       "      <td>NaN</td>\n",
       "      <td>0.914</td>\n",
       "      <td>276</td>\n",
       "      <td>4.1</td>\n",
       "      <td>276</td>\n",
       "      <td>17063</td>\n",
       "    </tr>\n",
       "    <tr>\n",
       "      <th>39</th>\n",
       "      <td>276</td>\n",
       "      <td>Germany</td>\n",
       "      <td>2010</td>\n",
       "      <td>3399670000000</td>\n",
       "      <td>2.7</td>\n",
       "      <td>4058.0</td>\n",
       "      <td>DEU</td>\n",
       "      <td>Very High</td>\n",
       "      <td>NaN</td>\n",
       "      <td>0.926</td>\n",
       "      <td>276</td>\n",
       "      <td>5.1</td>\n",
       "      <td>276</td>\n",
       "      <td>13678</td>\n",
       "    </tr>\n",
       "  </tbody>\n",
       "</table>\n",
       "</div>"
      ],
      "text/plain": [
       "    region_x     area  year            gdp  r_d  researchers iso3  \\\n",
       "38       276  Germany  2005  2846860000000  2.4       3335.0  DEU   \n",
       "39       276  Germany  2010  3399670000000  2.7       4058.0  DEU   \n",
       "\n",
       "   human_development_groups undp_developing_regions  \\\n",
       "38                Very High                     NaN   \n",
       "39                Very High                     NaN   \n",
       "\n",
       "    human_development_index_(hdi)  region_y  public_expenditure_education  \\\n",
       "38                          0.914       276                           4.1   \n",
       "39                          0.926       276                           5.1   \n",
       "\n",
       "    country_code  patents_num  \n",
       "38           276        17063  \n",
       "39           276        13678  "
      ]
     },
     "metadata": {},
     "output_type": "display_data"
    }
   ],
   "source": [
    "display(merged_germany)"
   ]
  },
  {
   "cell_type": "code",
   "execution_count": null,
   "id": "c035a119-39e5-4b47-9866-6c73b7e2c3e1",
   "metadata": {},
   "outputs": [],
   "source": []
  },
  {
   "cell_type": "code",
   "execution_count": 276,
   "id": "2c56fe16-acc7-4202-9eb2-b5dd2948e413",
   "metadata": {},
   "outputs": [
    {
     "data": {
      "text/html": [
       "<div>\n",
       "<style scoped>\n",
       "    .dataframe tbody tr th:only-of-type {\n",
       "        vertical-align: middle;\n",
       "    }\n",
       "\n",
       "    .dataframe tbody tr th {\n",
       "        vertical-align: top;\n",
       "    }\n",
       "\n",
       "    .dataframe thead th {\n",
       "        text-align: right;\n",
       "    }\n",
       "</style>\n",
       "<table border=\"1\" class=\"dataframe\">\n",
       "  <thead>\n",
       "    <tr style=\"text-align: right;\">\n",
       "      <th></th>\n",
       "      <th>country_code</th>\n",
       "      <th>area</th>\n",
       "      <th>year</th>\n",
       "      <th>patents_num</th>\n",
       "    </tr>\n",
       "  </thead>\n",
       "  <tbody>\n",
       "    <tr>\n",
       "      <th>0</th>\n",
       "      <td>1</td>\n",
       "      <td>Total, all countries or areas</td>\n",
       "      <td>1985</td>\n",
       "      <td>397580</td>\n",
       "    </tr>\n",
       "    <tr>\n",
       "      <th>1</th>\n",
       "      <td>1</td>\n",
       "      <td>Total, all countries or areas</td>\n",
       "      <td>1995</td>\n",
       "      <td>429800</td>\n",
       "    </tr>\n",
       "    <tr>\n",
       "      <th>2</th>\n",
       "      <td>1</td>\n",
       "      <td>Total, all countries or areas</td>\n",
       "      <td>2005</td>\n",
       "      <td>632400</td>\n",
       "    </tr>\n",
       "    <tr>\n",
       "      <th>3</th>\n",
       "      <td>1</td>\n",
       "      <td>Total, all countries or areas</td>\n",
       "      <td>2010</td>\n",
       "      <td>914200</td>\n",
       "    </tr>\n",
       "    <tr>\n",
       "      <th>4</th>\n",
       "      <td>1</td>\n",
       "      <td>Total, all countries or areas</td>\n",
       "      <td>2019</td>\n",
       "      <td>1506900</td>\n",
       "    </tr>\n",
       "  </tbody>\n",
       "</table>\n",
       "</div>"
      ],
      "text/plain": [
       "   country_code                           area  year  patents_num\n",
       "0             1  Total, all countries or areas  1985       397580\n",
       "1             1  Total, all countries or areas  1995       429800\n",
       "2             1  Total, all countries or areas  2005       632400\n",
       "3             1  Total, all countries or areas  2010       914200\n",
       "4             1  Total, all countries or areas  2019      1506900"
      ]
     },
     "execution_count": 276,
     "metadata": {},
     "output_type": "execute_result"
    }
   ],
   "source": [
    "patents_df.head()"
   ]
  },
  {
   "cell_type": "code",
   "execution_count": 278,
   "id": "c052fd7e-e19b-47da-8e45-58e0b7f3d467",
   "metadata": {},
   "outputs": [
    {
     "data": {
      "text/html": [
       "<div>\n",
       "<style scoped>\n",
       "    .dataframe tbody tr th:only-of-type {\n",
       "        vertical-align: middle;\n",
       "    }\n",
       "\n",
       "    .dataframe tbody tr th {\n",
       "        vertical-align: top;\n",
       "    }\n",
       "\n",
       "    .dataframe thead th {\n",
       "        text-align: right;\n",
       "    }\n",
       "</style>\n",
       "<table border=\"1\" class=\"dataframe\">\n",
       "  <thead>\n",
       "    <tr style=\"text-align: right;\">\n",
       "      <th></th>\n",
       "      <th>region</th>\n",
       "      <th>area</th>\n",
       "      <th>year</th>\n",
       "      <th>gdp</th>\n",
       "      <th>r_d</th>\n",
       "      <th>researchers</th>\n",
       "      <th>country_code</th>\n",
       "      <th>patents_num</th>\n",
       "    </tr>\n",
       "  </thead>\n",
       "  <tbody>\n",
       "    <tr>\n",
       "      <th>0</th>\n",
       "      <td>12</td>\n",
       "      <td>Algeria</td>\n",
       "      <td>2005</td>\n",
       "      <td>107047000000</td>\n",
       "      <td>0.1</td>\n",
       "      <td>168.7</td>\n",
       "      <td>12</td>\n",
       "      <td>443</td>\n",
       "    </tr>\n",
       "    <tr>\n",
       "      <th>1</th>\n",
       "      <td>31</td>\n",
       "      <td>Azerbaijan</td>\n",
       "      <td>2021</td>\n",
       "      <td>54825411765</td>\n",
       "      <td>0.2</td>\n",
       "      <td>1741.1</td>\n",
       "      <td>31</td>\n",
       "      <td>119</td>\n",
       "    </tr>\n",
       "    <tr>\n",
       "      <th>2</th>\n",
       "      <td>32</td>\n",
       "      <td>Argentina</td>\n",
       "      <td>2005</td>\n",
       "      <td>198737000000</td>\n",
       "      <td>0.4</td>\n",
       "      <td>819.4</td>\n",
       "      <td>32</td>\n",
       "      <td>1798</td>\n",
       "    </tr>\n",
       "    <tr>\n",
       "      <th>3</th>\n",
       "      <td>32</td>\n",
       "      <td>Argentina</td>\n",
       "      <td>2010</td>\n",
       "      <td>423627000000</td>\n",
       "      <td>0.6</td>\n",
       "      <td>1123.8</td>\n",
       "      <td>32</td>\n",
       "      <td>1366</td>\n",
       "    </tr>\n",
       "    <tr>\n",
       "      <th>4</th>\n",
       "      <td>32</td>\n",
       "      <td>Argentina</td>\n",
       "      <td>2020</td>\n",
       "      <td>385741000000</td>\n",
       "      <td>0.5</td>\n",
       "      <td>1236.9</td>\n",
       "      <td>32</td>\n",
       "      <td>2337</td>\n",
       "    </tr>\n",
       "  </tbody>\n",
       "</table>\n",
       "</div>"
      ],
      "text/plain": [
       "   region        area  year           gdp  r_d  researchers  country_code  \\\n",
       "0      12     Algeria  2005  107047000000  0.1        168.7            12   \n",
       "1      31  Azerbaijan  2021   54825411765  0.2       1741.1            31   \n",
       "2      32   Argentina  2005  198737000000  0.4        819.4            32   \n",
       "3      32   Argentina  2010  423627000000  0.6       1123.8            32   \n",
       "4      32   Argentina  2020  385741000000  0.5       1236.9            32   \n",
       "\n",
       "   patents_num  \n",
       "0          443  \n",
       "1          119  \n",
       "2         1798  \n",
       "3         1366  \n",
       "4         2337  "
      ]
     },
     "execution_count": 278,
     "metadata": {},
     "output_type": "execute_result"
    }
   ],
   "source": [
    "merged_df_V2.head()"
   ]
  },
  {
   "cell_type": "code",
   "execution_count": null,
   "id": "51929e44-b487-4596-a381-544519fe5336",
   "metadata": {},
   "outputs": [],
   "source": []
  },
  {
   "cell_type": "code",
   "execution_count": 268,
   "id": "521f50fd-b75b-4643-be02-89996dbd63b8",
   "metadata": {},
   "outputs": [
    {
     "data": {
      "text/plain": [
       "(164, 8)"
      ]
     },
     "execution_count": 268,
     "metadata": {},
     "output_type": "execute_result"
    }
   ],
   "source": [
    "merged_df_V2.shape"
   ]
  },
  {
   "cell_type": "code",
   "execution_count": 176,
   "id": "65cd6cda-0107-47f7-9072-21004764b29e",
   "metadata": {},
   "outputs": [],
   "source": [
    "merged_df_V3 = pd.merge(merged_df_V2, hdi_df, on=['area', 'year'], how='inner')"
   ]
  },
  {
   "cell_type": "code",
   "execution_count": 148,
   "id": "43bed612-2a15-41d7-ab02-42acdc7c5e8d",
   "metadata": {},
   "outputs": [],
   "source": [
    "merged_df_V2 = merged_df_V2.drop('country_code', axis=1)"
   ]
  },
  {
   "cell_type": "code",
   "execution_count": 158,
   "id": "33856667-4513-44d1-a5d1-19f096e67bfe",
   "metadata": {},
   "outputs": [],
   "source": [
    "merged_df_V2['number_patents'] = pd.to_numeric(merged_df_V2['number_patents'], errors='coerce')"
   ]
  },
  {
   "cell_type": "code",
   "execution_count": 156,
   "id": "f893ad1d-0d80-4ca5-9a30-496cc53f28ca",
   "metadata": {},
   "outputs": [],
   "source": [
    "merged_df_V2.rename(columns={'series': 'patents', 'value':'number_patents'}, inplace= True)"
   ]
  },
  {
   "cell_type": "code",
   "execution_count": 122,
   "id": "ccfbeff4-0d0c-4691-8520-dfa5cc32763b",
   "metadata": {},
   "outputs": [
    {
     "ename": "AttributeError",
     "evalue": "'function' object has no attribute 'dropna'",
     "output_type": "error",
     "traceback": [
      "\u001b[1;31m---------------------------------------------------------------------------\u001b[0m",
      "\u001b[1;31mAttributeError\u001b[0m                            Traceback (most recent call last)",
      "Cell \u001b[1;32mIn[122], line 1\u001b[0m\n\u001b[1;32m----> 1\u001b[0m merged_df_V2 \u001b[38;5;241m=\u001b[39m \u001b[43mmerged_df_V2\u001b[49m\u001b[38;5;241;43m.\u001b[39;49m\u001b[43mdropna\u001b[49m\n",
      "\u001b[1;31mAttributeError\u001b[0m: 'function' object has no attribute 'dropna'"
     ]
    }
   ],
   "source": [
    "merged_df_V2 = merged_df_V2.dropna"
   ]
  },
  {
   "cell_type": "code",
   "execution_count": 178,
   "id": "b8f2c30a-e701-4a4b-878e-e1450940c75d",
   "metadata": {},
   "outputs": [
    {
     "data": {
      "text/html": [
       "<div>\n",
       "<style scoped>\n",
       "    .dataframe tbody tr th:only-of-type {\n",
       "        vertical-align: middle;\n",
       "    }\n",
       "\n",
       "    .dataframe tbody tr th {\n",
       "        vertical-align: top;\n",
       "    }\n",
       "\n",
       "    .dataframe thead th {\n",
       "        text-align: right;\n",
       "    }\n",
       "</style>\n",
       "<table border=\"1\" class=\"dataframe\">\n",
       "  <thead>\n",
       "    <tr style=\"text-align: right;\">\n",
       "      <th></th>\n",
       "      <th>region</th>\n",
       "      <th>area</th>\n",
       "      <th>year</th>\n",
       "      <th>gdp</th>\n",
       "      <th>r_d</th>\n",
       "      <th>researchers</th>\n",
       "      <th>patents</th>\n",
       "      <th>number_patents</th>\n",
       "      <th>iso3</th>\n",
       "      <th>human_development_groups</th>\n",
       "      <th>undp_developing_regions</th>\n",
       "      <th>human_development_index_(hdi)</th>\n",
       "    </tr>\n",
       "  </thead>\n",
       "  <tbody>\n",
       "    <tr>\n",
       "      <th>0</th>\n",
       "      <td>12</td>\n",
       "      <td>Algeria</td>\n",
       "      <td>2005</td>\n",
       "      <td>107047000000</td>\n",
       "      <td>0.1</td>\n",
       "      <td>168.7</td>\n",
       "      <td>Resident patent filings (per million population)</td>\n",
       "      <td>2.0</td>\n",
       "      <td>DZA</td>\n",
       "      <td>High</td>\n",
       "      <td>AS</td>\n",
       "      <td>0.685</td>\n",
       "    </tr>\n",
       "    <tr>\n",
       "      <th>1</th>\n",
       "      <td>12</td>\n",
       "      <td>Algeria</td>\n",
       "      <td>2005</td>\n",
       "      <td>107047000000</td>\n",
       "      <td>0.1</td>\n",
       "      <td>168.7</td>\n",
       "      <td>Grants of patents (number)</td>\n",
       "      <td>443.0</td>\n",
       "      <td>DZA</td>\n",
       "      <td>High</td>\n",
       "      <td>AS</td>\n",
       "      <td>0.685</td>\n",
       "    </tr>\n",
       "    <tr>\n",
       "      <th>2</th>\n",
       "      <td>12</td>\n",
       "      <td>Algeria</td>\n",
       "      <td>2005</td>\n",
       "      <td>107047000000</td>\n",
       "      <td>0.1</td>\n",
       "      <td>168.7</td>\n",
       "      <td>Patents in force (number)</td>\n",
       "      <td>498.0</td>\n",
       "      <td>DZA</td>\n",
       "      <td>High</td>\n",
       "      <td>AS</td>\n",
       "      <td>0.685</td>\n",
       "    </tr>\n",
       "    <tr>\n",
       "      <th>3</th>\n",
       "      <td>31</td>\n",
       "      <td>Azerbaijan</td>\n",
       "      <td>2021</td>\n",
       "      <td>54825411765</td>\n",
       "      <td>0.2</td>\n",
       "      <td>1741.1</td>\n",
       "      <td>Resident patent filings (per million population)</td>\n",
       "      <td>14.0</td>\n",
       "      <td>AZE</td>\n",
       "      <td>High</td>\n",
       "      <td>ECA</td>\n",
       "      <td>0.745</td>\n",
       "    </tr>\n",
       "    <tr>\n",
       "      <th>4</th>\n",
       "      <td>31</td>\n",
       "      <td>Azerbaijan</td>\n",
       "      <td>2021</td>\n",
       "      <td>54825411765</td>\n",
       "      <td>0.2</td>\n",
       "      <td>1741.1</td>\n",
       "      <td>Grants of patents (number)</td>\n",
       "      <td>119.0</td>\n",
       "      <td>AZE</td>\n",
       "      <td>High</td>\n",
       "      <td>ECA</td>\n",
       "      <td>0.745</td>\n",
       "    </tr>\n",
       "  </tbody>\n",
       "</table>\n",
       "</div>"
      ],
      "text/plain": [
       "   region        area  year           gdp  r_d  researchers  \\\n",
       "0      12     Algeria  2005  107047000000  0.1        168.7   \n",
       "1      12     Algeria  2005  107047000000  0.1        168.7   \n",
       "2      12     Algeria  2005  107047000000  0.1        168.7   \n",
       "3      31  Azerbaijan  2021   54825411765  0.2       1741.1   \n",
       "4      31  Azerbaijan  2021   54825411765  0.2       1741.1   \n",
       "\n",
       "                                            patents  number_patents iso3  \\\n",
       "0  Resident patent filings (per million population)             2.0  DZA   \n",
       "1                        Grants of patents (number)           443.0  DZA   \n",
       "2                         Patents in force (number)           498.0  DZA   \n",
       "3  Resident patent filings (per million population)            14.0  AZE   \n",
       "4                        Grants of patents (number)           119.0  AZE   \n",
       "\n",
       "  human_development_groups undp_developing_regions  \\\n",
       "0                     High                      AS   \n",
       "1                     High                      AS   \n",
       "2                     High                      AS   \n",
       "3                     High                     ECA   \n",
       "4                     High                     ECA   \n",
       "\n",
       "   human_development_index_(hdi)  \n",
       "0                          0.685  \n",
       "1                          0.685  \n",
       "2                          0.685  \n",
       "3                          0.745  \n",
       "4                          0.745  "
      ]
     },
     "execution_count": 178,
     "metadata": {},
     "output_type": "execute_result"
    }
   ],
   "source": [
    "merged_df_V3.head()"
   ]
  },
  {
   "cell_type": "code",
   "execution_count": 180,
   "id": "fae8e67c-79eb-44a9-8921-8656e52ea2ec",
   "metadata": {},
   "outputs": [
    {
     "data": {
      "text/plain": [
       "(490, 12)"
      ]
     },
     "execution_count": 180,
     "metadata": {},
     "output_type": "execute_result"
    }
   ],
   "source": [
    "merged_df_V3.shape"
   ]
  },
  {
   "cell_type": "code",
   "execution_count": 194,
   "id": "b6b84a56-0d4e-4278-9f9d-f9a1ad2186b3",
   "metadata": {},
   "outputs": [],
   "source": [
    "merged_df_V4 = pd.merge(merged_df_V3, education_df, on=['area', 'year'], how='inner')"
   ]
  },
  {
   "cell_type": "code",
   "execution_count": 208,
   "id": "a52e72dd-3c36-474f-8f21-71bac34265bd",
   "metadata": {},
   "outputs": [
    {
     "data": {
      "text/plain": [
       "(320, 13)"
      ]
     },
     "execution_count": 208,
     "metadata": {},
     "output_type": "execute_result"
    }
   ],
   "source": [
    "merged_df_V4.shape\n"
   ]
  },
  {
   "cell_type": "code",
   "execution_count": 206,
   "id": "0aa41750-ee74-4e66-a0c2-42005f057970",
   "metadata": {},
   "outputs": [],
   "source": [
    "merged_df_V4 = merged_df_V4.drop('region_y', axis=1)"
   ]
  }
 ],
 "metadata": {
  "kernelspec": {
   "display_name": "Python 3 (ipykernel)",
   "language": "python",
   "name": "python3"
  },
  "language_info": {
   "codemirror_mode": {
    "name": "ipython",
    "version": 3
   },
   "file_extension": ".py",
   "mimetype": "text/x-python",
   "name": "python",
   "nbconvert_exporter": "python",
   "pygments_lexer": "ipython3",
   "version": "3.11.4"
  }
 },
 "nbformat": 4,
 "nbformat_minor": 5
}
